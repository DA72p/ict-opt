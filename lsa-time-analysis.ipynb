{
 "cells": [
  {
   "cell_type": "markdown",
   "id": "c1566133",
   "metadata": {},
   "source": [
    "# [0] Imports"
   ]
  },
  {
   "cell_type": "code",
   "execution_count": 69,
   "id": "b14ee5c6",
   "metadata": {},
   "outputs": [],
   "source": [
    "import Pkg;\n",
    "\n",
    "using LinearAlgebra, Random, Gurobi, JuMP, Distributions, Plots, LazySets\n",
    "\n",
    "using Dates"
   ]
  },
  {
   "cell_type": "markdown",
   "id": "d60fe322",
   "metadata": {},
   "source": [
    "# [1] Setup"
   ]
  },
  {
   "cell_type": "markdown",
   "id": "1e1f376d",
   "metadata": {},
   "source": [
    "## [1.1] Parameters"
   ]
  },
  {
   "cell_type": "code",
   "execution_count": 70,
   "id": "b377ac53",
   "metadata": {},
   "outputs": [],
   "source": [
    "n_jobs = 39\n",
    "n_vehicles_jobs = n_jobs\n",
    "n_vehicles_coverage = 10\n",
    "T = 2 * n_jobs\n",
    "min_duration = 2\n",
    "max_duration = 6\n",
    "speed = 1000/6\n",
    "coverage_distance = 50\n",
    "size = 500\n",
    "step = 50;"
   ]
  },
  {
   "cell_type": "markdown",
   "id": "3c0e0558",
   "metadata": {},
   "source": [
    "## [1.2] Locations, Windows, Loads"
   ]
  },
  {
   "cell_type": "code",
   "execution_count": 71,
   "id": "f8fcdb15",
   "metadata": {},
   "outputs": [],
   "source": [
    "Random.seed!(1234)\n",
    "\n",
    "function create_cluster_sizes(jobs_total)\n",
    "    Random.seed!(1234)\n",
    "    jobs_created = 0\n",
    "    cluster = []\n",
    "    while jobs_created != jobs_total\n",
    "        num_to_add = rand(min(3, jobs_total - jobs_created) : \n",
    "            min(Int((n_jobs/5)÷1), jobs_total - jobs_created))\n",
    "        jobs_created += num_to_add\n",
    "        push!(cluster, num_to_add)\n",
    "    end\n",
    "    \n",
    "    return cluster\n",
    "end;"
   ]
  },
  {
   "cell_type": "code",
   "execution_count": 72,
   "id": "81d91da0",
   "metadata": {},
   "outputs": [],
   "source": [
    "time_windows = []\n",
    "locations = rand(Uniform(0,size), 1, 2)\n",
    "work_load = []\n",
    "cluster = create_cluster_sizes(n_jobs);"
   ]
  },
  {
   "cell_type": "code",
   "execution_count": 73,
   "id": "5532fe4c",
   "metadata": {},
   "outputs": [],
   "source": [
    "function create_time_windows_and_work_load(cluster_sizes, locations)\n",
    "    Random.seed!(1234)\n",
    "    locations = rand(Uniform(0,size), 1, 2)\n",
    "    for size_c in cluster\n",
    "        first = rand(Uniform(0,size), 1, 2)\n",
    "        locations = vcat(locations, first)\n",
    "\n",
    "        job_begins = rand(2:10)\n",
    "        job_finish = rand((job_begins+min_duration):(job_begins+max_duration))\n",
    "        push!(time_windows, [job_begins, job_finish])\n",
    "\n",
    "        time_work = rand(min_duration:max(min_duration, job_finish - job_begins))\n",
    "        push!(work_load, time_work)\n",
    "\n",
    "        for neighbour in 1:(size_c-1)\n",
    "            new_x = rand(Uniform(max(0,first[1]-20), min(first[1]+20, size)), 1, 1)\n",
    "            new_y = rand(Uniform(max(0,first[2]-20), min(first[2]+20, size)), 1, 1)\n",
    "            new = hcat(new_x, new_y)\n",
    "            locations = vcat(locations, new)\n",
    "\n",
    "            job_begins = rand(job_finish:min(T-min_duration-2, job_finish + 6))\n",
    "            job_finish = rand((job_begins+min_duration):(min(job_begins+max_duration, T-2)))\n",
    "            push!(time_windows, [job_begins, job_finish])\n",
    "\n",
    "            time_work = rand(min_duration:min(max_duration, job_finish-job_begins))\n",
    "            push!(work_load, time_work)\n",
    "        end\n",
    "    end\n",
    "    \n",
    "    return [time_windows, work_load, locations]\n",
    "end;"
   ]
  },
  {
   "cell_type": "code",
   "execution_count": 74,
   "id": "da915fd3",
   "metadata": {},
   "outputs": [],
   "source": [
    "time_windows, work_load, locations = create_time_windows_and_work_load(cluster, locations)\n",
    "distances = [LinearAlgebra.norm(locations[i, :] .- locations[j, :]) for i=1:n_jobs+1, j = 1:n_jobs+1];"
   ]
  },
  {
   "cell_type": "markdown",
   "id": "7e9036e6",
   "metadata": {},
   "source": [
    "# [2] Helper Methods"
   ]
  },
  {
   "cell_type": "markdown",
   "id": "adc7ecfe",
   "metadata": {},
   "source": [
    "## 2.1 Get initial routes"
   ]
  },
  {
   "cell_type": "code",
   "execution_count": 75,
   "id": "c75b044b",
   "metadata": {},
   "outputs": [],
   "source": [
    "routes = []\n",
    "\n",
    "for n in 1:n_jobs\n",
    "    job_route = []\n",
    "    dist = distances[1, n+1]\n",
    "\n",
    "    min_t = Int(floor(time_windows[n][1] - dist/speed))\n",
    "    max_t = Int(ceil(time_windows[n][2] + dist/speed))\n",
    "\n",
    "    push!(job_route, [[0, min_t], [n, time_windows[n][1]], dist])\n",
    "    \n",
    "    for t in time_windows[n][1]:(time_windows[n][2]-1)\n",
    "        push!(job_route, [[n, t], [n, t+1], 0])\n",
    "    end\n",
    "    \n",
    "    push!(job_route, [[n, time_windows[n][2]], [n_jobs+1, max_t],  dist])\n",
    "    push!(routes, job_route)\n",
    "    \n",
    "end"
   ]
  },
  {
   "cell_type": "markdown",
   "id": "da1a9c0e",
   "metadata": {},
   "source": [
    "## 2.2 Compute Cost"
   ]
  },
  {
   "cell_type": "code",
   "execution_count": 76,
   "id": "47ed8ef1",
   "metadata": {},
   "outputs": [],
   "source": [
    "function compute_cost(route)\n",
    "    cost = 0\n",
    "    for entity in route\n",
    "        cost += entity[3]\n",
    "    end\n",
    "    return cost\n",
    "end;"
   ]
  },
  {
   "cell_type": "code",
   "execution_count": 77,
   "id": "04052539",
   "metadata": {},
   "outputs": [],
   "source": [
    "C = []\n",
    "for i in 1:length(routes)\n",
    "    push!(C, compute_cost(routes[i]))\n",
    "end"
   ]
  },
  {
   "cell_type": "markdown",
   "id": "7efd9722",
   "metadata": {},
   "source": [
    "## 2.3 Compute Delta"
   ]
  },
  {
   "cell_type": "code",
   "execution_count": 78,
   "id": "6b301d04",
   "metadata": {},
   "outputs": [],
   "source": [
    "function compute_delta(routes)\n",
    "    Q = length(routes)\n",
    "    delta = [[[0.0 for q in 1:Q] for t in 1:T] for i in 1:n_jobs]\n",
    "    for rindex in 1:Q\n",
    "        route = routes[rindex]\n",
    "        for arc in route\n",
    "            loc1, time1 = arc[1]\n",
    "            loc2, time2 = arc[2]\n",
    "            if (loc1 != 0) & (loc1 != n_jobs + 1)\n",
    "                delta[loc1][time1][rindex] = 1\n",
    "            end\n",
    "            \n",
    "            if (loc2 != 0) & (loc2 != n_jobs + 1)\n",
    "                delta[loc2][time2][rindex] = 1\n",
    "            end\n",
    "        end\n",
    "    end\n",
    "    return delta\n",
    "end;"
   ]
  },
  {
   "cell_type": "code",
   "execution_count": 79,
   "id": "baeb7f50",
   "metadata": {},
   "outputs": [],
   "source": [
    "delta = compute_delta(routes);"
   ]
  },
  {
   "cell_type": "markdown",
   "id": "212cc1e7",
   "metadata": {},
   "source": [
    "## 2.4 Compute U"
   ]
  },
  {
   "cell_type": "code",
   "execution_count": 80,
   "id": "7f9f80bd",
   "metadata": {},
   "outputs": [],
   "source": [
    "function compute_u(routes)\n",
    "    Q = length(routes)\n",
    "    u = [[0 for q in 1:Q] for i in 1:n_jobs]\n",
    "    \n",
    "    for rindex in 1:Q\n",
    "        route = routes[rindex]\n",
    "        for arc in route\n",
    "            loc1 = arc[1][1]\n",
    "            loc2 = arc[2][1]\n",
    "            if (1 <= loc1 <= n_jobs)\n",
    "                u[loc1][rindex] = 1\n",
    "            end\n",
    "            if (1 <= loc2 <= n_jobs)\n",
    "                u[loc2][rindex] = 1\n",
    "            end\n",
    "        end\n",
    "    end\n",
    "    return u\n",
    "end;"
   ]
  },
  {
   "cell_type": "code",
   "execution_count": 81,
   "id": "f8adeb2b",
   "metadata": {},
   "outputs": [],
   "source": [
    "u = compute_u(routes);"
   ]
  },
  {
   "cell_type": "markdown",
   "id": "15481d5c",
   "metadata": {},
   "source": [
    "## 2.5 Label-Setting Algorithm\n",
    "\n",
    "We've built this LSA to include multiple time-checking components. There are 3 places to check: \n",
    "\n",
    "1. The initial check for incrementing the current state\n",
    "2. Feasibility check\n",
    "3. Push new state if ...\n",
    "\n",
    "Our goal is to figure out which of these steps consumes time."
   ]
  },
  {
   "cell_type": "code",
   "execution_count": 82,
   "id": "b883e20d",
   "metadata": {
    "scrolled": true
   },
   "outputs": [
    {
     "data": {
      "text/plain": [
       "sp_lsa (generic function with 2 methods)"
      ]
     },
     "execution_count": 82,
     "metadata": {},
     "output_type": "execute_result"
    }
   ],
   "source": [
    "function sp_lsa(n, travel_distance, travel_time, windows, load, rho_v, pi_v, mu_v, cool_stuff=false)\n",
    "    N = [[1]] \n",
    "    Times = [ [0] ] \n",
    "    R = [rho_v]  \n",
    "    L = [1]  \n",
    "    \n",
    "    time_total_start = datetime2unix(now())\n",
    "    time_check_start = []\n",
    "    time_check_end = []\n",
    "    time_feas_start = []\n",
    "    time_feas_end = []\n",
    "    time_add_start = []\n",
    "    time_add_end = []\n",
    "    \n",
    "    time_check = []\n",
    "    \n",
    "    #= Two parameters which are good if you're visualizing\n",
    "    how quickly the number if iterations catches up\n",
    "    to the total number of routes generated\n",
    "    =#\n",
    "    current_states = []\n",
    "    total_states = []\n",
    "    \n",
    "    current_state = 1\n",
    "    total_state = 1\n",
    "    \n",
    "    while 1==1\n",
    "        \n",
    "        # STEP 1: Check whether we want to move on to checking the next path\n",
    "        push!(time_check_start, datetime2unix(now()))\n",
    "        if (L[current_state] == n+2)\n",
    "            current_state += 1\n",
    "            if current_state > total_state\n",
    "                push!(time_check_end, datetime2unix(now()))\n",
    "                break\n",
    "            else\n",
    "                push!(time_check_end, datetime2unix(now()))\n",
    "                continue\n",
    "            end\n",
    "        end\n",
    "        push!(time_check_end, datetime2unix(now()))\n",
    "        \n",
    "        # STEP 2: Enter the for loop.\n",
    "        for i in 2:(n+2)\n",
    "            \n",
    "            if cool_stuff\n",
    "                push!(current_states, current_state)\n",
    "                push!(total_states, total_state)\n",
    "            end\n",
    "            \n",
    "            # STEP 2-1: Check that the current node is not already inside our path.\n",
    "            if ~(i in N[current_state])\n",
    "                \n",
    "                #= STEP 2-2: Feasibility check. We must have enough time\n",
    "                to go from our current location (end time T[current_state]), plus\n",
    "                the travel time from that end node to the new node (travel_time[L[current_state], i]),\n",
    "                plus the amount of time it takes to work the OLD job (load[L[current_state]-1]),\n",
    "                plus the amount of time it takes to work the NEW job (load[i-1])\n",
    "                \n",
    "                this must be smaller than or equal to the end time of the window for the NEW job (windows[i-1][2])\n",
    "                =#\n",
    "                push!(time_feas_start, datetime2unix(now()))\n",
    "                if L[current_state] != 1\n",
    "                    cur_time = last(Times[current_state])\n",
    "                    dist_nec = travel_time[L[current_state], i]\n",
    "                    old_job_time_nec = load[L[current_state]-1] #out of our parameters this one has no depot pad\n",
    "                    new_job_time_nec = load[i-1]\n",
    "                    new_window_close = windows[i-1][2]\n",
    "                    \n",
    "                    #if invalid, don't bother\n",
    "                    if cur_time + dist_nec + old_job_time_nec + new_job_time_nec > new_window_close\n",
    "                        push!(time_feas_end, datetime2unix(now()))\n",
    "                        continue\n",
    "                    end\n",
    "                end\n",
    "                push!(time_feas_end, datetime2unix(now()))\n",
    "                \n",
    "                # STEP 2-3: Add the path to our N.\n",
    "\n",
    "                push!(time_add_start, datetime2unix(now()))\n",
    "                # First, copy the original state so we can modify it\n",
    "                push!(N, copy(N[current_state]))\n",
    "                # Add this new, guaranteed-to-be-valid, node.\n",
    "                push!(N[total_state+1], i)\n",
    "\n",
    "                # Time is going to be when we GET to the final node.\n",
    "\n",
    "                #= I argue that we also need to include a work load term into the \n",
    "                term bounded by current_time + necessary_travel_distance.\n",
    "\n",
    "                This is because there's no point in going to an old place, not \n",
    "                doing any work, and then going away to some new place.\n",
    "\n",
    "                So in reality the check becomes tripartite.\n",
    "                =#\n",
    "                cur_time = last(Times[current_state])\n",
    "                dist_nec = travel_time[L[current_state], i]\n",
    "                old_job_time = L[current_state] > 1 ? load[L[current_state]-1] : 0\n",
    "                new_window_start = windows[i-1][1]\n",
    "                new_times_array = copy(Times[current_state])\n",
    "                push!(new_times_array, max(cur_time + dist_nec + old_job_time, new_window_start))\n",
    "                push!(Times, new_times_array)\n",
    "\n",
    "                # Cost.\n",
    "                # ADD the segment distance.\n",
    "                add_segdist = travel_distance[L[current_state], i]\n",
    "                # SUBTRACT pi_i.\n",
    "                subtract_pi = i < n+2 ? -pi_v[i-1] : 0\n",
    "                # SUBTRACT mu_it.\n",
    "                subtract_mu = i < n+2 ? -mu_v[i-1, last(last(Times))] : 0\n",
    "\n",
    "                push!(R, R[current_state] + add_segdist + subtract_pi + subtract_mu)\n",
    "\n",
    "                # Last node is updated.\n",
    "                push!(L, i)\n",
    "                \n",
    "                total_state += 1\n",
    "                \n",
    "                push!(time_add_end, datetime2unix(now()))\n",
    "        \n",
    "            end\n",
    "        end\n",
    "        \n",
    "        current_state += 1 # concluded iteration for that state in mind. Now next one\n",
    "        \n",
    "        #= It's possible that we've just caught up to the final total state, meaning we didn't generate\n",
    "        anything and can stop here. =#\n",
    "        if current_state == total_state\n",
    "            # print(current_state, \" \", total_state, \" came from bottom\")\n",
    "            break\n",
    "        end     \n",
    "    end\n",
    "    \n",
    "    #= It is not actually necessary to return L. This was a helpful parameter which we\n",
    "    embedded in order to aid computation. But if we needed to get L, we would just go to \n",
    "    the path of concern and extract last([path_of_concern]). =#\n",
    "    push!(time_check, time_check_end .- time_check_start)\n",
    "    push!(time_check, time_feas_end .- time_feas_start)\n",
    "    push!(time_check, time_add_end .- time_add_start)\n",
    "    time_total_end = datetime2unix(now())\n",
    "    push!(time_check, time_total_end - time_total_start)\n",
    "    return N, R, Times, time_check\n",
    "end"
   ]
  },
  {
   "cell_type": "markdown",
   "id": "d36fc31b",
   "metadata": {},
   "source": [
    "### 2.5.1 Label-Setting Algorithm Constant Variables"
   ]
  },
  {
   "cell_type": "code",
   "execution_count": 83,
   "id": "47dbdd49",
   "metadata": {},
   "outputs": [],
   "source": [
    "distances_label = deepcopy(distances)\n",
    "distances_label = hcat(distances_label, distances_label[:, 1])\n",
    "distances_label = vcat(distances_label, collect(push!(distances_label[:, 1], 0)'));"
   ]
  },
  {
   "cell_type": "code",
   "execution_count": 84,
   "id": "07ed2e76",
   "metadata": {},
   "outputs": [],
   "source": [
    "travel_times = ceil.(distances_label / speed);"
   ]
  },
  {
   "cell_type": "code",
   "execution_count": 85,
   "id": "991d93d8",
   "metadata": {},
   "outputs": [],
   "source": [
    "windows_label = deepcopy(time_windows)\n",
    "push!(windows_label, [0, 100]);"
   ]
  },
  {
   "cell_type": "code",
   "execution_count": 86,
   "id": "d483974d",
   "metadata": {},
   "outputs": [],
   "source": [
    "load_label = deepcopy(work_load)\n",
    "push!(load_label, 0);"
   ]
  },
  {
   "cell_type": "markdown",
   "id": "e7fe489e",
   "metadata": {},
   "source": [
    "## 2.6 Extract Best Route in SP"
   ]
  },
  {
   "cell_type": "code",
   "execution_count": 87,
   "id": "fb9157c8",
   "metadata": {},
   "outputs": [],
   "source": [
    "function extract_best_route(sub_paths, sub_rc, sub_times, n=1)\n",
    "    \n",
    "    #= Do a search to find the n best routes.\n",
    "    The colgen appears to be unreliable in several instances\n",
    "    so instead of finding the best route I give the machine\n",
    "    several options. =#\n",
    "    \n",
    "    route_capsule = [] # each route will be: sub_path, sub_times, sub_rc\n",
    "    \n",
    "    for i in 1:length(sub_paths)\n",
    "        if last(sub_paths[i]) == n_jobs + 2\n",
    "            push!(route_capsule, [sub_paths[i], sub_times[i], sub_rc[i]])\n",
    "        end\n",
    "    end\n",
    "    \n",
    "    # now, sort by reduced cost\n",
    "    sort!(route_capsule, lt = (x, y) -> isless(x[3], y[3]))\n",
    "    \n",
    "    # return the best n paths. Don't calculate reduced cost right now.\n",
    "    return route_capsule[1:n]\n",
    "end;"
   ]
  },
  {
   "cell_type": "markdown",
   "id": "ee00b6a9",
   "metadata": {},
   "source": [
    "## 2.7 Generate full time info on route"
   ]
  },
  {
   "cell_type": "code",
   "execution_count": 88,
   "id": "7bc59d84",
   "metadata": {},
   "outputs": [],
   "source": [
    "function generate_full_time_info(best_route, best_times)\n",
    "    best_route_info = []\n",
    "    for locindex in 1:length(best_route)-1\n",
    "        #=\n",
    "        Strategy:\n",
    "        If you are not at a job location, you don't need to capture\n",
    "        stationary information. Otherwise you do.\n",
    "\n",
    "        Anyways we want data moving from one to the next.\n",
    "        =#\n",
    "        cur_loc = best_route[locindex]\n",
    "        cur_time = best_times[locindex]\n",
    "        time_to_start_moving = best_times[locindex]\n",
    "\n",
    "        #stationary data comes first.\n",
    "        if 1 < locindex < n_jobs + 2\n",
    "            cur_job_num = cur_loc - 1 # delete padding!\n",
    "\n",
    "            #stay stationary for however long it takes for you to do the job\n",
    "\n",
    "            # Note: eventually this will have to be modified to include coverage.\n",
    "            # Eventually we will write a subproblem-tells-us-when-work-is-done component.\n",
    "\n",
    "            for time in cur_time:cur_time+work_load[cur_job_num]-1\n",
    "                route_detail = [ [cur_loc-1, time], [cur_loc-1, time+1], 0]\n",
    "                push!(best_route_info, route_detail)\n",
    "            end\n",
    "\n",
    "            time_to_start_moving += work_load[cur_job_num]\n",
    "        end\n",
    "\n",
    "        new_loc = best_route[locindex+1]\n",
    "        #then if we move, we move.\n",
    "        route_detail = [ [cur_loc-1, time_to_start_moving], [new_loc-1, best_times[locindex+1]], distances_label[cur_loc, new_loc]]\n",
    "        push!(best_route_info, route_detail)\n",
    "    end\n",
    "\n",
    "    return best_route_info\n",
    "end;"
   ]
  },
  {
   "cell_type": "markdown",
   "id": "3c8081b7",
   "metadata": {},
   "source": [
    "# [3] Column Generation Loop"
   ]
  },
  {
   "cell_type": "markdown",
   "id": "516254f5",
   "metadata": {},
   "source": [
    "## [3.1] Initial Run"
   ]
  },
  {
   "cell_type": "markdown",
   "id": "108c352a",
   "metadata": {},
   "source": [
    "### [3.1.1] Run RMP"
   ]
  },
  {
   "cell_type": "code",
   "execution_count": 89,
   "id": "840d8bdb",
   "metadata": {},
   "outputs": [
    {
     "name": "stdout",
     "output_type": "stream",
     "text": [
      "Set parameter Username\n",
      "Academic license - for non-commercial use only - expires 2023-09-04\n"
     ]
    }
   ],
   "source": [
    "modelcg = Model(Gurobi.Optimizer);"
   ]
  },
  {
   "cell_type": "code",
   "execution_count": 90,
   "id": "1bb01187",
   "metadata": {
    "scrolled": true
   },
   "outputs": [
    {
     "data": {
      "text/plain": [
       "39"
      ]
     },
     "execution_count": 90,
     "metadata": {},
     "output_type": "execute_result"
    }
   ],
   "source": [
    "Q = length(routes)"
   ]
  },
  {
   "cell_type": "code",
   "execution_count": 91,
   "id": "36b6ec84",
   "metadata": {},
   "outputs": [],
   "source": [
    "unregister(modelcg, :z)\n",
    "unregister(modelcg, :y_s)\n",
    "unregister(modelcg, :y_e)\n",
    "@variable(modelcg, 0 <= z[1:Q] <= 1) # should be Bin\n",
    "@variable(modelcg, 0 <= y_s[1:n_jobs, 1:T] <= 1) # should be Bin\n",
    "@variable(modelcg, 0 <= y_e[1:n_jobs, 1:T] <= 1); # should be Bin"
   ]
  },
  {
   "cell_type": "code",
   "execution_count": 92,
   "id": "c47e578b",
   "metadata": {},
   "outputs": [],
   "source": [
    "unregister(modelcg, :unique)\n",
    "@constraint(modelcg, unique[i in 1:n_jobs], sum(u[i][q] * z[q] for q in 1:Q) >= 1);"
   ]
  },
  {
   "cell_type": "code",
   "execution_count": 93,
   "id": "ae4c32e0",
   "metadata": {},
   "outputs": [],
   "source": [
    "unregister(modelcg, :driver)\n",
    "@constraint(modelcg, driver, sum(z[q] for q in 1:Q) <= n_vehicles_jobs)\n",
    "\n",
    "unregister(modelcg, :start)\n",
    "unregister(modelcg, :ends)\n",
    "@constraint(modelcg, start[i in 1:n_jobs, t in 1:(T-1)], y_s[i,t] <= y_s[i,t+1])\n",
    "@constraint(modelcg, ends[i in 1:n_jobs, t in 1:(T-1)], y_e[i,t] <= y_e[i,t+1])\n",
    "unregister(modelcg, :window_start)\n",
    "unregister(modelcg, :window_ends)\n",
    "@constraint(modelcg, window_start[i in 1:n_jobs, t in 1:(time_windows[i][1]-1)], y_s[i,t] == 0)\n",
    "@constraint(modelcg, window_ends[i in 1:n_jobs, t in time_windows[i][2]:T], y_e[i,t] == 1)\n",
    "unregister(modelcg, :duration)\n",
    "@constraint(modelcg, duration[i in 1:n_jobs], sum(y_s[i,t] - y_e[i,t] for t in 1:T) >= work_load[i])\n",
    "unregister(modelcg, :work)\n",
    "@constraint(modelcg, work[i in 1:n_jobs, t in 1:(T-1)], \n",
    "    y_s[i, t] - y_e[i, t] <= sum(z[q] * delta[i][t][q] for q in 1:Q));"
   ]
  },
  {
   "cell_type": "code",
   "execution_count": 94,
   "id": "a9fe54b5",
   "metadata": {},
   "outputs": [],
   "source": [
    "unregister(modelcg, :coverage)\n",
    "@constraint(modelcg, coverage[i in 1:n_jobs, t in 1:T], y_s[i, t] - y_e[i, t] <= 1);"
   ]
  },
  {
   "cell_type": "code",
   "execution_count": 95,
   "id": "0a5f52ba",
   "metadata": {},
   "outputs": [],
   "source": [
    "@objective(modelcg, Min, sum(compute_cost(routes[q]) * z[q] for q in 1:Q));"
   ]
  },
  {
   "cell_type": "code",
   "execution_count": 96,
   "id": "15e3d5a2",
   "metadata": {
    "scrolled": true
   },
   "outputs": [
    {
     "name": "stdout",
     "output_type": "stream",
     "text": [
      "Gurobi Optimizer version 9.5.2 build v9.5.2rc0 (mac64[x86])\n",
      "Thread count: 4 physical cores, 8 logical processors, using up to 8 threads\n",
      "Optimize a model with 15004 rows, 6123 columns and 33345 nonzeros\n",
      "Model fingerprint: 0xcca9cbfb\n",
      "Coefficient statistics:\n",
      "  Matrix range     [1e+00, 1e+00]\n",
      "  Objective range  [1e+02, 7e+02]\n",
      "  Bounds range     [1e+00, 1e+00]\n",
      "  RHS range        [1e+00, 4e+01]\n",
      "\n",
      "Concurrent LP optimizer: dual simplex and barrier\n",
      "Showing barrier log only...\n",
      "\n",
      "Presolve removed 15004 rows and 6123 columns\n",
      "Presolve time: 0.01s\n",
      "Presolve: All rows and columns removed\n",
      "Iteration    Objective       Primal Inf.    Dual Inf.      Time\n",
      "       0    1.6565115e+04   0.000000e+00   0.000000e+00      0s\n",
      "\n",
      "Solved with dual simplex\n",
      "Solved in 0 iterations and 0.02 seconds (0.01 work units)\n",
      "Optimal objective  1.656511514e+04\n",
      "\n",
      "User-callback calls 183, time in user-callback 0.00 sec\n"
     ]
    }
   ],
   "source": [
    "optimize!(modelcg)"
   ]
  },
  {
   "cell_type": "markdown",
   "id": "6711641f",
   "metadata": {},
   "source": [
    "### [3.1.2] Get Dual Variables"
   ]
  },
  {
   "cell_type": "code",
   "execution_count": 97,
   "id": "8f234a24",
   "metadata": {},
   "outputs": [],
   "source": [
    "pi_values = dual.(unique)\n",
    "rho_value = dual.(driver)\n",
    "mu_values = dual.(work);"
   ]
  },
  {
   "cell_type": "markdown",
   "id": "1e066802",
   "metadata": {},
   "source": [
    "### [3.1.3] Time Analysis (Use Subproblem LSA)"
   ]
  },
  {
   "cell_type": "code",
   "execution_count": 98,
   "id": "41b0e912",
   "metadata": {
    "scrolled": true
   },
   "outputs": [],
   "source": [
    "time_1 = datetime2unix(now())\n",
    "sub_paths, sub_rc, sub_times, tanal = sp_lsa(n_jobs, distances_label, travel_times, windows_label, load_label, rho_value, pi_values, mu_values);\n",
    "time_2 = datetime2unix(now());"
   ]
  },
  {
   "cell_type": "markdown",
   "id": "6aa178b8",
   "metadata": {},
   "source": [
    "This is the time the algorithm took in total."
   ]
  },
  {
   "cell_type": "code",
   "execution_count": 99,
   "id": "2dfdfcae",
   "metadata": {
    "scrolled": true
   },
   "outputs": [
    {
     "data": {
      "text/plain": [
       "23.507999897003174"
      ]
     },
     "execution_count": 99,
     "metadata": {},
     "output_type": "execute_result"
    }
   ],
   "source": [
    "time_2-time_1"
   ]
  },
  {
   "cell_type": "code",
   "execution_count": 100,
   "id": "ec642d8a",
   "metadata": {},
   "outputs": [
    {
     "data": {
      "text/plain": [
       "23.317000150680542"
      ]
     },
     "execution_count": 100,
     "metadata": {},
     "output_type": "execute_result"
    }
   ],
   "source": [
    "tanal[4]"
   ]
  },
  {
   "cell_type": "markdown",
   "id": "3de6569d",
   "metadata": {},
   "source": [
    "Now let's see how many times we passed through each check."
   ]
  },
  {
   "cell_type": "code",
   "execution_count": 101,
   "id": "f398e5b8",
   "metadata": {
    "scrolled": true
   },
   "outputs": [
    {
     "name": "stdout",
     "output_type": "stream",
     "text": [
      "1685280\n",
      "27715760\n",
      "1685279\n"
     ]
    }
   ],
   "source": [
    "for i in 1:3\n",
    "    println(length(tanal[i]))\n",
    "end"
   ]
  },
  {
   "cell_type": "markdown",
   "id": "f58581e1",
   "metadata": {},
   "source": [
    "Checking the first place: see if we increment current state. (I have the plot on mute because it takes too much space and slows down the entire notebook!)"
   ]
  },
  {
   "cell_type": "code",
   "execution_count": 102,
   "id": "63cf7da9",
   "metadata": {
    "scrolled": true
   },
   "outputs": [],
   "source": [
    "plot([i for i in 1:length(tanal[1])], tanal[1], seriestype=:line, legend=:topright, size = (350, 300));"
   ]
  },
  {
   "cell_type": "code",
   "execution_count": 103,
   "id": "fece6b29",
   "metadata": {},
   "outputs": [
    {
     "data": {
      "text/plain": [
       "0.4389982223510742"
      ]
     },
     "execution_count": 103,
     "metadata": {},
     "output_type": "execute_result"
    }
   ],
   "source": [
    "sum(tanal[1])"
   ]
  },
  {
   "cell_type": "code",
   "execution_count": 104,
   "id": "e5b43bcd",
   "metadata": {},
   "outputs": [],
   "source": [
    "count = 0\n",
    "for elt in tanal[1]\n",
    "    if elt > 1e-4\n",
    "        count += 1\n",
    "    end\n",
    "end"
   ]
  },
  {
   "cell_type": "code",
   "execution_count": 105,
   "id": "14e3c3a3",
   "metadata": {},
   "outputs": [
    {
     "data": {
      "text/plain": [
       "0.0002569305990695908"
      ]
     },
     "execution_count": 105,
     "metadata": {},
     "output_type": "execute_result"
    }
   ],
   "source": [
    "count / length(tanal[1])"
   ]
  },
  {
   "cell_type": "markdown",
   "id": "fbe035ac",
   "metadata": {},
   "source": [
    "Checking the second place: feasibility check.\n",
    "\n",
    "Julia refuses to get me the graph because we have to plot 13 million points."
   ]
  },
  {
   "cell_type": "code",
   "execution_count": 106,
   "id": "e4dd8d61",
   "metadata": {},
   "outputs": [],
   "source": [
    "plot([i for i in 1:length(tanal[2])], tanal[2], seriestype=:line, legend=:topright, size = (600, 300));"
   ]
  },
  {
   "cell_type": "code",
   "execution_count": 107,
   "id": "d233fc21",
   "metadata": {
    "scrolled": false
   },
   "outputs": [
    {
     "data": {
      "text/plain": [
       "9.407002449035645"
      ]
     },
     "execution_count": 107,
     "metadata": {},
     "output_type": "execute_result"
    }
   ],
   "source": [
    "sum(tanal[2])"
   ]
  },
  {
   "cell_type": "code",
   "execution_count": 108,
   "id": "2c8f2028",
   "metadata": {},
   "outputs": [],
   "source": [
    "count = 0\n",
    "for elt in tanal[2]\n",
    "    if elt > 1e-4\n",
    "        count += 1\n",
    "    end\n",
    "end"
   ]
  },
  {
   "cell_type": "code",
   "execution_count": 109,
   "id": "2e51cc1e",
   "metadata": {},
   "outputs": [
    {
     "data": {
      "text/plain": [
       "0.00033266271608644324"
      ]
     },
     "execution_count": 109,
     "metadata": {},
     "output_type": "execute_result"
    }
   ],
   "source": [
    "count / length(tanal[2])"
   ]
  },
  {
   "cell_type": "code",
   "execution_count": 110,
   "id": "e0644be6",
   "metadata": {},
   "outputs": [
    {
     "data": {
      "text/plain": [
       "9220"
      ]
     },
     "execution_count": 110,
     "metadata": {},
     "output_type": "execute_result"
    }
   ],
   "source": [
    "count"
   ]
  },
  {
   "cell_type": "markdown",
   "id": "3fb5a217",
   "metadata": {},
   "source": [
    "Checking the third: push data."
   ]
  },
  {
   "cell_type": "code",
   "execution_count": 111,
   "id": "1271bd1a",
   "metadata": {},
   "outputs": [
    {
     "data": {
      "text/plain": [
       "4.104994058609009"
      ]
     },
     "execution_count": 111,
     "metadata": {},
     "output_type": "execute_result"
    }
   ],
   "source": [
    "sum(tanal[3])"
   ]
  },
  {
   "cell_type": "code",
   "execution_count": 112,
   "id": "0fb3b8cd",
   "metadata": {
    "scrolled": true
   },
   "outputs": [],
   "source": [
    "# there's an outlier of 0.4 seconds and one of 0.01 seconds\n",
    "data = []\n",
    "for i in 1:length(tanal[3])\n",
    "    if 0 <= tanal[3][i] <= 0.009\n",
    "        push!(data, tanal[3][i])\n",
    "    end\n",
    "end"
   ]
  },
  {
   "cell_type": "code",
   "execution_count": 125,
   "id": "76c23b1f",
   "metadata": {},
   "outputs": [],
   "source": [
    "plot([i for i in 1:length(data)], data, seriestype=:line, legend=:topright, size = (350, 300));"
   ]
  },
  {
   "cell_type": "code",
   "execution_count": 119,
   "id": "058bc9cb",
   "metadata": {},
   "outputs": [],
   "source": [
    "bin_size = 10000\n",
    "density = []\n",
    "for thousand in 1:Int(floor(length(tanal[3]) / bin_size))\n",
    "    count = 0\n",
    "    for i in 1:1000\n",
    "        if tanal[3][(thousand-1) * bin_size + i] > 1e-5\n",
    "            count += 1\n",
    "        end\n",
    "    end\n",
    "    push!(density, count)\n",
    "end"
   ]
  },
  {
   "cell_type": "code",
   "execution_count": 120,
   "id": "a97cd57c",
   "metadata": {
    "scrolled": true
   },
   "outputs": [
    {
     "data": {
      "image/png": "[encoded data removed]",
      "image/svg+xml": [
       "<?xml version=\"1.0\" encoding=\"utf-8\"?>\n",
       "<svg xmlns=\"http://www.w3.org/2000/svg\" xmlns:xlink=\"http://www.w3.org/1999/xlink\" width=\"350\" height=\"300\" viewBox=\"0 0 1400 1200\">\n",
       "<defs>\n",
       "  <clipPath id=\"clip680\">\n",
       "    <rect x=\"0\" y=\"0\" width=\"1400\" height=\"1200\"/>\n",
       "  </clipPath>\n",
       "</defs>\n",
       "<path clip-path=\"url(#clip680)\" d=\"M0 1200 L1400 1200 L1400 0 L0 0  Z\" fill=\"#ffffff\" fill-rule=\"evenodd\" fill-opacity=\"1\"/>\n",
       "<defs>\n",
       "  <clipPath id=\"clip681\">\n",
       "    <rect x=\"280\" y=\"0\" width=\"981\" height=\"981\"/>\n",
       "  </clipPath>\n",
       "</defs>\n",
       "<path clip-path=\"url(#clip680)\" d=\"M102.177 1080.57 L1352.76 1080.57 L1352.76 47.2441 L102.177 47.2441  Z\" fill=\"#ffffff\" fill-rule=\"evenodd\" fill-opacity=\"1\"/>\n",
       "<defs>\n",
       "  <clipPath id=\"clip682\">\n",
       "    <rect x=\"102\" y=\"47\" width=\"1252\" height=\"1034\"/>\n",
       "  </clipPath>\n",
       "</defs>\n",
       "<polyline clip-path=\"url(#clip682)\" style=\"stroke:#000000; stroke-linecap:round; stroke-linejoin:round; stroke-width:2; stroke-opacity:0.1; fill:none\" points=\"130.506,1080.57 130.506,47.2441 \"/>\n",
       "<polyline clip-path=\"url(#clip682)\" style=\"stroke:#000000; stroke-linecap:round; stroke-linejoin:round; stroke-width:2; stroke-opacity:0.1; fill:none\" points=\"483.737,1080.57 483.737,47.2441 \"/>\n",
       "<polyline clip-path=\"url(#clip682)\" style=\"stroke:#000000; stroke-linecap:round; stroke-linejoin:round; stroke-width:2; stroke-opacity:0.1; fill:none\" points=\"836.968,1080.57 836.968,47.2441 \"/>\n",
       "<polyline clip-path=\"url(#clip682)\" style=\"stroke:#000000; stroke-linecap:round; stroke-linejoin:round; stroke-width:2; stroke-opacity:0.1; fill:none\" points=\"1190.2,1080.57 1190.2,47.2441 \"/>\n",
       "<polyline clip-path=\"url(#clip680)\" style=\"stroke:#000000; stroke-linecap:round; stroke-linejoin:round; stroke-width:4; stroke-opacity:1; fill:none\" points=\"102.177,1080.57 1352.76,1080.57 \"/>\n",
       "<polyline clip-path=\"url(#clip680)\" style=\"stroke:#000000; stroke-linecap:round; stroke-linejoin:round; stroke-width:4; stroke-opacity:1; fill:none\" points=\"130.506,1080.57 130.506,1061.68 \"/>\n",
       "<polyline clip-path=\"url(#clip680)\" style=\"stroke:#000000; stroke-linecap:round; stroke-linejoin:round; stroke-width:4; stroke-opacity:1; fill:none\" points=\"483.737,1080.57 483.737,1061.68 \"/>\n",
       "<polyline clip-path=\"url(#clip680)\" style=\"stroke:#000000; stroke-linecap:round; stroke-linejoin:round; stroke-width:4; stroke-opacity:1; fill:none\" points=\"836.968,1080.57 836.968,1061.68 \"/>\n",
       "<polyline clip-path=\"url(#clip680)\" style=\"stroke:#000000; stroke-linecap:round; stroke-linejoin:round; stroke-width:4; stroke-opacity:1; fill:none\" points=\"1190.2,1080.57 1190.2,1061.68 \"/>\n",
       "<path clip-path=\"url(#clip680)\" d=\"M130.506 1103.49 Q126.895 1103.49 125.067 1107.06 Q123.261 1110.6 123.261 1117.73 Q123.261 1124.83 125.067 1128.4 Q126.895 1131.94 130.506 1131.94 Q134.141 1131.94 135.946 1128.4 Q137.775 1124.83 137.775 1117.73 Q137.775 1110.6 135.946 1107.06 Q134.141 1103.49 130.506 1103.49 M130.506 1099.79 Q136.316 1099.79 139.372 1104.4 Q142.451 1108.98 142.451 1117.73 Q142.451 1126.46 139.372 1131.06 Q136.316 1135.64 130.506 1135.64 Q124.696 1135.64 121.617 1131.06 Q118.562 1126.46 118.562 1117.73 Q118.562 1108.98 121.617 1104.4 Q124.696 1099.79 130.506 1099.79 Z\" fill=\"#000000\" fill-rule=\"nonzero\" fill-opacity=\"1\" /><path clip-path=\"url(#clip680)\" d=\"M458.436 1100.41 L476.793 1100.41 L476.793 1104.35 L462.719 1104.35 L462.719 1112.82 Q463.737 1112.47 464.756 1112.31 Q465.774 1112.13 466.793 1112.13 Q472.58 1112.13 475.959 1115.3 Q479.339 1118.47 479.339 1123.89 Q479.339 1129.46 475.867 1132.57 Q472.395 1135.64 466.075 1135.64 Q463.899 1135.64 461.631 1135.27 Q459.385 1134.9 456.978 1134.16 L456.978 1129.46 Q459.061 1130.6 461.284 1131.15 Q463.506 1131.71 465.983 1131.71 Q469.987 1131.71 472.325 1129.6 Q474.663 1127.5 474.663 1123.89 Q474.663 1120.27 472.325 1118.17 Q469.987 1116.06 465.983 1116.06 Q464.108 1116.06 462.233 1116.48 Q460.381 1116.89 458.436 1117.77 L458.436 1100.41 Z\" fill=\"#000000\" fill-rule=\"nonzero\" fill-opacity=\"1\" /><path clip-path=\"url(#clip680)\" d=\"M498.552 1103.49 Q494.941 1103.49 493.112 1107.06 Q491.307 1110.6 491.307 1117.73 Q491.307 1124.83 493.112 1128.4 Q494.941 1131.94 498.552 1131.94 Q502.186 1131.94 503.992 1128.4 Q505.82 1124.83 505.82 1117.73 Q505.82 1110.6 503.992 1107.06 Q502.186 1103.49 498.552 1103.49 M498.552 1099.79 Q504.362 1099.79 507.418 1104.4 Q510.496 1108.98 510.496 1117.73 Q510.496 1126.46 507.418 1131.06 Q504.362 1135.64 498.552 1135.64 Q492.742 1135.64 489.663 1131.06 Q486.608 1126.46 486.608 1117.73 Q486.608 1108.98 489.663 1104.4 Q492.742 1099.79 498.552 1099.79 Z\" fill=\"#000000\" fill-rule=\"nonzero\" fill-opacity=\"1\" /><path clip-path=\"url(#clip680)\" d=\"M796.575 1131.04 L804.214 1131.04 L804.214 1104.67 L795.904 1106.34 L795.904 1102.08 L804.167 1100.41 L808.843 1100.41 L808.843 1131.04 L816.482 1131.04 L816.482 1134.97 L796.575 1134.97 L796.575 1131.04 Z\" fill=\"#000000\" fill-rule=\"nonzero\" fill-opacity=\"1\" /><path clip-path=\"url(#clip680)\" d=\"M835.926 1103.49 Q832.315 1103.49 830.487 1107.06 Q828.681 1110.6 828.681 1117.73 Q828.681 1124.83 830.487 1128.4 Q832.315 1131.94 835.926 1131.94 Q839.561 1131.94 841.366 1128.4 Q843.195 1124.83 843.195 1117.73 Q843.195 1110.6 841.366 1107.06 Q839.561 1103.49 835.926 1103.49 M835.926 1099.79 Q841.737 1099.79 844.792 1104.4 Q847.871 1108.98 847.871 1117.73 Q847.871 1126.46 844.792 1131.06 Q841.737 1135.64 835.926 1135.64 Q830.116 1135.64 827.038 1131.06 Q823.982 1126.46 823.982 1117.73 Q823.982 1108.98 827.038 1104.4 Q830.116 1099.79 835.926 1099.79 Z\" fill=\"#000000\" fill-rule=\"nonzero\" fill-opacity=\"1\" /><path clip-path=\"url(#clip680)\" d=\"M866.088 1103.49 Q862.477 1103.49 860.649 1107.06 Q858.843 1110.6 858.843 1117.73 Q858.843 1124.83 860.649 1128.4 Q862.477 1131.94 866.088 1131.94 Q869.723 1131.94 871.528 1128.4 Q873.357 1124.83 873.357 1117.73 Q873.357 1110.6 871.528 1107.06 Q869.723 1103.49 866.088 1103.49 M866.088 1099.79 Q871.898 1099.79 874.954 1104.4 Q878.033 1108.98 878.033 1117.73 Q878.033 1126.46 874.954 1131.06 Q871.898 1135.64 866.088 1135.64 Q860.278 1135.64 857.199 1131.06 Q854.144 1126.46 854.144 1117.73 Q854.144 1108.98 857.199 1104.4 Q860.278 1099.79 866.088 1099.79 Z\" fill=\"#000000\" fill-rule=\"nonzero\" fill-opacity=\"1\" /><path clip-path=\"url(#clip680)\" d=\"M1149.81 1131.04 L1157.44 1131.04 L1157.44 1104.67 L1149.13 1106.34 L1149.13 1102.08 L1157.4 1100.41 L1162.07 1100.41 L1162.07 1131.04 L1169.71 1131.04 L1169.71 1134.97 L1149.81 1134.97 L1149.81 1131.04 Z\" fill=\"#000000\" fill-rule=\"nonzero\" fill-opacity=\"1\" /><path clip-path=\"url(#clip680)\" d=\"M1179.2 1100.41 L1197.56 1100.41 L1197.56 1104.35 L1183.49 1104.35 L1183.49 1112.82 Q1184.5 1112.47 1185.52 1112.31 Q1186.54 1112.13 1187.56 1112.13 Q1193.35 1112.13 1196.73 1115.3 Q1200.11 1118.47 1200.11 1123.89 Q1200.11 1129.46 1196.63 1132.57 Q1193.16 1135.64 1186.84 1135.64 Q1184.67 1135.64 1182.4 1135.27 Q1180.15 1134.9 1177.75 1134.16 L1177.75 1129.46 Q1179.83 1130.6 1182.05 1131.15 Q1184.27 1131.71 1186.75 1131.71 Q1190.75 1131.71 1193.09 1129.6 Q1195.43 1127.5 1195.43 1123.89 Q1195.43 1120.27 1193.09 1118.17 Q1190.75 1116.06 1186.75 1116.06 Q1184.87 1116.06 1183 1116.48 Q1181.15 1116.89 1179.2 1117.77 L1179.2 1100.41 Z\" fill=\"#000000\" fill-rule=\"nonzero\" fill-opacity=\"1\" /><path clip-path=\"url(#clip680)\" d=\"M1219.32 1103.49 Q1215.71 1103.49 1213.88 1107.06 Q1212.07 1110.6 1212.07 1117.73 Q1212.07 1124.83 1213.88 1128.4 Q1215.71 1131.94 1219.32 1131.94 Q1222.95 1131.94 1224.76 1128.4 Q1226.59 1124.83 1226.59 1117.73 Q1226.59 1110.6 1224.76 1107.06 Q1222.95 1103.49 1219.32 1103.49 M1219.32 1099.79 Q1225.13 1099.79 1228.18 1104.4 Q1231.26 1108.98 1231.26 1117.73 Q1231.26 1126.46 1228.18 1131.06 Q1225.13 1135.64 1219.32 1135.64 Q1213.51 1135.64 1210.43 1131.06 Q1207.37 1126.46 1207.37 1117.73 Q1207.37 1108.98 1210.43 1104.4 Q1213.51 1099.79 1219.32 1099.79 Z\" fill=\"#000000\" fill-rule=\"nonzero\" fill-opacity=\"1\" /><polyline clip-path=\"url(#clip682)\" style=\"stroke:#000000; stroke-linecap:round; stroke-linejoin:round; stroke-width:2; stroke-opacity:0.1; fill:none\" points=\"102.177,1051.33 1352.76,1051.33 \"/>\n",
       "<polyline clip-path=\"url(#clip682)\" style=\"stroke:#000000; stroke-linecap:round; stroke-linejoin:round; stroke-width:2; stroke-opacity:0.1; fill:none\" points=\"102.177,807.619 1352.76,807.619 \"/>\n",
       "<polyline clip-path=\"url(#clip682)\" style=\"stroke:#000000; stroke-linecap:round; stroke-linejoin:round; stroke-width:2; stroke-opacity:0.1; fill:none\" points=\"102.177,563.909 1352.76,563.909 \"/>\n",
       "<polyline clip-path=\"url(#clip682)\" style=\"stroke:#000000; stroke-linecap:round; stroke-linejoin:round; stroke-width:2; stroke-opacity:0.1; fill:none\" points=\"102.177,320.199 1352.76,320.199 \"/>\n",
       "<polyline clip-path=\"url(#clip682)\" style=\"stroke:#000000; stroke-linecap:round; stroke-linejoin:round; stroke-width:2; stroke-opacity:0.1; fill:none\" points=\"102.177,76.4893 1352.76,76.4893 \"/>\n",
       "<polyline clip-path=\"url(#clip680)\" style=\"stroke:#000000; stroke-linecap:round; stroke-linejoin:round; stroke-width:4; stroke-opacity:1; fill:none\" points=\"102.177,1080.57 102.177,47.2441 \"/>\n",
       "<polyline clip-path=\"url(#clip680)\" style=\"stroke:#000000; stroke-linecap:round; stroke-linejoin:round; stroke-width:4; stroke-opacity:1; fill:none\" points=\"102.177,1051.33 121.075,1051.33 \"/>\n",
       "<polyline clip-path=\"url(#clip680)\" style=\"stroke:#000000; stroke-linecap:round; stroke-linejoin:round; stroke-width:4; stroke-opacity:1; fill:none\" points=\"102.177,807.619 121.075,807.619 \"/>\n",
       "<polyline clip-path=\"url(#clip680)\" style=\"stroke:#000000; stroke-linecap:round; stroke-linejoin:round; stroke-width:4; stroke-opacity:1; fill:none\" points=\"102.177,563.909 121.075,563.909 \"/>\n",
       "<polyline clip-path=\"url(#clip680)\" style=\"stroke:#000000; stroke-linecap:round; stroke-linejoin:round; stroke-width:4; stroke-opacity:1; fill:none\" points=\"102.177,320.199 121.075,320.199 \"/>\n",
       "<polyline clip-path=\"url(#clip680)\" style=\"stroke:#000000; stroke-linecap:round; stroke-linejoin:round; stroke-width:4; stroke-opacity:1; fill:none\" points=\"102.177,76.4893 121.075,76.4893 \"/>\n",
       "<path clip-path=\"url(#clip680)\" d=\"M69.2328 1037.13 Q65.6217 1037.13 63.793 1040.69 Q61.9875 1044.23 61.9875 1051.36 Q61.9875 1058.47 63.793 1062.03 Q65.6217 1065.58 69.2328 1065.58 Q72.867 1065.58 74.6726 1062.03 Q76.5013 1058.47 76.5013 1051.36 Q76.5013 1044.23 74.6726 1040.69 Q72.867 1037.13 69.2328 1037.13 M69.2328 1033.42 Q75.0429 1033.42 78.0985 1038.03 Q81.1772 1042.61 81.1772 1051.36 Q81.1772 1060.09 78.0985 1064.7 Q75.0429 1069.28 69.2328 1069.28 Q63.4226 1069.28 60.344 1064.7 Q57.2884 1060.09 57.2884 1051.36 Q57.2884 1042.61 60.344 1038.03 Q63.4226 1033.42 69.2328 1033.42 Z\" fill=\"#000000\" fill-rule=\"nonzero\" fill-opacity=\"1\" /><path clip-path=\"url(#clip680)\" d=\"M61.2699 820.963 L68.9087 820.963 L68.9087 794.598 L60.5986 796.265 L60.5986 792.005 L68.8624 790.339 L73.5383 790.339 L73.5383 820.963 L81.1772 820.963 L81.1772 824.899 L61.2699 824.899 L61.2699 820.963 Z\" fill=\"#000000\" fill-rule=\"nonzero\" fill-opacity=\"1\" /><path clip-path=\"url(#clip680)\" d=\"M64.8578 577.254 L81.1772 577.254 L81.1772 581.189 L59.2328 581.189 L59.2328 577.254 Q61.8949 574.499 66.4782 569.869 Q71.0846 565.217 72.2652 563.874 Q74.5105 561.351 75.3902 559.615 Q76.2929 557.856 76.2929 556.166 Q76.2929 553.411 74.3485 551.675 Q72.4272 549.939 69.3254 549.939 Q67.1263 549.939 64.6726 550.703 Q62.2421 551.467 59.4643 553.018 L59.4643 548.295 Q62.2884 547.161 64.7421 546.583 Q67.1958 546.004 69.2328 546.004 Q74.6031 546.004 77.7976 548.689 Q80.992 551.374 80.992 555.865 Q80.992 557.995 80.1818 559.916 Q79.3948 561.814 77.2883 564.407 Q76.7096 565.078 73.6078 568.295 Q70.5059 571.49 64.8578 577.254 Z\" fill=\"#000000\" fill-rule=\"nonzero\" fill-opacity=\"1\" /><path clip-path=\"url(#clip680)\" d=\"M74.0476 318.845 Q77.404 319.562 79.279 321.831 Q81.1772 324.099 81.1772 327.433 Q81.1772 332.549 77.6587 335.349 Q74.1402 338.15 67.6587 338.15 Q65.4828 338.15 63.168 337.711 Q60.8764 337.294 58.4227 336.437 L58.4227 331.924 Q60.3671 333.058 62.6819 333.636 Q64.9967 334.215 67.5198 334.215 Q71.918 334.215 74.2096 332.479 Q76.5244 330.743 76.5244 327.433 Q76.5244 324.377 74.3717 322.664 Q72.242 320.928 68.4226 320.928 L64.3949 320.928 L64.3949 317.086 L68.6078 317.086 Q72.0569 317.086 73.8855 315.72 Q75.7142 314.331 75.7142 311.738 Q75.7142 309.076 73.8161 307.664 Q71.9411 306.229 68.4226 306.229 Q66.5013 306.229 64.3023 306.646 Q62.1032 307.063 59.4643 307.942 L59.4643 303.776 Q62.1264 303.035 64.4412 302.664 Q66.7791 302.294 68.8393 302.294 Q74.1633 302.294 77.2652 304.725 Q80.367 307.132 80.367 311.252 Q80.367 314.123 78.7235 316.113 Q77.08 318.081 74.0476 318.845 Z\" fill=\"#000000\" fill-rule=\"nonzero\" fill-opacity=\"1\" /><path clip-path=\"url(#clip680)\" d=\"M71.5939 63.2833 L59.7884 81.7323 L71.5939 81.7323 L71.5939 63.2833 M70.367 59.2093 L76.2466 59.2093 L76.2466 81.7323 L81.1772 81.7323 L81.1772 85.6212 L76.2466 85.6212 L76.2466 93.7693 L71.5939 93.7693 L71.5939 85.6212 L55.9921 85.6212 L55.9921 81.1073 L70.367 59.2093 Z\" fill=\"#000000\" fill-rule=\"nonzero\" fill-opacity=\"1\" /><polyline clip-path=\"url(#clip682)\" style=\"stroke:#009af9; stroke-linecap:round; stroke-linejoin:round; stroke-width:4; stroke-opacity:1; fill:none\" points=\"137.571,1051.33 144.636,1051.33 151.7,563.909 158.765,807.619 165.829,807.619 172.894,1051.33 179.959,1051.33 187.023,1051.33 194.088,563.909 201.152,320.199 208.217,807.619 215.282,807.619 222.346,1051.33 229.411,1051.33 236.476,807.619 243.54,1051.33 250.605,807.619 257.669,1051.33 264.734,563.909 271.799,563.909 278.863,807.619 285.928,807.619 292.993,320.199 300.057,563.909 307.122,807.619 314.186,807.619 321.251,563.909 328.316,563.909 335.38,1051.33 342.445,807.619 349.509,563.909 356.574,807.619 363.639,807.619 370.703,807.619 377.768,1051.33 384.833,1051.33 391.897,563.909 398.962,807.619 406.026,1051.33 413.091,563.909 420.156,563.909 427.22,1051.33 434.285,1051.33 441.35,1051.33 448.414,807.619 455.479,1051.33 462.543,807.619 469.608,1051.33 476.673,1051.33 483.737,1051.33 490.802,1051.33 497.866,1051.33 504.931,1051.33 511.996,807.619 519.06,1051.33 526.125,1051.33 533.19,807.619 540.254,1051.33 547.319,1051.33 554.383,1051.33 561.448,1051.33 568.513,807.619 575.577,1051.33 582.642,807.619 589.706,807.619 596.771,807.619 603.836,807.619 610.9,1051.33 617.965,1051.33 625.03,1051.33 632.094,563.909 639.159,807.619 646.223,807.619 653.288,1051.33 660.353,807.619 667.417,807.619 674.482,1051.33 681.547,1051.33 688.611,807.619 695.676,807.619 702.74,807.619 709.805,807.619 716.87,1051.33 723.934,563.909 730.999,807.619 738.063,563.909 745.128,807.619 752.193,1051.33 759.257,1051.33 766.322,76.4893 773.387,807.619 780.451,807.619 787.516,1051.33 794.58,563.909 801.645,807.619 808.71,807.619 815.774,807.619 822.839,807.619 829.904,563.909 836.968,1051.33 844.033,1051.33 851.097,563.909 858.162,807.619 865.227,1051.33 872.291,1051.33 879.356,563.909 886.42,807.619 893.485,320.199 900.55,320.199 907.614,1051.33 914.679,563.909 921.744,1051.33 928.808,563.909 935.873,1051.33 942.937,1051.33 950.002,1051.33 957.067,1051.33 964.131,1051.33 971.196,807.619 978.26,807.619 985.325,1051.33 992.39,807.619 999.454,807.619 1006.52,320.199 1013.58,807.619 1020.65,807.619 1027.71,1051.33 1034.78,807.619 1041.84,320.199 1048.91,1051.33 1055.97,1051.33 1063.04,563.909 1070.1,1051.33 1077.17,807.619 1084.23,1051.33 1091.29,807.619 1098.36,563.909 1105.42,563.909 1112.49,1051.33 1119.55,320.199 1126.62,1051.33 1133.68,1051.33 1140.75,1051.33 1147.81,1051.33 1154.88,807.619 1161.94,807.619 1169.01,1051.33 1176.07,1051.33 1183.13,1051.33 1190.2,1051.33 1197.26,1051.33 1204.33,807.619 1211.39,563.909 1218.46,563.909 1225.52,807.619 1232.59,807.619 1239.65,320.199 1246.72,807.619 1253.78,807.619 1260.85,563.909 1267.91,1051.33 1274.97,1051.33 1282.04,1051.33 1289.1,1051.33 1296.17,807.619 1303.23,563.909 1310.3,1051.33 1317.36,1051.33 \"/>\n",
       "<path clip-path=\"url(#clip680)\" d=\"M143.863 185.368 L321.351 185.368 L321.351 81.6884 L143.863 81.6884  Z\" fill=\"#ffffff\" fill-rule=\"evenodd\" fill-opacity=\"1\"/>\n",
       "<polyline clip-path=\"url(#clip680)\" style=\"stroke:#000000; stroke-linecap:round; stroke-linejoin:round; stroke-width:4; stroke-opacity:1; fill:none\" points=\"143.863,185.368 321.351,185.368 321.351,81.6884 143.863,81.6884 143.863,185.368 \"/>\n",
       "<polyline clip-path=\"url(#clip680)\" style=\"stroke:#009af9; stroke-linecap:round; stroke-linejoin:round; stroke-width:4; stroke-opacity:1; fill:none\" points=\"157.758,133.528 241.13,133.528 \"/>\n",
       "<path clip-path=\"url(#clip680)\" d=\"M268.868 153.216 Q267.063 157.845 265.35 159.257 Q263.637 160.669 260.766 160.669 L257.364 160.669 L257.364 157.105 L259.864 157.105 Q261.623 157.105 262.595 156.271 Q263.567 155.438 264.748 152.336 L265.512 150.392 L255.026 124.883 L259.54 124.883 L267.641 145.16 L275.743 124.883 L280.257 124.883 L268.868 153.216 Z\" fill=\"#000000\" fill-rule=\"nonzero\" fill-opacity=\"1\" /><path clip-path=\"url(#clip680)\" d=\"M287.549 146.873 L295.188 146.873 L295.188 120.508 L286.877 122.174 L286.877 117.915 L295.141 116.248 L299.817 116.248 L299.817 146.873 L307.456 146.873 L307.456 150.808 L287.549 150.808 L287.549 146.873 Z\" fill=\"#000000\" fill-rule=\"nonzero\" fill-opacity=\"1\" /></svg>\n"
      ],
      "text/html": [
       "<?xml version=\"1.0\" encoding=\"utf-8\"?>\n",
       "<svg xmlns=\"http://www.w3.org/2000/svg\" xmlns:xlink=\"http://www.w3.org/1999/xlink\" width=\"350\" height=\"300\" viewBox=\"0 0 1400 1200\">\n",
       "<defs>\n",
       "  <clipPath id=\"clip730\">\n",
       "    <rect x=\"0\" y=\"0\" width=\"1400\" height=\"1200\"/>\n",
       "  </clipPath>\n",
       "</defs>\n",
       "<path clip-path=\"url(#clip730)\" d=\"M0 1200 L1400 1200 L1400 0 L0 0  Z\" fill=\"#ffffff\" fill-rule=\"evenodd\" fill-opacity=\"1\"/>\n",
       "<defs>\n",
       "  <clipPath id=\"clip731\">\n",
       "    <rect x=\"280\" y=\"0\" width=\"981\" height=\"981\"/>\n",
       "  </clipPath>\n",
       "</defs>\n",
       "<path clip-path=\"url(#clip730)\" d=\"M102.177 1080.57 L1352.76 1080.57 L1352.76 47.2441 L102.177 47.2441  Z\" fill=\"#ffffff\" fill-rule=\"evenodd\" fill-opacity=\"1\"/>\n",
       "<defs>\n",
       "  <clipPath id=\"clip732\">\n",
       "    <rect x=\"102\" y=\"47\" width=\"1252\" height=\"1034\"/>\n",
       "  </clipPath>\n",
       "</defs>\n",
       "<polyline clip-path=\"url(#clip732)\" style=\"stroke:#000000; stroke-linecap:round; stroke-linejoin:round; stroke-width:2; stroke-opacity:0.1; fill:none\" points=\"130.506,1080.57 130.506,47.2441 \"/>\n",
       "<polyline clip-path=\"url(#clip732)\" style=\"stroke:#000000; stroke-linecap:round; stroke-linejoin:round; stroke-width:2; stroke-opacity:0.1; fill:none\" points=\"483.737,1080.57 483.737,47.2441 \"/>\n",
       "<polyline clip-path=\"url(#clip732)\" style=\"stroke:#000000; stroke-linecap:round; stroke-linejoin:round; stroke-width:2; stroke-opacity:0.1; fill:none\" points=\"836.968,1080.57 836.968,47.2441 \"/>\n",
       "<polyline clip-path=\"url(#clip732)\" style=\"stroke:#000000; stroke-linecap:round; stroke-linejoin:round; stroke-width:2; stroke-opacity:0.1; fill:none\" points=\"1190.2,1080.57 1190.2,47.2441 \"/>\n",
       "<polyline clip-path=\"url(#clip730)\" style=\"stroke:#000000; stroke-linecap:round; stroke-linejoin:round; stroke-width:4; stroke-opacity:1; fill:none\" points=\"102.177,1080.57 1352.76,1080.57 \"/>\n",
       "<polyline clip-path=\"url(#clip730)\" style=\"stroke:#000000; stroke-linecap:round; stroke-linejoin:round; stroke-width:4; stroke-opacity:1; fill:none\" points=\"130.506,1080.57 130.506,1061.68 \"/>\n",
       "<polyline clip-path=\"url(#clip730)\" style=\"stroke:#000000; stroke-linecap:round; stroke-linejoin:round; stroke-width:4; stroke-opacity:1; fill:none\" points=\"483.737,1080.57 483.737,1061.68 \"/>\n",
       "<polyline clip-path=\"url(#clip730)\" style=\"stroke:#000000; stroke-linecap:round; stroke-linejoin:round; stroke-width:4; stroke-opacity:1; fill:none\" points=\"836.968,1080.57 836.968,1061.68 \"/>\n",
       "<polyline clip-path=\"url(#clip730)\" style=\"stroke:#000000; stroke-linecap:round; stroke-linejoin:round; stroke-width:4; stroke-opacity:1; fill:none\" points=\"1190.2,1080.57 1190.2,1061.68 \"/>\n",
       "<path clip-path=\"url(#clip730)\" d=\"M130.506 1103.49 Q126.895 1103.49 125.067 1107.06 Q123.261 1110.6 123.261 1117.73 Q123.261 1124.83 125.067 1128.4 Q126.895 1131.94 130.506 1131.94 Q134.141 1131.94 135.946 1128.4 Q137.775 1124.83 137.775 1117.73 Q137.775 1110.6 135.946 1107.06 Q134.141 1103.49 130.506 1103.49 M130.506 1099.79 Q136.316 1099.79 139.372 1104.4 Q142.451 1108.98 142.451 1117.73 Q142.451 1126.46 139.372 1131.06 Q136.316 1135.64 130.506 1135.64 Q124.696 1135.64 121.617 1131.06 Q118.562 1126.46 118.562 1117.73 Q118.562 1108.98 121.617 1104.4 Q124.696 1099.79 130.506 1099.79 Z\" fill=\"#000000\" fill-rule=\"nonzero\" fill-opacity=\"1\" /><path clip-path=\"url(#clip730)\" d=\"M458.436 1100.41 L476.793 1100.41 L476.793 1104.35 L462.719 1104.35 L462.719 1112.82 Q463.737 1112.47 464.756 1112.31 Q465.774 1112.13 466.793 1112.13 Q472.58 1112.13 475.959 1115.3 Q479.339 1118.47 479.339 1123.89 Q479.339 1129.46 475.867 1132.57 Q472.395 1135.64 466.075 1135.64 Q463.899 1135.64 461.631 1135.27 Q459.385 1134.9 456.978 1134.16 L456.978 1129.46 Q459.061 1130.6 461.284 1131.15 Q463.506 1131.71 465.983 1131.71 Q469.987 1131.71 472.325 1129.6 Q474.663 1127.5 474.663 1123.89 Q474.663 1120.27 472.325 1118.17 Q469.987 1116.06 465.983 1116.06 Q464.108 1116.06 462.233 1116.48 Q460.381 1116.89 458.436 1117.77 L458.436 1100.41 Z\" fill=\"#000000\" fill-rule=\"nonzero\" fill-opacity=\"1\" /><path clip-path=\"url(#clip730)\" d=\"M498.552 1103.49 Q494.941 1103.49 493.112 1107.06 Q491.307 1110.6 491.307 1117.73 Q491.307 1124.83 493.112 1128.4 Q494.941 1131.94 498.552 1131.94 Q502.186 1131.94 503.992 1128.4 Q505.82 1124.83 505.82 1117.73 Q505.82 1110.6 503.992 1107.06 Q502.186 1103.49 498.552 1103.49 M498.552 1099.79 Q504.362 1099.79 507.418 1104.4 Q510.496 1108.98 510.496 1117.73 Q510.496 1126.46 507.418 1131.06 Q504.362 1135.64 498.552 1135.64 Q492.742 1135.64 489.663 1131.06 Q486.608 1126.46 486.608 1117.73 Q486.608 1108.98 489.663 1104.4 Q492.742 1099.79 498.552 1099.79 Z\" fill=\"#000000\" fill-rule=\"nonzero\" fill-opacity=\"1\" /><path clip-path=\"url(#clip730)\" d=\"M796.575 1131.04 L804.214 1131.04 L804.214 1104.67 L795.904 1106.34 L795.904 1102.08 L804.167 1100.41 L808.843 1100.41 L808.843 1131.04 L816.482 1131.04 L816.482 1134.97 L796.575 1134.97 L796.575 1131.04 Z\" fill=\"#000000\" fill-rule=\"nonzero\" fill-opacity=\"1\" /><path clip-path=\"url(#clip730)\" d=\"M835.926 1103.49 Q832.315 1103.49 830.487 1107.06 Q828.681 1110.6 828.681 1117.73 Q828.681 1124.83 830.487 1128.4 Q832.315 1131.94 835.926 1131.94 Q839.561 1131.94 841.366 1128.4 Q843.195 1124.83 843.195 1117.73 Q843.195 1110.6 841.366 1107.06 Q839.561 1103.49 835.926 1103.49 M835.926 1099.79 Q841.737 1099.79 844.792 1104.4 Q847.871 1108.98 847.871 1117.73 Q847.871 1126.46 844.792 1131.06 Q841.737 1135.64 835.926 1135.64 Q830.116 1135.64 827.038 1131.06 Q823.982 1126.46 823.982 1117.73 Q823.982 1108.98 827.038 1104.4 Q830.116 1099.79 835.926 1099.79 Z\" fill=\"#000000\" fill-rule=\"nonzero\" fill-opacity=\"1\" /><path clip-path=\"url(#clip730)\" d=\"M866.088 1103.49 Q862.477 1103.49 860.649 1107.06 Q858.843 1110.6 858.843 1117.73 Q858.843 1124.83 860.649 1128.4 Q862.477 1131.94 866.088 1131.94 Q869.723 1131.94 871.528 1128.4 Q873.357 1124.83 873.357 1117.73 Q873.357 1110.6 871.528 1107.06 Q869.723 1103.49 866.088 1103.49 M866.088 1099.79 Q871.898 1099.79 874.954 1104.4 Q878.033 1108.98 878.033 1117.73 Q878.033 1126.46 874.954 1131.06 Q871.898 1135.64 866.088 1135.64 Q860.278 1135.64 857.199 1131.06 Q854.144 1126.46 854.144 1117.73 Q854.144 1108.98 857.199 1104.4 Q860.278 1099.79 866.088 1099.79 Z\" fill=\"#000000\" fill-rule=\"nonzero\" fill-opacity=\"1\" /><path clip-path=\"url(#clip730)\" d=\"M1149.81 1131.04 L1157.44 1131.04 L1157.44 1104.67 L1149.13 1106.34 L1149.13 1102.08 L1157.4 1100.41 L1162.07 1100.41 L1162.07 1131.04 L1169.71 1131.04 L1169.71 1134.97 L1149.81 1134.97 L1149.81 1131.04 Z\" fill=\"#000000\" fill-rule=\"nonzero\" fill-opacity=\"1\" /><path clip-path=\"url(#clip730)\" d=\"M1179.2 1100.41 L1197.56 1100.41 L1197.56 1104.35 L1183.49 1104.35 L1183.49 1112.82 Q1184.5 1112.47 1185.52 1112.31 Q1186.54 1112.13 1187.56 1112.13 Q1193.35 1112.13 1196.73 1115.3 Q1200.11 1118.47 1200.11 1123.89 Q1200.11 1129.46 1196.63 1132.57 Q1193.16 1135.64 1186.84 1135.64 Q1184.67 1135.64 1182.4 1135.27 Q1180.15 1134.9 1177.75 1134.16 L1177.75 1129.46 Q1179.83 1130.6 1182.05 1131.15 Q1184.27 1131.71 1186.75 1131.71 Q1190.75 1131.71 1193.09 1129.6 Q1195.43 1127.5 1195.43 1123.89 Q1195.43 1120.27 1193.09 1118.17 Q1190.75 1116.06 1186.75 1116.06 Q1184.87 1116.06 1183 1116.48 Q1181.15 1116.89 1179.2 1117.77 L1179.2 1100.41 Z\" fill=\"#000000\" fill-rule=\"nonzero\" fill-opacity=\"1\" /><path clip-path=\"url(#clip730)\" d=\"M1219.32 1103.49 Q1215.71 1103.49 1213.88 1107.06 Q1212.07 1110.6 1212.07 1117.73 Q1212.07 1124.83 1213.88 1128.4 Q1215.71 1131.94 1219.32 1131.94 Q1222.95 1131.94 1224.76 1128.4 Q1226.59 1124.83 1226.59 1117.73 Q1226.59 1110.6 1224.76 1107.06 Q1222.95 1103.49 1219.32 1103.49 M1219.32 1099.79 Q1225.13 1099.79 1228.18 1104.4 Q1231.26 1108.98 1231.26 1117.73 Q1231.26 1126.46 1228.18 1131.06 Q1225.13 1135.64 1219.32 1135.64 Q1213.51 1135.64 1210.43 1131.06 Q1207.37 1126.46 1207.37 1117.73 Q1207.37 1108.98 1210.43 1104.4 Q1213.51 1099.79 1219.32 1099.79 Z\" fill=\"#000000\" fill-rule=\"nonzero\" fill-opacity=\"1\" /><polyline clip-path=\"url(#clip732)\" style=\"stroke:#000000; stroke-linecap:round; stroke-linejoin:round; stroke-width:2; stroke-opacity:0.1; fill:none\" points=\"102.177,1051.33 1352.76,1051.33 \"/>\n",
       "<polyline clip-path=\"url(#clip732)\" style=\"stroke:#000000; stroke-linecap:round; stroke-linejoin:round; stroke-width:2; stroke-opacity:0.1; fill:none\" points=\"102.177,807.619 1352.76,807.619 \"/>\n",
       "<polyline clip-path=\"url(#clip732)\" style=\"stroke:#000000; stroke-linecap:round; stroke-linejoin:round; stroke-width:2; stroke-opacity:0.1; fill:none\" points=\"102.177,563.909 1352.76,563.909 \"/>\n",
       "<polyline clip-path=\"url(#clip732)\" style=\"stroke:#000000; stroke-linecap:round; stroke-linejoin:round; stroke-width:2; stroke-opacity:0.1; fill:none\" points=\"102.177,320.199 1352.76,320.199 \"/>\n",
       "<polyline clip-path=\"url(#clip732)\" style=\"stroke:#000000; stroke-linecap:round; stroke-linejoin:round; stroke-width:2; stroke-opacity:0.1; fill:none\" points=\"102.177,76.4893 1352.76,76.4893 \"/>\n",
       "<polyline clip-path=\"url(#clip730)\" style=\"stroke:#000000; stroke-linecap:round; stroke-linejoin:round; stroke-width:4; stroke-opacity:1; fill:none\" points=\"102.177,1080.57 102.177,47.2441 \"/>\n",
       "<polyline clip-path=\"url(#clip730)\" style=\"stroke:#000000; stroke-linecap:round; stroke-linejoin:round; stroke-width:4; stroke-opacity:1; fill:none\" points=\"102.177,1051.33 121.075,1051.33 \"/>\n",
       "<polyline clip-path=\"url(#clip730)\" style=\"stroke:#000000; stroke-linecap:round; stroke-linejoin:round; stroke-width:4; stroke-opacity:1; fill:none\" points=\"102.177,807.619 121.075,807.619 \"/>\n",
       "<polyline clip-path=\"url(#clip730)\" style=\"stroke:#000000; stroke-linecap:round; stroke-linejoin:round; stroke-width:4; stroke-opacity:1; fill:none\" points=\"102.177,563.909 121.075,563.909 \"/>\n",
       "<polyline clip-path=\"url(#clip730)\" style=\"stroke:#000000; stroke-linecap:round; stroke-linejoin:round; stroke-width:4; stroke-opacity:1; fill:none\" points=\"102.177,320.199 121.075,320.199 \"/>\n",
       "<polyline clip-path=\"url(#clip730)\" style=\"stroke:#000000; stroke-linecap:round; stroke-linejoin:round; stroke-width:4; stroke-opacity:1; fill:none\" points=\"102.177,76.4893 121.075,76.4893 \"/>\n",
       "<path clip-path=\"url(#clip730)\" d=\"M69.2328 1037.13 Q65.6217 1037.13 63.793 1040.69 Q61.9875 1044.23 61.9875 1051.36 Q61.9875 1058.47 63.793 1062.03 Q65.6217 1065.58 69.2328 1065.58 Q72.867 1065.58 74.6726 1062.03 Q76.5013 1058.47 76.5013 1051.36 Q76.5013 1044.23 74.6726 1040.69 Q72.867 1037.13 69.2328 1037.13 M69.2328 1033.42 Q75.0429 1033.42 78.0985 1038.03 Q81.1772 1042.61 81.1772 1051.36 Q81.1772 1060.09 78.0985 1064.7 Q75.0429 1069.28 69.2328 1069.28 Q63.4226 1069.28 60.344 1064.7 Q57.2884 1060.09 57.2884 1051.36 Q57.2884 1042.61 60.344 1038.03 Q63.4226 1033.42 69.2328 1033.42 Z\" fill=\"#000000\" fill-rule=\"nonzero\" fill-opacity=\"1\" /><path clip-path=\"url(#clip730)\" d=\"M61.2699 820.963 L68.9087 820.963 L68.9087 794.598 L60.5986 796.265 L60.5986 792.005 L68.8624 790.339 L73.5383 790.339 L73.5383 820.963 L81.1772 820.963 L81.1772 824.899 L61.2699 824.899 L61.2699 820.963 Z\" fill=\"#000000\" fill-rule=\"nonzero\" fill-opacity=\"1\" /><path clip-path=\"url(#clip730)\" d=\"M64.8578 577.254 L81.1772 577.254 L81.1772 581.189 L59.2328 581.189 L59.2328 577.254 Q61.8949 574.499 66.4782 569.869 Q71.0846 565.217 72.2652 563.874 Q74.5105 561.351 75.3902 559.615 Q76.2929 557.856 76.2929 556.166 Q76.2929 553.411 74.3485 551.675 Q72.4272 549.939 69.3254 549.939 Q67.1263 549.939 64.6726 550.703 Q62.2421 551.467 59.4643 553.018 L59.4643 548.295 Q62.2884 547.161 64.7421 546.583 Q67.1958 546.004 69.2328 546.004 Q74.6031 546.004 77.7976 548.689 Q80.992 551.374 80.992 555.865 Q80.992 557.995 80.1818 559.916 Q79.3948 561.814 77.2883 564.407 Q76.7096 565.078 73.6078 568.295 Q70.5059 571.49 64.8578 577.254 Z\" fill=\"#000000\" fill-rule=\"nonzero\" fill-opacity=\"1\" /><path clip-path=\"url(#clip730)\" d=\"M74.0476 318.845 Q77.404 319.562 79.279 321.831 Q81.1772 324.099 81.1772 327.433 Q81.1772 332.549 77.6587 335.349 Q74.1402 338.15 67.6587 338.15 Q65.4828 338.15 63.168 337.711 Q60.8764 337.294 58.4227 336.437 L58.4227 331.924 Q60.3671 333.058 62.6819 333.636 Q64.9967 334.215 67.5198 334.215 Q71.918 334.215 74.2096 332.479 Q76.5244 330.743 76.5244 327.433 Q76.5244 324.377 74.3717 322.664 Q72.242 320.928 68.4226 320.928 L64.3949 320.928 L64.3949 317.086 L68.6078 317.086 Q72.0569 317.086 73.8855 315.72 Q75.7142 314.331 75.7142 311.738 Q75.7142 309.076 73.8161 307.664 Q71.9411 306.229 68.4226 306.229 Q66.5013 306.229 64.3023 306.646 Q62.1032 307.063 59.4643 307.942 L59.4643 303.776 Q62.1264 303.035 64.4412 302.664 Q66.7791 302.294 68.8393 302.294 Q74.1633 302.294 77.2652 304.725 Q80.367 307.132 80.367 311.252 Q80.367 314.123 78.7235 316.113 Q77.08 318.081 74.0476 318.845 Z\" fill=\"#000000\" fill-rule=\"nonzero\" fill-opacity=\"1\" /><path clip-path=\"url(#clip730)\" d=\"M71.5939 63.2833 L59.7884 81.7323 L71.5939 81.7323 L71.5939 63.2833 M70.367 59.2093 L76.2466 59.2093 L76.2466 81.7323 L81.1772 81.7323 L81.1772 85.6212 L76.2466 85.6212 L76.2466 93.7693 L71.5939 93.7693 L71.5939 85.6212 L55.9921 85.6212 L55.9921 81.1073 L70.367 59.2093 Z\" fill=\"#000000\" fill-rule=\"nonzero\" fill-opacity=\"1\" /><polyline clip-path=\"url(#clip732)\" style=\"stroke:#009af9; stroke-linecap:round; stroke-linejoin:round; stroke-width:4; stroke-opacity:1; fill:none\" points=\"137.571,1051.33 144.636,1051.33 151.7,563.909 158.765,807.619 165.829,807.619 172.894,1051.33 179.959,1051.33 187.023,1051.33 194.088,563.909 201.152,320.199 208.217,807.619 215.282,807.619 222.346,1051.33 229.411,1051.33 236.476,807.619 243.54,1051.33 250.605,807.619 257.669,1051.33 264.734,563.909 271.799,563.909 278.863,807.619 285.928,807.619 292.993,320.199 300.057,563.909 307.122,807.619 314.186,807.619 321.251,563.909 328.316,563.909 335.38,1051.33 342.445,807.619 349.509,563.909 356.574,807.619 363.639,807.619 370.703,807.619 377.768,1051.33 384.833,1051.33 391.897,563.909 398.962,807.619 406.026,1051.33 413.091,563.909 420.156,563.909 427.22,1051.33 434.285,1051.33 441.35,1051.33 448.414,807.619 455.479,1051.33 462.543,807.619 469.608,1051.33 476.673,1051.33 483.737,1051.33 490.802,1051.33 497.866,1051.33 504.931,1051.33 511.996,807.619 519.06,1051.33 526.125,1051.33 533.19,807.619 540.254,1051.33 547.319,1051.33 554.383,1051.33 561.448,1051.33 568.513,807.619 575.577,1051.33 582.642,807.619 589.706,807.619 596.771,807.619 603.836,807.619 610.9,1051.33 617.965,1051.33 625.03,1051.33 632.094,563.909 639.159,807.619 646.223,807.619 653.288,1051.33 660.353,807.619 667.417,807.619 674.482,1051.33 681.547,1051.33 688.611,807.619 695.676,807.619 702.74,807.619 709.805,807.619 716.87,1051.33 723.934,563.909 730.999,807.619 738.063,563.909 745.128,807.619 752.193,1051.33 759.257,1051.33 766.322,76.4893 773.387,807.619 780.451,807.619 787.516,1051.33 794.58,563.909 801.645,807.619 808.71,807.619 815.774,807.619 822.839,807.619 829.904,563.909 836.968,1051.33 844.033,1051.33 851.097,563.909 858.162,807.619 865.227,1051.33 872.291,1051.33 879.356,563.909 886.42,807.619 893.485,320.199 900.55,320.199 907.614,1051.33 914.679,563.909 921.744,1051.33 928.808,563.909 935.873,1051.33 942.937,1051.33 950.002,1051.33 957.067,1051.33 964.131,1051.33 971.196,807.619 978.26,807.619 985.325,1051.33 992.39,807.619 999.454,807.619 1006.52,320.199 1013.58,807.619 1020.65,807.619 1027.71,1051.33 1034.78,807.619 1041.84,320.199 1048.91,1051.33 1055.97,1051.33 1063.04,563.909 1070.1,1051.33 1077.17,807.619 1084.23,1051.33 1091.29,807.619 1098.36,563.909 1105.42,563.909 1112.49,1051.33 1119.55,320.199 1126.62,1051.33 1133.68,1051.33 1140.75,1051.33 1147.81,1051.33 1154.88,807.619 1161.94,807.619 1169.01,1051.33 1176.07,1051.33 1183.13,1051.33 1190.2,1051.33 1197.26,1051.33 1204.33,807.619 1211.39,563.909 1218.46,563.909 1225.52,807.619 1232.59,807.619 1239.65,320.199 1246.72,807.619 1253.78,807.619 1260.85,563.909 1267.91,1051.33 1274.97,1051.33 1282.04,1051.33 1289.1,1051.33 1296.17,807.619 1303.23,563.909 1310.3,1051.33 1317.36,1051.33 \"/>\n",
       "<path clip-path=\"url(#clip730)\" d=\"M143.863 185.368 L321.351 185.368 L321.351 81.6884 L143.863 81.6884  Z\" fill=\"#ffffff\" fill-rule=\"evenodd\" fill-opacity=\"1\"/>\n",
       "<polyline clip-path=\"url(#clip730)\" style=\"stroke:#000000; stroke-linecap:round; stroke-linejoin:round; stroke-width:4; stroke-opacity:1; fill:none\" points=\"143.863,185.368 321.351,185.368 321.351,81.6884 143.863,81.6884 143.863,185.368 \"/>\n",
       "<polyline clip-path=\"url(#clip730)\" style=\"stroke:#009af9; stroke-linecap:round; stroke-linejoin:round; stroke-width:4; stroke-opacity:1; fill:none\" points=\"157.758,133.528 241.13,133.528 \"/>\n",
       "<path clip-path=\"url(#clip730)\" d=\"M268.868 153.216 Q267.063 157.845 265.35 159.257 Q263.637 160.669 260.766 160.669 L257.364 160.669 L257.364 157.105 L259.864 157.105 Q261.623 157.105 262.595 156.271 Q263.567 155.438 264.748 152.336 L265.512 150.392 L255.026 124.883 L259.54 124.883 L267.641 145.16 L275.743 124.883 L280.257 124.883 L268.868 153.216 Z\" fill=\"#000000\" fill-rule=\"nonzero\" fill-opacity=\"1\" /><path clip-path=\"url(#clip730)\" d=\"M287.549 146.873 L295.188 146.873 L295.188 120.508 L286.877 122.174 L286.877 117.915 L295.141 116.248 L299.817 116.248 L299.817 146.873 L307.456 146.873 L307.456 150.808 L287.549 150.808 L287.549 146.873 Z\" fill=\"#000000\" fill-rule=\"nonzero\" fill-opacity=\"1\" /></svg>\n"
      ]
     },
     "execution_count": 120,
     "metadata": {},
     "output_type": "execute_result"
    }
   ],
   "source": [
    "plot([i for i in 1:length(density)], density, seriestype=:line, legend=:topleft, size=(350, 300))"
   ]
  },
  {
   "cell_type": "code",
   "execution_count": 121,
   "id": "3b1aeb4e",
   "metadata": {},
   "outputs": [],
   "source": [
    "cumsum = []\n",
    "total = 0\n",
    "for i in 1:length(tanal[3])\n",
    "    total += tanal[3][i]\n",
    "    push!(cumsum, total)\n",
    "end"
   ]
  },
  {
   "cell_type": "code",
   "execution_count": 167,
   "id": "884da72a",
   "metadata": {
    "scrolled": true
   },
   "outputs": [],
   "source": [
    "plot([i for i in 1:length(cumsum)], cumsum, seriestype=:line, legend=:topleft, size=(350, 300));\n",
    "\n",
    "# this file is literally 53.2 mb large so I've hidden it"
   ]
  },
  {
   "cell_type": "code",
   "execution_count": 127,
   "id": "9d36ca4f",
   "metadata": {},
   "outputs": [],
   "source": [
    "newsum = []\n",
    "total = 0\n",
    "for i in 1:length(data)\n",
    "    total += data[i]\n",
    "    push!(newsum, total)\n",
    "end"
   ]
  },
  {
   "cell_type": "code",
   "execution_count": 168,
   "id": "4a330581",
   "metadata": {},
   "outputs": [],
   "source": [
    "plot([i for i in 1:length(newsum)], newsum, seriestype=:line, legend=:topleft, size=(350, 300));\n",
    "# this file is literally 50mb so I've hidden it"
   ]
  },
  {
   "cell_type": "markdown",
   "id": "da0ba733",
   "metadata": {},
   "source": [
    "# [4] The Playground\n",
    "\n",
    "Let's test some things out so we know how efficient Julia operations will be in the long run."
   ]
  },
  {
   "cell_type": "code",
   "execution_count": 150,
   "id": "c2198661",
   "metadata": {},
   "outputs": [
    {
     "name": "stdout",
     "output_type": "stream",
     "text": [
      "0.35000014305114746\n"
     ]
    }
   ],
   "source": [
    "time_start = datetime2unix(now())\n",
    "k = [1]\n",
    "for i in 1:1e7\n",
    "    push!(k, i)\n",
    "end\n",
    "time_end = datetime2unix(now())\n",
    "\n",
    "println(time_end - time_start)"
   ]
  },
  {
   "cell_type": "code",
   "execution_count": 144,
   "id": "59f31fab",
   "metadata": {},
   "outputs": [
    {
     "name": "stdout",
     "output_type": "stream",
     "text": [
      "1.4789998531341553\n"
     ]
    }
   ],
   "source": [
    "time_start = datetime2unix(now())\n",
    "large = 10000000\n",
    "k = [i for i in 1:large]\n",
    "l = []\n",
    "for i in 1:large\n",
    "    push!(l, k[i])\n",
    "end\n",
    "time_end = datetime2unix(now())\n",
    "\n",
    "println(time_end - time_start)"
   ]
  },
  {
   "cell_type": "code",
   "execution_count": 149,
   "id": "b1ea59c3",
   "metadata": {},
   "outputs": [
    {
     "name": "stdout",
     "output_type": "stream",
     "text": [
      "0.9820001125335693\n"
     ]
    }
   ],
   "source": [
    "time_start = datetime2unix(now())\n",
    "large = 10000000\n",
    "k = [i for i in 1:large]\n",
    "l = []\n",
    "for i in 1:large\n",
    "    last(k);\n",
    "end\n",
    "time_end = datetime2unix(now())\n",
    "\n",
    "println(time_end - time_start)"
   ]
  },
  {
   "cell_type": "code",
   "execution_count": 162,
   "id": "c8acd1b1",
   "metadata": {},
   "outputs": [
    {
     "name": "stdout",
     "output_type": "stream",
     "text": [
      "8.655999898910522\n"
     ]
    }
   ],
   "source": [
    "time_start = datetime2unix(now())\n",
    "large = 100000000\n",
    "k = [i for i in 1:large]\n",
    "for i in 1:large\n",
    "    last(k);\n",
    "end\n",
    "time_end = datetime2unix(now())\n",
    "\n",
    "println(time_end - time_start)"
   ]
  },
  {
   "cell_type": "code",
   "execution_count": 163,
   "id": "4d155c0c",
   "metadata": {},
   "outputs": [
    {
     "name": "stdout",
     "output_type": "stream",
     "text": [
      "6.63100004196167\n"
     ]
    }
   ],
   "source": [
    "time_start = datetime2unix(now())\n",
    "large = 100000000\n",
    "k = [i for i in 1:large]\n",
    "a = last(k)\n",
    "for i in 1:large\n",
    "    a;\n",
    "end\n",
    "time_end = datetime2unix(now())\n",
    "\n",
    "println(time_end - time_start)"
   ]
  }
 ],
 "metadata": {
  "kernelspec": {
   "display_name": "Julia 1.9.1",
   "language": "julia",
   "name": "julia-1.9"
  },
  "language_info": {
   "file_extension": ".jl",
   "mimetype": "application/julia",
   "name": "julia",
   "version": "1.9.1"
  }
 },
 "nbformat": 4,
 "nbformat_minor": 5
}
