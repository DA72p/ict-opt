{
 "cells": [
  {
   "cell_type": "markdown",
   "id": "8e8b6963",
   "metadata": {},
   "source": [
    "This is an abridged version of the full notebook. Since the full notebook has gotten unbearably long and searching for errors is infeasible I have created this shortened one which should help."
   ]
  },
  {
   "cell_type": "markdown",
   "id": "c1566133",
   "metadata": {},
   "source": [
    "# [0] Imports"
   ]
  },
  {
   "cell_type": "code",
   "execution_count": 343,
   "id": "b14ee5c6",
   "metadata": {},
   "outputs": [],
   "source": [
    "import Pkg;\n",
    "\n",
    "using LinearAlgebra, Random, Gurobi, JuMP, Distributions, Plots, LazySets"
   ]
  },
  {
   "cell_type": "markdown",
   "id": "d60fe322",
   "metadata": {},
   "source": [
    "# [1] Setup"
   ]
  },
  {
   "cell_type": "markdown",
   "id": "1e1f376d",
   "metadata": {},
   "source": [
    "## [1.1] Parameters"
   ]
  },
  {
   "cell_type": "code",
   "execution_count": 344,
   "id": "b377ac53",
   "metadata": {},
   "outputs": [],
   "source": [
    "n_jobs = 25\n",
    "n_vehicles_jobs = 25\n",
    "n_vehicles_coverage = 10\n",
    "T = 50\n",
    "min_duration = 2\n",
    "max_duration = 6\n",
    "speed = 1000/6\n",
    "coverage_distance = 50\n",
    "size = 500\n",
    "step = 50;"
   ]
  },
  {
   "cell_type": "markdown",
   "id": "3c0e0558",
   "metadata": {},
   "source": [
    "## [1.2] Locations, Windows, Loads"
   ]
  },
  {
   "cell_type": "code",
   "execution_count": 345,
   "id": "f8fcdb15",
   "metadata": {},
   "outputs": [],
   "source": [
    "Random.seed!(1234)\n",
    "\n",
    "function create_cluster_sizes(jobs_total)\n",
    "    Random.seed!(1234)\n",
    "    jobs_created = 0\n",
    "    cluster = []\n",
    "    while jobs_created != jobs_total\n",
    "        num_to_add = rand(min(3, jobs_total - jobs_created) : \n",
    "            min(Int((n_jobs/5)÷1), jobs_total - jobs_created))\n",
    "        jobs_created += num_to_add\n",
    "        push!(cluster, num_to_add)\n",
    "    end\n",
    "    \n",
    "    return cluster\n",
    "end;"
   ]
  },
  {
   "cell_type": "code",
   "execution_count": 346,
   "id": "81d91da0",
   "metadata": {},
   "outputs": [],
   "source": [
    "time_windows = []\n",
    "locations = rand(Uniform(0,size), 1, 2)\n",
    "work_load = []\n",
    "cluster = create_cluster_sizes(n_jobs);"
   ]
  },
  {
   "cell_type": "code",
   "execution_count": 347,
   "id": "5532fe4c",
   "metadata": {},
   "outputs": [],
   "source": [
    "function create_time_windows_and_work_load(cluster_sizes, locations)\n",
    "    Random.seed!(1234)\n",
    "    locations = rand(Uniform(0,size), 1, 2)\n",
    "    for size_c in cluster\n",
    "        first = rand(Uniform(0,size), 1, 2)\n",
    "        locations = vcat(locations, first)\n",
    "\n",
    "        job_begins = rand(2:10)\n",
    "        job_finish = rand((job_begins+min_duration):(job_begins+max_duration))\n",
    "        push!(time_windows, [job_begins, job_finish])\n",
    "\n",
    "        time_work = rand(min_duration:max(min_duration, job_finish - job_begins))\n",
    "        push!(work_load, time_work)\n",
    "\n",
    "        for neighbour in 1:(size_c-1)\n",
    "            new_x = rand(Uniform(max(0,first[1]-20), min(first[1]+20, size)), 1, 1)\n",
    "            new_y = rand(Uniform(max(0,first[2]-20), min(first[2]+20, size)), 1, 1)\n",
    "            new = hcat(new_x, new_y)\n",
    "            locations = vcat(locations, new)\n",
    "\n",
    "            job_begins = rand(job_finish:min(T-min_duration-2, job_finish + 6))\n",
    "            job_finish = rand((job_begins+min_duration):(min(job_begins+max_duration, T-2)))\n",
    "            push!(time_windows, [job_begins, job_finish])\n",
    "\n",
    "            time_work = rand(min_duration:min(max_duration, job_finish-job_begins))\n",
    "            push!(work_load, time_work)\n",
    "        end\n",
    "    end\n",
    "    \n",
    "    return [time_windows, work_load, locations]\n",
    "end;"
   ]
  },
  {
   "cell_type": "code",
   "execution_count": 348,
   "id": "da915fd3",
   "metadata": {},
   "outputs": [],
   "source": [
    "time_windows, work_load, locations = create_time_windows_and_work_load(cluster, locations)\n",
    "distances = [LinearAlgebra.norm(locations[i, :] .- locations[j, :]) for i=1:n_jobs+1, j = 1:n_jobs+1];"
   ]
  },
  {
   "cell_type": "markdown",
   "id": "7e9036e6",
   "metadata": {},
   "source": [
    "# [2] Helper Methods"
   ]
  },
  {
   "cell_type": "markdown",
   "id": "adc7ecfe",
   "metadata": {},
   "source": [
    "## 2.1 Get initial routes"
   ]
  },
  {
   "cell_type": "code",
   "execution_count": 349,
   "id": "c75b044b",
   "metadata": {},
   "outputs": [],
   "source": [
    "routes = []\n",
    "\n",
    "for n in 1:n_jobs\n",
    "    job_route = []\n",
    "    dist = distances[1, n+1]\n",
    "\n",
    "    min_t = Int(floor(time_windows[n][1] - dist/speed))\n",
    "    max_t = Int(ceil(time_windows[n][2] + dist/speed))\n",
    "\n",
    "    push!(job_route, [[0, min_t], [n, time_windows[n][1]], dist])\n",
    "    \n",
    "    for t in time_windows[n][1]:(time_windows[n][2]-1)\n",
    "        push!(job_route, [[n, t], [n, t+1], 0])\n",
    "    end\n",
    "    \n",
    "    push!(job_route, [[n, time_windows[n][2]], [n_jobs+1, max_t],  dist])\n",
    "    push!(routes, job_route)\n",
    "    \n",
    "end"
   ]
  },
  {
   "cell_type": "markdown",
   "id": "da1a9c0e",
   "metadata": {},
   "source": [
    "## 2.2 Compute Cost"
   ]
  },
  {
   "cell_type": "code",
   "execution_count": 350,
   "id": "47ed8ef1",
   "metadata": {},
   "outputs": [],
   "source": [
    "function compute_cost(route)\n",
    "    cost = 0\n",
    "    for entity in route\n",
    "        cost += entity[3]\n",
    "    end\n",
    "    return cost\n",
    "end;"
   ]
  },
  {
   "cell_type": "code",
   "execution_count": 351,
   "id": "04052539",
   "metadata": {},
   "outputs": [],
   "source": [
    "C = []\n",
    "for i in 1:length(routes)\n",
    "    push!(C, compute_cost(routes[i]))\n",
    "end"
   ]
  },
  {
   "cell_type": "markdown",
   "id": "7efd9722",
   "metadata": {},
   "source": [
    "## 2.3 Compute Delta"
   ]
  },
  {
   "cell_type": "code",
   "execution_count": 352,
   "id": "6b301d04",
   "metadata": {},
   "outputs": [],
   "source": [
    "function compute_delta(routes)\n",
    "    Q = length(routes)\n",
    "    delta = [[[0.0 for q in 1:Q] for t in 1:T] for i in 1:n_jobs]\n",
    "    for rindex in 1:Q\n",
    "        route = routes[rindex]\n",
    "        for arc in route\n",
    "            loc1, time1 = arc[1]\n",
    "            loc2, time2 = arc[2]\n",
    "            if (loc1 != 0) & (loc1 != n_jobs + 1)\n",
    "                delta[loc1][time1][rindex] = 1\n",
    "            end\n",
    "            \n",
    "            if (loc2 != 0) & (loc2 != n_jobs + 1)\n",
    "                delta[loc2][time2][rindex] = 1\n",
    "            end\n",
    "        end\n",
    "    end\n",
    "    return delta\n",
    "end;"
   ]
  },
  {
   "cell_type": "code",
   "execution_count": 353,
   "id": "baeb7f50",
   "metadata": {},
   "outputs": [],
   "source": [
    "delta = compute_delta(routes);"
   ]
  },
  {
   "cell_type": "markdown",
   "id": "212cc1e7",
   "metadata": {},
   "source": [
    "## 2.4 Compute U"
   ]
  },
  {
   "cell_type": "code",
   "execution_count": 354,
   "id": "7f9f80bd",
   "metadata": {},
   "outputs": [],
   "source": [
    "function compute_u(routes)\n",
    "    Q = length(routes)\n",
    "    u = [[0 for q in 1:Q] for i in 1:n_jobs]\n",
    "    \n",
    "    for rindex in 1:Q\n",
    "        route = routes[rindex]\n",
    "        for arc in route\n",
    "            loc1 = arc[1][1]\n",
    "            loc2 = arc[2][1]\n",
    "            if (1 <= loc1 <= n_jobs)\n",
    "                u[loc1][rindex] = 1\n",
    "            end\n",
    "            if (1 <= loc2 <= n_jobs)\n",
    "                u[loc2][rindex] = 1\n",
    "            end\n",
    "        end\n",
    "    end\n",
    "    return u\n",
    "end;"
   ]
  },
  {
   "cell_type": "code",
   "execution_count": 355,
   "id": "f8adeb2b",
   "metadata": {},
   "outputs": [],
   "source": [
    "u = compute_u(routes);"
   ]
  },
  {
   "cell_type": "markdown",
   "id": "15481d5c",
   "metadata": {},
   "source": [
    "## 2.5 Label-Setting Algorithm"
   ]
  },
  {
   "cell_type": "code",
   "execution_count": 356,
   "id": "b883e20d",
   "metadata": {
    "scrolled": true
   },
   "outputs": [
    {
     "data": {
      "text/plain": [
       "sp_lsa (generic function with 2 methods)"
      ]
     },
     "execution_count": 356,
     "metadata": {},
     "output_type": "execute_result"
    }
   ],
   "source": [
    "function sp_lsa(n, travel_distance, travel_time, windows, load, rho_v, pi_v, mu_v, cool_stuff=false)\n",
    "    N = [[1]] \n",
    "    T = [ [0] ] \n",
    "    R = [rho_v]  \n",
    "    L = [1]  \n",
    "    A = [true] \n",
    "    \n",
    "    #= Two parameters which are good if you're visualizing\n",
    "    how quickly the number if iterations catches up\n",
    "    to the total number of routes generated\n",
    "    =#\n",
    "    current_states = []\n",
    "    total_states = []\n",
    "    \n",
    "    current_state = 1\n",
    "    total_state = 1\n",
    "    \n",
    "    #=\n",
    "    NOTE: For pi_v, u_v, mu_v, and delta_v, there is no defined value\n",
    "    for the actual depot. We will be using -1's for indexing quite liberally,\n",
    "    as in our loop, 1 = n+2 = depot, when in 'reality', this should be 0 = n+!.\n",
    "    \n",
    "    This is also the case for variables windows and load. This happened last LSA too.\n",
    "    =#\n",
    "    \n",
    "    while 1==1\n",
    "        \n",
    "        # STEP 1: Check whether we want to move on to checking the next path\n",
    "        if (L[current_state] == n+2) | (~A[current_state])\n",
    "            current_state += 1\n",
    "            if current_state > total_state\n",
    "                print(current_state, \" \", total_state, \" nothing more to check\")\n",
    "                break\n",
    "            else\n",
    "                continue\n",
    "            end\n",
    "        end\n",
    "        \n",
    "        # STEP 2: Enter the for loop.\n",
    "        for i in 2:(n+2)\n",
    "            \n",
    "            if cool_stuff\n",
    "                push!(current_states, current_state)\n",
    "                push!(total_states, total_state)\n",
    "            end\n",
    "            \n",
    "            # STEP 2-1: Check that the current node is not already inside our path.\n",
    "            if ~(i in N[current_state])\n",
    "                \n",
    "                #= STEP 2-2: Feasibility check. We must have enough time\n",
    "                to go from our current location (end time T[current_state]), plus\n",
    "                the travel time from that end node to the new node (travel_time[L[current_state], i]),\n",
    "                plus the amount of time it takes to work the OLD job (load[L[current_state]-1]),\n",
    "                plus the amount of time it takes to work the NEW job (load[i-1])\n",
    "                \n",
    "                this must be smaller than or equal to the end time of the window for the NEW job (windows[i-1][2])\n",
    "                =#\n",
    "                if L[current_state] != 1\n",
    "                    cur_time = last(T[current_state])\n",
    "                    dist_nec = travel_time[L[current_state], i]\n",
    "                    old_job_time_nec = load[L[current_state]-1] #out of our parameters this one has no depot pad\n",
    "                    new_job_time_nec = load[i-1]\n",
    "                    new_window_close = windows[i-1][2]\n",
    "                    \n",
    "                    #if invalid, don't bother\n",
    "                    if cur_time + dist_nec + old_job_time_nec + new_job_time_nec > new_window_close\n",
    "                        continue\n",
    "                    end\n",
    "                end\n",
    "                \n",
    "                #= STEP 2-3: By the design of our algorithm, sometimes we create a new and\n",
    "                invalid path on index total_state + 1. Either we did create that\n",
    "                invalid path, or we did not. But the goal of entering this inner for loop\n",
    "                remains the same: we want to add something to our path.\n",
    "                =#\n",
    "                \n",
    "                # STEP 2-3-1: We did not create an invalid path earlier\n",
    "                if length(N) < total_state + 1\n",
    "                    \n",
    "                    # First, copy the original state so we can modify it\n",
    "                    push!(N, copy(N[current_state]))\n",
    "                    # Add this new, guaranteed-to-be-valid, node.\n",
    "                    push!(N[total_state+1], i)\n",
    "                    \n",
    "                    # Time is going to be when we GET to the final node.\n",
    "                    \n",
    "                    #= I argue that we also need to include a work load term into the \n",
    "                    term bounded by current_time + necessary_travel_distance.\n",
    "                    \n",
    "                    This is because there's no point in going to an old place, not \n",
    "                    doing any work, and then going away to some new place.\n",
    "                    \n",
    "                    So in reality the check becomes tripartite.\n",
    "                    =#\n",
    "                    cur_time = last(T[current_state])\n",
    "                    dist_nec = travel_time[L[current_state], i]\n",
    "                    old_job_time = L[current_state] > 1 ? load[L[current_state]-1] : 0\n",
    "                    new_window_start = windows[i-1][1]\n",
    "                    new_times_array = copy(T[current_state])\n",
    "                    push!(new_times_array, max(cur_time + dist_nec + old_job_time, new_window_start))\n",
    "                    push!(T, new_times_array)\n",
    "                    \n",
    "                    # Cost.\n",
    "                    # ADD the segment distance.\n",
    "                    add_segdist = travel_distance[L[current_state], i]\n",
    "                    # SUBTRACT pi_i.\n",
    "                    subtract_pi = i < n+2 ? -pi_v[i-1] : 0\n",
    "                    # SUBTRACT mu_it.\n",
    "                    subtract_mu = i < n+2 ? -mu_v[i-1, last(last(T))] : 0\n",
    "                    \n",
    "                    push!(R, R[current_state] + add_segdist + subtract_pi + subtract_mu)\n",
    "                    \n",
    "                    # Last node is updated.\n",
    "                    push!(L, i)\n",
    "                    \n",
    "                    # Update feasibility.\n",
    "                    push!(A, true)\n",
    "                    \n",
    "                # STEP 2-3-2: We created an invalid path earlier\n",
    "                else\n",
    "                    # Change the path\n",
    "                    N[total_state + 1] = N[current_state]\n",
    "                    push!(N[total_state+1], i)\n",
    "                    \n",
    "                    # Change the time\n",
    "                    cur_time = last(T[current_state])\n",
    "                    dist_nec = travel_time[L[current_state], i]\n",
    "                    old_job_time = L[current_state] > 1 ? load[L[current_state]-1] : 0\n",
    "                    new_window_start = windows[i-1][1]\n",
    "                    new_times_array = copy(T[current_state])\n",
    "                    push!(new_times_array, max(cur_time + dist_nec + old_job_time, new_window_start))\n",
    "                    T[total_state+1] = copy(new_times_array)\n",
    "                    \n",
    "                    # Change the cost - watch out for if we're going back to depot on pi and mu!\n",
    "                    add_segdist = travel_distance[L[current_state], i]\n",
    "                    subtract_pi = i < n+2 ? -pi_v[i-1] : 0\n",
    "                    subtract_mu = i < n+2 ? -mu_v[i-1, last(last(T))] : 0\n",
    "                    R[total_state + 1] = R[current_state] + add_segdist + subtract_pi + subtract_mu\n",
    "                    \n",
    "                    # Change the last node\n",
    "                    L[total_state+1] = i\n",
    "                    \n",
    "                    # Change the feasibility\n",
    "                    A[total_state+1] = true\n",
    "                end \n",
    "                \n",
    "                # STEP 2-4: Reviewing true Bellman-Ford step: if a path is totally dominated by another.\n",
    "                NDom = true\n",
    "                \n",
    "                #= Iterate over all old paths and check if they have the same start (guaranteed)\n",
    "                and end point. If they do, check which cost is lower. =#\n",
    "                for s in 1:total_state\n",
    "                    # Is the route feasible?\n",
    "                    if A[s]\n",
    "                        # if so, do they share the same start and end?\n",
    "                        if (issetequal(N[total_state+1], N[s])) & (L[total_state+1] == L[s])\n",
    "                            # New path is too bad, overwrite it later\n",
    "                            if R[total_state+1] > R[s]\n",
    "                                NDom = false\n",
    "                                break\n",
    "                            # Old path is too bad, declare it not valid and proceed to NDom add total state\n",
    "                            else\n",
    "                                A[s] = false\n",
    "                            end\n",
    "                        end\n",
    "                    end\n",
    "                end\n",
    "                \n",
    "                # New state good enough, it's set in stone and we add\n",
    "                if NDom \n",
    "                    total_state += 1\n",
    "                end\n",
    "        \n",
    "            end\n",
    "        end\n",
    "        \n",
    "        current_state += 1 # concluded iteration for that state in mind. Now next one\n",
    "        \n",
    "        #= It's possible that we've just caught up to the final total state, meaning we didn't generate\n",
    "        anything and can stop here. =#\n",
    "        if current_state == total_state\n",
    "            print(current_state, \" \", total_state, \" came from bottom\")\n",
    "            break\n",
    "        end     \n",
    "    end\n",
    "    \n",
    "    #= It is not actually necessary to return L. This was a helpful parameter which we\n",
    "    embedded in order to aid computation. But if we needed to get L, we would just go to \n",
    "    the path of concern and extract last([path_of_concern]). =#\n",
    "    \n",
    "    if ~cool_stuff\n",
    "        return N, A, R, T\n",
    "    else\n",
    "        return N, A, R, T, current_states, total_states\n",
    "    end\n",
    "end"
   ]
  },
  {
   "cell_type": "markdown",
   "id": "d36fc31b",
   "metadata": {},
   "source": [
    "### 2.5.1 Label-Setting Algorithm Constant Variables"
   ]
  },
  {
   "cell_type": "code",
   "execution_count": 357,
   "id": "47dbdd49",
   "metadata": {},
   "outputs": [],
   "source": [
    "distances_label = deepcopy(distances)\n",
    "distances_label = hcat(distances_label, distances_label[:, 1])\n",
    "distances_label = vcat(distances_label, collect(push!(distances_label[:, 1], 0)'));"
   ]
  },
  {
   "cell_type": "code",
   "execution_count": 358,
   "id": "07ed2e76",
   "metadata": {},
   "outputs": [],
   "source": [
    "travel_times = ceil.(distances_label / speed);"
   ]
  },
  {
   "cell_type": "code",
   "execution_count": 359,
   "id": "991d93d8",
   "metadata": {},
   "outputs": [],
   "source": [
    "windows_label = deepcopy(time_windows)\n",
    "push!(windows_label, [0, 100]);"
   ]
  },
  {
   "cell_type": "code",
   "execution_count": 360,
   "id": "d483974d",
   "metadata": {},
   "outputs": [],
   "source": [
    "load_label = deepcopy(work_load)\n",
    "push!(load_label, 0);"
   ]
  },
  {
   "cell_type": "markdown",
   "id": "e7fe489e",
   "metadata": {},
   "source": [
    "## 2.6 Extract Best Route in SP"
   ]
  },
  {
   "cell_type": "code",
   "execution_count": 361,
   "id": "fb9157c8",
   "metadata": {},
   "outputs": [],
   "source": [
    "function extract_best_route(sub_paths, sub_bool, sub_rc, sub_times)\n",
    "    best_index = 1\n",
    "    best_cost = 1\n",
    "\n",
    "    for i in 1:length(sub_paths)\n",
    "\n",
    "        ends_at_depot = (last(sub_paths[i]) == n_jobs + 2)\n",
    "        negative_reduced_cost = (sub_rc[i] < -1e-5)\n",
    "        time_fine = (last(sub_times[i]) <= T)\n",
    "\n",
    "        if (ends_at_depot && negative_reduced_cost && time_fine && sub_bool[i])\n",
    "            if sub_rc[i] < best_cost\n",
    "                best_index = i\n",
    "                best_cost = sub_rc[i]\n",
    "            end\n",
    "        end\n",
    "    end\n",
    "\n",
    "    if best_cost >= -1e-5\n",
    "        println(\"We have concluded our column generation because nothing better is to be found!\")\n",
    "        println(\"The solution you found above is optimal.\")\n",
    "        return\n",
    "    end\n",
    "    \n",
    "    return sub_paths[best_index], sub_rc[best_index], sub_times[best_index]\n",
    "end;"
   ]
  },
  {
   "cell_type": "markdown",
   "id": "ee00b6a9",
   "metadata": {},
   "source": [
    "## 2.7 Generate full time info on route"
   ]
  },
  {
   "cell_type": "code",
   "execution_count": 362,
   "id": "7bc59d84",
   "metadata": {},
   "outputs": [],
   "source": [
    "function generate_full_time_info(best_route, best_times)\n",
    "    best_route_info = []\n",
    "    for locindex in 1:length(best_route)-1\n",
    "        #=\n",
    "        Strategy:\n",
    "        If you are not at a job location, you don't need to capture\n",
    "        stationary information. Otherwise you do.\n",
    "\n",
    "        Anyways we want data moving from one to the next.\n",
    "        =#\n",
    "        cur_loc = best_route[locindex]\n",
    "        cur_time = best_times[locindex]\n",
    "        time_to_start_moving = best_times[locindex]\n",
    "\n",
    "        #stationary data comes first.\n",
    "        if 1 < locindex < n_jobs + 2\n",
    "            cur_job_num = cur_loc - 1 # delete padding!\n",
    "\n",
    "            #stay stationary for however long it takes for you to do the job\n",
    "\n",
    "            # Note: eventually this will have to be modified to include coverage.\n",
    "            # Eventually we will write a subproblem-tells-us-when-work-is-done component.\n",
    "\n",
    "            for time in cur_time:cur_time+work_load[cur_job_num]-1\n",
    "                route_detail = [ [cur_loc-1, time], [cur_loc-1, time+1], 0]\n",
    "                push!(best_route_info, route_detail)\n",
    "            end\n",
    "\n",
    "            time_to_start_moving += work_load[cur_job_num]\n",
    "        end\n",
    "\n",
    "        new_loc = best_route[locindex+1]\n",
    "        #then if we move, we move.\n",
    "        route_detail = [ [cur_loc-1, time_to_start_moving], [new_loc-1, best_times[locindex+1]], distances_label[cur_loc, new_loc]]\n",
    "        push!(best_route_info, route_detail)\n",
    "    end\n",
    "\n",
    "    return best_route_info\n",
    "end;"
   ]
  },
  {
   "cell_type": "markdown",
   "id": "3c8081b7",
   "metadata": {},
   "source": [
    "# [3] Column Generation Loop"
   ]
  },
  {
   "cell_type": "markdown",
   "id": "516254f5",
   "metadata": {},
   "source": [
    "## [3.1] Initial Run"
   ]
  },
  {
   "cell_type": "markdown",
   "id": "108c352a",
   "metadata": {},
   "source": [
    "### [3.1.1] Run RMP"
   ]
  },
  {
   "cell_type": "code",
   "execution_count": 363,
   "id": "840d8bdb",
   "metadata": {},
   "outputs": [
    {
     "name": "stdout",
     "output_type": "stream",
     "text": [
      "Set parameter Username\n",
      "Academic license - for non-commercial use only - expires 2023-09-04\n"
     ]
    }
   ],
   "source": [
    "modelcg = Model(Gurobi.Optimizer);"
   ]
  },
  {
   "cell_type": "code",
   "execution_count": 473,
   "id": "1bb01187",
   "metadata": {
    "scrolled": true
   },
   "outputs": [
    {
     "data": {
      "text/plain": [
       "30"
      ]
     },
     "execution_count": 473,
     "metadata": {},
     "output_type": "execute_result"
    }
   ],
   "source": [
    "Q = length(routes)"
   ]
  },
  {
   "cell_type": "code",
   "execution_count": 474,
   "id": "36b6ec84",
   "metadata": {},
   "outputs": [],
   "source": [
    "unregister(modelcg, :z)\n",
    "unregister(modelcg, :y_s)\n",
    "unregister(modelcg, :y_e)\n",
    "@variable(modelcg, 0 <= z[1:Q] <= 1) # should be Bin\n",
    "@variable(modelcg, 0 <= y_s[1:n_jobs, 1:T] <= 1) # should be Bin\n",
    "@variable(modelcg, 0 <= y_e[1:n_jobs, 1:T] <= 1); # should be Bin"
   ]
  },
  {
   "cell_type": "code",
   "execution_count": 475,
   "id": "c47e578b",
   "metadata": {},
   "outputs": [],
   "source": [
    "unregister(modelcg, :unique)\n",
    "@constraint(modelcg, unique[i in 1:n_jobs], sum(u[i][q] * z[q] for q in 1:Q) >= 1);"
   ]
  },
  {
   "cell_type": "code",
   "execution_count": 476,
   "id": "ae4c32e0",
   "metadata": {},
   "outputs": [],
   "source": [
    "unregister(modelcg, :driver)\n",
    "@constraint(modelcg, driver, sum(z[q] for q in 1:Q) <= n_vehicles_jobs)\n",
    "\n",
    "unregister(modelcg, :start)\n",
    "unregister(modelcg, :ends)\n",
    "@constraint(modelcg, start[i in 1:n_jobs, t in 1:(T-1)], y_s[i,t] <= y_s[i,t+1])\n",
    "@constraint(modelcg, ends[i in 1:n_jobs, t in 1:(T-1)], y_e[i,t] <= y_e[i,t+1])\n",
    "unregister(modelcg, :window_start)\n",
    "unregister(modelcg, :window_ends)\n",
    "@constraint(modelcg, window_start[i in 1:n_jobs, t in 1:(time_windows[i][1]-1)], y_s[i,t] == 0)\n",
    "@constraint(modelcg, window_ends[i in 1:n_jobs, t in time_windows[i][2]:T], y_e[i,t] == 1)\n",
    "unregister(modelcg, :duration)\n",
    "@constraint(modelcg, duration[i in 1:n_jobs], sum(y_s[i,t] - y_e[i,t] for t in 1:T) >= work_load[i])\n",
    "unregister(modelcg, :work)\n",
    "@constraint(modelcg, work[i in 1:n_jobs, t in 1:(T-1)], \n",
    "    y_s[i, t] - y_e[i, t] <= sum(z[q] * delta[i][t][q] for q in 1:Q));"
   ]
  },
  {
   "cell_type": "code",
   "execution_count": 477,
   "id": "a9fe54b5",
   "metadata": {},
   "outputs": [],
   "source": [
    "unregister(modelcg, :coverage)\n",
    "@constraint(modelcg, coverage[i in 1:n_jobs, t in 1:T], y_s[i, t] - y_e[i, t] <= 1);"
   ]
  },
  {
   "cell_type": "code",
   "execution_count": 478,
   "id": "0a5f52ba",
   "metadata": {},
   "outputs": [],
   "source": [
    "@objective(modelcg, Min, sum(compute_cost(routes[q]) * z[q] for q in 1:Q));"
   ]
  },
  {
   "cell_type": "code",
   "execution_count": 482,
   "id": "15e3d5a2",
   "metadata": {
    "scrolled": true
   },
   "outputs": [
    {
     "name": "stdout",
     "output_type": "stream",
     "text": [
      "Gurobi Optimizer version 9.5.2 build v9.5.2rc0 (mac64[x86])\n",
      "Thread count: 4 physical cores, 8 logical processors, using up to 8 threads\n",
      "Optimize a model with 36756 rows, 15165 columns and 82510 nonzeros\n",
      "Coefficient statistics:\n",
      "  Matrix range     [1e+00, 1e+00]\n",
      "  Objective range  [1e+02, 9e+02]\n",
      "  Bounds range     [1e+00, 1e+00]\n",
      "  RHS range        [1e+00, 2e+01]\n",
      "\n",
      "Solved in 0 iterations and 0.00 seconds (0.00 work units)\n",
      "Optimal objective  4.670168240e+03\n",
      "\n",
      "User-callback calls 12, time in user-callback 0.00 sec\n"
     ]
    }
   ],
   "source": [
    "optimize!(modelcg)"
   ]
  },
  {
   "cell_type": "markdown",
   "id": "6711641f",
   "metadata": {},
   "source": [
    "### [3.1.2] Get Dual Variables"
   ]
  },
  {
   "cell_type": "code",
   "execution_count": 483,
   "id": "8f234a24",
   "metadata": {},
   "outputs": [],
   "source": [
    "pi_values = dual.(unique)\n",
    "rho_value = dual.(driver)\n",
    "mu_values = dual.(work);"
   ]
  },
  {
   "cell_type": "markdown",
   "id": "1e066802",
   "metadata": {},
   "source": [
    "### [3.1.3] Use Subproblem LSA"
   ]
  },
  {
   "cell_type": "code",
   "execution_count": 485,
   "id": "41b0e912",
   "metadata": {
    "scrolled": false
   },
   "outputs": [
    {
     "ename": "LoadError",
     "evalue": "InterruptException:",
     "output_type": "error",
     "traceback": [
      "InterruptException:",
      "",
      "Stacktrace:",
      "  [1] Array",
      "    @ ./boot.jl:477 [inlined]",
      "  [2] Array",
      "    @ ./boot.jl:486 [inlined]",
      "  [3] zeros",
      "    @ ./array.jl:584 [inlined]",
      "  [4] zeros",
      "    @ ./array.jl:580 [inlined]",
      "  [5] Dict{Int64, Nothing}()",
      "    @ Base ./dict.jl:70",
      "  [6] Set",
      "    @ ./set.jl:45 [inlined]",
      "  [7] Set",
      "    @ ./set.jl:47 [inlined]",
      "  [8] _Set",
      "    @ ./set.jl:59 [inlined]",
      "  [9] Set",
      "    @ ./set.jl:58 [inlined]",
      " [10] issetequal",
      "    @ ./abstractset.jl:435 [inlined]",
      " [11] issetequal(a::Vector{Int64}, b::Vector{Int64})",
      "    @ Base ./abstractset.jl:439",
      " [12] sp_lsa(n::Int64, travel_distance::Matrix{Float64}, travel_time::Matrix{Float64}, windows::Vector{Any}, load::Vector{Any}, rho_v::Float64, pi_v::Vector{Float64}, mu_v::Matrix{Float64}, cool_stuff::Bool)",
      "    @ Main ./In[356]:156"
     ]
    }
   ],
   "source": [
    "sub_paths, sub_bool, sub_rc, sub_times = sp_lsa(n_jobs, distances_label, travel_times, windows_label, load_label, rho_value, pi_values, mu_values, true);"
   ]
  },
  {
   "cell_type": "markdown",
   "id": "3d0f90c3",
   "metadata": {},
   "source": [
    "### [3.1.4] Extract the best route with most negative reduced cost"
   ]
  },
  {
   "cell_type": "code",
   "execution_count": 468,
   "id": "081971b5",
   "metadata": {
    "scrolled": true
   },
   "outputs": [],
   "source": [
    "best_route, best_rc, best_times = extract_best_route(sub_paths, sub_bool, sub_rc, sub_times);"
   ]
  },
  {
   "cell_type": "markdown",
   "id": "c619e2e6",
   "metadata": {},
   "source": [
    "### [3.1.5] Generate full time info on best route"
   ]
  },
  {
   "cell_type": "code",
   "execution_count": 469,
   "id": "abe7a644",
   "metadata": {},
   "outputs": [],
   "source": [
    "best_route_info = generate_full_time_info(best_route, best_times);"
   ]
  },
  {
   "cell_type": "markdown",
   "id": "b359e402",
   "metadata": {},
   "source": [
    "### [3.1.6] Add best route info to Q"
   ]
  },
  {
   "cell_type": "code",
   "execution_count": 470,
   "id": "bc20816a",
   "metadata": {
    "scrolled": false
   },
   "outputs": [],
   "source": [
    "push!(routes, best_route_info);"
   ]
  },
  {
   "cell_type": "markdown",
   "id": "48886181",
   "metadata": {},
   "source": [
    "### [3.1.7] Update Parameters"
   ]
  },
  {
   "cell_type": "code",
   "execution_count": 471,
   "id": "68019de7",
   "metadata": {},
   "outputs": [],
   "source": [
    "u = compute_u(routes)\n",
    "delta = compute_delta(routes);"
   ]
  },
  {
   "cell_type": "code",
   "execution_count": 472,
   "id": "ed46cc66",
   "metadata": {},
   "outputs": [],
   "source": [
    "C = []\n",
    "for i in 1:length(routes)\n",
    "    push!(C, compute_cost(routes[i]))\n",
    "end;"
   ]
  }
 ],
 "metadata": {
  "kernelspec": {
   "display_name": "Julia 1.9.1",
   "language": "julia",
   "name": "julia-1.9"
  },
  "language_info": {
   "file_extension": ".jl",
   "mimetype": "application/julia",
   "name": "julia",
   "version": "1.9.1"
  }
 },
 "nbformat": 4,
 "nbformat_minor": 5
}
