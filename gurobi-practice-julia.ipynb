{
 "cells": [
  {
   "cell_type": "markdown",
   "id": "c17e4944",
   "metadata": {},
   "source": [
    "# Gurobi Practice - Summer Week 1\n",
    "\n",
    "There are three sections to this file:\n",
    "\n",
    "- Gurobi Tutorials\n",
    "\n",
    "- 6.720 Recitations\n",
    "\n",
    "- JuMP Tutorials"
   ]
  },
  {
   "cell_type": "markdown",
   "id": "9b609dc5",
   "metadata": {},
   "source": [
    "# Gurobi Tutorials"
   ]
  },
  {
   "cell_type": "markdown",
   "id": "a6df4f8f",
   "metadata": {},
   "source": [
    "The goal of this is to warm up and train coding skills in Gurobi. This will be based on several Gurobi tutorials.\n",
    "\n",
    "Many of these steps are fundamental to solving the column generation in the UROP. For me, this was essential and necessary, and I have successfully gotten over some humps that I couldn't in the spring."
   ]
  },
  {
   "cell_type": "code",
   "execution_count": 2,
   "id": "fcd23477",
   "metadata": {},
   "outputs": [],
   "source": [
    "using LinearAlgebra, Random, Gurobi, JuMP, Distributions, LazySets"
   ]
  },
  {
   "cell_type": "markdown",
   "id": "e9f4cd48",
   "metadata": {},
   "source": [
    "## Linear Programming: Gurobi Tutorial"
   ]
  },
  {
   "cell_type": "markdown",
   "id": "49c776d8",
   "metadata": {},
   "source": [
    "### Writing the Model\n",
    "A short model for furniture in the Gurobi series on Linear Programming."
   ]
  },
  {
   "cell_type": "code",
   "execution_count": 21,
   "id": "411d0a9d",
   "metadata": {},
   "outputs": [
    {
     "name": "stdout",
     "output_type": "stream",
     "text": [
      "Set parameter Username\n",
      "Academic license - for non-commercial use only - expires 2023-09-04\n",
      "Gurobi Optimizer version 9.5.2 build v9.5.2rc0 (mac64[x86])\n",
      "Thread count: 4 physical cores, 8 logical processors, using up to 8 threads\n",
      "Optimize a model with 4 rows, 2 columns and 6 nonzeros\n",
      "Model fingerprint: 0x73c67f7c\n",
      "Coefficient statistics:\n",
      "  Matrix range     [1e+00, 2e+01]\n",
      "  Objective range  [4e+01, 8e+01]\n",
      "  Bounds range     [0e+00, 0e+00]\n",
      "  RHS range        [4e+02, 4e+02]\n",
      "Presolve removed 2 rows and 0 columns\n",
      "Presolve time: 0.00s\n",
      "Presolved: 2 rows, 2 columns, 4 nonzeros\n",
      "\n",
      "Iteration    Objective       Primal Inf.    Dual Inf.      Time\n",
      "       0    3.6000000e+03   5.682900e+01   0.000000e+00      0s\n",
      "       2    2.2000000e+03   0.000000e+00   0.000000e+00      0s\n",
      "\n",
      "Solved in 2 iterations and 0.00 seconds (0.00 work units)\n",
      "Optimal objective  2.200000000e+03\n",
      "\n",
      "User-callback calls 41, time in user-callback 0.00 sec\n"
     ]
    }
   ],
   "source": [
    "furniture = Model(Gurobi.Optimizer);\n",
    "\n",
    "@variable(furniture, x1, base_name = \"chairs\") # chairs\n",
    "@variable(furniture, x2, base_name = \"tables\") # tables\n",
    "\n",
    "@objective(furniture, Max, 45*x1+80*x2)\n",
    "\n",
    "@constraint(furniture, 5*x1+20*x2 <= 400, base_name = \"wood_constraint\")\n",
    "@constraint(furniture, 10*x1 + 15*x2 <= 450, base_name = \"labor_constraint\")\n",
    "\n",
    "#well these trivial constraints have to be set\n",
    "@constraint(furniture, x1 >= 0, base_name = \"non-negative chairs\")\n",
    "@constraint(furniture, x2 >= 0, base_name = \"non-negative tables\")\n",
    "\n",
    "\n",
    "optimize!(furniture)"
   ]
  },
  {
   "cell_type": "markdown",
   "id": "818dc63f",
   "metadata": {},
   "source": [
    "Matrix range represents smallest and largest coefficients in the A of Ax <= b.\n",
    "\n",
    "Objective range represents smallest and largest coefficients in the c of max cx.\n",
    "\n",
    "Bounds range represents smallest and largest values of the x.\n",
    "\n",
    "RHS range tells us the smallest and largest coefficients in the b of Ax <= b."
   ]
  },
  {
   "cell_type": "markdown",
   "id": "5f0c5cb7",
   "metadata": {},
   "source": [
    "### Property Extraction from Model\n",
    "This took a surprisingly long time and relied on multiple searches on JuMP documentation, Stack Overflow, and video tutorials. It appears the Python version of Gurobi, gurobipy, is more straightforward for calculating these properties. Looks like I just needed to sit down and code for a whole day.\n",
    "\n",
    "This was also one of the things I tried to do in the spring, but failed. Now I have worked it out successfully."
   ]
  },
  {
   "cell_type": "code",
   "execution_count": 4,
   "id": "295fbd21",
   "metadata": {
    "scrolled": true
   },
   "outputs": [
    {
     "name": "stdout",
     "output_type": "stream",
     "text": [
      "24.0 Chairs\n",
      "14.0 Tables\n",
      "All variables of the furniture model: VariableRef[chairs, tables]\n",
      "wood_constraint : 5 chairs + 20 tables ≤ 400.0\n",
      "labor_constraint : 10 chairs + 15 tables ≤ 450.0\n",
      "All constraints of the furniture model, INCLUDING individual variable constraints:\n",
      " ConstraintRef[non-negative chairs : chairs ≥ 0.0, non-negative tables : tables ≥ 0.0, wood_constraint : 5 chairs + 20 tables ≤ 400.0, labor_constraint : 10 chairs + 15 tables ≤ 450.0]\n",
      "All constraints of the furniture model, EXCLUDING individual variable constraints:\n",
      " ConstraintRef[non-negative chairs : chairs ≥ 0.0, non-negative tables : tables ≥ 0.0, wood_constraint : 5 chairs + 20 tables ≤ 400.0, labor_constraint : 10 chairs + 15 tables ≤ 450.0]\n"
     ]
    }
   ],
   "source": [
    "using JuMP\n",
    "using MathOptInterface\n",
    "\n",
    "#=\n",
    "VARIABLES.\n",
    "https://jump.dev/JuMP.jl/v0.20.0/variables/index.html#Variables-1\n",
    "=#\n",
    "#variable_by_name found in StackOverflow\n",
    "\n",
    "chairs = variable_by_name(furniture, \"chairs\")\n",
    "print(value.(chairs), \" Chairs\\n\")\n",
    "tables = variable_by_name(furniture, \"tables\")\n",
    "print(value.(tables), \" Tables\\n\")\n",
    "\n",
    "print(\"All variables of the furniture model: \", all_variables(furniture), \"\\n\")\n",
    "\n",
    "#=\n",
    "CONSTRAINTS.\n",
    "https://jump.dev/JuMP.jl/stable/manual/constraints/\n",
    "=#\n",
    "wood = constraint_by_name(furniture, \"wood_constraint\")\n",
    "print(wood, \"\\n\")\n",
    "labor = constraint_by_name(furniture, \"labor_constraint\")\n",
    "print(labor, \"\\n\")\n",
    "\n",
    "#=\n",
    "The reason including and excluding are exactly the same is because\n",
    "the 'implicit' constraints >= 0 were explicitly laid out.\n",
    "Had I used e.g. Int variables instead, then there would be a difference\n",
    "between the including and excluding cases because then the >= 0 \n",
    "is in \"including\" but not \"excluding\"\n",
    "=#\n",
    "print(\"All constraints of the furniture model, INCLUDING individual variable constraints:\\n \", all_constraints(furniture; include_variable_in_set_constraints = true), \"\\n\")\n",
    "print(\"All constraints of the furniture model, EXCLUDING individual variable constraints:\\n \", all_constraints(furniture; include_variable_in_set_constraints = false), \"\\n\")"
   ]
  },
  {
   "cell_type": "markdown",
   "id": "75f5a9b9",
   "metadata": {},
   "source": [
    "Here's an example of an integer variable whose integer requirement shows up in inclusive but not exclusive individual variable constraints."
   ]
  },
  {
   "cell_type": "code",
   "execution_count": 5,
   "id": "bcf0bab5",
   "metadata": {
    "scrolled": true
   },
   "outputs": [
    {
     "name": "stdout",
     "output_type": "stream",
     "text": [
      "All constraints of the furniture model, INCLUDING individual variable constraints:\n",
      " ConstraintRef[non-negative chairs : chairs ≥ 0.0, non-negative tables : tables ≥ 0.0, wood_constraint : 5 chairs + 20 tables ≤ 400.0, labor_constraint : 10 chairs + 15 tables ≤ 450.0, integer_trial integer]\n",
      "All constraints of the furniture model, EXCLUDING individual variable constraints:\n",
      " ConstraintRef[non-negative chairs : chairs ≥ 0.0, non-negative tables : tables ≥ 0.0, wood_constraint : 5 chairs + 20 tables ≤ 400.0, labor_constraint : 10 chairs + 15 tables ≤ 450.0]\n"
     ]
    }
   ],
   "source": [
    "@variable(furniture, trial_var, Int, base_name = \"integer_trial\")\n",
    "\n",
    "print(\"All constraints of the furniture model, INCLUDING individual variable constraints:\\n \", all_constraints(furniture; include_variable_in_set_constraints = true), \"\\n\")\n",
    "print(\"All constraints of the furniture model, EXCLUDING individual variable constraints:\\n \", all_constraints(furniture; include_variable_in_set_constraints = false), \"\\n\")"
   ]
  },
  {
   "cell_type": "markdown",
   "id": "68a709f7",
   "metadata": {},
   "source": [
    "Now, we can practice with the all variables."
   ]
  },
  {
   "cell_type": "code",
   "execution_count": 6,
   "id": "b879c486",
   "metadata": {
    "scrolled": true
   },
   "outputs": [
    {
     "name": "stdout",
     "output_type": "stream",
     "text": [
      "Gurobi Optimizer version 9.5.2 build v9.5.2rc0 (mac64[x86])\n",
      "Thread count: 4 physical cores, 8 logical processors, using up to 8 threads\n",
      "Optimize a model with 4 rows, 3 columns and 6 nonzeros\n",
      "Model fingerprint: 0x9c9d8adc\n",
      "Variable types: 2 continuous, 1 integer (0 binary)\n",
      "Coefficient statistics:\n",
      "  Matrix range     [1e+00, 2e+01]\n",
      "  Objective range  [4e+01, 8e+01]\n",
      "  Bounds range     [0e+00, 0e+00]\n",
      "  RHS range        [4e+02, 4e+02]\n",
      "Found heuristic solution: objective 2025.0000000\n",
      "Presolve removed 2 rows and 1 columns\n",
      "Presolve time: 0.00s\n",
      "Presolved: 2 rows, 2 columns, 4 nonzeros\n",
      "Variable types: 2 continuous, 0 integer (0 binary)\n",
      "\n",
      "Root relaxation: objective 2.200000e+03, 2 iterations, 0.00 seconds (0.00 work units)\n",
      "\n",
      "    Nodes    |    Current Node    |     Objective Bounds      |     Work\n",
      " Expl Unexpl |  Obj  Depth IntInf | Incumbent    BestBd   Gap | It/Node Time\n",
      "\n",
      "*    0     0               0    2200.0000000 2200.00000  0.00%     -    0s\n",
      "\n",
      "Explored 1 nodes (2 simplex iterations) in 0.01 seconds (0.00 work units)\n",
      "Thread count was 8 (of 8 available processors)\n",
      "\n",
      "Solution count 1: 2200 \n",
      "\n",
      "Optimal solution found (tolerance 1.00e-04)\n",
      "Best objective 2.200000000000e+03, best bound 2.200000000000e+03, gap 0.0000%\n",
      "\n",
      "User-callback calls 142, time in user-callback 0.00 sec\n",
      "chairs 24.0\n",
      "tables 14.0\n",
      "integer_trial 0.0\n"
     ]
    }
   ],
   "source": [
    "all_furniture_vars = all_variables(furniture)\n",
    "\n",
    "optimize!(furniture)\n",
    "\n",
    "for var in all_furniture_vars\n",
    "    print(var, \" \")\n",
    "    print(value.(var), \"\\n\")\n",
    "end"
   ]
  },
  {
   "cell_type": "markdown",
   "id": "5bc7c64e",
   "metadata": {},
   "source": [
    "Results are as expected."
   ]
  },
  {
   "cell_type": "markdown",
   "id": "8e7c301e",
   "metadata": {},
   "source": [
    "The Gurobi tutorial, which is written in gurobipy, uses a multidict function with products and resources as keys and their numbers as values."
   ]
  },
  {
   "cell_type": "code",
   "execution_count": 23,
   "id": "124c51dd",
   "metadata": {},
   "outputs": [
    {
     "name": "stdout",
     "output_type": "stream",
     "text": [
      "2200.0"
     ]
    }
   ],
   "source": [
    "#final step\n",
    "print(objective_value(furniture))"
   ]
  },
  {
   "cell_type": "markdown",
   "id": "9bf97ff8",
   "metadata": {},
   "source": [
    "### Shadow Prices\n",
    "\n",
    "<b>We will fix this at the end of this notebook!</b>"
   ]
  },
  {
   "cell_type": "code",
   "execution_count": 103,
   "id": "100edd25",
   "metadata": {
    "scrolled": true
   },
   "outputs": [
    {
     "ename": "LoadError",
     "evalue": "The shadow price is not available because no dual result is available.",
     "output_type": "error",
     "traceback": [
      "The shadow price is not available because no dual result is available.",
      "",
      "Stacktrace:",
      "  [1] error(s::String)",
      "    @ Base ./error.jl:35",
      "  [2] shadow_price(con_ref::ConstraintRef{Model, MathOptInterface.ConstraintIndex{MathOptInterface.ScalarAffineFunction{Float64}, MathOptInterface.LessThan{Float64}}, ScalarShape})",
      "    @ JuMP ~/.julia/packages/JuMP/UqjgA/src/constraints.jl:1061",
      "  [3] _broadcast_getindex_evalf",
      "    @ ./broadcast.jl:670 [inlined]",
      "  [4] _broadcast_getindex",
      "    @ ./broadcast.jl:643 [inlined]",
      "  [5] getindex",
      "    @ ./broadcast.jl:597 [inlined]",
      "  [6] copy",
      "    @ ./broadcast.jl:875 [inlined]",
      "  [7] materialize(bc::Base.Broadcast.Broadcasted{Base.Broadcast.DefaultArrayStyle{0}, Nothing, typeof(shadow_price), Tuple{Base.RefValue{ConstraintRef{Model, MathOptInterface.ConstraintIndex{MathOptInterface.ScalarAffineFunction{Float64}, MathOptInterface.LessThan{Float64}}, ScalarShape}}}})",
      "    @ Base.Broadcast ./broadcast.jl:860",
      "  [8] top-level scope",
      "    @ In[103]:4",
      "  [9] eval",
      "    @ ./boot.jl:368 [inlined]",
      " [10] include_string(mapexpr::typeof(REPL.softscope), mod::Module, code::String, filename::String)",
      "    @ Base ./loading.jl:1428"
     ]
    }
   ],
   "source": [
    "wood\n",
    "# Example: get the dual of the wood constraint\n",
    "\n",
    "shadow_price.(wood)\n",
    "#no dual! because we shouldn't have used integer_trial"
   ]
  },
  {
   "cell_type": "markdown",
   "id": "0bae57ef",
   "metadata": {},
   "source": [
    "The Gurobi tutorials on linear programming also included a way to use a multidict to have multiple constraints be written instead as a matrix. I have not done this in this python notebook because we will not be using this."
   ]
  },
  {
   "cell_type": "markdown",
   "id": "be3606cf",
   "metadata": {},
   "source": [
    "## Mixed Integer Programming: Gurobi Tutorial\n",
    "\n",
    "It ended up being too similar to class tutorials so I decided to skip this."
   ]
  },
  {
   "cell_type": "markdown",
   "id": "3c98cade",
   "metadata": {},
   "source": [
    "## Column Generation: Gurobi Tutorial\n",
    "\n",
    "It ended up being in Python and a bit too dissimilar to our project. I'll do the 15.083hw5 next week instead."
   ]
  },
  {
   "cell_type": "markdown",
   "id": "a0cc40bc",
   "metadata": {},
   "source": [
    "# 6.720 Recitations, Adapted\n",
    "\n",
    "Experiments on things I found helpful."
   ]
  },
  {
   "cell_type": "markdown",
   "id": "91c57042",
   "metadata": {},
   "source": [
    "## from recitation 1"
   ]
  },
  {
   "cell_type": "code",
   "execution_count": 25,
   "id": "e223ba2f",
   "metadata": {
    "scrolled": true
   },
   "outputs": [
    {
     "data": {
      "text/latex": [
       "$$ \\begin{aligned}\n",
       "\\max\\quad & 45 chairs + 80 tables\\\\\n",
       "\\text{Subject to} \\quad & chairs \\geq 0.0\\\\\n",
       " & tables \\geq 0.0\\\\\n",
       " & 5 chairs + 20 tables \\leq 400.0\\\\\n",
       " & 10 chairs + 15 tables \\leq 450.0\\\\\n",
       "\\end{aligned} $$"
      ],
      "text/plain": [
       "$$ \\begin{aligned}\n",
       "\\max\\quad & 45 chairs + 80 tables\\\\\n",
       "\\text{Subject to} \\quad & chairs \\geq 0.0\\\\\n",
       " & tables \\geq 0.0\\\\\n",
       " & 5 chairs + 20 tables \\leq 400.0\\\\\n",
       " & 10 chairs + 15 tables \\leq 450.0\\\\\n",
       "\\end{aligned} $$"
      ]
     },
     "execution_count": 25,
     "metadata": {},
     "output_type": "execute_result"
    }
   ],
   "source": [
    "JuMP.latex_formulation(furniture)"
   ]
  },
  {
   "cell_type": "markdown",
   "id": "313d7cc1",
   "metadata": {},
   "source": [
    "LaTeX typing:\n",
    "\n",
    "\\begin{align}\n",
    "    \\begin{split}\n",
    "        \\min_{x, z} \\quad & cx + z\\\\\n",
    "        \\text{s.t.} \\quad & Ax \\geq b \\\\\n",
    "        & 1 - dx \\leq z \\\\\n",
    "        & 0 \\leq z \\\\\n",
    "        & 2dx-4 \\leq z\\\\\n",
    "    \\end{split}\n",
    "\\end{align}"
   ]
  },
  {
   "cell_type": "code",
   "execution_count": 26,
   "id": "b5699f2b",
   "metadata": {},
   "outputs": [
    {
     "data": {
      "text/plain": [
       "3×3 Matrix{Int64}:\n",
       " 1  0  0\n",
       " 0  1  0\n",
       " 0  0  1"
      ]
     },
     "execution_count": 26,
     "metadata": {},
     "output_type": "execute_result"
    }
   ],
   "source": [
    "A = [1 0 0; 0 1 0; 0 0 1]"
   ]
  },
  {
   "cell_type": "code",
   "execution_count": 28,
   "id": "9e36e728",
   "metadata": {
    "scrolled": true
   },
   "outputs": [
    {
     "name": "stdout",
     "output_type": "stream",
     "text": [
      "c = [1.0, 1.0, 1.0]\n",
      "d = [-1.0, -1.0, -1.0]\n",
      "b = [0.0, 0.0, 0.0]\n"
     ]
    },
    {
     "data": {
      "text/plain": [
       "3-element Vector{Float64}:\n",
       " 0.0\n",
       " 0.0\n",
       " 0.0"
      ]
     },
     "execution_count": 28,
     "metadata": {},
     "output_type": "execute_result"
    }
   ],
   "source": [
    "c = ones(3)\n",
    "d = -ones(3)\n",
    "b = zeros(3)\n",
    "\n",
    "@show c\n",
    "@show d\n",
    "@show b"
   ]
  },
  {
   "cell_type": "code",
   "execution_count": 45,
   "id": "c0024153",
   "metadata": {},
   "outputs": [
    {
     "name": "stdout",
     "output_type": "stream",
     "text": [
      "Set parameter Username\n",
      "Academic license - for non-commercial use only - expires 2023-09-04\n",
      "Set parameter TimeLimit to value 70\n"
     ]
    },
    {
     "data": {
      "text/latex": [
       "$$ x_{1} + x_{2} + x_{3} + z $$"
      ],
      "text/plain": [
       "x[1] + x[2] + x[3] + z"
      ]
     },
     "execution_count": 45,
     "metadata": {},
     "output_type": "execute_result"
    }
   ],
   "source": [
    "using Gurobi, JuMP\n",
    "\n",
    "sample_model = Model(Gurobi.Optimizer)\n",
    "set_optimizer_attribute(sample_model, \"TimeLimit\", 70)\n",
    "\n",
    "@variable(sample_model, z >= 0)\n",
    "@variable(sample_model, x[1:3]) #array of 3 elements\n",
    "\n",
    "@constraint(sample_model, A*x .>= b, base_name = \"Ax >= b\")\n",
    "@constraint(sample_model, 1 - d' * x <= z)\n",
    "@constraint(sample_model, 2 * d' * x - 4 <= z)\n",
    "\n",
    "@objective(sample_model, Min, c' * x + z)"
   ]
  },
  {
   "cell_type": "code",
   "execution_count": 46,
   "id": "28a2d15f",
   "metadata": {},
   "outputs": [
    {
     "data": {
      "text/latex": [
       "$$ \\begin{aligned}\n",
       "\\min\\quad & x_{1} + x_{2} + x_{3} + z\\\\\n",
       "\\text{Subject to} \\quad & x_{1} \\geq 0.0\\\\\n",
       " & x_{2} \\geq 0.0\\\\\n",
       " & x_{3} \\geq 0.0\\\\\n",
       " & -z + x_{1} + x_{2} + x_{3} \\leq -1.0\\\\\n",
       " & -z - 2 x_{1} - 2 x_{2} - 2 x_{3} \\leq 4.0\\\\\n",
       " & z \\geq 0.0\\\\\n",
       "\\end{aligned} $$"
      ],
      "text/plain": [
       "$$ \\begin{aligned}\n",
       "\\min\\quad & x_{1} + x_{2} + x_{3} + z\\\\\n",
       "\\text{Subject to} \\quad & x_{1} \\geq 0.0\\\\\n",
       " & x_{2} \\geq 0.0\\\\\n",
       " & x_{3} \\geq 0.0\\\\\n",
       " & -z + x_{1} + x_{2} + x_{3} \\leq -1.0\\\\\n",
       " & -z - 2 x_{1} - 2 x_{2} - 2 x_{3} \\leq 4.0\\\\\n",
       " & z \\geq 0.0\\\\\n",
       "\\end{aligned} $$"
      ]
     },
     "execution_count": 46,
     "metadata": {},
     "output_type": "execute_result"
    }
   ],
   "source": [
    "JuMP.latex_formulation(sample_model)"
   ]
  },
  {
   "cell_type": "code",
   "execution_count": 47,
   "id": "55a9dfd0",
   "metadata": {},
   "outputs": [
    {
     "name": "stdout",
     "output_type": "stream",
     "text": [
      "Set parameter TimeLimit to value 70\n",
      "Gurobi Optimizer version 9.5.2 build v9.5.2rc0 (mac64[x86])\n",
      "Thread count: 4 physical cores, 8 logical processors, using up to 8 threads\n",
      "Optimize a model with 5 rows, 4 columns and 11 nonzeros\n",
      "Model fingerprint: 0x83841d95\n",
      "Coefficient statistics:\n",
      "  Matrix range     [1e+00, 2e+00]\n",
      "  Objective range  [1e+00, 1e+00]\n",
      "  Bounds range     [0e+00, 0e+00]\n",
      "  RHS range        [1e+00, 4e+00]\n",
      "Presolve removed 5 rows and 4 columns\n",
      "Presolve time: 0.00s\n",
      "Presolve: All rows and columns removed\n",
      "Iteration    Objective       Primal Inf.    Dual Inf.      Time\n",
      "       0    1.0000000e+00   0.000000e+00   0.000000e+00      0s\n",
      "\n",
      "Solved in 0 iterations and 0.00 seconds (0.00 work units)\n",
      "Optimal objective  1.000000000e+00\n",
      "\n",
      "User-callback calls 29, time in user-callback 0.00 sec\n"
     ]
    }
   ],
   "source": [
    "optimize!(sample_model)"
   ]
  },
  {
   "cell_type": "markdown",
   "id": "e42a61c6",
   "metadata": {},
   "source": [
    "obtain information from the model"
   ]
  },
  {
   "cell_type": "code",
   "execution_count": 48,
   "id": "26167526",
   "metadata": {
    "scrolled": true
   },
   "outputs": [
    {
     "name": "stdout",
     "output_type": "stream",
     "text": [
      "ConstraintRef[Ax >= b : x[1] ≥ 0.0, Ax >= b : x[2] ≥ 0.0, Ax >= b : x[3] ≥ 0.0, -z + x[1] + x[2] + x[3] ≤ -1.0, -z - 2 x[1] - 2 x[2] - 2 x[3] ≤ 4.0, z ≥ 0.0]"
     ]
    }
   ],
   "source": [
    "constraints = all_constraints(sample_model, include_variable_in_set_constraints = true)\n",
    "print(constraints)\n",
    "#=\n",
    "The following code will throw an error because there are multiple constraints nested\n",
    "under the array for \"Ax >= b\":\n",
    "constraint_by_name(sample_model, \"Ax >= b\")\n",
    "\n",
    "Rather than store constraints with an array, for instance, they all throw errors.\n",
    "=#"
   ]
  },
  {
   "cell_type": "code",
   "execution_count": 49,
   "id": "267b7e50",
   "metadata": {},
   "outputs": [
    {
     "name": "stdout",
     "output_type": "stream",
     "text": [
      "Values of decision variables x1, x2, x3: [0.0, 0.0, 0.0]"
     ]
    }
   ],
   "source": [
    "# can nab values with value. for the x variable\n",
    "print(\"Values of decision variables x1, x2, x3: \", value.(x))"
   ]
  },
  {
   "cell_type": "code",
   "execution_count": 50,
   "id": "f73c115e",
   "metadata": {
    "scrolled": true
   },
   "outputs": [
    {
     "name": "stdout",
     "output_type": "stream",
     "text": [
      "Optimal objective is: 1.0"
     ]
    }
   ],
   "source": [
    "#optimal value is objective_value\n",
    "print(\"Optimal objective is: \", objective_value(sample_model))"
   ]
  },
  {
   "cell_type": "markdown",
   "id": "c5048357",
   "metadata": {},
   "source": [
    "## from recitation 2\n",
    "\n",
    "This one contains some plotting, as well as data creation, both of which are important in the UROP."
   ]
  },
  {
   "cell_type": "markdown",
   "id": "ad314e7c",
   "metadata": {},
   "source": [
    "This is a pricing problem. We have a store and are modeling as follows:\n",
    "\n",
    "- b is how much inventory you have before the time starts.\n",
    "- e is how much inventory you have after the time has ended.\n",
    "- c is how much cost you have for buying an item.\n",
    "- h is the holding cost: if it's in the inventory, it's going to cost you.\n",
    "- x is how much you BUY, but not necessarily how much you sell.\n",
    "- D represents the demand matrix\n",
    "- C represents the amount that you can buy at a certain time"
   ]
  },
  {
   "cell_type": "markdown",
   "id": "540c300e",
   "metadata": {},
   "source": [
    "\\begin{align}\n",
    "    \\begin{split}\n",
    "        \\min \\quad & \\sum_t c[t]x[t] + 0.5h[t](b[t]+e[t])\\\\\n",
    "        \\text{s.t.} \\quad & b[1] = 0 \\\\\n",
    "        & e[t] = b[t] + x[t] - D[t] \\ \\forall t \\\\\n",
    "        & b[t] = e[t-1] \\ \\forall t \\geq 2 \\\\\n",
    "        & x[t] \\leq C[t] \\ \\forall t\\\\\n",
    "    \\end{split}\n",
    "\\end{align}"
   ]
  },
  {
   "cell_type": "code",
   "execution_count": 56,
   "id": "556dcc84",
   "metadata": {},
   "outputs": [
    {
     "data": {
      "text/plain": [
       "5-element Vector{Float64}:\n",
       " 13.878938195607018\n",
       "  7.524942481260939\n",
       " 10.54858476661316\n",
       "  3.3960825484094337\n",
       " 11.202076814115623"
      ]
     },
     "execution_count": 56,
     "metadata": {},
     "output_type": "execute_result"
    }
   ],
   "source": [
    "T = 5 # similar to number of vehicles in UROP\n",
    "\n",
    "avg_avail = rand(Gamma(200, 250))\n",
    "C = ones(T) * 400\n",
    "avg_demand = rand(Gamma(4, 50))\n",
    "D = rand(Gamma(2, avg_demand/2), T)\n",
    "c = rand(Gamma(5, 15), T)\n",
    "h = rand(Gamma(2, 5), T)"
   ]
  },
  {
   "cell_type": "code",
   "execution_count": 57,
   "id": "e86bbc15",
   "metadata": {
    "scrolled": true
   },
   "outputs": [
    {
     "name": "stdout",
     "output_type": "stream",
     "text": [
      "Set parameter Username\n",
      "Academic license - for non-commercial use only - expires 2023-09-04\n"
     ]
    },
    {
     "data": {
      "text/latex": [
       "$$ 58.71692939650092 x_{1} + 6.939469097803509 b_{1} + 6.939469097803509 e_{1} + 73.43654467486601 x_{2} + 3.7624712406304694 b_{2} + 3.7624712406304694 e_{2} + 53.80355397999247 x_{3} + 5.27429238330658 b_{3} + 5.27429238330658 e_{3} + 182.19840181738073 x_{4} + 1.6980412742047168 b_{4} + 1.6980412742047168 e_{4} + 47.81340339581279 x_{5} + 5.601038407057811 b_{5} + 5.601038407057811 e_{5} $$"
      ],
      "text/plain": [
       "58.71692939650092 x[1] + 6.939469097803509 b[1] + 6.939469097803509 e[1] + 73.43654467486601 x[2] + 3.7624712406304694 b[2] + 3.7624712406304694 e[2] + 53.80355397999247 x[3] + 5.27429238330658 b[3] + 5.27429238330658 e[3] + 182.19840181738073 x[4] + 1.6980412742047168 b[4] + 1.6980412742047168 e[4] + 47.81340339581279 x[5] + 5.601038407057811 b[5] + 5.601038407057811 e[5]"
      ]
     },
     "execution_count": 57,
     "metadata": {},
     "output_type": "execute_result"
    }
   ],
   "source": [
    "buy = Model(Gurobi.Optimizer)\n",
    "\n",
    "@variable(buy, x[1:T] >= 0)\n",
    "@variable(buy, b[1:T] >= 0)\n",
    "@variable(buy, e[1:T] >= 0)\n",
    "\n",
    "@constraint(buy, b[1] == 0)\n",
    "@constraint(buy, [t=1:T], e[t] == b[t] + x[t] - D[t])\n",
    "@constraint(buy, [t=2:T], b[t] == e[t-1])\n",
    "@constraint(buy, [t=1:T], x[t] <= C[t])\n",
    "\n",
    "@objective(buy, Min, sum(c[t]*x[t] + 0.5 * h[t] * (b[t] + e[t]) for t=1:T))"
   ]
  },
  {
   "cell_type": "code",
   "execution_count": 58,
   "id": "889ce6cc",
   "metadata": {
    "scrolled": true
   },
   "outputs": [
    {
     "data": {
      "text/latex": [
       "$$ \\begin{aligned}\n",
       "\\min\\quad & 58.71692939650092 x_{1} + 6.939469097803509 b_{1} + 6.939469097803509 e_{1} + 73.43654467486601 x_{2} + 3.7624712406304694 b_{2} + 3.7624712406304694 e_{2} + 53.80355397999247 x_{3} + 5.27429238330658 b_{3} + 5.27429238330658 e_{3} + 182.19840181738073 x_{4} + 1.6980412742047168 b_{4} + 1.6980412742047168 e_{4} + 47.81340339581279 x_{5} + 5.601038407057811 b_{5} + 5.601038407057811 e_{5}\\\\\n",
       "\\text{Subject to} \\quad & b_{1} = 0.0\\\\\n",
       " & -x_{1} - b_{1} + e_{1} = -273.07983972948495\\\\\n",
       " & -x_{2} - b_{2} + e_{2} = -246.5459836740374\\\\\n",
       " & -x_{3} - b_{3} + e_{3} = -58.57436119543125\\\\\n",
       " & -x_{4} - b_{4} + e_{4} = -455.1925639844843\\\\\n",
       " & -x_{5} - b_{5} + e_{5} = -103.47208404190623\\\\\n",
       " & b_{2} - e_{1} = 0.0\\\\\n",
       " & b_{3} - e_{2} = 0.0\\\\\n",
       " & b_{4} - e_{3} = 0.0\\\\\n",
       " & b_{5} - e_{4} = 0.0\\\\\n",
       " & x_{1} \\leq 400.0\\\\\n",
       " & x_{2} \\leq 400.0\\\\\n",
       " & x_{3} \\leq 400.0\\\\\n",
       " & x_{4} \\leq 400.0\\\\\n",
       " & x_{5} \\leq 400.0\\\\\n",
       " & x_{1} \\geq 0.0\\\\\n",
       " & x_{2} \\geq 0.0\\\\\n",
       " & x_{3} \\geq 0.0\\\\\n",
       " & x_{4} \\geq 0.0\\\\\n",
       " & x_{5} \\geq 0.0\\\\\n",
       " & b_{1} \\geq 0.0\\\\\n",
       " & b_{2} \\geq 0.0\\\\\n",
       " & b_{3} \\geq 0.0\\\\\n",
       " & b_{4} \\geq 0.0\\\\\n",
       " & b_{5} \\geq 0.0\\\\\n",
       " & e_{1} \\geq 0.0\\\\\n",
       " & e_{2} \\geq 0.0\\\\\n",
       " & e_{3} \\geq 0.0\\\\\n",
       " & e_{4} \\geq 0.0\\\\\n",
       " & e_{5} \\geq 0.0\\\\\n",
       "\\end{aligned} $$"
      ],
      "text/plain": [
       "$$ \\begin{aligned}\n",
       "\\min\\quad & 58.71692939650092 x_{1} + 6.939469097803509 b_{1} + 6.939469097803509 e_{1} + 73.43654467486601 x_{2} + 3.7624712406304694 b_{2} + 3.7624712406304694 e_{2} + 53.80355397999247 x_{3} + 5.27429238330658 b_{3} + 5.27429238330658 e_{3} + 182.19840181738073 x_{4} + 1.6980412742047168 b_{4} + 1.6980412742047168 e_{4} + 47.81340339581279 x_{5} + 5.601038407057811 b_{5} + 5.601038407057811 e_{5}\\\\\n",
       "\\text{Subject to} \\quad & b_{1} = 0.0\\\\\n",
       " & -x_{1} - b_{1} + e_{1} = -273.07983972948495\\\\\n",
       " & -x_{2} - b_{2} + e_{2} = -246.5459836740374\\\\\n",
       " & -x_{3} - b_{3} + e_{3} = -58.57436119543125\\\\\n",
       " & -x_{4} - b_{4} + e_{4} = -455.1925639844843\\\\\n",
       " & -x_{5} - b_{5} + e_{5} = -103.47208404190623\\\\\n",
       " & b_{2} - e_{1} = 0.0\\\\\n",
       " & b_{3} - e_{2} = 0.0\\\\\n",
       " & b_{4} - e_{3} = 0.0\\\\\n",
       " & b_{5} - e_{4} = 0.0\\\\\n",
       " & x_{1} \\leq 400.0\\\\\n",
       " & x_{2} \\leq 400.0\\\\\n",
       " & x_{3} \\leq 400.0\\\\\n",
       " & x_{4} \\leq 400.0\\\\\n",
       " & x_{5} \\leq 400.0\\\\\n",
       " & x_{1} \\geq 0.0\\\\\n",
       " & x_{2} \\geq 0.0\\\\\n",
       " & x_{3} \\geq 0.0\\\\\n",
       " & x_{4} \\geq 0.0\\\\\n",
       " & x_{5} \\geq 0.0\\\\\n",
       " & b_{1} \\geq 0.0\\\\\n",
       " & b_{2} \\geq 0.0\\\\\n",
       " & b_{3} \\geq 0.0\\\\\n",
       " & b_{4} \\geq 0.0\\\\\n",
       " & b_{5} \\geq 0.0\\\\\n",
       " & e_{1} \\geq 0.0\\\\\n",
       " & e_{2} \\geq 0.0\\\\\n",
       " & e_{3} \\geq 0.0\\\\\n",
       " & e_{4} \\geq 0.0\\\\\n",
       " & e_{5} \\geq 0.0\\\\\n",
       "\\end{aligned} $$"
      ]
     },
     "execution_count": 58,
     "metadata": {},
     "output_type": "execute_result"
    }
   ],
   "source": [
    "JuMP.latex_formulation(buy)"
   ]
  },
  {
   "cell_type": "code",
   "execution_count": 59,
   "id": "7c2cbd22",
   "metadata": {},
   "outputs": [
    {
     "name": "stdout",
     "output_type": "stream",
     "text": [
      "Gurobi Optimizer version 9.5.2 build v9.5.2rc0 (mac64[x86])\n",
      "Thread count: 4 physical cores, 8 logical processors, using up to 8 threads\n",
      "Optimize a model with 15 rows, 15 columns and 29 nonzeros\n",
      "Model fingerprint: 0x56805ed3\n",
      "Coefficient statistics:\n",
      "  Matrix range     [1e+00, 1e+00]\n",
      "  Objective range  [2e+00, 2e+02]\n",
      "  Bounds range     [0e+00, 0e+00]\n",
      "  RHS range        [6e+01, 5e+02]\n",
      "Presolve removed 12 rows and 8 columns\n",
      "Presolve time: 0.00s\n",
      "Presolved: 3 rows, 7 columns, 9 nonzeros\n",
      "\n",
      "Iteration    Objective       Primal Inf.    Dual Inf.      Time\n",
      "       0    3.6794867e+04   7.716995e+01   0.000000e+00      0s\n",
      "       4    7.2655234e+04   0.000000e+00   0.000000e+00      0s\n",
      "\n",
      "Solved in 4 iterations and 0.00 seconds (0.00 work units)\n",
      "Optimal objective  7.265523408e+04\n",
      "\n",
      "User-callback calls 75, time in user-callback 0.00 sec\n"
     ]
    }
   ],
   "source": [
    "optimize!(buy)"
   ]
  },
  {
   "cell_type": "code",
   "execution_count": 60,
   "id": "d5576acd",
   "metadata": {},
   "outputs": [
    {
     "data": {
      "text/plain": [
       "5-element Vector{Float64}:\n",
       " 400.0\n",
       " 233.39274858343794\n",
       " 400.0\n",
       "   0.0\n",
       " 103.47208404190623"
      ]
     },
     "execution_count": 60,
     "metadata": {},
     "output_type": "execute_result"
    }
   ],
   "source": [
    "# now, obtain the values associated with how much we buy\n",
    "\n",
    "opt_x = value.(x)"
   ]
  },
  {
   "cell_type": "code",
   "execution_count": 61,
   "id": "5ed4df51",
   "metadata": {},
   "outputs": [
    {
     "data": {
      "text/plain": [
       "5-element Vector{Float64}:\n",
       "   0.0\n",
       " 126.92016027051505\n",
       " 113.76692517991557\n",
       " 455.1925639844843\n",
       "   0.0"
      ]
     },
     "execution_count": 61,
     "metadata": {},
     "output_type": "execute_result"
    }
   ],
   "source": [
    "opt_b = value.(b)"
   ]
  },
  {
   "cell_type": "markdown",
   "id": "354bd3b5",
   "metadata": {},
   "source": [
    "We can do a plot for these results"
   ]
  },
  {
   "cell_type": "code",
   "execution_count": 68,
   "id": "32ec2b88",
   "metadata": {},
   "outputs": [
    {
     "data": {
      "image/svg+xml": [
       "<?xml version=\"1.0\" encoding=\"utf-8\"?>\n",
       "<svg xmlns=\"http://www.w3.org/2000/svg\" xmlns:xlink=\"http://www.w3.org/1999/xlink\" width=\"600\" height=\"400\" viewBox=\"0 0 2400 1600\">\n",
       "<defs>\n",
       "  <clipPath id=\"clip080\">\n",
       "    <rect x=\"0\" y=\"0\" width=\"2400\" height=\"1600\"/>\n",
       "  </clipPath>\n",
       "</defs>\n",
       "<path clip-path=\"url(#clip080)\" d=\"\n",
       "M0 1600 L2400 1600 L2400 0 L0 0  Z\n",
       "  \" fill=\"#ffffff\" fill-rule=\"evenodd\" fill-opacity=\"1\"/>\n",
       "<defs>\n",
       "  <clipPath id=\"clip081\">\n",
       "    <rect x=\"480\" y=\"0\" width=\"1681\" height=\"1600\"/>\n",
       "  </clipPath>\n",
       "</defs>\n",
       "<path clip-path=\"url(#clip080)\" d=\"\n",
       "M235.283 1423.18 L2352.76 1423.18 L2352.76 47.2441 L235.283 47.2441  Z\n",
       "  \" fill=\"#ffffff\" fill-rule=\"evenodd\" fill-opacity=\"1\"/>\n",
       "<defs>\n",
       "  <clipPath id=\"clip082\">\n",
       "    <rect x=\"235\" y=\"47\" width=\"2118\" height=\"1377\"/>\n",
       "  </clipPath>\n",
       "</defs>\n",
       "<polyline clip-path=\"url(#clip082)\" style=\"stroke:#000000; stroke-linecap:round; stroke-linejoin:round; stroke-width:2; stroke-opacity:0.1; fill:none\" points=\"\n",
       "  508.793,1423.18 508.793,47.2441 \n",
       "  \"/>\n",
       "<polyline clip-path=\"url(#clip082)\" style=\"stroke:#000000; stroke-linecap:round; stroke-linejoin:round; stroke-width:2; stroke-opacity:0.1; fill:none\" points=\"\n",
       "  901.406,1423.18 901.406,47.2441 \n",
       "  \"/>\n",
       "<polyline clip-path=\"url(#clip082)\" style=\"stroke:#000000; stroke-linecap:round; stroke-linejoin:round; stroke-width:2; stroke-opacity:0.1; fill:none\" points=\"\n",
       "  1294.02,1423.18 1294.02,47.2441 \n",
       "  \"/>\n",
       "<polyline clip-path=\"url(#clip082)\" style=\"stroke:#000000; stroke-linecap:round; stroke-linejoin:round; stroke-width:2; stroke-opacity:0.1; fill:none\" points=\"\n",
       "  1686.63,1423.18 1686.63,47.2441 \n",
       "  \"/>\n",
       "<polyline clip-path=\"url(#clip082)\" style=\"stroke:#000000; stroke-linecap:round; stroke-linejoin:round; stroke-width:2; stroke-opacity:0.1; fill:none\" points=\"\n",
       "  2079.25,1423.18 2079.25,47.2441 \n",
       "  \"/>\n",
       "<polyline clip-path=\"url(#clip080)\" style=\"stroke:#000000; stroke-linecap:round; stroke-linejoin:round; stroke-width:4; stroke-opacity:1; fill:none\" points=\"\n",
       "  235.283,1423.18 2352.76,1423.18 \n",
       "  \"/>\n",
       "<polyline clip-path=\"url(#clip080)\" style=\"stroke:#000000; stroke-linecap:round; stroke-linejoin:round; stroke-width:4; stroke-opacity:1; fill:none\" points=\"\n",
       "  508.793,1423.18 508.793,1404.28 \n",
       "  \"/>\n",
       "<polyline clip-path=\"url(#clip080)\" style=\"stroke:#000000; stroke-linecap:round; stroke-linejoin:round; stroke-width:4; stroke-opacity:1; fill:none\" points=\"\n",
       "  901.406,1423.18 901.406,1404.28 \n",
       "  \"/>\n",
       "<polyline clip-path=\"url(#clip080)\" style=\"stroke:#000000; stroke-linecap:round; stroke-linejoin:round; stroke-width:4; stroke-opacity:1; fill:none\" points=\"\n",
       "  1294.02,1423.18 1294.02,1404.28 \n",
       "  \"/>\n",
       "<polyline clip-path=\"url(#clip080)\" style=\"stroke:#000000; stroke-linecap:round; stroke-linejoin:round; stroke-width:4; stroke-opacity:1; fill:none\" points=\"\n",
       "  1686.63,1423.18 1686.63,1404.28 \n",
       "  \"/>\n",
       "<polyline clip-path=\"url(#clip080)\" style=\"stroke:#000000; stroke-linecap:round; stroke-linejoin:round; stroke-width:4; stroke-opacity:1; fill:none\" points=\"\n",
       "  2079.25,1423.18 2079.25,1404.28 \n",
       "  \"/>\n",
       "<path clip-path=\"url(#clip080)\" d=\"M499.175 1481.64 L506.814 1481.64 L506.814 1455.28 L498.504 1456.95 L498.504 1452.69 L506.767 1451.02 L511.443 1451.02 L511.443 1481.64 L519.082 1481.64 L519.082 1485.58 L499.175 1485.58 L499.175 1481.64 Z\" fill=\"#000000\" fill-rule=\"evenodd\" fill-opacity=\"1\" /><path clip-path=\"url(#clip080)\" d=\"M896.059 1481.64 L912.378 1481.64 L912.378 1485.58 L890.434 1485.58 L890.434 1481.64 Q893.096 1478.89 897.679 1474.26 Q902.286 1469.61 903.466 1468.27 Q905.712 1465.74 906.591 1464.01 Q907.494 1462.25 907.494 1460.56 Q907.494 1457.8 905.55 1456.07 Q903.628 1454.33 900.527 1454.33 Q898.327 1454.33 895.874 1455.09 Q893.443 1455.86 890.665 1457.41 L890.665 1452.69 Q893.49 1451.55 895.943 1450.97 Q898.397 1450.39 900.434 1450.39 Q905.804 1450.39 908.999 1453.08 Q912.193 1455.77 912.193 1460.26 Q912.193 1462.39 911.383 1464.31 Q910.596 1466.2 908.489 1468.8 Q907.911 1469.47 904.809 1472.69 Q901.707 1475.88 896.059 1481.64 Z\" fill=\"#000000\" fill-rule=\"evenodd\" fill-opacity=\"1\" /><path clip-path=\"url(#clip080)\" d=\"M1298.27 1466.95 Q1301.62 1467.66 1303.5 1469.93 Q1305.4 1472.2 1305.4 1475.53 Q1305.4 1480.65 1301.88 1483.45 Q1298.36 1486.25 1291.88 1486.25 Q1289.7 1486.25 1287.39 1485.81 Q1285.1 1485.39 1282.64 1484.54 L1282.64 1480.02 Q1284.59 1481.16 1286.9 1481.74 Q1289.22 1482.32 1291.74 1482.32 Q1296.14 1482.32 1298.43 1480.58 Q1300.74 1478.84 1300.74 1475.53 Q1300.74 1472.48 1298.59 1470.77 Q1296.46 1469.03 1292.64 1469.03 L1288.61 1469.03 L1288.61 1465.19 L1292.83 1465.19 Q1296.28 1465.19 1298.11 1463.82 Q1299.93 1462.43 1299.93 1459.84 Q1299.93 1457.18 1298.04 1455.77 Q1296.16 1454.33 1292.64 1454.33 Q1290.72 1454.33 1288.52 1454.75 Q1286.32 1455.16 1283.68 1456.04 L1283.68 1451.88 Q1286.35 1451.14 1288.66 1450.77 Q1291 1450.39 1293.06 1450.39 Q1298.38 1450.39 1301.48 1452.83 Q1304.59 1455.23 1304.59 1459.35 Q1304.59 1462.22 1302.94 1464.21 Q1301.3 1466.18 1298.27 1466.95 Z\" fill=\"#000000\" fill-rule=\"evenodd\" fill-opacity=\"1\" /><path clip-path=\"url(#clip080)\" d=\"M1689.64 1455.09 L1677.84 1473.54 L1689.64 1473.54 L1689.64 1455.09 M1688.42 1451.02 L1694.29 1451.02 L1694.29 1473.54 L1699.23 1473.54 L1699.23 1477.43 L1694.29 1477.43 L1694.29 1485.58 L1689.64 1485.58 L1689.64 1477.43 L1674.04 1477.43 L1674.04 1472.92 L1688.42 1451.02 Z\" fill=\"#000000\" fill-rule=\"evenodd\" fill-opacity=\"1\" /><path clip-path=\"url(#clip080)\" d=\"M2069.52 1451.02 L2087.88 1451.02 L2087.88 1454.96 L2073.81 1454.96 L2073.81 1463.43 Q2074.82 1463.08 2075.84 1462.92 Q2076.86 1462.73 2077.88 1462.73 Q2083.67 1462.73 2087.05 1465.9 Q2090.43 1469.08 2090.43 1474.49 Q2090.43 1480.07 2086.95 1483.17 Q2083.48 1486.25 2077.16 1486.25 Q2074.99 1486.25 2072.72 1485.88 Q2070.47 1485.51 2068.07 1484.77 L2068.07 1480.07 Q2070.15 1481.2 2072.37 1481.76 Q2074.59 1482.32 2077.07 1482.32 Q2081.07 1482.32 2083.41 1480.21 Q2085.75 1478.1 2085.75 1474.49 Q2085.75 1470.88 2083.41 1468.77 Q2081.07 1466.67 2077.07 1466.67 Q2075.19 1466.67 2073.32 1467.08 Q2071.47 1467.5 2069.52 1468.38 L2069.52 1451.02 Z\" fill=\"#000000\" fill-rule=\"evenodd\" fill-opacity=\"1\" /><path clip-path=\"url(#clip080)\" d=\"M1186.63 1525.81 L1186.63 1543.66 L1194.71 1543.66 Q1199.2 1543.66 1201.65 1541.34 Q1204.1 1539.02 1204.1 1534.72 Q1204.1 1530.45 1201.65 1528.13 Q1199.2 1525.81 1194.71 1525.81 L1186.63 1525.81 M1180.2 1520.52 L1194.71 1520.52 Q1202.7 1520.52 1206.78 1524.15 Q1210.88 1527.75 1210.88 1534.72 Q1210.88 1541.75 1206.78 1545.35 Q1202.7 1548.95 1194.71 1548.95 L1186.63 1548.95 L1186.63 1568.04 L1180.2 1568.04 L1180.2 1520.52 Z\" fill=\"#000000\" fill-rule=\"evenodd\" fill-opacity=\"1\" /><path clip-path=\"url(#clip080)\" d=\"M1247.42 1548.76 L1247.42 1551.62 L1220.5 1551.62 Q1220.88 1557.67 1224.12 1560.85 Q1227.4 1564 1233.23 1564 Q1236.6 1564 1239.75 1563.17 Q1242.93 1562.35 1246.05 1560.69 L1246.05 1566.23 Q1242.9 1567.57 1239.59 1568.27 Q1236.28 1568.97 1232.88 1568.97 Q1224.35 1568.97 1219.35 1564 Q1214.38 1559.04 1214.38 1550.57 Q1214.38 1541.82 1219.1 1536.69 Q1223.84 1531.54 1231.86 1531.54 Q1239.05 1531.54 1243.22 1536.18 Q1247.42 1540.8 1247.42 1548.76 M1241.57 1547.04 Q1241.5 1542.23 1238.86 1539.37 Q1236.25 1536.5 1231.92 1536.5 Q1227.02 1536.5 1224.06 1539.27 Q1221.13 1542.04 1220.69 1547.07 L1241.57 1547.04 Z\" fill=\"#000000\" fill-rule=\"evenodd\" fill-opacity=\"1\" /><path clip-path=\"url(#clip080)\" d=\"M1277.69 1537.87 Q1276.7 1537.3 1275.53 1537.04 Q1274.38 1536.76 1272.98 1536.76 Q1268.02 1536.76 1265.34 1540 Q1262.7 1543.22 1262.7 1549.27 L1262.7 1568.04 L1256.81 1568.04 L1256.81 1532.4 L1262.7 1532.4 L1262.7 1537.93 Q1264.55 1534.69 1267.51 1533.13 Q1270.47 1531.54 1274.7 1531.54 Q1275.3 1531.54 1276.04 1531.63 Q1276.77 1531.7 1277.66 1531.85 L1277.69 1537.87 Z\" fill=\"#000000\" fill-rule=\"evenodd\" fill-opacity=\"1\" /><path clip-path=\"url(#clip080)\" d=\"M1283.83 1532.4 L1289.69 1532.4 L1289.69 1568.04 L1283.83 1568.04 L1283.83 1532.4 M1283.83 1518.52 L1289.69 1518.52 L1289.69 1525.93 L1283.83 1525.93 L1283.83 1518.52 Z\" fill=\"#000000\" fill-rule=\"evenodd\" fill-opacity=\"1\" /><path clip-path=\"url(#clip080)\" d=\"M1315.76 1536.5 Q1311.05 1536.5 1308.31 1540.19 Q1305.57 1543.85 1305.57 1550.25 Q1305.57 1556.65 1308.28 1560.34 Q1311.02 1564 1315.76 1564 Q1320.44 1564 1323.17 1560.31 Q1325.91 1556.62 1325.91 1550.25 Q1325.91 1543.92 1323.17 1540.23 Q1320.44 1536.5 1315.76 1536.5 M1315.76 1531.54 Q1323.4 1531.54 1327.76 1536.5 Q1332.12 1541.47 1332.12 1550.25 Q1332.12 1559 1327.76 1564 Q1323.4 1568.97 1315.76 1568.97 Q1308.09 1568.97 1303.73 1564 Q1299.4 1559 1299.4 1550.25 Q1299.4 1541.47 1303.73 1536.5 Q1308.09 1531.54 1315.76 1531.54 Z\" fill=\"#000000\" fill-rule=\"evenodd\" fill-opacity=\"1\" /><path clip-path=\"url(#clip080)\" d=\"M1365.28 1537.81 L1365.28 1518.52 L1371.14 1518.52 L1371.14 1568.04 L1365.28 1568.04 L1365.28 1562.7 Q1363.44 1565.88 1360.6 1567.44 Q1357.8 1568.97 1353.86 1568.97 Q1347.4 1568.97 1343.32 1563.81 Q1339.28 1558.65 1339.28 1550.25 Q1339.28 1541.85 1343.32 1536.69 Q1347.4 1531.54 1353.86 1531.54 Q1357.8 1531.54 1360.6 1533.1 Q1363.44 1534.62 1365.28 1537.81 M1345.33 1550.25 Q1345.33 1556.71 1347.97 1560.4 Q1350.64 1564.07 1355.29 1564.07 Q1359.94 1564.07 1362.61 1560.4 Q1365.28 1556.71 1365.28 1550.25 Q1365.28 1543.79 1362.61 1540.13 Q1359.94 1536.44 1355.29 1536.44 Q1350.64 1536.44 1347.97 1540.13 Q1345.33 1543.79 1345.33 1550.25 Z\" fill=\"#000000\" fill-rule=\"evenodd\" fill-opacity=\"1\" /><path clip-path=\"url(#clip080)\" d=\"M1405.93 1533.45 L1405.93 1538.98 Q1403.45 1537.71 1400.77 1537.07 Q1398.1 1536.44 1395.23 1536.44 Q1390.87 1536.44 1388.68 1537.77 Q1386.51 1539.11 1386.51 1541.79 Q1386.51 1543.82 1388.07 1545 Q1389.63 1546.15 1394.34 1547.2 L1396.35 1547.64 Q1402.59 1548.98 1405.2 1551.43 Q1407.84 1553.85 1407.84 1558.21 Q1407.84 1563.17 1403.89 1566.07 Q1399.98 1568.97 1393.1 1568.97 Q1390.24 1568.97 1387.12 1568.39 Q1384.03 1567.85 1380.59 1566.74 L1380.59 1560.69 Q1383.84 1562.38 1386.99 1563.24 Q1390.14 1564.07 1393.23 1564.07 Q1397.37 1564.07 1399.59 1562.66 Q1401.82 1561.23 1401.82 1558.65 Q1401.82 1556.27 1400.2 1554.99 Q1398.61 1553.72 1393.17 1552.54 L1391.13 1552.07 Q1385.69 1550.92 1383.27 1548.56 Q1380.85 1546.18 1380.85 1542.04 Q1380.85 1537.01 1384.41 1534.27 Q1387.98 1531.54 1394.53 1531.54 Q1397.78 1531.54 1400.64 1532.01 Q1403.51 1532.49 1405.93 1533.45 Z\" fill=\"#000000\" fill-rule=\"evenodd\" fill-opacity=\"1\" /><polyline clip-path=\"url(#clip082)\" style=\"stroke:#000000; stroke-linecap:round; stroke-linejoin:round; stroke-width:2; stroke-opacity:0.1; fill:none\" points=\"\n",
       "  235.283,1384.24 2352.76,1384.24 \n",
       "  \"/>\n",
       "<polyline clip-path=\"url(#clip082)\" style=\"stroke:#000000; stroke-linecap:round; stroke-linejoin:round; stroke-width:2; stroke-opacity:0.1; fill:none\" points=\"\n",
       "  235.283,1099.07 2352.76,1099.07 \n",
       "  \"/>\n",
       "<polyline clip-path=\"url(#clip082)\" style=\"stroke:#000000; stroke-linecap:round; stroke-linejoin:round; stroke-width:2; stroke-opacity:0.1; fill:none\" points=\"\n",
       "  235.283,813.907 2352.76,813.907 \n",
       "  \"/>\n",
       "<polyline clip-path=\"url(#clip082)\" style=\"stroke:#000000; stroke-linecap:round; stroke-linejoin:round; stroke-width:2; stroke-opacity:0.1; fill:none\" points=\"\n",
       "  235.283,528.741 2352.76,528.741 \n",
       "  \"/>\n",
       "<polyline clip-path=\"url(#clip082)\" style=\"stroke:#000000; stroke-linecap:round; stroke-linejoin:round; stroke-width:2; stroke-opacity:0.1; fill:none\" points=\"\n",
       "  235.283,243.576 2352.76,243.576 \n",
       "  \"/>\n",
       "<polyline clip-path=\"url(#clip080)\" style=\"stroke:#000000; stroke-linecap:round; stroke-linejoin:round; stroke-width:4; stroke-opacity:1; fill:none\" points=\"\n",
       "  235.283,1423.18 235.283,47.2441 \n",
       "  \"/>\n",
       "<polyline clip-path=\"url(#clip080)\" style=\"stroke:#000000; stroke-linecap:round; stroke-linejoin:round; stroke-width:4; stroke-opacity:1; fill:none\" points=\"\n",
       "  235.283,1384.24 254.18,1384.24 \n",
       "  \"/>\n",
       "<polyline clip-path=\"url(#clip080)\" style=\"stroke:#000000; stroke-linecap:round; stroke-linejoin:round; stroke-width:4; stroke-opacity:1; fill:none\" points=\"\n",
       "  235.283,1099.07 254.18,1099.07 \n",
       "  \"/>\n",
       "<polyline clip-path=\"url(#clip080)\" style=\"stroke:#000000; stroke-linecap:round; stroke-linejoin:round; stroke-width:4; stroke-opacity:1; fill:none\" points=\"\n",
       "  235.283,813.907 254.18,813.907 \n",
       "  \"/>\n",
       "<polyline clip-path=\"url(#clip080)\" style=\"stroke:#000000; stroke-linecap:round; stroke-linejoin:round; stroke-width:4; stroke-opacity:1; fill:none\" points=\"\n",
       "  235.283,528.741 254.18,528.741 \n",
       "  \"/>\n",
       "<polyline clip-path=\"url(#clip080)\" style=\"stroke:#000000; stroke-linecap:round; stroke-linejoin:round; stroke-width:4; stroke-opacity:1; fill:none\" points=\"\n",
       "  235.283,243.576 254.18,243.576 \n",
       "  \"/>\n",
       "<path clip-path=\"url(#clip080)\" d=\"M187.338 1370.04 Q183.727 1370.04 181.899 1373.6 Q180.093 1377.14 180.093 1384.27 Q180.093 1391.38 181.899 1394.94 Q183.727 1398.49 187.338 1398.49 Q190.973 1398.49 192.778 1394.94 Q194.607 1391.38 194.607 1384.27 Q194.607 1377.14 192.778 1373.6 Q190.973 1370.04 187.338 1370.04 M187.338 1366.33 Q193.149 1366.33 196.204 1370.94 Q199.283 1375.52 199.283 1384.27 Q199.283 1393 196.204 1397.61 Q193.149 1402.19 187.338 1402.19 Q181.528 1402.19 178.45 1397.61 Q175.394 1393 175.394 1384.27 Q175.394 1375.52 178.45 1370.94 Q181.528 1366.33 187.338 1366.33 Z\" fill=\"#000000\" fill-rule=\"evenodd\" fill-opacity=\"1\" /><path clip-path=\"url(#clip080)\" d=\"M117.825 1112.42 L125.464 1112.42 L125.464 1086.05 L117.154 1087.72 L117.154 1083.46 L125.418 1081.79 L130.093 1081.79 L130.093 1112.42 L137.732 1112.42 L137.732 1116.35 L117.825 1116.35 L117.825 1112.42 Z\" fill=\"#000000\" fill-rule=\"evenodd\" fill-opacity=\"1\" /><path clip-path=\"url(#clip080)\" d=\"M157.177 1084.87 Q153.566 1084.87 151.737 1088.44 Q149.931 1091.98 149.931 1099.11 Q149.931 1106.21 151.737 1109.78 Q153.566 1113.32 157.177 1113.32 Q160.811 1113.32 162.616 1109.78 Q164.445 1106.21 164.445 1099.11 Q164.445 1091.98 162.616 1088.44 Q160.811 1084.87 157.177 1084.87 M157.177 1081.17 Q162.987 1081.17 166.042 1085.77 Q169.121 1090.36 169.121 1099.11 Q169.121 1107.83 166.042 1112.44 Q162.987 1117.02 157.177 1117.02 Q151.366 1117.02 148.288 1112.44 Q145.232 1107.83 145.232 1099.11 Q145.232 1090.36 148.288 1085.77 Q151.366 1081.17 157.177 1081.17 Z\" fill=\"#000000\" fill-rule=\"evenodd\" fill-opacity=\"1\" /><path clip-path=\"url(#clip080)\" d=\"M187.338 1084.87 Q183.727 1084.87 181.899 1088.44 Q180.093 1091.98 180.093 1099.11 Q180.093 1106.21 181.899 1109.78 Q183.727 1113.32 187.338 1113.32 Q190.973 1113.32 192.778 1109.78 Q194.607 1106.21 194.607 1099.11 Q194.607 1091.98 192.778 1088.44 Q190.973 1084.87 187.338 1084.87 M187.338 1081.17 Q193.149 1081.17 196.204 1085.77 Q199.283 1090.36 199.283 1099.11 Q199.283 1107.83 196.204 1112.44 Q193.149 1117.02 187.338 1117.02 Q181.528 1117.02 178.45 1112.44 Q175.394 1107.83 175.394 1099.11 Q175.394 1090.36 178.45 1085.77 Q181.528 1081.17 187.338 1081.17 Z\" fill=\"#000000\" fill-rule=\"evenodd\" fill-opacity=\"1\" /><path clip-path=\"url(#clip080)\" d=\"M121.043 827.252 L137.362 827.252 L137.362 831.187 L115.418 831.187 L115.418 827.252 Q118.08 824.497 122.663 819.868 Q127.269 815.215 128.45 813.872 Q130.695 811.349 131.575 809.613 Q132.478 807.854 132.478 806.164 Q132.478 803.409 130.533 801.673 Q128.612 799.937 125.51 799.937 Q123.311 799.937 120.857 800.701 Q118.427 801.465 115.649 803.016 L115.649 798.294 Q118.473 797.159 120.927 796.581 Q123.38 796.002 125.418 796.002 Q130.788 796.002 133.982 798.687 Q137.177 801.372 137.177 805.863 Q137.177 807.993 136.367 809.914 Q135.579 811.812 133.473 814.405 Q132.894 815.076 129.792 818.294 Q126.691 821.488 121.043 827.252 Z\" fill=\"#000000\" fill-rule=\"evenodd\" fill-opacity=\"1\" /><path clip-path=\"url(#clip080)\" d=\"M157.177 799.706 Q153.566 799.706 151.737 803.271 Q149.931 806.812 149.931 813.942 Q149.931 821.048 151.737 824.613 Q153.566 828.155 157.177 828.155 Q160.811 828.155 162.616 824.613 Q164.445 821.048 164.445 813.942 Q164.445 806.812 162.616 803.271 Q160.811 799.706 157.177 799.706 M157.177 796.002 Q162.987 796.002 166.042 800.609 Q169.121 805.192 169.121 813.942 Q169.121 822.669 166.042 827.275 Q162.987 831.858 157.177 831.858 Q151.366 831.858 148.288 827.275 Q145.232 822.669 145.232 813.942 Q145.232 805.192 148.288 800.609 Q151.366 796.002 157.177 796.002 Z\" fill=\"#000000\" fill-rule=\"evenodd\" fill-opacity=\"1\" /><path clip-path=\"url(#clip080)\" d=\"M187.338 799.706 Q183.727 799.706 181.899 803.271 Q180.093 806.812 180.093 813.942 Q180.093 821.048 181.899 824.613 Q183.727 828.155 187.338 828.155 Q190.973 828.155 192.778 824.613 Q194.607 821.048 194.607 813.942 Q194.607 806.812 192.778 803.271 Q190.973 799.706 187.338 799.706 M187.338 796.002 Q193.149 796.002 196.204 800.609 Q199.283 805.192 199.283 813.942 Q199.283 822.669 196.204 827.275 Q193.149 831.858 187.338 831.858 Q181.528 831.858 178.45 827.275 Q175.394 822.669 175.394 813.942 Q175.394 805.192 178.45 800.609 Q181.528 796.002 187.338 796.002 Z\" fill=\"#000000\" fill-rule=\"evenodd\" fill-opacity=\"1\" /><path clip-path=\"url(#clip080)\" d=\"M131.181 527.387 Q134.538 528.105 136.413 530.373 Q138.311 532.642 138.311 535.975 Q138.311 541.091 134.792 543.892 Q131.274 546.693 124.793 546.693 Q122.617 546.693 120.302 546.253 Q118.01 545.836 115.556 544.98 L115.556 540.466 Q117.501 541.6 119.816 542.179 Q122.13 542.758 124.654 542.758 Q129.052 542.758 131.343 541.022 Q133.658 539.285 133.658 535.975 Q133.658 532.92 131.505 531.207 Q129.376 529.471 125.556 529.471 L121.529 529.471 L121.529 525.628 L125.742 525.628 Q129.191 525.628 131.019 524.262 Q132.848 522.873 132.848 520.281 Q132.848 517.619 130.95 516.207 Q129.075 514.772 125.556 514.772 Q123.635 514.772 121.436 515.188 Q119.237 515.605 116.598 516.485 L116.598 512.318 Q119.26 511.577 121.575 511.207 Q123.913 510.836 125.973 510.836 Q131.297 510.836 134.399 513.267 Q137.501 515.674 137.501 519.795 Q137.501 522.665 135.857 524.656 Q134.214 526.623 131.181 527.387 Z\" fill=\"#000000\" fill-rule=\"evenodd\" fill-opacity=\"1\" /><path clip-path=\"url(#clip080)\" d=\"M157.177 514.54 Q153.566 514.54 151.737 518.105 Q149.931 521.647 149.931 528.776 Q149.931 535.883 151.737 539.447 Q153.566 542.989 157.177 542.989 Q160.811 542.989 162.616 539.447 Q164.445 535.883 164.445 528.776 Q164.445 521.647 162.616 518.105 Q160.811 514.54 157.177 514.54 M157.177 510.836 Q162.987 510.836 166.042 515.443 Q169.121 520.026 169.121 528.776 Q169.121 537.503 166.042 542.109 Q162.987 546.693 157.177 546.693 Q151.366 546.693 148.288 542.109 Q145.232 537.503 145.232 528.776 Q145.232 520.026 148.288 515.443 Q151.366 510.836 157.177 510.836 Z\" fill=\"#000000\" fill-rule=\"evenodd\" fill-opacity=\"1\" /><path clip-path=\"url(#clip080)\" d=\"M187.338 514.54 Q183.727 514.54 181.899 518.105 Q180.093 521.647 180.093 528.776 Q180.093 535.883 181.899 539.447 Q183.727 542.989 187.338 542.989 Q190.973 542.989 192.778 539.447 Q194.607 535.883 194.607 528.776 Q194.607 521.647 192.778 518.105 Q190.973 514.54 187.338 514.54 M187.338 510.836 Q193.149 510.836 196.204 515.443 Q199.283 520.026 199.283 528.776 Q199.283 537.503 196.204 542.109 Q193.149 546.693 187.338 546.693 Q181.528 546.693 178.45 542.109 Q175.394 537.503 175.394 528.776 Q175.394 520.026 178.45 515.443 Q181.528 510.836 187.338 510.836 Z\" fill=\"#000000\" fill-rule=\"evenodd\" fill-opacity=\"1\" /><path clip-path=\"url(#clip080)\" d=\"M129.862 230.37 L118.056 248.819 L129.862 248.819 L129.862 230.37 M128.635 226.296 L134.515 226.296 L134.515 248.819 L139.445 248.819 L139.445 252.708 L134.515 252.708 L134.515 260.856 L129.862 260.856 L129.862 252.708 L114.26 252.708 L114.26 248.194 L128.635 226.296 Z\" fill=\"#000000\" fill-rule=\"evenodd\" fill-opacity=\"1\" /><path clip-path=\"url(#clip080)\" d=\"M157.177 229.375 Q153.566 229.375 151.737 232.939 Q149.931 236.481 149.931 243.611 Q149.931 250.717 151.737 254.282 Q153.566 257.823 157.177 257.823 Q160.811 257.823 162.616 254.282 Q164.445 250.717 164.445 243.611 Q164.445 236.481 162.616 232.939 Q160.811 229.375 157.177 229.375 M157.177 225.671 Q162.987 225.671 166.042 230.277 Q169.121 234.861 169.121 243.611 Q169.121 252.337 166.042 256.944 Q162.987 261.527 157.177 261.527 Q151.366 261.527 148.288 256.944 Q145.232 252.337 145.232 243.611 Q145.232 234.861 148.288 230.277 Q151.366 225.671 157.177 225.671 Z\" fill=\"#000000\" fill-rule=\"evenodd\" fill-opacity=\"1\" /><path clip-path=\"url(#clip080)\" d=\"M187.338 229.375 Q183.727 229.375 181.899 232.939 Q180.093 236.481 180.093 243.611 Q180.093 250.717 181.899 254.282 Q183.727 257.823 187.338 257.823 Q190.973 257.823 192.778 254.282 Q194.607 250.717 194.607 243.611 Q194.607 236.481 192.778 232.939 Q190.973 229.375 187.338 229.375 M187.338 225.671 Q193.149 225.671 196.204 230.277 Q199.283 234.861 199.283 243.611 Q199.283 252.337 196.204 256.944 Q193.149 261.527 187.338 261.527 Q181.528 261.527 178.45 256.944 Q175.394 252.337 175.394 243.611 Q175.394 234.861 178.45 230.277 Q181.528 225.671 187.338 225.671 Z\" fill=\"#000000\" fill-rule=\"evenodd\" fill-opacity=\"1\" /><path clip-path=\"url(#clip080)\" d=\"M16.4842 821.595 L16.4842 815.165 L64.0042 815.165 L64.0042 821.595 L16.4842 821.595 Z\" fill=\"#000000\" fill-rule=\"evenodd\" fill-opacity=\"1\" /><path clip-path=\"url(#clip080)\" d=\"M18.2347 796.832 L28.3562 796.832 L28.3562 784.769 L32.9077 784.769 L32.9077 796.832 L52.2594 796.832 Q56.6199 796.832 57.8613 795.654 Q59.1026 794.445 59.1026 790.785 L59.1026 784.769 L64.0042 784.769 L64.0042 790.785 Q64.0042 797.564 61.4897 800.142 Q58.9434 802.72 52.2594 802.72 L32.9077 802.72 L32.9077 807.017 L28.3562 807.017 L28.3562 802.72 L18.2347 802.72 L18.2347 796.832 Z\" fill=\"#000000\" fill-rule=\"evenodd\" fill-opacity=\"1\" /><path clip-path=\"url(#clip080)\" d=\"M44.7161 746.575 L47.5806 746.575 L47.5806 773.502 Q53.6281 773.12 56.8109 769.873 Q59.9619 766.595 59.9619 760.77 Q59.9619 757.396 59.1344 754.245 Q58.3069 751.063 56.6518 747.943 L62.1899 747.943 Q63.5267 751.094 64.227 754.405 Q64.9272 757.715 64.9272 761.12 Q64.9272 769.65 59.9619 774.648 Q54.9967 779.613 46.5303 779.613 Q37.7774 779.613 32.6531 774.902 Q27.4968 770.16 27.4968 762.139 Q27.4968 754.946 32.1438 750.776 Q36.7589 746.575 44.7161 746.575 M42.9973 752.431 Q38.1912 752.495 35.3266 755.137 Q32.4621 757.747 32.4621 762.075 Q32.4621 766.977 35.2312 769.937 Q38.0002 772.865 43.0292 773.311 L42.9973 752.431 Z\" fill=\"#000000\" fill-rule=\"evenodd\" fill-opacity=\"1\" /><path clip-path=\"url(#clip080)\" d=\"M35.1993 709.208 Q31.2526 707.012 29.3747 703.956 Q27.4968 700.901 27.4968 696.763 Q27.4968 691.193 31.4117 688.169 Q35.2948 685.146 42.4881 685.146 L64.0042 685.146 L64.0042 691.034 L42.679 691.034 Q37.5546 691.034 35.072 692.848 Q32.5894 694.662 32.5894 698.386 Q32.5894 702.938 35.6131 705.58 Q38.6368 708.221 43.8567 708.221 L64.0042 708.221 L64.0042 714.11 L42.679 714.11 Q37.5228 714.11 35.072 715.924 Q32.5894 717.738 32.5894 721.526 Q32.5894 726.014 35.6449 728.655 Q38.6686 731.297 43.8567 731.297 L64.0042 731.297 L64.0042 737.185 L28.3562 737.185 L28.3562 731.297 L33.8944 731.297 Q30.616 729.292 29.0564 726.491 Q27.4968 723.69 27.4968 719.839 Q27.4968 715.956 29.4702 713.25 Q31.4436 710.513 35.1993 709.208 Z\" fill=\"#000000\" fill-rule=\"evenodd\" fill-opacity=\"1\" /><path clip-path=\"url(#clip080)\" d=\"M29.4065 650.739 L34.9447 650.739 Q33.6716 653.222 33.035 655.895 Q32.3984 658.569 32.3984 661.433 Q32.3984 665.794 33.7352 667.99 Q35.072 670.154 37.7456 670.154 Q39.7826 670.154 40.9603 668.595 Q42.1061 667.035 43.1565 662.325 L43.6021 660.319 Q44.9389 654.081 47.3897 651.471 Q49.8086 648.829 54.1691 648.829 Q59.1344 648.829 62.0308 652.776 Q64.9272 656.691 64.9272 663.566 Q64.9272 666.431 64.3543 669.55 Q63.8132 672.637 62.6992 676.075 L56.6518 676.075 Q58.3387 672.828 59.198 669.677 Q60.0256 666.526 60.0256 663.439 Q60.0256 659.301 58.6251 657.073 Q57.1929 654.845 54.6147 654.845 Q52.2276 654.845 50.9545 656.468 Q49.6813 658.06 48.5037 663.502 L48.0262 665.539 Q46.8804 670.982 44.5251 673.401 Q42.138 675.82 38.0002 675.82 Q32.9713 675.82 30.2341 672.255 Q27.4968 668.69 27.4968 662.134 Q27.4968 658.887 27.9743 656.023 Q28.4517 653.158 29.4065 650.739 Z\" fill=\"#000000\" fill-rule=\"evenodd\" fill-opacity=\"1\" /><path clip-path=\"url(#clip082)\" d=\"\n",
       "M351.748 605.509 L351.748 1384.24 L665.838 1384.24 L665.838 605.509 L351.748 605.509 L351.748 605.509  Z\n",
       "  \" fill=\"#000080\" fill-rule=\"evenodd\" fill-opacity=\"1\"/>\n",
       "<polyline clip-path=\"url(#clip082)\" style=\"stroke:#000000; stroke-linecap:round; stroke-linejoin:round; stroke-width:4; stroke-opacity:1; fill:none\" points=\"\n",
       "  351.748,605.509 351.748,1384.24 665.838,1384.24 665.838,605.509 351.748,605.509 \n",
       "  \"/>\n",
       "<path clip-path=\"url(#clip082)\" d=\"\n",
       "M744.361 681.174 L744.361 1384.24 L1058.45 1384.24 L1058.45 681.174 L744.361 681.174 L744.361 681.174  Z\n",
       "  \" fill=\"#000080\" fill-rule=\"evenodd\" fill-opacity=\"1\"/>\n",
       "<polyline clip-path=\"url(#clip082)\" style=\"stroke:#000000; stroke-linecap:round; stroke-linejoin:round; stroke-width:4; stroke-opacity:1; fill:none\" points=\"\n",
       "  744.361,681.174 744.361,1384.24 1058.45,1384.24 1058.45,681.174 744.361,681.174 \n",
       "  \"/>\n",
       "<path clip-path=\"url(#clip082)\" d=\"\n",
       "M1136.97 1217.2 L1136.97 1384.24 L1451.06 1384.24 L1451.06 1217.2 L1136.97 1217.2 L1136.97 1217.2  Z\n",
       "  \" fill=\"#000080\" fill-rule=\"evenodd\" fill-opacity=\"1\"/>\n",
       "<polyline clip-path=\"url(#clip082)\" style=\"stroke:#000000; stroke-linecap:round; stroke-linejoin:round; stroke-width:4; stroke-opacity:1; fill:none\" points=\"\n",
       "  1136.97,1217.2 1136.97,1384.24 1451.06,1384.24 1451.06,1217.2 1136.97,1217.2 \n",
       "  \"/>\n",
       "<path clip-path=\"url(#clip082)\" d=\"\n",
       "M1529.59 86.1857 L1529.59 1384.24 L1843.68 1384.24 L1843.68 86.1857 L1529.59 86.1857 L1529.59 86.1857  Z\n",
       "  \" fill=\"#000080\" fill-rule=\"evenodd\" fill-opacity=\"1\"/>\n",
       "<polyline clip-path=\"url(#clip082)\" style=\"stroke:#000000; stroke-linecap:round; stroke-linejoin:round; stroke-width:4; stroke-opacity:1; fill:none\" points=\"\n",
       "  1529.59,86.1857 1529.59,1384.24 1843.68,1384.24 1843.68,86.1857 1529.59,86.1857 \n",
       "  \"/>\n",
       "<path clip-path=\"url(#clip082)\" d=\"\n",
       "M1922.2 1089.17 L1922.2 1384.24 L2236.29 1384.24 L2236.29 1089.17 L1922.2 1089.17 L1922.2 1089.17  Z\n",
       "  \" fill=\"#000080\" fill-rule=\"evenodd\" fill-opacity=\"1\"/>\n",
       "<polyline clip-path=\"url(#clip082)\" style=\"stroke:#000000; stroke-linecap:round; stroke-linejoin:round; stroke-width:4; stroke-opacity:1; fill:none\" points=\"\n",
       "  1922.2,1089.17 1922.2,1384.24 2236.29,1384.24 2236.29,1089.17 1922.2,1089.17 \n",
       "  \"/>\n",
       "<circle clip-path=\"url(#clip082)\" style=\"fill:#000080; stroke:none; fill-opacity:0\" cx=\"508.793\" cy=\"605.509\" r=\"2\"/>\n",
       "<circle clip-path=\"url(#clip082)\" style=\"fill:#000080; stroke:none; fill-opacity:0\" cx=\"901.406\" cy=\"681.174\" r=\"2\"/>\n",
       "<circle clip-path=\"url(#clip082)\" style=\"fill:#000080; stroke:none; fill-opacity:0\" cx=\"1294.02\" cy=\"1217.2\" r=\"2\"/>\n",
       "<circle clip-path=\"url(#clip082)\" style=\"fill:#000080; stroke:none; fill-opacity:0\" cx=\"1686.63\" cy=\"86.1857\" r=\"2\"/>\n",
       "<circle clip-path=\"url(#clip082)\" style=\"fill:#000080; stroke:none; fill-opacity:0\" cx=\"2079.25\" cy=\"1089.17\" r=\"2\"/>\n",
       "<path clip-path=\"url(#clip080)\" d=\"\n",
       "M1854.82 196.789 L2282.17 196.789 L2282.17 93.1086 L1854.82 93.1086  Z\n",
       "  \" fill=\"#ffffff\" fill-rule=\"evenodd\" fill-opacity=\"1\"/>\n",
       "<polyline clip-path=\"url(#clip080)\" style=\"stroke:#000000; stroke-linecap:round; stroke-linejoin:round; stroke-width:4; stroke-opacity:1; fill:none\" points=\"\n",
       "  1854.82,196.789 2282.17,196.789 2282.17,93.1086 1854.82,93.1086 1854.82,196.789 \n",
       "  \"/>\n",
       "<path clip-path=\"url(#clip080)\" d=\"\n",
       "M1878.34 165.685 L2019.51 165.685 L2019.51 124.213 L1878.34 124.213 L1878.34 165.685  Z\n",
       "  \" fill=\"#000080\" fill-rule=\"evenodd\" fill-opacity=\"1\"/>\n",
       "<polyline clip-path=\"url(#clip080)\" style=\"stroke:#000000; stroke-linecap:round; stroke-linejoin:round; stroke-width:4; stroke-opacity:1; fill:none\" points=\"\n",
       "  1878.34,165.685 2019.51,165.685 2019.51,124.213 1878.34,124.213 1878.34,165.685 \n",
       "  \"/>\n",
       "<path clip-path=\"url(#clip080)\" d=\"M2047.71 131.511 L2047.71 158.386 L2053.36 158.386 Q2060.51 158.386 2063.82 155.145 Q2067.16 151.905 2067.16 144.914 Q2067.16 137.969 2063.82 134.752 Q2060.51 131.511 2053.36 131.511 L2047.71 131.511 M2043.04 127.669 L2052.64 127.669 Q2062.69 127.669 2067.39 131.858 Q2072.09 136.025 2072.09 144.914 Q2072.09 153.849 2067.36 158.039 Q2062.64 162.229 2052.64 162.229 L2043.04 162.229 L2043.04 127.669 Z\" fill=\"#000000\" fill-rule=\"evenodd\" fill-opacity=\"1\" /><path clip-path=\"url(#clip080)\" d=\"M2101.53 148.201 L2101.53 150.284 L2081.95 150.284 Q2082.23 154.682 2084.59 156.997 Q2086.97 159.289 2091.21 159.289 Q2093.66 159.289 2095.95 158.687 Q2098.27 158.085 2100.54 156.881 L2100.54 160.909 Q2098.24 161.881 2095.84 162.391 Q2093.43 162.9 2090.95 162.9 Q2084.75 162.9 2081.11 159.289 Q2077.5 155.678 2077.5 149.52 Q2077.5 143.155 2080.93 139.428 Q2084.38 135.678 2090.21 135.678 Q2095.44 135.678 2098.48 139.057 Q2101.53 142.414 2101.53 148.201 M2097.27 146.951 Q2097.23 143.456 2095.3 141.372 Q2093.41 139.289 2090.26 139.289 Q2086.69 139.289 2084.54 141.303 Q2082.41 143.317 2082.09 146.974 L2097.27 146.951 Z\" fill=\"#000000\" fill-rule=\"evenodd\" fill-opacity=\"1\" /><path clip-path=\"url(#clip080)\" d=\"M2128.71 141.28 Q2130.3 138.409 2132.53 137.044 Q2134.75 135.678 2137.76 135.678 Q2141.81 135.678 2144.01 138.525 Q2146.21 141.349 2146.21 146.581 L2146.21 162.229 L2141.92 162.229 L2141.92 146.719 Q2141.92 142.993 2140.61 141.187 Q2139.29 139.382 2136.58 139.382 Q2133.27 139.382 2131.35 141.581 Q2129.42 143.78 2129.42 147.576 L2129.42 162.229 L2125.14 162.229 L2125.14 146.719 Q2125.14 142.969 2123.82 141.187 Q2122.5 139.382 2119.75 139.382 Q2116.48 139.382 2114.56 141.604 Q2112.64 143.803 2112.64 147.576 L2112.64 162.229 L2108.36 162.229 L2108.36 136.303 L2112.64 136.303 L2112.64 140.331 Q2114.1 137.946 2116.14 136.812 Q2118.17 135.678 2120.98 135.678 Q2123.8 135.678 2125.77 137.113 Q2127.76 138.548 2128.71 141.28 Z\" fill=\"#000000\" fill-rule=\"evenodd\" fill-opacity=\"1\" /><path clip-path=\"url(#clip080)\" d=\"M2166.48 149.196 Q2161.32 149.196 2159.33 150.377 Q2157.34 151.557 2157.34 154.405 Q2157.34 156.673 2158.82 158.016 Q2160.33 159.335 2162.9 159.335 Q2166.44 159.335 2168.57 156.835 Q2170.72 154.312 2170.72 150.145 L2170.72 149.196 L2166.48 149.196 M2174.98 147.437 L2174.98 162.229 L2170.72 162.229 L2170.72 158.293 Q2169.26 160.655 2167.09 161.789 Q2164.91 162.9 2161.76 162.9 Q2157.78 162.9 2155.42 160.678 Q2153.08 158.432 2153.08 154.682 Q2153.08 150.307 2156 148.085 Q2158.94 145.863 2164.75 145.863 L2170.72 145.863 L2170.72 145.446 Q2170.72 142.507 2168.78 140.909 Q2166.85 139.289 2163.36 139.289 Q2161.14 139.289 2159.03 139.821 Q2156.92 140.354 2154.98 141.419 L2154.98 137.483 Q2157.32 136.581 2159.52 136.141 Q2161.72 135.678 2163.8 135.678 Q2169.42 135.678 2172.2 138.594 Q2174.98 141.511 2174.98 147.437 Z\" fill=\"#000000\" fill-rule=\"evenodd\" fill-opacity=\"1\" /><path clip-path=\"url(#clip080)\" d=\"M2205.3 146.581 L2205.3 162.229 L2201.04 162.229 L2201.04 146.719 Q2201.04 143.039 2199.61 141.21 Q2198.17 139.382 2195.3 139.382 Q2191.85 139.382 2189.86 141.581 Q2187.87 143.78 2187.87 147.576 L2187.87 162.229 L2183.59 162.229 L2183.59 136.303 L2187.87 136.303 L2187.87 140.331 Q2189.4 137.993 2191.46 136.835 Q2193.54 135.678 2196.25 135.678 Q2200.72 135.678 2203.01 138.456 Q2205.3 141.21 2205.3 146.581 Z\" fill=\"#000000\" fill-rule=\"evenodd\" fill-opacity=\"1\" /><path clip-path=\"url(#clip080)\" d=\"M2230.86 140.238 L2230.86 126.21 L2235.12 126.21 L2235.12 162.229 L2230.86 162.229 L2230.86 158.34 Q2229.52 160.655 2227.46 161.789 Q2225.42 162.9 2222.55 162.9 Q2217.85 162.9 2214.89 159.15 Q2211.95 155.4 2211.95 149.289 Q2211.95 143.178 2214.89 139.428 Q2217.85 135.678 2222.55 135.678 Q2225.42 135.678 2227.46 136.812 Q2229.52 137.923 2230.86 140.238 M2216.35 149.289 Q2216.35 153.988 2218.27 156.673 Q2220.21 159.335 2223.59 159.335 Q2226.97 159.335 2228.91 156.673 Q2230.86 153.988 2230.86 149.289 Q2230.86 144.59 2228.91 141.928 Q2226.97 139.243 2223.59 139.243 Q2220.21 139.243 2218.27 141.928 Q2216.35 144.59 2216.35 149.289 Z\" fill=\"#000000\" fill-rule=\"evenodd\" fill-opacity=\"1\" /></svg>\n"
      ]
     },
     "execution_count": 68,
     "metadata": {},
     "output_type": "execute_result"
    }
   ],
   "source": [
    "using Plots\n",
    "bar(D, label = \"Demand\", xlabel = \"Periods\", ylabel = \"Items\", color = :navy)"
   ]
  },
  {
   "cell_type": "code",
   "execution_count": 69,
   "id": "273566b8",
   "metadata": {
    "scrolled": true
   },
   "outputs": [
    {
     "data": {
      "image/svg+xml": [
       "<?xml version=\"1.0\" encoding=\"utf-8\"?>\n",
       "<svg xmlns=\"http://www.w3.org/2000/svg\" xmlns:xlink=\"http://www.w3.org/1999/xlink\" width=\"600\" height=\"400\" viewBox=\"0 0 2400 1600\">\n",
       "<defs>\n",
       "  <clipPath id=\"clip120\">\n",
       "    <rect x=\"0\" y=\"0\" width=\"2400\" height=\"1600\"/>\n",
       "  </clipPath>\n",
       "</defs>\n",
       "<path clip-path=\"url(#clip120)\" d=\"\n",
       "M0 1600 L2400 1600 L2400 0 L0 0  Z\n",
       "  \" fill=\"#ffffff\" fill-rule=\"evenodd\" fill-opacity=\"1\"/>\n",
       "<defs>\n",
       "  <clipPath id=\"clip121\">\n",
       "    <rect x=\"480\" y=\"0\" width=\"1681\" height=\"1600\"/>\n",
       "  </clipPath>\n",
       "</defs>\n",
       "<path clip-path=\"url(#clip120)\" d=\"\n",
       "M235.283 1423.18 L2352.76 1423.18 L2352.76 47.2441 L235.283 47.2441  Z\n",
       "  \" fill=\"#ffffff\" fill-rule=\"evenodd\" fill-opacity=\"1\"/>\n",
       "<defs>\n",
       "  <clipPath id=\"clip122\">\n",
       "    <rect x=\"235\" y=\"47\" width=\"2118\" height=\"1377\"/>\n",
       "  </clipPath>\n",
       "</defs>\n",
       "<polyline clip-path=\"url(#clip122)\" style=\"stroke:#000000; stroke-linecap:round; stroke-linejoin:round; stroke-width:2; stroke-opacity:0.1; fill:none\" points=\"\n",
       "  508.793,1423.18 508.793,47.2441 \n",
       "  \"/>\n",
       "<polyline clip-path=\"url(#clip122)\" style=\"stroke:#000000; stroke-linecap:round; stroke-linejoin:round; stroke-width:2; stroke-opacity:0.1; fill:none\" points=\"\n",
       "  901.406,1423.18 901.406,47.2441 \n",
       "  \"/>\n",
       "<polyline clip-path=\"url(#clip122)\" style=\"stroke:#000000; stroke-linecap:round; stroke-linejoin:round; stroke-width:2; stroke-opacity:0.1; fill:none\" points=\"\n",
       "  1294.02,1423.18 1294.02,47.2441 \n",
       "  \"/>\n",
       "<polyline clip-path=\"url(#clip122)\" style=\"stroke:#000000; stroke-linecap:round; stroke-linejoin:round; stroke-width:2; stroke-opacity:0.1; fill:none\" points=\"\n",
       "  1686.63,1423.18 1686.63,47.2441 \n",
       "  \"/>\n",
       "<polyline clip-path=\"url(#clip122)\" style=\"stroke:#000000; stroke-linecap:round; stroke-linejoin:round; stroke-width:2; stroke-opacity:0.1; fill:none\" points=\"\n",
       "  2079.25,1423.18 2079.25,47.2441 \n",
       "  \"/>\n",
       "<polyline clip-path=\"url(#clip120)\" style=\"stroke:#000000; stroke-linecap:round; stroke-linejoin:round; stroke-width:4; stroke-opacity:1; fill:none\" points=\"\n",
       "  235.283,1423.18 2352.76,1423.18 \n",
       "  \"/>\n",
       "<polyline clip-path=\"url(#clip120)\" style=\"stroke:#000000; stroke-linecap:round; stroke-linejoin:round; stroke-width:4; stroke-opacity:1; fill:none\" points=\"\n",
       "  508.793,1423.18 508.793,1404.28 \n",
       "  \"/>\n",
       "<polyline clip-path=\"url(#clip120)\" style=\"stroke:#000000; stroke-linecap:round; stroke-linejoin:round; stroke-width:4; stroke-opacity:1; fill:none\" points=\"\n",
       "  901.406,1423.18 901.406,1404.28 \n",
       "  \"/>\n",
       "<polyline clip-path=\"url(#clip120)\" style=\"stroke:#000000; stroke-linecap:round; stroke-linejoin:round; stroke-width:4; stroke-opacity:1; fill:none\" points=\"\n",
       "  1294.02,1423.18 1294.02,1404.28 \n",
       "  \"/>\n",
       "<polyline clip-path=\"url(#clip120)\" style=\"stroke:#000000; stroke-linecap:round; stroke-linejoin:round; stroke-width:4; stroke-opacity:1; fill:none\" points=\"\n",
       "  1686.63,1423.18 1686.63,1404.28 \n",
       "  \"/>\n",
       "<polyline clip-path=\"url(#clip120)\" style=\"stroke:#000000; stroke-linecap:round; stroke-linejoin:round; stroke-width:4; stroke-opacity:1; fill:none\" points=\"\n",
       "  2079.25,1423.18 2079.25,1404.28 \n",
       "  \"/>\n",
       "<path clip-path=\"url(#clip120)\" d=\"M499.175 1481.64 L506.814 1481.64 L506.814 1455.28 L498.504 1456.95 L498.504 1452.69 L506.767 1451.02 L511.443 1451.02 L511.443 1481.64 L519.082 1481.64 L519.082 1485.58 L499.175 1485.58 L499.175 1481.64 Z\" fill=\"#000000\" fill-rule=\"evenodd\" fill-opacity=\"1\" /><path clip-path=\"url(#clip120)\" d=\"M896.059 1481.64 L912.378 1481.64 L912.378 1485.58 L890.434 1485.58 L890.434 1481.64 Q893.096 1478.89 897.679 1474.26 Q902.286 1469.61 903.466 1468.27 Q905.712 1465.74 906.591 1464.01 Q907.494 1462.25 907.494 1460.56 Q907.494 1457.8 905.55 1456.07 Q903.628 1454.33 900.527 1454.33 Q898.327 1454.33 895.874 1455.09 Q893.443 1455.86 890.665 1457.41 L890.665 1452.69 Q893.49 1451.55 895.943 1450.97 Q898.397 1450.39 900.434 1450.39 Q905.804 1450.39 908.999 1453.08 Q912.193 1455.77 912.193 1460.26 Q912.193 1462.39 911.383 1464.31 Q910.596 1466.2 908.489 1468.8 Q907.911 1469.47 904.809 1472.69 Q901.707 1475.88 896.059 1481.64 Z\" fill=\"#000000\" fill-rule=\"evenodd\" fill-opacity=\"1\" /><path clip-path=\"url(#clip120)\" d=\"M1298.27 1466.95 Q1301.62 1467.66 1303.5 1469.93 Q1305.4 1472.2 1305.4 1475.53 Q1305.4 1480.65 1301.88 1483.45 Q1298.36 1486.25 1291.88 1486.25 Q1289.7 1486.25 1287.39 1485.81 Q1285.1 1485.39 1282.64 1484.54 L1282.64 1480.02 Q1284.59 1481.16 1286.9 1481.74 Q1289.22 1482.32 1291.74 1482.32 Q1296.14 1482.32 1298.43 1480.58 Q1300.74 1478.84 1300.74 1475.53 Q1300.74 1472.48 1298.59 1470.77 Q1296.46 1469.03 1292.64 1469.03 L1288.61 1469.03 L1288.61 1465.19 L1292.83 1465.19 Q1296.28 1465.19 1298.11 1463.82 Q1299.93 1462.43 1299.93 1459.84 Q1299.93 1457.18 1298.04 1455.77 Q1296.16 1454.33 1292.64 1454.33 Q1290.72 1454.33 1288.52 1454.75 Q1286.32 1455.16 1283.68 1456.04 L1283.68 1451.88 Q1286.35 1451.14 1288.66 1450.77 Q1291 1450.39 1293.06 1450.39 Q1298.38 1450.39 1301.48 1452.83 Q1304.59 1455.23 1304.59 1459.35 Q1304.59 1462.22 1302.94 1464.21 Q1301.3 1466.18 1298.27 1466.95 Z\" fill=\"#000000\" fill-rule=\"evenodd\" fill-opacity=\"1\" /><path clip-path=\"url(#clip120)\" d=\"M1689.64 1455.09 L1677.84 1473.54 L1689.64 1473.54 L1689.64 1455.09 M1688.42 1451.02 L1694.29 1451.02 L1694.29 1473.54 L1699.23 1473.54 L1699.23 1477.43 L1694.29 1477.43 L1694.29 1485.58 L1689.64 1485.58 L1689.64 1477.43 L1674.04 1477.43 L1674.04 1472.92 L1688.42 1451.02 Z\" fill=\"#000000\" fill-rule=\"evenodd\" fill-opacity=\"1\" /><path clip-path=\"url(#clip120)\" d=\"M2069.52 1451.02 L2087.88 1451.02 L2087.88 1454.96 L2073.81 1454.96 L2073.81 1463.43 Q2074.82 1463.08 2075.84 1462.92 Q2076.86 1462.73 2077.88 1462.73 Q2083.67 1462.73 2087.05 1465.9 Q2090.43 1469.08 2090.43 1474.49 Q2090.43 1480.07 2086.95 1483.17 Q2083.48 1486.25 2077.16 1486.25 Q2074.99 1486.25 2072.72 1485.88 Q2070.47 1485.51 2068.07 1484.77 L2068.07 1480.07 Q2070.15 1481.2 2072.37 1481.76 Q2074.59 1482.32 2077.07 1482.32 Q2081.07 1482.32 2083.41 1480.21 Q2085.75 1478.1 2085.75 1474.49 Q2085.75 1470.88 2083.41 1468.77 Q2081.07 1466.67 2077.07 1466.67 Q2075.19 1466.67 2073.32 1467.08 Q2071.47 1467.5 2069.52 1468.38 L2069.52 1451.02 Z\" fill=\"#000000\" fill-rule=\"evenodd\" fill-opacity=\"1\" /><path clip-path=\"url(#clip120)\" d=\"M1186.63 1525.81 L1186.63 1543.66 L1194.71 1543.66 Q1199.2 1543.66 1201.65 1541.34 Q1204.1 1539.02 1204.1 1534.72 Q1204.1 1530.45 1201.65 1528.13 Q1199.2 1525.81 1194.71 1525.81 L1186.63 1525.81 M1180.2 1520.52 L1194.71 1520.52 Q1202.7 1520.52 1206.78 1524.15 Q1210.88 1527.75 1210.88 1534.72 Q1210.88 1541.75 1206.78 1545.35 Q1202.7 1548.95 1194.71 1548.95 L1186.63 1548.95 L1186.63 1568.04 L1180.2 1568.04 L1180.2 1520.52 Z\" fill=\"#000000\" fill-rule=\"evenodd\" fill-opacity=\"1\" /><path clip-path=\"url(#clip120)\" d=\"M1247.42 1548.76 L1247.42 1551.62 L1220.5 1551.62 Q1220.88 1557.67 1224.12 1560.85 Q1227.4 1564 1233.23 1564 Q1236.6 1564 1239.75 1563.17 Q1242.93 1562.35 1246.05 1560.69 L1246.05 1566.23 Q1242.9 1567.57 1239.59 1568.27 Q1236.28 1568.97 1232.88 1568.97 Q1224.35 1568.97 1219.35 1564 Q1214.38 1559.04 1214.38 1550.57 Q1214.38 1541.82 1219.1 1536.69 Q1223.84 1531.54 1231.86 1531.54 Q1239.05 1531.54 1243.22 1536.18 Q1247.42 1540.8 1247.42 1548.76 M1241.57 1547.04 Q1241.5 1542.23 1238.86 1539.37 Q1236.25 1536.5 1231.92 1536.5 Q1227.02 1536.5 1224.06 1539.27 Q1221.13 1542.04 1220.69 1547.07 L1241.57 1547.04 Z\" fill=\"#000000\" fill-rule=\"evenodd\" fill-opacity=\"1\" /><path clip-path=\"url(#clip120)\" d=\"M1277.69 1537.87 Q1276.7 1537.3 1275.53 1537.04 Q1274.38 1536.76 1272.98 1536.76 Q1268.02 1536.76 1265.34 1540 Q1262.7 1543.22 1262.7 1549.27 L1262.7 1568.04 L1256.81 1568.04 L1256.81 1532.4 L1262.7 1532.4 L1262.7 1537.93 Q1264.55 1534.69 1267.51 1533.13 Q1270.47 1531.54 1274.7 1531.54 Q1275.3 1531.54 1276.04 1531.63 Q1276.77 1531.7 1277.66 1531.85 L1277.69 1537.87 Z\" fill=\"#000000\" fill-rule=\"evenodd\" fill-opacity=\"1\" /><path clip-path=\"url(#clip120)\" d=\"M1283.83 1532.4 L1289.69 1532.4 L1289.69 1568.04 L1283.83 1568.04 L1283.83 1532.4 M1283.83 1518.52 L1289.69 1518.52 L1289.69 1525.93 L1283.83 1525.93 L1283.83 1518.52 Z\" fill=\"#000000\" fill-rule=\"evenodd\" fill-opacity=\"1\" /><path clip-path=\"url(#clip120)\" d=\"M1315.76 1536.5 Q1311.05 1536.5 1308.31 1540.19 Q1305.57 1543.85 1305.57 1550.25 Q1305.57 1556.65 1308.28 1560.34 Q1311.02 1564 1315.76 1564 Q1320.44 1564 1323.17 1560.31 Q1325.91 1556.62 1325.91 1550.25 Q1325.91 1543.92 1323.17 1540.23 Q1320.44 1536.5 1315.76 1536.5 M1315.76 1531.54 Q1323.4 1531.54 1327.76 1536.5 Q1332.12 1541.47 1332.12 1550.25 Q1332.12 1559 1327.76 1564 Q1323.4 1568.97 1315.76 1568.97 Q1308.09 1568.97 1303.73 1564 Q1299.4 1559 1299.4 1550.25 Q1299.4 1541.47 1303.73 1536.5 Q1308.09 1531.54 1315.76 1531.54 Z\" fill=\"#000000\" fill-rule=\"evenodd\" fill-opacity=\"1\" /><path clip-path=\"url(#clip120)\" d=\"M1365.28 1537.81 L1365.28 1518.52 L1371.14 1518.52 L1371.14 1568.04 L1365.28 1568.04 L1365.28 1562.7 Q1363.44 1565.88 1360.6 1567.44 Q1357.8 1568.97 1353.86 1568.97 Q1347.4 1568.97 1343.32 1563.81 Q1339.28 1558.65 1339.28 1550.25 Q1339.28 1541.85 1343.32 1536.69 Q1347.4 1531.54 1353.86 1531.54 Q1357.8 1531.54 1360.6 1533.1 Q1363.44 1534.62 1365.28 1537.81 M1345.33 1550.25 Q1345.33 1556.71 1347.97 1560.4 Q1350.64 1564.07 1355.29 1564.07 Q1359.94 1564.07 1362.61 1560.4 Q1365.28 1556.71 1365.28 1550.25 Q1365.28 1543.79 1362.61 1540.13 Q1359.94 1536.44 1355.29 1536.44 Q1350.64 1536.44 1347.97 1540.13 Q1345.33 1543.79 1345.33 1550.25 Z\" fill=\"#000000\" fill-rule=\"evenodd\" fill-opacity=\"1\" /><path clip-path=\"url(#clip120)\" d=\"M1405.93 1533.45 L1405.93 1538.98 Q1403.45 1537.71 1400.77 1537.07 Q1398.1 1536.44 1395.23 1536.44 Q1390.87 1536.44 1388.68 1537.77 Q1386.51 1539.11 1386.51 1541.79 Q1386.51 1543.82 1388.07 1545 Q1389.63 1546.15 1394.34 1547.2 L1396.35 1547.64 Q1402.59 1548.98 1405.2 1551.43 Q1407.84 1553.85 1407.84 1558.21 Q1407.84 1563.17 1403.89 1566.07 Q1399.98 1568.97 1393.1 1568.97 Q1390.24 1568.97 1387.12 1568.39 Q1384.03 1567.85 1380.59 1566.74 L1380.59 1560.69 Q1383.84 1562.38 1386.99 1563.24 Q1390.14 1564.07 1393.23 1564.07 Q1397.37 1564.07 1399.59 1562.66 Q1401.82 1561.23 1401.82 1558.65 Q1401.82 1556.27 1400.2 1554.99 Q1398.61 1553.72 1393.17 1552.54 L1391.13 1552.07 Q1385.69 1550.92 1383.27 1548.56 Q1380.85 1546.18 1380.85 1542.04 Q1380.85 1537.01 1384.41 1534.27 Q1387.98 1531.54 1394.53 1531.54 Q1397.78 1531.54 1400.64 1532.01 Q1403.51 1532.49 1405.93 1533.45 Z\" fill=\"#000000\" fill-rule=\"evenodd\" fill-opacity=\"1\" /><polyline clip-path=\"url(#clip122)\" style=\"stroke:#000000; stroke-linecap:round; stroke-linejoin:round; stroke-width:2; stroke-opacity:0.1; fill:none\" points=\"\n",
       "  235.283,1384.24 2352.76,1384.24 \n",
       "  \"/>\n",
       "<polyline clip-path=\"url(#clip122)\" style=\"stroke:#000000; stroke-linecap:round; stroke-linejoin:round; stroke-width:2; stroke-opacity:0.1; fill:none\" points=\"\n",
       "  235.283,1099.07 2352.76,1099.07 \n",
       "  \"/>\n",
       "<polyline clip-path=\"url(#clip122)\" style=\"stroke:#000000; stroke-linecap:round; stroke-linejoin:round; stroke-width:2; stroke-opacity:0.1; fill:none\" points=\"\n",
       "  235.283,813.907 2352.76,813.907 \n",
       "  \"/>\n",
       "<polyline clip-path=\"url(#clip122)\" style=\"stroke:#000000; stroke-linecap:round; stroke-linejoin:round; stroke-width:2; stroke-opacity:0.1; fill:none\" points=\"\n",
       "  235.283,528.741 2352.76,528.741 \n",
       "  \"/>\n",
       "<polyline clip-path=\"url(#clip122)\" style=\"stroke:#000000; stroke-linecap:round; stroke-linejoin:round; stroke-width:2; stroke-opacity:0.1; fill:none\" points=\"\n",
       "  235.283,243.576 2352.76,243.576 \n",
       "  \"/>\n",
       "<polyline clip-path=\"url(#clip120)\" style=\"stroke:#000000; stroke-linecap:round; stroke-linejoin:round; stroke-width:4; stroke-opacity:1; fill:none\" points=\"\n",
       "  235.283,1423.18 235.283,47.2441 \n",
       "  \"/>\n",
       "<polyline clip-path=\"url(#clip120)\" style=\"stroke:#000000; stroke-linecap:round; stroke-linejoin:round; stroke-width:4; stroke-opacity:1; fill:none\" points=\"\n",
       "  235.283,1384.24 254.18,1384.24 \n",
       "  \"/>\n",
       "<polyline clip-path=\"url(#clip120)\" style=\"stroke:#000000; stroke-linecap:round; stroke-linejoin:round; stroke-width:4; stroke-opacity:1; fill:none\" points=\"\n",
       "  235.283,1099.07 254.18,1099.07 \n",
       "  \"/>\n",
       "<polyline clip-path=\"url(#clip120)\" style=\"stroke:#000000; stroke-linecap:round; stroke-linejoin:round; stroke-width:4; stroke-opacity:1; fill:none\" points=\"\n",
       "  235.283,813.907 254.18,813.907 \n",
       "  \"/>\n",
       "<polyline clip-path=\"url(#clip120)\" style=\"stroke:#000000; stroke-linecap:round; stroke-linejoin:round; stroke-width:4; stroke-opacity:1; fill:none\" points=\"\n",
       "  235.283,528.741 254.18,528.741 \n",
       "  \"/>\n",
       "<polyline clip-path=\"url(#clip120)\" style=\"stroke:#000000; stroke-linecap:round; stroke-linejoin:round; stroke-width:4; stroke-opacity:1; fill:none\" points=\"\n",
       "  235.283,243.576 254.18,243.576 \n",
       "  \"/>\n",
       "<path clip-path=\"url(#clip120)\" d=\"M187.338 1370.04 Q183.727 1370.04 181.899 1373.6 Q180.093 1377.14 180.093 1384.27 Q180.093 1391.38 181.899 1394.94 Q183.727 1398.49 187.338 1398.49 Q190.973 1398.49 192.778 1394.94 Q194.607 1391.38 194.607 1384.27 Q194.607 1377.14 192.778 1373.6 Q190.973 1370.04 187.338 1370.04 M187.338 1366.33 Q193.149 1366.33 196.204 1370.94 Q199.283 1375.52 199.283 1384.27 Q199.283 1393 196.204 1397.61 Q193.149 1402.19 187.338 1402.19 Q181.528 1402.19 178.45 1397.61 Q175.394 1393 175.394 1384.27 Q175.394 1375.52 178.45 1370.94 Q181.528 1366.33 187.338 1366.33 Z\" fill=\"#000000\" fill-rule=\"evenodd\" fill-opacity=\"1\" /><path clip-path=\"url(#clip120)\" d=\"M117.825 1112.42 L125.464 1112.42 L125.464 1086.05 L117.154 1087.72 L117.154 1083.46 L125.418 1081.79 L130.093 1081.79 L130.093 1112.42 L137.732 1112.42 L137.732 1116.35 L117.825 1116.35 L117.825 1112.42 Z\" fill=\"#000000\" fill-rule=\"evenodd\" fill-opacity=\"1\" /><path clip-path=\"url(#clip120)\" d=\"M157.177 1084.87 Q153.566 1084.87 151.737 1088.44 Q149.931 1091.98 149.931 1099.11 Q149.931 1106.21 151.737 1109.78 Q153.566 1113.32 157.177 1113.32 Q160.811 1113.32 162.616 1109.78 Q164.445 1106.21 164.445 1099.11 Q164.445 1091.98 162.616 1088.44 Q160.811 1084.87 157.177 1084.87 M157.177 1081.17 Q162.987 1081.17 166.042 1085.77 Q169.121 1090.36 169.121 1099.11 Q169.121 1107.83 166.042 1112.44 Q162.987 1117.02 157.177 1117.02 Q151.366 1117.02 148.288 1112.44 Q145.232 1107.83 145.232 1099.11 Q145.232 1090.36 148.288 1085.77 Q151.366 1081.17 157.177 1081.17 Z\" fill=\"#000000\" fill-rule=\"evenodd\" fill-opacity=\"1\" /><path clip-path=\"url(#clip120)\" d=\"M187.338 1084.87 Q183.727 1084.87 181.899 1088.44 Q180.093 1091.98 180.093 1099.11 Q180.093 1106.21 181.899 1109.78 Q183.727 1113.32 187.338 1113.32 Q190.973 1113.32 192.778 1109.78 Q194.607 1106.21 194.607 1099.11 Q194.607 1091.98 192.778 1088.44 Q190.973 1084.87 187.338 1084.87 M187.338 1081.17 Q193.149 1081.17 196.204 1085.77 Q199.283 1090.36 199.283 1099.11 Q199.283 1107.83 196.204 1112.44 Q193.149 1117.02 187.338 1117.02 Q181.528 1117.02 178.45 1112.44 Q175.394 1107.83 175.394 1099.11 Q175.394 1090.36 178.45 1085.77 Q181.528 1081.17 187.338 1081.17 Z\" fill=\"#000000\" fill-rule=\"evenodd\" fill-opacity=\"1\" /><path clip-path=\"url(#clip120)\" d=\"M121.043 827.252 L137.362 827.252 L137.362 831.187 L115.418 831.187 L115.418 827.252 Q118.08 824.497 122.663 819.868 Q127.269 815.215 128.45 813.872 Q130.695 811.349 131.575 809.613 Q132.478 807.854 132.478 806.164 Q132.478 803.409 130.533 801.673 Q128.612 799.937 125.51 799.937 Q123.311 799.937 120.857 800.701 Q118.427 801.465 115.649 803.016 L115.649 798.294 Q118.473 797.159 120.927 796.581 Q123.38 796.002 125.418 796.002 Q130.788 796.002 133.982 798.687 Q137.177 801.372 137.177 805.863 Q137.177 807.993 136.367 809.914 Q135.579 811.812 133.473 814.405 Q132.894 815.076 129.792 818.294 Q126.691 821.488 121.043 827.252 Z\" fill=\"#000000\" fill-rule=\"evenodd\" fill-opacity=\"1\" /><path clip-path=\"url(#clip120)\" d=\"M157.177 799.706 Q153.566 799.706 151.737 803.271 Q149.931 806.812 149.931 813.942 Q149.931 821.048 151.737 824.613 Q153.566 828.155 157.177 828.155 Q160.811 828.155 162.616 824.613 Q164.445 821.048 164.445 813.942 Q164.445 806.812 162.616 803.271 Q160.811 799.706 157.177 799.706 M157.177 796.002 Q162.987 796.002 166.042 800.609 Q169.121 805.192 169.121 813.942 Q169.121 822.669 166.042 827.275 Q162.987 831.858 157.177 831.858 Q151.366 831.858 148.288 827.275 Q145.232 822.669 145.232 813.942 Q145.232 805.192 148.288 800.609 Q151.366 796.002 157.177 796.002 Z\" fill=\"#000000\" fill-rule=\"evenodd\" fill-opacity=\"1\" /><path clip-path=\"url(#clip120)\" d=\"M187.338 799.706 Q183.727 799.706 181.899 803.271 Q180.093 806.812 180.093 813.942 Q180.093 821.048 181.899 824.613 Q183.727 828.155 187.338 828.155 Q190.973 828.155 192.778 824.613 Q194.607 821.048 194.607 813.942 Q194.607 806.812 192.778 803.271 Q190.973 799.706 187.338 799.706 M187.338 796.002 Q193.149 796.002 196.204 800.609 Q199.283 805.192 199.283 813.942 Q199.283 822.669 196.204 827.275 Q193.149 831.858 187.338 831.858 Q181.528 831.858 178.45 827.275 Q175.394 822.669 175.394 813.942 Q175.394 805.192 178.45 800.609 Q181.528 796.002 187.338 796.002 Z\" fill=\"#000000\" fill-rule=\"evenodd\" fill-opacity=\"1\" /><path clip-path=\"url(#clip120)\" d=\"M131.181 527.387 Q134.538 528.105 136.413 530.373 Q138.311 532.642 138.311 535.975 Q138.311 541.091 134.792 543.892 Q131.274 546.693 124.793 546.693 Q122.617 546.693 120.302 546.253 Q118.01 545.836 115.556 544.98 L115.556 540.466 Q117.501 541.6 119.816 542.179 Q122.13 542.758 124.654 542.758 Q129.052 542.758 131.343 541.022 Q133.658 539.285 133.658 535.975 Q133.658 532.92 131.505 531.207 Q129.376 529.471 125.556 529.471 L121.529 529.471 L121.529 525.628 L125.742 525.628 Q129.191 525.628 131.019 524.262 Q132.848 522.873 132.848 520.281 Q132.848 517.619 130.95 516.207 Q129.075 514.772 125.556 514.772 Q123.635 514.772 121.436 515.188 Q119.237 515.605 116.598 516.485 L116.598 512.318 Q119.26 511.577 121.575 511.207 Q123.913 510.836 125.973 510.836 Q131.297 510.836 134.399 513.267 Q137.501 515.674 137.501 519.795 Q137.501 522.665 135.857 524.656 Q134.214 526.623 131.181 527.387 Z\" fill=\"#000000\" fill-rule=\"evenodd\" fill-opacity=\"1\" /><path clip-path=\"url(#clip120)\" d=\"M157.177 514.54 Q153.566 514.54 151.737 518.105 Q149.931 521.647 149.931 528.776 Q149.931 535.883 151.737 539.447 Q153.566 542.989 157.177 542.989 Q160.811 542.989 162.616 539.447 Q164.445 535.883 164.445 528.776 Q164.445 521.647 162.616 518.105 Q160.811 514.54 157.177 514.54 M157.177 510.836 Q162.987 510.836 166.042 515.443 Q169.121 520.026 169.121 528.776 Q169.121 537.503 166.042 542.109 Q162.987 546.693 157.177 546.693 Q151.366 546.693 148.288 542.109 Q145.232 537.503 145.232 528.776 Q145.232 520.026 148.288 515.443 Q151.366 510.836 157.177 510.836 Z\" fill=\"#000000\" fill-rule=\"evenodd\" fill-opacity=\"1\" /><path clip-path=\"url(#clip120)\" d=\"M187.338 514.54 Q183.727 514.54 181.899 518.105 Q180.093 521.647 180.093 528.776 Q180.093 535.883 181.899 539.447 Q183.727 542.989 187.338 542.989 Q190.973 542.989 192.778 539.447 Q194.607 535.883 194.607 528.776 Q194.607 521.647 192.778 518.105 Q190.973 514.54 187.338 514.54 M187.338 510.836 Q193.149 510.836 196.204 515.443 Q199.283 520.026 199.283 528.776 Q199.283 537.503 196.204 542.109 Q193.149 546.693 187.338 546.693 Q181.528 546.693 178.45 542.109 Q175.394 537.503 175.394 528.776 Q175.394 520.026 178.45 515.443 Q181.528 510.836 187.338 510.836 Z\" fill=\"#000000\" fill-rule=\"evenodd\" fill-opacity=\"1\" /><path clip-path=\"url(#clip120)\" d=\"M129.862 230.37 L118.056 248.819 L129.862 248.819 L129.862 230.37 M128.635 226.296 L134.515 226.296 L134.515 248.819 L139.445 248.819 L139.445 252.708 L134.515 252.708 L134.515 260.856 L129.862 260.856 L129.862 252.708 L114.26 252.708 L114.26 248.194 L128.635 226.296 Z\" fill=\"#000000\" fill-rule=\"evenodd\" fill-opacity=\"1\" /><path clip-path=\"url(#clip120)\" d=\"M157.177 229.375 Q153.566 229.375 151.737 232.939 Q149.931 236.481 149.931 243.611 Q149.931 250.717 151.737 254.282 Q153.566 257.823 157.177 257.823 Q160.811 257.823 162.616 254.282 Q164.445 250.717 164.445 243.611 Q164.445 236.481 162.616 232.939 Q160.811 229.375 157.177 229.375 M157.177 225.671 Q162.987 225.671 166.042 230.277 Q169.121 234.861 169.121 243.611 Q169.121 252.337 166.042 256.944 Q162.987 261.527 157.177 261.527 Q151.366 261.527 148.288 256.944 Q145.232 252.337 145.232 243.611 Q145.232 234.861 148.288 230.277 Q151.366 225.671 157.177 225.671 Z\" fill=\"#000000\" fill-rule=\"evenodd\" fill-opacity=\"1\" /><path clip-path=\"url(#clip120)\" d=\"M187.338 229.375 Q183.727 229.375 181.899 232.939 Q180.093 236.481 180.093 243.611 Q180.093 250.717 181.899 254.282 Q183.727 257.823 187.338 257.823 Q190.973 257.823 192.778 254.282 Q194.607 250.717 194.607 243.611 Q194.607 236.481 192.778 232.939 Q190.973 229.375 187.338 229.375 M187.338 225.671 Q193.149 225.671 196.204 230.277 Q199.283 234.861 199.283 243.611 Q199.283 252.337 196.204 256.944 Q193.149 261.527 187.338 261.527 Q181.528 261.527 178.45 256.944 Q175.394 252.337 175.394 243.611 Q175.394 234.861 178.45 230.277 Q181.528 225.671 187.338 225.671 Z\" fill=\"#000000\" fill-rule=\"evenodd\" fill-opacity=\"1\" /><path clip-path=\"url(#clip120)\" d=\"M16.4842 821.595 L16.4842 815.165 L64.0042 815.165 L64.0042 821.595 L16.4842 821.595 Z\" fill=\"#000000\" fill-rule=\"evenodd\" fill-opacity=\"1\" /><path clip-path=\"url(#clip120)\" d=\"M18.2347 796.832 L28.3562 796.832 L28.3562 784.769 L32.9077 784.769 L32.9077 796.832 L52.2594 796.832 Q56.6199 796.832 57.8613 795.654 Q59.1026 794.445 59.1026 790.785 L59.1026 784.769 L64.0042 784.769 L64.0042 790.785 Q64.0042 797.564 61.4897 800.142 Q58.9434 802.72 52.2594 802.72 L32.9077 802.72 L32.9077 807.017 L28.3562 807.017 L28.3562 802.72 L18.2347 802.72 L18.2347 796.832 Z\" fill=\"#000000\" fill-rule=\"evenodd\" fill-opacity=\"1\" /><path clip-path=\"url(#clip120)\" d=\"M44.7161 746.575 L47.5806 746.575 L47.5806 773.502 Q53.6281 773.12 56.8109 769.873 Q59.9619 766.595 59.9619 760.77 Q59.9619 757.396 59.1344 754.245 Q58.3069 751.063 56.6518 747.943 L62.1899 747.943 Q63.5267 751.094 64.227 754.405 Q64.9272 757.715 64.9272 761.12 Q64.9272 769.65 59.9619 774.648 Q54.9967 779.613 46.5303 779.613 Q37.7774 779.613 32.6531 774.902 Q27.4968 770.16 27.4968 762.139 Q27.4968 754.946 32.1438 750.776 Q36.7589 746.575 44.7161 746.575 M42.9973 752.431 Q38.1912 752.495 35.3266 755.137 Q32.4621 757.747 32.4621 762.075 Q32.4621 766.977 35.2312 769.937 Q38.0002 772.865 43.0292 773.311 L42.9973 752.431 Z\" fill=\"#000000\" fill-rule=\"evenodd\" fill-opacity=\"1\" /><path clip-path=\"url(#clip120)\" d=\"M35.1993 709.208 Q31.2526 707.012 29.3747 703.956 Q27.4968 700.901 27.4968 696.763 Q27.4968 691.193 31.4117 688.169 Q35.2948 685.146 42.4881 685.146 L64.0042 685.146 L64.0042 691.034 L42.679 691.034 Q37.5546 691.034 35.072 692.848 Q32.5894 694.662 32.5894 698.386 Q32.5894 702.938 35.6131 705.58 Q38.6368 708.221 43.8567 708.221 L64.0042 708.221 L64.0042 714.11 L42.679 714.11 Q37.5228 714.11 35.072 715.924 Q32.5894 717.738 32.5894 721.526 Q32.5894 726.014 35.6449 728.655 Q38.6686 731.297 43.8567 731.297 L64.0042 731.297 L64.0042 737.185 L28.3562 737.185 L28.3562 731.297 L33.8944 731.297 Q30.616 729.292 29.0564 726.491 Q27.4968 723.69 27.4968 719.839 Q27.4968 715.956 29.4702 713.25 Q31.4436 710.513 35.1993 709.208 Z\" fill=\"#000000\" fill-rule=\"evenodd\" fill-opacity=\"1\" /><path clip-path=\"url(#clip120)\" d=\"M29.4065 650.739 L34.9447 650.739 Q33.6716 653.222 33.035 655.895 Q32.3984 658.569 32.3984 661.433 Q32.3984 665.794 33.7352 667.99 Q35.072 670.154 37.7456 670.154 Q39.7826 670.154 40.9603 668.595 Q42.1061 667.035 43.1565 662.325 L43.6021 660.319 Q44.9389 654.081 47.3897 651.471 Q49.8086 648.829 54.1691 648.829 Q59.1344 648.829 62.0308 652.776 Q64.9272 656.691 64.9272 663.566 Q64.9272 666.431 64.3543 669.55 Q63.8132 672.637 62.6992 676.075 L56.6518 676.075 Q58.3387 672.828 59.198 669.677 Q60.0256 666.526 60.0256 663.439 Q60.0256 659.301 58.6251 657.073 Q57.1929 654.845 54.6147 654.845 Q52.2276 654.845 50.9545 656.468 Q49.6813 658.06 48.5037 663.502 L48.0262 665.539 Q46.8804 670.982 44.5251 673.401 Q42.138 675.82 38.0002 675.82 Q32.9713 675.82 30.2341 672.255 Q27.4968 668.69 27.4968 662.134 Q27.4968 658.887 27.9743 656.023 Q28.4517 653.158 29.4065 650.739 Z\" fill=\"#000000\" fill-rule=\"evenodd\" fill-opacity=\"1\" /><path clip-path=\"url(#clip122)\" d=\"\n",
       "M351.748 605.509 L351.748 1384.24 L665.838 1384.24 L665.838 605.509 L351.748 605.509 L351.748 605.509  Z\n",
       "  \" fill=\"#000080\" fill-rule=\"evenodd\" fill-opacity=\"1\"/>\n",
       "<polyline clip-path=\"url(#clip122)\" style=\"stroke:#000000; stroke-linecap:round; stroke-linejoin:round; stroke-width:4; stroke-opacity:1; fill:none\" points=\"\n",
       "  351.748,605.509 351.748,1384.24 665.838,1384.24 665.838,605.509 351.748,605.509 \n",
       "  \"/>\n",
       "<path clip-path=\"url(#clip122)\" d=\"\n",
       "M744.361 681.174 L744.361 1384.24 L1058.45 1384.24 L1058.45 681.174 L744.361 681.174 L744.361 681.174  Z\n",
       "  \" fill=\"#000080\" fill-rule=\"evenodd\" fill-opacity=\"1\"/>\n",
       "<polyline clip-path=\"url(#clip122)\" style=\"stroke:#000000; stroke-linecap:round; stroke-linejoin:round; stroke-width:4; stroke-opacity:1; fill:none\" points=\"\n",
       "  744.361,681.174 744.361,1384.24 1058.45,1384.24 1058.45,681.174 744.361,681.174 \n",
       "  \"/>\n",
       "<path clip-path=\"url(#clip122)\" d=\"\n",
       "M1136.97 1217.2 L1136.97 1384.24 L1451.06 1384.24 L1451.06 1217.2 L1136.97 1217.2 L1136.97 1217.2  Z\n",
       "  \" fill=\"#000080\" fill-rule=\"evenodd\" fill-opacity=\"1\"/>\n",
       "<polyline clip-path=\"url(#clip122)\" style=\"stroke:#000000; stroke-linecap:round; stroke-linejoin:round; stroke-width:4; stroke-opacity:1; fill:none\" points=\"\n",
       "  1136.97,1217.2 1136.97,1384.24 1451.06,1384.24 1451.06,1217.2 1136.97,1217.2 \n",
       "  \"/>\n",
       "<path clip-path=\"url(#clip122)\" d=\"\n",
       "M1529.59 86.1857 L1529.59 1384.24 L1843.68 1384.24 L1843.68 86.1857 L1529.59 86.1857 L1529.59 86.1857  Z\n",
       "  \" fill=\"#000080\" fill-rule=\"evenodd\" fill-opacity=\"1\"/>\n",
       "<polyline clip-path=\"url(#clip122)\" style=\"stroke:#000000; stroke-linecap:round; stroke-linejoin:round; stroke-width:4; stroke-opacity:1; fill:none\" points=\"\n",
       "  1529.59,86.1857 1529.59,1384.24 1843.68,1384.24 1843.68,86.1857 1529.59,86.1857 \n",
       "  \"/>\n",
       "<path clip-path=\"url(#clip122)\" d=\"\n",
       "M1922.2 1089.17 L1922.2 1384.24 L2236.29 1384.24 L2236.29 1089.17 L1922.2 1089.17 L1922.2 1089.17  Z\n",
       "  \" fill=\"#000080\" fill-rule=\"evenodd\" fill-opacity=\"1\"/>\n",
       "<polyline clip-path=\"url(#clip122)\" style=\"stroke:#000000; stroke-linecap:round; stroke-linejoin:round; stroke-width:4; stroke-opacity:1; fill:none\" points=\"\n",
       "  1922.2,1089.17 1922.2,1384.24 2236.29,1384.24 2236.29,1089.17 1922.2,1089.17 \n",
       "  \"/>\n",
       "<circle clip-path=\"url(#clip122)\" style=\"fill:#000080; stroke:none; fill-opacity:0\" cx=\"508.793\" cy=\"605.509\" r=\"2\"/>\n",
       "<circle clip-path=\"url(#clip122)\" style=\"fill:#000080; stroke:none; fill-opacity:0\" cx=\"901.406\" cy=\"681.174\" r=\"2\"/>\n",
       "<circle clip-path=\"url(#clip122)\" style=\"fill:#000080; stroke:none; fill-opacity:0\" cx=\"1294.02\" cy=\"1217.2\" r=\"2\"/>\n",
       "<circle clip-path=\"url(#clip122)\" style=\"fill:#000080; stroke:none; fill-opacity:0\" cx=\"1686.63\" cy=\"86.1857\" r=\"2\"/>\n",
       "<circle clip-path=\"url(#clip122)\" style=\"fill:#000080; stroke:none; fill-opacity:0\" cx=\"2079.25\" cy=\"1089.17\" r=\"2\"/>\n",
       "<polyline clip-path=\"url(#clip122)\" style=\"stroke:#e26f46; stroke-linecap:round; stroke-linejoin:round; stroke-width:16; stroke-opacity:1; fill:none\" points=\"\n",
       "  508.793,243.576 901.406,718.682 1294.02,243.576 1686.63,1384.24 2079.25,1089.17 \n",
       "  \"/>\n",
       "<polyline clip-path=\"url(#clip122)\" style=\"stroke:#000000; stroke-linecap:round; stroke-linejoin:round; stroke-width:16; stroke-opacity:1; fill:none\" points=\"\n",
       "  508.793,243.576 901.406,243.576 1294.02,243.576 1686.63,243.576 2079.25,243.576 \n",
       "  \"/>\n",
       "<polyline clip-path=\"url(#clip122)\" style=\"stroke:#ffff00; stroke-linecap:round; stroke-linejoin:round; stroke-width:16; stroke-opacity:1; fill:none\" points=\"\n",
       "  508.793,1384.24 901.406,1022.31 1294.02,1059.81 1686.63,86.1857 2079.25,1384.24 \n",
       "  \"/>\n",
       "<path clip-path=\"url(#clip120)\" d=\"\n",
       "M1803.36 352.309 L2282.17 352.309 L2282.17 93.1086 L1803.36 93.1086  Z\n",
       "  \" fill=\"#ffffff\" fill-rule=\"evenodd\" fill-opacity=\"1\"/>\n",
       "<polyline clip-path=\"url(#clip120)\" style=\"stroke:#000000; stroke-linecap:round; stroke-linejoin:round; stroke-width:4; stroke-opacity:1; fill:none\" points=\"\n",
       "  1803.36,352.309 2282.17,352.309 2282.17,93.1086 1803.36,93.1086 1803.36,352.309 \n",
       "  \"/>\n",
       "<path clip-path=\"url(#clip120)\" d=\"\n",
       "M1826.89 165.685 L1968.05 165.685 L1968.05 124.213 L1826.89 124.213 L1826.89 165.685  Z\n",
       "  \" fill=\"#000080\" fill-rule=\"evenodd\" fill-opacity=\"1\"/>\n",
       "<polyline clip-path=\"url(#clip120)\" style=\"stroke:#000000; stroke-linecap:round; stroke-linejoin:round; stroke-width:4; stroke-opacity:1; fill:none\" points=\"\n",
       "  1826.89,165.685 1968.05,165.685 1968.05,124.213 1826.89,124.213 1826.89,165.685 \n",
       "  \"/>\n",
       "<path clip-path=\"url(#clip120)\" d=\"M1996.25 131.511 L1996.25 158.386 L2001.9 158.386 Q2009.05 158.386 2012.37 155.145 Q2015.7 151.905 2015.7 144.914 Q2015.7 137.969 2012.37 134.752 Q2009.05 131.511 2001.9 131.511 L1996.25 131.511 M1991.58 127.669 L2001.18 127.669 Q2011.23 127.669 2015.93 131.858 Q2020.63 136.025 2020.63 144.914 Q2020.63 153.849 2015.91 158.039 Q2011.18 162.229 2001.18 162.229 L1991.58 162.229 L1991.58 127.669 Z\" fill=\"#000000\" fill-rule=\"evenodd\" fill-opacity=\"1\" /><path clip-path=\"url(#clip120)\" d=\"M2050.07 148.201 L2050.07 150.284 L2030.49 150.284 Q2030.77 154.682 2033.13 156.997 Q2035.51 159.289 2039.75 159.289 Q2042.2 159.289 2044.49 158.687 Q2046.81 158.085 2049.08 156.881 L2049.08 160.909 Q2046.79 161.881 2044.38 162.391 Q2041.97 162.9 2039.49 162.9 Q2033.29 162.9 2029.66 159.289 Q2026.05 155.678 2026.05 149.52 Q2026.05 143.155 2029.47 139.428 Q2032.92 135.678 2038.75 135.678 Q2043.99 135.678 2047.02 139.057 Q2050.07 142.414 2050.07 148.201 M2045.81 146.951 Q2045.77 143.456 2043.85 141.372 Q2041.95 139.289 2038.8 139.289 Q2035.24 139.289 2033.08 141.303 Q2030.95 143.317 2030.63 146.974 L2045.81 146.951 Z\" fill=\"#000000\" fill-rule=\"evenodd\" fill-opacity=\"1\" /><path clip-path=\"url(#clip120)\" d=\"M2077.25 141.28 Q2078.85 138.409 2081.07 137.044 Q2083.29 135.678 2086.3 135.678 Q2090.35 135.678 2092.55 138.525 Q2094.75 141.349 2094.75 146.581 L2094.75 162.229 L2090.47 162.229 L2090.47 146.719 Q2090.47 142.993 2089.15 141.187 Q2087.83 139.382 2085.12 139.382 Q2081.81 139.382 2079.89 141.581 Q2077.97 143.78 2077.97 147.576 L2077.97 162.229 L2073.68 162.229 L2073.68 146.719 Q2073.68 142.969 2072.36 141.187 Q2071.05 139.382 2068.29 139.382 Q2065.03 139.382 2063.11 141.604 Q2061.18 143.803 2061.18 147.576 L2061.18 162.229 L2056.9 162.229 L2056.9 136.303 L2061.18 136.303 L2061.18 140.331 Q2062.64 137.946 2064.68 136.812 Q2066.72 135.678 2069.52 135.678 Q2072.34 135.678 2074.31 137.113 Q2076.3 138.548 2077.25 141.28 Z\" fill=\"#000000\" fill-rule=\"evenodd\" fill-opacity=\"1\" /><path clip-path=\"url(#clip120)\" d=\"M2115.03 149.196 Q2109.86 149.196 2107.87 150.377 Q2105.88 151.557 2105.88 154.405 Q2105.88 156.673 2107.36 158.016 Q2108.87 159.335 2111.44 159.335 Q2114.98 159.335 2117.11 156.835 Q2119.26 154.312 2119.26 150.145 L2119.26 149.196 L2115.03 149.196 M2123.52 147.437 L2123.52 162.229 L2119.26 162.229 L2119.26 158.293 Q2117.8 160.655 2115.63 161.789 Q2113.45 162.9 2110.3 162.9 Q2106.32 162.9 2103.96 160.678 Q2101.62 158.432 2101.62 154.682 Q2101.62 150.307 2104.54 148.085 Q2107.48 145.863 2113.29 145.863 L2119.26 145.863 L2119.26 145.446 Q2119.26 142.507 2117.32 140.909 Q2115.4 139.289 2111.9 139.289 Q2109.68 139.289 2107.57 139.821 Q2105.47 140.354 2103.52 141.419 L2103.52 137.483 Q2105.86 136.581 2108.06 136.141 Q2110.26 135.678 2112.34 135.678 Q2117.97 135.678 2120.74 138.594 Q2123.52 141.511 2123.52 147.437 Z\" fill=\"#000000\" fill-rule=\"evenodd\" fill-opacity=\"1\" /><path clip-path=\"url(#clip120)\" d=\"M2153.85 146.581 L2153.85 162.229 L2149.59 162.229 L2149.59 146.719 Q2149.59 143.039 2148.15 141.21 Q2146.72 139.382 2143.85 139.382 Q2140.4 139.382 2138.41 141.581 Q2136.42 143.78 2136.42 147.576 L2136.42 162.229 L2132.13 162.229 L2132.13 136.303 L2136.42 136.303 L2136.42 140.331 Q2137.94 137.993 2140 136.835 Q2142.09 135.678 2144.79 135.678 Q2149.26 135.678 2151.55 138.456 Q2153.85 141.21 2153.85 146.581 Z\" fill=\"#000000\" fill-rule=\"evenodd\" fill-opacity=\"1\" /><path clip-path=\"url(#clip120)\" d=\"M2179.4 140.238 L2179.4 126.21 L2183.66 126.21 L2183.66 162.229 L2179.4 162.229 L2179.4 158.34 Q2178.06 160.655 2176 161.789 Q2173.96 162.9 2171.09 162.9 Q2166.39 162.9 2163.43 159.15 Q2160.49 155.4 2160.49 149.289 Q2160.49 143.178 2163.43 139.428 Q2166.39 135.678 2171.09 135.678 Q2173.96 135.678 2176 136.812 Q2178.06 137.923 2179.4 140.238 M2164.89 149.289 Q2164.89 153.988 2166.81 156.673 Q2168.75 159.335 2172.13 159.335 Q2175.51 159.335 2177.46 156.673 Q2179.4 153.988 2179.4 149.289 Q2179.4 144.59 2177.46 141.928 Q2175.51 139.243 2172.13 139.243 Q2168.75 139.243 2166.81 141.928 Q2164.89 144.59 2164.89 149.289 Z\" fill=\"#000000\" fill-rule=\"evenodd\" fill-opacity=\"1\" /><polyline clip-path=\"url(#clip120)\" style=\"stroke:#e26f46; stroke-linecap:round; stroke-linejoin:round; stroke-width:4; stroke-opacity:1; fill:none\" points=\"\n",
       "  1826.89,196.789 1968.05,196.789 \n",
       "  \"/>\n",
       "<path clip-path=\"url(#clip120)\" d=\"M1996.25 183.351 L1996.25 196.337 L2002.13 196.337 Q2005.4 196.337 2007.18 194.647 Q2008.96 192.958 2008.96 189.833 Q2008.96 186.731 2007.18 185.041 Q2005.4 183.351 2002.13 183.351 L1996.25 183.351 M1991.58 179.509 L2002.13 179.509 Q2007.94 179.509 2010.91 182.147 Q2013.89 184.763 2013.89 189.833 Q2013.89 194.948 2010.91 197.564 Q2007.94 200.18 2002.13 200.18 L1996.25 200.18 L1996.25 214.069 L1991.58 214.069 L1991.58 179.509 Z\" fill=\"#000000\" fill-rule=\"evenodd\" fill-opacity=\"1\" /><path clip-path=\"url(#clip120)\" d=\"M2034.17 192.124 Q2033.45 191.708 2032.6 191.522 Q2031.76 191.314 2030.74 191.314 Q2027.13 191.314 2025.19 193.675 Q2023.27 196.013 2023.27 200.411 L2023.27 214.069 L2018.99 214.069 L2018.99 188.143 L2023.27 188.143 L2023.27 192.171 Q2024.61 189.809 2026.76 188.675 Q2028.92 187.518 2031.99 187.518 Q2032.43 187.518 2032.97 187.587 Q2033.5 187.634 2034.15 187.749 L2034.17 192.124 Z\" fill=\"#000000\" fill-rule=\"evenodd\" fill-opacity=\"1\" /><path clip-path=\"url(#clip120)\" d=\"M2047.64 191.129 Q2044.22 191.129 2042.23 193.814 Q2040.24 196.476 2040.24 201.129 Q2040.24 205.782 2042.2 208.467 Q2044.19 211.129 2047.64 211.129 Q2051.05 211.129 2053.04 208.444 Q2055.03 205.758 2055.03 201.129 Q2055.03 196.522 2053.04 193.837 Q2051.05 191.129 2047.64 191.129 M2047.64 187.518 Q2053.2 187.518 2056.37 191.129 Q2059.54 194.74 2059.54 201.129 Q2059.54 207.495 2056.37 211.129 Q2053.2 214.74 2047.64 214.74 Q2042.06 214.74 2038.89 211.129 Q2035.74 207.495 2035.74 201.129 Q2035.74 194.74 2038.89 191.129 Q2042.06 187.518 2047.64 187.518 Z\" fill=\"#000000\" fill-rule=\"evenodd\" fill-opacity=\"1\" /><path clip-path=\"url(#clip120)\" d=\"M2083.66 192.078 L2083.66 178.05 L2087.92 178.05 L2087.92 214.069 L2083.66 214.069 L2083.66 210.18 Q2082.32 212.495 2080.26 213.629 Q2078.22 214.74 2075.35 214.74 Q2070.65 214.74 2067.69 210.99 Q2064.75 207.24 2064.75 201.129 Q2064.75 195.018 2067.69 191.268 Q2070.65 187.518 2075.35 187.518 Q2078.22 187.518 2080.26 188.652 Q2082.32 189.763 2083.66 192.078 M2069.15 201.129 Q2069.15 205.828 2071.07 208.513 Q2073.01 211.175 2076.39 211.175 Q2079.77 211.175 2081.72 208.513 Q2083.66 205.828 2083.66 201.129 Q2083.66 196.43 2081.72 193.768 Q2079.77 191.083 2076.39 191.083 Q2073.01 191.083 2071.07 193.768 Q2069.15 196.43 2069.15 201.129 Z\" fill=\"#000000\" fill-rule=\"evenodd\" fill-opacity=\"1\" /><path clip-path=\"url(#clip120)\" d=\"M2096.25 203.837 L2096.25 188.143 L2100.51 188.143 L2100.51 203.675 Q2100.51 207.356 2101.95 209.208 Q2103.38 211.036 2106.25 211.036 Q2109.7 211.036 2111.69 208.837 Q2113.71 206.638 2113.71 202.842 L2113.71 188.143 L2117.97 188.143 L2117.97 214.069 L2113.71 214.069 L2113.71 210.087 Q2112.16 212.448 2110.1 213.606 Q2108.06 214.74 2105.35 214.74 Q2100.88 214.74 2098.57 211.962 Q2096.25 209.184 2096.25 203.837 M2106.97 187.518 L2106.97 187.518 Z\" fill=\"#000000\" fill-rule=\"evenodd\" fill-opacity=\"1\" /><path clip-path=\"url(#clip120)\" d=\"M2145.4 189.138 L2145.4 193.12 Q2143.59 192.124 2141.76 191.638 Q2139.96 191.129 2138.11 191.129 Q2133.96 191.129 2131.67 193.768 Q2129.38 196.384 2129.38 201.129 Q2129.38 205.874 2131.67 208.513 Q2133.96 211.129 2138.11 211.129 Q2139.96 211.129 2141.76 210.643 Q2143.59 210.133 2145.4 209.138 L2145.4 213.073 Q2143.61 213.907 2141.69 214.323 Q2139.79 214.74 2137.64 214.74 Q2131.79 214.74 2128.34 211.059 Q2124.89 207.379 2124.89 201.129 Q2124.89 194.786 2128.36 191.152 Q2131.86 187.518 2137.92 187.518 Q2139.89 187.518 2141.76 187.935 Q2143.64 188.328 2145.4 189.138 Z\" fill=\"#000000\" fill-rule=\"evenodd\" fill-opacity=\"1\" /><path clip-path=\"url(#clip120)\" d=\"M2157.02 180.782 L2157.02 188.143 L2165.79 188.143 L2165.79 191.453 L2157.02 191.453 L2157.02 205.527 Q2157.02 208.698 2157.87 209.601 Q2158.75 210.504 2161.42 210.504 L2165.79 210.504 L2165.79 214.069 L2161.42 214.069 Q2156.48 214.069 2154.61 212.24 Q2152.73 210.388 2152.73 205.527 L2152.73 191.453 L2149.61 191.453 L2149.61 188.143 L2152.73 188.143 L2152.73 180.782 L2157.02 180.782 Z\" fill=\"#000000\" fill-rule=\"evenodd\" fill-opacity=\"1\" /><path clip-path=\"url(#clip120)\" d=\"M2171.39 188.143 L2175.65 188.143 L2175.65 214.069 L2171.39 214.069 L2171.39 188.143 M2171.39 178.05 L2175.65 178.05 L2175.65 183.444 L2171.39 183.444 L2171.39 178.05 Z\" fill=\"#000000\" fill-rule=\"evenodd\" fill-opacity=\"1\" /><path clip-path=\"url(#clip120)\" d=\"M2194.61 191.129 Q2191.18 191.129 2189.19 193.814 Q2187.2 196.476 2187.2 201.129 Q2187.2 205.782 2189.17 208.467 Q2191.16 211.129 2194.61 211.129 Q2198.01 211.129 2200 208.444 Q2201.99 205.758 2201.99 201.129 Q2201.99 196.522 2200 193.837 Q2198.01 191.129 2194.61 191.129 M2194.61 187.518 Q2200.16 187.518 2203.34 191.129 Q2206.51 194.74 2206.51 201.129 Q2206.51 207.495 2203.34 211.129 Q2200.16 214.74 2194.61 214.74 Q2189.03 214.74 2185.86 211.129 Q2182.71 207.495 2182.71 201.129 Q2182.71 194.74 2185.86 191.129 Q2189.03 187.518 2194.61 187.518 Z\" fill=\"#000000\" fill-rule=\"evenodd\" fill-opacity=\"1\" /><path clip-path=\"url(#clip120)\" d=\"M2235.12 198.421 L2235.12 214.069 L2230.86 214.069 L2230.86 198.559 Q2230.86 194.879 2229.42 193.05 Q2227.99 191.222 2225.12 191.222 Q2221.67 191.222 2219.68 193.421 Q2217.69 195.62 2217.69 199.416 L2217.69 214.069 L2213.41 214.069 L2213.41 188.143 L2217.69 188.143 L2217.69 192.171 Q2219.22 189.833 2221.28 188.675 Q2223.36 187.518 2226.07 187.518 Q2230.54 187.518 2232.83 190.296 Q2235.12 193.05 2235.12 198.421 Z\" fill=\"#000000\" fill-rule=\"evenodd\" fill-opacity=\"1\" /><polyline clip-path=\"url(#clip120)\" style=\"stroke:#000000; stroke-linecap:round; stroke-linejoin:round; stroke-width:4; stroke-opacity:1; fill:none\" points=\"\n",
       "  1826.89,248.629 1968.05,248.629 \n",
       "  \"/>\n",
       "<path clip-path=\"url(#clip120)\" d=\"M2019.45 234.011 L2019.45 238.941 Q2017.09 236.742 2014.4 235.654 Q2011.74 234.566 2008.73 234.566 Q2002.8 234.566 1999.66 238.2 Q1996.51 241.812 1996.51 248.663 Q1996.51 255.492 1999.66 259.126 Q2002.8 262.737 2008.73 262.737 Q2011.74 262.737 2014.4 261.649 Q2017.09 260.561 2019.45 258.362 L2019.45 263.247 Q2016.99 264.913 2014.24 265.747 Q2011.51 266.58 2008.45 266.58 Q2000.61 266.58 1996.09 261.788 Q1991.58 256.973 1991.58 248.663 Q1991.58 240.33 1996.09 235.538 Q2000.61 230.724 2008.45 230.724 Q2011.55 230.724 2014.29 231.557 Q2017.04 232.367 2019.45 234.011 Z\" fill=\"#000000\" fill-rule=\"evenodd\" fill-opacity=\"1\" /><path clip-path=\"url(#clip120)\" d=\"M2038.27 252.876 Q2033.11 252.876 2031.11 254.057 Q2029.12 255.237 2029.12 258.085 Q2029.12 260.353 2030.61 261.696 Q2032.11 263.015 2034.68 263.015 Q2038.22 263.015 2040.35 260.515 Q2042.5 257.992 2042.5 253.825 L2042.5 252.876 L2038.27 252.876 M2046.76 251.117 L2046.76 265.909 L2042.5 265.909 L2042.5 261.973 Q2041.05 264.335 2038.87 265.469 Q2036.69 266.58 2033.55 266.58 Q2029.56 266.58 2027.2 264.358 Q2024.87 262.112 2024.87 258.362 Q2024.87 253.987 2027.78 251.765 Q2030.72 249.543 2036.53 249.543 L2042.5 249.543 L2042.5 249.126 Q2042.5 246.187 2040.56 244.589 Q2038.64 242.969 2035.14 242.969 Q2032.92 242.969 2030.81 243.501 Q2028.71 244.034 2026.76 245.099 L2026.76 241.163 Q2029.1 240.261 2031.3 239.821 Q2033.5 239.358 2035.58 239.358 Q2041.21 239.358 2043.99 242.274 Q2046.76 245.191 2046.76 251.117 Z\" fill=\"#000000\" fill-rule=\"evenodd\" fill-opacity=\"1\" /><path clip-path=\"url(#clip120)\" d=\"M2059.66 262.02 L2059.66 275.77 L2055.37 275.77 L2055.37 239.983 L2059.66 239.983 L2059.66 243.918 Q2061 241.603 2063.04 240.492 Q2065.1 239.358 2067.94 239.358 Q2072.67 239.358 2075.61 243.108 Q2078.57 246.858 2078.57 252.969 Q2078.57 259.08 2075.61 262.83 Q2072.67 266.58 2067.94 266.58 Q2065.1 266.58 2063.04 265.469 Q2061 264.335 2059.66 262.02 M2074.15 252.969 Q2074.15 248.27 2072.2 245.608 Q2070.28 242.923 2066.9 242.923 Q2063.52 242.923 2061.58 245.608 Q2059.66 248.27 2059.66 252.969 Q2059.66 257.668 2061.58 260.353 Q2063.52 263.015 2066.9 263.015 Q2070.28 263.015 2072.2 260.353 Q2074.15 257.668 2074.15 252.969 Z\" fill=\"#000000\" fill-rule=\"evenodd\" fill-opacity=\"1\" /><path clip-path=\"url(#clip120)\" d=\"M2097.41 252.876 Q2092.25 252.876 2090.26 254.057 Q2088.27 255.237 2088.27 258.085 Q2088.27 260.353 2089.75 261.696 Q2091.25 263.015 2093.82 263.015 Q2097.36 263.015 2099.49 260.515 Q2101.65 257.992 2101.65 253.825 L2101.65 252.876 L2097.41 252.876 M2105.91 251.117 L2105.91 265.909 L2101.65 265.909 L2101.65 261.973 Q2100.19 264.335 2098.01 265.469 Q2095.84 266.58 2092.69 266.58 Q2088.71 266.58 2086.35 264.358 Q2084.01 262.112 2084.01 258.362 Q2084.01 253.987 2086.92 251.765 Q2089.86 249.543 2095.67 249.543 L2101.65 249.543 L2101.65 249.126 Q2101.65 246.187 2099.7 244.589 Q2097.78 242.969 2094.29 242.969 Q2092.06 242.969 2089.96 243.501 Q2087.85 244.034 2085.91 245.099 L2085.91 241.163 Q2088.24 240.261 2090.44 239.821 Q2092.64 239.358 2094.73 239.358 Q2100.35 239.358 2103.13 242.274 Q2105.91 245.191 2105.91 251.117 Z\" fill=\"#000000\" fill-rule=\"evenodd\" fill-opacity=\"1\" /><path clip-path=\"url(#clip120)\" d=\"M2133.34 240.978 L2133.34 244.96 Q2131.53 243.964 2129.7 243.478 Q2127.9 242.969 2126.05 242.969 Q2121.9 242.969 2119.61 245.608 Q2117.32 248.224 2117.32 252.969 Q2117.32 257.714 2119.61 260.353 Q2121.9 262.969 2126.05 262.969 Q2127.9 262.969 2129.7 262.483 Q2131.53 261.973 2133.34 260.978 L2133.34 264.913 Q2131.55 265.747 2129.63 266.163 Q2127.73 266.58 2125.58 266.58 Q2119.73 266.58 2116.28 262.899 Q2112.83 259.219 2112.83 252.969 Q2112.83 246.626 2116.3 242.992 Q2119.8 239.358 2125.86 239.358 Q2127.83 239.358 2129.7 239.775 Q2131.58 240.168 2133.34 240.978 Z\" fill=\"#000000\" fill-rule=\"evenodd\" fill-opacity=\"1\" /><path clip-path=\"url(#clip120)\" d=\"M2140.74 239.983 L2145 239.983 L2145 265.909 L2140.74 265.909 L2140.74 239.983 M2140.74 229.89 L2145 229.89 L2145 235.284 L2140.74 235.284 L2140.74 229.89 Z\" fill=\"#000000\" fill-rule=\"evenodd\" fill-opacity=\"1\" /><path clip-path=\"url(#clip120)\" d=\"M2158.13 232.622 L2158.13 239.983 L2166.9 239.983 L2166.9 243.293 L2158.13 243.293 L2158.13 257.367 Q2158.13 260.538 2158.98 261.441 Q2159.86 262.344 2162.53 262.344 L2166.9 262.344 L2166.9 265.909 L2162.53 265.909 Q2157.6 265.909 2155.72 264.08 Q2153.85 262.228 2153.85 257.367 L2153.85 243.293 L2150.72 243.293 L2150.72 239.983 L2153.85 239.983 L2153.85 232.622 L2158.13 232.622 Z\" fill=\"#000000\" fill-rule=\"evenodd\" fill-opacity=\"1\" /><path clip-path=\"url(#clip120)\" d=\"M2183.29 268.316 Q2181.48 272.946 2179.77 274.358 Q2178.06 275.77 2175.19 275.77 L2171.79 275.77 L2171.79 272.205 L2174.29 272.205 Q2176.04 272.205 2177.02 271.372 Q2177.99 270.538 2179.17 267.436 L2179.93 265.492 L2169.45 239.983 L2173.96 239.983 L2182.06 260.261 L2190.17 239.983 L2194.68 239.983 L2183.29 268.316 Z\" fill=\"#000000\" fill-rule=\"evenodd\" fill-opacity=\"1\" /><polyline clip-path=\"url(#clip120)\" style=\"stroke:#ffff00; stroke-linecap:round; stroke-linejoin:round; stroke-width:4; stroke-opacity:1; fill:none\" points=\"\n",
       "  1826.89,300.469 1968.05,300.469 \n",
       "  \"/>\n",
       "<path clip-path=\"url(#clip120)\" d=\"M1991.58 283.189 L1996.25 283.189 L1996.25 317.749 L1991.58 317.749 L1991.58 283.189 Z\" fill=\"#000000\" fill-rule=\"evenodd\" fill-opacity=\"1\" /><path clip-path=\"url(#clip120)\" d=\"M2026.93 302.101 L2026.93 317.749 L2022.67 317.749 L2022.67 302.239 Q2022.67 298.559 2021.23 296.73 Q2019.8 294.902 2016.93 294.902 Q2013.48 294.902 2011.49 297.101 Q2009.49 299.3 2009.49 303.096 L2009.49 317.749 L2005.21 317.749 L2005.21 291.823 L2009.49 291.823 L2009.49 295.851 Q2011.02 293.513 2013.08 292.355 Q2015.17 291.198 2017.87 291.198 Q2022.34 291.198 2024.63 293.976 Q2026.93 296.73 2026.93 302.101 Z\" fill=\"#000000\" fill-rule=\"evenodd\" fill-opacity=\"1\" /><path clip-path=\"url(#clip120)\" d=\"M2032.36 291.823 L2036.88 291.823 L2044.98 313.582 L2053.08 291.823 L2057.6 291.823 L2047.87 317.749 L2042.09 317.749 L2032.36 291.823 Z\" fill=\"#000000\" fill-rule=\"evenodd\" fill-opacity=\"1\" /><path clip-path=\"url(#clip120)\" d=\"M2085.65 303.721 L2085.65 305.804 L2066.07 305.804 Q2066.35 310.202 2068.71 312.517 Q2071.09 314.809 2075.33 314.809 Q2077.78 314.809 2080.07 314.207 Q2082.39 313.605 2084.66 312.401 L2084.66 316.429 Q2082.36 317.401 2079.96 317.911 Q2077.55 318.42 2075.07 318.42 Q2068.87 318.42 2065.24 314.809 Q2061.62 311.198 2061.62 305.04 Q2061.62 298.675 2065.05 294.948 Q2068.5 291.198 2074.33 291.198 Q2079.56 291.198 2082.6 294.577 Q2085.65 297.934 2085.65 303.721 M2081.39 302.471 Q2081.35 298.976 2079.42 296.892 Q2077.53 294.809 2074.38 294.809 Q2070.81 294.809 2068.66 296.823 Q2066.53 298.837 2066.21 302.494 L2081.39 302.471 Z\" fill=\"#000000\" fill-rule=\"evenodd\" fill-opacity=\"1\" /><path clip-path=\"url(#clip120)\" d=\"M2114.19 302.101 L2114.19 317.749 L2109.93 317.749 L2109.93 302.239 Q2109.93 298.559 2108.5 296.73 Q2107.06 294.902 2104.19 294.902 Q2100.74 294.902 2098.75 297.101 Q2096.76 299.3 2096.76 303.096 L2096.76 317.749 L2092.48 317.749 L2092.48 291.823 L2096.76 291.823 L2096.76 295.851 Q2098.29 293.513 2100.35 292.355 Q2102.43 291.198 2105.14 291.198 Q2109.61 291.198 2111.9 293.976 Q2114.19 296.73 2114.19 302.101 Z\" fill=\"#000000\" fill-rule=\"evenodd\" fill-opacity=\"1\" /><path clip-path=\"url(#clip120)\" d=\"M2126.9 284.462 L2126.9 291.823 L2135.67 291.823 L2135.67 295.133 L2126.9 295.133 L2126.9 309.207 Q2126.9 312.378 2127.76 313.281 Q2128.64 314.184 2131.3 314.184 L2135.67 314.184 L2135.67 317.749 L2131.3 317.749 Q2126.37 317.749 2124.49 315.92 Q2122.62 314.068 2122.62 309.207 L2122.62 295.133 L2119.49 295.133 L2119.49 291.823 L2122.62 291.823 L2122.62 284.462 L2126.9 284.462 Z\" fill=\"#000000\" fill-rule=\"evenodd\" fill-opacity=\"1\" /><path clip-path=\"url(#clip120)\" d=\"M2151.32 294.809 Q2147.9 294.809 2145.91 297.494 Q2143.92 300.156 2143.92 304.809 Q2143.92 309.462 2145.88 312.147 Q2147.87 314.809 2151.32 314.809 Q2154.73 314.809 2156.72 312.124 Q2158.71 309.438 2158.71 304.809 Q2158.71 300.202 2156.72 297.517 Q2154.73 294.809 2151.32 294.809 M2151.32 291.198 Q2156.88 291.198 2160.05 294.809 Q2163.22 298.42 2163.22 304.809 Q2163.22 311.175 2160.05 314.809 Q2156.88 318.42 2151.32 318.42 Q2145.74 318.42 2142.57 314.809 Q2139.42 311.175 2139.42 304.809 Q2139.42 298.42 2142.57 294.809 Q2145.74 291.198 2151.32 291.198 Z\" fill=\"#000000\" fill-rule=\"evenodd\" fill-opacity=\"1\" /><path clip-path=\"url(#clip120)\" d=\"M2185.3 295.804 Q2184.59 295.388 2183.73 295.202 Q2182.9 294.994 2181.88 294.994 Q2178.27 294.994 2176.32 297.355 Q2174.4 299.693 2174.4 304.091 L2174.4 317.749 L2170.12 317.749 L2170.12 291.823 L2174.4 291.823 L2174.4 295.851 Q2175.74 293.489 2177.9 292.355 Q2180.05 291.198 2183.13 291.198 Q2183.57 291.198 2184.1 291.267 Q2184.63 291.314 2185.28 291.429 L2185.3 295.804 Z\" fill=\"#000000\" fill-rule=\"evenodd\" fill-opacity=\"1\" /><path clip-path=\"url(#clip120)\" d=\"M2200.56 320.156 Q2198.75 324.786 2197.04 326.198 Q2195.33 327.61 2192.46 327.61 L2189.05 327.61 L2189.05 324.045 L2191.55 324.045 Q2193.31 324.045 2194.29 323.212 Q2195.26 322.378 2196.44 319.276 L2197.2 317.332 L2186.72 291.823 L2191.23 291.823 L2199.33 312.101 L2207.43 291.823 L2211.95 291.823 L2200.56 320.156 Z\" fill=\"#000000\" fill-rule=\"evenodd\" fill-opacity=\"1\" /></svg>\n"
      ]
     },
     "execution_count": 69,
     "metadata": {},
     "output_type": "execute_result"
    }
   ],
   "source": [
    "plot!(opt_x, label = \"Production\", xlabel = \"Periods\", ylabel = \"Items\", linewidth = 4)\n",
    "plot!(C, label = \"Capacity\", xlabel = \"Periods\", ylabel = \"Items\", color = :black, linewidth = 4)\n",
    "plot!(opt_b, label = \"Inventory\", xlabel = \"Periods\", ylabel = \"Items\", color = :yellow, linewidth = 4)"
   ]
  },
  {
   "cell_type": "markdown",
   "id": "54069e15",
   "metadata": {},
   "source": [
    "I also consulted recitations 4 and 9, but did not experiment with the code."
   ]
  },
  {
   "cell_type": "markdown",
   "id": "b385485f",
   "metadata": {},
   "source": [
    "# JuMP Tutorials\n",
    "\n",
    "This is practice I did to familiarize myself with JuMP, which was a problem in the spring. These have been tinkered with from the tutorials page, jump.dev/JuMP.jl/stable/tutorials."
   ]
  },
  {
   "cell_type": "markdown",
   "id": "4e042cc9",
   "metadata": {},
   "source": [
    "## Facility Location\n",
    "\n",
    "This one is similar to the UROP and also has similar graphing components."
   ]
  },
  {
   "cell_type": "code",
   "execution_count": 72,
   "id": "3a57a781",
   "metadata": {},
   "outputs": [],
   "source": [
    "using JuMP\n",
    "\n",
    "import HiGHS, LinearAlgebra, Plots, Random"
   ]
  },
  {
   "cell_type": "code",
   "execution_count": 84,
   "id": "932c2442",
   "metadata": {
    "scrolled": true
   },
   "outputs": [
    {
     "ename": "LoadError",
     "evalue": "MethodError: no method matching round(::Vector{Float64}; digits=2)\n\u001b[0mClosest candidates are:\n\u001b[0m  round(\u001b[91m::Union{Float16, Float32, Float64}\u001b[39m, \u001b[91m::RoundingMode{:ToZero}\u001b[39m) at float.jl:367\u001b[91m got unsupported keyword argument \"digits\"\u001b[39m\n\u001b[0m  round(\u001b[91m::Union{Float16, Float32, Float64}\u001b[39m, \u001b[91m::RoundingMode{:Down}\u001b[39m) at float.jl:368\u001b[91m got unsupported keyword argument \"digits\"\u001b[39m\n\u001b[0m  round(\u001b[91m::Union{Float16, Float32, Float64}\u001b[39m, \u001b[91m::RoundingMode{:Up}\u001b[39m) at float.jl:369\u001b[91m got unsupported keyword argument \"digits\"\u001b[39m\n\u001b[0m  ...",
     "output_type": "error",
     "traceback": [
      "MethodError: no method matching round(::Vector{Float64}; digits=2)\n\u001b[0mClosest candidates are:\n\u001b[0m  round(\u001b[91m::Union{Float16, Float32, Float64}\u001b[39m, \u001b[91m::RoundingMode{:ToZero}\u001b[39m) at float.jl:367\u001b[91m got unsupported keyword argument \"digits\"\u001b[39m\n\u001b[0m  round(\u001b[91m::Union{Float16, Float32, Float64}\u001b[39m, \u001b[91m::RoundingMode{:Down}\u001b[39m) at float.jl:368\u001b[91m got unsupported keyword argument \"digits\"\u001b[39m\n\u001b[0m  round(\u001b[91m::Union{Float16, Float32, Float64}\u001b[39m, \u001b[91m::RoundingMode{:Up}\u001b[39m) at float.jl:369\u001b[91m got unsupported keyword argument \"digits\"\u001b[39m\n\u001b[0m  ...",
      "",
      "Stacktrace:",
      " [1] top-level scope",
      "   @ In[84]:7",
      " [2] eval",
      "   @ ./boot.jl:368 [inlined]",
      " [3] include_string(mapexpr::typeof(REPL.softscope), mod::Module, code::String, filename::String)",
      "   @ Base ./loading.jl:1428"
     ]
    }
   ],
   "source": [
    "# build up initial data: clients, facilities, fixed costs, and distance between clients and facilities\n",
    "\n",
    "Random.seed!(314)\n",
    "clients = 12\n",
    "facilities = 5\n",
    "\n",
    "cx, cy = rand(clients) , rand(clients) # two-dimensional coordinates\n",
    "\n",
    "fx, fy = rand(facilities), rand(facilities) # two-dimensional coordinates\n",
    "\n",
    "fixed_costs = ones(facilities)\n",
    "\n",
    "#compute distance function\n",
    "distances = zeros(clients, facilities)\n",
    "\n",
    "for i in 1:clients\n",
    "    for j in 1:facilities\n",
    "        distances[i, j] = LinearAlgebra.norm([cx[i] - fx[j], cy[i] - fy[j]], 2)\n",
    "    end\n",
    "end"
   ]
  },
  {
   "cell_type": "markdown",
   "id": "11e00244",
   "metadata": {},
   "source": [
    "### Plotting Data"
   ]
  },
  {
   "cell_type": "code",
   "execution_count": 77,
   "id": "09b174ff",
   "metadata": {
    "scrolled": true
   },
   "outputs": [
    {
     "data": {
      "image/svg+xml": [
       "<?xml version=\"1.0\" encoding=\"utf-8\"?>\n",
       "<svg xmlns=\"http://www.w3.org/2000/svg\" xmlns:xlink=\"http://www.w3.org/1999/xlink\" width=\"600\" height=\"400\" viewBox=\"0 0 2400 1600\">\n",
       "<defs>\n",
       "  <clipPath id=\"clip200\">\n",
       "    <rect x=\"0\" y=\"0\" width=\"2400\" height=\"1600\"/>\n",
       "  </clipPath>\n",
       "</defs>\n",
       "<path clip-path=\"url(#clip200)\" d=\"\n",
       "M0 1600 L2400 1600 L2400 0 L0 0  Z\n",
       "  \" fill=\"#ffffff\" fill-rule=\"evenodd\" fill-opacity=\"1\"/>\n",
       "<defs>\n",
       "  <clipPath id=\"clip201\">\n",
       "    <rect x=\"480\" y=\"0\" width=\"1681\" height=\"1600\"/>\n",
       "  </clipPath>\n",
       "</defs>\n",
       "<path clip-path=\"url(#clip200)\" d=\"\n",
       "M156.598 1486.45 L2352.76 1486.45 L2352.76 47.2441 L156.598 47.2441  Z\n",
       "  \" fill=\"#ffffff\" fill-rule=\"evenodd\" fill-opacity=\"1\"/>\n",
       "<defs>\n",
       "  <clipPath id=\"clip202\">\n",
       "    <rect x=\"156\" y=\"47\" width=\"2197\" height=\"1440\"/>\n",
       "  </clipPath>\n",
       "</defs>\n",
       "<polyline clip-path=\"url(#clip202)\" style=\"stroke:#000000; stroke-linecap:round; stroke-linejoin:round; stroke-width:2; stroke-opacity:0.1; fill:none\" points=\"\n",
       "  496.242,1486.45 496.242,47.2441 \n",
       "  \"/>\n",
       "<polyline clip-path=\"url(#clip202)\" style=\"stroke:#000000; stroke-linecap:round; stroke-linejoin:round; stroke-width:2; stroke-opacity:0.1; fill:none\" points=\"\n",
       "  953.502,1486.45 953.502,47.2441 \n",
       "  \"/>\n",
       "<polyline clip-path=\"url(#clip202)\" style=\"stroke:#000000; stroke-linecap:round; stroke-linejoin:round; stroke-width:2; stroke-opacity:0.1; fill:none\" points=\"\n",
       "  1410.76,1486.45 1410.76,47.2441 \n",
       "  \"/>\n",
       "<polyline clip-path=\"url(#clip202)\" style=\"stroke:#000000; stroke-linecap:round; stroke-linejoin:round; stroke-width:2; stroke-opacity:0.1; fill:none\" points=\"\n",
       "  1868.02,1486.45 1868.02,47.2441 \n",
       "  \"/>\n",
       "<polyline clip-path=\"url(#clip202)\" style=\"stroke:#000000; stroke-linecap:round; stroke-linejoin:round; stroke-width:2; stroke-opacity:0.1; fill:none\" points=\"\n",
       "  2325.28,1486.45 2325.28,47.2441 \n",
       "  \"/>\n",
       "<polyline clip-path=\"url(#clip200)\" style=\"stroke:#000000; stroke-linecap:round; stroke-linejoin:round; stroke-width:4; stroke-opacity:1; fill:none\" points=\"\n",
       "  156.598,1486.45 2352.76,1486.45 \n",
       "  \"/>\n",
       "<polyline clip-path=\"url(#clip200)\" style=\"stroke:#000000; stroke-linecap:round; stroke-linejoin:round; stroke-width:4; stroke-opacity:1; fill:none\" points=\"\n",
       "  496.242,1486.45 496.242,1467.55 \n",
       "  \"/>\n",
       "<polyline clip-path=\"url(#clip200)\" style=\"stroke:#000000; stroke-linecap:round; stroke-linejoin:round; stroke-width:4; stroke-opacity:1; fill:none\" points=\"\n",
       "  953.502,1486.45 953.502,1467.55 \n",
       "  \"/>\n",
       "<polyline clip-path=\"url(#clip200)\" style=\"stroke:#000000; stroke-linecap:round; stroke-linejoin:round; stroke-width:4; stroke-opacity:1; fill:none\" points=\"\n",
       "  1410.76,1486.45 1410.76,1467.55 \n",
       "  \"/>\n",
       "<polyline clip-path=\"url(#clip200)\" style=\"stroke:#000000; stroke-linecap:round; stroke-linejoin:round; stroke-width:4; stroke-opacity:1; fill:none\" points=\"\n",
       "  1868.02,1486.45 1868.02,1467.55 \n",
       "  \"/>\n",
       "<polyline clip-path=\"url(#clip200)\" style=\"stroke:#000000; stroke-linecap:round; stroke-linejoin:round; stroke-width:4; stroke-opacity:1; fill:none\" points=\"\n",
       "  2325.28,1486.45 2325.28,1467.55 \n",
       "  \"/>\n",
       "<path clip-path=\"url(#clip200)\" d=\"M474.425 1517.37 Q470.814 1517.37 468.985 1520.93 Q467.18 1524.47 467.18 1531.6 Q467.18 1538.71 468.985 1542.27 Q470.814 1545.82 474.425 1545.82 Q478.059 1545.82 479.865 1542.27 Q481.694 1538.71 481.694 1531.6 Q481.694 1524.47 479.865 1520.93 Q478.059 1517.37 474.425 1517.37 M474.425 1513.66 Q480.235 1513.66 483.291 1518.27 Q486.37 1522.85 486.37 1531.6 Q486.37 1540.33 483.291 1544.94 Q480.235 1549.52 474.425 1549.52 Q468.615 1549.52 465.536 1544.94 Q462.481 1540.33 462.481 1531.6 Q462.481 1522.85 465.536 1518.27 Q468.615 1513.66 474.425 1513.66 Z\" fill=\"#000000\" fill-rule=\"evenodd\" fill-opacity=\"1\" /><path clip-path=\"url(#clip200)\" d=\"M494.587 1542.97 L499.471 1542.97 L499.471 1548.85 L494.587 1548.85 L494.587 1542.97 Z\" fill=\"#000000\" fill-rule=\"evenodd\" fill-opacity=\"1\" /><path clip-path=\"url(#clip200)\" d=\"M513.684 1544.91 L530.004 1544.91 L530.004 1548.85 L508.059 1548.85 L508.059 1544.91 Q510.721 1542.16 515.305 1537.53 Q519.911 1532.88 521.092 1531.53 Q523.337 1529.01 524.217 1527.27 Q525.119 1525.51 525.119 1523.82 Q525.119 1521.07 523.175 1519.33 Q521.254 1517.6 518.152 1517.6 Q515.953 1517.6 513.499 1518.36 Q511.069 1519.13 508.291 1520.68 L508.291 1515.95 Q511.115 1514.82 513.569 1514.24 Q516.022 1513.66 518.059 1513.66 Q523.43 1513.66 526.624 1516.35 Q529.818 1519.03 529.818 1523.52 Q529.818 1525.65 529.008 1527.57 Q528.221 1529.47 526.115 1532.07 Q525.536 1532.74 522.434 1535.95 Q519.332 1539.15 513.684 1544.91 Z\" fill=\"#000000\" fill-rule=\"evenodd\" fill-opacity=\"1\" /><path clip-path=\"url(#clip200)\" d=\"M930.644 1517.37 Q927.032 1517.37 925.204 1520.93 Q923.398 1524.47 923.398 1531.6 Q923.398 1538.71 925.204 1542.27 Q927.032 1545.82 930.644 1545.82 Q934.278 1545.82 936.083 1542.27 Q937.912 1538.71 937.912 1531.6 Q937.912 1524.47 936.083 1520.93 Q934.278 1517.37 930.644 1517.37 M930.644 1513.66 Q936.454 1513.66 939.509 1518.27 Q942.588 1522.85 942.588 1531.6 Q942.588 1540.33 939.509 1544.94 Q936.454 1549.52 930.644 1549.52 Q924.833 1549.52 921.755 1544.94 Q918.699 1540.33 918.699 1531.6 Q918.699 1522.85 921.755 1518.27 Q924.833 1513.66 930.644 1513.66 Z\" fill=\"#000000\" fill-rule=\"evenodd\" fill-opacity=\"1\" /><path clip-path=\"url(#clip200)\" d=\"M950.805 1542.97 L955.69 1542.97 L955.69 1548.85 L950.805 1548.85 L950.805 1542.97 Z\" fill=\"#000000\" fill-rule=\"evenodd\" fill-opacity=\"1\" /><path clip-path=\"url(#clip200)\" d=\"M978.722 1518.36 L966.917 1536.81 L978.722 1536.81 L978.722 1518.36 M977.495 1514.29 L983.375 1514.29 L983.375 1536.81 L988.305 1536.81 L988.305 1540.7 L983.375 1540.7 L983.375 1548.85 L978.722 1548.85 L978.722 1540.7 L963.12 1540.7 L963.12 1536.19 L977.495 1514.29 Z\" fill=\"#000000\" fill-rule=\"evenodd\" fill-opacity=\"1\" /><path clip-path=\"url(#clip200)\" d=\"M1388.07 1517.37 Q1384.45 1517.37 1382.63 1520.93 Q1380.82 1524.47 1380.82 1531.6 Q1380.82 1538.71 1382.63 1542.27 Q1384.45 1545.82 1388.07 1545.82 Q1391.7 1545.82 1393.51 1542.27 Q1395.33 1538.71 1395.33 1531.6 Q1395.33 1524.47 1393.51 1520.93 Q1391.7 1517.37 1388.07 1517.37 M1388.07 1513.66 Q1393.88 1513.66 1396.93 1518.27 Q1400.01 1522.85 1400.01 1531.6 Q1400.01 1540.33 1396.93 1544.94 Q1393.88 1549.52 1388.07 1549.52 Q1382.26 1549.52 1379.18 1544.94 Q1376.12 1540.33 1376.12 1531.6 Q1376.12 1522.85 1379.18 1518.27 Q1382.26 1513.66 1388.07 1513.66 Z\" fill=\"#000000\" fill-rule=\"evenodd\" fill-opacity=\"1\" /><path clip-path=\"url(#clip200)\" d=\"M1408.23 1542.97 L1413.11 1542.97 L1413.11 1548.85 L1408.23 1548.85 L1408.23 1542.97 Z\" fill=\"#000000\" fill-rule=\"evenodd\" fill-opacity=\"1\" /><path clip-path=\"url(#clip200)\" d=\"M1433.88 1529.7 Q1430.73 1529.7 1428.88 1531.86 Q1427.05 1534.01 1427.05 1537.76 Q1427.05 1541.49 1428.88 1543.66 Q1430.73 1545.82 1433.88 1545.82 Q1437.02 1545.82 1438.85 1543.66 Q1440.7 1541.49 1440.7 1537.76 Q1440.7 1534.01 1438.85 1531.86 Q1437.02 1529.7 1433.88 1529.7 M1443.16 1515.05 L1443.16 1519.31 Q1441.4 1518.48 1439.59 1518.04 Q1437.81 1517.6 1436.05 1517.6 Q1431.42 1517.6 1428.97 1520.72 Q1426.54 1523.85 1426.19 1530.17 Q1427.56 1528.15 1429.62 1527.09 Q1431.68 1526 1434.15 1526 Q1439.36 1526 1442.37 1529.17 Q1445.4 1532.32 1445.4 1537.76 Q1445.4 1543.08 1442.26 1546.3 Q1439.11 1549.52 1433.88 1549.52 Q1427.88 1549.52 1424.71 1544.94 Q1421.54 1540.33 1421.54 1531.6 Q1421.54 1523.41 1425.43 1518.55 Q1429.32 1513.66 1435.87 1513.66 Q1437.63 1513.66 1439.41 1514.01 Q1441.21 1514.36 1443.16 1515.05 Z\" fill=\"#000000\" fill-rule=\"evenodd\" fill-opacity=\"1\" /><path clip-path=\"url(#clip200)\" d=\"M1845.45 1517.37 Q1841.84 1517.37 1840.01 1520.93 Q1838.21 1524.47 1838.21 1531.6 Q1838.21 1538.71 1840.01 1542.27 Q1841.84 1545.82 1845.45 1545.82 Q1849.09 1545.82 1850.89 1542.27 Q1852.72 1538.71 1852.72 1531.6 Q1852.72 1524.47 1850.89 1520.93 Q1849.09 1517.37 1845.45 1517.37 M1845.45 1513.66 Q1851.26 1513.66 1854.32 1518.27 Q1857.4 1522.85 1857.4 1531.6 Q1857.4 1540.33 1854.32 1544.94 Q1851.26 1549.52 1845.45 1549.52 Q1839.64 1549.52 1836.56 1544.94 Q1833.51 1540.33 1833.51 1531.6 Q1833.51 1522.85 1836.56 1518.27 Q1839.64 1513.66 1845.45 1513.66 Z\" fill=\"#000000\" fill-rule=\"evenodd\" fill-opacity=\"1\" /><path clip-path=\"url(#clip200)\" d=\"M1865.61 1542.97 L1870.5 1542.97 L1870.5 1548.85 L1865.61 1548.85 L1865.61 1542.97 Z\" fill=\"#000000\" fill-rule=\"evenodd\" fill-opacity=\"1\" /><path clip-path=\"url(#clip200)\" d=\"M1890.68 1532.44 Q1887.35 1532.44 1885.43 1534.22 Q1883.53 1536 1883.53 1539.13 Q1883.53 1542.25 1885.43 1544.03 Q1887.35 1545.82 1890.68 1545.82 Q1894.02 1545.82 1895.94 1544.03 Q1897.86 1542.23 1897.86 1539.13 Q1897.86 1536 1895.94 1534.22 Q1894.04 1532.44 1890.68 1532.44 M1886.01 1530.45 Q1883 1529.7 1881.31 1527.64 Q1879.64 1525.58 1879.64 1522.62 Q1879.64 1518.48 1882.58 1516.07 Q1885.55 1513.66 1890.68 1513.66 Q1895.85 1513.66 1898.79 1516.07 Q1901.73 1518.48 1901.73 1522.62 Q1901.73 1525.58 1900.04 1527.64 Q1898.37 1529.7 1895.38 1530.45 Q1898.76 1531.23 1900.64 1533.52 Q1902.54 1535.82 1902.54 1539.13 Q1902.54 1544.15 1899.46 1546.83 Q1896.4 1549.52 1890.68 1549.52 Q1884.97 1549.52 1881.89 1546.83 Q1878.83 1544.15 1878.83 1539.13 Q1878.83 1535.82 1880.73 1533.52 Q1882.63 1531.23 1886.01 1530.45 M1884.3 1523.06 Q1884.3 1525.75 1885.96 1527.25 Q1887.65 1528.76 1890.68 1528.76 Q1893.69 1528.76 1895.38 1527.25 Q1897.1 1525.75 1897.1 1523.06 Q1897.1 1520.38 1895.38 1518.87 Q1893.69 1517.37 1890.68 1517.37 Q1887.65 1517.37 1885.96 1518.87 Q1884.3 1520.38 1884.3 1523.06 Z\" fill=\"#000000\" fill-rule=\"evenodd\" fill-opacity=\"1\" /><path clip-path=\"url(#clip200)\" d=\"M2292.44 1544.91 L2300.07 1544.91 L2300.07 1518.55 L2291.76 1520.21 L2291.76 1515.95 L2300.03 1514.29 L2304.7 1514.29 L2304.7 1544.91 L2312.34 1544.91 L2312.34 1548.85 L2292.44 1548.85 L2292.44 1544.91 Z\" fill=\"#000000\" fill-rule=\"evenodd\" fill-opacity=\"1\" /><path clip-path=\"url(#clip200)\" d=\"M2321.79 1542.97 L2326.67 1542.97 L2326.67 1548.85 L2321.79 1548.85 L2321.79 1542.97 Z\" fill=\"#000000\" fill-rule=\"evenodd\" fill-opacity=\"1\" /><path clip-path=\"url(#clip200)\" d=\"M2346.86 1517.37 Q2343.25 1517.37 2341.42 1520.93 Q2339.61 1524.47 2339.61 1531.6 Q2339.61 1538.71 2341.42 1542.27 Q2343.25 1545.82 2346.86 1545.82 Q2350.49 1545.82 2352.3 1542.27 Q2354.12 1538.71 2354.12 1531.6 Q2354.12 1524.47 2352.3 1520.93 Q2350.49 1517.37 2346.86 1517.37 M2346.86 1513.66 Q2352.67 1513.66 2355.72 1518.27 Q2358.8 1522.85 2358.8 1531.6 Q2358.8 1540.33 2355.72 1544.94 Q2352.67 1549.52 2346.86 1549.52 Q2341.05 1549.52 2337.97 1544.94 Q2334.91 1540.33 2334.91 1531.6 Q2334.91 1522.85 2337.97 1518.27 Q2341.05 1513.66 2346.86 1513.66 Z\" fill=\"#000000\" fill-rule=\"evenodd\" fill-opacity=\"1\" /><polyline clip-path=\"url(#clip202)\" style=\"stroke:#000000; stroke-linecap:round; stroke-linejoin:round; stroke-width:2; stroke-opacity:0.1; fill:none\" points=\"\n",
       "  156.598,1203.47 2352.76,1203.47 \n",
       "  \"/>\n",
       "<polyline clip-path=\"url(#clip202)\" style=\"stroke:#000000; stroke-linecap:round; stroke-linejoin:round; stroke-width:2; stroke-opacity:0.1; fill:none\" points=\"\n",
       "  156.598,883.412 2352.76,883.412 \n",
       "  \"/>\n",
       "<polyline clip-path=\"url(#clip202)\" style=\"stroke:#000000; stroke-linecap:round; stroke-linejoin:round; stroke-width:2; stroke-opacity:0.1; fill:none\" points=\"\n",
       "  156.598,563.356 2352.76,563.356 \n",
       "  \"/>\n",
       "<polyline clip-path=\"url(#clip202)\" style=\"stroke:#000000; stroke-linecap:round; stroke-linejoin:round; stroke-width:2; stroke-opacity:0.1; fill:none\" points=\"\n",
       "  156.598,243.3 2352.76,243.3 \n",
       "  \"/>\n",
       "<polyline clip-path=\"url(#clip200)\" style=\"stroke:#000000; stroke-linecap:round; stroke-linejoin:round; stroke-width:4; stroke-opacity:1; fill:none\" points=\"\n",
       "  156.598,1486.45 156.598,47.2441 \n",
       "  \"/>\n",
       "<polyline clip-path=\"url(#clip200)\" style=\"stroke:#000000; stroke-linecap:round; stroke-linejoin:round; stroke-width:4; stroke-opacity:1; fill:none\" points=\"\n",
       "  156.598,1203.47 175.496,1203.47 \n",
       "  \"/>\n",
       "<polyline clip-path=\"url(#clip200)\" style=\"stroke:#000000; stroke-linecap:round; stroke-linejoin:round; stroke-width:4; stroke-opacity:1; fill:none\" points=\"\n",
       "  156.598,883.412 175.496,883.412 \n",
       "  \"/>\n",
       "<polyline clip-path=\"url(#clip200)\" style=\"stroke:#000000; stroke-linecap:round; stroke-linejoin:round; stroke-width:4; stroke-opacity:1; fill:none\" points=\"\n",
       "  156.598,563.356 175.496,563.356 \n",
       "  \"/>\n",
       "<polyline clip-path=\"url(#clip200)\" style=\"stroke:#000000; stroke-linecap:round; stroke-linejoin:round; stroke-width:4; stroke-opacity:1; fill:none\" points=\"\n",
       "  156.598,243.3 175.496,243.3 \n",
       "  \"/>\n",
       "<path clip-path=\"url(#clip200)\" d=\"M65.0198 1189.27 Q61.4087 1189.27 59.58 1192.83 Q57.7745 1196.37 57.7745 1203.5 Q57.7745 1210.61 59.58 1214.17 Q61.4087 1217.72 65.0198 1217.72 Q68.6541 1217.72 70.4596 1214.17 Q72.2883 1210.61 72.2883 1203.5 Q72.2883 1196.37 70.4596 1192.83 Q68.6541 1189.27 65.0198 1189.27 M65.0198 1185.56 Q70.83 1185.56 73.8855 1190.17 Q76.9642 1194.75 76.9642 1203.5 Q76.9642 1212.23 73.8855 1216.84 Q70.83 1221.42 65.0198 1221.42 Q59.2097 1221.42 56.131 1216.84 Q53.0754 1212.23 53.0754 1203.5 Q53.0754 1194.75 56.131 1190.17 Q59.2097 1185.56 65.0198 1185.56 Z\" fill=\"#000000\" fill-rule=\"evenodd\" fill-opacity=\"1\" /><path clip-path=\"url(#clip200)\" d=\"M85.1818 1214.87 L90.066 1214.87 L90.066 1220.75 L85.1818 1220.75 L85.1818 1214.87 Z\" fill=\"#000000\" fill-rule=\"evenodd\" fill-opacity=\"1\" /><path clip-path=\"url(#clip200)\" d=\"M104.279 1216.81 L120.598 1216.81 L120.598 1220.75 L98.6539 1220.75 L98.6539 1216.81 Q101.316 1214.06 105.899 1209.43 Q110.506 1204.78 111.686 1203.43 Q113.932 1200.91 114.811 1199.17 Q115.714 1197.41 115.714 1195.73 Q115.714 1192.97 113.77 1191.23 Q111.848 1189.5 108.746 1189.5 Q106.547 1189.5 104.094 1190.26 Q101.663 1191.03 98.8854 1192.58 L98.8854 1187.85 Q101.709 1186.72 104.163 1186.14 Q106.617 1185.56 108.654 1185.56 Q114.024 1185.56 117.219 1188.25 Q120.413 1190.93 120.413 1195.42 Q120.413 1197.55 119.603 1199.48 Q118.816 1201.37 116.709 1203.97 Q116.131 1204.64 113.029 1207.85 Q109.927 1211.05 104.279 1216.81 Z\" fill=\"#000000\" fill-rule=\"evenodd\" fill-opacity=\"1\" /><path clip-path=\"url(#clip200)\" d=\"M62.9365 869.211 Q59.3254 869.211 57.4967 872.775 Q55.6912 876.317 55.6912 883.447 Q55.6912 890.553 57.4967 894.118 Q59.3254 897.66 62.9365 897.66 Q66.5707 897.66 68.3763 894.118 Q70.205 890.553 70.205 883.447 Q70.205 876.317 68.3763 872.775 Q66.5707 869.211 62.9365 869.211 M62.9365 865.507 Q68.7467 865.507 71.8022 870.113 Q74.8809 874.697 74.8809 883.447 Q74.8809 892.174 71.8022 896.78 Q68.7467 901.363 62.9365 901.363 Q57.1264 901.363 54.0477 896.78 Q50.9921 892.174 50.9921 883.447 Q50.9921 874.697 54.0477 870.113 Q57.1264 865.507 62.9365 865.507 Z\" fill=\"#000000\" fill-rule=\"evenodd\" fill-opacity=\"1\" /><path clip-path=\"url(#clip200)\" d=\"M83.0984 894.812 L87.9827 894.812 L87.9827 900.692 L83.0984 900.692 L83.0984 894.812 Z\" fill=\"#000000\" fill-rule=\"evenodd\" fill-opacity=\"1\" /><path clip-path=\"url(#clip200)\" d=\"M111.015 870.206 L99.2095 888.655 L111.015 888.655 L111.015 870.206 M109.788 866.132 L115.668 866.132 L115.668 888.655 L120.598 888.655 L120.598 892.544 L115.668 892.544 L115.668 900.692 L111.015 900.692 L111.015 892.544 L95.4132 892.544 L95.4132 888.03 L109.788 866.132 Z\" fill=\"#000000\" fill-rule=\"evenodd\" fill-opacity=\"1\" /><path clip-path=\"url(#clip200)\" d=\"M63.2606 549.155 Q59.6495 549.155 57.8208 552.719 Q56.0152 556.261 56.0152 563.391 Q56.0152 570.497 57.8208 574.062 Q59.6495 577.604 63.2606 577.604 Q66.8948 577.604 68.7004 574.062 Q70.5291 570.497 70.5291 563.391 Q70.5291 556.261 68.7004 552.719 Q66.8948 549.155 63.2606 549.155 M63.2606 545.451 Q69.0707 545.451 72.1263 550.057 Q75.205 554.641 75.205 563.391 Q75.205 572.117 72.1263 576.724 Q69.0707 581.307 63.2606 581.307 Q57.4504 581.307 54.3717 576.724 Q51.3162 572.117 51.3162 563.391 Q51.3162 554.641 54.3717 550.057 Q57.4504 545.451 63.2606 545.451 Z\" fill=\"#000000\" fill-rule=\"evenodd\" fill-opacity=\"1\" /><path clip-path=\"url(#clip200)\" d=\"M83.4225 574.756 L88.3067 574.756 L88.3067 580.636 L83.4225 580.636 L83.4225 574.756 Z\" fill=\"#000000\" fill-rule=\"evenodd\" fill-opacity=\"1\" /><path clip-path=\"url(#clip200)\" d=\"M109.071 561.493 Q105.922 561.493 104.071 563.645 Q102.242 565.798 102.242 569.548 Q102.242 573.275 104.071 575.451 Q105.922 577.604 109.071 577.604 Q112.219 577.604 114.047 575.451 Q115.899 573.275 115.899 569.548 Q115.899 565.798 114.047 563.645 Q112.219 561.493 109.071 561.493 M118.353 546.84 L118.353 551.099 Q116.594 550.266 114.788 549.826 Q113.006 549.386 111.246 549.386 Q106.617 549.386 104.163 552.511 Q101.733 555.636 101.385 561.955 Q102.751 559.942 104.811 558.877 Q106.871 557.789 109.348 557.789 Q114.557 557.789 117.566 560.96 Q120.598 564.108 120.598 569.548 Q120.598 574.872 117.45 578.09 Q114.302 581.307 109.071 581.307 Q103.075 581.307 99.9039 576.724 Q96.7326 572.117 96.7326 563.391 Q96.7326 555.196 100.621 550.335 Q104.51 545.451 111.061 545.451 Q112.82 545.451 114.603 545.798 Q116.408 546.145 118.353 546.84 Z\" fill=\"#000000\" fill-rule=\"evenodd\" fill-opacity=\"1\" /><path clip-path=\"url(#clip200)\" d=\"M63.5152 229.099 Q59.9041 229.099 58.0754 232.663 Q56.2699 236.205 56.2699 243.335 Q56.2699 250.441 58.0754 254.006 Q59.9041 257.547 63.5152 257.547 Q67.1494 257.547 68.955 254.006 Q70.7837 250.441 70.7837 243.335 Q70.7837 236.205 68.955 232.663 Q67.1494 229.099 63.5152 229.099 M63.5152 225.395 Q69.3254 225.395 72.3809 230.001 Q75.4596 234.585 75.4596 243.335 Q75.4596 252.061 72.3809 256.668 Q69.3254 261.251 63.5152 261.251 Q57.7051 261.251 54.6264 256.668 Q51.5708 252.061 51.5708 243.335 Q51.5708 234.585 54.6264 230.001 Q57.7051 225.395 63.5152 225.395 Z\" fill=\"#000000\" fill-rule=\"evenodd\" fill-opacity=\"1\" /><path clip-path=\"url(#clip200)\" d=\"M83.6771 254.7 L88.5614 254.7 L88.5614 260.58 L83.6771 260.58 L83.6771 254.7 Z\" fill=\"#000000\" fill-rule=\"evenodd\" fill-opacity=\"1\" /><path clip-path=\"url(#clip200)\" d=\"M108.746 244.168 Q105.413 244.168 103.492 245.95 Q101.594 247.733 101.594 250.858 Q101.594 253.983 103.492 255.765 Q105.413 257.547 108.746 257.547 Q112.08 257.547 114.001 255.765 Q115.922 253.96 115.922 250.858 Q115.922 247.733 114.001 245.95 Q112.103 244.168 108.746 244.168 M104.071 242.177 Q101.061 241.436 99.3715 239.376 Q97.7048 237.316 97.7048 234.353 Q97.7048 230.21 100.645 227.802 Q103.608 225.395 108.746 225.395 Q113.908 225.395 116.848 227.802 Q119.788 230.21 119.788 234.353 Q119.788 237.316 118.098 239.376 Q116.432 241.436 113.445 242.177 Q116.825 242.964 118.7 245.256 Q120.598 247.548 120.598 250.858 Q120.598 255.881 117.52 258.566 Q114.464 261.251 108.746 261.251 Q103.029 261.251 99.9502 258.566 Q96.8947 255.881 96.8947 250.858 Q96.8947 247.548 98.7928 245.256 Q100.691 242.964 104.071 242.177 M102.358 234.793 Q102.358 237.478 104.024 238.983 Q105.714 240.487 108.746 240.487 Q111.756 240.487 113.445 238.983 Q115.158 237.478 115.158 234.793 Q115.158 232.108 113.445 230.603 Q111.756 229.099 108.746 229.099 Q105.714 229.099 104.024 230.603 Q102.358 232.108 102.358 234.793 Z\" fill=\"#000000\" fill-rule=\"evenodd\" fill-opacity=\"1\" /><circle clip-path=\"url(#clip202)\" cx=\"900.754\" cy=\"117.213\" r=\"14.4\" fill=\"#0000ff\" fill-rule=\"evenodd\" fill-opacity=\"1\" stroke=\"#000000\" stroke-opacity=\"1\" stroke-width=\"3.2\"/>\n",
       "<circle clip-path=\"url(#clip202)\" cx=\"1337.66\" cy=\"998.336\" r=\"14.4\" fill=\"#0000ff\" fill-rule=\"evenodd\" fill-opacity=\"1\" stroke=\"#000000\" stroke-opacity=\"1\" stroke-width=\"3.2\"/>\n",
       "<circle clip-path=\"url(#clip202)\" cx=\"2288.96\" cy=\"1030.31\" r=\"14.4\" fill=\"#0000ff\" fill-rule=\"evenodd\" fill-opacity=\"1\" stroke=\"#000000\" stroke-opacity=\"1\" stroke-width=\"3.2\"/>\n",
       "<circle clip-path=\"url(#clip202)\" cx=\"1840.64\" cy=\"87.9763\" r=\"14.4\" fill=\"#0000ff\" fill-rule=\"evenodd\" fill-opacity=\"1\" stroke=\"#000000\" stroke-opacity=\"1\" stroke-width=\"3.2\"/>\n",
       "<circle clip-path=\"url(#clip202)\" cx=\"218.754\" cy=\"1410.69\" r=\"14.4\" fill=\"#0000ff\" fill-rule=\"evenodd\" fill-opacity=\"1\" stroke=\"#000000\" stroke-opacity=\"1\" stroke-width=\"3.2\"/>\n",
       "<circle clip-path=\"url(#clip202)\" cx=\"768.03\" cy=\"1026.75\" r=\"14.4\" fill=\"#0000ff\" fill-rule=\"evenodd\" fill-opacity=\"1\" stroke=\"#000000\" stroke-opacity=\"1\" stroke-width=\"3.2\"/>\n",
       "<circle clip-path=\"url(#clip202)\" cx=\"2017.02\" cy=\"967.646\" r=\"14.4\" fill=\"#0000ff\" fill-rule=\"evenodd\" fill-opacity=\"1\" stroke=\"#000000\" stroke-opacity=\"1\" stroke-width=\"3.2\"/>\n",
       "<circle clip-path=\"url(#clip202)\" cx=\"2283.71\" cy=\"1087.25\" r=\"14.4\" fill=\"#0000ff\" fill-rule=\"evenodd\" fill-opacity=\"1\" stroke=\"#000000\" stroke-opacity=\"1\" stroke-width=\"3.2\"/>\n",
       "<circle clip-path=\"url(#clip202)\" cx=\"1955.74\" cy=\"1445.72\" r=\"14.4\" fill=\"#0000ff\" fill-rule=\"evenodd\" fill-opacity=\"1\" stroke=\"#000000\" stroke-opacity=\"1\" stroke-width=\"3.2\"/>\n",
       "<circle clip-path=\"url(#clip202)\" cx=\"257.146\" cy=\"888.562\" r=\"14.4\" fill=\"#0000ff\" fill-rule=\"evenodd\" fill-opacity=\"1\" stroke=\"#000000\" stroke-opacity=\"1\" stroke-width=\"3.2\"/>\n",
       "<circle clip-path=\"url(#clip202)\" cx=\"1413.3\" cy=\"296.531\" r=\"14.4\" fill=\"#0000ff\" fill-rule=\"evenodd\" fill-opacity=\"1\" stroke=\"#000000\" stroke-opacity=\"1\" stroke-width=\"3.2\"/>\n",
       "<circle clip-path=\"url(#clip202)\" cx=\"611.082\" cy=\"118.991\" r=\"14.4\" fill=\"#0000ff\" fill-rule=\"evenodd\" fill-opacity=\"1\" stroke=\"#000000\" stroke-opacity=\"1\" stroke-width=\"3.2\"/>\n",
       "<path clip-path=\"url(#clip202)\" d=\"M614.682 166.046 L614.682 214.046 L662.682 214.046 L662.682 166.046 L614.682 166.046 Z\" fill=\"#ffffff\" fill-rule=\"evenodd\" fill-opacity=\"1\" stroke=\"#ff0000\" stroke-opacity=\"1\" stroke-width=\"9.6\"/>\n",
       "<path clip-path=\"url(#clip202)\" d=\"M1958.4 760.137 L1958.4 808.137 L2006.4 808.137 L2006.4 760.137 L1958.4 760.137 Z\" fill=\"#ffffff\" fill-rule=\"evenodd\" fill-opacity=\"1\" stroke=\"#ff0000\" stroke-opacity=\"1\" stroke-width=\"9.6\"/>\n",
       "<path clip-path=\"url(#clip202)\" d=\"M994.777 719.237 L994.777 767.237 L1042.78 767.237 L1042.78 719.237 L994.777 719.237 Z\" fill=\"#ffffff\" fill-rule=\"evenodd\" fill-opacity=\"1\" stroke=\"#ff0000\" stroke-opacity=\"1\" stroke-width=\"9.6\"/>\n",
       "<path clip-path=\"url(#clip202)\" d=\"M806.323 1254.75 L806.323 1302.75 L854.323 1302.75 L854.323 1254.75 L806.323 1254.75 Z\" fill=\"#ffffff\" fill-rule=\"evenodd\" fill-opacity=\"1\" stroke=\"#ff0000\" stroke-opacity=\"1\" stroke-width=\"9.6\"/>\n",
       "<path clip-path=\"url(#clip202)\" d=\"M2266.6 876.347 L2266.6 924.347 L2314.6 924.347 L2314.6 876.347 L2266.6 876.347 Z\" fill=\"#ffffff\" fill-rule=\"evenodd\" fill-opacity=\"1\" stroke=\"#ff0000\" stroke-opacity=\"1\" stroke-width=\"9.6\"/>\n",
       "<path clip-path=\"url(#clip200)\" d=\"\n",
       "M1877.41 250.738 L2279.55 250.738 L2279.55 95.2176 L1877.41 95.2176  Z\n",
       "  \" fill=\"#ffffff\" fill-rule=\"evenodd\" fill-opacity=\"1\"/>\n",
       "<polyline clip-path=\"url(#clip200)\" style=\"stroke:#000000; stroke-linecap:round; stroke-linejoin:round; stroke-width:4; stroke-opacity:1; fill:none\" points=\"\n",
       "  1877.41,250.738 2279.55,250.738 2279.55,95.2176 1877.41,95.2176 1877.41,250.738 \n",
       "  \"/>\n",
       "<circle clip-path=\"url(#clip200)\" cx=\"1975.02\" cy=\"147.058\" r=\"23.04\" fill=\"#0000ff\" fill-rule=\"evenodd\" fill-opacity=\"1\" stroke=\"#000000\" stroke-opacity=\"1\" stroke-width=\"5.12\"/>\n",
       "<path clip-path=\"url(#clip200)\" d=\"M2100.49 132.44 L2100.49 137.37 Q2098.13 135.171 2095.45 134.083 Q2092.78 132.995 2089.78 132.995 Q2083.85 132.995 2080.7 136.629 Q2077.55 140.24 2077.55 147.092 Q2077.55 153.921 2080.7 157.555 Q2083.85 161.166 2089.78 161.166 Q2092.78 161.166 2095.45 160.078 Q2098.13 158.99 2100.49 156.791 L2100.49 161.676 Q2098.04 163.342 2095.28 164.176 Q2092.55 165.009 2089.5 165.009 Q2081.65 165.009 2077.14 160.217 Q2072.62 155.402 2072.62 147.092 Q2072.62 138.759 2077.14 133.967 Q2081.65 129.153 2089.5 129.153 Q2092.6 129.153 2095.33 129.986 Q2098.09 130.796 2100.49 132.44 Z\" fill=\"#000000\" fill-rule=\"evenodd\" fill-opacity=\"1\" /><path clip-path=\"url(#clip200)\" d=\"M2107.53 128.319 L2111.79 128.319 L2111.79 164.338 L2107.53 164.338 L2107.53 128.319 Z\" fill=\"#000000\" fill-rule=\"evenodd\" fill-opacity=\"1\" /><path clip-path=\"url(#clip200)\" d=\"M2120.7 138.412 L2124.96 138.412 L2124.96 164.338 L2120.7 164.338 L2120.7 138.412 M2120.7 128.319 L2124.96 128.319 L2124.96 133.713 L2120.7 133.713 L2120.7 128.319 Z\" fill=\"#000000\" fill-rule=\"evenodd\" fill-opacity=\"1\" /><path clip-path=\"url(#clip200)\" d=\"M2156.05 150.31 L2156.05 152.393 L2136.47 152.393 Q2136.74 156.791 2139.1 159.106 Q2141.49 161.398 2145.72 161.398 Q2148.18 161.398 2150.47 160.796 Q2152.78 160.194 2155.05 158.99 L2155.05 163.018 Q2152.76 163.99 2150.35 164.5 Q2147.95 165.009 2145.47 165.009 Q2139.27 165.009 2135.63 161.398 Q2132.02 157.787 2132.02 151.629 Q2132.02 145.264 2135.45 141.537 Q2138.9 137.787 2144.73 137.787 Q2149.96 137.787 2152.99 141.166 Q2156.05 144.523 2156.05 150.31 M2151.79 149.06 Q2151.74 145.565 2149.82 143.481 Q2147.92 141.398 2144.78 141.398 Q2141.21 141.398 2139.06 143.412 Q2136.93 145.426 2136.6 149.083 L2151.79 149.06 Z\" fill=\"#000000\" fill-rule=\"evenodd\" fill-opacity=\"1\" /><path clip-path=\"url(#clip200)\" d=\"M2184.59 148.689 L2184.59 164.338 L2180.33 164.338 L2180.33 148.828 Q2180.33 145.148 2178.9 143.319 Q2177.46 141.49 2174.59 141.49 Q2171.14 141.49 2169.15 143.69 Q2167.16 145.889 2167.16 149.685 L2167.16 164.338 L2162.88 164.338 L2162.88 138.412 L2167.16 138.412 L2167.16 142.44 Q2168.69 140.102 2170.75 138.944 Q2172.83 137.787 2175.54 137.787 Q2180.01 137.787 2182.3 140.565 Q2184.59 143.319 2184.59 148.689 Z\" fill=\"#000000\" fill-rule=\"evenodd\" fill-opacity=\"1\" /><path clip-path=\"url(#clip200)\" d=\"M2197.3 131.051 L2197.3 138.412 L2206.07 138.412 L2206.07 141.722 L2197.3 141.722 L2197.3 155.796 Q2197.3 158.967 2198.15 159.87 Q2199.03 160.773 2201.7 160.773 L2206.07 160.773 L2206.07 164.338 L2201.7 164.338 Q2196.77 164.338 2194.89 162.509 Q2193.02 160.657 2193.02 155.796 L2193.02 141.722 L2189.89 141.722 L2189.89 138.412 L2193.02 138.412 L2193.02 131.051 L2197.3 131.051 Z\" fill=\"#000000\" fill-rule=\"evenodd\" fill-opacity=\"1\" /><path clip-path=\"url(#clip200)\" d=\"M2228.2 139.176 L2228.2 143.203 Q2226.4 142.277 2224.45 141.815 Q2222.51 141.352 2220.42 141.352 Q2217.25 141.352 2215.65 142.324 Q2214.08 143.296 2214.08 145.24 Q2214.08 146.722 2215.21 147.578 Q2216.35 148.412 2219.77 149.176 L2221.23 149.5 Q2225.77 150.472 2227.67 152.254 Q2229.59 154.014 2229.59 157.185 Q2229.59 160.796 2226.72 162.902 Q2223.87 165.009 2218.87 165.009 Q2216.79 165.009 2214.52 164.592 Q2212.28 164.199 2209.78 163.388 L2209.78 158.99 Q2212.14 160.217 2214.43 160.842 Q2216.72 161.444 2218.96 161.444 Q2221.97 161.444 2223.59 160.426 Q2225.21 159.384 2225.21 157.509 Q2225.21 155.773 2224.03 154.847 Q2222.88 153.921 2218.92 153.064 L2217.44 152.717 Q2213.48 151.884 2211.72 150.171 Q2209.96 148.435 2209.96 145.426 Q2209.96 141.768 2212.55 139.778 Q2215.15 137.787 2219.91 137.787 Q2222.27 137.787 2224.36 138.134 Q2226.44 138.481 2228.2 139.176 Z\" fill=\"#000000\" fill-rule=\"evenodd\" fill-opacity=\"1\" /><path clip-path=\"url(#clip200)\" d=\"M1949.42 173.298 L1949.42 224.498 L2000.62 224.498 L2000.62 173.298 L1949.42 173.298 Z\" fill=\"#ffffff\" fill-rule=\"evenodd\" fill-opacity=\"1\" stroke=\"#ff0000\" stroke-opacity=\"1\" stroke-width=\"10.24\"/>\n",
       "<path clip-path=\"url(#clip200)\" d=\"M2072.62 181.618 L2092.48 181.618 L2092.48 185.553 L2077.3 185.553 L2077.3 195.738 L2091 195.738 L2091 199.673 L2077.3 199.673 L2077.3 216.178 L2072.62 216.178 L2072.62 181.618 Z\" fill=\"#000000\" fill-rule=\"evenodd\" fill-opacity=\"1\" /><path clip-path=\"url(#clip200)\" d=\"M2107.14 203.145 Q2101.97 203.145 2099.98 204.326 Q2097.99 205.506 2097.99 208.354 Q2097.99 210.622 2099.47 211.965 Q2100.98 213.284 2103.55 213.284 Q2107.09 213.284 2109.22 210.784 Q2111.37 208.261 2111.37 204.094 L2111.37 203.145 L2107.14 203.145 M2115.63 201.386 L2115.63 216.178 L2111.37 216.178 L2111.37 212.242 Q2109.91 214.603 2107.74 215.738 Q2105.56 216.849 2102.41 216.849 Q2098.43 216.849 2096.07 214.627 Q2093.73 212.381 2093.73 208.631 Q2093.73 204.256 2096.65 202.034 Q2099.59 199.812 2105.4 199.812 L2111.37 199.812 L2111.37 199.395 Q2111.37 196.455 2109.43 194.858 Q2107.51 193.238 2104.01 193.238 Q2101.79 193.238 2099.68 193.77 Q2097.58 194.303 2095.63 195.367 L2095.63 191.432 Q2097.97 190.53 2100.17 190.09 Q2102.37 189.627 2104.45 189.627 Q2110.08 189.627 2112.85 192.543 Q2115.63 195.46 2115.63 201.386 Z\" fill=\"#000000\" fill-rule=\"evenodd\" fill-opacity=\"1\" /><path clip-path=\"url(#clip200)\" d=\"M2143.06 191.247 L2143.06 195.229 Q2141.26 194.233 2139.43 193.747 Q2137.62 193.238 2135.77 193.238 Q2131.63 193.238 2129.34 195.877 Q2127.04 198.492 2127.04 203.238 Q2127.04 207.983 2129.34 210.622 Q2131.63 213.238 2135.77 213.238 Q2137.62 213.238 2139.43 212.752 Q2141.26 212.242 2143.06 211.247 L2143.06 215.182 Q2141.28 216.016 2139.36 216.432 Q2137.46 216.849 2135.31 216.849 Q2129.45 216.849 2126 213.168 Q2122.55 209.488 2122.55 203.238 Q2122.55 196.895 2126.03 193.261 Q2129.52 189.627 2135.59 189.627 Q2137.55 189.627 2139.43 190.043 Q2141.3 190.437 2143.06 191.247 Z\" fill=\"#000000\" fill-rule=\"evenodd\" fill-opacity=\"1\" /><path clip-path=\"url(#clip200)\" d=\"M2150.47 190.252 L2154.73 190.252 L2154.73 216.178 L2150.47 216.178 L2150.47 190.252 M2150.47 180.159 L2154.73 180.159 L2154.73 185.553 L2150.47 185.553 L2150.47 180.159 Z\" fill=\"#000000\" fill-rule=\"evenodd\" fill-opacity=\"1\" /><path clip-path=\"url(#clip200)\" d=\"M2163.64 180.159 L2167.9 180.159 L2167.9 216.178 L2163.64 216.178 L2163.64 180.159 Z\" fill=\"#000000\" fill-rule=\"evenodd\" fill-opacity=\"1\" /><path clip-path=\"url(#clip200)\" d=\"M2176.81 190.252 L2181.07 190.252 L2181.07 216.178 L2176.81 216.178 L2176.81 190.252 M2176.81 180.159 L2181.07 180.159 L2181.07 185.553 L2176.81 185.553 L2176.81 180.159 Z\" fill=\"#000000\" fill-rule=\"evenodd\" fill-opacity=\"1\" /><path clip-path=\"url(#clip200)\" d=\"M2194.2 182.891 L2194.2 190.252 L2202.97 190.252 L2202.97 193.562 L2194.2 193.562 L2194.2 207.636 Q2194.2 210.807 2195.05 211.71 Q2195.93 212.613 2198.59 212.613 L2202.97 212.613 L2202.97 216.178 L2198.59 216.178 Q2193.66 216.178 2191.79 214.349 Q2189.91 212.497 2189.91 207.636 L2189.91 193.562 L2186.79 193.562 L2186.79 190.252 L2189.91 190.252 L2189.91 182.891 L2194.2 182.891 Z\" fill=\"#000000\" fill-rule=\"evenodd\" fill-opacity=\"1\" /><path clip-path=\"url(#clip200)\" d=\"M2219.36 218.585 Q2217.55 223.215 2215.84 224.627 Q2214.13 226.039 2211.26 226.039 L2207.85 226.039 L2207.85 222.474 L2210.35 222.474 Q2212.11 222.474 2213.09 221.64 Q2214.06 220.807 2215.24 217.705 L2216 215.761 L2205.52 190.252 L2210.03 190.252 L2218.13 210.529 L2226.23 190.252 L2230.75 190.252 L2219.36 218.585 Z\" fill=\"#000000\" fill-rule=\"evenodd\" fill-opacity=\"1\" /></svg>\n"
      ]
     },
     "execution_count": 77,
     "metadata": {},
     "output_type": "execute_result"
    }
   ],
   "source": [
    "# display data\n",
    "Plots.scatter(cx, cy; label = \"Clients\", markershape = :circle, markercolor = :blue)\n",
    "Plots.scatter!(fx, fy; label = \"Facility\", markershape = :square, markercolor = :white, \n",
    "    markersize = 6, markerstrokecolor = :red, markerstrokewidth = 3)"
   ]
  },
  {
   "cell_type": "markdown",
   "id": "ba355d14",
   "metadata": {},
   "source": [
    "Now we can build the model with the constraints: each client gets one facility; facilities that serve clients must be open \n",
    "(this is represented with x[client_number, facility_number] <= y[facility_number])"
   ]
  },
  {
   "cell_type": "code",
   "execution_count": 81,
   "id": "b020ab69",
   "metadata": {},
   "outputs": [],
   "source": [
    "model = Model(HiGHS.Optimizer)\n",
    "@variable(model, serve[1:clients, 1:facilities], Bin, base_name = \"Serving Decision\")\n",
    "@variable(model, fac_open[1:facilities], Bin, base_name = \"Open Facility\")\n",
    "\n",
    "@constraint(model, client_served_once[i in 1:clients], \n",
    "    sum(serve[i, j] for j in 1:facilities) == 1, base_name = \"client-served-once\")\n",
    "@constraint(model, open_fac[i in 1:clients, j in 1:facilities], \n",
    "    serve[i, j] <= fac_open[j], base_name = \"open-fac-constraint\");\n",
    "\n",
    "@objective(model, Min, fixed_costs' * fac_open + sum(distances .* serve));"
   ]
  },
  {
   "cell_type": "code",
   "execution_count": 82,
   "id": "52a23a46",
   "metadata": {},
   "outputs": [
    {
     "data": {
      "text/latex": [
       "$$ \\begin{aligned}\n",
       "\\min\\quad & Open Facility_{1} + Open Facility_{2} + Open Facility_{3} + Open Facility_{4} + Open Facility_{5} + 0.12333196366244316 Serving Decision_{1,1} + 0.5904130347460165 Serving Decision_{2,1} + 0.8925865243219634 Serving Decision_{3,1} + 0.5295761339863724 Serving Decision_{4,1} + 0.7845692731870021 Serving Decision_{5,1} + 0.5258995905648537 Serving Decision_{6,1} + 0.7743148632435354 Serving Decision_{7,1} + 0.9121594659430748 Serving Decision_{8,1} + 0.9734154795402268 Serving Decision_{9,1} + 0.46730902719932993 Serving Decision_{10,1} + 0.34528283836688295 Serving Decision_{11,1} + 0.04601368071116289 Serving Decision_{12,1} + 0.6304827141968855 Serving Decision_{1,2} + 0.31215462638531893 Serving Decision_{2,2} + 0.2040630328126994 Serving Decision_{3,2} + 0.4394211453663715 Serving Decision_{4,2} + 0.8650712984395318 Serving Decision_{5,2} + 0.5523648177996847 Serving Decision_{6,2} + 0.11566841491203243 Serving Decision_{7,2} + 0.23074859039485468 Serving Decision_{8,2} + 0.4135785873994999 Serving Decision_{9,2} + 0.7574228770164984 Serving Decision_{10,2} + 0.39344869938665933 Serving Decision_{11,2} + 0.7297390013866859 Serving Decision_{12,2} + 0.39458795402720254 Serving Decision_{1,3} + 0.2118141492442621 Serving Decision_{2,3} + 0.5838058406867194 Serving Decision_{3,3} + 0.5448694765520568 Serving Decision_{4,3} + 0.5444290304144556 Serving Decision_{5,3} + 0.20836355112158353 Serving Decision_{6,3} + 0.45858594831407223 Serving Decision_{7,3} + 0.5935617993525351 Serving Decision_{8,3} + 0.6005388812412936 Serving Decision_{9,3} + 0.3452845835226838 Serving Decision_{10,3} + 0.32817324889696137 Serving Decision_{11,3} + 0.42891167362517335 Serving Decision_{12,3} + 0.7264871866840482 Serving Decision_{1,4} + 0.28274854609779465 Serving Decision_{2,4} + 0.6566081481158992 Serving Decision_{3,4} + 0.8654276681761554 Serving Decision_{4,4} + 0.2799105838498732 Serving Decision_{5,4} + 0.15981301610805157 Serving Decision_{6,4} + 0.5542590454611301 Serving Decision_{7,4} + 0.6468592018763863 Serving Decision_{8,4} + 0.5031808019402214 Serving Decision_{9,4} + 0.34971611423356225 Serving Decision_{10,4} + 0.6646383815342579 Serving Decision_{11,4} + 0.7310394410895588 Serving Decision_{12,4} + 0.780404273727678 Serving Decision_{1,5} + 0.4212764238612241 Serving Decision_{2,5} + 0.08121323907347186 Serving Decision_{3,5} + 0.5444577934258513 Serving Decision_{4,5} + 0.960677633443553 Serving Decision_{5,5} + 0.6706218583399338 Serving Decision_{6,5} + 0.12683600355828809 Serving Decision_{7,5} + 0.11683259146638954 Serving Decision_{8,5} + 0.3709356361960957 Serving Decision_{9,5} + 0.8894389776817988 Serving Decision_{10,5} + 0.538153548812162 Serving Decision_{11,5} + 0.882064930501396 Serving Decision_{12,5}\\\\\n",
       "\\text{Subject to} \\quad & Serving Decision_{1,1} + Serving Decision_{1,2} + Serving Decision_{1,3} + Serving Decision_{1,4} + Serving Decision_{1,5} = 1.0\\\\\n",
       " & Serving Decision_{2,1} + Serving Decision_{2,2} + Serving Decision_{2,3} + Serving Decision_{2,4} + Serving Decision_{2,5} = 1.0\\\\\n",
       " & Serving Decision_{3,1} + Serving Decision_{3,2} + Serving Decision_{3,3} + Serving Decision_{3,4} + Serving Decision_{3,5} = 1.0\\\\\n",
       " & Serving Decision_{4,1} + Serving Decision_{4,2} + Serving Decision_{4,3} + Serving Decision_{4,4} + Serving Decision_{4,5} = 1.0\\\\\n",
       " & Serving Decision_{5,1} + Serving Decision_{5,2} + Serving Decision_{5,3} + Serving Decision_{5,4} + Serving Decision_{5,5} = 1.0\\\\\n",
       " & Serving Decision_{6,1} + Serving Decision_{6,2} + Serving Decision_{6,3} + Serving Decision_{6,4} + Serving Decision_{6,5} = 1.0\\\\\n",
       " & Serving Decision_{7,1} + Serving Decision_{7,2} + Serving Decision_{7,3} + Serving Decision_{7,4} + Serving Decision_{7,5} = 1.0\\\\\n",
       " & Serving Decision_{8,1} + Serving Decision_{8,2} + Serving Decision_{8,3} + Serving Decision_{8,4} + Serving Decision_{8,5} = 1.0\\\\\n",
       " & Serving Decision_{9,1} + Serving Decision_{9,2} + Serving Decision_{9,3} + Serving Decision_{9,4} + Serving Decision_{9,5} = 1.0\\\\\n",
       " & Serving Decision_{10,1} + Serving Decision_{10,2} + Serving Decision_{10,3} + Serving Decision_{10,4} + Serving Decision_{10,5} = 1.0\\\\\n",
       " & Serving Decision_{11,1} + Serving Decision_{11,2} + Serving Decision_{11,3} + Serving Decision_{11,4} + Serving Decision_{11,5} = 1.0\\\\\n",
       " & Serving Decision_{12,1} + Serving Decision_{12,2} + Serving Decision_{12,3} + Serving Decision_{12,4} + Serving Decision_{12,5} = 1.0\\\\\n",
       " & Serving Decision_{1,1} - Open Facility_{1} \\leq 0.0\\\\\n",
       " & Serving Decision_{2,1} - Open Facility_{1} \\leq 0.0\\\\\n",
       " & Serving Decision_{3,1} - Open Facility_{1} \\leq 0.0\\\\\n",
       " & Serving Decision_{4,1} - Open Facility_{1} \\leq 0.0\\\\\n",
       " & Serving Decision_{5,1} - Open Facility_{1} \\leq 0.0\\\\\n",
       " & Serving Decision_{6,1} - Open Facility_{1} \\leq 0.0\\\\\n",
       " & Serving Decision_{7,1} - Open Facility_{1} \\leq 0.0\\\\\n",
       " & Serving Decision_{8,1} - Open Facility_{1} \\leq 0.0\\\\\n",
       " & Serving Decision_{9,1} - Open Facility_{1} \\leq 0.0\\\\\n",
       " & Serving Decision_{10,1} - Open Facility_{1} \\leq 0.0\\\\\n",
       " & Serving Decision_{11,1} - Open Facility_{1} \\leq 0.0\\\\\n",
       " & Serving Decision_{12,1} - Open Facility_{1} \\leq 0.0\\\\\n",
       " & Serving Decision_{1,2} - Open Facility_{2} \\leq 0.0\\\\\n",
       " & Serving Decision_{2,2} - Open Facility_{2} \\leq 0.0\\\\\n",
       " & Serving Decision_{3,2} - Open Facility_{2} \\leq 0.0\\\\\n",
       " & Serving Decision_{4,2} - Open Facility_{2} \\leq 0.0\\\\\n",
       " & Serving Decision_{5,2} - Open Facility_{2} \\leq 0.0\\\\\n",
       " & Serving Decision_{6,2} - Open Facility_{2} \\leq 0.0\\\\\n",
       " & Serving Decision_{7,2} - Open Facility_{2} \\leq 0.0\\\\\n",
       " & Serving Decision_{8,2} - Open Facility_{2} \\leq 0.0\\\\\n",
       " & Serving Decision_{9,2} - Open Facility_{2} \\leq 0.0\\\\\n",
       " & Serving Decision_{10,2} - Open Facility_{2} \\leq 0.0\\\\\n",
       " & Serving Decision_{11,2} - Open Facility_{2} \\leq 0.0\\\\\n",
       " & Serving Decision_{12,2} - Open Facility_{2} \\leq 0.0\\\\\n",
       " & Serving Decision_{1,3} - Open Facility_{3} \\leq 0.0\\\\\n",
       " & Serving Decision_{2,3} - Open Facility_{3} \\leq 0.0\\\\\n",
       " & Serving Decision_{3,3} - Open Facility_{3} \\leq 0.0\\\\\n",
       " & Serving Decision_{4,3} - Open Facility_{3} \\leq 0.0\\\\\n",
       " & Serving Decision_{5,3} - Open Facility_{3} \\leq 0.0\\\\\n",
       " & Serving Decision_{6,3} - Open Facility_{3} \\leq 0.0\\\\\n",
       " & Serving Decision_{7,3} - Open Facility_{3} \\leq 0.0\\\\\n",
       " & Serving Decision_{8,3} - Open Facility_{3} \\leq 0.0\\\\\n",
       " & Serving Decision_{9,3} - Open Facility_{3} \\leq 0.0\\\\\n",
       " & Serving Decision_{10,3} - Open Facility_{3} \\leq 0.0\\\\\n",
       " & Serving Decision_{11,3} - Open Facility_{3} \\leq 0.0\\\\\n",
       " & Serving Decision_{12,3} - Open Facility_{3} \\leq 0.0\\\\\n",
       " & Serving Decision_{1,4} - Open Facility_{4} \\leq 0.0\\\\\n",
       " & Serving Decision_{2,4} - Open Facility_{4} \\leq 0.0\\\\\n",
       " & Serving Decision_{3,4} - Open Facility_{4} \\leq 0.0\\\\\n",
       " & Serving Decision_{4,4} - Open Facility_{4} \\leq 0.0\\\\\n",
       " & Serving Decision_{5,4} - Open Facility_{4} \\leq 0.0\\\\\n",
       " & Serving Decision_{6,4} - Open Facility_{4} \\leq 0.0\\\\\n",
       " & Serving Decision_{7,4} - Open Facility_{4} \\leq 0.0\\\\\n",
       " & Serving Decision_{8,4} - Open Facility_{4} \\leq 0.0\\\\\n",
       " & Serving Decision_{9,4} - Open Facility_{4} \\leq 0.0\\\\\n",
       " & Serving Decision_{10,4} - Open Facility_{4} \\leq 0.0\\\\\n",
       " & Serving Decision_{11,4} - Open Facility_{4} \\leq 0.0\\\\\n",
       " & Serving Decision_{12,4} - Open Facility_{4} \\leq 0.0\\\\\n",
       " & Serving Decision_{1,5} - Open Facility_{5} \\leq 0.0\\\\\n",
       " & Serving Decision_{2,5} - Open Facility_{5} \\leq 0.0\\\\\n",
       " & Serving Decision_{3,5} - Open Facility_{5} \\leq 0.0\\\\\n",
       " & Serving Decision_{4,5} - Open Facility_{5} \\leq 0.0\\\\\n",
       " & Serving Decision_{5,5} - Open Facility_{5} \\leq 0.0\\\\\n",
       " & Serving Decision_{6,5} - Open Facility_{5} \\leq 0.0\\\\\n",
       " & Serving Decision_{7,5} - Open Facility_{5} \\leq 0.0\\\\\n",
       " & Serving Decision_{8,5} - Open Facility_{5} \\leq 0.0\\\\\n",
       " & Serving Decision_{9,5} - Open Facility_{5} \\leq 0.0\\\\\n",
       " & Serving Decision_{10,5} - Open Facility_{5} \\leq 0.0\\\\\n",
       " & Serving Decision_{11,5} - Open Facility_{5} \\leq 0.0\\\\\n",
       " & Serving Decision_{12,5} - Open Facility_{5} \\leq 0.0\\\\\n",
       " & Serving Decision_{1,1} \\in \\{0, 1\\}\\\\\n",
       " & Serving Decision_{2,1} \\in \\{0, 1\\}\\\\\n",
       " & Serving Decision_{3,1} \\in \\{0, 1\\}\\\\\n",
       " & Serving Decision_{4,1} \\in \\{0, 1\\}\\\\\n",
       " & Serving Decision_{5,1} \\in \\{0, 1\\}\\\\\n",
       " & Serving Decision_{6,1} \\in \\{0, 1\\}\\\\\n",
       " & Serving Decision_{7,1} \\in \\{0, 1\\}\\\\\n",
       " & Serving Decision_{8,1} \\in \\{0, 1\\}\\\\\n",
       " & Serving Decision_{9,1} \\in \\{0, 1\\}\\\\\n",
       " & Serving Decision_{10,1} \\in \\{0, 1\\}\\\\\n",
       " & Serving Decision_{11,1} \\in \\{0, 1\\}\\\\\n",
       " & Serving Decision_{12,1} \\in \\{0, 1\\}\\\\\n",
       " & Serving Decision_{1,2} \\in \\{0, 1\\}\\\\\n",
       " & Serving Decision_{2,2} \\in \\{0, 1\\}\\\\\n",
       " & Serving Decision_{3,2} \\in \\{0, 1\\}\\\\\n",
       " & Serving Decision_{4,2} \\in \\{0, 1\\}\\\\\n",
       " & Serving Decision_{5,2} \\in \\{0, 1\\}\\\\\n",
       " & Serving Decision_{6,2} \\in \\{0, 1\\}\\\\\n",
       " & Serving Decision_{7,2} \\in \\{0, 1\\}\\\\\n",
       " & Serving Decision_{8,2} \\in \\{0, 1\\}\\\\\n",
       " & Serving Decision_{9,2} \\in \\{0, 1\\}\\\\\n",
       " & Serving Decision_{10,2} \\in \\{0, 1\\}\\\\\n",
       " & Serving Decision_{11,2} \\in \\{0, 1\\}\\\\\n",
       " & Serving Decision_{12,2} \\in \\{0, 1\\}\\\\\n",
       " & Serving Decision_{1,3} \\in \\{0, 1\\}\\\\\n",
       " & Serving Decision_{2,3} \\in \\{0, 1\\}\\\\\n",
       " & Serving Decision_{3,3} \\in \\{0, 1\\}\\\\\n",
       " & Serving Decision_{4,3} \\in \\{0, 1\\}\\\\\n",
       " & Serving Decision_{5,3} \\in \\{0, 1\\}\\\\\n",
       " & Serving Decision_{6,3} \\in \\{0, 1\\}\\\\\n",
       " & Serving Decision_{7,3} \\in \\{0, 1\\}\\\\\n",
       " & Serving Decision_{8,3} \\in \\{0, 1\\}\\\\\n",
       " & Serving Decision_{9,3} \\in \\{0, 1\\}\\\\\n",
       " & Serving Decision_{10,3} \\in \\{0, 1\\}\\\\\n",
       " & Serving Decision_{11,3} \\in \\{0, 1\\}\\\\\n",
       " & Serving Decision_{12,3} \\in \\{0, 1\\}\\\\\n",
       " & Serving Decision_{1,4} \\in \\{0, 1\\}\\\\\n",
       " & Serving Decision_{2,4} \\in \\{0, 1\\}\\\\\n",
       " & Serving Decision_{3,4} \\in \\{0, 1\\}\\\\\n",
       " & Serving Decision_{4,4} \\in \\{0, 1\\}\\\\\n",
       " & Serving Decision_{5,4} \\in \\{0, 1\\}\\\\\n",
       " & Serving Decision_{6,4} \\in \\{0, 1\\}\\\\\n",
       " & Serving Decision_{7,4} \\in \\{0, 1\\}\\\\\n",
       " & Serving Decision_{8,4} \\in \\{0, 1\\}\\\\\n",
       " & Serving Decision_{9,4} \\in \\{0, 1\\}\\\\\n",
       " & Serving Decision_{10,4} \\in \\{0, 1\\}\\\\\n",
       " & Serving Decision_{11,4} \\in \\{0, 1\\}\\\\\n",
       " & Serving Decision_{12,4} \\in \\{0, 1\\}\\\\\n",
       " & Serving Decision_{1,5} \\in \\{0, 1\\}\\\\\n",
       " & Serving Decision_{2,5} \\in \\{0, 1\\}\\\\\n",
       " & Serving Decision_{3,5} \\in \\{0, 1\\}\\\\\n",
       " & Serving Decision_{4,5} \\in \\{0, 1\\}\\\\\n",
       " & Serving Decision_{5,5} \\in \\{0, 1\\}\\\\\n",
       " & Serving Decision_{6,5} \\in \\{0, 1\\}\\\\\n",
       " & Serving Decision_{7,5} \\in \\{0, 1\\}\\\\\n",
       " & Serving Decision_{8,5} \\in \\{0, 1\\}\\\\\n",
       " & Serving Decision_{9,5} \\in \\{0, 1\\}\\\\\n",
       " & Serving Decision_{10,5} \\in \\{0, 1\\}\\\\\n",
       " & Serving Decision_{11,5} \\in \\{0, 1\\}\\\\\n",
       " & Serving Decision_{12,5} \\in \\{0, 1\\}\\\\\n",
       " & Open Facility_{1} \\in \\{0, 1\\}\\\\\n",
       " & Open Facility_{2} \\in \\{0, 1\\}\\\\\n",
       " & Open Facility_{3} \\in \\{0, 1\\}\\\\\n",
       " & Open Facility_{4} \\in \\{0, 1\\}\\\\\n",
       " & Open Facility_{5} \\in \\{0, 1\\}\\\\\n",
       "\\end{aligned} $$"
      ],
      "text/plain": [
       "$$ \\begin{aligned}\n",
       "\\min\\quad & Open Facility_{1} + Open Facility_{2} + Open Facility_{3} + Open Facility_{4} + Open Facility_{5} + 0.12333196366244316 Serving Decision_{1,1} + 0.5904130347460165 Serving Decision_{2,1} + 0.8925865243219634 Serving Decision_{3,1} + 0.5295761339863724 Serving Decision_{4,1} + 0.7845692731870021 Serving Decision_{5,1} + 0.5258995905648537 Serving Decision_{6,1} + 0.7743148632435354 Serving Decision_{7,1} + 0.9121594659430748 Serving Decision_{8,1} + 0.9734154795402268 Serving Decision_{9,1} + 0.46730902719932993 Serving Decision_{10,1} + 0.34528283836688295 Serving Decision_{11,1} + 0.04601368071116289 Serving Decision_{12,1} + 0.6304827141968855 Serving Decision_{1,2} + 0.31215462638531893 Serving Decision_{2,2} + 0.2040630328126994 Serving Decision_{3,2} + 0.4394211453663715 Serving Decision_{4,2} + 0.8650712984395318 Serving Decision_{5,2} + 0.5523648177996847 Serving Decision_{6,2} + 0.11566841491203243 Serving Decision_{7,2} + 0.23074859039485468 Serving Decision_{8,2} + 0.4135785873994999 Serving Decision_{9,2} + 0.7574228770164984 Serving Decision_{10,2} + 0.39344869938665933 Serving Decision_{11,2} + 0.7297390013866859 Serving Decision_{12,2} + 0.39458795402720254 Serving Decision_{1,3} + 0.2118141492442621 Serving Decision_{2,3} + 0.5838058406867194 Serving Decision_{3,3} + 0.5448694765520568 Serving Decision_{4,3} + 0.5444290304144556 Serving Decision_{5,3} + 0.20836355112158353 Serving Decision_{6,3} + 0.45858594831407223 Serving Decision_{7,3} + 0.5935617993525351 Serving Decision_{8,3} + 0.6005388812412936 Serving Decision_{9,3} + 0.3452845835226838 Serving Decision_{10,3} + 0.32817324889696137 Serving Decision_{11,3} + 0.42891167362517335 Serving Decision_{12,3} + 0.7264871866840482 Serving Decision_{1,4} + 0.28274854609779465 Serving Decision_{2,4} + 0.6566081481158992 Serving Decision_{3,4} + 0.8654276681761554 Serving Decision_{4,4} + 0.2799105838498732 Serving Decision_{5,4} + 0.15981301610805157 Serving Decision_{6,4} + 0.5542590454611301 Serving Decision_{7,4} + 0.6468592018763863 Serving Decision_{8,4} + 0.5031808019402214 Serving Decision_{9,4} + 0.34971611423356225 Serving Decision_{10,4} + 0.6646383815342579 Serving Decision_{11,4} + 0.7310394410895588 Serving Decision_{12,4} + 0.780404273727678 Serving Decision_{1,5} + 0.4212764238612241 Serving Decision_{2,5} + 0.08121323907347186 Serving Decision_{3,5} + 0.5444577934258513 Serving Decision_{4,5} + 0.960677633443553 Serving Decision_{5,5} + 0.6706218583399338 Serving Decision_{6,5} + 0.12683600355828809 Serving Decision_{7,5} + 0.11683259146638954 Serving Decision_{8,5} + 0.3709356361960957 Serving Decision_{9,5} + 0.8894389776817988 Serving Decision_{10,5} + 0.538153548812162 Serving Decision_{11,5} + 0.882064930501396 Serving Decision_{12,5}\\\\\n",
       "\\text{Subject to} \\quad & Serving Decision_{1,1} + Serving Decision_{1,2} + Serving Decision_{1,3} + Serving Decision_{1,4} + Serving Decision_{1,5} = 1.0\\\\\n",
       " & Serving Decision_{2,1} + Serving Decision_{2,2} + Serving Decision_{2,3} + Serving Decision_{2,4} + Serving Decision_{2,5} = 1.0\\\\\n",
       " & Serving Decision_{3,1} + Serving Decision_{3,2} + Serving Decision_{3,3} + Serving Decision_{3,4} + Serving Decision_{3,5} = 1.0\\\\\n",
       " & Serving Decision_{4,1} + Serving Decision_{4,2} + Serving Decision_{4,3} + Serving Decision_{4,4} + Serving Decision_{4,5} = 1.0\\\\\n",
       " & Serving Decision_{5,1} + Serving Decision_{5,2} + Serving Decision_{5,3} + Serving Decision_{5,4} + Serving Decision_{5,5} = 1.0\\\\\n",
       " & Serving Decision_{6,1} + Serving Decision_{6,2} + Serving Decision_{6,3} + Serving Decision_{6,4} + Serving Decision_{6,5} = 1.0\\\\\n",
       " & Serving Decision_{7,1} + Serving Decision_{7,2} + Serving Decision_{7,3} + Serving Decision_{7,4} + Serving Decision_{7,5} = 1.0\\\\\n",
       " & Serving Decision_{8,1} + Serving Decision_{8,2} + Serving Decision_{8,3} + Serving Decision_{8,4} + Serving Decision_{8,5} = 1.0\\\\\n",
       " & Serving Decision_{9,1} + Serving Decision_{9,2} + Serving Decision_{9,3} + Serving Decision_{9,4} + Serving Decision_{9,5} = 1.0\\\\\n",
       " & Serving Decision_{10,1} + Serving Decision_{10,2} + Serving Decision_{10,3} + Serving Decision_{10,4} + Serving Decision_{10,5} = 1.0\\\\\n",
       " & Serving Decision_{11,1} + Serving Decision_{11,2} + Serving Decision_{11,3} + Serving Decision_{11,4} + Serving Decision_{11,5} = 1.0\\\\\n",
       " & Serving Decision_{12,1} + Serving Decision_{12,2} + Serving Decision_{12,3} + Serving Decision_{12,4} + Serving Decision_{12,5} = 1.0\\\\\n",
       " & Serving Decision_{1,1} - Open Facility_{1} \\leq 0.0\\\\\n",
       " & Serving Decision_{2,1} - Open Facility_{1} \\leq 0.0\\\\\n",
       " & Serving Decision_{3,1} - Open Facility_{1} \\leq 0.0\\\\\n",
       " & Serving Decision_{4,1} - Open Facility_{1} \\leq 0.0\\\\\n",
       " & Serving Decision_{5,1} - Open Facility_{1} \\leq 0.0\\\\\n",
       " & Serving Decision_{6,1} - Open Facility_{1} \\leq 0.0\\\\\n",
       " & Serving Decision_{7,1} - Open Facility_{1} \\leq 0.0\\\\\n",
       " & Serving Decision_{8,1} - Open Facility_{1} \\leq 0.0\\\\\n",
       " & Serving Decision_{9,1} - Open Facility_{1} \\leq 0.0\\\\\n",
       " & Serving Decision_{10,1} - Open Facility_{1} \\leq 0.0\\\\\n",
       " & Serving Decision_{11,1} - Open Facility_{1} \\leq 0.0\\\\\n",
       " & Serving Decision_{12,1} - Open Facility_{1} \\leq 0.0\\\\\n",
       " & Serving Decision_{1,2} - Open Facility_{2} \\leq 0.0\\\\\n",
       " & Serving Decision_{2,2} - Open Facility_{2} \\leq 0.0\\\\\n",
       " & Serving Decision_{3,2} - Open Facility_{2} \\leq 0.0\\\\\n",
       " & Serving Decision_{4,2} - Open Facility_{2} \\leq 0.0\\\\\n",
       " & Serving Decision_{5,2} - Open Facility_{2} \\leq 0.0\\\\\n",
       " & Serving Decision_{6,2} - Open Facility_{2} \\leq 0.0\\\\\n",
       " & Serving Decision_{7,2} - Open Facility_{2} \\leq 0.0\\\\\n",
       " & Serving Decision_{8,2} - Open Facility_{2} \\leq 0.0\\\\\n",
       " & Serving Decision_{9,2} - Open Facility_{2} \\leq 0.0\\\\\n",
       " & Serving Decision_{10,2} - Open Facility_{2} \\leq 0.0\\\\\n",
       " & Serving Decision_{11,2} - Open Facility_{2} \\leq 0.0\\\\\n",
       " & Serving Decision_{12,2} - Open Facility_{2} \\leq 0.0\\\\\n",
       " & Serving Decision_{1,3} - Open Facility_{3} \\leq 0.0\\\\\n",
       " & Serving Decision_{2,3} - Open Facility_{3} \\leq 0.0\\\\\n",
       " & Serving Decision_{3,3} - Open Facility_{3} \\leq 0.0\\\\\n",
       " & Serving Decision_{4,3} - Open Facility_{3} \\leq 0.0\\\\\n",
       " & Serving Decision_{5,3} - Open Facility_{3} \\leq 0.0\\\\\n",
       " & Serving Decision_{6,3} - Open Facility_{3} \\leq 0.0\\\\\n",
       " & Serving Decision_{7,3} - Open Facility_{3} \\leq 0.0\\\\\n",
       " & Serving Decision_{8,3} - Open Facility_{3} \\leq 0.0\\\\\n",
       " & Serving Decision_{9,3} - Open Facility_{3} \\leq 0.0\\\\\n",
       " & Serving Decision_{10,3} - Open Facility_{3} \\leq 0.0\\\\\n",
       " & Serving Decision_{11,3} - Open Facility_{3} \\leq 0.0\\\\\n",
       " & Serving Decision_{12,3} - Open Facility_{3} \\leq 0.0\\\\\n",
       " & Serving Decision_{1,4} - Open Facility_{4} \\leq 0.0\\\\\n",
       " & Serving Decision_{2,4} - Open Facility_{4} \\leq 0.0\\\\\n",
       " & Serving Decision_{3,4} - Open Facility_{4} \\leq 0.0\\\\\n",
       " & Serving Decision_{4,4} - Open Facility_{4} \\leq 0.0\\\\\n",
       " & Serving Decision_{5,4} - Open Facility_{4} \\leq 0.0\\\\\n",
       " & Serving Decision_{6,4} - Open Facility_{4} \\leq 0.0\\\\\n",
       " & Serving Decision_{7,4} - Open Facility_{4} \\leq 0.0\\\\\n",
       " & Serving Decision_{8,4} - Open Facility_{4} \\leq 0.0\\\\\n",
       " & Serving Decision_{9,4} - Open Facility_{4} \\leq 0.0\\\\\n",
       " & Serving Decision_{10,4} - Open Facility_{4} \\leq 0.0\\\\\n",
       " & Serving Decision_{11,4} - Open Facility_{4} \\leq 0.0\\\\\n",
       " & Serving Decision_{12,4} - Open Facility_{4} \\leq 0.0\\\\\n",
       " & Serving Decision_{1,5} - Open Facility_{5} \\leq 0.0\\\\\n",
       " & Serving Decision_{2,5} - Open Facility_{5} \\leq 0.0\\\\\n",
       " & Serving Decision_{3,5} - Open Facility_{5} \\leq 0.0\\\\\n",
       " & Serving Decision_{4,5} - Open Facility_{5} \\leq 0.0\\\\\n",
       " & Serving Decision_{5,5} - Open Facility_{5} \\leq 0.0\\\\\n",
       " & Serving Decision_{6,5} - Open Facility_{5} \\leq 0.0\\\\\n",
       " & Serving Decision_{7,5} - Open Facility_{5} \\leq 0.0\\\\\n",
       " & Serving Decision_{8,5} - Open Facility_{5} \\leq 0.0\\\\\n",
       " & Serving Decision_{9,5} - Open Facility_{5} \\leq 0.0\\\\\n",
       " & Serving Decision_{10,5} - Open Facility_{5} \\leq 0.0\\\\\n",
       " & Serving Decision_{11,5} - Open Facility_{5} \\leq 0.0\\\\\n",
       " & Serving Decision_{12,5} - Open Facility_{5} \\leq 0.0\\\\\n",
       " & Serving Decision_{1,1} \\in \\{0, 1\\}\\\\\n",
       " & Serving Decision_{2,1} \\in \\{0, 1\\}\\\\\n",
       " & Serving Decision_{3,1} \\in \\{0, 1\\}\\\\\n",
       " & Serving Decision_{4,1} \\in \\{0, 1\\}\\\\\n",
       " & Serving Decision_{5,1} \\in \\{0, 1\\}\\\\\n",
       " & Serving Decision_{6,1} \\in \\{0, 1\\}\\\\\n",
       " & Serving Decision_{7,1} \\in \\{0, 1\\}\\\\\n",
       " & Serving Decision_{8,1} \\in \\{0, 1\\}\\\\\n",
       " & Serving Decision_{9,1} \\in \\{0, 1\\}\\\\\n",
       " & Serving Decision_{10,1} \\in \\{0, 1\\}\\\\\n",
       " & Serving Decision_{11,1} \\in \\{0, 1\\}\\\\\n",
       " & Serving Decision_{12,1} \\in \\{0, 1\\}\\\\\n",
       " & Serving Decision_{1,2} \\in \\{0, 1\\}\\\\\n",
       " & Serving Decision_{2,2} \\in \\{0, 1\\}\\\\\n",
       " & Serving Decision_{3,2} \\in \\{0, 1\\}\\\\\n",
       " & Serving Decision_{4,2} \\in \\{0, 1\\}\\\\\n",
       " & Serving Decision_{5,2} \\in \\{0, 1\\}\\\\\n",
       " & Serving Decision_{6,2} \\in \\{0, 1\\}\\\\\n",
       " & Serving Decision_{7,2} \\in \\{0, 1\\}\\\\\n",
       " & Serving Decision_{8,2} \\in \\{0, 1\\}\\\\\n",
       " & Serving Decision_{9,2} \\in \\{0, 1\\}\\\\\n",
       " & Serving Decision_{10,2} \\in \\{0, 1\\}\\\\\n",
       " & Serving Decision_{11,2} \\in \\{0, 1\\}\\\\\n",
       " & Serving Decision_{12,2} \\in \\{0, 1\\}\\\\\n",
       " & Serving Decision_{1,3} \\in \\{0, 1\\}\\\\\n",
       " & Serving Decision_{2,3} \\in \\{0, 1\\}\\\\\n",
       " & Serving Decision_{3,3} \\in \\{0, 1\\}\\\\\n",
       " & Serving Decision_{4,3} \\in \\{0, 1\\}\\\\\n",
       " & Serving Decision_{5,3} \\in \\{0, 1\\}\\\\\n",
       " & Serving Decision_{6,3} \\in \\{0, 1\\}\\\\\n",
       " & Serving Decision_{7,3} \\in \\{0, 1\\}\\\\\n",
       " & Serving Decision_{8,3} \\in \\{0, 1\\}\\\\\n",
       " & Serving Decision_{9,3} \\in \\{0, 1\\}\\\\\n",
       " & Serving Decision_{10,3} \\in \\{0, 1\\}\\\\\n",
       " & Serving Decision_{11,3} \\in \\{0, 1\\}\\\\\n",
       " & Serving Decision_{12,3} \\in \\{0, 1\\}\\\\\n",
       " & Serving Decision_{1,4} \\in \\{0, 1\\}\\\\\n",
       " & Serving Decision_{2,4} \\in \\{0, 1\\}\\\\\n",
       " & Serving Decision_{3,4} \\in \\{0, 1\\}\\\\\n",
       " & Serving Decision_{4,4} \\in \\{0, 1\\}\\\\\n",
       " & Serving Decision_{5,4} \\in \\{0, 1\\}\\\\\n",
       " & Serving Decision_{6,4} \\in \\{0, 1\\}\\\\\n",
       " & Serving Decision_{7,4} \\in \\{0, 1\\}\\\\\n",
       " & Serving Decision_{8,4} \\in \\{0, 1\\}\\\\\n",
       " & Serving Decision_{9,4} \\in \\{0, 1\\}\\\\\n",
       " & Serving Decision_{10,4} \\in \\{0, 1\\}\\\\\n",
       " & Serving Decision_{11,4} \\in \\{0, 1\\}\\\\\n",
       " & Serving Decision_{12,4} \\in \\{0, 1\\}\\\\\n",
       " & Serving Decision_{1,5} \\in \\{0, 1\\}\\\\\n",
       " & Serving Decision_{2,5} \\in \\{0, 1\\}\\\\\n",
       " & Serving Decision_{3,5} \\in \\{0, 1\\}\\\\\n",
       " & Serving Decision_{4,5} \\in \\{0, 1\\}\\\\\n",
       " & Serving Decision_{5,5} \\in \\{0, 1\\}\\\\\n",
       " & Serving Decision_{6,5} \\in \\{0, 1\\}\\\\\n",
       " & Serving Decision_{7,5} \\in \\{0, 1\\}\\\\\n",
       " & Serving Decision_{8,5} \\in \\{0, 1\\}\\\\\n",
       " & Serving Decision_{9,5} \\in \\{0, 1\\}\\\\\n",
       " & Serving Decision_{10,5} \\in \\{0, 1\\}\\\\\n",
       " & Serving Decision_{11,5} \\in \\{0, 1\\}\\\\\n",
       " & Serving Decision_{12,5} \\in \\{0, 1\\}\\\\\n",
       " & Open Facility_{1} \\in \\{0, 1\\}\\\\\n",
       " & Open Facility_{2} \\in \\{0, 1\\}\\\\\n",
       " & Open Facility_{3} \\in \\{0, 1\\}\\\\\n",
       " & Open Facility_{4} \\in \\{0, 1\\}\\\\\n",
       " & Open Facility_{5} \\in \\{0, 1\\}\\\\\n",
       "\\end{aligned} $$"
      ]
     },
     "execution_count": 82,
     "metadata": {},
     "output_type": "execute_result"
    }
   ],
   "source": [
    "JuMP.latex_formulation(model)"
   ]
  },
  {
   "cell_type": "code",
   "execution_count": 85,
   "id": "cb849653",
   "metadata": {
    "scrolled": true
   },
   "outputs": [
    {
     "name": "stdout",
     "output_type": "stream",
     "text": [
      "Running HiGHS 1.5.3 [date: 1970-01-01, git hash: 45a127b78]\n",
      "Copyright (c) 2023 HiGHS under MIT licence terms\n",
      "Presolving model\n",
      "72 rows, 65 cols, 180 nonzeros\n",
      "72 rows, 65 cols, 180 nonzeros\n",
      "\n",
      "Solving MIP model with:\n",
      "   72 rows\n",
      "   65 cols (65 binary, 0 integer, 0 implied int., 0 continuous)\n",
      "   180 nonzeros\n",
      "\n",
      "        Nodes      |    B&B Tree     |            Objective Bounds              |  Dynamic Constraints |       Work      \n",
      "     Proc. InQueue |  Leaves   Expl. | BestBound       BestSol              Gap |   Cuts   InLp Confl. | LpIters     Time\n",
      "\n",
      "         0       0         0   0.00%   0               inf                  inf        0      0      0         0     0.0s\n",
      " T       0       0         0   0.00%   0               5.701839455      100.00%        0      0      0        33     0.0s\n",
      "\n",
      "Solving report\n",
      "  Status            Optimal\n",
      "  Primal bound      5.70183945457\n",
      "  Dual bound        5.70183945457\n",
      "  Gap               0% (tolerance: 0.01%)\n",
      "  Solution status   feasible\n",
      "                    5.70183945457 (objective)\n",
      "                    0 (bound viol.)\n",
      "                    0 (int. viol.)\n",
      "                    0 (row viol.)\n",
      "  Timing            0.01 (total)\n",
      "                    0.00 (presolve)\n",
      "                    0.00 (postsolve)\n",
      "  Nodes             1\n",
      "  LP iterations     33 (total)\n",
      "                    0 (strong br.)\n",
      "                    0 (separation)\n",
      "                    0 (heuristics)\n"
     ]
    }
   ],
   "source": [
    "optimize!(model)"
   ]
  },
  {
   "cell_type": "code",
   "execution_count": 87,
   "id": "78ff546a",
   "metadata": {
    "scrolled": true
   },
   "outputs": [
    {
     "data": {
      "image/svg+xml": [
       "<?xml version=\"1.0\" encoding=\"utf-8\"?>\n",
       "<svg xmlns=\"http://www.w3.org/2000/svg\" xmlns:xlink=\"http://www.w3.org/1999/xlink\" width=\"600\" height=\"400\" viewBox=\"0 0 2400 1600\">\n",
       "<defs>\n",
       "  <clipPath id=\"clip240\">\n",
       "    <rect x=\"0\" y=\"0\" width=\"2400\" height=\"1600\"/>\n",
       "  </clipPath>\n",
       "</defs>\n",
       "<path clip-path=\"url(#clip240)\" d=\"\n",
       "M0 1600 L2400 1600 L2400 0 L0 0  Z\n",
       "  \" fill=\"#ffffff\" fill-rule=\"evenodd\" fill-opacity=\"1\"/>\n",
       "<defs>\n",
       "  <clipPath id=\"clip241\">\n",
       "    <rect x=\"480\" y=\"0\" width=\"1681\" height=\"1600\"/>\n",
       "  </clipPath>\n",
       "</defs>\n",
       "<path clip-path=\"url(#clip240)\" d=\"\n",
       "M156.598 1486.45 L2352.76 1486.45 L2352.76 47.2441 L156.598 47.2441  Z\n",
       "  \" fill=\"#ffffff\" fill-rule=\"evenodd\" fill-opacity=\"1\"/>\n",
       "<defs>\n",
       "  <clipPath id=\"clip242\">\n",
       "    <rect x=\"156\" y=\"47\" width=\"2197\" height=\"1440\"/>\n",
       "  </clipPath>\n",
       "</defs>\n",
       "<polyline clip-path=\"url(#clip242)\" style=\"stroke:#000000; stroke-linecap:round; stroke-linejoin:round; stroke-width:2; stroke-opacity:0.1; fill:none\" points=\"\n",
       "  496.242,1486.45 496.242,47.2441 \n",
       "  \"/>\n",
       "<polyline clip-path=\"url(#clip242)\" style=\"stroke:#000000; stroke-linecap:round; stroke-linejoin:round; stroke-width:2; stroke-opacity:0.1; fill:none\" points=\"\n",
       "  953.502,1486.45 953.502,47.2441 \n",
       "  \"/>\n",
       "<polyline clip-path=\"url(#clip242)\" style=\"stroke:#000000; stroke-linecap:round; stroke-linejoin:round; stroke-width:2; stroke-opacity:0.1; fill:none\" points=\"\n",
       "  1410.76,1486.45 1410.76,47.2441 \n",
       "  \"/>\n",
       "<polyline clip-path=\"url(#clip242)\" style=\"stroke:#000000; stroke-linecap:round; stroke-linejoin:round; stroke-width:2; stroke-opacity:0.1; fill:none\" points=\"\n",
       "  1868.02,1486.45 1868.02,47.2441 \n",
       "  \"/>\n",
       "<polyline clip-path=\"url(#clip242)\" style=\"stroke:#000000; stroke-linecap:round; stroke-linejoin:round; stroke-width:2; stroke-opacity:0.1; fill:none\" points=\"\n",
       "  2325.28,1486.45 2325.28,47.2441 \n",
       "  \"/>\n",
       "<polyline clip-path=\"url(#clip240)\" style=\"stroke:#000000; stroke-linecap:round; stroke-linejoin:round; stroke-width:4; stroke-opacity:1; fill:none\" points=\"\n",
       "  156.598,1486.45 2352.76,1486.45 \n",
       "  \"/>\n",
       "<polyline clip-path=\"url(#clip240)\" style=\"stroke:#000000; stroke-linecap:round; stroke-linejoin:round; stroke-width:4; stroke-opacity:1; fill:none\" points=\"\n",
       "  496.242,1486.45 496.242,1467.55 \n",
       "  \"/>\n",
       "<polyline clip-path=\"url(#clip240)\" style=\"stroke:#000000; stroke-linecap:round; stroke-linejoin:round; stroke-width:4; stroke-opacity:1; fill:none\" points=\"\n",
       "  953.502,1486.45 953.502,1467.55 \n",
       "  \"/>\n",
       "<polyline clip-path=\"url(#clip240)\" style=\"stroke:#000000; stroke-linecap:round; stroke-linejoin:round; stroke-width:4; stroke-opacity:1; fill:none\" points=\"\n",
       "  1410.76,1486.45 1410.76,1467.55 \n",
       "  \"/>\n",
       "<polyline clip-path=\"url(#clip240)\" style=\"stroke:#000000; stroke-linecap:round; stroke-linejoin:round; stroke-width:4; stroke-opacity:1; fill:none\" points=\"\n",
       "  1868.02,1486.45 1868.02,1467.55 \n",
       "  \"/>\n",
       "<polyline clip-path=\"url(#clip240)\" style=\"stroke:#000000; stroke-linecap:round; stroke-linejoin:round; stroke-width:4; stroke-opacity:1; fill:none\" points=\"\n",
       "  2325.28,1486.45 2325.28,1467.55 \n",
       "  \"/>\n",
       "<path clip-path=\"url(#clip240)\" d=\"M474.425 1517.37 Q470.814 1517.37 468.985 1520.93 Q467.18 1524.47 467.18 1531.6 Q467.18 1538.71 468.985 1542.27 Q470.814 1545.82 474.425 1545.82 Q478.059 1545.82 479.865 1542.27 Q481.694 1538.71 481.694 1531.6 Q481.694 1524.47 479.865 1520.93 Q478.059 1517.37 474.425 1517.37 M474.425 1513.66 Q480.235 1513.66 483.291 1518.27 Q486.37 1522.85 486.37 1531.6 Q486.37 1540.33 483.291 1544.94 Q480.235 1549.52 474.425 1549.52 Q468.615 1549.52 465.536 1544.94 Q462.481 1540.33 462.481 1531.6 Q462.481 1522.85 465.536 1518.27 Q468.615 1513.66 474.425 1513.66 Z\" fill=\"#000000\" fill-rule=\"evenodd\" fill-opacity=\"1\" /><path clip-path=\"url(#clip240)\" d=\"M494.587 1542.97 L499.471 1542.97 L499.471 1548.85 L494.587 1548.85 L494.587 1542.97 Z\" fill=\"#000000\" fill-rule=\"evenodd\" fill-opacity=\"1\" /><path clip-path=\"url(#clip240)\" d=\"M513.684 1544.91 L530.004 1544.91 L530.004 1548.85 L508.059 1548.85 L508.059 1544.91 Q510.721 1542.16 515.305 1537.53 Q519.911 1532.88 521.092 1531.53 Q523.337 1529.01 524.217 1527.27 Q525.119 1525.51 525.119 1523.82 Q525.119 1521.07 523.175 1519.33 Q521.254 1517.6 518.152 1517.6 Q515.953 1517.6 513.499 1518.36 Q511.069 1519.13 508.291 1520.68 L508.291 1515.95 Q511.115 1514.82 513.569 1514.24 Q516.022 1513.66 518.059 1513.66 Q523.43 1513.66 526.624 1516.35 Q529.818 1519.03 529.818 1523.52 Q529.818 1525.65 529.008 1527.57 Q528.221 1529.47 526.115 1532.07 Q525.536 1532.74 522.434 1535.95 Q519.332 1539.15 513.684 1544.91 Z\" fill=\"#000000\" fill-rule=\"evenodd\" fill-opacity=\"1\" /><path clip-path=\"url(#clip240)\" d=\"M930.644 1517.37 Q927.032 1517.37 925.204 1520.93 Q923.398 1524.47 923.398 1531.6 Q923.398 1538.71 925.204 1542.27 Q927.032 1545.82 930.644 1545.82 Q934.278 1545.82 936.083 1542.27 Q937.912 1538.71 937.912 1531.6 Q937.912 1524.47 936.083 1520.93 Q934.278 1517.37 930.644 1517.37 M930.644 1513.66 Q936.454 1513.66 939.509 1518.27 Q942.588 1522.85 942.588 1531.6 Q942.588 1540.33 939.509 1544.94 Q936.454 1549.52 930.644 1549.52 Q924.833 1549.52 921.755 1544.94 Q918.699 1540.33 918.699 1531.6 Q918.699 1522.85 921.755 1518.27 Q924.833 1513.66 930.644 1513.66 Z\" fill=\"#000000\" fill-rule=\"evenodd\" fill-opacity=\"1\" /><path clip-path=\"url(#clip240)\" d=\"M950.805 1542.97 L955.69 1542.97 L955.69 1548.85 L950.805 1548.85 L950.805 1542.97 Z\" fill=\"#000000\" fill-rule=\"evenodd\" fill-opacity=\"1\" /><path clip-path=\"url(#clip240)\" d=\"M978.722 1518.36 L966.917 1536.81 L978.722 1536.81 L978.722 1518.36 M977.495 1514.29 L983.375 1514.29 L983.375 1536.81 L988.305 1536.81 L988.305 1540.7 L983.375 1540.7 L983.375 1548.85 L978.722 1548.85 L978.722 1540.7 L963.12 1540.7 L963.12 1536.19 L977.495 1514.29 Z\" fill=\"#000000\" fill-rule=\"evenodd\" fill-opacity=\"1\" /><path clip-path=\"url(#clip240)\" d=\"M1388.07 1517.37 Q1384.45 1517.37 1382.63 1520.93 Q1380.82 1524.47 1380.82 1531.6 Q1380.82 1538.71 1382.63 1542.27 Q1384.45 1545.82 1388.07 1545.82 Q1391.7 1545.82 1393.51 1542.27 Q1395.33 1538.71 1395.33 1531.6 Q1395.33 1524.47 1393.51 1520.93 Q1391.7 1517.37 1388.07 1517.37 M1388.07 1513.66 Q1393.88 1513.66 1396.93 1518.27 Q1400.01 1522.85 1400.01 1531.6 Q1400.01 1540.33 1396.93 1544.94 Q1393.88 1549.52 1388.07 1549.52 Q1382.26 1549.52 1379.18 1544.94 Q1376.12 1540.33 1376.12 1531.6 Q1376.12 1522.85 1379.18 1518.27 Q1382.26 1513.66 1388.07 1513.66 Z\" fill=\"#000000\" fill-rule=\"evenodd\" fill-opacity=\"1\" /><path clip-path=\"url(#clip240)\" d=\"M1408.23 1542.97 L1413.11 1542.97 L1413.11 1548.85 L1408.23 1548.85 L1408.23 1542.97 Z\" fill=\"#000000\" fill-rule=\"evenodd\" fill-opacity=\"1\" /><path clip-path=\"url(#clip240)\" d=\"M1433.88 1529.7 Q1430.73 1529.7 1428.88 1531.86 Q1427.05 1534.01 1427.05 1537.76 Q1427.05 1541.49 1428.88 1543.66 Q1430.73 1545.82 1433.88 1545.82 Q1437.02 1545.82 1438.85 1543.66 Q1440.7 1541.49 1440.7 1537.76 Q1440.7 1534.01 1438.85 1531.86 Q1437.02 1529.7 1433.88 1529.7 M1443.16 1515.05 L1443.16 1519.31 Q1441.4 1518.48 1439.59 1518.04 Q1437.81 1517.6 1436.05 1517.6 Q1431.42 1517.6 1428.97 1520.72 Q1426.54 1523.85 1426.19 1530.17 Q1427.56 1528.15 1429.62 1527.09 Q1431.68 1526 1434.15 1526 Q1439.36 1526 1442.37 1529.17 Q1445.4 1532.32 1445.4 1537.76 Q1445.4 1543.08 1442.26 1546.3 Q1439.11 1549.52 1433.88 1549.52 Q1427.88 1549.52 1424.71 1544.94 Q1421.54 1540.33 1421.54 1531.6 Q1421.54 1523.41 1425.43 1518.55 Q1429.32 1513.66 1435.87 1513.66 Q1437.63 1513.66 1439.41 1514.01 Q1441.21 1514.36 1443.16 1515.05 Z\" fill=\"#000000\" fill-rule=\"evenodd\" fill-opacity=\"1\" /><path clip-path=\"url(#clip240)\" d=\"M1845.45 1517.37 Q1841.84 1517.37 1840.01 1520.93 Q1838.21 1524.47 1838.21 1531.6 Q1838.21 1538.71 1840.01 1542.27 Q1841.84 1545.82 1845.45 1545.82 Q1849.09 1545.82 1850.89 1542.27 Q1852.72 1538.71 1852.72 1531.6 Q1852.72 1524.47 1850.89 1520.93 Q1849.09 1517.37 1845.45 1517.37 M1845.45 1513.66 Q1851.26 1513.66 1854.32 1518.27 Q1857.4 1522.85 1857.4 1531.6 Q1857.4 1540.33 1854.32 1544.94 Q1851.26 1549.52 1845.45 1549.52 Q1839.64 1549.52 1836.56 1544.94 Q1833.51 1540.33 1833.51 1531.6 Q1833.51 1522.85 1836.56 1518.27 Q1839.64 1513.66 1845.45 1513.66 Z\" fill=\"#000000\" fill-rule=\"evenodd\" fill-opacity=\"1\" /><path clip-path=\"url(#clip240)\" d=\"M1865.61 1542.97 L1870.5 1542.97 L1870.5 1548.85 L1865.61 1548.85 L1865.61 1542.97 Z\" fill=\"#000000\" fill-rule=\"evenodd\" fill-opacity=\"1\" /><path clip-path=\"url(#clip240)\" d=\"M1890.68 1532.44 Q1887.35 1532.44 1885.43 1534.22 Q1883.53 1536 1883.53 1539.13 Q1883.53 1542.25 1885.43 1544.03 Q1887.35 1545.82 1890.68 1545.82 Q1894.02 1545.82 1895.94 1544.03 Q1897.86 1542.23 1897.86 1539.13 Q1897.86 1536 1895.94 1534.22 Q1894.04 1532.44 1890.68 1532.44 M1886.01 1530.45 Q1883 1529.7 1881.31 1527.64 Q1879.64 1525.58 1879.64 1522.62 Q1879.64 1518.48 1882.58 1516.07 Q1885.55 1513.66 1890.68 1513.66 Q1895.85 1513.66 1898.79 1516.07 Q1901.73 1518.48 1901.73 1522.62 Q1901.73 1525.58 1900.04 1527.64 Q1898.37 1529.7 1895.38 1530.45 Q1898.76 1531.23 1900.64 1533.52 Q1902.54 1535.82 1902.54 1539.13 Q1902.54 1544.15 1899.46 1546.83 Q1896.4 1549.52 1890.68 1549.52 Q1884.97 1549.52 1881.89 1546.83 Q1878.83 1544.15 1878.83 1539.13 Q1878.83 1535.82 1880.73 1533.52 Q1882.63 1531.23 1886.01 1530.45 M1884.3 1523.06 Q1884.3 1525.75 1885.96 1527.25 Q1887.65 1528.76 1890.68 1528.76 Q1893.69 1528.76 1895.38 1527.25 Q1897.1 1525.75 1897.1 1523.06 Q1897.1 1520.38 1895.38 1518.87 Q1893.69 1517.37 1890.68 1517.37 Q1887.65 1517.37 1885.96 1518.87 Q1884.3 1520.38 1884.3 1523.06 Z\" fill=\"#000000\" fill-rule=\"evenodd\" fill-opacity=\"1\" /><path clip-path=\"url(#clip240)\" d=\"M2292.44 1544.91 L2300.07 1544.91 L2300.07 1518.55 L2291.76 1520.21 L2291.76 1515.95 L2300.03 1514.29 L2304.7 1514.29 L2304.7 1544.91 L2312.34 1544.91 L2312.34 1548.85 L2292.44 1548.85 L2292.44 1544.91 Z\" fill=\"#000000\" fill-rule=\"evenodd\" fill-opacity=\"1\" /><path clip-path=\"url(#clip240)\" d=\"M2321.79 1542.97 L2326.67 1542.97 L2326.67 1548.85 L2321.79 1548.85 L2321.79 1542.97 Z\" fill=\"#000000\" fill-rule=\"evenodd\" fill-opacity=\"1\" /><path clip-path=\"url(#clip240)\" d=\"M2346.86 1517.37 Q2343.25 1517.37 2341.42 1520.93 Q2339.61 1524.47 2339.61 1531.6 Q2339.61 1538.71 2341.42 1542.27 Q2343.25 1545.82 2346.86 1545.82 Q2350.49 1545.82 2352.3 1542.27 Q2354.12 1538.71 2354.12 1531.6 Q2354.12 1524.47 2352.3 1520.93 Q2350.49 1517.37 2346.86 1517.37 M2346.86 1513.66 Q2352.67 1513.66 2355.72 1518.27 Q2358.8 1522.85 2358.8 1531.6 Q2358.8 1540.33 2355.72 1544.94 Q2352.67 1549.52 2346.86 1549.52 Q2341.05 1549.52 2337.97 1544.94 Q2334.91 1540.33 2334.91 1531.6 Q2334.91 1522.85 2337.97 1518.27 Q2341.05 1513.66 2346.86 1513.66 Z\" fill=\"#000000\" fill-rule=\"evenodd\" fill-opacity=\"1\" /><polyline clip-path=\"url(#clip242)\" style=\"stroke:#000000; stroke-linecap:round; stroke-linejoin:round; stroke-width:2; stroke-opacity:0.1; fill:none\" points=\"\n",
       "  156.598,1203.47 2352.76,1203.47 \n",
       "  \"/>\n",
       "<polyline clip-path=\"url(#clip242)\" style=\"stroke:#000000; stroke-linecap:round; stroke-linejoin:round; stroke-width:2; stroke-opacity:0.1; fill:none\" points=\"\n",
       "  156.598,883.412 2352.76,883.412 \n",
       "  \"/>\n",
       "<polyline clip-path=\"url(#clip242)\" style=\"stroke:#000000; stroke-linecap:round; stroke-linejoin:round; stroke-width:2; stroke-opacity:0.1; fill:none\" points=\"\n",
       "  156.598,563.356 2352.76,563.356 \n",
       "  \"/>\n",
       "<polyline clip-path=\"url(#clip242)\" style=\"stroke:#000000; stroke-linecap:round; stroke-linejoin:round; stroke-width:2; stroke-opacity:0.1; fill:none\" points=\"\n",
       "  156.598,243.3 2352.76,243.3 \n",
       "  \"/>\n",
       "<polyline clip-path=\"url(#clip240)\" style=\"stroke:#000000; stroke-linecap:round; stroke-linejoin:round; stroke-width:4; stroke-opacity:1; fill:none\" points=\"\n",
       "  156.598,1486.45 156.598,47.2441 \n",
       "  \"/>\n",
       "<polyline clip-path=\"url(#clip240)\" style=\"stroke:#000000; stroke-linecap:round; stroke-linejoin:round; stroke-width:4; stroke-opacity:1; fill:none\" points=\"\n",
       "  156.598,1203.47 175.496,1203.47 \n",
       "  \"/>\n",
       "<polyline clip-path=\"url(#clip240)\" style=\"stroke:#000000; stroke-linecap:round; stroke-linejoin:round; stroke-width:4; stroke-opacity:1; fill:none\" points=\"\n",
       "  156.598,883.412 175.496,883.412 \n",
       "  \"/>\n",
       "<polyline clip-path=\"url(#clip240)\" style=\"stroke:#000000; stroke-linecap:round; stroke-linejoin:round; stroke-width:4; stroke-opacity:1; fill:none\" points=\"\n",
       "  156.598,563.356 175.496,563.356 \n",
       "  \"/>\n",
       "<polyline clip-path=\"url(#clip240)\" style=\"stroke:#000000; stroke-linecap:round; stroke-linejoin:round; stroke-width:4; stroke-opacity:1; fill:none\" points=\"\n",
       "  156.598,243.3 175.496,243.3 \n",
       "  \"/>\n",
       "<path clip-path=\"url(#clip240)\" d=\"M65.0198 1189.27 Q61.4087 1189.27 59.58 1192.83 Q57.7745 1196.37 57.7745 1203.5 Q57.7745 1210.61 59.58 1214.17 Q61.4087 1217.72 65.0198 1217.72 Q68.6541 1217.72 70.4596 1214.17 Q72.2883 1210.61 72.2883 1203.5 Q72.2883 1196.37 70.4596 1192.83 Q68.6541 1189.27 65.0198 1189.27 M65.0198 1185.56 Q70.83 1185.56 73.8855 1190.17 Q76.9642 1194.75 76.9642 1203.5 Q76.9642 1212.23 73.8855 1216.84 Q70.83 1221.42 65.0198 1221.42 Q59.2097 1221.42 56.131 1216.84 Q53.0754 1212.23 53.0754 1203.5 Q53.0754 1194.75 56.131 1190.17 Q59.2097 1185.56 65.0198 1185.56 Z\" fill=\"#000000\" fill-rule=\"evenodd\" fill-opacity=\"1\" /><path clip-path=\"url(#clip240)\" d=\"M85.1818 1214.87 L90.066 1214.87 L90.066 1220.75 L85.1818 1220.75 L85.1818 1214.87 Z\" fill=\"#000000\" fill-rule=\"evenodd\" fill-opacity=\"1\" /><path clip-path=\"url(#clip240)\" d=\"M104.279 1216.81 L120.598 1216.81 L120.598 1220.75 L98.6539 1220.75 L98.6539 1216.81 Q101.316 1214.06 105.899 1209.43 Q110.506 1204.78 111.686 1203.43 Q113.932 1200.91 114.811 1199.17 Q115.714 1197.41 115.714 1195.73 Q115.714 1192.97 113.77 1191.23 Q111.848 1189.5 108.746 1189.5 Q106.547 1189.5 104.094 1190.26 Q101.663 1191.03 98.8854 1192.58 L98.8854 1187.85 Q101.709 1186.72 104.163 1186.14 Q106.617 1185.56 108.654 1185.56 Q114.024 1185.56 117.219 1188.25 Q120.413 1190.93 120.413 1195.42 Q120.413 1197.55 119.603 1199.48 Q118.816 1201.37 116.709 1203.97 Q116.131 1204.64 113.029 1207.85 Q109.927 1211.05 104.279 1216.81 Z\" fill=\"#000000\" fill-rule=\"evenodd\" fill-opacity=\"1\" /><path clip-path=\"url(#clip240)\" d=\"M62.9365 869.211 Q59.3254 869.211 57.4967 872.775 Q55.6912 876.317 55.6912 883.447 Q55.6912 890.553 57.4967 894.118 Q59.3254 897.66 62.9365 897.66 Q66.5707 897.66 68.3763 894.118 Q70.205 890.553 70.205 883.447 Q70.205 876.317 68.3763 872.775 Q66.5707 869.211 62.9365 869.211 M62.9365 865.507 Q68.7467 865.507 71.8022 870.113 Q74.8809 874.697 74.8809 883.447 Q74.8809 892.174 71.8022 896.78 Q68.7467 901.363 62.9365 901.363 Q57.1264 901.363 54.0477 896.78 Q50.9921 892.174 50.9921 883.447 Q50.9921 874.697 54.0477 870.113 Q57.1264 865.507 62.9365 865.507 Z\" fill=\"#000000\" fill-rule=\"evenodd\" fill-opacity=\"1\" /><path clip-path=\"url(#clip240)\" d=\"M83.0984 894.812 L87.9827 894.812 L87.9827 900.692 L83.0984 900.692 L83.0984 894.812 Z\" fill=\"#000000\" fill-rule=\"evenodd\" fill-opacity=\"1\" /><path clip-path=\"url(#clip240)\" d=\"M111.015 870.206 L99.2095 888.655 L111.015 888.655 L111.015 870.206 M109.788 866.132 L115.668 866.132 L115.668 888.655 L120.598 888.655 L120.598 892.544 L115.668 892.544 L115.668 900.692 L111.015 900.692 L111.015 892.544 L95.4132 892.544 L95.4132 888.03 L109.788 866.132 Z\" fill=\"#000000\" fill-rule=\"evenodd\" fill-opacity=\"1\" /><path clip-path=\"url(#clip240)\" d=\"M63.2606 549.155 Q59.6495 549.155 57.8208 552.719 Q56.0152 556.261 56.0152 563.391 Q56.0152 570.497 57.8208 574.062 Q59.6495 577.604 63.2606 577.604 Q66.8948 577.604 68.7004 574.062 Q70.5291 570.497 70.5291 563.391 Q70.5291 556.261 68.7004 552.719 Q66.8948 549.155 63.2606 549.155 M63.2606 545.451 Q69.0707 545.451 72.1263 550.057 Q75.205 554.641 75.205 563.391 Q75.205 572.117 72.1263 576.724 Q69.0707 581.307 63.2606 581.307 Q57.4504 581.307 54.3717 576.724 Q51.3162 572.117 51.3162 563.391 Q51.3162 554.641 54.3717 550.057 Q57.4504 545.451 63.2606 545.451 Z\" fill=\"#000000\" fill-rule=\"evenodd\" fill-opacity=\"1\" /><path clip-path=\"url(#clip240)\" d=\"M83.4225 574.756 L88.3067 574.756 L88.3067 580.636 L83.4225 580.636 L83.4225 574.756 Z\" fill=\"#000000\" fill-rule=\"evenodd\" fill-opacity=\"1\" /><path clip-path=\"url(#clip240)\" d=\"M109.071 561.493 Q105.922 561.493 104.071 563.645 Q102.242 565.798 102.242 569.548 Q102.242 573.275 104.071 575.451 Q105.922 577.604 109.071 577.604 Q112.219 577.604 114.047 575.451 Q115.899 573.275 115.899 569.548 Q115.899 565.798 114.047 563.645 Q112.219 561.493 109.071 561.493 M118.353 546.84 L118.353 551.099 Q116.594 550.266 114.788 549.826 Q113.006 549.386 111.246 549.386 Q106.617 549.386 104.163 552.511 Q101.733 555.636 101.385 561.955 Q102.751 559.942 104.811 558.877 Q106.871 557.789 109.348 557.789 Q114.557 557.789 117.566 560.96 Q120.598 564.108 120.598 569.548 Q120.598 574.872 117.45 578.09 Q114.302 581.307 109.071 581.307 Q103.075 581.307 99.9039 576.724 Q96.7326 572.117 96.7326 563.391 Q96.7326 555.196 100.621 550.335 Q104.51 545.451 111.061 545.451 Q112.82 545.451 114.603 545.798 Q116.408 546.145 118.353 546.84 Z\" fill=\"#000000\" fill-rule=\"evenodd\" fill-opacity=\"1\" /><path clip-path=\"url(#clip240)\" d=\"M63.5152 229.099 Q59.9041 229.099 58.0754 232.663 Q56.2699 236.205 56.2699 243.335 Q56.2699 250.441 58.0754 254.006 Q59.9041 257.547 63.5152 257.547 Q67.1494 257.547 68.955 254.006 Q70.7837 250.441 70.7837 243.335 Q70.7837 236.205 68.955 232.663 Q67.1494 229.099 63.5152 229.099 M63.5152 225.395 Q69.3254 225.395 72.3809 230.001 Q75.4596 234.585 75.4596 243.335 Q75.4596 252.061 72.3809 256.668 Q69.3254 261.251 63.5152 261.251 Q57.7051 261.251 54.6264 256.668 Q51.5708 252.061 51.5708 243.335 Q51.5708 234.585 54.6264 230.001 Q57.7051 225.395 63.5152 225.395 Z\" fill=\"#000000\" fill-rule=\"evenodd\" fill-opacity=\"1\" /><path clip-path=\"url(#clip240)\" d=\"M83.6771 254.7 L88.5614 254.7 L88.5614 260.58 L83.6771 260.58 L83.6771 254.7 Z\" fill=\"#000000\" fill-rule=\"evenodd\" fill-opacity=\"1\" /><path clip-path=\"url(#clip240)\" d=\"M108.746 244.168 Q105.413 244.168 103.492 245.95 Q101.594 247.733 101.594 250.858 Q101.594 253.983 103.492 255.765 Q105.413 257.547 108.746 257.547 Q112.08 257.547 114.001 255.765 Q115.922 253.96 115.922 250.858 Q115.922 247.733 114.001 245.95 Q112.103 244.168 108.746 244.168 M104.071 242.177 Q101.061 241.436 99.3715 239.376 Q97.7048 237.316 97.7048 234.353 Q97.7048 230.21 100.645 227.802 Q103.608 225.395 108.746 225.395 Q113.908 225.395 116.848 227.802 Q119.788 230.21 119.788 234.353 Q119.788 237.316 118.098 239.376 Q116.432 241.436 113.445 242.177 Q116.825 242.964 118.7 245.256 Q120.598 247.548 120.598 250.858 Q120.598 255.881 117.52 258.566 Q114.464 261.251 108.746 261.251 Q103.029 261.251 99.9502 258.566 Q96.8947 255.881 96.8947 250.858 Q96.8947 247.548 98.7928 245.256 Q100.691 242.964 104.071 242.177 M102.358 234.793 Q102.358 237.478 104.024 238.983 Q105.714 240.487 108.746 240.487 Q111.756 240.487 113.445 238.983 Q115.158 237.478 115.158 234.793 Q115.158 232.108 113.445 230.603 Q111.756 229.099 108.746 229.099 Q105.714 229.099 104.024 230.603 Q102.358 232.108 102.358 234.793 Z\" fill=\"#000000\" fill-rule=\"evenodd\" fill-opacity=\"1\" /><circle clip-path=\"url(#clip242)\" cx=\"900.754\" cy=\"117.213\" r=\"14.4\" fill=\"#0000ff\" fill-rule=\"evenodd\" fill-opacity=\"1\" stroke=\"#000000\" stroke-opacity=\"1\" stroke-width=\"3.2\"/>\n",
       "<circle clip-path=\"url(#clip242)\" cx=\"1337.66\" cy=\"998.336\" r=\"14.4\" fill=\"#0000ff\" fill-rule=\"evenodd\" fill-opacity=\"1\" stroke=\"#000000\" stroke-opacity=\"1\" stroke-width=\"3.2\"/>\n",
       "<circle clip-path=\"url(#clip242)\" cx=\"2288.96\" cy=\"1030.31\" r=\"14.4\" fill=\"#0000ff\" fill-rule=\"evenodd\" fill-opacity=\"1\" stroke=\"#000000\" stroke-opacity=\"1\" stroke-width=\"3.2\"/>\n",
       "<circle clip-path=\"url(#clip242)\" cx=\"1840.64\" cy=\"87.9763\" r=\"14.4\" fill=\"#0000ff\" fill-rule=\"evenodd\" fill-opacity=\"1\" stroke=\"#000000\" stroke-opacity=\"1\" stroke-width=\"3.2\"/>\n",
       "<circle clip-path=\"url(#clip242)\" cx=\"218.754\" cy=\"1410.69\" r=\"14.4\" fill=\"#0000ff\" fill-rule=\"evenodd\" fill-opacity=\"1\" stroke=\"#000000\" stroke-opacity=\"1\" stroke-width=\"3.2\"/>\n",
       "<circle clip-path=\"url(#clip242)\" cx=\"768.03\" cy=\"1026.75\" r=\"14.4\" fill=\"#0000ff\" fill-rule=\"evenodd\" fill-opacity=\"1\" stroke=\"#000000\" stroke-opacity=\"1\" stroke-width=\"3.2\"/>\n",
       "<circle clip-path=\"url(#clip242)\" cx=\"2017.02\" cy=\"967.646\" r=\"14.4\" fill=\"#0000ff\" fill-rule=\"evenodd\" fill-opacity=\"1\" stroke=\"#000000\" stroke-opacity=\"1\" stroke-width=\"3.2\"/>\n",
       "<circle clip-path=\"url(#clip242)\" cx=\"2283.71\" cy=\"1087.25\" r=\"14.4\" fill=\"#0000ff\" fill-rule=\"evenodd\" fill-opacity=\"1\" stroke=\"#000000\" stroke-opacity=\"1\" stroke-width=\"3.2\"/>\n",
       "<circle clip-path=\"url(#clip242)\" cx=\"1955.74\" cy=\"1445.72\" r=\"14.4\" fill=\"#0000ff\" fill-rule=\"evenodd\" fill-opacity=\"1\" stroke=\"#000000\" stroke-opacity=\"1\" stroke-width=\"3.2\"/>\n",
       "<circle clip-path=\"url(#clip242)\" cx=\"257.146\" cy=\"888.562\" r=\"14.4\" fill=\"#0000ff\" fill-rule=\"evenodd\" fill-opacity=\"1\" stroke=\"#000000\" stroke-opacity=\"1\" stroke-width=\"3.2\"/>\n",
       "<circle clip-path=\"url(#clip242)\" cx=\"1413.3\" cy=\"296.531\" r=\"14.4\" fill=\"#0000ff\" fill-rule=\"evenodd\" fill-opacity=\"1\" stroke=\"#000000\" stroke-opacity=\"1\" stroke-width=\"3.2\"/>\n",
       "<circle clip-path=\"url(#clip242)\" cx=\"611.082\" cy=\"118.991\" r=\"14.4\" fill=\"#0000ff\" fill-rule=\"evenodd\" fill-opacity=\"1\" stroke=\"#000000\" stroke-opacity=\"1\" stroke-width=\"3.2\"/>\n",
       "<path clip-path=\"url(#clip242)\" d=\"M614.682 166.046 L614.682 214.046 L662.682 214.046 L662.682 166.046 L614.682 166.046 Z\" fill=\"#ffffff\" fill-rule=\"evenodd\" fill-opacity=\"1\" stroke=\"#ff0000\" stroke-opacity=\"1\" stroke-width=\"9.6\"/>\n",
       "<path clip-path=\"url(#clip242)\" d=\"M1958.4 760.137 L1958.4 808.137 L2006.4 808.137 L2006.4 760.137 L1958.4 760.137 Z\" fill=\"#ffffff\" fill-rule=\"evenodd\" fill-opacity=\"1\" stroke=\"#ff0000\" stroke-opacity=\"1\" stroke-width=\"9.6\"/>\n",
       "<path clip-path=\"url(#clip242)\" d=\"M994.777 719.237 L994.777 767.237 L1042.78 767.237 L1042.78 719.237 L994.777 719.237 Z\" fill=\"#ff0000\" fill-rule=\"evenodd\" fill-opacity=\"1\" stroke=\"none\"/>\n",
       "<path clip-path=\"url(#clip242)\" d=\"M806.323 1254.75 L806.323 1302.75 L854.323 1302.75 L854.323 1254.75 L806.323 1254.75 Z\" fill=\"#ffffff\" fill-rule=\"evenodd\" fill-opacity=\"1\" stroke=\"#ff0000\" stroke-opacity=\"1\" stroke-width=\"9.6\"/>\n",
       "<path clip-path=\"url(#clip242)\" d=\"M2266.6 876.347 L2266.6 924.347 L2314.6 924.347 L2314.6 876.347 L2266.6 876.347 Z\" fill=\"#ff0000\" fill-rule=\"evenodd\" fill-opacity=\"1\" stroke=\"none\"/>\n",
       "<polyline clip-path=\"url(#clip242)\" style=\"stroke:#000000; stroke-linecap:round; stroke-linejoin:round; stroke-width:4; stroke-opacity:1; fill:none\" points=\"\n",
       "  900.754,117.213 1018.78,743.237 \n",
       "  \"/>\n",
       "<polyline clip-path=\"url(#clip242)\" style=\"stroke:#000000; stroke-linecap:round; stroke-linejoin:round; stroke-width:4; stroke-opacity:1; fill:none\" points=\"\n",
       "  1337.66,998.336 1018.78,743.237 \n",
       "  \"/>\n",
       "<polyline clip-path=\"url(#clip242)\" style=\"stroke:#000000; stroke-linecap:round; stroke-linejoin:round; stroke-width:4; stroke-opacity:1; fill:none\" points=\"\n",
       "  2288.96,1030.31 2290.6,900.347 \n",
       "  \"/>\n",
       "<polyline clip-path=\"url(#clip242)\" style=\"stroke:#000000; stroke-linecap:round; stroke-linejoin:round; stroke-width:4; stroke-opacity:1; fill:none\" points=\"\n",
       "  1840.64,87.9763 2290.6,900.347 \n",
       "  \"/>\n",
       "<polyline clip-path=\"url(#clip242)\" style=\"stroke:#000000; stroke-linecap:round; stroke-linejoin:round; stroke-width:4; stroke-opacity:1; fill:none\" points=\"\n",
       "  218.754,1410.69 1018.78,743.237 \n",
       "  \"/>\n",
       "<polyline clip-path=\"url(#clip242)\" style=\"stroke:#000000; stroke-linecap:round; stroke-linejoin:round; stroke-width:4; stroke-opacity:1; fill:none\" points=\"\n",
       "  768.03,1026.75 1018.78,743.237 \n",
       "  \"/>\n",
       "<polyline clip-path=\"url(#clip242)\" style=\"stroke:#000000; stroke-linecap:round; stroke-linejoin:round; stroke-width:4; stroke-opacity:1; fill:none\" points=\"\n",
       "  2017.02,967.646 2290.6,900.347 \n",
       "  \"/>\n",
       "<polyline clip-path=\"url(#clip242)\" style=\"stroke:#000000; stroke-linecap:round; stroke-linejoin:round; stroke-width:4; stroke-opacity:1; fill:none\" points=\"\n",
       "  2283.71,1087.25 2290.6,900.347 \n",
       "  \"/>\n",
       "<polyline clip-path=\"url(#clip242)\" style=\"stroke:#000000; stroke-linecap:round; stroke-linejoin:round; stroke-width:4; stroke-opacity:1; fill:none\" points=\"\n",
       "  1955.74,1445.72 2290.6,900.347 \n",
       "  \"/>\n",
       "<polyline clip-path=\"url(#clip242)\" style=\"stroke:#000000; stroke-linecap:round; stroke-linejoin:round; stroke-width:4; stroke-opacity:1; fill:none\" points=\"\n",
       "  257.146,888.562 1018.78,743.237 \n",
       "  \"/>\n",
       "<polyline clip-path=\"url(#clip242)\" style=\"stroke:#000000; stroke-linecap:round; stroke-linejoin:round; stroke-width:4; stroke-opacity:1; fill:none\" points=\"\n",
       "  1413.3,296.531 1018.78,743.237 \n",
       "  \"/>\n",
       "<polyline clip-path=\"url(#clip242)\" style=\"stroke:#000000; stroke-linecap:round; stroke-linejoin:round; stroke-width:4; stroke-opacity:1; fill:none\" points=\"\n",
       "  611.082,118.991 1018.78,743.237 \n",
       "  \"/>\n",
       "</svg>\n"
      ]
     },
     "execution_count": 87,
     "metadata": {},
     "output_type": "execute_result"
    }
   ],
   "source": [
    "# see which were associated with which\n",
    "\n",
    "#approximation tolerance\n",
    "client_is_selected = isapprox.(value.(serve), 1; atol = 1e-5);\n",
    "facility_is_selected = isapprox.(value.(fac_open), 1; atol = 1e-5);\n",
    "\n",
    "#setting up the plot for the painting of facilities\n",
    "p = Plots.scatter(cx, cy; markershape = :circle, markercolor = :blue, label = nothing)\n",
    "\n",
    "#draw out: if facility is chosen or not\n",
    "Plots.scatter!(fx, fy, markershape = :square, \n",
    "    markercolor = [(facility_is_selected[j] ? :red : :white) for j in 1:facilities], \n",
    "    markersize = 6, markerstrokecolor = :red, markerstrokewidth = 3, label = nothing)\n",
    "\n",
    "#draw out: lines IF that particular one is chosen\n",
    "for i in 1:clients, j in 1:facilities\n",
    "    if client_is_selected[i, j]\n",
    "        Plots.plot!([cx[i], fx[j]], [cy[i], fy[j]];\n",
    "        color = :black, label = nothing)\n",
    "    end\n",
    "end\n",
    "\n",
    "p"
   ]
  },
  {
   "cell_type": "markdown",
   "id": "c40dcec5",
   "metadata": {},
   "source": [
    "The tutorial covers the case of capacity-limited facilities, which isn't too relevant for now.\n",
    "\n",
    "Tutorial at jump.dev/JuMP.jl/stable/tutorials/linear/facility_location"
   ]
  },
  {
   "cell_type": "markdown",
   "id": "951b333a",
   "metadata": {},
   "source": [
    "## MIP Dual Construction\n",
    "\n",
    "I'm going to have to run the dual program of the UROP formulation, so this is important."
   ]
  },
  {
   "cell_type": "code",
   "execution_count": 89,
   "id": "b132518d",
   "metadata": {},
   "outputs": [],
   "source": [
    "using JuMP\n",
    "import HiGHS\n",
    "# HiGHS: high-performance optimization; highs.dev"
   ]
  },
  {
   "cell_type": "code",
   "execution_count": 92,
   "id": "0401424c",
   "metadata": {
    "scrolled": true
   },
   "outputs": [
    {
     "name": "stdout",
     "output_type": "stream",
     "text": [
      "Length of generators: 2"
     ]
    },
    {
     "data": {
      "text/latex": [
       "$$ \\begin{aligned}\n",
       "\\min\\quad & 1000 dispatch_{1} + 50 g_{1} + 100 g_{2}\\\\\n",
       "\\text{Subject to} \\quad & g_{1} + g_{2} + w = 1500.0\\\\\n",
       " & g_{1} \\geq 0.0\\\\\n",
       " & g_{2} - 300 dispatch_{2} \\geq 0.0\\\\\n",
       " & g_{1} - 1000 dispatch_{1} \\leq 0.0\\\\\n",
       " & g_{2} - 1000 dispatch_{2} \\leq 0.0\\\\\n",
       " & g_{1} \\geq 0.0\\\\\n",
       " & g_{2} \\geq 300.0\\\\\n",
       " & w \\geq 0.0\\\\\n",
       " & g_{1} \\leq 1000.0\\\\\n",
       " & g_{2} \\leq 1000.0\\\\\n",
       " & w \\leq 200.0\\\\\n",
       " & dispatch_{1} \\in \\{0, 1\\}\\\\\n",
       " & dispatch_{2} \\in \\{0, 1\\}\\\\\n",
       "\\end{aligned} $$"
      ]
     },
     "metadata": {},
     "output_type": "display_data"
    }
   ],
   "source": [
    "#=\n",
    "using the new data structure: well it's not that new, similar to\n",
    "the multidict which was presented in the Gurobi official simulations.\n",
    "=#\n",
    "generators = [\n",
    "    (min = 0, max = 1000, fixed_cost = 1000, variable_cost = 50),\n",
    "    (min = 300, max = 1000, fixed_cost = 0, variable_cost = 100)\n",
    "]\n",
    "\n",
    "N = length(generators) # going to be 2\n",
    "print(\"Length of generators: \", N)\n",
    "\n",
    "model = Model(HiGHS.Optimizer)\n",
    "\n",
    "@variables(model, begin\n",
    "    generators[i].min <= g[i = 1:N] <= generators[i].max\n",
    "    0 <= w <= 200\n",
    "    dispatch[i = 1:N], Bin\n",
    "    end)\n",
    "#=\n",
    "I am not that familiar with generators, and the syntax is a bit new for me.\n",
    "But let's see what we can do with it; the goal is to see the dual of a program.\n",
    "=#\n",
    "\n",
    "@constraints(model, begin\n",
    "    power_balance, sum(g[i] for i in 1:N) + w == 1500\n",
    "    [i = 1:N], g[i] <= generators[i].max * dispatch[i]\n",
    "    [i = 1:N], g[i] >= generators[i].min * dispatch[i]\n",
    "    end)\n",
    "\n",
    "@objective(model, Min, sum(generators[i].fixed_cost * dispatch[i] +\n",
    "        generators[i].variable_cost * g[i] for i in 1:N))\n",
    "\n",
    "print(model)"
   ]
  },
  {
   "cell_type": "code",
   "execution_count": 93,
   "id": "291a0600",
   "metadata": {
    "scrolled": true
   },
   "outputs": [
    {
     "name": "stdout",
     "output_type": "stream",
     "text": [
      "Running HiGHS 1.5.3 [date: 1970-01-01, git hash: 45a127b78]\n",
      "Copyright (c) 2023 HiGHS under MIT licence terms\n",
      "Presolving model\n",
      "3 rows, 3 cols, 5 nonzeros\n",
      "0 rows, 0 cols, 0 nonzeros\n",
      "Presolve: Optimal\n",
      "\n",
      "Solving report\n",
      "  Status            Optimal\n",
      "  Primal bound      81000\n",
      "  Dual bound        81000\n",
      "  Gap               0% (tolerance: 0.01%)\n",
      "  Solution status   feasible\n",
      "                    81000 (objective)\n",
      "                    0 (bound viol.)\n",
      "                    0 (int. viol.)\n",
      "                    0 (row viol.)\n",
      "  Timing            0.00 (total)\n",
      "                    0.00 (presolve)\n",
      "                    0.00 (postsolve)\n",
      "  Nodes             0\n",
      "  LP iterations     0 (total)\n",
      "                    0 (strong br.)\n",
      "                    0 (separation)\n",
      "                    0 (heuristics)\n"
     ]
    }
   ],
   "source": [
    "optimize!(model)"
   ]
  },
  {
   "cell_type": "code",
   "execution_count": 94,
   "id": "51cb9ae4",
   "metadata": {},
   "outputs": [
    {
     "data": {
      "text/plain": [
       "NO_SOLUTION::ResultStatusCode = 0"
      ]
     },
     "execution_count": 94,
     "metadata": {},
     "output_type": "execute_result"
    }
   ],
   "source": [
    "# but somehow if we do dual status it tells us it's bad\n",
    "dual_status(model)"
   ]
  },
  {
   "cell_type": "code",
   "execution_count": 95,
   "id": "45aa20d8",
   "metadata": {
    "scrolled": true
   },
   "outputs": [
    {
     "data": {
      "text/latex": [
       "$$ \\begin{aligned}\n",
       "\\min\\quad & 1000 dispatch_{1} + 50 g_{1} + 100 g_{2}\\\\\n",
       "\\text{Subject to} \\quad & g_{1} + g_{2} + w = 1500.0\\\\\n",
       " & g_{1} \\geq 0.0\\\\\n",
       " & g_{2} - 300 dispatch_{2} \\geq 0.0\\\\\n",
       " & g_{1} - 1000 dispatch_{1} \\leq 0.0\\\\\n",
       " & g_{2} - 1000 dispatch_{2} \\leq 0.0\\\\\n",
       " & dispatch_{1} = 1.0\\\\\n",
       " & dispatch_{2} = 1.0\\\\\n",
       " & g_{1} \\geq 0.0\\\\\n",
       " & g_{2} \\geq 300.0\\\\\n",
       " & w \\geq 0.0\\\\\n",
       " & g_{1} \\leq 1000.0\\\\\n",
       " & g_{2} \\leq 1000.0\\\\\n",
       " & w \\leq 200.0\\\\\n",
       "\\end{aligned} $$"
      ]
     },
     "metadata": {},
     "output_type": "display_data"
    }
   ],
   "source": [
    "#=\n",
    "This issue was faced earlier as well when we did the Gurobi tutorial, and now\n",
    "we can fix the problem in HiGHS by relaxation on integral values...\n",
    "\n",
    "change it to LP and it can be solved\n",
    "=#\n",
    "\n",
    "discrete_values = value.(dispatch)\n",
    "fix.(dispatch, discrete_values; force = true)\n",
    "unset_binary.(dispatch)\n",
    "print(model)"
   ]
  },
  {
   "cell_type": "code",
   "execution_count": 96,
   "id": "51f6f284",
   "metadata": {
    "scrolled": true
   },
   "outputs": [
    {
     "name": "stdout",
     "output_type": "stream",
     "text": [
      "WARNING: No semi-integer/integer variables in model with non-empty integrality\n",
      "Presolving model\n",
      "1 rows, 2 cols, 2 nonzeros\n",
      "0 rows, 0 cols, 0 nonzeros\n",
      "Presolve : Reductions: rows 0(-5); columns 0(-5); elements 0(-10) - Reduced to empty\n",
      "Solving the original LP from the solution after postsolve\n",
      "Model   status      : Optimal\n",
      "Objective value     :  8.1000000000e+04\n",
      "HiGHS run time      :          0.00\n"
     ]
    }
   ],
   "source": [
    "optimize!(model)"
   ]
  },
  {
   "cell_type": "code",
   "execution_count": 97,
   "id": "63e306d7",
   "metadata": {},
   "outputs": [
    {
     "data": {
      "text/plain": [
       "FEASIBLE_POINT::ResultStatusCode = 1"
      ]
     },
     "execution_count": 97,
     "metadata": {},
     "output_type": "execute_result"
    }
   ],
   "source": [
    "dual_status(model)"
   ]
  },
  {
   "cell_type": "code",
   "execution_count": 98,
   "id": "537da4eb",
   "metadata": {},
   "outputs": [
    {
     "data": {
      "text/plain": [
       "100.0"
      ]
     },
     "execution_count": 98,
     "metadata": {},
     "output_type": "execute_result"
    }
   ],
   "source": [
    "dual(power_balance)"
   ]
  },
  {
   "cell_type": "code",
   "execution_count": 99,
   "id": "285635b9",
   "metadata": {},
   "outputs": [],
   "source": [
    "# put it back to its original condition:\n",
    "#=\n",
    "unfix.(dispatch)\n",
    "set_binary.(dispatch)\n",
    "print(model)\n",
    "=#"
   ]
  },
  {
   "cell_type": "markdown",
   "id": "e2a1024e",
   "metadata": {},
   "source": [
    "## Try Again with Original Furniture Example\n",
    "\n",
    "Now that we know some of the ins and outs of the dual, we can try to get a feasible dual this time."
   ]
  },
  {
   "cell_type": "code",
   "execution_count": 107,
   "id": "7ea46fef",
   "metadata": {
    "scrolled": true
   },
   "outputs": [
    {
     "name": "stdout",
     "output_type": "stream",
     "text": [
      "Set parameter Username\n",
      "Academic license - for non-commercial use only - expires 2023-09-04\n",
      "Gurobi Optimizer version 9.5.2 build v9.5.2rc0 (mac64[x86])\n",
      "Thread count: 4 physical cores, 8 logical processors, using up to 8 threads\n",
      "Optimize a model with 4 rows, 2 columns and 6 nonzeros\n",
      "Model fingerprint: 0x73c67f7c\n",
      "Coefficient statistics:\n",
      "  Matrix range     [1e+00, 2e+01]\n",
      "  Objective range  [4e+01, 8e+01]\n",
      "  Bounds range     [0e+00, 0e+00]\n",
      "  RHS range        [4e+02, 4e+02]\n",
      "Presolve removed 2 rows and 0 columns\n",
      "Presolve time: 0.00s\n",
      "Presolved: 2 rows, 2 columns, 4 nonzeros\n",
      "\n",
      "Iteration    Objective       Primal Inf.    Dual Inf.      Time\n",
      "       0    3.6000000e+03   5.682900e+01   0.000000e+00      0s\n",
      "       2    2.2000000e+03   0.000000e+00   0.000000e+00      0s\n",
      "\n",
      "Solved in 2 iterations and 0.00 seconds (0.00 work units)\n",
      "Optimal objective  2.200000000e+03\n",
      "\n",
      "User-callback calls 41, time in user-callback 0.00 sec\n"
     ]
    }
   ],
   "source": [
    "furniture = Model(Gurobi.Optimizer);\n",
    "\n",
    "@variable(furniture, x1, base_name = \"chairs\") # chairs\n",
    "@variable(furniture, x2, base_name = \"tables\") # tables\n",
    "\n",
    "@objective(furniture, Max, 45*x1+80*x2)\n",
    "\n",
    "@constraint(furniture, 5*x1+20*x2 <= 400, base_name = \"wood_constraint\")\n",
    "@constraint(furniture, 10*x1 + 15*x2 <= 450, base_name = \"labor_constraint\")\n",
    "\n",
    "#well these trivial constraints have to be set\n",
    "@constraint(furniture, x1 >= 0, base_name = \"non-negative chairs\")\n",
    "@constraint(furniture, x2 >= 0, base_name = \"non-negative tables\")\n",
    "\n",
    "\n",
    "optimize!(furniture)"
   ]
  },
  {
   "cell_type": "code",
   "execution_count": 110,
   "id": "2fc01479",
   "metadata": {
    "scrolled": true
   },
   "outputs": [
    {
     "data": {
      "text/plain": [
       "FEASIBLE_POINT::ResultStatusCode = 1"
      ]
     },
     "execution_count": 110,
     "metadata": {},
     "output_type": "execute_result"
    }
   ],
   "source": [
    "#try again\n",
    "dual_status(furniture)"
   ]
  },
  {
   "cell_type": "code",
   "execution_count": 113,
   "id": "2f82fd4c",
   "metadata": {},
   "outputs": [
    {
     "data": {
      "text/plain": [
       "1.0"
      ]
     },
     "execution_count": 113,
     "metadata": {},
     "output_type": "execute_result"
    }
   ],
   "source": [
    "# extract shadow price\n",
    "wood = constraint_by_name(furniture, \"wood_constraint\")\n",
    "labor = constraint_by_name(furniture, \"labor_constraint\")\n",
    "\n",
    "wood_shadow = shadow_price.(wood)"
   ]
  },
  {
   "cell_type": "code",
   "execution_count": 114,
   "id": "93c1abe1",
   "metadata": {},
   "outputs": [
    {
     "data": {
      "text/plain": [
       "4.0"
      ]
     },
     "execution_count": 114,
     "metadata": {},
     "output_type": "execute_result"
    }
   ],
   "source": [
    "labor_shadow = shadow_price.(labor)"
   ]
  },
  {
   "cell_type": "code",
   "execution_count": 115,
   "id": "d95638f1",
   "metadata": {},
   "outputs": [
    {
     "data": {
      "text/plain": [
       "-1.0"
      ]
     },
     "execution_count": 115,
     "metadata": {},
     "output_type": "execute_result"
    }
   ],
   "source": [
    "dual(wood)"
   ]
  },
  {
   "cell_type": "code",
   "execution_count": 116,
   "id": "55ae1e54",
   "metadata": {
    "scrolled": true
   },
   "outputs": [
    {
     "data": {
      "text/plain": [
       "-4.0"
      ]
     },
     "execution_count": 116,
     "metadata": {},
     "output_type": "execute_result"
    }
   ],
   "source": [
    "dual(labor)"
   ]
  },
  {
   "cell_type": "markdown",
   "id": "8024172d",
   "metadata": {},
   "source": [
    "## These are all correct responses. Mission accomplished"
   ]
  }
 ],
 "metadata": {
  "kernelspec": {
   "display_name": "Julia 1.8.0",
   "language": "julia",
   "name": "julia-1.8"
  },
  "language_info": {
   "file_extension": ".jl",
   "mimetype": "application/julia",
   "name": "julia",
   "version": "1.8.0"
  }
 },
 "nbformat": 4,
 "nbformat_minor": 5
}
