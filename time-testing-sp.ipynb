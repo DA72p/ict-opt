{
 "cells": [
  {
   "cell_type": "markdown",
   "id": "1f549ee9",
   "metadata": {},
   "source": [
    "# [0] Imports"
   ]
  },
  {
   "cell_type": "code",
   "execution_count": 68,
   "id": "6fa98331",
   "metadata": {},
   "outputs": [],
   "source": [
    "import Pkg;\n",
    "\n",
    "using LinearAlgebra, Random, Gurobi, JuMP, Distributions, Plots, LazySets, Dates"
   ]
  },
  {
   "cell_type": "code",
   "execution_count": 69,
   "id": "4b1eac22",
   "metadata": {},
   "outputs": [],
   "source": [
    "LOW_JOBS = 35\n",
    "HIGH_JOBS = 35;"
   ]
  },
  {
   "cell_type": "code",
   "execution_count": 70,
   "id": "f2aadbb2",
   "metadata": {},
   "outputs": [],
   "source": [
    "times_pp_start = []\n",
    "times_pp_end = []\n",
    "\n",
    "times_mb_start = []\n",
    "times_mb_end = []\n",
    "\n",
    "times_op_start = []\n",
    "times_op_end = []\n",
    "\n",
    "ANSWERS = [] # record the actual routes\n",
    "OBJECTIVES = [] # record the objective\n",
    ";"
   ]
  },
  {
   "cell_type": "code",
   "execution_count": 71,
   "id": "8bf4db36",
   "metadata": {},
   "outputs": [
    {
     "name": "stdout",
     "output_type": "stream",
     "text": [
      "Set parameter Username\n",
      "Academic license - for non-commercial use only - expires 2023-09-04\n"
     ]
    }
   ],
   "source": [
    "for JOBS in LOW_JOBS:HIGH_JOBS\n",
    "    \n",
    "    # SETUP, doesn't count in time\n",
    "    n_jobs = JOBS\n",
    "    n_vehicles_jobs = n_jobs\n",
    "    n_vehicles_coverage = 10\n",
    "    T = 2 * n_jobs\n",
    "    min_duration = 2\n",
    "    max_duration = 6\n",
    "    speed = 1000/6\n",
    "    coverage_distance = 50\n",
    "    size = 500\n",
    "    step = 50;\n",
    "    \n",
    "    Random.seed!(1234)\n",
    "\n",
    "    function create_cluster_sizes(jobs_total)\n",
    "        Random.seed!(1234)\n",
    "        jobs_created = 0\n",
    "        cluster = []\n",
    "        min_jobs_allowed = n_jobs >= 15 ? 3 : 2\n",
    "            target_clusters = 5\n",
    "            while jobs_created != jobs_total\n",
    "                num_to_add = rand(min(min_jobs_allowed, jobs_total - jobs_created) : \n",
    "                    min(Int((n_jobs/target_clusters)÷1), jobs_total - jobs_created))\n",
    "                jobs_created += num_to_add\n",
    "                push!(cluster, num_to_add)\n",
    "            end\n",
    "\n",
    "        return cluster\n",
    "    end;\n",
    "    \n",
    "    time_windows = []\n",
    "    locations = rand(Uniform(0,size), 1, 2)\n",
    "    work_load = []\n",
    "\n",
    "    cluster = create_cluster_sizes(n_jobs);\n",
    "    \n",
    "    function create_time_windows_and_work_load(cluster_sizes, locations)\n",
    "        Random.seed!(1234)\n",
    "        locations = rand(Uniform(0,size), 1, 2)\n",
    "        for size_c in cluster\n",
    "            first = rand(Uniform(0,size), 1, 2)\n",
    "            locations = vcat(locations, first)\n",
    "\n",
    "            job_begins = rand(2:10)\n",
    "            job_finish = rand((job_begins+min_duration):(job_begins+max_duration))\n",
    "            push!(time_windows, [job_begins, job_finish])\n",
    "\n",
    "            time_work = rand(min_duration:max(min_duration, job_finish - job_begins))\n",
    "            push!(work_load, time_work)\n",
    "\n",
    "            for neighbour in 1:(size_c-1)\n",
    "                new_x = rand(Uniform(max(0,first[1]-20), min(first[1]+20, size)), 1, 1)\n",
    "                new_y = rand(Uniform(max(0,first[2]-20), min(first[2]+20, size)), 1, 1)\n",
    "                new = hcat(new_x, new_y)\n",
    "                locations = vcat(locations, new)\n",
    "\n",
    "                job_begins = rand(job_finish:min(T-min_duration-2, job_finish + 6))\n",
    "                job_finish = rand((job_begins+min_duration):(min(job_begins+max_duration, T-2)))\n",
    "                push!(time_windows, [job_begins, job_finish])\n",
    "\n",
    "                time_work = rand(min_duration:min(max_duration, job_finish-job_begins))\n",
    "                push!(work_load, time_work)\n",
    "            end\n",
    "        end\n",
    "\n",
    "        return [time_windows, work_load, locations]\n",
    "    end;\n",
    "    \n",
    "    time_windows, work_load, locations = create_time_windows_and_work_load(cluster, locations)\n",
    "    distances = [LinearAlgebra.norm(locations[i, :] .- locations[j, :]) for i=1:n_jobs+1, j = 1:n_jobs+1];\n",
    "    \n",
    "    # NOW we start!\n",
    "    push!(times_pp_start, datetime2unix(now()))\n",
    "    function label_setting(n, travel_time, travel_distance, windows, load)\n",
    "        N = [[1]] \n",
    "        T = [ [1] ] \n",
    "        C = [0.0]  \n",
    "\n",
    "        L = [1]    \n",
    "\n",
    "        current_state = 1\n",
    "        total_state = 1\n",
    "\n",
    "        while 1==1\n",
    "\n",
    "            # STEP 1: Check whether we want to move on to checking the next path\n",
    "            if (L[current_state] == n+2)\n",
    "                current_state += 1\n",
    "                if current_state > total_state\n",
    "                    break\n",
    "                else\n",
    "                    continue\n",
    "                end\n",
    "            end\n",
    "\n",
    "            # STEP 2: Enter the for loop.\n",
    "            for i in 2:(n+2)\n",
    "\n",
    "                # STEP 2-1: Check that the current node is not already inside our path.\n",
    "                if ~(i in N[current_state])\n",
    "\n",
    "                    #= STEP 2-2: Feasibility check. We must have enough time\n",
    "                    to go from our current location (end time T[current_state]), plus\n",
    "                    the travel time from that end node to the new node (travel_time[L[current_state], i]),\n",
    "                    plus the amount of time it takes to work the OLD job (load[L[current_state]-1]),\n",
    "                    plus the amount of time it takes to work the NEW job (load[i-1])\n",
    "\n",
    "                    this must be smaller than or equal to the end time of the window for the NEW job (windows[i-1][2])\n",
    "                    =#\n",
    "                    if L[current_state] != 1\n",
    "                        cur_time = last(T[current_state])\n",
    "                        dist_nec = travel_time[L[current_state], i]\n",
    "                        old_job_time_nec = load[L[current_state]-1] #out of our parameters this one has no depot pad\n",
    "                        new_job_time_nec = load[i-1]\n",
    "                        new_window_close = windows[i-1][2]\n",
    "\n",
    "                        #if invalid, don't bother\n",
    "                        if cur_time + dist_nec + old_job_time_nec + new_job_time_nec > new_window_close\n",
    "                            continue\n",
    "                        end\n",
    "                    end\n",
    "\n",
    "                    push!(N, copy(N[current_state]))\n",
    "                    push!(N[total_state+1], i)\n",
    "\n",
    "                    cur_time = last(T[current_state])\n",
    "                    dist_nec = travel_time[L[current_state], i]\n",
    "                    old_job_time = L[current_state] > 1 ? load[L[current_state]-1] : 0\n",
    "                    new_window_start = windows[i-1][1]\n",
    "                    new_times = copy(T[current_state])\n",
    "                    push!(new_times, max(cur_time + dist_nec + old_job_time, new_window_start))\n",
    "                    push!(T, new_times)\n",
    "\n",
    "                    push!(C, C[current_state] + travel_distance[L[current_state], i])\n",
    "\n",
    "                    push!(L, i)\n",
    "\n",
    "                    total_state += 1\n",
    "\n",
    "                end\n",
    "            end\n",
    "\n",
    "            current_state += 1 # concluded iteration for that state in mind. Now next one\n",
    "\n",
    "            #= It's possible that we've just caught up to the final total state, meaning we didn't generate\n",
    "            anything and can stop here. =#\n",
    "            if current_state == total_state\n",
    "                break\n",
    "            end     \n",
    "        end\n",
    "\n",
    "        return N, C, T\n",
    "    end\n",
    "    \n",
    "    distances_label = deepcopy(distances);\n",
    "    distances_label = hcat(distances_label, distances_label[:, 1]);\n",
    "    distances_label = vcat(distances_label, collect(push!(distances_label[:, 1], 0)'));\n",
    "    travel_times = ceil.(distances_label / speed);\n",
    "    windows_label = deepcopy(time_windows)\n",
    "    push!(windows_label, [0, 100]);\n",
    "    load_label = deepcopy(work_load)\n",
    "    push!(load_label, 0);\n",
    "    routes, cost, times = label_setting(n_jobs, travel_times, distances_label, windows_label, load_label);\n",
    "    \n",
    "    routes_keep = []\n",
    "    C_routes = []\n",
    "    T_routes = []\n",
    "\n",
    "    # only if it ends in the depot is it useful\n",
    "    for r in 1:length(routes)\n",
    "        if (last(routes[r]) == n_jobs+2)\n",
    "            push!(routes_keep, routes[r] .- 1)\n",
    "            push!(C_routes, cost[r])\n",
    "            push!(T_routes, times[r])\n",
    "        end\n",
    "    end\n",
    "    \n",
    "    n_routes = length(routes_keep);\n",
    "    \n",
    "    function route_time_combo(route, times)\n",
    "        route_info = []\n",
    "        for locindex in 1:length(route)-1\n",
    "            #=\n",
    "            Strategy:\n",
    "            If you are not at a job location, you don't need to capture\n",
    "            stationary information. Otherwise you do.\n",
    "\n",
    "            Anyways we want data moving from one to the next.\n",
    "            =#\n",
    "            cur_loc = route[locindex]\n",
    "            cur_time = times[locindex]\n",
    "            time_to_start_moving = times[locindex]\n",
    "\n",
    "            #stationary data comes first.\n",
    "            if 1 < locindex < n_jobs + 2\n",
    "                cur_job_num = cur_loc\n",
    "\n",
    "                for time in cur_time:cur_time+work_load[cur_job_num]-1\n",
    "                    route_detail = [ [cur_loc, time], [cur_loc, time+1], 0]\n",
    "                    push!(route_info, route_detail)\n",
    "                end\n",
    "\n",
    "                time_to_start_moving += work_load[cur_job_num]\n",
    "            end\n",
    "\n",
    "            new_loc = route[locindex+1]\n",
    "            #then if we move, we move.\n",
    "            route_detail = [ [cur_loc, time_to_start_moving], [new_loc, times[locindex+1]], distances_label[cur_loc+1, new_loc+1]]\n",
    "            push!(route_info, route_detail)\n",
    "        end\n",
    "\n",
    "        return route_info\n",
    "    end;\n",
    "    \n",
    "    route_time_keep = [route_time_combo(routes_keep[i], T_routes[i]) for i in 1:n_routes];\n",
    "    \n",
    "    function compute_u(routes)\n",
    "        Q = length(routes)\n",
    "        u = [[0 for q in 1:Q] for i in 1:n_jobs]\n",
    "\n",
    "        for rindex in 1:Q\n",
    "            route = routes[rindex]\n",
    "            for arc in route\n",
    "                loc1 = arc[1][1]\n",
    "                loc2 = arc[2][1]\n",
    "                if (1 <= loc1 <= n_jobs)\n",
    "                    u[loc1][rindex] = 1\n",
    "                end\n",
    "                if (1 <= loc2 <= n_jobs)\n",
    "                    u[loc2][rindex] = 1\n",
    "                end\n",
    "            end\n",
    "        end\n",
    "        return u\n",
    "    end\n",
    "    \n",
    "    u = compute_u(route_time_keep);\n",
    "    # END parameters\n",
    "    push!(times_pp_end, datetime2unix(now()))\n",
    "    \n",
    "    model_set = Model(Gurobi.Optimizer);\n",
    "    set_optimizer_attribute(model_set, \"OutputFlag\", 0);\n",
    "    \n",
    "    # BEGIN modeling\n",
    "    push!(times_mb_start, datetime2unix(now()))\n",
    "    \n",
    "    @variable(model_set, z[1:n_vehicles_jobs, 1:n_routes], Bin);\n",
    "    @objective(model_set, \n",
    "        Min, \n",
    "        sum(sum(z[k,q]*C_routes[q] for q in 1:n_routes) for k in 1:n_vehicles_jobs))\n",
    "    @constraint(model_set, \n",
    "        unique[i in 1:n_jobs],\n",
    "        sum(sum(z[k,q]*u[i][q] for q in 1:n_routes) for k in 1:n_vehicles_jobs) == 1)\n",
    "    @constraint(model_set, \n",
    "        driver[k in 1:n_vehicles_jobs], \n",
    "        sum(z[k,q] for q in 1:n_routes) == 1)\n",
    "    \n",
    "    # END modeling\n",
    "    push!(times_mb_end, datetime2unix(now()))\n",
    "    \n",
    "    # BEGIN optimize\n",
    "    push!(times_op_start, datetime2unix(now()))\n",
    "    optimize!(model_set)\n",
    "    push!(times_op_end, datetime2unix(now()))\n",
    "    \n",
    "    push!(OBJECTIVES, objective_value(model_set))\n",
    "    \n",
    "    z_val = value.(z);\n",
    "    \n",
    "    list_of_routes = []\n",
    "    for vehicle_num in 1:n_vehicles_jobs\n",
    "        for route_index in 1:n_routes\n",
    "            if z_val[vehicle_num, route_index] > 0.99 && route_index > 1\n",
    "                push!(list_of_routes, routes_keep[route_index])\n",
    "            end\n",
    "        end\n",
    "    end\n",
    "    push!(ANSWERS, list_of_routes)\n",
    "end;"
   ]
  },
  {
   "cell_type": "code",
   "execution_count": 72,
   "id": "562ee2d5",
   "metadata": {},
   "outputs": [],
   "source": [
    "pp_arr = times_pp_end .- times_pp_start\n",
    "mb_arr = times_mb_end .- times_mb_start\n",
    "op_arr = times_op_end .- times_op_start\n",
    ";"
   ]
  },
  {
   "cell_type": "code",
   "execution_count": 73,
   "id": "b869c844",
   "metadata": {
    "scrolled": true
   },
   "outputs": [
    {
     "data": {
      "text/plain": [
       "1-element Vector{Float64}:\n",
       " 35.28500008583069"
      ]
     },
     "execution_count": 73,
     "metadata": {},
     "output_type": "execute_result"
    }
   ],
   "source": [
    "pp_arr"
   ]
  },
  {
   "cell_type": "code",
   "execution_count": 74,
   "id": "6e9c4f4b",
   "metadata": {},
   "outputs": [
    {
     "data": {
      "text/plain": [
       "1-element Vector{Float64}:\n",
       " 180.60700011253357"
      ]
     },
     "execution_count": 74,
     "metadata": {},
     "output_type": "execute_result"
    }
   ],
   "source": [
    "mb_arr"
   ]
  },
  {
   "cell_type": "code",
   "execution_count": 75,
   "id": "f20980cd",
   "metadata": {},
   "outputs": [
    {
     "data": {
      "text/plain": [
       "1-element Vector{Float64}:\n",
       " 366.33200001716614"
      ]
     },
     "execution_count": 75,
     "metadata": {},
     "output_type": "execute_result"
    }
   ],
   "source": [
    "op_arr"
   ]
  },
  {
   "cell_type": "code",
   "execution_count": 76,
   "id": "ed06c90a",
   "metadata": {},
   "outputs": [
    {
     "data": {
      "text/plain": [
       "1-element Vector{Float64}:\n",
       " 582.2240002155304"
      ]
     },
     "execution_count": 76,
     "metadata": {},
     "output_type": "execute_result"
    }
   ],
   "source": [
    "total_arr = pp_arr .+ mb_arr .+ op_arr"
   ]
  },
  {
   "cell_type": "code",
   "execution_count": 77,
   "id": "c621f85f",
   "metadata": {},
   "outputs": [
    {
     "name": "stdout",
     "output_type": "stream",
     "text": [
      "[5, 6, 7, 8, 9][25, 26, 27][10, 11, 12, 13][1, 2, 3, 4][21, 22, 23, 24, 28][14, 15, 16, 17, 18, 19, 20][29, 30, 31, 32, 33, 34, 35]\n"
     ]
    }
   ],
   "source": [
    "for answer in ANSWERS\n",
    "    for arcie in answer\n",
    "        print(arcie[2:end-1])  \n",
    "    end\n",
    "    println()\n",
    "end"
   ]
  },
  {
   "cell_type": "code",
   "execution_count": 78,
   "id": "302c527d",
   "metadata": {
    "scrolled": true
   },
   "outputs": [
    {
     "data": {
      "text/plain": [
       "1-element Vector{Any}:\n",
       " 3314.537527758451"
      ]
     },
     "execution_count": 78,
     "metadata": {},
     "output_type": "execute_result"
    }
   ],
   "source": [
    "OBJECTIVES"
   ]
  }
 ],
 "metadata": {
  "kernelspec": {
   "display_name": "Julia 1.8.0",
   "language": "julia",
   "name": "julia-1.8"
  },
  "language_info": {
   "file_extension": ".jl",
   "mimetype": "application/julia",
   "name": "julia",
   "version": "1.8.0"
  }
 },
 "nbformat": 4,
 "nbformat_minor": 5
}
