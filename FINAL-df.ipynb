{
 "cells": [
  {
   "cell_type": "markdown",
   "id": "1f549ee9",
   "metadata": {},
   "source": [
    "# [0] Imports"
   ]
  },
  {
   "cell_type": "code",
   "execution_count": 54,
   "id": "6fa98331",
   "metadata": {},
   "outputs": [],
   "source": [
    "import Pkg;\n",
    "\n",
    "using LinearAlgebra, Random, Gurobi, JuMP, Distributions, Plots, LazySets, Dates"
   ]
  },
  {
   "cell_type": "markdown",
   "id": "d5796265",
   "metadata": {},
   "source": [
    "# [1] Setup"
   ]
  },
  {
   "cell_type": "markdown",
   "id": "f3ef7672",
   "metadata": {},
   "source": [
    "## [1.1] Initialize variables"
   ]
  },
  {
   "cell_type": "code",
   "execution_count": 55,
   "id": "6dfb2476",
   "metadata": {},
   "outputs": [],
   "source": [
    "n_jobs = 13\n",
    "n_vehicles_jobs = n_jobs\n",
    "n_vehicles_coverage = 10\n",
    "T = 2 * n_jobs\n",
    "min_duration = 2\n",
    "max_duration = 6\n",
    "speed = 1000/6\n",
    "coverage_distance = 50\n",
    "size = 500\n",
    "step = 50;"
   ]
  },
  {
   "cell_type": "markdown",
   "id": "f381a6f7",
   "metadata": {},
   "source": [
    "## [1.2] Create locations, time windows, work load, and distances"
   ]
  },
  {
   "cell_type": "code",
   "execution_count": 56,
   "id": "1505d8a7",
   "metadata": {},
   "outputs": [],
   "source": [
    "# We set the seed so that we always have the same result\n",
    "Random.seed!(1234)\n",
    "\n",
    "function create_cluster_sizes(jobs_total)\n",
    "    Random.seed!(1234)\n",
    "    jobs_created = 0\n",
    "    cluster = []\n",
    "    min_jobs_allowed = n_jobs >= 15 ? 3 : 2\n",
    "    target_clusters = 5\n",
    "    while jobs_created != jobs_total\n",
    "        num_to_add = rand(min(min_jobs_allowed, jobs_total - jobs_created) : \n",
    "            min(Int((n_jobs/target_clusters)÷1), jobs_total - jobs_created))\n",
    "        jobs_created += num_to_add\n",
    "        push!(cluster, num_to_add)\n",
    "    end\n",
    "    \n",
    "    return cluster\n",
    "end;"
   ]
  },
  {
   "cell_type": "code",
   "execution_count": 57,
   "id": "8912d2b8",
   "metadata": {},
   "outputs": [],
   "source": [
    "# Create job and depot locations, time windows and work load for each job.\n",
    "time_windows = []\n",
    "locations = rand(Uniform(0,size), 1, 2)\n",
    "work_load = []\n",
    "\n",
    "cluster = create_cluster_sizes(n_jobs);"
   ]
  },
  {
   "cell_type": "code",
   "execution_count": 58,
   "id": "dd5cd92a",
   "metadata": {},
   "outputs": [],
   "source": [
    "function create_time_windows_and_work_load(cluster_sizes, locations)\n",
    "    Random.seed!(1234)\n",
    "    locations = rand(Uniform(0,size), 1, 2)\n",
    "    for size_c in cluster\n",
    "        first = rand(Uniform(0,size), 1, 2)\n",
    "        locations = vcat(locations, first)\n",
    "\n",
    "        job_begins = rand(2:10)\n",
    "        job_finish = rand((job_begins+min_duration):(job_begins+max_duration))\n",
    "        push!(time_windows, [job_begins, job_finish])\n",
    "\n",
    "        time_work = rand(min_duration:max(min_duration, job_finish - job_begins))\n",
    "        push!(work_load, time_work)\n",
    "\n",
    "        for neighbour in 1:(size_c-1)\n",
    "            new_x = rand(Uniform(max(0,first[1]-20), min(first[1]+20, size)), 1, 1)\n",
    "            new_y = rand(Uniform(max(0,first[2]-20), min(first[2]+20, size)), 1, 1)\n",
    "            new = hcat(new_x, new_y)\n",
    "            locations = vcat(locations, new)\n",
    "\n",
    "            job_begins = rand(job_finish:min(T-min_duration-2, job_finish + 6))\n",
    "            job_finish = rand((job_begins+min_duration):(min(job_begins+max_duration, T-2)))\n",
    "            push!(time_windows, [job_begins, job_finish])\n",
    "\n",
    "            time_work = rand(min_duration:min(max_duration, job_finish-job_begins))\n",
    "            push!(work_load, time_work)\n",
    "        end\n",
    "    end\n",
    "    \n",
    "    return [time_windows, work_load, locations]\n",
    "end;"
   ]
  },
  {
   "cell_type": "code",
   "execution_count": 59,
   "id": "aa8f9e3b",
   "metadata": {},
   "outputs": [],
   "source": [
    "time_windows, work_load, locations = create_time_windows_and_work_load(cluster, locations)\n",
    "\n",
    "distances = [LinearAlgebra.norm(locations[i, :] .- locations[j, :]) for i=1:n_jobs+1, j = 1:n_jobs+1];"
   ]
  },
  {
   "cell_type": "markdown",
   "id": "d6eff000",
   "metadata": {},
   "source": [
    "## [1.3] Create node and arc networks"
   ]
  },
  {
   "cell_type": "markdown",
   "id": "9b0502b6",
   "metadata": {},
   "source": [
    "### [1.3.1] Create node network"
   ]
  },
  {
   "cell_type": "code",
   "execution_count": 60,
   "id": "bd123267",
   "metadata": {},
   "outputs": [],
   "source": [
    "function create_node_network(n_jobs, T)\n",
    "    nodes = []\n",
    "    for i in 1:n_jobs\n",
    "        for t in 2:(T-1)\n",
    "            push!(nodes, [i, t])\n",
    "        end\n",
    "    end\n",
    "    return nodes\n",
    "end;"
   ]
  },
  {
   "cell_type": "code",
   "execution_count": 61,
   "id": "f0c9dbb7",
   "metadata": {},
   "outputs": [],
   "source": [
    "nodes = create_node_network(n_jobs, T)\n",
    "N = length(nodes);"
   ]
  },
  {
   "cell_type": "markdown",
   "id": "9890b537",
   "metadata": {},
   "source": [
    "### [1.3.2] Create Arc System"
   ]
  },
  {
   "cell_type": "code",
   "execution_count": 62,
   "id": "85c44a06",
   "metadata": {},
   "outputs": [],
   "source": [
    "function create_arc_system(n_jobs, distances, speed, time_windows, nodes)\n",
    "    #=\n",
    "    Create a full arc system which has the format\n",
    "    [ [initial_i, initial_t], [end_i, end_t], distance]\n",
    "    \n",
    "    remember: distance is like our cost, the first two elements represent the movement\n",
    "    =#\n",
    "    \n",
    "    arcs = []\n",
    "    \n",
    "    #leaving the depot\n",
    "    for n in nodes\n",
    "        dist = distances[1, n[1] + 1]\n",
    "        max_t = 0\n",
    "        for t in 1:n[2]\n",
    "            if n[2] > (t + dist/speed)\n",
    "                max_t = t\n",
    "            end\n",
    "        end\n",
    "        push!(arcs, [[0, max_t], n, dist])\n",
    "    end\n",
    "    \n",
    "    #between two jobs\n",
    "    for n1 in nodes\n",
    "        already = []\n",
    "        for n2 in nodes\n",
    "            dist = distances[n1[1]+1, n2[1]+1]\n",
    "            \n",
    "            #=\n",
    "            only add arc from node n1 = [i1, t1] to n2 = [i2, t2] if:\n",
    "            1) it is possible to get from n1 to n2 within the given timeframe (time = dist / speed)\n",
    "            2) the nodes do not have the same job location - this is covered in elseif\n",
    "            3) n2 is not already covered in our node network - it won't be a superfluous addition\n",
    "            4) n2's time is worth going to: we have enough time left to get there to do the job\n",
    "            \n",
    "            condition 4 example: If current time is 15, time window is [13, 20], and the work load \n",
    "            (time required) is 6 hours, then don't bother going to the job - it's a waste of time\n",
    "            =#\n",
    "            if (n2[2] > n1[2] + dist/speed) & \n",
    "                (n2[1] != n1[1]) & \n",
    "                (!(n2[1] in  already)) & \n",
    "                (n2[2] <= (time_windows[n2[1]][2] - work_load[n2[1]]))\n",
    "                push!(arcs, [n1, n2, dist])\n",
    "                push!(already, n2[1]) #already visited so we don't do it again: algorithmic efficiency\n",
    "                \n",
    "            elseif (n2[2] == n1[2] + 1) & (n2[1] == n1[1])\n",
    "                push!(arcs, [n1, n2, dist])\n",
    "                \n",
    "            end\n",
    "        end\n",
    "    end\n",
    "    \n",
    "    #Back to the depot\n",
    "    for n in nodes\n",
    "        dist = distances[1, n[1] + 1]\n",
    "        min_t = T+1\n",
    "        for t in T:-1:1\n",
    "            if t > (n[2]+dist/speed)\n",
    "                min_t = t\n",
    "            end\n",
    "        end\n",
    "        push!(arcs, [n, [n_jobs+1, min_t], dist])\n",
    "    end\n",
    "    \n",
    "    #Now, add intra-depot arcs to minimize drivers necessary\n",
    "    push!(arcs, [[0,1], [n_jobs+1, 2], 0])\n",
    "    \n",
    "    return arcs\n",
    "end;"
   ]
  },
  {
   "cell_type": "code",
   "execution_count": 63,
   "id": "e0ec26ea",
   "metadata": {},
   "outputs": [],
   "source": [
    "arcs = create_arc_system(n_jobs, distances, speed, time_windows, nodes)\n",
    "A = length(arcs);"
   ]
  },
  {
   "cell_type": "markdown",
   "id": "bb6f6dbf",
   "metadata": {},
   "source": [
    "# [2] Helper Functions"
   ]
  },
  {
   "cell_type": "code",
   "execution_count": 64,
   "id": "94842cb3",
   "metadata": {},
   "outputs": [],
   "source": [
    "function find_node(i,t)\n",
    "    #=\n",
    "    Given a task location and a time, see if there exists\n",
    "    a node with that definition. If so, then return that node.\n",
    "    Otherwise, warn the user.\n",
    "    =#\n",
    "    for node in 1:length(nodes)\n",
    "        if (nodes[node][1] == i) & (nodes[node][2] == t) \n",
    "            return node\n",
    "        end\n",
    "    end\n",
    "    return \"Warning, this node does not exist\"\n",
    "end;"
   ]
  },
  {
   "cell_type": "code",
   "execution_count": 65,
   "id": "ab4e79c9",
   "metadata": {},
   "outputs": [],
   "source": [
    "function find_arc(node, t)\n",
    "    #=\n",
    "    Similar principle to above. Given a node and a time, \n",
    "    see if there exists an ARC that starts and ends with that node\n",
    "    and goes from time t to t+1.\n",
    "    \n",
    "    This is looking for specialized arcs...just forgot off the top\n",
    "    of my head\n",
    "    =#\n",
    "    for arc in 1:length(arcs)\n",
    "        if (arcs[arc][1][1] == node) & (arcs[arc][2][1] == node) & ((arcs[arc][1][2] == t)) & ((arcs[arc][2][2] == t+1))\n",
    "            return arc\n",
    "        end\n",
    "    end\n",
    "    return (node, t), \"Warning, this arc does not exist\"\n",
    "end;"
   ]
  },
  {
   "cell_type": "markdown",
   "id": "8aab908c",
   "metadata": {},
   "source": [
    "# [3] Direct Formulation Model"
   ]
  },
  {
   "cell_type": "code",
   "execution_count": 66,
   "id": "e5114623",
   "metadata": {},
   "outputs": [
    {
     "name": "stdout",
     "output_type": "stream",
     "text": [
      "Set parameter Username\n",
      "Academic license - for non-commercial use only - expires 2023-09-04\n"
     ]
    }
   ],
   "source": [
    "model = Model(Gurobi.Optimizer);\n",
    "#model = Model(with_optimizer(Gurobi.Optimizer, TimeLimit=100));"
   ]
  },
  {
   "cell_type": "markdown",
   "id": "16153289",
   "metadata": {},
   "source": [
    "## [3.1] Decision Variables"
   ]
  },
  {
   "cell_type": "markdown",
   "id": "24e4df3a",
   "metadata": {},
   "source": [
    "There are 3 sets of decision variables.\n",
    "\n",
    "Job vehicle assignments: $z_{ka}$ if a task vehicle $k \\in \\mathcal{K}$ contains task arc $a \\in \\mathcal{A}$ in its path\n",
    "\n",
    "Job start and end times: $y^S_{it}$/$y_{it}^E$ with $1$ if a job's start/end has taken place by that time (so this is an array like \\[ 0, 0, ...., 1, 1, ..., 1\\] and the differential will tell us when the job is taking place, it will look like \\[ 0, 0, ..., 1, 1, ..., 0, 0\\]"
   ]
  },
  {
   "cell_type": "code",
   "execution_count": 67,
   "id": "b6041547",
   "metadata": {},
   "outputs": [],
   "source": [
    "#Job Vehicles\n",
    "@variable(model, z[1:n_vehicles_jobs, 1:A], Bin)\n",
    "\n",
    "#Starting and ending times of each Job\n",
    "@variable(model, y_s[1:n_jobs, 1:T], Bin)\n",
    "@variable(model, y_e[1:n_jobs, 1:T], Bin);"
   ]
  },
  {
   "cell_type": "markdown",
   "id": "51278a1a",
   "metadata": {},
   "source": [
    "## [3.2] Objective Function"
   ]
  },
  {
   "cell_type": "markdown",
   "id": "2da2f7fd",
   "metadata": {},
   "source": [
    "Minimize the total distance traveled: $\\sum_{k \\in \\mathcal{K}} \\sum_{a \\in \\mathcal{A}} c_a z_{ka}$\n",
    "\n",
    "To find distances, get the third element: `arcs[?][3]` (for task vehicles)."
   ]
  },
  {
   "cell_type": "code",
   "execution_count": 68,
   "id": "0636c18a",
   "metadata": {},
   "outputs": [],
   "source": [
    "@objective(model, Min,\n",
    "    sum(sum(z[k,a]*(arcs[a][3]+1) for a in 1:A) for k in 1:n_vehicles_jobs))\n",
    ";"
   ]
  },
  {
   "cell_type": "markdown",
   "id": "d2dc56eb",
   "metadata": {},
   "source": [
    "## [3.3] Constraints"
   ]
  },
  {
   "cell_type": "markdown",
   "id": "54026b2f",
   "metadata": {},
   "source": [
    "### [3.3.1] Constraints for jobs vehicles (4)"
   ]
  },
  {
   "cell_type": "markdown",
   "id": "394fb467",
   "metadata": {},
   "source": [
    "- Consider some vehicle $k \\in \\mathcal{K}$. Then, the number of times that vehicle leaves the depot (to do work) must be 1. In other words, the vehicle leaves the depot, but doesn't leave twice (meaning if you're out there, you stay out there). It is formulated as: For all possible times $t$ when the vehicle $k$ leaves, i.e. for the sum over all nodes of the form $(0, t)$ (i.e. you are at the depot at any given time $t$, not yet having left the depot), for the sum over all arcs $a \\in \\mathcal{A}^+((0, t))$ (the arcs that make exiting the depot possible), there is exactly one time when you do leave the depot. So the constraint is $\\sum_{n \\in \\mathcal{O}} \\sum_{a \\in \\mathcal{A}^+(n)} z_{ka} = 1 \\ \\forall k \\in \\mathcal{K}$.\n",
    "\n",
    "To actualize this constraint, take the sum over all arcs, but only if their initial location $i$ is $0$. Remember that arcs are of the form $[n_1 = (i_1, t_1), n_2 = (i_2, t_2), d]$, and we have to make sure that the arc element 1 index 1 is equal to 0."
   ]
  },
  {
   "cell_type": "code",
   "execution_count": 69,
   "id": "bee85c34",
   "metadata": {},
   "outputs": [],
   "source": [
    "@constraint(model, \n",
    "    depot_init_jobs[k in 1:n_vehicles_jobs], \n",
    "    sum(z[k,a] for a in 1:A if arcs[a][1][1] == 0) == 1)\n",
    ";"
   ]
  },
  {
   "cell_type": "markdown",
   "id": "8b0b0a15",
   "metadata": {},
   "source": [
    "- Do the same, but for entering back into the depot after you've done work. The number of times you come back into the depot must be equal to exactly 1. Similarly, our constraint will be $\\sum_{n \\in \\mathcal{E}} \\sum_{a \\in \\mathcal{A}^-(n)} z_{ka} = 1 \\ \\forall k \\in \\mathcal{K}$.\n",
    "\n",
    "To actualize this constraint, take the sum over all arcs, but only if their end location $i$ is $0$. Remember that arcs are of the form $[n_1 = (i_1, t_1), n_2 = (i_2, t_2), d]$, and we have to make sure that the arc element 2 index 1 is equal to 0."
   ]
  },
  {
   "cell_type": "code",
   "execution_count": 70,
   "id": "34f975e8",
   "metadata": {},
   "outputs": [],
   "source": [
    "@constraint(model, \n",
    "    depot_end_jobs[k in 1:n_vehicles_jobs], \n",
    "    sum(z[k,a] for a in 1:A if arcs[a][2][1] == n_jobs+1) == 1)\n",
    ";"
   ]
  },
  {
   "cell_type": "markdown",
   "id": "b791d690",
   "metadata": {},
   "source": [
    "What about the case in which our vehicle doesn't even move because doing so would be suboptimal? Well, it would have a single arc that goes from $(0, 0)$ to $(n+1, T+1)$ so it's still fine.\n",
    "\n",
    "- Now we consider nodes that aren't in the depot, or the set $\\mathcal{N} - \\mathcal{O} - \\mathcal{E}$. We need flow conservation, meaning for any vehicle that enters a node, it must eventually leave. In other words, what goes in, which is $\\sum_{a \\in \\mathcal{A}^-(n)} z_{ka}$, must eventually come out, which is $\\sum_{a \\in \\mathcal{A}^+(n)} z_{ka}$. These two must be equal, so the full constraint is: $\\forall k \\in \\mathcal{K}, \\ \\forall n \\in \\mathcal{N} - \\mathcal{O} - \\mathcal{E}, \\ \\sum_{a \\in \\mathcal{A}^-(n)} z_{ka} = \\sum_{a \\in \\mathcal{A}^+(n)} z_{ka}$.\n",
    "\n",
    "<b>Now we see why `nodes` deliberately excluded nodes of the form $(0, ?)$ and $(T+1, ?)$.</b> It's because we use the set $\\mathcal{N} - \\mathcal{O} - \\mathcal{E}$ a lot, so it's hard to define `nodes` as all of the nodes, then we have to subtract all nodes in the depot.\n",
    "\n",
    "To actualize this constraint, check that, for all arcs for which the second arc array index (incoming is equal to $n$) is $n$ the summation equals over all arcs for which the first arc array index (outgoing is equal to $n$) is $n$.\n",
    "\n",
    "Note that there is no need to worry about whether an arc stays at the same place in time, because the equality is still maintained, so we don't need an exclusive check."
   ]
  },
  {
   "cell_type": "code",
   "execution_count": 71,
   "id": "c0077757",
   "metadata": {},
   "outputs": [
    {
     "name": "stdout",
     "output_type": "stream",
     "text": [
      "This took 2.867000102996826 seconds!\n"
     ]
    }
   ],
   "source": [
    "# SLOW CONSTRAINT!\n",
    "time1 = datetime2unix(now())\n",
    "@constraint(model, \n",
    "    flow_jobs[k in 1:n_vehicles_jobs, n in 1:N], \n",
    "    sum(z[k,a] for a in 1:A if arcs[a][2] == nodes[n]) == \n",
    "    sum(z[k,a] for a in 1:A if arcs[a][1] == nodes[n]))\n",
    "println(\"This took \", datetime2unix(now())-time1, \" seconds!\")"
   ]
  },
  {
   "cell_type": "markdown",
   "id": "d1e2c3b5",
   "metadata": {},
   "source": [
    "Finally, consider every node that's not in the depot. Only ONE vehicle should visit that node to do a job; don't split jobs between different task vehicles.\n",
    "\n",
    "So for all nodes, summing up over all vehicles, and all incoming arcs, there's only one vehicle which does the job.\n",
    "\n",
    "$\\sum_{k \\in \\mathcal{K}} \\sum_{a \\in \\mathcal{A}^-(n)} z_{ka} = 1$ for appropriate $n$.\n",
    "\n",
    "To actualize this constraint, use arcs for which the incoming location is the one corresponding to that of $n$, and it was not already there."
   ]
  },
  {
   "cell_type": "code",
   "execution_count": 72,
   "id": "7b6f32a3",
   "metadata": {},
   "outputs": [],
   "source": [
    "@constraint(model, \n",
    "    unique[n in 1:n_jobs], \n",
    "    sum(sum(z[k,a] for a in 1:A \n",
    "                if (arcs[a][2][1] == n) & (arcs[a][1][1] != n)) \n",
    "        for k in 1:n_vehicles_jobs) == 1)\n",
    ";"
   ]
  },
  {
   "cell_type": "markdown",
   "id": "393d1f9c",
   "metadata": {},
   "source": [
    "### [3.3.2] Time constraints "
   ]
  },
  {
   "cell_type": "markdown",
   "id": "3589a904",
   "metadata": {},
   "source": [
    "Two simple constraints: Just making sure that the start and end arrays work correctly. To preserve the desired pattern \\[ 0, 0, ..., 1\\], making sure that these are non-strictly increasing arrays."
   ]
  },
  {
   "cell_type": "code",
   "execution_count": 73,
   "id": "78dee794",
   "metadata": {},
   "outputs": [],
   "source": [
    "@constraint(model, start[i in 1:n_jobs, t in 1:(T-1)], y_s[i,t] <= y_s[i,t+1])\n",
    "@constraint(model, ends[i in 1:n_jobs, t in 1:(T-1)], y_e[i,t] <= y_e[i,t+1])\n",
    ";"
   ]
  },
  {
   "cell_type": "markdown",
   "id": "36abf2f6",
   "metadata": {},
   "source": [
    "Controlling the differential between $y^S$ and $y^E$ arrays: If a vehicle is there, doing a job, then the differential is 1. If a vehicle isn't there, the differential is 0 (you've either not done the job yet, or it's already finished).\n",
    "\n",
    "So $y_{it}^S - y_{it}^E \\leq \\sum_{k \\in \\mathcal{K}} z_{k(i, t)} \\ \\forall i \\in \\mathcal{I}, t \\in \\mathcal{T}$."
   ]
  },
  {
   "cell_type": "code",
   "execution_count": 74,
   "id": "69596a74",
   "metadata": {},
   "outputs": [
    {
     "name": "stdout",
     "output_type": "stream",
     "text": [
      "This took 1.571000099182129 seconds!\n"
     ]
    }
   ],
   "source": [
    "# SLOW CONSTRAINT!\n",
    "time1 = datetime2unix(now())\n",
    "@constraint(model, \n",
    "    work[i in 1:n_jobs, t in 2:(T-2)], \n",
    "    y_s[i,t] - y_e[i,t] <= sum(z[k,find_arc(i, t)] for k in 1:n_vehicles_jobs))\n",
    "println(\"This took \", datetime2unix(now())-time1, \" seconds!\")"
   ]
  },
  {
   "cell_type": "markdown",
   "id": "4c7c19fc",
   "metadata": {},
   "source": [
    "Two more easy constraints: Before the work window begins, $y_{it}^S = 0$ (because the job is guaranteed not to have started). After the work window ends, $y_{it}^E = 1$ (because the job must have been finished and we assume feasible)."
   ]
  },
  {
   "cell_type": "code",
   "execution_count": 75,
   "id": "6b5481b4",
   "metadata": {},
   "outputs": [],
   "source": [
    "@constraint(model, window_start[i in 1:n_jobs, t in 1:(time_windows[i][1]-1)], y_s[i,t] <= 0)\n",
    "@constraint(model, window_ends[i in 1:n_jobs, t in time_windows[i][2]:T], y_e[i,t] >= 1)\n",
    ";"
   ]
  },
  {
   "cell_type": "markdown",
   "id": "e3a886ee",
   "metadata": {},
   "source": [
    "The time it takes to do a job is defined as $\\tau$ in the formulation sheet (equation 13, page 3), represented as `work_load`. The sum of differential across the two time arrays must be at least as great as the work load, so that the job is done sufficiently. In math: $\\sum_{t \\in \\mathcal{T}} \\left( y_{it}^S -y_{it}^E\\right) \\geq \\tau_i^W \\ \\forall i \\in \\mathcal{I}$."
   ]
  },
  {
   "cell_type": "code",
   "execution_count": 76,
   "id": "669dca45",
   "metadata": {},
   "outputs": [],
   "source": [
    "@constraint(model, duration[i in 1:n_jobs], sum(y_s[i,t] - y_e[i,t] for t in 1:T) >= work_load[i])\n",
    ";"
   ]
  },
  {
   "cell_type": "markdown",
   "id": "8b93caf1",
   "metadata": {},
   "source": [
    "## [3.4] Solve Model"
   ]
  },
  {
   "cell_type": "code",
   "execution_count": 77,
   "id": "cb6957ff",
   "metadata": {
    "scrolled": false
   },
   "outputs": [
    {
     "name": "stdout",
     "output_type": "stream",
     "text": [
      "Gurobi Optimizer version 9.5.2 build v9.5.2rc0 (mac64[x86])\n",
      "Thread count: 4 physical cores, 8 logical processors, using up to 8 threads\n",
      "Optimize a model with 5346 rows, 27092 columns and 78042 nonzeros\n",
      "Model fingerprint: 0x9da3add7\n",
      "Variable types: 0 continuous, 27092 integer (27092 binary)\n",
      "Coefficient statistics:\n",
      "  Matrix range     [1e+00, 1e+00]\n",
      "  Objective range  [1e+00, 5e+02]\n",
      "  Bounds range     [0e+00, 0e+00]\n",
      "  RHS range        [1e+00, 5e+00]\n",
      "Presolve removed 3367 rows and 9229 columns\n",
      "Presolve time: 1.76s\n",
      "Presolved: 1979 rows, 17863 columns, 50471 nonzeros\n",
      "Variable types: 0 continuous, 17863 integer (17863 binary)\n",
      "\n",
      "Root relaxation: objective 2.949252e+03, 2183 iterations, 0.09 seconds (0.10 work units)\n",
      "\n",
      "    Nodes    |    Current Node    |     Objective Bounds      |     Work\n",
      " Expl Unexpl |  Obj  Depth IntInf | Incumbent    BestBd   Gap | It/Node Time\n",
      "\n",
      "     0     0 2949.25235    0   37          - 2949.25235      -     -    1s\n",
      "H    0     0                    3273.1055736 2949.25235  9.89%     -    1s\n",
      "H    0     0                    3073.1984926 2949.25235  4.03%     -    2s\n",
      "H    0     0                    3070.1984926 2949.25235  3.94%     -    2s\n",
      "     0     0     cutoff    0      3070.19849 3070.19849  0.00%     -    2s\n",
      "\n",
      "Cutting planes:\n",
      "  Gomory: 1\n",
      "  Zero half: 3\n",
      "\n",
      "Explored 1 nodes (2678 simplex iterations) in 2.10 seconds (1.40 work units)\n",
      "Thread count was 8 (of 8 available processors)\n",
      "\n",
      "Solution count 3: 3070.2 3073.2 3273.11 \n",
      "\n",
      "Optimal solution found (tolerance 1.00e-04)\n",
      "Best objective 3.070198492630e+03, best bound 3.070198492630e+03, gap 0.0000%\n",
      "\n",
      "User-callback calls 1320, time in user-callback 0.00 sec\n"
     ]
    }
   ],
   "source": [
    "# SLOW!\n",
    "optimize!(model)"
   ]
  },
  {
   "cell_type": "markdown",
   "id": "08e52389",
   "metadata": {},
   "source": [
    "# [4] Retrieval of Information\n",
    "\n",
    "I want to see the solution"
   ]
  },
  {
   "cell_type": "code",
   "execution_count": 78,
   "id": "fbc8f68d",
   "metadata": {
    "scrolled": false
   },
   "outputs": [],
   "source": [
    "z_ka_v = value.(z); # this is a 25 x A matrix."
   ]
  },
  {
   "cell_type": "markdown",
   "id": "3be61c65",
   "metadata": {},
   "source": [
    "[step 1] Set up array that nabs z=1's from each vehicle."
   ]
  },
  {
   "cell_type": "code",
   "execution_count": 79,
   "id": "85fc1145",
   "metadata": {},
   "outputs": [],
   "source": [
    "nab_array = []\n",
    "for vehicle_num in 1:n_vehicles_jobs\n",
    "    list_of_1s = []\n",
    "    for arc_index in 1:A\n",
    "        if z_ka_v[vehicle_num, arc_index] > 0.99\n",
    "            push!(list_of_1s, arcs[arc_index])\n",
    "        end\n",
    "    end\n",
    "    \n",
    "    push!(nab_array, list_of_1s)\n",
    "end"
   ]
  },
  {
   "cell_type": "markdown",
   "id": "4d1f16ca",
   "metadata": {},
   "source": [
    "[step 2] Sort all arcs within each list by 1st time."
   ]
  },
  {
   "cell_type": "code",
   "execution_count": 80,
   "id": "35b970f8",
   "metadata": {},
   "outputs": [],
   "source": [
    "for list in nab_array\n",
    "    sort!(list, lt = (x, y) -> isless(x[1][2], y[1][2]))\n",
    "end"
   ]
  },
  {
   "cell_type": "markdown",
   "id": "e43399ff",
   "metadata": {},
   "source": [
    "[step 3] Get the 1st location index of each array item."
   ]
  },
  {
   "cell_type": "code",
   "execution_count": 81,
   "id": "bc523078",
   "metadata": {},
   "outputs": [],
   "source": [
    "visited_jobs = []\n",
    "for vehicle_num in 1:n_vehicles_jobs\n",
    "    arcs_used = nab_array[vehicle_num]\n",
    "    vehicle_visited_jobs = []\n",
    "    for i in 1:length(arcs_used)\n",
    "        first_elt = arcs_used[i][1][1]\n",
    "        if ~(first_elt in vehicle_visited_jobs)\n",
    "            push!(vehicle_visited_jobs, first_elt)\n",
    "        end\n",
    "    end\n",
    "    \n",
    "    push!(vehicle_visited_jobs, n_jobs+1)\n",
    "    push!(visited_jobs, vehicle_visited_jobs)\n",
    "end"
   ]
  },
  {
   "cell_type": "code",
   "execution_count": 82,
   "id": "2899465d",
   "metadata": {},
   "outputs": [
    {
     "name": "stdout",
     "output_type": "stream",
     "text": [
      "Any[0, 7, 8, 14]\n",
      "Any[0, 9, 10, 14]\n",
      "Any[0, 5, 6, 14]\n",
      "Any[0, 13, 14]\n",
      "Any[0, 1, 2, 14]\n",
      "Any[0, 3, 4, 14]\n",
      "Any[0, 11, 12, 14]\n"
     ]
    }
   ],
   "source": [
    "for job_list in visited_jobs\n",
    "    if length(job_list) > 2\n",
    "        println(job_list)\n",
    "    end\n",
    "end"
   ]
  }
 ],
 "metadata": {
  "kernelspec": {
   "display_name": "Julia 1.8.0",
   "language": "julia",
   "name": "julia-1.8"
  },
  "language_info": {
   "file_extension": ".jl",
   "mimetype": "application/julia",
   "name": "julia",
   "version": "1.8.0"
  }
 },
 "nbformat": 4,
 "nbformat_minor": 5
}
