{
 "cells": [
  {
   "cell_type": "markdown",
   "id": "c1566133",
   "metadata": {},
   "source": [
    "# [0] Imports"
   ]
  },
  {
   "cell_type": "code",
   "execution_count": 867,
   "id": "b14ee5c6",
   "metadata": {},
   "outputs": [],
   "source": [
    "import Pkg;\n",
    "\n",
    "using LinearAlgebra, Random, Gurobi, JuMP, Distributions, Plots, LazySets\n",
    "\n",
    "using Dates"
   ]
  },
  {
   "cell_type": "markdown",
   "id": "d60fe322",
   "metadata": {},
   "source": [
    "# [1] Setup"
   ]
  },
  {
   "cell_type": "markdown",
   "id": "1e1f376d",
   "metadata": {},
   "source": [
    "## [1.1] Parameters"
   ]
  },
  {
   "cell_type": "code",
   "execution_count": 868,
   "id": "b377ac53",
   "metadata": {},
   "outputs": [],
   "source": [
    "n_jobs = 37\n",
    "n_vehicles_jobs = n_jobs\n",
    "n_vehicles_coverage = 10\n",
    "T = 2 * n_jobs\n",
    "min_duration = 2\n",
    "max_duration = 6\n",
    "speed = 1000/6\n",
    "coverage_distance = 50\n",
    "size = 500\n",
    "step = 50;"
   ]
  },
  {
   "cell_type": "markdown",
   "id": "3c0e0558",
   "metadata": {},
   "source": [
    "## [1.2] Locations, Windows, Loads"
   ]
  },
  {
   "cell_type": "code",
   "execution_count": 869,
   "id": "f8fcdb15",
   "metadata": {},
   "outputs": [],
   "source": [
    "Random.seed!(1234)\n",
    "\n",
    "function create_cluster_sizes(jobs_total)\n",
    "    Random.seed!(1234)\n",
    "    jobs_created = 0\n",
    "    cluster = []\n",
    "    min_jobs_allowed = n_jobs >= 15 ? 3 : 2\n",
    "        target_clusters = 5\n",
    "        while jobs_created != jobs_total\n",
    "            num_to_add = rand(min(min_jobs_allowed, jobs_total - jobs_created) : \n",
    "                min(Int((n_jobs/target_clusters)÷1), jobs_total - jobs_created))\n",
    "            jobs_created += num_to_add\n",
    "            push!(cluster, num_to_add)\n",
    "        end\n",
    "    \n",
    "    return cluster\n",
    "end;"
   ]
  },
  {
   "cell_type": "code",
   "execution_count": 870,
   "id": "81d91da0",
   "metadata": {},
   "outputs": [],
   "source": [
    "time_windows = []\n",
    "locations = rand(Uniform(0,size), 1, 2)\n",
    "work_load = []\n",
    "cluster = create_cluster_sizes(n_jobs);"
   ]
  },
  {
   "cell_type": "code",
   "execution_count": 871,
   "id": "5532fe4c",
   "metadata": {},
   "outputs": [],
   "source": [
    "function create_time_windows_and_work_load(cluster_sizes, locations)\n",
    "    Random.seed!(1234)\n",
    "    locations = rand(Uniform(0,size), 1, 2)\n",
    "    for size_c in cluster\n",
    "        first = rand(Uniform(0,size), 1, 2)\n",
    "        locations = vcat(locations, first)\n",
    "\n",
    "        job_begins = rand(2:10)\n",
    "        job_finish = rand((job_begins+min_duration):(job_begins+max_duration))\n",
    "        push!(time_windows, [job_begins, job_finish])\n",
    "\n",
    "        time_work = rand(min_duration:max(min_duration, job_finish - job_begins))\n",
    "        push!(work_load, time_work)\n",
    "\n",
    "        for neighbour in 1:(size_c-1)\n",
    "            new_x = rand(Uniform(max(0,first[1]-20), min(first[1]+20, size)), 1, 1)\n",
    "            new_y = rand(Uniform(max(0,first[2]-20), min(first[2]+20, size)), 1, 1)\n",
    "            new = hcat(new_x, new_y)\n",
    "            locations = vcat(locations, new)\n",
    "\n",
    "            job_begins = rand(job_finish:min(T-min_duration-2, job_finish + 6))\n",
    "            job_finish = rand((job_begins+min_duration):(min(job_begins+max_duration, T-2)))\n",
    "            push!(time_windows, [job_begins, job_finish])\n",
    "\n",
    "            time_work = rand(min_duration:min(max_duration, job_finish-job_begins))\n",
    "            push!(work_load, time_work)\n",
    "        end\n",
    "    end\n",
    "    \n",
    "    return [time_windows, work_load, locations]\n",
    "end;"
   ]
  },
  {
   "cell_type": "code",
   "execution_count": 872,
   "id": "da915fd3",
   "metadata": {},
   "outputs": [],
   "source": [
    "time_windows, work_load, locations = create_time_windows_and_work_load(cluster, locations)\n",
    "distances = [LinearAlgebra.norm(locations[i, :] .- locations[j, :]) for i=1:n_jobs+1, j = 1:n_jobs+1];"
   ]
  },
  {
   "cell_type": "code",
   "execution_count": 873,
   "id": "0b259422",
   "metadata": {},
   "outputs": [],
   "source": [
    "time_start = datetime2unix(now());"
   ]
  },
  {
   "cell_type": "markdown",
   "id": "7e9036e6",
   "metadata": {},
   "source": [
    "# [2] Helper Methods"
   ]
  },
  {
   "cell_type": "markdown",
   "id": "adc7ecfe",
   "metadata": {},
   "source": [
    "## 2.1 Get initial routes"
   ]
  },
  {
   "cell_type": "code",
   "execution_count": 874,
   "id": "c75b044b",
   "metadata": {},
   "outputs": [],
   "source": [
    "routes = []\n",
    "\n",
    "for n in 1:n_jobs\n",
    "    job_route = []\n",
    "    dist = distances[1, n+1]\n",
    "\n",
    "    min_t = Int(floor(time_windows[n][1] - dist/speed))\n",
    "    max_t = Int(ceil(time_windows[n][2] + dist/speed))\n",
    "\n",
    "    push!(job_route, [[0, min_t], [n, time_windows[n][1]], dist])\n",
    "    \n",
    "    for t in time_windows[n][1]:(time_windows[n][2]-1)\n",
    "        push!(job_route, [[n, t], [n, t+1], 0])\n",
    "    end\n",
    "    \n",
    "    push!(job_route, [[n, time_windows[n][2]], [n_jobs+1, max_t],  dist])\n",
    "    push!(routes, job_route)\n",
    "    \n",
    "end"
   ]
  },
  {
   "cell_type": "markdown",
   "id": "da1a9c0e",
   "metadata": {},
   "source": [
    "## 2.2 Compute Cost"
   ]
  },
  {
   "cell_type": "code",
   "execution_count": 875,
   "id": "47ed8ef1",
   "metadata": {},
   "outputs": [],
   "source": [
    "function compute_cost(route)\n",
    "    cost = 0\n",
    "    for entity in route\n",
    "        cost += entity[3]\n",
    "    end\n",
    "    return cost\n",
    "end;"
   ]
  },
  {
   "cell_type": "code",
   "execution_count": 876,
   "id": "04052539",
   "metadata": {},
   "outputs": [],
   "source": [
    "C = []\n",
    "for i in 1:length(routes)\n",
    "    push!(C, compute_cost(routes[i]))\n",
    "end"
   ]
  },
  {
   "cell_type": "markdown",
   "id": "7efd9722",
   "metadata": {},
   "source": [
    "## 2.3 Compute Delta"
   ]
  },
  {
   "cell_type": "code",
   "execution_count": 877,
   "id": "6b301d04",
   "metadata": {},
   "outputs": [],
   "source": [
    "function compute_delta(routes)\n",
    "    Q = length(routes)\n",
    "    delta = [[[0.0 for q in 1:Q] for t in 1:T] for i in 1:n_jobs]\n",
    "    for rindex in 1:Q\n",
    "        route = routes[rindex]\n",
    "        for arc in route\n",
    "            loc1, time1 = arc[1]\n",
    "            loc2, time2 = arc[2]\n",
    "            if (loc1 != 0) & (loc1 != n_jobs + 1)\n",
    "                delta[loc1][time1][rindex] = 1\n",
    "            end\n",
    "            \n",
    "            if (loc2 != 0) & (loc2 != n_jobs + 1)\n",
    "                delta[loc2][time2][rindex] = 1\n",
    "            end\n",
    "        end\n",
    "    end\n",
    "    return delta\n",
    "end;"
   ]
  },
  {
   "cell_type": "code",
   "execution_count": 878,
   "id": "baeb7f50",
   "metadata": {},
   "outputs": [],
   "source": [
    "delta = compute_delta(routes);"
   ]
  },
  {
   "cell_type": "markdown",
   "id": "212cc1e7",
   "metadata": {},
   "source": [
    "## 2.4 Compute U"
   ]
  },
  {
   "cell_type": "code",
   "execution_count": 879,
   "id": "7f9f80bd",
   "metadata": {},
   "outputs": [],
   "source": [
    "function compute_u(routes)\n",
    "    Q = length(routes)\n",
    "    u = [[0 for q in 1:Q] for i in 1:n_jobs]\n",
    "    \n",
    "    for rindex in 1:Q\n",
    "        route = routes[rindex]\n",
    "        for arc in route\n",
    "            loc1 = Int(arc[1][1])\n",
    "            loc2 = Int(arc[2][1])\n",
    "            if (1 <= loc1 <= n_jobs)\n",
    "                u[loc1][rindex] = 1\n",
    "            end\n",
    "            if (1 <= loc2 <= n_jobs)\n",
    "                u[loc2][rindex] = 1\n",
    "            end\n",
    "        end\n",
    "    end\n",
    "    return u\n",
    "end;"
   ]
  },
  {
   "cell_type": "code",
   "execution_count": 880,
   "id": "f8adeb2b",
   "metadata": {},
   "outputs": [],
   "source": [
    "u = compute_u(routes);"
   ]
  },
  {
   "cell_type": "markdown",
   "id": "15481d5c",
   "metadata": {},
   "source": [
    "## 2.5 Label-Setting Algorithm"
   ]
  },
  {
   "cell_type": "code",
   "execution_count": 881,
   "id": "b883e20d",
   "metadata": {
    "scrolled": true
   },
   "outputs": [],
   "source": [
    "function sp_lsa(n, travel_distance, travel_time, windows, load, rho_v, pi_v)\n",
    "    N = [[1]] \n",
    "    Times = [ [0] ] \n",
    "    R = [rho_v]  \n",
    "    NRC = [Inf for i in 1:n]\n",
    "\n",
    "    current_state = 1\n",
    "    total_state = 1\n",
    "\n",
    "    while 1==1\n",
    "        cur_path = N[current_state]\n",
    "        last_node_cur = last(cur_path)\n",
    "\n",
    "        # STEP 1: Check whether we want to move on to checking the next path\n",
    "        if (last_node_cur == n+2)\n",
    "            current_state += 1\n",
    "            if current_state > total_state\n",
    "                # print(current_state, \" \", total_state, \" nothing more to check\")\n",
    "                break\n",
    "            else\n",
    "                continue\n",
    "            end\n",
    "        end\n",
    "\n",
    "        # STEP 2: Enter the for loop.\n",
    "        for i in 2:(n+2)\n",
    "\n",
    "            # STEP 2-1: Check that the current node is not already inside our path.\n",
    "            if ~(i in cur_path)\n",
    "\n",
    "                cur_time = last(Times[current_state])\n",
    "                dist_nec = travel_time[last_node_cur, i]\n",
    "                old_job_time_nec = last_node_cur > 1 ? load[last_node_cur-1] : 0\n",
    "                new_job_time_nec = load[i-1]\n",
    "                new_window_start, new_window_close = windows[i-1]\n",
    "\n",
    "                if last_node_cur != 1\n",
    "                    if cur_time + dist_nec + old_job_time_nec + new_job_time_nec > new_window_close\n",
    "                        continue\n",
    "                    end\n",
    "                end\n",
    "\n",
    "                reach_new_node_time = max(cur_time + dist_nec + old_job_time_nec, new_window_start)\n",
    "\n",
    "                # SECOND CHECK\n",
    "                add_segdist = travel_distance[last_node_cur, i]\n",
    "                subtract_pi = i < n+2 ? -pi_v[i-1] : 0\n",
    "\n",
    "                proposed_cost = R[current_state] + add_segdist + subtract_pi\n",
    "                \n",
    "                if i < n+2\n",
    "                    if proposed_cost > NRC[i-1]\n",
    "                        continue\n",
    "                    else\n",
    "                        NRC[i-1] = proposed_cost\n",
    "                    end\n",
    "                end\n",
    "\n",
    "                # STEP 2-3: Add the path to our N.\n",
    "                push!(N, copy(cur_path))\n",
    "                push!(N[total_state+1], i)\n",
    "\n",
    "                new_times_array = copy(Times[current_state])\n",
    "                push!(new_times_array, reach_new_node_time)\n",
    "                push!(Times, new_times_array)\n",
    "\n",
    "                push!(R, proposed_cost)\n",
    "\n",
    "                total_state += 1\n",
    "\n",
    "            end\n",
    "        end\n",
    "\n",
    "        current_state += 1 # concluded iteration for that state in mind. Now next one\n",
    "\n",
    "        #= It's possible that we've just caught up to the final total state, meaning we didn't generate\n",
    "        anything and can stop here. =#\n",
    "        if current_state == total_state\n",
    "            break\n",
    "        end     \n",
    "    end\n",
    "\n",
    "    return N, R, Times\n",
    "end;"
   ]
  },
  {
   "cell_type": "markdown",
   "id": "d36fc31b",
   "metadata": {},
   "source": [
    "### 2.5.1 Label-Setting Algorithm Constant Variables"
   ]
  },
  {
   "cell_type": "code",
   "execution_count": 882,
   "id": "47dbdd49",
   "metadata": {},
   "outputs": [],
   "source": [
    "distances_label = deepcopy(distances)\n",
    "distances_label = hcat(distances_label, distances_label[:, 1])\n",
    "distances_label = vcat(distances_label, collect(push!(distances_label[:, 1], 0)'));"
   ]
  },
  {
   "cell_type": "code",
   "execution_count": 883,
   "id": "07ed2e76",
   "metadata": {},
   "outputs": [],
   "source": [
    "travel_times = ceil.(distances_label / speed);"
   ]
  },
  {
   "cell_type": "code",
   "execution_count": 884,
   "id": "991d93d8",
   "metadata": {},
   "outputs": [],
   "source": [
    "windows_label = deepcopy(time_windows)\n",
    "push!(windows_label, [0, 100]);"
   ]
  },
  {
   "cell_type": "code",
   "execution_count": 885,
   "id": "d483974d",
   "metadata": {},
   "outputs": [],
   "source": [
    "load_label = deepcopy(work_load)\n",
    "push!(load_label, 0);"
   ]
  },
  {
   "cell_type": "markdown",
   "id": "e7fe489e",
   "metadata": {},
   "source": [
    "## 2.6 Extract Best Route in SP"
   ]
  },
  {
   "cell_type": "code",
   "execution_count": 886,
   "id": "fb9157c8",
   "metadata": {},
   "outputs": [],
   "source": [
    "function extract_best_route(sub_paths, sub_rc, sub_times, n_jobs)\n",
    "\n",
    "    best_rc = Inf\n",
    "    best_index = 0\n",
    "\n",
    "    for i in 1:length(sub_paths)\n",
    "        if sub_rc[i] < best_rc && last(sub_paths[i]) == n_jobs + 2\n",
    "            best_rc = sub_rc[i]\n",
    "            best_index = i\n",
    "        end\n",
    "    end\n",
    "\n",
    "    return sub_paths[best_index], sub_rc[best_index], sub_times[best_index]\n",
    "end;"
   ]
  },
  {
   "cell_type": "markdown",
   "id": "ee00b6a9",
   "metadata": {},
   "source": [
    "## 2.7 Generate full time info on route"
   ]
  },
  {
   "cell_type": "code",
   "execution_count": 887,
   "id": "7bc59d84",
   "metadata": {},
   "outputs": [],
   "source": [
    "function generate_full_time_info(best_route, best_times, need_to_pad=true)\n",
    "    best_route_info = []\n",
    "    for locindex in 1:length(best_route)-1\n",
    "        #=\n",
    "        Strategy:\n",
    "        If you are not at a job location, you don't need to capture\n",
    "        stationary information. Otherwise you do.\n",
    "\n",
    "        Anyways we want data moving from one to the next.\n",
    "        =#\n",
    "        cur_loc = best_route[locindex]\n",
    "        cur_time = best_times[locindex]\n",
    "        time_to_start_moving = best_times[locindex]\n",
    "        \n",
    "        cur_job_num = need_to_pad ? cur_loc - 1 : cur_loc # delete padding!\n",
    "\n",
    "        #stationary data comes first.\n",
    "        if 1 < locindex < n_jobs + 2\n",
    "            for time in cur_time:cur_time+work_load[cur_job_num]-1\n",
    "                route_detail = [ [cur_job_num, time], [cur_job_num, time+1], 0]\n",
    "                push!(best_route_info, route_detail)\n",
    "            end\n",
    "\n",
    "            time_to_start_moving += work_load[cur_job_num]\n",
    "        end\n",
    "\n",
    "        new_loc = best_route[locindex+1]\n",
    "        new_loc_pad = need_to_pad ? new_loc - 1 : new_loc\n",
    "        #then if we move, we move.\n",
    "        route_detail = [ [cur_job_num, time_to_start_moving], [new_loc_pad, best_times[locindex+1]], distances_label[cur_job_num+1, new_loc_pad + 1]]\n",
    "        push!(best_route_info, route_detail)\n",
    "    end\n",
    "\n",
    "    return best_route_info\n",
    "end;"
   ]
  },
  {
   "cell_type": "markdown",
   "id": "3c8081b7",
   "metadata": {},
   "source": [
    "# [3] Column Generation Loop"
   ]
  },
  {
   "cell_type": "code",
   "execution_count": 888,
   "id": "84393024",
   "metadata": {
    "scrolled": true
   },
   "outputs": [
    {
     "name": "stdout",
     "output_type": "stream",
     "text": [
      "Set parameter Username\n",
      "Academic license - for non-commercial use only - expires 2023-09-04\n"
     ]
    }
   ],
   "source": [
    "modelcg = Model(Gurobi.Optimizer);\n",
    "set_optimizer_attribute(modelcg, \"OutputFlag\", 0);"
   ]
  },
  {
   "cell_type": "code",
   "execution_count": 889,
   "id": "e1a6bfd7",
   "metadata": {
    "scrolled": false
   },
   "outputs": [],
   "source": [
    "keep_going = true\n",
    "\n",
    "num_routes_at_a_time = 1\n",
    "z_values = []\n",
    "OBJ = 0\n",
    "\n",
    "while keep_going\n",
    "    Q = length(routes)\n",
    "    \n",
    "    unregister(modelcg, :z)\n",
    "    @variable(modelcg, 0 <= z[1:Q] <= 1) # should be Bin\n",
    "    \n",
    "    unregister(modelcg, :unique)\n",
    "    @constraint(modelcg, unique[i in 1:n_jobs], sum(u[i][q] * z[q] for q in 1:Q) == 1);\n",
    "    \n",
    "    unregister(modelcg, :driver)\n",
    "    @constraint(modelcg, driver, sum(z[q] for q in 1:Q) <= n_vehicles_jobs)\n",
    "    \n",
    "    @objective(modelcg, Min, sum(C[q] * z[q] for q in 1:Q));\n",
    "    \n",
    "    optimize!(modelcg)\n",
    "    OBJ = objective_value(modelcg)\n",
    "    \n",
    "    push!(z_values, round.(value.(z), digits = 3))\n",
    "    \n",
    "    pi_values = dual.(unique)\n",
    "    rho_value = dual.(driver)\n",
    "    \n",
    "    sub_paths, sub_rc, sub_times = sp_lsa(n_jobs, distances_label, travel_times, windows_label, load_label, rho_value, pi_values)\n",
    "    \n",
    "    best_route, best_rc, best_times = extract_best_route(sub_paths, sub_rc, sub_times, n_jobs)\n",
    "    \n",
    "    if best_rc > -1e-6\n",
    "        keep_going = false\n",
    "        break\n",
    "    end\n",
    "    \n",
    "    push!(routes, generate_full_time_info(best_route, best_times))\n",
    "    \n",
    "    u = compute_u(routes)\n",
    "    delta = compute_delta(routes);\n",
    "    \n",
    "\n",
    "    C = []\n",
    "    for i in 1:length(routes)\n",
    "        push!(C, compute_cost(routes[i]))\n",
    "    end;\n",
    "\n",
    "end"
   ]
  },
  {
   "cell_type": "markdown",
   "id": "92f5249c",
   "metadata": {},
   "source": [
    "# [4] Extract CG Data"
   ]
  },
  {
   "cell_type": "markdown",
   "id": "edeafb7c",
   "metadata": {},
   "source": [
    "## [4.1] Time used and objective"
   ]
  },
  {
   "cell_type": "code",
   "execution_count": 890,
   "id": "84a45549",
   "metadata": {
    "scrolled": true
   },
   "outputs": [
    {
     "name": "stdout",
     "output_type": "stream",
     "text": [
      "OPT USED: 2.700000047683716\n"
     ]
    }
   ],
   "source": [
    "println(\"OPT USED: \", datetime2unix(now()) - time_start)"
   ]
  },
  {
   "cell_type": "code",
   "execution_count": 891,
   "id": "fc5aef28",
   "metadata": {},
   "outputs": [
    {
     "name": "stdout",
     "output_type": "stream",
     "text": [
      "3761.0669898154656\n"
     ]
    }
   ],
   "source": [
    "println(OBJ)"
   ]
  },
  {
   "cell_type": "markdown",
   "id": "af49e435",
   "metadata": {},
   "source": [
    "## [4.2] Get meaningful routes, nodes, and times"
   ]
  },
  {
   "cell_type": "code",
   "execution_count": 892,
   "id": "9ea50f42",
   "metadata": {},
   "outputs": [],
   "source": [
    "acc_routes = []\n",
    "\n",
    "nodes_only = []\n",
    "times_only = []\n",
    "\n",
    "assoc_z_values = []\n",
    "for i in n_jobs+1:length(routes)\n",
    "    if last(z_values)[i] > 1e-4\n",
    "        push!(acc_routes, routes[i])\n",
    "        nodes_visited = []\n",
    "        times_visited = [0,]\n",
    "        for entity in routes[i]\n",
    "            place = entity[1][1]\n",
    "            if ~(place in nodes_visited)\n",
    "                push!(nodes_visited, place)\n",
    "            end\n",
    "            time = entity[2][2]\n",
    "            if entity[3] > 0.0\n",
    "                push!(times_visited, time)         \n",
    "            end\n",
    "        end\n",
    "        push!(nodes_visited, n_jobs+1)\n",
    "        push!(nodes_only, nodes_visited)\n",
    "        push!(times_only, times_visited)\n",
    "        push!(assoc_z_values, last(z_values)[i])\n",
    "    end\n",
    "end"
   ]
  },
  {
   "cell_type": "markdown",
   "id": "0754062d",
   "metadata": {},
   "source": [
    "## [4.3] Display z-values"
   ]
  },
  {
   "cell_type": "code",
   "execution_count": 893,
   "id": "75dbec63",
   "metadata": {
    "scrolled": true
   },
   "outputs": [],
   "source": [
    "#=\n",
    "for index in 1:length(assoc_z_values)\n",
    "    println(nodes_only[index])\n",
    "    println(times_only[index])\n",
    "    println(assoc_z_values[index])\n",
    "    println()\n",
    "end\n",
    "=#"
   ]
  },
  {
   "cell_type": "markdown",
   "id": "f597f890",
   "metadata": {},
   "source": [
    "Now, routes with z-value > 0 are stored in `acc_routes`; nodes in `nodes_only` and times in `times_only`."
   ]
  },
  {
   "cell_type": "markdown",
   "id": "6dbec838",
   "metadata": {},
   "source": [
    "## [4.4] Test for loner nodes"
   ]
  },
  {
   "cell_type": "code",
   "execution_count": 894,
   "id": "114e4189",
   "metadata": {},
   "outputs": [],
   "source": [
    "loner_nodes = []\n",
    "for job_num in 1:n_jobs\n",
    "    job_included = false\n",
    "    for route in nodes_only\n",
    "        if job_num in route\n",
    "            job_included = true\n",
    "        end\n",
    "    end\n",
    "    \n",
    "    if ~job_included\n",
    "        println(\"Job \", job_num, \" was not in a fancy route.\")\n",
    "        push!(loner_nodes, job_num)\n",
    "    end\n",
    "end"
   ]
  },
  {
   "cell_type": "markdown",
   "id": "ea1e9f78",
   "metadata": {},
   "source": [
    "If we have loner nodes, we have to go back and add it.\n",
    "\n",
    "I know it's slightly less efficient than if [4.3] just added all routes, or even non-trivial routes (by checking that the length of the route > 1), but loner nodes are very bad and rarely occur.\n",
    "\n",
    "Also, I think distinguishing loner nodes in code will bring more attention to it, as it deserves."
   ]
  },
  {
   "cell_type": "code",
   "execution_count": 895,
   "id": "74c09107",
   "metadata": {},
   "outputs": [],
   "source": [
    "for loner_node in loner_nodes\n",
    "    push!(acc_routes, routes[loner_node])\n",
    "end"
   ]
  },
  {
   "cell_type": "markdown",
   "id": "9453cd90",
   "metadata": {},
   "source": [
    "## [4.5] Get imperfect routes"
   ]
  },
  {
   "cell_type": "code",
   "execution_count": 896,
   "id": "0bd69719",
   "metadata": {},
   "outputs": [],
   "source": [
    "imperfect_routes = []\n",
    "imperfect_nodes = []\n",
    "imperfect_times = []\n",
    "\n",
    "for index in 1:length(assoc_z_values)\n",
    "    if assoc_z_values[index] < 1\n",
    "        push!(imperfect_routes, acc_routes[index])\n",
    "        push!(imperfect_nodes, nodes_only[index])\n",
    "        push!(imperfect_times, times_only[index])\n",
    "    end\n",
    "end"
   ]
  },
  {
   "cell_type": "markdown",
   "id": "a5b9f876",
   "metadata": {},
   "source": [
    "# [5] Setup for Set Partitioning for Integer Programming\n",
    "\n",
    "Only need to do this if there are non-integer z-values"
   ]
  },
  {
   "cell_type": "markdown",
   "id": "5f365282",
   "metadata": {},
   "source": [
    "## [5.1] Process Routes and Generate Hybrids"
   ]
  },
  {
   "cell_type": "markdown",
   "id": "867a737d",
   "metadata": {},
   "source": [
    "### [5.1.1] Algorithm to Generate Suffixes from Common Stem"
   ]
  },
  {
   "cell_type": "code",
   "execution_count": 897,
   "id": "bf935cd0",
   "metadata": {
    "scrolled": true
   },
   "outputs": [],
   "source": [
    "function generate_route_suffixes(n, stem_nodes, stem_times, candidates, distances, travel_times, windows, loads)\n",
    "    #=\n",
    "    Given a route stem and a set of candidates for job appendages,\n",
    "    provide ALL valid full routes that have valid suffixes.\n",
    "    \n",
    "    For instance, suppose we had a stem \n",
    "    00 16 17 18 19\n",
    "    with times\n",
    "    00 02 08 12 17\n",
    "    \n",
    "    and our candidates were 13, 14, 15\n",
    "    \n",
    "    then we would see which of these could be tacked on to the route before\n",
    "    going back to the depot.\n",
    "    \n",
    "    This reads the same as our original LSA for generating all routes,\n",
    "    it's just that we limit our set of possibilities.\n",
    "    =#\n",
    "    \n",
    "    # first, include the depot\n",
    "    if ~(n+1 in candidates)\n",
    "        push!(candidates, n+1)\n",
    "    end\n",
    "    \n",
    "    N = [ stem_nodes ]\n",
    "    T = [ stem_times ]\n",
    "    # cost is not a concern, we evaluate separately\n",
    "    \n",
    "    current_state = 1\n",
    "    total_state = 1\n",
    "    \n",
    "    while true\n",
    "        cur_path = N[current_state]\n",
    "        last_cur_node = last(cur_path)\n",
    "        \n",
    "        # check if we can move on\n",
    "        if (last_cur_node == n+1)\n",
    "            current_state += 1\n",
    "            if current_state > total_state\n",
    "                break\n",
    "            else\n",
    "                continue\n",
    "            end\n",
    "        end\n",
    "        \n",
    "        for candidate in candidates\n",
    "            # so candidate is a job number\n",
    "            \n",
    "            if ~(candidate in cur_path)\n",
    "                # do feasibility check, we know our last state wasn't 0\n",
    "                cur_time = last(T[current_state])\n",
    "                dist_nec = travel_times[last_cur_node+1, candidate+1]\n",
    "                old_job_time_nec = last_cur_node != 0 ? loads[last_cur_node] : 0\n",
    "                new_job_time_nec = loads[candidate]\n",
    "                new_window_start, new_window_close = windows[candidate]\n",
    "\n",
    "                #if invalid, don't bother\n",
    "                if cur_time + dist_nec + old_job_time_nec + new_job_time_nec > new_window_close\n",
    "                    continue\n",
    "                end\n",
    "                \n",
    "                push!(N, copy(cur_path))\n",
    "                push!(N[total_state+1], candidate)\n",
    "                \n",
    "                new_times = copy(T[current_state])\n",
    "                push!(new_times, max(cur_time + dist_nec + old_job_time_nec, new_window_start))\n",
    "                push!(T, new_times)\n",
    "                \n",
    "                total_state += 1\n",
    "            end\n",
    "        end\n",
    "        \n",
    "        current_state += 1\n",
    "        \n",
    "        if current_state == total_state\n",
    "            break\n",
    "        end\n",
    "    end\n",
    "    \n",
    "    return N, T\n",
    "end;"
   ]
  },
  {
   "cell_type": "markdown",
   "id": "88782c2a",
   "metadata": {},
   "source": [
    "### [5.1.2] Determine stems and blenders"
   ]
  },
  {
   "cell_type": "code",
   "execution_count": 898,
   "id": "3b796952",
   "metadata": {},
   "outputs": [],
   "source": [
    "function find_index(thing, array)\n",
    "    # Julia's python index() equivalent, indexin, is garbage!\n",
    "    for i in 1:length(array)\n",
    "        if thing == array[i]\n",
    "            return i\n",
    "        end\n",
    "    end\n",
    "    return -1\n",
    "end;"
   ]
  },
  {
   "cell_type": "code",
   "execution_count": 899,
   "id": "f460585e",
   "metadata": {},
   "outputs": [],
   "source": [
    "function set(array)\n",
    "    #= Get the unique elements. Equivalent to unique() but \n",
    "    Julia doesn't want to let it work because allegedly\n",
    "    some of my arrays are vectors of constraints, \n",
    "    even though they are clearly just ints >:-(\n",
    "    =#\n",
    "    answer = []\n",
    "    for thing in array\n",
    "        if ~(thing in answer)\n",
    "            push!(answer, thing)\n",
    "        end\n",
    "    end\n",
    "    return answer\n",
    "end;"
   ]
  },
  {
   "cell_type": "code",
   "execution_count": 900,
   "id": "03570b22",
   "metadata": {},
   "outputs": [],
   "source": [
    "function minimum(array)\n",
    "    # Julia can't min on vectors or matrices...\n",
    "    smallest = array[1]\n",
    "    for item in array\n",
    "        if item < smallest\n",
    "            smallest = item\n",
    "        end\n",
    "    end\n",
    "    return smallest\n",
    "end;"
   ]
  },
  {
   "cell_type": "code",
   "execution_count": 901,
   "id": "218d8770",
   "metadata": {},
   "outputs": [],
   "source": [
    "function stems_and_blenders(list_nodes, list_times = [])\n",
    "    #=\n",
    "    Given a set of route nodes list and their corresponding\n",
    "    times for which the z-value is less than 1,\n",
    "    determine the stems and blenders among them.\n",
    "    \n",
    "    The full algorithm is described in the document\n",
    "    \"Stemming Techniques for Generating Hybrid Routes.pdf\".\n",
    "    \n",
    "    For example, if our non-z=1-route-nodes were\n",
    "    1 5 9 3 8\n",
    "    1 5 6 2 3\n",
    "    1 5 6 3\n",
    "    2 4 9 6\n",
    "    2 4 9 8\n",
    "    \n",
    "    then return [\n",
    "    [ [1 5], [1_time, 5_time], [2, 3, 6, 8, 9]],\n",
    "    [ [2 4 9], [2_time 4_time 9_time], [6 8]]\n",
    "    ]\n",
    "    \n",
    "    To debug or have fun I give the option to not have times.\n",
    "    =#\n",
    "    \n",
    "    # STEP 1: obtain all stems.\n",
    "    all_stems = set([list_nodes[i][1] for i in 1:length(list_nodes)])\n",
    "    \n",
    "    # STEP 2: determine which routes belong with that stem.\n",
    "    route_belong = Dict(i => [] for i in all_stems)\n",
    "    for nroute in list_nodes\n",
    "        push!(route_belong[nroute[1]], nroute)\n",
    "    end\n",
    "    \n",
    "    # STEP 3: elongate the stem as much as possible.\n",
    "    \n",
    "    answer = []\n",
    "    \n",
    "    for stem_key in keys(route_belong)\n",
    "        stem_elts = []\n",
    "        stem_times = []\n",
    "        blender = []\n",
    "        \n",
    "        all_appl_routes = route_belong[stem_key]\n",
    "        \n",
    "        highest_stem_index = 1\n",
    "        \n",
    "        max_stem_index = minimum([length(all_appl_routes[i]) for i in 1:length(all_appl_routes)])\n",
    "        \n",
    "        while highest_stem_index < max_stem_index\n",
    "            candidates = [all_appl_routes[i][highest_stem_index + 1] for i in 1:length(all_appl_routes)]\n",
    "            cand_indices = set(candidates)\n",
    "            if length(cand_indices) > 1\n",
    "                break\n",
    "            else\n",
    "                highest_stem_index += 1\n",
    "            end\n",
    "        end\n",
    "                \n",
    "        # highest_stem_index now has the highest valid stem index\n",
    "        stem_elts = all_appl_routes[1][1:highest_stem_index]\n",
    "        stem_times = length(list_times) > 0 ? list_times[find_index(all_appl_routes[1], list_nodes)][1:highest_stem_index] : []\n",
    "        \n",
    "        # STEP 4: determine the blender\n",
    "        blender = []\n",
    "        for route in all_appl_routes\n",
    "            for elt in route[highest_stem_index+1:end]\n",
    "                push!(blender, elt)\n",
    "            end\n",
    "        end\n",
    "        blender = set(blender)\n",
    "\n",
    "        # STEP 5: put it all together\n",
    "        push!(answer, [stem_elts, stem_times, blender])\n",
    "    end\n",
    "    \n",
    "    return answer\n",
    "end;"
   ]
  },
  {
   "cell_type": "markdown",
   "id": "b7676960",
   "metadata": {},
   "source": [
    "### [5.1.3] Determine stems and blenders"
   ]
  },
  {
   "cell_type": "code",
   "execution_count": 902,
   "id": "f0ba17a4",
   "metadata": {},
   "outputs": [],
   "source": [
    "# don't want to include depot\n",
    "want_nodes = [imperfect_nodes[i][2:end-1] for i in 1:length(imperfect_nodes)];\n",
    "want_times = [imperfect_times[i][2:end-1] for i in 1:length(imperfect_times)];"
   ]
  },
  {
   "cell_type": "code",
   "execution_count": 903,
   "id": "c4abdfa5",
   "metadata": {
    "scrolled": false
   },
   "outputs": [
    {
     "data": {
      "text/plain": [
       "2-element Vector{Any}:\n",
       " Vector{Any}[[36, 37, 29, 30, 31], [2, 8, 12, 18, 28], [33, 34, 35]]\n",
       " Vector{Any}[[1, 2, 3, 4, 32], [5, 13, 20, 30, 40], [33, 34, 35]]"
      ]
     },
     "execution_count": 903,
     "metadata": {},
     "output_type": "execute_result"
    }
   ],
   "source": [
    "stems_blenders = stems_and_blenders(want_nodes, want_times)"
   ]
  },
  {
   "cell_type": "markdown",
   "id": "5afd7dce",
   "metadata": {},
   "source": [
    "Critical note: Does not include the 0's at the front!"
   ]
  },
  {
   "cell_type": "markdown",
   "id": "5d611342",
   "metadata": {},
   "source": [
    "### [5.1.4] Helper functions"
   ]
  },
  {
   "cell_type": "code",
   "execution_count": 904,
   "id": "6ae82442",
   "metadata": {},
   "outputs": [],
   "source": [
    "function get_routes_from_nodes_and_times(nodes, times)\n",
    "    new_valid_routes = []\n",
    "\n",
    "    for i in 1:length(nodes)\n",
    "        push!(new_valid_routes, generate_full_time_info(nodes[i], times[i], false))\n",
    "    end\n",
    "    \n",
    "    return new_valid_routes\n",
    "end;"
   ]
  },
  {
   "cell_type": "code",
   "execution_count": 905,
   "id": "340907c4",
   "metadata": {},
   "outputs": [],
   "source": [
    "function get_depot_ending(new_nodes, new_times)\n",
    "    #= After the new LSA, not every path is usable.\n",
    "    Only get those that lead us to the finish line.\n",
    "    =#\n",
    "    new_valid_nodes = []\n",
    "    new_valid_times = []\n",
    "    seen = []\n",
    "\n",
    "    for i in 1:length(new_nodes)\n",
    "        if last(new_nodes[i]) == n_jobs + 1 && ~(new_nodes[i] in seen)\n",
    "            push!(new_valid_nodes, new_nodes[i])\n",
    "            push!(new_valid_times, new_times[i])\n",
    "            push!(seen, new_nodes[i])\n",
    "        end\n",
    "    end\n",
    "    return new_valid_nodes, new_valid_times\n",
    "end;"
   ]
  },
  {
   "cell_type": "markdown",
   "id": "2f46da24",
   "metadata": {},
   "source": [
    "### [5.1.5] Add to routes to consider"
   ]
  },
  {
   "cell_type": "code",
   "execution_count": 906,
   "id": "f1ab72e8",
   "metadata": {},
   "outputs": [],
   "source": [
    "for i in 1:length(stems_blenders)\n",
    "    routing_nodes, routing_times, blenders = stems_blenders[i]\n",
    "    insert!(routing_nodes, 1, 0)\n",
    "    insert!(routing_times, 1, 0)\n",
    "    new_nodes, new_times = generate_route_suffixes(n_jobs, routing_nodes, routing_times, blenders, distances_label, travel_times, windows_label, load_label)\n",
    "    good_nodes, good_times = get_depot_ending(new_nodes, new_times)\n",
    "    valid_new_routes = get_routes_from_nodes_and_times(good_nodes, good_times)\n",
    "    \n",
    "    for route in valid_new_routes\n",
    "        push!(acc_routes, route)\n",
    "    end\n",
    "end"
   ]
  },
  {
   "cell_type": "markdown",
   "id": "14e0cb43",
   "metadata": {},
   "source": [
    "Add trivial stay-at-depot route"
   ]
  },
  {
   "cell_type": "code",
   "execution_count": 907,
   "id": "4843a920",
   "metadata": {},
   "outputs": [],
   "source": [
    "depot_stay = [ [ [0, 0], [n_jobs+1, 0], 0],  ]\n",
    "push!(acc_routes, depot_stay);"
   ]
  },
  {
   "cell_type": "code",
   "execution_count": 908,
   "id": "99d7b323",
   "metadata": {
    "scrolled": true
   },
   "outputs": [
    {
     "data": {
      "text/plain": [
       "26"
      ]
     },
     "execution_count": 908,
     "metadata": {},
     "output_type": "execute_result"
    }
   ],
   "source": [
    "acc_n_routes = length(acc_routes)"
   ]
  },
  {
   "cell_type": "code",
   "execution_count": 909,
   "id": "7dc2a683",
   "metadata": {},
   "outputs": [],
   "source": [
    "acc_C = []\n",
    "for i in 1:acc_n_routes\n",
    "    push!(acc_C, compute_cost(acc_routes[i]))\n",
    "end"
   ]
  },
  {
   "cell_type": "code",
   "execution_count": 910,
   "id": "e0aece7a",
   "metadata": {},
   "outputs": [],
   "source": [
    "acc_u = compute_u(acc_routes);"
   ]
  },
  {
   "cell_type": "markdown",
   "id": "a3d02cd1",
   "metadata": {},
   "source": [
    "## [5.2] Create Set Partitioning for IP"
   ]
  },
  {
   "cell_type": "code",
   "execution_count": 911,
   "id": "f9862eaa",
   "metadata": {},
   "outputs": [
    {
     "name": "stdout",
     "output_type": "stream",
     "text": [
      "Set parameter Username\n",
      "Academic license - for non-commercial use only - expires 2023-09-04\n"
     ]
    }
   ],
   "source": [
    "model_set = Model(Gurobi.Optimizer);"
   ]
  },
  {
   "cell_type": "code",
   "execution_count": 912,
   "id": "7b5de336",
   "metadata": {},
   "outputs": [],
   "source": [
    "@variable(model_set, z[1:n_vehicles_jobs, 1:acc_n_routes], Bin);"
   ]
  },
  {
   "cell_type": "code",
   "execution_count": 913,
   "id": "2dfab8b8",
   "metadata": {},
   "outputs": [],
   "source": [
    "@objective(model_set, \n",
    "    Min, \n",
    "    sum(sum(z[k,q]*acc_C[q] for q in 1:acc_n_routes) for k in 1:n_vehicles_jobs))\n",
    ";"
   ]
  },
  {
   "cell_type": "code",
   "execution_count": 914,
   "id": "8e7a6f82",
   "metadata": {},
   "outputs": [],
   "source": [
    "@constraint(model_set, \n",
    "    unique[i in 1:n_jobs],\n",
    "    sum(sum(z[k,q]*acc_u[i][q] for q in 1:acc_n_routes) for k in 1:n_vehicles_jobs) == 1);\n",
    "\n",
    "@constraint(model_set, \n",
    "    driver[k in 1:n_vehicles_jobs], \n",
    "    sum(z[k,q] for q in 1:acc_n_routes) == 1);"
   ]
  },
  {
   "cell_type": "code",
   "execution_count": 915,
   "id": "ad6996e6",
   "metadata": {
    "scrolled": true
   },
   "outputs": [
    {
     "name": "stdout",
     "output_type": "stream",
     "text": [
      "Gurobi Optimizer version 9.5.2 build v9.5.2rc0 (mac64[x86])\n",
      "Thread count: 4 physical cores, 8 logical processors, using up to 8 threads\n",
      "Optimize a model with 74 rows, 962 columns and 6660 nonzeros\n",
      "Model fingerprint: 0x089d0847\n",
      "Variable types: 0 continuous, 962 integer (962 binary)\n",
      "Coefficient statistics:\n",
      "  Matrix range     [1e+00, 1e+00]\n",
      "  Objective range  [2e+02, 8e+02]\n",
      "  Bounds range     [0e+00, 0e+00]\n",
      "  RHS range        [1e+00, 1e+00]\n",
      "Found heuristic solution: objective 3765.1967149\n",
      "Presolve removed 26 rows and 184 columns\n",
      "Presolve time: 0.01s\n",
      "Presolved: 48 rows, 778 columns, 2298 nonzeros\n",
      "Variable types: 0 continuous, 778 integer (778 binary)\n",
      "\n",
      "Root relaxation: objective 3.751495e+03, 29 iterations, 0.00 seconds (0.00 work units)\n",
      "\n",
      "    Nodes    |    Current Node    |     Objective Bounds      |     Work\n",
      " Expl Unexpl |  Obj  Depth IntInf | Incumbent    BestBd   Gap | It/Node Time\n",
      "\n",
      "*    0     0               0    3751.4949192 3751.49492  0.00%     -    0s\n",
      "\n",
      "Explored 1 nodes (29 simplex iterations) in 0.01 seconds (0.01 work units)\n",
      "Thread count was 8 (of 8 available processors)\n",
      "\n",
      "Solution count 2: 3751.49 3765.2 \n",
      "\n",
      "Optimal solution found (tolerance 1.00e-04)\n",
      "Best objective 3.751494919249e+03, best bound 3.751494919249e+03, gap 0.0000%\n",
      "\n",
      "User-callback calls 204, time in user-callback 0.00 sec\n"
     ]
    }
   ],
   "source": [
    "optimize!(model_set)"
   ]
  },
  {
   "cell_type": "markdown",
   "id": "7c5d563a",
   "metadata": {},
   "source": [
    "## [5.3] Extract valid routes"
   ]
  },
  {
   "cell_type": "code",
   "execution_count": 916,
   "id": "ae9c074b",
   "metadata": {},
   "outputs": [],
   "source": [
    "function extract_route_nodes(route)\n",
    "    seen = []\n",
    "    answer = []\n",
    "    for route_segment in route\n",
    "        first_node = route_segment[1][1]\n",
    "        second_node = route_segment[2][1]\n",
    "        if ~(first_node in seen)\n",
    "            push!(seen, first_node)\n",
    "            push!(answer, first_node)\n",
    "        end\n",
    "        if ~(second_node in seen)\n",
    "            push!(seen, second_node)\n",
    "            push!(answer, second_node)\n",
    "        end\n",
    "    end\n",
    "    return answer\n",
    "end;"
   ]
  },
  {
   "cell_type": "code",
   "execution_count": 917,
   "id": "c685cc71",
   "metadata": {},
   "outputs": [],
   "source": [
    "acc_z = value.(z);"
   ]
  },
  {
   "cell_type": "code",
   "execution_count": 918,
   "id": "23d01596",
   "metadata": {
    "scrolled": true
   },
   "outputs": [
    {
     "name": "stdout",
     "output_type": "stream",
     "text": [
      "Route Any[0, 14, 15, 16, 17, 18, 19, 20, 38] was used 1.0 times!\n",
      "Route Any[0, 5, 6, 7, 8, 9, 38] was used 1.0 times!\n",
      "Route Any[0, 10, 11, 12, 13, 38] was used 1.0 times!\n",
      "Route Any[0, 21, 22, 23, 24, 28, 38] was used 1.0 times!\n",
      "Route Any[0, 1, 2, 3, 4, 32, 33, 34, 35, 38] was used 1.0 times!\n",
      "Route Any[0, 25, 26, 27, 38] was used 1.0 times!\n",
      "Route Any[0, 36, 37, 29, 30, 31, 38.0] was used 1.0 times!\n"
     ]
    }
   ],
   "source": [
    "for non_trivial_route_index in 1:acc_n_routes-1\n",
    "    # don't want the last one which lots of vehicles will have\n",
    "    used_times = sum(acc_z[:, non_trivial_route_index])\n",
    "    if used_times >= 1.0\n",
    "        nodes_traversed = extract_route_nodes(acc_routes[non_trivial_route_index])\n",
    "        println(\"Route \", nodes_traversed, \" was used \", used_times, \" times!\")\n",
    "    end\n",
    "end"
   ]
  },
  {
   "cell_type": "code",
   "execution_count": 919,
   "id": "3d9899b4",
   "metadata": {},
   "outputs": [
    {
     "name": "stdout",
     "output_type": "stream",
     "text": [
      "OBJECTIVE: 3751.494919249296\n"
     ]
    }
   ],
   "source": [
    "println(\"OBJECTIVE: \", objective_value(model_set))"
   ]
  }
 ],
 "metadata": {
  "kernelspec": {
   "display_name": "Julia 1.9.1",
   "language": "julia",
   "name": "julia-1.9"
  },
  "language_info": {
   "file_extension": ".jl",
   "mimetype": "application/julia",
   "name": "julia",
   "version": "1.9.1"
  }
 },
 "nbformat": 4,
 "nbformat_minor": 5
}
