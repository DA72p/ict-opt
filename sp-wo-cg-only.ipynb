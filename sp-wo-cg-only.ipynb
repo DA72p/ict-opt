{
 "cells": [
  {
   "cell_type": "markdown",
   "id": "1f549ee9",
   "metadata": {},
   "source": [
    "# [0] Imports"
   ]
  },
  {
   "cell_type": "code",
   "execution_count": 192,
   "id": "6fa98331",
   "metadata": {},
   "outputs": [],
   "source": [
    "import Pkg;\n",
    "\n",
    "using LinearAlgebra, Random, Gurobi, JuMP, Distributions, Plots, LazySets, Dates"
   ]
  },
  {
   "cell_type": "markdown",
   "id": "d5796265",
   "metadata": {},
   "source": [
    "# [1] Setup"
   ]
  },
  {
   "cell_type": "markdown",
   "id": "f3ef7672",
   "metadata": {},
   "source": [
    "## [1.1] Initialize variables\n",
    "Many parameters need to be set up and initialized so they can be called upon later in the code according to the Overleaf document."
   ]
  },
  {
   "cell_type": "code",
   "execution_count": 193,
   "id": "6dfb2476",
   "metadata": {},
   "outputs": [],
   "source": [
    "n_jobs = 25\n",
    "n_vehicles_jobs = n_jobs\n",
    "n_vehicles_coverage = 10\n",
    "T = 2 * n_jobs\n",
    "min_duration = 2\n",
    "max_duration = 6\n",
    "speed = 1000/6\n",
    "coverage_distance = 50\n",
    "size = 500\n",
    "step = 50;"
   ]
  },
  {
   "cell_type": "markdown",
   "id": "f381a6f7",
   "metadata": {},
   "source": [
    "## [1.2] Create locations, time-windows, work load, and distances"
   ]
  },
  {
   "cell_type": "code",
   "execution_count": 194,
   "id": "1505d8a7",
   "metadata": {},
   "outputs": [],
   "source": [
    "# We set the seed so that we always have the same result\n",
    "Random.seed!(1234)\n",
    "\n",
    "function create_cluster_sizes(jobs_total)\n",
    "    Random.seed!(1234)\n",
    "    jobs_created = 0\n",
    "    cluster = []\n",
    "    while jobs_created != jobs_total\n",
    "        num_to_add = rand(min(3, jobs_total - jobs_created) : \n",
    "            min(Int((n_jobs/5)÷1), jobs_total - jobs_created))\n",
    "        jobs_created += num_to_add\n",
    "        push!(cluster, num_to_add)\n",
    "    end\n",
    "    \n",
    "    return cluster\n",
    "end;"
   ]
  },
  {
   "cell_type": "code",
   "execution_count": 195,
   "id": "a64395ca",
   "metadata": {},
   "outputs": [],
   "source": [
    "# Create job and depot locations, time windows and work load for each job.\n",
    "time_windows = []\n",
    "locations = rand(Uniform(0,size), 1, 2)\n",
    "work_load = []\n",
    "\n",
    "cluster = create_cluster_sizes(n_jobs);"
   ]
  },
  {
   "cell_type": "code",
   "execution_count": 196,
   "id": "8912d2b8",
   "metadata": {},
   "outputs": [],
   "source": [
    "function create_time_windows_and_work_load(cluster_sizes, locations)\n",
    "    Random.seed!(1234)\n",
    "    locations = rand(Uniform(0,size), 1, 2)\n",
    "    for size_c in cluster\n",
    "        first = rand(Uniform(0,size), 1, 2)\n",
    "        locations = vcat(locations, first)\n",
    "\n",
    "        job_begins = rand(2:10)\n",
    "        job_finish = rand((job_begins+min_duration):(job_begins+max_duration))\n",
    "        push!(time_windows, [job_begins, job_finish])\n",
    "\n",
    "        time_work = rand(min_duration:max(min_duration, job_finish - job_begins))\n",
    "        push!(work_load, time_work)\n",
    "\n",
    "        for neighbour in 1:(size_c-1)\n",
    "            new_x = rand(Uniform(max(0,first[1]-20), min(first[1]+20, size)), 1, 1)\n",
    "            new_y = rand(Uniform(max(0,first[2]-20), min(first[2]+20, size)), 1, 1)\n",
    "            new = hcat(new_x, new_y)\n",
    "            locations = vcat(locations, new)\n",
    "\n",
    "            job_begins = rand(job_finish:min(T-min_duration-2, job_finish + 6))\n",
    "            job_finish = rand((job_begins+min_duration):(min(job_begins+max_duration, T-2)))\n",
    "            push!(time_windows, [job_begins, job_finish])\n",
    "\n",
    "            time_work = rand(min_duration:min(max_duration, job_finish-job_begins))\n",
    "            push!(work_load, time_work)\n",
    "        end\n",
    "    end\n",
    "    \n",
    "    return [time_windows, work_load, locations]\n",
    "end;"
   ]
  },
  {
   "cell_type": "code",
   "execution_count": 197,
   "id": "a22604ad",
   "metadata": {},
   "outputs": [],
   "source": [
    "time_windows, work_load, locations = create_time_windows_and_work_load(cluster, locations)\n",
    "\n",
    "distances = [LinearAlgebra.norm(locations[i, :] .- locations[j, :]) for i=1:n_jobs+1, j = 1:n_jobs+1];"
   ]
  },
  {
   "cell_type": "markdown",
   "id": "c5cc4b06",
   "metadata": {},
   "source": [
    "# [2] Setup for Set Partitioning without CG"
   ]
  },
  {
   "cell_type": "markdown",
   "id": "904c5109",
   "metadata": {},
   "source": [
    "## [2.1] Label-Setting Algorithm"
   ]
  },
  {
   "cell_type": "markdown",
   "id": "2f9adc92",
   "metadata": {},
   "source": [
    "The label-setting algorithm here generates ALL feasible paths."
   ]
  },
  {
   "cell_type": "code",
   "execution_count": 198,
   "id": "7212bb8c",
   "metadata": {},
   "outputs": [
    {
     "data": {
      "text/plain": [
       "label_setting (generic function with 2 methods)"
      ]
     },
     "execution_count": 198,
     "metadata": {},
     "output_type": "execute_result"
    }
   ],
   "source": [
    "function label_setting(n, travel_time, travel_distance, windows, load)\n",
    "    N = [[1]] \n",
    "    T = [ [1] ] \n",
    "    C = [0.0]  \n",
    "    \n",
    "    L = [1]    \n",
    "    \n",
    "    current_state = 1\n",
    "    total_state = 1\n",
    "    \n",
    "    while 1==1\n",
    "        \n",
    "        # STEP 1: Check whether we want to move on to checking the next path\n",
    "        if (L[current_state] == n+2)\n",
    "            current_state += 1\n",
    "            if current_state > total_state\n",
    "                break\n",
    "            else\n",
    "                continue\n",
    "            end\n",
    "        end\n",
    "        \n",
    "        # STEP 2: Enter the for loop.\n",
    "        for i in 2:(n+2)\n",
    "            \n",
    "            # STEP 2-1: Check that the current node is not already inside our path.\n",
    "            if ~(i in N[current_state])\n",
    "                \n",
    "                #= STEP 2-2: Feasibility check. We must have enough time\n",
    "                to go from our current location (end time T[current_state]), plus\n",
    "                the travel time from that end node to the new node (travel_time[L[current_state], i]),\n",
    "                plus the amount of time it takes to work the OLD job (load[L[current_state]-1]),\n",
    "                plus the amount of time it takes to work the NEW job (load[i-1])\n",
    "                \n",
    "                this must be smaller than or equal to the end time of the window for the NEW job (windows[i-1][2])\n",
    "                =#\n",
    "                if L[current_state] != 1\n",
    "                    cur_time = last(T[current_state])\n",
    "                    dist_nec = travel_time[L[current_state], i]\n",
    "                    old_job_time_nec = load[L[current_state]-1] #out of our parameters this one has no depot pad\n",
    "                    new_job_time_nec = load[i-1]\n",
    "                    new_window_close = windows[i-1][2]\n",
    "                    \n",
    "                    #if invalid, don't bother\n",
    "                    if cur_time + dist_nec + old_job_time_nec + new_job_time_nec > new_window_close\n",
    "                        continue\n",
    "                    end\n",
    "                end\n",
    "                \n",
    "                push!(N, copy(N[current_state]))\n",
    "                push!(N[total_state+1], i)\n",
    "\n",
    "                cur_time = last(T[current_state])\n",
    "                dist_nec = travel_time[L[current_state], i]\n",
    "                old_job_time = L[current_state] > 1 ? load[L[current_state]-1] : 0\n",
    "                new_window_start = windows[i-1][1]\n",
    "                new_times = copy(T[current_state])\n",
    "                push!(new_times, max(cur_time + dist_nec + old_job_time, new_window_start))\n",
    "                push!(T, new_times)\n",
    "\n",
    "                push!(C, C[current_state] + travel_distance[L[current_state], i])\n",
    "\n",
    "                push!(L, i)\n",
    "                \n",
    "                total_state += 1\n",
    "        \n",
    "            end\n",
    "        end\n",
    "        \n",
    "        current_state += 1 # concluded iteration for that state in mind. Now next one\n",
    "        \n",
    "        #= It's possible that we've just caught up to the final total state, meaning we didn't generate\n",
    "        anything and can stop here. =#\n",
    "        if current_state == total_state\n",
    "            break\n",
    "        end     \n",
    "    end\n",
    "\n",
    "    return N, C, T\n",
    "end"
   ]
  },
  {
   "cell_type": "markdown",
   "id": "aaead5f3",
   "metadata": {},
   "source": [
    "## [2.2] Variable Setup"
   ]
  },
  {
   "cell_type": "markdown",
   "id": "aa898203",
   "metadata": {},
   "source": [
    "We need to initialize the following:\n",
    "\n",
    "- ALL the routes which we have, the set $\\mathcal{Q}$ (done from LSA above)\n",
    "- the parameter $\\delta_{it}^q$ telling us if route $q$ is at $i$ at time $t$\n",
    "- the parameter $u_i^q$ telling us if route $q$ visits $i$ at any time\n",
    "- Route costs, $C^q$."
   ]
  },
  {
   "cell_type": "markdown",
   "id": "1f0abc26",
   "metadata": {},
   "source": [
    "### [2.2.1] LSA for Superset Routes"
   ]
  },
  {
   "cell_type": "markdown",
   "id": "d94a77b7",
   "metadata": {},
   "source": [
    "Initializing all routes uses the LSA above."
   ]
  },
  {
   "cell_type": "code",
   "execution_count": 199,
   "id": "2c73810b",
   "metadata": {
    "scrolled": false
   },
   "outputs": [],
   "source": [
    "distances_label = deepcopy(distances);\n",
    "distances_label = hcat(distances_label, distances_label[:, 1]);\n",
    "distances_label = vcat(distances_label, collect(push!(distances_label[:, 1], 0)'));"
   ]
  },
  {
   "cell_type": "code",
   "execution_count": 200,
   "id": "62726ef4",
   "metadata": {},
   "outputs": [],
   "source": [
    "travel_times = ceil.(distances_label / speed);"
   ]
  },
  {
   "cell_type": "code",
   "execution_count": 201,
   "id": "286bca9c",
   "metadata": {},
   "outputs": [],
   "source": [
    "windows_label = deepcopy(time_windows)\n",
    "push!(windows_label, [0, 100]);"
   ]
  },
  {
   "cell_type": "code",
   "execution_count": 202,
   "id": "cac08184",
   "metadata": {},
   "outputs": [],
   "source": [
    "load_label = deepcopy(work_load)\n",
    "push!(load_label, 0);"
   ]
  },
  {
   "cell_type": "code",
   "execution_count": 203,
   "id": "b9045f3b",
   "metadata": {
    "scrolled": true
   },
   "outputs": [],
   "source": [
    "routes, cost, times = label_setting(n_jobs, travel_times, distances_label, windows_label, load_label);"
   ]
  },
  {
   "cell_type": "markdown",
   "id": "519697cc",
   "metadata": {},
   "source": [
    "### [2.2.2] Obtain Routes, Costs, and the associated Times"
   ]
  },
  {
   "cell_type": "code",
   "execution_count": 204,
   "id": "2fa46750",
   "metadata": {},
   "outputs": [],
   "source": [
    "routes_keep = []\n",
    "C_routes = []\n",
    "T_routes = []\n",
    "\n",
    "# only if it ends in the depot is it useful\n",
    "for r in 1:length(routes)\n",
    "    if (last(routes[r]) == n_jobs+2)\n",
    "        push!(routes_keep, routes[r] .- 1)\n",
    "        push!(C_routes, cost[r])\n",
    "        push!(T_routes, times[r])\n",
    "    end\n",
    "end"
   ]
  },
  {
   "cell_type": "code",
   "execution_count": 205,
   "id": "14f64b5c",
   "metadata": {},
   "outputs": [],
   "source": [
    "n_routes = length(routes_keep);"
   ]
  },
  {
   "cell_type": "markdown",
   "id": "68231b78",
   "metadata": {},
   "source": [
    "### [2.2.3] Preprocess Routes to Better Format"
   ]
  },
  {
   "cell_type": "code",
   "execution_count": 206,
   "id": "4bbf5418",
   "metadata": {},
   "outputs": [],
   "source": [
    "function route_time_combo(route, times)\n",
    "    #=\n",
    "    Note that this function is slightly different than from the one in colgen!\n",
    "    The route will already have been modified so as to delete the padding.\n",
    "    Specifically, the depot will be at 0, not 1.\n",
    "    =#\n",
    "    route_info = []\n",
    "    for locindex in 1:length(route)-1\n",
    "        #=\n",
    "        Strategy:\n",
    "        If you are not at a job location, you don't need to capture\n",
    "        stationary information. Otherwise you do.\n",
    "\n",
    "        Anyways we want data moving from one to the next.\n",
    "        =#\n",
    "        cur_loc = route[locindex]\n",
    "        cur_time = times[locindex]\n",
    "        time_to_start_moving = times[locindex]\n",
    "\n",
    "        #stationary data comes first.\n",
    "        if 1 < locindex < n_jobs + 2\n",
    "            cur_job_num = cur_loc\n",
    "\n",
    "            for time in cur_time:cur_time+work_load[cur_job_num]-1\n",
    "                route_detail = [ [cur_loc, time], [cur_loc, time+1], 0]\n",
    "                push!(route_info, route_detail)\n",
    "            end\n",
    "\n",
    "            time_to_start_moving += work_load[cur_job_num]\n",
    "        end\n",
    "\n",
    "        new_loc = route[locindex+1]\n",
    "        #then if we move, we move.\n",
    "        route_detail = [ [cur_loc, time_to_start_moving], [new_loc, times[locindex+1]], distances_label[cur_loc+1, new_loc+1]]\n",
    "        push!(route_info, route_detail)\n",
    "    end\n",
    "\n",
    "    return route_info\n",
    "end;"
   ]
  },
  {
   "cell_type": "code",
   "execution_count": 207,
   "id": "a5535258",
   "metadata": {},
   "outputs": [],
   "source": [
    "route_time_keep = [route_time_combo(routes_keep[i], T_routes[i]) for i in 1:n_routes];"
   ]
  },
  {
   "cell_type": "markdown",
   "id": "c8cdaf87",
   "metadata": {},
   "source": [
    "### [2.2.3] Compute $u_{i}^q$"
   ]
  },
  {
   "cell_type": "code",
   "execution_count": 208,
   "id": "fb2001a6",
   "metadata": {},
   "outputs": [],
   "source": [
    "function compute_u(routes)\n",
    "    Q = length(routes)\n",
    "    u = [[0 for q in 1:Q] for i in 1:n_jobs]\n",
    "    \n",
    "    for rindex in 1:Q\n",
    "        route = routes[rindex]\n",
    "        for arc in route\n",
    "            loc1 = arc[1][1]\n",
    "            loc2 = arc[2][1]\n",
    "            if (1 <= loc1 <= n_jobs)\n",
    "                u[loc1][rindex] = 1\n",
    "            end\n",
    "            if (1 <= loc2 <= n_jobs)\n",
    "                u[loc2][rindex] = 1\n",
    "            end\n",
    "        end\n",
    "    end\n",
    "    return u\n",
    "end\n",
    ";             "
   ]
  },
  {
   "cell_type": "code",
   "execution_count": 209,
   "id": "c5facd22",
   "metadata": {},
   "outputs": [],
   "source": [
    "u = compute_u(route_time_keep);"
   ]
  },
  {
   "cell_type": "markdown",
   "id": "3cbfaad9",
   "metadata": {},
   "source": [
    "### [2.2.4] Compute $\\delta_{it}^q$"
   ]
  },
  {
   "cell_type": "code",
   "execution_count": 210,
   "id": "c291932b",
   "metadata": {},
   "outputs": [],
   "source": [
    "function compute_delta(routes)\n",
    "    Q = length(routes)\n",
    "    delta = [[[0.0 for q in 1:Q] for t in 1:T] for i in 1:n_jobs]\n",
    "    for rindex in 1:Q\n",
    "        route = routes[rindex]\n",
    "        for arc in route\n",
    "            loc1, time1 = arc[1]\n",
    "            loc2, time2 = arc[2]\n",
    "            if (loc1 != 0) & (loc1 != n_jobs + 1)\n",
    "                delta[loc1][time1][rindex] = 1\n",
    "            end\n",
    "            \n",
    "            if (loc2 != 0) & (loc2 != n_jobs + 1)\n",
    "                delta[loc2][time2][rindex] = 1\n",
    "            end\n",
    "        end\n",
    "    end\n",
    "    return delta\n",
    "end;   "
   ]
  },
  {
   "cell_type": "code",
   "execution_count": 211,
   "id": "ff3cc839",
   "metadata": {},
   "outputs": [],
   "source": [
    "delta = compute_delta(route_time_keep);"
   ]
  },
  {
   "cell_type": "markdown",
   "id": "71126957",
   "metadata": {},
   "source": [
    "# [3] SP Model"
   ]
  },
  {
   "cell_type": "code",
   "execution_count": 212,
   "id": "e03b476a",
   "metadata": {
    "scrolled": false
   },
   "outputs": [
    {
     "name": "stdout",
     "output_type": "stream",
     "text": [
      "Set parameter Username\n",
      "Academic license - for non-commercial use only - expires 2023-09-04\n"
     ]
    }
   ],
   "source": [
    "model_set = Model(Gurobi.Optimizer);\n",
    "#model = Model(with_optimizer(Gurobi.Optimizer, TimeLimit=100));"
   ]
  },
  {
   "cell_type": "markdown",
   "id": "38be8dc3",
   "metadata": {},
   "source": [
    "## [3.1] Decision Variables"
   ]
  },
  {
   "cell_type": "markdown",
   "id": "ddc33280",
   "metadata": {},
   "source": [
    "Actually there's 1. That's $z_q^k$!"
   ]
  },
  {
   "cell_type": "code",
   "execution_count": 213,
   "id": "b0b4b763",
   "metadata": {},
   "outputs": [],
   "source": [
    "@variable(model_set, z[1:n_vehicles_jobs, 1:n_routes], Bin);"
   ]
  },
  {
   "cell_type": "markdown",
   "id": "241c6611",
   "metadata": {},
   "source": [
    "## [3.2] Objective"
   ]
  },
  {
   "cell_type": "code",
   "execution_count": 214,
   "id": "1def953f",
   "metadata": {},
   "outputs": [],
   "source": [
    "@objective(model_set, \n",
    "    Min, \n",
    "    sum(sum(z[k,q]*C_routes[q] for q in 1:n_routes) for k in 1:n_vehicles_jobs))\n",
    ";"
   ]
  },
  {
   "cell_type": "markdown",
   "id": "77039fbe",
   "metadata": {},
   "source": [
    "## [3.3] Constraints"
   ]
  },
  {
   "cell_type": "markdown",
   "id": "3e388daf",
   "metadata": {},
   "source": [
    "### Each job is only done once\n",
    "\n",
    "Look at JOB vehicles. Summing up over all routes and drivers, only one driver should use the route, and that route passes by that job, so it's a sum over $u_i^q z_q^k$."
   ]
  },
  {
   "cell_type": "code",
   "execution_count": 215,
   "id": "7debf3d9",
   "metadata": {},
   "outputs": [],
   "source": [
    "@constraint(model_set, \n",
    "    unique[i in 1:n_jobs],\n",
    "    sum(sum(z[k,q]*u[i][q] for q in 1:n_routes) for k in 1:n_vehicles_jobs) == 1);\n"
   ]
  },
  {
   "cell_type": "markdown",
   "id": "2797d14a",
   "metadata": {},
   "source": [
    "### Each driver is assigned to exactly one route\n",
    "\n",
    "For each JOB vehicle: 1 route out of all within $\\mathcal{Q}$ is used."
   ]
  },
  {
   "cell_type": "code",
   "execution_count": 216,
   "id": "9937bfb3",
   "metadata": {},
   "outputs": [],
   "source": [
    "@constraint(model_set, \n",
    "    driver[k in 1:n_vehicles_jobs], \n",
    "    sum(z[k,q] for q in 1:n_routes) == 1);"
   ]
  },
  {
   "cell_type": "code",
   "execution_count": 217,
   "id": "246c690b",
   "metadata": {
    "scrolled": false
   },
   "outputs": [
    {
     "name": "stdout",
     "output_type": "stream",
     "text": [
      "Gurobi Optimizer version 9.5.2 build v9.5.2rc0 (mac64[x86])\n",
      "Thread count: 4 physical cores, 8 logical processors, using up to 8 threads\n",
      "Optimize a model with 50 rows, 207200 columns and 1154050 nonzeros\n",
      "Model fingerprint: 0xaa18f221\n",
      "Variable types: 0 continuous, 207200 integer (207200 binary)\n",
      "Coefficient statistics:\n",
      "  Matrix range     [1e+00, 1e+00]\n",
      "  Objective range  [1e+02, 2e+03]\n",
      "  Bounds range     [0e+00, 0e+00]\n",
      "  RHS range        [1e+00, 1e+00]\n",
      "Presolve removed 0 rows and 25 columns\n",
      "Presolve time: 0.98s\n",
      "Presolved: 50 rows, 207175 columns, 1154025 nonzeros\n",
      "Variable types: 0 continuous, 207175 integer (207175 binary)\n",
      "Found heuristic solution: objective 9294.0984753\n",
      "\n",
      "Starting sifting (using dual simplex for sub-problems)...\n",
      "\n",
      "    Iter     Pivots    Primal Obj      Dual Obj        Time\n",
      "       0          0     infinity      0.0000000e+00      1s\n",
      "       1         58   1.1002105e+07   1.1557212e+03      1s\n",
      "       2        118   5.0024082e+06   1.0502983e+03      2s\n",
      "       3        163   2.0022295e+06   9.6282646e+02      2s\n",
      "       4        198   2.0020896e+06   1.0355985e+03      2s\n",
      "       5        247   2.0020896e+06   1.0519383e+03      2s\n",
      "       6        287   2.4956728e+03   1.4440250e+03      2s\n",
      "       7        322   2.4956728e+03   1.7806520e+03      2s\n",
      "       8        363   2.4956728e+03   1.8101785e+03      2s\n",
      "       9        394   2.4956728e+03   1.8371443e+03      2s\n",
      "      10        429   2.4956728e+03   1.8904037e+03      2s\n",
      "\n",
      "Sifting complete\n",
      "\n",
      "\n",
      "Root relaxation: objective 2.845663e+03, 511 iterations, 0.22 seconds (0.33 work units)\n",
      "\n",
      "    Nodes    |    Current Node    |     Objective Bounds      |     Work\n",
      " Expl Unexpl |  Obj  Depth IntInf | Incumbent    BestBd   Gap | It/Node Time\n",
      "\n",
      "*    0     0               0    2845.6632169 2845.66322  0.00%     -    1s\n",
      "\n",
      "Explored 1 nodes (511 simplex iterations) in 1.67 seconds (1.71 work units)\n",
      "Thread count was 8 (of 8 available processors)\n",
      "\n",
      "Solution count 2: 2845.66 9294.1 \n",
      "\n",
      "Optimal solution found (tolerance 1.00e-04)\n",
      "Best objective 2.845663216935e+03, best bound 2.845663216935e+03, gap 0.0000%\n",
      "\n",
      "User-callback calls 408, time in user-callback 0.00 sec\n"
     ]
    }
   ],
   "source": [
    "optimize!(model_set)"
   ]
  },
  {
   "cell_type": "markdown",
   "id": "5eea4422",
   "metadata": {},
   "source": [
    "# [4] Extract Results"
   ]
  },
  {
   "cell_type": "code",
   "execution_count": 219,
   "id": "971334f7",
   "metadata": {},
   "outputs": [],
   "source": [
    "z_val = value.(z);"
   ]
  },
  {
   "cell_type": "code",
   "execution_count": 221,
   "id": "d46ba078",
   "metadata": {},
   "outputs": [
    {
     "name": "stdout",
     "output_type": "stream",
     "text": [
      "[0, 20, 21, 22, 23, 26]\n",
      "[0, 1, 2, 3, 26]\n",
      "[0, 16, 17, 18, 19, 13, 14, 26]\n",
      "[0, 11, 12, 15, 26]\n",
      "[0, 4, 5, 6, 7, 26]\n",
      "[0, 8, 9, 10, 26]\n",
      "[0, 24, 25, 26]\n"
     ]
    }
   ],
   "source": [
    "for vehicle_num in 1:n_vehicles_jobs\n",
    "    for route_index in 1:n_routes\n",
    "        if z_val[vehicle_num, route_index] > 0.99 && route_index > 1\n",
    "            println(routes_keep[route_index])\n",
    "        end\n",
    "    end\n",
    "end"
   ]
  }
 ],
 "metadata": {
  "kernelspec": {
   "display_name": "Julia 1.8.0",
   "language": "julia",
   "name": "julia-1.8"
  },
  "language_info": {
   "file_extension": ".jl",
   "mimetype": "application/julia",
   "name": "julia",
   "version": "1.8.0"
  }
 },
 "nbformat": 4,
 "nbformat_minor": 5
}
