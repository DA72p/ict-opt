{
 "cells": [
  {
   "cell_type": "markdown",
   "id": "d0974a22",
   "metadata": {},
   "source": [
    "# [0] Imports"
   ]
  },
  {
   "cell_type": "code",
   "execution_count": 1641,
   "id": "e0d90bc2",
   "metadata": {},
   "outputs": [],
   "source": [
    "using LinearAlgebra, Random, Gurobi, JuMP, Distributions, Plots, Dates"
   ]
  },
  {
   "cell_type": "markdown",
   "id": "3de0cbd9",
   "metadata": {},
   "source": [
    "# [1] Set Up Parameters"
   ]
  },
  {
   "cell_type": "code",
   "execution_count": 1642,
   "id": "62b0117b",
   "metadata": {},
   "outputs": [],
   "source": [
    "n_jobs = 50\n",
    "m_cov = n_jobs\n",
    "B = n_jobs\n",
    "V = m_cov\n",
    "T = 2 * n_jobs\n",
    "min_duration = 2\n",
    "max_duration = 6\n",
    "speed = 500 / 3\n",
    "radius = 50\n",
    "size = 500\n",
    "mesh = 50;"
   ]
  },
  {
   "cell_type": "markdown",
   "id": "370f4f79",
   "metadata": {},
   "source": [
    "# [2] Create Job Parameters"
   ]
  },
  {
   "cell_type": "code",
   "execution_count": 1643,
   "id": "1afb78ab",
   "metadata": {},
   "outputs": [],
   "source": [
    "Random.seed!(1234)\n",
    "\n",
    "function create_cluster_sizes(jobs_total)\n",
    "    Random.seed!(1234)\n",
    "    jobs_created = 0\n",
    "    cluster = []\n",
    "    min_jobs_allowed = n_jobs >= 15 ? 3 : 2\n",
    "        target_clusters = 5\n",
    "        while jobs_created != jobs_total\n",
    "            num_to_add = rand(min(min_jobs_allowed, jobs_total - jobs_created) : \n",
    "                min(Int((n_jobs/target_clusters)÷1), jobs_total - jobs_created))\n",
    "            jobs_created += num_to_add\n",
    "            push!(cluster, num_to_add)\n",
    "        end\n",
    "    \n",
    "    return cluster\n",
    "end;\n",
    "\n",
    "time_windows = []\n",
    "locations = rand(Uniform(0,size), 1, 2)\n",
    "work_load = []\n",
    "cluster = create_cluster_sizes(n_jobs)\n",
    "\n",
    "function create_time_windows_and_work_load(cluster_sizes, locations)\n",
    "    Random.seed!(1234)\n",
    "    locations = rand(Uniform(0,size), 1, 2)\n",
    "    for size_c in cluster\n",
    "        first = rand(Uniform(0,size), 1, 2)\n",
    "        locations = vcat(locations, first)\n",
    "\n",
    "        job_begins = rand(2:10)\n",
    "        job_finish = rand((job_begins+min_duration):(job_begins+max_duration))\n",
    "        push!(time_windows, [job_begins, job_finish])\n",
    "\n",
    "        time_work = rand(min_duration:max(min_duration, job_finish - job_begins))\n",
    "        push!(work_load, time_work)\n",
    "\n",
    "        for neighbour in 1:(size_c-1)\n",
    "            new_x = rand(Uniform(max(0,first[1]-20), min(first[1]+20, size)), 1, 1)\n",
    "            new_y = rand(Uniform(max(0,first[2]-20), min(first[2]+20, size)), 1, 1)\n",
    "            new = hcat(new_x, new_y)\n",
    "            locations = vcat(locations, new)\n",
    "\n",
    "            job_begins = rand(job_finish:min(T-min_duration-2, job_finish + 6))\n",
    "            job_finish = rand((job_begins+min_duration):(min(job_begins+max_duration, T-2)))\n",
    "            push!(time_windows, [job_begins, job_finish])\n",
    "\n",
    "            time_work = rand(min_duration:min(max_duration, job_finish-job_begins))\n",
    "            push!(work_load, time_work)\n",
    "        end\n",
    "    end\n",
    "    \n",
    "    return [time_windows, work_load, locations]\n",
    "end\n",
    "\n",
    "time_windows, work_load, locations = create_time_windows_and_work_load(cluster, locations)\n",
    "\n",
    "function reformat_locations(locations)\n",
    "    #= The fact that locations[1] gives the same float (not tuple or list)\n",
    "    as locations[1, 1] and locations[1][2] throws an \n",
    "    error is extremely frustrating.\n",
    "    This function makes locations[1][1] possible, \n",
    "    while locations[1] correctly returns a tuple. =#\n",
    "    locs = []\n",
    "    for i in 1:Int(length(locations) * 0.5)\n",
    "        push!(locs, [locations[i,1], locations[i,2]])\n",
    "    end\n",
    "    return locs\n",
    "end\n",
    "\n",
    "job_locs = reformat_locations(locations)\n",
    "push!(job_locs, job_locs[1]);"
   ]
  },
  {
   "cell_type": "code",
   "execution_count": 1644,
   "id": "4dd2ddca",
   "metadata": {},
   "outputs": [],
   "source": [
    "job_dists = [LinearAlgebra.norm(job_locs[i] .- job_locs[j]) for i=1:n_jobs+2, j = 1:n_jobs+2];"
   ]
  },
  {
   "cell_type": "code",
   "execution_count": 1645,
   "id": "337bed4f",
   "metadata": {},
   "outputs": [],
   "source": [
    "job_travel_times = ceil.(job_dists / speed);"
   ]
  },
  {
   "cell_type": "markdown",
   "id": "dda501a0",
   "metadata": {},
   "source": [
    "# [3] Create Coverage Parameters"
   ]
  },
  {
   "cell_type": "code",
   "execution_count": 1646,
   "id": "d9e59948",
   "metadata": {},
   "outputs": [],
   "source": [
    "create_all_valid_spots = true;"
   ]
  },
  {
   "cell_type": "code",
   "execution_count": 1647,
   "id": "766b876d",
   "metadata": {},
   "outputs": [],
   "source": [
    "function is_close_enough(coverage_loc, job_loc)\n",
    "    #= Given a coverage_loc with 2 elements x y\n",
    "    and a job_loc with two elements x y\n",
    "    determines if that specific job_loc is located within r \n",
    "    of the coverage_loc as the crow flies =#\n",
    "    return (coverage_loc[1]-job_loc[1])^2 + (coverage_loc[2]-job_loc[2])^2 <= radius^2\n",
    "end;\n",
    "\n",
    "function close_enough_jobs(coverage_loc)\n",
    "    jobs = []\n",
    "    for i in 1:n_jobs\n",
    "        if is_close_enough(coverage_loc, job_locs[i+1])\n",
    "            push!(jobs, i)\n",
    "        end\n",
    "    end\n",
    "    return jobs\n",
    "end;"
   ]
  },
  {
   "cell_type": "code",
   "execution_count": 1648,
   "id": "a2db1c84",
   "metadata": {},
   "outputs": [],
   "source": [
    "cov_locs = []\n",
    "seen = []\n",
    "\n",
    "for x in 0:mesh:size\n",
    "    for y in 0:mesh:size\n",
    "        potential_cov = [x, y]\n",
    "        useful = false\n",
    "        \n",
    "        if create_all_valid_spots\n",
    "            for index in 2:length(job_locs)-1\n",
    "                if is_close_enough(potential_cov, job_locs[index])\n",
    "                    useful = true\n",
    "                    break\n",
    "                end\n",
    "            end\n",
    "        else\n",
    "            for job in close_enough_jobs(potential_cov)\n",
    "                if ~(job in seen)\n",
    "                    push!(seen, job)\n",
    "                    useful = true\n",
    "                end\n",
    "            end\n",
    "        end\n",
    "        \n",
    "        if useful\n",
    "            push!(cov_locs, potential_cov)\n",
    "        end\n",
    "    end\n",
    "end;"
   ]
  },
  {
   "cell_type": "code",
   "execution_count": 1649,
   "id": "2cd3566f",
   "metadata": {},
   "outputs": [],
   "source": [
    "m_cov = length(cov_locs);\n",
    "V = m_cov;"
   ]
  },
  {
   "cell_type": "code",
   "execution_count": 1650,
   "id": "8bbd2723",
   "metadata": {},
   "outputs": [],
   "source": [
    "insert!(cov_locs, 1, job_locs[1])\n",
    "push!(cov_locs, cov_locs[1]);"
   ]
  },
  {
   "cell_type": "code",
   "execution_count": 1651,
   "id": "c89f1147",
   "metadata": {},
   "outputs": [],
   "source": [
    "cov_dists = [LinearAlgebra.norm(cov_locs[i] .- cov_locs[j]) for i=1:m_cov+2, j = 1:m_cov+2];"
   ]
  },
  {
   "cell_type": "code",
   "execution_count": 1652,
   "id": "a2659d5d",
   "metadata": {},
   "outputs": [],
   "source": [
    "cov_travel_times = ceil.(cov_dists / speed);"
   ]
  },
  {
   "cell_type": "markdown",
   "id": "ebb2fcbe",
   "metadata": {},
   "source": [
    "# [4] Create Initial Job Routes"
   ]
  },
  {
   "cell_type": "code",
   "execution_count": 1653,
   "id": "1bf03f6b",
   "metadata": {},
   "outputs": [],
   "source": [
    "job_routes = []\n",
    "\n",
    "for i in 1:n_jobs\n",
    "    route = []\n",
    "    dist = job_dists[0+1, i+1]\n",
    "    \n",
    "    start_going_time = Int(floor(time_windows[i][1] - dist/speed))\n",
    "    # time_arrival = time_windows[i][1]\n",
    "    # time_finished = time_windows[i][2]\n",
    "    finish_time = time_windows[i][2]\n",
    "    return_finished = Int(ceil(finish_time + dist/speed))\n",
    "    \n",
    "    push!(route, [[0, start_going_time], [i, time_windows[i][1]], dist])\n",
    "    \n",
    "    for working in time_windows[i][1]:(finish_time-1)\n",
    "        push!(route, [[i, working], [i, working+1], 0])\n",
    "    end\n",
    "    \n",
    "    push!(route, [[i, finish_time], [n_jobs+1, return_finished], dist])\n",
    "    push!(job_routes, route)\n",
    "end;"
   ]
  },
  {
   "cell_type": "markdown",
   "id": "57ad6624",
   "metadata": {},
   "source": [
    "# [5] Create Initial Coverage Routes"
   ]
  },
  {
   "cell_type": "code",
   "execution_count": 1654,
   "id": "8ffe6689",
   "metadata": {},
   "outputs": [],
   "source": [
    "cov_routes = []\n",
    "\n",
    "for j in 1:m_cov\n",
    "    route = []\n",
    "    dist = cov_dists[0+1, j+1]\n",
    "    \n",
    "    arrive_time = Int(ceil(dist/speed))\n",
    "    leave_time = Int(T+1 - ceil(dist/speed))\n",
    "    \n",
    "    push!(route, [[0, 0], [j, arrive_time], dist])\n",
    "\n",
    "    for t in arrive_time:leave_time-1\n",
    "        push!(route, [ [j, t], [j, t+1], 0])\n",
    "    end\n",
    "    \n",
    "    push!(route, [[j, leave_time], [m_cov+1, T+1], dist])\n",
    "    push!(cov_routes, route)\n",
    "end;"
   ]
  },
  {
   "cell_type": "markdown",
   "id": "7a4426c1",
   "metadata": {},
   "source": [
    "# [6] Helper Functions"
   ]
  },
  {
   "cell_type": "markdown",
   "id": "784dfb2b",
   "metadata": {},
   "source": [
    "## [6.1] Compute cost of route"
   ]
  },
  {
   "cell_type": "code",
   "execution_count": 1655,
   "id": "58ab489e",
   "metadata": {},
   "outputs": [],
   "source": [
    "function route_cost(route)\n",
    "    ans = 0\n",
    "    for arc in route\n",
    "        ans += arc[3]\n",
    "    end\n",
    "    return ans\n",
    "end;"
   ]
  },
  {
   "cell_type": "markdown",
   "id": "56f2c36a",
   "metadata": {},
   "source": [
    "## [6.2] Compute $u_i^q$"
   ]
  },
  {
   "cell_type": "code",
   "execution_count": 1656,
   "id": "e505d3d0",
   "metadata": {},
   "outputs": [],
   "source": [
    "function compute_u(routes)\n",
    "    Q = length(routes)\n",
    "    u = [[0 for q in 1:Q] for i in 1:n_jobs]\n",
    "    \n",
    "    for rindex in 1:Q\n",
    "        route = routes[rindex]\n",
    "        for arc in route\n",
    "            loc1 = arc[1][1]\n",
    "            loc2 = arc[2][1]\n",
    "            if (1 <= loc1 <= n_jobs)\n",
    "                u[loc1][rindex] = 1\n",
    "            end\n",
    "            if (1 <= loc2 <= n_jobs)\n",
    "                u[loc2][rindex] = 1\n",
    "            end\n",
    "        end\n",
    "    end\n",
    "    return u\n",
    "end;"
   ]
  },
  {
   "cell_type": "markdown",
   "id": "4ec80106",
   "metadata": {},
   "source": [
    "## [6.3] Compute $\\delta_{it}^q$"
   ]
  },
  {
   "cell_type": "code",
   "execution_count": 1657,
   "id": "b4d5ce91",
   "metadata": {},
   "outputs": [],
   "source": [
    "function compute_delta(routes)\n",
    "    Q = length(routes)\n",
    "    delta = [[[0.0 for q in 1:Q] for t in 1:T] for i in 1:n_jobs]\n",
    "    for rindex in 1:Q\n",
    "        route = routes[rindex]\n",
    "        for arc in route\n",
    "            loc1, time1 = arc[1]\n",
    "            loc2, time2 = arc[2]\n",
    "            if (loc1 != 0) & (loc1 != n_jobs + 1)\n",
    "                delta[loc1][time1][rindex] = 1\n",
    "            end\n",
    "            \n",
    "            if (loc2 != 0) & (loc2 != n_jobs + 1)\n",
    "                delta[loc2][time2][rindex] = 1\n",
    "            end\n",
    "        end\n",
    "    end\n",
    "    return delta\n",
    "end;"
   ]
  },
  {
   "cell_type": "markdown",
   "id": "208fa7a6",
   "metadata": {},
   "source": [
    "## [6.4] Compute $y_{jt}^p$"
   ]
  },
  {
   "cell_type": "code",
   "execution_count": 1658,
   "id": "acc0731d",
   "metadata": {},
   "outputs": [],
   "source": [
    "function compute_y(routes)\n",
    "    y = [[[0 for p in 1:length(routes)] for t in 1:T] for j in 1:m_cov]\n",
    "    \n",
    "    for rindex in 1:length(routes)\n",
    "        route = routes[rindex]\n",
    "        for arc in route\n",
    "            job1, time1 = Int.(arc[1])\n",
    "            job2, time2 = Int.(arc[2])\n",
    "            if job1 != 0\n",
    "                y[job1][time1][rindex] = 1\n",
    "            end\n",
    "            if job2 != m_cov + 1\n",
    "                y[job2][time2][rindex] = 1\n",
    "            end\n",
    "        end\n",
    "    end\n",
    "    return y\n",
    "end;"
   ]
  },
  {
   "cell_type": "markdown",
   "id": "318550f2",
   "metadata": {},
   "source": [
    "## [6.5] Compute $L_{ji}$"
   ]
  },
  {
   "cell_type": "code",
   "execution_count": 1659,
   "id": "9be015f6",
   "metadata": {},
   "outputs": [],
   "source": [
    "function compute_L(cov_locs, job_locs)\n",
    "    #= Given a list of tuple coverage locations and job locations,\n",
    "    returns a matrix of L values. Specifically, \n",
    "    L[j][i], indicating if spot j is close enough to node i\n",
    "    for coverage to happen. We might have to delete padding of depot\n",
    "    first. =#\n",
    "    L = []\n",
    "    for j in 2:length(cov_locs)-1\n",
    "        L_j = []\n",
    "        cov_loc = cov_locs[j] # padding accounted for\n",
    "        for i in 2:length(job_locs)-1\n",
    "            push!(L_j, is_close_enough(cov_loc, job_locs[i]) ? 1 : 0)\n",
    "        end\n",
    "        push!(L, L_j)\n",
    "    end\n",
    "    \n",
    "    return L\n",
    "end;"
   ]
  },
  {
   "cell_type": "markdown",
   "id": "fd133149",
   "metadata": {},
   "source": [
    "## [6.6] Compute $W_{it}$"
   ]
  },
  {
   "cell_type": "code",
   "execution_count": 1660,
   "id": "f4fbca25",
   "metadata": {},
   "outputs": [],
   "source": [
    "function compute_W(job_routes)\n",
    "    #=\n",
    "    Given the full solution routes to the job problem,\n",
    "    tells us W[i][t], which is whether job i is being\n",
    "    done at time t.\n",
    "    \n",
    "    Our strategy is to gather the FIRST node of each arc,\n",
    "    because it's the same as the second node of the arc prior.\n",
    "    \n",
    "    Disregard the 1st node (its start is the origin-depot), \n",
    "    that information is contained in the 2nd node.\n",
    "    =#\n",
    "    W = [ [0 for t in 1:T] for i in 1:n_jobs]\n",
    "    \n",
    "    for route in job_routes\n",
    "        for arc in route[2:end]\n",
    "            loc = Int(arc[1][1])\n",
    "            time = Int(arc[1][2])\n",
    "            W[loc][time] = 1\n",
    "        end\n",
    "    end\n",
    "    \n",
    "    return W\n",
    "end;   "
   ]
  },
  {
   "cell_type": "markdown",
   "id": "9fef3cf2",
   "metadata": {},
   "source": [
    "## [6.7] Compute $j$'s Neighborhood"
   ]
  },
  {
   "cell_type": "code",
   "execution_count": 1661,
   "id": "ebfebf8a",
   "metadata": {},
   "outputs": [],
   "source": [
    "function neighborhood(j)\n",
    "    # returns all nodes i which are close to the spot j.\n",
    "    cov_loc = cov_locs[j+1] # don't forget padding!\n",
    "    \n",
    "    close = []\n",
    "    for i in 1:n_jobs\n",
    "        if is_close_enough(cov_loc, job_locs[i+1])\n",
    "            push!(close, i)\n",
    "        end\n",
    "    end\n",
    "    \n",
    "    return close\n",
    "end;"
   ]
  },
  {
   "cell_type": "markdown",
   "id": "45b6e230",
   "metadata": {},
   "source": [
    "## [6.8] Compute coverage stations close to $i$"
   ]
  },
  {
   "cell_type": "code",
   "execution_count": 1662,
   "id": "de179952",
   "metadata": {},
   "outputs": [],
   "source": [
    "function close_covs(i)\n",
    "    job_loc = job_locs[i+1] # padding included\n",
    "    close = []\n",
    "    for j in 1:m_cov\n",
    "        if is_close_enough(cov_locs[j+1], job_loc)\n",
    "            push!(close, j)\n",
    "        end\n",
    "    end\n",
    "    return close\n",
    "end;"
   ]
  },
  {
   "cell_type": "markdown",
   "id": "f0b27d77",
   "metadata": {},
   "source": [
    "## [6.9] Given route, list nodes"
   ]
  },
  {
   "cell_type": "code",
   "execution_count": 1663,
   "id": "b1d85d1e",
   "metadata": {},
   "outputs": [],
   "source": [
    "function route_to_nodes(route)\n",
    "    # get only the 1st node of all arcs except the last, when you get the 2nd\n",
    "    nodes = []\n",
    "    for arc in route[1:end-1]\n",
    "        new_node = arc[1][1]\n",
    "        push!(nodes, new_node)\n",
    "    end\n",
    "    push!(nodes, route[end][2][1])\n",
    "    return unique(nodes)\n",
    "end;"
   ]
  },
  {
   "cell_type": "markdown",
   "id": "9e85bb95",
   "metadata": {},
   "source": [
    "## [6.10] Given route, list times"
   ]
  },
  {
   "cell_type": "code",
   "execution_count": 1664,
   "id": "8a7ce4f8",
   "metadata": {},
   "outputs": [],
   "source": [
    "function route_to_times(route)\n",
    "    #= Obtain time \"markers\" when you leave\n",
    "    or arrive at any node. This is more convenient\n",
    "    than just telling me when I arrive at any node.\n",
    "    If the two nodes in an arc are not equal,\n",
    "    list both of their times. Otherwise, list neither. =#\n",
    "    times = []\n",
    "    for arc in route[1:end]\n",
    "        n1, t1 = arc[1]\n",
    "        n2, t2 = arc[2]\n",
    "        if n1 != n2\n",
    "            push!(times, t1)\n",
    "            push!(times, t2)\n",
    "        end\n",
    "    end\n",
    "    return times\n",
    "end;"
   ]
  },
  {
   "cell_type": "markdown",
   "id": "50657c8e",
   "metadata": {},
   "source": [
    "## [6.11] Given nodes and times, produce route"
   ]
  },
  {
   "cell_type": "code",
   "execution_count": 1665,
   "id": "9a16ac6e",
   "metadata": {},
   "outputs": [],
   "source": [
    "function nodes_and_times_to_route(nodes, times, route_type)\n",
    "    #= Given by two components: When you leave/go between nodes,\n",
    "    and when you stay. Alternate: start \"when you stay\",\n",
    "    then \"when you go\". For the first node there is no stay. \n",
    "    For the last node there is no stay nor go.=#\n",
    "    route = []\n",
    "    for i in 1:length(nodes)-1\n",
    "        \n",
    "        # WHEN YOU STAY\n",
    "        if i > 1\n",
    "            n = nodes[i]\n",
    "            t1 = times[2*i-2]\n",
    "            t2 = times[2*i-1]\n",
    "            \n",
    "            for t in t1:t2-1\n",
    "                arc = [[n, t], [n, t+1], 0]\n",
    "                push!(route, arc)\n",
    "            end\n",
    "        end\n",
    "        \n",
    "        # WHEN YOU GO\n",
    "        n1 = nodes[i]\n",
    "        n2 = nodes[i+1]\n",
    "        t1 = times[2*i-1]\n",
    "        t2 = times[2*i]\n",
    "        dist = route_type == \"job\" ? job_dists[n1+1, n2+1] : cov_dists[n1+1, n2+1]\n",
    "        arc = [[n1, t1], [n2, t2], dist]\n",
    "        push!(route, arc)\n",
    "    end\n",
    "    return route\n",
    "end;       "
   ]
  },
  {
   "cell_type": "markdown",
   "id": "7995b1c0",
   "metadata": {},
   "source": [
    "## [6.12] When to Enter a Spot"
   ]
  },
  {
   "cell_type": "code",
   "execution_count": 1666,
   "id": "40ae9196",
   "metadata": {},
   "outputs": [],
   "source": [
    "function when_to_enter(spot, windows)\n",
    "    neigh = neighborhood(spot)\n",
    "    enterable_times = []\n",
    "    for t in [windows[i][1] for i in neigh]\n",
    "        # no job is being done...basically can't be > time_windows[1] and <= time_windows[2]\n",
    "        can_enter = true\n",
    "        for job in neigh\n",
    "            if t > windows[job][1] && t <= windows[job][2]\n",
    "                can_enter = false\n",
    "            end\n",
    "        end\n",
    "        \n",
    "        if can_enter\n",
    "            push!(enterable_times, t)\n",
    "        end\n",
    "    end\n",
    "    return enterable_times\n",
    "end;"
   ]
  },
  {
   "cell_type": "markdown",
   "id": "7d7542aa",
   "metadata": {},
   "source": [
    "## [6.13] When to Leave a Spot"
   ]
  },
  {
   "cell_type": "code",
   "execution_count": 1667,
   "id": "317c59d6",
   "metadata": {},
   "outputs": [],
   "source": [
    "function when_to_leave(spot, windows)\n",
    "    neigh = neighborhood(spot)\n",
    "    leavable_times = []\n",
    "    for t in [windows[i][2] for i in neigh]\n",
    "        can_leave = true\n",
    "        for job in neigh\n",
    "            if t >= windows[job][1] && t < windows[job][2]\n",
    "                can_leave = false\n",
    "            end\n",
    "        end\n",
    "        \n",
    "        if can_leave\n",
    "            push!(leavable_times, t)\n",
    "        end\n",
    "    end\n",
    "    return leavable_times\n",
    "end;"
   ]
  },
  {
   "cell_type": "markdown",
   "id": "72df8fef",
   "metadata": {},
   "source": [
    "## [6.14] All Jobs Finished at Spot"
   ]
  },
  {
   "cell_type": "code",
   "execution_count": 1668,
   "id": "45eb8fa3",
   "metadata": {},
   "outputs": [],
   "source": [
    "function all_jobs_ended(spot, windows)\n",
    "    last = -Inf\n",
    "    for i in neighborhood(spot)\n",
    "        if windows[i][2] > last\n",
    "            last = windows[i][2]\n",
    "        end\n",
    "    end\n",
    "    return last\n",
    "end;"
   ]
  },
  {
   "cell_type": "markdown",
   "id": "203c6ca1",
   "metadata": {},
   "source": [
    "## [6.15] Clip time windows based on coverage availability"
   ]
  },
  {
   "cell_type": "code",
   "execution_count": 1669,
   "id": "947cf8e2",
   "metadata": {},
   "outputs": [],
   "source": [
    "function clip_time_windows_by_cov(time_windows, cov_routes, job_routes, x, z, delta, y)\n",
    "    new_windows = []\n",
    "    \n",
    "    P = length(cov_routes)\n",
    "    Q = length(job_routes)\n",
    "    \n",
    "    for i in 1:length(time_windows)\n",
    "        new_window = []\n",
    "        for t in time_windows[i][1]:time_windows[i][2]\n",
    "            total_cov = sum(sum(y[j][t][p] * x[p] for j in close_covs(i)) for p in 1:P)\n",
    "            work_job = sum(z[q] * delta[i][t][q] for q in 1:Q)\n",
    "            #=\n",
    "            NOTE: If our inequality of\n",
    "            sum_q uiq * zq = 1 is NOT strict\n",
    "            then it is possible that, later down the line, \n",
    "            the total coverage is 1.0 while the work being done is 2.0\n",
    "            or something...this is not going to be the final solution,\n",
    "            but it will happen. Therefore I have to guard against\n",
    "            this possibility.\n",
    "            \n",
    "            If the inequality IS strict, this will never happen.\n",
    "            =#\n",
    "            if total_cov >= work_job - 1e-5 || total_cov >= 1 - 1e-5\n",
    "                push!(new_window, t)\n",
    "            end\n",
    "        end\n",
    "        \n",
    "        if length(new_window) == 0\n",
    "            return -1\n",
    "        end\n",
    "        \n",
    "        push!(new_windows, [first(new_window), last(new_window)])\n",
    "    end\n",
    "    return new_windows\n",
    "end;"
   ]
  },
  {
   "cell_type": "markdown",
   "id": "8a4912ca",
   "metadata": {},
   "source": [
    "## [6.16] Produce work windows based on job routes"
   ]
  },
  {
   "cell_type": "code",
   "execution_count": 1670,
   "id": "396379c7",
   "metadata": {},
   "outputs": [],
   "source": [
    "function work_windows(job_routes, z)\n",
    "    work_windows = []\n",
    "    delta = compute_delta(job_routes)\n",
    "    \n",
    "    for i in 1:n_jobs\n",
    "        work_window = []\n",
    "        for t in 1:T\n",
    "            if sum(z[q] * delta[i][t][q] for q in 1:length(job_routes)) >= 1e-4\n",
    "                push!(work_window, t)\n",
    "            end\n",
    "        end\n",
    "        #if length(work_window) != 0 - used for tinkering\n",
    "        push!(work_windows, [first(work_window), last(work_window)])\n",
    "        #end\n",
    "    end\n",
    "    \n",
    "    return work_windows\n",
    "end;"
   ]
  },
  {
   "cell_type": "markdown",
   "id": "7df00086",
   "metadata": {},
   "source": [
    "# [7] Subproblem and Loop Helper Functions"
   ]
  },
  {
   "cell_type": "markdown",
   "id": "0c71230a",
   "metadata": {},
   "source": [
    "## [7.1] Extract Best Route\n",
    "\n",
    "Given a set of node_sequences, time_sequences, rcs, return the best ROUTE."
   ]
  },
  {
   "cell_type": "code",
   "execution_count": 1671,
   "id": "95b085a9",
   "metadata": {},
   "outputs": [],
   "source": [
    "function extract_best_route(node_seq, time_seq, rcs, route_type=\"job\")\n",
    "    mindex = -1\n",
    "    best_rc = Inf\n",
    "    \n",
    "    for index in 1:length(node_seq)\n",
    "        if rcs[index] < -1e-5 && rcs[index] < best_rc &&\n",
    "            ((route_type == \"job\" && last(node_seq[index]) == n_jobs+1) || \n",
    "                (route_type != \"job\" && last(node_seq[index]) == m_cov + 1))\n",
    "            best_rc = rcs[index]\n",
    "            mindex = index\n",
    "        end\n",
    "    end\n",
    "    \n",
    "    if mindex == -1 || best_rc >= -1e-10\n",
    "        return []\n",
    "    end\n",
    "        \n",
    "    return nodes_and_times_to_route(node_seq[mindex], time_seq[mindex], route_type)\n",
    "end;"
   ]
  },
  {
   "cell_type": "markdown",
   "id": "d120fea3",
   "metadata": {},
   "source": [
    "## [7.2] Recover z Objective"
   ]
  },
  {
   "cell_type": "code",
   "execution_count": 1672,
   "id": "3cb6564f",
   "metadata": {},
   "outputs": [],
   "source": [
    "function recover_z_obj(last_z, z_routes)\n",
    "    total = 0\n",
    "    for rindex in 1:length(z_routes)\n",
    "        total += last_z[rindex] * route_cost(z_routes[rindex])\n",
    "    end\n",
    "    return total\n",
    "end;"
   ]
  },
  {
   "cell_type": "markdown",
   "id": "91794cb7",
   "metadata": {},
   "source": [
    "## [7.3] Recover x Objective"
   ]
  },
  {
   "cell_type": "code",
   "execution_count": 1673,
   "id": "a402d442",
   "metadata": {},
   "outputs": [],
   "source": [
    "function recover_x_obj(last_x, x_routes)\n",
    "    total = 0\n",
    "    for xindex in 1:length(x_routes)\n",
    "        total += last_x[xindex] * route_cost(x_routes[xindex])\n",
    "    end\n",
    "    return total\n",
    "end;"
   ]
  },
  {
   "cell_type": "markdown",
   "id": "564f164e",
   "metadata": {},
   "source": [
    "## [7.4] Golden Intervals"
   ]
  },
  {
   "cell_type": "code",
   "execution_count": 1674,
   "id": "62196be2",
   "metadata": {},
   "outputs": [],
   "source": [
    "function all_nuggets(xi_values, j)\n",
    "    #= Given xi values and a spot j,\n",
    "    return all pairs (i, t) where a nugget lies. =#\n",
    "    nuggets = []\n",
    "    for i in neighborhood(j)\n",
    "        for t in 1:T\n",
    "            if xi_values[i, t] > 1e-8\n",
    "                push!(nuggets, [i, t])\n",
    "            end\n",
    "        end\n",
    "    end\n",
    "    return nuggets\n",
    "end;"
   ]
  },
  {
   "cell_type": "code",
   "execution_count": 1675,
   "id": "6a7d4371",
   "metadata": {},
   "outputs": [],
   "source": [
    "function power_set(set)\n",
    "    if length(set) == 0\n",
    "        return []\n",
    "    elseif length(set) == 1\n",
    "        return [ [], [set[1]] ]\n",
    "    else\n",
    "        recursed = power_set(set[1:end-1])\n",
    "        answer = []\n",
    "        for recurse in recursed\n",
    "            push!(answer, recurse)\n",
    "            push!(answer, push!(copy(recurse), set[end]))\n",
    "        end\n",
    "        return answer\n",
    "    end\n",
    "end;"
   ]
  },
  {
   "cell_type": "code",
   "execution_count": 1676,
   "id": "75cacd54",
   "metadata": {},
   "outputs": [],
   "source": [
    "function nugget_interval(times, arrivals, departs)\n",
    "    start_nugget_time = sort(times)[1]\n",
    "    finish_nugget_time = sort(times)[end]\n",
    "    arrival_time = Inf\n",
    "    depart_time = 0\n",
    "    for arrival in reverse(sort(arrivals))\n",
    "        if arrival <= start_nugget_time\n",
    "            arrival_time = arrival\n",
    "            break\n",
    "        end\n",
    "    end\n",
    "    \n",
    "    for depart in sort(departs)\n",
    "        if depart >= finish_nugget_time\n",
    "            depart_time = depart\n",
    "            break\n",
    "        end\n",
    "    end\n",
    "    \n",
    "    return [arrival_time, depart_time]\n",
    "end;"
   ]
  },
  {
   "cell_type": "code",
   "execution_count": 1677,
   "id": "406a23d7",
   "metadata": {},
   "outputs": [],
   "source": [
    "function golden_intervals(xi_values, windows_)\n",
    "    answer = []\n",
    "    for j in 1:m_cov\n",
    "        intervals_for_j = []\n",
    "        j_nuggets = all_nuggets(xi_values, j) # pairs [i, t]\n",
    "        \n",
    "        ats = when_to_enter(j, windows_)\n",
    "        dts = when_to_leave(j, windows_)\n",
    "        \n",
    "        nugget_times = unique([j_nuggets[i][2] for i in 1:length(j_nuggets)])\n",
    "        \n",
    "        for sindex in 1:length(nugget_times)\n",
    "            for tindex in sindex:length(nugget_times)\n",
    "                nug_int = nugget_interval([nugget_times[sindex], nugget_times[tindex]], ats, dts)\n",
    "                if nug_int[1] != Inf && nug_int[2] != 0\n",
    "                    push!(intervals_for_j, nug_int)\n",
    "                end\n",
    "            end\n",
    "        end\n",
    "        \n",
    "        unique!(intervals_for_j)\n",
    "        \n",
    "        intervals_with_rcs = []\n",
    "        \n",
    "        for interval in intervals_for_j\n",
    "            total = 0\n",
    "            for nugget in j_nuggets\n",
    "                if interval[1] <= nugget[2] <= interval[2]\n",
    "                    total += xi_values[nugget[1], nugget[2]]\n",
    "                end\n",
    "            end\n",
    "            push!(intervals_with_rcs, [interval, total])\n",
    "        end\n",
    "        push!(answer, intervals_with_rcs)\n",
    "    end\n",
    "    return answer\n",
    "end;"
   ]
  },
  {
   "cell_type": "markdown",
   "id": "1391da2c",
   "metadata": {},
   "source": [
    "# [8] Subproblem Algorithms"
   ]
  },
  {
   "cell_type": "markdown",
   "id": "c4fbaf92",
   "metadata": {},
   "source": [
    "## [8.1] Jobs Alone"
   ]
  },
  {
   "cell_type": "code",
   "execution_count": 1678,
   "id": "4e1020e5",
   "metadata": {},
   "outputs": [],
   "source": [
    "function jobs_alone_sp(n_jobs, job_dists, job_travel_times, windows, loads, rho, pi_i)\n",
    "    N = [[0]] \n",
    "    Times = [[0]] \n",
    "    R = [rho]\n",
    "    NRC = [Inf for i in 1:n_jobs]\n",
    "\n",
    "    current_state = 1\n",
    "    total_state = 1\n",
    "\n",
    "    while true\n",
    "        cur_path = N[current_state]\n",
    "        last_cur_node = last(cur_path)\n",
    "        cur_times = Times[current_state]\n",
    "        \n",
    "        if last_cur_node == n_jobs+1\n",
    "            current_state += 1\n",
    "            if current_state > total_state\n",
    "                break\n",
    "            else\n",
    "                continue\n",
    "            end\n",
    "        end\n",
    "\n",
    "        for i in 1:n_jobs+1\n",
    "            if ~(i in cur_path)\n",
    "                \n",
    "                # check time\n",
    "                prev_depart_time = last(cur_times)\n",
    "                time_to_travel = job_travel_times[last_cur_node+1, i+1]\n",
    "                new_job_load = i <= n_jobs ? loads[i] : 0\n",
    "                new_window_start, new_window_close = i <= n_jobs ? (windows[i]) : ([0, T+1])\n",
    "                \n",
    "                proposed_arrival_time = prev_depart_time + time_to_travel\n",
    "                \n",
    "                if proposed_arrival_time + new_job_load > new_window_close\n",
    "                    continue\n",
    "                end\n",
    "\n",
    "                reach_new_node_time = max(proposed_arrival_time, new_window_start)\n",
    "\n",
    "                # check not prunable\n",
    "                add_C = job_dists[last_cur_node+1, i+1]\n",
    "                subtract_pi = i <= n_jobs ? -pi_i[i] : 0\n",
    "\n",
    "                proposed_cost = R[current_state] + add_C + subtract_pi\n",
    "                \n",
    "                if i <= n_jobs\n",
    "                    if proposed_cost > NRC[i] + 1e-8\n",
    "                        continue\n",
    "                    else\n",
    "                        NRC[i] = proposed_cost\n",
    "                    end\n",
    "                end\n",
    "                \n",
    "                # push\n",
    "                push!(N, copy(cur_path))\n",
    "                push!(N[total_state+1], i)\n",
    "\n",
    "                new_time_array = copy(cur_times)\n",
    "                push!(new_time_array, reach_new_node_time)\n",
    "                if i <= n_jobs\n",
    "                    push!(new_time_array, reach_new_node_time+new_job_load)\n",
    "                end\n",
    "                push!(Times, new_time_array)\n",
    "\n",
    "                push!(R, proposed_cost)\n",
    "\n",
    "                total_state += 1\n",
    "\n",
    "            end\n",
    "        end\n",
    "\n",
    "        current_state += 1 \n",
    "\n",
    "        if current_state == total_state\n",
    "            break\n",
    "        end     \n",
    "    end\n",
    "\n",
    "    return N, Times, R\n",
    "end;"
   ]
  },
  {
   "cell_type": "markdown",
   "id": "0511cf28",
   "metadata": {},
   "source": [
    "## [8.2] Jobs in Conjunction with Coverage"
   ]
  },
  {
   "cell_type": "code",
   "execution_count": 1679,
   "id": "64176f2a",
   "metadata": {},
   "outputs": [],
   "source": [
    "function jobs_with_cov_sp(n_jobs, job_dists, job_travel_times, windows, loads, rho, pi_i, xi_it)\n",
    "    N = [[0]]\n",
    "    Times = [[0]]\n",
    "    R = [rho]\n",
    "    NRC = [Inf for i in 1:n_jobs+1]\n",
    "    \n",
    "    current_state = 1\n",
    "    total_state = 1\n",
    "    \n",
    "    while true\n",
    "        cur_path = N[current_state]\n",
    "        last_cur_node = last(cur_path)\n",
    "        cur_times = Times[current_state]\n",
    "        \n",
    "        if last_cur_node == n_jobs+1\n",
    "            current_state += 1\n",
    "            if current_state > total_state\n",
    "                break\n",
    "            else\n",
    "                continue\n",
    "            end\n",
    "        end\n",
    "        \n",
    "        for i in 1:n_jobs+1\n",
    "            if ~(i in cur_path)\n",
    "                \n",
    "                # check time\n",
    "                prev_depart_time = last(cur_times)\n",
    "                time_to_travel = job_travel_times[last_cur_node+1, i+1]\n",
    "                new_job_load = i <= n_jobs ? loads[i] : 0\n",
    "                new_window_start = i <= n_jobs ? windows[i][1] : 0\n",
    "                new_window_close = i <= n_jobs ? windows[i][2] : T+1\n",
    "                \n",
    "                proposed_arrival_time = prev_depart_time + time_to_travel\n",
    "\n",
    "                if proposed_arrival_time + new_job_load > new_window_close\n",
    "                    continue\n",
    "                end\n",
    "                \n",
    "                reach_new_node_time = max(proposed_arrival_time, new_window_start)\n",
    "                depart_time = reach_new_node_time + new_job_load\n",
    "                \n",
    "                # check not prunable\n",
    "                add_C = job_dists[last_cur_node+1, i+1]\n",
    "                subtract_pi = i <= n_jobs ? -pi_i[i] : 0\n",
    "                \n",
    "                proposed_cost = R[current_state] + add_C + subtract_pi\n",
    "                \n",
    "                for t in reach_new_node_time:depart_time\n",
    "                    proposed_cost += i <= n_jobs ? xi_it[i, Int(t)] : 0\n",
    "                end\n",
    "                \n",
    "                if i <= n_jobs\n",
    "                    if proposed_cost > NRC[i]\n",
    "                        continue\n",
    "                    else\n",
    "                        NRC[i] = proposed_cost + 1e-8\n",
    "                    end\n",
    "                end\n",
    "                \n",
    "                push!(N, copy(cur_path))\n",
    "                push!(N[total_state+1], i)\n",
    "                \n",
    "                new_time_array = copy(cur_times)\n",
    "                push!(new_time_array, reach_new_node_time)\n",
    "                if i <= n_jobs\n",
    "                    push!(new_time_array, depart_time)\n",
    "                end\n",
    "                push!(Times, new_time_array)\n",
    "                \n",
    "                push!(R, proposed_cost)\n",
    "                \n",
    "                total_state += 1\n",
    "            end\n",
    "        end\n",
    "        \n",
    "        current_state += 1\n",
    "        \n",
    "        if current_state == total_state\n",
    "            break\n",
    "        end\n",
    "    end\n",
    "    \n",
    "    return N, Times, R\n",
    "end;"
   ]
  },
  {
   "cell_type": "markdown",
   "id": "f4716e50",
   "metadata": {},
   "source": [
    "## [8.3] Coverage"
   ]
  },
  {
   "cell_type": "code",
   "execution_count": 1680,
   "id": "c933ffc3",
   "metadata": {},
   "outputs": [],
   "source": [
    "function cov_sp(cov_dists, cov_travel_times, windows, beta, xi_it)\n",
    "    N = [[0]]\n",
    "    Times = [[0]]\n",
    "    R = [beta]\n",
    "    NRC = [Inf for j in 1:m_cov+1]\n",
    "    \n",
    "    current_state = 1\n",
    "    total_state = 1\n",
    "    \n",
    "    while true\n",
    "        cur_path = N[current_state]\n",
    "        last_cur_node = last(cur_path)\n",
    "        cur_times = Times[current_state]\n",
    "        \n",
    "        if last_cur_node == m_cov+1\n",
    "            current_state += 1\n",
    "            if current_state > total_state\n",
    "                break\n",
    "            else\n",
    "                continue\n",
    "            end\n",
    "        end\n",
    "        \n",
    "        for j in 1:m_cov+1\n",
    "            if j != last_cur_node\n",
    "                #anything goes.\n",
    "                prev_depart_time = last(cur_times)\n",
    "                travel_time = cov_travel_times[last_cur_node+1, j+1]\n",
    "                # You are ONLY allowed to arrive at times when specified by when_to_enter.\n",
    "                arrival_times = (j <= m_cov) ? when_to_enter(j, windows) : [prev_depart_time + travel_time]\n",
    "                departure_times = (j <= m_cov) ? when_to_leave(j, windows) : [prev_depart_time+travel_time+1]\n",
    "\n",
    "                for at in arrival_times\n",
    "\n",
    "                    if at < prev_depart_time + travel_time # impossible to arrive then\n",
    "                        continue\n",
    "                    end\n",
    "                    # otherwise we're fine\n",
    "\n",
    "                    # now we have to consider ALL possible departure times.\n",
    "                    for dt in departure_times\n",
    "\n",
    "                        if dt <= at # if you depart when you arrive, what's the point?\n",
    "                            continue\n",
    "                        end\n",
    "                        #only viable departure times remain\n",
    "\n",
    "                        cur_rc = R[current_state]\n",
    "                        add_C = cov_dists[last_cur_node+1, j+1]\n",
    "                        cur_rc += add_C\n",
    "\n",
    "                        for t in at:dt\n",
    "                            for i in neighborhood(j)\n",
    "                                cur_rc -= j <= m_cov ? xi_it[i, Int(t)] : 0\n",
    "                            end\n",
    "                        end\n",
    "\n",
    "                        if j <= m_cov\n",
    "                            if cur_rc < NRC[j]\n",
    "                                NRC[j] = cur_rc\n",
    "                            else\n",
    "                                continue\n",
    "                            end\n",
    "                        end\n",
    "\n",
    "                        push!(N, copy(cur_path))\n",
    "                        push!(N[total_state+1], j)\n",
    "\n",
    "                        new_time_array = copy(cur_times)\n",
    "                        push!(new_time_array, at)\n",
    "                        if j <= m_cov\n",
    "                            push!(new_time_array, dt)\n",
    "                        end\n",
    "\n",
    "                        push!(Times, new_time_array)\n",
    "\n",
    "                        push!(R, cur_rc)\n",
    "\n",
    "                        total_state += 1\n",
    "                    end\n",
    "                end\n",
    "            end\n",
    "        end\n",
    "        \n",
    "        current_state += 1\n",
    "        \n",
    "        if current_state == total_state\n",
    "            break\n",
    "        end\n",
    "    end\n",
    "    \n",
    "    return N, Times, R\n",
    "end;"
   ]
  },
  {
   "cell_type": "markdown",
   "id": "1be27258",
   "metadata": {},
   "source": [
    "## [8.4] Intervaled Coverage"
   ]
  },
  {
   "cell_type": "code",
   "execution_count": 1681,
   "id": "24c33328",
   "metadata": {},
   "outputs": [],
   "source": [
    "function cov_sp_interval(cov_dists, cov_travel_times, windows, beta, xi_it)\n",
    "    N = [[0]]\n",
    "    Times = [[0]]\n",
    "    R = [beta]\n",
    "    NRC = [Inf for j in 1:m_cov+1]\n",
    "    GOLDEN_INTERVALS = golden_intervals(xi_it, windows)\n",
    "    \n",
    "    current_state = 1\n",
    "    total_state = 1\n",
    "    \n",
    "    while true\n",
    "        cur_path = N[current_state]\n",
    "        last_cur_node = last(cur_path)\n",
    "        cur_times = Times[current_state]\n",
    "        \n",
    "        if last_cur_node == m_cov+1\n",
    "            current_state += 1\n",
    "            if current_state > total_state\n",
    "                break\n",
    "            else\n",
    "                continue\n",
    "            end\n",
    "        end\n",
    "        \n",
    "        for j in 1:m_cov+1\n",
    "            if j != last_cur_node\n",
    "\n",
    "                prev_depart_time = last(cur_times)\n",
    "                travel_time = cov_travel_times[last_cur_node+1, j+1]\n",
    "                \n",
    "                if j == m_cov + 1\n",
    "                    cur_rc = R[current_state]\n",
    "                    add_C = cov_dists[last_cur_node+1, j+1]\n",
    "                    cur_rc += add_C\n",
    "                    push!(R, cur_rc)\n",
    "                    \n",
    "                    push!(N, copy(cur_path))\n",
    "                    push!(N[total_state+1], j)\n",
    "                    \n",
    "                    new_time_array = copy(cur_times)\n",
    "                    push!(new_time_array, prev_depart_time + travel_time)\n",
    "                    push!(Times, new_time_array)\n",
    "                    total_state += 1\n",
    "                else\n",
    "                    for interval in GOLDEN_INTERVALS[j]\n",
    "                        at, dt = interval[1]\n",
    "                        minus_xi = interval[2]\n",
    "                        \n",
    "                        if at < prev_depart_time + travel_time # too early\n",
    "                            continue\n",
    "                        end\n",
    "                        \n",
    "                        cur_rc = R[current_state]\n",
    "                        cur_rc += cov_dists[last_cur_node+1, j+1]\n",
    "                        cur_rc -= minus_xi\n",
    "                        \n",
    "                        if cur_rc < NRC[j]\n",
    "                            NRC[j] = cur_rc\n",
    "                        else\n",
    "                            continue\n",
    "                        end\n",
    "                        \n",
    "                        push!(R, cur_rc)\n",
    "                        \n",
    "                        push!(N, copy(cur_path))\n",
    "                        push!(N[total_state+1], j)\n",
    "                        \n",
    "                        new_time_array = copy(cur_times)\n",
    "                        push!(new_time_array, at)\n",
    "                        push!(new_time_array, dt)\n",
    "                        push!(Times, new_time_array)\n",
    "                        \n",
    "                        total_state += 1\n",
    "                    end\n",
    "                end\n",
    "            end\n",
    "        end\n",
    "        \n",
    "        current_state += 1\n",
    "        \n",
    "        if current_state >= total_state\n",
    "            break\n",
    "        end\n",
    "    end\n",
    "    \n",
    "    return N, Times, R\n",
    "end;"
   ]
  },
  {
   "cell_type": "markdown",
   "id": "48814b7c",
   "metadata": {},
   "source": [
    "# [9] Column Generation Loops"
   ]
  },
  {
   "cell_type": "markdown",
   "id": "f37707e2",
   "metadata": {},
   "source": [
    "## [9.1] Jobs alone without/with coverage"
   ]
  },
  {
   "cell_type": "code",
   "execution_count": 1682,
   "id": "9591d48f",
   "metadata": {},
   "outputs": [],
   "source": [
    "function colgen_jobs_alone(job_routes, job_dists, job_travel_times, windows, loads, with_coverage=false, cov_rts=[], final_x=[])\n",
    "    model = Model(Gurobi.Optimizer)\n",
    "    set_optimizer_attribute(model, \"OutputFlag\", 0)\n",
    "    \n",
    "    u = compute_u(job_routes)\n",
    "    C = [route_cost(route) for route in job_routes]\n",
    "    Q = length(job_routes)\n",
    "    \n",
    "    true_windows = deepcopy(windows)\n",
    "    last_z = [1 for i in 1:Q]\n",
    "    \n",
    "    if with_coverage\n",
    "        delta = compute_delta(job_routes)\n",
    "        y = compute_y(cov_rts)\n",
    "        true_windows = clip_time_windows_by_cov(windows, cov_rts, job_routes, final_x, last_z, delta, y)\n",
    "    end\n",
    "    \n",
    "    job_objective = Inf\n",
    "    \n",
    "    while true\n",
    "        unregister(model, :z)\n",
    "        @variable(model, 0 <= z[1:Q] <= 1)\n",
    "        \n",
    "        unregister(model, :unique)\n",
    "        @constraint(model, unique[i in 1:n_jobs], sum(u[i][q] * z[q] for q in 1:Q) >= 1);\n",
    "        \n",
    "        unregister(model, :driver)\n",
    "        @constraint(model, driver, sum(z[q] for q in 1:Q) <= B)\n",
    "        \n",
    "        @objective(model, Min, sum(C[q] * z[q] for q in 1:Q));\n",
    "        \n",
    "        optimize!(model)\n",
    "        job_objective = objective_value(model)\n",
    "        last_z = value.(z)\n",
    "        \n",
    "        pi_values = dual.(unique)\n",
    "        rho_value = dual.(driver)\n",
    "        \n",
    "        if with_coverage\n",
    "            delta = compute_delta(job_routes)\n",
    "            y = compute_y(cov_rts)\n",
    "            true_windows = clip_time_windows_by_cov(windows, cov_rts, job_routes, final_x, last_z, delta, y)\n",
    "        end\n",
    "        \n",
    "        node_seq, time_seq, rcs = jobs_alone_sp(n_jobs, job_dists, job_travel_times, true_windows, loads, rho_value, pi_values)\n",
    "        \n",
    "        new_route = extract_best_route(node_seq, time_seq, rcs, \"job\")\n",
    "        \n",
    "        if length(new_route) == 0\n",
    "            break\n",
    "        end\n",
    "        \n",
    "        push!(job_routes, new_route)\n",
    "        \n",
    "        u = compute_u(job_routes)\n",
    "        delta = compute_delta(job_routes)\n",
    "        C = [route_cost(route) for route in job_routes]\n",
    "        Q = length(job_routes)\n",
    "    end\n",
    "    \n",
    "    return job_routes, last_z, job_objective\n",
    "end;"
   ]
  },
  {
   "cell_type": "markdown",
   "id": "eb19bf69",
   "metadata": {},
   "source": [
    "## [9.2] Jobs and Coverage"
   ]
  },
  {
   "cell_type": "code",
   "execution_count": 1683,
   "id": "15242b78",
   "metadata": {},
   "outputs": [],
   "source": [
    "function colgen_jobs_and_cov(job_routes, cov_routes, job_dists, job_travel_times, windows, loads, cov_dists, cov_travel_times, no_suspense_please=true)\n",
    "    model = Model(Gurobi.Optimizer)\n",
    "    set_optimizer_attribute(model, \"OutputFlag\", 0)\n",
    "    \n",
    "    u = compute_u(job_routes)\n",
    "    delta = compute_delta(job_routes)\n",
    "    C_q = [route_cost(route) for route in job_routes]\n",
    "    C_p = [route_cost(route) for route in cov_routes]\n",
    "    L = compute_L(cov_locs, job_locs)\n",
    "    Q = length(job_routes)\n",
    "    P = length(cov_routes)\n",
    "    y = compute_y(cov_routes)\n",
    "    \n",
    "    last_z = [1 for i in 1:n_jobs]\n",
    "    last_x = [1 for j in 1:m_cov]\n",
    "    full_objective = Inf\n",
    "    \n",
    "    xis = []\n",
    "    \n",
    "    while true\n",
    "        \n",
    "        unregister(model, :z)\n",
    "        @variable(model, 0 <= z[1:Q] <= 1);\n",
    "        unregister(model, :x)\n",
    "        @variable(model, 0 <= x[1:P] <= 1);\n",
    "\n",
    "        unregister(model, :job_visited_once)\n",
    "        @constraint(model, job_visited_once[i in 1:n_jobs], sum(u[i][q] * z[q] for q in 1:Q) >= 1);\n",
    "        unregister(model, :enough_job_vehicles)\n",
    "        @constraint(model, enough_job_vehicles, sum(z[q] for q in 1:Q) <= B);\n",
    "        unregister(model, :enough_cov_vehicles)\n",
    "        @constraint(model, enough_cov_vehicles, sum(x[p] for p in 1:P) <= V);\n",
    "        unregister(model, :must_be_covered)\n",
    "        @constraint(model, must_be_covered[i in 1:n_jobs, t in 1:T], \n",
    "        sum(sum(y[j][t][p] * x[p] for p in 1:P) for j in close_covs(i)) >= \n",
    "        sum(z[q] * delta[i][t][q] for q in 1:Q));\n",
    "\n",
    "        @objective(model, Min, \n",
    "            sum(C_q[q] * z[q] for q in 1:Q) + \n",
    "            sum(C_p[p] * x[p] for p in 1:P));\n",
    "\n",
    "        optimize!(model)\n",
    "        \n",
    "        full_objective = objective_value(model)\n",
    "        last_z = value.(z)\n",
    "        last_x = value.(x)\n",
    "        \n",
    "        if no_suspense_please\n",
    "            println(full_objective)\n",
    "        end\n",
    "        \n",
    "        pi = dual.(job_visited_once)\n",
    "        rho = dual.(enough_job_vehicles)\n",
    "        beta = dual.(enough_cov_vehicles)\n",
    "        xi = dual.(must_be_covered)\n",
    "        push!(xis, xi)\n",
    "        \n",
    "        true_windows_for_cov = work_windows(job_routes, last_z)\n",
    "        true_windows_for_job = clip_time_windows_by_cov(windows, cov_routes, job_routes, last_x, last_z, delta, y)\n",
    "\n",
    "        job_node_seqs, job_time_seqs, job_rcs = jobs_with_cov_sp(n_jobs, job_dists, job_travel_times, true_windows_for_job, loads, rho, pi, xi)\n",
    "        cov_node_seqs, cov_time_seqs, cov_rcs = cov_sp_interval(cov_dists, cov_travel_times, true_windows_for_cov, beta, xi)\n",
    "        \n",
    "        new_job_route = extract_best_route(job_node_seqs, job_time_seqs, job_rcs, \"job\")\n",
    "        new_cov_route = extract_best_route(cov_node_seqs, cov_time_seqs, cov_rcs, \"cov\")\n",
    "        \n",
    "        if length(new_job_route) == 0 && length(new_cov_route) == 0\n",
    "            break\n",
    "        end\n",
    "        \n",
    "        if length(new_job_route) > 0\n",
    "            push!(job_routes, new_job_route)\n",
    "        end\n",
    "        \n",
    "        if length(new_cov_route) > 0\n",
    "            push!(cov_routes, new_cov_route)\n",
    "        end\n",
    "        \n",
    "        u = compute_u(job_routes)\n",
    "        delta = compute_delta(job_routes)\n",
    "        C_q = [route_cost(route) for route in job_routes]\n",
    "        C_p = [route_cost(route) for route in cov_routes]\n",
    "        L = compute_L(cov_locs, job_locs)\n",
    "        Q = length(job_routes)\n",
    "        P = length(cov_routes)\n",
    "        y = compute_y(cov_routes)\n",
    "        \n",
    "    end\n",
    "    \n",
    "    return job_routes, cov_routes, last_z, last_x, full_objective, xis\n",
    "end;"
   ]
  },
  {
   "cell_type": "markdown",
   "id": "15dcf6c5",
   "metadata": {},
   "source": [
    "## [9.3] Coverage Only"
   ]
  },
  {
   "cell_type": "code",
   "execution_count": 1684,
   "id": "e1a8b6eb",
   "metadata": {},
   "outputs": [],
   "source": [
    "function colgen_cov_only(cov_routes, job_routes, cov_dists, cov_travel_times, final_z)\n",
    "    model = Model(Gurobi.Optimizer)\n",
    "    set_optimizer_attribute(model, \"OutputFlag\", 0)\n",
    "    \n",
    "    W = compute_W(job_routes)\n",
    "    Q = length(job_routes)\n",
    "    \n",
    "    L = compute_L(cov_locs, job_locs)\n",
    "    y = compute_y(cov_routes)\n",
    "    P = length(cov_routes)\n",
    "    C = [route_cost(route) for route in cov_routes]\n",
    "    \n",
    "    true_windows = work_windows(job_routes, final_z)\n",
    "    \n",
    "    last_x = []\n",
    "    cov_objective = Inf\n",
    "    \n",
    "    while true\n",
    "        unregister(model, :x)\n",
    "        @variable(model, 0 <= x[1:P] <= 1);\n",
    "\n",
    "        unregister(model, :enough_vehicles)\n",
    "        unregister(model, :work_covered)\n",
    "        @constraint(model, enough_vehicles, sum(x[p] for p in 1:P) <= V);\n",
    "        @constraint(model, work_covered[i in 1:n_jobs, t in 1:T], \n",
    "        sum(sum(y[j][t][p] * x[p] for j in close_covs(i)) for p in 1:P) >= W[i][t]);\n",
    "        \n",
    "        @objective(model, Min, sum(x[p] * C[p] for p in 1:P));\n",
    "\n",
    "        optimize!(model)\n",
    "        cov_objective = objective_value(model)\n",
    "        last_x = value.(x)\n",
    "        \n",
    "        beta = dual.(enough_vehicles)\n",
    "        xi = dual.(work_covered)\n",
    "        \n",
    "        node_seq, time_seq, rcs = cov_sp(cov_dists, cov_travel_times, true_windows, beta, xi)\n",
    "        \n",
    "        new_route = extract_best_route(node_seq, time_seq, rcs, \"cov\")\n",
    "        \n",
    "        if length(new_route) < 1\n",
    "            break\n",
    "        end\n",
    "        \n",
    "        push!(cov_routes, new_route)\n",
    "        \n",
    "        L = compute_L(cov_locs, job_locs)\n",
    "        y = compute_y(cov_routes)\n",
    "        P = length(cov_routes)\n",
    "        C = [route_cost(route) for route in cov_routes]\n",
    "    end\n",
    "    \n",
    "    return cov_routes, last_x, cov_objective\n",
    "end;"
   ]
  },
  {
   "cell_type": "code",
   "execution_count": 1685,
   "id": "19811013",
   "metadata": {
    "scrolled": true
   },
   "outputs": [
    {
     "name": "stdout",
     "output_type": "stream",
     "text": [
      "Set parameter Username\n",
      "Academic license - for non-commercial use only - expires 2023-09-04\n"
     ]
    }
   ],
   "source": [
    "last_z = colgen_jobs_alone(job_routes, job_dists, job_travel_times, time_windows, work_load)[2];"
   ]
  },
  {
   "cell_type": "code",
   "execution_count": 1686,
   "id": "f83a1b40",
   "metadata": {},
   "outputs": [],
   "source": [
    "time1 = datetime2unix(now());"
   ]
  },
  {
   "cell_type": "code",
   "execution_count": 1687,
   "id": "46270f88",
   "metadata": {
    "scrolled": false
   },
   "outputs": [
    {
     "name": "stdout",
     "output_type": "stream",
     "text": [
      "Set parameter Username\n",
      "Academic license - for non-commercial use only - expires 2023-09-04\n",
      "185.3069999217987\n"
     ]
    }
   ],
   "source": [
    "job_routes, cov_routes, last_z, last_x, full_objective, xis = colgen_jobs_and_cov(job_routes, cov_routes, job_dists, job_travel_times, time_windows, work_load, cov_dists, cov_travel_times, false);\n",
    "println(datetime2unix(now()) - time1);"
   ]
  },
  {
   "cell_type": "code",
   "execution_count": 1688,
   "id": "4ba1cb11",
   "metadata": {
    "scrolled": true
   },
   "outputs": [],
   "source": [
    "for i in 1:n_jobs\n",
    "    # println(\"i: \", i, \" time window: \", time_windows[i], \" load: \", work_load[i])\n",
    "end"
   ]
  },
  {
   "cell_type": "code",
   "execution_count": 1689,
   "id": "68049e16",
   "metadata": {
    "scrolled": true
   },
   "outputs": [],
   "source": [
    "for xi in xis[end:end]\n",
    "    # println(\"\\nThis is a xi\")\n",
    "    for i in 1:n_jobs\n",
    "        for t in 1:T\n",
    "            if xi[i, t] > 0\n",
    "                # println(\"i, t, and xi are: \", i, \" \", t, \" \", round(xi[i, t], digits=2))\n",
    "            end\n",
    "        end\n",
    "    end\n",
    "end"
   ]
  },
  {
   "cell_type": "code",
   "execution_count": 1690,
   "id": "9221d340",
   "metadata": {
    "scrolled": true
   },
   "outputs": [
    {
     "data": {
      "text/plain": [
       "2412.394482251043"
      ]
     },
     "execution_count": 1690,
     "metadata": {},
     "output_type": "execute_result"
    }
   ],
   "source": [
    "recover_x_obj(last_x, cov_routes)"
   ]
  },
  {
   "cell_type": "code",
   "execution_count": 1691,
   "id": "b91fc70c",
   "metadata": {},
   "outputs": [
    {
     "data": {
      "text/plain": [
       "3569.5538201921804"
      ]
     },
     "execution_count": 1691,
     "metadata": {},
     "output_type": "execute_result"
    }
   ],
   "source": [
    "recover_z_obj(last_z, job_routes)"
   ]
  },
  {
   "cell_type": "code",
   "execution_count": 1692,
   "id": "bc70ebde",
   "metadata": {},
   "outputs": [
    {
     "data": {
      "text/plain": [
       "5981.948302443224"
      ]
     },
     "execution_count": 1692,
     "metadata": {},
     "output_type": "execute_result"
    }
   ],
   "source": [
    "full_objective"
   ]
  },
  {
   "cell_type": "code",
   "execution_count": 1693,
   "id": "35010413",
   "metadata": {},
   "outputs": [
    {
     "name": "stdout",
     "output_type": "stream",
     "text": [
      "Any[Any[[0, 0], [5, 1], 139.54981611887453], Any[[5, 1], [5, 2], 0], Any[[5, 2], [5, 3], 0], Any[[5, 3], [5, 4], 0], Any[[5, 4], [5, 5], 0], Any[[5, 5], [5, 6], 0], Any[[5, 6], [5, 7], 0], Any[[5, 7], [5, 8], 0], Any[[5, 8], [5, 9], 0], Any[[5, 9], [5, 10], 0], Any[[5, 10], [5, 11], 0], Any[[5, 11], [5, 12], 0], Any[[5, 12], [5, 13], 0], Any[[5, 13], [5, 14], 0], Any[[5, 14], [5, 15], 0], Any[[5, 15], [5, 16], 0], Any[[5, 16], [5, 17], 0], Any[[5, 17], [5, 18], 0], Any[[5, 18], [5, 19], 0], Any[[5, 19], [5, 20], 0], Any[[5, 20], [5, 21], 0], Any[[5, 21], [5, 22], 0], Any[[5, 22], [5, 23], 0], Any[[5, 23], [5, 24], 0], Any[[5, 24], [5, 25], 0], Any[[5, 25], [5, 26], 0], Any[[5, 26], [5, 27], 0], Any[[5, 27], [5, 28], 0], Any[[5, 28], [5, 29], 0], Any[[5, 29], [5, 30], 0], Any[[5, 30], [5, 31], 0], Any[[5, 31], [5, 32], 0], Any[[5, 32], [5, 33], 0], Any[[5, 33], [5, 34], 0], Any[[5, 34], [5, 35], 0], Any[[5, 35], [5, 36], 0], Any[[5, 36], [5, 37], 0], Any[[5, 37], [5, 38], 0], Any[[5, 38], [5, 39], 0], Any[[5, 39], [5, 40], 0], Any[[5, 40], [5, 41], 0], Any[[5, 41], [5, 42], 0], Any[[5, 42], [5, 43], 0], Any[[5, 43], [5, 44], 0], Any[[5, 44], [5, 45], 0], Any[[5, 45], [5, 46], 0], Any[[5, 46], [5, 47], 0], Any[[5, 47], [5, 48], 0], Any[[5, 48], [5, 49], 0], Any[[5, 49], [5, 50], 0], Any[[5, 50], [5, 51], 0], Any[[5, 51], [5, 52], 0], Any[[5, 52], [5, 53], 0], Any[[5, 53], [5, 54], 0], Any[[5, 54], [5, 55], 0], Any[[5, 55], [5, 56], 0], Any[[5, 56], [5, 57], 0], Any[[5, 57], [5, 58], 0], Any[[5, 58], [5, 59], 0], Any[[5, 59], [5, 60], 0], Any[[5, 60], [5, 61], 0], Any[[5, 61], [5, 62], 0], Any[[5, 62], [5, 63], 0], Any[[5, 63], [5, 64], 0], Any[[5, 64], [5, 65], 0], Any[[5, 65], [5, 66], 0], Any[[5, 66], [5, 67], 0], Any[[5, 67], [5, 68], 0], Any[[5, 68], [5, 69], 0], Any[[5, 69], [5, 70], 0], Any[[5, 70], [5, 71], 0], Any[[5, 71], [5, 72], 0], Any[[5, 72], [5, 73], 0], Any[[5, 73], [5, 74], 0], Any[[5, 74], [5, 75], 0], Any[[5, 75], [5, 76], 0], Any[[5, 76], [5, 77], 0], Any[[5, 77], [5, 78], 0], Any[[5, 78], [5, 79], 0], Any[[5, 79], [5, 80], 0], Any[[5, 80], [5, 81], 0], Any[[5, 81], [5, 82], 0], Any[[5, 82], [5, 83], 0], Any[[5, 83], [5, 84], 0], Any[[5, 84], [5, 85], 0], Any[[5, 85], [5, 86], 0], Any[[5, 86], [5, 87], 0], Any[[5, 87], [5, 88], 0], Any[[5, 88], [5, 89], 0], Any[[5, 89], [5, 90], 0], Any[[5, 90], [5, 91], 0], Any[[5, 91], [5, 92], 0], Any[[5, 92], [5, 93], 0], Any[[5, 93], [5, 94], 0], Any[[5, 94], [5, 95], 0], Any[[5, 95], [5, 96], 0], Any[[5, 96], [5, 97], 0], Any[[5, 97], [5, 98], 0], Any[[5, 98], [5, 99], 0], Any[[5, 99], [5, 100], 0], Any[[5, 100], [34, 101], 139.54981611887453]]\n",
      "Any[Any[[0, 0], [11, 1], 27.75249725835967], Any[[11, 1], [11, 2], 0], Any[[11, 2], [11, 3], 0], Any[[11, 3], [11, 4], 0], Any[[11, 4], [11, 5], 0], Any[[11, 5], [11, 6], 0], Any[[11, 6], [11, 7], 0], Any[[11, 7], [11, 8], 0], Any[[11, 8], [11, 9], 0], Any[[11, 9], [11, 10], 0], Any[[11, 10], [11, 11], 0], Any[[11, 11], [11, 12], 0], Any[[11, 12], [11, 13], 0], Any[[11, 13], [11, 14], 0], Any[[11, 14], [11, 15], 0], Any[[11, 15], [11, 16], 0], Any[[11, 16], [11, 17], 0], Any[[11, 17], [11, 18], 0], Any[[11, 18], [11, 19], 0], Any[[11, 19], [11, 20], 0], Any[[11, 20], [11, 21], 0], Any[[11, 21], [11, 22], 0], Any[[11, 22], [11, 23], 0], Any[[11, 23], [11, 24], 0], Any[[11, 24], [11, 25], 0], Any[[11, 25], [11, 26], 0], Any[[11, 26], [11, 27], 0], Any[[11, 27], [11, 28], 0], Any[[11, 28], [11, 29], 0], Any[[11, 29], [11, 30], 0], Any[[11, 30], [11, 31], 0], Any[[11, 31], [11, 32], 0], Any[[11, 32], [11, 33], 0], Any[[11, 33], [11, 34], 0], Any[[11, 34], [11, 35], 0], Any[[11, 35], [11, 36], 0], Any[[11, 36], [11, 37], 0], Any[[11, 37], [11, 38], 0], Any[[11, 38], [11, 39], 0], Any[[11, 39], [11, 40], 0], Any[[11, 40], [11, 41], 0], Any[[11, 41], [11, 42], 0], Any[[11, 42], [11, 43], 0], Any[[11, 43], [11, 44], 0], Any[[11, 44], [11, 45], 0], Any[[11, 45], [11, 46], 0], Any[[11, 46], [11, 47], 0], Any[[11, 47], [11, 48], 0], Any[[11, 48], [11, 49], 0], Any[[11, 49], [11, 50], 0], Any[[11, 50], [11, 51], 0], Any[[11, 51], [11, 52], 0], Any[[11, 52], [11, 53], 0], Any[[11, 53], [11, 54], 0], Any[[11, 54], [11, 55], 0], Any[[11, 55], [11, 56], 0], Any[[11, 56], [11, 57], 0], Any[[11, 57], [11, 58], 0], Any[[11, 58], [11, 59], 0], Any[[11, 59], [11, 60], 0], Any[[11, 60], [11, 61], 0], Any[[11, 61], [11, 62], 0], Any[[11, 62], [11, 63], 0], Any[[11, 63], [11, 64], 0], Any[[11, 64], [11, 65], 0], Any[[11, 65], [11, 66], 0], Any[[11, 66], [11, 67], 0], Any[[11, 67], [11, 68], 0], Any[[11, 68], [11, 69], 0], Any[[11, 69], [11, 70], 0], Any[[11, 70], [11, 71], 0], Any[[11, 71], [11, 72], 0], Any[[11, 72], [11, 73], 0], Any[[11, 73], [11, 74], 0], Any[[11, 74], [11, 75], 0], Any[[11, 75], [11, 76], 0], Any[[11, 76], [11, 77], 0], Any[[11, 77], [11, 78], 0], Any[[11, 78], [11, 79], 0], Any[[11, 79], [11, 80], 0], Any[[11, 80], [11, 81], 0], Any[[11, 81], [11, 82], 0], Any[[11, 82], [11, 83], 0], Any[[11, 83], [11, 84], 0], Any[[11, 84], [11, 85], 0], Any[[11, 85], [11, 86], 0], Any[[11, 86], [11, 87], 0], Any[[11, 87], [11, 88], 0], Any[[11, 88], [11, 89], 0], Any[[11, 89], [11, 90], 0], Any[[11, 90], [11, 91], 0], Any[[11, 91], [11, 92], 0], Any[[11, 92], [11, 93], 0], Any[[11, 93], [11, 94], 0], Any[[11, 94], [11, 95], 0], Any[[11, 95], [11, 96], 0], Any[[11, 96], [11, 97], 0], Any[[11, 97], [11, 98], 0], Any[[11, 98], [11, 99], 0], Any[[11, 99], [11, 100], 0], Any[[11, 100], [34, 101], 27.75249725835967]]\n",
      "Any[Any[[0, 0], [24, 2], 201.66740366206832], Any[[24, 2], [24, 3], 0], Any[[24, 3], [24, 4], 0], Any[[24, 4], [24, 5], 0], Any[[24, 5], [24, 6], 0], Any[[24, 6], [24, 7], 0], Any[[24, 7], [24, 8], 0], Any[[24, 8], [24, 9], 0], Any[[24, 9], [24, 10], 0], Any[[24, 10], [24, 11], 0], Any[[24, 11], [24, 12], 0], Any[[24, 12], [24, 13], 0], Any[[24, 13], [24, 14], 0], Any[[24, 14], [24, 15], 0], Any[[24, 15], [24, 16], 0], Any[[24, 16], [24, 17], 0], Any[[24, 17], [24, 18], 0], Any[[24, 18], [24, 19], 0], Any[[24, 19], [24, 20], 0], Any[[24, 20], [24, 21], 0], Any[[24, 21], [24, 22], 0], Any[[24, 22], [24, 23], 0], Any[[24, 23], [24, 24], 0], Any[[24, 24], [24, 25], 0], Any[[24, 25], [24, 26], 0], Any[[24, 26], [24, 27], 0], Any[[24, 27], [24, 28], 0], Any[[24, 28], [24, 29], 0], Any[[24, 29], [24, 30], 0], Any[[24, 30], [24, 31], 0], Any[[24, 31], [24, 32], 0], Any[[24, 32], [24, 33], 0], Any[[24, 33], [24, 34], 0], Any[[24, 34], [24, 35], 0], Any[[24, 35], [24, 36], 0], Any[[24, 36], [24, 37], 0], Any[[24, 37], [24, 38], 0], Any[[24, 38], [24, 39], 0], Any[[24, 39], [24, 40], 0], Any[[24, 40], [24, 41], 0], Any[[24, 41], [24, 42], 0], Any[[24, 42], [24, 43], 0], Any[[24, 43], [24, 44], 0], Any[[24, 44], [24, 45], 0], Any[[24, 45], [24, 46], 0], Any[[24, 46], [24, 47], 0], Any[[24, 47], [24, 48], 0], Any[[24, 48], [24, 49], 0], Any[[24, 49], [24, 50], 0], Any[[24, 50], [24, 51], 0], Any[[24, 51], [24, 52], 0], Any[[24, 52], [24, 53], 0], Any[[24, 53], [24, 54], 0], Any[[24, 54], [24, 55], 0], Any[[24, 55], [24, 56], 0], Any[[24, 56], [24, 57], 0], Any[[24, 57], [24, 58], 0], Any[[24, 58], [24, 59], 0], Any[[24, 59], [24, 60], 0], Any[[24, 60], [24, 61], 0], Any[[24, 61], [24, 62], 0], Any[[24, 62], [24, 63], 0], Any[[24, 63], [24, 64], 0], Any[[24, 64], [24, 65], 0], Any[[24, 65], [24, 66], 0], Any[[24, 66], [24, 67], 0], Any[[24, 67], [24, 68], 0], Any[[24, 68], [24, 69], 0], Any[[24, 69], [24, 70], 0], Any[[24, 70], [24, 71], 0], Any[[24, 71], [24, 72], 0], Any[[24, 72], [24, 73], 0], Any[[24, 73], [24, 74], 0], Any[[24, 74], [24, 75], 0], Any[[24, 75], [24, 76], 0], Any[[24, 76], [24, 77], 0], Any[[24, 77], [24, 78], 0], Any[[24, 78], [24, 79], 0], Any[[24, 79], [24, 80], 0], Any[[24, 80], [24, 81], 0], Any[[24, 81], [24, 82], 0], Any[[24, 82], [24, 83], 0], Any[[24, 83], [24, 84], 0], Any[[24, 84], [24, 85], 0], Any[[24, 85], [24, 86], 0], Any[[24, 86], [24, 87], 0], Any[[24, 87], [24, 88], 0], Any[[24, 88], [24, 89], 0], Any[[24, 89], [24, 90], 0], Any[[24, 90], [24, 91], 0], Any[[24, 91], [24, 92], 0], Any[[24, 92], [24, 93], 0], Any[[24, 93], [24, 94], 0], Any[[24, 94], [24, 95], 0], Any[[24, 95], [24, 96], 0], Any[[24, 96], [24, 97], 0], Any[[24, 97], [24, 98], 0], Any[[24, 98], [24, 99], 0], Any[[24, 99], [34, 101], 201.66740366206832]]\n"
     ]
    },
    {
     "name": "stdout",
     "output_type": "stream",
     "text": [
      "Any[Any[[0, 0], [31, 2], 294.89962974724665], Any[[31, 2], [31, 3], 0], Any[[31, 3], [31, 4], 0], Any[[31, 4], [31, 5], 0], Any[[31, 5], [31, 6], 0], Any[[31, 6], [31, 7], 0], Any[[31, 7], [31, 8], 0], Any[[31, 8], [31, 9], 0], Any[[31, 9], [31, 10], 0], Any[[31, 10], [31, 11], 0], Any[[31, 11], [31, 12], 0], Any[[31, 12], [31, 13], 0], Any[[31, 13], [31, 14], 0], Any[[31, 14], [31, 15], 0], Any[[31, 15], [31, 16], 0], Any[[31, 16], [31, 17], 0], Any[[31, 17], [31, 18], 0], Any[[31, 18], [31, 19], 0], Any[[31, 19], [31, 20], 0], Any[[31, 20], [31, 21], 0], Any[[31, 21], [31, 22], 0], Any[[31, 22], [31, 23], 0], Any[[31, 23], [31, 24], 0], Any[[31, 24], [31, 25], 0], Any[[31, 25], [31, 26], 0], Any[[31, 26], [31, 27], 0], Any[[31, 27], [31, 28], 0], Any[[31, 28], [31, 29], 0], Any[[31, 29], [31, 30], 0], Any[[31, 30], [31, 31], 0], Any[[31, 31], [31, 32], 0], Any[[31, 32], [31, 33], 0], Any[[31, 33], [31, 34], 0], Any[[31, 34], [31, 35], 0], Any[[31, 35], [31, 36], 0], Any[[31, 36], [31, 37], 0], Any[[31, 37], [31, 38], 0], Any[[31, 38], [31, 39], 0], Any[[31, 39], [31, 40], 0], Any[[31, 40], [31, 41], 0], Any[[31, 41], [31, 42], 0], Any[[31, 42], [31, 43], 0], Any[[31, 43], [31, 44], 0], Any[[31, 44], [31, 45], 0], Any[[31, 45], [31, 46], 0], Any[[31, 46], [31, 47], 0], Any[[31, 47], [31, 48], 0], Any[[31, 48], [31, 49], 0], Any[[31, 49], [31, 50], 0], Any[[31, 50], [31, 51], 0], Any[[31, 51], [31, 52], 0], Any[[31, 52], [31, 53], 0], Any[[31, 53], [31, 54], 0], Any[[31, 54], [31, 55], 0], Any[[31, 55], [31, 56], 0], Any[[31, 56], [31, 57], 0], Any[[31, 57], [31, 58], 0], Any[[31, 58], [31, 59], 0], Any[[31, 59], [31, 60], 0], Any[[31, 60], [31, 61], 0], Any[[31, 61], [31, 62], 0], Any[[31, 62], [31, 63], 0], Any[[31, 63], [31, 64], 0], Any[[31, 64], [31, 65], 0], Any[[31, 65], [31, 66], 0], Any[[31, 66], [31, 67], 0], Any[[31, 67], [31, 68], 0], Any[[31, 68], [31, 69], 0], Any[[31, 69], [31, 70], 0], Any[[31, 70], [31, 71], 0], Any[[31, 71], [31, 72], 0], Any[[31, 72], [31, 73], 0], Any[[31, 73], [31, 74], 0], Any[[31, 74], [31, 75], 0], Any[[31, 75], [31, 76], 0], Any[[31, 76], [31, 77], 0], Any[[31, 77], [31, 78], 0], Any[[31, 78], [31, 79], 0], Any[[31, 79], [31, 80], 0], Any[[31, 80], [31, 81], 0], Any[[31, 81], [31, 82], 0], Any[[31, 82], [31, 83], 0], Any[[31, 83], [31, 84], 0], Any[[31, 84], [31, 85], 0], Any[[31, 85], [31, 86], 0], Any[[31, 86], [31, 87], 0], Any[[31, 87], [31, 88], 0], Any[[31, 88], [31, 89], 0], Any[[31, 89], [31, 90], 0], Any[[31, 90], [31, 91], 0], Any[[31, 91], [31, 92], 0], Any[[31, 92], [31, 93], 0], Any[[31, 93], [31, 94], 0], Any[[31, 94], [31, 95], 0], Any[[31, 95], [31, 96], 0], Any[[31, 96], [31, 97], 0], Any[[31, 97], [31, 98], 0], Any[[31, 98], [31, 99], 0], Any[[31, 99], [34, 101], 294.89962974724665]]\n",
      "Any[Any[[0, 0], [24, 2], 201.66740366206832], Any[[24, 2], [24, 3], 0], Any[[24, 3], [24, 4], 0], Any[[24, 4], [24, 5], 0], Any[[24, 5], [24, 6], 0], Any[[24, 6], [24, 7], 0], Any[[24, 7], [24, 8], 0], Any[[24, 8], [24, 9], 0], Any[[24, 9], [24, 10], 0], Any[[24, 10], [24, 11], 0], Any[[24, 11], [24, 12], 0], Any[[24, 12], [24, 13], 0], Any[[24, 13], [24, 14], 0], Any[[24, 14], [24, 15], 0], Any[[24, 15], [19, 16], 50.0], Any[[19, 16], [19, 17], 0], Any[[19, 17], [19, 18], 0], Any[[19, 18], [19, 19], 0], Any[[19, 19], [19, 20], 0], Any[[19, 20], [19, 21], 0], Any[[19, 21], [19, 22], 0], Any[[19, 22], [19, 23], 0], Any[[19, 23], [19, 24], 0], Any[[19, 24], [25, 30], 70.71067811865476], Any[[25, 30], [25, 31], 0], Any[[25, 31], [25, 32], 0], Any[[25, 32], [25, 33], 0], Any[[25, 33], [25, 34], 0], Any[[25, 34], [25, 35], 0], Any[[25, 35], [25, 36], 0], Any[[25, 36], [25, 37], 0], Any[[25, 37], [25, 38], 0], Any[[25, 38], [25, 39], 0], Any[[25, 39], [25, 40], 0], Any[[25, 40], [25, 41], 0], Any[[25, 41], [25, 42], 0], Any[[25, 42], [25, 43], 0], Any[[25, 43], [25, 44], 0], Any[[25, 44], [25, 45], 0], Any[[25, 45], [25, 46], 0], Any[[25, 46], [25, 47], 0], Any[[25, 47], [25, 48], 0], Any[[25, 48], [25, 49], 0], Any[[25, 49], [25, 50], 0], Any[[25, 50], [25, 51], 0], Any[[25, 51], [25, 52], 0], Any[[25, 52], [25, 53], 0], Any[[25, 53], [25, 54], 0], Any[[25, 54], [25, 55], 0], Any[[25, 55], [25, 56], 0], Any[[25, 56], [25, 57], 0], Any[[25, 57], [25, 58], 0], Any[[25, 58], [25, 59], 0], Any[[25, 59], [25, 60], 0], Any[[25, 60], [25, 61], 0], Any[[25, 61], [25, 62], 0], Any[[25, 62], [25, 63], 0], Any[[25, 63], [25, 64], 0], Any[[25, 64], [25, 65], 0], Any[[25, 65], [25, 66], 0], Any[[25, 66], [25, 67], 0], Any[[25, 67], [25, 68], 0], Any[[25, 68], [25, 69], 0], Any[[25, 69], [25, 70], 0], Any[[25, 70], [25, 71], 0], Any[[25, 71], [25, 72], 0], Any[[25, 72], [34, 74], 225.20476212554047]]\n",
      "Any[Any[[0, 0], [21, 5], 224.67747764943636], Any[[21, 5], [21, 6], 0], Any[[21, 6], [21, 7], 0], Any[[21, 7], [21, 8], 0], Any[[21, 8], [22, 10], 50.0], Any[[22, 10], [22, 11], 0], Any[[22, 11], [22, 12], 0], Any[[22, 12], [22, 13], 0], Any[[22, 13], [22, 14], 0], Any[[22, 14], [22, 15], 0], Any[[22, 15], [22, 16], 0], Any[[22, 16], [15, 17], 158.11388300841898], Any[[15, 17], [15, 18], 0], Any[[15, 18], [15, 19], 0], Any[[15, 19], [15, 20], 0], Any[[15, 20], [15, 21], 0], Any[[15, 21], [15, 22], 0], Any[[15, 22], [15, 23], 0], Any[[15, 23], [15, 24], 0], Any[[15, 24], [15, 25], 0], Any[[15, 25], [15, 26], 0], Any[[15, 26], [15, 27], 0], Any[[15, 27], [15, 28], 0], Any[[15, 28], [15, 29], 0], Any[[15, 29], [15, 30], 0], Any[[15, 30], [15, 31], 0], Any[[15, 31], [15, 32], 0], Any[[15, 32], [15, 33], 0], Any[[15, 33], [15, 34], 0], Any[[15, 34], [15, 35], 0], Any[[15, 35], [15, 36], 0], Any[[15, 36], [15, 37], 0], Any[[15, 37], [15, 38], 0], Any[[15, 38], [15, 39], 0], Any[[15, 39], [34, 40], 44.40005248753111]]\n",
      "Any[Any[[0, 0], [8, 5], 186.43714834802003], Any[[8, 5], [8, 6], 0], Any[[8, 6], [8, 7], 0], Any[[8, 7], [8, 8], 0], Any[[8, 8], [8, 9], 0], Any[[8, 9], [8, 10], 0], Any[[8, 10], [8, 11], 0], Any[[8, 11], [8, 12], 0], Any[[8, 12], [8, 13], 0], Any[[8, 13], [8, 14], 0], Any[[8, 14], [8, 15], 0], Any[[8, 15], [8, 16], 0], Any[[8, 16], [8, 17], 0], Any[[8, 17], [8, 18], 0], Any[[8, 18], [8, 19], 0], Any[[8, 19], [8, 20], 0], Any[[8, 20], [8, 21], 0], Any[[8, 21], [8, 22], 0], Any[[8, 22], [8, 23], 0], Any[[8, 23], [8, 24], 0], Any[[8, 24], [8, 25], 0], Any[[8, 25], [8, 26], 0], Any[[8, 26], [8, 27], 0], Any[[8, 27], [8, 28], 0], Any[[8, 28], [8, 29], 0], Any[[8, 29], [8, 30], 0], Any[[8, 30], [8, 31], 0], Any[[8, 31], [8, 32], 0], Any[[8, 32], [8, 33], 0], Any[[8, 33], [8, 34], 0], Any[[8, 34], [8, 35], 0], Any[[8, 35], [8, 36], 0], Any[[8, 36], [8, 37], 0], Any[[8, 37], [8, 38], 0], Any[[8, 38], [34, 40], 186.43714834802003]]\n",
      "Any[Any[[0, 0], [21, 5], 224.67747764943636], Any[[21, 5], [21, 6], 0], Any[[21, 6], [21, 7], 0], Any[[21, 7], [21, 8], 0], Any[[21, 8], [21, 9], 0], Any[[21, 9], [21, 10], 0], Any[[21, 10], [21, 11], 0], Any[[21, 11], [21, 12], 0], Any[[21, 12], [21, 13], 0], Any[[21, 13], [21, 14], 0], Any[[21, 14], [21, 15], 0], Any[[21, 15], [21, 16], 0], Any[[21, 16], [24, 21], 200.0], Any[[24, 21], [24, 22], 0], Any[[24, 22], [24, 23], 0], Any[[24, 23], [24, 24], 0], Any[[24, 24], [24, 25], 0], Any[[24, 25], [24, 26], 0], Any[[24, 26], [24, 27], 0], Any[[24, 27], [24, 28], 0], Any[[24, 28], [24, 29], 0], Any[[24, 29], [24, 30], 0], Any[[24, 30], [24, 31], 0], Any[[24, 31], [24, 32], 0], Any[[24, 32], [24, 33], 0], Any[[24, 33], [24, 34], 0], Any[[24, 34], [24, 35], 0], Any[[24, 35], [24, 36], 0], Any[[24, 36], [24, 37], 0], Any[[24, 37], [24, 38], 0], Any[[24, 38], [24, 39], 0], Any[[24, 39], [24, 40], 0], Any[[24, 40], [24, 41], 0], Any[[24, 41], [24, 42], 0], Any[[24, 42], [24, 43], 0], Any[[24, 43], [24, 44], 0], Any[[24, 44], [24, 45], 0], Any[[24, 45], [24, 46], 0], Any[[24, 46], [24, 47], 0], Any[[24, 47], [24, 48], 0], Any[[24, 48], [24, 49], 0], Any[[24, 49], [24, 50], 0], Any[[24, 50], [24, 51], 0], Any[[24, 51], [24, 52], 0], Any[[24, 52], [24, 53], 0], Any[[24, 53], [24, 54], 0], Any[[24, 54], [24, 55], 0], Any[[24, 55], [24, 56], 0], Any[[24, 56], [24, 57], 0], Any[[24, 57], [24, 58], 0], Any[[24, 58], [24, 59], 0], Any[[24, 59], [24, 60], 0], Any[[24, 60], [24, 61], 0], Any[[24, 61], [24, 62], 0], Any[[24, 62], [24, 63], 0], Any[[24, 63], [24, 64], 0], Any[[24, 64], [24, 65], 0], Any[[24, 65], [24, 66], 0], Any[[24, 66], [24, 67], 0], Any[[24, 67], [24, 68], 0], Any[[24, 68], [24, 69], 0], Any[[24, 69], [24, 70], 0], Any[[24, 70], [24, 71], 0], Any[[24, 71], [24, 72], 0], Any[[24, 72], [24, 73], 0], Any[[24, 73], [24, 74], 0], Any[[24, 74], [24, 75], 0], Any[[24, 75], [24, 76], 0], Any[[24, 76], [24, 77], 0], Any[[24, 77], [24, 78], 0], Any[[24, 78], [24, 79], 0], Any[[24, 79], [24, 80], 0], Any[[24, 80], [34, 82], 201.66740366206832]]\n",
      "Any[Any[[0, 0], [16, 9], 44.93114560210072], Any[[16, 9], [16, 10], 0], Any[[16, 10], [16, 11], 0], Any[[16, 11], [17, 16], 70.71067811865476], Any[[17, 16], [17, 17], 0], Any[[17, 17], [17, 18], 0], Any[[17, 18], [17, 19], 0], Any[[17, 19], [17, 20], 0], Any[[17, 20], [17, 21], 0], Any[[17, 21], [17, 22], 0], Any[[17, 22], [17, 23], 0], Any[[17, 23], [17, 24], 0], Any[[17, 24], [16, 26], 70.71067811865476], Any[[16, 26], [16, 27], 0], Any[[16, 27], [16, 28], 0], Any[[16, 28], [16, 29], 0], Any[[16, 29], [16, 30], 0], Any[[16, 30], [16, 31], 0], Any[[16, 31], [16, 32], 0], Any[[16, 32], [16, 33], 0], Any[[16, 33], [16, 34], 0], Any[[16, 34], [16, 35], 0], Any[[16, 35], [16, 36], 0], Any[[16, 36], [16, 37], 0], Any[[16, 37], [16, 38], 0], Any[[16, 38], [16, 39], 0], Any[[16, 39], [34, 40], 44.93114560210072]]\n"
     ]
    }
   ],
   "source": [
    "for xindex in 1:length(last_x)\n",
    "    if last_x[xindex] > 1e-7\n",
    "        println(cov_routes[xindex])\n",
    "    end\n",
    "end"
   ]
  }
 ],
 "metadata": {
  "kernelspec": {
   "display_name": "Julia 1.9.1",
   "language": "julia",
   "name": "julia-1.9"
  },
  "language_info": {
   "file_extension": ".jl",
   "mimetype": "application/julia",
   "name": "julia",
   "version": "1.9.1"
  }
 },
 "nbformat": 4,
 "nbformat_minor": 5
}
