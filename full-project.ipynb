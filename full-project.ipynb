{
 "cells": [
  {
   "cell_type": "markdown",
   "id": "1f549ee9",
   "metadata": {},
   "source": [
    "# [0] Imports"
   ]
  },
  {
   "cell_type": "code",
   "execution_count": 3,
   "id": "6fa98331",
   "metadata": {},
   "outputs": [],
   "source": [
    "import Pkg;\n",
    "\n",
    "using LinearAlgebra, Random, Gurobi, JuMP, Distributions, Plots, LazySets"
   ]
  },
  {
   "cell_type": "markdown",
   "id": "d5796265",
   "metadata": {},
   "source": [
    "# [1] Setup"
   ]
  },
  {
   "cell_type": "markdown",
   "id": "f3ef7672",
   "metadata": {},
   "source": [
    "## [1a] Initialize variables\n",
    "Many parameters need to be set up and initialized so they can be called upon later in the code according to the Overleaf document."
   ]
  },
  {
   "cell_type": "code",
   "execution_count": 4,
   "id": "6dfb2476",
   "metadata": {},
   "outputs": [],
   "source": [
    "n_jobs = 25\n",
    "n_vehicles_jobs = 15\n",
    "n_vehicles_coverage = 10\n",
    "\n",
    "#Optimization over 6 hours with a time-step of 10 minutes, T = # of timesteps\n",
    "T = 50\n",
    "\n",
    "#=\n",
    "The following definitions help with code for our problem\n",
    "and are not found in the formulation, \n",
    "but indirectly necessary when calculated by parameters\n",
    "=#\n",
    "\n",
    "#Minimal length of a job is two-time period\n",
    "min_duration = 2\n",
    "max_duration = 6\n",
    "#Speed is in m/10minutes = m/interval\n",
    "speed = 1000/6\n",
    "#Radius for coverage is 50m\n",
    "coverage_distance = 50\n",
    "#Size of the square for jobs location in meters\n",
    "size = 500\n",
    "#Size of the mesh for the coverage vehicles locations\n",
    "step = 50;"
   ]
  },
  {
   "cell_type": "markdown",
   "id": "f381a6f7",
   "metadata": {},
   "source": [
    "## [1b] Create locations and time-windows \n",
    "\n",
    "I will put many of these initialization parts into functions.\n",
    "\n",
    "We create clusters to beautify the problem - rather than truly random task locations we give it some structure. This is just an element of our artificial data!"
   ]
  },
  {
   "cell_type": "code",
   "execution_count": 5,
   "id": "1505d8a7",
   "metadata": {},
   "outputs": [
    {
     "data": {
      "text/plain": [
       "create_cluster_sizes (generic function with 1 method)"
      ]
     },
     "execution_count": 5,
     "metadata": {},
     "output_type": "execute_result"
    }
   ],
   "source": [
    "# We set the seed so that we always have the same result\n",
    "Random.seed!(1234)\n",
    "\n",
    "#=\n",
    "Our 'creative' strategy is to create jobs in small clusters.\n",
    "Then, for each cluster, we include some variation on the locations\n",
    "of the job.\n",
    "=#\n",
    "\n",
    "function create_cluster_sizes(jobs_total)\n",
    "    #=\n",
    "    Given a total number of jobs we need to create, \n",
    "    creates cluster SIZES. For instance, if we have 15 jobs,\n",
    "    one possible output is 3, 4, 5, 3.\n",
    "    \n",
    "    returns cluster, which is an array listing the sizes of clusters.\n",
    "    =#\n",
    "    Random.seed!(1234)\n",
    "    jobs_created = 0\n",
    "    cluster = []\n",
    "    while jobs_created != jobs_total\n",
    "        num_to_add = rand(min(3, jobs_total - jobs_created) : \n",
    "            min(Int((n_jobs/5)÷1), jobs_total - jobs_created))\n",
    "        jobs_created += num_to_add\n",
    "        push!(cluster, num_to_add)\n",
    "    end\n",
    "    \n",
    "    return cluster\n",
    "end"
   ]
  },
  {
   "cell_type": "code",
   "execution_count": 6,
   "id": "8912d2b8",
   "metadata": {},
   "outputs": [
    {
     "data": {
      "text/plain": [
       "7-element Vector{Any}:\n",
       " 3\n",
       " 4\n",
       " 3\n",
       " 5\n",
       " 4\n",
       " 4\n",
       " 2"
      ]
     },
     "execution_count": 6,
     "metadata": {},
     "output_type": "execute_result"
    }
   ],
   "source": [
    "# Create job and depot locations, time windows and work load for each job.\n",
    "time_windows = []\n",
    "locations = rand(Uniform(0,size), 1, 2)\n",
    "work_load = []\n",
    "#=\n",
    "time_windows is a list of tuples, with each tuple [s, e] specifying\n",
    "when a job must be performed, between s and e inclusive.\n",
    "\n",
    "work_load represents the duration of the job.\n",
    "\n",
    "time_windows tuple is the ONLY time the job can be completed.\n",
    "The job must be completed sometime *within* time_windows tuple.\n",
    "\n",
    "Note that sometimes, the tuple specifies exactly the time\n",
    "when we must work at that job, while other times,\n",
    "there is more flexibility because the tuple is particularly long\n",
    "compared to the work_load duration.\n",
    "=#\n",
    "\n",
    "cluster = create_cluster_sizes(n_jobs)"
   ]
  },
  {
   "cell_type": "markdown",
   "id": "3b67a44f",
   "metadata": {},
   "source": [
    "### Function to Create Time Windows and Work Load\n",
    "\n",
    "Critical parameters for the algorithm later on. We will create both the time windows allotted, as well as the time it takes to finish each job."
   ]
  },
  {
   "cell_type": "code",
   "execution_count": 7,
   "id": "dd5cd92a",
   "metadata": {},
   "outputs": [
    {
     "data": {
      "text/plain": [
       "create_time_windows_and_work_load (generic function with 1 method)"
      ]
     },
     "execution_count": 7,
     "metadata": {},
     "output_type": "execute_result"
    }
   ],
   "source": [
    "function create_time_windows_and_work_load(cluster_sizes, locations)\n",
    "    #=\n",
    "    parameters to pass in.\n",
    "    Realistically these should be put as parameters in the function \n",
    "    signature, but we can do this for ease...nothing too bad\n",
    "    \n",
    "    Returns time windows of the form [ [start, end], ...]\n",
    "    work_load of the durations of each job e.g. [5, 6, 4..]\n",
    "    locations\n",
    "    =#\n",
    "    Random.seed!(1234)\n",
    "    locations = rand(Uniform(0,size), 1, 2)\n",
    "    for size_c in cluster\n",
    "        first = rand(Uniform(0,size), 1, 2)\n",
    "        locations = vcat(locations, first)\n",
    "\n",
    "        job_begins = rand(2:10)\n",
    "        job_finish = rand((job_begins+min_duration):(job_begins+max_duration))\n",
    "        push!(time_windows, [job_begins, job_finish])\n",
    "\n",
    "        time_work = rand(min_duration:max(min_duration, job_finish - job_begins))\n",
    "        push!(work_load, time_work)\n",
    "\n",
    "        for neighbour in 1:(size_c-1)\n",
    "            new_x = rand(Uniform(max(0,first[1]-20), min(first[1]+20, size)), 1, 1)\n",
    "            new_y = rand(Uniform(max(0,first[2]-20), min(first[2]+20, size)), 1, 1)\n",
    "            new = hcat(new_x, new_y)\n",
    "            locations = vcat(locations, new)\n",
    "\n",
    "            job_begins = rand(job_finish:min(T-min_duration-2, job_finish + 6))\n",
    "            job_finish = rand((job_begins+min_duration):(min(job_begins+max_duration, T-2)))\n",
    "            push!(time_windows, [job_begins, job_finish])\n",
    "\n",
    "            time_work = rand(min_duration:min(max_duration, job_finish-job_begins))\n",
    "            push!(work_load, time_work)\n",
    "        end\n",
    "    end\n",
    "    \n",
    "    return [time_windows, work_load, locations]\n",
    "end"
   ]
  },
  {
   "cell_type": "code",
   "execution_count": 8,
   "id": "aa8f9e3b",
   "metadata": {},
   "outputs": [
    {
     "name": "stdout",
     "output_type": "stream",
     "text": [
      "Time Windows\n",
      "[5, 8]\n",
      "[13, 17]\n",
      "[20, 25]\n",
      "[8, 10]\n",
      "[14, 17]\n",
      "[22, 26]\n",
      "[30, 35]\n",
      "[2, 8]\n",
      "[11, 14]\n",
      "[18, 22]\n",
      "[9, 13]\n",
      "[14, 17]\n",
      "[21, 24]\n",
      "[27, 29]\n",
      "[31, 37]\n",
      "[2, 5]\n",
      "[8, 10]\n",
      "[12, 17]\n",
      "[17, 21]\n",
      "[10, 14]\n",
      "[15, 20]\n",
      "[24, 27]\n",
      "[27, 33]\n",
      "[4, 9]\n",
      "[9, 15]\n",
      "Work Loads Any[3, 4, 5, 2, 2, 3, 4, 3, 2, 4, 4, 3, 3, 2, 5, 3, 2, 3, 3, 3, 4, 2, 3, 4, 5]\n"
     ]
    }
   ],
   "source": [
    "time_windows, work_load, locations = create_time_windows_and_work_load(cluster, locations)\n",
    "#=\n",
    "now, \n",
    "\n",
    "time_windows looks like [ [8, 10], [16, 21], ... , [16, 21]]\n",
    "\n",
    "work_load looks like [2, 5, 2, 4, 2, 2, ..., 2, 5]\n",
    "=#\n",
    "\n",
    "#Compute distances between each locations created\n",
    "distances = [LinearAlgebra.norm(locations[i, :] .- locations[j, :]) for i=1:n_jobs+1, j = 1:n_jobs+1];\n",
    "\n",
    "println(\"Time Windows\")\n",
    "for time_window in time_windows\n",
    "    println(time_window)\n",
    "end\n",
    "\n",
    "println(\"Work Loads \", work_load)"
   ]
  },
  {
   "cell_type": "code",
   "execution_count": 9,
   "id": "5f61ca14",
   "metadata": {
    "scrolled": false
   },
   "outputs": [
    {
     "name": "stdout",
     "output_type": "stream",
     "text": [
      "Locations: [162.98836443179744 274.5255681577834; 109.29332740941533 447.12271410049414; 121.1152053108041 446.89270877611096; 89.59124765472993 435.09777866446035; 323.92765788592794 498.332645718842; 326.53347225637947 483.83207561135157; 328.32265251259605 492.9102875883275; 309.1686841347623 498.8397830821424; 36.35807104610789 350.5579177570377; 47.090405717384044 341.3203068534036; 55.48085983316444 364.68758998092676; 260.3707024335765 470.9155090761928; 260.37715114996485 479.54934664105195; 247.26012681195274 464.00956357114217; 240.48176081945687 456.302922303405; 276.6482779863586 455.5862703353655; 239.93121460946887 474.9841599335543; 251.64446751105916 493.673348915355; 246.70672450784087 490.66852195024524; 232.51197192211055 487.17296281307057; 244.46684180873675 245.79037260667468; 225.94275471532777 256.0041140341042; 231.9341041485549 256.19089982535576; 241.8876807998831 230.46206318844872; 73.90222246114125 139.66111885815096; 65.10392466179182 147.0898582966076]\n"
     ]
    }
   ],
   "source": [
    "# locations - these are Cartesian coordinates telling us where stations are in the plane\n",
    "print(\"Locations: \", locations, \"\\n\")"
   ]
  },
  {
   "cell_type": "markdown",
   "id": "ed28e558",
   "metadata": {},
   "source": [
    "### A little exercise: plot the task locations"
   ]
  },
  {
   "cell_type": "code",
   "execution_count": 10,
   "id": "f5f0012e",
   "metadata": {},
   "outputs": [
    {
     "data": {
      "image/svg+xml": [
       "<?xml version=\"1.0\" encoding=\"utf-8\"?>\n",
       "<svg xmlns=\"http://www.w3.org/2000/svg\" xmlns:xlink=\"http://www.w3.org/1999/xlink\" width=\"600\" height=\"400\" viewBox=\"0 0 2400 1600\">\n",
       "<defs>\n",
       "  <clipPath id=\"clip920\">\n",
       "    <rect x=\"0\" y=\"0\" width=\"2400\" height=\"1600\"/>\n",
       "  </clipPath>\n",
       "</defs>\n",
       "<path clip-path=\"url(#clip920)\" d=\"\n",
       "M0 1600 L2400 1600 L2400 0 L0 0  Z\n",
       "  \" fill=\"#ffffff\" fill-rule=\"evenodd\" fill-opacity=\"1\"/>\n",
       "<defs>\n",
       "  <clipPath id=\"clip921\">\n",
       "    <rect x=\"480\" y=\"0\" width=\"1681\" height=\"1600\"/>\n",
       "  </clipPath>\n",
       "</defs>\n",
       "<path clip-path=\"url(#clip920)\" d=\"\n",
       "M172.015 1486.45 L2352.76 1486.45 L2352.76 47.2441 L172.015 47.2441  Z\n",
       "  \" fill=\"#ffffff\" fill-rule=\"evenodd\" fill-opacity=\"1\"/>\n",
       "<defs>\n",
       "  <clipPath id=\"clip922\">\n",
       "    <rect x=\"172\" y=\"47\" width=\"2182\" height=\"1440\"/>\n",
       "  </clipPath>\n",
       "</defs>\n",
       "<polyline clip-path=\"url(#clip922)\" style=\"stroke:#000000; stroke-linecap:round; stroke-linejoin:round; stroke-width:2; stroke-opacity:0.1; fill:none\" points=\"\n",
       "  517.149,1486.45 517.149,47.2441 \n",
       "  \"/>\n",
       "<polyline clip-path=\"url(#clip922)\" style=\"stroke:#000000; stroke-linecap:round; stroke-linejoin:round; stroke-width:2; stroke-opacity:0.1; fill:none\" points=\"\n",
       "  962.478,1486.45 962.478,47.2441 \n",
       "  \"/>\n",
       "<polyline clip-path=\"url(#clip922)\" style=\"stroke:#000000; stroke-linecap:round; stroke-linejoin:round; stroke-width:2; stroke-opacity:0.1; fill:none\" points=\"\n",
       "  1407.81,1486.45 1407.81,47.2441 \n",
       "  \"/>\n",
       "<polyline clip-path=\"url(#clip922)\" style=\"stroke:#000000; stroke-linecap:round; stroke-linejoin:round; stroke-width:2; stroke-opacity:0.1; fill:none\" points=\"\n",
       "  1853.13,1486.45 1853.13,47.2441 \n",
       "  \"/>\n",
       "<polyline clip-path=\"url(#clip922)\" style=\"stroke:#000000; stroke-linecap:round; stroke-linejoin:round; stroke-width:2; stroke-opacity:0.1; fill:none\" points=\"\n",
       "  2298.46,1486.45 2298.46,47.2441 \n",
       "  \"/>\n",
       "<polyline clip-path=\"url(#clip920)\" style=\"stroke:#000000; stroke-linecap:round; stroke-linejoin:round; stroke-width:4; stroke-opacity:1; fill:none\" points=\"\n",
       "  172.015,1486.45 2352.76,1486.45 \n",
       "  \"/>\n",
       "<polyline clip-path=\"url(#clip920)\" style=\"stroke:#000000; stroke-linecap:round; stroke-linejoin:round; stroke-width:4; stroke-opacity:1; fill:none\" points=\"\n",
       "  517.149,1486.45 517.149,1467.55 \n",
       "  \"/>\n",
       "<polyline clip-path=\"url(#clip920)\" style=\"stroke:#000000; stroke-linecap:round; stroke-linejoin:round; stroke-width:4; stroke-opacity:1; fill:none\" points=\"\n",
       "  962.478,1486.45 962.478,1467.55 \n",
       "  \"/>\n",
       "<polyline clip-path=\"url(#clip920)\" style=\"stroke:#000000; stroke-linecap:round; stroke-linejoin:round; stroke-width:4; stroke-opacity:1; fill:none\" points=\"\n",
       "  1407.81,1486.45 1407.81,1467.55 \n",
       "  \"/>\n",
       "<polyline clip-path=\"url(#clip920)\" style=\"stroke:#000000; stroke-linecap:round; stroke-linejoin:round; stroke-width:4; stroke-opacity:1; fill:none\" points=\"\n",
       "  1853.13,1486.45 1853.13,1467.55 \n",
       "  \"/>\n",
       "<polyline clip-path=\"url(#clip920)\" style=\"stroke:#000000; stroke-linecap:round; stroke-linejoin:round; stroke-width:4; stroke-opacity:1; fill:none\" points=\"\n",
       "  2298.46,1486.45 2298.46,1467.55 \n",
       "  \"/>\n",
       "<path clip-path=\"url(#clip920)\" d=\"M476.756 1544.91 L484.395 1544.91 L484.395 1518.55 L476.085 1520.21 L476.085 1515.95 L484.349 1514.29 L489.024 1514.29 L489.024 1544.91 L496.663 1544.91 L496.663 1548.85 L476.756 1548.85 L476.756 1544.91 Z\" fill=\"#000000\" fill-rule=\"evenodd\" fill-opacity=\"1\" /><path clip-path=\"url(#clip920)\" d=\"M516.108 1517.37 Q512.497 1517.37 510.668 1520.93 Q508.862 1524.47 508.862 1531.6 Q508.862 1538.71 510.668 1542.27 Q512.497 1545.82 516.108 1545.82 Q519.742 1545.82 521.547 1542.27 Q523.376 1538.71 523.376 1531.6 Q523.376 1524.47 521.547 1520.93 Q519.742 1517.37 516.108 1517.37 M516.108 1513.66 Q521.918 1513.66 524.973 1518.27 Q528.052 1522.85 528.052 1531.6 Q528.052 1540.33 524.973 1544.94 Q521.918 1549.52 516.108 1549.52 Q510.298 1549.52 507.219 1544.94 Q504.163 1540.33 504.163 1531.6 Q504.163 1522.85 507.219 1518.27 Q510.298 1513.66 516.108 1513.66 Z\" fill=\"#000000\" fill-rule=\"evenodd\" fill-opacity=\"1\" /><path clip-path=\"url(#clip920)\" d=\"M546.27 1517.37 Q542.658 1517.37 540.83 1520.93 Q539.024 1524.47 539.024 1531.6 Q539.024 1538.71 540.83 1542.27 Q542.658 1545.82 546.27 1545.82 Q549.904 1545.82 551.709 1542.27 Q553.538 1538.71 553.538 1531.6 Q553.538 1524.47 551.709 1520.93 Q549.904 1517.37 546.27 1517.37 M546.27 1513.66 Q552.08 1513.66 555.135 1518.27 Q558.214 1522.85 558.214 1531.6 Q558.214 1540.33 555.135 1544.94 Q552.08 1549.52 546.27 1549.52 Q540.459 1549.52 537.381 1544.94 Q534.325 1540.33 534.325 1531.6 Q534.325 1522.85 537.381 1518.27 Q540.459 1513.66 546.27 1513.66 Z\" fill=\"#000000\" fill-rule=\"evenodd\" fill-opacity=\"1\" /><path clip-path=\"url(#clip920)\" d=\"M926.17 1544.91 L942.489 1544.91 L942.489 1548.85 L920.545 1548.85 L920.545 1544.91 Q923.207 1542.16 927.79 1537.53 Q932.397 1532.88 933.577 1531.53 Q935.823 1529.01 936.702 1527.27 Q937.605 1525.51 937.605 1523.82 Q937.605 1521.07 935.661 1519.33 Q933.739 1517.6 930.637 1517.6 Q928.438 1517.6 925.985 1518.36 Q923.554 1519.13 920.776 1520.68 L920.776 1515.95 Q923.6 1514.82 926.054 1514.24 Q928.508 1513.66 930.545 1513.66 Q935.915 1513.66 939.11 1516.35 Q942.304 1519.03 942.304 1523.52 Q942.304 1525.65 941.494 1527.57 Q940.707 1529.47 938.6 1532.07 Q938.022 1532.74 934.92 1535.95 Q931.818 1539.15 926.17 1544.91 Z\" fill=\"#000000\" fill-rule=\"evenodd\" fill-opacity=\"1\" /><path clip-path=\"url(#clip920)\" d=\"M962.304 1517.37 Q958.693 1517.37 956.864 1520.93 Q955.059 1524.47 955.059 1531.6 Q955.059 1538.71 956.864 1542.27 Q958.693 1545.82 962.304 1545.82 Q965.938 1545.82 967.744 1542.27 Q969.572 1538.71 969.572 1531.6 Q969.572 1524.47 967.744 1520.93 Q965.938 1517.37 962.304 1517.37 M962.304 1513.66 Q968.114 1513.66 971.17 1518.27 Q974.248 1522.85 974.248 1531.6 Q974.248 1540.33 971.17 1544.94 Q968.114 1549.52 962.304 1549.52 Q956.494 1549.52 953.415 1544.94 Q950.36 1540.33 950.36 1531.6 Q950.36 1522.85 953.415 1518.27 Q956.494 1513.66 962.304 1513.66 Z\" fill=\"#000000\" fill-rule=\"evenodd\" fill-opacity=\"1\" /><path clip-path=\"url(#clip920)\" d=\"M992.466 1517.37 Q988.855 1517.37 987.026 1520.93 Q985.22 1524.47 985.22 1531.6 Q985.22 1538.71 987.026 1542.27 Q988.855 1545.82 992.466 1545.82 Q996.1 1545.82 997.906 1542.27 Q999.734 1538.71 999.734 1531.6 Q999.734 1524.47 997.906 1520.93 Q996.1 1517.37 992.466 1517.37 M992.466 1513.66 Q998.276 1513.66 1001.33 1518.27 Q1004.41 1522.85 1004.41 1531.6 Q1004.41 1540.33 1001.33 1544.94 Q998.276 1549.52 992.466 1549.52 Q986.656 1549.52 983.577 1544.94 Q980.521 1540.33 980.521 1531.6 Q980.521 1522.85 983.577 1518.27 Q986.656 1513.66 992.466 1513.66 Z\" fill=\"#000000\" fill-rule=\"evenodd\" fill-opacity=\"1\" /><path clip-path=\"url(#clip920)\" d=\"M1381.57 1530.21 Q1384.92 1530.93 1386.8 1533.2 Q1388.7 1535.47 1388.7 1538.8 Q1388.7 1543.92 1385.18 1546.72 Q1381.66 1549.52 1375.18 1549.52 Q1373 1549.52 1370.69 1549.08 Q1368.4 1548.66 1365.94 1547.81 L1365.94 1543.29 Q1367.89 1544.43 1370.2 1545.01 Q1372.52 1545.58 1375.04 1545.58 Q1379.44 1545.58 1381.73 1543.85 Q1384.04 1542.11 1384.04 1538.8 Q1384.04 1535.75 1381.89 1534.03 Q1379.76 1532.3 1375.94 1532.3 L1371.91 1532.3 L1371.91 1528.45 L1376.13 1528.45 Q1379.58 1528.45 1381.41 1527.09 Q1383.23 1525.7 1383.23 1523.11 Q1383.23 1520.45 1381.34 1519.03 Q1379.46 1517.6 1375.94 1517.6 Q1374.02 1517.6 1371.82 1518.01 Q1369.62 1518.43 1366.98 1519.31 L1366.98 1515.14 Q1369.65 1514.4 1371.96 1514.03 Q1374.3 1513.66 1376.36 1513.66 Q1381.68 1513.66 1384.78 1516.09 Q1387.89 1518.5 1387.89 1522.62 Q1387.89 1525.49 1386.24 1527.48 Q1384.6 1529.45 1381.57 1530.21 Z\" fill=\"#000000\" fill-rule=\"evenodd\" fill-opacity=\"1\" /><path clip-path=\"url(#clip920)\" d=\"M1407.56 1517.37 Q1403.95 1517.37 1402.12 1520.93 Q1400.32 1524.47 1400.32 1531.6 Q1400.32 1538.71 1402.12 1542.27 Q1403.95 1545.82 1407.56 1545.82 Q1411.2 1545.82 1413 1542.27 Q1414.83 1538.71 1414.83 1531.6 Q1414.83 1524.47 1413 1520.93 Q1411.2 1517.37 1407.56 1517.37 M1407.56 1513.66 Q1413.37 1513.66 1416.43 1518.27 Q1419.51 1522.85 1419.51 1531.6 Q1419.51 1540.33 1416.43 1544.94 Q1413.37 1549.52 1407.56 1549.52 Q1401.75 1549.52 1398.67 1544.94 Q1395.62 1540.33 1395.62 1531.6 Q1395.62 1522.85 1398.67 1518.27 Q1401.75 1513.66 1407.56 1513.66 Z\" fill=\"#000000\" fill-rule=\"evenodd\" fill-opacity=\"1\" /><path clip-path=\"url(#clip920)\" d=\"M1437.72 1517.37 Q1434.11 1517.37 1432.28 1520.93 Q1430.48 1524.47 1430.48 1531.6 Q1430.48 1538.71 1432.28 1542.27 Q1434.11 1545.82 1437.72 1545.82 Q1441.36 1545.82 1443.16 1542.27 Q1444.99 1538.71 1444.99 1531.6 Q1444.99 1524.47 1443.16 1520.93 Q1441.36 1517.37 1437.72 1517.37 M1437.72 1513.66 Q1443.53 1513.66 1446.59 1518.27 Q1449.67 1522.85 1449.67 1531.6 Q1449.67 1540.33 1446.59 1544.94 Q1443.53 1549.52 1437.72 1549.52 Q1431.91 1549.52 1428.84 1544.94 Q1425.78 1540.33 1425.78 1531.6 Q1425.78 1522.85 1428.84 1518.27 Q1431.91 1513.66 1437.72 1513.66 Z\" fill=\"#000000\" fill-rule=\"evenodd\" fill-opacity=\"1\" /><path clip-path=\"url(#clip920)\" d=\"M1826.22 1518.36 L1814.42 1536.81 L1826.22 1536.81 L1826.22 1518.36 M1825 1514.29 L1830.88 1514.29 L1830.88 1536.81 L1835.81 1536.81 L1835.81 1540.7 L1830.88 1540.7 L1830.88 1548.85 L1826.22 1548.85 L1826.22 1540.7 L1810.62 1540.7 L1810.62 1536.19 L1825 1514.29 Z\" fill=\"#000000\" fill-rule=\"evenodd\" fill-opacity=\"1\" /><path clip-path=\"url(#clip920)\" d=\"M1853.54 1517.37 Q1849.93 1517.37 1848.1 1520.93 Q1846.29 1524.47 1846.29 1531.6 Q1846.29 1538.71 1848.1 1542.27 Q1849.93 1545.82 1853.54 1545.82 Q1857.17 1545.82 1858.98 1542.27 Q1860.81 1538.71 1860.81 1531.6 Q1860.81 1524.47 1858.98 1520.93 Q1857.17 1517.37 1853.54 1517.37 M1853.54 1513.66 Q1859.35 1513.66 1862.4 1518.27 Q1865.48 1522.85 1865.48 1531.6 Q1865.48 1540.33 1862.4 1544.94 Q1859.35 1549.52 1853.54 1549.52 Q1847.73 1549.52 1844.65 1544.94 Q1841.59 1540.33 1841.59 1531.6 Q1841.59 1522.85 1844.65 1518.27 Q1847.73 1513.66 1853.54 1513.66 Z\" fill=\"#000000\" fill-rule=\"evenodd\" fill-opacity=\"1\" /><path clip-path=\"url(#clip920)\" d=\"M1883.7 1517.37 Q1880.09 1517.37 1878.26 1520.93 Q1876.46 1524.47 1876.46 1531.6 Q1876.46 1538.71 1878.26 1542.27 Q1880.09 1545.82 1883.7 1545.82 Q1887.34 1545.82 1889.14 1542.27 Q1890.97 1538.71 1890.97 1531.6 Q1890.97 1524.47 1889.14 1520.93 Q1887.34 1517.37 1883.7 1517.37 M1883.7 1513.66 Q1889.51 1513.66 1892.57 1518.27 Q1895.65 1522.85 1895.65 1531.6 Q1895.65 1540.33 1892.57 1544.94 Q1889.51 1549.52 1883.7 1549.52 Q1877.89 1549.52 1874.81 1544.94 Q1871.76 1540.33 1871.76 1531.6 Q1871.76 1522.85 1874.81 1518.27 Q1877.89 1513.66 1883.7 1513.66 Z\" fill=\"#000000\" fill-rule=\"evenodd\" fill-opacity=\"1\" /><path clip-path=\"url(#clip920)\" d=\"M2258.08 1514.29 L2276.44 1514.29 L2276.44 1518.22 L2262.36 1518.22 L2262.36 1526.7 Q2263.38 1526.35 2264.4 1526.19 Q2265.42 1526 2266.44 1526 Q2272.22 1526 2275.6 1529.17 Q2278.98 1532.34 2278.98 1537.76 Q2278.98 1543.34 2275.51 1546.44 Q2272.04 1549.52 2265.72 1549.52 Q2263.54 1549.52 2261.27 1549.15 Q2259.03 1548.78 2256.62 1548.04 L2256.62 1543.34 Q2258.71 1544.47 2260.93 1545.03 Q2263.15 1545.58 2265.63 1545.58 Q2269.63 1545.58 2271.97 1543.48 Q2274.31 1541.37 2274.31 1537.76 Q2274.31 1534.15 2271.97 1532.04 Q2269.63 1529.94 2265.63 1529.94 Q2263.75 1529.94 2261.88 1530.35 Q2260.02 1530.77 2258.08 1531.65 L2258.08 1514.29 Z\" fill=\"#000000\" fill-rule=\"evenodd\" fill-opacity=\"1\" /><path clip-path=\"url(#clip920)\" d=\"M2298.2 1517.37 Q2294.58 1517.37 2292.76 1520.93 Q2290.95 1524.47 2290.95 1531.6 Q2290.95 1538.71 2292.76 1542.27 Q2294.58 1545.82 2298.2 1545.82 Q2301.83 1545.82 2303.64 1542.27 Q2305.46 1538.71 2305.46 1531.6 Q2305.46 1524.47 2303.64 1520.93 Q2301.83 1517.37 2298.2 1517.37 M2298.2 1513.66 Q2304.01 1513.66 2307.06 1518.27 Q2310.14 1522.85 2310.14 1531.6 Q2310.14 1540.33 2307.06 1544.94 Q2304.01 1549.52 2298.2 1549.52 Q2292.39 1549.52 2289.31 1544.94 Q2286.25 1540.33 2286.25 1531.6 Q2286.25 1522.85 2289.31 1518.27 Q2292.39 1513.66 2298.2 1513.66 Z\" fill=\"#000000\" fill-rule=\"evenodd\" fill-opacity=\"1\" /><path clip-path=\"url(#clip920)\" d=\"M2328.36 1517.37 Q2324.75 1517.37 2322.92 1520.93 Q2321.11 1524.47 2321.11 1531.6 Q2321.11 1538.71 2322.92 1542.27 Q2324.75 1545.82 2328.36 1545.82 Q2331.99 1545.82 2333.8 1542.27 Q2335.63 1538.71 2335.63 1531.6 Q2335.63 1524.47 2333.8 1520.93 Q2331.99 1517.37 2328.36 1517.37 M2328.36 1513.66 Q2334.17 1513.66 2337.22 1518.27 Q2340.3 1522.85 2340.3 1531.6 Q2340.3 1540.33 2337.22 1544.94 Q2334.17 1549.52 2328.36 1549.52 Q2322.55 1549.52 2319.47 1544.94 Q2316.41 1540.33 2316.41 1531.6 Q2316.41 1522.85 2319.47 1518.27 Q2322.55 1513.66 2328.36 1513.66 Z\" fill=\"#000000\" fill-rule=\"evenodd\" fill-opacity=\"1\" /><polyline clip-path=\"url(#clip922)\" style=\"stroke:#000000; stroke-linecap:round; stroke-linejoin:round; stroke-width:2; stroke-opacity:0.1; fill:none\" points=\"\n",
       "  172.015,1286.7 2352.76,1286.7 \n",
       "  \"/>\n",
       "<polyline clip-path=\"url(#clip922)\" style=\"stroke:#000000; stroke-linecap:round; stroke-linejoin:round; stroke-width:2; stroke-opacity:0.1; fill:none\" points=\"\n",
       "  172.015,986.144 2352.76,986.144 \n",
       "  \"/>\n",
       "<polyline clip-path=\"url(#clip922)\" style=\"stroke:#000000; stroke-linecap:round; stroke-linejoin:round; stroke-width:2; stroke-opacity:0.1; fill:none\" points=\"\n",
       "  172.015,685.592 2352.76,685.592 \n",
       "  \"/>\n",
       "<polyline clip-path=\"url(#clip922)\" style=\"stroke:#000000; stroke-linecap:round; stroke-linejoin:round; stroke-width:2; stroke-opacity:0.1; fill:none\" points=\"\n",
       "  172.015,385.041 2352.76,385.041 \n",
       "  \"/>\n",
       "<polyline clip-path=\"url(#clip922)\" style=\"stroke:#000000; stroke-linecap:round; stroke-linejoin:round; stroke-width:2; stroke-opacity:0.1; fill:none\" points=\"\n",
       "  172.015,84.4892 2352.76,84.4892 \n",
       "  \"/>\n",
       "<polyline clip-path=\"url(#clip920)\" style=\"stroke:#000000; stroke-linecap:round; stroke-linejoin:round; stroke-width:4; stroke-opacity:1; fill:none\" points=\"\n",
       "  172.015,1486.45 172.015,47.2441 \n",
       "  \"/>\n",
       "<polyline clip-path=\"url(#clip920)\" style=\"stroke:#000000; stroke-linecap:round; stroke-linejoin:round; stroke-width:4; stroke-opacity:1; fill:none\" points=\"\n",
       "  172.015,1286.7 190.912,1286.7 \n",
       "  \"/>\n",
       "<polyline clip-path=\"url(#clip920)\" style=\"stroke:#000000; stroke-linecap:round; stroke-linejoin:round; stroke-width:4; stroke-opacity:1; fill:none\" points=\"\n",
       "  172.015,986.144 190.912,986.144 \n",
       "  \"/>\n",
       "<polyline clip-path=\"url(#clip920)\" style=\"stroke:#000000; stroke-linecap:round; stroke-linejoin:round; stroke-width:4; stroke-opacity:1; fill:none\" points=\"\n",
       "  172.015,685.592 190.912,685.592 \n",
       "  \"/>\n",
       "<polyline clip-path=\"url(#clip920)\" style=\"stroke:#000000; stroke-linecap:round; stroke-linejoin:round; stroke-width:4; stroke-opacity:1; fill:none\" points=\"\n",
       "  172.015,385.041 190.912,385.041 \n",
       "  \"/>\n",
       "<polyline clip-path=\"url(#clip920)\" style=\"stroke:#000000; stroke-linecap:round; stroke-linejoin:round; stroke-width:4; stroke-opacity:1; fill:none\" points=\"\n",
       "  172.015,84.4892 190.912,84.4892 \n",
       "  \"/>\n",
       "<path clip-path=\"url(#clip920)\" d=\"M54.5569 1300.04 L62.1958 1300.04 L62.1958 1273.67 L53.8856 1275.34 L53.8856 1271.08 L62.1495 1269.42 L66.8254 1269.42 L66.8254 1300.04 L74.4642 1300.04 L74.4642 1303.98 L54.5569 1303.98 L54.5569 1300.04 Z\" fill=\"#000000\" fill-rule=\"evenodd\" fill-opacity=\"1\" /><path clip-path=\"url(#clip920)\" d=\"M93.9086 1272.49 Q90.2975 1272.49 88.4688 1276.06 Q86.6632 1279.6 86.6632 1286.73 Q86.6632 1293.84 88.4688 1297.4 Q90.2975 1300.94 93.9086 1300.94 Q97.5428 1300.94 99.3483 1297.4 Q101.177 1293.84 101.177 1286.73 Q101.177 1279.6 99.3483 1276.06 Q97.5428 1272.49 93.9086 1272.49 M93.9086 1268.79 Q99.7187 1268.79 102.774 1273.4 Q105.853 1277.98 105.853 1286.73 Q105.853 1295.46 102.774 1300.06 Q99.7187 1304.65 93.9086 1304.65 Q88.0984 1304.65 85.0197 1300.06 Q81.9642 1295.46 81.9642 1286.73 Q81.9642 1277.98 85.0197 1273.4 Q88.0984 1268.79 93.9086 1268.79 Z\" fill=\"#000000\" fill-rule=\"evenodd\" fill-opacity=\"1\" /><path clip-path=\"url(#clip920)\" d=\"M124.07 1272.49 Q120.459 1272.49 118.631 1276.06 Q116.825 1279.6 116.825 1286.73 Q116.825 1293.84 118.631 1297.4 Q120.459 1300.94 124.07 1300.94 Q127.705 1300.94 129.51 1297.4 Q131.339 1293.84 131.339 1286.73 Q131.339 1279.6 129.51 1276.06 Q127.705 1272.49 124.07 1272.49 M124.07 1268.79 Q129.881 1268.79 132.936 1273.4 Q136.015 1277.98 136.015 1286.73 Q136.015 1295.46 132.936 1300.06 Q129.881 1304.65 124.07 1304.65 Q118.26 1304.65 115.182 1300.06 Q112.126 1295.46 112.126 1286.73 Q112.126 1277.98 115.182 1273.4 Q118.26 1268.79 124.07 1268.79 Z\" fill=\"#000000\" fill-rule=\"evenodd\" fill-opacity=\"1\" /><path clip-path=\"url(#clip920)\" d=\"M57.7745 999.488 L74.0939 999.488 L74.0939 1003.42 L52.1495 1003.42 L52.1495 999.488 Q54.8115 996.734 59.3949 992.104 Q64.0013 987.452 65.1819 986.109 Q67.4272 983.586 68.3068 981.85 Q69.2096 980.09 69.2096 978.401 Q69.2096 975.646 67.2652 973.91 Q65.3439 972.174 62.2421 972.174 Q60.043 972.174 57.5893 972.938 Q55.1588 973.702 52.381 975.253 L52.381 970.53 Q55.2051 969.396 57.6588 968.817 Q60.1124 968.239 62.1495 968.239 Q67.5198 968.239 70.7142 970.924 Q73.9087 973.609 73.9087 978.1 Q73.9087 980.229 73.0985 982.151 Q72.3115 984.049 70.205 986.641 Q69.6263 987.313 66.5245 990.53 Q63.4226 993.725 57.7745 999.488 Z\" fill=\"#000000\" fill-rule=\"evenodd\" fill-opacity=\"1\" /><path clip-path=\"url(#clip920)\" d=\"M93.9086 971.942 Q90.2975 971.942 88.4688 975.507 Q86.6632 979.049 86.6632 986.178 Q86.6632 993.285 88.4688 996.85 Q90.2975 1000.39 93.9086 1000.39 Q97.5428 1000.39 99.3483 996.85 Q101.177 993.285 101.177 986.178 Q101.177 979.049 99.3483 975.507 Q97.5428 971.942 93.9086 971.942 M93.9086 968.239 Q99.7187 968.239 102.774 972.845 Q105.853 977.428 105.853 986.178 Q105.853 994.905 102.774 999.512 Q99.7187 1004.09 93.9086 1004.09 Q88.0984 1004.09 85.0197 999.512 Q81.9642 994.905 81.9642 986.178 Q81.9642 977.428 85.0197 972.845 Q88.0984 968.239 93.9086 968.239 Z\" fill=\"#000000\" fill-rule=\"evenodd\" fill-opacity=\"1\" /><path clip-path=\"url(#clip920)\" d=\"M124.07 971.942 Q120.459 971.942 118.631 975.507 Q116.825 979.049 116.825 986.178 Q116.825 993.285 118.631 996.85 Q120.459 1000.39 124.07 1000.39 Q127.705 1000.39 129.51 996.85 Q131.339 993.285 131.339 986.178 Q131.339 979.049 129.51 975.507 Q127.705 971.942 124.07 971.942 M124.07 968.239 Q129.881 968.239 132.936 972.845 Q136.015 977.428 136.015 986.178 Q136.015 994.905 132.936 999.512 Q129.881 1004.09 124.07 1004.09 Q118.26 1004.09 115.182 999.512 Q112.126 994.905 112.126 986.178 Q112.126 977.428 115.182 972.845 Q118.26 968.239 124.07 968.239 Z\" fill=\"#000000\" fill-rule=\"evenodd\" fill-opacity=\"1\" /><path clip-path=\"url(#clip920)\" d=\"M67.9133 684.238 Q71.2698 684.956 73.1448 687.224 Q75.0429 689.493 75.0429 692.826 Q75.0429 697.942 71.5244 700.743 Q68.0059 703.543 61.5245 703.543 Q59.3486 703.543 57.0338 703.104 Q54.7421 702.687 52.2884 701.831 L52.2884 697.317 Q54.2328 698.451 56.5477 699.03 Q58.8625 699.608 61.3856 699.608 Q65.7837 699.608 68.0754 697.872 Q70.3902 696.136 70.3902 692.826 Q70.3902 689.77 68.2374 688.057 Q66.1078 686.321 62.2884 686.321 L58.2606 686.321 L58.2606 682.479 L62.4735 682.479 Q65.9226 682.479 67.7513 681.113 Q69.58 679.724 69.58 677.132 Q69.58 674.47 67.6819 673.058 Q65.8069 671.622 62.2884 671.622 Q60.3671 671.622 58.168 672.039 Q55.969 672.456 53.3301 673.335 L53.3301 669.169 Q55.9921 668.428 58.3069 668.058 Q60.6449 667.687 62.705 667.687 Q68.0291 667.687 71.1309 670.118 Q74.2327 672.525 74.2327 676.645 Q74.2327 679.516 72.5892 681.507 Q70.9457 683.474 67.9133 684.238 Z\" fill=\"#000000\" fill-rule=\"evenodd\" fill-opacity=\"1\" /><path clip-path=\"url(#clip920)\" d=\"M93.9086 671.391 Q90.2975 671.391 88.4688 674.956 Q86.6632 678.497 86.6632 685.627 Q86.6632 692.733 88.4688 696.298 Q90.2975 699.84 93.9086 699.84 Q97.5428 699.84 99.3483 696.298 Q101.177 692.733 101.177 685.627 Q101.177 678.497 99.3483 674.956 Q97.5428 671.391 93.9086 671.391 M93.9086 667.687 Q99.7187 667.687 102.774 672.294 Q105.853 676.877 105.853 685.627 Q105.853 694.354 102.774 698.96 Q99.7187 703.543 93.9086 703.543 Q88.0984 703.543 85.0197 698.96 Q81.9642 694.354 81.9642 685.627 Q81.9642 676.877 85.0197 672.294 Q88.0984 667.687 93.9086 667.687 Z\" fill=\"#000000\" fill-rule=\"evenodd\" fill-opacity=\"1\" /><path clip-path=\"url(#clip920)\" d=\"M124.07 671.391 Q120.459 671.391 118.631 674.956 Q116.825 678.497 116.825 685.627 Q116.825 692.733 118.631 696.298 Q120.459 699.84 124.07 699.84 Q127.705 699.84 129.51 696.298 Q131.339 692.733 131.339 685.627 Q131.339 678.497 129.51 674.956 Q127.705 671.391 124.07 671.391 M124.07 667.687 Q129.881 667.687 132.936 672.294 Q136.015 676.877 136.015 685.627 Q136.015 694.354 132.936 698.96 Q129.881 703.543 124.07 703.543 Q118.26 703.543 115.182 698.96 Q112.126 694.354 112.126 685.627 Q112.126 676.877 115.182 672.294 Q118.26 667.687 124.07 667.687 Z\" fill=\"#000000\" fill-rule=\"evenodd\" fill-opacity=\"1\" /><path clip-path=\"url(#clip920)\" d=\"M66.5939 371.835 L54.7884 390.284 L66.5939 390.284 L66.5939 371.835 M65.367 367.761 L71.2466 367.761 L71.2466 390.284 L76.1772 390.284 L76.1772 394.173 L71.2466 394.173 L71.2466 402.321 L66.5939 402.321 L66.5939 394.173 L50.9921 394.173 L50.9921 389.659 L65.367 367.761 Z\" fill=\"#000000\" fill-rule=\"evenodd\" fill-opacity=\"1\" /><path clip-path=\"url(#clip920)\" d=\"M93.9086 370.839 Q90.2975 370.839 88.4688 374.404 Q86.6632 377.946 86.6632 385.075 Q86.6632 392.182 88.4688 395.747 Q90.2975 399.288 93.9086 399.288 Q97.5428 399.288 99.3483 395.747 Q101.177 392.182 101.177 385.075 Q101.177 377.946 99.3483 374.404 Q97.5428 370.839 93.9086 370.839 M93.9086 367.136 Q99.7187 367.136 102.774 371.742 Q105.853 376.325 105.853 385.075 Q105.853 393.802 102.774 398.409 Q99.7187 402.992 93.9086 402.992 Q88.0984 402.992 85.0197 398.409 Q81.9642 393.802 81.9642 385.075 Q81.9642 376.325 85.0197 371.742 Q88.0984 367.136 93.9086 367.136 Z\" fill=\"#000000\" fill-rule=\"evenodd\" fill-opacity=\"1\" /><path clip-path=\"url(#clip920)\" d=\"M124.07 370.839 Q120.459 370.839 118.631 374.404 Q116.825 377.946 116.825 385.075 Q116.825 392.182 118.631 395.747 Q120.459 399.288 124.07 399.288 Q127.705 399.288 129.51 395.747 Q131.339 392.182 131.339 385.075 Q131.339 377.946 129.51 374.404 Q127.705 370.839 124.07 370.839 M124.07 367.136 Q129.881 367.136 132.936 371.742 Q136.015 376.325 136.015 385.075 Q136.015 393.802 132.936 398.409 Q129.881 402.992 124.07 402.992 Q118.26 402.992 115.182 398.409 Q112.126 393.802 112.126 385.075 Q112.126 376.325 115.182 371.742 Q118.26 367.136 124.07 367.136 Z\" fill=\"#000000\" fill-rule=\"evenodd\" fill-opacity=\"1\" /><path clip-path=\"url(#clip920)\" d=\"M53.793 67.2092 L72.1494 67.2092 L72.1494 71.1444 L58.0754 71.1444 L58.0754 79.6166 Q59.0939 79.2693 60.1124 79.1073 Q61.131 78.9221 62.1495 78.9221 Q67.9365 78.9221 71.3161 82.0934 Q74.6957 85.2647 74.6957 90.6813 Q74.6957 96.26 71.2235 99.3618 Q67.7513 102.441 61.4319 102.441 Q59.256 102.441 56.9875 102.07 Q54.7421 101.7 52.3347 100.959 L52.3347 96.26 Q54.418 97.3943 56.6402 97.9498 Q58.8625 98.5054 61.3393 98.5054 Q65.3439 98.5054 67.6819 96.3989 Q70.0198 94.2924 70.0198 90.6813 Q70.0198 87.0702 67.6819 84.9638 Q65.3439 82.8573 61.3393 82.8573 Q59.4643 82.8573 57.5893 83.274 Q55.7375 83.6906 53.793 84.5702 L53.793 67.2092 Z\" fill=\"#000000\" fill-rule=\"evenodd\" fill-opacity=\"1\" /><path clip-path=\"url(#clip920)\" d=\"M93.9086 70.2879 Q90.2975 70.2879 88.4688 73.8527 Q86.6632 77.3944 86.6632 84.5239 Q86.6632 91.6304 88.4688 95.1952 Q90.2975 98.7368 93.9086 98.7368 Q97.5428 98.7368 99.3483 95.1952 Q101.177 91.6304 101.177 84.5239 Q101.177 77.3944 99.3483 73.8527 Q97.5428 70.2879 93.9086 70.2879 M93.9086 66.5842 Q99.7187 66.5842 102.774 71.1907 Q105.853 75.774 105.853 84.5239 Q105.853 93.2508 102.774 97.8572 Q99.7187 102.441 93.9086 102.441 Q88.0984 102.441 85.0197 97.8572 Q81.9642 93.2508 81.9642 84.5239 Q81.9642 75.774 85.0197 71.1907 Q88.0984 66.5842 93.9086 66.5842 Z\" fill=\"#000000\" fill-rule=\"evenodd\" fill-opacity=\"1\" /><path clip-path=\"url(#clip920)\" d=\"M124.07 70.2879 Q120.459 70.2879 118.631 73.8527 Q116.825 77.3944 116.825 84.5239 Q116.825 91.6304 118.631 95.1952 Q120.459 98.7368 124.07 98.7368 Q127.705 98.7368 129.51 95.1952 Q131.339 91.6304 131.339 84.5239 Q131.339 77.3944 129.51 73.8527 Q127.705 70.2879 124.07 70.2879 M124.07 66.5842 Q129.881 66.5842 132.936 71.1907 Q136.015 75.774 136.015 84.5239 Q136.015 93.2508 132.936 97.8572 Q129.881 102.441 124.07 102.441 Q118.26 102.441 115.182 97.8572 Q112.126 93.2508 112.126 84.5239 Q112.126 75.774 115.182 71.1907 Q118.26 66.5842 124.07 66.5842 Z\" fill=\"#000000\" fill-rule=\"evenodd\" fill-opacity=\"1\" /><path clip-path=\"url(#clip922)\" d=\"M773.654 1234.76 L773.654 1282.76 L821.654 1282.76 L821.654 1234.76 L773.654 1234.76 Z\" fill=\"#ffffff\" fill-rule=\"evenodd\" fill-opacity=\"1\" stroke=\"#ff0000\" stroke-opacity=\"1\" stroke-width=\"9.6\"/>\n",
       "<path clip-path=\"url(#clip922)\" d=\"M587.181 1293.98 L587.181 1341.98 L635.181 1341.98 L635.181 1293.98 L587.181 1293.98 Z\" fill=\"#ffffff\" fill-rule=\"evenodd\" fill-opacity=\"1\" stroke=\"#ff0000\" stroke-opacity=\"1\" stroke-width=\"9.6\"/>\n",
       "<path clip-path=\"url(#clip922)\" d=\"M1490.36 581.845 L1490.36 629.845 L1538.36 629.845 L1538.36 581.845 L1490.36 581.845 Z\" fill=\"#ffffff\" fill-rule=\"evenodd\" fill-opacity=\"1\" stroke=\"#ff0000\" stroke-opacity=\"1\" stroke-width=\"9.6\"/>\n",
       "<path clip-path=\"url(#clip922)\" d=\"M1509.93 634.036 L1509.93 682.036 L1557.93 682.036 L1557.93 634.036 L1509.93 634.036 Z\" fill=\"#ffffff\" fill-rule=\"evenodd\" fill-opacity=\"1\" stroke=\"#ff0000\" stroke-opacity=\"1\" stroke-width=\"9.6\"/>\n",
       "<path clip-path=\"url(#clip922)\" d=\"M209.734 1421.72 L209.734 1469.72 L257.734 1469.72 L257.734 1421.72 L209.734 1421.72 Z\" fill=\"#ffffff\" fill-rule=\"evenodd\" fill-opacity=\"1\" stroke=\"#ff0000\" stroke-opacity=\"1\" stroke-width=\"9.6\"/>\n",
       "<path clip-path=\"url(#clip922)\" d=\"M294.893 780.699 L294.893 828.699 L342.893 828.699 L342.893 780.699 L294.893 780.699 Z\" fill=\"#ffffff\" fill-rule=\"evenodd\" fill-opacity=\"1\" stroke=\"#ff0000\" stroke-opacity=\"1\" stroke-width=\"9.6\"/>\n",
       "<path clip-path=\"url(#clip922)\" d=\"M1207.35 820.103 L1207.35 868.103 L1255.35 868.103 L1255.35 820.103 L1207.35 820.103 Z\" fill=\"#ffffff\" fill-rule=\"evenodd\" fill-opacity=\"1\" stroke=\"#ff0000\" stroke-opacity=\"1\" stroke-width=\"9.6\"/>\n",
       "<path clip-path=\"url(#clip922)\" d=\"M1118.75 731.776 L1118.75 779.776 L1166.75 779.776 L1166.75 731.776 L1118.75 731.776 Z\" fill=\"#ffffff\" fill-rule=\"evenodd\" fill-opacity=\"1\" stroke=\"#ff0000\" stroke-opacity=\"1\" stroke-width=\"9.6\"/>\n",
       "<path clip-path=\"url(#clip922)\" d=\"M1116.3 806.925 L1116.3 854.925 L1164.3 854.925 L1164.3 806.925 L1116.3 806.925 Z\" fill=\"#ffffff\" fill-rule=\"evenodd\" fill-opacity=\"1\" stroke=\"#ff0000\" stroke-opacity=\"1\" stroke-width=\"9.6\"/>\n",
       "<path clip-path=\"url(#clip922)\" d=\"M1146.48 864.428 L1146.48 912.428 L1194.48 912.428 L1194.48 864.428 L1146.48 864.428 Z\" fill=\"#ffffff\" fill-rule=\"evenodd\" fill-opacity=\"1\" stroke=\"#ff0000\" stroke-opacity=\"1\" stroke-width=\"9.6\"/>\n",
       "<path clip-path=\"url(#clip922)\" d=\"M1136.5 884.172 L1136.5 932.172 L1184.5 932.172 L1184.5 884.172 L1136.5 884.172 Z\" fill=\"#ffffff\" fill-rule=\"evenodd\" fill-opacity=\"1\" stroke=\"#ff0000\" stroke-opacity=\"1\" stroke-width=\"9.6\"/>\n",
       "<path clip-path=\"url(#clip922)\" d=\"M1080.69 836.25 L1080.69 884.25 L1128.69 884.25 L1128.69 836.25 L1080.69 836.25 Z\" fill=\"#ffffff\" fill-rule=\"evenodd\" fill-opacity=\"1\" stroke=\"#ff0000\" stroke-opacity=\"1\" stroke-width=\"9.6\"/>\n",
       "<path clip-path=\"url(#clip922)\" d=\"M376.929 1367.58 L376.929 1415.58 L424.929 1415.58 L424.929 1367.58 L376.929 1367.58 Z\" fill=\"#ffffff\" fill-rule=\"evenodd\" fill-opacity=\"1\" stroke=\"#ff0000\" stroke-opacity=\"1\" stroke-width=\"9.6\"/>\n",
       "<path clip-path=\"url(#clip922)\" d=\"M1270.36 219.413 L1270.36 267.413 L1318.36 267.413 L1318.36 219.413 L1270.36 219.413 Z\" fill=\"#ffffff\" fill-rule=\"evenodd\" fill-opacity=\"1\" stroke=\"#ff0000\" stroke-opacity=\"1\" stroke-width=\"9.6\"/>\n",
       "<path clip-path=\"url(#clip922)\" d=\"M2037.96 255.554 L2037.96 303.554 L2085.96 303.554 L2085.96 255.554 L2037.96 255.554 Z\" fill=\"#ffffff\" fill-rule=\"evenodd\" fill-opacity=\"1\" stroke=\"#ff0000\" stroke-opacity=\"1\" stroke-width=\"9.6\"/>\n",
       "<path clip-path=\"url(#clip922)\" d=\"M2267.04 109.082 L2267.04 157.082 L2315.04 157.082 L2315.04 109.082 L2267.04 109.082 Z\" fill=\"#ffffff\" fill-rule=\"evenodd\" fill-opacity=\"1\" stroke=\"#ff0000\" stroke-opacity=\"1\" stroke-width=\"9.6\"/>\n",
       "<path clip-path=\"url(#clip922)\" d=\"M2242.89 63.9763 L2242.89 111.976 L2290.89 111.976 L2290.89 63.9763 L2242.89 63.9763 Z\" fill=\"#ffffff\" fill-rule=\"evenodd\" fill-opacity=\"1\" stroke=\"#ff0000\" stroke-opacity=\"1\" stroke-width=\"9.6\"/>\n",
       "<path clip-path=\"url(#clip922)\" d=\"M1608.95 537.403 L1608.95 585.403 L1656.95 585.403 L1656.95 537.403 L1608.95 537.403 Z\" fill=\"#ffffff\" fill-rule=\"evenodd\" fill-opacity=\"1\" stroke=\"#ff0000\" stroke-opacity=\"1\" stroke-width=\"9.6\"/>\n",
       "<path clip-path=\"url(#clip922)\" d=\"M1671.88 147.903 L1671.88 195.903 L1719.88 195.903 L1719.88 147.903 L1671.88 147.903 Z\" fill=\"#ffffff\" fill-rule=\"evenodd\" fill-opacity=\"1\" stroke=\"#ff0000\" stroke-opacity=\"1\" stroke-width=\"9.6\"/>\n",
       "<path clip-path=\"url(#clip922)\" d=\"M2183.39 168.659 L2183.39 216.659 L2231.39 216.659 L2231.39 168.659 L2183.39 168.659 Z\" fill=\"#ffffff\" fill-rule=\"evenodd\" fill-opacity=\"1\" stroke=\"#ff0000\" stroke-opacity=\"1\" stroke-width=\"9.6\"/>\n",
       "<path clip-path=\"url(#clip922)\" d=\"M2079.87 193.975 L2079.87 241.975 L2127.87 241.975 L2127.87 193.975 L2079.87 193.975 Z\" fill=\"#ffffff\" fill-rule=\"evenodd\" fill-opacity=\"1\" stroke=\"#ff0000\" stroke-opacity=\"1\" stroke-width=\"9.6\"/>\n",
       "<path clip-path=\"url(#clip922)\" d=\"M2163.06 79.5041 L2163.06 127.504 L2211.06 127.504 L2211.06 79.5041 L2163.06 79.5041 Z\" fill=\"#ffffff\" fill-rule=\"evenodd\" fill-opacity=\"1\" stroke=\"#ff0000\" stroke-opacity=\"1\" stroke-width=\"9.6\"/>\n",
       "<path clip-path=\"url(#clip922)\" d=\"M2232.91 99.0411 L2232.91 147.041 L2280.91 147.041 L2280.91 99.0411 L2232.91 99.0411 Z\" fill=\"#ffffff\" fill-rule=\"evenodd\" fill-opacity=\"1\" stroke=\"#ff0000\" stroke-opacity=\"1\" stroke-width=\"9.6\"/>\n",
       "<path clip-path=\"url(#clip922)\" d=\"M1142.39 793.822 L1142.39 841.822 L1190.39 841.822 L1190.39 793.822 L1142.39 793.822 Z\" fill=\"#ffffff\" fill-rule=\"evenodd\" fill-opacity=\"1\" stroke=\"#ff0000\" stroke-opacity=\"1\" stroke-width=\"9.6\"/>\n",
       "<path clip-path=\"url(#clip922)\" d=\"M1188.71 870.589 L1188.71 918.589 L1236.71 918.589 L1236.71 870.589 L1188.71 870.589 Z\" fill=\"#ffffff\" fill-rule=\"evenodd\" fill-opacity=\"1\" stroke=\"#ff0000\" stroke-opacity=\"1\" stroke-width=\"9.6\"/>\n",
       "<path clip-path=\"url(#clip922)\" d=\"M669.771 1121.17 L669.771 1169.17 L717.771 1169.17 L717.771 1121.17 L669.771 1121.17 Z\" fill=\"#ffffff\" fill-rule=\"evenodd\" fill-opacity=\"1\" stroke=\"#ff0000\" stroke-opacity=\"1\" stroke-width=\"9.6\"/>\n",
       "<path clip-path=\"url(#clip920)\" d=\"\n",
       "M1723.76 198.898 L2280.06 198.898 L2280.06 95.2176 L1723.76 95.2176  Z\n",
       "  \" fill=\"#ffffff\" fill-rule=\"evenodd\" fill-opacity=\"1\"/>\n",
       "<polyline clip-path=\"url(#clip920)\" style=\"stroke:#000000; stroke-linecap:round; stroke-linejoin:round; stroke-width:4; stroke-opacity:1; fill:none\" points=\"\n",
       "  1723.76,198.898 2280.06,198.898 2280.06,95.2176 1723.76,95.2176 1723.76,198.898 \n",
       "  \"/>\n",
       "<path clip-path=\"url(#clip920)\" d=\"M1795.08 121.458 L1795.08 172.658 L1846.28 172.658 L1846.28 121.458 L1795.08 121.458 Z\" fill=\"#ffffff\" fill-rule=\"evenodd\" fill-opacity=\"1\" stroke=\"#ff0000\" stroke-opacity=\"1\" stroke-width=\"10.24\"/>\n",
       "<path clip-path=\"url(#clip920)\" d=\"M1917.6 129.778 L1946.84 129.778 L1946.84 133.713 L1934.57 133.713 L1934.57 164.338 L1929.87 164.338 L1929.87 133.713 L1917.6 133.713 L1917.6 129.778 Z\" fill=\"#000000\" fill-rule=\"evenodd\" fill-opacity=\"1\" /><path clip-path=\"url(#clip920)\" d=\"M1955.1 151.305 Q1949.94 151.305 1947.95 152.486 Q1945.96 153.666 1945.96 156.514 Q1945.96 158.782 1947.44 160.125 Q1948.94 161.444 1951.51 161.444 Q1955.05 161.444 1957.18 158.944 Q1959.34 156.421 1959.34 152.254 L1959.34 151.305 L1955.1 151.305 M1963.6 149.546 L1963.6 164.338 L1959.34 164.338 L1959.34 160.402 Q1957.88 162.763 1955.7 163.898 Q1953.53 165.009 1950.38 165.009 Q1946.4 165.009 1944.04 162.787 Q1941.7 160.541 1941.7 156.791 Q1941.7 152.416 1944.61 150.194 Q1947.55 147.972 1953.36 147.972 L1959.34 147.972 L1959.34 147.555 Q1959.34 144.615 1957.39 143.018 Q1955.47 141.398 1951.98 141.398 Q1949.75 141.398 1947.65 141.93 Q1945.54 142.463 1943.6 143.527 L1943.6 139.592 Q1945.93 138.69 1948.13 138.25 Q1950.33 137.787 1952.42 137.787 Q1958.04 137.787 1960.82 140.703 Q1963.6 143.62 1963.6 149.546 Z\" fill=\"#000000\" fill-rule=\"evenodd\" fill-opacity=\"1\" /><path clip-path=\"url(#clip920)\" d=\"M1988.9 139.176 L1988.9 143.203 Q1987.09 142.277 1985.15 141.815 Q1983.2 141.352 1981.12 141.352 Q1977.95 141.352 1976.35 142.324 Q1974.78 143.296 1974.78 145.24 Q1974.78 146.722 1975.91 147.578 Q1977.04 148.412 1980.47 149.176 L1981.93 149.5 Q1986.47 150.472 1988.36 152.254 Q1990.29 154.014 1990.29 157.185 Q1990.29 160.796 1987.42 162.902 Q1984.57 165.009 1979.57 165.009 Q1977.48 165.009 1975.22 164.592 Q1972.97 164.199 1970.47 163.388 L1970.47 158.99 Q1972.83 160.217 1975.12 160.842 Q1977.42 161.444 1979.66 161.444 Q1982.67 161.444 1984.29 160.426 Q1985.91 159.384 1985.91 157.509 Q1985.91 155.773 1984.73 154.847 Q1983.57 153.921 1979.61 153.064 L1978.13 152.717 Q1974.17 151.884 1972.42 150.171 Q1970.66 148.435 1970.66 145.426 Q1970.66 141.768 1973.25 139.778 Q1975.84 137.787 1980.61 137.787 Q1982.97 137.787 1985.05 138.134 Q1987.14 138.481 1988.9 139.176 Z\" fill=\"#000000\" fill-rule=\"evenodd\" fill-opacity=\"1\" /><path clip-path=\"url(#clip920)\" d=\"M1996.91 128.319 L2001.19 128.319 L2001.19 149.592 L2013.9 138.412 L2019.34 138.412 L2005.59 150.541 L2019.91 164.338 L2014.36 164.338 L2001.19 151.676 L2001.19 164.338 L1996.91 164.338 L1996.91 128.319 Z\" fill=\"#000000\" fill-rule=\"evenodd\" fill-opacity=\"1\" /><path clip-path=\"url(#clip920)\" d=\"M2039.78 129.778 L2044.45 129.778 L2044.45 160.402 L2061.28 160.402 L2061.28 164.338 L2039.78 164.338 L2039.78 129.778 Z\" fill=\"#000000\" fill-rule=\"evenodd\" fill-opacity=\"1\" /><path clip-path=\"url(#clip920)\" d=\"M2075.22 141.398 Q2071.79 141.398 2069.8 144.083 Q2067.81 146.745 2067.81 151.398 Q2067.81 156.051 2069.78 158.736 Q2071.77 161.398 2075.22 161.398 Q2078.62 161.398 2080.61 158.713 Q2082.6 156.027 2082.6 151.398 Q2082.6 146.791 2080.61 144.106 Q2078.62 141.398 2075.22 141.398 M2075.22 137.787 Q2080.77 137.787 2083.94 141.398 Q2087.11 145.009 2087.11 151.398 Q2087.11 157.764 2083.94 161.398 Q2080.77 165.009 2075.22 165.009 Q2069.64 165.009 2066.47 161.398 Q2063.32 157.764 2063.32 151.398 Q2063.32 145.009 2066.47 141.398 Q2069.64 137.787 2075.22 137.787 Z\" fill=\"#000000\" fill-rule=\"evenodd\" fill-opacity=\"1\" /><path clip-path=\"url(#clip920)\" d=\"M2112.83 139.407 L2112.83 143.389 Q2111.03 142.393 2109.2 141.907 Q2107.39 141.398 2105.54 141.398 Q2101.4 141.398 2099.1 144.037 Q2096.81 146.652 2096.81 151.398 Q2096.81 156.143 2099.1 158.782 Q2101.4 161.398 2105.54 161.398 Q2107.39 161.398 2109.2 160.912 Q2111.03 160.402 2112.83 159.407 L2112.83 163.342 Q2111.05 164.176 2109.13 164.592 Q2107.23 165.009 2105.08 165.009 Q2099.22 165.009 2095.77 161.328 Q2092.32 157.648 2092.32 151.398 Q2092.32 145.055 2095.79 141.421 Q2099.29 137.787 2105.35 137.787 Q2107.32 137.787 2109.2 138.203 Q2111.07 138.597 2112.83 139.407 Z\" fill=\"#000000\" fill-rule=\"evenodd\" fill-opacity=\"1\" /><path clip-path=\"url(#clip920)\" d=\"M2132.02 151.305 Q2126.86 151.305 2124.87 152.486 Q2122.88 153.666 2122.88 156.514 Q2122.88 158.782 2124.36 160.125 Q2125.86 161.444 2128.43 161.444 Q2131.97 161.444 2134.1 158.944 Q2136.26 156.421 2136.26 152.254 L2136.26 151.305 L2132.02 151.305 M2140.52 149.546 L2140.52 164.338 L2136.26 164.338 L2136.26 160.402 Q2134.8 162.763 2132.62 163.898 Q2130.45 165.009 2127.3 165.009 Q2123.32 165.009 2120.96 162.787 Q2118.62 160.541 2118.62 156.791 Q2118.62 152.416 2121.53 150.194 Q2124.47 147.972 2130.28 147.972 L2136.26 147.972 L2136.26 147.555 Q2136.26 144.615 2134.31 143.018 Q2132.39 141.398 2128.9 141.398 Q2126.67 141.398 2124.57 141.93 Q2122.46 142.463 2120.52 143.527 L2120.52 139.592 Q2122.85 138.69 2125.05 138.25 Q2127.25 137.787 2129.34 137.787 Q2134.96 137.787 2137.74 140.703 Q2140.52 143.62 2140.52 149.546 Z\" fill=\"#000000\" fill-rule=\"evenodd\" fill-opacity=\"1\" /><path clip-path=\"url(#clip920)\" d=\"M2153.5 131.051 L2153.5 138.412 L2162.28 138.412 L2162.28 141.722 L2153.5 141.722 L2153.5 155.796 Q2153.5 158.967 2154.36 159.87 Q2155.24 160.773 2157.9 160.773 L2162.28 160.773 L2162.28 164.338 L2157.9 164.338 Q2152.97 164.338 2151.09 162.509 Q2149.22 160.657 2149.22 155.796 L2149.22 141.722 L2146.09 141.722 L2146.09 138.412 L2149.22 138.412 L2149.22 131.051 L2153.5 131.051 Z\" fill=\"#000000\" fill-rule=\"evenodd\" fill-opacity=\"1\" /><path clip-path=\"url(#clip920)\" d=\"M2167.88 138.412 L2172.14 138.412 L2172.14 164.338 L2167.88 164.338 L2167.88 138.412 M2167.88 128.319 L2172.14 128.319 L2172.14 133.713 L2167.88 133.713 L2167.88 128.319 Z\" fill=\"#000000\" fill-rule=\"evenodd\" fill-opacity=\"1\" /><path clip-path=\"url(#clip920)\" d=\"M2191.09 141.398 Q2187.67 141.398 2185.68 144.083 Q2183.69 146.745 2183.69 151.398 Q2183.69 156.051 2185.65 158.736 Q2187.65 161.398 2191.09 161.398 Q2194.5 161.398 2196.49 158.713 Q2198.48 156.027 2198.48 151.398 Q2198.48 146.791 2196.49 144.106 Q2194.5 141.398 2191.09 141.398 M2191.09 137.787 Q2196.65 137.787 2199.82 141.398 Q2202.99 145.009 2202.99 151.398 Q2202.99 157.764 2199.82 161.398 Q2196.65 165.009 2191.09 165.009 Q2185.52 165.009 2182.34 161.398 Q2179.2 157.764 2179.2 151.398 Q2179.2 145.009 2182.34 141.398 Q2185.52 137.787 2191.09 137.787 Z\" fill=\"#000000\" fill-rule=\"evenodd\" fill-opacity=\"1\" /><path clip-path=\"url(#clip920)\" d=\"M2231.6 148.689 L2231.6 164.338 L2227.34 164.338 L2227.34 148.828 Q2227.34 145.148 2225.91 143.319 Q2224.47 141.49 2221.6 141.49 Q2218.15 141.49 2216.16 143.69 Q2214.17 145.889 2214.17 149.685 L2214.17 164.338 L2209.89 164.338 L2209.89 138.412 L2214.17 138.412 L2214.17 142.44 Q2215.7 140.102 2217.76 138.944 Q2219.84 137.787 2222.55 137.787 Q2227.02 137.787 2229.31 140.565 Q2231.6 143.319 2231.6 148.689 Z\" fill=\"#000000\" fill-rule=\"evenodd\" fill-opacity=\"1\" /></svg>\n"
      ]
     },
     "execution_count": 10,
     "metadata": {},
     "output_type": "execute_result"
    }
   ],
   "source": [
    "# let's do a little JuMP exercise of plotting the locations.\n",
    "x_values = []\n",
    "y_values = []\n",
    "for i in 1:Int(length(locations) / 2)\n",
    "    push!(x_values, locations[i * 2 - 1])\n",
    "    push!(y_values, locations[i*2])\n",
    "end\n",
    "\n",
    "Plots.scatter(x_values, y_values; label = \"Task Location\", markershape = :square, \n",
    "markercolor = :white, markersize = 6, markerstrokecolor = :red, markerstrokewidth = 3)"
   ]
  },
  {
   "cell_type": "code",
   "execution_count": 11,
   "id": "5784f3de",
   "metadata": {},
   "outputs": [
    {
     "name": "stdout",
     "output_type": "stream",
     "text": [
      "T is 45"
     ]
    }
   ],
   "source": [
    "# normalization and checking: make sure that T is truly the largest we need\n",
    "max_t = 0\n",
    "for window in time_windows\n",
    "    if window[2] > max_t\n",
    "        max_t = window[2]\n",
    "    end\n",
    "end\n",
    "T = min(50, max_t + 8);\n",
    "#T is still 50\n",
    "\n",
    "print(\"T is \", T)"
   ]
  },
  {
   "cell_type": "markdown",
   "id": "d6eff000",
   "metadata": {},
   "source": [
    "## [1c] Create the time-space network for jobs"
   ]
  },
  {
   "cell_type": "markdown",
   "id": "9b0502b6",
   "metadata": {},
   "source": [
    "### Create node network"
   ]
  },
  {
   "cell_type": "code",
   "execution_count": 12,
   "id": "bd123267",
   "metadata": {},
   "outputs": [
    {
     "data": {
      "text/plain": [
       "create_node_network (generic function with 1 method)"
      ]
     },
     "execution_count": 12,
     "metadata": {},
     "output_type": "execute_result"
    }
   ],
   "source": [
    "#=\n",
    "Create the node network\n",
    "\n",
    "This will be of the form\n",
    "[ [location, time] ...]\n",
    "\n",
    "which is a full rendition of all possible \n",
    "locations and times\n",
    "\n",
    "so there will be (total time - 2) * location\n",
    "nodes.\n",
    "\n",
    "This will create a time-space network not including\n",
    "the very first and very last time,\n",
    "because those have time 1 = location 0 and time 50 = location 26\n",
    "by default. So we don't need to put it in here.\n",
    "=#\n",
    "function create_node_network(n_jobs, T)\n",
    "    nodes = []\n",
    "    for i in 1:n_jobs\n",
    "        for t in 2:(T-1)\n",
    "            push!(nodes, [i, t])\n",
    "        end\n",
    "    end\n",
    "    return nodes\n",
    "end"
   ]
  },
  {
   "cell_type": "markdown",
   "id": "9890b537",
   "metadata": {},
   "source": [
    "### Create Arc System\n",
    "\n",
    "This is more complicated and involves three stages.\n",
    "\n",
    "First: leaving the depot\n",
    "\n",
    "Second: between jobs\n",
    "\n",
    "Third: coming back into the depot.\n",
    "\n",
    "It is assumed that no vehicle will do depot -> job -> depot -> job...\n",
    "because it is inefficient. \n",
    "\n",
    "We just go depot -> job -> back to depot.\n",
    "(job can consist of multiple jobs)"
   ]
  },
  {
   "cell_type": "code",
   "execution_count": 13,
   "id": "85c44a06",
   "metadata": {},
   "outputs": [
    {
     "data": {
      "text/plain": [
       "create_arc_system (generic function with 1 method)"
      ]
     },
     "execution_count": 13,
     "metadata": {},
     "output_type": "execute_result"
    }
   ],
   "source": [
    "function create_arc_system(n_jobs, distances, speed, time_windows, nodes)\n",
    "    #=\n",
    "    Create a full arc system which has the format\n",
    "    [ [initial_i, initial_t], [end_i, end_t], distance]\n",
    "    \n",
    "    remember: distance is like our cost, the first two elements represent the movement\n",
    "    =#\n",
    "    \n",
    "    arcs = []\n",
    "    \n",
    "    #leaving the depot\n",
    "    for n in nodes\n",
    "        dist = distances[1, n[1] + 1]\n",
    "        max_t = 0\n",
    "        for t in 1:n[2]\n",
    "            if n[2] > (t + dist/speed)\n",
    "                max_t = t\n",
    "            end\n",
    "        end\n",
    "        push!(arcs, [[0, max_t], n, dist])\n",
    "    end\n",
    "    \n",
    "    #between two jobs\n",
    "    for n1 in nodes\n",
    "        already = []\n",
    "        for n2 in nodes\n",
    "            dist = distances[n1[1]+1, n2[1]+1]\n",
    "            \n",
    "            #=\n",
    "            only add arc from node n1 = [i1, t1] to n2 = [i2, t2] if:\n",
    "            1) it is possible to get from n1 to n2 within the given timeframe (time = dist / speed)\n",
    "            2) the nodes do not have the same job location - this is covered in elseif\n",
    "            3) n2 is not already covered in our node network - it won't be a superfluous addition\n",
    "            4) n2's time is worth going to: we have enough time left to get there to do the job\n",
    "            \n",
    "            condition 4 example: If current time is 15, time window is [13, 20], and the work load \n",
    "            (time required) is 6 hours, then don't bother going to the job - it's a waste of time\n",
    "            =#\n",
    "            if (n2[2] > n1[2] + dist/speed) & \n",
    "                (n2[1] != n1[1]) & \n",
    "                (!(n2[1] in  already)) & \n",
    "                (n2[2] <= (time_windows[n2[1]][2] - work_load[n2[1]]))\n",
    "                push!(arcs, [n1, n2, dist])\n",
    "                push!(already, n2[1]) #already visited so we don't do it again: algorithmic efficiency\n",
    "                \n",
    "            elseif (n2[2] == n1[2] + 1) & (n2[1] == n1[1])\n",
    "                push!(arcs, [n1, n2, dist])\n",
    "                \n",
    "            end\n",
    "        end\n",
    "    end\n",
    "    \n",
    "    #Back to the depot\n",
    "    for n in nodes\n",
    "        dist = distances[1, n[1] + 1]\n",
    "        min_t = T+1\n",
    "        for t in T:-1:1\n",
    "            if t > (n[2]+dist/speed)\n",
    "                min_t = t\n",
    "            end\n",
    "        end\n",
    "        push!(arcs, [n, [n_jobs+1, min_t], dist])\n",
    "    end\n",
    "    \n",
    "    #Now, add intra-depot arcs to minimize drivers necessary\n",
    "    push!(arcs, [[0,1], [n_jobs+1, 2], 0])\n",
    "    \n",
    "    #finally, arcs is ready\n",
    "    \n",
    "    return arcs\n",
    "end"
   ]
  },
  {
   "cell_type": "code",
   "execution_count": 14,
   "id": "3f7a0169",
   "metadata": {},
   "outputs": [
    {
     "name": "stdout",
     "output_type": "stream",
     "text": [
      "Number of nodes: 1075\n",
      "Number of arcs: 11012\n"
     ]
    }
   ],
   "source": [
    "nodes = create_node_network(n_jobs, T)\n",
    "arcs = create_arc_system(n_jobs, distances, speed, time_windows, nodes)\n",
    "\n",
    "N = length(nodes)\n",
    "A = length(arcs)\n",
    "\n",
    "println(\"Number of nodes: \", length(nodes))\n",
    "println(\"Number of arcs: \", length(arcs))\n",
    "\n",
    "#=\n",
    "Arcs are represented in the format\n",
    "[ [initial_i, initial_t], [after_i, after_t], distance]\n",
    "\n",
    "so\n",
    "arc[1] = tuple of initial (i, t)\n",
    "arc[2] = tuple of after (i, t)\n",
    "arc[3] = distance traveled\n",
    "\n",
    "and then arcs is a list of these arcs\n",
    "=#"
   ]
  },
  {
   "cell_type": "code",
   "execution_count": 15,
   "id": "5873ed98",
   "metadata": {},
   "outputs": [
    {
     "name": "stdout",
     "output_type": "stream",
     "text": [
      "A sampling of arcs\n",
      "Arc number 2202 is Any[[4, 3], [19, 4], 92.09433295698844]\n",
      "Arc number 5506 is Any[[13, 8], [12, 9], 20.335712068768498]\n",
      "Arc number 9911 is Any[[25, 26], [23, 28], 195.45695429638533]\n"
     ]
    }
   ],
   "source": [
    "# sample some of the arcs\n",
    "println(\"A sampling of arcs\")\n",
    "for i in [round(Int, A * 0.2), round(Int, A * 0.5), round(Int, A * 0.9)]\n",
    "    println(\"Arc number \", i, \" is \", arcs[i])\n",
    "end"
   ]
  },
  {
   "cell_type": "markdown",
   "id": "0b07217a",
   "metadata": {},
   "source": [
    "## [1d] Create Coverage System\n",
    "\n",
    "This is the same thing as what we did before, except instead for task vehicles, we do it for coverage vehicles."
   ]
  },
  {
   "cell_type": "markdown",
   "id": "8e3db72e",
   "metadata": {},
   "source": [
    "Our first order of business is to identify all jobs which weren't covered by coverage vehicles given a coverage set. The function works as follows.\n",
    "\n",
    "First, given a `set_coverage` which indicates where the vehicle is placed. Then, for all jobs, we suppose it's not covered. For the coverage vehicle possibilities, we see if among all coverage vehicles, there exists one whose coverage radius emanates sufficiently outward to encapsulate that location. If so, then we say it is covered; otherwise, it's not.\n",
    "\n",
    "If a job isn't covered, indicate so, and return."
   ]
  },
  {
   "cell_type": "code",
   "execution_count": 16,
   "id": "447d6416",
   "metadata": {},
   "outputs": [
    {
     "data": {
      "text/plain": [
       "find_not_covered (generic function with 1 method)"
      ]
     },
     "execution_count": 16,
     "metadata": {},
     "output_type": "execute_result"
    }
   ],
   "source": [
    "function find_not_covered(set_coverage)\n",
    "    jobs_not_covered = []\n",
    "    for job in 1:n_jobs\n",
    "        covered_job = false\n",
    "        for j in 2:n_cov\n",
    "            if LinearAlgebra.norm(set_coverage[j] .- locations[job+1,:]) <= coverage_distance\n",
    "                covered_job = true\n",
    "            end\n",
    "        end\n",
    "    \n",
    "        if !(covered_job)\n",
    "            push!(jobs_not_covered, job)\n",
    "        end\n",
    "    end\n",
    "    return jobs_not_covered\n",
    "end"
   ]
  },
  {
   "cell_type": "markdown",
   "id": "f9507435",
   "metadata": {},
   "source": [
    "### Create Coverage Location Array\n",
    "\n",
    "Now, we need to initialize a coverage array by determining where the coverage stations will be. This initialization can be compared with the initialization system for task locations in section 1b."
   ]
  },
  {
   "cell_type": "code",
   "execution_count": 17,
   "id": "4ac9fef7",
   "metadata": {
    "scrolled": true
   },
   "outputs": [
    {
     "name": "stdout",
     "output_type": "stream",
     "text": [
      "Locations array is: [[162.98836443179744, 274.5255681577834], [109.29332740941533, 447.12271410049414], [121.1152053108041, 446.89270877611096], [89.59124765472993, 435.09777866446035], [323.92765788592794, 498.332645718842], [326.53347225637947, 483.83207561135157], [328.32265251259605, 492.9102875883275], [309.1686841347623, 498.8397830821424], [36.35807104610789, 350.5579177570377], [47.090405717384044, 341.3203068534036], [55.48085983316444, 364.68758998092676], [260.3707024335765, 470.9155090761928], [260.37715114996485, 479.54934664105195], [247.26012681195274, 464.00956357114217], [240.48176081945687, 456.302922303405], [276.6482779863586, 455.5862703353655], [239.93121460946887, 474.9841599335543], [251.64446751105916, 493.673348915355], [246.70672450784087, 490.66852195024524], [232.51197192211055, 487.17296281307057], [244.46684180873675, 245.79037260667468], [225.94275471532777, 256.0041140341042], [231.9341041485549, 256.19089982535576], [241.8876807998831, 230.46206318844872], [73.90222246114125, 139.66111885815096], [65.10392466179182, 147.0898582966076]]\n",
      "\n",
      "Initialized coverage locations are: [[162.98836443179744, 274.5255681577834]]\n"
     ]
    }
   ],
   "source": [
    "locations_array = [[locations[i,1], locations[i,2]] for i in 1:(n_jobs+1)]\n",
    "#=\n",
    "locations_array restyles locations in a better format that gives\n",
    "a list of tuples. then we take the first one to be our primary coverage location\n",
    "and then we add to it.\n",
    "=#\n",
    "\n",
    "println(\"Locations array is: \", locations_array)\n",
    "hull = convex_hull(locations_array)\n",
    "\n",
    "println()\n",
    "\n",
    "coverage_locations = [[locations[1, 1], locations[1, 2]]]\n",
    "println(\"Initialized coverage locations are: \", coverage_locations)"
   ]
  },
  {
   "cell_type": "code",
   "execution_count": 18,
   "id": "17487501",
   "metadata": {
    "scrolled": true
   },
   "outputs": [
    {
     "name": "stdout",
     "output_type": "stream",
     "text": [
      "Coverage locations after establishment: [[162.98836443179744, 274.5255681577834], [50.0, 300.0], [50.0, 350.0], [100.0, 350.0], [100.0, 400.0], [150.0, 450.0], [200.0, 250.0], [200.0, 450.0], [250.0, 300.0], [250.0, 450.0], [300.0, 450.0]]\n",
      "Number of coverage locations: 11\n"
     ]
    }
   ],
   "source": [
    "function establish_coverage_locations(coverage_locations)\n",
    "    #=\n",
    "    Given some parameters including initial coverage locations, as well as:\n",
    "    size (of mesh)\n",
    "    step (within mesh)\n",
    "    coverage_distance (how wide the radius is for a coverage vehicle)\n",
    "    \n",
    "    create a system of coverage locations of where we can possibly be.\n",
    "    \n",
    "    In other words, we are given the job/task locations FIRST. Then,\n",
    "    we will decide which discrete coverage locations we will have as \n",
    "    possibilities for the coverage.\n",
    "    =#\n",
    "    for i in 0:(size/step)\n",
    "        for j in 0:(size/step)\n",
    "            x = i*step\n",
    "            y = j*step\n",
    "            # assume that the coverage location is useless.\n",
    "            useful = false\n",
    "            for job in 1:n_jobs\n",
    "                if (LinearAlgebra.norm([x,y] .- locations[job+1,:]) <= coverage_distance) & \n",
    "                    (element(Singleton([x,y])) ∈ VPolygon(hull))\n",
    "                    useful = true\n",
    "                end\n",
    "            end\n",
    "            if useful\n",
    "                push!(coverage_locations, [x,y])\n",
    "            end\n",
    "        end\n",
    "    end\n",
    "    \n",
    "    return coverage_locations\n",
    "end\n",
    "coverage_locations = establish_coverage_locations(coverage_locations)\n",
    "\n",
    "println(\"Coverage locations after establishment: \", coverage_locations)\n",
    "\n",
    "n_cov = length(coverage_locations)\n",
    "println(\"Number of coverage locations: \", n_cov)"
   ]
  },
  {
   "cell_type": "markdown",
   "id": "4d32c141",
   "metadata": {},
   "source": [
    "Now we have successfully defined coverage locations.\n",
    "\n",
    "What we need to do is to see if there are any jobs uncovered."
   ]
  },
  {
   "cell_type": "code",
   "execution_count": 19,
   "id": "bc91794f",
   "metadata": {
    "scrolled": true
   },
   "outputs": [
    {
     "name": "stdout",
     "output_type": "stream",
     "text": [
      "Job 4 is uncovered!\n",
      "Job 6 is uncovered!\n",
      "Job 24 is uncovered!\n",
      "Job 25 is uncovered!\n",
      "Now, we have 13 locations.\n",
      "They are: [[162.98836443179744, 274.5255681577834], [50.0, 300.0], [50.0, 350.0], [100.0, 350.0], [100.0, 400.0], [150.0, 450.0], [200.0, 250.0], [200.0, 450.0], [250.0, 300.0], [250.0, 450.0], [300.0, 450.0], [325.0, 500.0], [75.0, 150.0]]\n"
     ]
    }
   ],
   "source": [
    "jobs_not_covered = find_not_covered(coverage_locations)\n",
    "\n",
    "#this is going to be problematic: if we don't have something close enough, create a new one\n",
    "for job in jobs_not_covered\n",
    "    println(\"Job \", job, \" is uncovered!\")\n",
    "    loc = locations[job + 1, :]\n",
    "    new_x = round(loc[1]/25)*25\n",
    "    new_y = round(loc[2]/25)*25\n",
    "    if !([new_x, new_y] in coverage_locations)\n",
    "        push!(coverage_locations, [new_x, new_y])\n",
    "    end\n",
    "end\n",
    "\n",
    "#see if anything changes\n",
    "n_cov = length(coverage_locations)\n",
    "println(\"Now, we have \", n_cov, \" locations.\")\n",
    "println(\"They are: \", coverage_locations)"
   ]
  },
  {
   "cell_type": "code",
   "execution_count": 20,
   "id": "6f218073",
   "metadata": {
    "scrolled": true
   },
   "outputs": [
    {
     "data": {
      "text/plain": [
       "13×13 Matrix{Float64}:\n",
       "   0.0     115.825   135.878    98.3053  …  222.629   277.645   152.475\n",
       " 115.825     0.0      50.0      70.7107     291.548   340.037   152.069\n",
       " 135.878    50.0       0.0      50.0        269.258   313.249   201.556\n",
       "  98.3053   70.7107   50.0       0.0        223.607   270.416   201.556\n",
       " 140.397   111.803    70.7107   50.0        206.155   246.221   251.247\n",
       " 175.954   180.278   141.421   111.803   …  150.0     182.003   309.233\n",
       "  44.4001  158.114   180.278   141.421      223.607   279.508   160.078\n",
       " 179.335   212.132   180.278   141.421      100.0     134.629   325.0\n",
       "  90.6641  200.0     206.155   158.114      158.114   213.6     230.489\n",
       " 195.863   250.0     223.607   180.278       50.0      90.1388  347.311\n",
       " 222.629   291.548   269.258   223.607   …    0.0      55.9017  375.0\n",
       " 277.645   340.037   313.249   270.416       55.9017    0.0     430.116\n",
       " 152.475   152.069   201.556   201.556      375.0     430.116     0.0"
      ]
     },
     "execution_count": 20,
     "metadata": {},
     "output_type": "execute_result"
    }
   ],
   "source": [
    "#=\n",
    "We create a matrix of how distant coverage locations are to EACH OTHER.\n",
    "=#\n",
    "coverage_distances = [LinearAlgebra.norm(coverage_locations[i] .- coverage_locations[j]) \n",
    "    for i=1:length(coverage_locations), j = 1:length(coverage_locations)]"
   ]
  },
  {
   "cell_type": "markdown",
   "id": "a04598d9",
   "metadata": {},
   "source": [
    "## [1e] Create Node and Arc Systems for COVERAGE\n",
    "\n",
    "Analogous to 1c."
   ]
  },
  {
   "cell_type": "markdown",
   "id": "8ba16393",
   "metadata": {},
   "source": [
    "For the Node Network"
   ]
  },
  {
   "cell_type": "code",
   "execution_count": 21,
   "id": "a5c35f2f",
   "metadata": {},
   "outputs": [
    {
     "data": {
      "text/plain": [
       "create_cov_node_network (generic function with 1 method)"
      ]
     },
     "execution_count": 21,
     "metadata": {},
     "output_type": "execute_result"
    }
   ],
   "source": [
    "#=\n",
    "This is analogous to what we do above. \n",
    "=#\n",
    "function create_cov_node_network(n_cov)\n",
    "    #=\n",
    "    Given a number of coverage nodes, creates a full \n",
    "    coverage network in similar fashion to what\n",
    "    we did in 1c.\n",
    "    =#\n",
    "    nodes_cov = []\n",
    "    for i in 1:(n_cov-1)\n",
    "        for t in 2:(T-1)\n",
    "            push!(nodes_cov, [i,t])\n",
    "        end\n",
    "    end\n",
    "    return nodes_cov\n",
    "end"
   ]
  },
  {
   "cell_type": "markdown",
   "id": "c1a451fa",
   "metadata": {},
   "source": [
    "For the Arc System"
   ]
  },
  {
   "cell_type": "code",
   "execution_count": 22,
   "id": "e4a26430",
   "metadata": {
    "scrolled": true
   },
   "outputs": [
    {
     "name": "stdout",
     "output_type": "stream",
     "text": [
      "Our node system has size 516\n",
      "Our arcs system has size 7001\n",
      "Arc 51 is Any[[0, 8], [2, 9], 135.87774048341421]\n",
      "Arc 163 is Any[[0, 34], [4, 35], 140.39717625337047]\n",
      "Arc 252 is Any[[0, 37], [6, 38], 44.40005248753111]\n",
      "Arc 353 is Any[[0, 8], [9, 10], 195.8629647345368]\n"
     ]
    }
   ],
   "source": [
    "function create_cov_arc_system(n_cov, coverage_distances, speed, nodes_cov)\n",
    "    #=\n",
    "    in utility this is very similar to our creation of the arc system\n",
    "    for TASK vehicles, except we now don't need to care about respecting\n",
    "    time windows for a parameter simplification.\n",
    "    \n",
    "    as a result, the time_windows parameter is unnecessary.\n",
    "    =#\n",
    "    arcs_cov = []\n",
    "    \n",
    "    #Leaving the Depot: time is always equal to 0 here\n",
    "    for n in nodes_cov\n",
    "        dist = coverage_distances[1, n[1] + 1]\n",
    "        max_t = 0\n",
    "        for t in 1:n[2]\n",
    "           if n[2] > (t + dist/speed)\n",
    "                max_t = t\n",
    "            end\n",
    "        end\n",
    "        push!(arcs_cov, [[0, max_t], n, dist])\n",
    "    end\n",
    "\n",
    "    #Between two coverage locations\n",
    "    for n1 in nodes_cov\n",
    "        already = []\n",
    "        for n2 in nodes_cov\n",
    "            dist = coverage_distances[n1[1]+1, n2[1]+1] \n",
    "            if (n2[2] > n1[2] + dist/speed) & (n2[1] != n1[1]) & !(n2[1] in already)\n",
    "                push!(arcs_cov, [n1, n2, dist])\n",
    "                push!(already, n2[1])\n",
    "            elseif (n2[2] == n1[2] + 1) & (n2[1] == n1[1])\n",
    "                push!(arcs_cov, [n1, n2, dist])\n",
    "            end\n",
    "        end\n",
    "    end\n",
    "\n",
    "    #Back to the depot: time is always T+1 = 51 in this case here\n",
    "    for n in nodes_cov\n",
    "        dist = coverage_distances[1, n[1] + 1]\n",
    "        min_t = T+1\n",
    "        for t in T:-1:1\n",
    "            if t > (n[2]+dist/speed)\n",
    "                min_t = t\n",
    "            end\n",
    "        end\n",
    "        push!(arcs_cov, [n, [n_cov, min_t], dist])\n",
    "    end\n",
    "    \n",
    "    return arcs_cov\n",
    "end\n",
    "\n",
    "nodes_cov = create_cov_node_network(n_cov)\n",
    "arcs_cov = create_cov_arc_system(n_cov, coverage_distances, speed, nodes_cov)\n",
    "\n",
    "#have a final arc\n",
    "push!(arcs_cov, [[0,1], [n_cov, 2], 0])\n",
    "\n",
    "N_cov = length(nodes_cov)\n",
    "A_cov = length(arcs_cov)\n",
    "\n",
    "println(\"Our node system has size \", N_cov)\n",
    "println(\"Our arcs system has size \", A_cov)\n",
    "\n",
    "#do a sampling\n",
    "for i in [51, 163, 252, 353]\n",
    "    println(\"Arc \", i, \" is \", arcs_cov[i])\n",
    "end"
   ]
  },
  {
   "cell_type": "markdown",
   "id": "9489f4b9",
   "metadata": {},
   "source": [
    "Check to make sure what has been covered is covered: this appears later in a few optimization constraints and will be needed later.\n",
    "\n",
    "<b>This will take a bit of time!</b>"
   ]
  },
  {
   "cell_type": "code",
   "execution_count": 23,
   "id": "210cb556",
   "metadata": {},
   "outputs": [],
   "source": [
    "covers = Dict()\n",
    "for n in 1:N\n",
    "    covers[n] = []\n",
    "    for a in 1:A_cov\n",
    "        arc_start = arcs_cov[a][1][1]\n",
    "        time_start = arcs_cov[a][1][2]\n",
    "        arc_end = arcs_cov[a][2][1]\n",
    "        if (arc_end != n_cov)\n",
    "            if (time_start == nodes[n][2]) & (LinearAlgebra.norm(locations[nodes[n][1]+1,:] .- coverage_locations[arc_start+1]) <= coverage_distance) & (LinearAlgebra.norm(locations[nodes[n][1]+1,:] .- coverage_locations[arc_end+1]) <= coverage_distance)\n",
    "                push!(covers[n], a)\n",
    "            end\n",
    "        else\n",
    "            if (time_start == nodes[n][2]) & (LinearAlgebra.norm(locations[nodes[n][1]+1,:] .- coverage_locations[arc_start+1]) <= coverage_distance) & (LinearAlgebra.norm(locations[nodes[n][1]+1,:] .- coverage_locations[1]) <= coverage_distance)\n",
    "                push!(covers[n], a)\n",
    "            end\n",
    "        end\n",
    "    end\n",
    "end"
   ]
  },
  {
   "cell_type": "code",
   "execution_count": 24,
   "id": "8999b17d",
   "metadata": {},
   "outputs": [],
   "source": [
    "not_covered = []\n",
    "for j in 2:(n_jobs+1)\n",
    "    covered_j = false\n",
    "    for n in 1:N\n",
    "        if ((j-1) == nodes[n][1]) & (length(covers[n]) > 0)\n",
    "            # println(\"Job \", j-1, \" is covered\")\n",
    "            covered_j = true\n",
    "            break\n",
    "        end\n",
    "    end\n",
    "    if !covered_j\n",
    "        # println(\"Job \", j-1, \" is not covered\")\n",
    "        push!(not_covered, j)\n",
    "    end\n",
    "end \n",
    "\n",
    "#=\n",
    "after running these 5 cells, we get all jobs are covered!\n",
    "=#"
   ]
  },
  {
   "cell_type": "markdown",
   "id": "bc3906f1",
   "metadata": {},
   "source": [
    "We can draw a diagram of this scenario."
   ]
  },
  {
   "cell_type": "code",
   "execution_count": 25,
   "id": "c15b710e",
   "metadata": {},
   "outputs": [
    {
     "data": {
      "image/svg+xml": [
       "<?xml version=\"1.0\" encoding=\"utf-8\"?>\n",
       "<svg xmlns=\"http://www.w3.org/2000/svg\" xmlns:xlink=\"http://www.w3.org/1999/xlink\" width=\"800\" height=\"600\" viewBox=\"0 0 3200 2400\">\n",
       "<defs>\n",
       "  <clipPath id=\"clip960\">\n",
       "    <rect x=\"0\" y=\"0\" width=\"3200\" height=\"2400\"/>\n",
       "  </clipPath>\n",
       "</defs>\n",
       "<path clip-path=\"url(#clip960)\" d=\"\n",
       "M0 2400 L3200 2400 L3200 0 L0 0  Z\n",
       "  \" fill=\"#ffffff\" fill-rule=\"evenodd\" fill-opacity=\"1\"/>\n",
       "<defs>\n",
       "  <clipPath id=\"clip961\">\n",
       "    <rect x=\"640\" y=\"0\" width=\"2241\" height=\"2241\"/>\n",
       "  </clipPath>\n",
       "</defs>\n",
       "<path clip-path=\"url(#clip960)\" d=\"\n",
       "M249.223 2204.92 L3152.76 2204.92 L3152.76 47.2441 L249.223 47.2441  Z\n",
       "  \" fill=\"#ffffff\" fill-rule=\"evenodd\" fill-opacity=\"1\"/>\n",
       "<defs>\n",
       "  <clipPath id=\"clip962\">\n",
       "    <rect x=\"249\" y=\"47\" width=\"2905\" height=\"2159\"/>\n",
       "  </clipPath>\n",
       "</defs>\n",
       "<polyline clip-path=\"url(#clip962)\" style=\"stroke:#000000; stroke-linecap:round; stroke-linejoin:round; stroke-width:2; stroke-opacity:0.1; fill:none\" points=\"\n",
       "  249.223,2204.92 249.223,47.2441 \n",
       "  \"/>\n",
       "<polyline clip-path=\"url(#clip962)\" style=\"stroke:#000000; stroke-linecap:round; stroke-linejoin:round; stroke-width:2; stroke-opacity:0.1; fill:none\" points=\"\n",
       "  491.184,2204.92 491.184,47.2441 \n",
       "  \"/>\n",
       "<polyline clip-path=\"url(#clip962)\" style=\"stroke:#000000; stroke-linecap:round; stroke-linejoin:round; stroke-width:2; stroke-opacity:0.1; fill:none\" points=\"\n",
       "  733.145,2204.92 733.145,47.2441 \n",
       "  \"/>\n",
       "<polyline clip-path=\"url(#clip962)\" style=\"stroke:#000000; stroke-linecap:round; stroke-linejoin:round; stroke-width:2; stroke-opacity:0.1; fill:none\" points=\"\n",
       "  975.106,2204.92 975.106,47.2441 \n",
       "  \"/>\n",
       "<polyline clip-path=\"url(#clip962)\" style=\"stroke:#000000; stroke-linecap:round; stroke-linejoin:round; stroke-width:2; stroke-opacity:0.1; fill:none\" points=\"\n",
       "  1217.07,2204.92 1217.07,47.2441 \n",
       "  \"/>\n",
       "<polyline clip-path=\"url(#clip962)\" style=\"stroke:#000000; stroke-linecap:round; stroke-linejoin:round; stroke-width:2; stroke-opacity:0.1; fill:none\" points=\"\n",
       "  1459.03,2204.92 1459.03,47.2441 \n",
       "  \"/>\n",
       "<polyline clip-path=\"url(#clip962)\" style=\"stroke:#000000; stroke-linecap:round; stroke-linejoin:round; stroke-width:2; stroke-opacity:0.1; fill:none\" points=\"\n",
       "  1700.99,2204.92 1700.99,47.2441 \n",
       "  \"/>\n",
       "<polyline clip-path=\"url(#clip962)\" style=\"stroke:#000000; stroke-linecap:round; stroke-linejoin:round; stroke-width:2; stroke-opacity:0.1; fill:none\" points=\"\n",
       "  1942.95,2204.92 1942.95,47.2441 \n",
       "  \"/>\n",
       "<polyline clip-path=\"url(#clip962)\" style=\"stroke:#000000; stroke-linecap:round; stroke-linejoin:round; stroke-width:2; stroke-opacity:0.1; fill:none\" points=\"\n",
       "  2184.91,2204.92 2184.91,47.2441 \n",
       "  \"/>\n",
       "<polyline clip-path=\"url(#clip962)\" style=\"stroke:#000000; stroke-linecap:round; stroke-linejoin:round; stroke-width:2; stroke-opacity:0.1; fill:none\" points=\"\n",
       "  2426.87,2204.92 2426.87,47.2441 \n",
       "  \"/>\n",
       "<polyline clip-path=\"url(#clip962)\" style=\"stroke:#000000; stroke-linecap:round; stroke-linejoin:round; stroke-width:2; stroke-opacity:0.1; fill:none\" points=\"\n",
       "  2668.83,2204.92 2668.83,47.2441 \n",
       "  \"/>\n",
       "<polyline clip-path=\"url(#clip960)\" style=\"stroke:#000000; stroke-linecap:round; stroke-linejoin:round; stroke-width:4; stroke-opacity:1; fill:none\" points=\"\n",
       "  249.223,2204.92 3152.76,2204.92 \n",
       "  \"/>\n",
       "<polyline clip-path=\"url(#clip960)\" style=\"stroke:#000000; stroke-linecap:round; stroke-linejoin:round; stroke-width:4; stroke-opacity:1; fill:none\" points=\"\n",
       "  249.223,2204.92 249.223,2186.02 \n",
       "  \"/>\n",
       "<polyline clip-path=\"url(#clip960)\" style=\"stroke:#000000; stroke-linecap:round; stroke-linejoin:round; stroke-width:4; stroke-opacity:1; fill:none\" points=\"\n",
       "  491.184,2204.92 491.184,2186.02 \n",
       "  \"/>\n",
       "<polyline clip-path=\"url(#clip960)\" style=\"stroke:#000000; stroke-linecap:round; stroke-linejoin:round; stroke-width:4; stroke-opacity:1; fill:none\" points=\"\n",
       "  733.145,2204.92 733.145,2186.02 \n",
       "  \"/>\n",
       "<polyline clip-path=\"url(#clip960)\" style=\"stroke:#000000; stroke-linecap:round; stroke-linejoin:round; stroke-width:4; stroke-opacity:1; fill:none\" points=\"\n",
       "  975.106,2204.92 975.106,2186.02 \n",
       "  \"/>\n",
       "<polyline clip-path=\"url(#clip960)\" style=\"stroke:#000000; stroke-linecap:round; stroke-linejoin:round; stroke-width:4; stroke-opacity:1; fill:none\" points=\"\n",
       "  1217.07,2204.92 1217.07,2186.02 \n",
       "  \"/>\n",
       "<polyline clip-path=\"url(#clip960)\" style=\"stroke:#000000; stroke-linecap:round; stroke-linejoin:round; stroke-width:4; stroke-opacity:1; fill:none\" points=\"\n",
       "  1459.03,2204.92 1459.03,2186.02 \n",
       "  \"/>\n",
       "<polyline clip-path=\"url(#clip960)\" style=\"stroke:#000000; stroke-linecap:round; stroke-linejoin:round; stroke-width:4; stroke-opacity:1; fill:none\" points=\"\n",
       "  1700.99,2204.92 1700.99,2186.02 \n",
       "  \"/>\n",
       "<polyline clip-path=\"url(#clip960)\" style=\"stroke:#000000; stroke-linecap:round; stroke-linejoin:round; stroke-width:4; stroke-opacity:1; fill:none\" points=\"\n",
       "  1942.95,2204.92 1942.95,2186.02 \n",
       "  \"/>\n",
       "<polyline clip-path=\"url(#clip960)\" style=\"stroke:#000000; stroke-linecap:round; stroke-linejoin:round; stroke-width:4; stroke-opacity:1; fill:none\" points=\"\n",
       "  2184.91,2204.92 2184.91,2186.02 \n",
       "  \"/>\n",
       "<polyline clip-path=\"url(#clip960)\" style=\"stroke:#000000; stroke-linecap:round; stroke-linejoin:round; stroke-width:4; stroke-opacity:1; fill:none\" points=\"\n",
       "  2426.87,2204.92 2426.87,2186.02 \n",
       "  \"/>\n",
       "<polyline clip-path=\"url(#clip960)\" style=\"stroke:#000000; stroke-linecap:round; stroke-linejoin:round; stroke-width:4; stroke-opacity:1; fill:none\" points=\"\n",
       "  2668.83,2204.92 2668.83,2186.02 \n",
       "  \"/>\n",
       "<path clip-path=\"url(#clip960)\" d=\"M249.223 2242.24 Q245.612 2242.24 243.783 2245.8 Q241.978 2249.34 241.978 2256.47 Q241.978 2263.58 243.783 2267.15 Q245.612 2270.69 249.223 2270.69 Q252.857 2270.69 254.663 2267.15 Q256.491 2263.58 256.491 2256.47 Q256.491 2249.34 254.663 2245.8 Q252.857 2242.24 249.223 2242.24 M249.223 2238.53 Q255.033 2238.53 258.089 2243.14 Q261.167 2247.72 261.167 2256.47 Q261.167 2265.2 258.089 2269.81 Q255.033 2274.39 249.223 2274.39 Q243.413 2274.39 240.334 2269.81 Q237.278 2265.2 237.278 2256.47 Q237.278 2247.72 240.334 2243.14 Q243.413 2238.53 249.223 2238.53 Z\" fill=\"#000000\" fill-rule=\"evenodd\" fill-opacity=\"1\" /><path clip-path=\"url(#clip960)\" d=\"M465.883 2239.16 L484.24 2239.16 L484.24 2243.1 L470.166 2243.1 L470.166 2251.57 Q471.184 2251.22 472.203 2251.06 Q473.221 2250.87 474.24 2250.87 Q480.027 2250.87 483.406 2254.04 Q486.786 2257.22 486.786 2262.63 Q486.786 2268.21 483.314 2271.31 Q479.841 2274.39 473.522 2274.39 Q471.346 2274.39 469.078 2274.02 Q466.832 2273.65 464.425 2272.91 L464.425 2268.21 Q466.508 2269.34 468.73 2269.9 Q470.953 2270.46 473.429 2270.46 Q477.434 2270.46 479.772 2268.35 Q482.11 2266.24 482.11 2262.63 Q482.11 2259.02 479.772 2256.91 Q477.434 2254.81 473.429 2254.81 Q471.554 2254.81 469.679 2255.22 Q467.828 2255.64 465.883 2256.52 L465.883 2239.16 Z\" fill=\"#000000\" fill-rule=\"evenodd\" fill-opacity=\"1\" /><path clip-path=\"url(#clip960)\" d=\"M505.999 2242.24 Q502.388 2242.24 500.559 2245.8 Q498.753 2249.34 498.753 2256.47 Q498.753 2263.58 500.559 2267.15 Q502.388 2270.69 505.999 2270.69 Q509.633 2270.69 511.438 2267.15 Q513.267 2263.58 513.267 2256.47 Q513.267 2249.34 511.438 2245.8 Q509.633 2242.24 505.999 2242.24 M505.999 2238.53 Q511.809 2238.53 514.864 2243.14 Q517.943 2247.72 517.943 2256.47 Q517.943 2265.2 514.864 2269.81 Q511.809 2274.39 505.999 2274.39 Q500.189 2274.39 497.11 2269.81 Q494.054 2265.2 494.054 2256.47 Q494.054 2247.72 497.11 2243.14 Q500.189 2238.53 505.999 2238.53 Z\" fill=\"#000000\" fill-rule=\"evenodd\" fill-opacity=\"1\" /><path clip-path=\"url(#clip960)\" d=\"M692.752 2269.78 L700.391 2269.78 L700.391 2243.42 L692.08 2245.09 L692.08 2240.83 L700.344 2239.16 L705.02 2239.16 L705.02 2269.78 L712.659 2269.78 L712.659 2273.72 L692.752 2273.72 L692.752 2269.78 Z\" fill=\"#000000\" fill-rule=\"evenodd\" fill-opacity=\"1\" /><path clip-path=\"url(#clip960)\" d=\"M732.103 2242.24 Q728.492 2242.24 726.664 2245.8 Q724.858 2249.34 724.858 2256.47 Q724.858 2263.58 726.664 2267.15 Q728.492 2270.69 732.103 2270.69 Q735.738 2270.69 737.543 2267.15 Q739.372 2263.58 739.372 2256.47 Q739.372 2249.34 737.543 2245.8 Q735.738 2242.24 732.103 2242.24 M732.103 2238.53 Q737.914 2238.53 740.969 2243.14 Q744.048 2247.72 744.048 2256.47 Q744.048 2265.2 740.969 2269.81 Q737.914 2274.39 732.103 2274.39 Q726.293 2274.39 723.215 2269.81 Q720.159 2265.2 720.159 2256.47 Q720.159 2247.72 723.215 2243.14 Q726.293 2238.53 732.103 2238.53 Z\" fill=\"#000000\" fill-rule=\"evenodd\" fill-opacity=\"1\" /><path clip-path=\"url(#clip960)\" d=\"M762.265 2242.24 Q758.654 2242.24 756.825 2245.8 Q755.02 2249.34 755.02 2256.47 Q755.02 2263.58 756.825 2267.15 Q758.654 2270.69 762.265 2270.69 Q765.899 2270.69 767.705 2267.15 Q769.534 2263.58 769.534 2256.47 Q769.534 2249.34 767.705 2245.8 Q765.899 2242.24 762.265 2242.24 M762.265 2238.53 Q768.075 2238.53 771.131 2243.14 Q774.21 2247.72 774.21 2256.47 Q774.21 2265.2 771.131 2269.81 Q768.075 2274.39 762.265 2274.39 Q756.455 2274.39 753.376 2269.81 Q750.321 2265.2 750.321 2256.47 Q750.321 2247.72 753.376 2243.14 Q756.455 2238.53 762.265 2238.53 Z\" fill=\"#000000\" fill-rule=\"evenodd\" fill-opacity=\"1\" /><path clip-path=\"url(#clip960)\" d=\"M934.713 2269.78 L942.352 2269.78 L942.352 2243.42 L934.042 2245.09 L934.042 2240.83 L942.305 2239.16 L946.981 2239.16 L946.981 2269.78 L954.62 2269.78 L954.62 2273.72 L934.713 2273.72 L934.713 2269.78 Z\" fill=\"#000000\" fill-rule=\"evenodd\" fill-opacity=\"1\" /><path clip-path=\"url(#clip960)\" d=\"M964.111 2239.16 L982.467 2239.16 L982.467 2243.1 L968.393 2243.1 L968.393 2251.57 Q969.412 2251.22 970.43 2251.06 Q971.449 2250.87 972.467 2250.87 Q978.254 2250.87 981.634 2254.04 Q985.013 2257.22 985.013 2262.63 Q985.013 2268.21 981.541 2271.31 Q978.069 2274.39 971.75 2274.39 Q969.574 2274.39 967.305 2274.02 Q965.06 2273.65 962.652 2272.91 L962.652 2268.21 Q964.736 2269.34 966.958 2269.9 Q969.18 2270.46 971.657 2270.46 Q975.662 2270.46 978 2268.35 Q980.338 2266.24 980.338 2262.63 Q980.338 2259.02 978 2256.91 Q975.662 2254.81 971.657 2254.81 Q969.782 2254.81 967.907 2255.22 Q966.055 2255.64 964.111 2256.52 L964.111 2239.16 Z\" fill=\"#000000\" fill-rule=\"evenodd\" fill-opacity=\"1\" /><path clip-path=\"url(#clip960)\" d=\"M1004.23 2242.24 Q1000.62 2242.24 998.787 2245.8 Q996.981 2249.34 996.981 2256.47 Q996.981 2263.58 998.787 2267.15 Q1000.62 2270.69 1004.23 2270.69 Q1007.86 2270.69 1009.67 2267.15 Q1011.49 2263.58 1011.49 2256.47 Q1011.49 2249.34 1009.67 2245.8 Q1007.86 2242.24 1004.23 2242.24 M1004.23 2238.53 Q1010.04 2238.53 1013.09 2243.14 Q1016.17 2247.72 1016.17 2256.47 Q1016.17 2265.2 1013.09 2269.81 Q1010.04 2274.39 1004.23 2274.39 Q998.416 2274.39 995.337 2269.81 Q992.282 2265.2 992.282 2256.47 Q992.282 2247.72 995.337 2243.14 Q998.416 2238.53 1004.23 2238.53 Z\" fill=\"#000000\" fill-rule=\"evenodd\" fill-opacity=\"1\" /><path clip-path=\"url(#clip960)\" d=\"M1180.76 2269.78 L1197.08 2269.78 L1197.08 2273.72 L1175.13 2273.72 L1175.13 2269.78 Q1177.8 2267.03 1182.38 2262.4 Q1186.99 2257.75 1188.17 2256.41 Q1190.41 2253.88 1191.29 2252.15 Q1192.19 2250.39 1192.19 2248.7 Q1192.19 2245.94 1190.25 2244.21 Q1188.33 2242.47 1185.23 2242.47 Q1183.03 2242.47 1180.57 2243.23 Q1178.14 2244 1175.37 2245.55 L1175.37 2240.83 Q1178.19 2239.69 1180.64 2239.11 Q1183.1 2238.53 1185.13 2238.53 Q1190.5 2238.53 1193.7 2241.22 Q1196.89 2243.91 1196.89 2248.4 Q1196.89 2250.53 1196.08 2252.45 Q1195.3 2254.34 1193.19 2256.94 Q1192.61 2257.61 1189.51 2260.83 Q1186.41 2264.02 1180.76 2269.78 Z\" fill=\"#000000\" fill-rule=\"evenodd\" fill-opacity=\"1\" /><path clip-path=\"url(#clip960)\" d=\"M1216.89 2242.24 Q1213.28 2242.24 1211.45 2245.8 Q1209.65 2249.34 1209.65 2256.47 Q1209.65 2263.58 1211.45 2267.15 Q1213.28 2270.69 1216.89 2270.69 Q1220.53 2270.69 1222.33 2267.15 Q1224.16 2263.58 1224.16 2256.47 Q1224.16 2249.34 1222.33 2245.8 Q1220.53 2242.24 1216.89 2242.24 M1216.89 2238.53 Q1222.7 2238.53 1225.76 2243.14 Q1228.84 2247.72 1228.84 2256.47 Q1228.84 2265.2 1225.76 2269.81 Q1222.7 2274.39 1216.89 2274.39 Q1211.08 2274.39 1208 2269.81 Q1204.95 2265.2 1204.95 2256.47 Q1204.95 2247.72 1208 2243.14 Q1211.08 2238.53 1216.89 2238.53 Z\" fill=\"#000000\" fill-rule=\"evenodd\" fill-opacity=\"1\" /><path clip-path=\"url(#clip960)\" d=\"M1247.06 2242.24 Q1243.44 2242.24 1241.62 2245.8 Q1239.81 2249.34 1239.81 2256.47 Q1239.81 2263.58 1241.62 2267.15 Q1243.44 2270.69 1247.06 2270.69 Q1250.69 2270.69 1252.5 2267.15 Q1254.32 2263.58 1254.32 2256.47 Q1254.32 2249.34 1252.5 2245.8 Q1250.69 2242.24 1247.06 2242.24 M1247.06 2238.53 Q1252.87 2238.53 1255.92 2243.14 Q1259 2247.72 1259 2256.47 Q1259 2265.2 1255.92 2269.81 Q1252.87 2274.39 1247.06 2274.39 Q1241.25 2274.39 1238.17 2269.81 Q1235.11 2265.2 1235.11 2256.47 Q1235.11 2247.72 1238.17 2243.14 Q1241.25 2238.53 1247.06 2238.53 Z\" fill=\"#000000\" fill-rule=\"evenodd\" fill-opacity=\"1\" /><path clip-path=\"url(#clip960)\" d=\"M1422.72 2269.78 L1439.04 2269.78 L1439.04 2273.72 L1417.1 2273.72 L1417.1 2269.78 Q1419.76 2267.03 1424.34 2262.4 Q1428.95 2257.75 1430.13 2256.41 Q1432.37 2253.88 1433.25 2252.15 Q1434.16 2250.39 1434.16 2248.7 Q1434.16 2245.94 1432.21 2244.21 Q1430.29 2242.47 1427.19 2242.47 Q1424.99 2242.47 1422.54 2243.23 Q1420.1 2244 1417.33 2245.55 L1417.33 2240.83 Q1420.15 2239.69 1422.6 2239.11 Q1425.06 2238.53 1427.1 2238.53 Q1432.47 2238.53 1435.66 2241.22 Q1438.85 2243.91 1438.85 2248.4 Q1438.85 2250.53 1438.04 2252.45 Q1437.26 2254.34 1435.15 2256.94 Q1434.57 2257.61 1431.47 2260.83 Q1428.37 2264.02 1422.72 2269.78 Z\" fill=\"#000000\" fill-rule=\"evenodd\" fill-opacity=\"1\" /><path clip-path=\"url(#clip960)\" d=\"M1448.9 2239.16 L1467.26 2239.16 L1467.26 2243.1 L1453.18 2243.1 L1453.18 2251.57 Q1454.2 2251.22 1455.22 2251.06 Q1456.24 2250.87 1457.26 2250.87 Q1463.04 2250.87 1466.42 2254.04 Q1469.8 2257.22 1469.8 2262.63 Q1469.8 2268.21 1466.33 2271.31 Q1462.86 2274.39 1456.54 2274.39 Q1454.36 2274.39 1452.1 2274.02 Q1449.85 2273.65 1447.44 2272.91 L1447.44 2268.21 Q1449.53 2269.34 1451.75 2269.9 Q1453.97 2270.46 1456.45 2270.46 Q1460.45 2270.46 1462.79 2268.35 Q1465.13 2266.24 1465.13 2262.63 Q1465.13 2259.02 1462.79 2256.91 Q1460.45 2254.81 1456.45 2254.81 Q1454.57 2254.81 1452.7 2255.22 Q1450.85 2255.64 1448.9 2256.52 L1448.9 2239.16 Z\" fill=\"#000000\" fill-rule=\"evenodd\" fill-opacity=\"1\" /><path clip-path=\"url(#clip960)\" d=\"M1489.02 2242.24 Q1485.41 2242.24 1483.58 2245.8 Q1481.77 2249.34 1481.77 2256.47 Q1481.77 2263.58 1483.58 2267.15 Q1485.41 2270.69 1489.02 2270.69 Q1492.65 2270.69 1494.46 2267.15 Q1496.29 2263.58 1496.29 2256.47 Q1496.29 2249.34 1494.46 2245.8 Q1492.65 2242.24 1489.02 2242.24 M1489.02 2238.53 Q1494.83 2238.53 1497.88 2243.14 Q1500.96 2247.72 1500.96 2256.47 Q1500.96 2265.2 1497.88 2269.81 Q1494.83 2274.39 1489.02 2274.39 Q1483.21 2274.39 1480.13 2269.81 Q1477.07 2265.2 1477.07 2256.47 Q1477.07 2247.72 1480.13 2243.14 Q1483.21 2238.53 1489.02 2238.53 Z\" fill=\"#000000\" fill-rule=\"evenodd\" fill-opacity=\"1\" /><path clip-path=\"url(#clip960)\" d=\"M1674.75 2255.09 Q1678.11 2255.8 1679.98 2258.07 Q1681.88 2260.34 1681.88 2263.67 Q1681.88 2268.79 1678.36 2271.59 Q1674.84 2274.39 1668.36 2274.39 Q1666.19 2274.39 1663.87 2273.95 Q1661.58 2273.53 1659.13 2272.68 L1659.13 2268.16 Q1661.07 2269.3 1663.39 2269.88 Q1665.7 2270.46 1668.22 2270.46 Q1672.62 2270.46 1674.91 2268.72 Q1677.23 2266.98 1677.23 2263.67 Q1677.23 2260.62 1675.08 2258.91 Q1672.95 2257.17 1669.13 2257.17 L1665.1 2257.17 L1665.1 2253.33 L1669.31 2253.33 Q1672.76 2253.33 1674.59 2251.96 Q1676.42 2250.57 1676.42 2247.98 Q1676.42 2245.32 1674.52 2243.91 Q1672.64 2242.47 1669.13 2242.47 Q1667.2 2242.47 1665.01 2242.89 Q1662.81 2243.3 1660.17 2244.18 L1660.17 2240.02 Q1662.83 2239.28 1665.14 2238.91 Q1667.48 2238.53 1669.54 2238.53 Q1674.87 2238.53 1677.97 2240.97 Q1681.07 2243.37 1681.07 2247.49 Q1681.07 2250.36 1679.43 2252.35 Q1677.78 2254.32 1674.75 2255.09 Z\" fill=\"#000000\" fill-rule=\"evenodd\" fill-opacity=\"1\" /><path clip-path=\"url(#clip960)\" d=\"M1700.75 2242.24 Q1697.14 2242.24 1695.31 2245.8 Q1693.5 2249.34 1693.5 2256.47 Q1693.5 2263.58 1695.31 2267.15 Q1697.14 2270.69 1700.75 2270.69 Q1704.38 2270.69 1706.19 2267.15 Q1708.01 2263.58 1708.01 2256.47 Q1708.01 2249.34 1706.19 2245.8 Q1704.38 2242.24 1700.75 2242.24 M1700.75 2238.53 Q1706.56 2238.53 1709.61 2243.14 Q1712.69 2247.72 1712.69 2256.47 Q1712.69 2265.2 1709.61 2269.81 Q1706.56 2274.39 1700.75 2274.39 Q1694.94 2274.39 1691.86 2269.81 Q1688.8 2265.2 1688.8 2256.47 Q1688.8 2247.72 1691.86 2243.14 Q1694.94 2238.53 1700.75 2238.53 Z\" fill=\"#000000\" fill-rule=\"evenodd\" fill-opacity=\"1\" /><path clip-path=\"url(#clip960)\" d=\"M1730.91 2242.24 Q1727.3 2242.24 1725.47 2245.8 Q1723.66 2249.34 1723.66 2256.47 Q1723.66 2263.58 1725.47 2267.15 Q1727.3 2270.69 1730.91 2270.69 Q1734.54 2270.69 1736.35 2267.15 Q1738.18 2263.58 1738.18 2256.47 Q1738.18 2249.34 1736.35 2245.8 Q1734.54 2242.24 1730.91 2242.24 M1730.91 2238.53 Q1736.72 2238.53 1739.77 2243.14 Q1742.85 2247.72 1742.85 2256.47 Q1742.85 2265.2 1739.77 2269.81 Q1736.72 2274.39 1730.91 2274.39 Q1725.1 2274.39 1722.02 2269.81 Q1718.96 2265.2 1718.96 2256.47 Q1718.96 2247.72 1722.02 2243.14 Q1725.1 2238.53 1730.91 2238.53 Z\" fill=\"#000000\" fill-rule=\"evenodd\" fill-opacity=\"1\" /><path clip-path=\"url(#clip960)\" d=\"M1916.71 2255.09 Q1920.07 2255.8 1921.94 2258.07 Q1923.84 2260.34 1923.84 2263.67 Q1923.84 2268.79 1920.32 2271.59 Q1916.8 2274.39 1910.32 2274.39 Q1908.15 2274.39 1905.83 2273.95 Q1903.54 2273.53 1901.09 2272.68 L1901.09 2268.16 Q1903.03 2269.3 1905.35 2269.88 Q1907.66 2270.46 1910.18 2270.46 Q1914.58 2270.46 1916.87 2268.72 Q1919.19 2266.98 1919.19 2263.67 Q1919.19 2260.62 1917.04 2258.91 Q1914.91 2257.17 1911.09 2257.17 L1907.06 2257.17 L1907.06 2253.33 L1911.27 2253.33 Q1914.72 2253.33 1916.55 2251.96 Q1918.38 2250.57 1918.38 2247.98 Q1918.38 2245.32 1916.48 2243.91 Q1914.61 2242.47 1911.09 2242.47 Q1909.17 2242.47 1906.97 2242.89 Q1904.77 2243.3 1902.13 2244.18 L1902.13 2240.02 Q1904.79 2239.28 1907.11 2238.91 Q1909.44 2238.53 1911.5 2238.53 Q1916.83 2238.53 1919.93 2240.97 Q1923.03 2243.37 1923.03 2247.49 Q1923.03 2250.36 1921.39 2252.35 Q1919.74 2254.32 1916.71 2255.09 Z\" fill=\"#000000\" fill-rule=\"evenodd\" fill-opacity=\"1\" /><path clip-path=\"url(#clip960)\" d=\"M1932.75 2239.16 L1951.11 2239.16 L1951.11 2243.1 L1937.04 2243.1 L1937.04 2251.57 Q1938.05 2251.22 1939.07 2251.06 Q1940.09 2250.87 1941.11 2250.87 Q1946.9 2250.87 1950.28 2254.04 Q1953.66 2257.22 1953.66 2262.63 Q1953.66 2268.21 1950.18 2271.31 Q1946.71 2274.39 1940.39 2274.39 Q1938.22 2274.39 1935.95 2274.02 Q1933.7 2273.65 1931.3 2272.91 L1931.3 2268.21 Q1933.38 2269.34 1935.6 2269.9 Q1937.82 2270.46 1940.3 2270.46 Q1944.3 2270.46 1946.64 2268.35 Q1948.98 2266.24 1948.98 2262.63 Q1948.98 2259.02 1946.64 2256.91 Q1944.3 2254.81 1940.3 2254.81 Q1938.43 2254.81 1936.55 2255.22 Q1934.7 2255.64 1932.75 2256.52 L1932.75 2239.16 Z\" fill=\"#000000\" fill-rule=\"evenodd\" fill-opacity=\"1\" /><path clip-path=\"url(#clip960)\" d=\"M1972.87 2242.24 Q1969.26 2242.24 1967.43 2245.8 Q1965.62 2249.34 1965.62 2256.47 Q1965.62 2263.58 1967.43 2267.15 Q1969.26 2270.69 1972.87 2270.69 Q1976.5 2270.69 1978.31 2267.15 Q1980.14 2263.58 1980.14 2256.47 Q1980.14 2249.34 1978.31 2245.8 Q1976.5 2242.24 1972.87 2242.24 M1972.87 2238.53 Q1978.68 2238.53 1981.73 2243.14 Q1984.81 2247.72 1984.81 2256.47 Q1984.81 2265.2 1981.73 2269.81 Q1978.68 2274.39 1972.87 2274.39 Q1967.06 2274.39 1963.98 2269.81 Q1960.92 2265.2 1960.92 2256.47 Q1960.92 2247.72 1963.98 2243.14 Q1967.06 2238.53 1972.87 2238.53 Z\" fill=\"#000000\" fill-rule=\"evenodd\" fill-opacity=\"1\" /><path clip-path=\"url(#clip960)\" d=\"M2158 2243.23 L2146.2 2261.68 L2158 2261.68 L2158 2243.23 M2156.78 2239.16 L2162.65 2239.16 L2162.65 2261.68 L2167.59 2261.68 L2167.59 2265.57 L2162.65 2265.57 L2162.65 2273.72 L2158 2273.72 L2158 2265.57 L2142.4 2265.57 L2142.4 2261.06 L2156.78 2239.16 Z\" fill=\"#000000\" fill-rule=\"evenodd\" fill-opacity=\"1\" /><path clip-path=\"url(#clip960)\" d=\"M2185.32 2242.24 Q2181.71 2242.24 2179.88 2245.8 Q2178.07 2249.34 2178.07 2256.47 Q2178.07 2263.58 2179.88 2267.15 Q2181.71 2270.69 2185.32 2270.69 Q2188.95 2270.69 2190.76 2267.15 Q2192.59 2263.58 2192.59 2256.47 Q2192.59 2249.34 2190.76 2245.8 Q2188.95 2242.24 2185.32 2242.24 M2185.32 2238.53 Q2191.13 2238.53 2194.18 2243.14 Q2197.26 2247.72 2197.26 2256.47 Q2197.26 2265.2 2194.18 2269.81 Q2191.13 2274.39 2185.32 2274.39 Q2179.51 2274.39 2176.43 2269.81 Q2173.37 2265.2 2173.37 2256.47 Q2173.37 2247.72 2176.43 2243.14 Q2179.51 2238.53 2185.32 2238.53 Z\" fill=\"#000000\" fill-rule=\"evenodd\" fill-opacity=\"1\" /><path clip-path=\"url(#clip960)\" d=\"M2215.48 2242.24 Q2211.87 2242.24 2210.04 2245.8 Q2208.23 2249.34 2208.23 2256.47 Q2208.23 2263.58 2210.04 2267.15 Q2211.87 2270.69 2215.48 2270.69 Q2219.11 2270.69 2220.92 2267.15 Q2222.75 2263.58 2222.75 2256.47 Q2222.75 2249.34 2220.92 2245.8 Q2219.11 2242.24 2215.48 2242.24 M2215.48 2238.53 Q2221.29 2238.53 2224.34 2243.14 Q2227.42 2247.72 2227.42 2256.47 Q2227.42 2265.2 2224.34 2269.81 Q2221.29 2274.39 2215.48 2274.39 Q2209.67 2274.39 2206.59 2269.81 Q2203.53 2265.2 2203.53 2256.47 Q2203.53 2247.72 2206.59 2243.14 Q2209.67 2238.53 2215.48 2238.53 Z\" fill=\"#000000\" fill-rule=\"evenodd\" fill-opacity=\"1\" /><path clip-path=\"url(#clip960)\" d=\"M2399.96 2243.23 L2388.16 2261.68 L2399.96 2261.68 L2399.96 2243.23 M2398.74 2239.16 L2404.62 2239.16 L2404.62 2261.68 L2409.55 2261.68 L2409.55 2265.57 L2404.62 2265.57 L2404.62 2273.72 L2399.96 2273.72 L2399.96 2265.57 L2384.36 2265.57 L2384.36 2261.06 L2398.74 2239.16 Z\" fill=\"#000000\" fill-rule=\"evenodd\" fill-opacity=\"1\" /><path clip-path=\"url(#clip960)\" d=\"M2417.32 2239.16 L2435.68 2239.16 L2435.68 2243.1 L2421.61 2243.1 L2421.61 2251.57 Q2422.62 2251.22 2423.64 2251.06 Q2424.66 2250.87 2425.68 2250.87 Q2431.47 2250.87 2434.85 2254.04 Q2438.23 2257.22 2438.23 2262.63 Q2438.23 2268.21 2434.75 2271.31 Q2431.28 2274.39 2424.96 2274.39 Q2422.79 2274.39 2420.52 2274.02 Q2418.27 2273.65 2415.87 2272.91 L2415.87 2268.21 Q2417.95 2269.34 2420.17 2269.9 Q2422.39 2270.46 2424.87 2270.46 Q2428.87 2270.46 2431.21 2268.35 Q2433.55 2266.24 2433.55 2262.63 Q2433.55 2259.02 2431.21 2256.91 Q2428.87 2254.81 2424.87 2254.81 Q2423 2254.81 2421.12 2255.22 Q2419.27 2255.64 2417.32 2256.52 L2417.32 2239.16 Z\" fill=\"#000000\" fill-rule=\"evenodd\" fill-opacity=\"1\" /><path clip-path=\"url(#clip960)\" d=\"M2457.44 2242.24 Q2453.83 2242.24 2452 2245.8 Q2450.19 2249.34 2450.19 2256.47 Q2450.19 2263.58 2452 2267.15 Q2453.83 2270.69 2457.44 2270.69 Q2461.07 2270.69 2462.88 2267.15 Q2464.71 2263.58 2464.71 2256.47 Q2464.71 2249.34 2462.88 2245.8 Q2461.07 2242.24 2457.44 2242.24 M2457.44 2238.53 Q2463.25 2238.53 2466.31 2243.14 Q2469.38 2247.72 2469.38 2256.47 Q2469.38 2265.2 2466.31 2269.81 Q2463.25 2274.39 2457.44 2274.39 Q2451.63 2274.39 2448.55 2269.81 Q2445.5 2265.2 2445.5 2256.47 Q2445.5 2247.72 2448.55 2243.14 Q2451.63 2238.53 2457.44 2238.53 Z\" fill=\"#000000\" fill-rule=\"evenodd\" fill-opacity=\"1\" /><path clip-path=\"url(#clip960)\" d=\"M2628.45 2239.16 L2646.81 2239.16 L2646.81 2243.1 L2632.73 2243.1 L2632.73 2251.57 Q2633.75 2251.22 2634.77 2251.06 Q2635.79 2250.87 2636.81 2250.87 Q2642.6 2250.87 2645.98 2254.04 Q2649.35 2257.22 2649.35 2262.63 Q2649.35 2268.21 2645.88 2271.31 Q2642.41 2274.39 2636.09 2274.39 Q2633.91 2274.39 2631.65 2274.02 Q2629.4 2273.65 2626.99 2272.91 L2626.99 2268.21 Q2629.08 2269.34 2631.3 2269.9 Q2633.52 2270.46 2636 2270.46 Q2640 2270.46 2642.34 2268.35 Q2644.68 2266.24 2644.68 2262.63 Q2644.68 2259.02 2642.34 2256.91 Q2640 2254.81 2636 2254.81 Q2634.12 2254.81 2632.25 2255.22 Q2630.4 2255.64 2628.45 2256.52 L2628.45 2239.16 Z\" fill=\"#000000\" fill-rule=\"evenodd\" fill-opacity=\"1\" /><path clip-path=\"url(#clip960)\" d=\"M2668.57 2242.24 Q2664.96 2242.24 2663.13 2245.8 Q2661.32 2249.34 2661.32 2256.47 Q2661.32 2263.58 2663.13 2267.15 Q2664.96 2270.69 2668.57 2270.69 Q2672.2 2270.69 2674.01 2267.15 Q2675.84 2263.58 2675.84 2256.47 Q2675.84 2249.34 2674.01 2245.8 Q2672.2 2242.24 2668.57 2242.24 M2668.57 2238.53 Q2674.38 2238.53 2677.43 2243.14 Q2680.51 2247.72 2680.51 2256.47 Q2680.51 2265.2 2677.43 2269.81 Q2674.38 2274.39 2668.57 2274.39 Q2662.76 2274.39 2659.68 2269.81 Q2656.62 2265.2 2656.62 2256.47 Q2656.62 2247.72 2659.68 2243.14 Q2662.76 2238.53 2668.57 2238.53 Z\" fill=\"#000000\" fill-rule=\"evenodd\" fill-opacity=\"1\" /><path clip-path=\"url(#clip960)\" d=\"M2698.73 2242.24 Q2695.12 2242.24 2693.29 2245.8 Q2691.48 2249.34 2691.48 2256.47 Q2691.48 2263.58 2693.29 2267.15 Q2695.12 2270.69 2698.73 2270.69 Q2702.36 2270.69 2704.17 2267.15 Q2706 2263.58 2706 2256.47 Q2706 2249.34 2704.17 2245.8 Q2702.36 2242.24 2698.73 2242.24 M2698.73 2238.53 Q2704.54 2238.53 2707.6 2243.14 Q2710.67 2247.72 2710.67 2256.47 Q2710.67 2265.2 2707.6 2269.81 Q2704.54 2274.39 2698.73 2274.39 Q2692.92 2274.39 2689.84 2269.81 Q2686.79 2265.2 2686.79 2256.47 Q2686.79 2247.72 2689.84 2243.14 Q2692.92 2238.53 2698.73 2238.53 Z\" fill=\"#000000\" fill-rule=\"evenodd\" fill-opacity=\"1\" /><path clip-path=\"url(#clip960)\" d=\"M1682.82 2314.26 L1689.72 2314.26 L1701.53 2331.93 L1713.4 2314.26 L1720.31 2314.26 L1705.03 2337.08 L1721.33 2361.78 L1714.42 2361.78 L1701.05 2341.57 L1687.59 2361.78 L1680.65 2361.78 L1697.62 2336.42 L1682.82 2314.26 Z\" fill=\"#000000\" fill-rule=\"evenodd\" fill-opacity=\"1\" /><polyline clip-path=\"url(#clip962)\" style=\"stroke:#000000; stroke-linecap:round; stroke-linejoin:round; stroke-width:2; stroke-opacity:0.1; fill:none\" points=\"\n",
       "  249.223,2204.92 3152.76,2204.92 \n",
       "  \"/>\n",
       "<polyline clip-path=\"url(#clip962)\" style=\"stroke:#000000; stroke-linecap:round; stroke-linejoin:round; stroke-width:2; stroke-opacity:0.1; fill:none\" points=\"\n",
       "  249.223,2025.11 3152.76,2025.11 \n",
       "  \"/>\n",
       "<polyline clip-path=\"url(#clip962)\" style=\"stroke:#000000; stroke-linecap:round; stroke-linejoin:round; stroke-width:2; stroke-opacity:0.1; fill:none\" points=\"\n",
       "  249.223,1845.31 3152.76,1845.31 \n",
       "  \"/>\n",
       "<polyline clip-path=\"url(#clip962)\" style=\"stroke:#000000; stroke-linecap:round; stroke-linejoin:round; stroke-width:2; stroke-opacity:0.1; fill:none\" points=\"\n",
       "  249.223,1665.5 3152.76,1665.5 \n",
       "  \"/>\n",
       "<polyline clip-path=\"url(#clip962)\" style=\"stroke:#000000; stroke-linecap:round; stroke-linejoin:round; stroke-width:2; stroke-opacity:0.1; fill:none\" points=\"\n",
       "  249.223,1485.69 3152.76,1485.69 \n",
       "  \"/>\n",
       "<polyline clip-path=\"url(#clip962)\" style=\"stroke:#000000; stroke-linecap:round; stroke-linejoin:round; stroke-width:2; stroke-opacity:0.1; fill:none\" points=\"\n",
       "  249.223,1305.89 3152.76,1305.89 \n",
       "  \"/>\n",
       "<polyline clip-path=\"url(#clip962)\" style=\"stroke:#000000; stroke-linecap:round; stroke-linejoin:round; stroke-width:2; stroke-opacity:0.1; fill:none\" points=\"\n",
       "  249.223,1126.08 3152.76,1126.08 \n",
       "  \"/>\n",
       "<polyline clip-path=\"url(#clip962)\" style=\"stroke:#000000; stroke-linecap:round; stroke-linejoin:round; stroke-width:2; stroke-opacity:0.1; fill:none\" points=\"\n",
       "  249.223,946.276 3152.76,946.276 \n",
       "  \"/>\n",
       "<polyline clip-path=\"url(#clip962)\" style=\"stroke:#000000; stroke-linecap:round; stroke-linejoin:round; stroke-width:2; stroke-opacity:0.1; fill:none\" points=\"\n",
       "  249.223,766.469 3152.76,766.469 \n",
       "  \"/>\n",
       "<polyline clip-path=\"url(#clip962)\" style=\"stroke:#000000; stroke-linecap:round; stroke-linejoin:round; stroke-width:2; stroke-opacity:0.1; fill:none\" points=\"\n",
       "  249.223,586.663 3152.76,586.663 \n",
       "  \"/>\n",
       "<polyline clip-path=\"url(#clip962)\" style=\"stroke:#000000; stroke-linecap:round; stroke-linejoin:round; stroke-width:2; stroke-opacity:0.1; fill:none\" points=\"\n",
       "  249.223,406.857 3152.76,406.857 \n",
       "  \"/>\n",
       "<polyline clip-path=\"url(#clip960)\" style=\"stroke:#000000; stroke-linecap:round; stroke-linejoin:round; stroke-width:4; stroke-opacity:1; fill:none\" points=\"\n",
       "  249.223,2204.92 249.223,47.2441 \n",
       "  \"/>\n",
       "<polyline clip-path=\"url(#clip960)\" style=\"stroke:#000000; stroke-linecap:round; stroke-linejoin:round; stroke-width:4; stroke-opacity:1; fill:none\" points=\"\n",
       "  249.223,2204.92 268.12,2204.92 \n",
       "  \"/>\n",
       "<polyline clip-path=\"url(#clip960)\" style=\"stroke:#000000; stroke-linecap:round; stroke-linejoin:round; stroke-width:4; stroke-opacity:1; fill:none\" points=\"\n",
       "  249.223,2025.11 268.12,2025.11 \n",
       "  \"/>\n",
       "<polyline clip-path=\"url(#clip960)\" style=\"stroke:#000000; stroke-linecap:round; stroke-linejoin:round; stroke-width:4; stroke-opacity:1; fill:none\" points=\"\n",
       "  249.223,1845.31 268.12,1845.31 \n",
       "  \"/>\n",
       "<polyline clip-path=\"url(#clip960)\" style=\"stroke:#000000; stroke-linecap:round; stroke-linejoin:round; stroke-width:4; stroke-opacity:1; fill:none\" points=\"\n",
       "  249.223,1665.5 268.12,1665.5 \n",
       "  \"/>\n",
       "<polyline clip-path=\"url(#clip960)\" style=\"stroke:#000000; stroke-linecap:round; stroke-linejoin:round; stroke-width:4; stroke-opacity:1; fill:none\" points=\"\n",
       "  249.223,1485.69 268.12,1485.69 \n",
       "  \"/>\n",
       "<polyline clip-path=\"url(#clip960)\" style=\"stroke:#000000; stroke-linecap:round; stroke-linejoin:round; stroke-width:4; stroke-opacity:1; fill:none\" points=\"\n",
       "  249.223,1305.89 268.12,1305.89 \n",
       "  \"/>\n",
       "<polyline clip-path=\"url(#clip960)\" style=\"stroke:#000000; stroke-linecap:round; stroke-linejoin:round; stroke-width:4; stroke-opacity:1; fill:none\" points=\"\n",
       "  249.223,1126.08 268.12,1126.08 \n",
       "  \"/>\n",
       "<polyline clip-path=\"url(#clip960)\" style=\"stroke:#000000; stroke-linecap:round; stroke-linejoin:round; stroke-width:4; stroke-opacity:1; fill:none\" points=\"\n",
       "  249.223,946.276 268.12,946.276 \n",
       "  \"/>\n",
       "<polyline clip-path=\"url(#clip960)\" style=\"stroke:#000000; stroke-linecap:round; stroke-linejoin:round; stroke-width:4; stroke-opacity:1; fill:none\" points=\"\n",
       "  249.223,766.469 268.12,766.469 \n",
       "  \"/>\n",
       "<polyline clip-path=\"url(#clip960)\" style=\"stroke:#000000; stroke-linecap:round; stroke-linejoin:round; stroke-width:4; stroke-opacity:1; fill:none\" points=\"\n",
       "  249.223,586.663 268.12,586.663 \n",
       "  \"/>\n",
       "<polyline clip-path=\"url(#clip960)\" style=\"stroke:#000000; stroke-linecap:round; stroke-linejoin:round; stroke-width:4; stroke-opacity:1; fill:none\" points=\"\n",
       "  249.223,406.857 268.12,406.857 \n",
       "  \"/>\n",
       "<path clip-path=\"url(#clip960)\" d=\"M189.278 2190.72 Q185.667 2190.72 183.839 2194.28 Q182.033 2197.82 182.033 2204.95 Q182.033 2212.06 183.839 2215.63 Q185.667 2219.17 189.278 2219.17 Q192.913 2219.17 194.718 2215.63 Q196.547 2212.06 196.547 2204.95 Q196.547 2197.82 194.718 2194.28 Q192.913 2190.72 189.278 2190.72 M189.278 2187.01 Q195.089 2187.01 198.144 2191.62 Q201.223 2196.2 201.223 2204.95 Q201.223 2213.68 198.144 2218.29 Q195.089 2222.87 189.278 2222.87 Q183.468 2222.87 180.39 2218.29 Q177.334 2213.68 177.334 2204.95 Q177.334 2196.2 180.39 2191.62 Q183.468 2187.01 189.278 2187.01 Z\" fill=\"#000000\" fill-rule=\"evenodd\" fill-opacity=\"1\" /><path clip-path=\"url(#clip960)\" d=\"M149.163 2007.83 L167.519 2007.83 L167.519 2011.77 L153.445 2011.77 L153.445 2020.24 Q154.464 2019.89 155.482 2019.73 Q156.501 2019.55 157.519 2019.55 Q163.306 2019.55 166.686 2022.72 Q170.066 2025.89 170.066 2031.31 Q170.066 2036.88 166.593 2039.99 Q163.121 2043.06 156.802 2043.06 Q154.626 2043.06 152.357 2042.69 Q150.112 2042.32 147.705 2041.58 L147.705 2036.88 Q149.788 2038.02 152.01 2038.57 Q154.232 2039.13 156.709 2039.13 Q160.714 2039.13 163.052 2037.02 Q165.39 2034.92 165.39 2031.31 Q165.39 2027.69 163.052 2025.59 Q160.714 2023.48 156.709 2023.48 Q154.834 2023.48 152.959 2023.9 Q151.107 2024.31 149.163 2025.19 L149.163 2007.83 Z\" fill=\"#000000\" fill-rule=\"evenodd\" fill-opacity=\"1\" /><path clip-path=\"url(#clip960)\" d=\"M189.278 2010.91 Q185.667 2010.91 183.839 2014.48 Q182.033 2018.02 182.033 2025.15 Q182.033 2032.25 183.839 2035.82 Q185.667 2039.36 189.278 2039.36 Q192.913 2039.36 194.718 2035.82 Q196.547 2032.25 196.547 2025.15 Q196.547 2018.02 194.718 2014.48 Q192.913 2010.91 189.278 2010.91 M189.278 2007.21 Q195.089 2007.21 198.144 2011.81 Q201.223 2016.4 201.223 2025.15 Q201.223 2033.88 198.144 2038.48 Q195.089 2043.06 189.278 2043.06 Q183.468 2043.06 180.39 2038.48 Q177.334 2033.88 177.334 2025.15 Q177.334 2016.4 180.39 2011.81 Q183.468 2007.21 189.278 2007.21 Z\" fill=\"#000000\" fill-rule=\"evenodd\" fill-opacity=\"1\" /><path clip-path=\"url(#clip960)\" d=\"M119.765 1858.65 L127.404 1858.65 L127.404 1832.29 L119.094 1833.95 L119.094 1829.69 L127.358 1828.03 L132.033 1828.03 L132.033 1858.65 L139.672 1858.65 L139.672 1862.59 L119.765 1862.59 L119.765 1858.65 Z\" fill=\"#000000\" fill-rule=\"evenodd\" fill-opacity=\"1\" /><path clip-path=\"url(#clip960)\" d=\"M159.117 1831.11 Q155.506 1831.11 153.677 1834.67 Q151.871 1838.21 151.871 1845.34 Q151.871 1852.45 153.677 1856.01 Q155.506 1859.55 159.117 1859.55 Q162.751 1859.55 164.556 1856.01 Q166.385 1852.45 166.385 1845.34 Q166.385 1838.21 164.556 1834.67 Q162.751 1831.11 159.117 1831.11 M159.117 1827.4 Q164.927 1827.4 167.982 1832.01 Q171.061 1836.59 171.061 1845.34 Q171.061 1854.07 167.982 1858.68 Q164.927 1863.26 159.117 1863.26 Q153.306 1863.26 150.228 1858.68 Q147.172 1854.07 147.172 1845.34 Q147.172 1836.59 150.228 1832.01 Q153.306 1827.4 159.117 1827.4 Z\" fill=\"#000000\" fill-rule=\"evenodd\" fill-opacity=\"1\" /><path clip-path=\"url(#clip960)\" d=\"M189.278 1831.11 Q185.667 1831.11 183.839 1834.67 Q182.033 1838.21 182.033 1845.34 Q182.033 1852.45 183.839 1856.01 Q185.667 1859.55 189.278 1859.55 Q192.913 1859.55 194.718 1856.01 Q196.547 1852.45 196.547 1845.34 Q196.547 1838.21 194.718 1834.67 Q192.913 1831.11 189.278 1831.11 M189.278 1827.4 Q195.089 1827.4 198.144 1832.01 Q201.223 1836.59 201.223 1845.34 Q201.223 1854.07 198.144 1858.68 Q195.089 1863.26 189.278 1863.26 Q183.468 1863.26 180.39 1858.68 Q177.334 1854.07 177.334 1845.34 Q177.334 1836.59 180.39 1832.01 Q183.468 1827.4 189.278 1827.4 Z\" fill=\"#000000\" fill-rule=\"evenodd\" fill-opacity=\"1\" /><path clip-path=\"url(#clip960)\" d=\"M119.765 1678.85 L127.404 1678.85 L127.404 1652.48 L119.094 1654.15 L119.094 1649.89 L127.358 1648.22 L132.033 1648.22 L132.033 1678.85 L139.672 1678.85 L139.672 1682.78 L119.765 1682.78 L119.765 1678.85 Z\" fill=\"#000000\" fill-rule=\"evenodd\" fill-opacity=\"1\" /><path clip-path=\"url(#clip960)\" d=\"M149.163 1648.22 L167.519 1648.22 L167.519 1652.16 L153.445 1652.16 L153.445 1660.63 Q154.464 1660.28 155.482 1660.12 Q156.501 1659.93 157.519 1659.93 Q163.306 1659.93 166.686 1663.11 Q170.066 1666.28 170.066 1671.69 Q170.066 1677.27 166.593 1680.37 Q163.121 1683.45 156.802 1683.45 Q154.626 1683.45 152.357 1683.08 Q150.112 1682.71 147.705 1681.97 L147.705 1677.27 Q149.788 1678.41 152.01 1678.96 Q154.232 1679.52 156.709 1679.52 Q160.714 1679.52 163.052 1677.41 Q165.39 1675.3 165.39 1671.69 Q165.39 1668.08 163.052 1665.98 Q160.714 1663.87 156.709 1663.87 Q154.834 1663.87 152.959 1664.29 Q151.107 1664.7 149.163 1665.58 L149.163 1648.22 Z\" fill=\"#000000\" fill-rule=\"evenodd\" fill-opacity=\"1\" /><path clip-path=\"url(#clip960)\" d=\"M189.278 1651.3 Q185.667 1651.3 183.839 1654.86 Q182.033 1658.41 182.033 1665.54 Q182.033 1672.64 183.839 1676.21 Q185.667 1679.75 189.278 1679.75 Q192.913 1679.75 194.718 1676.21 Q196.547 1672.64 196.547 1665.54 Q196.547 1658.41 194.718 1654.86 Q192.913 1651.3 189.278 1651.3 M189.278 1647.6 Q195.089 1647.6 198.144 1652.2 Q201.223 1656.79 201.223 1665.54 Q201.223 1674.26 198.144 1678.87 Q195.089 1683.45 189.278 1683.45 Q183.468 1683.45 180.39 1678.87 Q177.334 1674.26 177.334 1665.54 Q177.334 1656.79 180.39 1652.2 Q183.468 1647.6 189.278 1647.6 Z\" fill=\"#000000\" fill-rule=\"evenodd\" fill-opacity=\"1\" /><path clip-path=\"url(#clip960)\" d=\"M122.983 1499.04 L139.302 1499.04 L139.302 1502.97 L117.358 1502.97 L117.358 1499.04 Q120.02 1496.28 124.603 1491.66 Q129.209 1487 130.39 1485.66 Q132.635 1483.14 133.515 1481.4 Q134.418 1479.64 134.418 1477.95 Q134.418 1475.2 132.473 1473.46 Q130.552 1471.72 127.45 1471.72 Q125.251 1471.72 122.797 1472.49 Q120.367 1473.25 117.589 1474.8 L117.589 1470.08 Q120.413 1468.95 122.867 1468.37 Q125.32 1467.79 127.358 1467.79 Q132.728 1467.79 135.922 1470.47 Q139.117 1473.16 139.117 1477.65 Q139.117 1479.78 138.307 1481.7 Q137.519 1483.6 135.413 1486.19 Q134.834 1486.86 131.732 1490.08 Q128.631 1493.28 122.983 1499.04 Z\" fill=\"#000000\" fill-rule=\"evenodd\" fill-opacity=\"1\" /><path clip-path=\"url(#clip960)\" d=\"M159.117 1471.49 Q155.506 1471.49 153.677 1475.06 Q151.871 1478.6 151.871 1485.73 Q151.871 1492.84 153.677 1496.4 Q155.506 1499.94 159.117 1499.94 Q162.751 1499.94 164.556 1496.4 Q166.385 1492.84 166.385 1485.73 Q166.385 1478.6 164.556 1475.06 Q162.751 1471.49 159.117 1471.49 M159.117 1467.79 Q164.927 1467.79 167.982 1472.4 Q171.061 1476.98 171.061 1485.73 Q171.061 1494.46 167.982 1499.06 Q164.927 1503.65 159.117 1503.65 Q153.306 1503.65 150.228 1499.06 Q147.172 1494.46 147.172 1485.73 Q147.172 1476.98 150.228 1472.4 Q153.306 1467.79 159.117 1467.79 Z\" fill=\"#000000\" fill-rule=\"evenodd\" fill-opacity=\"1\" /><path clip-path=\"url(#clip960)\" d=\"M189.278 1471.49 Q185.667 1471.49 183.839 1475.06 Q182.033 1478.6 182.033 1485.73 Q182.033 1492.84 183.839 1496.4 Q185.667 1499.94 189.278 1499.94 Q192.913 1499.94 194.718 1496.4 Q196.547 1492.84 196.547 1485.73 Q196.547 1478.6 194.718 1475.06 Q192.913 1471.49 189.278 1471.49 M189.278 1467.79 Q195.089 1467.79 198.144 1472.4 Q201.223 1476.98 201.223 1485.73 Q201.223 1494.46 198.144 1499.06 Q195.089 1503.65 189.278 1503.65 Q183.468 1503.65 180.39 1499.06 Q177.334 1494.46 177.334 1485.73 Q177.334 1476.98 180.39 1472.4 Q183.468 1467.79 189.278 1467.79 Z\" fill=\"#000000\" fill-rule=\"evenodd\" fill-opacity=\"1\" /><path clip-path=\"url(#clip960)\" d=\"M122.983 1319.23 L139.302 1319.23 L139.302 1323.17 L117.358 1323.17 L117.358 1319.23 Q120.02 1316.48 124.603 1311.85 Q129.209 1307.2 130.39 1305.85 Q132.635 1303.33 133.515 1301.59 Q134.418 1299.84 134.418 1298.15 Q134.418 1295.39 132.473 1293.65 Q130.552 1291.92 127.45 1291.92 Q125.251 1291.92 122.797 1292.68 Q120.367 1293.45 117.589 1295 L117.589 1290.27 Q120.413 1289.14 122.867 1288.56 Q125.32 1287.98 127.358 1287.98 Q132.728 1287.98 135.922 1290.67 Q139.117 1293.35 139.117 1297.84 Q139.117 1299.97 138.307 1301.9 Q137.519 1303.79 135.413 1306.39 Q134.834 1307.06 131.732 1310.27 Q128.631 1313.47 122.983 1319.23 Z\" fill=\"#000000\" fill-rule=\"evenodd\" fill-opacity=\"1\" /><path clip-path=\"url(#clip960)\" d=\"M149.163 1288.61 L167.519 1288.61 L167.519 1292.54 L153.445 1292.54 L153.445 1301.02 Q154.464 1300.67 155.482 1300.51 Q156.501 1300.32 157.519 1300.32 Q163.306 1300.32 166.686 1303.49 Q170.066 1306.66 170.066 1312.08 Q170.066 1317.66 166.593 1320.76 Q163.121 1323.84 156.802 1323.84 Q154.626 1323.84 152.357 1323.47 Q150.112 1323.1 147.705 1322.36 L147.705 1317.66 Q149.788 1318.79 152.01 1319.35 Q154.232 1319.9 156.709 1319.9 Q160.714 1319.9 163.052 1317.8 Q165.39 1315.69 165.39 1312.08 Q165.39 1308.47 163.052 1306.36 Q160.714 1304.26 156.709 1304.26 Q154.834 1304.26 152.959 1304.67 Q151.107 1305.09 149.163 1305.97 L149.163 1288.61 Z\" fill=\"#000000\" fill-rule=\"evenodd\" fill-opacity=\"1\" /><path clip-path=\"url(#clip960)\" d=\"M189.278 1291.69 Q185.667 1291.69 183.839 1295.25 Q182.033 1298.79 182.033 1305.92 Q182.033 1313.03 183.839 1316.59 Q185.667 1320.14 189.278 1320.14 Q192.913 1320.14 194.718 1316.59 Q196.547 1313.03 196.547 1305.92 Q196.547 1298.79 194.718 1295.25 Q192.913 1291.69 189.278 1291.69 M189.278 1287.98 Q195.089 1287.98 198.144 1292.59 Q201.223 1297.17 201.223 1305.92 Q201.223 1314.65 198.144 1319.26 Q195.089 1323.84 189.278 1323.84 Q183.468 1323.84 180.39 1319.26 Q177.334 1314.65 177.334 1305.92 Q177.334 1297.17 180.39 1292.59 Q183.468 1287.98 189.278 1287.98 Z\" fill=\"#000000\" fill-rule=\"evenodd\" fill-opacity=\"1\" /><path clip-path=\"url(#clip960)\" d=\"M133.121 1124.73 Q136.478 1125.45 138.353 1127.71 Q140.251 1129.98 140.251 1133.32 Q140.251 1138.43 136.732 1141.23 Q133.214 1144.03 126.733 1144.03 Q124.557 1144.03 122.242 1143.59 Q119.95 1143.18 117.496 1142.32 L117.496 1137.81 Q119.441 1138.94 121.756 1139.52 Q124.07 1140.1 126.594 1140.1 Q130.992 1140.1 133.283 1138.36 Q135.598 1136.63 135.598 1133.32 Q135.598 1130.26 133.445 1128.55 Q131.316 1126.81 127.496 1126.81 L123.469 1126.81 L123.469 1122.97 L127.682 1122.97 Q131.131 1122.97 132.959 1121.6 Q134.788 1120.21 134.788 1117.62 Q134.788 1114.96 132.89 1113.55 Q131.015 1112.11 127.496 1112.11 Q125.575 1112.11 123.376 1112.53 Q121.177 1112.95 118.538 1113.83 L118.538 1109.66 Q121.2 1108.92 123.515 1108.55 Q125.853 1108.18 127.913 1108.18 Q133.237 1108.18 136.339 1110.61 Q139.441 1113.01 139.441 1117.14 Q139.441 1120.01 137.797 1122 Q136.154 1123.96 133.121 1124.73 Z\" fill=\"#000000\" fill-rule=\"evenodd\" fill-opacity=\"1\" /><path clip-path=\"url(#clip960)\" d=\"M159.117 1111.88 Q155.506 1111.88 153.677 1115.45 Q151.871 1118.99 151.871 1126.12 Q151.871 1133.22 153.677 1136.79 Q155.506 1140.33 159.117 1140.33 Q162.751 1140.33 164.556 1136.79 Q166.385 1133.22 166.385 1126.12 Q166.385 1118.99 164.556 1115.45 Q162.751 1111.88 159.117 1111.88 M159.117 1108.18 Q164.927 1108.18 167.982 1112.78 Q171.061 1117.37 171.061 1126.12 Q171.061 1134.84 167.982 1139.45 Q164.927 1144.03 159.117 1144.03 Q153.306 1144.03 150.228 1139.45 Q147.172 1134.84 147.172 1126.12 Q147.172 1117.37 150.228 1112.78 Q153.306 1108.18 159.117 1108.18 Z\" fill=\"#000000\" fill-rule=\"evenodd\" fill-opacity=\"1\" /><path clip-path=\"url(#clip960)\" d=\"M189.278 1111.88 Q185.667 1111.88 183.839 1115.45 Q182.033 1118.99 182.033 1126.12 Q182.033 1133.22 183.839 1136.79 Q185.667 1140.33 189.278 1140.33 Q192.913 1140.33 194.718 1136.79 Q196.547 1133.22 196.547 1126.12 Q196.547 1118.99 194.718 1115.45 Q192.913 1111.88 189.278 1111.88 M189.278 1108.18 Q195.089 1108.18 198.144 1112.78 Q201.223 1117.37 201.223 1126.12 Q201.223 1134.84 198.144 1139.45 Q195.089 1144.03 189.278 1144.03 Q183.468 1144.03 180.39 1139.45 Q177.334 1134.84 177.334 1126.12 Q177.334 1117.37 180.39 1112.78 Q183.468 1108.18 189.278 1108.18 Z\" fill=\"#000000\" fill-rule=\"evenodd\" fill-opacity=\"1\" /><path clip-path=\"url(#clip960)\" d=\"M133.121 944.921 Q136.478 945.639 138.353 947.908 Q140.251 950.176 140.251 953.509 Q140.251 958.625 136.732 961.426 Q133.214 964.227 126.733 964.227 Q124.557 964.227 122.242 963.787 Q119.95 963.37 117.496 962.514 L117.496 958 Q119.441 959.134 121.756 959.713 Q124.07 960.292 126.594 960.292 Q130.992 960.292 133.283 958.556 Q135.598 956.82 135.598 953.509 Q135.598 950.454 133.445 948.741 Q131.316 947.005 127.496 947.005 L123.469 947.005 L123.469 943.162 L127.682 943.162 Q131.131 943.162 132.959 941.797 Q134.788 940.408 134.788 937.815 Q134.788 935.153 132.89 933.741 Q131.015 932.306 127.496 932.306 Q125.575 932.306 123.376 932.722 Q121.177 933.139 118.538 934.019 L118.538 929.852 Q121.2 929.111 123.515 928.741 Q125.853 928.371 127.913 928.371 Q133.237 928.371 136.339 930.801 Q139.441 933.209 139.441 937.329 Q139.441 940.199 137.797 942.19 Q136.154 944.158 133.121 944.921 Z\" fill=\"#000000\" fill-rule=\"evenodd\" fill-opacity=\"1\" /><path clip-path=\"url(#clip960)\" d=\"M149.163 928.996 L167.519 928.996 L167.519 932.931 L153.445 932.931 L153.445 941.403 Q154.464 941.056 155.482 940.894 Q156.501 940.709 157.519 940.709 Q163.306 940.709 166.686 943.88 Q170.066 947.051 170.066 952.468 Q170.066 958.046 166.593 961.148 Q163.121 964.227 156.802 964.227 Q154.626 964.227 152.357 963.857 Q150.112 963.486 147.705 962.745 L147.705 958.046 Q149.788 959.181 152.01 959.736 Q154.232 960.292 156.709 960.292 Q160.714 960.292 163.052 958.185 Q165.39 956.079 165.39 952.468 Q165.39 948.857 163.052 946.75 Q160.714 944.644 156.709 944.644 Q154.834 944.644 152.959 945.06 Q151.107 945.477 149.163 946.357 L149.163 928.996 Z\" fill=\"#000000\" fill-rule=\"evenodd\" fill-opacity=\"1\" /><path clip-path=\"url(#clip960)\" d=\"M189.278 932.074 Q185.667 932.074 183.839 935.639 Q182.033 939.181 182.033 946.31 Q182.033 953.417 183.839 956.982 Q185.667 960.523 189.278 960.523 Q192.913 960.523 194.718 956.982 Q196.547 953.417 196.547 946.31 Q196.547 939.181 194.718 935.639 Q192.913 932.074 189.278 932.074 M189.278 928.371 Q195.089 928.371 198.144 932.977 Q201.223 937.56 201.223 946.31 Q201.223 955.037 198.144 959.644 Q195.089 964.227 189.278 964.227 Q183.468 964.227 180.39 959.644 Q177.334 955.037 177.334 946.31 Q177.334 937.56 180.39 932.977 Q183.468 928.371 189.278 928.371 Z\" fill=\"#000000\" fill-rule=\"evenodd\" fill-opacity=\"1\" /><path clip-path=\"url(#clip960)\" d=\"M131.802 753.263 L119.996 771.712 L131.802 771.712 L131.802 753.263 M130.575 749.189 L136.455 749.189 L136.455 771.712 L141.385 771.712 L141.385 775.601 L136.455 775.601 L136.455 783.749 L131.802 783.749 L131.802 775.601 L116.2 775.601 L116.2 771.087 L130.575 749.189 Z\" fill=\"#000000\" fill-rule=\"evenodd\" fill-opacity=\"1\" /><path clip-path=\"url(#clip960)\" d=\"M159.117 752.268 Q155.506 752.268 153.677 755.833 Q151.871 759.374 151.871 766.504 Q151.871 773.611 153.677 777.175 Q155.506 780.717 159.117 780.717 Q162.751 780.717 164.556 777.175 Q166.385 773.611 166.385 766.504 Q166.385 759.374 164.556 755.833 Q162.751 752.268 159.117 752.268 M159.117 748.564 Q164.927 748.564 167.982 753.171 Q171.061 757.754 171.061 766.504 Q171.061 775.231 167.982 779.837 Q164.927 784.421 159.117 784.421 Q153.306 784.421 150.228 779.837 Q147.172 775.231 147.172 766.504 Q147.172 757.754 150.228 753.171 Q153.306 748.564 159.117 748.564 Z\" fill=\"#000000\" fill-rule=\"evenodd\" fill-opacity=\"1\" /><path clip-path=\"url(#clip960)\" d=\"M189.278 752.268 Q185.667 752.268 183.839 755.833 Q182.033 759.374 182.033 766.504 Q182.033 773.611 183.839 777.175 Q185.667 780.717 189.278 780.717 Q192.913 780.717 194.718 777.175 Q196.547 773.611 196.547 766.504 Q196.547 759.374 194.718 755.833 Q192.913 752.268 189.278 752.268 M189.278 748.564 Q195.089 748.564 198.144 753.171 Q201.223 757.754 201.223 766.504 Q201.223 775.231 198.144 779.837 Q195.089 784.421 189.278 784.421 Q183.468 784.421 180.39 779.837 Q177.334 775.231 177.334 766.504 Q177.334 757.754 180.39 753.171 Q183.468 748.564 189.278 748.564 Z\" fill=\"#000000\" fill-rule=\"evenodd\" fill-opacity=\"1\" /><path clip-path=\"url(#clip960)\" d=\"M131.802 573.457 L119.996 591.906 L131.802 591.906 L131.802 573.457 M130.575 569.383 L136.455 569.383 L136.455 591.906 L141.385 591.906 L141.385 595.795 L136.455 595.795 L136.455 603.943 L131.802 603.943 L131.802 595.795 L116.2 595.795 L116.2 591.281 L130.575 569.383 Z\" fill=\"#000000\" fill-rule=\"evenodd\" fill-opacity=\"1\" /><path clip-path=\"url(#clip960)\" d=\"M149.163 569.383 L167.519 569.383 L167.519 573.318 L153.445 573.318 L153.445 581.79 Q154.464 581.443 155.482 581.281 Q156.501 581.096 157.519 581.096 Q163.306 581.096 166.686 584.267 Q170.066 587.438 170.066 592.855 Q170.066 598.434 166.593 601.536 Q163.121 604.614 156.802 604.614 Q154.626 604.614 152.357 604.244 Q150.112 603.874 147.705 603.133 L147.705 598.434 Q149.788 599.568 152.01 600.124 Q154.232 600.679 156.709 600.679 Q160.714 600.679 163.052 598.573 Q165.39 596.466 165.39 592.855 Q165.39 589.244 163.052 587.138 Q160.714 585.031 156.709 585.031 Q154.834 585.031 152.959 585.448 Q151.107 585.864 149.163 586.744 L149.163 569.383 Z\" fill=\"#000000\" fill-rule=\"evenodd\" fill-opacity=\"1\" /><path clip-path=\"url(#clip960)\" d=\"M189.278 572.462 Q185.667 572.462 183.839 576.027 Q182.033 579.568 182.033 586.698 Q182.033 593.804 183.839 597.369 Q185.667 600.911 189.278 600.911 Q192.913 600.911 194.718 597.369 Q196.547 593.804 196.547 586.698 Q196.547 579.568 194.718 576.027 Q192.913 572.462 189.278 572.462 M189.278 568.758 Q195.089 568.758 198.144 573.364 Q201.223 577.948 201.223 586.698 Q201.223 595.425 198.144 600.031 Q195.089 604.614 189.278 604.614 Q183.468 604.614 180.39 600.031 Q177.334 595.425 177.334 586.698 Q177.334 577.948 180.39 573.364 Q183.468 568.758 189.278 568.758 Z\" fill=\"#000000\" fill-rule=\"evenodd\" fill-opacity=\"1\" /><path clip-path=\"url(#clip960)\" d=\"M119.001 389.577 L137.357 389.577 L137.357 393.512 L123.283 393.512 L123.283 401.984 Q124.302 401.637 125.32 401.475 Q126.339 401.29 127.358 401.29 Q133.145 401.29 136.524 404.461 Q139.904 407.632 139.904 413.049 Q139.904 418.627 136.432 421.729 Q132.959 424.808 126.64 424.808 Q124.464 424.808 122.195 424.438 Q119.95 424.067 117.543 423.327 L117.543 418.627 Q119.626 419.762 121.848 420.317 Q124.07 420.873 126.547 420.873 Q130.552 420.873 132.89 418.766 Q135.228 416.66 135.228 413.049 Q135.228 409.438 132.89 407.331 Q130.552 405.225 126.547 405.225 Q124.672 405.225 122.797 405.641 Q120.946 406.058 119.001 406.938 L119.001 389.577 Z\" fill=\"#000000\" fill-rule=\"evenodd\" fill-opacity=\"1\" /><path clip-path=\"url(#clip960)\" d=\"M159.117 392.655 Q155.506 392.655 153.677 396.22 Q151.871 399.762 151.871 406.891 Q151.871 413.998 153.677 417.563 Q155.506 421.104 159.117 421.104 Q162.751 421.104 164.556 417.563 Q166.385 413.998 166.385 406.891 Q166.385 399.762 164.556 396.22 Q162.751 392.655 159.117 392.655 M159.117 388.952 Q164.927 388.952 167.982 393.558 Q171.061 398.141 171.061 406.891 Q171.061 415.618 167.982 420.225 Q164.927 424.808 159.117 424.808 Q153.306 424.808 150.228 420.225 Q147.172 415.618 147.172 406.891 Q147.172 398.141 150.228 393.558 Q153.306 388.952 159.117 388.952 Z\" fill=\"#000000\" fill-rule=\"evenodd\" fill-opacity=\"1\" /><path clip-path=\"url(#clip960)\" d=\"M189.278 392.655 Q185.667 392.655 183.839 396.22 Q182.033 399.762 182.033 406.891 Q182.033 413.998 183.839 417.563 Q185.667 421.104 189.278 421.104 Q192.913 421.104 194.718 417.563 Q196.547 413.998 196.547 406.891 Q196.547 399.762 194.718 396.22 Q192.913 392.655 189.278 392.655 M189.278 388.952 Q195.089 388.952 198.144 393.558 Q201.223 398.141 201.223 406.891 Q201.223 415.618 198.144 420.225 Q195.089 424.808 189.278 424.808 Q183.468 424.808 180.39 420.225 Q177.334 415.618 177.334 406.891 Q177.334 398.141 180.39 393.558 Q183.468 388.952 189.278 388.952 Z\" fill=\"#000000\" fill-rule=\"evenodd\" fill-opacity=\"1\" /><path clip-path=\"url(#clip960)\" d=\"M6.42416 1146.12 L6.42416 1139.21 L25.9669 1126.03 L6.42416 1112.95 L6.42416 1106.05 L31.3141 1122.85 L53.9442 1122.85 L53.9442 1129.31 L31.3141 1129.31 L6.42416 1146.12 Z\" fill=\"#000000\" fill-rule=\"evenodd\" fill-opacity=\"1\" /><circle clip-path=\"url(#clip962)\" cx=\"1037.96\" cy=\"1217.69\" r=\"14.4\" fill=\"#009af9\" fill-rule=\"evenodd\" fill-opacity=\"1\" stroke=\"#000000\" stroke-opacity=\"1\" stroke-width=\"4.8\"/>\n",
       "<circle clip-path=\"url(#clip962)\" cx=\"778.117\" cy=\"597.01\" r=\"14.4\" fill=\"#e26f46\" fill-rule=\"evenodd\" fill-opacity=\"1\" stroke=\"#000000\" stroke-opacity=\"1\" stroke-width=\"4.8\"/>\n",
       "<circle clip-path=\"url(#clip962)\" cx=\"835.326\" cy=\"597.837\" r=\"14.4\" fill=\"#e26f46\" fill-rule=\"evenodd\" fill-opacity=\"1\" stroke=\"#000000\" stroke-opacity=\"1\" stroke-width=\"4.8\"/>\n",
       "<circle clip-path=\"url(#clip962)\" cx=\"682.775\" cy=\"640.253\" r=\"14.4\" fill=\"#e26f46\" fill-rule=\"evenodd\" fill-opacity=\"1\" stroke=\"#000000\" stroke-opacity=\"1\" stroke-width=\"4.8\"/>\n",
       "<circle clip-path=\"url(#clip962)\" cx=\"1816.78\" cy=\"412.853\" r=\"14.4\" fill=\"#e26f46\" fill-rule=\"evenodd\" fill-opacity=\"1\" stroke=\"#000000\" stroke-opacity=\"1\" stroke-width=\"4.8\"/>\n",
       "<circle clip-path=\"url(#clip962)\" cx=\"1829.39\" cy=\"464.999\" r=\"14.4\" fill=\"#e26f46\" fill-rule=\"evenodd\" fill-opacity=\"1\" stroke=\"#000000\" stroke-opacity=\"1\" stroke-width=\"4.8\"/>\n",
       "<circle clip-path=\"url(#clip962)\" cx=\"1838.05\" cy=\"432.352\" r=\"14.4\" fill=\"#e26f46\" fill-rule=\"evenodd\" fill-opacity=\"1\" stroke=\"#000000\" stroke-opacity=\"1\" stroke-width=\"4.8\"/>\n",
       "<circle clip-path=\"url(#clip962)\" cx=\"1745.36\" cy=\"411.029\" r=\"14.4\" fill=\"#e26f46\" fill-rule=\"evenodd\" fill-opacity=\"1\" stroke=\"#000000\" stroke-opacity=\"1\" stroke-width=\"4.8\"/>\n",
       "<circle clip-path=\"url(#clip962)\" cx=\"425.168\" cy=\"944.269\" r=\"14.4\" fill=\"#e26f46\" fill-rule=\"evenodd\" fill-opacity=\"1\" stroke=\"#000000\" stroke-opacity=\"1\" stroke-width=\"4.8\"/>\n",
       "<circle clip-path=\"url(#clip962)\" cx=\"477.104\" cy=\"977.489\" r=\"14.4\" fill=\"#e26f46\" fill-rule=\"evenodd\" fill-opacity=\"1\" stroke=\"#000000\" stroke-opacity=\"1\" stroke-width=\"4.8\"/>\n",
       "<circle clip-path=\"url(#clip962)\" cx=\"517.707\" cy=\"893.457\" r=\"14.4\" fill=\"#e26f46\" fill-rule=\"evenodd\" fill-opacity=\"1\" stroke=\"#000000\" stroke-opacity=\"1\" stroke-width=\"4.8\"/>\n",
       "<circle clip-path=\"url(#clip962)\" cx=\"1509.21\" cy=\"511.448\" r=\"14.4\" fill=\"#e26f46\" fill-rule=\"evenodd\" fill-opacity=\"1\" stroke=\"#000000\" stroke-opacity=\"1\" stroke-width=\"4.8\"/>\n",
       "<circle clip-path=\"url(#clip962)\" cx=\"1509.25\" cy=\"480.4\" r=\"14.4\" fill=\"#e26f46\" fill-rule=\"evenodd\" fill-opacity=\"1\" stroke=\"#000000\" stroke-opacity=\"1\" stroke-width=\"4.8\"/>\n",
       "<circle clip-path=\"url(#clip962)\" cx=\"1445.77\" cy=\"536.283\" r=\"14.4\" fill=\"#e26f46\" fill-rule=\"evenodd\" fill-opacity=\"1\" stroke=\"#000000\" stroke-opacity=\"1\" stroke-width=\"4.8\"/>\n",
       "<circle clip-path=\"url(#clip962)\" cx=\"1412.97\" cy=\"563.997\" r=\"14.4\" fill=\"#e26f46\" fill-rule=\"evenodd\" fill-opacity=\"1\" stroke=\"#000000\" stroke-opacity=\"1\" stroke-width=\"4.8\"/>\n",
       "<circle clip-path=\"url(#clip962)\" cx=\"1587.99\" cy=\"566.574\" r=\"14.4\" fill=\"#e26f46\" fill-rule=\"evenodd\" fill-opacity=\"1\" stroke=\"#000000\" stroke-opacity=\"1\" stroke-width=\"4.8\"/>\n",
       "<circle clip-path=\"url(#clip962)\" cx=\"1410.3\" cy=\"496.817\" r=\"14.4\" fill=\"#e26f46\" fill-rule=\"evenodd\" fill-opacity=\"1\" stroke=\"#000000\" stroke-opacity=\"1\" stroke-width=\"4.8\"/>\n",
       "<circle clip-path=\"url(#clip962)\" cx=\"1466.99\" cy=\"429.608\" r=\"14.4\" fill=\"#e26f46\" fill-rule=\"evenodd\" fill-opacity=\"1\" stroke=\"#000000\" stroke-opacity=\"1\" stroke-width=\"4.8\"/>\n",
       "<circle clip-path=\"url(#clip962)\" cx=\"1443.09\" cy=\"440.414\" r=\"14.4\" fill=\"#e26f46\" fill-rule=\"evenodd\" fill-opacity=\"1\" stroke=\"#000000\" stroke-opacity=\"1\" stroke-width=\"4.8\"/>\n",
       "<circle clip-path=\"url(#clip962)\" cx=\"1374.4\" cy=\"452.984\" r=\"14.4\" fill=\"#e26f46\" fill-rule=\"evenodd\" fill-opacity=\"1\" stroke=\"#000000\" stroke-opacity=\"1\" stroke-width=\"4.8\"/>\n",
       "<circle clip-path=\"url(#clip962)\" cx=\"1432.25\" cy=\"1321.03\" r=\"14.4\" fill=\"#e26f46\" fill-rule=\"evenodd\" fill-opacity=\"1\" stroke=\"#000000\" stroke-opacity=\"1\" stroke-width=\"4.8\"/>\n",
       "<circle clip-path=\"url(#clip962)\" cx=\"1342.61\" cy=\"1284.3\" r=\"14.4\" fill=\"#e26f46\" fill-rule=\"evenodd\" fill-opacity=\"1\" stroke=\"#000000\" stroke-opacity=\"1\" stroke-width=\"4.8\"/>\n",
       "<circle clip-path=\"url(#clip962)\" cx=\"1371.6\" cy=\"1283.63\" r=\"14.4\" fill=\"#e26f46\" fill-rule=\"evenodd\" fill-opacity=\"1\" stroke=\"#000000\" stroke-opacity=\"1\" stroke-width=\"4.8\"/>\n",
       "<circle clip-path=\"url(#clip962)\" cx=\"1419.77\" cy=\"1376.15\" r=\"14.4\" fill=\"#e26f46\" fill-rule=\"evenodd\" fill-opacity=\"1\" stroke=\"#000000\" stroke-opacity=\"1\" stroke-width=\"4.8\"/>\n",
       "<circle clip-path=\"url(#clip962)\" cx=\"606.852\" cy=\"1702.68\" r=\"14.4\" fill=\"#e26f46\" fill-rule=\"evenodd\" fill-opacity=\"1\" stroke=\"#000000\" stroke-opacity=\"1\" stroke-width=\"4.8\"/>\n",
       "<circle clip-path=\"url(#clip962)\" cx=\"564.275\" cy=\"1675.97\" r=\"14.4\" fill=\"#e26f46\" fill-rule=\"evenodd\" fill-opacity=\"1\" stroke=\"#000000\" stroke-opacity=\"1\" stroke-width=\"4.8\"/>\n",
       "<circle clip-path=\"url(#clip962)\" cx=\"491.184\" cy=\"1126.08\" r=\"14.4\" fill=\"#3da44d\" fill-rule=\"evenodd\" fill-opacity=\"1\" stroke=\"#000000\" stroke-opacity=\"1\" stroke-width=\"4.8\"/>\n",
       "<circle clip-path=\"url(#clip962)\" cx=\"491.184\" cy=\"946.276\" r=\"14.4\" fill=\"#3da44d\" fill-rule=\"evenodd\" fill-opacity=\"1\" stroke=\"#000000\" stroke-opacity=\"1\" stroke-width=\"4.8\"/>\n",
       "<circle clip-path=\"url(#clip962)\" cx=\"733.145\" cy=\"946.276\" r=\"14.4\" fill=\"#3da44d\" fill-rule=\"evenodd\" fill-opacity=\"1\" stroke=\"#000000\" stroke-opacity=\"1\" stroke-width=\"4.8\"/>\n",
       "<circle clip-path=\"url(#clip962)\" cx=\"733.145\" cy=\"766.469\" r=\"14.4\" fill=\"#3da44d\" fill-rule=\"evenodd\" fill-opacity=\"1\" stroke=\"#000000\" stroke-opacity=\"1\" stroke-width=\"4.8\"/>\n",
       "<circle clip-path=\"url(#clip962)\" cx=\"975.106\" cy=\"586.663\" r=\"14.4\" fill=\"#3da44d\" fill-rule=\"evenodd\" fill-opacity=\"1\" stroke=\"#000000\" stroke-opacity=\"1\" stroke-width=\"4.8\"/>\n",
       "<circle clip-path=\"url(#clip962)\" cx=\"1217.07\" cy=\"1305.89\" r=\"14.4\" fill=\"#3da44d\" fill-rule=\"evenodd\" fill-opacity=\"1\" stroke=\"#000000\" stroke-opacity=\"1\" stroke-width=\"4.8\"/>\n",
       "<circle clip-path=\"url(#clip962)\" cx=\"1217.07\" cy=\"586.663\" r=\"14.4\" fill=\"#3da44d\" fill-rule=\"evenodd\" fill-opacity=\"1\" stroke=\"#000000\" stroke-opacity=\"1\" stroke-width=\"4.8\"/>\n",
       "<circle clip-path=\"url(#clip962)\" cx=\"1459.03\" cy=\"1126.08\" r=\"14.4\" fill=\"#3da44d\" fill-rule=\"evenodd\" fill-opacity=\"1\" stroke=\"#000000\" stroke-opacity=\"1\" stroke-width=\"4.8\"/>\n",
       "<circle clip-path=\"url(#clip962)\" cx=\"1459.03\" cy=\"586.663\" r=\"14.4\" fill=\"#3da44d\" fill-rule=\"evenodd\" fill-opacity=\"1\" stroke=\"#000000\" stroke-opacity=\"1\" stroke-width=\"4.8\"/>\n",
       "<circle clip-path=\"url(#clip962)\" cx=\"1700.99\" cy=\"586.663\" r=\"14.4\" fill=\"#3da44d\" fill-rule=\"evenodd\" fill-opacity=\"1\" stroke=\"#000000\" stroke-opacity=\"1\" stroke-width=\"4.8\"/>\n",
       "<circle clip-path=\"url(#clip962)\" cx=\"1821.97\" cy=\"406.857\" r=\"14.4\" fill=\"#3da44d\" fill-rule=\"evenodd\" fill-opacity=\"1\" stroke=\"#000000\" stroke-opacity=\"1\" stroke-width=\"4.8\"/>\n",
       "<circle clip-path=\"url(#clip962)\" cx=\"612.164\" cy=\"1665.5\" r=\"14.4\" fill=\"#3da44d\" fill-rule=\"evenodd\" fill-opacity=\"1\" stroke=\"#000000\" stroke-opacity=\"1\" stroke-width=\"4.8\"/>\n",
       "<path clip-path=\"url(#clip960)\" d=\"\n",
       "M2270.93 378.367 L3055.97 378.367 L3055.97 119.167 L2270.93 119.167  Z\n",
       "  \" fill=\"#ffffff\" fill-rule=\"evenodd\" fill-opacity=\"1\"/>\n",
       "<polyline clip-path=\"url(#clip960)\" style=\"stroke:#000000; stroke-linecap:round; stroke-linejoin:round; stroke-width:4; stroke-opacity:1; fill:none\" points=\"\n",
       "  2270.93,378.367 3055.97,378.367 3055.97,119.167 2270.93,119.167 2270.93,378.367 \n",
       "  \"/>\n",
       "<circle clip-path=\"url(#clip960)\" cx=\"2399.97\" cy=\"171.007\" r=\"23.04\" fill=\"#009af9\" fill-rule=\"evenodd\" fill-opacity=\"1\" stroke=\"#000000\" stroke-opacity=\"1\" stroke-width=\"7.68\"/>\n",
       "<path clip-path=\"url(#clip960)\" d=\"M2533.7 157.569 L2533.7 184.444 L2539.34 184.444 Q2546.5 184.444 2549.81 181.203 Q2553.14 177.963 2553.14 170.972 Q2553.14 164.027 2549.81 160.81 Q2546.5 157.569 2539.34 157.569 L2533.7 157.569 M2529.02 153.727 L2538.63 153.727 Q2548.67 153.727 2553.37 157.916 Q2558.07 162.083 2558.07 170.972 Q2558.07 179.907 2553.35 184.097 Q2548.63 188.287 2538.63 188.287 L2529.02 188.287 L2529.02 153.727 Z\" fill=\"#000000\" fill-rule=\"evenodd\" fill-opacity=\"1\" /><path clip-path=\"url(#clip960)\" d=\"M2587.52 174.259 L2587.52 176.342 L2567.93 176.342 Q2568.21 180.74 2570.57 183.055 Q2572.96 185.347 2577.19 185.347 Q2579.65 185.347 2581.94 184.745 Q2584.25 184.143 2586.52 182.939 L2586.52 186.967 Q2584.23 187.939 2581.82 188.449 Q2579.41 188.958 2576.94 188.958 Q2570.73 188.958 2567.1 185.347 Q2563.49 181.736 2563.49 175.578 Q2563.49 169.213 2566.91 165.486 Q2570.36 161.736 2576.2 161.736 Q2581.43 161.736 2584.46 165.115 Q2587.52 168.472 2587.52 174.259 M2583.26 173.009 Q2583.21 169.514 2581.29 167.43 Q2579.39 165.347 2576.24 165.347 Q2572.68 165.347 2570.52 167.361 Q2568.4 169.375 2568.07 173.032 L2583.26 173.009 Z\" fill=\"#000000\" fill-rule=\"evenodd\" fill-opacity=\"1\" /><path clip-path=\"url(#clip960)\" d=\"M2598.63 184.398 L2598.63 198.148 L2594.34 198.148 L2594.34 162.361 L2598.63 162.361 L2598.63 166.296 Q2599.97 163.981 2602.01 162.87 Q2604.07 161.736 2606.91 161.736 Q2611.64 161.736 2614.58 165.486 Q2617.54 169.236 2617.54 175.347 Q2617.54 181.458 2614.58 185.208 Q2611.64 188.958 2606.91 188.958 Q2604.07 188.958 2602.01 187.847 Q2599.97 186.713 2598.63 184.398 M2613.12 175.347 Q2613.12 170.648 2611.17 167.986 Q2609.25 165.301 2605.87 165.301 Q2602.49 165.301 2600.55 167.986 Q2598.63 170.648 2598.63 175.347 Q2598.63 180.046 2600.55 182.731 Q2602.49 185.393 2605.87 185.393 Q2609.25 185.393 2611.17 182.731 Q2613.12 180.046 2613.12 175.347 Z\" fill=\"#000000\" fill-rule=\"evenodd\" fill-opacity=\"1\" /><path clip-path=\"url(#clip960)\" d=\"M2634.64 165.347 Q2631.22 165.347 2629.23 168.032 Q2627.24 170.694 2627.24 175.347 Q2627.24 180 2629.21 182.685 Q2631.2 185.347 2634.64 185.347 Q2638.05 185.347 2640.04 182.662 Q2642.03 179.976 2642.03 175.347 Q2642.03 170.74 2640.04 168.055 Q2638.05 165.347 2634.64 165.347 M2634.64 161.736 Q2640.2 161.736 2643.37 165.347 Q2646.54 168.958 2646.54 175.347 Q2646.54 181.713 2643.37 185.347 Q2640.2 188.958 2634.64 188.958 Q2629.07 188.958 2625.89 185.347 Q2622.75 181.713 2622.75 175.347 Q2622.75 168.958 2625.89 165.347 Q2629.07 161.736 2634.64 161.736 Z\" fill=\"#000000\" fill-rule=\"evenodd\" fill-opacity=\"1\" /><path clip-path=\"url(#clip960)\" d=\"M2657.82 155 L2657.82 162.361 L2666.59 162.361 L2666.59 165.671 L2657.82 165.671 L2657.82 179.745 Q2657.82 182.916 2658.67 183.819 Q2659.55 184.722 2662.21 184.722 L2666.59 184.722 L2666.59 188.287 L2662.21 188.287 Q2657.28 188.287 2655.41 186.458 Q2653.53 184.606 2653.53 179.745 L2653.53 165.671 L2650.41 165.671 L2650.41 162.361 L2653.53 162.361 L2653.53 155 L2657.82 155 Z\" fill=\"#000000\" fill-rule=\"evenodd\" fill-opacity=\"1\" /><circle clip-path=\"url(#clip960)\" cx=\"2399.97\" cy=\"222.847\" r=\"23.04\" fill=\"#e26f46\" fill-rule=\"evenodd\" fill-opacity=\"1\" stroke=\"#000000\" stroke-opacity=\"1\" stroke-width=\"7.68\"/>\n",
       "<path clip-path=\"url(#clip960)\" d=\"M2556.89 208.229 L2556.89 213.159 Q2554.53 210.96 2551.84 209.872 Q2549.18 208.784 2546.17 208.784 Q2540.25 208.784 2537.1 212.418 Q2533.95 216.03 2533.95 222.881 Q2533.95 229.71 2537.1 233.344 Q2540.25 236.955 2546.17 236.955 Q2549.18 236.955 2551.84 235.867 Q2554.53 234.779 2556.89 232.58 L2556.89 237.465 Q2554.44 239.131 2551.68 239.965 Q2548.95 240.798 2545.9 240.798 Q2538.05 240.798 2533.53 236.006 Q2529.02 231.191 2529.02 222.881 Q2529.02 214.548 2533.53 209.756 Q2538.05 204.942 2545.9 204.942 Q2549 204.942 2551.73 205.775 Q2554.48 206.585 2556.89 208.229 Z\" fill=\"#000000\" fill-rule=\"evenodd\" fill-opacity=\"1\" /><path clip-path=\"url(#clip960)\" d=\"M2573.97 217.187 Q2570.55 217.187 2568.56 219.872 Q2566.57 222.534 2566.57 227.187 Q2566.57 231.84 2568.53 234.525 Q2570.52 237.187 2573.97 237.187 Q2577.38 237.187 2579.37 234.502 Q2581.36 231.816 2581.36 227.187 Q2581.36 222.58 2579.37 219.895 Q2577.38 217.187 2573.97 217.187 M2573.97 213.576 Q2579.53 213.576 2582.7 217.187 Q2585.87 220.798 2585.87 227.187 Q2585.87 233.553 2582.7 237.187 Q2579.53 240.798 2573.97 240.798 Q2568.4 240.798 2565.22 237.187 Q2562.08 233.553 2562.08 227.187 Q2562.08 220.798 2565.22 217.187 Q2568.4 213.576 2573.97 213.576 Z\" fill=\"#000000\" fill-rule=\"evenodd\" fill-opacity=\"1\" /><path clip-path=\"url(#clip960)\" d=\"M2589.88 214.201 L2594.39 214.201 L2602.49 235.96 L2610.59 214.201 L2615.11 214.201 L2605.39 240.127 L2599.6 240.127 L2589.88 214.201 Z\" fill=\"#000000\" fill-rule=\"evenodd\" fill-opacity=\"1\" /><path clip-path=\"url(#clip960)\" d=\"M2643.16 226.099 L2643.16 228.182 L2623.58 228.182 Q2623.86 232.58 2626.22 234.895 Q2628.6 237.187 2632.84 237.187 Q2635.29 237.187 2637.58 236.585 Q2639.9 235.983 2642.17 234.779 L2642.17 238.807 Q2639.88 239.779 2637.47 240.289 Q2635.06 240.798 2632.58 240.798 Q2626.38 240.798 2622.75 237.187 Q2619.14 233.576 2619.14 227.418 Q2619.14 221.053 2622.56 217.326 Q2626.01 213.576 2631.84 213.576 Q2637.08 213.576 2640.11 216.955 Q2643.16 220.312 2643.16 226.099 M2638.9 224.849 Q2638.86 221.354 2636.94 219.27 Q2635.04 217.187 2631.89 217.187 Q2628.33 217.187 2626.17 219.201 Q2624.04 221.215 2623.72 224.872 L2638.9 224.849 Z\" fill=\"#000000\" fill-rule=\"evenodd\" fill-opacity=\"1\" /><path clip-path=\"url(#clip960)\" d=\"M2665.18 218.182 Q2664.46 217.766 2663.6 217.58 Q2662.77 217.372 2661.75 217.372 Q2658.14 217.372 2656.2 219.733 Q2654.27 222.071 2654.27 226.469 L2654.27 240.127 L2649.99 240.127 L2649.99 214.201 L2654.27 214.201 L2654.27 218.229 Q2655.62 215.867 2657.77 214.733 Q2659.92 213.576 2663 213.576 Q2663.44 213.576 2663.97 213.645 Q2664.51 213.692 2665.15 213.807 L2665.18 218.182 Z\" fill=\"#000000\" fill-rule=\"evenodd\" fill-opacity=\"1\" /><path clip-path=\"url(#clip960)\" d=\"M2690.78 226.099 L2690.78 228.182 L2671.2 228.182 Q2671.47 232.58 2673.83 234.895 Q2676.22 237.187 2680.45 237.187 Q2682.91 237.187 2685.2 236.585 Q2687.51 235.983 2689.78 234.779 L2689.78 238.807 Q2687.49 239.779 2685.08 240.289 Q2682.68 240.798 2680.2 240.798 Q2674 240.798 2670.36 237.187 Q2666.75 233.576 2666.75 227.418 Q2666.75 221.053 2670.18 217.326 Q2673.63 213.576 2679.46 213.576 Q2684.69 213.576 2687.72 216.955 Q2690.78 220.312 2690.78 226.099 M2686.52 224.849 Q2686.47 221.354 2684.55 219.27 Q2682.65 217.187 2679.51 217.187 Q2675.94 217.187 2673.79 219.201 Q2671.66 221.215 2671.33 224.872 L2686.52 224.849 Z\" fill=\"#000000\" fill-rule=\"evenodd\" fill-opacity=\"1\" /><path clip-path=\"url(#clip960)\" d=\"M2714.83 218.136 L2714.83 204.108 L2719.09 204.108 L2719.09 240.127 L2714.83 240.127 L2714.83 236.238 Q2713.49 238.553 2711.43 239.687 Q2709.39 240.798 2706.52 240.798 Q2701.82 240.798 2698.86 237.048 Q2695.92 233.298 2695.92 227.187 Q2695.92 221.076 2698.86 217.326 Q2701.82 213.576 2706.52 213.576 Q2709.39 213.576 2711.43 214.71 Q2713.49 215.821 2714.83 218.136 M2700.32 227.187 Q2700.32 231.886 2702.24 234.571 Q2704.18 237.233 2707.56 237.233 Q2710.94 237.233 2712.89 234.571 Q2714.83 231.886 2714.83 227.187 Q2714.83 222.488 2712.89 219.826 Q2710.94 217.141 2707.56 217.141 Q2704.18 217.141 2702.24 219.826 Q2700.32 222.488 2700.32 227.187 Z\" fill=\"#000000\" fill-rule=\"evenodd\" fill-opacity=\"1\" /><path clip-path=\"url(#clip960)\" d=\"M2743.12 205.567 L2747.79 205.567 L2747.79 237.719 Q2747.79 243.969 2745.41 246.793 Q2743.05 249.617 2737.79 249.617 L2736.01 249.617 L2736.01 245.682 L2737.47 245.682 Q2740.57 245.682 2741.84 243.946 Q2743.12 242.21 2743.12 237.719 L2743.12 205.567 Z\" fill=\"#000000\" fill-rule=\"evenodd\" fill-opacity=\"1\" /><path clip-path=\"url(#clip960)\" d=\"M2766.96 217.187 Q2763.53 217.187 2761.54 219.872 Q2759.55 222.534 2759.55 227.187 Q2759.55 231.84 2761.52 234.525 Q2763.51 237.187 2766.96 237.187 Q2770.36 237.187 2772.35 234.502 Q2774.34 231.816 2774.34 227.187 Q2774.34 222.58 2772.35 219.895 Q2770.36 217.187 2766.96 217.187 M2766.96 213.576 Q2772.51 213.576 2775.69 217.187 Q2778.86 220.798 2778.86 227.187 Q2778.86 233.553 2775.69 237.187 Q2772.51 240.798 2766.96 240.798 Q2761.38 240.798 2758.21 237.187 Q2755.06 233.553 2755.06 227.187 Q2755.06 220.798 2758.21 217.187 Q2761.38 213.576 2766.96 213.576 Z\" fill=\"#000000\" fill-rule=\"evenodd\" fill-opacity=\"1\" /><path clip-path=\"url(#clip960)\" d=\"M2804.53 227.187 Q2804.53 222.488 2802.58 219.826 Q2800.66 217.141 2797.28 217.141 Q2793.9 217.141 2791.96 219.826 Q2790.04 222.488 2790.04 227.187 Q2790.04 231.886 2791.96 234.571 Q2793.9 237.233 2797.28 237.233 Q2800.66 237.233 2802.58 234.571 Q2804.53 231.886 2804.53 227.187 M2790.04 218.136 Q2791.38 215.821 2793.42 214.71 Q2795.48 213.576 2798.32 213.576 Q2803.05 213.576 2805.99 217.326 Q2808.95 221.076 2808.95 227.187 Q2808.95 233.298 2805.99 237.048 Q2803.05 240.798 2798.32 240.798 Q2795.48 240.798 2793.42 239.687 Q2791.38 238.553 2790.04 236.238 L2790.04 240.127 L2785.76 240.127 L2785.76 204.108 L2790.04 204.108 L2790.04 218.136 Z\" fill=\"#000000\" fill-rule=\"evenodd\" fill-opacity=\"1\" /><path clip-path=\"url(#clip960)\" d=\"M2832.54 214.965 L2832.54 218.992 Q2830.73 218.067 2828.79 217.604 Q2826.84 217.141 2824.76 217.141 Q2821.59 217.141 2819.99 218.113 Q2818.42 219.085 2818.42 221.029 Q2818.42 222.511 2819.55 223.367 Q2820.69 224.201 2824.11 224.965 L2825.57 225.289 Q2830.11 226.261 2832 228.043 Q2833.93 229.803 2833.93 232.974 Q2833.93 236.585 2831.06 238.691 Q2828.21 240.798 2823.21 240.798 Q2821.13 240.798 2818.86 240.381 Q2816.61 239.988 2814.11 239.178 L2814.11 234.779 Q2816.47 236.006 2818.76 236.631 Q2821.06 237.233 2823.3 237.233 Q2826.31 237.233 2827.93 236.215 Q2829.55 235.173 2829.55 233.298 Q2829.55 231.562 2828.37 230.636 Q2827.21 229.71 2823.25 228.854 L2821.77 228.506 Q2817.82 227.673 2816.06 225.96 Q2814.3 224.224 2814.3 221.215 Q2814.3 217.557 2816.89 215.567 Q2819.48 213.576 2824.25 213.576 Q2826.61 213.576 2828.69 213.923 Q2830.78 214.27 2832.54 214.965 Z\" fill=\"#000000\" fill-rule=\"evenodd\" fill-opacity=\"1\" /><circle clip-path=\"url(#clip960)\" cx=\"2399.97\" cy=\"274.687\" r=\"23.04\" fill=\"#3da44d\" fill-rule=\"evenodd\" fill-opacity=\"1\" stroke=\"#000000\" stroke-opacity=\"1\" stroke-width=\"7.68\"/>\n",
       "<path clip-path=\"url(#clip960)\" d=\"M2556.89 260.069 L2556.89 264.999 Q2554.53 262.8 2551.84 261.712 Q2549.18 260.624 2546.17 260.624 Q2540.25 260.624 2537.1 264.258 Q2533.95 267.87 2533.95 274.721 Q2533.95 281.55 2537.1 285.184 Q2540.25 288.795 2546.17 288.795 Q2549.18 288.795 2551.84 287.707 Q2554.53 286.619 2556.89 284.42 L2556.89 289.305 Q2554.44 290.971 2551.68 291.805 Q2548.95 292.638 2545.9 292.638 Q2538.05 292.638 2533.53 287.846 Q2529.02 283.031 2529.02 274.721 Q2529.02 266.388 2533.53 261.596 Q2538.05 256.782 2545.9 256.782 Q2549 256.782 2551.73 257.615 Q2554.48 258.425 2556.89 260.069 Z\" fill=\"#000000\" fill-rule=\"evenodd\" fill-opacity=\"1\" /><path clip-path=\"url(#clip960)\" d=\"M2573.97 269.027 Q2570.55 269.027 2568.56 271.712 Q2566.57 274.374 2566.57 279.027 Q2566.57 283.68 2568.53 286.365 Q2570.52 289.027 2573.97 289.027 Q2577.38 289.027 2579.37 286.342 Q2581.36 283.656 2581.36 279.027 Q2581.36 274.42 2579.37 271.735 Q2577.38 269.027 2573.97 269.027 M2573.97 265.416 Q2579.53 265.416 2582.7 269.027 Q2585.87 272.638 2585.87 279.027 Q2585.87 285.393 2582.7 289.027 Q2579.53 292.638 2573.97 292.638 Q2568.4 292.638 2565.22 289.027 Q2562.08 285.393 2562.08 279.027 Q2562.08 272.638 2565.22 269.027 Q2568.4 265.416 2573.97 265.416 Z\" fill=\"#000000\" fill-rule=\"evenodd\" fill-opacity=\"1\" /><path clip-path=\"url(#clip960)\" d=\"M2589.88 266.041 L2594.39 266.041 L2602.49 287.8 L2610.59 266.041 L2615.11 266.041 L2605.39 291.967 L2599.6 291.967 L2589.88 266.041 Z\" fill=\"#000000\" fill-rule=\"evenodd\" fill-opacity=\"1\" /><path clip-path=\"url(#clip960)\" d=\"M2643.16 277.939 L2643.16 280.022 L2623.58 280.022 Q2623.86 284.42 2626.22 286.735 Q2628.6 289.027 2632.84 289.027 Q2635.29 289.027 2637.58 288.425 Q2639.9 287.823 2642.17 286.619 L2642.17 290.647 Q2639.88 291.619 2637.47 292.129 Q2635.06 292.638 2632.58 292.638 Q2626.38 292.638 2622.75 289.027 Q2619.14 285.416 2619.14 279.258 Q2619.14 272.893 2622.56 269.166 Q2626.01 265.416 2631.84 265.416 Q2637.08 265.416 2640.11 268.795 Q2643.16 272.152 2643.16 277.939 M2638.9 276.689 Q2638.86 273.194 2636.94 271.11 Q2635.04 269.027 2631.89 269.027 Q2628.33 269.027 2626.17 271.041 Q2624.04 273.055 2623.72 276.712 L2638.9 276.689 Z\" fill=\"#000000\" fill-rule=\"evenodd\" fill-opacity=\"1\" /><path clip-path=\"url(#clip960)\" d=\"M2665.18 270.022 Q2664.46 269.606 2663.6 269.42 Q2662.77 269.212 2661.75 269.212 Q2658.14 269.212 2656.2 271.573 Q2654.27 273.911 2654.27 278.309 L2654.27 291.967 L2649.99 291.967 L2649.99 266.041 L2654.27 266.041 L2654.27 270.069 Q2655.62 267.707 2657.77 266.573 Q2659.92 265.416 2663 265.416 Q2663.44 265.416 2663.97 265.485 Q2664.51 265.532 2665.15 265.647 L2665.18 270.022 Z\" fill=\"#000000\" fill-rule=\"evenodd\" fill-opacity=\"1\" /><path clip-path=\"url(#clip960)\" d=\"M2681.43 278.934 Q2676.27 278.934 2674.27 280.115 Q2672.28 281.295 2672.28 284.143 Q2672.28 286.411 2673.77 287.754 Q2675.27 289.073 2677.84 289.073 Q2681.38 289.073 2683.51 286.573 Q2685.66 284.05 2685.66 279.883 L2685.66 278.934 L2681.43 278.934 M2689.92 277.175 L2689.92 291.967 L2685.66 291.967 L2685.66 288.031 Q2684.2 290.393 2682.03 291.527 Q2679.85 292.638 2676.7 292.638 Q2672.72 292.638 2670.36 290.416 Q2668.02 288.17 2668.02 284.42 Q2668.02 280.045 2670.94 277.823 Q2673.88 275.601 2679.69 275.601 L2685.66 275.601 L2685.66 275.184 Q2685.66 272.245 2683.72 270.647 Q2681.8 269.027 2678.3 269.027 Q2676.08 269.027 2673.97 269.559 Q2671.87 270.092 2669.92 271.157 L2669.92 267.221 Q2672.26 266.319 2674.46 265.879 Q2676.66 265.416 2678.74 265.416 Q2684.37 265.416 2687.14 268.332 Q2689.92 271.249 2689.92 277.175 Z\" fill=\"#000000\" fill-rule=\"evenodd\" fill-opacity=\"1\" /><path clip-path=\"url(#clip960)\" d=\"M2715.76 278.703 Q2715.76 274.073 2713.83 271.527 Q2711.94 268.981 2708.49 268.981 Q2705.06 268.981 2703.14 271.527 Q2701.24 274.073 2701.24 278.703 Q2701.24 283.309 2703.14 285.856 Q2705.06 288.402 2708.49 288.402 Q2711.94 288.402 2713.83 285.856 Q2715.76 283.309 2715.76 278.703 M2720.01 288.749 Q2720.01 295.369 2717.07 298.587 Q2714.14 301.828 2708.07 301.828 Q2705.83 301.828 2703.83 301.48 Q2701.84 301.156 2699.97 300.462 L2699.97 296.318 Q2701.84 297.337 2703.67 297.823 Q2705.5 298.309 2707.4 298.309 Q2711.59 298.309 2713.67 296.11 Q2715.76 293.934 2715.76 289.513 L2715.76 287.406 Q2714.44 289.698 2712.38 290.832 Q2710.32 291.967 2707.45 291.967 Q2702.68 291.967 2699.76 288.332 Q2696.84 284.698 2696.84 278.703 Q2696.84 272.684 2699.76 269.05 Q2702.68 265.416 2707.45 265.416 Q2710.32 265.416 2712.38 266.55 Q2714.44 267.684 2715.76 269.976 L2715.76 266.041 L2720.01 266.041 L2720.01 288.749 Z\" fill=\"#000000\" fill-rule=\"evenodd\" fill-opacity=\"1\" /><path clip-path=\"url(#clip960)\" d=\"M2750.96 277.939 L2750.96 280.022 L2731.38 280.022 Q2731.66 284.42 2734.02 286.735 Q2736.4 289.027 2740.64 289.027 Q2743.09 289.027 2745.39 288.425 Q2747.7 287.823 2749.97 286.619 L2749.97 290.647 Q2747.68 291.619 2745.27 292.129 Q2742.86 292.638 2740.39 292.638 Q2734.18 292.638 2730.55 289.027 Q2726.94 285.416 2726.94 279.258 Q2726.94 272.893 2730.36 269.166 Q2733.81 265.416 2739.64 265.416 Q2744.88 265.416 2747.91 268.795 Q2750.96 272.152 2750.96 277.939 M2746.7 276.689 Q2746.66 273.194 2744.74 271.11 Q2742.84 269.027 2739.69 269.027 Q2736.13 269.027 2733.97 271.041 Q2731.84 273.055 2731.52 276.712 L2746.7 276.689 Z\" fill=\"#000000\" fill-rule=\"evenodd\" fill-opacity=\"1\" /><path clip-path=\"url(#clip960)\" d=\"M2773.21 257.407 L2777.88 257.407 L2777.88 288.031 L2794.71 288.031 L2794.71 291.967 L2773.21 291.967 L2773.21 257.407 Z\" fill=\"#000000\" fill-rule=\"evenodd\" fill-opacity=\"1\" /><path clip-path=\"url(#clip960)\" d=\"M2808.65 269.027 Q2805.22 269.027 2803.23 271.712 Q2801.24 274.374 2801.24 279.027 Q2801.24 283.68 2803.21 286.365 Q2805.2 289.027 2808.65 289.027 Q2812.05 289.027 2814.04 286.342 Q2816.03 283.656 2816.03 279.027 Q2816.03 274.42 2814.04 271.735 Q2812.05 269.027 2808.65 269.027 M2808.65 265.416 Q2814.2 265.416 2817.38 269.027 Q2820.55 272.638 2820.55 279.027 Q2820.55 285.393 2817.38 289.027 Q2814.2 292.638 2808.65 292.638 Q2803.07 292.638 2799.9 289.027 Q2796.75 285.393 2796.75 279.027 Q2796.75 272.638 2799.9 269.027 Q2803.07 265.416 2808.65 265.416 Z\" fill=\"#000000\" fill-rule=\"evenodd\" fill-opacity=\"1\" /><path clip-path=\"url(#clip960)\" d=\"M2846.26 267.036 L2846.26 271.018 Q2844.46 270.022 2842.63 269.536 Q2840.82 269.027 2838.97 269.027 Q2834.83 269.027 2832.54 271.666 Q2830.25 274.282 2830.25 279.027 Q2830.25 283.772 2832.54 286.411 Q2834.83 289.027 2838.97 289.027 Q2840.82 289.027 2842.63 288.541 Q2844.46 288.031 2846.26 287.036 L2846.26 290.971 Q2844.48 291.805 2842.56 292.221 Q2840.66 292.638 2838.51 292.638 Q2832.65 292.638 2829.2 288.957 Q2825.75 285.277 2825.75 279.027 Q2825.75 272.684 2829.23 269.05 Q2832.72 265.416 2838.79 265.416 Q2840.75 265.416 2842.63 265.833 Q2844.5 266.226 2846.26 267.036 Z\" fill=\"#000000\" fill-rule=\"evenodd\" fill-opacity=\"1\" /><path clip-path=\"url(#clip960)\" d=\"M2865.45 278.934 Q2860.29 278.934 2858.3 280.115 Q2856.31 281.295 2856.31 284.143 Q2856.31 286.411 2857.79 287.754 Q2859.3 289.073 2861.87 289.073 Q2865.41 289.073 2867.54 286.573 Q2869.69 284.05 2869.69 279.883 L2869.69 278.934 L2865.45 278.934 M2873.95 277.175 L2873.95 291.967 L2869.69 291.967 L2869.69 288.031 Q2868.23 290.393 2866.06 291.527 Q2863.88 292.638 2860.73 292.638 Q2856.75 292.638 2854.39 290.416 Q2852.05 288.17 2852.05 284.42 Q2852.05 280.045 2854.97 277.823 Q2857.91 275.601 2863.72 275.601 L2869.69 275.601 L2869.69 275.184 Q2869.69 272.245 2867.75 270.647 Q2865.82 269.027 2862.33 269.027 Q2860.11 269.027 2858 269.559 Q2855.89 270.092 2853.95 271.157 L2853.95 267.221 Q2856.29 266.319 2858.49 265.879 Q2860.69 265.416 2862.77 265.416 Q2868.39 265.416 2871.17 268.332 Q2873.95 271.249 2873.95 277.175 Z\" fill=\"#000000\" fill-rule=\"evenodd\" fill-opacity=\"1\" /><path clip-path=\"url(#clip960)\" d=\"M2886.94 258.68 L2886.94 266.041 L2895.71 266.041 L2895.71 269.351 L2886.94 269.351 L2886.94 283.425 Q2886.94 286.596 2887.79 287.499 Q2888.67 288.402 2891.33 288.402 L2895.71 288.402 L2895.71 291.967 L2891.33 291.967 Q2886.4 291.967 2884.53 290.138 Q2882.65 288.286 2882.65 283.425 L2882.65 269.351 L2879.53 269.351 L2879.53 266.041 L2882.65 266.041 L2882.65 258.68 L2886.94 258.68 Z\" fill=\"#000000\" fill-rule=\"evenodd\" fill-opacity=\"1\" /><path clip-path=\"url(#clip960)\" d=\"M2901.31 266.041 L2905.57 266.041 L2905.57 291.967 L2901.31 291.967 L2901.31 266.041 M2901.31 255.948 L2905.57 255.948 L2905.57 261.342 L2901.31 261.342 L2901.31 255.948 Z\" fill=\"#000000\" fill-rule=\"evenodd\" fill-opacity=\"1\" /><path clip-path=\"url(#clip960)\" d=\"M2924.53 269.027 Q2921.1 269.027 2919.11 271.712 Q2917.12 274.374 2917.12 279.027 Q2917.12 283.68 2919.09 286.365 Q2921.08 289.027 2924.53 289.027 Q2927.93 289.027 2929.92 286.342 Q2931.91 283.656 2931.91 279.027 Q2931.91 274.42 2929.92 271.735 Q2927.93 269.027 2924.53 269.027 M2924.53 265.416 Q2930.08 265.416 2933.25 269.027 Q2936.43 272.638 2936.43 279.027 Q2936.43 285.393 2933.25 289.027 Q2930.08 292.638 2924.53 292.638 Q2918.95 292.638 2915.78 289.027 Q2912.63 285.393 2912.63 279.027 Q2912.63 272.638 2915.78 269.027 Q2918.95 265.416 2924.53 265.416 Z\" fill=\"#000000\" fill-rule=\"evenodd\" fill-opacity=\"1\" /><path clip-path=\"url(#clip960)\" d=\"M2965.04 276.319 L2965.04 291.967 L2960.78 291.967 L2960.78 276.457 Q2960.78 272.777 2959.34 270.948 Q2957.91 269.12 2955.04 269.12 Q2951.59 269.12 2949.6 271.319 Q2947.61 273.518 2947.61 277.314 L2947.61 291.967 L2943.32 291.967 L2943.32 266.041 L2947.61 266.041 L2947.61 270.069 Q2949.13 267.731 2951.19 266.573 Q2953.28 265.416 2955.99 265.416 Q2960.45 265.416 2962.74 268.194 Q2965.04 270.948 2965.04 276.319 Z\" fill=\"#000000\" fill-rule=\"evenodd\" fill-opacity=\"1\" /><path clip-path=\"url(#clip960)\" d=\"M2990.06 266.805 L2990.06 270.832 Q2988.25 269.907 2986.31 269.444 Q2984.37 268.981 2982.28 268.981 Q2979.11 268.981 2977.51 269.953 Q2975.94 270.925 2975.94 272.869 Q2975.94 274.351 2977.07 275.207 Q2978.21 276.041 2981.63 276.805 L2983.09 277.129 Q2987.63 278.101 2989.53 279.883 Q2991.45 281.643 2991.45 284.814 Q2991.45 288.425 2988.58 290.531 Q2985.73 292.638 2980.73 292.638 Q2978.65 292.638 2976.38 292.221 Q2974.13 291.828 2971.63 291.018 L2971.63 286.619 Q2973.99 287.846 2976.29 288.471 Q2978.58 289.073 2980.82 289.073 Q2983.83 289.073 2985.45 288.055 Q2987.07 287.013 2987.07 285.138 Q2987.07 283.402 2985.89 282.476 Q2984.74 281.55 2980.78 280.694 L2979.3 280.346 Q2975.34 279.513 2973.58 277.8 Q2971.82 276.064 2971.82 273.055 Q2971.82 269.397 2974.41 267.407 Q2977 265.416 2981.77 265.416 Q2984.13 265.416 2986.22 265.763 Q2988.3 266.11 2990.06 266.805 Z\" fill=\"#000000\" fill-rule=\"evenodd\" fill-opacity=\"1\" /><circle clip-path=\"url(#clip960)\" cx=\"2399.97\" cy=\"326.527\" r=\"23.04\" fill=\"#c271d2\" fill-rule=\"evenodd\" fill-opacity=\"1\" stroke=\"#000000\" stroke-opacity=\"1\" stroke-width=\"7.68\"/>\n",
       "<path clip-path=\"url(#clip960)\" d=\"M2529.02 309.247 L2533.72 309.247 L2533.72 330.242 Q2533.72 335.797 2535.73 338.251 Q2537.75 340.682 2542.26 340.682 Q2546.75 340.682 2548.77 338.251 Q2550.78 335.797 2550.78 330.242 L2550.78 309.247 L2555.48 309.247 L2555.48 330.821 Q2555.48 337.58 2552.12 341.029 Q2548.79 344.478 2542.26 344.478 Q2535.71 344.478 2532.35 341.029 Q2529.02 337.58 2529.02 330.821 L2529.02 309.247 Z\" fill=\"#000000\" fill-rule=\"evenodd\" fill-opacity=\"1\" /><path clip-path=\"url(#clip960)\" d=\"M2585.62 328.159 L2585.62 343.807 L2581.36 343.807 L2581.36 328.297 Q2581.36 324.617 2579.92 322.788 Q2578.49 320.96 2575.62 320.96 Q2572.17 320.96 2570.18 323.159 Q2568.19 325.358 2568.19 329.154 L2568.19 343.807 L2563.9 343.807 L2563.9 317.881 L2568.19 317.881 L2568.19 321.909 Q2569.71 319.571 2571.77 318.413 Q2573.86 317.256 2576.57 317.256 Q2581.03 317.256 2583.33 320.034 Q2585.62 322.788 2585.62 328.159 Z\" fill=\"#000000\" fill-rule=\"evenodd\" fill-opacity=\"1\" /><path clip-path=\"url(#clip960)\" d=\"M2612.77 318.876 L2612.77 322.858 Q2610.96 321.862 2609.14 321.376 Q2607.33 320.867 2605.48 320.867 Q2601.33 320.867 2599.04 323.506 Q2596.75 326.122 2596.75 330.867 Q2596.75 335.612 2599.04 338.251 Q2601.33 340.867 2605.48 340.867 Q2607.33 340.867 2609.14 340.381 Q2610.96 339.871 2612.77 338.876 L2612.77 342.811 Q2610.99 343.645 2609.07 344.061 Q2607.17 344.478 2605.02 344.478 Q2599.16 344.478 2595.71 340.797 Q2592.26 337.117 2592.26 330.867 Q2592.26 324.524 2595.73 320.89 Q2599.23 317.256 2605.29 317.256 Q2607.26 317.256 2609.14 317.673 Q2611.01 318.066 2612.77 318.876 Z\" fill=\"#000000\" fill-rule=\"evenodd\" fill-opacity=\"1\" /><path clip-path=\"url(#clip960)\" d=\"M2630.22 320.867 Q2626.8 320.867 2624.81 323.552 Q2622.82 326.214 2622.82 330.867 Q2622.82 335.52 2624.78 338.205 Q2626.77 340.867 2630.22 340.867 Q2633.63 340.867 2635.62 338.182 Q2637.61 335.496 2637.61 330.867 Q2637.61 326.26 2635.62 323.575 Q2633.63 320.867 2630.22 320.867 M2630.22 317.256 Q2635.78 317.256 2638.95 320.867 Q2642.12 324.478 2642.12 330.867 Q2642.12 337.233 2638.95 340.867 Q2635.78 344.478 2630.22 344.478 Q2624.64 344.478 2621.47 340.867 Q2618.33 337.233 2618.33 330.867 Q2618.33 324.478 2621.47 320.867 Q2624.64 317.256 2630.22 317.256 Z\" fill=\"#000000\" fill-rule=\"evenodd\" fill-opacity=\"1\" /><path clip-path=\"url(#clip960)\" d=\"M2646.13 317.881 L2650.64 317.881 L2658.74 339.64 L2666.84 317.881 L2671.36 317.881 L2661.64 343.807 L2655.85 343.807 L2646.13 317.881 Z\" fill=\"#000000\" fill-rule=\"evenodd\" fill-opacity=\"1\" /><path clip-path=\"url(#clip960)\" d=\"M2699.41 329.779 L2699.41 331.862 L2679.83 331.862 Q2680.11 336.26 2682.47 338.575 Q2684.85 340.867 2689.09 340.867 Q2691.54 340.867 2693.83 340.265 Q2696.15 339.663 2698.42 338.459 L2698.42 342.487 Q2696.13 343.459 2693.72 343.969 Q2691.31 344.478 2688.83 344.478 Q2682.63 344.478 2679 340.867 Q2675.39 337.256 2675.39 331.098 Q2675.39 324.733 2678.81 321.006 Q2682.26 317.256 2688.09 317.256 Q2693.33 317.256 2696.36 320.635 Q2699.41 323.992 2699.41 329.779 M2695.15 328.529 Q2695.11 325.034 2693.19 322.95 Q2691.29 320.867 2688.14 320.867 Q2684.58 320.867 2682.42 322.881 Q2680.29 324.895 2679.97 328.552 L2695.15 328.529 Z\" fill=\"#000000\" fill-rule=\"evenodd\" fill-opacity=\"1\" /><path clip-path=\"url(#clip960)\" d=\"M2721.43 321.862 Q2720.71 321.446 2719.85 321.26 Q2719.02 321.052 2718 321.052 Q2714.39 321.052 2712.45 323.413 Q2710.52 325.751 2710.52 330.149 L2710.52 343.807 L2706.24 343.807 L2706.24 317.881 L2710.52 317.881 L2710.52 321.909 Q2711.87 319.547 2714.02 318.413 Q2716.17 317.256 2719.25 317.256 Q2719.69 317.256 2720.22 317.325 Q2720.76 317.372 2721.4 317.487 L2721.43 321.862 Z\" fill=\"#000000\" fill-rule=\"evenodd\" fill-opacity=\"1\" /><path clip-path=\"url(#clip960)\" d=\"M2747.03 329.779 L2747.03 331.862 L2727.45 331.862 Q2727.72 336.26 2730.08 338.575 Q2732.47 340.867 2736.7 340.867 Q2739.16 340.867 2741.45 340.265 Q2743.76 339.663 2746.03 338.459 L2746.03 342.487 Q2743.74 343.459 2741.33 343.969 Q2738.93 344.478 2736.45 344.478 Q2730.25 344.478 2726.61 340.867 Q2723 337.256 2723 331.098 Q2723 324.733 2726.43 321.006 Q2729.88 317.256 2735.71 317.256 Q2740.94 317.256 2743.97 320.635 Q2747.03 323.992 2747.03 329.779 M2742.77 328.529 Q2742.72 325.034 2740.8 322.95 Q2738.9 320.867 2735.76 320.867 Q2732.19 320.867 2730.04 322.881 Q2727.91 324.895 2727.58 328.552 L2742.77 328.529 Z\" fill=\"#000000\" fill-rule=\"evenodd\" fill-opacity=\"1\" /><path clip-path=\"url(#clip960)\" d=\"M2771.08 321.816 L2771.08 307.788 L2775.34 307.788 L2775.34 343.807 L2771.08 343.807 L2771.08 339.918 Q2769.74 342.233 2767.68 343.367 Q2765.64 344.478 2762.77 344.478 Q2758.07 344.478 2755.11 340.728 Q2752.17 336.978 2752.17 330.867 Q2752.17 324.756 2755.11 321.006 Q2758.07 317.256 2762.77 317.256 Q2765.64 317.256 2767.68 318.39 Q2769.74 319.501 2771.08 321.816 M2756.57 330.867 Q2756.57 335.566 2758.49 338.251 Q2760.43 340.913 2763.81 340.913 Q2767.19 340.913 2769.13 338.251 Q2771.08 335.566 2771.08 330.867 Q2771.08 326.168 2769.13 323.506 Q2767.19 320.821 2763.81 320.821 Q2760.43 320.821 2758.49 323.506 Q2756.57 326.168 2756.57 330.867 Z\" fill=\"#000000\" fill-rule=\"evenodd\" fill-opacity=\"1\" /><path clip-path=\"url(#clip960)\" d=\"M2799.37 309.247 L2804.04 309.247 L2804.04 341.399 Q2804.04 347.649 2801.66 350.473 Q2799.3 353.297 2794.04 353.297 L2792.26 353.297 L2792.26 349.362 L2793.72 349.362 Q2796.82 349.362 2798.09 347.626 Q2799.37 345.89 2799.37 341.399 L2799.37 309.247 Z\" fill=\"#000000\" fill-rule=\"evenodd\" fill-opacity=\"1\" /><path clip-path=\"url(#clip960)\" d=\"M2823.21 320.867 Q2819.78 320.867 2817.79 323.552 Q2815.8 326.214 2815.8 330.867 Q2815.8 335.52 2817.77 338.205 Q2819.76 340.867 2823.21 340.867 Q2826.61 340.867 2828.6 338.182 Q2830.59 335.496 2830.59 330.867 Q2830.59 326.26 2828.6 323.575 Q2826.61 320.867 2823.21 320.867 M2823.21 317.256 Q2828.76 317.256 2831.94 320.867 Q2835.11 324.478 2835.11 330.867 Q2835.11 337.233 2831.94 340.867 Q2828.76 344.478 2823.21 344.478 Q2817.63 344.478 2814.46 340.867 Q2811.31 337.233 2811.31 330.867 Q2811.31 324.478 2814.46 320.867 Q2817.63 317.256 2823.21 317.256 Z\" fill=\"#000000\" fill-rule=\"evenodd\" fill-opacity=\"1\" /><path clip-path=\"url(#clip960)\" d=\"M2860.78 330.867 Q2860.78 326.168 2858.83 323.506 Q2856.91 320.821 2853.53 320.821 Q2850.15 320.821 2848.21 323.506 Q2846.29 326.168 2846.29 330.867 Q2846.29 335.566 2848.21 338.251 Q2850.15 340.913 2853.53 340.913 Q2856.91 340.913 2858.83 338.251 Q2860.78 335.566 2860.78 330.867 M2846.29 321.816 Q2847.63 319.501 2849.67 318.39 Q2851.73 317.256 2854.57 317.256 Q2859.3 317.256 2862.24 321.006 Q2865.2 324.756 2865.2 330.867 Q2865.2 336.978 2862.24 340.728 Q2859.3 344.478 2854.57 344.478 Q2851.73 344.478 2849.67 343.367 Q2847.63 342.233 2846.29 339.918 L2846.29 343.807 L2842 343.807 L2842 307.788 L2846.29 307.788 L2846.29 321.816 Z\" fill=\"#000000\" fill-rule=\"evenodd\" fill-opacity=\"1\" /><path clip-path=\"url(#clip960)\" d=\"M2888.79 318.645 L2888.79 322.672 Q2886.98 321.747 2885.04 321.284 Q2883.09 320.821 2881.01 320.821 Q2877.84 320.821 2876.24 321.793 Q2874.67 322.765 2874.67 324.709 Q2874.67 326.191 2875.8 327.047 Q2876.94 327.881 2880.36 328.645 L2881.82 328.969 Q2886.36 329.941 2888.25 331.723 Q2890.18 333.483 2890.18 336.654 Q2890.18 340.265 2887.31 342.371 Q2884.46 344.478 2879.46 344.478 Q2877.38 344.478 2875.11 344.061 Q2872.86 343.668 2870.36 342.858 L2870.36 338.459 Q2872.72 339.686 2875.01 340.311 Q2877.31 340.913 2879.55 340.913 Q2882.56 340.913 2884.18 339.895 Q2885.8 338.853 2885.8 336.978 Q2885.8 335.242 2884.62 334.316 Q2883.46 333.39 2879.5 332.534 L2878.02 332.186 Q2874.06 331.353 2872.31 329.64 Q2870.55 327.904 2870.55 324.895 Q2870.55 321.237 2873.14 319.247 Q2875.73 317.256 2880.5 317.256 Q2882.86 317.256 2884.94 317.603 Q2887.03 317.95 2888.79 318.645 Z\" fill=\"#000000\" fill-rule=\"evenodd\" fill-opacity=\"1\" /></svg>\n"
      ]
     },
     "execution_count": 25,
     "metadata": {},
     "output_type": "execute_result"
    }
   ],
   "source": [
    "scatter([[locations[1, 1]], locations[2:n_jobs+1, 1], [coverage_locations[i][1] for i in 2:length(coverage_locations)], [locations[i, 1] for i in not_covered]],\n",
    "        [[locations[1, 2]], locations[2:n_jobs+1, 2], [coverage_locations[i][2] for i in 2:length(coverage_locations)], [locations[i, 2] for i in not_covered]], \n",
    "        label = [\"Depot\" \"Covered Jobs\" \"Coverage Locations\" \"Uncovered Jobs\"],\n",
    "        xlabel = \"X\", ylabel = \"Y\", xlim = (0,600), ylim = (0,600), size = (800,600), xticks = 0:50:500, yticks = 0:50:500)\n"
   ]
  },
  {
   "cell_type": "markdown",
   "id": "bb6f6dbf",
   "metadata": {},
   "source": [
    "## [1f] Helper Functions\n",
    "\n",
    "We will define a few helper functions to obtain necessary data, which will be used in the formualtion."
   ]
  },
  {
   "cell_type": "code",
   "execution_count": 26,
   "id": "94842cb3",
   "metadata": {},
   "outputs": [
    {
     "data": {
      "text/plain": [
       "find_node (generic function with 1 method)"
      ]
     },
     "execution_count": 26,
     "metadata": {},
     "output_type": "execute_result"
    }
   ],
   "source": [
    "function find_node(i,t)\n",
    "    #=\n",
    "    Given a task location and a time, see if there exists\n",
    "    a node with that definition. If so, then return that node.\n",
    "    Otherwise, warn the user.\n",
    "    =#\n",
    "    for node in 1:length(nodes)\n",
    "        if (nodes[node][1] == i) & (nodes[node][2] == t) \n",
    "            return node\n",
    "        end\n",
    "    end\n",
    "    return \"Warning, this node does not exist\"\n",
    "end"
   ]
  },
  {
   "cell_type": "code",
   "execution_count": 27,
   "id": "ab4e79c9",
   "metadata": {},
   "outputs": [
    {
     "data": {
      "text/plain": [
       "find_arc (generic function with 1 method)"
      ]
     },
     "execution_count": 27,
     "metadata": {},
     "output_type": "execute_result"
    }
   ],
   "source": [
    "function find_arc(node, t)\n",
    "    #=\n",
    "    Similar principle to above. Given a node and a time, \n",
    "    see if there exists an ARC that starts and ends with that node\n",
    "    and goes from time t to t+1.\n",
    "    \n",
    "    This is looking for specialized arcs...just forgot off the top\n",
    "    of my head\n",
    "    =#\n",
    "    for arc in 1:length(arcs)\n",
    "        if (arcs[arc][1][1] == node) & (arcs[arc][2][1] == node) & ((arcs[arc][1][2] == t)) & ((arcs[arc][2][2] == t+1))\n",
    "            return arc\n",
    "        end\n",
    "    end\n",
    "    return (node, t), \"Warning, this arc does not exist\"\n",
    "end"
   ]
  },
  {
   "cell_type": "markdown",
   "id": "8aab908c",
   "metadata": {},
   "source": [
    "# [2] Direct Formulation Model\n",
    "\n",
    "Now that we have finished initializing all the elements, we can build our \"straightforward\" model which directly computes the answer for us. No column generation, no set partitioning... nothing."
   ]
  },
  {
   "cell_type": "code",
   "execution_count": 28,
   "id": "a21e3d5a",
   "metadata": {},
   "outputs": [
    {
     "data": {
      "text/plain": [
       "15"
      ]
     },
     "execution_count": 28,
     "metadata": {},
     "output_type": "execute_result"
    }
   ],
   "source": [
    "#these were written in section 1 but I am rehashing them here\n",
    "n_vehicles_coverage = 10\n",
    "n_vehicles_jobs = 15\n",
    "\n",
    "#=\n",
    "n_vehicles_coverage is equivalent to the number of \n",
    "total vehicles and can be considered with subscript k.\n",
    "\n",
    "n_vehicles_jobs is equivalent to the number of total coverage\n",
    "vehicles.\n",
    "=#"
   ]
  },
  {
   "cell_type": "code",
   "execution_count": 29,
   "id": "e5114623",
   "metadata": {},
   "outputs": [
    {
     "name": "stdout",
     "output_type": "stream",
     "text": [
      "Set parameter Username\n",
      "Academic license - for non-commercial use only - expires 2023-09-04\n"
     ]
    }
   ],
   "source": [
    "model = Model(Gurobi.Optimizer);\n",
    "#model = Model(with_optimizer(Gurobi.Optimizer, TimeLimit=100));"
   ]
  },
  {
   "cell_type": "markdown",
   "id": "16153289",
   "metadata": {},
   "source": [
    "## [2a] Decision Variables"
   ]
  },
  {
   "cell_type": "markdown",
   "id": "24e4df3a",
   "metadata": {},
   "source": [
    "There are 5 sets of decision variables.\n",
    "\n",
    "Coverage vehicle assignments: $x_{ka}$ if a coverage vehicle $k \\in \\mathcal{K}'$ contains coverage arc $a \\in \\mathcal{A}'$ in its path\n",
    "\n",
    "Job vehicle assignments: $z_{ka}$ if a task vehicle $k \\in \\mathcal{K}$ contains task arc $a \\in \\mathcal{A}$ in its path\n",
    "\n",
    "Job start and end times: $y^S_{it}$/$y_{it}^E$ with $1$ if a job's start/end has taken place by that time (so this is an array like \\[ 0, 0, ...., 1, 1, ..., 1\\] and the differential will tell us when the job is taking place, it will look like \\[ 0, 0, ..., 1, 1, ..., 0, 0\\]\n",
    "\n",
    "Coverage: $\\gamma_{it}$ if node $(i, t) = n \\in \\mathcal{N}$ is covered at that time. In other words, if in place $i$ and time $t$, there is a coverage vehicle which is close enough to radially overlap onto location $i$."
   ]
  },
  {
   "cell_type": "code",
   "execution_count": 30,
   "id": "b6041547",
   "metadata": {},
   "outputs": [],
   "source": [
    "#Coverage vehicles\n",
    "@variable(model, x[1:n_vehicles_coverage, 1:A_cov], Bin)\n",
    "\n",
    "#Job Vehicles\n",
    "@variable(model, z[1:n_vehicles_jobs, 1:A], Bin)\n",
    "\n",
    "#Starting and ending times of each Job\n",
    "@variable(model, y_s[1:n_jobs, 1:T], Bin)\n",
    "@variable(model, y_e[1:n_jobs, 1:T], Bin)\n",
    "\n",
    "#Coverage constraint\n",
    "@variable(model, gamma[1:N], Bin);"
   ]
  },
  {
   "cell_type": "markdown",
   "id": "51278a1a",
   "metadata": {},
   "source": [
    "## [2b] Objective Function"
   ]
  },
  {
   "cell_type": "markdown",
   "id": "2da2f7fd",
   "metadata": {},
   "source": [
    "Minimize the total distance traveled by the coverage and job vehicles together.\n",
    "\n",
    "Distance by coverage vehicles: $\\sum_{k \\in \\mathcal{K}'} \\sum_{a \\in \\mathcal{A}'} c_a' x_{ka}$\n",
    "\n",
    "Distance by task vehicles: $\\sum_{k \\in \\mathcal{K}} \\sum_{a \\in \\mathcal{A}} c_a z_{ka}$\n",
    "\n",
    "To find distances, get the third element: `arcs[?][3]` (for task vehicles) and `arcs_cov[?][3]` (for coverage vehicles)"
   ]
  },
  {
   "cell_type": "code",
   "execution_count": 31,
   "id": "0636c18a",
   "metadata": {},
   "outputs": [],
   "source": [
    "@objective(model, Min, sum(sum(x[k,a]*(arcs_cov[a][3]+1) for a in 1:A_cov) for k in 1:n_vehicles_coverage) \n",
    "    + sum(sum(z[k,a]*(arcs[a][3]+1) for a in 1:A) for k in 1:n_vehicles_jobs))\n",
    ";"
   ]
  },
  {
   "cell_type": "markdown",
   "id": "d2dc56eb",
   "metadata": {},
   "source": [
    "## [2c] Constraints"
   ]
  },
  {
   "cell_type": "markdown",
   "id": "54026b2f",
   "metadata": {},
   "source": [
    "### Constraints for jobs vehicles (4)"
   ]
  },
  {
   "cell_type": "markdown",
   "id": "394fb467",
   "metadata": {},
   "source": [
    "- Consider some vehicle $k \\in \\mathcal{K}$. Then, the number of times that vehicle leaves the depot (to do work) must be 1. In other words, the vehicle leaves the depot, but doesn't leave twice (meaning if you're out there, you stay out there). It is formulated as: For all possible times $t$ when the vehicle $k$ leaves, i.e. for the sum over all nodes of the form $(0, t)$ (i.e. you are at the depot at any given time $t$, not yet having left the depot), for the sum over all arcs $a \\in \\mathcal{A}^+((0, t))$ (the arcs that make exiting the depot possible), there is exactly one time when you do leave the depot. So the constraint is $\\sum_{n \\in \\mathcal{O}} \\sum_{a \\in \\mathcal{A}^+(n)} z_{ka} = 1 \\ \\forall k \\in \\mathcal{K}$.\n",
    "\n",
    "To actualize this constraint, take the sum over all arcs, but only if their initial location $i$ is $0$. Remember that arcs are of the form $[n_1 = (i_1, t_1), n_2 = (i_2, t_2), d]$, and we have to make sure that the arc element 1 index 1 is equal to 0."
   ]
  },
  {
   "cell_type": "code",
   "execution_count": 32,
   "id": "bee85c34",
   "metadata": {},
   "outputs": [],
   "source": [
    "@constraint(model, \n",
    "    depot_init_jobs[k in 1:n_vehicles_jobs], \n",
    "    sum(z[k,a] for a in 1:A if arcs[a][1][1] == 0) == 1)\n",
    "print()"
   ]
  },
  {
   "cell_type": "markdown",
   "id": "8b0b0a15",
   "metadata": {},
   "source": [
    "- Do the same, but for entering back into the depot after you've done work. The number of times you come back into the depot must be equal to exactly 1. Similarly, our constraint will be $\\sum_{n \\in \\mathcal{E}} \\sum_{a \\in \\mathcal{A}^-(n)} z_{ka} = 1 \\ \\forall k \\in \\mathcal{K}$.\n",
    "\n",
    "To actualize this constraint, take the sum over all arcs, but only if their end location $i$ is $0$. Remember that arcs are of the form $[n_1 = (i_1, t_1), n_2 = (i_2, t_2), d]$, and we have to make sure that the arc element 2 index 1 is equal to 0."
   ]
  },
  {
   "cell_type": "code",
   "execution_count": 33,
   "id": "34f975e8",
   "metadata": {},
   "outputs": [],
   "source": [
    "@constraint(model, \n",
    "    depot_end_jobs[k in 1:n_vehicles_jobs], \n",
    "    sum(z[k,a] for a in 1:A if arcs[a][2][1] == n_jobs+1) == 1)\n",
    "print()"
   ]
  },
  {
   "cell_type": "markdown",
   "id": "b791d690",
   "metadata": {},
   "source": [
    "What about the case in which our vehicle doesn't even move because doing so would be suboptimal? Well, it would have a single arc that goes from $(0, 0)$ to $(n+1, T+1)$ so it's still fine.\n",
    "\n",
    "- Now we consider nodes that aren't in the depot, or the set $\\mathcal{N} - \\mathcal{O} - \\mathcal{E}$. We need flow conservation, meaning for any vehicle that enters a node, it must eventually leave. In other words, what goes in, which is $\\sum_{a \\in \\mathcal{A}^-(n)} z_{ka}$, must eventually come out, which is $\\sum_{a \\in \\mathcal{A}^+(n)} z_{ka}$. These two must be equal, so the full constraint is: $\\forall k \\in \\mathcal{K}, \\ \\forall n \\in \\mathcal{N} - \\mathcal{O} - \\mathcal{E}, \\ \\sum_{a \\in \\mathcal{A}^-(n)} z_{ka} = \\sum_{a \\in \\mathcal{A}^+(n)} z_{ka}$.\n",
    "\n",
    "<b>Now we see why `nodes` deliberately excluded nodes of the form $(0, ?)$ and $(T+1, ?)$.</b> It's because we use the set $\\mathcal{N} - \\mathcal{O} - \\mathcal{E}$ a lot, so it's hard to define `nodes` as all of the nodes, then we have to subtract all nodes in the depot.\n",
    "\n",
    "To actualize this constraint, check that, for all arcs for which the second arc array index (incoming is equal to $n$) is $n$ the summation equals over all arcs for which the first arc array index (outgoing is equal to $n$) is $n$.\n",
    "\n",
    "Note that there is no need to worry about whether an arc stays at the same place in time, because the equality is still maintained, so we don't need an exclusive check."
   ]
  },
  {
   "cell_type": "code",
   "execution_count": 34,
   "id": "c0077757",
   "metadata": {},
   "outputs": [],
   "source": [
    "# SLOW CONSTRAINT!\n",
    "@constraint(model, \n",
    "    flow_jobs[k in 1:n_vehicles_jobs, n in 1:N], \n",
    "    sum(z[k,a] for a in 1:A if arcs[a][2] == nodes[n]) == \n",
    "    sum(z[k,a] for a in 1:A if arcs[a][1] == nodes[n]))\n",
    "print()"
   ]
  },
  {
   "cell_type": "markdown",
   "id": "d1e2c3b5",
   "metadata": {},
   "source": [
    "Finally, consider every node that's not in the depot. Only ONE vehicle should visit that node to do a job; don't split jobs between different task vehicles.\n",
    "\n",
    "So for all nodes, summing up over all vehicles, and all incoming arcs, there's only one vehicle which does the job.\n",
    "\n",
    "$\\sum_{k \\in \\mathcal{K}} \\sum_{a \\in \\mathcal{A}^-(n)} z_{ka} = 1$ for appropriate $n$.\n",
    "\n",
    "To actualize this constraint, use arcs for which the incoming location is the one corresponding to that of $n$, and it was not already there."
   ]
  },
  {
   "cell_type": "code",
   "execution_count": 35,
   "id": "7b6f32a3",
   "metadata": {},
   "outputs": [],
   "source": [
    "@constraint(model, \n",
    "    unique[n in 1:n_jobs], \n",
    "    sum(sum(z[k,a] for a in 1:A \n",
    "                if (arcs[a][2][1] == n) & (arcs[a][1][1] != n)) \n",
    "        for k in 1:n_vehicles_jobs) == 1)\n",
    "print()"
   ]
  },
  {
   "cell_type": "markdown",
   "id": "718a2381",
   "metadata": {},
   "source": [
    "### Constraints for coverage vehicles\n",
    "\n",
    "This one also takes a LONG time!"
   ]
  },
  {
   "cell_type": "markdown",
   "id": "5481a2a4",
   "metadata": {},
   "source": [
    "First constraint is similar to constraint for task vehicles: For each task vehicle, it leaves the depot once (unless it stays, this was addressed above in the same case for task vehicles)."
   ]
  },
  {
   "cell_type": "code",
   "execution_count": 36,
   "id": "569aa5ad",
   "metadata": {},
   "outputs": [],
   "source": [
    "@constraint(model, \n",
    "    depot_init_coverage[k in 1:n_vehicles_coverage],\n",
    "    sum(x[k,a] for a in 1:A_cov if arcs_cov[a][1][1] == 0) == 1)\n",
    "print()"
   ]
  },
  {
   "cell_type": "markdown",
   "id": "94faea64",
   "metadata": {},
   "source": [
    "Second constraint: return to the depot once."
   ]
  },
  {
   "cell_type": "code",
   "execution_count": 37,
   "id": "7676afd5",
   "metadata": {},
   "outputs": [],
   "source": [
    "@constraint(model, \n",
    "    depot_end_coverage[k in 1:n_vehicles_coverage], \n",
    "    sum(x[k,a] for a in 1:A_cov if arcs_cov[a][2][1] == n_cov) == 1)\n",
    "print()"
   ]
  },
  {
   "cell_type": "markdown",
   "id": "099f4e56",
   "metadata": {},
   "source": [
    "Final constraint is flow constraint. Same situation as before."
   ]
  },
  {
   "cell_type": "code",
   "execution_count": 38,
   "id": "c45ff609",
   "metadata": {},
   "outputs": [],
   "source": [
    "# SLOW CONSTRAINT!\n",
    "@constraint(model, \n",
    "    flow_coverage[k in 1:n_vehicles_coverage, n in 1:N_cov], \n",
    "    sum(x[k,a] for a in 1:A_cov if arcs_cov[a][2] == nodes_cov[n]) == \n",
    "    sum(x[k,a] for a in 1:A_cov if arcs_cov[a][1] == nodes_cov[n]))\n",
    "print()"
   ]
  },
  {
   "cell_type": "markdown",
   "id": "393d1f9c",
   "metadata": {},
   "source": [
    "### Time constraints "
   ]
  },
  {
   "cell_type": "markdown",
   "id": "3589a904",
   "metadata": {},
   "source": [
    "Two simple constraints: Just making sure that the start and end arrays work correctly. To preserve the desired pattern \\[ 0, 0, ..., 1\\], making sure that these are non-strictly increasing arrays."
   ]
  },
  {
   "cell_type": "code",
   "execution_count": 39,
   "id": "78dee794",
   "metadata": {},
   "outputs": [],
   "source": [
    "@constraint(model, start[i in 1:n_jobs, t in 1:(T-1)], y_s[i,t] <= y_s[i,t+1])\n",
    "@constraint(model, ends[i in 1:n_jobs, t in 1:(T-1)], y_e[i,t] <= y_e[i,t+1])\n",
    "print()"
   ]
  },
  {
   "cell_type": "markdown",
   "id": "36abf2f6",
   "metadata": {},
   "source": [
    "Controlling the differential between $y^S$ and $y^E$ arrays: If a vehicle is there, doing a job, then the differential is 1. If a vehicle isn't there, the differential is 0 (you've either not done the job yet, or it's already finished).\n",
    "\n",
    "So $y_{it}^S - y_{it}^E \\leq \\sum_{k \\in \\mathcal{K}} z_{k(i, t)} \\ \\forall i \\in \\mathcal{I}, t \\in \\mathcal{T}$."
   ]
  },
  {
   "cell_type": "code",
   "execution_count": 40,
   "id": "69596a74",
   "metadata": {},
   "outputs": [],
   "source": [
    "# SLOW CONSTRAINT!\n",
    "@constraint(model, \n",
    "    work[i in 1:n_jobs, t in 2:(T-2)], \n",
    "    y_s[i,t] - y_e[i,t] <= sum(z[k,find_arc(i, t)] for k in 1:n_vehicles_jobs))\n",
    "print()"
   ]
  },
  {
   "cell_type": "markdown",
   "id": "4c7c19fc",
   "metadata": {},
   "source": [
    "Two more easy constraints: Before the work window begins, $y_{it}^S = 0$ (because the job is guaranteed not to have started). After the work window ends, $y_{it}^E = 1$ (because the job must have been finished and we assume feasible)."
   ]
  },
  {
   "cell_type": "code",
   "execution_count": 41,
   "id": "6b5481b4",
   "metadata": {},
   "outputs": [],
   "source": [
    "@constraint(model, window_start[i in 1:n_jobs, t in 1:(time_windows[i][1]-1)], y_s[i,t] <= 0)\n",
    "@constraint(model, window_ends[i in 1:n_jobs, t in time_windows[i][2]:T], y_e[i,t] >= 1)\n",
    "print()"
   ]
  },
  {
   "cell_type": "markdown",
   "id": "e3a886ee",
   "metadata": {},
   "source": [
    "The time it takes to do a job is defined as $\\tau$ in the formulation sheet (equation 13, page 3), represented as `work_load`. The sum of differential across the two time arrays must be at least as great as the work load, so that the job is done sufficiently. In math: $\\sum_{t \\in \\mathcal{T}} \\left( y_{it}^S -y_{it}^E\\right) \\geq \\tau_i^W \\ \\forall i \\in \\mathcal{I}$."
   ]
  },
  {
   "cell_type": "code",
   "execution_count": 42,
   "id": "669dca45",
   "metadata": {},
   "outputs": [],
   "source": [
    "@constraint(model, duration[i in 1:n_jobs], sum(y_s[i,t] - y_e[i,t] for t in 1:T) >= work_load[i])\n",
    "print()"
   ]
  },
  {
   "cell_type": "markdown",
   "id": "f81aa92e",
   "metadata": {},
   "source": [
    "### Coverage constraint\n",
    "\n",
    "The final type of constraint, which uses gamma."
   ]
  },
  {
   "cell_type": "markdown",
   "id": "2c2d9974",
   "metadata": {},
   "source": [
    "First: If a node is covered, then there must be at least one coverage vehicle which covers it within the radius. \n",
    "\n",
    "In Greek we write it as: $\\gamma_n$ on the LHS, must be less than or equal to $\\sum_{k \\in \\mathcal{K}'} \\sum_{a \\in C_n} x_{ka} \\ \\forall n \\in \\mathcal{N}$."
   ]
  },
  {
   "cell_type": "code",
   "execution_count": 43,
   "id": "a0f59035",
   "metadata": {},
   "outputs": [],
   "source": [
    "@constraint(model, \n",
    "    coverage[n in 1:N], \n",
    "    gamma[n] <= sum(sum(x[k,a] for a in covers[n]) for k in 1:n_vehicles_coverage))\n",
    "print()"
   ]
  },
  {
   "cell_type": "markdown",
   "id": "2efe1a1d",
   "metadata": {},
   "source": [
    "Second: Differential in time, if a node is covered at that point, cannot exceed 1 (links coverage to time)."
   ]
  },
  {
   "cell_type": "code",
   "execution_count": 44,
   "id": "b5ec2609",
   "metadata": {},
   "outputs": [],
   "source": [
    "@constraint(model, \n",
    "    coverage_time[i in 1:n_jobs, t in 2:(T-1)], \n",
    "    y_s[i,t] - y_e[i,t] <= gamma[find_node(i,t)])\n",
    "print()"
   ]
  },
  {
   "cell_type": "code",
   "execution_count": 45,
   "id": "acd08b3b",
   "metadata": {},
   "outputs": [],
   "source": [
    "#MOI.set(model, MOI.RawParameter(\"TimeLimit\"), 500.0);"
   ]
  },
  {
   "cell_type": "markdown",
   "id": "007f8f9f",
   "metadata": {},
   "source": [
    "Side note: The code for removing a constraint is `unregister(model, :constraint_title)`. If sometimes you accidentally mess up beautiful jupyter notebook formatting when you forget to suppress output, unregister the constraint, then re-run the cell to avoid having to start all over again."
   ]
  },
  {
   "cell_type": "markdown",
   "id": "8b93caf1",
   "metadata": {},
   "source": [
    "## [2d] Solve Model\n",
    "\n",
    "For small enough instances on direct formulation this is no problem."
   ]
  },
  {
   "cell_type": "code",
   "execution_count": 46,
   "id": "cb6957ff",
   "metadata": {
    "scrolled": true
   },
   "outputs": [
    {
     "name": "stdout",
     "output_type": "stream",
     "text": [
      "Gurobi Optimizer version 9.5.2 build v9.5.2rc0 (mac64[x86])\n",
      "Thread count: 4 physical cores, 8 logical processors, using up to 8 threads\n",
      "Optimize a model with 27810 rows, 238515 columns and 660375 nonzeros\n",
      "Model fingerprint: 0x55b65138\n",
      "Variable types: 0 continuous, 238515 integer (238515 binary)\n",
      "Coefficient statistics:\n",
      "  Matrix range     [1e+00, 1e+00]\n",
      "  Objective range  [1e+00, 4e+02]\n",
      "  Bounds range     [0e+00, 0e+00]\n",
      "  RHS range        [1e+00, 5e+00]\n",
      "Presolve removed 6253 rows and 5298 columns\n",
      "Presolve time: 2.12s\n",
      "Presolved: 21557 rows, 233217 columns, 603876 nonzeros\n",
      "Variable types: 0 continuous, 233217 integer (233217 binary)\n",
      "\n",
      "Deterministic concurrent LP optimizer: primal and dual simplex\n",
      "Showing first log only...\n",
      "\n",
      "\n",
      "Root simplex log...\n",
      "\n",
      "Iteration    Objective       Primal Inf.    Dual Inf.      Time\n",
      "   21096    1.1337314e+04   0.000000e+00   2.913165e+08      5s\n",
      "   28545    6.0751518e+03   0.000000e+00   1.104153e+08     10s\n",
      "Concurrent spin time: 2.40s\n",
      "\n",
      "Solved with dual simplex\n",
      "\n",
      "Root relaxation: objective 5.015186e+03, 23609 iterations, 11.19 seconds (7.63 work units)\n",
      "\n",
      "    Nodes    |    Current Node    |     Objective Bounds      |     Work\n",
      " Expl Unexpl |  Obj  Depth IntInf | Incumbent    BestBd   Gap | It/Node Time\n",
      "\n",
      "     0     0 5133.58225    0   63          - 5133.58225      -     -   15s\n",
      "H    0     0                    5163.1314555 5133.58225  0.57%     -   16s\n",
      "H    0     0                    5160.1314555 5133.58225  0.51%     -   16s\n",
      "H    0     0                    5158.1314555 5133.58225  0.48%     -   16s\n",
      "     0     0 5133.58225    0  123 5158.13146 5133.58225  0.48%     -   17s\n",
      "H    0     0                    5151.1314555 5133.58225  0.34%     -   21s\n",
      "     0     0     cutoff    0      5151.13146 5151.13146  0.00%     -   21s\n",
      "\n",
      "Explored 1 nodes (39439 simplex iterations) in 21.10 seconds (16.96 work units)\n",
      "Thread count was 8 (of 8 available processors)\n",
      "\n",
      "Solution count 5: 5151.13 5151.13 5158.13 ... 5163.13\n",
      "\n",
      "Optimal solution found (tolerance 1.00e-04)\n",
      "Best objective 5.151131455454e+03, best bound 5.151131455454e+03, gap 0.0000%\n",
      "\n",
      "User-callback calls 6884, time in user-callback 0.02 sec\n"
     ]
    }
   ],
   "source": [
    "# SLOW!\n",
    "optimize!(model)"
   ]
  },
  {
   "cell_type": "markdown",
   "id": "e8c01b2a",
   "metadata": {},
   "source": [
    "<b>NOTE:</b> This answer will probably differ from Martin's optimal solution by a bit because I scrambled up the parameters a little."
   ]
  },
  {
   "cell_type": "markdown",
   "id": "2a291e5f",
   "metadata": {},
   "source": [
    "6.546450224878e+03 was Martin's optimum."
   ]
  },
  {
   "cell_type": "code",
   "execution_count": 47,
   "id": "8e19b233",
   "metadata": {
    "scrolled": true
   },
   "outputs": [
    {
     "data": {
      "text/plain": [
       "OPTIMAL::TerminationStatusCode = 1"
      ]
     },
     "execution_count": 47,
     "metadata": {},
     "output_type": "execute_result"
    }
   ],
   "source": [
    "termination_status(model)"
   ]
  },
  {
   "cell_type": "markdown",
   "id": "80f7575d",
   "metadata": {},
   "source": [
    "Hmm...can we get the dual?"
   ]
  },
  {
   "cell_type": "code",
   "execution_count": 48,
   "id": "745b3744",
   "metadata": {},
   "outputs": [
    {
     "data": {
      "text/plain": [
       "NO_SOLUTION::ResultStatusCode = 0"
      ]
     },
     "execution_count": 48,
     "metadata": {},
     "output_type": "execute_result"
    }
   ],
   "source": [
    "dual_status(model)"
   ]
  },
  {
   "cell_type": "markdown",
   "id": "08e52389",
   "metadata": {},
   "source": [
    "# [3] Retrieval of Information\n",
    "\n",
    "Now the goal is to get the information in a meaningful form so we can plot and display."
   ]
  },
  {
   "cell_type": "markdown",
   "id": "c34a9870",
   "metadata": {},
   "source": [
    "## [3a] Where did each job vehicle go, and when?\n",
    "\n",
    "For each job vehicle, see where that job goes."
   ]
  },
  {
   "cell_type": "code",
   "execution_count": 49,
   "id": "461b9c33",
   "metadata": {
    "scrolled": true
   },
   "outputs": [
    {
     "name": "stdout",
     "output_type": "stream",
     "text": [
      "For driver 1\n",
      "An arc associated with driver 1 is Any[[0, 0], [16, 2], 214.71806912830775]\n",
      "An arc associated with driver 1 is Any[[13, 21], [13, 22], 0.0]\n",
      "An arc associated with driver 1 is Any[[13, 22], [13, 23], 0.0]\n",
      "An arc associated with driver 1 is Any[[13, 23], [13, 24], 0.0]\n",
      "An arc associated with driver 1 is Any[[13, 24], [13, 25], 0.0]\n",
      "An arc associated with driver 1 is Any[[13, 25], [14, 26], 10.263457758368471]\n",
      "An arc associated with driver 1 is Any[[14, 26], [14, 27], 0.0]\n",
      "An arc associated with driver 1 is Any[[14, 27], [14, 28], 0.0]\n",
      "An arc associated with driver 1 is Any[[14, 28], [14, 29], 0.0]\n",
      "An arc associated with driver 1 is Any[[16, 2], [16, 3], 0.0]\n",
      "An arc associated with driver 1 is Any[[16, 3], [16, 4], 0.0]\n",
      "An arc associated with driver 1 is Any[[16, 4], [16, 5], 0.0]\n",
      "An arc associated with driver 1 is Any[[16, 5], [17, 6], 22.056429410357314]\n",
      "An arc associated with driver 1 is Any[[17, 6], [17, 7], 0.0]\n",
      "An arc associated with driver 1 is Any[[17, 7], [17, 8], 0.0]\n",
      "An arc associated with driver 1 is Any[[17, 8], [17, 9], 0.0]\n",
      "An arc associated with driver 1 is Any[[17, 9], [17, 10], 0.0]\n",
      "An arc associated with driver 1 is Any[[17, 10], [17, 11], 0.0]\n",
      "An arc associated with driver 1 is Any[[17, 11], [18, 12], 5.780163583851407]\n",
      "An arc associated with driver 1 is Any[[18, 12], [18, 13], 0.0]\n",
      "An arc associated with driver 1 is Any[[18, 13], [18, 14], 0.0]\n",
      "An arc associated with driver 1 is Any[[18, 14], [18, 15], 0.0]\n",
      "An arc associated with driver 1 is Any[[18, 15], [19, 16], 14.618821246994681]\n",
      "An arc associated with driver 1 is Any[[19, 16], [19, 17], 0.0]\n",
      "An arc associated with driver 1 is Any[[19, 17], [19, 18], 0.0]\n",
      "An arc associated with driver 1 is Any[[19, 18], [19, 19], 0.0]\n",
      "An arc associated with driver 1 is Any[[19, 19], [19, 20], 0.0]\n",
      "An arc associated with driver 1 is Any[[19, 20], [13, 21], 27.45999157129779]\n",
      "An arc associated with driver 1 is Any[[14, 29], [26, 31], 197.60625740061383]\n",
      "Case of driver 1 has finished. The arcs are: Any[Any[[0, 0], [16, 1], 214.71806912830775], Any[[0, 1], [16, 2], 214.71806912830775], Any[[13, 21], [13, 22], 0.0], Any[[13, 22], [13, 23], 0.0], Any[[13, 23], [13, 24], 0.0], Any[[13, 24], [13, 25], 0.0], Any[[13, 25], [14, 26], 10.263457758368471], Any[[14, 26], [14, 27], 0.0], Any[[14, 27], [14, 28], 0.0], Any[[14, 28], [14, 29], 0.0], Any[[16, 2], [16, 3], 0.0], Any[[16, 3], [16, 4], 0.0], Any[[16, 4], [16, 5], 0.0], Any[[16, 5], [17, 6], 22.056429410357314], Any[[17, 6], [17, 7], 0.0], Any[[17, 7], [17, 8], 0.0], Any[[17, 8], [17, 9], 0.0], Any[[17, 9], [17, 10], 0.0], Any[[17, 10], [17, 11], 0.0], Any[[17, 11], [18, 12], 5.780163583851407], Any[[18, 12], [18, 13], 0.0], Any[[18, 13], [18, 14], 0.0], Any[[18, 14], [18, 15], 0.0], Any[[18, 15], [19, 16], 14.618821246994681], Any[[19, 16], [19, 17], 0.0], Any[[19, 17], [19, 18], 0.0], Any[[19, 18], [19, 19], 0.0], Any[[19, 19], [19, 20], 0.0], Any[[19, 20], [13, 21], 27.45999157129779], Any[[14, 29], [26, 30], 197.60625740061383], Any[[14, 30], [26, 31], 197.60625740061383]]\n",
      "\n",
      "For driver 2\n",
      "An arc associated with driver 2 is Any[[0, 3], [1, 5], 180.7565539293233]\n",
      "An arc associated with driver 2 is Any[[1, 5], [1, 6], 0.0]\n",
      "An arc associated with driver 2 is Any[[1, 6], [1, 7], 0.0]\n",
      "An arc associated with driver 2 is Any[[1, 7], [1, 8], 0.0]\n",
      "An arc associated with driver 2 is Any[[1, 8], [1, 9], 0.0]\n",
      "An arc associated with driver 2 is Any[[1, 9], [2, 10], 11.824115170472117]\n",
      "An arc associated with driver 2 is Any[[2, 10], [2, 11], 0.0]\n",
      "An arc associated with driver 2 is Any[[2, 11], [2, 12], 0.0]\n",
      "An arc associated with driver 2 is Any[[2, 12], [2, 13], 0.0]\n",
      "An arc associated with driver 2 is Any[[2, 13], [2, 14], 0.0]\n",
      "An arc associated with driver 2 is Any[[2, 14], [2, 15], 0.0]\n",
      "An arc associated with driver 2 is Any[[2, 15], [2, 16], 0.0]\n",
      "An arc associated with driver 2 is Any[[2, 16], [2, 17], 0.0]\n",
      "An arc associated with driver 2 is Any[[2, 17], [2, 18], 0.0]\n",
      "An arc associated with driver 2 is Any[[2, 18], [2, 19], 0.0]\n",
      "An arc associated with driver 2 is Any[[2, 19], [3, 20], 33.658286983158845]\n",
      "An arc associated with driver 2 is Any[[3, 20], [3, 21], 0.0]\n",
      "An arc associated with driver 2 is Any[[3, 21], [3, 22], 0.0]\n",
      "An arc associated with driver 2 is Any[[3, 22], [3, 23], 0.0]\n",
      "An arc associated with driver 2 is Any[[3, 23], [3, 24], 0.0]\n",
      "An arc associated with driver 2 is Any[[3, 24], [3, 25], 0.0]\n",
      "An arc associated with driver 2 is Any[[3, 25], [26, 27], 176.55189474538938]\n",
      "Case of driver 2 has finished. The arcs are: Any[Any[[0, 3], [1, 4], 180.7565539293233], Any[[0, 4], [1, 5], 180.7565539293233], Any[[1, 5], [1, 6], 0.0], Any[[1, 6], [1, 7], 0.0], Any[[1, 7], [1, 8], 0.0], Any[[1, 8], [1, 9], 0.0], Any[[1, 9], [2, 10], 11.824115170472117], Any[[2, 10], [2, 11], 0.0], Any[[2, 11], [2, 12], 0.0], Any[[2, 12], [2, 13], 0.0], Any[[2, 13], [2, 14], 0.0], Any[[2, 14], [2, 15], 0.0], Any[[2, 15], [2, 16], 0.0], Any[[2, 16], [2, 17], 0.0], Any[[2, 17], [2, 18], 0.0], Any[[2, 18], [2, 19], 0.0], Any[[2, 19], [3, 20], 33.658286983158845], Any[[3, 20], [3, 21], 0.0], Any[[3, 21], [3, 22], 0.0], Any[[3, 22], [3, 23], 0.0], Any[[3, 23], [3, 24], 0.0], Any[[3, 24], [3, 25], 0.0], Any[[3, 25], [26, 26], 176.55189474538938], Any[[3, 26], [26, 27], 176.55189474538938]]\n",
      "\n",
      "For driver 3\n",
      "An arc associated with driver 3 is Any[[0, 4], [8, 5], 147.70290920807565]\n",
      "An arc associated with driver 3 is Any[[8, 5], [8, 6], 0.0]\n",
      "An arc associated with driver 3 is Any[[8, 6], [8, 7], 0.0]\n",
      "An arc associated with driver 3 is Any[[8, 7], [8, 8], 0.0]\n",
      "An arc associated with driver 3 is Any[[8, 8], [8, 9], 0.0]\n",
      "An arc associated with driver 3 is Any[[8, 9], [8, 10], 0.0]\n",
      "An arc associated with driver 3 is Any[[8, 10], [8, 11], 0.0]\n",
      "An arc associated with driver 3 is Any[[8, 11], [9, 12], 14.160383564833829]\n",
      "An arc associated with driver 3 is Any[[9, 12], [9, 13], 0.0]\n",
      "An arc associated with driver 3 is Any[[9, 13], [9, 14], 0.0]\n",
      "An arc associated with driver 3 is Any[[9, 14], [9, 15], 0.0]\n",
      "An arc associated with driver 3 is Any[[9, 15], [9, 16], 0.0]\n",
      "An arc associated with driver 3 is Any[[9, 16], [9, 17], 0.0]\n",
      "An arc associated with driver 3 is Any[[9, 17], [10, 18], 24.828001148518656]\n",
      "An arc associated with driver 3 is Any[[10, 18], [10, 19], 0.0]\n",
      "An arc associated with driver 3 is Any[[10, 19], [10, 20], 0.0]\n",
      "An arc associated with driver 3 is Any[[10, 20], [10, 21], 0.0]\n",
      "An arc associated with driver 3 is Any[[10, 21], [10, 22], 0.0]\n",
      "An arc associated with driver 3 is Any[[10, 22], [26, 23], 140.31056169890445]\n",
      "Case of driver 3 has finished. The arcs are: Any[Any[[0, 4], [8, 5], 147.70290920807565], Any[[8, 5], [8, 6], 0.0], Any[[8, 6], [8, 7], 0.0], Any[[8, 7], [8, 8], 0.0], Any[[8, 8], [8, 9], 0.0], Any[[8, 9], [8, 10], 0.0], Any[[8, 10], [8, 11], 0.0], Any[[8, 11], [9, 12], 14.160383564833829], Any[[9, 12], [9, 13], 0.0], Any[[9, 13], [9, 14], 0.0], Any[[9, 14], [9, 15], 0.0], Any[[9, 15], [9, 16], 0.0], Any[[9, 16], [9, 17], 0.0], Any[[9, 17], [10, 18], 24.828001148518656], Any[[10, 18], [10, 19], 0.0], Any[[10, 19], [10, 20], 0.0], Any[[10, 20], [10, 21], 0.0], Any[[10, 21], [10, 22], 0.0], Any[[10, 22], [26, 23], 140.31056169890445]]\n",
      "\n",
      "For driver 4\n",
      "An arc associated with driver 4 is Any[[0, 10], [20, 11], 86.39707019931214]\n",
      "An arc associated with driver 4 is Any[[20, 11], [20, 12], 0.0]\n",
      "An arc associated with driver 4 is Any[[20, 12], [20, 13], 0.0]\n",
      "An arc associated with driver 4 is Any[[20, 13], [20, 14], 0.0]\n",
      "An arc associated with driver 4 is Any[[20, 14], [21, 15], 21.153305098508625]\n",
      "An arc associated with driver 4 is Any[[21, 15], [21, 16], 0.0]\n",
      "An arc associated with driver 4 is Any[[21, 16], [21, 17], 0.0]\n",
      "An arc associated with driver 4 is Any[[21, 17], [21, 18], 0.0]\n",
      "An arc associated with driver 4 is Any[[21, 18], [21, 19], 0.0]\n",
      "An arc associated with driver 4 is Any[[21, 19], [21, 20], 0.0]\n",
      "An arc associated with driver 4 is Any[[21, 20], [21, 21], 0.0]\n",
      "An arc associated with driver 4 is Any[[21, 21], [22, 22], 5.99426033492411]\n",
      "An arc associated with driver 4 is Any[[22, 22], [22, 23], 0.0]\n",
      "An arc associated with driver 4 is Any[[22, 23], [22, 24], 0.0]\n",
      "An arc associated with driver 4 is Any[[22, 24], [22, 25], 0.0]\n",
      "An arc associated with driver 4 is Any[[22, 25], [22, 26], 0.0]\n",
      "An arc associated with driver 4 is Any[[22, 26], [23, 27], 27.587075286128385]\n",
      "An arc associated with driver 4 is Any[[23, 27], [23, 28], 0.0]\n",
      "An arc associated with driver 4 is Any[[23, 28], [23, 29], 0.0]\n",
      "An arc associated with driver 4 is Any[[23, 29], [23, 30], 0.0]\n",
      "An arc associated with driver 4 is Any[[23, 30], [26, 31], 90.36976592607648]\n",
      "Case of driver 4 has finished. The arcs are: Any[Any[[0, 10], [20, 11], 86.39707019931214], Any[[20, 11], [20, 12], 0.0], Any[[20, 12], [20, 13], 0.0], Any[[20, 13], [20, 14], 0.0], Any[[20, 14], [21, 15], 21.153305098508625], Any[[21, 15], [21, 16], 0.0], Any[[21, 16], [21, 17], 0.0], Any[[21, 17], [21, 18], 0.0], Any[[21, 18], [21, 19], 0.0], Any[[21, 19], [21, 20], 0.0], Any[[21, 20], [21, 21], 0.0], Any[[21, 21], [22, 22], 5.99426033492411], Any[[22, 22], [22, 23], 0.0], Any[[22, 23], [22, 24], 0.0], Any[[22, 24], [22, 25], 0.0], Any[[22, 25], [22, 26], 0.0], Any[[22, 26], [23, 27], 27.587075286128385], Any[[23, 27], [23, 28], 0.0], Any[[23, 28], [23, 29], 0.0], Any[[23, 29], [23, 30], 0.0], Any[[23, 30], [26, 31], 90.36976592607648]]\n",
      "\n",
      "For driver 5\n",
      "An arc associated with driver 5 is Any[[0, 1], [26, 2], 0]\n",
      "Case of driver 5 has finished. The arcs are: Any[Any[[0, 1], [26, 2], 0]]\n",
      "\n",
      "For driver 6\n",
      "An arc associated with driver 6 is Any[[0, 1], [26, 2], 0]\n",
      "Case of driver 6 has finished. The arcs are: Any[Any[[0, 1], [26, 2], 0]]\n",
      "\n",
      "For driver 7\n",
      "An arc associated with driver 7 is Any[[0, 1], [26, 2], 0]\n",
      "Case of driver 7 has finished. The arcs are: Any[Any[[0, 1], [26, 2], 0]]\n",
      "\n",
      "For driver 8\n",
      "An arc associated with driver 8 is Any[[0, 1], [26, 2], 0]\n",
      "Case of driver 8 has finished. The arcs are: Any[Any[[0, 1], [26, 2], 0]]\n",
      "\n",
      "For driver 9\n",
      "An arc associated with driver 9 is Any[[0, 3], [24, 4], 161.63155748834768]\n",
      "An arc associated with driver 9 is Any[[24, 4], [24, 5], 0.0]\n",
      "An arc associated with driver 9 is Any[[24, 5], [24, 6], 0.0]\n",
      "An arc associated with driver 9 is Any[[24, 6], [24, 7], 0.0]\n",
      "An arc associated with driver 9 is Any[[24, 7], [24, 8], 0.0]\n",
      "An arc associated with driver 9 is Any[[24, 8], [25, 9], 11.515042935678439]\n",
      "An arc associated with driver 9 is Any[[25, 9], [25, 10], 0.0]\n",
      "An arc associated with driver 9 is Any[[25, 10], [25, 11], 0.0]\n",
      "An arc associated with driver 9 is Any[[25, 11], [25, 12], 0.0]\n",
      "An arc associated with driver 9 is Any[[25, 12], [25, 13], 0.0]\n",
      "An arc associated with driver 9 is Any[[25, 13], [25, 14], 0.0]\n",
      "An arc associated with driver 9 is Any[[25, 14], [26, 15], 160.68983694344095]\n",
      "Case of driver 9 has finished. The arcs are: Any[Any[[0, 3], [24, 4], 161.63155748834768], Any[[24, 4], [24, 5], 0.0], Any[[24, 5], [24, 6], 0.0], Any[[24, 6], [24, 7], 0.0], Any[[24, 7], [24, 8], 0.0], Any[[24, 8], [25, 9], 11.515042935678439], Any[[25, 9], [25, 10], 0.0], Any[[25, 10], [25, 11], 0.0], Any[[25, 11], [25, 12], 0.0], Any[[25, 12], [25, 13], 0.0], Any[[25, 13], [25, 14], 0.0], Any[[25, 14], [26, 15], 160.68983694344095]]\n",
      "\n",
      "For driver 10\n",
      "An arc associated with driver 10 is Any[[0, 1], [26, 2], 0]\n",
      "Case of driver 10 has finished. The arcs are: Any[Any[[0, 1], [26, 2], 0]]\n",
      "\n",
      "For driver 11\n",
      "An arc associated with driver 11 is Any[[0, 6], [4, 8], 275.66476768701585]\n",
      "An arc associated with driver 11 is Any[[4, 8], [4, 9], 0.0]\n",
      "An arc associated with driver 11 is Any[[4, 9], [4, 10], 0.0]\n",
      "An arc associated with driver 11 is Any[[4, 10], [4, 11], 0.0]\n",
      "An arc associated with driver 11 is Any[[4, 11], [4, 12], 0.0]\n",
      "An arc associated with driver 11 is Any[[4, 12], [4, 13], 0.0]\n",
      "An arc associated with driver 11 is Any[[4, 13], [5, 14], 14.732847721180612]\n",
      "An arc associated with driver 11 is Any[[5, 14], [5, 15], 0.0]\n",
      "An arc associated with driver 11 is Any[[5, 15], [5, 16], 0.0]\n",
      "An arc associated with driver 11 is Any[[5, 16], [5, 17], 0.0]\n",
      "An arc associated with driver 11 is Any[[5, 17], [5, 18], 0.0]\n",
      "An arc associated with driver 11 is Any[[5, 18], [5, 19], 0.0]\n",
      "An arc associated with driver 11 is Any[[5, 19], [5, 20], 0.0]\n",
      "An arc associated with driver 11 is Any[[5, 20], [5, 21], 0.0]\n",
      "An arc associated with driver 11 is Any[[5, 21], [6, 22], 9.252842735513466]\n",
      "An arc associated with driver 11 is Any[[6, 22], [6, 23], 0.0]\n",
      "An arc associated with driver 11 is Any[[6, 23], [6, 24], 0.0]\n",
      "An arc associated with driver 11 is Any[[6, 24], [6, 25], 0.0]\n",
      "An arc associated with driver 11 is Any[[6, 25], [6, 26], 0.0]\n",
      "An arc associated with driver 11 is Any[[6, 26], [7, 27], 20.050771093158136]\n",
      "An arc associated with driver 11 is Any[[7, 27], [7, 28], 0.0]\n",
      "An arc associated with driver 11 is Any[[7, 28], [7, 29], 0.0]\n",
      "An arc associated with driver 11 is Any[[7, 29], [7, 30], 0.0]\n",
      "An arc associated with driver 11 is Any[[7, 30], [7, 31], 0.0]\n",
      "An arc associated with driver 11 is Any[[7, 31], [7, 32], 0.0]\n",
      "An arc associated with driver 11 is Any[[7, 32], [7, 33], 0.0]\n",
      "An arc associated with driver 11 is Any[[7, 33], [7, 34], 0.0]\n",
      "An arc associated with driver 11 is Any[[7, 34], [26, 36], 267.74157855214145]\n",
      "Case of driver 11 has finished. The arcs are: Any[Any[[0, 6], [4, 7], 275.66476768701585], Any[[0, 7], [4, 8], 275.66476768701585], Any[[4, 8], [4, 9], 0.0], Any[[4, 9], [4, 10], 0.0], Any[[4, 10], [4, 11], 0.0], Any[[4, 11], [4, 12], 0.0], Any[[4, 12], [4, 13], 0.0], Any[[4, 13], [5, 14], 14.732847721180612], Any[[5, 14], [5, 15], 0.0], Any[[5, 15], [5, 16], 0.0], Any[[5, 16], [5, 17], 0.0], Any[[5, 17], [5, 18], 0.0], Any[[5, 18], [5, 19], 0.0], Any[[5, 19], [5, 20], 0.0], Any[[5, 20], [5, 21], 0.0], Any[[5, 21], [6, 22], 9.252842735513466], Any[[6, 22], [6, 23], 0.0], Any[[6, 23], [6, 24], 0.0], Any[[6, 24], [6, 25], 0.0], Any[[6, 25], [6, 26], 0.0], Any[[6, 26], [7, 27], 20.050771093158136], Any[[7, 27], [7, 28], 0.0], Any[[7, 28], [7, 29], 0.0], Any[[7, 29], [7, 30], 0.0], Any[[7, 30], [7, 31], 0.0], Any[[7, 31], [7, 32], 0.0], Any[[7, 32], [7, 33], 0.0], Any[[7, 33], [7, 34], 0.0], Any[[7, 34], [26, 35], 267.74157855214145], Any[[7, 35], [26, 36], 267.74157855214145]]\n",
      "\n",
      "For driver 12\n",
      "An arc associated with driver 12 is Any[[0, 1], [26, 2], 0]\n",
      "Case of driver 12 has finished. The arcs are: Any[Any[[0, 1], [26, 2], 0]]\n",
      "\n",
      "For driver 13\n",
      "An arc associated with driver 13 is Any[[0, 7], [11, 9], 219.20841372682088]\n",
      "An arc associated with driver 13 is Any[[11, 9], [11, 10], 0.0]\n",
      "An arc associated with driver 13 is Any[[11, 10], [11, 11], 0.0]\n",
      "An arc associated with driver 13 is Any[[11, 11], [11, 12], 0.0]\n",
      "An arc associated with driver 13 is Any[[11, 12], [11, 13], 0.0]\n",
      "An arc associated with driver 13 is Any[[11, 13], [12, 14], 8.63383997317047]\n",
      "An arc associated with driver 13 is Any[[12, 14], [12, 15], 0.0]\n",
      "An arc associated with driver 13 is Any[[12, 15], [12, 16], 0.0]\n",
      "An arc associated with driver 13 is Any[[12, 16], [12, 17], 0.0]\n",
      "An arc associated with driver 13 is Any[[12, 17], [12, 18], 0.0]\n",
      "An arc associated with driver 13 is Any[[12, 18], [12, 19], 0.0]\n",
      "An arc associated with driver 13 is Any[[12, 19], [12, 20], 0.0]\n",
      "An arc associated with driver 13 is Any[[12, 20], [12, 21], 0.0]\n",
      "An arc associated with driver 13 is Any[[12, 21], [12, 22], 0.0]\n",
      "An arc associated with driver 13 is Any[[12, 22], [15, 23], 28.96512721460351]\n",
      "An arc associated with driver 13 is Any[[15, 23], [15, 24], 0.0]\n",
      "An arc associated with driver 13 is Any[[15, 24], [15, 25], 0.0]\n",
      "An arc associated with driver 13 is Any[[15, 25], [15, 26], 0.0]\n",
      "An arc associated with driver 13 is Any[[15, 26], [15, 27], 0.0]\n",
      "An arc associated with driver 13 is Any[[15, 27], [15, 28], 0.0]\n",
      "An arc associated with driver 13 is Any[[15, 28], [15, 29], 0.0]\n",
      "An arc associated with driver 13 is Any[[15, 29], [15, 30], 0.0]\n",
      "An arc associated with driver 13 is Any[[15, 30], [15, 31], 0.0]\n",
      "An arc associated with driver 13 is Any[[15, 31], [15, 32], 0.0]\n",
      "An arc associated with driver 13 is Any[[15, 32], [15, 33], 0.0]\n",
      "An arc associated with driver 13 is Any[[15, 33], [15, 34], 0.0]\n",
      "An arc associated with driver 13 is Any[[15, 34], [15, 35], 0.0]\n",
      "An arc associated with driver 13 is Any[[15, 35], [15, 36], 0.0]\n",
      "An arc associated with driver 13 is Any[[15, 36], [26, 38], 213.77921747042998]\n",
      "Case of driver 13 has finished. The arcs are: Any[Any[[0, 7], [11, 8], 219.20841372682088], Any[[0, 8], [11, 9], 219.20841372682088], Any[[11, 9], [11, 10], 0.0], Any[[11, 10], [11, 11], 0.0], Any[[11, 11], [11, 12], 0.0], Any[[11, 12], [11, 13], 0.0], Any[[11, 13], [12, 14], 8.63383997317047], Any[[12, 14], [12, 15], 0.0], Any[[12, 15], [12, 16], 0.0], Any[[12, 16], [12, 17], 0.0], Any[[12, 17], [12, 18], 0.0], Any[[12, 18], [12, 19], 0.0], Any[[12, 19], [12, 20], 0.0], Any[[12, 20], [12, 21], 0.0], Any[[12, 21], [12, 22], 0.0], Any[[12, 22], [15, 23], 28.96512721460351], Any[[15, 23], [15, 24], 0.0], Any[[15, 24], [15, 25], 0.0], Any[[15, 25], [15, 26], 0.0], Any[[15, 26], [15, 27], 0.0], Any[[15, 27], [15, 28], 0.0], Any[[15, 28], [15, 29], 0.0], Any[[15, 29], [15, 30], 0.0], Any[[15, 30], [15, 31], 0.0], Any[[15, 31], [15, 32], 0.0], Any[[15, 32], [15, 33], 0.0], Any[[15, 33], [15, 34], 0.0], Any[[15, 34], [15, 35], 0.0], Any[[15, 35], [15, 36], 0.0], Any[[15, 36], [26, 37], 213.77921747042998], Any[[15, 37], [26, 38], 213.77921747042998]]\n",
      "\n",
      "For driver 14\n",
      "An arc associated with driver 14 is Any[[0, 1], [26, 2], 0]\n",
      "Case of driver 14 has finished. The arcs are: Any[Any[[0, 1], [26, 2], 0]]\n",
      "\n",
      "For driver 15\n",
      "An arc associated with driver 15 is Any[[0, 1], [26, 2], 0]\n",
      "Case of driver 15 has finished. The arcs are: Any[Any[[0, 1], [26, 2], 0]]\n",
      "\n"
     ]
    }
   ],
   "source": [
    "jobs_drivers = Dict()\n",
    "\n",
    "# There are n_vehicles_jobs job vehicles.\n",
    "for k in 1:n_vehicles_jobs\n",
    "    \n",
    "    #taking a specific job vehicle.\n",
    "    jobs_drivers[k] = []\n",
    "    \n",
    "    println(\"For driver \", k)\n",
    "    \n",
    "    #Look at all the task vehicle arcs we have. Which ones will be associated with driver?\n",
    "    for a in 1:A\n",
    "        if value.(z[k,a]) > 1e-16\n",
    "            println(\"An arc associated with driver \", k, \" is \", arcs[a])\n",
    "            \n",
    "            #=\n",
    "            We want to put each driver's path in as fine-grained time units\n",
    "            as possible.\n",
    "            \n",
    "            So if the discrete arcs we have are separated in time by 1, then that's good.\n",
    "            \n",
    "            If not, and we have something like [[3, 4], [6, 8], 0.5]\n",
    "            we will use arcs:\n",
    "            [[3, 4], [6, 5], 0.5]\n",
    "            [[3, 5], [6, 6], 0.5]\n",
    "            [[3, 6], [6, 7], 0.5]\n",
    "            [[3, 7], [6, 8], 0.5]\n",
    "            \n",
    "            This is mathematically incorrect but useful in visualization.\n",
    "            =#\n",
    "            if arcs[a][2][2] == arcs[a][1][2] + 1\n",
    "                push!(jobs_drivers[k], arcs[a])\n",
    "            \n",
    "            else\n",
    "                diff = arcs[a][2][2] - arcs[a][1][2]\n",
    "                for t in 1:diff\n",
    "                    new_arc = [[arcs[a][1][1], arcs[a][1][2] + t-1], [arcs[a][2][1], arcs[a][1][2] + t], arcs[a][3]]\n",
    "                    push!(jobs_drivers[k], new_arc)\n",
    "                end\n",
    "            end\n",
    "        end\n",
    "    end\n",
    "    \n",
    "    println(\"Case of driver \", k, \" has finished. The arcs are: \", jobs_drivers[k], \"\\n\")\n",
    "    #println(\"--------------------------------------------------\")\n",
    "end"
   ]
  },
  {
   "cell_type": "markdown",
   "id": "2b19fa1f",
   "metadata": {},
   "source": [
    "Which drivers actually did something?"
   ]
  },
  {
   "cell_type": "code",
   "execution_count": 50,
   "id": "33608439",
   "metadata": {},
   "outputs": [
    {
     "name": "stdout",
     "output_type": "stream",
     "text": [
      "Driver 1 did work.\n",
      "Driver 2 did work.\n",
      "Driver 3 did work.\n",
      "Driver 4 did work.\n",
      "Driver 9 did work.\n",
      "Driver 11 did work.\n",
      "Driver 13 did work.\n"
     ]
    }
   ],
   "source": [
    "# if there is more than one arc, which would be the trivial arc staying in the depot, print out driver.\n",
    "for k in 1:n_vehicles_jobs\n",
    "    if length(jobs_drivers[k]) > 1\n",
    "        println(\"Driver \", k, \" did work.\")\n",
    "    end\n",
    "end"
   ]
  },
  {
   "cell_type": "markdown",
   "id": "24428801",
   "metadata": {},
   "source": [
    "## [3b] When was each job performed?"
   ]
  },
  {
   "cell_type": "code",
   "execution_count": 51,
   "id": "5aeeb6e5",
   "metadata": {},
   "outputs": [
    {
     "name": "stdout",
     "output_type": "stream",
     "text": [
      "Assessing job 1\n",
      "Times at which job 1 was being done: Any[5, 6, 7]\n",
      "\n",
      "Assessing job 2\n",
      "Times at which job 2 was being done: Any[13, 14, 15, 16]\n",
      "\n",
      "Assessing job 3\n",
      "Times at which job 3 was being done: Any[20, 21, 22, 23, 24]\n",
      "\n",
      "Assessing job 4\n",
      "Times at which job 4 was being done: Any[8, 9]\n",
      "\n",
      "Assessing job 5\n",
      "Times at which job 5 was being done: Any[15, 16]\n",
      "\n",
      "Assessing job 6\n",
      "Times at which job 6 was being done: Any[23, 24, 25]\n",
      "\n",
      "Assessing job 7\n",
      "Times at which job 7 was being done: Any[30, 31, 32, 33]\n",
      "\n",
      "Assessing job 8\n",
      "Times at which job 8 was being done: Any[5, 6, 7]\n",
      "\n",
      "Assessing job 9\n",
      "Times at which job 9 was being done: Any[12, 13]\n",
      "\n",
      "Assessing job 10\n",
      "Times at which job 10 was being done: Any[18, 19, 20, 21]\n",
      "\n",
      "Assessing job 11\n",
      "Times at which job 11 was being done: Any[9, 10, 11, 12]\n",
      "\n",
      "Assessing job 12\n",
      "Times at which job 12 was being done: Any[14, 15, 16]\n",
      "\n",
      "Assessing job 13\n",
      "Times at which job 13 was being done: Any[21, 22, 23]\n",
      "\n",
      "Assessing job 14\n",
      "Times at which job 14 was being done: Any[27, 28]\n",
      "\n",
      "Assessing job 15\n",
      "Times at which job 15 was being done: Any[31, 32, 33, 34, 35]\n",
      "\n",
      "Assessing job 16\n",
      "Times at which job 16 was being done: Any[2, 3, 4]\n",
      "\n",
      "Assessing job 17\n",
      "Times at which job 17 was being done: Any[8, 9]\n",
      "\n",
      "Assessing job 18\n",
      "Times at which job 18 was being done: Any[12, 13, 14]\n",
      "\n",
      "Assessing job 19\n",
      "Times at which job 19 was being done: Any[17, 18, 19]\n",
      "\n",
      "Assessing job 20\n",
      "Times at which job 20 was being done: Any[11, 12, 13]\n",
      "\n",
      "Assessing job 21\n",
      "Times at which job 21 was being done: Any[16, 17, 18, 19]\n",
      "\n",
      "Assessing job 22\n",
      "Times at which job 22 was being done: Any[24, 25]\n",
      "\n",
      "Assessing job 23\n",
      "Times at which job 23 was being done: Any[27, 28, 29]\n",
      "\n",
      "Assessing job 24\n",
      "Times at which job 24 was being done: Any[4, 5, 6, 7]\n",
      "\n",
      "Assessing job 25\n",
      "Times at which job 25 was being done: Any[9, 10, 11, 12, 13]\n",
      "\n"
     ]
    }
   ],
   "source": [
    "time_jobs = Dict() # tells us when each job was done\n",
    "\n",
    "for i in 1:n_jobs\n",
    "    \n",
    "    println(\"Assessing job \", i)\n",
    "    time_jobs[i] = []\n",
    "    \n",
    "    #=\n",
    "    If a job is being performed, then it will have start 1 and end 0.\n",
    "    Jobs cannot have been performed at time 1.\n",
    "    =#\n",
    "    for t in 2:T\n",
    "        if (value.(y_s[i,t]) > 1e-5) & (value.(y_e[i,t]) < 1e-5)\n",
    "            push!(time_jobs[i], t)\n",
    "        end\n",
    "    end\n",
    "    \n",
    "    println(\"Times at which job \", i, \" was being done: \", time_jobs[i], \"\\n\")\n",
    "end"
   ]
  },
  {
   "cell_type": "code",
   "execution_count": 52,
   "id": "ab88118d",
   "metadata": {},
   "outputs": [
    {
     "name": "stdout",
     "output_type": "stream",
     "text": [
      "Job 1 was performed from time 5 to time 7 inclusive\n",
      "Job 2 was performed from time 13 to time 16 inclusive\n",
      "Job 3 was performed from time 20 to time 24 inclusive\n",
      "Job 4 was performed from time 8 to time 9 inclusive\n",
      "Job 5 was performed from time 15 to time 16 inclusive\n",
      "Job 6 was performed from time 23 to time 25 inclusive\n",
      "Job 7 was performed from time 30 to time 33 inclusive\n",
      "Job 8 was performed from time 5 to time 7 inclusive\n",
      "Job 9 was performed from time 12 to time 13 inclusive\n",
      "Job 10 was performed from time 18 to time 21 inclusive\n",
      "Job 11 was performed from time 9 to time 12 inclusive\n",
      "Job 12 was performed from time 14 to time 16 inclusive\n",
      "Job 13 was performed from time 21 to time 23 inclusive\n",
      "Job 14 was performed from time 27 to time 28 inclusive\n",
      "Job 15 was performed from time 31 to time 35 inclusive\n",
      "Job 16 was performed from time 2 to time 4 inclusive\n",
      "Job 17 was performed from time 8 to time 9 inclusive\n",
      "Job 18 was performed from time 12 to time 14 inclusive\n",
      "Job 19 was performed from time 17 to time 19 inclusive\n",
      "Job 20 was performed from time 11 to time 13 inclusive\n",
      "Job 21 was performed from time 16 to time 19 inclusive\n",
      "Job 22 was performed from time 24 to time 25 inclusive\n",
      "Job 23 was performed from time 27 to time 29 inclusive\n",
      "Job 24 was performed from time 4 to time 7 inclusive\n",
      "Job 25 was performed from time 9 to time 13 inclusive\n"
     ]
    }
   ],
   "source": [
    "for i in 1:n_jobs\n",
    "    job = time_jobs[i]\n",
    "    println(\"Job $(i) was performed from time $(job[1]) to time $(job[end]) inclusive\")\n",
    "end"
   ]
  },
  {
   "cell_type": "markdown",
   "id": "1ec4aab5",
   "metadata": {},
   "source": [
    "## [3c] Where and when did each coverage vehicle go?"
   ]
  },
  {
   "cell_type": "markdown",
   "id": "1b43098d",
   "metadata": {},
   "source": [
    "coverage_drivers = Dict()\n",
    "for k in 1:n_vehicles_coverage\n",
    "    coverage_drivers[k] = []\n",
    "    #println(\"For driver \", k)\n",
    "    for a in 1:A_cov\n",
    "        if value.(x[k,a]) > 0\n",
    "            #println(arcs_cov[a])\n",
    "            push!(coverage_drivers[k], arcs_cov[a])\n",
    "        end\n",
    "    end\n",
    "    #println(\"--------------------------------------------------\")\n",
    "end"
   ]
  },
  {
   "cell_type": "code",
   "execution_count": 53,
   "id": "cb830796",
   "metadata": {},
   "outputs": [
    {
     "name": "stdout",
     "output_type": "stream",
     "text": [
      "Evaluating coverage vehicle number 1.\n",
      "Arc Any[[0, 3], [5, 5], 175.95446524871682] is used by coverage vehicle 1.\n",
      "Arc Any[[4, 20], [4, 21], 0.0] is used by coverage vehicle 1.\n",
      "Arc Any[[4, 21], [4, 22], 0.0] is used by coverage vehicle 1.\n",
      "Arc Any[[4, 22], [4, 23], 0.0] is used by coverage vehicle 1.\n",
      "Arc Any[[4, 23], [4, 24], 0.0] is used by coverage vehicle 1.\n",
      "Arc Any[[4, 24], [4, 25], 0.0] is used by coverage vehicle 1.\n",
      "Arc Any[[5, 5], [5, 6], 0.0] is used by coverage vehicle 1.\n",
      "Arc Any[[5, 6], [5, 7], 0.0] is used by coverage vehicle 1.\n",
      "Arc Any[[5, 7], [5, 8], 0.0] is used by coverage vehicle 1.\n",
      "Arc Any[[5, 8], [5, 9], 0.0] is used by coverage vehicle 1.\n",
      "Arc Any[[5, 9], [5, 10], 0.0] is used by coverage vehicle 1.\n",
      "Arc Any[[5, 10], [5, 11], 0.0] is used by coverage vehicle 1.\n",
      "Arc Any[[5, 11], [5, 12], 0.0] is used by coverage vehicle 1.\n",
      "Arc Any[[5, 12], [5, 13], 0.0] is used by coverage vehicle 1.\n",
      "Arc Any[[5, 13], [5, 14], 0.0] is used by coverage vehicle 1.\n",
      "Arc Any[[5, 14], [5, 15], 0.0] is used by coverage vehicle 1.\n",
      "Arc Any[[5, 15], [5, 16], 0.0] is used by coverage vehicle 1.\n",
      "Arc Any[[5, 16], [5, 17], 0.0] is used by coverage vehicle 1.\n",
      "Arc Any[[5, 17], [5, 18], 0.0] is used by coverage vehicle 1.\n",
      "Arc Any[[5, 18], [5, 19], 0.0] is used by coverage vehicle 1.\n",
      "Arc Any[[5, 19], [4, 20], 70.71067811865476] is used by coverage vehicle 1.\n",
      "Arc Any[[4, 25], [13, 26], 140.39717625337047] is used by coverage vehicle 1.\n",
      "Finished evaluating coverage vehicle 1. \n",
      "Vehicle went to Any[Any[[0, 3], [5, 4], 175.95446524871682], Any[[0, 4], [5, 5], 175.95446524871682], Any[[4, 20], [4, 21], 0.0], Any[[4, 21], [4, 22], 0.0], Any[[4, 22], [4, 23], 0.0], Any[[4, 23], [4, 24], 0.0], Any[[4, 24], [4, 25], 0.0], Any[[5, 5], [5, 6], 0.0], Any[[5, 6], [5, 7], 0.0], Any[[5, 7], [5, 8], 0.0], Any[[5, 8], [5, 9], 0.0], Any[[5, 9], [5, 10], 0.0], Any[[5, 10], [5, 11], 0.0], Any[[5, 11], [5, 12], 0.0], Any[[5, 12], [5, 13], 0.0], Any[[5, 13], [5, 14], 0.0], Any[[5, 14], [5, 15], 0.0], Any[[5, 15], [5, 16], 0.0], Any[[5, 16], [5, 17], 0.0], Any[[5, 17], [5, 18], 0.0], Any[[5, 18], [5, 19], 0.0], Any[[5, 19], [4, 20], 70.71067811865476], Any[[4, 25], [13, 26], 140.39717625337047]].\n",
      "\n",
      "Evaluating coverage vehicle number 2.\n",
      "Arc Any[[0, 10], [6, 11], 44.40005248753111] is used by coverage vehicle 2.\n",
      "Arc Any[[6, 11], [6, 12], 0.0] is used by coverage vehicle 2.\n",
      "Arc Any[[6, 12], [6, 13], 0.0] is used by coverage vehicle 2.\n",
      "Arc Any[[6, 13], [6, 14], 0.0] is used by coverage vehicle 2.\n",
      "Arc Any[[6, 14], [6, 15], 0.0] is used by coverage vehicle 2.\n",
      "Arc Any[[6, 15], [6, 16], 0.0] is used by coverage vehicle 2.\n",
      "Arc Any[[6, 16], [6, 17], 0.0] is used by coverage vehicle 2.\n",
      "Arc Any[[6, 17], [6, 18], 0.0] is used by coverage vehicle 2.\n",
      "Arc Any[[6, 18], [6, 19], 0.0] is used by coverage vehicle 2.\n",
      "Arc Any[[6, 19], [6, 20], 0.0] is used by coverage vehicle 2.\n",
      "Arc Any[[6, 20], [6, 21], 0.0] is used by coverage vehicle 2.\n",
      "Arc Any[[6, 21], [6, 22], 0.0] is used by coverage vehicle 2.\n",
      "Arc Any[[6, 22], [6, 23], 0.0] is used by coverage vehicle 2.\n",
      "Arc Any[[6, 23], [6, 24], 0.0] is used by coverage vehicle 2.\n",
      "Arc Any[[6, 24], [6, 25], 0.0] is used by coverage vehicle 2.\n",
      "Arc Any[[6, 25], [6, 26], 0.0] is used by coverage vehicle 2.\n",
      "Arc Any[[6, 26], [6, 27], 0.0] is used by coverage vehicle 2.\n",
      "Arc Any[[6, 27], [6, 28], 0.0] is used by coverage vehicle 2.\n",
      "Arc Any[[6, 28], [6, 29], 0.0] is used by coverage vehicle 2.\n",
      "Arc Any[[6, 29], [6, 30], 0.0] is used by coverage vehicle 2.\n",
      "Arc Any[[6, 30], [13, 31], 44.40005248753111] is used by coverage vehicle 2.\n",
      "Finished evaluating coverage vehicle 2. \n",
      "Vehicle went to Any[Any[[0, 10], [6, 11], 44.40005248753111], Any[[6, 11], [6, 12], 0.0], Any[[6, 12], [6, 13], 0.0], Any[[6, 13], [6, 14], 0.0], Any[[6, 14], [6, 15], 0.0], Any[[6, 15], [6, 16], 0.0], Any[[6, 16], [6, 17], 0.0], Any[[6, 17], [6, 18], 0.0], Any[[6, 18], [6, 19], 0.0], Any[[6, 19], [6, 20], 0.0], Any[[6, 20], [6, 21], 0.0], Any[[6, 21], [6, 22], 0.0], Any[[6, 22], [6, 23], 0.0], Any[[6, 23], [6, 24], 0.0], Any[[6, 24], [6, 25], 0.0], Any[[6, 25], [6, 26], 0.0], Any[[6, 26], [6, 27], 0.0], Any[[6, 27], [6, 28], 0.0], Any[[6, 28], [6, 29], 0.0], Any[[6, 29], [6, 30], 0.0], Any[[6, 30], [13, 31], 44.40005248753111]].\n",
      "\n",
      "Evaluating coverage vehicle number 3.\n",
      "Arc Any[[0, 1], [13, 2], 0] is used by coverage vehicle 3.\n",
      "Finished evaluating coverage vehicle 3. \n",
      "Vehicle went to Any[Any[[0, 1], [13, 2], 0]].\n",
      "\n",
      "Evaluating coverage vehicle number 4.\n",
      "Arc Any[[0, 0], [9, 2], 195.8629647345368] is used by coverage vehicle 4.\n",
      "Arc Any[[9, 2], [9, 3], 0.0] is used by coverage vehicle 4.\n",
      "Arc Any[[9, 3], [9, 4], 0.0] is used by coverage vehicle 4.\n",
      "Arc Any[[9, 4], [9, 5], 0.0] is used by coverage vehicle 4.\n",
      "Arc Any[[9, 5], [9, 6], 0.0] is used by coverage vehicle 4.\n",
      "Arc Any[[9, 6], [9, 7], 0.0] is used by coverage vehicle 4.\n",
      "Arc Any[[9, 7], [9, 8], 0.0] is used by coverage vehicle 4.\n",
      "Arc Any[[9, 8], [9, 9], 0.0] is used by coverage vehicle 4.\n",
      "Arc Any[[9, 9], [9, 10], 0.0] is used by coverage vehicle 4.\n",
      "Arc Any[[9, 10], [9, 11], 0.0] is used by coverage vehicle 4.\n",
      "Arc Any[[9, 11], [9, 12], 0.0] is used by coverage vehicle 4.\n",
      "Arc Any[[9, 12], [9, 13], 0.0] is used by coverage vehicle 4.\n",
      "Arc Any[[9, 13], [9, 14], 0.0] is used by coverage vehicle 4.\n",
      "Arc Any[[9, 14], [9, 15], 0.0] is used by coverage vehicle 4.\n",
      "Arc Any[[9, 15], [9, 16], 0.0] is used by coverage vehicle 4.\n",
      "Arc Any[[9, 16], [9, 17], 0.0] is used by coverage vehicle 4.\n",
      "Arc Any[[9, 17], [9, 18], 0.0] is used by coverage vehicle 4.\n",
      "Arc Any[[9, 18], [9, 19], 0.0] is used by coverage vehicle 4.\n",
      "Arc Any[[9, 19], [9, 20], 0.0] is used by coverage vehicle 4.\n",
      "Arc Any[[9, 20], [9, 21], 0.0] is used by coverage vehicle 4.\n",
      "Arc Any[[9, 21], [9, 22], 0.0] is used by coverage vehicle 4.\n",
      "Arc Any[[9, 22], [9, 23], 0.0] is used by coverage vehicle 4.\n",
      "Arc Any[[9, 23], [9, 24], 0.0] is used by coverage vehicle 4.\n",
      "Arc Any[[9, 24], [9, 25], 0.0] is used by coverage vehicle 4.\n",
      "Arc Any[[9, 25], [9, 26], 0.0] is used by coverage vehicle 4.\n",
      "Arc Any[[9, 26], [9, 27], 0.0] is used by coverage vehicle 4.\n",
      "Arc Any[[9, 27], [9, 28], 0.0] is used by coverage vehicle 4.\n",
      "Arc Any[[9, 28], [9, 29], 0.0] is used by coverage vehicle 4.\n",
      "Arc Any[[9, 29], [13, 31], 195.8629647345368] is used by coverage vehicle 4.\n",
      "Finished evaluating coverage vehicle 4. \n",
      "Vehicle went to Any[Any[[0, 0], [9, 1], 195.8629647345368], Any[[0, 1], [9, 2], 195.8629647345368], Any[[9, 2], [9, 3], 0.0], Any[[9, 3], [9, 4], 0.0], Any[[9, 4], [9, 5], 0.0], Any[[9, 5], [9, 6], 0.0], Any[[9, 6], [9, 7], 0.0], Any[[9, 7], [9, 8], 0.0], Any[[9, 8], [9, 9], 0.0], Any[[9, 9], [9, 10], 0.0], Any[[9, 10], [9, 11], 0.0], Any[[9, 11], [9, 12], 0.0], Any[[9, 12], [9, 13], 0.0], Any[[9, 13], [9, 14], 0.0], Any[[9, 14], [9, 15], 0.0], Any[[9, 15], [9, 16], 0.0], Any[[9, 16], [9, 17], 0.0], Any[[9, 17], [9, 18], 0.0], Any[[9, 18], [9, 19], 0.0], Any[[9, 19], [9, 20], 0.0], Any[[9, 20], [9, 21], 0.0], Any[[9, 21], [9, 22], 0.0], Any[[9, 22], [9, 23], 0.0], Any[[9, 23], [9, 24], 0.0], Any[[9, 24], [9, 25], 0.0], Any[[9, 25], [9, 26], 0.0], Any[[9, 26], [9, 27], 0.0], Any[[9, 27], [9, 28], 0.0], Any[[9, 28], [9, 29], 0.0], Any[[9, 29], [13, 30], 195.8629647345368], Any[[9, 30], [13, 31], 195.8629647345368]].\n",
      "\n",
      "Evaluating coverage vehicle number 5.\n",
      "Arc Any[[0, 3], [12, 4], 152.4748156267177] is used by coverage vehicle 5.\n",
      "Arc Any[[12, 4], [12, 5], 0.0] is used by coverage vehicle 5.\n",
      "Arc Any[[12, 5], [12, 6], 0.0] is used by coverage vehicle 5.\n",
      "Arc Any[[12, 6], [12, 7], 0.0] is used by coverage vehicle 5.\n",
      "Arc Any[[12, 7], [12, 8], 0.0] is used by coverage vehicle 5.\n",
      "Arc Any[[12, 8], [12, 9], 0.0] is used by coverage vehicle 5.\n",
      "Arc Any[[12, 9], [12, 10], 0.0] is used by coverage vehicle 5.\n",
      "Arc Any[[12, 10], [12, 11], 0.0] is used by coverage vehicle 5.\n",
      "Arc Any[[12, 11], [12, 12], 0.0] is used by coverage vehicle 5.\n",
      "Arc Any[[12, 12], [12, 13], 0.0] is used by coverage vehicle 5.\n",
      "Arc Any[[12, 13], [12, 14], 0.0] is used by coverage vehicle 5.\n",
      "Arc Any[[12, 14], [13, 15], 152.4748156267177] is used by coverage vehicle 5.\n",
      "Finished evaluating coverage vehicle 5. \n",
      "Vehicle went to Any[Any[[0, 3], [12, 4], 152.4748156267177], Any[[12, 4], [12, 5], 0.0], Any[[12, 5], [12, 6], 0.0], Any[[12, 6], [12, 7], 0.0], Any[[12, 7], [12, 8], 0.0], Any[[12, 8], [12, 9], 0.0], Any[[12, 9], [12, 10], 0.0], Any[[12, 10], [12, 11], 0.0], Any[[12, 11], [12, 12], 0.0], Any[[12, 12], [12, 13], 0.0], Any[[12, 13], [12, 14], 0.0], Any[[12, 14], [13, 15], 152.4748156267177]].\n",
      "\n",
      "Evaluating coverage vehicle number 6.\n",
      "Arc Any[[0, 1], [13, 2], 0] is used by coverage vehicle 6.\n",
      "Finished evaluating coverage vehicle 6. \n",
      "Vehicle went to Any[Any[[0, 1], [13, 2], 0]].\n",
      "\n",
      "Evaluating coverage vehicle number 7.\n",
      "Arc Any[[0, 1], [13, 2], 0] is used by coverage vehicle 7.\n",
      "Finished evaluating coverage vehicle 7. \n",
      "Vehicle went to Any[Any[[0, 1], [13, 2], 0]].\n",
      "\n",
      "Evaluating coverage vehicle number 8.\n",
      "Arc Any[[0, 4], [2, 5], 135.87774048341421] is used by coverage vehicle 8.\n",
      "Arc Any[[2, 5], [2, 6], 0.0] is used by coverage vehicle 8.\n",
      "Arc Any[[2, 6], [2, 7], 0.0] is used by coverage vehicle 8.\n",
      "Arc Any[[2, 7], [2, 8], 0.0] is used by coverage vehicle 8.\n",
      "Arc Any[[2, 8], [2, 9], 0.0] is used by coverage vehicle 8.\n",
      "Arc Any[[2, 9], [2, 10], 0.0] is used by coverage vehicle 8.\n",
      "Arc Any[[2, 10], [2, 11], 0.0] is used by coverage vehicle 8.\n",
      "Arc Any[[2, 11], [2, 12], 0.0] is used by coverage vehicle 8.\n",
      "Arc Any[[2, 12], [2, 13], 0.0] is used by coverage vehicle 8.\n",
      "Arc Any[[2, 13], [2, 14], 0.0] is used by coverage vehicle 8.\n",
      "Arc Any[[2, 14], [2, 15], 0.0] is used by coverage vehicle 8.\n",
      "Arc Any[[2, 15], [2, 16], 0.0] is used by coverage vehicle 8.\n",
      "Arc Any[[2, 16], [2, 17], 0.0] is used by coverage vehicle 8.\n",
      "Arc Any[[2, 17], [2, 18], 0.0] is used by coverage vehicle 8.\n",
      "Arc Any[[2, 18], [2, 19], 0.0] is used by coverage vehicle 8.\n",
      "Arc Any[[2, 19], [2, 20], 0.0] is used by coverage vehicle 8.\n",
      "Arc Any[[2, 20], [2, 21], 0.0] is used by coverage vehicle 8.\n",
      "Arc Any[[2, 21], [2, 22], 0.0] is used by coverage vehicle 8.\n",
      "Arc Any[[2, 22], [13, 23], 135.87774048341421] is used by coverage vehicle 8.\n",
      "Finished evaluating coverage vehicle 8. \n",
      "Vehicle went to Any[Any[[0, 4], [2, 5], 135.87774048341421], Any[[2, 5], [2, 6], 0.0], Any[[2, 6], [2, 7], 0.0], Any[[2, 7], [2, 8], 0.0], Any[[2, 8], [2, 9], 0.0], Any[[2, 9], [2, 10], 0.0], Any[[2, 10], [2, 11], 0.0], Any[[2, 11], [2, 12], 0.0], Any[[2, 12], [2, 13], 0.0], Any[[2, 13], [2, 14], 0.0], Any[[2, 14], [2, 15], 0.0], Any[[2, 15], [2, 16], 0.0], Any[[2, 16], [2, 17], 0.0], Any[[2, 17], [2, 18], 0.0], Any[[2, 18], [2, 19], 0.0], Any[[2, 19], [2, 20], 0.0], Any[[2, 20], [2, 21], 0.0], Any[[2, 21], [2, 22], 0.0], Any[[2, 22], [13, 23], 135.87774048341421]].\n",
      "\n",
      "Evaluating coverage vehicle number 9.\n",
      "Arc Any[[0, 1], [13, 2], 0] is used by coverage vehicle 9.\n",
      "Finished evaluating coverage vehicle 9. \n",
      "Vehicle went to Any[Any[[0, 1], [13, 2], 0]].\n",
      "\n",
      "Evaluating coverage vehicle number 10.\n",
      "Arc Any[[0, 6], [11, 8], 277.6445379870716] is used by coverage vehicle 10.\n",
      "Arc Any[[10, 31], [10, 32], 0.0] is used by coverage vehicle 10.\n",
      "Arc Any[[10, 32], [10, 33], 0.0] is used by coverage vehicle 10.\n",
      "Arc Any[[10, 33], [10, 34], 0.0] is used by coverage vehicle 10.\n",
      "Arc Any[[10, 34], [10, 35], 0.0] is used by coverage vehicle 10.\n",
      "Arc Any[[10, 35], [10, 36], 0.0] is used by coverage vehicle 10.\n",
      "Arc Any[[11, 8], [11, 9], 0.0] is used by coverage vehicle 10.\n",
      "Arc Any[[11, 9], [11, 10], 0.0] is used by coverage vehicle 10.\n",
      "Arc Any[[11, 10], [11, 11], 0.0] is used by coverage vehicle 10.\n",
      "Arc Any[[11, 11], [11, 12], 0.0] is used by coverage vehicle 10.\n",
      "Arc Any[[11, 12], [11, 13], 0.0] is used by coverage vehicle 10.\n",
      "Arc Any[[11, 13], [11, 14], 0.0] is used by coverage vehicle 10.\n",
      "Arc Any[[11, 14], [11, 15], 0.0] is used by coverage vehicle 10.\n",
      "Arc Any[[11, 15], [11, 16], 0.0] is used by coverage vehicle 10.\n",
      "Arc Any[[11, 16], [11, 17], 0.0] is used by coverage vehicle 10.\n",
      "Arc Any[[11, 17], [11, 18], 0.0] is used by coverage vehicle 10.\n",
      "Arc Any[[11, 18], [11, 19], 0.0] is used by coverage vehicle 10.\n",
      "Arc Any[[11, 19], [11, 20], 0.0] is used by coverage vehicle 10.\n",
      "Arc Any[[11, 20], [11, 21], 0.0] is used by coverage vehicle 10.\n",
      "Arc Any[[11, 21], [11, 22], 0.0] is used by coverage vehicle 10.\n",
      "Arc Any[[11, 22], [11, 23], 0.0] is used by coverage vehicle 10.\n",
      "Arc Any[[11, 23], [11, 24], 0.0] is used by coverage vehicle 10.\n",
      "Arc Any[[11, 24], [11, 25], 0.0] is used by coverage vehicle 10.\n",
      "Arc Any[[11, 25], [11, 26], 0.0] is used by coverage vehicle 10.\n",
      "Arc Any[[11, 26], [11, 27], 0.0] is used by coverage vehicle 10.\n",
      "Arc Any[[11, 27], [11, 28], 0.0] is used by coverage vehicle 10.\n",
      "Arc Any[[11, 28], [11, 29], 0.0] is used by coverage vehicle 10.\n",
      "Arc Any[[11, 29], [11, 30], 0.0] is used by coverage vehicle 10.\n",
      "Arc Any[[11, 30], [10, 31], 55.90169943749474] is used by coverage vehicle 10.\n",
      "Arc Any[[10, 36], [13, 38], 222.6285348094953] is used by coverage vehicle 10.\n",
      "Finished evaluating coverage vehicle 10. \n",
      "Vehicle went to Any[Any[[0, 6], [11, 7], 277.6445379870716], Any[[0, 7], [11, 8], 277.6445379870716], Any[[10, 31], [10, 32], 0.0], Any[[10, 32], [10, 33], 0.0], Any[[10, 33], [10, 34], 0.0], Any[[10, 34], [10, 35], 0.0], Any[[10, 35], [10, 36], 0.0], Any[[11, 8], [11, 9], 0.0], Any[[11, 9], [11, 10], 0.0], Any[[11, 10], [11, 11], 0.0], Any[[11, 11], [11, 12], 0.0], Any[[11, 12], [11, 13], 0.0], Any[[11, 13], [11, 14], 0.0], Any[[11, 14], [11, 15], 0.0], Any[[11, 15], [11, 16], 0.0], Any[[11, 16], [11, 17], 0.0], Any[[11, 17], [11, 18], 0.0], Any[[11, 18], [11, 19], 0.0], Any[[11, 19], [11, 20], 0.0], Any[[11, 20], [11, 21], 0.0], Any[[11, 21], [11, 22], 0.0], Any[[11, 22], [11, 23], 0.0], Any[[11, 23], [11, 24], 0.0], Any[[11, 24], [11, 25], 0.0], Any[[11, 25], [11, 26], 0.0], Any[[11, 26], [11, 27], 0.0], Any[[11, 27], [11, 28], 0.0], Any[[11, 28], [11, 29], 0.0], Any[[11, 29], [11, 30], 0.0], Any[[11, 30], [10, 31], 55.90169943749474], Any[[10, 36], [13, 37], 222.6285348094953], Any[[10, 37], [13, 38], 222.6285348094953]].\n",
      "\n"
     ]
    }
   ],
   "source": [
    "# This code is going to be similar to 3a: finding where job vehicles went.\n",
    "coverage_drivers = Dict()\n",
    "\n",
    "for k in 1:n_vehicles_coverage\n",
    "    \n",
    "    coverage_drivers[k] = []\n",
    "    println(\"Evaluating coverage vehicle number $(k).\")\n",
    "    \n",
    "    # evaluate every single coverage arc.\n",
    "    for a in 1:A_cov\n",
    "        if value.(x[k,a]) > 1e-5\n",
    "            println(\"Arc $(arcs_cov[a]) is used by coverage vehicle $(k).\")\n",
    "            \n",
    "            #=\n",
    "            Once again, for visualization, where the vehicle goes is relevant:\n",
    "            we want to be as discrete in time as possible.\n",
    "            \n",
    "            If the time grain is 1, then push the arc; otherwise, apply the trick we did in 3a.\n",
    "            =#\n",
    "            if arcs_cov[a][2][2] == arcs_cov[a][1][2] + 1\n",
    "                push!(coverage_drivers[k], arcs_cov[a])\n",
    "                \n",
    "            else\n",
    "                diff = arcs_cov[a][2][2] - arcs_cov[a][1][2]\n",
    "                for t in 1:diff\n",
    "                    new_arc = [[arcs_cov[a][1][1], arcs_cov[a][1][2] + t-1], [arcs_cov[a][2][1], arcs_cov[a][1][2] + t], arcs_cov[a][3]]\n",
    "                    push!(coverage_drivers[k], new_arc)\n",
    "                end\n",
    "            end\n",
    "            \n",
    "        end\n",
    "    end\n",
    "    println(\"Finished evaluating coverage vehicle $(k). \\nVehicle went to $(coverage_drivers[k]).\\n\")\n",
    "end"
   ]
  },
  {
   "cell_type": "markdown",
   "id": "51502ebd",
   "metadata": {},
   "source": [
    "Which coverage vehicles actually do anything? They are the ones that don't stay in the depot all the time."
   ]
  },
  {
   "cell_type": "code",
   "execution_count": 54,
   "id": "aab197b3",
   "metadata": {},
   "outputs": [
    {
     "name": "stdout",
     "output_type": "stream",
     "text": [
      "Coverage vehicle 1 is active.\n",
      "Coverage vehicle 1 went to locations: Any[Any[[0, 3], [5, 4], 175.95446524871682], Any[[0, 4], [5, 5], 175.95446524871682], Any[[4, 20], [4, 21], 0.0], Any[[4, 21], [4, 22], 0.0], Any[[4, 22], [4, 23], 0.0], Any[[4, 23], [4, 24], 0.0], Any[[4, 24], [4, 25], 0.0], Any[[5, 5], [5, 6], 0.0], Any[[5, 6], [5, 7], 0.0], Any[[5, 7], [5, 8], 0.0], Any[[5, 8], [5, 9], 0.0], Any[[5, 9], [5, 10], 0.0], Any[[5, 10], [5, 11], 0.0], Any[[5, 11], [5, 12], 0.0], Any[[5, 12], [5, 13], 0.0], Any[[5, 13], [5, 14], 0.0], Any[[5, 14], [5, 15], 0.0], Any[[5, 15], [5, 16], 0.0], Any[[5, 16], [5, 17], 0.0], Any[[5, 17], [5, 18], 0.0], Any[[5, 18], [5, 19], 0.0], Any[[5, 19], [4, 20], 70.71067811865476], Any[[4, 25], [13, 26], 140.39717625337047]].\n",
      "\n",
      "Coverage vehicle 2 is active.\n",
      "Coverage vehicle 2 went to locations: Any[Any[[0, 10], [6, 11], 44.40005248753111], Any[[6, 11], [6, 12], 0.0], Any[[6, 12], [6, 13], 0.0], Any[[6, 13], [6, 14], 0.0], Any[[6, 14], [6, 15], 0.0], Any[[6, 15], [6, 16], 0.0], Any[[6, 16], [6, 17], 0.0], Any[[6, 17], [6, 18], 0.0], Any[[6, 18], [6, 19], 0.0], Any[[6, 19], [6, 20], 0.0], Any[[6, 20], [6, 21], 0.0], Any[[6, 21], [6, 22], 0.0], Any[[6, 22], [6, 23], 0.0], Any[[6, 23], [6, 24], 0.0], Any[[6, 24], [6, 25], 0.0], Any[[6, 25], [6, 26], 0.0], Any[[6, 26], [6, 27], 0.0], Any[[6, 27], [6, 28], 0.0], Any[[6, 28], [6, 29], 0.0], Any[[6, 29], [6, 30], 0.0], Any[[6, 30], [13, 31], 44.40005248753111]].\n",
      "\n",
      "\n",
      "Coverage vehicle 4 is active.\n",
      "Coverage vehicle 4 went to locations: Any[Any[[0, 0], [9, 1], 195.8629647345368], Any[[0, 1], [9, 2], 195.8629647345368], Any[[9, 2], [9, 3], 0.0], Any[[9, 3], [9, 4], 0.0], Any[[9, 4], [9, 5], 0.0], Any[[9, 5], [9, 6], 0.0], Any[[9, 6], [9, 7], 0.0], Any[[9, 7], [9, 8], 0.0], Any[[9, 8], [9, 9], 0.0], Any[[9, 9], [9, 10], 0.0], Any[[9, 10], [9, 11], 0.0], Any[[9, 11], [9, 12], 0.0], Any[[9, 12], [9, 13], 0.0], Any[[9, 13], [9, 14], 0.0], Any[[9, 14], [9, 15], 0.0], Any[[9, 15], [9, 16], 0.0], Any[[9, 16], [9, 17], 0.0], Any[[9, 17], [9, 18], 0.0], Any[[9, 18], [9, 19], 0.0], Any[[9, 19], [9, 20], 0.0], Any[[9, 20], [9, 21], 0.0], Any[[9, 21], [9, 22], 0.0], Any[[9, 22], [9, 23], 0.0], Any[[9, 23], [9, 24], 0.0], Any[[9, 24], [9, 25], 0.0], Any[[9, 25], [9, 26], 0.0], Any[[9, 26], [9, 27], 0.0], Any[[9, 27], [9, 28], 0.0], Any[[9, 28], [9, 29], 0.0], Any[[9, 29], [13, 30], 195.8629647345368], Any[[9, 30], [13, 31], 195.8629647345368]].\n",
      "\n",
      "Coverage vehicle 5 is active.\n",
      "Coverage vehicle 5 went to locations: Any[Any[[0, 3], [12, 4], 152.4748156267177], Any[[12, 4], [12, 5], 0.0], Any[[12, 5], [12, 6], 0.0], Any[[12, 6], [12, 7], 0.0], Any[[12, 7], [12, 8], 0.0], Any[[12, 8], [12, 9], 0.0], Any[[12, 9], [12, 10], 0.0], Any[[12, 10], [12, 11], 0.0], Any[[12, 11], [12, 12], 0.0], Any[[12, 12], [12, 13], 0.0], Any[[12, 13], [12, 14], 0.0], Any[[12, 14], [13, 15], 152.4748156267177]].\n",
      "\n",
      "\n",
      "\n",
      "Coverage vehicle 8 is active.\n",
      "Coverage vehicle 8 went to locations: Any[Any[[0, 4], [2, 5], 135.87774048341421], Any[[2, 5], [2, 6], 0.0], Any[[2, 6], [2, 7], 0.0], Any[[2, 7], [2, 8], 0.0], Any[[2, 8], [2, 9], 0.0], Any[[2, 9], [2, 10], 0.0], Any[[2, 10], [2, 11], 0.0], Any[[2, 11], [2, 12], 0.0], Any[[2, 12], [2, 13], 0.0], Any[[2, 13], [2, 14], 0.0], Any[[2, 14], [2, 15], 0.0], Any[[2, 15], [2, 16], 0.0], Any[[2, 16], [2, 17], 0.0], Any[[2, 17], [2, 18], 0.0], Any[[2, 18], [2, 19], 0.0], Any[[2, 19], [2, 20], 0.0], Any[[2, 20], [2, 21], 0.0], Any[[2, 21], [2, 22], 0.0], Any[[2, 22], [13, 23], 135.87774048341421]].\n",
      "\n",
      "\n",
      "Coverage vehicle 10 is active.\n",
      "Coverage vehicle 10 went to locations: Any[Any[[0, 6], [11, 7], 277.6445379870716], Any[[0, 7], [11, 8], 277.6445379870716], Any[[10, 31], [10, 32], 0.0], Any[[10, 32], [10, 33], 0.0], Any[[10, 33], [10, 34], 0.0], Any[[10, 34], [10, 35], 0.0], Any[[10, 35], [10, 36], 0.0], Any[[11, 8], [11, 9], 0.0], Any[[11, 9], [11, 10], 0.0], Any[[11, 10], [11, 11], 0.0], Any[[11, 11], [11, 12], 0.0], Any[[11, 12], [11, 13], 0.0], Any[[11, 13], [11, 14], 0.0], Any[[11, 14], [11, 15], 0.0], Any[[11, 15], [11, 16], 0.0], Any[[11, 16], [11, 17], 0.0], Any[[11, 17], [11, 18], 0.0], Any[[11, 18], [11, 19], 0.0], Any[[11, 19], [11, 20], 0.0], Any[[11, 20], [11, 21], 0.0], Any[[11, 21], [11, 22], 0.0], Any[[11, 22], [11, 23], 0.0], Any[[11, 23], [11, 24], 0.0], Any[[11, 24], [11, 25], 0.0], Any[[11, 25], [11, 26], 0.0], Any[[11, 26], [11, 27], 0.0], Any[[11, 27], [11, 28], 0.0], Any[[11, 28], [11, 29], 0.0], Any[[11, 29], [11, 30], 0.0], Any[[11, 30], [10, 31], 55.90169943749474], Any[[10, 36], [13, 37], 222.6285348094953], Any[[10, 37], [13, 38], 222.6285348094953]].\n",
      "\n"
     ]
    }
   ],
   "source": [
    "for k in 1:n_vehicles_coverage\n",
    "    if length(coverage_drivers[k]) > 1\n",
    "        println(\"Coverage vehicle $(k) is active.\")\n",
    "        println(\"Coverage vehicle $(k) went to locations: $(coverage_drivers[k]).\")\n",
    "    end\n",
    "    println()\n",
    "end"
   ]
  },
  {
   "cell_type": "markdown",
   "id": "31cb9fb8",
   "metadata": {},
   "source": [
    "## [3d] When did each coverage vehicle that did work work?"
   ]
  },
  {
   "cell_type": "code",
   "execution_count": 55,
   "id": "13b3c40e",
   "metadata": {},
   "outputs": [
    {
     "name": "stdout",
     "output_type": "stream",
     "text": [
      "Assessing location 1.\n",
      "Coverage location 1 was visited like: Any[]\n",
      " By vehicles Any[]\n",
      "\n",
      "Assessing location 2.\n",
      "Coverage location 2 visited by vehicle 8, arc is Any[[2, 5], [2, 6], 0.0].\n",
      "Coverage location 2 visited by vehicle 8, arc is Any[[2, 6], [2, 7], 0.0].\n",
      "Coverage location 2 visited by vehicle 8, arc is Any[[2, 7], [2, 8], 0.0].\n",
      "Coverage location 2 visited by vehicle 8, arc is Any[[2, 8], [2, 9], 0.0].\n",
      "Coverage location 2 visited by vehicle 8, arc is Any[[2, 9], [2, 10], 0.0].\n",
      "Coverage location 2 visited by vehicle 8, arc is Any[[2, 10], [2, 11], 0.0].\n",
      "Coverage location 2 visited by vehicle 8, arc is Any[[2, 11], [2, 12], 0.0].\n",
      "Coverage location 2 visited by vehicle 8, arc is Any[[2, 12], [2, 13], 0.0].\n",
      "Coverage location 2 visited by vehicle 8, arc is Any[[2, 13], [2, 14], 0.0].\n",
      "Coverage location 2 visited by vehicle 8, arc is Any[[2, 14], [2, 15], 0.0].\n",
      "Coverage location 2 visited by vehicle 8, arc is Any[[2, 15], [2, 16], 0.0].\n",
      "Coverage location 2 visited by vehicle 8, arc is Any[[2, 16], [2, 17], 0.0].\n",
      "Coverage location 2 visited by vehicle 8, arc is Any[[2, 17], [2, 18], 0.0].\n",
      "Coverage location 2 visited by vehicle 8, arc is Any[[2, 18], [2, 19], 0.0].\n",
      "Coverage location 2 visited by vehicle 8, arc is Any[[2, 19], [2, 20], 0.0].\n",
      "Coverage location 2 visited by vehicle 8, arc is Any[[2, 20], [2, 21], 0.0].\n",
      "Coverage location 2 visited by vehicle 8, arc is Any[[2, 21], [2, 22], 0.0].\n",
      "Coverage location 2 was visited like: Any[5, 6, 7, 8, 9, 10, 11, 12, 13, 14, 15, 16, 17, 18, 19, 20, 21]\n",
      " By vehicles Any[8]\n",
      "\n",
      "Assessing location 3.\n",
      "Coverage location 3 was visited like: Any[]\n",
      " By vehicles Any[]\n",
      "\n",
      "Assessing location 4.\n",
      "Coverage location 4 visited by vehicle 1, arc is Any[[4, 20], [4, 21], 0.0].\n",
      "Coverage location 4 visited by vehicle 1, arc is Any[[4, 21], [4, 22], 0.0].\n",
      "Coverage location 4 visited by vehicle 1, arc is Any[[4, 22], [4, 23], 0.0].\n",
      "Coverage location 4 visited by vehicle 1, arc is Any[[4, 23], [4, 24], 0.0].\n",
      "Coverage location 4 visited by vehicle 1, arc is Any[[4, 24], [4, 25], 0.0].\n",
      "Coverage location 4 was visited like: Any[20, 21, 22, 23, 24]\n",
      " By vehicles Any[1]\n",
      "\n",
      "Assessing location 5.\n",
      "Coverage location 5 visited by vehicle 1, arc is Any[[5, 5], [5, 6], 0.0].\n",
      "Coverage location 5 visited by vehicle 1, arc is Any[[5, 6], [5, 7], 0.0].\n",
      "Coverage location 5 visited by vehicle 1, arc is Any[[5, 7], [5, 8], 0.0].\n",
      "Coverage location 5 visited by vehicle 1, arc is Any[[5, 8], [5, 9], 0.0].\n",
      "Coverage location 5 visited by vehicle 1, arc is Any[[5, 9], [5, 10], 0.0].\n",
      "Coverage location 5 visited by vehicle 1, arc is Any[[5, 10], [5, 11], 0.0].\n",
      "Coverage location 5 visited by vehicle 1, arc is Any[[5, 11], [5, 12], 0.0].\n",
      "Coverage location 5 visited by vehicle 1, arc is Any[[5, 12], [5, 13], 0.0].\n",
      "Coverage location 5 visited by vehicle 1, arc is Any[[5, 13], [5, 14], 0.0].\n",
      "Coverage location 5 visited by vehicle 1, arc is Any[[5, 14], [5, 15], 0.0].\n",
      "Coverage location 5 visited by vehicle 1, arc is Any[[5, 15], [5, 16], 0.0].\n",
      "Coverage location 5 visited by vehicle 1, arc is Any[[5, 16], [5, 17], 0.0].\n",
      "Coverage location 5 visited by vehicle 1, arc is Any[[5, 17], [5, 18], 0.0].\n",
      "Coverage location 5 visited by vehicle 1, arc is Any[[5, 18], [5, 19], 0.0].\n",
      "Coverage location 5 was visited like: Any[5, 6, 7, 8, 9, 10, 11, 12, 13, 14, 15, 16, 17, 18]\n",
      " By vehicles Any[1]\n",
      "\n",
      "Assessing location 6.\n",
      "Coverage location 6 visited by vehicle 2, arc is Any[[6, 11], [6, 12], 0.0].\n",
      "Coverage location 6 visited by vehicle 2, arc is Any[[6, 12], [6, 13], 0.0].\n",
      "Coverage location 6 visited by vehicle 2, arc is Any[[6, 13], [6, 14], 0.0].\n",
      "Coverage location 6 visited by vehicle 2, arc is Any[[6, 14], [6, 15], 0.0].\n",
      "Coverage location 6 visited by vehicle 2, arc is Any[[6, 15], [6, 16], 0.0].\n",
      "Coverage location 6 visited by vehicle 2, arc is Any[[6, 16], [6, 17], 0.0].\n",
      "Coverage location 6 visited by vehicle 2, arc is Any[[6, 17], [6, 18], 0.0].\n",
      "Coverage location 6 visited by vehicle 2, arc is Any[[6, 18], [6, 19], 0.0].\n",
      "Coverage location 6 visited by vehicle 2, arc is Any[[6, 19], [6, 20], 0.0].\n",
      "Coverage location 6 visited by vehicle 2, arc is Any[[6, 20], [6, 21], 0.0].\n",
      "Coverage location 6 visited by vehicle 2, arc is Any[[6, 21], [6, 22], 0.0].\n",
      "Coverage location 6 visited by vehicle 2, arc is Any[[6, 22], [6, 23], 0.0].\n",
      "Coverage location 6 visited by vehicle 2, arc is Any[[6, 23], [6, 24], 0.0].\n",
      "Coverage location 6 visited by vehicle 2, arc is Any[[6, 24], [6, 25], 0.0].\n",
      "Coverage location 6 visited by vehicle 2, arc is Any[[6, 25], [6, 26], 0.0].\n",
      "Coverage location 6 visited by vehicle 2, arc is Any[[6, 26], [6, 27], 0.0].\n",
      "Coverage location 6 visited by vehicle 2, arc is Any[[6, 27], [6, 28], 0.0].\n",
      "Coverage location 6 visited by vehicle 2, arc is Any[[6, 28], [6, 29], 0.0].\n",
      "Coverage location 6 visited by vehicle 2, arc is Any[[6, 29], [6, 30], 0.0].\n",
      "Coverage location 6 was visited like: Any[11, 12, 13, 14, 15, 16, 17, 18, 19, 20, 21, 22, 23, 24, 25, 26, 27, 28, 29]\n",
      " By vehicles Any[2]\n",
      "\n",
      "Assessing location 7.\n",
      "Coverage location 7 was visited like: Any[]\n",
      " By vehicles Any[]\n",
      "\n",
      "Assessing location 8.\n",
      "Coverage location 8 was visited like: Any[]\n",
      " By vehicles Any[]\n",
      "\n",
      "Assessing location 9.\n",
      "Coverage location 9 visited by vehicle 4, arc is Any[[9, 2], [9, 3], 0.0].\n",
      "Coverage location 9 visited by vehicle 4, arc is Any[[9, 3], [9, 4], 0.0].\n",
      "Coverage location 9 visited by vehicle 4, arc is Any[[9, 4], [9, 5], 0.0].\n",
      "Coverage location 9 visited by vehicle 4, arc is Any[[9, 5], [9, 6], 0.0].\n",
      "Coverage location 9 visited by vehicle 4, arc is Any[[9, 6], [9, 7], 0.0].\n",
      "Coverage location 9 visited by vehicle 4, arc is Any[[9, 7], [9, 8], 0.0].\n",
      "Coverage location 9 visited by vehicle 4, arc is Any[[9, 8], [9, 9], 0.0].\n",
      "Coverage location 9 visited by vehicle 4, arc is Any[[9, 9], [9, 10], 0.0].\n",
      "Coverage location 9 visited by vehicle 4, arc is Any[[9, 10], [9, 11], 0.0].\n",
      "Coverage location 9 visited by vehicle 4, arc is Any[[9, 11], [9, 12], 0.0].\n",
      "Coverage location 9 visited by vehicle 4, arc is Any[[9, 12], [9, 13], 0.0].\n",
      "Coverage location 9 visited by vehicle 4, arc is Any[[9, 13], [9, 14], 0.0].\n",
      "Coverage location 9 visited by vehicle 4, arc is Any[[9, 14], [9, 15], 0.0].\n",
      "Coverage location 9 visited by vehicle 4, arc is Any[[9, 15], [9, 16], 0.0].\n",
      "Coverage location 9 visited by vehicle 4, arc is Any[[9, 16], [9, 17], 0.0].\n",
      "Coverage location 9 visited by vehicle 4, arc is Any[[9, 17], [9, 18], 0.0].\n",
      "Coverage location 9 visited by vehicle 4, arc is Any[[9, 18], [9, 19], 0.0].\n",
      "Coverage location 9 visited by vehicle 4, arc is Any[[9, 19], [9, 20], 0.0].\n",
      "Coverage location 9 visited by vehicle 4, arc is Any[[9, 20], [9, 21], 0.0].\n",
      "Coverage location 9 visited by vehicle 4, arc is Any[[9, 21], [9, 22], 0.0].\n",
      "Coverage location 9 visited by vehicle 4, arc is Any[[9, 22], [9, 23], 0.0].\n",
      "Coverage location 9 visited by vehicle 4, arc is Any[[9, 23], [9, 24], 0.0].\n",
      "Coverage location 9 visited by vehicle 4, arc is Any[[9, 24], [9, 25], 0.0].\n",
      "Coverage location 9 visited by vehicle 4, arc is Any[[9, 25], [9, 26], 0.0].\n",
      "Coverage location 9 visited by vehicle 4, arc is Any[[9, 26], [9, 27], 0.0].\n",
      "Coverage location 9 visited by vehicle 4, arc is Any[[9, 27], [9, 28], 0.0].\n",
      "Coverage location 9 visited by vehicle 4, arc is Any[[9, 28], [9, 29], 0.0].\n",
      "Coverage location 9 was visited like: Any[2, 3, 4, 5, 6, 7, 8, 9, 10, 11, 12, 13, 14, 15, 16, 17, 18, 19, 20, 21, 22, 23, 24, 25, 26, 27, 28]\n",
      " By vehicles Any[4]\n",
      "\n",
      "Assessing location 10.\n",
      "Coverage location 10 visited by vehicle 10, arc is Any[[10, 31], [10, 32], 0.0].\n",
      "Coverage location 10 visited by vehicle 10, arc is Any[[10, 32], [10, 33], 0.0].\n",
      "Coverage location 10 visited by vehicle 10, arc is Any[[10, 33], [10, 34], 0.0].\n",
      "Coverage location 10 visited by vehicle 10, arc is Any[[10, 34], [10, 35], 0.0].\n",
      "Coverage location 10 visited by vehicle 10, arc is Any[[10, 35], [10, 36], 0.0].\n",
      "Coverage location 10 was visited like: Any[31, 32, 33, 34, 35]\n",
      " By vehicles Any[10]\n",
      "\n",
      "Assessing location 11.\n",
      "Coverage location 11 visited by vehicle 10, arc is Any[[11, 8], [11, 9], 0.0].\n",
      "Coverage location 11 visited by vehicle 10, arc is Any[[11, 9], [11, 10], 0.0].\n",
      "Coverage location 11 visited by vehicle 10, arc is Any[[11, 10], [11, 11], 0.0].\n",
      "Coverage location 11 visited by vehicle 10, arc is Any[[11, 11], [11, 12], 0.0].\n",
      "Coverage location 11 visited by vehicle 10, arc is Any[[11, 12], [11, 13], 0.0].\n",
      "Coverage location 11 visited by vehicle 10, arc is Any[[11, 13], [11, 14], 0.0].\n",
      "Coverage location 11 visited by vehicle 10, arc is Any[[11, 14], [11, 15], 0.0].\n",
      "Coverage location 11 visited by vehicle 10, arc is Any[[11, 15], [11, 16], 0.0].\n",
      "Coverage location 11 visited by vehicle 10, arc is Any[[11, 16], [11, 17], 0.0].\n",
      "Coverage location 11 visited by vehicle 10, arc is Any[[11, 17], [11, 18], 0.0].\n",
      "Coverage location 11 visited by vehicle 10, arc is Any[[11, 18], [11, 19], 0.0].\n",
      "Coverage location 11 visited by vehicle 10, arc is Any[[11, 19], [11, 20], 0.0].\n",
      "Coverage location 11 visited by vehicle 10, arc is Any[[11, 20], [11, 21], 0.0].\n",
      "Coverage location 11 visited by vehicle 10, arc is Any[[11, 21], [11, 22], 0.0].\n",
      "Coverage location 11 visited by vehicle 10, arc is Any[[11, 22], [11, 23], 0.0].\n",
      "Coverage location 11 visited by vehicle 10, arc is Any[[11, 23], [11, 24], 0.0].\n",
      "Coverage location 11 visited by vehicle 10, arc is Any[[11, 24], [11, 25], 0.0].\n",
      "Coverage location 11 visited by vehicle 10, arc is Any[[11, 25], [11, 26], 0.0].\n",
      "Coverage location 11 visited by vehicle 10, arc is Any[[11, 26], [11, 27], 0.0].\n",
      "Coverage location 11 visited by vehicle 10, arc is Any[[11, 27], [11, 28], 0.0].\n",
      "Coverage location 11 visited by vehicle 10, arc is Any[[11, 28], [11, 29], 0.0].\n",
      "Coverage location 11 visited by vehicle 10, arc is Any[[11, 29], [11, 30], 0.0].\n",
      "Coverage location 11 was visited like: Any[8, 9, 10, 11, 12, 13, 14, 15, 16, 17, 18, 19, 20, 21, 22, 23, 24, 25, 26, 27, 28, 29]\n",
      " By vehicles Any[10]\n",
      "\n",
      "Assessing location 12.\n",
      "Coverage location 12 visited by vehicle 5, arc is Any[[12, 4], [12, 5], 0.0].\n",
      "Coverage location 12 visited by vehicle 5, arc is Any[[12, 5], [12, 6], 0.0].\n",
      "Coverage location 12 visited by vehicle 5, arc is Any[[12, 6], [12, 7], 0.0].\n",
      "Coverage location 12 visited by vehicle 5, arc is Any[[12, 7], [12, 8], 0.0].\n",
      "Coverage location 12 visited by vehicle 5, arc is Any[[12, 8], [12, 9], 0.0].\n",
      "Coverage location 12 visited by vehicle 5, arc is Any[[12, 9], [12, 10], 0.0].\n",
      "Coverage location 12 visited by vehicle 5, arc is Any[[12, 10], [12, 11], 0.0].\n",
      "Coverage location 12 visited by vehicle 5, arc is Any[[12, 11], [12, 12], 0.0].\n",
      "Coverage location 12 visited by vehicle 5, arc is Any[[12, 12], [12, 13], 0.0].\n",
      "Coverage location 12 visited by vehicle 5, arc is Any[[12, 13], [12, 14], 0.0].\n",
      "Coverage location 12 was visited like: Any[4, 5, 6, 7, 8, 9, 10, 11, 12, 13]\n",
      " By vehicles Any[5]\n",
      "\n",
      "Assessing location 13.\n",
      "Coverage location 13 was visited like: Any[]\n",
      " By vehicles Any[]\n",
      "\n"
     ]
    }
   ],
   "source": [
    "time_coverage = Dict()\n",
    "vehicles_that_visited = []\n",
    "\n",
    "#Look at the n_cov locations in coverage.\n",
    "for i in 1:n_cov\n",
    "    vehicles_that_visited = []\n",
    "    times_i = []\n",
    "    println(\"Assessing location $(i).\")\n",
    "    \n",
    "    for k in 1:n_vehicles_coverage\n",
    "        \n",
    "        for a in coverage_drivers[k]\n",
    "            if (a[1][1] == i) & (a[2][1] == i) & !(a[1][2] in times_i)\n",
    "                if !(k in vehicles_that_visited)\n",
    "                    push!(vehicles_that_visited, k)\n",
    "                end\n",
    "                println(\"Coverage location $(i) visited by vehicle $(k), arc is $(a).\")\n",
    "                push!(times_i, a[1][2])\n",
    "            end\n",
    "        end\n",
    "    end\n",
    "    time_coverage[i] = sort(times_i)\n",
    "    println(\"Coverage location $(i) was visited like: $(time_coverage[i])\\n By vehicles $(vehicles_that_visited)\\n\")\n",
    "end"
   ]
  },
  {
   "cell_type": "markdown",
   "id": "0ddf6c18",
   "metadata": {},
   "source": [
    "## [3e] Visualization"
   ]
  },
  {
   "cell_type": "code",
   "execution_count": 56,
   "id": "5a57a049",
   "metadata": {
    "scrolled": true
   },
   "outputs": [
    {
     "name": "stderr",
     "output_type": "stream",
     "text": [
      "┌ Warning: Keyword argument letter not supported with Plots.GRBackend().  Choose from: annotations, arrow, aspect_ratio, background_color, background_color_inside, background_color_outside, background_color_subplot, bar_width, bins, bottom_margin, camera, clims, color_palette, colorbar, colorbar_entry, colorbar_scale, colorbar_title, connections, contour_labels, discrete_values, fill_z, fillalpha, fillcolor, fillrange, fillstyle, flip, foreground_color, foreground_color_axis, foreground_color_border, foreground_color_grid, foreground_color_subplot, foreground_color_text, framestyle, grid, gridalpha, gridlinewidth, gridstyle, group, guide, guidefontcolor, guidefontfamily, guidefonthalign, guidefontrotation, guidefontsize, guidefontvalign, html_output_format, inset_subplots, label, layout, left_margin, legend_background_color, legend_font_color, legend_font_family, legend_font_halign, legend_font_pointsize, legend_font_rotation, legend_font_valign, legend_foreground_color, legend_position, legend_title, levels, lims, line_z, linealpha, linecolor, linestyle, linewidth, link, margin, marker_z, markeralpha, markercolor, markershape, markersize, markerstrokealpha, markerstrokecolor, markerstrokewidth, normalize, orientation, overwrite_figure, permute, polar, primary, projection, quiver, ribbon, right_margin, scale, series_annotations, seriesalpha, seriescolor, seriestype, show, show_empty_bins, size, smooth, subplot, subplot_index, tick_direction, tickfontcolor, tickfontfamily, tickfonthalign, tickfontrotation, tickfontsize, tickfontvalign, ticks, title, titlefontcolor, titlefontfamily, titlefonthalign, titlefontrotation, titlefontsize, titlefontvalign, top_margin, weights, window_title, x, xdiscrete_values, xerror, xflip, xforeground_color_axis, xforeground_color_border, xforeground_color_grid, xforeground_color_text, xgrid, xgridalpha, xgridlinewidth, xgridstyle, xguide, xguidefontcolor, xguidefontfamily, xguidefonthalign, xguidefontrotation, xguidefontsize, xguidefontvalign, xlims, xlink, xscale, xtick_direction, xtickfontcolor, xtickfontfamily, xtickfonthalign, xtickfontrotation, xtickfontsize, xtickfontvalign, xticks, y, ydiscrete_values, yerror, yflip, yforeground_color_axis, yforeground_color_border, yforeground_color_grid, yforeground_color_text, ygrid, ygridalpha, ygridlinewidth, ygridstyle, yguide, yguidefontcolor, yguidefontfamily, yguidefonthalign, yguidefontrotation, yguidefontsize, yguidefontvalign, ylims, ylink, yscale, ytick_direction, ytickfontcolor, ytickfontfamily, ytickfonthalign, ytickfontrotation, ytickfontsize, ytickfontvalign, yticks, z, z_order, zdiscrete_values, zerror, zflip, zforeground_color_axis, zforeground_color_border, zforeground_color_grid, zforeground_color_text, zgrid, zgridalpha, zgridlinewidth, zgridstyle, zguide, zguidefontcolor, zguidefontfamily, zguidefonthalign, zguidefontrotation, zguidefontsize, zguidefontvalign, zlims, zlink, zscale, ztick_direction, ztickfontcolor, ztickfontfamily, ztickfonthalign, ztickfontrotation, ztickfontsize, ztickfontvalign, zticks\n",
      "└ @ Plots /Users/universe/.julia/packages/Plots/gl4j3/src/args.jl:1627\n",
      "┌ Info: Saved animation to \n",
      "│   fn = /Users/universe/Documents/MIT/UROP/orc/25.gif\n",
      "└ @ Plots /Users/universe/.julia/packages/Plots/gl4j3/src/animation.jl:137\n"
     ]
    },
    {
     "data": {
      "text/html": [
       "<img src=\"data:image/gif;base64,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\" />"
      ],
      "text/plain": [
       "Plots.AnimatedGif(\"/Users/universe/Documents/MIT/UROP/orc/25.gif\")"
      ]
     },
     "execution_count": 56,
     "metadata": {},
     "output_type": "execute_result"
    }
   ],
   "source": [
    "anim = @animate for t in 1:(T-1)\n",
    "    u_cov, v_cov = [], []\n",
    "    starts_cov_x, starts_cov_y = [], []\n",
    "    \n",
    "    for k in 1:n_vehicles_coverage\n",
    "        for arc in coverage_drivers[k]\n",
    "            if arc[1][2] == t\n",
    "                node_start, node_end = arc[1][1], arc[2][1]\n",
    "                start_x, start_y = coverage_locations[node_start + 1]\n",
    "                if node_end == n_cov\n",
    "                    fin_x, fin_y = coverage_locations[1]\n",
    "                else\n",
    "                    fin_x, fin_y = coverage_locations[node_end + 1]\n",
    "                end\n",
    "                push!(starts_cov_x, start_x)\n",
    "                push!(starts_cov_y, start_y)\n",
    "                push!(u_cov, fin_x - start_x)\n",
    "                push!(v_cov, fin_y - start_y)\n",
    "            end\n",
    "        end\n",
    "    end\n",
    "    \n",
    "    u_jobs, v_jobs = [], []\n",
    "    starts_jobs_x, starts_jobs_y = [], []\n",
    "    \n",
    "    for k in 1:n_vehicles_jobs\n",
    "        for arc in jobs_drivers[k]\n",
    "            if arc[1][2] == t\n",
    "                node_start, node_end = arc[1][1], arc[2][1]\n",
    "                start_x, start_y = locations[node_start + 1, :]\n",
    "                if node_end == n_jobs + 1\n",
    "                    fin_x, fin_y = locations[1, :]\n",
    "                else\n",
    "                    fin_x, fin_y = locations[node_end + 1, :]\n",
    "                end\n",
    "                push!(starts_jobs_x, start_x)\n",
    "                push!(starts_jobs_y, start_y)\n",
    "                push!(u_jobs, fin_x - start_x)\n",
    "                push!(v_jobs, fin_y - start_y)\n",
    "            end\n",
    "        end\n",
    "    end\n",
    "    \n",
    "    jobs_going = []\n",
    "    for i in 1:n_jobs\n",
    "        if t in time_jobs[i]\n",
    "            push!(jobs_going, i)\n",
    "        end\n",
    "    end\n",
    "    \n",
    "    cov_going = []\n",
    "    for i in 1:(n_cov-1)\n",
    "        if t in time_coverage[i]\n",
    "            push!(cov_going, i)\n",
    "        end\n",
    "    end\n",
    "            \n",
    "    title_t = \"Allocation at time \"*string(t)\n",
    "\n",
    "    scatter([[locations[1,1]], [coverage_locations[i][1] for i in 2:n_cov], [locations[2:(n_jobs+1), 1]], \n",
    "            [coverage_locations[i+1][1] for i in cov_going], [locations[i+1, 1] for i in jobs_going]],\n",
    "            [[locations[1,2]], [coverage_locations[i][2] for i in 2:n_cov], [locations[2:(n_jobs+1), 2],\n",
    "            [coverage_locations[i+1][2] for i in cov_going], [locations[i+1, 2] for i in jobs_going]],], \n",
    "            title = title_t, label = [\"Depot\" \"Coverage\" \"Jobs\" \"Covered\" \"Job Going\"], \n",
    "            xlim = (0,700), ylim = (0,700), size = (800,600), xticks = 0:100:700, yticks = 0:100:700)\n",
    "\n",
    "    quiver!(starts_cov_x, starts_cov_y, quiver=(u_cov, v_cov))\n",
    "    quiver!(starts_jobs_x, starts_jobs_y, quiver=(u_jobs, v_jobs))\n",
    "end\n",
    "\n",
    "gif(anim, \"25.gif\", fps = 1)"
   ]
  },
  {
   "cell_type": "markdown",
   "id": "ead64082",
   "metadata": {},
   "source": [
    "How many coverage vehicles did we need total? (could also compute from earlier)"
   ]
  },
  {
   "cell_type": "code",
   "execution_count": 57,
   "id": "a24096e0",
   "metadata": {
    "scrolled": true
   },
   "outputs": [
    {
     "name": "stdout",
     "output_type": "stream",
     "text": [
      "Number of coverage vehicles needed: 6\n"
     ]
    }
   ],
   "source": [
    "coverage_needed = 0\n",
    "for k in 1:n_vehicles_coverage\n",
    "    if length(coverage_drivers[k]) > 1\n",
    "        #println(k)\n",
    "        coverage_needed += 1\n",
    "    end\n",
    "end\n",
    "println(\"Number of coverage vehicles needed: \", coverage_needed)"
   ]
  },
  {
   "cell_type": "markdown",
   "id": "fbd613e0",
   "metadata": {},
   "source": [
    "How many job vehicles did we need? (could also compute from earlier)"
   ]
  },
  {
   "cell_type": "code",
   "execution_count": 58,
   "id": "293b638b",
   "metadata": {},
   "outputs": [
    {
     "name": "stdout",
     "output_type": "stream",
     "text": [
      "Number of jobs vehicles needed: 7\n"
     ]
    }
   ],
   "source": [
    "jobs_needed = 0\n",
    "for k in 1:n_vehicles_jobs\n",
    "    if length(jobs_drivers[k]) > 1\n",
    "        #println(k)\n",
    "        jobs_needed += 1\n",
    "    end\n",
    "end\n",
    "println(\"Number of jobs vehicles needed: \", jobs_needed)"
   ]
  },
  {
   "cell_type": "markdown",
   "id": "c5cc4b06",
   "metadata": {},
   "source": [
    "# [4] Setup for Set Partitioning Methods"
   ]
  },
  {
   "cell_type": "markdown",
   "id": "f9009c40",
   "metadata": {},
   "source": [
    "## [4a] Build Auxiliary Functions"
   ]
  },
  {
   "cell_type": "markdown",
   "id": "55d278eb",
   "metadata": {},
   "source": [
    "Helper functions to find jobs given a route"
   ]
  },
  {
   "cell_type": "code",
   "execution_count": 59,
   "id": "001aaa7d",
   "metadata": {},
   "outputs": [
    {
     "data": {
      "text/plain": [
       "find_jobs (generic function with 1 method)"
      ]
     },
     "execution_count": 59,
     "metadata": {},
     "output_type": "execute_result"
    }
   ],
   "source": [
    "function find_jobs(route)\n",
    "    #=\n",
    "    Given a route, which is a list of arcs, \n",
    "    return the job locations which are visited\n",
    "    by that arc.\n",
    "    =#\n",
    "    jobs_route = []\n",
    "    \n",
    "    for n in 1:n_jobs\n",
    "        \n",
    "        for a in route\n",
    "            if (n == a[1][1]) | (n == a[2][1])\n",
    "                push!(jobs_route, n)\n",
    "                break\n",
    "            end\n",
    "        end\n",
    "        \n",
    "    end\n",
    "    \n",
    "    return jobs_route\n",
    "end"
   ]
  },
  {
   "cell_type": "markdown",
   "id": "acdd09b6",
   "metadata": {},
   "source": [
    "Let's test `find_jobs` with an example."
   ]
  },
  {
   "cell_type": "code",
   "execution_count": 60,
   "id": "a056fe73",
   "metadata": {},
   "outputs": [
    {
     "name": "stdout",
     "output_type": "stream",
     "text": [
      "Any[4, 5, 7, 16]\n"
     ]
    }
   ],
   "source": [
    "route_dummy = [ \n",
    "    [ [0, 0], [4, 5], 25.23],\n",
    "    [ [4, 5], [5, 16], 24.12],\n",
    "    [ [5, 16], [7, 24], 56.35],\n",
    "    [ [7, 24], [16, 48], 0],\n",
    "]\n",
    "\n",
    "println(find_jobs(route_dummy))"
   ]
  },
  {
   "cell_type": "code",
   "execution_count": 61,
   "id": "21058467",
   "metadata": {},
   "outputs": [
    {
     "data": {
      "text/plain": [
       "find_jobs_time (generic function with 1 method)"
      ]
     },
     "execution_count": 61,
     "metadata": {},
     "output_type": "execute_result"
    }
   ],
   "source": [
    "function find_jobs_time(route)\n",
    "    #=\n",
    "    Given a route, which is a list of arcs,\n",
    "    return the [job number, time] tuple\n",
    "    visited by the arc.\n",
    "    \n",
    "    Assumption: the route description is full.\n",
    "    \n",
    "    For example, if my arc has a \"lapse\" in time and looks like\n",
    "    ...\n",
    "    [ [5, 16], [7, 24], 56.35],\n",
    "    [ [7, 24], [7, 38], 0],\n",
    "    [ [7, 38], [16, 48], 0],\n",
    "    ...\n",
    "    \n",
    "    then it will return [7, 24] only without [7, 25]...\n",
    "    =#\n",
    "    jobs_time_route = []\n",
    "    \n",
    "    #=\n",
    "    There are two ways to do this.\n",
    "    One: given the routes, iterate through routes and add through arrays as necessary.\n",
    "    Two: given routes, iterate through jobs, times, and then arcs in route to match the jobs and times.\n",
    "    =#\n",
    "    for n in 1:n_jobs\n",
    "        for t in 1:T\n",
    "            for a in route\n",
    "                #=\n",
    "                If a job is performed in an arc we require:\n",
    "                [ [job_loc, time_specified], [job_loc, ?], ?]\n",
    "                =#\n",
    "                if (n == a[1][1]) & (n == a[2][1]) & (t == a[1][2])\n",
    "                    push!(jobs_time_route, [n,t])\n",
    "                end\n",
    "            end\n",
    "        end\n",
    "    end\n",
    "    return jobs_time_route\n",
    "end"
   ]
  },
  {
   "cell_type": "markdown",
   "id": "91492eae",
   "metadata": {},
   "source": [
    "Let's test `find_jobs_time` with an example."
   ]
  },
  {
   "cell_type": "code",
   "execution_count": 62,
   "id": "442a0130",
   "metadata": {},
   "outputs": [
    {
     "name": "stdout",
     "output_type": "stream",
     "text": [
      "Any[[4, 5], [7, 24]]\n"
     ]
    }
   ],
   "source": [
    "route_dummy_time = [ \n",
    "    [ [0, 0], [4, 5], 25.23],\n",
    "    [ [4, 5], [4, 12], 0],\n",
    "    [ [4, 12], [5, 16], 213.24],\n",
    "    [ [5, 16], [7, 24], 56.35],\n",
    "    [ [7, 24], [7, 38], 0],\n",
    "    [ [7, 38], [16, 48], 0],\n",
    "]\n",
    "\n",
    "println(find_jobs_time(route_dummy_time)) #see comment in function"
   ]
  },
  {
   "cell_type": "markdown",
   "id": "aaead5f3",
   "metadata": {},
   "source": [
    "## [4b] Variable Setup"
   ]
  },
  {
   "cell_type": "markdown",
   "id": "aa898203",
   "metadata": {},
   "source": [
    "Now the setup becomes a bit more complicated. We would like to initialize a few variables for the set-partitioning formulation.\n",
    "\n",
    "We set up an array of dummy routes. This corresponds to a basic set of columns (which will be used later in column generation).\n",
    "\n",
    "Within this, we can also initialize two of the three additional variables <b>which need to be computed before we start the algorithm</b>.\n",
    "\n",
    "-based off JOB variables-\n",
    "One of them is delta, which operates on nodes (or $i$'s and $t$'s) and routes $q$. This tells us whether the route is at a certain node (location $i$ at time $t$) and is a binary indicator variable.\n",
    "\n",
    "-based off JOB variables-\n",
    "Another one is $u$, which tells us if route $q$ includes location $i$ at some point.\n",
    "\n",
    "-based off COVERAGE variables-\n",
    "The third one is based off the coverage and will be called $c$. If at time $t$, a route $r$ covers location $i$, then $c_{it}^r = 1$."
   ]
  },
  {
   "cell_type": "code",
   "execution_count": 63,
   "id": "f25b3df5",
   "metadata": {
    "scrolled": true
   },
   "outputs": [
    {
     "name": "stdout",
     "output_type": "stream",
     "text": [
      "Initializing dummy route\n"
     ]
    }
   ],
   "source": [
    "# Set up an initial route that is feasible.\n",
    "dummy_route = []\n",
    "\n",
    "#also initialize the two variables which we will need: u and delta.\n",
    "u = [[] for i in 1:n_jobs]\n",
    "delta = [[[] for t in 1:T] for i in 1:n_jobs]\n",
    "\n",
    "# This is our cost matrix. It is specific to routes from JOBS.\n",
    "C = []\n",
    "\n",
    "println(\"Initializing dummy route\")\n",
    "#=\n",
    "Each dummy route will proceed as follows:\n",
    "For each job, get a route that will go from the depot\n",
    "to the job number specified, then come back to the depot.\n",
    "=#\n",
    "for n in 1:n_jobs\n",
    "    \n",
    "    job_route = []\n",
    "    cost_route = 0\n",
    "    \n",
    "    #= remember the distances variable we set all the way back\n",
    "    in section 1b? That measured the distances between\n",
    "    location a and location b.\n",
    "    \n",
    "    Watch out for the indices! In fact, we need to increment by 1 because\n",
    "    index 1 refers to location 0 (depot), so job n has index n+1.\n",
    "    =#\n",
    "    dist = distances[1, n+1]\n",
    "    \n",
    "    #=\n",
    "    Compute the times for which the vehicle stays at the job.\n",
    "    \n",
    "    The time at which the vehicle reaches the job? You need to first extract\n",
    "    the start at which the vehicle can go to the job. Then, how long it takes\n",
    "    to get there, and subtract the distance.\n",
    "    \n",
    "    The discretization of time makes it more accessible for integer measures.\n",
    "    \n",
    "    Remember: time_windows is a list of tuples.\n",
    "    =#\n",
    "    min_t = Int(floor(time_windows[n][1] - dist/speed))\n",
    "    max_t = Int(ceil(time_windows[n][2] + dist/speed))\n",
    "    \n",
    "    #= Push all appropriate arcs:\n",
    "    \n",
    "    first type is the arc that goes from the depot to the job location\n",
    "    second type are arcs in between that need to be satisfied\n",
    "    final type is the arc that goes from job location back to depot\n",
    "    =#\n",
    "    push!(job_route, [[0, min_t], [n, time_windows[n][1]], dist])\n",
    "    cost_route += dist\n",
    "    \n",
    "    for t in time_windows[n][1]:(time_windows[n][2]-1)\n",
    "        push!(job_route, [[n, t], [n, t+1], 0])\n",
    "    end\n",
    "    \n",
    "    push!(job_route, [[n, time_windows[n][2]], [n_jobs+1, max_t],  dist])\n",
    "    cost_route += dist\n",
    "    \n",
    "    #the entire route is finished and now we can push it into our array of routes.\n",
    "    push!(dummy_route, job_route)\n",
    "    \n",
    "    #also the cost of the route is important to record\n",
    "    push!(C, cost_route)\n",
    "end"
   ]
  },
  {
   "cell_type": "markdown",
   "id": "00a923d9",
   "metadata": {},
   "source": [
    "Now that we have all our dummy routes, let's test a few."
   ]
  },
  {
   "cell_type": "code",
   "execution_count": 64,
   "id": "1d65408e",
   "metadata": {
    "scrolled": false
   },
   "outputs": [
    {
     "data": {
      "text/plain": [
       "5-element Vector{Any}:\n",
       " Any[[0, 12], [12, 14], 226.9786895767818]\n",
       " Any[[12, 14], [12, 15], 0]\n",
       " Any[[12, 15], [12, 16], 0]\n",
       " Any[[12, 16], [12, 17], 0]\n",
       " Any[[12, 17], [26, 19], 226.9786895767818]"
      ]
     },
     "execution_count": 64,
     "metadata": {},
     "output_type": "execute_result"
    }
   ],
   "source": [
    "dummy_route[12]"
   ]
  },
  {
   "cell_type": "markdown",
   "id": "8ce63592",
   "metadata": {},
   "source": [
    "And let's also make a note of how many dummy routes we have."
   ]
  },
  {
   "cell_type": "code",
   "execution_count": 65,
   "id": "5c062f31",
   "metadata": {},
   "outputs": [
    {
     "data": {
      "text/plain": [
       "25"
      ]
     },
     "execution_count": 65,
     "metadata": {},
     "output_type": "execute_result"
    }
   ],
   "source": [
    "n_routes = length(dummy_route)"
   ]
  },
  {
   "cell_type": "markdown",
   "id": "d78d70dc",
   "metadata": {},
   "source": [
    "Define additional computed variable $u$, for the jobs, if route $q$ passes by location $i$."
   ]
  },
  {
   "cell_type": "code",
   "execution_count": 66,
   "id": "bfaa7c6d",
   "metadata": {},
   "outputs": [],
   "source": [
    "for route in dummy_route\n",
    "    #tell us which jobs are included in the route\n",
    "    jobs_route = find_jobs(route)\n",
    "    for n in 1:n_jobs\n",
    "        if n in jobs_route\n",
    "            push!(u[n], 1)\n",
    "        else\n",
    "            push!(u[n], 0)\n",
    "        end\n",
    "    end\n",
    "end"
   ]
  },
  {
   "cell_type": "code",
   "execution_count": 67,
   "id": "dba6083b",
   "metadata": {
    "scrolled": true
   },
   "outputs": [
    {
     "name": "stdout",
     "output_type": "stream",
     "text": [
      "Any[1, 0, 0, 0, 0, 0, 0, 0, 0, 0, 0, 0, 0, 0, 0, 0, 0, 0, 0, 0, 0, 0, 0, 0, 0]\n",
      "Any[0, 1, 0, 0, 0, 0, 0, 0, 0, 0, 0, 0, 0, 0, 0, 0, 0, 0, 0, 0, 0, 0, 0, 0, 0]\n",
      "Any[0, 0, 1, 0, 0, 0, 0, 0, 0, 0, 0, 0, 0, 0, 0, 0, 0, 0, 0, 0, 0, 0, 0, 0, 0]\n",
      "Any[0, 0, 0, 1, 0, 0, 0, 0, 0, 0, 0, 0, 0, 0, 0, 0, 0, 0, 0, 0, 0, 0, 0, 0, 0]\n",
      "Any[0, 0, 0, 0, 1, 0, 0, 0, 0, 0, 0, 0, 0, 0, 0, 0, 0, 0, 0, 0, 0, 0, 0, 0, 0]\n",
      "Any[0, 0, 0, 0, 0, 1, 0, 0, 0, 0, 0, 0, 0, 0, 0, 0, 0, 0, 0, 0, 0, 0, 0, 0, 0]\n",
      "Any[0, 0, 0, 0, 0, 0, 1, 0, 0, 0, 0, 0, 0, 0, 0, 0, 0, 0, 0, 0, 0, 0, 0, 0, 0]\n",
      "Any[0, 0, 0, 0, 0, 0, 0, 1, 0, 0, 0, 0, 0, 0, 0, 0, 0, 0, 0, 0, 0, 0, 0, 0, 0]\n",
      "Any[0, 0, 0, 0, 0, 0, 0, 0, 1, 0, 0, 0, 0, 0, 0, 0, 0, 0, 0, 0, 0, 0, 0, 0, 0]\n",
      "Any[0, 0, 0, 0, 0, 0, 0, 0, 0, 1, 0, 0, 0, 0, 0, 0, 0, 0, 0, 0, 0, 0, 0, 0, 0]\n",
      "Any[0, 0, 0, 0, 0, 0, 0, 0, 0, 0, 1, 0, 0, 0, 0, 0, 0, 0, 0, 0, 0, 0, 0, 0, 0]\n",
      "Any[0, 0, 0, 0, 0, 0, 0, 0, 0, 0, 0, 1, 0, 0, 0, 0, 0, 0, 0, 0, 0, 0, 0, 0, 0]\n",
      "Any[0, 0, 0, 0, 0, 0, 0, 0, 0, 0, 0, 0, 1, 0, 0, 0, 0, 0, 0, 0, 0, 0, 0, 0, 0]\n",
      "Any[0, 0, 0, 0, 0, 0, 0, 0, 0, 0, 0, 0, 0, 1, 0, 0, 0, 0, 0, 0, 0, 0, 0, 0, 0]\n",
      "Any[0, 0, 0, 0, 0, 0, 0, 0, 0, 0, 0, 0, 0, 0, 1, 0, 0, 0, 0, 0, 0, 0, 0, 0, 0]\n",
      "Any[0, 0, 0, 0, 0, 0, 0, 0, 0, 0, 0, 0, 0, 0, 0, 1, 0, 0, 0, 0, 0, 0, 0, 0, 0]\n",
      "Any[0, 0, 0, 0, 0, 0, 0, 0, 0, 0, 0, 0, 0, 0, 0, 0, 1, 0, 0, 0, 0, 0, 0, 0, 0]\n",
      "Any[0, 0, 0, 0, 0, 0, 0, 0, 0, 0, 0, 0, 0, 0, 0, 0, 0, 1, 0, 0, 0, 0, 0, 0, 0]\n",
      "Any[0, 0, 0, 0, 0, 0, 0, 0, 0, 0, 0, 0, 0, 0, 0, 0, 0, 0, 1, 0, 0, 0, 0, 0, 0]\n",
      "Any[0, 0, 0, 0, 0, 0, 0, 0, 0, 0, 0, 0, 0, 0, 0, 0, 0, 0, 0, 1, 0, 0, 0, 0, 0]\n",
      "Any[0, 0, 0, 0, 0, 0, 0, 0, 0, 0, 0, 0, 0, 0, 0, 0, 0, 0, 0, 0, 1, 0, 0, 0, 0]\n",
      "Any[0, 0, 0, 0, 0, 0, 0, 0, 0, 0, 0, 0, 0, 0, 0, 0, 0, 0, 0, 0, 0, 1, 0, 0, 0]\n",
      "Any[0, 0, 0, 0, 0, 0, 0, 0, 0, 0, 0, 0, 0, 0, 0, 0, 0, 0, 0, 0, 0, 0, 1, 0, 0]\n",
      "Any[0, 0, 0, 0, 0, 0, 0, 0, 0, 0, 0, 0, 0, 0, 0, 0, 0, 0, 0, 0, 0, 0, 0, 1, 0]\n",
      "Any[0, 0, 0, 0, 0, 0, 0, 0, 0, 0, 0, 0, 0, 0, 0, 0, 0, 0, 0, 0, 0, 0, 0, 0, 1]\n"
     ]
    }
   ],
   "source": [
    "for col in u\n",
    "    println(col)\n",
    "end"
   ]
  },
  {
   "cell_type": "markdown",
   "id": "1f0c7710",
   "metadata": {},
   "source": [
    "NOTE: `u` is a two dimensional array. The first index in gives us the job number, $i$. Each element is then itself a list of whether the route number $q$ passes into $u$.\n",
    "\n",
    "So indices would be called like $u_i^q =$ `u[i][q]`."
   ]
  },
  {
   "cell_type": "markdown",
   "id": "8c3cd771",
   "metadata": {},
   "source": [
    "Define additional computed variable delta, for the jobs, if route $q$ is at location $i$ at time $t$."
   ]
  },
  {
   "cell_type": "code",
   "execution_count": 68,
   "id": "468a4736",
   "metadata": {},
   "outputs": [],
   "source": [
    "for route in dummy_route\n",
    "    jobs_time_route = find_jobs_time(route)\n",
    "    for n in 1:n_jobs\n",
    "        for t in 1:T\n",
    "            if [n,t] in jobs_time_route\n",
    "                push!(delta[n][t], 1)\n",
    "            else\n",
    "                push!(delta[n][t], 0)\n",
    "            end\n",
    "        end\n",
    "    end\n",
    "end"
   ]
  },
  {
   "cell_type": "markdown",
   "id": "917d0cb7",
   "metadata": {},
   "source": [
    "NOTE: delta here is defined as a three-dimensional array. The first index gives us the job number $i$. The second index gives us the time $t$. It is useful to call it as `delta[i][t]`, which then gives us a list itself, which is indexed based on route number. So to obtain information we call $\\delta_{it}^q =$ `delta[i][t][q]`."
   ]
  },
  {
   "cell_type": "code",
   "execution_count": 69,
   "id": "97f45007",
   "metadata": {},
   "outputs": [
    {
     "name": "stdout",
     "output_type": "stream",
     "text": [
      "delta at job 1 and time 1 is Any[0, 0, 0, 0, 0, 0, 0, 0, 0, 0, 0, 0, 0, 0, 0, 0, 0, 0, 0, 0, 0, 0, 0, 0, 0]\n",
      "delta at job 1 and time 2 is Any[0, 0, 0, 0, 0, 0, 0, 0, 0, 0, 0, 0, 0, 0, 0, 0, 0, 0, 0, 0, 0, 0, 0, 0, 0]\n",
      "delta at job 1 and time 3 is Any[0, 0, 0, 0, 0, 0, 0, 0, 0, 0, 0, 0, 0, 0, 0, 0, 0, 0, 0, 0, 0, 0, 0, 0, 0]\n",
      "delta at job 1 and time 4 is Any[0, 0, 0, 0, 0, 0, 0, 0, 0, 0, 0, 0, 0, 0, 0, 0, 0, 0, 0, 0, 0, 0, 0, 0, 0]\n",
      "delta at job 1 and time 5 is Any[1, 0, 0, 0, 0, 0, 0, 0, 0, 0, 0, 0, 0, 0, 0, 0, 0, 0, 0, 0, 0, 0, 0, 0, 0]\n",
      "delta at job 1 and time 6 is Any[1, 0, 0, 0, 0, 0, 0, 0, 0, 0, 0, 0, 0, 0, 0, 0, 0, 0, 0, 0, 0, 0, 0, 0, 0]\n",
      "delta at job 1 and time 7 is Any[1, 0, 0, 0, 0, 0, 0, 0, 0, 0, 0, 0, 0, 0, 0, 0, 0, 0, 0, 0, 0, 0, 0, 0, 0]\n",
      "delta at job 1 and time 8 is Any[0, 0, 0, 0, 0, 0, 0, 0, 0, 0, 0, 0, 0, 0, 0, 0, 0, 0, 0, 0, 0, 0, 0, 0, 0]\n",
      "delta at job 1 and time 9 is Any[0, 0, 0, 0, 0, 0, 0, 0, 0, 0, 0, 0, 0, 0, 0, 0, 0, 0, 0, 0, 0, 0, 0, 0, 0]\n",
      "delta at job 1 and time 10 is Any[0, 0, 0, 0, 0, 0, 0, 0, 0, 0, 0, 0, 0, 0, 0, 0, 0, 0, 0, 0, 0, 0, 0, 0, 0]\n",
      "delta at job 1 and time 11 is Any[0, 0, 0, 0, 0, 0, 0, 0, 0, 0, 0, 0, 0, 0, 0, 0, 0, 0, 0, 0, 0, 0, 0, 0, 0]\n",
      "delta at job 1 and time 12 is Any[0, 0, 0, 0, 0, 0, 0, 0, 0, 0, 0, 0, 0, 0, 0, 0, 0, 0, 0, 0, 0, 0, 0, 0, 0]\n",
      "delta at job 1 and time 13 is Any[0, 0, 0, 0, 0, 0, 0, 0, 0, 0, 0, 0, 0, 0, 0, 0, 0, 0, 0, 0, 0, 0, 0, 0, 0]\n",
      "delta at job 1 and time 14 is Any[0, 0, 0, 0, 0, 0, 0, 0, 0, 0, 0, 0, 0, 0, 0, 0, 0, 0, 0, 0, 0, 0, 0, 0, 0]\n",
      "delta at job 1 and time 15 is Any[0, 0, 0, 0, 0, 0, 0, 0, 0, 0, 0, 0, 0, 0, 0, 0, 0, 0, 0, 0, 0, 0, 0, 0, 0]\n",
      "delta at job 1 and time 16 is Any[0, 0, 0, 0, 0, 0, 0, 0, 0, 0, 0, 0, 0, 0, 0, 0, 0, 0, 0, 0, 0, 0, 0, 0, 0]\n",
      "delta at job 1 and time 17 is Any[0, 0, 0, 0, 0, 0, 0, 0, 0, 0, 0, 0, 0, 0, 0, 0, 0, 0, 0, 0, 0, 0, 0, 0, 0]\n",
      "delta at job 1 and time 18 is Any[0, 0, 0, 0, 0, 0, 0, 0, 0, 0, 0, 0, 0, 0, 0, 0, 0, 0, 0, 0, 0, 0, 0, 0, 0]\n",
      "delta at job 1 and time 19 is Any[0, 0, 0, 0, 0, 0, 0, 0, 0, 0, 0, 0, 0, 0, 0, 0, 0, 0, 0, 0, 0, 0, 0, 0, 0]\n",
      "delta at job 1 and time 20 is Any[0, 0, 0, 0, 0, 0, 0, 0, 0, 0, 0, 0, 0, 0, 0, 0, 0, 0, 0, 0, 0, 0, 0, 0, 0]\n",
      "delta at job 1 and time 21 is Any[0, 0, 0, 0, 0, 0, 0, 0, 0, 0, 0, 0, 0, 0, 0, 0, 0, 0, 0, 0, 0, 0, 0, 0, 0]\n",
      "delta at job 1 and time 22 is Any[0, 0, 0, 0, 0, 0, 0, 0, 0, 0, 0, 0, 0, 0, 0, 0, 0, 0, 0, 0, 0, 0, 0, 0, 0]\n",
      "delta at job 1 and time 23 is Any[0, 0, 0, 0, 0, 0, 0, 0, 0, 0, 0, 0, 0, 0, 0, 0, 0, 0, 0, 0, 0, 0, 0, 0, 0]\n",
      "delta at job 1 and time 24 is Any[0, 0, 0, 0, 0, 0, 0, 0, 0, 0, 0, 0, 0, 0, 0, 0, 0, 0, 0, 0, 0, 0, 0, 0, 0]\n",
      "delta at job 1 and time 25 is Any[0, 0, 0, 0, 0, 0, 0, 0, 0, 0, 0, 0, 0, 0, 0, 0, 0, 0, 0, 0, 0, 0, 0, 0, 0]\n",
      "delta at job 1 and time 26 is Any[0, 0, 0, 0, 0, 0, 0, 0, 0, 0, 0, 0, 0, 0, 0, 0, 0, 0, 0, 0, 0, 0, 0, 0, 0]\n",
      "delta at job 1 and time 27 is Any[0, 0, 0, 0, 0, 0, 0, 0, 0, 0, 0, 0, 0, 0, 0, 0, 0, 0, 0, 0, 0, 0, 0, 0, 0]\n",
      "delta at job 1 and time 28 is Any[0, 0, 0, 0, 0, 0, 0, 0, 0, 0, 0, 0, 0, 0, 0, 0, 0, 0, 0, 0, 0, 0, 0, 0, 0]\n",
      "delta at job 1 and time 29 is Any[0, 0, 0, 0, 0, 0, 0, 0, 0, 0, 0, 0, 0, 0, 0, 0, 0, 0, 0, 0, 0, 0, 0, 0, 0]\n",
      "delta at job 1 and time 30 is Any[0, 0, 0, 0, 0, 0, 0, 0, 0, 0, 0, 0, 0, 0, 0, 0, 0, 0, 0, 0, 0, 0, 0, 0, 0]\n",
      "delta at job 1 and time 31 is Any[0, 0, 0, 0, 0, 0, 0, 0, 0, 0, 0, 0, 0, 0, 0, 0, 0, 0, 0, 0, 0, 0, 0, 0, 0]\n",
      "delta at job 1 and time 32 is Any[0, 0, 0, 0, 0, 0, 0, 0, 0, 0, 0, 0, 0, 0, 0, 0, 0, 0, 0, 0, 0, 0, 0, 0, 0]\n",
      "delta at job 1 and time 33 is Any[0, 0, 0, 0, 0, 0, 0, 0, 0, 0, 0, 0, 0, 0, 0, 0, 0, 0, 0, 0, 0, 0, 0, 0, 0]\n",
      "delta at job 1 and time 34 is Any[0, 0, 0, 0, 0, 0, 0, 0, 0, 0, 0, 0, 0, 0, 0, 0, 0, 0, 0, 0, 0, 0, 0, 0, 0]\n",
      "delta at job 1 and time 35 is Any[0, 0, 0, 0, 0, 0, 0, 0, 0, 0, 0, 0, 0, 0, 0, 0, 0, 0, 0, 0, 0, 0, 0, 0, 0]\n",
      "delta at job 1 and time 36 is Any[0, 0, 0, 0, 0, 0, 0, 0, 0, 0, 0, 0, 0, 0, 0, 0, 0, 0, 0, 0, 0, 0, 0, 0, 0]\n",
      "delta at job 1 and time 37 is Any[0, 0, 0, 0, 0, 0, 0, 0, 0, 0, 0, 0, 0, 0, 0, 0, 0, 0, 0, 0, 0, 0, 0, 0, 0]\n",
      "delta at job 1 and time 38 is Any[0, 0, 0, 0, 0, 0, 0, 0, 0, 0, 0, 0, 0, 0, 0, 0, 0, 0, 0, 0, 0, 0, 0, 0, 0]\n",
      "delta at job 1 and time 39 is Any[0, 0, 0, 0, 0, 0, 0, 0, 0, 0, 0, 0, 0, 0, 0, 0, 0, 0, 0, 0, 0, 0, 0, 0, 0]\n",
      "delta at job 1 and time 40 is Any[0, 0, 0, 0, 0, 0, 0, 0, 0, 0, 0, 0, 0, 0, 0, 0, 0, 0, 0, 0, 0, 0, 0, 0, 0]\n",
      "delta at job 1 and time 41 is Any[0, 0, 0, 0, 0, 0, 0, 0, 0, 0, 0, 0, 0, 0, 0, 0, 0, 0, 0, 0, 0, 0, 0, 0, 0]\n",
      "delta at job 1 and time 42 is Any[0, 0, 0, 0, 0, 0, 0, 0, 0, 0, 0, 0, 0, 0, 0, 0, 0, 0, 0, 0, 0, 0, 0, 0, 0]\n",
      "delta at job 1 and time 43 is Any[0, 0, 0, 0, 0, 0, 0, 0, 0, 0, 0, 0, 0, 0, 0, 0, 0, 0, 0, 0, 0, 0, 0, 0, 0]\n",
      "delta at job 1 and time 44 is Any[0, 0, 0, 0, 0, 0, 0, 0, 0, 0, 0, 0, 0, 0, 0, 0, 0, 0, 0, 0, 0, 0, 0, 0, 0]\n",
      "delta at job 1 and time 45 is Any[0, 0, 0, 0, 0, 0, 0, 0, 0, 0, 0, 0, 0, 0, 0, 0, 0, 0, 0, 0, 0, 0, 0, 0, 0]\n",
      "\n",
      "delta at job 2 and time 1 is Any[0, 0, 0, 0, 0, 0, 0, 0, 0, 0, 0, 0, 0, 0, 0, 0, 0, 0, 0, 0, 0, 0, 0, 0, 0]\n",
      "delta at job 2 and time 2 is Any[0, 0, 0, 0, 0, 0, 0, 0, 0, 0, 0, 0, 0, 0, 0, 0, 0, 0, 0, 0, 0, 0, 0, 0, 0]\n",
      "delta at job 2 and time 3 is Any[0, 0, 0, 0, 0, 0, 0, 0, 0, 0, 0, 0, 0, 0, 0, 0, 0, 0, 0, 0, 0, 0, 0, 0, 0]\n",
      "delta at job 2 and time 4 is Any[0, 0, 0, 0, 0, 0, 0, 0, 0, 0, 0, 0, 0, 0, 0, 0, 0, 0, 0, 0, 0, 0, 0, 0, 0]\n",
      "delta at job 2 and time 5 is Any[0, 0, 0, 0, 0, 0, 0, 0, 0, 0, 0, 0, 0, 0, 0, 0, 0, 0, 0, 0, 0, 0, 0, 0, 0]\n",
      "delta at job 2 and time 6 is Any[0, 0, 0, 0, 0, 0, 0, 0, 0, 0, 0, 0, 0, 0, 0, 0, 0, 0, 0, 0, 0, 0, 0, 0, 0]\n",
      "delta at job 2 and time 7 is Any[0, 0, 0, 0, 0, 0, 0, 0, 0, 0, 0, 0, 0, 0, 0, 0, 0, 0, 0, 0, 0, 0, 0, 0, 0]\n",
      "delta at job 2 and time 8 is Any[0, 0, 0, 0, 0, 0, 0, 0, 0, 0, 0, 0, 0, 0, 0, 0, 0, 0, 0, 0, 0, 0, 0, 0, 0]\n",
      "delta at job 2 and time 9 is Any[0, 0, 0, 0, 0, 0, 0, 0, 0, 0, 0, 0, 0, 0, 0, 0, 0, 0, 0, 0, 0, 0, 0, 0, 0]\n",
      "delta at job 2 and time 10 is Any[0, 0, 0, 0, 0, 0, 0, 0, 0, 0, 0, 0, 0, 0, 0, 0, 0, 0, 0, 0, 0, 0, 0, 0, 0]\n",
      "delta at job 2 and time 11 is Any[0, 0, 0, 0, 0, 0, 0, 0, 0, 0, 0, 0, 0, 0, 0, 0, 0, 0, 0, 0, 0, 0, 0, 0, 0]\n",
      "delta at job 2 and time 12 is Any[0, 0, 0, 0, 0, 0, 0, 0, 0, 0, 0, 0, 0, 0, 0, 0, 0, 0, 0, 0, 0, 0, 0, 0, 0]\n",
      "delta at job 2 and time 13 is Any[0, 1, 0, 0, 0, 0, 0, 0, 0, 0, 0, 0, 0, 0, 0, 0, 0, 0, 0, 0, 0, 0, 0, 0, 0]\n",
      "delta at job 2 and time 14 is Any[0, 1, 0, 0, 0, 0, 0, 0, 0, 0, 0, 0, 0, 0, 0, 0, 0, 0, 0, 0, 0, 0, 0, 0, 0]\n",
      "delta at job 2 and time 15 is Any[0, 1, 0, 0, 0, 0, 0, 0, 0, 0, 0, 0, 0, 0, 0, 0, 0, 0, 0, 0, 0, 0, 0, 0, 0]\n",
      "delta at job 2 and time 16 is Any[0, 1, 0, 0, 0, 0, 0, 0, 0, 0, 0, 0, 0, 0, 0, 0, 0, 0, 0, 0, 0, 0, 0, 0, 0]\n",
      "delta at job 2 and time 17 is Any[0, 0, 0, 0, 0, 0, 0, 0, 0, 0, 0, 0, 0, 0, 0, 0, 0, 0, 0, 0, 0, 0, 0, 0, 0]\n",
      "delta at job 2 and time 18 is Any[0, 0, 0, 0, 0, 0, 0, 0, 0, 0, 0, 0, 0, 0, 0, 0, 0, 0, 0, 0, 0, 0, 0, 0, 0]\n",
      "delta at job 2 and time 19 is Any[0, 0, 0, 0, 0, 0, 0, 0, 0, 0, 0, 0, 0, 0, 0, 0, 0, 0, 0, 0, 0, 0, 0, 0, 0]\n",
      "delta at job 2 and time 20 is Any[0, 0, 0, 0, 0, 0, 0, 0, 0, 0, 0, 0, 0, 0, 0, 0, 0, 0, 0, 0, 0, 0, 0, 0, 0]\n",
      "delta at job 2 and time 21 is Any[0, 0, 0, 0, 0, 0, 0, 0, 0, 0, 0, 0, 0, 0, 0, 0, 0, 0, 0, 0, 0, 0, 0, 0, 0]\n",
      "delta at job 2 and time 22 is Any[0, 0, 0, 0, 0, 0, 0, 0, 0, 0, 0, 0, 0, 0, 0, 0, 0, 0, 0, 0, 0, 0, 0, 0, 0]\n",
      "delta at job 2 and time 23 is Any[0, 0, 0, 0, 0, 0, 0, 0, 0, 0, 0, 0, 0, 0, 0, 0, 0, 0, 0, 0, 0, 0, 0, 0, 0]\n",
      "delta at job 2 and time 24 is Any[0, 0, 0, 0, 0, 0, 0, 0, 0, 0, 0, 0, 0, 0, 0, 0, 0, 0, 0, 0, 0, 0, 0, 0, 0]\n",
      "delta at job 2 and time 25 is Any[0, 0, 0, 0, 0, 0, 0, 0, 0, 0, 0, 0, 0, 0, 0, 0, 0, 0, 0, 0, 0, 0, 0, 0, 0]\n",
      "delta at job 2 and time 26 is Any[0, 0, 0, 0, 0, 0, 0, 0, 0, 0, 0, 0, 0, 0, 0, 0, 0, 0, 0, 0, 0, 0, 0, 0, 0]\n",
      "delta at job 2 and time 27 is Any[0, 0, 0, 0, 0, 0, 0, 0, 0, 0, 0, 0, 0, 0, 0, 0, 0, 0, 0, 0, 0, 0, 0, 0, 0]\n",
      "delta at job 2 and time 28 is Any[0, 0, 0, 0, 0, 0, 0, 0, 0, 0, 0, 0, 0, 0, 0, 0, 0, 0, 0, 0, 0, 0, 0, 0, 0]\n",
      "delta at job 2 and time 29 is Any[0, 0, 0, 0, 0, 0, 0, 0, 0, 0, 0, 0, 0, 0, 0, 0, 0, 0, 0, 0, 0, 0, 0, 0, 0]\n",
      "delta at job 2 and time 30 is Any[0, 0, 0, 0, 0, 0, 0, 0, 0, 0, 0, 0, 0, 0, 0, 0, 0, 0, 0, 0, 0, 0, 0, 0, 0]\n",
      "delta at job 2 and time 31 is Any[0, 0, 0, 0, 0, 0, 0, 0, 0, 0, 0, 0, 0, 0, 0, 0, 0, 0, 0, 0, 0, 0, 0, 0, 0]\n",
      "delta at job 2 and time 32 is Any[0, 0, 0, 0, 0, 0, 0, 0, 0, 0, 0, 0, 0, 0, 0, 0, 0, 0, 0, 0, 0, 0, 0, 0, 0]\n",
      "delta at job 2 and time 33 is Any[0, 0, 0, 0, 0, 0, 0, 0, 0, 0, 0, 0, 0, 0, 0, 0, 0, 0, 0, 0, 0, 0, 0, 0, 0]\n",
      "delta at job 2 and time 34 is Any[0, 0, 0, 0, 0, 0, 0, 0, 0, 0, 0, 0, 0, 0, 0, 0, 0, 0, 0, 0, 0, 0, 0, 0, 0]\n",
      "delta at job 2 and time 35 is Any[0, 0, 0, 0, 0, 0, 0, 0, 0, 0, 0, 0, 0, 0, 0, 0, 0, 0, 0, 0, 0, 0, 0, 0, 0]\n",
      "delta at job 2 and time 36 is Any[0, 0, 0, 0, 0, 0, 0, 0, 0, 0, 0, 0, 0, 0, 0, 0, 0, 0, 0, 0, 0, 0, 0, 0, 0]\n",
      "delta at job 2 and time 37 is Any[0, 0, 0, 0, 0, 0, 0, 0, 0, 0, 0, 0, 0, 0, 0, 0, 0, 0, 0, 0, 0, 0, 0, 0, 0]\n",
      "delta at job 2 and time 38 is Any[0, 0, 0, 0, 0, 0, 0, 0, 0, 0, 0, 0, 0, 0, 0, 0, 0, 0, 0, 0, 0, 0, 0, 0, 0]\n",
      "delta at job 2 and time 39 is Any[0, 0, 0, 0, 0, 0, 0, 0, 0, 0, 0, 0, 0, 0, 0, 0, 0, 0, 0, 0, 0, 0, 0, 0, 0]\n",
      "delta at job 2 and time 40 is Any[0, 0, 0, 0, 0, 0, 0, 0, 0, 0, 0, 0, 0, 0, 0, 0, 0, 0, 0, 0, 0, 0, 0, 0, 0]\n",
      "delta at job 2 and time 41 is Any[0, 0, 0, 0, 0, 0, 0, 0, 0, 0, 0, 0, 0, 0, 0, 0, 0, 0, 0, 0, 0, 0, 0, 0, 0]\n",
      "delta at job 2 and time 42 is Any[0, 0, 0, 0, 0, 0, 0, 0, 0, 0, 0, 0, 0, 0, 0, 0, 0, 0, 0, 0, 0, 0, 0, 0, 0]\n",
      "delta at job 2 and time 43 is Any[0, 0, 0, 0, 0, 0, 0, 0, 0, 0, 0, 0, 0, 0, 0, 0, 0, 0, 0, 0, 0, 0, 0, 0, 0]\n",
      "delta at job 2 and time 44 is Any[0, 0, 0, 0, 0, 0, 0, 0, 0, 0, 0, 0, 0, 0, 0, 0, 0, 0, 0, 0, 0, 0, 0, 0, 0]\n",
      "delta at job 2 and time 45 is Any[0, 0, 0, 0, 0, 0, 0, 0, 0, 0, 0, 0, 0, 0, 0, 0, 0, 0, 0, 0, 0, 0, 0, 0, 0]\n",
      "\n",
      "delta at job 3 and time 1 is Any[0, 0, 0, 0, 0, 0, 0, 0, 0, 0, 0, 0, 0, 0, 0, 0, 0, 0, 0, 0, 0, 0, 0, 0, 0]\n",
      "delta at job 3 and time 2 is Any[0, 0, 0, 0, 0, 0, 0, 0, 0, 0, 0, 0, 0, 0, 0, 0, 0, 0, 0, 0, 0, 0, 0, 0, 0]\n",
      "delta at job 3 and time 3 is Any[0, 0, 0, 0, 0, 0, 0, 0, 0, 0, 0, 0, 0, 0, 0, 0, 0, 0, 0, 0, 0, 0, 0, 0, 0]\n",
      "delta at job 3 and time 4 is Any[0, 0, 0, 0, 0, 0, 0, 0, 0, 0, 0, 0, 0, 0, 0, 0, 0, 0, 0, 0, 0, 0, 0, 0, 0]\n",
      "delta at job 3 and time 5 is Any[0, 0, 0, 0, 0, 0, 0, 0, 0, 0, 0, 0, 0, 0, 0, 0, 0, 0, 0, 0, 0, 0, 0, 0, 0]\n",
      "delta at job 3 and time 6 is Any[0, 0, 0, 0, 0, 0, 0, 0, 0, 0, 0, 0, 0, 0, 0, 0, 0, 0, 0, 0, 0, 0, 0, 0, 0]\n",
      "delta at job 3 and time 7 is Any[0, 0, 0, 0, 0, 0, 0, 0, 0, 0, 0, 0, 0, 0, 0, 0, 0, 0, 0, 0, 0, 0, 0, 0, 0]\n",
      "delta at job 3 and time 8 is Any[0, 0, 0, 0, 0, 0, 0, 0, 0, 0, 0, 0, 0, 0, 0, 0, 0, 0, 0, 0, 0, 0, 0, 0, 0]\n",
      "delta at job 3 and time 9 is Any[0, 0, 0, 0, 0, 0, 0, 0, 0, 0, 0, 0, 0, 0, 0, 0, 0, 0, 0, 0, 0, 0, 0, 0, 0]\n",
      "delta at job 3 and time 10 is Any[0, 0, 0, 0, 0, 0, 0, 0, 0, 0, 0, 0, 0, 0, 0, 0, 0, 0, 0, 0, 0, 0, 0, 0, 0]\n",
      "delta at job 3 and time 11 is Any[0, 0, 0, 0, 0, 0, 0, 0, 0, 0, 0, 0, 0, 0, 0, 0, 0, 0, 0, 0, 0, 0, 0, 0, 0]\n",
      "delta at job 3 and time 12 is Any[0, 0, 0, 0, 0, 0, 0, 0, 0, 0, 0, 0, 0, 0, 0, 0, 0, 0, 0, 0, 0, 0, 0, 0, 0]\n",
      "delta at job 3 and time 13 is Any[0, 0, 0, 0, 0, 0, 0, 0, 0, 0, 0, 0, 0, 0, 0, 0, 0, 0, 0, 0, 0, 0, 0, 0, 0]\n",
      "delta at job 3 and time 14 is Any[0, 0, 0, 0, 0, 0, 0, 0, 0, 0, 0, 0, 0, 0, 0, 0, 0, 0, 0, 0, 0, 0, 0, 0, 0]\n",
      "delta at job 3 and time 15 is Any[0, 0, 0, 0, 0, 0, 0, 0, 0, 0, 0, 0, 0, 0, 0, 0, 0, 0, 0, 0, 0, 0, 0, 0, 0]\n",
      "delta at job 3 and time 16 is Any[0, 0, 0, 0, 0, 0, 0, 0, 0, 0, 0, 0, 0, 0, 0, 0, 0, 0, 0, 0, 0, 0, 0, 0, 0]\n",
      "delta at job 3 and time 17 is Any[0, 0, 0, 0, 0, 0, 0, 0, 0, 0, 0, 0, 0, 0, 0, 0, 0, 0, 0, 0, 0, 0, 0, 0, 0]\n",
      "delta at job 3 and time 18 is Any[0, 0, 0, 0, 0, 0, 0, 0, 0, 0, 0, 0, 0, 0, 0, 0, 0, 0, 0, 0, 0, 0, 0, 0, 0]\n",
      "delta at job 3 and time 19 is Any[0, 0, 0, 0, 0, 0, 0, 0, 0, 0, 0, 0, 0, 0, 0, 0, 0, 0, 0, 0, 0, 0, 0, 0, 0]\n",
      "delta at job 3 and time 20 is Any[0, 0, 1, 0, 0, 0, 0, 0, 0, 0, 0, 0, 0, 0, 0, 0, 0, 0, 0, 0, 0, 0, 0, 0, 0]\n",
      "delta at job 3 and time 21 is Any[0, 0, 1, 0, 0, 0, 0, 0, 0, 0, 0, 0, 0, 0, 0, 0, 0, 0, 0, 0, 0, 0, 0, 0, 0]\n",
      "delta at job 3 and time 22 is Any[0, 0, 1, 0, 0, 0, 0, 0, 0, 0, 0, 0, 0, 0, 0, 0, 0, 0, 0, 0, 0, 0, 0, 0, 0]\n",
      "delta at job 3 and time 23 is Any[0, 0, 1, 0, 0, 0, 0, 0, 0, 0, 0, 0, 0, 0, 0, 0, 0, 0, 0, 0, 0, 0, 0, 0, 0]\n",
      "delta at job 3 and time 24 is Any[0, 0, 1, 0, 0, 0, 0, 0, 0, 0, 0, 0, 0, 0, 0, 0, 0, 0, 0, 0, 0, 0, 0, 0, 0]\n",
      "delta at job 3 and time 25 is Any[0, 0, 0, 0, 0, 0, 0, 0, 0, 0, 0, 0, 0, 0, 0, 0, 0, 0, 0, 0, 0, 0, 0, 0, 0]\n",
      "delta at job 3 and time 26 is Any[0, 0, 0, 0, 0, 0, 0, 0, 0, 0, 0, 0, 0, 0, 0, 0, 0, 0, 0, 0, 0, 0, 0, 0, 0]\n",
      "delta at job 3 and time 27 is Any[0, 0, 0, 0, 0, 0, 0, 0, 0, 0, 0, 0, 0, 0, 0, 0, 0, 0, 0, 0, 0, 0, 0, 0, 0]\n",
      "delta at job 3 and time 28 is Any[0, 0, 0, 0, 0, 0, 0, 0, 0, 0, 0, 0, 0, 0, 0, 0, 0, 0, 0, 0, 0, 0, 0, 0, 0]\n",
      "delta at job 3 and time 29 is Any[0, 0, 0, 0, 0, 0, 0, 0, 0, 0, 0, 0, 0, 0, 0, 0, 0, 0, 0, 0, 0, 0, 0, 0, 0]\n",
      "delta at job 3 and time 30 is Any[0, 0, 0, 0, 0, 0, 0, 0, 0, 0, 0, 0, 0, 0, 0, 0, 0, 0, 0, 0, 0, 0, 0, 0, 0]\n",
      "delta at job 3 and time 31 is Any[0, 0, 0, 0, 0, 0, 0, 0, 0, 0, 0, 0, 0, 0, 0, 0, 0, 0, 0, 0, 0, 0, 0, 0, 0]\n",
      "delta at job 3 and time 32 is Any[0, 0, 0, 0, 0, 0, 0, 0, 0, 0, 0, 0, 0, 0, 0, 0, 0, 0, 0, 0, 0, 0, 0, 0, 0]\n",
      "delta at job 3 and time 33 is Any[0, 0, 0, 0, 0, 0, 0, 0, 0, 0, 0, 0, 0, 0, 0, 0, 0, 0, 0, 0, 0, 0, 0, 0, 0]\n",
      "delta at job 3 and time 34 is Any[0, 0, 0, 0, 0, 0, 0, 0, 0, 0, 0, 0, 0, 0, 0, 0, 0, 0, 0, 0, 0, 0, 0, 0, 0]\n",
      "delta at job 3 and time 35 is Any[0, 0, 0, 0, 0, 0, 0, 0, 0, 0, 0, 0, 0, 0, 0, 0, 0, 0, 0, 0, 0, 0, 0, 0, 0]\n",
      "delta at job 3 and time 36 is Any[0, 0, 0, 0, 0, 0, 0, 0, 0, 0, 0, 0, 0, 0, 0, 0, 0, 0, 0, 0, 0, 0, 0, 0, 0]\n",
      "delta at job 3 and time 37 is Any[0, 0, 0, 0, 0, 0, 0, 0, 0, 0, 0, 0, 0, 0, 0, 0, 0, 0, 0, 0, 0, 0, 0, 0, 0]\n",
      "delta at job 3 and time 38 is Any[0, 0, 0, 0, 0, 0, 0, 0, 0, 0, 0, 0, 0, 0, 0, 0, 0, 0, 0, 0, 0, 0, 0, 0, 0]\n",
      "delta at job 3 and time 39 is Any[0, 0, 0, 0, 0, 0, 0, 0, 0, 0, 0, 0, 0, 0, 0, 0, 0, 0, 0, 0, 0, 0, 0, 0, 0]\n",
      "delta at job 3 and time 40 is Any[0, 0, 0, 0, 0, 0, 0, 0, 0, 0, 0, 0, 0, 0, 0, 0, 0, 0, 0, 0, 0, 0, 0, 0, 0]\n",
      "delta at job 3 and time 41 is Any[0, 0, 0, 0, 0, 0, 0, 0, 0, 0, 0, 0, 0, 0, 0, 0, 0, 0, 0, 0, 0, 0, 0, 0, 0]\n",
      "delta at job 3 and time 42 is Any[0, 0, 0, 0, 0, 0, 0, 0, 0, 0, 0, 0, 0, 0, 0, 0, 0, 0, 0, 0, 0, 0, 0, 0, 0]\n",
      "delta at job 3 and time 43 is Any[0, 0, 0, 0, 0, 0, 0, 0, 0, 0, 0, 0, 0, 0, 0, 0, 0, 0, 0, 0, 0, 0, 0, 0, 0]\n",
      "delta at job 3 and time 44 is Any[0, 0, 0, 0, 0, 0, 0, 0, 0, 0, 0, 0, 0, 0, 0, 0, 0, 0, 0, 0, 0, 0, 0, 0, 0]\n",
      "delta at job 3 and time 45 is Any[0, 0, 0, 0, 0, 0, 0, 0, 0, 0, 0, 0, 0, 0, 0, 0, 0, 0, 0, 0, 0, 0, 0, 0, 0]\n",
      "\n",
      "delta at job 4 and time 1 is Any[0, 0, 0, 0, 0, 0, 0, 0, 0, 0, 0, 0, 0, 0, 0, 0, 0, 0, 0, 0, 0, 0, 0, 0, 0]\n",
      "delta at job 4 and time 2 is Any[0, 0, 0, 0, 0, 0, 0, 0, 0, 0, 0, 0, 0, 0, 0, 0, 0, 0, 0, 0, 0, 0, 0, 0, 0]\n",
      "delta at job 4 and time 3 is Any[0, 0, 0, 0, 0, 0, 0, 0, 0, 0, 0, 0, 0, 0, 0, 0, 0, 0, 0, 0, 0, 0, 0, 0, 0]\n",
      "delta at job 4 and time 4 is Any[0, 0, 0, 0, 0, 0, 0, 0, 0, 0, 0, 0, 0, 0, 0, 0, 0, 0, 0, 0, 0, 0, 0, 0, 0]\n",
      "delta at job 4 and time 5 is Any[0, 0, 0, 0, 0, 0, 0, 0, 0, 0, 0, 0, 0, 0, 0, 0, 0, 0, 0, 0, 0, 0, 0, 0, 0]\n",
      "delta at job 4 and time 6 is Any[0, 0, 0, 0, 0, 0, 0, 0, 0, 0, 0, 0, 0, 0, 0, 0, 0, 0, 0, 0, 0, 0, 0, 0, 0]\n",
      "delta at job 4 and time 7 is Any[0, 0, 0, 0, 0, 0, 0, 0, 0, 0, 0, 0, 0, 0, 0, 0, 0, 0, 0, 0, 0, 0, 0, 0, 0]\n",
      "delta at job 4 and time 8 is Any[0, 0, 0, 1, 0, 0, 0, 0, 0, 0, 0, 0, 0, 0, 0, 0, 0, 0, 0, 0, 0, 0, 0, 0, 0]\n",
      "delta at job 4 and time 9 is Any[0, 0, 0, 1, 0, 0, 0, 0, 0, 0, 0, 0, 0, 0, 0, 0, 0, 0, 0, 0, 0, 0, 0, 0, 0]\n",
      "delta at job 4 and time 10 is Any[0, 0, 0, 0, 0, 0, 0, 0, 0, 0, 0, 0, 0, 0, 0, 0, 0, 0, 0, 0, 0, 0, 0, 0, 0]\n",
      "delta at job 4 and time 11 is Any[0, 0, 0, 0, 0, 0, 0, 0, 0, 0, 0, 0, 0, 0, 0, 0, 0, 0, 0, 0, 0, 0, 0, 0, 0]\n",
      "delta at job 4 and time 12 is Any[0, 0, 0, 0, 0, 0, 0, 0, 0, 0, 0, 0, 0, 0, 0, 0, 0, 0, 0, 0, 0, 0, 0, 0, 0]\n",
      "delta at job 4 and time 13 is Any[0, 0, 0, 0, 0, 0, 0, 0, 0, 0, 0, 0, 0, 0, 0, 0, 0, 0, 0, 0, 0, 0, 0, 0, 0]\n",
      "delta at job 4 and time 14 is Any[0, 0, 0, 0, 0, 0, 0, 0, 0, 0, 0, 0, 0, 0, 0, 0, 0, 0, 0, 0, 0, 0, 0, 0, 0]\n",
      "delta at job 4 and time 15 is Any[0, 0, 0, 0, 0, 0, 0, 0, 0, 0, 0, 0, 0, 0, 0, 0, 0, 0, 0, 0, 0, 0, 0, 0, 0]\n",
      "delta at job 4 and time 16 is Any[0, 0, 0, 0, 0, 0, 0, 0, 0, 0, 0, 0, 0, 0, 0, 0, 0, 0, 0, 0, 0, 0, 0, 0, 0]\n",
      "delta at job 4 and time 17 is Any[0, 0, 0, 0, 0, 0, 0, 0, 0, 0, 0, 0, 0, 0, 0, 0, 0, 0, 0, 0, 0, 0, 0, 0, 0]\n",
      "delta at job 4 and time 18 is Any[0, 0, 0, 0, 0, 0, 0, 0, 0, 0, 0, 0, 0, 0, 0, 0, 0, 0, 0, 0, 0, 0, 0, 0, 0]\n",
      "delta at job 4 and time 19 is Any[0, 0, 0, 0, 0, 0, 0, 0, 0, 0, 0, 0, 0, 0, 0, 0, 0, 0, 0, 0, 0, 0, 0, 0, 0]\n",
      "delta at job 4 and time 20 is Any[0, 0, 0, 0, 0, 0, 0, 0, 0, 0, 0, 0, 0, 0, 0, 0, 0, 0, 0, 0, 0, 0, 0, 0, 0]\n",
      "delta at job 4 and time 21 is Any[0, 0, 0, 0, 0, 0, 0, 0, 0, 0, 0, 0, 0, 0, 0, 0, 0, 0, 0, 0, 0, 0, 0, 0, 0]\n",
      "delta at job 4 and time 22 is Any[0, 0, 0, 0, 0, 0, 0, 0, 0, 0, 0, 0, 0, 0, 0, 0, 0, 0, 0, 0, 0, 0, 0, 0, 0]\n",
      "delta at job 4 and time 23 is Any[0, 0, 0, 0, 0, 0, 0, 0, 0, 0, 0, 0, 0, 0, 0, 0, 0, 0, 0, 0, 0, 0, 0, 0, 0]\n",
      "delta at job 4 and time 24 is Any[0, 0, 0, 0, 0, 0, 0, 0, 0, 0, 0, 0, 0, 0, 0, 0, 0, 0, 0, 0, 0, 0, 0, 0, 0]\n",
      "delta at job 4 and time 25 is Any[0, 0, 0, 0, 0, 0, 0, 0, 0, 0, 0, 0, 0, 0, 0, 0, 0, 0, 0, 0, 0, 0, 0, 0, 0]\n",
      "delta at job 4 and time 26 is Any[0, 0, 0, 0, 0, 0, 0, 0, 0, 0, 0, 0, 0, 0, 0, 0, 0, 0, 0, 0, 0, 0, 0, 0, 0]\n",
      "delta at job 4 and time 27 is Any[0, 0, 0, 0, 0, 0, 0, 0, 0, 0, 0, 0, 0, 0, 0, 0, 0, 0, 0, 0, 0, 0, 0, 0, 0]\n",
      "delta at job 4 and time 28 is Any[0, 0, 0, 0, 0, 0, 0, 0, 0, 0, 0, 0, 0, 0, 0, 0, 0, 0, 0, 0, 0, 0, 0, 0, 0]\n",
      "delta at job 4 and time 29 is Any[0, 0, 0, 0, 0, 0, 0, 0, 0, 0, 0, 0, 0, 0, 0, 0, 0, 0, 0, 0, 0, 0, 0, 0, 0]\n",
      "delta at job 4 and time 30 is Any[0, 0, 0, 0, 0, 0, 0, 0, 0, 0, 0, 0, 0, 0, 0, 0, 0, 0, 0, 0, 0, 0, 0, 0, 0]\n",
      "delta at job 4 and time 31 is Any[0, 0, 0, 0, 0, 0, 0, 0, 0, 0, 0, 0, 0, 0, 0, 0, 0, 0, 0, 0, 0, 0, 0, 0, 0]\n",
      "delta at job 4 and time 32 is Any[0, 0, 0, 0, 0, 0, 0, 0, 0, 0, 0, 0, 0, 0, 0, 0, 0, 0, 0, 0, 0, 0, 0, 0, 0]\n",
      "delta at job 4 and time 33 is Any[0, 0, 0, 0, 0, 0, 0, 0, 0, 0, 0, 0, 0, 0, 0, 0, 0, 0, 0, 0, 0, 0, 0, 0, 0]\n",
      "delta at job 4 and time 34 is Any[0, 0, 0, 0, 0, 0, 0, 0, 0, 0, 0, 0, 0, 0, 0, 0, 0, 0, 0, 0, 0, 0, 0, 0, 0]\n",
      "delta at job 4 and time 35 is Any[0, 0, 0, 0, 0, 0, 0, 0, 0, 0, 0, 0, 0, 0, 0, 0, 0, 0, 0, 0, 0, 0, 0, 0, 0]\n",
      "delta at job 4 and time 36 is Any[0, 0, 0, 0, 0, 0, 0, 0, 0, 0, 0, 0, 0, 0, 0, 0, 0, 0, 0, 0, 0, 0, 0, 0, 0]\n",
      "delta at job 4 and time 37 is Any[0, 0, 0, 0, 0, 0, 0, 0, 0, 0, 0, 0, 0, 0, 0, 0, 0, 0, 0, 0, 0, 0, 0, 0, 0]\n",
      "delta at job 4 and time 38 is Any[0, 0, 0, 0, 0, 0, 0, 0, 0, 0, 0, 0, 0, 0, 0, 0, 0, 0, 0, 0, 0, 0, 0, 0, 0]\n",
      "delta at job 4 and time 39 is Any[0, 0, 0, 0, 0, 0, 0, 0, 0, 0, 0, 0, 0, 0, 0, 0, 0, 0, 0, 0, 0, 0, 0, 0, 0]\n",
      "delta at job 4 and time 40 is Any[0, 0, 0, 0, 0, 0, 0, 0, 0, 0, 0, 0, 0, 0, 0, 0, 0, 0, 0, 0, 0, 0, 0, 0, 0]\n",
      "delta at job 4 and time 41 is Any[0, 0, 0, 0, 0, 0, 0, 0, 0, 0, 0, 0, 0, 0, 0, 0, 0, 0, 0, 0, 0, 0, 0, 0, 0]\n",
      "delta at job 4 and time 42 is Any[0, 0, 0, 0, 0, 0, 0, 0, 0, 0, 0, 0, 0, 0, 0, 0, 0, 0, 0, 0, 0, 0, 0, 0, 0]\n",
      "delta at job 4 and time 43 is Any[0, 0, 0, 0, 0, 0, 0, 0, 0, 0, 0, 0, 0, 0, 0, 0, 0, 0, 0, 0, 0, 0, 0, 0, 0]\n",
      "delta at job 4 and time 44 is Any[0, 0, 0, 0, 0, 0, 0, 0, 0, 0, 0, 0, 0, 0, 0, 0, 0, 0, 0, 0, 0, 0, 0, 0, 0]\n",
      "delta at job 4 and time 45 is Any[0, 0, 0, 0, 0, 0, 0, 0, 0, 0, 0, 0, 0, 0, 0, 0, 0, 0, 0, 0, 0, 0, 0, 0, 0]\n",
      "\n",
      "delta at job 5 and time 1 is Any[0, 0, 0, 0, 0, 0, 0, 0, 0, 0, 0, 0, 0, 0, 0, 0, 0, 0, 0, 0, 0, 0, 0, 0, 0]\n",
      "delta at job 5 and time 2 is Any[0, 0, 0, 0, 0, 0, 0, 0, 0, 0, 0, 0, 0, 0, 0, 0, 0, 0, 0, 0, 0, 0, 0, 0, 0]\n",
      "delta at job 5 and time 3 is Any[0, 0, 0, 0, 0, 0, 0, 0, 0, 0, 0, 0, 0, 0, 0, 0, 0, 0, 0, 0, 0, 0, 0, 0, 0]\n",
      "delta at job 5 and time 4 is Any[0, 0, 0, 0, 0, 0, 0, 0, 0, 0, 0, 0, 0, 0, 0, 0, 0, 0, 0, 0, 0, 0, 0, 0, 0]\n",
      "delta at job 5 and time 5 is Any[0, 0, 0, 0, 0, 0, 0, 0, 0, 0, 0, 0, 0, 0, 0, 0, 0, 0, 0, 0, 0, 0, 0, 0, 0]\n",
      "delta at job 5 and time 6 is Any[0, 0, 0, 0, 0, 0, 0, 0, 0, 0, 0, 0, 0, 0, 0, 0, 0, 0, 0, 0, 0, 0, 0, 0, 0]\n",
      "delta at job 5 and time 7 is Any[0, 0, 0, 0, 0, 0, 0, 0, 0, 0, 0, 0, 0, 0, 0, 0, 0, 0, 0, 0, 0, 0, 0, 0, 0]\n",
      "delta at job 5 and time 8 is Any[0, 0, 0, 0, 0, 0, 0, 0, 0, 0, 0, 0, 0, 0, 0, 0, 0, 0, 0, 0, 0, 0, 0, 0, 0]\n",
      "delta at job 5 and time 9 is Any[0, 0, 0, 0, 0, 0, 0, 0, 0, 0, 0, 0, 0, 0, 0, 0, 0, 0, 0, 0, 0, 0, 0, 0, 0]\n",
      "delta at job 5 and time 10 is Any[0, 0, 0, 0, 0, 0, 0, 0, 0, 0, 0, 0, 0, 0, 0, 0, 0, 0, 0, 0, 0, 0, 0, 0, 0]\n",
      "delta at job 5 and time 11 is Any[0, 0, 0, 0, 0, 0, 0, 0, 0, 0, 0, 0, 0, 0, 0, 0, 0, 0, 0, 0, 0, 0, 0, 0, 0]\n",
      "delta at job 5 and time 12 is Any[0, 0, 0, 0, 0, 0, 0, 0, 0, 0, 0, 0, 0, 0, 0, 0, 0, 0, 0, 0, 0, 0, 0, 0, 0]\n",
      "delta at job 5 and time 13 is Any[0, 0, 0, 0, 0, 0, 0, 0, 0, 0, 0, 0, 0, 0, 0, 0, 0, 0, 0, 0, 0, 0, 0, 0, 0]\n",
      "delta at job 5 and time 14 is Any[0, 0, 0, 0, 1, 0, 0, 0, 0, 0, 0, 0, 0, 0, 0, 0, 0, 0, 0, 0, 0, 0, 0, 0, 0]\n",
      "delta at job 5 and time 15 is Any[0, 0, 0, 0, 1, 0, 0, 0, 0, 0, 0, 0, 0, 0, 0, 0, 0, 0, 0, 0, 0, 0, 0, 0, 0]\n",
      "delta at job 5 and time 16 is Any[0, 0, 0, 0, 1, 0, 0, 0, 0, 0, 0, 0, 0, 0, 0, 0, 0, 0, 0, 0, 0, 0, 0, 0, 0]\n",
      "delta at job 5 and time 17 is Any[0, 0, 0, 0, 0, 0, 0, 0, 0, 0, 0, 0, 0, 0, 0, 0, 0, 0, 0, 0, 0, 0, 0, 0, 0]\n",
      "delta at job 5 and time 18 is Any[0, 0, 0, 0, 0, 0, 0, 0, 0, 0, 0, 0, 0, 0, 0, 0, 0, 0, 0, 0, 0, 0, 0, 0, 0]\n",
      "delta at job 5 and time 19 is Any[0, 0, 0, 0, 0, 0, 0, 0, 0, 0, 0, 0, 0, 0, 0, 0, 0, 0, 0, 0, 0, 0, 0, 0, 0]\n",
      "delta at job 5 and time 20 is Any[0, 0, 0, 0, 0, 0, 0, 0, 0, 0, 0, 0, 0, 0, 0, 0, 0, 0, 0, 0, 0, 0, 0, 0, 0]\n",
      "delta at job 5 and time 21 is Any[0, 0, 0, 0, 0, 0, 0, 0, 0, 0, 0, 0, 0, 0, 0, 0, 0, 0, 0, 0, 0, 0, 0, 0, 0]\n",
      "delta at job 5 and time 22 is Any[0, 0, 0, 0, 0, 0, 0, 0, 0, 0, 0, 0, 0, 0, 0, 0, 0, 0, 0, 0, 0, 0, 0, 0, 0]\n",
      "delta at job 5 and time 23 is Any[0, 0, 0, 0, 0, 0, 0, 0, 0, 0, 0, 0, 0, 0, 0, 0, 0, 0, 0, 0, 0, 0, 0, 0, 0]\n",
      "delta at job 5 and time 24 is Any[0, 0, 0, 0, 0, 0, 0, 0, 0, 0, 0, 0, 0, 0, 0, 0, 0, 0, 0, 0, 0, 0, 0, 0, 0]\n",
      "delta at job 5 and time 25 is Any[0, 0, 0, 0, 0, 0, 0, 0, 0, 0, 0, 0, 0, 0, 0, 0, 0, 0, 0, 0, 0, 0, 0, 0, 0]\n",
      "delta at job 5 and time 26 is Any[0, 0, 0, 0, 0, 0, 0, 0, 0, 0, 0, 0, 0, 0, 0, 0, 0, 0, 0, 0, 0, 0, 0, 0, 0]\n",
      "delta at job 5 and time 27 is Any[0, 0, 0, 0, 0, 0, 0, 0, 0, 0, 0, 0, 0, 0, 0, 0, 0, 0, 0, 0, 0, 0, 0, 0, 0]\n",
      "delta at job 5 and time 28 is Any[0, 0, 0, 0, 0, 0, 0, 0, 0, 0, 0, 0, 0, 0, 0, 0, 0, 0, 0, 0, 0, 0, 0, 0, 0]\n",
      "delta at job 5 and time 29 is Any[0, 0, 0, 0, 0, 0, 0, 0, 0, 0, 0, 0, 0, 0, 0, 0, 0, 0, 0, 0, 0, 0, 0, 0, 0]\n",
      "delta at job 5 and time 30 is Any[0, 0, 0, 0, 0, 0, 0, 0, 0, 0, 0, 0, 0, 0, 0, 0, 0, 0, 0, 0, 0, 0, 0, 0, 0]\n",
      "delta at job 5 and time 31 is Any[0, 0, 0, 0, 0, 0, 0, 0, 0, 0, 0, 0, 0, 0, 0, 0, 0, 0, 0, 0, 0, 0, 0, 0, 0]\n",
      "delta at job 5 and time 32 is Any[0, 0, 0, 0, 0, 0, 0, 0, 0, 0, 0, 0, 0, 0, 0, 0, 0, 0, 0, 0, 0, 0, 0, 0, 0]\n",
      "delta at job 5 and time 33 is Any[0, 0, 0, 0, 0, 0, 0, 0, 0, 0, 0, 0, 0, 0, 0, 0, 0, 0, 0, 0, 0, 0, 0, 0, 0]\n",
      "delta at job 5 and time 34 is Any[0, 0, 0, 0, 0, 0, 0, 0, 0, 0, 0, 0, 0, 0, 0, 0, 0, 0, 0, 0, 0, 0, 0, 0, 0]\n",
      "delta at job 5 and time 35 is Any[0, 0, 0, 0, 0, 0, 0, 0, 0, 0, 0, 0, 0, 0, 0, 0, 0, 0, 0, 0, 0, 0, 0, 0, 0]\n",
      "delta at job 5 and time 36 is Any[0, 0, 0, 0, 0, 0, 0, 0, 0, 0, 0, 0, 0, 0, 0, 0, 0, 0, 0, 0, 0, 0, 0, 0, 0]\n",
      "delta at job 5 and time 37 is Any[0, 0, 0, 0, 0, 0, 0, 0, 0, 0, 0, 0, 0, 0, 0, 0, 0, 0, 0, 0, 0, 0, 0, 0, 0]\n",
      "delta at job 5 and time 38 is Any[0, 0, 0, 0, 0, 0, 0, 0, 0, 0, 0, 0, 0, 0, 0, 0, 0, 0, 0, 0, 0, 0, 0, 0, 0]\n",
      "delta at job 5 and time 39 is Any[0, 0, 0, 0, 0, 0, 0, 0, 0, 0, 0, 0, 0, 0, 0, 0, 0, 0, 0, 0, 0, 0, 0, 0, 0]\n",
      "delta at job 5 and time 40 is Any[0, 0, 0, 0, 0, 0, 0, 0, 0, 0, 0, 0, 0, 0, 0, 0, 0, 0, 0, 0, 0, 0, 0, 0, 0]\n",
      "delta at job 5 and time 41 is Any[0, 0, 0, 0, 0, 0, 0, 0, 0, 0, 0, 0, 0, 0, 0, 0, 0, 0, 0, 0, 0, 0, 0, 0, 0]\n",
      "delta at job 5 and time 42 is Any[0, 0, 0, 0, 0, 0, 0, 0, 0, 0, 0, 0, 0, 0, 0, 0, 0, 0, 0, 0, 0, 0, 0, 0, 0]\n",
      "delta at job 5 and time 43 is Any[0, 0, 0, 0, 0, 0, 0, 0, 0, 0, 0, 0, 0, 0, 0, 0, 0, 0, 0, 0, 0, 0, 0, 0, 0]\n",
      "delta at job 5 and time 44 is Any[0, 0, 0, 0, 0, 0, 0, 0, 0, 0, 0, 0, 0, 0, 0, 0, 0, 0, 0, 0, 0, 0, 0, 0, 0]\n",
      "delta at job 5 and time 45 is Any[0, 0, 0, 0, 0, 0, 0, 0, 0, 0, 0, 0, 0, 0, 0, 0, 0, 0, 0, 0, 0, 0, 0, 0, 0]\n",
      "\n",
      "delta at job 6 and time 1 is Any[0, 0, 0, 0, 0, 0, 0, 0, 0, 0, 0, 0, 0, 0, 0, 0, 0, 0, 0, 0, 0, 0, 0, 0, 0]\n",
      "delta at job 6 and time 2 is Any[0, 0, 0, 0, 0, 0, 0, 0, 0, 0, 0, 0, 0, 0, 0, 0, 0, 0, 0, 0, 0, 0, 0, 0, 0]\n",
      "delta at job 6 and time 3 is Any[0, 0, 0, 0, 0, 0, 0, 0, 0, 0, 0, 0, 0, 0, 0, 0, 0, 0, 0, 0, 0, 0, 0, 0, 0]\n",
      "delta at job 6 and time 4 is Any[0, 0, 0, 0, 0, 0, 0, 0, 0, 0, 0, 0, 0, 0, 0, 0, 0, 0, 0, 0, 0, 0, 0, 0, 0]\n",
      "delta at job 6 and time 5 is Any[0, 0, 0, 0, 0, 0, 0, 0, 0, 0, 0, 0, 0, 0, 0, 0, 0, 0, 0, 0, 0, 0, 0, 0, 0]\n",
      "delta at job 6 and time 6 is Any[0, 0, 0, 0, 0, 0, 0, 0, 0, 0, 0, 0, 0, 0, 0, 0, 0, 0, 0, 0, 0, 0, 0, 0, 0]\n",
      "delta at job 6 and time 7 is Any[0, 0, 0, 0, 0, 0, 0, 0, 0, 0, 0, 0, 0, 0, 0, 0, 0, 0, 0, 0, 0, 0, 0, 0, 0]\n",
      "delta at job 6 and time 8 is Any[0, 0, 0, 0, 0, 0, 0, 0, 0, 0, 0, 0, 0, 0, 0, 0, 0, 0, 0, 0, 0, 0, 0, 0, 0]\n",
      "delta at job 6 and time 9 is Any[0, 0, 0, 0, 0, 0, 0, 0, 0, 0, 0, 0, 0, 0, 0, 0, 0, 0, 0, 0, 0, 0, 0, 0, 0]\n",
      "delta at job 6 and time 10 is Any[0, 0, 0, 0, 0, 0, 0, 0, 0, 0, 0, 0, 0, 0, 0, 0, 0, 0, 0, 0, 0, 0, 0, 0, 0]\n",
      "delta at job 6 and time 11 is Any[0, 0, 0, 0, 0, 0, 0, 0, 0, 0, 0, 0, 0, 0, 0, 0, 0, 0, 0, 0, 0, 0, 0, 0, 0]\n",
      "delta at job 6 and time 12 is Any[0, 0, 0, 0, 0, 0, 0, 0, 0, 0, 0, 0, 0, 0, 0, 0, 0, 0, 0, 0, 0, 0, 0, 0, 0]\n",
      "delta at job 6 and time 13 is Any[0, 0, 0, 0, 0, 0, 0, 0, 0, 0, 0, 0, 0, 0, 0, 0, 0, 0, 0, 0, 0, 0, 0, 0, 0]\n",
      "delta at job 6 and time 14 is Any[0, 0, 0, 0, 0, 0, 0, 0, 0, 0, 0, 0, 0, 0, 0, 0, 0, 0, 0, 0, 0, 0, 0, 0, 0]\n",
      "delta at job 6 and time 15 is Any[0, 0, 0, 0, 0, 0, 0, 0, 0, 0, 0, 0, 0, 0, 0, 0, 0, 0, 0, 0, 0, 0, 0, 0, 0]\n",
      "delta at job 6 and time 16 is Any[0, 0, 0, 0, 0, 0, 0, 0, 0, 0, 0, 0, 0, 0, 0, 0, 0, 0, 0, 0, 0, 0, 0, 0, 0]\n",
      "delta at job 6 and time 17 is Any[0, 0, 0, 0, 0, 0, 0, 0, 0, 0, 0, 0, 0, 0, 0, 0, 0, 0, 0, 0, 0, 0, 0, 0, 0]\n",
      "delta at job 6 and time 18 is Any[0, 0, 0, 0, 0, 0, 0, 0, 0, 0, 0, 0, 0, 0, 0, 0, 0, 0, 0, 0, 0, 0, 0, 0, 0]\n",
      "delta at job 6 and time 19 is Any[0, 0, 0, 0, 0, 0, 0, 0, 0, 0, 0, 0, 0, 0, 0, 0, 0, 0, 0, 0, 0, 0, 0, 0, 0]\n",
      "delta at job 6 and time 20 is Any[0, 0, 0, 0, 0, 0, 0, 0, 0, 0, 0, 0, 0, 0, 0, 0, 0, 0, 0, 0, 0, 0, 0, 0, 0]\n",
      "delta at job 6 and time 21 is Any[0, 0, 0, 0, 0, 0, 0, 0, 0, 0, 0, 0, 0, 0, 0, 0, 0, 0, 0, 0, 0, 0, 0, 0, 0]\n",
      "delta at job 6 and time 22 is Any[0, 0, 0, 0, 0, 1, 0, 0, 0, 0, 0, 0, 0, 0, 0, 0, 0, 0, 0, 0, 0, 0, 0, 0, 0]\n",
      "delta at job 6 and time 23 is Any[0, 0, 0, 0, 0, 1, 0, 0, 0, 0, 0, 0, 0, 0, 0, 0, 0, 0, 0, 0, 0, 0, 0, 0, 0]\n",
      "delta at job 6 and time 24 is Any[0, 0, 0, 0, 0, 1, 0, 0, 0, 0, 0, 0, 0, 0, 0, 0, 0, 0, 0, 0, 0, 0, 0, 0, 0]\n",
      "delta at job 6 and time 25 is Any[0, 0, 0, 0, 0, 1, 0, 0, 0, 0, 0, 0, 0, 0, 0, 0, 0, 0, 0, 0, 0, 0, 0, 0, 0]\n",
      "delta at job 6 and time 26 is Any[0, 0, 0, 0, 0, 0, 0, 0, 0, 0, 0, 0, 0, 0, 0, 0, 0, 0, 0, 0, 0, 0, 0, 0, 0]\n",
      "delta at job 6 and time 27 is Any[0, 0, 0, 0, 0, 0, 0, 0, 0, 0, 0, 0, 0, 0, 0, 0, 0, 0, 0, 0, 0, 0, 0, 0, 0]\n",
      "delta at job 6 and time 28 is Any[0, 0, 0, 0, 0, 0, 0, 0, 0, 0, 0, 0, 0, 0, 0, 0, 0, 0, 0, 0, 0, 0, 0, 0, 0]\n",
      "delta at job 6 and time 29 is Any[0, 0, 0, 0, 0, 0, 0, 0, 0, 0, 0, 0, 0, 0, 0, 0, 0, 0, 0, 0, 0, 0, 0, 0, 0]\n",
      "delta at job 6 and time 30 is Any[0, 0, 0, 0, 0, 0, 0, 0, 0, 0, 0, 0, 0, 0, 0, 0, 0, 0, 0, 0, 0, 0, 0, 0, 0]\n",
      "delta at job 6 and time 31 is Any[0, 0, 0, 0, 0, 0, 0, 0, 0, 0, 0, 0, 0, 0, 0, 0, 0, 0, 0, 0, 0, 0, 0, 0, 0]\n",
      "delta at job 6 and time 32 is Any[0, 0, 0, 0, 0, 0, 0, 0, 0, 0, 0, 0, 0, 0, 0, 0, 0, 0, 0, 0, 0, 0, 0, 0, 0]\n",
      "delta at job 6 and time 33 is Any[0, 0, 0, 0, 0, 0, 0, 0, 0, 0, 0, 0, 0, 0, 0, 0, 0, 0, 0, 0, 0, 0, 0, 0, 0]\n",
      "delta at job 6 and time 34 is Any[0, 0, 0, 0, 0, 0, 0, 0, 0, 0, 0, 0, 0, 0, 0, 0, 0, 0, 0, 0, 0, 0, 0, 0, 0]\n",
      "delta at job 6 and time 35 is Any[0, 0, 0, 0, 0, 0, 0, 0, 0, 0, 0, 0, 0, 0, 0, 0, 0, 0, 0, 0, 0, 0, 0, 0, 0]\n",
      "delta at job 6 and time 36 is Any[0, 0, 0, 0, 0, 0, 0, 0, 0, 0, 0, 0, 0, 0, 0, 0, 0, 0, 0, 0, 0, 0, 0, 0, 0]\n",
      "delta at job 6 and time 37 is Any[0, 0, 0, 0, 0, 0, 0, 0, 0, 0, 0, 0, 0, 0, 0, 0, 0, 0, 0, 0, 0, 0, 0, 0, 0]\n",
      "delta at job 6 and time 38 is Any[0, 0, 0, 0, 0, 0, 0, 0, 0, 0, 0, 0, 0, 0, 0, 0, 0, 0, 0, 0, 0, 0, 0, 0, 0]\n",
      "delta at job 6 and time 39 is Any[0, 0, 0, 0, 0, 0, 0, 0, 0, 0, 0, 0, 0, 0, 0, 0, 0, 0, 0, 0, 0, 0, 0, 0, 0]\n",
      "delta at job 6 and time 40 is Any[0, 0, 0, 0, 0, 0, 0, 0, 0, 0, 0, 0, 0, 0, 0, 0, 0, 0, 0, 0, 0, 0, 0, 0, 0]\n",
      "delta at job 6 and time 41 is Any[0, 0, 0, 0, 0, 0, 0, 0, 0, 0, 0, 0, 0, 0, 0, 0, 0, 0, 0, 0, 0, 0, 0, 0, 0]\n",
      "delta at job 6 and time 42 is Any[0, 0, 0, 0, 0, 0, 0, 0, 0, 0, 0, 0, 0, 0, 0, 0, 0, 0, 0, 0, 0, 0, 0, 0, 0]\n",
      "delta at job 6 and time 43 is Any[0, 0, 0, 0, 0, 0, 0, 0, 0, 0, 0, 0, 0, 0, 0, 0, 0, 0, 0, 0, 0, 0, 0, 0, 0]\n",
      "delta at job 6 and time 44 is Any[0, 0, 0, 0, 0, 0, 0, 0, 0, 0, 0, 0, 0, 0, 0, 0, 0, 0, 0, 0, 0, 0, 0, 0, 0]\n",
      "delta at job 6 and time 45 is Any[0, 0, 0, 0, 0, 0, 0, 0, 0, 0, 0, 0, 0, 0, 0, 0, 0, 0, 0, 0, 0, 0, 0, 0, 0]\n",
      "\n",
      "delta at job 7 and time 1 is Any[0, 0, 0, 0, 0, 0, 0, 0, 0, 0, 0, 0, 0, 0, 0, 0, 0, 0, 0, 0, 0, 0, 0, 0, 0]\n",
      "delta at job 7 and time 2 is Any[0, 0, 0, 0, 0, 0, 0, 0, 0, 0, 0, 0, 0, 0, 0, 0, 0, 0, 0, 0, 0, 0, 0, 0, 0]\n",
      "delta at job 7 and time 3 is Any[0, 0, 0, 0, 0, 0, 0, 0, 0, 0, 0, 0, 0, 0, 0, 0, 0, 0, 0, 0, 0, 0, 0, 0, 0]\n",
      "delta at job 7 and time 4 is Any[0, 0, 0, 0, 0, 0, 0, 0, 0, 0, 0, 0, 0, 0, 0, 0, 0, 0, 0, 0, 0, 0, 0, 0, 0]\n",
      "delta at job 7 and time 5 is Any[0, 0, 0, 0, 0, 0, 0, 0, 0, 0, 0, 0, 0, 0, 0, 0, 0, 0, 0, 0, 0, 0, 0, 0, 0]\n",
      "delta at job 7 and time 6 is Any[0, 0, 0, 0, 0, 0, 0, 0, 0, 0, 0, 0, 0, 0, 0, 0, 0, 0, 0, 0, 0, 0, 0, 0, 0]\n",
      "delta at job 7 and time 7 is Any[0, 0, 0, 0, 0, 0, 0, 0, 0, 0, 0, 0, 0, 0, 0, 0, 0, 0, 0, 0, 0, 0, 0, 0, 0]\n",
      "delta at job 7 and time 8 is Any[0, 0, 0, 0, 0, 0, 0, 0, 0, 0, 0, 0, 0, 0, 0, 0, 0, 0, 0, 0, 0, 0, 0, 0, 0]\n",
      "delta at job 7 and time 9 is Any[0, 0, 0, 0, 0, 0, 0, 0, 0, 0, 0, 0, 0, 0, 0, 0, 0, 0, 0, 0, 0, 0, 0, 0, 0]\n",
      "delta at job 7 and time 10 is Any[0, 0, 0, 0, 0, 0, 0, 0, 0, 0, 0, 0, 0, 0, 0, 0, 0, 0, 0, 0, 0, 0, 0, 0, 0]\n",
      "delta at job 7 and time 11 is Any[0, 0, 0, 0, 0, 0, 0, 0, 0, 0, 0, 0, 0, 0, 0, 0, 0, 0, 0, 0, 0, 0, 0, 0, 0]\n",
      "delta at job 7 and time 12 is Any[0, 0, 0, 0, 0, 0, 0, 0, 0, 0, 0, 0, 0, 0, 0, 0, 0, 0, 0, 0, 0, 0, 0, 0, 0]\n",
      "delta at job 7 and time 13 is Any[0, 0, 0, 0, 0, 0, 0, 0, 0, 0, 0, 0, 0, 0, 0, 0, 0, 0, 0, 0, 0, 0, 0, 0, 0]\n",
      "delta at job 7 and time 14 is Any[0, 0, 0, 0, 0, 0, 0, 0, 0, 0, 0, 0, 0, 0, 0, 0, 0, 0, 0, 0, 0, 0, 0, 0, 0]\n",
      "delta at job 7 and time 15 is Any[0, 0, 0, 0, 0, 0, 0, 0, 0, 0, 0, 0, 0, 0, 0, 0, 0, 0, 0, 0, 0, 0, 0, 0, 0]\n",
      "delta at job 7 and time 16 is Any[0, 0, 0, 0, 0, 0, 0, 0, 0, 0, 0, 0, 0, 0, 0, 0, 0, 0, 0, 0, 0, 0, 0, 0, 0]\n",
      "delta at job 7 and time 17 is Any[0, 0, 0, 0, 0, 0, 0, 0, 0, 0, 0, 0, 0, 0, 0, 0, 0, 0, 0, 0, 0, 0, 0, 0, 0]\n",
      "delta at job 7 and time 18 is Any[0, 0, 0, 0, 0, 0, 0, 0, 0, 0, 0, 0, 0, 0, 0, 0, 0, 0, 0, 0, 0, 0, 0, 0, 0]\n",
      "delta at job 7 and time 19 is Any[0, 0, 0, 0, 0, 0, 0, 0, 0, 0, 0, 0, 0, 0, 0, 0, 0, 0, 0, 0, 0, 0, 0, 0, 0]\n",
      "delta at job 7 and time 20 is Any[0, 0, 0, 0, 0, 0, 0, 0, 0, 0, 0, 0, 0, 0, 0, 0, 0, 0, 0, 0, 0, 0, 0, 0, 0]\n",
      "delta at job 7 and time 21 is Any[0, 0, 0, 0, 0, 0, 0, 0, 0, 0, 0, 0, 0, 0, 0, 0, 0, 0, 0, 0, 0, 0, 0, 0, 0]\n",
      "delta at job 7 and time 22 is Any[0, 0, 0, 0, 0, 0, 0, 0, 0, 0, 0, 0, 0, 0, 0, 0, 0, 0, 0, 0, 0, 0, 0, 0, 0]\n",
      "delta at job 7 and time 23 is Any[0, 0, 0, 0, 0, 0, 0, 0, 0, 0, 0, 0, 0, 0, 0, 0, 0, 0, 0, 0, 0, 0, 0, 0, 0]\n",
      "delta at job 7 and time 24 is Any[0, 0, 0, 0, 0, 0, 0, 0, 0, 0, 0, 0, 0, 0, 0, 0, 0, 0, 0, 0, 0, 0, 0, 0, 0]\n",
      "delta at job 7 and time 25 is Any[0, 0, 0, 0, 0, 0, 0, 0, 0, 0, 0, 0, 0, 0, 0, 0, 0, 0, 0, 0, 0, 0, 0, 0, 0]\n",
      "delta at job 7 and time 26 is Any[0, 0, 0, 0, 0, 0, 0, 0, 0, 0, 0, 0, 0, 0, 0, 0, 0, 0, 0, 0, 0, 0, 0, 0, 0]\n",
      "delta at job 7 and time 27 is Any[0, 0, 0, 0, 0, 0, 0, 0, 0, 0, 0, 0, 0, 0, 0, 0, 0, 0, 0, 0, 0, 0, 0, 0, 0]\n",
      "delta at job 7 and time 28 is Any[0, 0, 0, 0, 0, 0, 0, 0, 0, 0, 0, 0, 0, 0, 0, 0, 0, 0, 0, 0, 0, 0, 0, 0, 0]\n",
      "delta at job 7 and time 29 is Any[0, 0, 0, 0, 0, 0, 0, 0, 0, 0, 0, 0, 0, 0, 0, 0, 0, 0, 0, 0, 0, 0, 0, 0, 0]\n",
      "delta at job 7 and time 30 is Any[0, 0, 0, 0, 0, 0, 1, 0, 0, 0, 0, 0, 0, 0, 0, 0, 0, 0, 0, 0, 0, 0, 0, 0, 0]\n",
      "delta at job 7 and time 31 is Any[0, 0, 0, 0, 0, 0, 1, 0, 0, 0, 0, 0, 0, 0, 0, 0, 0, 0, 0, 0, 0, 0, 0, 0, 0]\n",
      "delta at job 7 and time 32 is Any[0, 0, 0, 0, 0, 0, 1, 0, 0, 0, 0, 0, 0, 0, 0, 0, 0, 0, 0, 0, 0, 0, 0, 0, 0]\n",
      "delta at job 7 and time 33 is Any[0, 0, 0, 0, 0, 0, 1, 0, 0, 0, 0, 0, 0, 0, 0, 0, 0, 0, 0, 0, 0, 0, 0, 0, 0]\n",
      "delta at job 7 and time 34 is Any[0, 0, 0, 0, 0, 0, 1, 0, 0, 0, 0, 0, 0, 0, 0, 0, 0, 0, 0, 0, 0, 0, 0, 0, 0]\n",
      "delta at job 7 and time 35 is Any[0, 0, 0, 0, 0, 0, 0, 0, 0, 0, 0, 0, 0, 0, 0, 0, 0, 0, 0, 0, 0, 0, 0, 0, 0]\n",
      "delta at job 7 and time 36 is Any[0, 0, 0, 0, 0, 0, 0, 0, 0, 0, 0, 0, 0, 0, 0, 0, 0, 0, 0, 0, 0, 0, 0, 0, 0]\n",
      "delta at job 7 and time 37 is Any[0, 0, 0, 0, 0, 0, 0, 0, 0, 0, 0, 0, 0, 0, 0, 0, 0, 0, 0, 0, 0, 0, 0, 0, 0]\n",
      "delta at job 7 and time 38 is Any[0, 0, 0, 0, 0, 0, 0, 0, 0, 0, 0, 0, 0, 0, 0, 0, 0, 0, 0, 0, 0, 0, 0, 0, 0]\n",
      "delta at job 7 and time 39 is Any[0, 0, 0, 0, 0, 0, 0, 0, 0, 0, 0, 0, 0, 0, 0, 0, 0, 0, 0, 0, 0, 0, 0, 0, 0]\n",
      "delta at job 7 and time 40 is Any[0, 0, 0, 0, 0, 0, 0, 0, 0, 0, 0, 0, 0, 0, 0, 0, 0, 0, 0, 0, 0, 0, 0, 0, 0]\n",
      "delta at job 7 and time 41 is Any[0, 0, 0, 0, 0, 0, 0, 0, 0, 0, 0, 0, 0, 0, 0, 0, 0, 0, 0, 0, 0, 0, 0, 0, 0]\n",
      "delta at job 7 and time 42 is Any[0, 0, 0, 0, 0, 0, 0, 0, 0, 0, 0, 0, 0, 0, 0, 0, 0, 0, 0, 0, 0, 0, 0, 0, 0]\n",
      "delta at job 7 and time 43 is Any[0, 0, 0, 0, 0, 0, 0, 0, 0, 0, 0, 0, 0, 0, 0, 0, 0, 0, 0, 0, 0, 0, 0, 0, 0]\n",
      "delta at job 7 and time 44 is Any[0, 0, 0, 0, 0, 0, 0, 0, 0, 0, 0, 0, 0, 0, 0, 0, 0, 0, 0, 0, 0, 0, 0, 0, 0]\n",
      "delta at job 7 and time 45 is Any[0, 0, 0, 0, 0, 0, 0, 0, 0, 0, 0, 0, 0, 0, 0, 0, 0, 0, 0, 0, 0, 0, 0, 0, 0]\n",
      "\n",
      "delta at job 8 and time 1 is Any[0, 0, 0, 0, 0, 0, 0, 0, 0, 0, 0, 0, 0, 0, 0, 0, 0, 0, 0, 0, 0, 0, 0, 0, 0]\n",
      "delta at job 8 and time 2 is Any[0, 0, 0, 0, 0, 0, 0, 1, 0, 0, 0, 0, 0, 0, 0, 0, 0, 0, 0, 0, 0, 0, 0, 0, 0]\n",
      "delta at job 8 and time 3 is Any[0, 0, 0, 0, 0, 0, 0, 1, 0, 0, 0, 0, 0, 0, 0, 0, 0, 0, 0, 0, 0, 0, 0, 0, 0]\n",
      "delta at job 8 and time 4 is Any[0, 0, 0, 0, 0, 0, 0, 1, 0, 0, 0, 0, 0, 0, 0, 0, 0, 0, 0, 0, 0, 0, 0, 0, 0]\n",
      "delta at job 8 and time 5 is Any[0, 0, 0, 0, 0, 0, 0, 1, 0, 0, 0, 0, 0, 0, 0, 0, 0, 0, 0, 0, 0, 0, 0, 0, 0]\n",
      "delta at job 8 and time 6 is Any[0, 0, 0, 0, 0, 0, 0, 1, 0, 0, 0, 0, 0, 0, 0, 0, 0, 0, 0, 0, 0, 0, 0, 0, 0]\n",
      "delta at job 8 and time 7 is Any[0, 0, 0, 0, 0, 0, 0, 1, 0, 0, 0, 0, 0, 0, 0, 0, 0, 0, 0, 0, 0, 0, 0, 0, 0]\n",
      "delta at job 8 and time 8 is Any[0, 0, 0, 0, 0, 0, 0, 0, 0, 0, 0, 0, 0, 0, 0, 0, 0, 0, 0, 0, 0, 0, 0, 0, 0]\n",
      "delta at job 8 and time 9 is Any[0, 0, 0, 0, 0, 0, 0, 0, 0, 0, 0, 0, 0, 0, 0, 0, 0, 0, 0, 0, 0, 0, 0, 0, 0]\n",
      "delta at job 8 and time 10 is Any[0, 0, 0, 0, 0, 0, 0, 0, 0, 0, 0, 0, 0, 0, 0, 0, 0, 0, 0, 0, 0, 0, 0, 0, 0]\n",
      "delta at job 8 and time 11 is Any[0, 0, 0, 0, 0, 0, 0, 0, 0, 0, 0, 0, 0, 0, 0, 0, 0, 0, 0, 0, 0, 0, 0, 0, 0]\n",
      "delta at job 8 and time 12 is Any[0, 0, 0, 0, 0, 0, 0, 0, 0, 0, 0, 0, 0, 0, 0, 0, 0, 0, 0, 0, 0, 0, 0, 0, 0]\n",
      "delta at job 8 and time 13 is Any[0, 0, 0, 0, 0, 0, 0, 0, 0, 0, 0, 0, 0, 0, 0, 0, 0, 0, 0, 0, 0, 0, 0, 0, 0]\n",
      "delta at job 8 and time 14 is Any[0, 0, 0, 0, 0, 0, 0, 0, 0, 0, 0, 0, 0, 0, 0, 0, 0, 0, 0, 0, 0, 0, 0, 0, 0]\n",
      "delta at job 8 and time 15 is Any[0, 0, 0, 0, 0, 0, 0, 0, 0, 0, 0, 0, 0, 0, 0, 0, 0, 0, 0, 0, 0, 0, 0, 0, 0]\n",
      "delta at job 8 and time 16 is Any[0, 0, 0, 0, 0, 0, 0, 0, 0, 0, 0, 0, 0, 0, 0, 0, 0, 0, 0, 0, 0, 0, 0, 0, 0]\n",
      "delta at job 8 and time 17 is Any[0, 0, 0, 0, 0, 0, 0, 0, 0, 0, 0, 0, 0, 0, 0, 0, 0, 0, 0, 0, 0, 0, 0, 0, 0]\n",
      "delta at job 8 and time 18 is Any[0, 0, 0, 0, 0, 0, 0, 0, 0, 0, 0, 0, 0, 0, 0, 0, 0, 0, 0, 0, 0, 0, 0, 0, 0]\n",
      "delta at job 8 and time 19 is Any[0, 0, 0, 0, 0, 0, 0, 0, 0, 0, 0, 0, 0, 0, 0, 0, 0, 0, 0, 0, 0, 0, 0, 0, 0]\n",
      "delta at job 8 and time 20 is Any[0, 0, 0, 0, 0, 0, 0, 0, 0, 0, 0, 0, 0, 0, 0, 0, 0, 0, 0, 0, 0, 0, 0, 0, 0]\n",
      "delta at job 8 and time 21 is Any[0, 0, 0, 0, 0, 0, 0, 0, 0, 0, 0, 0, 0, 0, 0, 0, 0, 0, 0, 0, 0, 0, 0, 0, 0]\n",
      "delta at job 8 and time 22 is Any[0, 0, 0, 0, 0, 0, 0, 0, 0, 0, 0, 0, 0, 0, 0, 0, 0, 0, 0, 0, 0, 0, 0, 0, 0]\n",
      "delta at job 8 and time 23 is Any[0, 0, 0, 0, 0, 0, 0, 0, 0, 0, 0, 0, 0, 0, 0, 0, 0, 0, 0, 0, 0, 0, 0, 0, 0]\n",
      "delta at job 8 and time 24 is Any[0, 0, 0, 0, 0, 0, 0, 0, 0, 0, 0, 0, 0, 0, 0, 0, 0, 0, 0, 0, 0, 0, 0, 0, 0]\n",
      "delta at job 8 and time 25 is Any[0, 0, 0, 0, 0, 0, 0, 0, 0, 0, 0, 0, 0, 0, 0, 0, 0, 0, 0, 0, 0, 0, 0, 0, 0]\n",
      "delta at job 8 and time 26 is Any[0, 0, 0, 0, 0, 0, 0, 0, 0, 0, 0, 0, 0, 0, 0, 0, 0, 0, 0, 0, 0, 0, 0, 0, 0]\n",
      "delta at job 8 and time 27 is Any[0, 0, 0, 0, 0, 0, 0, 0, 0, 0, 0, 0, 0, 0, 0, 0, 0, 0, 0, 0, 0, 0, 0, 0, 0]\n",
      "delta at job 8 and time 28 is Any[0, 0, 0, 0, 0, 0, 0, 0, 0, 0, 0, 0, 0, 0, 0, 0, 0, 0, 0, 0, 0, 0, 0, 0, 0]\n",
      "delta at job 8 and time 29 is Any[0, 0, 0, 0, 0, 0, 0, 0, 0, 0, 0, 0, 0, 0, 0, 0, 0, 0, 0, 0, 0, 0, 0, 0, 0]\n",
      "delta at job 8 and time 30 is Any[0, 0, 0, 0, 0, 0, 0, 0, 0, 0, 0, 0, 0, 0, 0, 0, 0, 0, 0, 0, 0, 0, 0, 0, 0]\n",
      "delta at job 8 and time 31 is Any[0, 0, 0, 0, 0, 0, 0, 0, 0, 0, 0, 0, 0, 0, 0, 0, 0, 0, 0, 0, 0, 0, 0, 0, 0]\n",
      "delta at job 8 and time 32 is Any[0, 0, 0, 0, 0, 0, 0, 0, 0, 0, 0, 0, 0, 0, 0, 0, 0, 0, 0, 0, 0, 0, 0, 0, 0]\n",
      "delta at job 8 and time 33 is Any[0, 0, 0, 0, 0, 0, 0, 0, 0, 0, 0, 0, 0, 0, 0, 0, 0, 0, 0, 0, 0, 0, 0, 0, 0]\n",
      "delta at job 8 and time 34 is Any[0, 0, 0, 0, 0, 0, 0, 0, 0, 0, 0, 0, 0, 0, 0, 0, 0, 0, 0, 0, 0, 0, 0, 0, 0]\n",
      "delta at job 8 and time 35 is Any[0, 0, 0, 0, 0, 0, 0, 0, 0, 0, 0, 0, 0, 0, 0, 0, 0, 0, 0, 0, 0, 0, 0, 0, 0]\n",
      "delta at job 8 and time 36 is Any[0, 0, 0, 0, 0, 0, 0, 0, 0, 0, 0, 0, 0, 0, 0, 0, 0, 0, 0, 0, 0, 0, 0, 0, 0]\n",
      "delta at job 8 and time 37 is Any[0, 0, 0, 0, 0, 0, 0, 0, 0, 0, 0, 0, 0, 0, 0, 0, 0, 0, 0, 0, 0, 0, 0, 0, 0]\n",
      "delta at job 8 and time 38 is Any[0, 0, 0, 0, 0, 0, 0, 0, 0, 0, 0, 0, 0, 0, 0, 0, 0, 0, 0, 0, 0, 0, 0, 0, 0]\n",
      "delta at job 8 and time 39 is Any[0, 0, 0, 0, 0, 0, 0, 0, 0, 0, 0, 0, 0, 0, 0, 0, 0, 0, 0, 0, 0, 0, 0, 0, 0]\n",
      "delta at job 8 and time 40 is Any[0, 0, 0, 0, 0, 0, 0, 0, 0, 0, 0, 0, 0, 0, 0, 0, 0, 0, 0, 0, 0, 0, 0, 0, 0]\n",
      "delta at job 8 and time 41 is Any[0, 0, 0, 0, 0, 0, 0, 0, 0, 0, 0, 0, 0, 0, 0, 0, 0, 0, 0, 0, 0, 0, 0, 0, 0]\n",
      "delta at job 8 and time 42 is Any[0, 0, 0, 0, 0, 0, 0, 0, 0, 0, 0, 0, 0, 0, 0, 0, 0, 0, 0, 0, 0, 0, 0, 0, 0]\n",
      "delta at job 8 and time 43 is Any[0, 0, 0, 0, 0, 0, 0, 0, 0, 0, 0, 0, 0, 0, 0, 0, 0, 0, 0, 0, 0, 0, 0, 0, 0]\n",
      "delta at job 8 and time 44 is Any[0, 0, 0, 0, 0, 0, 0, 0, 0, 0, 0, 0, 0, 0, 0, 0, 0, 0, 0, 0, 0, 0, 0, 0, 0]\n",
      "delta at job 8 and time 45 is Any[0, 0, 0, 0, 0, 0, 0, 0, 0, 0, 0, 0, 0, 0, 0, 0, 0, 0, 0, 0, 0, 0, 0, 0, 0]\n",
      "\n",
      "delta at job 9 and time 1 is Any[0, 0, 0, 0, 0, 0, 0, 0, 0, 0, 0, 0, 0, 0, 0, 0, 0, 0, 0, 0, 0, 0, 0, 0, 0]\n",
      "delta at job 9 and time 2 is Any[0, 0, 0, 0, 0, 0, 0, 0, 0, 0, 0, 0, 0, 0, 0, 0, 0, 0, 0, 0, 0, 0, 0, 0, 0]\n",
      "delta at job 9 and time 3 is Any[0, 0, 0, 0, 0, 0, 0, 0, 0, 0, 0, 0, 0, 0, 0, 0, 0, 0, 0, 0, 0, 0, 0, 0, 0]\n",
      "delta at job 9 and time 4 is Any[0, 0, 0, 0, 0, 0, 0, 0, 0, 0, 0, 0, 0, 0, 0, 0, 0, 0, 0, 0, 0, 0, 0, 0, 0]\n",
      "delta at job 9 and time 5 is Any[0, 0, 0, 0, 0, 0, 0, 0, 0, 0, 0, 0, 0, 0, 0, 0, 0, 0, 0, 0, 0, 0, 0, 0, 0]\n",
      "delta at job 9 and time 6 is Any[0, 0, 0, 0, 0, 0, 0, 0, 0, 0, 0, 0, 0, 0, 0, 0, 0, 0, 0, 0, 0, 0, 0, 0, 0]\n",
      "delta at job 9 and time 7 is Any[0, 0, 0, 0, 0, 0, 0, 0, 0, 0, 0, 0, 0, 0, 0, 0, 0, 0, 0, 0, 0, 0, 0, 0, 0]\n",
      "delta at job 9 and time 8 is Any[0, 0, 0, 0, 0, 0, 0, 0, 0, 0, 0, 0, 0, 0, 0, 0, 0, 0, 0, 0, 0, 0, 0, 0, 0]\n",
      "delta at job 9 and time 9 is Any[0, 0, 0, 0, 0, 0, 0, 0, 0, 0, 0, 0, 0, 0, 0, 0, 0, 0, 0, 0, 0, 0, 0, 0, 0]\n",
      "delta at job 9 and time 10 is Any[0, 0, 0, 0, 0, 0, 0, 0, 0, 0, 0, 0, 0, 0, 0, 0, 0, 0, 0, 0, 0, 0, 0, 0, 0]\n",
      "delta at job 9 and time 11 is Any[0, 0, 0, 0, 0, 0, 0, 0, 1, 0, 0, 0, 0, 0, 0, 0, 0, 0, 0, 0, 0, 0, 0, 0, 0]\n",
      "delta at job 9 and time 12 is Any[0, 0, 0, 0, 0, 0, 0, 0, 1, 0, 0, 0, 0, 0, 0, 0, 0, 0, 0, 0, 0, 0, 0, 0, 0]\n",
      "delta at job 9 and time 13 is Any[0, 0, 0, 0, 0, 0, 0, 0, 1, 0, 0, 0, 0, 0, 0, 0, 0, 0, 0, 0, 0, 0, 0, 0, 0]\n",
      "delta at job 9 and time 14 is Any[0, 0, 0, 0, 0, 0, 0, 0, 0, 0, 0, 0, 0, 0, 0, 0, 0, 0, 0, 0, 0, 0, 0, 0, 0]\n",
      "delta at job 9 and time 15 is Any[0, 0, 0, 0, 0, 0, 0, 0, 0, 0, 0, 0, 0, 0, 0, 0, 0, 0, 0, 0, 0, 0, 0, 0, 0]\n",
      "delta at job 9 and time 16 is Any[0, 0, 0, 0, 0, 0, 0, 0, 0, 0, 0, 0, 0, 0, 0, 0, 0, 0, 0, 0, 0, 0, 0, 0, 0]\n",
      "delta at job 9 and time 17 is Any[0, 0, 0, 0, 0, 0, 0, 0, 0, 0, 0, 0, 0, 0, 0, 0, 0, 0, 0, 0, 0, 0, 0, 0, 0]\n",
      "delta at job 9 and time 18 is Any[0, 0, 0, 0, 0, 0, 0, 0, 0, 0, 0, 0, 0, 0, 0, 0, 0, 0, 0, 0, 0, 0, 0, 0, 0]\n",
      "delta at job 9 and time 19 is Any[0, 0, 0, 0, 0, 0, 0, 0, 0, 0, 0, 0, 0, 0, 0, 0, 0, 0, 0, 0, 0, 0, 0, 0, 0]\n",
      "delta at job 9 and time 20 is Any[0, 0, 0, 0, 0, 0, 0, 0, 0, 0, 0, 0, 0, 0, 0, 0, 0, 0, 0, 0, 0, 0, 0, 0, 0]\n",
      "delta at job 9 and time 21 is Any[0, 0, 0, 0, 0, 0, 0, 0, 0, 0, 0, 0, 0, 0, 0, 0, 0, 0, 0, 0, 0, 0, 0, 0, 0]\n",
      "delta at job 9 and time 22 is Any[0, 0, 0, 0, 0, 0, 0, 0, 0, 0, 0, 0, 0, 0, 0, 0, 0, 0, 0, 0, 0, 0, 0, 0, 0]\n",
      "delta at job 9 and time 23 is Any[0, 0, 0, 0, 0, 0, 0, 0, 0, 0, 0, 0, 0, 0, 0, 0, 0, 0, 0, 0, 0, 0, 0, 0, 0]\n",
      "delta at job 9 and time 24 is Any[0, 0, 0, 0, 0, 0, 0, 0, 0, 0, 0, 0, 0, 0, 0, 0, 0, 0, 0, 0, 0, 0, 0, 0, 0]\n",
      "delta at job 9 and time 25 is Any[0, 0, 0, 0, 0, 0, 0, 0, 0, 0, 0, 0, 0, 0, 0, 0, 0, 0, 0, 0, 0, 0, 0, 0, 0]\n",
      "delta at job 9 and time 26 is Any[0, 0, 0, 0, 0, 0, 0, 0, 0, 0, 0, 0, 0, 0, 0, 0, 0, 0, 0, 0, 0, 0, 0, 0, 0]\n",
      "delta at job 9 and time 27 is Any[0, 0, 0, 0, 0, 0, 0, 0, 0, 0, 0, 0, 0, 0, 0, 0, 0, 0, 0, 0, 0, 0, 0, 0, 0]\n",
      "delta at job 9 and time 28 is Any[0, 0, 0, 0, 0, 0, 0, 0, 0, 0, 0, 0, 0, 0, 0, 0, 0, 0, 0, 0, 0, 0, 0, 0, 0]\n",
      "delta at job 9 and time 29 is Any[0, 0, 0, 0, 0, 0, 0, 0, 0, 0, 0, 0, 0, 0, 0, 0, 0, 0, 0, 0, 0, 0, 0, 0, 0]\n",
      "delta at job 9 and time 30 is Any[0, 0, 0, 0, 0, 0, 0, 0, 0, 0, 0, 0, 0, 0, 0, 0, 0, 0, 0, 0, 0, 0, 0, 0, 0]\n",
      "delta at job 9 and time 31 is Any[0, 0, 0, 0, 0, 0, 0, 0, 0, 0, 0, 0, 0, 0, 0, 0, 0, 0, 0, 0, 0, 0, 0, 0, 0]\n",
      "delta at job 9 and time 32 is Any[0, 0, 0, 0, 0, 0, 0, 0, 0, 0, 0, 0, 0, 0, 0, 0, 0, 0, 0, 0, 0, 0, 0, 0, 0]\n",
      "delta at job 9 and time 33 is Any[0, 0, 0, 0, 0, 0, 0, 0, 0, 0, 0, 0, 0, 0, 0, 0, 0, 0, 0, 0, 0, 0, 0, 0, 0]\n",
      "delta at job 9 and time 34 is Any[0, 0, 0, 0, 0, 0, 0, 0, 0, 0, 0, 0, 0, 0, 0, 0, 0, 0, 0, 0, 0, 0, 0, 0, 0]\n",
      "delta at job 9 and time 35 is Any[0, 0, 0, 0, 0, 0, 0, 0, 0, 0, 0, 0, 0, 0, 0, 0, 0, 0, 0, 0, 0, 0, 0, 0, 0]\n",
      "delta at job 9 and time 36 is Any[0, 0, 0, 0, 0, 0, 0, 0, 0, 0, 0, 0, 0, 0, 0, 0, 0, 0, 0, 0, 0, 0, 0, 0, 0]\n",
      "delta at job 9 and time 37 is Any[0, 0, 0, 0, 0, 0, 0, 0, 0, 0, 0, 0, 0, 0, 0, 0, 0, 0, 0, 0, 0, 0, 0, 0, 0]\n",
      "delta at job 9 and time 38 is Any[0, 0, 0, 0, 0, 0, 0, 0, 0, 0, 0, 0, 0, 0, 0, 0, 0, 0, 0, 0, 0, 0, 0, 0, 0]\n",
      "delta at job 9 and time 39 is Any[0, 0, 0, 0, 0, 0, 0, 0, 0, 0, 0, 0, 0, 0, 0, 0, 0, 0, 0, 0, 0, 0, 0, 0, 0]\n",
      "delta at job 9 and time 40 is Any[0, 0, 0, 0, 0, 0, 0, 0, 0, 0, 0, 0, 0, 0, 0, 0, 0, 0, 0, 0, 0, 0, 0, 0, 0]\n",
      "delta at job 9 and time 41 is Any[0, 0, 0, 0, 0, 0, 0, 0, 0, 0, 0, 0, 0, 0, 0, 0, 0, 0, 0, 0, 0, 0, 0, 0, 0]\n",
      "delta at job 9 and time 42 is Any[0, 0, 0, 0, 0, 0, 0, 0, 0, 0, 0, 0, 0, 0, 0, 0, 0, 0, 0, 0, 0, 0, 0, 0, 0]\n",
      "delta at job 9 and time 43 is Any[0, 0, 0, 0, 0, 0, 0, 0, 0, 0, 0, 0, 0, 0, 0, 0, 0, 0, 0, 0, 0, 0, 0, 0, 0]\n",
      "delta at job 9 and time 44 is Any[0, 0, 0, 0, 0, 0, 0, 0, 0, 0, 0, 0, 0, 0, 0, 0, 0, 0, 0, 0, 0, 0, 0, 0, 0]\n",
      "delta at job 9 and time 45 is Any[0, 0, 0, 0, 0, 0, 0, 0, 0, 0, 0, 0, 0, 0, 0, 0, 0, 0, 0, 0, 0, 0, 0, 0, 0]\n",
      "\n",
      "delta at job 10 and time 1 is Any[0, 0, 0, 0, 0, 0, 0, 0, 0, 0, 0, 0, 0, 0, 0, 0, 0, 0, 0, 0, 0, 0, 0, 0, 0]\n",
      "delta at job 10 and time 2 is Any[0, 0, 0, 0, 0, 0, 0, 0, 0, 0, 0, 0, 0, 0, 0, 0, 0, 0, 0, 0, 0, 0, 0, 0, 0]\n",
      "delta at job 10 and time 3 is Any[0, 0, 0, 0, 0, 0, 0, 0, 0, 0, 0, 0, 0, 0, 0, 0, 0, 0, 0, 0, 0, 0, 0, 0, 0]\n",
      "delta at job 10 and time 4 is Any[0, 0, 0, 0, 0, 0, 0, 0, 0, 0, 0, 0, 0, 0, 0, 0, 0, 0, 0, 0, 0, 0, 0, 0, 0]\n",
      "delta at job 10 and time 5 is Any[0, 0, 0, 0, 0, 0, 0, 0, 0, 0, 0, 0, 0, 0, 0, 0, 0, 0, 0, 0, 0, 0, 0, 0, 0]\n",
      "delta at job 10 and time 6 is Any[0, 0, 0, 0, 0, 0, 0, 0, 0, 0, 0, 0, 0, 0, 0, 0, 0, 0, 0, 0, 0, 0, 0, 0, 0]\n",
      "delta at job 10 and time 7 is Any[0, 0, 0, 0, 0, 0, 0, 0, 0, 0, 0, 0, 0, 0, 0, 0, 0, 0, 0, 0, 0, 0, 0, 0, 0]\n",
      "delta at job 10 and time 8 is Any[0, 0, 0, 0, 0, 0, 0, 0, 0, 0, 0, 0, 0, 0, 0, 0, 0, 0, 0, 0, 0, 0, 0, 0, 0]\n",
      "delta at job 10 and time 9 is Any[0, 0, 0, 0, 0, 0, 0, 0, 0, 0, 0, 0, 0, 0, 0, 0, 0, 0, 0, 0, 0, 0, 0, 0, 0]\n",
      "delta at job 10 and time 10 is Any[0, 0, 0, 0, 0, 0, 0, 0, 0, 0, 0, 0, 0, 0, 0, 0, 0, 0, 0, 0, 0, 0, 0, 0, 0]\n",
      "delta at job 10 and time 11 is Any[0, 0, 0, 0, 0, 0, 0, 0, 0, 0, 0, 0, 0, 0, 0, 0, 0, 0, 0, 0, 0, 0, 0, 0, 0]\n",
      "delta at job 10 and time 12 is Any[0, 0, 0, 0, 0, 0, 0, 0, 0, 0, 0, 0, 0, 0, 0, 0, 0, 0, 0, 0, 0, 0, 0, 0, 0]\n",
      "delta at job 10 and time 13 is Any[0, 0, 0, 0, 0, 0, 0, 0, 0, 0, 0, 0, 0, 0, 0, 0, 0, 0, 0, 0, 0, 0, 0, 0, 0]\n",
      "delta at job 10 and time 14 is Any[0, 0, 0, 0, 0, 0, 0, 0, 0, 0, 0, 0, 0, 0, 0, 0, 0, 0, 0, 0, 0, 0, 0, 0, 0]\n",
      "delta at job 10 and time 15 is Any[0, 0, 0, 0, 0, 0, 0, 0, 0, 0, 0, 0, 0, 0, 0, 0, 0, 0, 0, 0, 0, 0, 0, 0, 0]\n",
      "delta at job 10 and time 16 is Any[0, 0, 0, 0, 0, 0, 0, 0, 0, 0, 0, 0, 0, 0, 0, 0, 0, 0, 0, 0, 0, 0, 0, 0, 0]\n",
      "delta at job 10 and time 17 is Any[0, 0, 0, 0, 0, 0, 0, 0, 0, 0, 0, 0, 0, 0, 0, 0, 0, 0, 0, 0, 0, 0, 0, 0, 0]\n",
      "delta at job 10 and time 18 is Any[0, 0, 0, 0, 0, 0, 0, 0, 0, 1, 0, 0, 0, 0, 0, 0, 0, 0, 0, 0, 0, 0, 0, 0, 0]\n",
      "delta at job 10 and time 19 is Any[0, 0, 0, 0, 0, 0, 0, 0, 0, 1, 0, 0, 0, 0, 0, 0, 0, 0, 0, 0, 0, 0, 0, 0, 0]\n",
      "delta at job 10 and time 20 is Any[0, 0, 0, 0, 0, 0, 0, 0, 0, 1, 0, 0, 0, 0, 0, 0, 0, 0, 0, 0, 0, 0, 0, 0, 0]\n",
      "delta at job 10 and time 21 is Any[0, 0, 0, 0, 0, 0, 0, 0, 0, 1, 0, 0, 0, 0, 0, 0, 0, 0, 0, 0, 0, 0, 0, 0, 0]\n",
      "delta at job 10 and time 22 is Any[0, 0, 0, 0, 0, 0, 0, 0, 0, 0, 0, 0, 0, 0, 0, 0, 0, 0, 0, 0, 0, 0, 0, 0, 0]\n",
      "delta at job 10 and time 23 is Any[0, 0, 0, 0, 0, 0, 0, 0, 0, 0, 0, 0, 0, 0, 0, 0, 0, 0, 0, 0, 0, 0, 0, 0, 0]\n",
      "delta at job 10 and time 24 is Any[0, 0, 0, 0, 0, 0, 0, 0, 0, 0, 0, 0, 0, 0, 0, 0, 0, 0, 0, 0, 0, 0, 0, 0, 0]\n",
      "delta at job 10 and time 25 is Any[0, 0, 0, 0, 0, 0, 0, 0, 0, 0, 0, 0, 0, 0, 0, 0, 0, 0, 0, 0, 0, 0, 0, 0, 0]\n",
      "delta at job 10 and time 26 is Any[0, 0, 0, 0, 0, 0, 0, 0, 0, 0, 0, 0, 0, 0, 0, 0, 0, 0, 0, 0, 0, 0, 0, 0, 0]\n",
      "delta at job 10 and time 27 is Any[0, 0, 0, 0, 0, 0, 0, 0, 0, 0, 0, 0, 0, 0, 0, 0, 0, 0, 0, 0, 0, 0, 0, 0, 0]\n",
      "delta at job 10 and time 28 is Any[0, 0, 0, 0, 0, 0, 0, 0, 0, 0, 0, 0, 0, 0, 0, 0, 0, 0, 0, 0, 0, 0, 0, 0, 0]\n",
      "delta at job 10 and time 29 is Any[0, 0, 0, 0, 0, 0, 0, 0, 0, 0, 0, 0, 0, 0, 0, 0, 0, 0, 0, 0, 0, 0, 0, 0, 0]\n",
      "delta at job 10 and time 30 is Any[0, 0, 0, 0, 0, 0, 0, 0, 0, 0, 0, 0, 0, 0, 0, 0, 0, 0, 0, 0, 0, 0, 0, 0, 0]\n",
      "delta at job 10 and time 31 is Any[0, 0, 0, 0, 0, 0, 0, 0, 0, 0, 0, 0, 0, 0, 0, 0, 0, 0, 0, 0, 0, 0, 0, 0, 0]\n",
      "delta at job 10 and time 32 is Any[0, 0, 0, 0, 0, 0, 0, 0, 0, 0, 0, 0, 0, 0, 0, 0, 0, 0, 0, 0, 0, 0, 0, 0, 0]\n",
      "delta at job 10 and time 33 is Any[0, 0, 0, 0, 0, 0, 0, 0, 0, 0, 0, 0, 0, 0, 0, 0, 0, 0, 0, 0, 0, 0, 0, 0, 0]\n",
      "delta at job 10 and time 34 is Any[0, 0, 0, 0, 0, 0, 0, 0, 0, 0, 0, 0, 0, 0, 0, 0, 0, 0, 0, 0, 0, 0, 0, 0, 0]\n",
      "delta at job 10 and time 35 is Any[0, 0, 0, 0, 0, 0, 0, 0, 0, 0, 0, 0, 0, 0, 0, 0, 0, 0, 0, 0, 0, 0, 0, 0, 0]\n",
      "delta at job 10 and time 36 is Any[0, 0, 0, 0, 0, 0, 0, 0, 0, 0, 0, 0, 0, 0, 0, 0, 0, 0, 0, 0, 0, 0, 0, 0, 0]\n",
      "delta at job 10 and time 37 is Any[0, 0, 0, 0, 0, 0, 0, 0, 0, 0, 0, 0, 0, 0, 0, 0, 0, 0, 0, 0, 0, 0, 0, 0, 0]\n",
      "delta at job 10 and time 38 is Any[0, 0, 0, 0, 0, 0, 0, 0, 0, 0, 0, 0, 0, 0, 0, 0, 0, 0, 0, 0, 0, 0, 0, 0, 0]\n",
      "delta at job 10 and time 39 is Any[0, 0, 0, 0, 0, 0, 0, 0, 0, 0, 0, 0, 0, 0, 0, 0, 0, 0, 0, 0, 0, 0, 0, 0, 0]\n",
      "delta at job 10 and time 40 is Any[0, 0, 0, 0, 0, 0, 0, 0, 0, 0, 0, 0, 0, 0, 0, 0, 0, 0, 0, 0, 0, 0, 0, 0, 0]\n",
      "delta at job 10 and time 41 is Any[0, 0, 0, 0, 0, 0, 0, 0, 0, 0, 0, 0, 0, 0, 0, 0, 0, 0, 0, 0, 0, 0, 0, 0, 0]\n",
      "delta at job 10 and time 42 is Any[0, 0, 0, 0, 0, 0, 0, 0, 0, 0, 0, 0, 0, 0, 0, 0, 0, 0, 0, 0, 0, 0, 0, 0, 0]\n",
      "delta at job 10 and time 43 is Any[0, 0, 0, 0, 0, 0, 0, 0, 0, 0, 0, 0, 0, 0, 0, 0, 0, 0, 0, 0, 0, 0, 0, 0, 0]\n",
      "delta at job 10 and time 44 is Any[0, 0, 0, 0, 0, 0, 0, 0, 0, 0, 0, 0, 0, 0, 0, 0, 0, 0, 0, 0, 0, 0, 0, 0, 0]\n",
      "delta at job 10 and time 45 is Any[0, 0, 0, 0, 0, 0, 0, 0, 0, 0, 0, 0, 0, 0, 0, 0, 0, 0, 0, 0, 0, 0, 0, 0, 0]\n",
      "\n",
      "delta at job 11 and time 1 is Any[0, 0, 0, 0, 0, 0, 0, 0, 0, 0, 0, 0, 0, 0, 0, 0, 0, 0, 0, 0, 0, 0, 0, 0, 0]\n",
      "delta at job 11 and time 2 is Any[0, 0, 0, 0, 0, 0, 0, 0, 0, 0, 0, 0, 0, 0, 0, 0, 0, 0, 0, 0, 0, 0, 0, 0, 0]\n",
      "delta at job 11 and time 3 is Any[0, 0, 0, 0, 0, 0, 0, 0, 0, 0, 0, 0, 0, 0, 0, 0, 0, 0, 0, 0, 0, 0, 0, 0, 0]\n",
      "delta at job 11 and time 4 is Any[0, 0, 0, 0, 0, 0, 0, 0, 0, 0, 0, 0, 0, 0, 0, 0, 0, 0, 0, 0, 0, 0, 0, 0, 0]\n",
      "delta at job 11 and time 5 is Any[0, 0, 0, 0, 0, 0, 0, 0, 0, 0, 0, 0, 0, 0, 0, 0, 0, 0, 0, 0, 0, 0, 0, 0, 0]\n",
      "delta at job 11 and time 6 is Any[0, 0, 0, 0, 0, 0, 0, 0, 0, 0, 0, 0, 0, 0, 0, 0, 0, 0, 0, 0, 0, 0, 0, 0, 0]\n",
      "delta at job 11 and time 7 is Any[0, 0, 0, 0, 0, 0, 0, 0, 0, 0, 0, 0, 0, 0, 0, 0, 0, 0, 0, 0, 0, 0, 0, 0, 0]\n",
      "delta at job 11 and time 8 is Any[0, 0, 0, 0, 0, 0, 0, 0, 0, 0, 0, 0, 0, 0, 0, 0, 0, 0, 0, 0, 0, 0, 0, 0, 0]\n",
      "delta at job 11 and time 9 is Any[0, 0, 0, 0, 0, 0, 0, 0, 0, 0, 1, 0, 0, 0, 0, 0, 0, 0, 0, 0, 0, 0, 0, 0, 0]\n",
      "delta at job 11 and time 10 is Any[0, 0, 0, 0, 0, 0, 0, 0, 0, 0, 1, 0, 0, 0, 0, 0, 0, 0, 0, 0, 0, 0, 0, 0, 0]\n",
      "delta at job 11 and time 11 is Any[0, 0, 0, 0, 0, 0, 0, 0, 0, 0, 1, 0, 0, 0, 0, 0, 0, 0, 0, 0, 0, 0, 0, 0, 0]\n",
      "delta at job 11 and time 12 is Any[0, 0, 0, 0, 0, 0, 0, 0, 0, 0, 1, 0, 0, 0, 0, 0, 0, 0, 0, 0, 0, 0, 0, 0, 0]\n",
      "delta at job 11 and time 13 is Any[0, 0, 0, 0, 0, 0, 0, 0, 0, 0, 0, 0, 0, 0, 0, 0, 0, 0, 0, 0, 0, 0, 0, 0, 0]\n",
      "delta at job 11 and time 14 is Any[0, 0, 0, 0, 0, 0, 0, 0, 0, 0, 0, 0, 0, 0, 0, 0, 0, 0, 0, 0, 0, 0, 0, 0, 0]\n",
      "delta at job 11 and time 15 is Any[0, 0, 0, 0, 0, 0, 0, 0, 0, 0, 0, 0, 0, 0, 0, 0, 0, 0, 0, 0, 0, 0, 0, 0, 0]\n",
      "delta at job 11 and time 16 is Any[0, 0, 0, 0, 0, 0, 0, 0, 0, 0, 0, 0, 0, 0, 0, 0, 0, 0, 0, 0, 0, 0, 0, 0, 0]\n",
      "delta at job 11 and time 17 is Any[0, 0, 0, 0, 0, 0, 0, 0, 0, 0, 0, 0, 0, 0, 0, 0, 0, 0, 0, 0, 0, 0, 0, 0, 0]\n",
      "delta at job 11 and time 18 is Any[0, 0, 0, 0, 0, 0, 0, 0, 0, 0, 0, 0, 0, 0, 0, 0, 0, 0, 0, 0, 0, 0, 0, 0, 0]\n",
      "delta at job 11 and time 19 is Any[0, 0, 0, 0, 0, 0, 0, 0, 0, 0, 0, 0, 0, 0, 0, 0, 0, 0, 0, 0, 0, 0, 0, 0, 0]\n",
      "delta at job 11 and time 20 is Any[0, 0, 0, 0, 0, 0, 0, 0, 0, 0, 0, 0, 0, 0, 0, 0, 0, 0, 0, 0, 0, 0, 0, 0, 0]\n",
      "delta at job 11 and time 21 is Any[0, 0, 0, 0, 0, 0, 0, 0, 0, 0, 0, 0, 0, 0, 0, 0, 0, 0, 0, 0, 0, 0, 0, 0, 0]\n",
      "delta at job 11 and time 22 is Any[0, 0, 0, 0, 0, 0, 0, 0, 0, 0, 0, 0, 0, 0, 0, 0, 0, 0, 0, 0, 0, 0, 0, 0, 0]\n",
      "delta at job 11 and time 23 is Any[0, 0, 0, 0, 0, 0, 0, 0, 0, 0, 0, 0, 0, 0, 0, 0, 0, 0, 0, 0, 0, 0, 0, 0, 0]\n",
      "delta at job 11 and time 24 is Any[0, 0, 0, 0, 0, 0, 0, 0, 0, 0, 0, 0, 0, 0, 0, 0, 0, 0, 0, 0, 0, 0, 0, 0, 0]\n",
      "delta at job 11 and time 25 is Any[0, 0, 0, 0, 0, 0, 0, 0, 0, 0, 0, 0, 0, 0, 0, 0, 0, 0, 0, 0, 0, 0, 0, 0, 0]\n",
      "delta at job 11 and time 26 is Any[0, 0, 0, 0, 0, 0, 0, 0, 0, 0, 0, 0, 0, 0, 0, 0, 0, 0, 0, 0, 0, 0, 0, 0, 0]\n",
      "delta at job 11 and time 27 is Any[0, 0, 0, 0, 0, 0, 0, 0, 0, 0, 0, 0, 0, 0, 0, 0, 0, 0, 0, 0, 0, 0, 0, 0, 0]\n",
      "delta at job 11 and time 28 is Any[0, 0, 0, 0, 0, 0, 0, 0, 0, 0, 0, 0, 0, 0, 0, 0, 0, 0, 0, 0, 0, 0, 0, 0, 0]\n",
      "delta at job 11 and time 29 is Any[0, 0, 0, 0, 0, 0, 0, 0, 0, 0, 0, 0, 0, 0, 0, 0, 0, 0, 0, 0, 0, 0, 0, 0, 0]\n",
      "delta at job 11 and time 30 is Any[0, 0, 0, 0, 0, 0, 0, 0, 0, 0, 0, 0, 0, 0, 0, 0, 0, 0, 0, 0, 0, 0, 0, 0, 0]\n",
      "delta at job 11 and time 31 is Any[0, 0, 0, 0, 0, 0, 0, 0, 0, 0, 0, 0, 0, 0, 0, 0, 0, 0, 0, 0, 0, 0, 0, 0, 0]\n",
      "delta at job 11 and time 32 is Any[0, 0, 0, 0, 0, 0, 0, 0, 0, 0, 0, 0, 0, 0, 0, 0, 0, 0, 0, 0, 0, 0, 0, 0, 0]\n",
      "delta at job 11 and time 33 is Any[0, 0, 0, 0, 0, 0, 0, 0, 0, 0, 0, 0, 0, 0, 0, 0, 0, 0, 0, 0, 0, 0, 0, 0, 0]\n",
      "delta at job 11 and time 34 is Any[0, 0, 0, 0, 0, 0, 0, 0, 0, 0, 0, 0, 0, 0, 0, 0, 0, 0, 0, 0, 0, 0, 0, 0, 0]\n",
      "delta at job 11 and time 35 is Any[0, 0, 0, 0, 0, 0, 0, 0, 0, 0, 0, 0, 0, 0, 0, 0, 0, 0, 0, 0, 0, 0, 0, 0, 0]\n",
      "delta at job 11 and time 36 is Any[0, 0, 0, 0, 0, 0, 0, 0, 0, 0, 0, 0, 0, 0, 0, 0, 0, 0, 0, 0, 0, 0, 0, 0, 0]\n",
      "delta at job 11 and time 37 is Any[0, 0, 0, 0, 0, 0, 0, 0, 0, 0, 0, 0, 0, 0, 0, 0, 0, 0, 0, 0, 0, 0, 0, 0, 0]\n",
      "delta at job 11 and time 38 is Any[0, 0, 0, 0, 0, 0, 0, 0, 0, 0, 0, 0, 0, 0, 0, 0, 0, 0, 0, 0, 0, 0, 0, 0, 0]\n",
      "delta at job 11 and time 39 is Any[0, 0, 0, 0, 0, 0, 0, 0, 0, 0, 0, 0, 0, 0, 0, 0, 0, 0, 0, 0, 0, 0, 0, 0, 0]\n",
      "delta at job 11 and time 40 is Any[0, 0, 0, 0, 0, 0, 0, 0, 0, 0, 0, 0, 0, 0, 0, 0, 0, 0, 0, 0, 0, 0, 0, 0, 0]\n",
      "delta at job 11 and time 41 is Any[0, 0, 0, 0, 0, 0, 0, 0, 0, 0, 0, 0, 0, 0, 0, 0, 0, 0, 0, 0, 0, 0, 0, 0, 0]\n",
      "delta at job 11 and time 42 is Any[0, 0, 0, 0, 0, 0, 0, 0, 0, 0, 0, 0, 0, 0, 0, 0, 0, 0, 0, 0, 0, 0, 0, 0, 0]\n",
      "delta at job 11 and time 43 is Any[0, 0, 0, 0, 0, 0, 0, 0, 0, 0, 0, 0, 0, 0, 0, 0, 0, 0, 0, 0, 0, 0, 0, 0, 0]\n",
      "delta at job 11 and time 44 is Any[0, 0, 0, 0, 0, 0, 0, 0, 0, 0, 0, 0, 0, 0, 0, 0, 0, 0, 0, 0, 0, 0, 0, 0, 0]\n",
      "delta at job 11 and time 45 is Any[0, 0, 0, 0, 0, 0, 0, 0, 0, 0, 0, 0, 0, 0, 0, 0, 0, 0, 0, 0, 0, 0, 0, 0, 0]\n",
      "\n",
      "delta at job 12 and time 1 is Any[0, 0, 0, 0, 0, 0, 0, 0, 0, 0, 0, 0, 0, 0, 0, 0, 0, 0, 0, 0, 0, 0, 0, 0, 0]\n",
      "delta at job 12 and time 2 is Any[0, 0, 0, 0, 0, 0, 0, 0, 0, 0, 0, 0, 0, 0, 0, 0, 0, 0, 0, 0, 0, 0, 0, 0, 0]\n",
      "delta at job 12 and time 3 is Any[0, 0, 0, 0, 0, 0, 0, 0, 0, 0, 0, 0, 0, 0, 0, 0, 0, 0, 0, 0, 0, 0, 0, 0, 0]\n",
      "delta at job 12 and time 4 is Any[0, 0, 0, 0, 0, 0, 0, 0, 0, 0, 0, 0, 0, 0, 0, 0, 0, 0, 0, 0, 0, 0, 0, 0, 0]\n",
      "delta at job 12 and time 5 is Any[0, 0, 0, 0, 0, 0, 0, 0, 0, 0, 0, 0, 0, 0, 0, 0, 0, 0, 0, 0, 0, 0, 0, 0, 0]\n",
      "delta at job 12 and time 6 is Any[0, 0, 0, 0, 0, 0, 0, 0, 0, 0, 0, 0, 0, 0, 0, 0, 0, 0, 0, 0, 0, 0, 0, 0, 0]\n",
      "delta at job 12 and time 7 is Any[0, 0, 0, 0, 0, 0, 0, 0, 0, 0, 0, 0, 0, 0, 0, 0, 0, 0, 0, 0, 0, 0, 0, 0, 0]\n",
      "delta at job 12 and time 8 is Any[0, 0, 0, 0, 0, 0, 0, 0, 0, 0, 0, 0, 0, 0, 0, 0, 0, 0, 0, 0, 0, 0, 0, 0, 0]\n",
      "delta at job 12 and time 9 is Any[0, 0, 0, 0, 0, 0, 0, 0, 0, 0, 0, 0, 0, 0, 0, 0, 0, 0, 0, 0, 0, 0, 0, 0, 0]\n",
      "delta at job 12 and time 10 is Any[0, 0, 0, 0, 0, 0, 0, 0, 0, 0, 0, 0, 0, 0, 0, 0, 0, 0, 0, 0, 0, 0, 0, 0, 0]\n",
      "delta at job 12 and time 11 is Any[0, 0, 0, 0, 0, 0, 0, 0, 0, 0, 0, 0, 0, 0, 0, 0, 0, 0, 0, 0, 0, 0, 0, 0, 0]\n",
      "delta at job 12 and time 12 is Any[0, 0, 0, 0, 0, 0, 0, 0, 0, 0, 0, 0, 0, 0, 0, 0, 0, 0, 0, 0, 0, 0, 0, 0, 0]\n",
      "delta at job 12 and time 13 is Any[0, 0, 0, 0, 0, 0, 0, 0, 0, 0, 0, 0, 0, 0, 0, 0, 0, 0, 0, 0, 0, 0, 0, 0, 0]\n",
      "delta at job 12 and time 14 is Any[0, 0, 0, 0, 0, 0, 0, 0, 0, 0, 0, 1, 0, 0, 0, 0, 0, 0, 0, 0, 0, 0, 0, 0, 0]\n",
      "delta at job 12 and time 15 is Any[0, 0, 0, 0, 0, 0, 0, 0, 0, 0, 0, 1, 0, 0, 0, 0, 0, 0, 0, 0, 0, 0, 0, 0, 0]\n",
      "delta at job 12 and time 16 is Any[0, 0, 0, 0, 0, 0, 0, 0, 0, 0, 0, 1, 0, 0, 0, 0, 0, 0, 0, 0, 0, 0, 0, 0, 0]\n",
      "delta at job 12 and time 17 is Any[0, 0, 0, 0, 0, 0, 0, 0, 0, 0, 0, 0, 0, 0, 0, 0, 0, 0, 0, 0, 0, 0, 0, 0, 0]\n",
      "delta at job 12 and time 18 is Any[0, 0, 0, 0, 0, 0, 0, 0, 0, 0, 0, 0, 0, 0, 0, 0, 0, 0, 0, 0, 0, 0, 0, 0, 0]\n",
      "delta at job 12 and time 19 is Any[0, 0, 0, 0, 0, 0, 0, 0, 0, 0, 0, 0, 0, 0, 0, 0, 0, 0, 0, 0, 0, 0, 0, 0, 0]\n",
      "delta at job 12 and time 20 is Any[0, 0, 0, 0, 0, 0, 0, 0, 0, 0, 0, 0, 0, 0, 0, 0, 0, 0, 0, 0, 0, 0, 0, 0, 0]\n",
      "delta at job 12 and time 21 is Any[0, 0, 0, 0, 0, 0, 0, 0, 0, 0, 0, 0, 0, 0, 0, 0, 0, 0, 0, 0, 0, 0, 0, 0, 0]\n",
      "delta at job 12 and time 22 is Any[0, 0, 0, 0, 0, 0, 0, 0, 0, 0, 0, 0, 0, 0, 0, 0, 0, 0, 0, 0, 0, 0, 0, 0, 0]\n",
      "delta at job 12 and time 23 is Any[0, 0, 0, 0, 0, 0, 0, 0, 0, 0, 0, 0, 0, 0, 0, 0, 0, 0, 0, 0, 0, 0, 0, 0, 0]\n",
      "delta at job 12 and time 24 is Any[0, 0, 0, 0, 0, 0, 0, 0, 0, 0, 0, 0, 0, 0, 0, 0, 0, 0, 0, 0, 0, 0, 0, 0, 0]\n",
      "delta at job 12 and time 25 is Any[0, 0, 0, 0, 0, 0, 0, 0, 0, 0, 0, 0, 0, 0, 0, 0, 0, 0, 0, 0, 0, 0, 0, 0, 0]\n",
      "delta at job 12 and time 26 is Any[0, 0, 0, 0, 0, 0, 0, 0, 0, 0, 0, 0, 0, 0, 0, 0, 0, 0, 0, 0, 0, 0, 0, 0, 0]\n",
      "delta at job 12 and time 27 is Any[0, 0, 0, 0, 0, 0, 0, 0, 0, 0, 0, 0, 0, 0, 0, 0, 0, 0, 0, 0, 0, 0, 0, 0, 0]\n",
      "delta at job 12 and time 28 is Any[0, 0, 0, 0, 0, 0, 0, 0, 0, 0, 0, 0, 0, 0, 0, 0, 0, 0, 0, 0, 0, 0, 0, 0, 0]\n",
      "delta at job 12 and time 29 is Any[0, 0, 0, 0, 0, 0, 0, 0, 0, 0, 0, 0, 0, 0, 0, 0, 0, 0, 0, 0, 0, 0, 0, 0, 0]\n",
      "delta at job 12 and time 30 is Any[0, 0, 0, 0, 0, 0, 0, 0, 0, 0, 0, 0, 0, 0, 0, 0, 0, 0, 0, 0, 0, 0, 0, 0, 0]\n",
      "delta at job 12 and time 31 is Any[0, 0, 0, 0, 0, 0, 0, 0, 0, 0, 0, 0, 0, 0, 0, 0, 0, 0, 0, 0, 0, 0, 0, 0, 0]\n",
      "delta at job 12 and time 32 is Any[0, 0, 0, 0, 0, 0, 0, 0, 0, 0, 0, 0, 0, 0, 0, 0, 0, 0, 0, 0, 0, 0, 0, 0, 0]\n",
      "delta at job 12 and time 33 is Any[0, 0, 0, 0, 0, 0, 0, 0, 0, 0, 0, 0, 0, 0, 0, 0, 0, 0, 0, 0, 0, 0, 0, 0, 0]\n",
      "delta at job 12 and time 34 is Any[0, 0, 0, 0, 0, 0, 0, 0, 0, 0, 0, 0, 0, 0, 0, 0, 0, 0, 0, 0, 0, 0, 0, 0, 0]\n",
      "delta at job 12 and time 35 is Any[0, 0, 0, 0, 0, 0, 0, 0, 0, 0, 0, 0, 0, 0, 0, 0, 0, 0, 0, 0, 0, 0, 0, 0, 0]\n",
      "delta at job 12 and time 36 is Any[0, 0, 0, 0, 0, 0, 0, 0, 0, 0, 0, 0, 0, 0, 0, 0, 0, 0, 0, 0, 0, 0, 0, 0, 0]\n",
      "delta at job 12 and time 37 is Any[0, 0, 0, 0, 0, 0, 0, 0, 0, 0, 0, 0, 0, 0, 0, 0, 0, 0, 0, 0, 0, 0, 0, 0, 0]\n",
      "delta at job 12 and time 38 is Any[0, 0, 0, 0, 0, 0, 0, 0, 0, 0, 0, 0, 0, 0, 0, 0, 0, 0, 0, 0, 0, 0, 0, 0, 0]\n",
      "delta at job 12 and time 39 is Any[0, 0, 0, 0, 0, 0, 0, 0, 0, 0, 0, 0, 0, 0, 0, 0, 0, 0, 0, 0, 0, 0, 0, 0, 0]\n",
      "delta at job 12 and time 40 is Any[0, 0, 0, 0, 0, 0, 0, 0, 0, 0, 0, 0, 0, 0, 0, 0, 0, 0, 0, 0, 0, 0, 0, 0, 0]\n",
      "delta at job 12 and time 41 is Any[0, 0, 0, 0, 0, 0, 0, 0, 0, 0, 0, 0, 0, 0, 0, 0, 0, 0, 0, 0, 0, 0, 0, 0, 0]\n",
      "delta at job 12 and time 42 is Any[0, 0, 0, 0, 0, 0, 0, 0, 0, 0, 0, 0, 0, 0, 0, 0, 0, 0, 0, 0, 0, 0, 0, 0, 0]\n",
      "delta at job 12 and time 43 is Any[0, 0, 0, 0, 0, 0, 0, 0, 0, 0, 0, 0, 0, 0, 0, 0, 0, 0, 0, 0, 0, 0, 0, 0, 0]\n",
      "delta at job 12 and time 44 is Any[0, 0, 0, 0, 0, 0, 0, 0, 0, 0, 0, 0, 0, 0, 0, 0, 0, 0, 0, 0, 0, 0, 0, 0, 0]\n",
      "delta at job 12 and time 45 is Any[0, 0, 0, 0, 0, 0, 0, 0, 0, 0, 0, 0, 0, 0, 0, 0, 0, 0, 0, 0, 0, 0, 0, 0, 0]\n",
      "\n",
      "delta at job 13 and time 1 is Any[0, 0, 0, 0, 0, 0, 0, 0, 0, 0, 0, 0, 0, 0, 0, 0, 0, 0, 0, 0, 0, 0, 0, 0, 0]\n",
      "delta at job 13 and time 2 is Any[0, 0, 0, 0, 0, 0, 0, 0, 0, 0, 0, 0, 0, 0, 0, 0, 0, 0, 0, 0, 0, 0, 0, 0, 0]\n",
      "delta at job 13 and time 3 is Any[0, 0, 0, 0, 0, 0, 0, 0, 0, 0, 0, 0, 0, 0, 0, 0, 0, 0, 0, 0, 0, 0, 0, 0, 0]\n",
      "delta at job 13 and time 4 is Any[0, 0, 0, 0, 0, 0, 0, 0, 0, 0, 0, 0, 0, 0, 0, 0, 0, 0, 0, 0, 0, 0, 0, 0, 0]\n",
      "delta at job 13 and time 5 is Any[0, 0, 0, 0, 0, 0, 0, 0, 0, 0, 0, 0, 0, 0, 0, 0, 0, 0, 0, 0, 0, 0, 0, 0, 0]\n",
      "delta at job 13 and time 6 is Any[0, 0, 0, 0, 0, 0, 0, 0, 0, 0, 0, 0, 0, 0, 0, 0, 0, 0, 0, 0, 0, 0, 0, 0, 0]\n",
      "delta at job 13 and time 7 is Any[0, 0, 0, 0, 0, 0, 0, 0, 0, 0, 0, 0, 0, 0, 0, 0, 0, 0, 0, 0, 0, 0, 0, 0, 0]\n",
      "delta at job 13 and time 8 is Any[0, 0, 0, 0, 0, 0, 0, 0, 0, 0, 0, 0, 0, 0, 0, 0, 0, 0, 0, 0, 0, 0, 0, 0, 0]\n",
      "delta at job 13 and time 9 is Any[0, 0, 0, 0, 0, 0, 0, 0, 0, 0, 0, 0, 0, 0, 0, 0, 0, 0, 0, 0, 0, 0, 0, 0, 0]\n",
      "delta at job 13 and time 10 is Any[0, 0, 0, 0, 0, 0, 0, 0, 0, 0, 0, 0, 0, 0, 0, 0, 0, 0, 0, 0, 0, 0, 0, 0, 0]\n",
      "delta at job 13 and time 11 is Any[0, 0, 0, 0, 0, 0, 0, 0, 0, 0, 0, 0, 0, 0, 0, 0, 0, 0, 0, 0, 0, 0, 0, 0, 0]\n",
      "delta at job 13 and time 12 is Any[0, 0, 0, 0, 0, 0, 0, 0, 0, 0, 0, 0, 0, 0, 0, 0, 0, 0, 0, 0, 0, 0, 0, 0, 0]\n",
      "delta at job 13 and time 13 is Any[0, 0, 0, 0, 0, 0, 0, 0, 0, 0, 0, 0, 0, 0, 0, 0, 0, 0, 0, 0, 0, 0, 0, 0, 0]\n",
      "delta at job 13 and time 14 is Any[0, 0, 0, 0, 0, 0, 0, 0, 0, 0, 0, 0, 0, 0, 0, 0, 0, 0, 0, 0, 0, 0, 0, 0, 0]\n",
      "delta at job 13 and time 15 is Any[0, 0, 0, 0, 0, 0, 0, 0, 0, 0, 0, 0, 0, 0, 0, 0, 0, 0, 0, 0, 0, 0, 0, 0, 0]\n",
      "delta at job 13 and time 16 is Any[0, 0, 0, 0, 0, 0, 0, 0, 0, 0, 0, 0, 0, 0, 0, 0, 0, 0, 0, 0, 0, 0, 0, 0, 0]\n",
      "delta at job 13 and time 17 is Any[0, 0, 0, 0, 0, 0, 0, 0, 0, 0, 0, 0, 0, 0, 0, 0, 0, 0, 0, 0, 0, 0, 0, 0, 0]\n",
      "delta at job 13 and time 18 is Any[0, 0, 0, 0, 0, 0, 0, 0, 0, 0, 0, 0, 0, 0, 0, 0, 0, 0, 0, 0, 0, 0, 0, 0, 0]\n",
      "delta at job 13 and time 19 is Any[0, 0, 0, 0, 0, 0, 0, 0, 0, 0, 0, 0, 0, 0, 0, 0, 0, 0, 0, 0, 0, 0, 0, 0, 0]\n",
      "delta at job 13 and time 20 is Any[0, 0, 0, 0, 0, 0, 0, 0, 0, 0, 0, 0, 0, 0, 0, 0, 0, 0, 0, 0, 0, 0, 0, 0, 0]\n",
      "delta at job 13 and time 21 is Any[0, 0, 0, 0, 0, 0, 0, 0, 0, 0, 0, 0, 1, 0, 0, 0, 0, 0, 0, 0, 0, 0, 0, 0, 0]\n",
      "delta at job 13 and time 22 is Any[0, 0, 0, 0, 0, 0, 0, 0, 0, 0, 0, 0, 1, 0, 0, 0, 0, 0, 0, 0, 0, 0, 0, 0, 0]\n",
      "delta at job 13 and time 23 is Any[0, 0, 0, 0, 0, 0, 0, 0, 0, 0, 0, 0, 1, 0, 0, 0, 0, 0, 0, 0, 0, 0, 0, 0, 0]\n",
      "delta at job 13 and time 24 is Any[0, 0, 0, 0, 0, 0, 0, 0, 0, 0, 0, 0, 0, 0, 0, 0, 0, 0, 0, 0, 0, 0, 0, 0, 0]\n",
      "delta at job 13 and time 25 is Any[0, 0, 0, 0, 0, 0, 0, 0, 0, 0, 0, 0, 0, 0, 0, 0, 0, 0, 0, 0, 0, 0, 0, 0, 0]\n",
      "delta at job 13 and time 26 is Any[0, 0, 0, 0, 0, 0, 0, 0, 0, 0, 0, 0, 0, 0, 0, 0, 0, 0, 0, 0, 0, 0, 0, 0, 0]\n",
      "delta at job 13 and time 27 is Any[0, 0, 0, 0, 0, 0, 0, 0, 0, 0, 0, 0, 0, 0, 0, 0, 0, 0, 0, 0, 0, 0, 0, 0, 0]\n",
      "delta at job 13 and time 28 is Any[0, 0, 0, 0, 0, 0, 0, 0, 0, 0, 0, 0, 0, 0, 0, 0, 0, 0, 0, 0, 0, 0, 0, 0, 0]\n",
      "delta at job 13 and time 29 is Any[0, 0, 0, 0, 0, 0, 0, 0, 0, 0, 0, 0, 0, 0, 0, 0, 0, 0, 0, 0, 0, 0, 0, 0, 0]\n",
      "delta at job 13 and time 30 is Any[0, 0, 0, 0, 0, 0, 0, 0, 0, 0, 0, 0, 0, 0, 0, 0, 0, 0, 0, 0, 0, 0, 0, 0, 0]\n",
      "delta at job 13 and time 31 is Any[0, 0, 0, 0, 0, 0, 0, 0, 0, 0, 0, 0, 0, 0, 0, 0, 0, 0, 0, 0, 0, 0, 0, 0, 0]\n",
      "delta at job 13 and time 32 is Any[0, 0, 0, 0, 0, 0, 0, 0, 0, 0, 0, 0, 0, 0, 0, 0, 0, 0, 0, 0, 0, 0, 0, 0, 0]\n",
      "delta at job 13 and time 33 is Any[0, 0, 0, 0, 0, 0, 0, 0, 0, 0, 0, 0, 0, 0, 0, 0, 0, 0, 0, 0, 0, 0, 0, 0, 0]\n",
      "delta at job 13 and time 34 is Any[0, 0, 0, 0, 0, 0, 0, 0, 0, 0, 0, 0, 0, 0, 0, 0, 0, 0, 0, 0, 0, 0, 0, 0, 0]\n",
      "delta at job 13 and time 35 is Any[0, 0, 0, 0, 0, 0, 0, 0, 0, 0, 0, 0, 0, 0, 0, 0, 0, 0, 0, 0, 0, 0, 0, 0, 0]\n",
      "delta at job 13 and time 36 is Any[0, 0, 0, 0, 0, 0, 0, 0, 0, 0, 0, 0, 0, 0, 0, 0, 0, 0, 0, 0, 0, 0, 0, 0, 0]\n",
      "delta at job 13 and time 37 is Any[0, 0, 0, 0, 0, 0, 0, 0, 0, 0, 0, 0, 0, 0, 0, 0, 0, 0, 0, 0, 0, 0, 0, 0, 0]\n",
      "delta at job 13 and time 38 is Any[0, 0, 0, 0, 0, 0, 0, 0, 0, 0, 0, 0, 0, 0, 0, 0, 0, 0, 0, 0, 0, 0, 0, 0, 0]\n",
      "delta at job 13 and time 39 is Any[0, 0, 0, 0, 0, 0, 0, 0, 0, 0, 0, 0, 0, 0, 0, 0, 0, 0, 0, 0, 0, 0, 0, 0, 0]\n",
      "delta at job 13 and time 40 is Any[0, 0, 0, 0, 0, 0, 0, 0, 0, 0, 0, 0, 0, 0, 0, 0, 0, 0, 0, 0, 0, 0, 0, 0, 0]\n",
      "delta at job 13 and time 41 is Any[0, 0, 0, 0, 0, 0, 0, 0, 0, 0, 0, 0, 0, 0, 0, 0, 0, 0, 0, 0, 0, 0, 0, 0, 0]\n",
      "delta at job 13 and time 42 is Any[0, 0, 0, 0, 0, 0, 0, 0, 0, 0, 0, 0, 0, 0, 0, 0, 0, 0, 0, 0, 0, 0, 0, 0, 0]\n",
      "delta at job 13 and time 43 is Any[0, 0, 0, 0, 0, 0, 0, 0, 0, 0, 0, 0, 0, 0, 0, 0, 0, 0, 0, 0, 0, 0, 0, 0, 0]\n",
      "delta at job 13 and time 44 is Any[0, 0, 0, 0, 0, 0, 0, 0, 0, 0, 0, 0, 0, 0, 0, 0, 0, 0, 0, 0, 0, 0, 0, 0, 0]\n",
      "delta at job 13 and time 45 is Any[0, 0, 0, 0, 0, 0, 0, 0, 0, 0, 0, 0, 0, 0, 0, 0, 0, 0, 0, 0, 0, 0, 0, 0, 0]\n",
      "\n",
      "delta at job 14 and time 1 is Any[0, 0, 0, 0, 0, 0, 0, 0, 0, 0, 0, 0, 0, 0, 0, 0, 0, 0, 0, 0, 0, 0, 0, 0, 0]\n",
      "delta at job 14 and time 2 is Any[0, 0, 0, 0, 0, 0, 0, 0, 0, 0, 0, 0, 0, 0, 0, 0, 0, 0, 0, 0, 0, 0, 0, 0, 0]\n",
      "delta at job 14 and time 3 is Any[0, 0, 0, 0, 0, 0, 0, 0, 0, 0, 0, 0, 0, 0, 0, 0, 0, 0, 0, 0, 0, 0, 0, 0, 0]\n",
      "delta at job 14 and time 4 is Any[0, 0, 0, 0, 0, 0, 0, 0, 0, 0, 0, 0, 0, 0, 0, 0, 0, 0, 0, 0, 0, 0, 0, 0, 0]\n",
      "delta at job 14 and time 5 is Any[0, 0, 0, 0, 0, 0, 0, 0, 0, 0, 0, 0, 0, 0, 0, 0, 0, 0, 0, 0, 0, 0, 0, 0, 0]\n",
      "delta at job 14 and time 6 is Any[0, 0, 0, 0, 0, 0, 0, 0, 0, 0, 0, 0, 0, 0, 0, 0, 0, 0, 0, 0, 0, 0, 0, 0, 0]\n",
      "delta at job 14 and time 7 is Any[0, 0, 0, 0, 0, 0, 0, 0, 0, 0, 0, 0, 0, 0, 0, 0, 0, 0, 0, 0, 0, 0, 0, 0, 0]\n",
      "delta at job 14 and time 8 is Any[0, 0, 0, 0, 0, 0, 0, 0, 0, 0, 0, 0, 0, 0, 0, 0, 0, 0, 0, 0, 0, 0, 0, 0, 0]\n",
      "delta at job 14 and time 9 is Any[0, 0, 0, 0, 0, 0, 0, 0, 0, 0, 0, 0, 0, 0, 0, 0, 0, 0, 0, 0, 0, 0, 0, 0, 0]\n",
      "delta at job 14 and time 10 is Any[0, 0, 0, 0, 0, 0, 0, 0, 0, 0, 0, 0, 0, 0, 0, 0, 0, 0, 0, 0, 0, 0, 0, 0, 0]\n",
      "delta at job 14 and time 11 is Any[0, 0, 0, 0, 0, 0, 0, 0, 0, 0, 0, 0, 0, 0, 0, 0, 0, 0, 0, 0, 0, 0, 0, 0, 0]\n",
      "delta at job 14 and time 12 is Any[0, 0, 0, 0, 0, 0, 0, 0, 0, 0, 0, 0, 0, 0, 0, 0, 0, 0, 0, 0, 0, 0, 0, 0, 0]\n",
      "delta at job 14 and time 13 is Any[0, 0, 0, 0, 0, 0, 0, 0, 0, 0, 0, 0, 0, 0, 0, 0, 0, 0, 0, 0, 0, 0, 0, 0, 0]\n",
      "delta at job 14 and time 14 is Any[0, 0, 0, 0, 0, 0, 0, 0, 0, 0, 0, 0, 0, 0, 0, 0, 0, 0, 0, 0, 0, 0, 0, 0, 0]\n",
      "delta at job 14 and time 15 is Any[0, 0, 0, 0, 0, 0, 0, 0, 0, 0, 0, 0, 0, 0, 0, 0, 0, 0, 0, 0, 0, 0, 0, 0, 0]\n",
      "delta at job 14 and time 16 is Any[0, 0, 0, 0, 0, 0, 0, 0, 0, 0, 0, 0, 0, 0, 0, 0, 0, 0, 0, 0, 0, 0, 0, 0, 0]\n",
      "delta at job 14 and time 17 is Any[0, 0, 0, 0, 0, 0, 0, 0, 0, 0, 0, 0, 0, 0, 0, 0, 0, 0, 0, 0, 0, 0, 0, 0, 0]\n",
      "delta at job 14 and time 18 is Any[0, 0, 0, 0, 0, 0, 0, 0, 0, 0, 0, 0, 0, 0, 0, 0, 0, 0, 0, 0, 0, 0, 0, 0, 0]\n",
      "delta at job 14 and time 19 is Any[0, 0, 0, 0, 0, 0, 0, 0, 0, 0, 0, 0, 0, 0, 0, 0, 0, 0, 0, 0, 0, 0, 0, 0, 0]\n",
      "delta at job 14 and time 20 is Any[0, 0, 0, 0, 0, 0, 0, 0, 0, 0, 0, 0, 0, 0, 0, 0, 0, 0, 0, 0, 0, 0, 0, 0, 0]\n",
      "delta at job 14 and time 21 is Any[0, 0, 0, 0, 0, 0, 0, 0, 0, 0, 0, 0, 0, 0, 0, 0, 0, 0, 0, 0, 0, 0, 0, 0, 0]\n",
      "delta at job 14 and time 22 is Any[0, 0, 0, 0, 0, 0, 0, 0, 0, 0, 0, 0, 0, 0, 0, 0, 0, 0, 0, 0, 0, 0, 0, 0, 0]\n",
      "delta at job 14 and time 23 is Any[0, 0, 0, 0, 0, 0, 0, 0, 0, 0, 0, 0, 0, 0, 0, 0, 0, 0, 0, 0, 0, 0, 0, 0, 0]\n",
      "delta at job 14 and time 24 is Any[0, 0, 0, 0, 0, 0, 0, 0, 0, 0, 0, 0, 0, 0, 0, 0, 0, 0, 0, 0, 0, 0, 0, 0, 0]\n",
      "delta at job 14 and time 25 is Any[0, 0, 0, 0, 0, 0, 0, 0, 0, 0, 0, 0, 0, 0, 0, 0, 0, 0, 0, 0, 0, 0, 0, 0, 0]\n",
      "delta at job 14 and time 26 is Any[0, 0, 0, 0, 0, 0, 0, 0, 0, 0, 0, 0, 0, 0, 0, 0, 0, 0, 0, 0, 0, 0, 0, 0, 0]\n",
      "delta at job 14 and time 27 is Any[0, 0, 0, 0, 0, 0, 0, 0, 0, 0, 0, 0, 0, 1, 0, 0, 0, 0, 0, 0, 0, 0, 0, 0, 0]\n",
      "delta at job 14 and time 28 is Any[0, 0, 0, 0, 0, 0, 0, 0, 0, 0, 0, 0, 0, 1, 0, 0, 0, 0, 0, 0, 0, 0, 0, 0, 0]\n",
      "delta at job 14 and time 29 is Any[0, 0, 0, 0, 0, 0, 0, 0, 0, 0, 0, 0, 0, 0, 0, 0, 0, 0, 0, 0, 0, 0, 0, 0, 0]\n",
      "delta at job 14 and time 30 is Any[0, 0, 0, 0, 0, 0, 0, 0, 0, 0, 0, 0, 0, 0, 0, 0, 0, 0, 0, 0, 0, 0, 0, 0, 0]\n",
      "delta at job 14 and time 31 is Any[0, 0, 0, 0, 0, 0, 0, 0, 0, 0, 0, 0, 0, 0, 0, 0, 0, 0, 0, 0, 0, 0, 0, 0, 0]\n",
      "delta at job 14 and time 32 is Any[0, 0, 0, 0, 0, 0, 0, 0, 0, 0, 0, 0, 0, 0, 0, 0, 0, 0, 0, 0, 0, 0, 0, 0, 0]\n",
      "delta at job 14 and time 33 is Any[0, 0, 0, 0, 0, 0, 0, 0, 0, 0, 0, 0, 0, 0, 0, 0, 0, 0, 0, 0, 0, 0, 0, 0, 0]\n",
      "delta at job 14 and time 34 is Any[0, 0, 0, 0, 0, 0, 0, 0, 0, 0, 0, 0, 0, 0, 0, 0, 0, 0, 0, 0, 0, 0, 0, 0, 0]\n",
      "delta at job 14 and time 35 is Any[0, 0, 0, 0, 0, 0, 0, 0, 0, 0, 0, 0, 0, 0, 0, 0, 0, 0, 0, 0, 0, 0, 0, 0, 0]\n",
      "delta at job 14 and time 36 is Any[0, 0, 0, 0, 0, 0, 0, 0, 0, 0, 0, 0, 0, 0, 0, 0, 0, 0, 0, 0, 0, 0, 0, 0, 0]\n",
      "delta at job 14 and time 37 is Any[0, 0, 0, 0, 0, 0, 0, 0, 0, 0, 0, 0, 0, 0, 0, 0, 0, 0, 0, 0, 0, 0, 0, 0, 0]\n",
      "delta at job 14 and time 38 is Any[0, 0, 0, 0, 0, 0, 0, 0, 0, 0, 0, 0, 0, 0, 0, 0, 0, 0, 0, 0, 0, 0, 0, 0, 0]\n",
      "delta at job 14 and time 39 is Any[0, 0, 0, 0, 0, 0, 0, 0, 0, 0, 0, 0, 0, 0, 0, 0, 0, 0, 0, 0, 0, 0, 0, 0, 0]\n",
      "delta at job 14 and time 40 is Any[0, 0, 0, 0, 0, 0, 0, 0, 0, 0, 0, 0, 0, 0, 0, 0, 0, 0, 0, 0, 0, 0, 0, 0, 0]\n",
      "delta at job 14 and time 41 is Any[0, 0, 0, 0, 0, 0, 0, 0, 0, 0, 0, 0, 0, 0, 0, 0, 0, 0, 0, 0, 0, 0, 0, 0, 0]\n",
      "delta at job 14 and time 42 is Any[0, 0, 0, 0, 0, 0, 0, 0, 0, 0, 0, 0, 0, 0, 0, 0, 0, 0, 0, 0, 0, 0, 0, 0, 0]\n",
      "delta at job 14 and time 43 is Any[0, 0, 0, 0, 0, 0, 0, 0, 0, 0, 0, 0, 0, 0, 0, 0, 0, 0, 0, 0, 0, 0, 0, 0, 0]\n",
      "delta at job 14 and time 44 is Any[0, 0, 0, 0, 0, 0, 0, 0, 0, 0, 0, 0, 0, 0, 0, 0, 0, 0, 0, 0, 0, 0, 0, 0, 0]\n",
      "delta at job 14 and time 45 is Any[0, 0, 0, 0, 0, 0, 0, 0, 0, 0, 0, 0, 0, 0, 0, 0, 0, 0, 0, 0, 0, 0, 0, 0, 0]\n",
      "\n",
      "delta at job 15 and time 1 is Any[0, 0, 0, 0, 0, 0, 0, 0, 0, 0, 0, 0, 0, 0, 0, 0, 0, 0, 0, 0, 0, 0, 0, 0, 0]\n",
      "delta at job 15 and time 2 is Any[0, 0, 0, 0, 0, 0, 0, 0, 0, 0, 0, 0, 0, 0, 0, 0, 0, 0, 0, 0, 0, 0, 0, 0, 0]\n",
      "delta at job 15 and time 3 is Any[0, 0, 0, 0, 0, 0, 0, 0, 0, 0, 0, 0, 0, 0, 0, 0, 0, 0, 0, 0, 0, 0, 0, 0, 0]\n",
      "delta at job 15 and time 4 is Any[0, 0, 0, 0, 0, 0, 0, 0, 0, 0, 0, 0, 0, 0, 0, 0, 0, 0, 0, 0, 0, 0, 0, 0, 0]\n",
      "delta at job 15 and time 5 is Any[0, 0, 0, 0, 0, 0, 0, 0, 0, 0, 0, 0, 0, 0, 0, 0, 0, 0, 0, 0, 0, 0, 0, 0, 0]\n",
      "delta at job 15 and time 6 is Any[0, 0, 0, 0, 0, 0, 0, 0, 0, 0, 0, 0, 0, 0, 0, 0, 0, 0, 0, 0, 0, 0, 0, 0, 0]\n",
      "delta at job 15 and time 7 is Any[0, 0, 0, 0, 0, 0, 0, 0, 0, 0, 0, 0, 0, 0, 0, 0, 0, 0, 0, 0, 0, 0, 0, 0, 0]\n",
      "delta at job 15 and time 8 is Any[0, 0, 0, 0, 0, 0, 0, 0, 0, 0, 0, 0, 0, 0, 0, 0, 0, 0, 0, 0, 0, 0, 0, 0, 0]\n",
      "delta at job 15 and time 9 is Any[0, 0, 0, 0, 0, 0, 0, 0, 0, 0, 0, 0, 0, 0, 0, 0, 0, 0, 0, 0, 0, 0, 0, 0, 0]\n",
      "delta at job 15 and time 10 is Any[0, 0, 0, 0, 0, 0, 0, 0, 0, 0, 0, 0, 0, 0, 0, 0, 0, 0, 0, 0, 0, 0, 0, 0, 0]\n",
      "delta at job 15 and time 11 is Any[0, 0, 0, 0, 0, 0, 0, 0, 0, 0, 0, 0, 0, 0, 0, 0, 0, 0, 0, 0, 0, 0, 0, 0, 0]\n",
      "delta at job 15 and time 12 is Any[0, 0, 0, 0, 0, 0, 0, 0, 0, 0, 0, 0, 0, 0, 0, 0, 0, 0, 0, 0, 0, 0, 0, 0, 0]\n",
      "delta at job 15 and time 13 is Any[0, 0, 0, 0, 0, 0, 0, 0, 0, 0, 0, 0, 0, 0, 0, 0, 0, 0, 0, 0, 0, 0, 0, 0, 0]\n",
      "delta at job 15 and time 14 is Any[0, 0, 0, 0, 0, 0, 0, 0, 0, 0, 0, 0, 0, 0, 0, 0, 0, 0, 0, 0, 0, 0, 0, 0, 0]\n",
      "delta at job 15 and time 15 is Any[0, 0, 0, 0, 0, 0, 0, 0, 0, 0, 0, 0, 0, 0, 0, 0, 0, 0, 0, 0, 0, 0, 0, 0, 0]\n",
      "delta at job 15 and time 16 is Any[0, 0, 0, 0, 0, 0, 0, 0, 0, 0, 0, 0, 0, 0, 0, 0, 0, 0, 0, 0, 0, 0, 0, 0, 0]\n",
      "delta at job 15 and time 17 is Any[0, 0, 0, 0, 0, 0, 0, 0, 0, 0, 0, 0, 0, 0, 0, 0, 0, 0, 0, 0, 0, 0, 0, 0, 0]\n",
      "delta at job 15 and time 18 is Any[0, 0, 0, 0, 0, 0, 0, 0, 0, 0, 0, 0, 0, 0, 0, 0, 0, 0, 0, 0, 0, 0, 0, 0, 0]\n",
      "delta at job 15 and time 19 is Any[0, 0, 0, 0, 0, 0, 0, 0, 0, 0, 0, 0, 0, 0, 0, 0, 0, 0, 0, 0, 0, 0, 0, 0, 0]\n",
      "delta at job 15 and time 20 is Any[0, 0, 0, 0, 0, 0, 0, 0, 0, 0, 0, 0, 0, 0, 0, 0, 0, 0, 0, 0, 0, 0, 0, 0, 0]\n",
      "delta at job 15 and time 21 is Any[0, 0, 0, 0, 0, 0, 0, 0, 0, 0, 0, 0, 0, 0, 0, 0, 0, 0, 0, 0, 0, 0, 0, 0, 0]\n",
      "delta at job 15 and time 22 is Any[0, 0, 0, 0, 0, 0, 0, 0, 0, 0, 0, 0, 0, 0, 0, 0, 0, 0, 0, 0, 0, 0, 0, 0, 0]\n",
      "delta at job 15 and time 23 is Any[0, 0, 0, 0, 0, 0, 0, 0, 0, 0, 0, 0, 0, 0, 0, 0, 0, 0, 0, 0, 0, 0, 0, 0, 0]\n",
      "delta at job 15 and time 24 is Any[0, 0, 0, 0, 0, 0, 0, 0, 0, 0, 0, 0, 0, 0, 0, 0, 0, 0, 0, 0, 0, 0, 0, 0, 0]\n",
      "delta at job 15 and time 25 is Any[0, 0, 0, 0, 0, 0, 0, 0, 0, 0, 0, 0, 0, 0, 0, 0, 0, 0, 0, 0, 0, 0, 0, 0, 0]\n",
      "delta at job 15 and time 26 is Any[0, 0, 0, 0, 0, 0, 0, 0, 0, 0, 0, 0, 0, 0, 0, 0, 0, 0, 0, 0, 0, 0, 0, 0, 0]\n",
      "delta at job 15 and time 27 is Any[0, 0, 0, 0, 0, 0, 0, 0, 0, 0, 0, 0, 0, 0, 0, 0, 0, 0, 0, 0, 0, 0, 0, 0, 0]\n",
      "delta at job 15 and time 28 is Any[0, 0, 0, 0, 0, 0, 0, 0, 0, 0, 0, 0, 0, 0, 0, 0, 0, 0, 0, 0, 0, 0, 0, 0, 0]\n",
      "delta at job 15 and time 29 is Any[0, 0, 0, 0, 0, 0, 0, 0, 0, 0, 0, 0, 0, 0, 0, 0, 0, 0, 0, 0, 0, 0, 0, 0, 0]\n",
      "delta at job 15 and time 30 is Any[0, 0, 0, 0, 0, 0, 0, 0, 0, 0, 0, 0, 0, 0, 0, 0, 0, 0, 0, 0, 0, 0, 0, 0, 0]\n",
      "delta at job 15 and time 31 is Any[0, 0, 0, 0, 0, 0, 0, 0, 0, 0, 0, 0, 0, 0, 1, 0, 0, 0, 0, 0, 0, 0, 0, 0, 0]\n",
      "delta at job 15 and time 32 is Any[0, 0, 0, 0, 0, 0, 0, 0, 0, 0, 0, 0, 0, 0, 1, 0, 0, 0, 0, 0, 0, 0, 0, 0, 0]\n",
      "delta at job 15 and time 33 is Any[0, 0, 0, 0, 0, 0, 0, 0, 0, 0, 0, 0, 0, 0, 1, 0, 0, 0, 0, 0, 0, 0, 0, 0, 0]\n",
      "delta at job 15 and time 34 is Any[0, 0, 0, 0, 0, 0, 0, 0, 0, 0, 0, 0, 0, 0, 1, 0, 0, 0, 0, 0, 0, 0, 0, 0, 0]\n",
      "delta at job 15 and time 35 is Any[0, 0, 0, 0, 0, 0, 0, 0, 0, 0, 0, 0, 0, 0, 1, 0, 0, 0, 0, 0, 0, 0, 0, 0, 0]\n",
      "delta at job 15 and time 36 is Any[0, 0, 0, 0, 0, 0, 0, 0, 0, 0, 0, 0, 0, 0, 1, 0, 0, 0, 0, 0, 0, 0, 0, 0, 0]\n",
      "delta at job 15 and time 37 is Any[0, 0, 0, 0, 0, 0, 0, 0, 0, 0, 0, 0, 0, 0, 0, 0, 0, 0, 0, 0, 0, 0, 0, 0, 0]\n",
      "delta at job 15 and time 38 is Any[0, 0, 0, 0, 0, 0, 0, 0, 0, 0, 0, 0, 0, 0, 0, 0, 0, 0, 0, 0, 0, 0, 0, 0, 0]\n",
      "delta at job 15 and time 39 is Any[0, 0, 0, 0, 0, 0, 0, 0, 0, 0, 0, 0, 0, 0, 0, 0, 0, 0, 0, 0, 0, 0, 0, 0, 0]\n",
      "delta at job 15 and time 40 is Any[0, 0, 0, 0, 0, 0, 0, 0, 0, 0, 0, 0, 0, 0, 0, 0, 0, 0, 0, 0, 0, 0, 0, 0, 0]\n",
      "delta at job 15 and time 41 is Any[0, 0, 0, 0, 0, 0, 0, 0, 0, 0, 0, 0, 0, 0, 0, 0, 0, 0, 0, 0, 0, 0, 0, 0, 0]\n",
      "delta at job 15 and time 42 is Any[0, 0, 0, 0, 0, 0, 0, 0, 0, 0, 0, 0, 0, 0, 0, 0, 0, 0, 0, 0, 0, 0, 0, 0, 0]\n",
      "delta at job 15 and time 43 is Any[0, 0, 0, 0, 0, 0, 0, 0, 0, 0, 0, 0, 0, 0, 0, 0, 0, 0, 0, 0, 0, 0, 0, 0, 0]\n",
      "delta at job 15 and time 44 is Any[0, 0, 0, 0, 0, 0, 0, 0, 0, 0, 0, 0, 0, 0, 0, 0, 0, 0, 0, 0, 0, 0, 0, 0, 0]\n",
      "delta at job 15 and time 45 is Any[0, 0, 0, 0, 0, 0, 0, 0, 0, 0, 0, 0, 0, 0, 0, 0, 0, 0, 0, 0, 0, 0, 0, 0, 0]\n",
      "\n",
      "delta at job 16 and time 1 is Any[0, 0, 0, 0, 0, 0, 0, 0, 0, 0, 0, 0, 0, 0, 0, 0, 0, 0, 0, 0, 0, 0, 0, 0, 0]\n",
      "delta at job 16 and time 2 is Any[0, 0, 0, 0, 0, 0, 0, 0, 0, 0, 0, 0, 0, 0, 0, 1, 0, 0, 0, 0, 0, 0, 0, 0, 0]\n",
      "delta at job 16 and time 3 is Any[0, 0, 0, 0, 0, 0, 0, 0, 0, 0, 0, 0, 0, 0, 0, 1, 0, 0, 0, 0, 0, 0, 0, 0, 0]\n",
      "delta at job 16 and time 4 is Any[0, 0, 0, 0, 0, 0, 0, 0, 0, 0, 0, 0, 0, 0, 0, 1, 0, 0, 0, 0, 0, 0, 0, 0, 0]\n",
      "delta at job 16 and time 5 is Any[0, 0, 0, 0, 0, 0, 0, 0, 0, 0, 0, 0, 0, 0, 0, 0, 0, 0, 0, 0, 0, 0, 0, 0, 0]\n",
      "delta at job 16 and time 6 is Any[0, 0, 0, 0, 0, 0, 0, 0, 0, 0, 0, 0, 0, 0, 0, 0, 0, 0, 0, 0, 0, 0, 0, 0, 0]\n",
      "delta at job 16 and time 7 is Any[0, 0, 0, 0, 0, 0, 0, 0, 0, 0, 0, 0, 0, 0, 0, 0, 0, 0, 0, 0, 0, 0, 0, 0, 0]\n",
      "delta at job 16 and time 8 is Any[0, 0, 0, 0, 0, 0, 0, 0, 0, 0, 0, 0, 0, 0, 0, 0, 0, 0, 0, 0, 0, 0, 0, 0, 0]\n",
      "delta at job 16 and time 9 is Any[0, 0, 0, 0, 0, 0, 0, 0, 0, 0, 0, 0, 0, 0, 0, 0, 0, 0, 0, 0, 0, 0, 0, 0, 0]\n",
      "delta at job 16 and time 10 is Any[0, 0, 0, 0, 0, 0, 0, 0, 0, 0, 0, 0, 0, 0, 0, 0, 0, 0, 0, 0, 0, 0, 0, 0, 0]\n",
      "delta at job 16 and time 11 is Any[0, 0, 0, 0, 0, 0, 0, 0, 0, 0, 0, 0, 0, 0, 0, 0, 0, 0, 0, 0, 0, 0, 0, 0, 0]\n",
      "delta at job 16 and time 12 is Any[0, 0, 0, 0, 0, 0, 0, 0, 0, 0, 0, 0, 0, 0, 0, 0, 0, 0, 0, 0, 0, 0, 0, 0, 0]\n",
      "delta at job 16 and time 13 is Any[0, 0, 0, 0, 0, 0, 0, 0, 0, 0, 0, 0, 0, 0, 0, 0, 0, 0, 0, 0, 0, 0, 0, 0, 0]\n",
      "delta at job 16 and time 14 is Any[0, 0, 0, 0, 0, 0, 0, 0, 0, 0, 0, 0, 0, 0, 0, 0, 0, 0, 0, 0, 0, 0, 0, 0, 0]\n",
      "delta at job 16 and time 15 is Any[0, 0, 0, 0, 0, 0, 0, 0, 0, 0, 0, 0, 0, 0, 0, 0, 0, 0, 0, 0, 0, 0, 0, 0, 0]\n",
      "delta at job 16 and time 16 is Any[0, 0, 0, 0, 0, 0, 0, 0, 0, 0, 0, 0, 0, 0, 0, 0, 0, 0, 0, 0, 0, 0, 0, 0, 0]\n",
      "delta at job 16 and time 17 is Any[0, 0, 0, 0, 0, 0, 0, 0, 0, 0, 0, 0, 0, 0, 0, 0, 0, 0, 0, 0, 0, 0, 0, 0, 0]\n",
      "delta at job 16 and time 18 is Any[0, 0, 0, 0, 0, 0, 0, 0, 0, 0, 0, 0, 0, 0, 0, 0, 0, 0, 0, 0, 0, 0, 0, 0, 0]\n",
      "delta at job 16 and time 19 is Any[0, 0, 0, 0, 0, 0, 0, 0, 0, 0, 0, 0, 0, 0, 0, 0, 0, 0, 0, 0, 0, 0, 0, 0, 0]\n",
      "delta at job 16 and time 20 is Any[0, 0, 0, 0, 0, 0, 0, 0, 0, 0, 0, 0, 0, 0, 0, 0, 0, 0, 0, 0, 0, 0, 0, 0, 0]\n",
      "delta at job 16 and time 21 is Any[0, 0, 0, 0, 0, 0, 0, 0, 0, 0, 0, 0, 0, 0, 0, 0, 0, 0, 0, 0, 0, 0, 0, 0, 0]\n",
      "delta at job 16 and time 22 is Any[0, 0, 0, 0, 0, 0, 0, 0, 0, 0, 0, 0, 0, 0, 0, 0, 0, 0, 0, 0, 0, 0, 0, 0, 0]\n",
      "delta at job 16 and time 23 is Any[0, 0, 0, 0, 0, 0, 0, 0, 0, 0, 0, 0, 0, 0, 0, 0, 0, 0, 0, 0, 0, 0, 0, 0, 0]\n",
      "delta at job 16 and time 24 is Any[0, 0, 0, 0, 0, 0, 0, 0, 0, 0, 0, 0, 0, 0, 0, 0, 0, 0, 0, 0, 0, 0, 0, 0, 0]\n",
      "delta at job 16 and time 25 is Any[0, 0, 0, 0, 0, 0, 0, 0, 0, 0, 0, 0, 0, 0, 0, 0, 0, 0, 0, 0, 0, 0, 0, 0, 0]\n",
      "delta at job 16 and time 26 is Any[0, 0, 0, 0, 0, 0, 0, 0, 0, 0, 0, 0, 0, 0, 0, 0, 0, 0, 0, 0, 0, 0, 0, 0, 0]\n",
      "delta at job 16 and time 27 is Any[0, 0, 0, 0, 0, 0, 0, 0, 0, 0, 0, 0, 0, 0, 0, 0, 0, 0, 0, 0, 0, 0, 0, 0, 0]\n",
      "delta at job 16 and time 28 is Any[0, 0, 0, 0, 0, 0, 0, 0, 0, 0, 0, 0, 0, 0, 0, 0, 0, 0, 0, 0, 0, 0, 0, 0, 0]\n",
      "delta at job 16 and time 29 is Any[0, 0, 0, 0, 0, 0, 0, 0, 0, 0, 0, 0, 0, 0, 0, 0, 0, 0, 0, 0, 0, 0, 0, 0, 0]\n",
      "delta at job 16 and time 30 is Any[0, 0, 0, 0, 0, 0, 0, 0, 0, 0, 0, 0, 0, 0, 0, 0, 0, 0, 0, 0, 0, 0, 0, 0, 0]\n",
      "delta at job 16 and time 31 is Any[0, 0, 0, 0, 0, 0, 0, 0, 0, 0, 0, 0, 0, 0, 0, 0, 0, 0, 0, 0, 0, 0, 0, 0, 0]\n",
      "delta at job 16 and time 32 is Any[0, 0, 0, 0, 0, 0, 0, 0, 0, 0, 0, 0, 0, 0, 0, 0, 0, 0, 0, 0, 0, 0, 0, 0, 0]\n",
      "delta at job 16 and time 33 is Any[0, 0, 0, 0, 0, 0, 0, 0, 0, 0, 0, 0, 0, 0, 0, 0, 0, 0, 0, 0, 0, 0, 0, 0, 0]\n",
      "delta at job 16 and time 34 is Any[0, 0, 0, 0, 0, 0, 0, 0, 0, 0, 0, 0, 0, 0, 0, 0, 0, 0, 0, 0, 0, 0, 0, 0, 0]\n",
      "delta at job 16 and time 35 is Any[0, 0, 0, 0, 0, 0, 0, 0, 0, 0, 0, 0, 0, 0, 0, 0, 0, 0, 0, 0, 0, 0, 0, 0, 0]\n",
      "delta at job 16 and time 36 is Any[0, 0, 0, 0, 0, 0, 0, 0, 0, 0, 0, 0, 0, 0, 0, 0, 0, 0, 0, 0, 0, 0, 0, 0, 0]\n",
      "delta at job 16 and time 37 is Any[0, 0, 0, 0, 0, 0, 0, 0, 0, 0, 0, 0, 0, 0, 0, 0, 0, 0, 0, 0, 0, 0, 0, 0, 0]\n",
      "delta at job 16 and time 38 is Any[0, 0, 0, 0, 0, 0, 0, 0, 0, 0, 0, 0, 0, 0, 0, 0, 0, 0, 0, 0, 0, 0, 0, 0, 0]\n",
      "delta at job 16 and time 39 is Any[0, 0, 0, 0, 0, 0, 0, 0, 0, 0, 0, 0, 0, 0, 0, 0, 0, 0, 0, 0, 0, 0, 0, 0, 0]\n",
      "delta at job 16 and time 40 is Any[0, 0, 0, 0, 0, 0, 0, 0, 0, 0, 0, 0, 0, 0, 0, 0, 0, 0, 0, 0, 0, 0, 0, 0, 0]\n",
      "delta at job 16 and time 41 is Any[0, 0, 0, 0, 0, 0, 0, 0, 0, 0, 0, 0, 0, 0, 0, 0, 0, 0, 0, 0, 0, 0, 0, 0, 0]\n",
      "delta at job 16 and time 42 is Any[0, 0, 0, 0, 0, 0, 0, 0, 0, 0, 0, 0, 0, 0, 0, 0, 0, 0, 0, 0, 0, 0, 0, 0, 0]\n",
      "delta at job 16 and time 43 is Any[0, 0, 0, 0, 0, 0, 0, 0, 0, 0, 0, 0, 0, 0, 0, 0, 0, 0, 0, 0, 0, 0, 0, 0, 0]\n",
      "delta at job 16 and time 44 is Any[0, 0, 0, 0, 0, 0, 0, 0, 0, 0, 0, 0, 0, 0, 0, 0, 0, 0, 0, 0, 0, 0, 0, 0, 0]\n",
      "delta at job 16 and time 45 is Any[0, 0, 0, 0, 0, 0, 0, 0, 0, 0, 0, 0, 0, 0, 0, 0, 0, 0, 0, 0, 0, 0, 0, 0, 0]\n",
      "\n",
      "delta at job 17 and time 1 is Any[0, 0, 0, 0, 0, 0, 0, 0, 0, 0, 0, 0, 0, 0, 0, 0, 0, 0, 0, 0, 0, 0, 0, 0, 0]\n",
      "delta at job 17 and time 2 is Any[0, 0, 0, 0, 0, 0, 0, 0, 0, 0, 0, 0, 0, 0, 0, 0, 0, 0, 0, 0, 0, 0, 0, 0, 0]\n",
      "delta at job 17 and time 3 is Any[0, 0, 0, 0, 0, 0, 0, 0, 0, 0, 0, 0, 0, 0, 0, 0, 0, 0, 0, 0, 0, 0, 0, 0, 0]\n",
      "delta at job 17 and time 4 is Any[0, 0, 0, 0, 0, 0, 0, 0, 0, 0, 0, 0, 0, 0, 0, 0, 0, 0, 0, 0, 0, 0, 0, 0, 0]\n",
      "delta at job 17 and time 5 is Any[0, 0, 0, 0, 0, 0, 0, 0, 0, 0, 0, 0, 0, 0, 0, 0, 0, 0, 0, 0, 0, 0, 0, 0, 0]\n",
      "delta at job 17 and time 6 is Any[0, 0, 0, 0, 0, 0, 0, 0, 0, 0, 0, 0, 0, 0, 0, 0, 0, 0, 0, 0, 0, 0, 0, 0, 0]\n",
      "delta at job 17 and time 7 is Any[0, 0, 0, 0, 0, 0, 0, 0, 0, 0, 0, 0, 0, 0, 0, 0, 0, 0, 0, 0, 0, 0, 0, 0, 0]\n",
      "delta at job 17 and time 8 is Any[0, 0, 0, 0, 0, 0, 0, 0, 0, 0, 0, 0, 0, 0, 0, 0, 1, 0, 0, 0, 0, 0, 0, 0, 0]\n",
      "delta at job 17 and time 9 is Any[0, 0, 0, 0, 0, 0, 0, 0, 0, 0, 0, 0, 0, 0, 0, 0, 1, 0, 0, 0, 0, 0, 0, 0, 0]\n",
      "delta at job 17 and time 10 is Any[0, 0, 0, 0, 0, 0, 0, 0, 0, 0, 0, 0, 0, 0, 0, 0, 0, 0, 0, 0, 0, 0, 0, 0, 0]\n",
      "delta at job 17 and time 11 is Any[0, 0, 0, 0, 0, 0, 0, 0, 0, 0, 0, 0, 0, 0, 0, 0, 0, 0, 0, 0, 0, 0, 0, 0, 0]\n",
      "delta at job 17 and time 12 is Any[0, 0, 0, 0, 0, 0, 0, 0, 0, 0, 0, 0, 0, 0, 0, 0, 0, 0, 0, 0, 0, 0, 0, 0, 0]\n",
      "delta at job 17 and time 13 is Any[0, 0, 0, 0, 0, 0, 0, 0, 0, 0, 0, 0, 0, 0, 0, 0, 0, 0, 0, 0, 0, 0, 0, 0, 0]\n",
      "delta at job 17 and time 14 is Any[0, 0, 0, 0, 0, 0, 0, 0, 0, 0, 0, 0, 0, 0, 0, 0, 0, 0, 0, 0, 0, 0, 0, 0, 0]\n",
      "delta at job 17 and time 15 is Any[0, 0, 0, 0, 0, 0, 0, 0, 0, 0, 0, 0, 0, 0, 0, 0, 0, 0, 0, 0, 0, 0, 0, 0, 0]\n",
      "delta at job 17 and time 16 is Any[0, 0, 0, 0, 0, 0, 0, 0, 0, 0, 0, 0, 0, 0, 0, 0, 0, 0, 0, 0, 0, 0, 0, 0, 0]\n",
      "delta at job 17 and time 17 is Any[0, 0, 0, 0, 0, 0, 0, 0, 0, 0, 0, 0, 0, 0, 0, 0, 0, 0, 0, 0, 0, 0, 0, 0, 0]\n",
      "delta at job 17 and time 18 is Any[0, 0, 0, 0, 0, 0, 0, 0, 0, 0, 0, 0, 0, 0, 0, 0, 0, 0, 0, 0, 0, 0, 0, 0, 0]\n",
      "delta at job 17 and time 19 is Any[0, 0, 0, 0, 0, 0, 0, 0, 0, 0, 0, 0, 0, 0, 0, 0, 0, 0, 0, 0, 0, 0, 0, 0, 0]\n",
      "delta at job 17 and time 20 is Any[0, 0, 0, 0, 0, 0, 0, 0, 0, 0, 0, 0, 0, 0, 0, 0, 0, 0, 0, 0, 0, 0, 0, 0, 0]\n",
      "delta at job 17 and time 21 is Any[0, 0, 0, 0, 0, 0, 0, 0, 0, 0, 0, 0, 0, 0, 0, 0, 0, 0, 0, 0, 0, 0, 0, 0, 0]\n",
      "delta at job 17 and time 22 is Any[0, 0, 0, 0, 0, 0, 0, 0, 0, 0, 0, 0, 0, 0, 0, 0, 0, 0, 0, 0, 0, 0, 0, 0, 0]\n",
      "delta at job 17 and time 23 is Any[0, 0, 0, 0, 0, 0, 0, 0, 0, 0, 0, 0, 0, 0, 0, 0, 0, 0, 0, 0, 0, 0, 0, 0, 0]\n",
      "delta at job 17 and time 24 is Any[0, 0, 0, 0, 0, 0, 0, 0, 0, 0, 0, 0, 0, 0, 0, 0, 0, 0, 0, 0, 0, 0, 0, 0, 0]\n",
      "delta at job 17 and time 25 is Any[0, 0, 0, 0, 0, 0, 0, 0, 0, 0, 0, 0, 0, 0, 0, 0, 0, 0, 0, 0, 0, 0, 0, 0, 0]\n",
      "delta at job 17 and time 26 is Any[0, 0, 0, 0, 0, 0, 0, 0, 0, 0, 0, 0, 0, 0, 0, 0, 0, 0, 0, 0, 0, 0, 0, 0, 0]\n",
      "delta at job 17 and time 27 is Any[0, 0, 0, 0, 0, 0, 0, 0, 0, 0, 0, 0, 0, 0, 0, 0, 0, 0, 0, 0, 0, 0, 0, 0, 0]\n",
      "delta at job 17 and time 28 is Any[0, 0, 0, 0, 0, 0, 0, 0, 0, 0, 0, 0, 0, 0, 0, 0, 0, 0, 0, 0, 0, 0, 0, 0, 0]\n",
      "delta at job 17 and time 29 is Any[0, 0, 0, 0, 0, 0, 0, 0, 0, 0, 0, 0, 0, 0, 0, 0, 0, 0, 0, 0, 0, 0, 0, 0, 0]\n",
      "delta at job 17 and time 30 is Any[0, 0, 0, 0, 0, 0, 0, 0, 0, 0, 0, 0, 0, 0, 0, 0, 0, 0, 0, 0, 0, 0, 0, 0, 0]\n",
      "delta at job 17 and time 31 is Any[0, 0, 0, 0, 0, 0, 0, 0, 0, 0, 0, 0, 0, 0, 0, 0, 0, 0, 0, 0, 0, 0, 0, 0, 0]\n",
      "delta at job 17 and time 32 is Any[0, 0, 0, 0, 0, 0, 0, 0, 0, 0, 0, 0, 0, 0, 0, 0, 0, 0, 0, 0, 0, 0, 0, 0, 0]\n",
      "delta at job 17 and time 33 is Any[0, 0, 0, 0, 0, 0, 0, 0, 0, 0, 0, 0, 0, 0, 0, 0, 0, 0, 0, 0, 0, 0, 0, 0, 0]\n",
      "delta at job 17 and time 34 is Any[0, 0, 0, 0, 0, 0, 0, 0, 0, 0, 0, 0, 0, 0, 0, 0, 0, 0, 0, 0, 0, 0, 0, 0, 0]\n",
      "delta at job 17 and time 35 is Any[0, 0, 0, 0, 0, 0, 0, 0, 0, 0, 0, 0, 0, 0, 0, 0, 0, 0, 0, 0, 0, 0, 0, 0, 0]\n",
      "delta at job 17 and time 36 is Any[0, 0, 0, 0, 0, 0, 0, 0, 0, 0, 0, 0, 0, 0, 0, 0, 0, 0, 0, 0, 0, 0, 0, 0, 0]\n",
      "delta at job 17 and time 37 is Any[0, 0, 0, 0, 0, 0, 0, 0, 0, 0, 0, 0, 0, 0, 0, 0, 0, 0, 0, 0, 0, 0, 0, 0, 0]\n",
      "delta at job 17 and time 38 is Any[0, 0, 0, 0, 0, 0, 0, 0, 0, 0, 0, 0, 0, 0, 0, 0, 0, 0, 0, 0, 0, 0, 0, 0, 0]\n",
      "delta at job 17 and time 39 is Any[0, 0, 0, 0, 0, 0, 0, 0, 0, 0, 0, 0, 0, 0, 0, 0, 0, 0, 0, 0, 0, 0, 0, 0, 0]\n",
      "delta at job 17 and time 40 is Any[0, 0, 0, 0, 0, 0, 0, 0, 0, 0, 0, 0, 0, 0, 0, 0, 0, 0, 0, 0, 0, 0, 0, 0, 0]\n",
      "delta at job 17 and time 41 is Any[0, 0, 0, 0, 0, 0, 0, 0, 0, 0, 0, 0, 0, 0, 0, 0, 0, 0, 0, 0, 0, 0, 0, 0, 0]\n",
      "delta at job 17 and time 42 is Any[0, 0, 0, 0, 0, 0, 0, 0, 0, 0, 0, 0, 0, 0, 0, 0, 0, 0, 0, 0, 0, 0, 0, 0, 0]\n",
      "delta at job 17 and time 43 is Any[0, 0, 0, 0, 0, 0, 0, 0, 0, 0, 0, 0, 0, 0, 0, 0, 0, 0, 0, 0, 0, 0, 0, 0, 0]\n",
      "delta at job 17 and time 44 is Any[0, 0, 0, 0, 0, 0, 0, 0, 0, 0, 0, 0, 0, 0, 0, 0, 0, 0, 0, 0, 0, 0, 0, 0, 0]\n",
      "delta at job 17 and time 45 is Any[0, 0, 0, 0, 0, 0, 0, 0, 0, 0, 0, 0, 0, 0, 0, 0, 0, 0, 0, 0, 0, 0, 0, 0, 0]\n",
      "\n",
      "delta at job 18 and time 1 is Any[0, 0, 0, 0, 0, 0, 0, 0, 0, 0, 0, 0, 0, 0, 0, 0, 0, 0, 0, 0, 0, 0, 0, 0, 0]\n",
      "delta at job 18 and time 2 is Any[0, 0, 0, 0, 0, 0, 0, 0, 0, 0, 0, 0, 0, 0, 0, 0, 0, 0, 0, 0, 0, 0, 0, 0, 0]\n",
      "delta at job 18 and time 3 is Any[0, 0, 0, 0, 0, 0, 0, 0, 0, 0, 0, 0, 0, 0, 0, 0, 0, 0, 0, 0, 0, 0, 0, 0, 0]\n",
      "delta at job 18 and time 4 is Any[0, 0, 0, 0, 0, 0, 0, 0, 0, 0, 0, 0, 0, 0, 0, 0, 0, 0, 0, 0, 0, 0, 0, 0, 0]\n",
      "delta at job 18 and time 5 is Any[0, 0, 0, 0, 0, 0, 0, 0, 0, 0, 0, 0, 0, 0, 0, 0, 0, 0, 0, 0, 0, 0, 0, 0, 0]\n",
      "delta at job 18 and time 6 is Any[0, 0, 0, 0, 0, 0, 0, 0, 0, 0, 0, 0, 0, 0, 0, 0, 0, 0, 0, 0, 0, 0, 0, 0, 0]\n",
      "delta at job 18 and time 7 is Any[0, 0, 0, 0, 0, 0, 0, 0, 0, 0, 0, 0, 0, 0, 0, 0, 0, 0, 0, 0, 0, 0, 0, 0, 0]\n",
      "delta at job 18 and time 8 is Any[0, 0, 0, 0, 0, 0, 0, 0, 0, 0, 0, 0, 0, 0, 0, 0, 0, 0, 0, 0, 0, 0, 0, 0, 0]\n",
      "delta at job 18 and time 9 is Any[0, 0, 0, 0, 0, 0, 0, 0, 0, 0, 0, 0, 0, 0, 0, 0, 0, 0, 0, 0, 0, 0, 0, 0, 0]\n",
      "delta at job 18 and time 10 is Any[0, 0, 0, 0, 0, 0, 0, 0, 0, 0, 0, 0, 0, 0, 0, 0, 0, 0, 0, 0, 0, 0, 0, 0, 0]\n",
      "delta at job 18 and time 11 is Any[0, 0, 0, 0, 0, 0, 0, 0, 0, 0, 0, 0, 0, 0, 0, 0, 0, 0, 0, 0, 0, 0, 0, 0, 0]\n",
      "delta at job 18 and time 12 is Any[0, 0, 0, 0, 0, 0, 0, 0, 0, 0, 0, 0, 0, 0, 0, 0, 0, 1, 0, 0, 0, 0, 0, 0, 0]\n",
      "delta at job 18 and time 13 is Any[0, 0, 0, 0, 0, 0, 0, 0, 0, 0, 0, 0, 0, 0, 0, 0, 0, 1, 0, 0, 0, 0, 0, 0, 0]\n",
      "delta at job 18 and time 14 is Any[0, 0, 0, 0, 0, 0, 0, 0, 0, 0, 0, 0, 0, 0, 0, 0, 0, 1, 0, 0, 0, 0, 0, 0, 0]\n",
      "delta at job 18 and time 15 is Any[0, 0, 0, 0, 0, 0, 0, 0, 0, 0, 0, 0, 0, 0, 0, 0, 0, 1, 0, 0, 0, 0, 0, 0, 0]\n",
      "delta at job 18 and time 16 is Any[0, 0, 0, 0, 0, 0, 0, 0, 0, 0, 0, 0, 0, 0, 0, 0, 0, 1, 0, 0, 0, 0, 0, 0, 0]\n",
      "delta at job 18 and time 17 is Any[0, 0, 0, 0, 0, 0, 0, 0, 0, 0, 0, 0, 0, 0, 0, 0, 0, 0, 0, 0, 0, 0, 0, 0, 0]\n",
      "delta at job 18 and time 18 is Any[0, 0, 0, 0, 0, 0, 0, 0, 0, 0, 0, 0, 0, 0, 0, 0, 0, 0, 0, 0, 0, 0, 0, 0, 0]\n",
      "delta at job 18 and time 19 is Any[0, 0, 0, 0, 0, 0, 0, 0, 0, 0, 0, 0, 0, 0, 0, 0, 0, 0, 0, 0, 0, 0, 0, 0, 0]\n",
      "delta at job 18 and time 20 is Any[0, 0, 0, 0, 0, 0, 0, 0, 0, 0, 0, 0, 0, 0, 0, 0, 0, 0, 0, 0, 0, 0, 0, 0, 0]\n",
      "delta at job 18 and time 21 is Any[0, 0, 0, 0, 0, 0, 0, 0, 0, 0, 0, 0, 0, 0, 0, 0, 0, 0, 0, 0, 0, 0, 0, 0, 0]\n",
      "delta at job 18 and time 22 is Any[0, 0, 0, 0, 0, 0, 0, 0, 0, 0, 0, 0, 0, 0, 0, 0, 0, 0, 0, 0, 0, 0, 0, 0, 0]\n",
      "delta at job 18 and time 23 is Any[0, 0, 0, 0, 0, 0, 0, 0, 0, 0, 0, 0, 0, 0, 0, 0, 0, 0, 0, 0, 0, 0, 0, 0, 0]\n",
      "delta at job 18 and time 24 is Any[0, 0, 0, 0, 0, 0, 0, 0, 0, 0, 0, 0, 0, 0, 0, 0, 0, 0, 0, 0, 0, 0, 0, 0, 0]\n",
      "delta at job 18 and time 25 is Any[0, 0, 0, 0, 0, 0, 0, 0, 0, 0, 0, 0, 0, 0, 0, 0, 0, 0, 0, 0, 0, 0, 0, 0, 0]\n",
      "delta at job 18 and time 26 is Any[0, 0, 0, 0, 0, 0, 0, 0, 0, 0, 0, 0, 0, 0, 0, 0, 0, 0, 0, 0, 0, 0, 0, 0, 0]\n",
      "delta at job 18 and time 27 is Any[0, 0, 0, 0, 0, 0, 0, 0, 0, 0, 0, 0, 0, 0, 0, 0, 0, 0, 0, 0, 0, 0, 0, 0, 0]\n",
      "delta at job 18 and time 28 is Any[0, 0, 0, 0, 0, 0, 0, 0, 0, 0, 0, 0, 0, 0, 0, 0, 0, 0, 0, 0, 0, 0, 0, 0, 0]\n",
      "delta at job 18 and time 29 is Any[0, 0, 0, 0, 0, 0, 0, 0, 0, 0, 0, 0, 0, 0, 0, 0, 0, 0, 0, 0, 0, 0, 0, 0, 0]\n",
      "delta at job 18 and time 30 is Any[0, 0, 0, 0, 0, 0, 0, 0, 0, 0, 0, 0, 0, 0, 0, 0, 0, 0, 0, 0, 0, 0, 0, 0, 0]\n",
      "delta at job 18 and time 31 is Any[0, 0, 0, 0, 0, 0, 0, 0, 0, 0, 0, 0, 0, 0, 0, 0, 0, 0, 0, 0, 0, 0, 0, 0, 0]\n",
      "delta at job 18 and time 32 is Any[0, 0, 0, 0, 0, 0, 0, 0, 0, 0, 0, 0, 0, 0, 0, 0, 0, 0, 0, 0, 0, 0, 0, 0, 0]\n",
      "delta at job 18 and time 33 is Any[0, 0, 0, 0, 0, 0, 0, 0, 0, 0, 0, 0, 0, 0, 0, 0, 0, 0, 0, 0, 0, 0, 0, 0, 0]\n",
      "delta at job 18 and time 34 is Any[0, 0, 0, 0, 0, 0, 0, 0, 0, 0, 0, 0, 0, 0, 0, 0, 0, 0, 0, 0, 0, 0, 0, 0, 0]\n",
      "delta at job 18 and time 35 is Any[0, 0, 0, 0, 0, 0, 0, 0, 0, 0, 0, 0, 0, 0, 0, 0, 0, 0, 0, 0, 0, 0, 0, 0, 0]\n",
      "delta at job 18 and time 36 is Any[0, 0, 0, 0, 0, 0, 0, 0, 0, 0, 0, 0, 0, 0, 0, 0, 0, 0, 0, 0, 0, 0, 0, 0, 0]\n",
      "delta at job 18 and time 37 is Any[0, 0, 0, 0, 0, 0, 0, 0, 0, 0, 0, 0, 0, 0, 0, 0, 0, 0, 0, 0, 0, 0, 0, 0, 0]\n",
      "delta at job 18 and time 38 is Any[0, 0, 0, 0, 0, 0, 0, 0, 0, 0, 0, 0, 0, 0, 0, 0, 0, 0, 0, 0, 0, 0, 0, 0, 0]\n",
      "delta at job 18 and time 39 is Any[0, 0, 0, 0, 0, 0, 0, 0, 0, 0, 0, 0, 0, 0, 0, 0, 0, 0, 0, 0, 0, 0, 0, 0, 0]\n",
      "delta at job 18 and time 40 is Any[0, 0, 0, 0, 0, 0, 0, 0, 0, 0, 0, 0, 0, 0, 0, 0, 0, 0, 0, 0, 0, 0, 0, 0, 0]\n",
      "delta at job 18 and time 41 is Any[0, 0, 0, 0, 0, 0, 0, 0, 0, 0, 0, 0, 0, 0, 0, 0, 0, 0, 0, 0, 0, 0, 0, 0, 0]\n",
      "delta at job 18 and time 42 is Any[0, 0, 0, 0, 0, 0, 0, 0, 0, 0, 0, 0, 0, 0, 0, 0, 0, 0, 0, 0, 0, 0, 0, 0, 0]\n",
      "delta at job 18 and time 43 is Any[0, 0, 0, 0, 0, 0, 0, 0, 0, 0, 0, 0, 0, 0, 0, 0, 0, 0, 0, 0, 0, 0, 0, 0, 0]\n",
      "delta at job 18 and time 44 is Any[0, 0, 0, 0, 0, 0, 0, 0, 0, 0, 0, 0, 0, 0, 0, 0, 0, 0, 0, 0, 0, 0, 0, 0, 0]\n",
      "delta at job 18 and time 45 is Any[0, 0, 0, 0, 0, 0, 0, 0, 0, 0, 0, 0, 0, 0, 0, 0, 0, 0, 0, 0, 0, 0, 0, 0, 0]\n",
      "\n",
      "delta at job 19 and time 1 is Any[0, 0, 0, 0, 0, 0, 0, 0, 0, 0, 0, 0, 0, 0, 0, 0, 0, 0, 0, 0, 0, 0, 0, 0, 0]\n",
      "delta at job 19 and time 2 is Any[0, 0, 0, 0, 0, 0, 0, 0, 0, 0, 0, 0, 0, 0, 0, 0, 0, 0, 0, 0, 0, 0, 0, 0, 0]\n",
      "delta at job 19 and time 3 is Any[0, 0, 0, 0, 0, 0, 0, 0, 0, 0, 0, 0, 0, 0, 0, 0, 0, 0, 0, 0, 0, 0, 0, 0, 0]\n",
      "delta at job 19 and time 4 is Any[0, 0, 0, 0, 0, 0, 0, 0, 0, 0, 0, 0, 0, 0, 0, 0, 0, 0, 0, 0, 0, 0, 0, 0, 0]\n",
      "delta at job 19 and time 5 is Any[0, 0, 0, 0, 0, 0, 0, 0, 0, 0, 0, 0, 0, 0, 0, 0, 0, 0, 0, 0, 0, 0, 0, 0, 0]\n",
      "delta at job 19 and time 6 is Any[0, 0, 0, 0, 0, 0, 0, 0, 0, 0, 0, 0, 0, 0, 0, 0, 0, 0, 0, 0, 0, 0, 0, 0, 0]\n",
      "delta at job 19 and time 7 is Any[0, 0, 0, 0, 0, 0, 0, 0, 0, 0, 0, 0, 0, 0, 0, 0, 0, 0, 0, 0, 0, 0, 0, 0, 0]\n",
      "delta at job 19 and time 8 is Any[0, 0, 0, 0, 0, 0, 0, 0, 0, 0, 0, 0, 0, 0, 0, 0, 0, 0, 0, 0, 0, 0, 0, 0, 0]\n",
      "delta at job 19 and time 9 is Any[0, 0, 0, 0, 0, 0, 0, 0, 0, 0, 0, 0, 0, 0, 0, 0, 0, 0, 0, 0, 0, 0, 0, 0, 0]\n",
      "delta at job 19 and time 10 is Any[0, 0, 0, 0, 0, 0, 0, 0, 0, 0, 0, 0, 0, 0, 0, 0, 0, 0, 0, 0, 0, 0, 0, 0, 0]\n",
      "delta at job 19 and time 11 is Any[0, 0, 0, 0, 0, 0, 0, 0, 0, 0, 0, 0, 0, 0, 0, 0, 0, 0, 0, 0, 0, 0, 0, 0, 0]\n",
      "delta at job 19 and time 12 is Any[0, 0, 0, 0, 0, 0, 0, 0, 0, 0, 0, 0, 0, 0, 0, 0, 0, 0, 0, 0, 0, 0, 0, 0, 0]\n",
      "delta at job 19 and time 13 is Any[0, 0, 0, 0, 0, 0, 0, 0, 0, 0, 0, 0, 0, 0, 0, 0, 0, 0, 0, 0, 0, 0, 0, 0, 0]\n",
      "delta at job 19 and time 14 is Any[0, 0, 0, 0, 0, 0, 0, 0, 0, 0, 0, 0, 0, 0, 0, 0, 0, 0, 0, 0, 0, 0, 0, 0, 0]\n",
      "delta at job 19 and time 15 is Any[0, 0, 0, 0, 0, 0, 0, 0, 0, 0, 0, 0, 0, 0, 0, 0, 0, 0, 0, 0, 0, 0, 0, 0, 0]\n",
      "delta at job 19 and time 16 is Any[0, 0, 0, 0, 0, 0, 0, 0, 0, 0, 0, 0, 0, 0, 0, 0, 0, 0, 0, 0, 0, 0, 0, 0, 0]\n",
      "delta at job 19 and time 17 is Any[0, 0, 0, 0, 0, 0, 0, 0, 0, 0, 0, 0, 0, 0, 0, 0, 0, 0, 1, 0, 0, 0, 0, 0, 0]\n",
      "delta at job 19 and time 18 is Any[0, 0, 0, 0, 0, 0, 0, 0, 0, 0, 0, 0, 0, 0, 0, 0, 0, 0, 1, 0, 0, 0, 0, 0, 0]\n",
      "delta at job 19 and time 19 is Any[0, 0, 0, 0, 0, 0, 0, 0, 0, 0, 0, 0, 0, 0, 0, 0, 0, 0, 1, 0, 0, 0, 0, 0, 0]\n",
      "delta at job 19 and time 20 is Any[0, 0, 0, 0, 0, 0, 0, 0, 0, 0, 0, 0, 0, 0, 0, 0, 0, 0, 1, 0, 0, 0, 0, 0, 0]\n",
      "delta at job 19 and time 21 is Any[0, 0, 0, 0, 0, 0, 0, 0, 0, 0, 0, 0, 0, 0, 0, 0, 0, 0, 0, 0, 0, 0, 0, 0, 0]\n",
      "delta at job 19 and time 22 is Any[0, 0, 0, 0, 0, 0, 0, 0, 0, 0, 0, 0, 0, 0, 0, 0, 0, 0, 0, 0, 0, 0, 0, 0, 0]\n",
      "delta at job 19 and time 23 is Any[0, 0, 0, 0, 0, 0, 0, 0, 0, 0, 0, 0, 0, 0, 0, 0, 0, 0, 0, 0, 0, 0, 0, 0, 0]\n",
      "delta at job 19 and time 24 is Any[0, 0, 0, 0, 0, 0, 0, 0, 0, 0, 0, 0, 0, 0, 0, 0, 0, 0, 0, 0, 0, 0, 0, 0, 0]\n",
      "delta at job 19 and time 25 is Any[0, 0, 0, 0, 0, 0, 0, 0, 0, 0, 0, 0, 0, 0, 0, 0, 0, 0, 0, 0, 0, 0, 0, 0, 0]\n",
      "delta at job 19 and time 26 is Any[0, 0, 0, 0, 0, 0, 0, 0, 0, 0, 0, 0, 0, 0, 0, 0, 0, 0, 0, 0, 0, 0, 0, 0, 0]\n",
      "delta at job 19 and time 27 is Any[0, 0, 0, 0, 0, 0, 0, 0, 0, 0, 0, 0, 0, 0, 0, 0, 0, 0, 0, 0, 0, 0, 0, 0, 0]\n",
      "delta at job 19 and time 28 is Any[0, 0, 0, 0, 0, 0, 0, 0, 0, 0, 0, 0, 0, 0, 0, 0, 0, 0, 0, 0, 0, 0, 0, 0, 0]\n",
      "delta at job 19 and time 29 is Any[0, 0, 0, 0, 0, 0, 0, 0, 0, 0, 0, 0, 0, 0, 0, 0, 0, 0, 0, 0, 0, 0, 0, 0, 0]\n",
      "delta at job 19 and time 30 is Any[0, 0, 0, 0, 0, 0, 0, 0, 0, 0, 0, 0, 0, 0, 0, 0, 0, 0, 0, 0, 0, 0, 0, 0, 0]\n",
      "delta at job 19 and time 31 is Any[0, 0, 0, 0, 0, 0, 0, 0, 0, 0, 0, 0, 0, 0, 0, 0, 0, 0, 0, 0, 0, 0, 0, 0, 0]\n",
      "delta at job 19 and time 32 is Any[0, 0, 0, 0, 0, 0, 0, 0, 0, 0, 0, 0, 0, 0, 0, 0, 0, 0, 0, 0, 0, 0, 0, 0, 0]\n",
      "delta at job 19 and time 33 is Any[0, 0, 0, 0, 0, 0, 0, 0, 0, 0, 0, 0, 0, 0, 0, 0, 0, 0, 0, 0, 0, 0, 0, 0, 0]\n",
      "delta at job 19 and time 34 is Any[0, 0, 0, 0, 0, 0, 0, 0, 0, 0, 0, 0, 0, 0, 0, 0, 0, 0, 0, 0, 0, 0, 0, 0, 0]\n",
      "delta at job 19 and time 35 is Any[0, 0, 0, 0, 0, 0, 0, 0, 0, 0, 0, 0, 0, 0, 0, 0, 0, 0, 0, 0, 0, 0, 0, 0, 0]\n",
      "delta at job 19 and time 36 is Any[0, 0, 0, 0, 0, 0, 0, 0, 0, 0, 0, 0, 0, 0, 0, 0, 0, 0, 0, 0, 0, 0, 0, 0, 0]\n",
      "delta at job 19 and time 37 is Any[0, 0, 0, 0, 0, 0, 0, 0, 0, 0, 0, 0, 0, 0, 0, 0, 0, 0, 0, 0, 0, 0, 0, 0, 0]\n",
      "delta at job 19 and time 38 is Any[0, 0, 0, 0, 0, 0, 0, 0, 0, 0, 0, 0, 0, 0, 0, 0, 0, 0, 0, 0, 0, 0, 0, 0, 0]\n",
      "delta at job 19 and time 39 is Any[0, 0, 0, 0, 0, 0, 0, 0, 0, 0, 0, 0, 0, 0, 0, 0, 0, 0, 0, 0, 0, 0, 0, 0, 0]\n",
      "delta at job 19 and time 40 is Any[0, 0, 0, 0, 0, 0, 0, 0, 0, 0, 0, 0, 0, 0, 0, 0, 0, 0, 0, 0, 0, 0, 0, 0, 0]\n",
      "delta at job 19 and time 41 is Any[0, 0, 0, 0, 0, 0, 0, 0, 0, 0, 0, 0, 0, 0, 0, 0, 0, 0, 0, 0, 0, 0, 0, 0, 0]\n",
      "delta at job 19 and time 42 is Any[0, 0, 0, 0, 0, 0, 0, 0, 0, 0, 0, 0, 0, 0, 0, 0, 0, 0, 0, 0, 0, 0, 0, 0, 0]\n",
      "delta at job 19 and time 43 is Any[0, 0, 0, 0, 0, 0, 0, 0, 0, 0, 0, 0, 0, 0, 0, 0, 0, 0, 0, 0, 0, 0, 0, 0, 0]\n",
      "delta at job 19 and time 44 is Any[0, 0, 0, 0, 0, 0, 0, 0, 0, 0, 0, 0, 0, 0, 0, 0, 0, 0, 0, 0, 0, 0, 0, 0, 0]\n",
      "delta at job 19 and time 45 is Any[0, 0, 0, 0, 0, 0, 0, 0, 0, 0, 0, 0, 0, 0, 0, 0, 0, 0, 0, 0, 0, 0, 0, 0, 0]\n",
      "\n",
      "delta at job 20 and time 1 is Any[0, 0, 0, 0, 0, 0, 0, 0, 0, 0, 0, 0, 0, 0, 0, 0, 0, 0, 0, 0, 0, 0, 0, 0, 0]\n",
      "delta at job 20 and time 2 is Any[0, 0, 0, 0, 0, 0, 0, 0, 0, 0, 0, 0, 0, 0, 0, 0, 0, 0, 0, 0, 0, 0, 0, 0, 0]\n",
      "delta at job 20 and time 3 is Any[0, 0, 0, 0, 0, 0, 0, 0, 0, 0, 0, 0, 0, 0, 0, 0, 0, 0, 0, 0, 0, 0, 0, 0, 0]\n",
      "delta at job 20 and time 4 is Any[0, 0, 0, 0, 0, 0, 0, 0, 0, 0, 0, 0, 0, 0, 0, 0, 0, 0, 0, 0, 0, 0, 0, 0, 0]\n",
      "delta at job 20 and time 5 is Any[0, 0, 0, 0, 0, 0, 0, 0, 0, 0, 0, 0, 0, 0, 0, 0, 0, 0, 0, 0, 0, 0, 0, 0, 0]\n",
      "delta at job 20 and time 6 is Any[0, 0, 0, 0, 0, 0, 0, 0, 0, 0, 0, 0, 0, 0, 0, 0, 0, 0, 0, 0, 0, 0, 0, 0, 0]\n",
      "delta at job 20 and time 7 is Any[0, 0, 0, 0, 0, 0, 0, 0, 0, 0, 0, 0, 0, 0, 0, 0, 0, 0, 0, 0, 0, 0, 0, 0, 0]\n",
      "delta at job 20 and time 8 is Any[0, 0, 0, 0, 0, 0, 0, 0, 0, 0, 0, 0, 0, 0, 0, 0, 0, 0, 0, 0, 0, 0, 0, 0, 0]\n",
      "delta at job 20 and time 9 is Any[0, 0, 0, 0, 0, 0, 0, 0, 0, 0, 0, 0, 0, 0, 0, 0, 0, 0, 0, 0, 0, 0, 0, 0, 0]\n",
      "delta at job 20 and time 10 is Any[0, 0, 0, 0, 0, 0, 0, 0, 0, 0, 0, 0, 0, 0, 0, 0, 0, 0, 0, 1, 0, 0, 0, 0, 0]\n",
      "delta at job 20 and time 11 is Any[0, 0, 0, 0, 0, 0, 0, 0, 0, 0, 0, 0, 0, 0, 0, 0, 0, 0, 0, 1, 0, 0, 0, 0, 0]\n",
      "delta at job 20 and time 12 is Any[0, 0, 0, 0, 0, 0, 0, 0, 0, 0, 0, 0, 0, 0, 0, 0, 0, 0, 0, 1, 0, 0, 0, 0, 0]\n",
      "delta at job 20 and time 13 is Any[0, 0, 0, 0, 0, 0, 0, 0, 0, 0, 0, 0, 0, 0, 0, 0, 0, 0, 0, 1, 0, 0, 0, 0, 0]\n",
      "delta at job 20 and time 14 is Any[0, 0, 0, 0, 0, 0, 0, 0, 0, 0, 0, 0, 0, 0, 0, 0, 0, 0, 0, 0, 0, 0, 0, 0, 0]\n",
      "delta at job 20 and time 15 is Any[0, 0, 0, 0, 0, 0, 0, 0, 0, 0, 0, 0, 0, 0, 0, 0, 0, 0, 0, 0, 0, 0, 0, 0, 0]\n",
      "delta at job 20 and time 16 is Any[0, 0, 0, 0, 0, 0, 0, 0, 0, 0, 0, 0, 0, 0, 0, 0, 0, 0, 0, 0, 0, 0, 0, 0, 0]\n",
      "delta at job 20 and time 17 is Any[0, 0, 0, 0, 0, 0, 0, 0, 0, 0, 0, 0, 0, 0, 0, 0, 0, 0, 0, 0, 0, 0, 0, 0, 0]\n",
      "delta at job 20 and time 18 is Any[0, 0, 0, 0, 0, 0, 0, 0, 0, 0, 0, 0, 0, 0, 0, 0, 0, 0, 0, 0, 0, 0, 0, 0, 0]\n",
      "delta at job 20 and time 19 is Any[0, 0, 0, 0, 0, 0, 0, 0, 0, 0, 0, 0, 0, 0, 0, 0, 0, 0, 0, 0, 0, 0, 0, 0, 0]\n",
      "delta at job 20 and time 20 is Any[0, 0, 0, 0, 0, 0, 0, 0, 0, 0, 0, 0, 0, 0, 0, 0, 0, 0, 0, 0, 0, 0, 0, 0, 0]\n",
      "delta at job 20 and time 21 is Any[0, 0, 0, 0, 0, 0, 0, 0, 0, 0, 0, 0, 0, 0, 0, 0, 0, 0, 0, 0, 0, 0, 0, 0, 0]\n",
      "delta at job 20 and time 22 is Any[0, 0, 0, 0, 0, 0, 0, 0, 0, 0, 0, 0, 0, 0, 0, 0, 0, 0, 0, 0, 0, 0, 0, 0, 0]\n",
      "delta at job 20 and time 23 is Any[0, 0, 0, 0, 0, 0, 0, 0, 0, 0, 0, 0, 0, 0, 0, 0, 0, 0, 0, 0, 0, 0, 0, 0, 0]\n",
      "delta at job 20 and time 24 is Any[0, 0, 0, 0, 0, 0, 0, 0, 0, 0, 0, 0, 0, 0, 0, 0, 0, 0, 0, 0, 0, 0, 0, 0, 0]\n",
      "delta at job 20 and time 25 is Any[0, 0, 0, 0, 0, 0, 0, 0, 0, 0, 0, 0, 0, 0, 0, 0, 0, 0, 0, 0, 0, 0, 0, 0, 0]\n",
      "delta at job 20 and time 26 is Any[0, 0, 0, 0, 0, 0, 0, 0, 0, 0, 0, 0, 0, 0, 0, 0, 0, 0, 0, 0, 0, 0, 0, 0, 0]\n",
      "delta at job 20 and time 27 is Any[0, 0, 0, 0, 0, 0, 0, 0, 0, 0, 0, 0, 0, 0, 0, 0, 0, 0, 0, 0, 0, 0, 0, 0, 0]\n",
      "delta at job 20 and time 28 is Any[0, 0, 0, 0, 0, 0, 0, 0, 0, 0, 0, 0, 0, 0, 0, 0, 0, 0, 0, 0, 0, 0, 0, 0, 0]\n",
      "delta at job 20 and time 29 is Any[0, 0, 0, 0, 0, 0, 0, 0, 0, 0, 0, 0, 0, 0, 0, 0, 0, 0, 0, 0, 0, 0, 0, 0, 0]\n",
      "delta at job 20 and time 30 is Any[0, 0, 0, 0, 0, 0, 0, 0, 0, 0, 0, 0, 0, 0, 0, 0, 0, 0, 0, 0, 0, 0, 0, 0, 0]\n",
      "delta at job 20 and time 31 is Any[0, 0, 0, 0, 0, 0, 0, 0, 0, 0, 0, 0, 0, 0, 0, 0, 0, 0, 0, 0, 0, 0, 0, 0, 0]\n",
      "delta at job 20 and time 32 is Any[0, 0, 0, 0, 0, 0, 0, 0, 0, 0, 0, 0, 0, 0, 0, 0, 0, 0, 0, 0, 0, 0, 0, 0, 0]\n",
      "delta at job 20 and time 33 is Any[0, 0, 0, 0, 0, 0, 0, 0, 0, 0, 0, 0, 0, 0, 0, 0, 0, 0, 0, 0, 0, 0, 0, 0, 0]\n",
      "delta at job 20 and time 34 is Any[0, 0, 0, 0, 0, 0, 0, 0, 0, 0, 0, 0, 0, 0, 0, 0, 0, 0, 0, 0, 0, 0, 0, 0, 0]\n",
      "delta at job 20 and time 35 is Any[0, 0, 0, 0, 0, 0, 0, 0, 0, 0, 0, 0, 0, 0, 0, 0, 0, 0, 0, 0, 0, 0, 0, 0, 0]\n",
      "delta at job 20 and time 36 is Any[0, 0, 0, 0, 0, 0, 0, 0, 0, 0, 0, 0, 0, 0, 0, 0, 0, 0, 0, 0, 0, 0, 0, 0, 0]\n",
      "delta at job 20 and time 37 is Any[0, 0, 0, 0, 0, 0, 0, 0, 0, 0, 0, 0, 0, 0, 0, 0, 0, 0, 0, 0, 0, 0, 0, 0, 0]\n",
      "delta at job 20 and time 38 is Any[0, 0, 0, 0, 0, 0, 0, 0, 0, 0, 0, 0, 0, 0, 0, 0, 0, 0, 0, 0, 0, 0, 0, 0, 0]\n",
      "delta at job 20 and time 39 is Any[0, 0, 0, 0, 0, 0, 0, 0, 0, 0, 0, 0, 0, 0, 0, 0, 0, 0, 0, 0, 0, 0, 0, 0, 0]\n",
      "delta at job 20 and time 40 is Any[0, 0, 0, 0, 0, 0, 0, 0, 0, 0, 0, 0, 0, 0, 0, 0, 0, 0, 0, 0, 0, 0, 0, 0, 0]\n",
      "delta at job 20 and time 41 is Any[0, 0, 0, 0, 0, 0, 0, 0, 0, 0, 0, 0, 0, 0, 0, 0, 0, 0, 0, 0, 0, 0, 0, 0, 0]\n",
      "delta at job 20 and time 42 is Any[0, 0, 0, 0, 0, 0, 0, 0, 0, 0, 0, 0, 0, 0, 0, 0, 0, 0, 0, 0, 0, 0, 0, 0, 0]\n",
      "delta at job 20 and time 43 is Any[0, 0, 0, 0, 0, 0, 0, 0, 0, 0, 0, 0, 0, 0, 0, 0, 0, 0, 0, 0, 0, 0, 0, 0, 0]\n",
      "delta at job 20 and time 44 is Any[0, 0, 0, 0, 0, 0, 0, 0, 0, 0, 0, 0, 0, 0, 0, 0, 0, 0, 0, 0, 0, 0, 0, 0, 0]\n",
      "delta at job 20 and time 45 is Any[0, 0, 0, 0, 0, 0, 0, 0, 0, 0, 0, 0, 0, 0, 0, 0, 0, 0, 0, 0, 0, 0, 0, 0, 0]\n",
      "\n",
      "delta at job 21 and time 1 is Any[0, 0, 0, 0, 0, 0, 0, 0, 0, 0, 0, 0, 0, 0, 0, 0, 0, 0, 0, 0, 0, 0, 0, 0, 0]\n",
      "delta at job 21 and time 2 is Any[0, 0, 0, 0, 0, 0, 0, 0, 0, 0, 0, 0, 0, 0, 0, 0, 0, 0, 0, 0, 0, 0, 0, 0, 0]\n",
      "delta at job 21 and time 3 is Any[0, 0, 0, 0, 0, 0, 0, 0, 0, 0, 0, 0, 0, 0, 0, 0, 0, 0, 0, 0, 0, 0, 0, 0, 0]\n",
      "delta at job 21 and time 4 is Any[0, 0, 0, 0, 0, 0, 0, 0, 0, 0, 0, 0, 0, 0, 0, 0, 0, 0, 0, 0, 0, 0, 0, 0, 0]\n",
      "delta at job 21 and time 5 is Any[0, 0, 0, 0, 0, 0, 0, 0, 0, 0, 0, 0, 0, 0, 0, 0, 0, 0, 0, 0, 0, 0, 0, 0, 0]\n",
      "delta at job 21 and time 6 is Any[0, 0, 0, 0, 0, 0, 0, 0, 0, 0, 0, 0, 0, 0, 0, 0, 0, 0, 0, 0, 0, 0, 0, 0, 0]\n",
      "delta at job 21 and time 7 is Any[0, 0, 0, 0, 0, 0, 0, 0, 0, 0, 0, 0, 0, 0, 0, 0, 0, 0, 0, 0, 0, 0, 0, 0, 0]\n",
      "delta at job 21 and time 8 is Any[0, 0, 0, 0, 0, 0, 0, 0, 0, 0, 0, 0, 0, 0, 0, 0, 0, 0, 0, 0, 0, 0, 0, 0, 0]\n",
      "delta at job 21 and time 9 is Any[0, 0, 0, 0, 0, 0, 0, 0, 0, 0, 0, 0, 0, 0, 0, 0, 0, 0, 0, 0, 0, 0, 0, 0, 0]\n",
      "delta at job 21 and time 10 is Any[0, 0, 0, 0, 0, 0, 0, 0, 0, 0, 0, 0, 0, 0, 0, 0, 0, 0, 0, 0, 0, 0, 0, 0, 0]\n",
      "delta at job 21 and time 11 is Any[0, 0, 0, 0, 0, 0, 0, 0, 0, 0, 0, 0, 0, 0, 0, 0, 0, 0, 0, 0, 0, 0, 0, 0, 0]\n",
      "delta at job 21 and time 12 is Any[0, 0, 0, 0, 0, 0, 0, 0, 0, 0, 0, 0, 0, 0, 0, 0, 0, 0, 0, 0, 0, 0, 0, 0, 0]\n",
      "delta at job 21 and time 13 is Any[0, 0, 0, 0, 0, 0, 0, 0, 0, 0, 0, 0, 0, 0, 0, 0, 0, 0, 0, 0, 0, 0, 0, 0, 0]\n",
      "delta at job 21 and time 14 is Any[0, 0, 0, 0, 0, 0, 0, 0, 0, 0, 0, 0, 0, 0, 0, 0, 0, 0, 0, 0, 0, 0, 0, 0, 0]\n",
      "delta at job 21 and time 15 is Any[0, 0, 0, 0, 0, 0, 0, 0, 0, 0, 0, 0, 0, 0, 0, 0, 0, 0, 0, 0, 1, 0, 0, 0, 0]\n",
      "delta at job 21 and time 16 is Any[0, 0, 0, 0, 0, 0, 0, 0, 0, 0, 0, 0, 0, 0, 0, 0, 0, 0, 0, 0, 1, 0, 0, 0, 0]\n",
      "delta at job 21 and time 17 is Any[0, 0, 0, 0, 0, 0, 0, 0, 0, 0, 0, 0, 0, 0, 0, 0, 0, 0, 0, 0, 1, 0, 0, 0, 0]\n",
      "delta at job 21 and time 18 is Any[0, 0, 0, 0, 0, 0, 0, 0, 0, 0, 0, 0, 0, 0, 0, 0, 0, 0, 0, 0, 1, 0, 0, 0, 0]\n",
      "delta at job 21 and time 19 is Any[0, 0, 0, 0, 0, 0, 0, 0, 0, 0, 0, 0, 0, 0, 0, 0, 0, 0, 0, 0, 1, 0, 0, 0, 0]\n",
      "delta at job 21 and time 20 is Any[0, 0, 0, 0, 0, 0, 0, 0, 0, 0, 0, 0, 0, 0, 0, 0, 0, 0, 0, 0, 0, 0, 0, 0, 0]\n",
      "delta at job 21 and time 21 is Any[0, 0, 0, 0, 0, 0, 0, 0, 0, 0, 0, 0, 0, 0, 0, 0, 0, 0, 0, 0, 0, 0, 0, 0, 0]\n",
      "delta at job 21 and time 22 is Any[0, 0, 0, 0, 0, 0, 0, 0, 0, 0, 0, 0, 0, 0, 0, 0, 0, 0, 0, 0, 0, 0, 0, 0, 0]\n",
      "delta at job 21 and time 23 is Any[0, 0, 0, 0, 0, 0, 0, 0, 0, 0, 0, 0, 0, 0, 0, 0, 0, 0, 0, 0, 0, 0, 0, 0, 0]\n",
      "delta at job 21 and time 24 is Any[0, 0, 0, 0, 0, 0, 0, 0, 0, 0, 0, 0, 0, 0, 0, 0, 0, 0, 0, 0, 0, 0, 0, 0, 0]\n",
      "delta at job 21 and time 25 is Any[0, 0, 0, 0, 0, 0, 0, 0, 0, 0, 0, 0, 0, 0, 0, 0, 0, 0, 0, 0, 0, 0, 0, 0, 0]\n",
      "delta at job 21 and time 26 is Any[0, 0, 0, 0, 0, 0, 0, 0, 0, 0, 0, 0, 0, 0, 0, 0, 0, 0, 0, 0, 0, 0, 0, 0, 0]\n",
      "delta at job 21 and time 27 is Any[0, 0, 0, 0, 0, 0, 0, 0, 0, 0, 0, 0, 0, 0, 0, 0, 0, 0, 0, 0, 0, 0, 0, 0, 0]\n",
      "delta at job 21 and time 28 is Any[0, 0, 0, 0, 0, 0, 0, 0, 0, 0, 0, 0, 0, 0, 0, 0, 0, 0, 0, 0, 0, 0, 0, 0, 0]\n",
      "delta at job 21 and time 29 is Any[0, 0, 0, 0, 0, 0, 0, 0, 0, 0, 0, 0, 0, 0, 0, 0, 0, 0, 0, 0, 0, 0, 0, 0, 0]\n",
      "delta at job 21 and time 30 is Any[0, 0, 0, 0, 0, 0, 0, 0, 0, 0, 0, 0, 0, 0, 0, 0, 0, 0, 0, 0, 0, 0, 0, 0, 0]\n",
      "delta at job 21 and time 31 is Any[0, 0, 0, 0, 0, 0, 0, 0, 0, 0, 0, 0, 0, 0, 0, 0, 0, 0, 0, 0, 0, 0, 0, 0, 0]\n",
      "delta at job 21 and time 32 is Any[0, 0, 0, 0, 0, 0, 0, 0, 0, 0, 0, 0, 0, 0, 0, 0, 0, 0, 0, 0, 0, 0, 0, 0, 0]\n",
      "delta at job 21 and time 33 is Any[0, 0, 0, 0, 0, 0, 0, 0, 0, 0, 0, 0, 0, 0, 0, 0, 0, 0, 0, 0, 0, 0, 0, 0, 0]\n",
      "delta at job 21 and time 34 is Any[0, 0, 0, 0, 0, 0, 0, 0, 0, 0, 0, 0, 0, 0, 0, 0, 0, 0, 0, 0, 0, 0, 0, 0, 0]\n",
      "delta at job 21 and time 35 is Any[0, 0, 0, 0, 0, 0, 0, 0, 0, 0, 0, 0, 0, 0, 0, 0, 0, 0, 0, 0, 0, 0, 0, 0, 0]\n",
      "delta at job 21 and time 36 is Any[0, 0, 0, 0, 0, 0, 0, 0, 0, 0, 0, 0, 0, 0, 0, 0, 0, 0, 0, 0, 0, 0, 0, 0, 0]\n",
      "delta at job 21 and time 37 is Any[0, 0, 0, 0, 0, 0, 0, 0, 0, 0, 0, 0, 0, 0, 0, 0, 0, 0, 0, 0, 0, 0, 0, 0, 0]\n",
      "delta at job 21 and time 38 is Any[0, 0, 0, 0, 0, 0, 0, 0, 0, 0, 0, 0, 0, 0, 0, 0, 0, 0, 0, 0, 0, 0, 0, 0, 0]\n",
      "delta at job 21 and time 39 is Any[0, 0, 0, 0, 0, 0, 0, 0, 0, 0, 0, 0, 0, 0, 0, 0, 0, 0, 0, 0, 0, 0, 0, 0, 0]\n",
      "delta at job 21 and time 40 is Any[0, 0, 0, 0, 0, 0, 0, 0, 0, 0, 0, 0, 0, 0, 0, 0, 0, 0, 0, 0, 0, 0, 0, 0, 0]\n",
      "delta at job 21 and time 41 is Any[0, 0, 0, 0, 0, 0, 0, 0, 0, 0, 0, 0, 0, 0, 0, 0, 0, 0, 0, 0, 0, 0, 0, 0, 0]\n",
      "delta at job 21 and time 42 is Any[0, 0, 0, 0, 0, 0, 0, 0, 0, 0, 0, 0, 0, 0, 0, 0, 0, 0, 0, 0, 0, 0, 0, 0, 0]\n",
      "delta at job 21 and time 43 is Any[0, 0, 0, 0, 0, 0, 0, 0, 0, 0, 0, 0, 0, 0, 0, 0, 0, 0, 0, 0, 0, 0, 0, 0, 0]\n",
      "delta at job 21 and time 44 is Any[0, 0, 0, 0, 0, 0, 0, 0, 0, 0, 0, 0, 0, 0, 0, 0, 0, 0, 0, 0, 0, 0, 0, 0, 0]\n",
      "delta at job 21 and time 45 is Any[0, 0, 0, 0, 0, 0, 0, 0, 0, 0, 0, 0, 0, 0, 0, 0, 0, 0, 0, 0, 0, 0, 0, 0, 0]\n",
      "\n",
      "delta at job 22 and time 1 is Any[0, 0, 0, 0, 0, 0, 0, 0, 0, 0, 0, 0, 0, 0, 0, 0, 0, 0, 0, 0, 0, 0, 0, 0, 0]\n",
      "delta at job 22 and time 2 is Any[0, 0, 0, 0, 0, 0, 0, 0, 0, 0, 0, 0, 0, 0, 0, 0, 0, 0, 0, 0, 0, 0, 0, 0, 0]\n",
      "delta at job 22 and time 3 is Any[0, 0, 0, 0, 0, 0, 0, 0, 0, 0, 0, 0, 0, 0, 0, 0, 0, 0, 0, 0, 0, 0, 0, 0, 0]\n",
      "delta at job 22 and time 4 is Any[0, 0, 0, 0, 0, 0, 0, 0, 0, 0, 0, 0, 0, 0, 0, 0, 0, 0, 0, 0, 0, 0, 0, 0, 0]\n",
      "delta at job 22 and time 5 is Any[0, 0, 0, 0, 0, 0, 0, 0, 0, 0, 0, 0, 0, 0, 0, 0, 0, 0, 0, 0, 0, 0, 0, 0, 0]\n",
      "delta at job 22 and time 6 is Any[0, 0, 0, 0, 0, 0, 0, 0, 0, 0, 0, 0, 0, 0, 0, 0, 0, 0, 0, 0, 0, 0, 0, 0, 0]\n",
      "delta at job 22 and time 7 is Any[0, 0, 0, 0, 0, 0, 0, 0, 0, 0, 0, 0, 0, 0, 0, 0, 0, 0, 0, 0, 0, 0, 0, 0, 0]\n",
      "delta at job 22 and time 8 is Any[0, 0, 0, 0, 0, 0, 0, 0, 0, 0, 0, 0, 0, 0, 0, 0, 0, 0, 0, 0, 0, 0, 0, 0, 0]\n",
      "delta at job 22 and time 9 is Any[0, 0, 0, 0, 0, 0, 0, 0, 0, 0, 0, 0, 0, 0, 0, 0, 0, 0, 0, 0, 0, 0, 0, 0, 0]\n",
      "delta at job 22 and time 10 is Any[0, 0, 0, 0, 0, 0, 0, 0, 0, 0, 0, 0, 0, 0, 0, 0, 0, 0, 0, 0, 0, 0, 0, 0, 0]\n",
      "delta at job 22 and time 11 is Any[0, 0, 0, 0, 0, 0, 0, 0, 0, 0, 0, 0, 0, 0, 0, 0, 0, 0, 0, 0, 0, 0, 0, 0, 0]\n",
      "delta at job 22 and time 12 is Any[0, 0, 0, 0, 0, 0, 0, 0, 0, 0, 0, 0, 0, 0, 0, 0, 0, 0, 0, 0, 0, 0, 0, 0, 0]\n",
      "delta at job 22 and time 13 is Any[0, 0, 0, 0, 0, 0, 0, 0, 0, 0, 0, 0, 0, 0, 0, 0, 0, 0, 0, 0, 0, 0, 0, 0, 0]\n",
      "delta at job 22 and time 14 is Any[0, 0, 0, 0, 0, 0, 0, 0, 0, 0, 0, 0, 0, 0, 0, 0, 0, 0, 0, 0, 0, 0, 0, 0, 0]\n",
      "delta at job 22 and time 15 is Any[0, 0, 0, 0, 0, 0, 0, 0, 0, 0, 0, 0, 0, 0, 0, 0, 0, 0, 0, 0, 0, 0, 0, 0, 0]\n",
      "delta at job 22 and time 16 is Any[0, 0, 0, 0, 0, 0, 0, 0, 0, 0, 0, 0, 0, 0, 0, 0, 0, 0, 0, 0, 0, 0, 0, 0, 0]\n",
      "delta at job 22 and time 17 is Any[0, 0, 0, 0, 0, 0, 0, 0, 0, 0, 0, 0, 0, 0, 0, 0, 0, 0, 0, 0, 0, 0, 0, 0, 0]\n",
      "delta at job 22 and time 18 is Any[0, 0, 0, 0, 0, 0, 0, 0, 0, 0, 0, 0, 0, 0, 0, 0, 0, 0, 0, 0, 0, 0, 0, 0, 0]\n",
      "delta at job 22 and time 19 is Any[0, 0, 0, 0, 0, 0, 0, 0, 0, 0, 0, 0, 0, 0, 0, 0, 0, 0, 0, 0, 0, 0, 0, 0, 0]\n",
      "delta at job 22 and time 20 is Any[0, 0, 0, 0, 0, 0, 0, 0, 0, 0, 0, 0, 0, 0, 0, 0, 0, 0, 0, 0, 0, 0, 0, 0, 0]\n",
      "delta at job 22 and time 21 is Any[0, 0, 0, 0, 0, 0, 0, 0, 0, 0, 0, 0, 0, 0, 0, 0, 0, 0, 0, 0, 0, 0, 0, 0, 0]\n",
      "delta at job 22 and time 22 is Any[0, 0, 0, 0, 0, 0, 0, 0, 0, 0, 0, 0, 0, 0, 0, 0, 0, 0, 0, 0, 0, 0, 0, 0, 0]\n",
      "delta at job 22 and time 23 is Any[0, 0, 0, 0, 0, 0, 0, 0, 0, 0, 0, 0, 0, 0, 0, 0, 0, 0, 0, 0, 0, 0, 0, 0, 0]\n",
      "delta at job 22 and time 24 is Any[0, 0, 0, 0, 0, 0, 0, 0, 0, 0, 0, 0, 0, 0, 0, 0, 0, 0, 0, 0, 0, 1, 0, 0, 0]\n",
      "delta at job 22 and time 25 is Any[0, 0, 0, 0, 0, 0, 0, 0, 0, 0, 0, 0, 0, 0, 0, 0, 0, 0, 0, 0, 0, 1, 0, 0, 0]\n",
      "delta at job 22 and time 26 is Any[0, 0, 0, 0, 0, 0, 0, 0, 0, 0, 0, 0, 0, 0, 0, 0, 0, 0, 0, 0, 0, 1, 0, 0, 0]\n",
      "delta at job 22 and time 27 is Any[0, 0, 0, 0, 0, 0, 0, 0, 0, 0, 0, 0, 0, 0, 0, 0, 0, 0, 0, 0, 0, 0, 0, 0, 0]\n",
      "delta at job 22 and time 28 is Any[0, 0, 0, 0, 0, 0, 0, 0, 0, 0, 0, 0, 0, 0, 0, 0, 0, 0, 0, 0, 0, 0, 0, 0, 0]\n",
      "delta at job 22 and time 29 is Any[0, 0, 0, 0, 0, 0, 0, 0, 0, 0, 0, 0, 0, 0, 0, 0, 0, 0, 0, 0, 0, 0, 0, 0, 0]\n",
      "delta at job 22 and time 30 is Any[0, 0, 0, 0, 0, 0, 0, 0, 0, 0, 0, 0, 0, 0, 0, 0, 0, 0, 0, 0, 0, 0, 0, 0, 0]\n",
      "delta at job 22 and time 31 is Any[0, 0, 0, 0, 0, 0, 0, 0, 0, 0, 0, 0, 0, 0, 0, 0, 0, 0, 0, 0, 0, 0, 0, 0, 0]\n",
      "delta at job 22 and time 32 is Any[0, 0, 0, 0, 0, 0, 0, 0, 0, 0, 0, 0, 0, 0, 0, 0, 0, 0, 0, 0, 0, 0, 0, 0, 0]\n",
      "delta at job 22 and time 33 is Any[0, 0, 0, 0, 0, 0, 0, 0, 0, 0, 0, 0, 0, 0, 0, 0, 0, 0, 0, 0, 0, 0, 0, 0, 0]\n",
      "delta at job 22 and time 34 is Any[0, 0, 0, 0, 0, 0, 0, 0, 0, 0, 0, 0, 0, 0, 0, 0, 0, 0, 0, 0, 0, 0, 0, 0, 0]\n",
      "delta at job 22 and time 35 is Any[0, 0, 0, 0, 0, 0, 0, 0, 0, 0, 0, 0, 0, 0, 0, 0, 0, 0, 0, 0, 0, 0, 0, 0, 0]\n",
      "delta at job 22 and time 36 is Any[0, 0, 0, 0, 0, 0, 0, 0, 0, 0, 0, 0, 0, 0, 0, 0, 0, 0, 0, 0, 0, 0, 0, 0, 0]\n",
      "delta at job 22 and time 37 is Any[0, 0, 0, 0, 0, 0, 0, 0, 0, 0, 0, 0, 0, 0, 0, 0, 0, 0, 0, 0, 0, 0, 0, 0, 0]\n",
      "delta at job 22 and time 38 is Any[0, 0, 0, 0, 0, 0, 0, 0, 0, 0, 0, 0, 0, 0, 0, 0, 0, 0, 0, 0, 0, 0, 0, 0, 0]\n",
      "delta at job 22 and time 39 is Any[0, 0, 0, 0, 0, 0, 0, 0, 0, 0, 0, 0, 0, 0, 0, 0, 0, 0, 0, 0, 0, 0, 0, 0, 0]\n",
      "delta at job 22 and time 40 is Any[0, 0, 0, 0, 0, 0, 0, 0, 0, 0, 0, 0, 0, 0, 0, 0, 0, 0, 0, 0, 0, 0, 0, 0, 0]\n",
      "delta at job 22 and time 41 is Any[0, 0, 0, 0, 0, 0, 0, 0, 0, 0, 0, 0, 0, 0, 0, 0, 0, 0, 0, 0, 0, 0, 0, 0, 0]\n",
      "delta at job 22 and time 42 is Any[0, 0, 0, 0, 0, 0, 0, 0, 0, 0, 0, 0, 0, 0, 0, 0, 0, 0, 0, 0, 0, 0, 0, 0, 0]\n",
      "delta at job 22 and time 43 is Any[0, 0, 0, 0, 0, 0, 0, 0, 0, 0, 0, 0, 0, 0, 0, 0, 0, 0, 0, 0, 0, 0, 0, 0, 0]\n",
      "delta at job 22 and time 44 is Any[0, 0, 0, 0, 0, 0, 0, 0, 0, 0, 0, 0, 0, 0, 0, 0, 0, 0, 0, 0, 0, 0, 0, 0, 0]\n",
      "delta at job 22 and time 45 is Any[0, 0, 0, 0, 0, 0, 0, 0, 0, 0, 0, 0, 0, 0, 0, 0, 0, 0, 0, 0, 0, 0, 0, 0, 0]\n",
      "\n",
      "delta at job 23 and time 1 is Any[0, 0, 0, 0, 0, 0, 0, 0, 0, 0, 0, 0, 0, 0, 0, 0, 0, 0, 0, 0, 0, 0, 0, 0, 0]\n",
      "delta at job 23 and time 2 is Any[0, 0, 0, 0, 0, 0, 0, 0, 0, 0, 0, 0, 0, 0, 0, 0, 0, 0, 0, 0, 0, 0, 0, 0, 0]\n",
      "delta at job 23 and time 3 is Any[0, 0, 0, 0, 0, 0, 0, 0, 0, 0, 0, 0, 0, 0, 0, 0, 0, 0, 0, 0, 0, 0, 0, 0, 0]\n",
      "delta at job 23 and time 4 is Any[0, 0, 0, 0, 0, 0, 0, 0, 0, 0, 0, 0, 0, 0, 0, 0, 0, 0, 0, 0, 0, 0, 0, 0, 0]\n",
      "delta at job 23 and time 5 is Any[0, 0, 0, 0, 0, 0, 0, 0, 0, 0, 0, 0, 0, 0, 0, 0, 0, 0, 0, 0, 0, 0, 0, 0, 0]\n",
      "delta at job 23 and time 6 is Any[0, 0, 0, 0, 0, 0, 0, 0, 0, 0, 0, 0, 0, 0, 0, 0, 0, 0, 0, 0, 0, 0, 0, 0, 0]\n",
      "delta at job 23 and time 7 is Any[0, 0, 0, 0, 0, 0, 0, 0, 0, 0, 0, 0, 0, 0, 0, 0, 0, 0, 0, 0, 0, 0, 0, 0, 0]\n",
      "delta at job 23 and time 8 is Any[0, 0, 0, 0, 0, 0, 0, 0, 0, 0, 0, 0, 0, 0, 0, 0, 0, 0, 0, 0, 0, 0, 0, 0, 0]\n",
      "delta at job 23 and time 9 is Any[0, 0, 0, 0, 0, 0, 0, 0, 0, 0, 0, 0, 0, 0, 0, 0, 0, 0, 0, 0, 0, 0, 0, 0, 0]\n",
      "delta at job 23 and time 10 is Any[0, 0, 0, 0, 0, 0, 0, 0, 0, 0, 0, 0, 0, 0, 0, 0, 0, 0, 0, 0, 0, 0, 0, 0, 0]\n",
      "delta at job 23 and time 11 is Any[0, 0, 0, 0, 0, 0, 0, 0, 0, 0, 0, 0, 0, 0, 0, 0, 0, 0, 0, 0, 0, 0, 0, 0, 0]\n",
      "delta at job 23 and time 12 is Any[0, 0, 0, 0, 0, 0, 0, 0, 0, 0, 0, 0, 0, 0, 0, 0, 0, 0, 0, 0, 0, 0, 0, 0, 0]\n",
      "delta at job 23 and time 13 is Any[0, 0, 0, 0, 0, 0, 0, 0, 0, 0, 0, 0, 0, 0, 0, 0, 0, 0, 0, 0, 0, 0, 0, 0, 0]\n",
      "delta at job 23 and time 14 is Any[0, 0, 0, 0, 0, 0, 0, 0, 0, 0, 0, 0, 0, 0, 0, 0, 0, 0, 0, 0, 0, 0, 0, 0, 0]\n",
      "delta at job 23 and time 15 is Any[0, 0, 0, 0, 0, 0, 0, 0, 0, 0, 0, 0, 0, 0, 0, 0, 0, 0, 0, 0, 0, 0, 0, 0, 0]\n",
      "delta at job 23 and time 16 is Any[0, 0, 0, 0, 0, 0, 0, 0, 0, 0, 0, 0, 0, 0, 0, 0, 0, 0, 0, 0, 0, 0, 0, 0, 0]\n",
      "delta at job 23 and time 17 is Any[0, 0, 0, 0, 0, 0, 0, 0, 0, 0, 0, 0, 0, 0, 0, 0, 0, 0, 0, 0, 0, 0, 0, 0, 0]\n",
      "delta at job 23 and time 18 is Any[0, 0, 0, 0, 0, 0, 0, 0, 0, 0, 0, 0, 0, 0, 0, 0, 0, 0, 0, 0, 0, 0, 0, 0, 0]\n",
      "delta at job 23 and time 19 is Any[0, 0, 0, 0, 0, 0, 0, 0, 0, 0, 0, 0, 0, 0, 0, 0, 0, 0, 0, 0, 0, 0, 0, 0, 0]\n",
      "delta at job 23 and time 20 is Any[0, 0, 0, 0, 0, 0, 0, 0, 0, 0, 0, 0, 0, 0, 0, 0, 0, 0, 0, 0, 0, 0, 0, 0, 0]\n",
      "delta at job 23 and time 21 is Any[0, 0, 0, 0, 0, 0, 0, 0, 0, 0, 0, 0, 0, 0, 0, 0, 0, 0, 0, 0, 0, 0, 0, 0, 0]\n",
      "delta at job 23 and time 22 is Any[0, 0, 0, 0, 0, 0, 0, 0, 0, 0, 0, 0, 0, 0, 0, 0, 0, 0, 0, 0, 0, 0, 0, 0, 0]\n",
      "delta at job 23 and time 23 is Any[0, 0, 0, 0, 0, 0, 0, 0, 0, 0, 0, 0, 0, 0, 0, 0, 0, 0, 0, 0, 0, 0, 0, 0, 0]\n",
      "delta at job 23 and time 24 is Any[0, 0, 0, 0, 0, 0, 0, 0, 0, 0, 0, 0, 0, 0, 0, 0, 0, 0, 0, 0, 0, 0, 0, 0, 0]\n",
      "delta at job 23 and time 25 is Any[0, 0, 0, 0, 0, 0, 0, 0, 0, 0, 0, 0, 0, 0, 0, 0, 0, 0, 0, 0, 0, 0, 0, 0, 0]\n",
      "delta at job 23 and time 26 is Any[0, 0, 0, 0, 0, 0, 0, 0, 0, 0, 0, 0, 0, 0, 0, 0, 0, 0, 0, 0, 0, 0, 0, 0, 0]\n",
      "delta at job 23 and time 27 is Any[0, 0, 0, 0, 0, 0, 0, 0, 0, 0, 0, 0, 0, 0, 0, 0, 0, 0, 0, 0, 0, 0, 1, 0, 0]\n",
      "delta at job 23 and time 28 is Any[0, 0, 0, 0, 0, 0, 0, 0, 0, 0, 0, 0, 0, 0, 0, 0, 0, 0, 0, 0, 0, 0, 1, 0, 0]\n",
      "delta at job 23 and time 29 is Any[0, 0, 0, 0, 0, 0, 0, 0, 0, 0, 0, 0, 0, 0, 0, 0, 0, 0, 0, 0, 0, 0, 1, 0, 0]\n",
      "delta at job 23 and time 30 is Any[0, 0, 0, 0, 0, 0, 0, 0, 0, 0, 0, 0, 0, 0, 0, 0, 0, 0, 0, 0, 0, 0, 1, 0, 0]\n",
      "delta at job 23 and time 31 is Any[0, 0, 0, 0, 0, 0, 0, 0, 0, 0, 0, 0, 0, 0, 0, 0, 0, 0, 0, 0, 0, 0, 1, 0, 0]\n",
      "delta at job 23 and time 32 is Any[0, 0, 0, 0, 0, 0, 0, 0, 0, 0, 0, 0, 0, 0, 0, 0, 0, 0, 0, 0, 0, 0, 1, 0, 0]\n",
      "delta at job 23 and time 33 is Any[0, 0, 0, 0, 0, 0, 0, 0, 0, 0, 0, 0, 0, 0, 0, 0, 0, 0, 0, 0, 0, 0, 0, 0, 0]\n",
      "delta at job 23 and time 34 is Any[0, 0, 0, 0, 0, 0, 0, 0, 0, 0, 0, 0, 0, 0, 0, 0, 0, 0, 0, 0, 0, 0, 0, 0, 0]\n",
      "delta at job 23 and time 35 is Any[0, 0, 0, 0, 0, 0, 0, 0, 0, 0, 0, 0, 0, 0, 0, 0, 0, 0, 0, 0, 0, 0, 0, 0, 0]\n",
      "delta at job 23 and time 36 is Any[0, 0, 0, 0, 0, 0, 0, 0, 0, 0, 0, 0, 0, 0, 0, 0, 0, 0, 0, 0, 0, 0, 0, 0, 0]\n",
      "delta at job 23 and time 37 is Any[0, 0, 0, 0, 0, 0, 0, 0, 0, 0, 0, 0, 0, 0, 0, 0, 0, 0, 0, 0, 0, 0, 0, 0, 0]\n",
      "delta at job 23 and time 38 is Any[0, 0, 0, 0, 0, 0, 0, 0, 0, 0, 0, 0, 0, 0, 0, 0, 0, 0, 0, 0, 0, 0, 0, 0, 0]\n",
      "delta at job 23 and time 39 is Any[0, 0, 0, 0, 0, 0, 0, 0, 0, 0, 0, 0, 0, 0, 0, 0, 0, 0, 0, 0, 0, 0, 0, 0, 0]\n",
      "delta at job 23 and time 40 is Any[0, 0, 0, 0, 0, 0, 0, 0, 0, 0, 0, 0, 0, 0, 0, 0, 0, 0, 0, 0, 0, 0, 0, 0, 0]\n",
      "delta at job 23 and time 41 is Any[0, 0, 0, 0, 0, 0, 0, 0, 0, 0, 0, 0, 0, 0, 0, 0, 0, 0, 0, 0, 0, 0, 0, 0, 0]\n",
      "delta at job 23 and time 42 is Any[0, 0, 0, 0, 0, 0, 0, 0, 0, 0, 0, 0, 0, 0, 0, 0, 0, 0, 0, 0, 0, 0, 0, 0, 0]\n",
      "delta at job 23 and time 43 is Any[0, 0, 0, 0, 0, 0, 0, 0, 0, 0, 0, 0, 0, 0, 0, 0, 0, 0, 0, 0, 0, 0, 0, 0, 0]\n",
      "delta at job 23 and time 44 is Any[0, 0, 0, 0, 0, 0, 0, 0, 0, 0, 0, 0, 0, 0, 0, 0, 0, 0, 0, 0, 0, 0, 0, 0, 0]\n",
      "delta at job 23 and time 45 is Any[0, 0, 0, 0, 0, 0, 0, 0, 0, 0, 0, 0, 0, 0, 0, 0, 0, 0, 0, 0, 0, 0, 0, 0, 0]\n",
      "\n",
      "delta at job 24 and time 1 is Any[0, 0, 0, 0, 0, 0, 0, 0, 0, 0, 0, 0, 0, 0, 0, 0, 0, 0, 0, 0, 0, 0, 0, 0, 0]\n",
      "delta at job 24 and time 2 is Any[0, 0, 0, 0, 0, 0, 0, 0, 0, 0, 0, 0, 0, 0, 0, 0, 0, 0, 0, 0, 0, 0, 0, 0, 0]\n",
      "delta at job 24 and time 3 is Any[0, 0, 0, 0, 0, 0, 0, 0, 0, 0, 0, 0, 0, 0, 0, 0, 0, 0, 0, 0, 0, 0, 0, 0, 0]\n",
      "delta at job 24 and time 4 is Any[0, 0, 0, 0, 0, 0, 0, 0, 0, 0, 0, 0, 0, 0, 0, 0, 0, 0, 0, 0, 0, 0, 0, 1, 0]\n",
      "delta at job 24 and time 5 is Any[0, 0, 0, 0, 0, 0, 0, 0, 0, 0, 0, 0, 0, 0, 0, 0, 0, 0, 0, 0, 0, 0, 0, 1, 0]\n",
      "delta at job 24 and time 6 is Any[0, 0, 0, 0, 0, 0, 0, 0, 0, 0, 0, 0, 0, 0, 0, 0, 0, 0, 0, 0, 0, 0, 0, 1, 0]\n",
      "delta at job 24 and time 7 is Any[0, 0, 0, 0, 0, 0, 0, 0, 0, 0, 0, 0, 0, 0, 0, 0, 0, 0, 0, 0, 0, 0, 0, 1, 0]\n",
      "delta at job 24 and time 8 is Any[0, 0, 0, 0, 0, 0, 0, 0, 0, 0, 0, 0, 0, 0, 0, 0, 0, 0, 0, 0, 0, 0, 0, 1, 0]\n",
      "delta at job 24 and time 9 is Any[0, 0, 0, 0, 0, 0, 0, 0, 0, 0, 0, 0, 0, 0, 0, 0, 0, 0, 0, 0, 0, 0, 0, 0, 0]\n",
      "delta at job 24 and time 10 is Any[0, 0, 0, 0, 0, 0, 0, 0, 0, 0, 0, 0, 0, 0, 0, 0, 0, 0, 0, 0, 0, 0, 0, 0, 0]\n",
      "delta at job 24 and time 11 is Any[0, 0, 0, 0, 0, 0, 0, 0, 0, 0, 0, 0, 0, 0, 0, 0, 0, 0, 0, 0, 0, 0, 0, 0, 0]\n",
      "delta at job 24 and time 12 is Any[0, 0, 0, 0, 0, 0, 0, 0, 0, 0, 0, 0, 0, 0, 0, 0, 0, 0, 0, 0, 0, 0, 0, 0, 0]\n",
      "delta at job 24 and time 13 is Any[0, 0, 0, 0, 0, 0, 0, 0, 0, 0, 0, 0, 0, 0, 0, 0, 0, 0, 0, 0, 0, 0, 0, 0, 0]\n",
      "delta at job 24 and time 14 is Any[0, 0, 0, 0, 0, 0, 0, 0, 0, 0, 0, 0, 0, 0, 0, 0, 0, 0, 0, 0, 0, 0, 0, 0, 0]\n",
      "delta at job 24 and time 15 is Any[0, 0, 0, 0, 0, 0, 0, 0, 0, 0, 0, 0, 0, 0, 0, 0, 0, 0, 0, 0, 0, 0, 0, 0, 0]\n",
      "delta at job 24 and time 16 is Any[0, 0, 0, 0, 0, 0, 0, 0, 0, 0, 0, 0, 0, 0, 0, 0, 0, 0, 0, 0, 0, 0, 0, 0, 0]\n",
      "delta at job 24 and time 17 is Any[0, 0, 0, 0, 0, 0, 0, 0, 0, 0, 0, 0, 0, 0, 0, 0, 0, 0, 0, 0, 0, 0, 0, 0, 0]\n",
      "delta at job 24 and time 18 is Any[0, 0, 0, 0, 0, 0, 0, 0, 0, 0, 0, 0, 0, 0, 0, 0, 0, 0, 0, 0, 0, 0, 0, 0, 0]\n",
      "delta at job 24 and time 19 is Any[0, 0, 0, 0, 0, 0, 0, 0, 0, 0, 0, 0, 0, 0, 0, 0, 0, 0, 0, 0, 0, 0, 0, 0, 0]\n",
      "delta at job 24 and time 20 is Any[0, 0, 0, 0, 0, 0, 0, 0, 0, 0, 0, 0, 0, 0, 0, 0, 0, 0, 0, 0, 0, 0, 0, 0, 0]\n",
      "delta at job 24 and time 21 is Any[0, 0, 0, 0, 0, 0, 0, 0, 0, 0, 0, 0, 0, 0, 0, 0, 0, 0, 0, 0, 0, 0, 0, 0, 0]\n",
      "delta at job 24 and time 22 is Any[0, 0, 0, 0, 0, 0, 0, 0, 0, 0, 0, 0, 0, 0, 0, 0, 0, 0, 0, 0, 0, 0, 0, 0, 0]\n",
      "delta at job 24 and time 23 is Any[0, 0, 0, 0, 0, 0, 0, 0, 0, 0, 0, 0, 0, 0, 0, 0, 0, 0, 0, 0, 0, 0, 0, 0, 0]\n",
      "delta at job 24 and time 24 is Any[0, 0, 0, 0, 0, 0, 0, 0, 0, 0, 0, 0, 0, 0, 0, 0, 0, 0, 0, 0, 0, 0, 0, 0, 0]\n",
      "delta at job 24 and time 25 is Any[0, 0, 0, 0, 0, 0, 0, 0, 0, 0, 0, 0, 0, 0, 0, 0, 0, 0, 0, 0, 0, 0, 0, 0, 0]\n",
      "delta at job 24 and time 26 is Any[0, 0, 0, 0, 0, 0, 0, 0, 0, 0, 0, 0, 0, 0, 0, 0, 0, 0, 0, 0, 0, 0, 0, 0, 0]\n",
      "delta at job 24 and time 27 is Any[0, 0, 0, 0, 0, 0, 0, 0, 0, 0, 0, 0, 0, 0, 0, 0, 0, 0, 0, 0, 0, 0, 0, 0, 0]\n",
      "delta at job 24 and time 28 is Any[0, 0, 0, 0, 0, 0, 0, 0, 0, 0, 0, 0, 0, 0, 0, 0, 0, 0, 0, 0, 0, 0, 0, 0, 0]\n",
      "delta at job 24 and time 29 is Any[0, 0, 0, 0, 0, 0, 0, 0, 0, 0, 0, 0, 0, 0, 0, 0, 0, 0, 0, 0, 0, 0, 0, 0, 0]\n",
      "delta at job 24 and time 30 is Any[0, 0, 0, 0, 0, 0, 0, 0, 0, 0, 0, 0, 0, 0, 0, 0, 0, 0, 0, 0, 0, 0, 0, 0, 0]\n",
      "delta at job 24 and time 31 is Any[0, 0, 0, 0, 0, 0, 0, 0, 0, 0, 0, 0, 0, 0, 0, 0, 0, 0, 0, 0, 0, 0, 0, 0, 0]\n",
      "delta at job 24 and time 32 is Any[0, 0, 0, 0, 0, 0, 0, 0, 0, 0, 0, 0, 0, 0, 0, 0, 0, 0, 0, 0, 0, 0, 0, 0, 0]\n",
      "delta at job 24 and time 33 is Any[0, 0, 0, 0, 0, 0, 0, 0, 0, 0, 0, 0, 0, 0, 0, 0, 0, 0, 0, 0, 0, 0, 0, 0, 0]\n",
      "delta at job 24 and time 34 is Any[0, 0, 0, 0, 0, 0, 0, 0, 0, 0, 0, 0, 0, 0, 0, 0, 0, 0, 0, 0, 0, 0, 0, 0, 0]\n",
      "delta at job 24 and time 35 is Any[0, 0, 0, 0, 0, 0, 0, 0, 0, 0, 0, 0, 0, 0, 0, 0, 0, 0, 0, 0, 0, 0, 0, 0, 0]\n",
      "delta at job 24 and time 36 is Any[0, 0, 0, 0, 0, 0, 0, 0, 0, 0, 0, 0, 0, 0, 0, 0, 0, 0, 0, 0, 0, 0, 0, 0, 0]\n",
      "delta at job 24 and time 37 is Any[0, 0, 0, 0, 0, 0, 0, 0, 0, 0, 0, 0, 0, 0, 0, 0, 0, 0, 0, 0, 0, 0, 0, 0, 0]\n",
      "delta at job 24 and time 38 is Any[0, 0, 0, 0, 0, 0, 0, 0, 0, 0, 0, 0, 0, 0, 0, 0, 0, 0, 0, 0, 0, 0, 0, 0, 0]\n",
      "delta at job 24 and time 39 is Any[0, 0, 0, 0, 0, 0, 0, 0, 0, 0, 0, 0, 0, 0, 0, 0, 0, 0, 0, 0, 0, 0, 0, 0, 0]\n",
      "delta at job 24 and time 40 is Any[0, 0, 0, 0, 0, 0, 0, 0, 0, 0, 0, 0, 0, 0, 0, 0, 0, 0, 0, 0, 0, 0, 0, 0, 0]\n",
      "delta at job 24 and time 41 is Any[0, 0, 0, 0, 0, 0, 0, 0, 0, 0, 0, 0, 0, 0, 0, 0, 0, 0, 0, 0, 0, 0, 0, 0, 0]\n",
      "delta at job 24 and time 42 is Any[0, 0, 0, 0, 0, 0, 0, 0, 0, 0, 0, 0, 0, 0, 0, 0, 0, 0, 0, 0, 0, 0, 0, 0, 0]\n",
      "delta at job 24 and time 43 is Any[0, 0, 0, 0, 0, 0, 0, 0, 0, 0, 0, 0, 0, 0, 0, 0, 0, 0, 0, 0, 0, 0, 0, 0, 0]\n",
      "delta at job 24 and time 44 is Any[0, 0, 0, 0, 0, 0, 0, 0, 0, 0, 0, 0, 0, 0, 0, 0, 0, 0, 0, 0, 0, 0, 0, 0, 0]\n",
      "delta at job 24 and time 45 is Any[0, 0, 0, 0, 0, 0, 0, 0, 0, 0, 0, 0, 0, 0, 0, 0, 0, 0, 0, 0, 0, 0, 0, 0, 0]\n",
      "\n",
      "delta at job 25 and time 1 is Any[0, 0, 0, 0, 0, 0, 0, 0, 0, 0, 0, 0, 0, 0, 0, 0, 0, 0, 0, 0, 0, 0, 0, 0, 0]\n",
      "delta at job 25 and time 2 is Any[0, 0, 0, 0, 0, 0, 0, 0, 0, 0, 0, 0, 0, 0, 0, 0, 0, 0, 0, 0, 0, 0, 0, 0, 0]\n",
      "delta at job 25 and time 3 is Any[0, 0, 0, 0, 0, 0, 0, 0, 0, 0, 0, 0, 0, 0, 0, 0, 0, 0, 0, 0, 0, 0, 0, 0, 0]\n",
      "delta at job 25 and time 4 is Any[0, 0, 0, 0, 0, 0, 0, 0, 0, 0, 0, 0, 0, 0, 0, 0, 0, 0, 0, 0, 0, 0, 0, 0, 0]\n",
      "delta at job 25 and time 5 is Any[0, 0, 0, 0, 0, 0, 0, 0, 0, 0, 0, 0, 0, 0, 0, 0, 0, 0, 0, 0, 0, 0, 0, 0, 0]\n",
      "delta at job 25 and time 6 is Any[0, 0, 0, 0, 0, 0, 0, 0, 0, 0, 0, 0, 0, 0, 0, 0, 0, 0, 0, 0, 0, 0, 0, 0, 0]\n",
      "delta at job 25 and time 7 is Any[0, 0, 0, 0, 0, 0, 0, 0, 0, 0, 0, 0, 0, 0, 0, 0, 0, 0, 0, 0, 0, 0, 0, 0, 0]\n",
      "delta at job 25 and time 8 is Any[0, 0, 0, 0, 0, 0, 0, 0, 0, 0, 0, 0, 0, 0, 0, 0, 0, 0, 0, 0, 0, 0, 0, 0, 0]\n",
      "delta at job 25 and time 9 is Any[0, 0, 0, 0, 0, 0, 0, 0, 0, 0, 0, 0, 0, 0, 0, 0, 0, 0, 0, 0, 0, 0, 0, 0, 1]\n",
      "delta at job 25 and time 10 is Any[0, 0, 0, 0, 0, 0, 0, 0, 0, 0, 0, 0, 0, 0, 0, 0, 0, 0, 0, 0, 0, 0, 0, 0, 1]\n",
      "delta at job 25 and time 11 is Any[0, 0, 0, 0, 0, 0, 0, 0, 0, 0, 0, 0, 0, 0, 0, 0, 0, 0, 0, 0, 0, 0, 0, 0, 1]\n",
      "delta at job 25 and time 12 is Any[0, 0, 0, 0, 0, 0, 0, 0, 0, 0, 0, 0, 0, 0, 0, 0, 0, 0, 0, 0, 0, 0, 0, 0, 1]\n",
      "delta at job 25 and time 13 is Any[0, 0, 0, 0, 0, 0, 0, 0, 0, 0, 0, 0, 0, 0, 0, 0, 0, 0, 0, 0, 0, 0, 0, 0, 1]\n",
      "delta at job 25 and time 14 is Any[0, 0, 0, 0, 0, 0, 0, 0, 0, 0, 0, 0, 0, 0, 0, 0, 0, 0, 0, 0, 0, 0, 0, 0, 1]\n",
      "delta at job 25 and time 15 is Any[0, 0, 0, 0, 0, 0, 0, 0, 0, 0, 0, 0, 0, 0, 0, 0, 0, 0, 0, 0, 0, 0, 0, 0, 0]\n",
      "delta at job 25 and time 16 is Any[0, 0, 0, 0, 0, 0, 0, 0, 0, 0, 0, 0, 0, 0, 0, 0, 0, 0, 0, 0, 0, 0, 0, 0, 0]\n",
      "delta at job 25 and time 17 is Any[0, 0, 0, 0, 0, 0, 0, 0, 0, 0, 0, 0, 0, 0, 0, 0, 0, 0, 0, 0, 0, 0, 0, 0, 0]\n",
      "delta at job 25 and time 18 is Any[0, 0, 0, 0, 0, 0, 0, 0, 0, 0, 0, 0, 0, 0, 0, 0, 0, 0, 0, 0, 0, 0, 0, 0, 0]\n",
      "delta at job 25 and time 19 is Any[0, 0, 0, 0, 0, 0, 0, 0, 0, 0, 0, 0, 0, 0, 0, 0, 0, 0, 0, 0, 0, 0, 0, 0, 0]\n",
      "delta at job 25 and time 20 is Any[0, 0, 0, 0, 0, 0, 0, 0, 0, 0, 0, 0, 0, 0, 0, 0, 0, 0, 0, 0, 0, 0, 0, 0, 0]\n",
      "delta at job 25 and time 21 is Any[0, 0, 0, 0, 0, 0, 0, 0, 0, 0, 0, 0, 0, 0, 0, 0, 0, 0, 0, 0, 0, 0, 0, 0, 0]\n",
      "delta at job 25 and time 22 is Any[0, 0, 0, 0, 0, 0, 0, 0, 0, 0, 0, 0, 0, 0, 0, 0, 0, 0, 0, 0, 0, 0, 0, 0, 0]\n",
      "delta at job 25 and time 23 is Any[0, 0, 0, 0, 0, 0, 0, 0, 0, 0, 0, 0, 0, 0, 0, 0, 0, 0, 0, 0, 0, 0, 0, 0, 0]\n",
      "delta at job 25 and time 24 is Any[0, 0, 0, 0, 0, 0, 0, 0, 0, 0, 0, 0, 0, 0, 0, 0, 0, 0, 0, 0, 0, 0, 0, 0, 0]\n",
      "delta at job 25 and time 25 is Any[0, 0, 0, 0, 0, 0, 0, 0, 0, 0, 0, 0, 0, 0, 0, 0, 0, 0, 0, 0, 0, 0, 0, 0, 0]\n",
      "delta at job 25 and time 26 is Any[0, 0, 0, 0, 0, 0, 0, 0, 0, 0, 0, 0, 0, 0, 0, 0, 0, 0, 0, 0, 0, 0, 0, 0, 0]\n",
      "delta at job 25 and time 27 is Any[0, 0, 0, 0, 0, 0, 0, 0, 0, 0, 0, 0, 0, 0, 0, 0, 0, 0, 0, 0, 0, 0, 0, 0, 0]\n",
      "delta at job 25 and time 28 is Any[0, 0, 0, 0, 0, 0, 0, 0, 0, 0, 0, 0, 0, 0, 0, 0, 0, 0, 0, 0, 0, 0, 0, 0, 0]\n",
      "delta at job 25 and time 29 is Any[0, 0, 0, 0, 0, 0, 0, 0, 0, 0, 0, 0, 0, 0, 0, 0, 0, 0, 0, 0, 0, 0, 0, 0, 0]\n",
      "delta at job 25 and time 30 is Any[0, 0, 0, 0, 0, 0, 0, 0, 0, 0, 0, 0, 0, 0, 0, 0, 0, 0, 0, 0, 0, 0, 0, 0, 0]\n",
      "delta at job 25 and time 31 is Any[0, 0, 0, 0, 0, 0, 0, 0, 0, 0, 0, 0, 0, 0, 0, 0, 0, 0, 0, 0, 0, 0, 0, 0, 0]\n",
      "delta at job 25 and time 32 is Any[0, 0, 0, 0, 0, 0, 0, 0, 0, 0, 0, 0, 0, 0, 0, 0, 0, 0, 0, 0, 0, 0, 0, 0, 0]\n",
      "delta at job 25 and time 33 is Any[0, 0, 0, 0, 0, 0, 0, 0, 0, 0, 0, 0, 0, 0, 0, 0, 0, 0, 0, 0, 0, 0, 0, 0, 0]\n",
      "delta at job 25 and time 34 is Any[0, 0, 0, 0, 0, 0, 0, 0, 0, 0, 0, 0, 0, 0, 0, 0, 0, 0, 0, 0, 0, 0, 0, 0, 0]\n",
      "delta at job 25 and time 35 is Any[0, 0, 0, 0, 0, 0, 0, 0, 0, 0, 0, 0, 0, 0, 0, 0, 0, 0, 0, 0, 0, 0, 0, 0, 0]\n",
      "delta at job 25 and time 36 is Any[0, 0, 0, 0, 0, 0, 0, 0, 0, 0, 0, 0, 0, 0, 0, 0, 0, 0, 0, 0, 0, 0, 0, 0, 0]\n",
      "delta at job 25 and time 37 is Any[0, 0, 0, 0, 0, 0, 0, 0, 0, 0, 0, 0, 0, 0, 0, 0, 0, 0, 0, 0, 0, 0, 0, 0, 0]\n",
      "delta at job 25 and time 38 is Any[0, 0, 0, 0, 0, 0, 0, 0, 0, 0, 0, 0, 0, 0, 0, 0, 0, 0, 0, 0, 0, 0, 0, 0, 0]\n",
      "delta at job 25 and time 39 is Any[0, 0, 0, 0, 0, 0, 0, 0, 0, 0, 0, 0, 0, 0, 0, 0, 0, 0, 0, 0, 0, 0, 0, 0, 0]\n",
      "delta at job 25 and time 40 is Any[0, 0, 0, 0, 0, 0, 0, 0, 0, 0, 0, 0, 0, 0, 0, 0, 0, 0, 0, 0, 0, 0, 0, 0, 0]\n",
      "delta at job 25 and time 41 is Any[0, 0, 0, 0, 0, 0, 0, 0, 0, 0, 0, 0, 0, 0, 0, 0, 0, 0, 0, 0, 0, 0, 0, 0, 0]\n",
      "delta at job 25 and time 42 is Any[0, 0, 0, 0, 0, 0, 0, 0, 0, 0, 0, 0, 0, 0, 0, 0, 0, 0, 0, 0, 0, 0, 0, 0, 0]\n",
      "delta at job 25 and time 43 is Any[0, 0, 0, 0, 0, 0, 0, 0, 0, 0, 0, 0, 0, 0, 0, 0, 0, 0, 0, 0, 0, 0, 0, 0, 0]\n",
      "delta at job 25 and time 44 is Any[0, 0, 0, 0, 0, 0, 0, 0, 0, 0, 0, 0, 0, 0, 0, 0, 0, 0, 0, 0, 0, 0, 0, 0, 0]\n",
      "delta at job 25 and time 45 is Any[0, 0, 0, 0, 0, 0, 0, 0, 0, 0, 0, 0, 0, 0, 0, 0, 0, 0, 0, 0, 0, 0, 0, 0, 0]\n",
      "\n"
     ]
    }
   ],
   "source": [
    "for job in 1:n_jobs\n",
    "    for time in 1:T\n",
    "        println(\"delta at job $(job) and time $(time) is $(delta[job][time])\")\n",
    "    end\n",
    "    println()\n",
    "end"
   ]
  },
  {
   "cell_type": "markdown",
   "id": "725bf6a5",
   "metadata": {},
   "source": [
    "Here's an example function test for `find_jobs_time`."
   ]
  },
  {
   "cell_type": "code",
   "execution_count": 70,
   "id": "a8632e60",
   "metadata": {
    "scrolled": true
   },
   "outputs": [
    {
     "data": {
      "text/plain": [
       "3-element Vector{Any}:\n",
       " [12, 14]\n",
       " [12, 15]\n",
       " [12, 16]"
      ]
     },
     "execution_count": 70,
     "metadata": {},
     "output_type": "execute_result"
    }
   ],
   "source": [
    "find_jobs_time(dummy_route[12])"
   ]
  },
  {
   "cell_type": "markdown",
   "id": "17dfdbc0",
   "metadata": {},
   "source": [
    "Sure enough, if we look all the way back at the end of 3b (right before the start of 3c), we see that the job was worked on from times 14 to 16 inclusive."
   ]
  },
  {
   "cell_type": "markdown",
   "id": "f52cb4c1",
   "metadata": {},
   "source": [
    "Let's get our cost matrix for the routes. $C$ is a list, and we can access it by calling upon the subscript of the routes, like `C[q]`."
   ]
  },
  {
   "cell_type": "code",
   "execution_count": 71,
   "id": "8aa050be",
   "metadata": {},
   "outputs": [
    {
     "name": "stdout",
     "output_type": "stream",
     "text": [
      "Any[361.5131078586466, 354.7607228525183, 353.10378949077875, 551.3295353740317, 531.2484027487131, 547.8222795613261, 535.4831571042829, 295.4058184161513, 267.53597105125175, 280.6211233978089, 438.41682745364176, 453.9573791535636, 414.7573481083469, 395.21251480122766, 427.55843494085997, 429.4361382566155, 472.802937487361, 463.5797246987937, 447.448081690596, 172.79414039862428, 131.24480208871682, 142.68391763546433, 180.73953185215296, 323.26311497669536, 321.3796738868819]\n"
     ]
    }
   ],
   "source": [
    "println(C)"
   ]
  },
  {
   "cell_type": "markdown",
   "id": "904c5109",
   "metadata": {},
   "source": [
    "## [4c] Label-Setting Algorithm"
   ]
  },
  {
   "cell_type": "markdown",
   "id": "2f9adc92",
   "metadata": {},
   "source": [
    "We create an algorithm for shortest paths."
   ]
  },
  {
   "cell_type": "markdown",
   "id": "a521943c",
   "metadata": {},
   "source": [
    "<b>I'd like some help here.</b>\n",
    "\n",
    "What is the LSA in a greater context, what does it do, how is it useful?"
   ]
  },
  {
   "cell_type": "code",
   "execution_count": 72,
   "id": "7212bb8c",
   "metadata": {},
   "outputs": [
    {
     "data": {
      "text/plain": [
       "label_setting (generic function with 1 method)"
      ]
     },
     "execution_count": 72,
     "metadata": {},
     "output_type": "execute_result"
    }
   ],
   "source": [
    "function label_setting(n, travel_time, travel_distance, windows, load)\n",
    "    N = [[1]] \n",
    "    T = [0.0] \n",
    "    C = [0.0]  \n",
    "    \n",
    "    L = [1]    \n",
    "    A = [true] \n",
    "    \n",
    "    #=\n",
    "    Need to add a new array of costs for the real costs.\n",
    "    \n",
    "    We have the reduced costs, which we explained...\n",
    "    \n",
    "    ...but there are also the \n",
    "    =#\n",
    "    current_state = 1\n",
    "    total_state = 1\n",
    "    \n",
    "    while 1==1\n",
    "        if (L[current_state] == n+2) | (~A[current_state])\n",
    "            current_state += 1\n",
    "            if current_state > total_state\n",
    "                break\n",
    "            else\n",
    "                continue\n",
    "            end\n",
    "        end\n",
    "    \n",
    "        #=\n",
    "        For the moment, assume that we do not split time for jobs.\n",
    "        =#\n",
    "        \n",
    "        for i in 2:(n+2)\n",
    "            if ~(i in N[current_state])\n",
    "                #If you won't have the time to do the job, don't go through it\n",
    "                if L[current_state] != 1\n",
    "                    if T[current_state] + load[L[current_state]-1] + travel_time[L[current_state], i] > windows[i-1][2] - load[i-1]\n",
    "                        continue\n",
    "                    end\n",
    "                end\n",
    "                \n",
    "                #Check if you have already created a path\n",
    "                if length(N) < total_state + 1   #If not, add it\n",
    "                    push!(N, copy(N[current_state]))\n",
    "                    push!(N[total_state+1], i)\n",
    "                    push!(T, max(T[current_state] + travel_time[L[current_state], i], windows[i-1][1]))\n",
    "                    push!(C, C[current_state] + travel_distance[L[current_state], i])\n",
    "                    push!(L, i)\n",
    "                    push!(A, true)\n",
    "                else  #Otherwise, change it\n",
    "                    N[total_state + 1] = N[current_state]\n",
    "                    push!(N[total_state+1], i)\n",
    "                    T[total_state+1] = max(T[current_state] + travel_time[L[current_state], i], windows[i-1][1])\n",
    "                    C[total_state+1] = C[current_state] + travel_distance[L[current_state], i]\n",
    "                    #What I did to create the path also follows for what I do to change the path.\n",
    "                    #TODO\n",
    "                    L[total_state+1] = i\n",
    "                    A[total_state+1] = true\n",
    "                end \n",
    "                \n",
    "                NDom = true\n",
    "                for s in 1:total_state\n",
    "                    if A[s]\n",
    "                        if (issetequal(N[total_state+1], N[s])) & (L[total_state+1] == L[s])\n",
    "                            if C[total_state+1] > C[s]   #the new state is dominated by at least one state so we can stop\n",
    "                                NDom = false\n",
    "                                break\n",
    "                            else   #the new state dominates the old one so we can get rid of it\n",
    "                                A[s] = false\n",
    "                            end\n",
    "                        end\n",
    "                    end\n",
    "                end\n",
    "                \n",
    "                if NDom  #Means that the new state dominates all the other, so we go on to create the next state\n",
    "                    total_state += 1\n",
    "                end\n",
    "        \n",
    "            end\n",
    "        end\n",
    "        current_state += 1\n",
    "        if current_state == total_state\n",
    "            break\n",
    "        end     \n",
    "    end\n",
    "    return N, A, C, T\n",
    "end"
   ]
  },
  {
   "cell_type": "code",
   "execution_count": 73,
   "id": "93fc3f30",
   "metadata": {},
   "outputs": [],
   "source": [
    "distances_label = deepcopy(distances)\n",
    "add = distances_label[1,:]\n",
    "distances_label = hcat(distances_label, add)\n",
    "push!(add, 0)\n",
    "distances_label = vcat(distances_label, collect(add'))\n",
    "\n",
    "load_label = deepcopy(work_load)\n",
    "push!(load_label, 0)\n",
    "\n",
    "windows_label = deepcopy(time_windows)\n",
    "push!(windows_label, [0,100])\n",
    "\n",
    "travel = ceil.(distances_label/speed);"
   ]
  },
  {
   "cell_type": "markdown",
   "id": "a322e990",
   "metadata": {},
   "source": [
    "Let's see what they look like..."
   ]
  },
  {
   "cell_type": "markdown",
   "id": "f5156aca",
   "metadata": {},
   "source": [
    "`n_jobs` is the number of jobs we have."
   ]
  },
  {
   "cell_type": "code",
   "execution_count": 74,
   "id": "87570c6f",
   "metadata": {
    "scrolled": true
   },
   "outputs": [
    {
     "name": "stdout",
     "output_type": "stream",
     "text": [
      "25"
     ]
    }
   ],
   "source": [
    "print(n_jobs)"
   ]
  },
  {
   "cell_type": "markdown",
   "id": "3a966e57",
   "metadata": {},
   "source": [
    "`travel` is a matrix representing how much time it takes to get from one location to another."
   ]
  },
  {
   "cell_type": "code",
   "execution_count": 75,
   "id": "46bae8a1",
   "metadata": {
    "scrolled": false
   },
   "outputs": [
    {
     "data": {
      "text/plain": [
       "27×27 Matrix{Float64}:\n",
       " 0.0  2.0  2.0  2.0  2.0  2.0  2.0  2.0  …  1.0  1.0  1.0  1.0  1.0  1.0  0.0\n",
       " 2.0  0.0  1.0  1.0  2.0  2.0  2.0  2.0     2.0  2.0  2.0  2.0  2.0  2.0  2.0\n",
       " 2.0  1.0  0.0  1.0  2.0  2.0  2.0  2.0     2.0  2.0  2.0  2.0  2.0  2.0  2.0\n",
       " 2.0  1.0  1.0  0.0  2.0  2.0  2.0  2.0     2.0  2.0  2.0  2.0  2.0  2.0  2.0\n",
       " 2.0  2.0  2.0  2.0  0.0  1.0  1.0  1.0     2.0  2.0  2.0  2.0  3.0  3.0  2.0\n",
       " 2.0  2.0  2.0  2.0  1.0  0.0  1.0  1.0  …  2.0  2.0  2.0  2.0  3.0  3.0  2.0\n",
       " 2.0  2.0  2.0  2.0  1.0  1.0  0.0  1.0     2.0  2.0  2.0  2.0  3.0  3.0  2.0\n",
       " 2.0  2.0  2.0  2.0  1.0  1.0  1.0  0.0     2.0  2.0  2.0  2.0  3.0  3.0  2.0\n",
       " 1.0  1.0  1.0  1.0  2.0  2.0  2.0  2.0     2.0  2.0  2.0  2.0  2.0  2.0  1.0\n",
       " 1.0  1.0  1.0  1.0  2.0  2.0  2.0  2.0     2.0  2.0  2.0  2.0  2.0  2.0  1.0\n",
       " 1.0  1.0  1.0  1.0  2.0  2.0  2.0  2.0  …  2.0  2.0  2.0  2.0  2.0  2.0  1.0\n",
       " 2.0  1.0  1.0  2.0  1.0  1.0  1.0  1.0     2.0  2.0  2.0  2.0  3.0  3.0  2.0\n",
       " 2.0  1.0  1.0  2.0  1.0  1.0  1.0  1.0     2.0  2.0  2.0  2.0  3.0  3.0  2.0\n",
       " ⋮                        ⋮              ⋱  ⋮                        ⋮    \n",
       " 2.0  2.0  1.0  2.0  1.0  1.0  1.0  1.0  …  2.0  2.0  2.0  2.0  3.0  3.0  2.0\n",
       " 2.0  1.0  1.0  1.0  1.0  1.0  1.0  1.0     2.0  2.0  2.0  2.0  3.0  3.0  2.0\n",
       " 2.0  1.0  1.0  2.0  1.0  1.0  1.0  1.0     2.0  2.0  2.0  2.0  3.0  3.0  2.0\n",
       " 2.0  1.0  1.0  1.0  1.0  1.0  1.0  1.0     2.0  2.0  2.0  2.0  3.0  3.0  2.0\n",
       " 2.0  1.0  1.0  1.0  1.0  1.0  1.0  1.0     2.0  2.0  2.0  2.0  3.0  3.0  2.0\n",
       " 1.0  2.0  2.0  2.0  2.0  2.0  2.0  2.0  …  0.0  1.0  1.0  1.0  2.0  2.0  1.0\n",
       " 1.0  2.0  2.0  2.0  2.0  2.0  2.0  2.0     1.0  0.0  1.0  1.0  2.0  2.0  1.0\n",
       " 1.0  2.0  2.0  2.0  2.0  2.0  2.0  2.0     1.0  1.0  0.0  1.0  2.0  2.0  1.0\n",
       " 1.0  2.0  2.0  2.0  2.0  2.0  2.0  2.0     1.0  1.0  1.0  0.0  2.0  2.0  1.0\n",
       " 1.0  2.0  2.0  2.0  3.0  3.0  3.0  3.0     2.0  2.0  2.0  2.0  0.0  1.0  1.0\n",
       " 1.0  2.0  2.0  2.0  3.0  3.0  3.0  3.0  …  2.0  2.0  2.0  2.0  1.0  0.0  1.0\n",
       " 0.0  2.0  2.0  2.0  2.0  2.0  2.0  2.0     1.0  1.0  1.0  1.0  1.0  1.0  0.0"
      ]
     },
     "execution_count": 75,
     "metadata": {},
     "output_type": "execute_result"
    }
   ],
   "source": [
    "travel"
   ]
  },
  {
   "cell_type": "markdown",
   "id": "ed9bbf56",
   "metadata": {},
   "source": [
    "`windows_label` is our time windows."
   ]
  },
  {
   "cell_type": "code",
   "execution_count": 76,
   "id": "b6d342af",
   "metadata": {
    "scrolled": false
   },
   "outputs": [
    {
     "name": "stdout",
     "output_type": "stream",
     "text": [
      "Any[[5, 8], [13, 17], [20, 25], [8, 10], [14, 17], [22, 26], [30, 35], [2, 8], [11, 14], [18, 22], [9, 13], [14, 17], [21, 24], [27, 29], [31, 37], [2, 5], [8, 10], [12, 17], [17, 21], [10, 14], [15, 20], [24, 27], [27, 33], [4, 9], [9, 15], [0, 100]]"
     ]
    }
   ],
   "source": [
    "print(windows_label)"
   ]
  },
  {
   "cell_type": "markdown",
   "id": "c6107747",
   "metadata": {},
   "source": [
    "`load_label` is our required time to work on each job."
   ]
  },
  {
   "cell_type": "code",
   "execution_count": 77,
   "id": "bc00ee78",
   "metadata": {
    "scrolled": true
   },
   "outputs": [
    {
     "name": "stdout",
     "output_type": "stream",
     "text": [
      "Any[3, 4, 5, 2, 2, 3, 4, 3, 2, 4, 4, 3, 3, 2, 5, 3, 2, 3, 3, 3, 4, 2, 3, 4, 5, 0]"
     ]
    }
   ],
   "source": [
    "print(load_label)"
   ]
  },
  {
   "cell_type": "markdown",
   "id": "771c0209",
   "metadata": {},
   "source": [
    "# <b>QUESTION:</b> Why do we need the `[0, 100]` at the end? What is that supposed to signify?"
   ]
  },
  {
   "cell_type": "markdown",
   "id": "51254ae2",
   "metadata": {},
   "source": [
    "Performing label-setting will take significant time. We'll include a time elapsed to measure.\n",
    "\n",
    "Meanwhile, we gather four variables with this function:\n",
    "    \n",
    "- the routes we will use\n",
    "- whether a route is feasible or not\n",
    "- the costs associated with the routes\n",
    "- times of arrival"
   ]
  },
  {
   "cell_type": "code",
   "execution_count": 78,
   "id": "b9045f3b",
   "metadata": {},
   "outputs": [],
   "source": [
    "time = @elapsed routes, feasible, cost, times = label_setting(n_jobs, travel, distances_label, windows_label, load_label);"
   ]
  },
  {
   "cell_type": "markdown",
   "id": "fbfed5cc",
   "metadata": {},
   "source": [
    "Oof. I uncovered an error in the generation of clusters all the way back..."
   ]
  },
  {
   "cell_type": "code",
   "execution_count": 79,
   "id": "563194b3",
   "metadata": {
    "scrolled": true
   },
   "outputs": [
    {
     "data": {
      "text/plain": [
       "82.832106322"
      ]
     },
     "execution_count": 79,
     "metadata": {},
     "output_type": "execute_result"
    }
   ],
   "source": [
    "time"
   ]
  },
  {
   "cell_type": "markdown",
   "id": "7327f371",
   "metadata": {},
   "source": [
    "## [4d] Retrieve Variables as Necessary"
   ]
  },
  {
   "cell_type": "markdown",
   "id": "7a912057",
   "metadata": {},
   "source": [
    "We will get `C_routes` and `T_routes`.\n",
    "\n",
    "`C_routes` signifies the cost of a route for a JOB VEHICLE to handle. This is equivalent to $C^q$ in the formulation.\n",
    "\n",
    "`T_routes` signifies how long it takes to perform each route."
   ]
  },
  {
   "cell_type": "code",
   "execution_count": 380,
   "id": "14d0dae4",
   "metadata": {},
   "outputs": [],
   "source": [
    "routes_keep = []\n",
    "C_routes = []\n",
    "T_routes = []\n",
    "\n",
    "#=\n",
    "Loop over all routes.\n",
    "\n",
    "For each route, if it is feasible and ends back in the depot, \n",
    "store the cost of that route in C_routes.\n",
    "Similarly, store time in T_routes.\n",
    "=#\n",
    "for r in 1:length(routes)\n",
    "    if (last(routes[r]) == n_jobs+2) & (feasible[r])\n",
    "        push!(routes_keep, routes[r] .- 1)\n",
    "        push!(C_routes, cost[r])\n",
    "        push!(T_routes, times[r])\n",
    "    end\n",
    "end"
   ]
  },
  {
   "cell_type": "markdown",
   "id": "7b04d894",
   "metadata": {},
   "source": [
    "View `C_routes`. This should be a long list."
   ]
  },
  {
   "cell_type": "code",
   "execution_count": 381,
   "id": "51701276",
   "metadata": {
    "scrolled": true
   },
   "outputs": [
    {
     "data": {
      "text/plain": [
       "9381-element Vector{Any}:\n",
       "    0.0\n",
       "  361.5131078586466\n",
       "  354.7607228525183\n",
       "  353.10378949077875\n",
       "  551.3295353740317\n",
       "  531.2484027487131\n",
       "  547.8222795613261\n",
       "  535.4831571042829\n",
       "  295.4058184161513\n",
       "  267.53597105125175\n",
       "  280.6211233978089\n",
       "  438.41682745364176\n",
       "  453.9573791535636\n",
       "    ⋮\n",
       " 1414.1849000348939\n",
       " 1315.6045846842694\n",
       " 1730.5688226886073\n",
       " 1728.06940708475\n",
       " 1777.8972740566433\n",
       " 1439.2755464156135\n",
       " 1340.695231064989\n",
       " 1713.4651585413908\n",
       " 1285.8530318221412\n",
       " 1187.2727164715168\n",
       " 1602.2369544758549\n",
       " 1599.7375388719972"
      ]
     },
     "execution_count": 381,
     "metadata": {},
     "output_type": "execute_result"
    }
   ],
   "source": [
    "C_routes"
   ]
  },
  {
   "cell_type": "markdown",
   "id": "056900e4",
   "metadata": {},
   "source": [
    "View `T_routes`. This should have the same length as `C_routes`. Times should be integer because time is discretized."
   ]
  },
  {
   "cell_type": "code",
   "execution_count": 82,
   "id": "3e8ffcc7",
   "metadata": {
    "scrolled": true
   },
   "outputs": [
    {
     "data": {
      "text/plain": [
       "9381-element Vector{Any}:\n",
       "  0.0\n",
       "  7.0\n",
       " 15.0\n",
       " 22.0\n",
       " 10.0\n",
       " 16.0\n",
       " 24.0\n",
       " 32.0\n",
       "  3.0\n",
       " 12.0\n",
       " 19.0\n",
       " 11.0\n",
       " 16.0\n",
       "  ⋮\n",
       " 32.0\n",
       " 33.0\n",
       " 33.0\n",
       " 33.0\n",
       " 33.0\n",
       " 32.0\n",
       " 33.0\n",
       " 33.0\n",
       " 32.0\n",
       " 33.0\n",
       " 33.0\n",
       " 33.0"
      ]
     },
     "execution_count": 82,
     "metadata": {},
     "output_type": "execute_result"
    }
   ],
   "source": [
    "T_routes"
   ]
  },
  {
   "cell_type": "markdown",
   "id": "c2f36a8c",
   "metadata": {},
   "source": [
    "Update the variable `n_routes`, as it is no longer 25."
   ]
  },
  {
   "cell_type": "code",
   "execution_count": 83,
   "id": "14f64b5c",
   "metadata": {},
   "outputs": [
    {
     "name": "stdout",
     "output_type": "stream",
     "text": [
      "9381"
     ]
    }
   ],
   "source": [
    "n_routes = length(routes_keep);\n",
    "print(n_routes)"
   ]
  },
  {
   "cell_type": "markdown",
   "id": "c6b57a47",
   "metadata": {},
   "source": [
    "### Which jobs does each route cover?"
   ]
  },
  {
   "cell_type": "code",
   "execution_count": 84,
   "id": "e07ba3eb",
   "metadata": {},
   "outputs": [],
   "source": [
    "u = [[0 for i in 1:n_jobs] for r in 1:n_routes]\n",
    "for r in 1:n_routes\n",
    "    for i in 1:n_jobs\n",
    "        if i in routes_keep[r]\n",
    "            u[r][i] = 1\n",
    "        end\n",
    "    end\n",
    "end"
   ]
  },
  {
   "cell_type": "markdown",
   "id": "a7415369",
   "metadata": {},
   "source": [
    "### Compute the time of arrival at each locations"
   ]
  },
  {
   "cell_type": "code",
   "execution_count": 85,
   "id": "14184268",
   "metadata": {},
   "outputs": [],
   "source": [
    "#Time of arrival at each job locations\n",
    "routes_times = [[0.0 for i in 1:length(routes_keep[r])] for r in 1:length(routes_keep)]\n",
    "\n",
    "for r in 1:length(routes_keep)\n",
    "    for i in 2:length(routes_keep[r])\n",
    "        t_1 = routes_times[r][i-1]\n",
    "        loc_1 = routes_keep[r][i-1]\n",
    "        if loc_1 == 0\n",
    "            load_1 = 0\n",
    "        else\n",
    "            load_1 = work_load[loc_1]\n",
    "        end\n",
    "        loc = routes_keep[r][i]\n",
    "        t_work_travel = t_1 + load_1 + travel[loc_1 + 1, loc + 1]\n",
    "        min_t = max(t_work_travel, windows_label[loc][1])\n",
    "        routes_times[r][i] = min_t\n",
    "    end\n",
    "end"
   ]
  },
  {
   "cell_type": "markdown",
   "id": "dd470dc2",
   "metadata": {},
   "source": [
    "### Discretize the time for each job and each route"
   ]
  },
  {
   "cell_type": "code",
   "execution_count": 86,
   "id": "f37e97a7",
   "metadata": {},
   "outputs": [],
   "source": [
    "routes_job_time = [[[0.0 for t in 1:T] for i in 1:n_jobs] for r in 1:length(routes_keep)]\n",
    "for r in 1:length(routes_keep)\n",
    "    for i in 1:n_jobs\n",
    "        if i in routes_keep[r]\n",
    "            index = findall(x->x==i, routes_keep[r])[1]\n",
    "            t_start = Int(routes_times[r][index])\n",
    "            t_end = Int(t_start + work_load[i])\n",
    "            for t in t_start:t_end\n",
    "                routes_job_time[r][i][t] = 1\n",
    "            end\n",
    "        end\n",
    "    end\n",
    "end"
   ]
  },
  {
   "cell_type": "code",
   "execution_count": 87,
   "id": "db8249d2",
   "metadata": {},
   "outputs": [
    {
     "data": {
      "text/plain": [
       "9381-element Vector{Vector{Vector{Float64}}}:\n",
       " [[0.0, 0.0, 0.0, 0.0, 0.0, 0.0, 0.0, 0.0, 0.0, 0.0  …  0.0, 0.0, 0.0, 0.0, 0.0, 0.0, 0.0, 0.0, 0.0, 0.0], [0.0, 0.0, 0.0, 0.0, 0.0, 0.0, 0.0, 0.0, 0.0, 0.0  …  0.0, 0.0, 0.0, 0.0, 0.0, 0.0, 0.0, 0.0, 0.0, 0.0], [0.0, 0.0, 0.0, 0.0, 0.0, 0.0, 0.0, 0.0, 0.0, 0.0  …  0.0, 0.0, 0.0, 0.0, 0.0, 0.0, 0.0, 0.0, 0.0, 0.0], [0.0, 0.0, 0.0, 0.0, 0.0, 0.0, 0.0, 0.0, 0.0, 0.0  …  0.0, 0.0, 0.0, 0.0, 0.0, 0.0, 0.0, 0.0, 0.0, 0.0], [0.0, 0.0, 0.0, 0.0, 0.0, 0.0, 0.0, 0.0, 0.0, 0.0  …  0.0, 0.0, 0.0, 0.0, 0.0, 0.0, 0.0, 0.0, 0.0, 0.0], [0.0, 0.0, 0.0, 0.0, 0.0, 0.0, 0.0, 0.0, 0.0, 0.0  …  0.0, 0.0, 0.0, 0.0, 0.0, 0.0, 0.0, 0.0, 0.0, 0.0], [0.0, 0.0, 0.0, 0.0, 0.0, 0.0, 0.0, 0.0, 0.0, 0.0  …  0.0, 0.0, 0.0, 0.0, 0.0, 0.0, 0.0, 0.0, 0.0, 0.0], [0.0, 0.0, 0.0, 0.0, 0.0, 0.0, 0.0, 0.0, 0.0, 0.0  …  0.0, 0.0, 0.0, 0.0, 0.0, 0.0, 0.0, 0.0, 0.0, 0.0], [0.0, 0.0, 0.0, 0.0, 0.0, 0.0, 0.0, 0.0, 0.0, 0.0  …  0.0, 0.0, 0.0, 0.0, 0.0, 0.0, 0.0, 0.0, 0.0, 0.0], [0.0, 0.0, 0.0, 0.0, 0.0, 0.0, 0.0, 0.0, 0.0, 0.0  …  0.0, 0.0, 0.0, 0.0, 0.0, 0.0, 0.0, 0.0, 0.0, 0.0]  …  [0.0, 0.0, 0.0, 0.0, 0.0, 0.0, 0.0, 0.0, 0.0, 0.0  …  0.0, 0.0, 0.0, 0.0, 0.0, 0.0, 0.0, 0.0, 0.0, 0.0], [0.0, 0.0, 0.0, 0.0, 0.0, 0.0, 0.0, 0.0, 0.0, 0.0  …  0.0, 0.0, 0.0, 0.0, 0.0, 0.0, 0.0, 0.0, 0.0, 0.0], [0.0, 0.0, 0.0, 0.0, 0.0, 0.0, 0.0, 0.0, 0.0, 0.0  …  0.0, 0.0, 0.0, 0.0, 0.0, 0.0, 0.0, 0.0, 0.0, 0.0], [0.0, 0.0, 0.0, 0.0, 0.0, 0.0, 0.0, 0.0, 0.0, 0.0  …  0.0, 0.0, 0.0, 0.0, 0.0, 0.0, 0.0, 0.0, 0.0, 0.0], [0.0, 0.0, 0.0, 0.0, 0.0, 0.0, 0.0, 0.0, 0.0, 0.0  …  0.0, 0.0, 0.0, 0.0, 0.0, 0.0, 0.0, 0.0, 0.0, 0.0], [0.0, 0.0, 0.0, 0.0, 0.0, 0.0, 0.0, 0.0, 0.0, 0.0  …  0.0, 0.0, 0.0, 0.0, 0.0, 0.0, 0.0, 0.0, 0.0, 0.0], [0.0, 0.0, 0.0, 0.0, 0.0, 0.0, 0.0, 0.0, 0.0, 0.0  …  0.0, 0.0, 0.0, 0.0, 0.0, 0.0, 0.0, 0.0, 0.0, 0.0], [0.0, 0.0, 0.0, 0.0, 0.0, 0.0, 0.0, 0.0, 0.0, 0.0  …  0.0, 0.0, 0.0, 0.0, 0.0, 0.0, 0.0, 0.0, 0.0, 0.0], [0.0, 0.0, 0.0, 0.0, 0.0, 0.0, 0.0, 0.0, 0.0, 0.0  …  0.0, 0.0, 0.0, 0.0, 0.0, 0.0, 0.0, 0.0, 0.0, 0.0], [0.0, 0.0, 0.0, 0.0, 0.0, 0.0, 0.0, 0.0, 0.0, 0.0  …  0.0, 0.0, 0.0, 0.0, 0.0, 0.0, 0.0, 0.0, 0.0, 0.0]]\n",
       " [[0.0, 0.0, 0.0, 0.0, 1.0, 1.0, 1.0, 1.0, 0.0, 0.0  …  0.0, 0.0, 0.0, 0.0, 0.0, 0.0, 0.0, 0.0, 0.0, 0.0], [0.0, 0.0, 0.0, 0.0, 0.0, 0.0, 0.0, 0.0, 0.0, 0.0  …  0.0, 0.0, 0.0, 0.0, 0.0, 0.0, 0.0, 0.0, 0.0, 0.0], [0.0, 0.0, 0.0, 0.0, 0.0, 0.0, 0.0, 0.0, 0.0, 0.0  …  0.0, 0.0, 0.0, 0.0, 0.0, 0.0, 0.0, 0.0, 0.0, 0.0], [0.0, 0.0, 0.0, 0.0, 0.0, 0.0, 0.0, 0.0, 0.0, 0.0  …  0.0, 0.0, 0.0, 0.0, 0.0, 0.0, 0.0, 0.0, 0.0, 0.0], [0.0, 0.0, 0.0, 0.0, 0.0, 0.0, 0.0, 0.0, 0.0, 0.0  …  0.0, 0.0, 0.0, 0.0, 0.0, 0.0, 0.0, 0.0, 0.0, 0.0], [0.0, 0.0, 0.0, 0.0, 0.0, 0.0, 0.0, 0.0, 0.0, 0.0  …  0.0, 0.0, 0.0, 0.0, 0.0, 0.0, 0.0, 0.0, 0.0, 0.0], [0.0, 0.0, 0.0, 0.0, 0.0, 0.0, 0.0, 0.0, 0.0, 0.0  …  0.0, 0.0, 0.0, 0.0, 0.0, 0.0, 0.0, 0.0, 0.0, 0.0], [0.0, 0.0, 0.0, 0.0, 0.0, 0.0, 0.0, 0.0, 0.0, 0.0  …  0.0, 0.0, 0.0, 0.0, 0.0, 0.0, 0.0, 0.0, 0.0, 0.0], [0.0, 0.0, 0.0, 0.0, 0.0, 0.0, 0.0, 0.0, 0.0, 0.0  …  0.0, 0.0, 0.0, 0.0, 0.0, 0.0, 0.0, 0.0, 0.0, 0.0], [0.0, 0.0, 0.0, 0.0, 0.0, 0.0, 0.0, 0.0, 0.0, 0.0  …  0.0, 0.0, 0.0, 0.0, 0.0, 0.0, 0.0, 0.0, 0.0, 0.0]  …  [0.0, 0.0, 0.0, 0.0, 0.0, 0.0, 0.0, 0.0, 0.0, 0.0  …  0.0, 0.0, 0.0, 0.0, 0.0, 0.0, 0.0, 0.0, 0.0, 0.0], [0.0, 0.0, 0.0, 0.0, 0.0, 0.0, 0.0, 0.0, 0.0, 0.0  …  0.0, 0.0, 0.0, 0.0, 0.0, 0.0, 0.0, 0.0, 0.0, 0.0], [0.0, 0.0, 0.0, 0.0, 0.0, 0.0, 0.0, 0.0, 0.0, 0.0  …  0.0, 0.0, 0.0, 0.0, 0.0, 0.0, 0.0, 0.0, 0.0, 0.0], [0.0, 0.0, 0.0, 0.0, 0.0, 0.0, 0.0, 0.0, 0.0, 0.0  …  0.0, 0.0, 0.0, 0.0, 0.0, 0.0, 0.0, 0.0, 0.0, 0.0], [0.0, 0.0, 0.0, 0.0, 0.0, 0.0, 0.0, 0.0, 0.0, 0.0  …  0.0, 0.0, 0.0, 0.0, 0.0, 0.0, 0.0, 0.0, 0.0, 0.0], [0.0, 0.0, 0.0, 0.0, 0.0, 0.0, 0.0, 0.0, 0.0, 0.0  …  0.0, 0.0, 0.0, 0.0, 0.0, 0.0, 0.0, 0.0, 0.0, 0.0], [0.0, 0.0, 0.0, 0.0, 0.0, 0.0, 0.0, 0.0, 0.0, 0.0  …  0.0, 0.0, 0.0, 0.0, 0.0, 0.0, 0.0, 0.0, 0.0, 0.0], [0.0, 0.0, 0.0, 0.0, 0.0, 0.0, 0.0, 0.0, 0.0, 0.0  …  0.0, 0.0, 0.0, 0.0, 0.0, 0.0, 0.0, 0.0, 0.0, 0.0], [0.0, 0.0, 0.0, 0.0, 0.0, 0.0, 0.0, 0.0, 0.0, 0.0  …  0.0, 0.0, 0.0, 0.0, 0.0, 0.0, 0.0, 0.0, 0.0, 0.0], [0.0, 0.0, 0.0, 0.0, 0.0, 0.0, 0.0, 0.0, 0.0, 0.0  …  0.0, 0.0, 0.0, 0.0, 0.0, 0.0, 0.0, 0.0, 0.0, 0.0]]\n",
       " [[0.0, 0.0, 0.0, 0.0, 0.0, 0.0, 0.0, 0.0, 0.0, 0.0  …  0.0, 0.0, 0.0, 0.0, 0.0, 0.0, 0.0, 0.0, 0.0, 0.0], [0.0, 0.0, 0.0, 0.0, 0.0, 0.0, 0.0, 0.0, 0.0, 0.0  …  0.0, 0.0, 0.0, 0.0, 0.0, 0.0, 0.0, 0.0, 0.0, 0.0], [0.0, 0.0, 0.0, 0.0, 0.0, 0.0, 0.0, 0.0, 0.0, 0.0  …  0.0, 0.0, 0.0, 0.0, 0.0, 0.0, 0.0, 0.0, 0.0, 0.0], [0.0, 0.0, 0.0, 0.0, 0.0, 0.0, 0.0, 0.0, 0.0, 0.0  …  0.0, 0.0, 0.0, 0.0, 0.0, 0.0, 0.0, 0.0, 0.0, 0.0], [0.0, 0.0, 0.0, 0.0, 0.0, 0.0, 0.0, 0.0, 0.0, 0.0  …  0.0, 0.0, 0.0, 0.0, 0.0, 0.0, 0.0, 0.0, 0.0, 0.0], [0.0, 0.0, 0.0, 0.0, 0.0, 0.0, 0.0, 0.0, 0.0, 0.0  …  0.0, 0.0, 0.0, 0.0, 0.0, 0.0, 0.0, 0.0, 0.0, 0.0], [0.0, 0.0, 0.0, 0.0, 0.0, 0.0, 0.0, 0.0, 0.0, 0.0  …  0.0, 0.0, 0.0, 0.0, 0.0, 0.0, 0.0, 0.0, 0.0, 0.0], [0.0, 0.0, 0.0, 0.0, 0.0, 0.0, 0.0, 0.0, 0.0, 0.0  …  0.0, 0.0, 0.0, 0.0, 0.0, 0.0, 0.0, 0.0, 0.0, 0.0], [0.0, 0.0, 0.0, 0.0, 0.0, 0.0, 0.0, 0.0, 0.0, 0.0  …  0.0, 0.0, 0.0, 0.0, 0.0, 0.0, 0.0, 0.0, 0.0, 0.0], [0.0, 0.0, 0.0, 0.0, 0.0, 0.0, 0.0, 0.0, 0.0, 0.0  …  0.0, 0.0, 0.0, 0.0, 0.0, 0.0, 0.0, 0.0, 0.0, 0.0]  …  [0.0, 0.0, 0.0, 0.0, 0.0, 0.0, 0.0, 0.0, 0.0, 0.0  …  0.0, 0.0, 0.0, 0.0, 0.0, 0.0, 0.0, 0.0, 0.0, 0.0], [0.0, 0.0, 0.0, 0.0, 0.0, 0.0, 0.0, 0.0, 0.0, 0.0  …  0.0, 0.0, 0.0, 0.0, 0.0, 0.0, 0.0, 0.0, 0.0, 0.0], [0.0, 0.0, 0.0, 0.0, 0.0, 0.0, 0.0, 0.0, 0.0, 0.0  …  0.0, 0.0, 0.0, 0.0, 0.0, 0.0, 0.0, 0.0, 0.0, 0.0], [0.0, 0.0, 0.0, 0.0, 0.0, 0.0, 0.0, 0.0, 0.0, 0.0  …  0.0, 0.0, 0.0, 0.0, 0.0, 0.0, 0.0, 0.0, 0.0, 0.0], [0.0, 0.0, 0.0, 0.0, 0.0, 0.0, 0.0, 0.0, 0.0, 0.0  …  0.0, 0.0, 0.0, 0.0, 0.0, 0.0, 0.0, 0.0, 0.0, 0.0], [0.0, 0.0, 0.0, 0.0, 0.0, 0.0, 0.0, 0.0, 0.0, 0.0  …  0.0, 0.0, 0.0, 0.0, 0.0, 0.0, 0.0, 0.0, 0.0, 0.0], [0.0, 0.0, 0.0, 0.0, 0.0, 0.0, 0.0, 0.0, 0.0, 0.0  …  0.0, 0.0, 0.0, 0.0, 0.0, 0.0, 0.0, 0.0, 0.0, 0.0], [0.0, 0.0, 0.0, 0.0, 0.0, 0.0, 0.0, 0.0, 0.0, 0.0  …  0.0, 0.0, 0.0, 0.0, 0.0, 0.0, 0.0, 0.0, 0.0, 0.0], [0.0, 0.0, 0.0, 0.0, 0.0, 0.0, 0.0, 0.0, 0.0, 0.0  …  0.0, 0.0, 0.0, 0.0, 0.0, 0.0, 0.0, 0.0, 0.0, 0.0], [0.0, 0.0, 0.0, 0.0, 0.0, 0.0, 0.0, 0.0, 0.0, 0.0  …  0.0, 0.0, 0.0, 0.0, 0.0, 0.0, 0.0, 0.0, 0.0, 0.0]]\n",
       " [[0.0, 0.0, 0.0, 0.0, 0.0, 0.0, 0.0, 0.0, 0.0, 0.0  …  0.0, 0.0, 0.0, 0.0, 0.0, 0.0, 0.0, 0.0, 0.0, 0.0], [0.0, 0.0, 0.0, 0.0, 0.0, 0.0, 0.0, 0.0, 0.0, 0.0  …  0.0, 0.0, 0.0, 0.0, 0.0, 0.0, 0.0, 0.0, 0.0, 0.0], [0.0, 0.0, 0.0, 0.0, 0.0, 0.0, 0.0, 0.0, 0.0, 0.0  …  0.0, 0.0, 0.0, 0.0, 0.0, 0.0, 0.0, 0.0, 0.0, 0.0], [0.0, 0.0, 0.0, 0.0, 0.0, 0.0, 0.0, 0.0, 0.0, 0.0  …  0.0, 0.0, 0.0, 0.0, 0.0, 0.0, 0.0, 0.0, 0.0, 0.0], [0.0, 0.0, 0.0, 0.0, 0.0, 0.0, 0.0, 0.0, 0.0, 0.0  …  0.0, 0.0, 0.0, 0.0, 0.0, 0.0, 0.0, 0.0, 0.0, 0.0], [0.0, 0.0, 0.0, 0.0, 0.0, 0.0, 0.0, 0.0, 0.0, 0.0  …  0.0, 0.0, 0.0, 0.0, 0.0, 0.0, 0.0, 0.0, 0.0, 0.0], [0.0, 0.0, 0.0, 0.0, 0.0, 0.0, 0.0, 0.0, 0.0, 0.0  …  0.0, 0.0, 0.0, 0.0, 0.0, 0.0, 0.0, 0.0, 0.0, 0.0], [0.0, 0.0, 0.0, 0.0, 0.0, 0.0, 0.0, 0.0, 0.0, 0.0  …  0.0, 0.0, 0.0, 0.0, 0.0, 0.0, 0.0, 0.0, 0.0, 0.0], [0.0, 0.0, 0.0, 0.0, 0.0, 0.0, 0.0, 0.0, 0.0, 0.0  …  0.0, 0.0, 0.0, 0.0, 0.0, 0.0, 0.0, 0.0, 0.0, 0.0], [0.0, 0.0, 0.0, 0.0, 0.0, 0.0, 0.0, 0.0, 0.0, 0.0  …  0.0, 0.0, 0.0, 0.0, 0.0, 0.0, 0.0, 0.0, 0.0, 0.0]  …  [0.0, 0.0, 0.0, 0.0, 0.0, 0.0, 0.0, 0.0, 0.0, 0.0  …  0.0, 0.0, 0.0, 0.0, 0.0, 0.0, 0.0, 0.0, 0.0, 0.0], [0.0, 0.0, 0.0, 0.0, 0.0, 0.0, 0.0, 0.0, 0.0, 0.0  …  0.0, 0.0, 0.0, 0.0, 0.0, 0.0, 0.0, 0.0, 0.0, 0.0], [0.0, 0.0, 0.0, 0.0, 0.0, 0.0, 0.0, 0.0, 0.0, 0.0  …  0.0, 0.0, 0.0, 0.0, 0.0, 0.0, 0.0, 0.0, 0.0, 0.0], [0.0, 0.0, 0.0, 0.0, 0.0, 0.0, 0.0, 0.0, 0.0, 0.0  …  0.0, 0.0, 0.0, 0.0, 0.0, 0.0, 0.0, 0.0, 0.0, 0.0], [0.0, 0.0, 0.0, 0.0, 0.0, 0.0, 0.0, 0.0, 0.0, 0.0  …  0.0, 0.0, 0.0, 0.0, 0.0, 0.0, 0.0, 0.0, 0.0, 0.0], [0.0, 0.0, 0.0, 0.0, 0.0, 0.0, 0.0, 0.0, 0.0, 0.0  …  0.0, 0.0, 0.0, 0.0, 0.0, 0.0, 0.0, 0.0, 0.0, 0.0], [0.0, 0.0, 0.0, 0.0, 0.0, 0.0, 0.0, 0.0, 0.0, 0.0  …  0.0, 0.0, 0.0, 0.0, 0.0, 0.0, 0.0, 0.0, 0.0, 0.0], [0.0, 0.0, 0.0, 0.0, 0.0, 0.0, 0.0, 0.0, 0.0, 0.0  …  0.0, 0.0, 0.0, 0.0, 0.0, 0.0, 0.0, 0.0, 0.0, 0.0], [0.0, 0.0, 0.0, 0.0, 0.0, 0.0, 0.0, 0.0, 0.0, 0.0  …  0.0, 0.0, 0.0, 0.0, 0.0, 0.0, 0.0, 0.0, 0.0, 0.0], [0.0, 0.0, 0.0, 0.0, 0.0, 0.0, 0.0, 0.0, 0.0, 0.0  …  0.0, 0.0, 0.0, 0.0, 0.0, 0.0, 0.0, 0.0, 0.0, 0.0]]\n",
       " [[0.0, 0.0, 0.0, 0.0, 0.0, 0.0, 0.0, 0.0, 0.0, 0.0  …  0.0, 0.0, 0.0, 0.0, 0.0, 0.0, 0.0, 0.0, 0.0, 0.0], [0.0, 0.0, 0.0, 0.0, 0.0, 0.0, 0.0, 0.0, 0.0, 0.0  …  0.0, 0.0, 0.0, 0.0, 0.0, 0.0, 0.0, 0.0, 0.0, 0.0], [0.0, 0.0, 0.0, 0.0, 0.0, 0.0, 0.0, 0.0, 0.0, 0.0  …  0.0, 0.0, 0.0, 0.0, 0.0, 0.0, 0.0, 0.0, 0.0, 0.0], [0.0, 0.0, 0.0, 0.0, 0.0, 0.0, 0.0, 1.0, 1.0, 1.0  …  0.0, 0.0, 0.0, 0.0, 0.0, 0.0, 0.0, 0.0, 0.0, 0.0], [0.0, 0.0, 0.0, 0.0, 0.0, 0.0, 0.0, 0.0, 0.0, 0.0  …  0.0, 0.0, 0.0, 0.0, 0.0, 0.0, 0.0, 0.0, 0.0, 0.0], [0.0, 0.0, 0.0, 0.0, 0.0, 0.0, 0.0, 0.0, 0.0, 0.0  …  0.0, 0.0, 0.0, 0.0, 0.0, 0.0, 0.0, 0.0, 0.0, 0.0], [0.0, 0.0, 0.0, 0.0, 0.0, 0.0, 0.0, 0.0, 0.0, 0.0  …  0.0, 0.0, 0.0, 0.0, 0.0, 0.0, 0.0, 0.0, 0.0, 0.0], [0.0, 0.0, 0.0, 0.0, 0.0, 0.0, 0.0, 0.0, 0.0, 0.0  …  0.0, 0.0, 0.0, 0.0, 0.0, 0.0, 0.0, 0.0, 0.0, 0.0], [0.0, 0.0, 0.0, 0.0, 0.0, 0.0, 0.0, 0.0, 0.0, 0.0  …  0.0, 0.0, 0.0, 0.0, 0.0, 0.0, 0.0, 0.0, 0.0, 0.0], [0.0, 0.0, 0.0, 0.0, 0.0, 0.0, 0.0, 0.0, 0.0, 0.0  …  0.0, 0.0, 0.0, 0.0, 0.0, 0.0, 0.0, 0.0, 0.0, 0.0]  …  [0.0, 0.0, 0.0, 0.0, 0.0, 0.0, 0.0, 0.0, 0.0, 0.0  …  0.0, 0.0, 0.0, 0.0, 0.0, 0.0, 0.0, 0.0, 0.0, 0.0], [0.0, 0.0, 0.0, 0.0, 0.0, 0.0, 0.0, 0.0, 0.0, 0.0  …  0.0, 0.0, 0.0, 0.0, 0.0, 0.0, 0.0, 0.0, 0.0, 0.0], [0.0, 0.0, 0.0, 0.0, 0.0, 0.0, 0.0, 0.0, 0.0, 0.0  …  0.0, 0.0, 0.0, 0.0, 0.0, 0.0, 0.0, 0.0, 0.0, 0.0], [0.0, 0.0, 0.0, 0.0, 0.0, 0.0, 0.0, 0.0, 0.0, 0.0  …  0.0, 0.0, 0.0, 0.0, 0.0, 0.0, 0.0, 0.0, 0.0, 0.0], [0.0, 0.0, 0.0, 0.0, 0.0, 0.0, 0.0, 0.0, 0.0, 0.0  …  0.0, 0.0, 0.0, 0.0, 0.0, 0.0, 0.0, 0.0, 0.0, 0.0], [0.0, 0.0, 0.0, 0.0, 0.0, 0.0, 0.0, 0.0, 0.0, 0.0  …  0.0, 0.0, 0.0, 0.0, 0.0, 0.0, 0.0, 0.0, 0.0, 0.0], [0.0, 0.0, 0.0, 0.0, 0.0, 0.0, 0.0, 0.0, 0.0, 0.0  …  0.0, 0.0, 0.0, 0.0, 0.0, 0.0, 0.0, 0.0, 0.0, 0.0], [0.0, 0.0, 0.0, 0.0, 0.0, 0.0, 0.0, 0.0, 0.0, 0.0  …  0.0, 0.0, 0.0, 0.0, 0.0, 0.0, 0.0, 0.0, 0.0, 0.0], [0.0, 0.0, 0.0, 0.0, 0.0, 0.0, 0.0, 0.0, 0.0, 0.0  …  0.0, 0.0, 0.0, 0.0, 0.0, 0.0, 0.0, 0.0, 0.0, 0.0], [0.0, 0.0, 0.0, 0.0, 0.0, 0.0, 0.0, 0.0, 0.0, 0.0  …  0.0, 0.0, 0.0, 0.0, 0.0, 0.0, 0.0, 0.0, 0.0, 0.0]]\n",
       " [[0.0, 0.0, 0.0, 0.0, 0.0, 0.0, 0.0, 0.0, 0.0, 0.0  …  0.0, 0.0, 0.0, 0.0, 0.0, 0.0, 0.0, 0.0, 0.0, 0.0], [0.0, 0.0, 0.0, 0.0, 0.0, 0.0, 0.0, 0.0, 0.0, 0.0  …  0.0, 0.0, 0.0, 0.0, 0.0, 0.0, 0.0, 0.0, 0.0, 0.0], [0.0, 0.0, 0.0, 0.0, 0.0, 0.0, 0.0, 0.0, 0.0, 0.0  …  0.0, 0.0, 0.0, 0.0, 0.0, 0.0, 0.0, 0.0, 0.0, 0.0], [0.0, 0.0, 0.0, 0.0, 0.0, 0.0, 0.0, 0.0, 0.0, 0.0  …  0.0, 0.0, 0.0, 0.0, 0.0, 0.0, 0.0, 0.0, 0.0, 0.0], [0.0, 0.0, 0.0, 0.0, 0.0, 0.0, 0.0, 0.0, 0.0, 0.0  …  0.0, 0.0, 0.0, 0.0, 0.0, 0.0, 0.0, 0.0, 0.0, 0.0], [0.0, 0.0, 0.0, 0.0, 0.0, 0.0, 0.0, 0.0, 0.0, 0.0  …  0.0, 0.0, 0.0, 0.0, 0.0, 0.0, 0.0, 0.0, 0.0, 0.0], [0.0, 0.0, 0.0, 0.0, 0.0, 0.0, 0.0, 0.0, 0.0, 0.0  …  0.0, 0.0, 0.0, 0.0, 0.0, 0.0, 0.0, 0.0, 0.0, 0.0], [0.0, 0.0, 0.0, 0.0, 0.0, 0.0, 0.0, 0.0, 0.0, 0.0  …  0.0, 0.0, 0.0, 0.0, 0.0, 0.0, 0.0, 0.0, 0.0, 0.0], [0.0, 0.0, 0.0, 0.0, 0.0, 0.0, 0.0, 0.0, 0.0, 0.0  …  0.0, 0.0, 0.0, 0.0, 0.0, 0.0, 0.0, 0.0, 0.0, 0.0], [0.0, 0.0, 0.0, 0.0, 0.0, 0.0, 0.0, 0.0, 0.0, 0.0  …  0.0, 0.0, 0.0, 0.0, 0.0, 0.0, 0.0, 0.0, 0.0, 0.0]  …  [0.0, 0.0, 0.0, 0.0, 0.0, 0.0, 0.0, 0.0, 0.0, 0.0  …  0.0, 0.0, 0.0, 0.0, 0.0, 0.0, 0.0, 0.0, 0.0, 0.0], [0.0, 0.0, 0.0, 0.0, 0.0, 0.0, 0.0, 0.0, 0.0, 0.0  …  0.0, 0.0, 0.0, 0.0, 0.0, 0.0, 0.0, 0.0, 0.0, 0.0], [0.0, 0.0, 0.0, 0.0, 0.0, 0.0, 0.0, 0.0, 0.0, 0.0  …  0.0, 0.0, 0.0, 0.0, 0.0, 0.0, 0.0, 0.0, 0.0, 0.0], [0.0, 0.0, 0.0, 0.0, 0.0, 0.0, 0.0, 0.0, 0.0, 0.0  …  0.0, 0.0, 0.0, 0.0, 0.0, 0.0, 0.0, 0.0, 0.0, 0.0], [0.0, 0.0, 0.0, 0.0, 0.0, 0.0, 0.0, 0.0, 0.0, 0.0  …  0.0, 0.0, 0.0, 0.0, 0.0, 0.0, 0.0, 0.0, 0.0, 0.0], [0.0, 0.0, 0.0, 0.0, 0.0, 0.0, 0.0, 0.0, 0.0, 0.0  …  0.0, 0.0, 0.0, 0.0, 0.0, 0.0, 0.0, 0.0, 0.0, 0.0], [0.0, 0.0, 0.0, 0.0, 0.0, 0.0, 0.0, 0.0, 0.0, 0.0  …  0.0, 0.0, 0.0, 0.0, 0.0, 0.0, 0.0, 0.0, 0.0, 0.0], [0.0, 0.0, 0.0, 0.0, 0.0, 0.0, 0.0, 0.0, 0.0, 0.0  …  0.0, 0.0, 0.0, 0.0, 0.0, 0.0, 0.0, 0.0, 0.0, 0.0], [0.0, 0.0, 0.0, 0.0, 0.0, 0.0, 0.0, 0.0, 0.0, 0.0  …  0.0, 0.0, 0.0, 0.0, 0.0, 0.0, 0.0, 0.0, 0.0, 0.0], [0.0, 0.0, 0.0, 0.0, 0.0, 0.0, 0.0, 0.0, 0.0, 0.0  …  0.0, 0.0, 0.0, 0.0, 0.0, 0.0, 0.0, 0.0, 0.0, 0.0]]\n",
       " [[0.0, 0.0, 0.0, 0.0, 0.0, 0.0, 0.0, 0.0, 0.0, 0.0  …  0.0, 0.0, 0.0, 0.0, 0.0, 0.0, 0.0, 0.0, 0.0, 0.0], [0.0, 0.0, 0.0, 0.0, 0.0, 0.0, 0.0, 0.0, 0.0, 0.0  …  0.0, 0.0, 0.0, 0.0, 0.0, 0.0, 0.0, 0.0, 0.0, 0.0], [0.0, 0.0, 0.0, 0.0, 0.0, 0.0, 0.0, 0.0, 0.0, 0.0  …  0.0, 0.0, 0.0, 0.0, 0.0, 0.0, 0.0, 0.0, 0.0, 0.0], [0.0, 0.0, 0.0, 0.0, 0.0, 0.0, 0.0, 0.0, 0.0, 0.0  …  0.0, 0.0, 0.0, 0.0, 0.0, 0.0, 0.0, 0.0, 0.0, 0.0], [0.0, 0.0, 0.0, 0.0, 0.0, 0.0, 0.0, 0.0, 0.0, 0.0  …  0.0, 0.0, 0.0, 0.0, 0.0, 0.0, 0.0, 0.0, 0.0, 0.0], [0.0, 0.0, 0.0, 0.0, 0.0, 0.0, 0.0, 0.0, 0.0, 0.0  …  0.0, 0.0, 0.0, 0.0, 0.0, 0.0, 0.0, 0.0, 0.0, 0.0], [0.0, 0.0, 0.0, 0.0, 0.0, 0.0, 0.0, 0.0, 0.0, 0.0  …  0.0, 0.0, 0.0, 0.0, 0.0, 0.0, 0.0, 0.0, 0.0, 0.0], [0.0, 0.0, 0.0, 0.0, 0.0, 0.0, 0.0, 0.0, 0.0, 0.0  …  0.0, 0.0, 0.0, 0.0, 0.0, 0.0, 0.0, 0.0, 0.0, 0.0], [0.0, 0.0, 0.0, 0.0, 0.0, 0.0, 0.0, 0.0, 0.0, 0.0  …  0.0, 0.0, 0.0, 0.0, 0.0, 0.0, 0.0, 0.0, 0.0, 0.0], [0.0, 0.0, 0.0, 0.0, 0.0, 0.0, 0.0, 0.0, 0.0, 0.0  …  0.0, 0.0, 0.0, 0.0, 0.0, 0.0, 0.0, 0.0, 0.0, 0.0]  …  [0.0, 0.0, 0.0, 0.0, 0.0, 0.0, 0.0, 0.0, 0.0, 0.0  …  0.0, 0.0, 0.0, 0.0, 0.0, 0.0, 0.0, 0.0, 0.0, 0.0], [0.0, 0.0, 0.0, 0.0, 0.0, 0.0, 0.0, 0.0, 0.0, 0.0  …  0.0, 0.0, 0.0, 0.0, 0.0, 0.0, 0.0, 0.0, 0.0, 0.0], [0.0, 0.0, 0.0, 0.0, 0.0, 0.0, 0.0, 0.0, 0.0, 0.0  …  0.0, 0.0, 0.0, 0.0, 0.0, 0.0, 0.0, 0.0, 0.0, 0.0], [0.0, 0.0, 0.0, 0.0, 0.0, 0.0, 0.0, 0.0, 0.0, 0.0  …  0.0, 0.0, 0.0, 0.0, 0.0, 0.0, 0.0, 0.0, 0.0, 0.0], [0.0, 0.0, 0.0, 0.0, 0.0, 0.0, 0.0, 0.0, 0.0, 0.0  …  0.0, 0.0, 0.0, 0.0, 0.0, 0.0, 0.0, 0.0, 0.0, 0.0], [0.0, 0.0, 0.0, 0.0, 0.0, 0.0, 0.0, 0.0, 0.0, 0.0  …  0.0, 0.0, 0.0, 0.0, 0.0, 0.0, 0.0, 0.0, 0.0, 0.0], [0.0, 0.0, 0.0, 0.0, 0.0, 0.0, 0.0, 0.0, 0.0, 0.0  …  0.0, 0.0, 0.0, 0.0, 0.0, 0.0, 0.0, 0.0, 0.0, 0.0], [0.0, 0.0, 0.0, 0.0, 0.0, 0.0, 0.0, 0.0, 0.0, 0.0  …  0.0, 0.0, 0.0, 0.0, 0.0, 0.0, 0.0, 0.0, 0.0, 0.0], [0.0, 0.0, 0.0, 0.0, 0.0, 0.0, 0.0, 0.0, 0.0, 0.0  …  0.0, 0.0, 0.0, 0.0, 0.0, 0.0, 0.0, 0.0, 0.0, 0.0], [0.0, 0.0, 0.0, 0.0, 0.0, 0.0, 0.0, 0.0, 0.0, 0.0  …  0.0, 0.0, 0.0, 0.0, 0.0, 0.0, 0.0, 0.0, 0.0, 0.0]]\n",
       " [[0.0, 0.0, 0.0, 0.0, 0.0, 0.0, 0.0, 0.0, 0.0, 0.0  …  0.0, 0.0, 0.0, 0.0, 0.0, 0.0, 0.0, 0.0, 0.0, 0.0], [0.0, 0.0, 0.0, 0.0, 0.0, 0.0, 0.0, 0.0, 0.0, 0.0  …  0.0, 0.0, 0.0, 0.0, 0.0, 0.0, 0.0, 0.0, 0.0, 0.0], [0.0, 0.0, 0.0, 0.0, 0.0, 0.0, 0.0, 0.0, 0.0, 0.0  …  0.0, 0.0, 0.0, 0.0, 0.0, 0.0, 0.0, 0.0, 0.0, 0.0], [0.0, 0.0, 0.0, 0.0, 0.0, 0.0, 0.0, 0.0, 0.0, 0.0  …  0.0, 0.0, 0.0, 0.0, 0.0, 0.0, 0.0, 0.0, 0.0, 0.0], [0.0, 0.0, 0.0, 0.0, 0.0, 0.0, 0.0, 0.0, 0.0, 0.0  …  0.0, 0.0, 0.0, 0.0, 0.0, 0.0, 0.0, 0.0, 0.0, 0.0], [0.0, 0.0, 0.0, 0.0, 0.0, 0.0, 0.0, 0.0, 0.0, 0.0  …  0.0, 0.0, 0.0, 0.0, 0.0, 0.0, 0.0, 0.0, 0.0, 0.0], [0.0, 0.0, 0.0, 0.0, 0.0, 0.0, 0.0, 0.0, 0.0, 0.0  …  0.0, 0.0, 0.0, 0.0, 0.0, 0.0, 0.0, 0.0, 0.0, 0.0], [0.0, 0.0, 0.0, 0.0, 0.0, 0.0, 0.0, 0.0, 0.0, 0.0  …  0.0, 0.0, 0.0, 0.0, 0.0, 0.0, 0.0, 0.0, 0.0, 0.0], [0.0, 0.0, 0.0, 0.0, 0.0, 0.0, 0.0, 0.0, 0.0, 0.0  …  0.0, 0.0, 0.0, 0.0, 0.0, 0.0, 0.0, 0.0, 0.0, 0.0], [0.0, 0.0, 0.0, 0.0, 0.0, 0.0, 0.0, 0.0, 0.0, 0.0  …  0.0, 0.0, 0.0, 0.0, 0.0, 0.0, 0.0, 0.0, 0.0, 0.0]  …  [0.0, 0.0, 0.0, 0.0, 0.0, 0.0, 0.0, 0.0, 0.0, 0.0  …  0.0, 0.0, 0.0, 0.0, 0.0, 0.0, 0.0, 0.0, 0.0, 0.0], [0.0, 0.0, 0.0, 0.0, 0.0, 0.0, 0.0, 0.0, 0.0, 0.0  …  0.0, 0.0, 0.0, 0.0, 0.0, 0.0, 0.0, 0.0, 0.0, 0.0], [0.0, 0.0, 0.0, 0.0, 0.0, 0.0, 0.0, 0.0, 0.0, 0.0  …  0.0, 0.0, 0.0, 0.0, 0.0, 0.0, 0.0, 0.0, 0.0, 0.0], [0.0, 0.0, 0.0, 0.0, 0.0, 0.0, 0.0, 0.0, 0.0, 0.0  …  0.0, 0.0, 0.0, 0.0, 0.0, 0.0, 0.0, 0.0, 0.0, 0.0], [0.0, 0.0, 0.0, 0.0, 0.0, 0.0, 0.0, 0.0, 0.0, 0.0  …  0.0, 0.0, 0.0, 0.0, 0.0, 0.0, 0.0, 0.0, 0.0, 0.0], [0.0, 0.0, 0.0, 0.0, 0.0, 0.0, 0.0, 0.0, 0.0, 0.0  …  0.0, 0.0, 0.0, 0.0, 0.0, 0.0, 0.0, 0.0, 0.0, 0.0], [0.0, 0.0, 0.0, 0.0, 0.0, 0.0, 0.0, 0.0, 0.0, 0.0  …  0.0, 0.0, 0.0, 0.0, 0.0, 0.0, 0.0, 0.0, 0.0, 0.0], [0.0, 0.0, 0.0, 0.0, 0.0, 0.0, 0.0, 0.0, 0.0, 0.0  …  0.0, 0.0, 0.0, 0.0, 0.0, 0.0, 0.0, 0.0, 0.0, 0.0], [0.0, 0.0, 0.0, 0.0, 0.0, 0.0, 0.0, 0.0, 0.0, 0.0  …  0.0, 0.0, 0.0, 0.0, 0.0, 0.0, 0.0, 0.0, 0.0, 0.0], [0.0, 0.0, 0.0, 0.0, 0.0, 0.0, 0.0, 0.0, 0.0, 0.0  …  0.0, 0.0, 0.0, 0.0, 0.0, 0.0, 0.0, 0.0, 0.0, 0.0]]\n",
       " [[0.0, 0.0, 0.0, 0.0, 0.0, 0.0, 0.0, 0.0, 0.0, 0.0  …  0.0, 0.0, 0.0, 0.0, 0.0, 0.0, 0.0, 0.0, 0.0, 0.0], [0.0, 0.0, 0.0, 0.0, 0.0, 0.0, 0.0, 0.0, 0.0, 0.0  …  0.0, 0.0, 0.0, 0.0, 0.0, 0.0, 0.0, 0.0, 0.0, 0.0], [0.0, 0.0, 0.0, 0.0, 0.0, 0.0, 0.0, 0.0, 0.0, 0.0  …  0.0, 0.0, 0.0, 0.0, 0.0, 0.0, 0.0, 0.0, 0.0, 0.0], [0.0, 0.0, 0.0, 0.0, 0.0, 0.0, 0.0, 0.0, 0.0, 0.0  …  0.0, 0.0, 0.0, 0.0, 0.0, 0.0, 0.0, 0.0, 0.0, 0.0], [0.0, 0.0, 0.0, 0.0, 0.0, 0.0, 0.0, 0.0, 0.0, 0.0  …  0.0, 0.0, 0.0, 0.0, 0.0, 0.0, 0.0, 0.0, 0.0, 0.0], [0.0, 0.0, 0.0, 0.0, 0.0, 0.0, 0.0, 0.0, 0.0, 0.0  …  0.0, 0.0, 0.0, 0.0, 0.0, 0.0, 0.0, 0.0, 0.0, 0.0], [0.0, 0.0, 0.0, 0.0, 0.0, 0.0, 0.0, 0.0, 0.0, 0.0  …  0.0, 0.0, 0.0, 0.0, 0.0, 0.0, 0.0, 0.0, 0.0, 0.0], [0.0, 1.0, 1.0, 1.0, 1.0, 0.0, 0.0, 0.0, 0.0, 0.0  …  0.0, 0.0, 0.0, 0.0, 0.0, 0.0, 0.0, 0.0, 0.0, 0.0], [0.0, 0.0, 0.0, 0.0, 0.0, 0.0, 0.0, 0.0, 0.0, 0.0  …  0.0, 0.0, 0.0, 0.0, 0.0, 0.0, 0.0, 0.0, 0.0, 0.0], [0.0, 0.0, 0.0, 0.0, 0.0, 0.0, 0.0, 0.0, 0.0, 0.0  …  0.0, 0.0, 0.0, 0.0, 0.0, 0.0, 0.0, 0.0, 0.0, 0.0]  …  [0.0, 0.0, 0.0, 0.0, 0.0, 0.0, 0.0, 0.0, 0.0, 0.0  …  0.0, 0.0, 0.0, 0.0, 0.0, 0.0, 0.0, 0.0, 0.0, 0.0], [0.0, 0.0, 0.0, 0.0, 0.0, 0.0, 0.0, 0.0, 0.0, 0.0  …  0.0, 0.0, 0.0, 0.0, 0.0, 0.0, 0.0, 0.0, 0.0, 0.0], [0.0, 0.0, 0.0, 0.0, 0.0, 0.0, 0.0, 0.0, 0.0, 0.0  …  0.0, 0.0, 0.0, 0.0, 0.0, 0.0, 0.0, 0.0, 0.0, 0.0], [0.0, 0.0, 0.0, 0.0, 0.0, 0.0, 0.0, 0.0, 0.0, 0.0  …  0.0, 0.0, 0.0, 0.0, 0.0, 0.0, 0.0, 0.0, 0.0, 0.0], [0.0, 0.0, 0.0, 0.0, 0.0, 0.0, 0.0, 0.0, 0.0, 0.0  …  0.0, 0.0, 0.0, 0.0, 0.0, 0.0, 0.0, 0.0, 0.0, 0.0], [0.0, 0.0, 0.0, 0.0, 0.0, 0.0, 0.0, 0.0, 0.0, 0.0  …  0.0, 0.0, 0.0, 0.0, 0.0, 0.0, 0.0, 0.0, 0.0, 0.0], [0.0, 0.0, 0.0, 0.0, 0.0, 0.0, 0.0, 0.0, 0.0, 0.0  …  0.0, 0.0, 0.0, 0.0, 0.0, 0.0, 0.0, 0.0, 0.0, 0.0], [0.0, 0.0, 0.0, 0.0, 0.0, 0.0, 0.0, 0.0, 0.0, 0.0  …  0.0, 0.0, 0.0, 0.0, 0.0, 0.0, 0.0, 0.0, 0.0, 0.0], [0.0, 0.0, 0.0, 0.0, 0.0, 0.0, 0.0, 0.0, 0.0, 0.0  …  0.0, 0.0, 0.0, 0.0, 0.0, 0.0, 0.0, 0.0, 0.0, 0.0], [0.0, 0.0, 0.0, 0.0, 0.0, 0.0, 0.0, 0.0, 0.0, 0.0  …  0.0, 0.0, 0.0, 0.0, 0.0, 0.0, 0.0, 0.0, 0.0, 0.0]]\n",
       " [[0.0, 0.0, 0.0, 0.0, 0.0, 0.0, 0.0, 0.0, 0.0, 0.0  …  0.0, 0.0, 0.0, 0.0, 0.0, 0.0, 0.0, 0.0, 0.0, 0.0], [0.0, 0.0, 0.0, 0.0, 0.0, 0.0, 0.0, 0.0, 0.0, 0.0  …  0.0, 0.0, 0.0, 0.0, 0.0, 0.0, 0.0, 0.0, 0.0, 0.0], [0.0, 0.0, 0.0, 0.0, 0.0, 0.0, 0.0, 0.0, 0.0, 0.0  …  0.0, 0.0, 0.0, 0.0, 0.0, 0.0, 0.0, 0.0, 0.0, 0.0], [0.0, 0.0, 0.0, 0.0, 0.0, 0.0, 0.0, 0.0, 0.0, 0.0  …  0.0, 0.0, 0.0, 0.0, 0.0, 0.0, 0.0, 0.0, 0.0, 0.0], [0.0, 0.0, 0.0, 0.0, 0.0, 0.0, 0.0, 0.0, 0.0, 0.0  …  0.0, 0.0, 0.0, 0.0, 0.0, 0.0, 0.0, 0.0, 0.0, 0.0], [0.0, 0.0, 0.0, 0.0, 0.0, 0.0, 0.0, 0.0, 0.0, 0.0  …  0.0, 0.0, 0.0, 0.0, 0.0, 0.0, 0.0, 0.0, 0.0, 0.0], [0.0, 0.0, 0.0, 0.0, 0.0, 0.0, 0.0, 0.0, 0.0, 0.0  …  0.0, 0.0, 0.0, 0.0, 0.0, 0.0, 0.0, 0.0, 0.0, 0.0], [0.0, 0.0, 0.0, 0.0, 0.0, 0.0, 0.0, 0.0, 0.0, 0.0  …  0.0, 0.0, 0.0, 0.0, 0.0, 0.0, 0.0, 0.0, 0.0, 0.0], [0.0, 0.0, 0.0, 0.0, 0.0, 0.0, 0.0, 0.0, 0.0, 0.0  …  0.0, 0.0, 0.0, 0.0, 0.0, 0.0, 0.0, 0.0, 0.0, 0.0], [0.0, 0.0, 0.0, 0.0, 0.0, 0.0, 0.0, 0.0, 0.0, 0.0  …  0.0, 0.0, 0.0, 0.0, 0.0, 0.0, 0.0, 0.0, 0.0, 0.0]  …  [0.0, 0.0, 0.0, 0.0, 0.0, 0.0, 0.0, 0.0, 0.0, 0.0  …  0.0, 0.0, 0.0, 0.0, 0.0, 0.0, 0.0, 0.0, 0.0, 0.0], [0.0, 0.0, 0.0, 0.0, 0.0, 0.0, 0.0, 0.0, 0.0, 0.0  …  0.0, 0.0, 0.0, 0.0, 0.0, 0.0, 0.0, 0.0, 0.0, 0.0], [0.0, 0.0, 0.0, 0.0, 0.0, 0.0, 0.0, 0.0, 0.0, 0.0  …  0.0, 0.0, 0.0, 0.0, 0.0, 0.0, 0.0, 0.0, 0.0, 0.0], [0.0, 0.0, 0.0, 0.0, 0.0, 0.0, 0.0, 0.0, 0.0, 0.0  …  0.0, 0.0, 0.0, 0.0, 0.0, 0.0, 0.0, 0.0, 0.0, 0.0], [0.0, 0.0, 0.0, 0.0, 0.0, 0.0, 0.0, 0.0, 0.0, 0.0  …  0.0, 0.0, 0.0, 0.0, 0.0, 0.0, 0.0, 0.0, 0.0, 0.0], [0.0, 0.0, 0.0, 0.0, 0.0, 0.0, 0.0, 0.0, 0.0, 0.0  …  0.0, 0.0, 0.0, 0.0, 0.0, 0.0, 0.0, 0.0, 0.0, 0.0], [0.0, 0.0, 0.0, 0.0, 0.0, 0.0, 0.0, 0.0, 0.0, 0.0  …  0.0, 0.0, 0.0, 0.0, 0.0, 0.0, 0.0, 0.0, 0.0, 0.0], [0.0, 0.0, 0.0, 0.0, 0.0, 0.0, 0.0, 0.0, 0.0, 0.0  …  0.0, 0.0, 0.0, 0.0, 0.0, 0.0, 0.0, 0.0, 0.0, 0.0], [0.0, 0.0, 0.0, 0.0, 0.0, 0.0, 0.0, 0.0, 0.0, 0.0  …  0.0, 0.0, 0.0, 0.0, 0.0, 0.0, 0.0, 0.0, 0.0, 0.0], [0.0, 0.0, 0.0, 0.0, 0.0, 0.0, 0.0, 0.0, 0.0, 0.0  …  0.0, 0.0, 0.0, 0.0, 0.0, 0.0, 0.0, 0.0, 0.0, 0.0]]\n",
       " [[0.0, 0.0, 0.0, 0.0, 0.0, 0.0, 0.0, 0.0, 0.0, 0.0  …  0.0, 0.0, 0.0, 0.0, 0.0, 0.0, 0.0, 0.0, 0.0, 0.0], [0.0, 0.0, 0.0, 0.0, 0.0, 0.0, 0.0, 0.0, 0.0, 0.0  …  0.0, 0.0, 0.0, 0.0, 0.0, 0.0, 0.0, 0.0, 0.0, 0.0], [0.0, 0.0, 0.0, 0.0, 0.0, 0.0, 0.0, 0.0, 0.0, 0.0  …  0.0, 0.0, 0.0, 0.0, 0.0, 0.0, 0.0, 0.0, 0.0, 0.0], [0.0, 0.0, 0.0, 0.0, 0.0, 0.0, 0.0, 0.0, 0.0, 0.0  …  0.0, 0.0, 0.0, 0.0, 0.0, 0.0, 0.0, 0.0, 0.0, 0.0], [0.0, 0.0, 0.0, 0.0, 0.0, 0.0, 0.0, 0.0, 0.0, 0.0  …  0.0, 0.0, 0.0, 0.0, 0.0, 0.0, 0.0, 0.0, 0.0, 0.0], [0.0, 0.0, 0.0, 0.0, 0.0, 0.0, 0.0, 0.0, 0.0, 0.0  …  0.0, 0.0, 0.0, 0.0, 0.0, 0.0, 0.0, 0.0, 0.0, 0.0], [0.0, 0.0, 0.0, 0.0, 0.0, 0.0, 0.0, 0.0, 0.0, 0.0  …  0.0, 0.0, 0.0, 0.0, 0.0, 0.0, 0.0, 0.0, 0.0, 0.0], [0.0, 0.0, 0.0, 0.0, 0.0, 0.0, 0.0, 0.0, 0.0, 0.0  …  0.0, 0.0, 0.0, 0.0, 0.0, 0.0, 0.0, 0.0, 0.0, 0.0], [0.0, 0.0, 0.0, 0.0, 0.0, 0.0, 0.0, 0.0, 0.0, 0.0  …  0.0, 0.0, 0.0, 0.0, 0.0, 0.0, 0.0, 0.0, 0.0, 0.0], [0.0, 0.0, 0.0, 0.0, 0.0, 0.0, 0.0, 0.0, 0.0, 0.0  …  0.0, 0.0, 0.0, 0.0, 0.0, 0.0, 0.0, 0.0, 0.0, 0.0]  …  [0.0, 0.0, 0.0, 0.0, 0.0, 0.0, 0.0, 0.0, 0.0, 0.0  …  0.0, 0.0, 0.0, 0.0, 0.0, 0.0, 0.0, 0.0, 0.0, 0.0], [0.0, 0.0, 0.0, 0.0, 0.0, 0.0, 0.0, 0.0, 0.0, 0.0  …  0.0, 0.0, 0.0, 0.0, 0.0, 0.0, 0.0, 0.0, 0.0, 0.0], [0.0, 0.0, 0.0, 0.0, 0.0, 0.0, 0.0, 0.0, 0.0, 0.0  …  0.0, 0.0, 0.0, 0.0, 0.0, 0.0, 0.0, 0.0, 0.0, 0.0], [0.0, 0.0, 0.0, 0.0, 0.0, 0.0, 0.0, 0.0, 0.0, 0.0  …  0.0, 0.0, 0.0, 0.0, 0.0, 0.0, 0.0, 0.0, 0.0, 0.0], [0.0, 0.0, 0.0, 0.0, 0.0, 0.0, 0.0, 0.0, 0.0, 0.0  …  0.0, 0.0, 0.0, 0.0, 0.0, 0.0, 0.0, 0.0, 0.0, 0.0], [0.0, 0.0, 0.0, 0.0, 0.0, 0.0, 0.0, 0.0, 0.0, 0.0  …  0.0, 0.0, 0.0, 0.0, 0.0, 0.0, 0.0, 0.0, 0.0, 0.0], [0.0, 0.0, 0.0, 0.0, 0.0, 0.0, 0.0, 0.0, 0.0, 0.0  …  0.0, 0.0, 0.0, 0.0, 0.0, 0.0, 0.0, 0.0, 0.0, 0.0], [0.0, 0.0, 0.0, 0.0, 0.0, 0.0, 0.0, 0.0, 0.0, 0.0  …  0.0, 0.0, 0.0, 0.0, 0.0, 0.0, 0.0, 0.0, 0.0, 0.0], [0.0, 0.0, 0.0, 0.0, 0.0, 0.0, 0.0, 0.0, 0.0, 0.0  …  0.0, 0.0, 0.0, 0.0, 0.0, 0.0, 0.0, 0.0, 0.0, 0.0], [0.0, 0.0, 0.0, 0.0, 0.0, 0.0, 0.0, 0.0, 0.0, 0.0  …  0.0, 0.0, 0.0, 0.0, 0.0, 0.0, 0.0, 0.0, 0.0, 0.0]]\n",
       " [[0.0, 0.0, 0.0, 0.0, 0.0, 0.0, 0.0, 0.0, 0.0, 0.0  …  0.0, 0.0, 0.0, 0.0, 0.0, 0.0, 0.0, 0.0, 0.0, 0.0], [0.0, 0.0, 0.0, 0.0, 0.0, 0.0, 0.0, 0.0, 0.0, 0.0  …  0.0, 0.0, 0.0, 0.0, 0.0, 0.0, 0.0, 0.0, 0.0, 0.0], [0.0, 0.0, 0.0, 0.0, 0.0, 0.0, 0.0, 0.0, 0.0, 0.0  …  0.0, 0.0, 0.0, 0.0, 0.0, 0.0, 0.0, 0.0, 0.0, 0.0], [0.0, 0.0, 0.0, 0.0, 0.0, 0.0, 0.0, 0.0, 0.0, 0.0  …  0.0, 0.0, 0.0, 0.0, 0.0, 0.0, 0.0, 0.0, 0.0, 0.0], [0.0, 0.0, 0.0, 0.0, 0.0, 0.0, 0.0, 0.0, 0.0, 0.0  …  0.0, 0.0, 0.0, 0.0, 0.0, 0.0, 0.0, 0.0, 0.0, 0.0], [0.0, 0.0, 0.0, 0.0, 0.0, 0.0, 0.0, 0.0, 0.0, 0.0  …  0.0, 0.0, 0.0, 0.0, 0.0, 0.0, 0.0, 0.0, 0.0, 0.0], [0.0, 0.0, 0.0, 0.0, 0.0, 0.0, 0.0, 0.0, 0.0, 0.0  …  0.0, 0.0, 0.0, 0.0, 0.0, 0.0, 0.0, 0.0, 0.0, 0.0], [0.0, 0.0, 0.0, 0.0, 0.0, 0.0, 0.0, 0.0, 0.0, 0.0  …  0.0, 0.0, 0.0, 0.0, 0.0, 0.0, 0.0, 0.0, 0.0, 0.0], [0.0, 0.0, 0.0, 0.0, 0.0, 0.0, 0.0, 0.0, 0.0, 0.0  …  0.0, 0.0, 0.0, 0.0, 0.0, 0.0, 0.0, 0.0, 0.0, 0.0], [0.0, 0.0, 0.0, 0.0, 0.0, 0.0, 0.0, 0.0, 0.0, 0.0  …  0.0, 0.0, 0.0, 0.0, 0.0, 0.0, 0.0, 0.0, 0.0, 0.0]  …  [0.0, 0.0, 0.0, 0.0, 0.0, 0.0, 0.0, 0.0, 0.0, 0.0  …  0.0, 0.0, 0.0, 0.0, 0.0, 0.0, 0.0, 0.0, 0.0, 0.0], [0.0, 0.0, 0.0, 0.0, 0.0, 0.0, 0.0, 0.0, 0.0, 0.0  …  0.0, 0.0, 0.0, 0.0, 0.0, 0.0, 0.0, 0.0, 0.0, 0.0], [0.0, 0.0, 0.0, 0.0, 0.0, 0.0, 0.0, 0.0, 0.0, 0.0  …  0.0, 0.0, 0.0, 0.0, 0.0, 0.0, 0.0, 0.0, 0.0, 0.0], [0.0, 0.0, 0.0, 0.0, 0.0, 0.0, 0.0, 0.0, 0.0, 0.0  …  0.0, 0.0, 0.0, 0.0, 0.0, 0.0, 0.0, 0.0, 0.0, 0.0], [0.0, 0.0, 0.0, 0.0, 0.0, 0.0, 0.0, 0.0, 0.0, 0.0  …  0.0, 0.0, 0.0, 0.0, 0.0, 0.0, 0.0, 0.0, 0.0, 0.0], [0.0, 0.0, 0.0, 0.0, 0.0, 0.0, 0.0, 0.0, 0.0, 0.0  …  0.0, 0.0, 0.0, 0.0, 0.0, 0.0, 0.0, 0.0, 0.0, 0.0], [0.0, 0.0, 0.0, 0.0, 0.0, 0.0, 0.0, 0.0, 0.0, 0.0  …  0.0, 0.0, 0.0, 0.0, 0.0, 0.0, 0.0, 0.0, 0.0, 0.0], [0.0, 0.0, 0.0, 0.0, 0.0, 0.0, 0.0, 0.0, 0.0, 0.0  …  0.0, 0.0, 0.0, 0.0, 0.0, 0.0, 0.0, 0.0, 0.0, 0.0], [0.0, 0.0, 0.0, 0.0, 0.0, 0.0, 0.0, 0.0, 0.0, 0.0  …  0.0, 0.0, 0.0, 0.0, 0.0, 0.0, 0.0, 0.0, 0.0, 0.0], [0.0, 0.0, 0.0, 0.0, 0.0, 0.0, 0.0, 0.0, 0.0, 0.0  …  0.0, 0.0, 0.0, 0.0, 0.0, 0.0, 0.0, 0.0, 0.0, 0.0]]\n",
       " [[0.0, 0.0, 0.0, 0.0, 0.0, 0.0, 0.0, 0.0, 0.0, 0.0  …  0.0, 0.0, 0.0, 0.0, 0.0, 0.0, 0.0, 0.0, 0.0, 0.0], [0.0, 0.0, 0.0, 0.0, 0.0, 0.0, 0.0, 0.0, 0.0, 0.0  …  0.0, 0.0, 0.0, 0.0, 0.0, 0.0, 0.0, 0.0, 0.0, 0.0], [0.0, 0.0, 0.0, 0.0, 0.0, 0.0, 0.0, 0.0, 0.0, 0.0  …  0.0, 0.0, 0.0, 0.0, 0.0, 0.0, 0.0, 0.0, 0.0, 0.0], [0.0, 0.0, 0.0, 0.0, 0.0, 0.0, 0.0, 0.0, 0.0, 0.0  …  0.0, 0.0, 0.0, 0.0, 0.0, 0.0, 0.0, 0.0, 0.0, 0.0], [0.0, 0.0, 0.0, 0.0, 0.0, 0.0, 0.0, 0.0, 0.0, 0.0  …  0.0, 0.0, 0.0, 0.0, 0.0, 0.0, 0.0, 0.0, 0.0, 0.0], [0.0, 0.0, 0.0, 0.0, 0.0, 0.0, 0.0, 0.0, 0.0, 0.0  …  0.0, 0.0, 0.0, 0.0, 0.0, 0.0, 0.0, 0.0, 0.0, 0.0], [0.0, 0.0, 0.0, 0.0, 0.0, 0.0, 0.0, 0.0, 0.0, 0.0  …  0.0, 0.0, 0.0, 0.0, 0.0, 0.0, 0.0, 0.0, 0.0, 0.0], [0.0, 0.0, 0.0, 0.0, 0.0, 0.0, 0.0, 0.0, 0.0, 0.0  …  0.0, 0.0, 0.0, 0.0, 0.0, 0.0, 0.0, 0.0, 0.0, 0.0], [0.0, 0.0, 0.0, 0.0, 0.0, 0.0, 0.0, 0.0, 0.0, 0.0  …  0.0, 0.0, 0.0, 0.0, 0.0, 0.0, 0.0, 0.0, 0.0, 0.0], [0.0, 0.0, 0.0, 0.0, 0.0, 0.0, 0.0, 0.0, 0.0, 0.0  …  0.0, 0.0, 0.0, 0.0, 0.0, 0.0, 0.0, 0.0, 0.0, 0.0]  …  [0.0, 0.0, 0.0, 0.0, 0.0, 0.0, 0.0, 0.0, 0.0, 0.0  …  0.0, 0.0, 0.0, 0.0, 0.0, 0.0, 0.0, 0.0, 0.0, 0.0], [0.0, 0.0, 0.0, 0.0, 0.0, 0.0, 0.0, 0.0, 0.0, 0.0  …  0.0, 0.0, 0.0, 0.0, 0.0, 0.0, 0.0, 0.0, 0.0, 0.0], [0.0, 0.0, 0.0, 0.0, 0.0, 0.0, 0.0, 0.0, 0.0, 0.0  …  0.0, 0.0, 0.0, 0.0, 0.0, 0.0, 0.0, 0.0, 0.0, 0.0], [0.0, 0.0, 0.0, 0.0, 0.0, 0.0, 0.0, 0.0, 0.0, 0.0  …  0.0, 0.0, 0.0, 0.0, 0.0, 0.0, 0.0, 0.0, 0.0, 0.0], [0.0, 0.0, 0.0, 0.0, 0.0, 0.0, 0.0, 0.0, 0.0, 0.0  …  0.0, 0.0, 0.0, 0.0, 0.0, 0.0, 0.0, 0.0, 0.0, 0.0], [0.0, 0.0, 0.0, 0.0, 0.0, 0.0, 0.0, 0.0, 0.0, 0.0  …  0.0, 0.0, 0.0, 0.0, 0.0, 0.0, 0.0, 0.0, 0.0, 0.0], [0.0, 0.0, 0.0, 0.0, 0.0, 0.0, 0.0, 0.0, 0.0, 0.0  …  0.0, 0.0, 0.0, 0.0, 0.0, 0.0, 0.0, 0.0, 0.0, 0.0], [0.0, 0.0, 0.0, 0.0, 0.0, 0.0, 0.0, 0.0, 0.0, 0.0  …  0.0, 0.0, 0.0, 0.0, 0.0, 0.0, 0.0, 0.0, 0.0, 0.0], [0.0, 0.0, 0.0, 0.0, 0.0, 0.0, 0.0, 0.0, 0.0, 0.0  …  0.0, 0.0, 0.0, 0.0, 0.0, 0.0, 0.0, 0.0, 0.0, 0.0], [0.0, 0.0, 0.0, 0.0, 0.0, 0.0, 0.0, 0.0, 0.0, 0.0  …  0.0, 0.0, 0.0, 0.0, 0.0, 0.0, 0.0, 0.0, 0.0, 0.0]]\n",
       " ⋮\n",
       " [[0.0, 0.0, 0.0, 0.0, 0.0, 0.0, 0.0, 0.0, 0.0, 0.0  …  0.0, 0.0, 0.0, 0.0, 0.0, 0.0, 0.0, 0.0, 0.0, 0.0], [0.0, 0.0, 0.0, 0.0, 0.0, 0.0, 0.0, 0.0, 0.0, 0.0  …  0.0, 0.0, 0.0, 0.0, 0.0, 0.0, 0.0, 0.0, 0.0, 0.0], [0.0, 0.0, 0.0, 0.0, 0.0, 0.0, 0.0, 0.0, 0.0, 0.0  …  0.0, 0.0, 0.0, 0.0, 0.0, 0.0, 0.0, 0.0, 0.0, 0.0], [0.0, 0.0, 0.0, 0.0, 0.0, 0.0, 0.0, 1.0, 1.0, 1.0  …  0.0, 0.0, 0.0, 0.0, 0.0, 0.0, 0.0, 0.0, 0.0, 0.0], [0.0, 0.0, 0.0, 0.0, 0.0, 0.0, 0.0, 0.0, 0.0, 0.0  …  0.0, 0.0, 0.0, 0.0, 0.0, 0.0, 0.0, 0.0, 0.0, 0.0], [0.0, 0.0, 0.0, 0.0, 0.0, 0.0, 0.0, 0.0, 0.0, 0.0  …  0.0, 0.0, 0.0, 0.0, 0.0, 0.0, 0.0, 0.0, 0.0, 0.0], [0.0, 0.0, 0.0, 0.0, 0.0, 0.0, 0.0, 0.0, 0.0, 0.0  …  0.0, 0.0, 0.0, 0.0, 0.0, 0.0, 0.0, 0.0, 0.0, 0.0], [0.0, 0.0, 0.0, 0.0, 0.0, 0.0, 0.0, 0.0, 0.0, 0.0  …  0.0, 0.0, 0.0, 0.0, 0.0, 0.0, 0.0, 0.0, 0.0, 0.0], [0.0, 0.0, 0.0, 0.0, 0.0, 0.0, 0.0, 0.0, 0.0, 0.0  …  0.0, 0.0, 0.0, 0.0, 0.0, 0.0, 0.0, 0.0, 0.0, 0.0], [0.0, 0.0, 0.0, 0.0, 0.0, 0.0, 0.0, 0.0, 0.0, 0.0  …  0.0, 0.0, 0.0, 0.0, 0.0, 0.0, 0.0, 0.0, 0.0, 0.0]  …  [0.0, 1.0, 1.0, 1.0, 1.0, 0.0, 0.0, 0.0, 0.0, 0.0  …  0.0, 0.0, 0.0, 0.0, 0.0, 0.0, 0.0, 0.0, 0.0, 0.0], [0.0, 0.0, 0.0, 0.0, 0.0, 0.0, 0.0, 0.0, 0.0, 0.0  …  0.0, 0.0, 0.0, 0.0, 0.0, 0.0, 0.0, 0.0, 0.0, 0.0], [0.0, 0.0, 0.0, 0.0, 0.0, 0.0, 0.0, 0.0, 0.0, 0.0  …  0.0, 0.0, 0.0, 0.0, 0.0, 0.0, 0.0, 0.0, 0.0, 0.0], [0.0, 0.0, 0.0, 0.0, 0.0, 0.0, 0.0, 0.0, 0.0, 0.0  …  0.0, 0.0, 0.0, 0.0, 0.0, 0.0, 0.0, 0.0, 0.0, 0.0], [0.0, 0.0, 0.0, 0.0, 0.0, 0.0, 0.0, 0.0, 0.0, 0.0  …  0.0, 0.0, 0.0, 0.0, 0.0, 0.0, 0.0, 0.0, 0.0, 0.0], [0.0, 0.0, 0.0, 0.0, 0.0, 0.0, 0.0, 0.0, 0.0, 0.0  …  0.0, 0.0, 0.0, 0.0, 0.0, 0.0, 0.0, 0.0, 0.0, 0.0], [0.0, 0.0, 0.0, 0.0, 0.0, 0.0, 0.0, 0.0, 0.0, 0.0  …  0.0, 0.0, 0.0, 0.0, 0.0, 0.0, 0.0, 0.0, 0.0, 0.0], [0.0, 0.0, 0.0, 0.0, 0.0, 0.0, 0.0, 0.0, 0.0, 0.0  …  0.0, 0.0, 0.0, 0.0, 0.0, 0.0, 0.0, 0.0, 0.0, 0.0], [0.0, 0.0, 0.0, 0.0, 0.0, 0.0, 0.0, 0.0, 0.0, 0.0  …  0.0, 0.0, 0.0, 0.0, 0.0, 0.0, 0.0, 0.0, 0.0, 0.0], [0.0, 0.0, 0.0, 0.0, 0.0, 0.0, 0.0, 0.0, 0.0, 0.0  …  0.0, 0.0, 0.0, 0.0, 0.0, 0.0, 0.0, 0.0, 0.0, 0.0]]\n",
       " [[0.0, 0.0, 0.0, 0.0, 0.0, 0.0, 0.0, 0.0, 0.0, 0.0  …  0.0, 0.0, 0.0, 0.0, 0.0, 0.0, 0.0, 0.0, 0.0, 0.0], [0.0, 0.0, 0.0, 0.0, 0.0, 0.0, 0.0, 0.0, 0.0, 0.0  …  0.0, 0.0, 0.0, 0.0, 0.0, 0.0, 0.0, 0.0, 0.0, 0.0], [0.0, 0.0, 0.0, 0.0, 0.0, 0.0, 0.0, 0.0, 0.0, 0.0  …  0.0, 0.0, 0.0, 0.0, 0.0, 0.0, 0.0, 0.0, 0.0, 0.0], [0.0, 0.0, 0.0, 0.0, 0.0, 0.0, 0.0, 1.0, 1.0, 1.0  …  0.0, 0.0, 0.0, 0.0, 0.0, 0.0, 0.0, 0.0, 0.0, 0.0], [0.0, 0.0, 0.0, 0.0, 0.0, 0.0, 0.0, 0.0, 0.0, 0.0  …  0.0, 0.0, 0.0, 0.0, 0.0, 0.0, 0.0, 0.0, 0.0, 0.0], [0.0, 0.0, 0.0, 0.0, 0.0, 0.0, 0.0, 0.0, 0.0, 0.0  …  0.0, 0.0, 0.0, 0.0, 0.0, 0.0, 0.0, 0.0, 0.0, 0.0], [0.0, 0.0, 0.0, 0.0, 0.0, 0.0, 0.0, 0.0, 0.0, 0.0  …  0.0, 0.0, 0.0, 0.0, 0.0, 0.0, 0.0, 0.0, 0.0, 0.0], [0.0, 0.0, 0.0, 0.0, 0.0, 0.0, 0.0, 0.0, 0.0, 0.0  …  0.0, 0.0, 0.0, 0.0, 0.0, 0.0, 0.0, 0.0, 0.0, 0.0], [0.0, 0.0, 0.0, 0.0, 0.0, 0.0, 0.0, 0.0, 0.0, 0.0  …  0.0, 0.0, 0.0, 0.0, 0.0, 0.0, 0.0, 0.0, 0.0, 0.0], [0.0, 0.0, 0.0, 0.0, 0.0, 0.0, 0.0, 0.0, 0.0, 0.0  …  0.0, 0.0, 0.0, 0.0, 0.0, 0.0, 0.0, 0.0, 0.0, 0.0]  …  [0.0, 1.0, 1.0, 1.0, 1.0, 0.0, 0.0, 0.0, 0.0, 0.0  …  0.0, 0.0, 0.0, 0.0, 0.0, 0.0, 0.0, 0.0, 0.0, 0.0], [0.0, 0.0, 0.0, 0.0, 0.0, 0.0, 0.0, 0.0, 0.0, 0.0  …  0.0, 0.0, 0.0, 0.0, 0.0, 0.0, 0.0, 0.0, 0.0, 0.0], [0.0, 0.0, 0.0, 0.0, 0.0, 0.0, 0.0, 0.0, 0.0, 0.0  …  0.0, 0.0, 0.0, 0.0, 0.0, 0.0, 0.0, 0.0, 0.0, 0.0], [0.0, 0.0, 0.0, 0.0, 0.0, 0.0, 0.0, 0.0, 0.0, 0.0  …  0.0, 0.0, 0.0, 0.0, 0.0, 0.0, 0.0, 0.0, 0.0, 0.0], [0.0, 0.0, 0.0, 0.0, 0.0, 0.0, 0.0, 0.0, 0.0, 0.0  …  0.0, 0.0, 0.0, 0.0, 0.0, 0.0, 0.0, 0.0, 0.0, 0.0], [0.0, 0.0, 0.0, 0.0, 0.0, 0.0, 0.0, 0.0, 0.0, 0.0  …  0.0, 0.0, 0.0, 0.0, 0.0, 0.0, 0.0, 0.0, 0.0, 0.0], [0.0, 0.0, 0.0, 0.0, 0.0, 0.0, 0.0, 0.0, 0.0, 0.0  …  0.0, 0.0, 0.0, 0.0, 0.0, 0.0, 0.0, 0.0, 0.0, 0.0], [0.0, 0.0, 0.0, 0.0, 0.0, 0.0, 0.0, 0.0, 0.0, 0.0  …  0.0, 0.0, 0.0, 0.0, 0.0, 0.0, 0.0, 0.0, 0.0, 0.0], [0.0, 0.0, 0.0, 0.0, 0.0, 0.0, 0.0, 0.0, 0.0, 0.0  …  0.0, 0.0, 0.0, 0.0, 0.0, 0.0, 0.0, 0.0, 0.0, 0.0], [0.0, 0.0, 0.0, 0.0, 0.0, 0.0, 0.0, 0.0, 0.0, 0.0  …  0.0, 0.0, 0.0, 0.0, 0.0, 0.0, 0.0, 0.0, 0.0, 0.0]]\n",
       " [[0.0, 0.0, 0.0, 0.0, 0.0, 0.0, 0.0, 0.0, 0.0, 0.0  …  0.0, 0.0, 0.0, 0.0, 0.0, 0.0, 0.0, 0.0, 0.0, 0.0], [0.0, 0.0, 0.0, 0.0, 0.0, 0.0, 0.0, 0.0, 0.0, 0.0  …  0.0, 0.0, 0.0, 0.0, 0.0, 0.0, 0.0, 0.0, 0.0, 0.0], [0.0, 0.0, 0.0, 0.0, 0.0, 0.0, 0.0, 0.0, 0.0, 0.0  …  0.0, 0.0, 0.0, 0.0, 0.0, 0.0, 0.0, 0.0, 0.0, 0.0], [0.0, 0.0, 0.0, 0.0, 0.0, 0.0, 0.0, 1.0, 1.0, 1.0  …  0.0, 0.0, 0.0, 0.0, 0.0, 0.0, 0.0, 0.0, 0.0, 0.0], [0.0, 0.0, 0.0, 0.0, 0.0, 0.0, 0.0, 0.0, 0.0, 0.0  …  0.0, 0.0, 0.0, 0.0, 0.0, 0.0, 0.0, 0.0, 0.0, 0.0], [0.0, 0.0, 0.0, 0.0, 0.0, 0.0, 0.0, 0.0, 0.0, 0.0  …  0.0, 0.0, 0.0, 0.0, 0.0, 0.0, 0.0, 0.0, 0.0, 0.0], [0.0, 0.0, 0.0, 0.0, 0.0, 0.0, 0.0, 0.0, 0.0, 0.0  …  0.0, 0.0, 0.0, 0.0, 0.0, 0.0, 0.0, 0.0, 0.0, 0.0], [0.0, 0.0, 0.0, 0.0, 0.0, 0.0, 0.0, 0.0, 0.0, 0.0  …  0.0, 0.0, 0.0, 0.0, 0.0, 0.0, 0.0, 0.0, 0.0, 0.0], [0.0, 0.0, 0.0, 0.0, 0.0, 0.0, 0.0, 0.0, 0.0, 0.0  …  0.0, 0.0, 0.0, 0.0, 0.0, 0.0, 0.0, 0.0, 0.0, 0.0], [0.0, 0.0, 0.0, 0.0, 0.0, 0.0, 0.0, 0.0, 0.0, 0.0  …  0.0, 0.0, 0.0, 0.0, 0.0, 0.0, 0.0, 0.0, 0.0, 0.0]  …  [0.0, 1.0, 1.0, 1.0, 1.0, 0.0, 0.0, 0.0, 0.0, 0.0  …  0.0, 0.0, 0.0, 0.0, 0.0, 0.0, 0.0, 0.0, 0.0, 0.0], [0.0, 0.0, 0.0, 0.0, 0.0, 0.0, 0.0, 0.0, 0.0, 0.0  …  0.0, 0.0, 0.0, 0.0, 0.0, 0.0, 0.0, 0.0, 0.0, 0.0], [0.0, 0.0, 0.0, 0.0, 0.0, 0.0, 0.0, 0.0, 0.0, 0.0  …  0.0, 0.0, 0.0, 0.0, 0.0, 0.0, 0.0, 0.0, 0.0, 0.0], [0.0, 0.0, 0.0, 0.0, 0.0, 0.0, 0.0, 0.0, 0.0, 0.0  …  0.0, 0.0, 0.0, 0.0, 0.0, 0.0, 0.0, 0.0, 0.0, 0.0], [0.0, 0.0, 0.0, 0.0, 0.0, 0.0, 0.0, 0.0, 0.0, 0.0  …  0.0, 0.0, 0.0, 0.0, 0.0, 0.0, 0.0, 0.0, 0.0, 0.0], [0.0, 0.0, 0.0, 0.0, 0.0, 0.0, 0.0, 0.0, 0.0, 0.0  …  0.0, 0.0, 0.0, 0.0, 0.0, 0.0, 0.0, 0.0, 0.0, 0.0], [0.0, 0.0, 0.0, 0.0, 0.0, 0.0, 0.0, 0.0, 0.0, 0.0  …  0.0, 0.0, 0.0, 0.0, 0.0, 0.0, 0.0, 0.0, 0.0, 0.0], [0.0, 0.0, 0.0, 0.0, 0.0, 0.0, 0.0, 0.0, 0.0, 0.0  …  0.0, 0.0, 0.0, 0.0, 0.0, 0.0, 0.0, 0.0, 0.0, 0.0], [0.0, 0.0, 0.0, 0.0, 0.0, 0.0, 0.0, 0.0, 0.0, 0.0  …  0.0, 0.0, 0.0, 0.0, 0.0, 0.0, 0.0, 0.0, 0.0, 0.0], [0.0, 0.0, 0.0, 0.0, 0.0, 0.0, 0.0, 0.0, 0.0, 0.0  …  0.0, 0.0, 0.0, 0.0, 0.0, 0.0, 0.0, 0.0, 0.0, 0.0]]\n",
       " [[0.0, 0.0, 0.0, 0.0, 0.0, 0.0, 0.0, 0.0, 0.0, 0.0  …  0.0, 0.0, 0.0, 0.0, 0.0, 0.0, 0.0, 0.0, 0.0, 0.0], [0.0, 0.0, 0.0, 0.0, 0.0, 0.0, 0.0, 0.0, 0.0, 0.0  …  0.0, 0.0, 0.0, 0.0, 0.0, 0.0, 0.0, 0.0, 0.0, 0.0], [0.0, 0.0, 0.0, 0.0, 0.0, 0.0, 0.0, 0.0, 0.0, 0.0  …  0.0, 0.0, 0.0, 0.0, 0.0, 0.0, 0.0, 0.0, 0.0, 0.0], [0.0, 0.0, 0.0, 0.0, 0.0, 0.0, 0.0, 1.0, 1.0, 1.0  …  0.0, 0.0, 0.0, 0.0, 0.0, 0.0, 0.0, 0.0, 0.0, 0.0], [0.0, 0.0, 0.0, 0.0, 0.0, 0.0, 0.0, 0.0, 0.0, 0.0  …  0.0, 0.0, 0.0, 0.0, 0.0, 0.0, 0.0, 0.0, 0.0, 0.0], [0.0, 0.0, 0.0, 0.0, 0.0, 0.0, 0.0, 0.0, 0.0, 0.0  …  0.0, 0.0, 0.0, 0.0, 0.0, 0.0, 0.0, 0.0, 0.0, 0.0], [0.0, 0.0, 0.0, 0.0, 0.0, 0.0, 0.0, 0.0, 0.0, 0.0  …  0.0, 0.0, 0.0, 0.0, 0.0, 0.0, 0.0, 0.0, 0.0, 0.0], [0.0, 0.0, 0.0, 0.0, 0.0, 0.0, 0.0, 0.0, 0.0, 0.0  …  0.0, 0.0, 0.0, 0.0, 0.0, 0.0, 0.0, 0.0, 0.0, 0.0], [0.0, 0.0, 0.0, 0.0, 0.0, 0.0, 0.0, 0.0, 0.0, 0.0  …  0.0, 0.0, 0.0, 0.0, 0.0, 0.0, 0.0, 0.0, 0.0, 0.0], [0.0, 0.0, 0.0, 0.0, 0.0, 0.0, 0.0, 0.0, 0.0, 0.0  …  0.0, 0.0, 0.0, 0.0, 0.0, 0.0, 0.0, 0.0, 0.0, 0.0]  …  [0.0, 1.0, 1.0, 1.0, 1.0, 0.0, 0.0, 0.0, 0.0, 0.0  …  0.0, 0.0, 0.0, 0.0, 0.0, 0.0, 0.0, 0.0, 0.0, 0.0], [0.0, 0.0, 0.0, 0.0, 0.0, 0.0, 0.0, 0.0, 0.0, 0.0  …  0.0, 0.0, 0.0, 0.0, 0.0, 0.0, 0.0, 0.0, 0.0, 0.0], [0.0, 0.0, 0.0, 0.0, 0.0, 0.0, 0.0, 0.0, 0.0, 0.0  …  0.0, 0.0, 0.0, 0.0, 0.0, 0.0, 0.0, 0.0, 0.0, 0.0], [0.0, 0.0, 0.0, 0.0, 0.0, 0.0, 0.0, 0.0, 0.0, 0.0  …  0.0, 0.0, 0.0, 0.0, 0.0, 0.0, 0.0, 0.0, 0.0, 0.0], [0.0, 0.0, 0.0, 0.0, 0.0, 0.0, 0.0, 0.0, 0.0, 0.0  …  0.0, 0.0, 0.0, 0.0, 0.0, 0.0, 0.0, 0.0, 0.0, 0.0], [0.0, 0.0, 0.0, 0.0, 0.0, 0.0, 0.0, 0.0, 0.0, 0.0  …  0.0, 0.0, 0.0, 0.0, 0.0, 0.0, 0.0, 0.0, 0.0, 0.0], [0.0, 0.0, 0.0, 0.0, 0.0, 0.0, 0.0, 0.0, 0.0, 0.0  …  0.0, 0.0, 0.0, 0.0, 0.0, 0.0, 0.0, 0.0, 0.0, 0.0], [0.0, 0.0, 0.0, 0.0, 0.0, 0.0, 0.0, 0.0, 0.0, 0.0  …  0.0, 0.0, 0.0, 0.0, 0.0, 0.0, 0.0, 0.0, 0.0, 0.0], [0.0, 0.0, 0.0, 0.0, 0.0, 0.0, 0.0, 0.0, 0.0, 0.0  …  0.0, 0.0, 0.0, 0.0, 0.0, 0.0, 0.0, 0.0, 0.0, 0.0], [0.0, 0.0, 0.0, 0.0, 0.0, 0.0, 0.0, 0.0, 0.0, 0.0  …  0.0, 0.0, 0.0, 0.0, 0.0, 0.0, 0.0, 0.0, 0.0, 0.0]]\n",
       " [[0.0, 0.0, 0.0, 0.0, 0.0, 0.0, 0.0, 0.0, 0.0, 0.0  …  0.0, 0.0, 0.0, 0.0, 0.0, 0.0, 0.0, 0.0, 0.0, 0.0], [0.0, 0.0, 0.0, 0.0, 0.0, 0.0, 0.0, 0.0, 0.0, 0.0  …  0.0, 0.0, 0.0, 0.0, 0.0, 0.0, 0.0, 0.0, 0.0, 0.0], [0.0, 0.0, 0.0, 0.0, 0.0, 0.0, 0.0, 0.0, 0.0, 0.0  …  0.0, 0.0, 0.0, 0.0, 0.0, 0.0, 0.0, 0.0, 0.0, 0.0], [0.0, 0.0, 0.0, 0.0, 0.0, 0.0, 0.0, 0.0, 0.0, 0.0  …  0.0, 0.0, 0.0, 0.0, 0.0, 0.0, 0.0, 0.0, 0.0, 0.0], [0.0, 0.0, 0.0, 0.0, 0.0, 0.0, 0.0, 0.0, 0.0, 0.0  …  0.0, 0.0, 0.0, 0.0, 0.0, 0.0, 0.0, 0.0, 0.0, 0.0], [0.0, 0.0, 0.0, 0.0, 0.0, 0.0, 0.0, 0.0, 0.0, 0.0  …  0.0, 0.0, 0.0, 0.0, 0.0, 0.0, 0.0, 0.0, 0.0, 0.0], [0.0, 0.0, 0.0, 0.0, 0.0, 0.0, 0.0, 0.0, 0.0, 0.0  …  0.0, 0.0, 0.0, 0.0, 0.0, 0.0, 0.0, 0.0, 0.0, 0.0], [0.0, 0.0, 0.0, 0.0, 0.0, 0.0, 0.0, 0.0, 0.0, 0.0  …  0.0, 0.0, 0.0, 0.0, 0.0, 0.0, 0.0, 0.0, 0.0, 0.0], [0.0, 0.0, 0.0, 0.0, 0.0, 0.0, 0.0, 0.0, 0.0, 0.0  …  0.0, 0.0, 0.0, 0.0, 0.0, 0.0, 0.0, 0.0, 0.0, 0.0], [0.0, 0.0, 0.0, 0.0, 0.0, 0.0, 0.0, 0.0, 0.0, 0.0  …  0.0, 0.0, 0.0, 0.0, 0.0, 0.0, 0.0, 0.0, 0.0, 0.0]  …  [0.0, 1.0, 1.0, 1.0, 1.0, 0.0, 0.0, 0.0, 0.0, 0.0  …  0.0, 0.0, 0.0, 0.0, 0.0, 0.0, 0.0, 0.0, 0.0, 0.0], [0.0, 0.0, 0.0, 0.0, 0.0, 0.0, 0.0, 1.0, 1.0, 1.0  …  0.0, 0.0, 0.0, 0.0, 0.0, 0.0, 0.0, 0.0, 0.0, 0.0], [0.0, 0.0, 0.0, 0.0, 0.0, 0.0, 0.0, 0.0, 0.0, 0.0  …  0.0, 0.0, 0.0, 0.0, 0.0, 0.0, 0.0, 0.0, 0.0, 0.0], [0.0, 0.0, 0.0, 0.0, 0.0, 0.0, 0.0, 0.0, 0.0, 0.0  …  0.0, 0.0, 0.0, 0.0, 0.0, 0.0, 0.0, 0.0, 0.0, 0.0], [0.0, 0.0, 0.0, 0.0, 0.0, 0.0, 0.0, 0.0, 0.0, 0.0  …  0.0, 0.0, 0.0, 0.0, 0.0, 0.0, 0.0, 0.0, 0.0, 0.0], [0.0, 0.0, 0.0, 0.0, 0.0, 0.0, 0.0, 0.0, 0.0, 0.0  …  0.0, 0.0, 0.0, 0.0, 0.0, 0.0, 0.0, 0.0, 0.0, 0.0], [0.0, 0.0, 0.0, 0.0, 0.0, 0.0, 0.0, 0.0, 0.0, 0.0  …  0.0, 0.0, 0.0, 0.0, 0.0, 0.0, 0.0, 0.0, 0.0, 0.0], [0.0, 0.0, 0.0, 0.0, 0.0, 0.0, 0.0, 0.0, 0.0, 0.0  …  0.0, 0.0, 0.0, 0.0, 0.0, 0.0, 0.0, 0.0, 0.0, 0.0], [0.0, 0.0, 0.0, 0.0, 0.0, 0.0, 0.0, 0.0, 0.0, 0.0  …  0.0, 0.0, 0.0, 0.0, 0.0, 0.0, 0.0, 0.0, 0.0, 0.0], [0.0, 0.0, 0.0, 0.0, 0.0, 0.0, 0.0, 0.0, 0.0, 0.0  …  0.0, 0.0, 0.0, 0.0, 0.0, 0.0, 0.0, 0.0, 0.0, 0.0]]\n",
       " [[0.0, 0.0, 0.0, 0.0, 0.0, 0.0, 0.0, 0.0, 0.0, 0.0  …  0.0, 0.0, 0.0, 0.0, 0.0, 0.0, 0.0, 0.0, 0.0, 0.0], [0.0, 0.0, 0.0, 0.0, 0.0, 0.0, 0.0, 0.0, 0.0, 0.0  …  0.0, 0.0, 0.0, 0.0, 0.0, 0.0, 0.0, 0.0, 0.0, 0.0], [0.0, 0.0, 0.0, 0.0, 0.0, 0.0, 0.0, 0.0, 0.0, 0.0  …  0.0, 0.0, 0.0, 0.0, 0.0, 0.0, 0.0, 0.0, 0.0, 0.0], [0.0, 0.0, 0.0, 0.0, 0.0, 0.0, 0.0, 0.0, 0.0, 0.0  …  0.0, 0.0, 0.0, 0.0, 0.0, 0.0, 0.0, 0.0, 0.0, 0.0], [0.0, 0.0, 0.0, 0.0, 0.0, 0.0, 0.0, 0.0, 0.0, 0.0  …  0.0, 0.0, 0.0, 0.0, 0.0, 0.0, 0.0, 0.0, 0.0, 0.0], [0.0, 0.0, 0.0, 0.0, 0.0, 0.0, 0.0, 0.0, 0.0, 0.0  …  0.0, 0.0, 0.0, 0.0, 0.0, 0.0, 0.0, 0.0, 0.0, 0.0], [0.0, 0.0, 0.0, 0.0, 0.0, 0.0, 0.0, 0.0, 0.0, 0.0  …  0.0, 0.0, 0.0, 0.0, 0.0, 0.0, 0.0, 0.0, 0.0, 0.0], [0.0, 0.0, 0.0, 0.0, 0.0, 0.0, 0.0, 0.0, 0.0, 0.0  …  0.0, 0.0, 0.0, 0.0, 0.0, 0.0, 0.0, 0.0, 0.0, 0.0], [0.0, 0.0, 0.0, 0.0, 0.0, 0.0, 0.0, 0.0, 0.0, 0.0  …  0.0, 0.0, 0.0, 0.0, 0.0, 0.0, 0.0, 0.0, 0.0, 0.0], [0.0, 0.0, 0.0, 0.0, 0.0, 0.0, 0.0, 0.0, 0.0, 0.0  …  0.0, 0.0, 0.0, 0.0, 0.0, 0.0, 0.0, 0.0, 0.0, 0.0]  …  [0.0, 1.0, 1.0, 1.0, 1.0, 0.0, 0.0, 0.0, 0.0, 0.0  …  0.0, 0.0, 0.0, 0.0, 0.0, 0.0, 0.0, 0.0, 0.0, 0.0], [0.0, 0.0, 0.0, 0.0, 0.0, 0.0, 0.0, 1.0, 1.0, 1.0  …  0.0, 0.0, 0.0, 0.0, 0.0, 0.0, 0.0, 0.0, 0.0, 0.0], [0.0, 0.0, 0.0, 0.0, 0.0, 0.0, 0.0, 0.0, 0.0, 0.0  …  0.0, 0.0, 0.0, 0.0, 0.0, 0.0, 0.0, 0.0, 0.0, 0.0], [0.0, 0.0, 0.0, 0.0, 0.0, 0.0, 0.0, 0.0, 0.0, 0.0  …  0.0, 0.0, 0.0, 0.0, 0.0, 0.0, 0.0, 0.0, 0.0, 0.0], [0.0, 0.0, 0.0, 0.0, 0.0, 0.0, 0.0, 0.0, 0.0, 0.0  …  0.0, 0.0, 0.0, 0.0, 0.0, 0.0, 0.0, 0.0, 0.0, 0.0], [0.0, 0.0, 0.0, 0.0, 0.0, 0.0, 0.0, 0.0, 0.0, 0.0  …  0.0, 0.0, 0.0, 0.0, 0.0, 0.0, 0.0, 0.0, 0.0, 0.0], [0.0, 0.0, 0.0, 0.0, 0.0, 0.0, 0.0, 0.0, 0.0, 0.0  …  0.0, 0.0, 0.0, 0.0, 0.0, 0.0, 0.0, 0.0, 0.0, 0.0], [0.0, 0.0, 0.0, 0.0, 0.0, 0.0, 0.0, 0.0, 0.0, 0.0  …  0.0, 0.0, 0.0, 0.0, 0.0, 0.0, 0.0, 0.0, 0.0, 0.0], [0.0, 0.0, 0.0, 0.0, 0.0, 0.0, 0.0, 0.0, 0.0, 0.0  …  0.0, 0.0, 0.0, 0.0, 0.0, 0.0, 0.0, 0.0, 0.0, 0.0], [0.0, 0.0, 0.0, 0.0, 0.0, 0.0, 0.0, 0.0, 0.0, 0.0  …  0.0, 0.0, 0.0, 0.0, 0.0, 0.0, 0.0, 0.0, 0.0, 0.0]]\n",
       " [[0.0, 0.0, 0.0, 0.0, 0.0, 0.0, 0.0, 0.0, 0.0, 0.0  …  0.0, 0.0, 0.0, 0.0, 0.0, 0.0, 0.0, 0.0, 0.0, 0.0], [0.0, 0.0, 0.0, 0.0, 0.0, 0.0, 0.0, 0.0, 0.0, 0.0  …  0.0, 0.0, 0.0, 0.0, 0.0, 0.0, 0.0, 0.0, 0.0, 0.0], [0.0, 0.0, 0.0, 0.0, 0.0, 0.0, 0.0, 0.0, 0.0, 0.0  …  0.0, 0.0, 0.0, 0.0, 0.0, 0.0, 0.0, 0.0, 0.0, 0.0], [0.0, 0.0, 0.0, 0.0, 0.0, 0.0, 0.0, 0.0, 0.0, 0.0  …  0.0, 0.0, 0.0, 0.0, 0.0, 0.0, 0.0, 0.0, 0.0, 0.0], [0.0, 0.0, 0.0, 0.0, 0.0, 0.0, 0.0, 0.0, 0.0, 0.0  …  0.0, 0.0, 0.0, 0.0, 0.0, 0.0, 0.0, 0.0, 0.0, 0.0], [0.0, 0.0, 0.0, 0.0, 0.0, 0.0, 0.0, 0.0, 0.0, 0.0  …  0.0, 0.0, 0.0, 0.0, 0.0, 0.0, 0.0, 0.0, 0.0, 0.0], [0.0, 0.0, 0.0, 0.0, 0.0, 0.0, 0.0, 0.0, 0.0, 0.0  …  0.0, 0.0, 0.0, 0.0, 0.0, 0.0, 0.0, 0.0, 0.0, 0.0], [0.0, 0.0, 0.0, 0.0, 0.0, 0.0, 0.0, 0.0, 0.0, 0.0  …  0.0, 0.0, 0.0, 0.0, 0.0, 0.0, 0.0, 0.0, 0.0, 0.0], [0.0, 0.0, 0.0, 0.0, 0.0, 0.0, 0.0, 0.0, 0.0, 0.0  …  0.0, 0.0, 0.0, 0.0, 0.0, 0.0, 0.0, 0.0, 0.0, 0.0], [0.0, 0.0, 0.0, 0.0, 0.0, 0.0, 0.0, 0.0, 0.0, 0.0  …  0.0, 0.0, 0.0, 0.0, 0.0, 0.0, 0.0, 0.0, 0.0, 0.0]  …  [0.0, 1.0, 1.0, 1.0, 1.0, 0.0, 0.0, 0.0, 0.0, 0.0  …  0.0, 0.0, 0.0, 0.0, 0.0, 0.0, 0.0, 0.0, 0.0, 0.0], [0.0, 0.0, 0.0, 0.0, 0.0, 0.0, 0.0, 1.0, 1.0, 1.0  …  0.0, 0.0, 0.0, 0.0, 0.0, 0.0, 0.0, 0.0, 0.0, 0.0], [0.0, 0.0, 0.0, 0.0, 0.0, 0.0, 0.0, 0.0, 0.0, 0.0  …  0.0, 0.0, 0.0, 0.0, 0.0, 0.0, 0.0, 0.0, 0.0, 0.0], [0.0, 0.0, 0.0, 0.0, 0.0, 0.0, 0.0, 0.0, 0.0, 0.0  …  0.0, 0.0, 0.0, 0.0, 0.0, 0.0, 0.0, 0.0, 0.0, 0.0], [0.0, 0.0, 0.0, 0.0, 0.0, 0.0, 0.0, 0.0, 0.0, 0.0  …  0.0, 0.0, 0.0, 0.0, 0.0, 0.0, 0.0, 0.0, 0.0, 0.0], [0.0, 0.0, 0.0, 0.0, 0.0, 0.0, 0.0, 0.0, 0.0, 0.0  …  0.0, 0.0, 0.0, 0.0, 0.0, 0.0, 0.0, 0.0, 0.0, 0.0], [0.0, 0.0, 0.0, 0.0, 0.0, 0.0, 0.0, 0.0, 0.0, 0.0  …  0.0, 0.0, 0.0, 0.0, 0.0, 0.0, 0.0, 0.0, 0.0, 0.0], [0.0, 0.0, 0.0, 0.0, 0.0, 0.0, 0.0, 0.0, 0.0, 0.0  …  0.0, 0.0, 0.0, 0.0, 0.0, 0.0, 0.0, 0.0, 0.0, 0.0], [0.0, 0.0, 0.0, 0.0, 0.0, 0.0, 0.0, 0.0, 0.0, 0.0  …  0.0, 0.0, 0.0, 0.0, 0.0, 0.0, 0.0, 0.0, 0.0, 0.0], [0.0, 0.0, 0.0, 0.0, 0.0, 0.0, 0.0, 0.0, 0.0, 0.0  …  0.0, 0.0, 0.0, 0.0, 0.0, 0.0, 0.0, 0.0, 0.0, 0.0]]\n",
       " [[0.0, 0.0, 0.0, 0.0, 0.0, 0.0, 0.0, 0.0, 0.0, 0.0  …  0.0, 0.0, 0.0, 0.0, 0.0, 0.0, 0.0, 0.0, 0.0, 0.0], [0.0, 0.0, 0.0, 0.0, 0.0, 0.0, 0.0, 0.0, 0.0, 0.0  …  0.0, 0.0, 0.0, 0.0, 0.0, 0.0, 0.0, 0.0, 0.0, 0.0], [0.0, 0.0, 0.0, 0.0, 0.0, 0.0, 0.0, 0.0, 0.0, 0.0  …  0.0, 0.0, 0.0, 0.0, 0.0, 0.0, 0.0, 0.0, 0.0, 0.0], [0.0, 0.0, 0.0, 0.0, 0.0, 0.0, 0.0, 0.0, 0.0, 0.0  …  0.0, 0.0, 0.0, 0.0, 0.0, 0.0, 0.0, 0.0, 0.0, 0.0], [0.0, 0.0, 0.0, 0.0, 0.0, 0.0, 0.0, 0.0, 0.0, 0.0  …  0.0, 0.0, 0.0, 0.0, 0.0, 0.0, 0.0, 0.0, 0.0, 0.0], [0.0, 0.0, 0.0, 0.0, 0.0, 0.0, 0.0, 0.0, 0.0, 0.0  …  0.0, 0.0, 0.0, 0.0, 0.0, 0.0, 0.0, 0.0, 0.0, 0.0], [0.0, 0.0, 0.0, 0.0, 0.0, 0.0, 0.0, 0.0, 0.0, 0.0  …  0.0, 0.0, 0.0, 0.0, 0.0, 0.0, 0.0, 0.0, 0.0, 0.0], [0.0, 0.0, 0.0, 0.0, 0.0, 0.0, 0.0, 0.0, 0.0, 0.0  …  0.0, 0.0, 0.0, 0.0, 0.0, 0.0, 0.0, 0.0, 0.0, 0.0], [0.0, 0.0, 0.0, 0.0, 0.0, 0.0, 0.0, 0.0, 0.0, 0.0  …  0.0, 0.0, 0.0, 0.0, 0.0, 0.0, 0.0, 0.0, 0.0, 0.0], [0.0, 0.0, 0.0, 0.0, 0.0, 0.0, 0.0, 0.0, 0.0, 0.0  …  0.0, 0.0, 0.0, 0.0, 0.0, 0.0, 0.0, 0.0, 0.0, 0.0]  …  [0.0, 1.0, 1.0, 1.0, 1.0, 0.0, 0.0, 0.0, 0.0, 0.0  …  0.0, 0.0, 0.0, 0.0, 0.0, 0.0, 0.0, 0.0, 0.0, 0.0], [0.0, 0.0, 0.0, 0.0, 0.0, 0.0, 0.0, 1.0, 1.0, 1.0  …  0.0, 0.0, 0.0, 0.0, 0.0, 0.0, 0.0, 0.0, 0.0, 0.0], [0.0, 0.0, 0.0, 0.0, 0.0, 0.0, 0.0, 0.0, 0.0, 0.0  …  0.0, 0.0, 0.0, 0.0, 0.0, 0.0, 0.0, 0.0, 0.0, 0.0], [0.0, 0.0, 0.0, 0.0, 0.0, 0.0, 0.0, 0.0, 0.0, 0.0  …  0.0, 0.0, 0.0, 0.0, 0.0, 0.0, 0.0, 0.0, 0.0, 0.0], [0.0, 0.0, 0.0, 0.0, 0.0, 0.0, 0.0, 0.0, 0.0, 0.0  …  0.0, 0.0, 0.0, 0.0, 0.0, 0.0, 0.0, 0.0, 0.0, 0.0], [0.0, 0.0, 0.0, 0.0, 0.0, 0.0, 0.0, 0.0, 0.0, 0.0  …  0.0, 0.0, 0.0, 0.0, 0.0, 0.0, 0.0, 0.0, 0.0, 0.0], [0.0, 0.0, 0.0, 0.0, 0.0, 0.0, 0.0, 0.0, 0.0, 0.0  …  0.0, 0.0, 0.0, 0.0, 0.0, 0.0, 0.0, 0.0, 0.0, 0.0], [0.0, 0.0, 0.0, 0.0, 0.0, 0.0, 0.0, 0.0, 0.0, 0.0  …  0.0, 0.0, 0.0, 0.0, 0.0, 0.0, 0.0, 0.0, 0.0, 0.0], [0.0, 0.0, 0.0, 0.0, 0.0, 0.0, 0.0, 0.0, 0.0, 0.0  …  0.0, 0.0, 0.0, 0.0, 0.0, 0.0, 0.0, 0.0, 0.0, 0.0], [0.0, 0.0, 0.0, 0.0, 0.0, 0.0, 0.0, 0.0, 0.0, 0.0  …  0.0, 0.0, 0.0, 0.0, 0.0, 0.0, 0.0, 0.0, 0.0, 0.0]]\n",
       " [[0.0, 0.0, 0.0, 0.0, 0.0, 0.0, 0.0, 0.0, 0.0, 0.0  …  0.0, 0.0, 0.0, 0.0, 0.0, 0.0, 0.0, 0.0, 0.0, 0.0], [0.0, 0.0, 0.0, 0.0, 0.0, 0.0, 0.0, 0.0, 0.0, 0.0  …  0.0, 0.0, 0.0, 0.0, 0.0, 0.0, 0.0, 0.0, 0.0, 0.0], [0.0, 0.0, 0.0, 0.0, 0.0, 0.0, 0.0, 0.0, 0.0, 0.0  …  0.0, 0.0, 0.0, 0.0, 0.0, 0.0, 0.0, 0.0, 0.0, 0.0], [0.0, 0.0, 0.0, 0.0, 0.0, 0.0, 0.0, 0.0, 0.0, 0.0  …  0.0, 0.0, 0.0, 0.0, 0.0, 0.0, 0.0, 0.0, 0.0, 0.0], [0.0, 0.0, 0.0, 0.0, 0.0, 0.0, 0.0, 0.0, 0.0, 0.0  …  0.0, 0.0, 0.0, 0.0, 0.0, 0.0, 0.0, 0.0, 0.0, 0.0], [0.0, 0.0, 0.0, 0.0, 0.0, 0.0, 0.0, 0.0, 0.0, 0.0  …  0.0, 0.0, 0.0, 0.0, 0.0, 0.0, 0.0, 0.0, 0.0, 0.0], [0.0, 0.0, 0.0, 0.0, 0.0, 0.0, 0.0, 0.0, 0.0, 0.0  …  0.0, 0.0, 0.0, 0.0, 0.0, 0.0, 0.0, 0.0, 0.0, 0.0], [0.0, 0.0, 0.0, 0.0, 0.0, 0.0, 0.0, 0.0, 0.0, 0.0  …  0.0, 0.0, 0.0, 0.0, 0.0, 0.0, 0.0, 0.0, 0.0, 0.0], [0.0, 0.0, 0.0, 0.0, 0.0, 0.0, 0.0, 0.0, 0.0, 0.0  …  0.0, 0.0, 0.0, 0.0, 0.0, 0.0, 0.0, 0.0, 0.0, 0.0], [0.0, 0.0, 0.0, 0.0, 0.0, 0.0, 0.0, 0.0, 0.0, 0.0  …  0.0, 0.0, 0.0, 0.0, 0.0, 0.0, 0.0, 0.0, 0.0, 0.0]  …  [0.0, 1.0, 1.0, 1.0, 1.0, 0.0, 0.0, 0.0, 0.0, 0.0  …  0.0, 0.0, 0.0, 0.0, 0.0, 0.0, 0.0, 0.0, 0.0, 0.0], [0.0, 0.0, 0.0, 0.0, 0.0, 0.0, 0.0, 1.0, 1.0, 1.0  …  0.0, 0.0, 0.0, 0.0, 0.0, 0.0, 0.0, 0.0, 0.0, 0.0], [0.0, 0.0, 0.0, 0.0, 0.0, 0.0, 0.0, 0.0, 0.0, 0.0  …  0.0, 0.0, 0.0, 0.0, 0.0, 0.0, 0.0, 0.0, 0.0, 0.0], [0.0, 0.0, 0.0, 0.0, 0.0, 0.0, 0.0, 0.0, 0.0, 0.0  …  0.0, 0.0, 0.0, 0.0, 0.0, 0.0, 0.0, 0.0, 0.0, 0.0], [0.0, 0.0, 0.0, 0.0, 0.0, 0.0, 0.0, 0.0, 0.0, 0.0  …  0.0, 0.0, 0.0, 0.0, 0.0, 0.0, 0.0, 0.0, 0.0, 0.0], [0.0, 0.0, 0.0, 0.0, 0.0, 0.0, 0.0, 0.0, 0.0, 0.0  …  0.0, 0.0, 0.0, 0.0, 0.0, 0.0, 0.0, 0.0, 0.0, 0.0], [0.0, 0.0, 0.0, 0.0, 0.0, 0.0, 0.0, 0.0, 0.0, 0.0  …  0.0, 0.0, 0.0, 0.0, 0.0, 0.0, 0.0, 0.0, 0.0, 0.0], [0.0, 0.0, 0.0, 0.0, 0.0, 0.0, 0.0, 0.0, 0.0, 0.0  …  0.0, 0.0, 0.0, 0.0, 0.0, 0.0, 0.0, 0.0, 0.0, 0.0], [0.0, 0.0, 0.0, 0.0, 0.0, 0.0, 0.0, 0.0, 0.0, 0.0  …  0.0, 0.0, 0.0, 0.0, 0.0, 0.0, 0.0, 0.0, 0.0, 0.0], [0.0, 0.0, 0.0, 0.0, 0.0, 0.0, 0.0, 0.0, 0.0, 0.0  …  0.0, 0.0, 0.0, 0.0, 0.0, 0.0, 0.0, 0.0, 0.0, 0.0]]\n",
       " [[0.0, 0.0, 0.0, 0.0, 0.0, 0.0, 0.0, 0.0, 0.0, 0.0  …  0.0, 0.0, 0.0, 0.0, 0.0, 0.0, 0.0, 0.0, 0.0, 0.0], [0.0, 0.0, 0.0, 0.0, 0.0, 0.0, 0.0, 0.0, 0.0, 0.0  …  0.0, 0.0, 0.0, 0.0, 0.0, 0.0, 0.0, 0.0, 0.0, 0.0], [0.0, 0.0, 0.0, 0.0, 0.0, 0.0, 0.0, 0.0, 0.0, 0.0  …  0.0, 0.0, 0.0, 0.0, 0.0, 0.0, 0.0, 0.0, 0.0, 0.0], [0.0, 0.0, 0.0, 0.0, 0.0, 0.0, 0.0, 0.0, 0.0, 0.0  …  0.0, 0.0, 0.0, 0.0, 0.0, 0.0, 0.0, 0.0, 0.0, 0.0], [0.0, 0.0, 0.0, 0.0, 0.0, 0.0, 0.0, 0.0, 0.0, 0.0  …  0.0, 0.0, 0.0, 0.0, 0.0, 0.0, 0.0, 0.0, 0.0, 0.0], [0.0, 0.0, 0.0, 0.0, 0.0, 0.0, 0.0, 0.0, 0.0, 0.0  …  0.0, 0.0, 0.0, 0.0, 0.0, 0.0, 0.0, 0.0, 0.0, 0.0], [0.0, 0.0, 0.0, 0.0, 0.0, 0.0, 0.0, 0.0, 0.0, 0.0  …  0.0, 0.0, 0.0, 0.0, 0.0, 0.0, 0.0, 0.0, 0.0, 0.0], [0.0, 0.0, 0.0, 0.0, 0.0, 0.0, 0.0, 0.0, 0.0, 0.0  …  0.0, 0.0, 0.0, 0.0, 0.0, 0.0, 0.0, 0.0, 0.0, 0.0], [0.0, 0.0, 0.0, 0.0, 0.0, 0.0, 0.0, 0.0, 0.0, 0.0  …  0.0, 0.0, 0.0, 0.0, 0.0, 0.0, 0.0, 0.0, 0.0, 0.0], [0.0, 0.0, 0.0, 0.0, 0.0, 0.0, 0.0, 0.0, 0.0, 0.0  …  0.0, 0.0, 0.0, 0.0, 0.0, 0.0, 0.0, 0.0, 0.0, 0.0]  …  [0.0, 1.0, 1.0, 1.0, 1.0, 0.0, 0.0, 0.0, 0.0, 0.0  …  0.0, 0.0, 0.0, 0.0, 0.0, 0.0, 0.0, 0.0, 0.0, 0.0], [0.0, 0.0, 0.0, 0.0, 0.0, 0.0, 0.0, 1.0, 1.0, 1.0  …  0.0, 0.0, 0.0, 0.0, 0.0, 0.0, 0.0, 0.0, 0.0, 0.0], [0.0, 0.0, 0.0, 0.0, 0.0, 0.0, 0.0, 0.0, 0.0, 0.0  …  0.0, 0.0, 0.0, 0.0, 0.0, 0.0, 0.0, 0.0, 0.0, 0.0], [0.0, 0.0, 0.0, 0.0, 0.0, 0.0, 0.0, 0.0, 0.0, 0.0  …  0.0, 0.0, 0.0, 0.0, 0.0, 0.0, 0.0, 0.0, 0.0, 0.0], [0.0, 0.0, 0.0, 0.0, 0.0, 0.0, 0.0, 0.0, 0.0, 0.0  …  0.0, 0.0, 0.0, 0.0, 0.0, 0.0, 0.0, 0.0, 0.0, 0.0], [0.0, 0.0, 0.0, 0.0, 0.0, 0.0, 0.0, 0.0, 0.0, 0.0  …  0.0, 0.0, 0.0, 0.0, 0.0, 0.0, 0.0, 0.0, 0.0, 0.0], [0.0, 0.0, 0.0, 0.0, 0.0, 0.0, 0.0, 0.0, 0.0, 0.0  …  0.0, 0.0, 0.0, 0.0, 0.0, 0.0, 0.0, 0.0, 0.0, 0.0], [0.0, 0.0, 0.0, 0.0, 0.0, 0.0, 0.0, 0.0, 0.0, 0.0  …  0.0, 0.0, 0.0, 0.0, 0.0, 0.0, 0.0, 0.0, 0.0, 0.0], [0.0, 0.0, 0.0, 0.0, 0.0, 0.0, 0.0, 0.0, 0.0, 0.0  …  0.0, 0.0, 0.0, 0.0, 0.0, 0.0, 0.0, 0.0, 0.0, 0.0], [0.0, 0.0, 0.0, 0.0, 0.0, 0.0, 0.0, 0.0, 0.0, 0.0  …  0.0, 0.0, 0.0, 0.0, 0.0, 0.0, 0.0, 0.0, 0.0, 0.0]]\n",
       " [[0.0, 0.0, 0.0, 0.0, 0.0, 0.0, 0.0, 0.0, 0.0, 0.0  …  0.0, 0.0, 0.0, 0.0, 0.0, 0.0, 0.0, 0.0, 0.0, 0.0], [0.0, 0.0, 0.0, 0.0, 0.0, 0.0, 0.0, 0.0, 0.0, 0.0  …  0.0, 0.0, 0.0, 0.0, 0.0, 0.0, 0.0, 0.0, 0.0, 0.0], [0.0, 0.0, 0.0, 0.0, 0.0, 0.0, 0.0, 0.0, 0.0, 0.0  …  0.0, 0.0, 0.0, 0.0, 0.0, 0.0, 0.0, 0.0, 0.0, 0.0], [0.0, 0.0, 0.0, 0.0, 0.0, 0.0, 0.0, 0.0, 0.0, 0.0  …  0.0, 0.0, 0.0, 0.0, 0.0, 0.0, 0.0, 0.0, 0.0, 0.0], [0.0, 0.0, 0.0, 0.0, 0.0, 0.0, 0.0, 0.0, 0.0, 0.0  …  0.0, 0.0, 0.0, 0.0, 0.0, 0.0, 0.0, 0.0, 0.0, 0.0], [0.0, 0.0, 0.0, 0.0, 0.0, 0.0, 0.0, 0.0, 0.0, 0.0  …  0.0, 0.0, 0.0, 0.0, 0.0, 0.0, 0.0, 0.0, 0.0, 0.0], [0.0, 0.0, 0.0, 0.0, 0.0, 0.0, 0.0, 0.0, 0.0, 0.0  …  0.0, 0.0, 0.0, 0.0, 0.0, 0.0, 0.0, 0.0, 0.0, 0.0], [0.0, 0.0, 0.0, 0.0, 0.0, 0.0, 0.0, 0.0, 0.0, 0.0  …  0.0, 0.0, 0.0, 0.0, 0.0, 0.0, 0.0, 0.0, 0.0, 0.0], [0.0, 0.0, 0.0, 0.0, 0.0, 0.0, 0.0, 0.0, 0.0, 0.0  …  0.0, 0.0, 0.0, 0.0, 0.0, 0.0, 0.0, 0.0, 0.0, 0.0], [0.0, 0.0, 0.0, 0.0, 0.0, 0.0, 0.0, 0.0, 0.0, 0.0  …  0.0, 0.0, 0.0, 0.0, 0.0, 0.0, 0.0, 0.0, 0.0, 0.0]  …  [0.0, 1.0, 1.0, 1.0, 1.0, 0.0, 0.0, 0.0, 0.0, 0.0  …  0.0, 0.0, 0.0, 0.0, 0.0, 0.0, 0.0, 0.0, 0.0, 0.0], [0.0, 0.0, 0.0, 0.0, 0.0, 0.0, 0.0, 1.0, 1.0, 1.0  …  0.0, 0.0, 0.0, 0.0, 0.0, 0.0, 0.0, 0.0, 0.0, 0.0], [0.0, 0.0, 0.0, 0.0, 0.0, 0.0, 0.0, 0.0, 0.0, 0.0  …  0.0, 0.0, 0.0, 0.0, 0.0, 0.0, 0.0, 0.0, 0.0, 0.0], [0.0, 0.0, 0.0, 0.0, 0.0, 0.0, 0.0, 0.0, 0.0, 0.0  …  0.0, 0.0, 0.0, 0.0, 0.0, 0.0, 0.0, 0.0, 0.0, 0.0], [0.0, 0.0, 0.0, 0.0, 0.0, 0.0, 0.0, 0.0, 0.0, 0.0  …  0.0, 0.0, 0.0, 0.0, 0.0, 0.0, 0.0, 0.0, 0.0, 0.0], [0.0, 0.0, 0.0, 0.0, 0.0, 0.0, 0.0, 0.0, 0.0, 0.0  …  0.0, 0.0, 0.0, 0.0, 0.0, 0.0, 0.0, 0.0, 0.0, 0.0], [0.0, 0.0, 0.0, 0.0, 0.0, 0.0, 0.0, 0.0, 0.0, 0.0  …  0.0, 0.0, 0.0, 0.0, 0.0, 0.0, 0.0, 0.0, 0.0, 0.0], [0.0, 0.0, 0.0, 0.0, 0.0, 0.0, 0.0, 0.0, 0.0, 0.0  …  0.0, 0.0, 0.0, 0.0, 0.0, 0.0, 0.0, 0.0, 0.0, 0.0], [0.0, 0.0, 0.0, 0.0, 0.0, 0.0, 0.0, 0.0, 0.0, 0.0  …  0.0, 0.0, 0.0, 0.0, 0.0, 0.0, 0.0, 0.0, 0.0, 0.0], [0.0, 0.0, 0.0, 0.0, 0.0, 0.0, 0.0, 0.0, 0.0, 0.0  …  0.0, 0.0, 0.0, 0.0, 0.0, 0.0, 0.0, 0.0, 0.0, 0.0]]\n",
       " [[0.0, 0.0, 0.0, 0.0, 0.0, 0.0, 0.0, 0.0, 0.0, 0.0  …  0.0, 0.0, 0.0, 0.0, 0.0, 0.0, 0.0, 0.0, 0.0, 0.0], [0.0, 0.0, 0.0, 0.0, 0.0, 0.0, 0.0, 0.0, 0.0, 0.0  …  0.0, 0.0, 0.0, 0.0, 0.0, 0.0, 0.0, 0.0, 0.0, 0.0], [0.0, 0.0, 0.0, 0.0, 0.0, 0.0, 0.0, 0.0, 0.0, 0.0  …  0.0, 0.0, 0.0, 0.0, 0.0, 0.0, 0.0, 0.0, 0.0, 0.0], [0.0, 0.0, 0.0, 0.0, 0.0, 0.0, 0.0, 0.0, 0.0, 0.0  …  0.0, 0.0, 0.0, 0.0, 0.0, 0.0, 0.0, 0.0, 0.0, 0.0], [0.0, 0.0, 0.0, 0.0, 0.0, 0.0, 0.0, 0.0, 0.0, 0.0  …  0.0, 0.0, 0.0, 0.0, 0.0, 0.0, 0.0, 0.0, 0.0, 0.0], [0.0, 0.0, 0.0, 0.0, 0.0, 0.0, 0.0, 0.0, 0.0, 0.0  …  0.0, 0.0, 0.0, 0.0, 0.0, 0.0, 0.0, 0.0, 0.0, 0.0], [0.0, 0.0, 0.0, 0.0, 0.0, 0.0, 0.0, 0.0, 0.0, 0.0  …  0.0, 0.0, 0.0, 0.0, 0.0, 0.0, 0.0, 0.0, 0.0, 0.0], [0.0, 0.0, 0.0, 0.0, 0.0, 0.0, 0.0, 0.0, 0.0, 0.0  …  0.0, 0.0, 0.0, 0.0, 0.0, 0.0, 0.0, 0.0, 0.0, 0.0], [0.0, 0.0, 0.0, 0.0, 0.0, 0.0, 0.0, 0.0, 0.0, 0.0  …  0.0, 0.0, 0.0, 0.0, 0.0, 0.0, 0.0, 0.0, 0.0, 0.0], [0.0, 0.0, 0.0, 0.0, 0.0, 0.0, 0.0, 0.0, 0.0, 0.0  …  0.0, 0.0, 0.0, 0.0, 0.0, 0.0, 0.0, 0.0, 0.0, 0.0]  …  [0.0, 1.0, 1.0, 1.0, 1.0, 0.0, 0.0, 0.0, 0.0, 0.0  …  0.0, 0.0, 0.0, 0.0, 0.0, 0.0, 0.0, 0.0, 0.0, 0.0], [0.0, 0.0, 0.0, 0.0, 0.0, 0.0, 0.0, 1.0, 1.0, 1.0  …  0.0, 0.0, 0.0, 0.0, 0.0, 0.0, 0.0, 0.0, 0.0, 0.0], [0.0, 0.0, 0.0, 0.0, 0.0, 0.0, 0.0, 0.0, 0.0, 0.0  …  0.0, 0.0, 0.0, 0.0, 0.0, 0.0, 0.0, 0.0, 0.0, 0.0], [0.0, 0.0, 0.0, 0.0, 0.0, 0.0, 0.0, 0.0, 0.0, 0.0  …  0.0, 0.0, 0.0, 0.0, 0.0, 0.0, 0.0, 0.0, 0.0, 0.0], [0.0, 0.0, 0.0, 0.0, 0.0, 0.0, 0.0, 0.0, 0.0, 0.0  …  0.0, 0.0, 0.0, 0.0, 0.0, 0.0, 0.0, 0.0, 0.0, 0.0], [0.0, 0.0, 0.0, 0.0, 0.0, 0.0, 0.0, 0.0, 0.0, 0.0  …  0.0, 0.0, 0.0, 0.0, 0.0, 0.0, 0.0, 0.0, 0.0, 0.0], [0.0, 0.0, 0.0, 0.0, 0.0, 0.0, 0.0, 0.0, 0.0, 0.0  …  0.0, 0.0, 0.0, 0.0, 0.0, 0.0, 0.0, 0.0, 0.0, 0.0], [0.0, 0.0, 0.0, 0.0, 0.0, 0.0, 0.0, 0.0, 0.0, 0.0  …  0.0, 0.0, 0.0, 0.0, 0.0, 0.0, 0.0, 0.0, 0.0, 0.0], [0.0, 0.0, 0.0, 0.0, 0.0, 0.0, 0.0, 0.0, 0.0, 0.0  …  0.0, 0.0, 0.0, 0.0, 0.0, 0.0, 0.0, 0.0, 0.0, 0.0], [0.0, 0.0, 0.0, 0.0, 0.0, 0.0, 0.0, 0.0, 0.0, 0.0  …  0.0, 0.0, 0.0, 0.0, 0.0, 0.0, 0.0, 0.0, 0.0, 0.0]]"
      ]
     },
     "execution_count": 87,
     "metadata": {},
     "output_type": "execute_result"
    }
   ],
   "source": [
    "routes_job_time"
   ]
  },
  {
   "cell_type": "markdown",
   "id": "71126957",
   "metadata": {},
   "source": [
    "# [5] Model with Set-Partitioning for Jobs"
   ]
  },
  {
   "cell_type": "markdown",
   "id": "3e5f914c",
   "metadata": {},
   "source": [
    "Constructing the set-partitioning formulation in line with pages 5-6."
   ]
  },
  {
   "cell_type": "code",
   "execution_count": 88,
   "id": "e03b476a",
   "metadata": {
    "scrolled": false
   },
   "outputs": [
    {
     "name": "stdout",
     "output_type": "stream",
     "text": [
      "Set parameter Username\n",
      "Academic license - for non-commercial use only - expires 2023-09-04\n"
     ]
    }
   ],
   "source": [
    "model_set = Model(Gurobi.Optimizer);\n",
    "#model = Model(with_optimizer(Gurobi.Optimizer, TimeLimit=100));"
   ]
  },
  {
   "cell_type": "markdown",
   "id": "38be8dc3",
   "metadata": {},
   "source": [
    "## [5a] Decision Variables"
   ]
  },
  {
   "cell_type": "markdown",
   "id": "ddc33280",
   "metadata": {},
   "source": [
    "We have our primary decision variables of $x_{rk}$ and $z_{kq}$.\n",
    "\n",
    "$z_{kq}$ represents whether TASK driver $k$ uses route $q$. The range for this is: for variable $k$, from `1` to `n_vehicles_jobs`, and for $q$, this goes up to `n_routes`.\n",
    "\n",
    "$x_{kr}$ represents whether COVERAGE driver $k$ uses route $r$. The range goes from `1` to `n_vehicles_jobs` for variable $k$, and for $r$, we are looking at routes which is still all the way back at `A_cov`.\n",
    "\n",
    "Then we have our $y^S$ and $y^E$, I'll copy their descriptions from the previous direct formulation:\n",
    "\n",
    "Job start and end times: $y^S_{it}$/$y_{it}^E$ with $1$ if a job's start/end has taken place by that time (so this is an array like \\[ 0, 0, ...., 1, 1, ..., 1\\] and the differential will tell us when the job is taking place, it will look like \\[ 0, 0, ..., 1, 1, ..., 0, 0\\]\n",
    "\n",
    "And then there's gamma."
   ]
  },
  {
   "cell_type": "code",
   "execution_count": 89,
   "id": "b0b4b763",
   "metadata": {},
   "outputs": [],
   "source": [
    "#Coverage vehicles\n",
    "@variable(model_set, x[1:n_vehicles_coverage, 1:A_cov], Bin)\n",
    "#Job Vehicles\n",
    "@variable(model_set, z[1:n_vehicles_jobs, 1:n_routes], Bin)\n",
    "#Starting and ending times of each Job\n",
    "@variable(model_set, y_s[1:n_jobs, 1:T], Bin)\n",
    "@variable(model_set, y_e[1:n_jobs, 1:T], Bin)\n",
    "#Coverage constraint\n",
    "@variable(model_set, gamma[1:N], Bin);"
   ]
  },
  {
   "cell_type": "markdown",
   "id": "241c6611",
   "metadata": {},
   "source": [
    "## [5b] Objective"
   ]
  },
  {
   "cell_type": "markdown",
   "id": "4e0ef9de",
   "metadata": {},
   "source": [
    "This is equation 21 in the ICT sheet (page 5).\n",
    "\n",
    "We want to minimize total costs. This will be a sum of two terms:\n",
    "\n",
    "For JOB vehicles: For all $k \\in \\mathcal{K}$ and for all routes $q \\in \\mathcal{Q}$, take the cost of that proposed route times whether that route is traveled: it's $\\sum_{k \\in \\mathcal{K}} \\sum_{q \\in \\mathcal{Q}} C^q z_q^k$.\n",
    "\n",
    "To actualize this: Not much to do it's right there; use `C_routes` for cost of routes for JOB vehicles.\n",
    "\n",
    "For COVERAGE vehicles: Similar situation.\n",
    "\n",
    "To actualize this: Right now, we are dealing with arcs instead of 'true routes'. So to find the distance, we look at `arcs_cov[3]`."
   ]
  },
  {
   "cell_type": "code",
   "execution_count": 90,
   "id": "1def953f",
   "metadata": {},
   "outputs": [],
   "source": [
    "@objective(model_set, \n",
    "    Min, \n",
    "    sum(sum(x[k,a]*(arcs_cov[a][3]+1) for a in 1:A_cov) for k in 1:n_vehicles_coverage) \n",
    "    + sum(sum(z[k,q]*C_routes[q] for q in 1:n_routes) for k in 1:n_vehicles_jobs))\n",
    ";"
   ]
  },
  {
   "cell_type": "markdown",
   "id": "77039fbe",
   "metadata": {},
   "source": [
    "## [5c] Constraints"
   ]
  },
  {
   "cell_type": "markdown",
   "id": "3e388daf",
   "metadata": {},
   "source": [
    "### Each job is only done once\n",
    "\n",
    "Look at JOB vehicles. Summing up over all routes and drivers, only one driver should use the route, and that route passes by that job, so it's a sum over $u_i^q z_q^k$."
   ]
  },
  {
   "cell_type": "code",
   "execution_count": 91,
   "id": "7debf3d9",
   "metadata": {},
   "outputs": [],
   "source": [
    "@constraint(model_set, \n",
    "    unique[i in 1:n_jobs],\n",
    "    sum(sum(z[k,q]*u[q][i] for q in 1:n_routes) for k in 1:n_vehicles_jobs) == 1);\n"
   ]
  },
  {
   "cell_type": "markdown",
   "id": "2797d14a",
   "metadata": {},
   "source": [
    "### Each driver is assigned to exactly one route\n",
    "\n",
    "For each JOB vehicle: 1 route out of all within $\\mathcal{Q}$ is used."
   ]
  },
  {
   "cell_type": "code",
   "execution_count": 92,
   "id": "9937bfb3",
   "metadata": {},
   "outputs": [],
   "source": [
    "@constraint(model_set, \n",
    "    driver[k in 1:n_vehicles_jobs], \n",
    "    sum(z[k,q] for q in 1:n_routes) == 1);"
   ]
  },
  {
   "cell_type": "markdown",
   "id": "583843b2",
   "metadata": {},
   "source": [
    "### Coverage Vehicles constraints\n",
    "\n",
    "The constraints which we used for the direct formulation on coverage vehicles specifically hold here."
   ]
  },
  {
   "cell_type": "code",
   "execution_count": 93,
   "id": "b598207e",
   "metadata": {},
   "outputs": [],
   "source": [
    "@constraint(model_set, depot_init_coverage[k in 1:n_vehicles_coverage], sum(x[k,a] for a in 1:A_cov if arcs_cov[a][1][1] == 0) == 1)\n",
    "@constraint(model_set, depot_end_coverage[k in 1:n_vehicles_coverage], sum(x[k,a] for a in 1:A_cov if arcs_cov[a][2][1] == n_cov) == 1)\n",
    "@constraint(model_set, flow_coverage[k in 1:n_vehicles_coverage, n in 1:N_cov], sum(x[k,a] for a in 1:A_cov if arcs_cov[a][2] == nodes_cov[n]) == sum(x[k,a] for a in 1:A_cov if arcs_cov[a][1] == nodes_cov[n]))\n",
    ";"
   ]
  },
  {
   "cell_type": "markdown",
   "id": "b4324b9d",
   "metadata": {},
   "source": [
    "### Time constraints\n",
    "\n",
    "Similar to direct formulation, not much to say."
   ]
  },
  {
   "cell_type": "code",
   "execution_count": 94,
   "id": "eaf7ace0",
   "metadata": {},
   "outputs": [],
   "source": [
    "#takes a VERY long time!\n",
    "\n",
    "@constraint(model_set, start[i in 1:n_jobs, t in 1:(T-1)], y_s[i,t] <= y_s[i,t+1])\n",
    "@constraint(model_set, ends[i in 1:n_jobs, t in 1:(T-1)], y_e[i,t] <= y_e[i,t+1])\n",
    "@constraint(model_set, work[i in 1:n_jobs, t in 2:(T-2)], y_s[i,t] - y_e[i,t] <= sum(sum(z[k,q]*routes_job_time[q][i][t] for q in 1:n_routes) for k in 1:n_vehicles_jobs))\n",
    "@constraint(model_set, window_start[i in 1:n_jobs, t in 1:(time_windows[i][1]-1)], y_s[i,t] <= 0)\n",
    "@constraint(model_set, window_ends[i in 1:n_jobs, t in time_windows[i][2]:T], y_e[i,t] >= 1)\n",
    "@constraint(model_set, duration[i in 1:n_jobs], sum(y_s[i,t] - y_e[i,t] for t in 1:T) >= work_load[i])\n",
    ";"
   ]
  },
  {
   "cell_type": "markdown",
   "id": "aaf457d1",
   "metadata": {},
   "source": [
    "### Coverage constraint\n",
    "\n",
    "The coverage constraint ensures that if a route is not covered at a particular time (RHS), then it's meaningless for routes to pass through that job location (LHS). In other words, the $\\leq$ sign guarantees that if RHS is zero, then LHS must also be zero."
   ]
  },
  {
   "cell_type": "markdown",
   "id": "371a9269",
   "metadata": {},
   "source": [
    "First there's a node-finding equation which will be needed to extract the appropriate nodes in an arc."
   ]
  },
  {
   "cell_type": "code",
   "execution_count": 95,
   "id": "cd891212",
   "metadata": {
    "scrolled": true
   },
   "outputs": [
    {
     "data": {
      "text/plain": [
       "find_node (generic function with 1 method)"
      ]
     },
     "execution_count": 95,
     "metadata": {},
     "output_type": "execute_result"
    }
   ],
   "source": [
    "function find_node(i,t)\n",
    "    for node in 1:length(nodes)\n",
    "        if (nodes[node][1] == i) & (nodes[node][2] == t) \n",
    "            return node\n",
    "        end\n",
    "    end\n",
    "    return \"Warning, this node does not exist\"\n",
    "end"
   ]
  },
  {
   "cell_type": "code",
   "execution_count": 96,
   "id": "5b69b46a",
   "metadata": {},
   "outputs": [],
   "source": [
    "# takes a long time!\n",
    "\n",
    "@constraint(model_set, \n",
    "    coverage[i in 1:n_jobs, t in 2:(T-1)],\n",
    "    sum(sum(z[k,q]*routes_job_time[q][i][t] for q in 1:n_routes) for k in 1:n_vehicles_jobs) \n",
    "    <= sum(sum(x[k,a] for a in covers[find_node(i,t)]) for k in 1:n_vehicles_coverage))\n",
    "print()"
   ]
  },
  {
   "cell_type": "markdown",
   "id": "1597c8b9",
   "metadata": {},
   "source": [
    "Optimize the model. Should give us a better objective than the direct formulation."
   ]
  },
  {
   "cell_type": "code",
   "execution_count": 199,
   "id": "246c690b",
   "metadata": {
    "scrolled": true
   },
   "outputs": [
    {
     "name": "stdout",
     "output_type": "stream",
     "text": [
      "Gurobi Optimizer version 9.5.2 build v9.5.2rc0 (mac64[x86])\n",
      "Thread count: 4 physical cores, 8 logical processors, using up to 8 threads\n",
      "Optimize a model with 10595 rows, 214050 columns and 6429920 nonzeros\n",
      "Model fingerprint: 0x720602c2\n",
      "Variable types: 0 continuous, 214050 integer (214050 binary)\n",
      "Coefficient statistics:\n",
      "  Matrix range     [1e+00, 1e+00]\n",
      "  Objective range  [1e+00, 2e+03]\n",
      "  Bounds range     [0e+00, 0e+00]\n",
      "  RHS range        [1e+00, 5e+00]\n",
      "Presolved: 5111 rows, 191526 columns, 981722 nonzeros\n",
      "\n",
      "Continuing optimization...\n",
      "\n",
      "\n",
      "Explored 1 nodes (6294 simplex iterations) in 0.77 seconds (0.75 work units)\n",
      "Thread count was 8 (of 8 available processors)\n",
      "\n",
      "Solution count 1: 4993.13 \n",
      "\n",
      "Optimal solution found (tolerance 1.00e-04)\n",
      "Best objective 4.993131455454e+03, best bound 4.993131455454e+03, gap 0.0000%\n",
      "\n",
      "User-callback calls 287, time in user-callback 0.00 sec\n"
     ]
    }
   ],
   "source": [
    "optimize!(model_set)"
   ]
  },
  {
   "cell_type": "markdown",
   "id": "e9fe1fed",
   "metadata": {},
   "source": [
    "The answer we got here was\n",
    "\n",
    "4993.13\n",
    "\n",
    "which beats our direct formulation answer of\n",
    "\n",
    "5151.13"
   ]
  },
  {
   "cell_type": "markdown",
   "id": "82070683",
   "metadata": {},
   "source": [
    "## [5d] Extract useful information"
   ]
  },
  {
   "cell_type": "markdown",
   "id": "8584d939",
   "metadata": {},
   "source": [
    "If there's a route which we've used, then it will be useful. Let's get all of them."
   ]
  },
  {
   "cell_type": "code",
   "execution_count": 98,
   "id": "c93bb608",
   "metadata": {},
   "outputs": [],
   "source": [
    "useful_routes = []\n",
    "for r in 1:n_routes\n",
    "    for k in 1:n_vehicles_jobs\n",
    "        if value.(z[k,r]) > 1e-5\n",
    "            push!(useful_routes, r)\n",
    "        end\n",
    "    end\n",
    "end"
   ]
  },
  {
   "cell_type": "markdown",
   "id": "4a0aedf1",
   "metadata": {},
   "source": [
    "Which are they?"
   ]
  },
  {
   "cell_type": "code",
   "execution_count": 99,
   "id": "869f2d67",
   "metadata": {
    "scrolled": true
   },
   "outputs": [
    {
     "name": "stdout",
     "output_type": "stream",
     "text": [
      "A useful route is [0, 26]\n",
      "A useful route is [0, 26]\n",
      "A useful route is [0, 26]\n",
      "A useful route is [0, 26]\n",
      "A useful route is [0, 26]\n",
      "A useful route is [0, 26]\n",
      "A useful route is [0, 26]\n",
      "A useful route is [0, 26]\n",
      "A useful route is [0, 24, 25, 26]\n",
      "A useful route is [0, 1, 2, 3, 26]\n",
      "A useful route is [0, 8, 9, 10, 26]\n",
      "A useful route is [0, 11, 12, 15, 26]\n",
      "A useful route is [0, 4, 5, 6, 7, 26]\n",
      "A useful route is [0, 20, 21, 22, 23, 26]\n",
      "A useful route is [0, 16, 17, 18, 19, 13, 14, 26]\n"
     ]
    }
   ],
   "source": [
    "for r in useful_routes\n",
    "    println(\"A useful route is $(routes_keep[r])\")\n",
    "end"
   ]
  },
  {
   "cell_type": "markdown",
   "id": "1444ec38",
   "metadata": {},
   "source": [
    "# [6] Pre-compute for column generation"
   ]
  },
  {
   "cell_type": "markdown",
   "id": "1815ee00",
   "metadata": {},
   "source": [
    "## [6.1] Get Parameters"
   ]
  },
  {
   "cell_type": "markdown",
   "id": "f0e61a34",
   "metadata": {},
   "source": [
    "### Compute $\\delta_{it}^q$"
   ]
  },
  {
   "cell_type": "code",
   "execution_count": 237,
   "id": "e7bdf58a",
   "metadata": {},
   "outputs": [
    {
     "data": {
      "text/plain": [
       "compute_delta (generic function with 1 method)"
      ]
     },
     "execution_count": 237,
     "metadata": {},
     "output_type": "execute_result"
    }
   ],
   "source": [
    "function compute_delta(routes)\n",
    "    Q = length(routes)\n",
    "    delta = [[[0.0 for q in 1:Q] for t in 1:T] for i in 1:n_jobs]\n",
    "    for rindex in 1:Q\n",
    "        route = routes[rindex]\n",
    "        for arc in route\n",
    "            loc1, time1 = arc[1]\n",
    "            loc2, time2 = arc[2]\n",
    "            if (loc1 != 0) & (loc1 != n_jobs + 1)\n",
    "                delta[loc1][time1][rindex] = 1\n",
    "            end\n",
    "            \n",
    "            if (loc2 != 0) & (loc2 != n_jobs + 1)\n",
    "                delta[loc2][time2][rindex] = 1\n",
    "            end\n",
    "        end\n",
    "    end\n",
    "    return delta\n",
    "end\n",
    "        "
   ]
  },
  {
   "cell_type": "code",
   "execution_count": 238,
   "id": "1c969e10",
   "metadata": {
    "scrolled": true
   },
   "outputs": [
    {
     "name": "stdout",
     "output_type": "stream",
     "text": [
      "Any[Any[[0, 1], [8, 2], 147.70290920807565], Any[[8, 2], [8, 3], 0], Any[[8, 3], [8, 4], 0], Any[[8, 4], [8, 5], 0], Any[[8, 5], [8, 6], 0], Any[[8, 6], [8, 7], 0], Any[[8, 7], [8, 8], 0], Any[[8, 8], [26, 9], 147.70290920807565]]"
     ]
    }
   ],
   "source": [
    "print(dummy_route[8])"
   ]
  },
  {
   "cell_type": "code",
   "execution_count": 449,
   "id": "b056eb23",
   "metadata": {
    "scrolled": true
   },
   "outputs": [
    {
     "name": "stdout",
     "output_type": "stream",
     "text": [
      "1.0\n"
     ]
    }
   ],
   "source": [
    "delta = compute_delta(dummy_route)\n",
    "println(delta[8][6][8])"
   ]
  },
  {
   "cell_type": "markdown",
   "id": "b7c9ac83",
   "metadata": {},
   "source": [
    "### Compute $u_i^q$"
   ]
  },
  {
   "cell_type": "code",
   "execution_count": 240,
   "id": "2010e03e",
   "metadata": {
    "scrolled": true
   },
   "outputs": [
    {
     "data": {
      "text/plain": [
       "compute_u (generic function with 1 method)"
      ]
     },
     "execution_count": 240,
     "metadata": {},
     "output_type": "execute_result"
    }
   ],
   "source": [
    "function compute_u(routes)\n",
    "    Q = length(routes)\n",
    "    u = [[0 for q in 1:Q] for i in 1:n_jobs]\n",
    "    \n",
    "    for rindex in 1:Q\n",
    "        route = routes[rindex]\n",
    "        for arc in route\n",
    "            loc1 = arc[1][1]\n",
    "            loc2 = arc[2][1]\n",
    "            if (1 <= loc1 <= n_jobs)\n",
    "                u[loc1][rindex] = 1\n",
    "            end\n",
    "            if (1 <= loc2 <= n_jobs)\n",
    "                u[loc2][rindex] = 1\n",
    "            end\n",
    "        end\n",
    "    end\n",
    "    return u\n",
    "end\n",
    "                "
   ]
  },
  {
   "cell_type": "code",
   "execution_count": 448,
   "id": "b449e407",
   "metadata": {
    "scrolled": true
   },
   "outputs": [
    {
     "data": {
      "text/plain": [
       "25-element Vector{Vector{Int64}}:\n",
       " [1, 0, 0, 0, 0, 0, 0, 0, 0, 0  …  0, 0, 0, 0, 0, 0, 0, 0, 0, 0]\n",
       " [0, 1, 0, 0, 0, 0, 0, 0, 0, 0  …  0, 0, 0, 0, 0, 0, 0, 0, 0, 0]\n",
       " [0, 0, 1, 0, 0, 0, 0, 0, 0, 0  …  0, 0, 0, 0, 0, 0, 0, 0, 0, 0]\n",
       " [0, 0, 0, 1, 0, 0, 0, 0, 0, 0  …  0, 0, 0, 0, 0, 0, 0, 0, 0, 0]\n",
       " [0, 0, 0, 0, 1, 0, 0, 0, 0, 0  …  0, 0, 0, 0, 0, 0, 0, 0, 0, 0]\n",
       " [0, 0, 0, 0, 0, 1, 0, 0, 0, 0  …  0, 0, 0, 0, 0, 0, 0, 0, 0, 0]\n",
       " [0, 0, 0, 0, 0, 0, 1, 0, 0, 0  …  0, 0, 0, 0, 0, 0, 0, 0, 0, 0]\n",
       " [0, 0, 0, 0, 0, 0, 0, 1, 0, 0  …  0, 0, 0, 0, 0, 0, 0, 0, 0, 0]\n",
       " [0, 0, 0, 0, 0, 0, 0, 0, 1, 0  …  0, 0, 0, 0, 0, 0, 0, 0, 0, 0]\n",
       " [0, 0, 0, 0, 0, 0, 0, 0, 0, 1  …  0, 0, 0, 0, 0, 0, 0, 0, 0, 0]\n",
       " [0, 0, 0, 0, 0, 0, 0, 0, 0, 0  …  0, 0, 0, 0, 0, 0, 0, 0, 0, 0]\n",
       " [0, 0, 0, 0, 0, 0, 0, 0, 0, 0  …  0, 0, 0, 0, 0, 0, 0, 0, 0, 0]\n",
       " [0, 0, 0, 0, 0, 0, 0, 0, 0, 0  …  0, 0, 0, 0, 0, 0, 0, 0, 0, 0]\n",
       " [0, 0, 0, 0, 0, 0, 0, 0, 0, 0  …  0, 0, 0, 0, 0, 0, 0, 0, 0, 0]\n",
       " [0, 0, 0, 0, 0, 0, 0, 0, 0, 0  …  0, 0, 0, 0, 0, 0, 0, 0, 0, 0]\n",
       " [0, 0, 0, 0, 0, 0, 0, 0, 0, 0  …  1, 0, 0, 0, 0, 0, 0, 0, 0, 0]\n",
       " [0, 0, 0, 0, 0, 0, 0, 0, 0, 0  …  0, 1, 0, 0, 0, 0, 0, 0, 0, 0]\n",
       " [0, 0, 0, 0, 0, 0, 0, 0, 0, 0  …  0, 0, 1, 0, 0, 0, 0, 0, 0, 0]\n",
       " [0, 0, 0, 0, 0, 0, 0, 0, 0, 0  …  0, 0, 0, 1, 0, 0, 0, 0, 0, 0]\n",
       " [0, 0, 0, 0, 0, 0, 0, 0, 0, 0  …  0, 0, 0, 0, 1, 0, 0, 0, 0, 0]\n",
       " [0, 0, 0, 0, 0, 0, 0, 0, 0, 0  …  0, 0, 0, 0, 0, 1, 0, 0, 0, 0]\n",
       " [0, 0, 0, 0, 0, 0, 0, 0, 0, 0  …  0, 0, 0, 0, 0, 0, 1, 0, 0, 0]\n",
       " [0, 0, 0, 0, 0, 0, 0, 0, 0, 0  …  0, 0, 0, 0, 0, 0, 0, 1, 0, 0]\n",
       " [0, 0, 0, 0, 0, 0, 0, 0, 0, 0  …  0, 0, 0, 0, 0, 0, 0, 0, 1, 0]\n",
       " [0, 0, 0, 0, 0, 0, 0, 0, 0, 0  …  0, 0, 0, 0, 0, 0, 0, 0, 0, 1]"
      ]
     },
     "execution_count": 448,
     "metadata": {},
     "output_type": "execute_result"
    }
   ],
   "source": [
    "u = compute_u(dummy_route)"
   ]
  },
  {
   "cell_type": "markdown",
   "id": "5d6045ed",
   "metadata": {},
   "source": [
    "### Compute cost of route"
   ]
  },
  {
   "cell_type": "code",
   "execution_count": 254,
   "id": "98bf43f2",
   "metadata": {},
   "outputs": [
    {
     "data": {
      "text/plain": [
       "route_cost (generic function with 1 method)"
      ]
     },
     "execution_count": 254,
     "metadata": {},
     "output_type": "execute_result"
    }
   ],
   "source": [
    "function route_cost(route)\n",
    "    distance = 0\n",
    "    for arc in route\n",
    "        distance += arc[3]\n",
    "    end\n",
    "    return distance\n",
    "end"
   ]
  },
  {
   "cell_type": "code",
   "execution_count": 255,
   "id": "d262c2c5",
   "metadata": {},
   "outputs": [
    {
     "data": {
      "text/plain": [
       "361.5131078586466"
      ]
     },
     "execution_count": 255,
     "metadata": {},
     "output_type": "execute_result"
    }
   ],
   "source": [
    "route_cost(dummy_route[1])"
   ]
  },
  {
   "cell_type": "markdown",
   "id": "ea370bc6",
   "metadata": {},
   "source": [
    "# [7] Column Generation"
   ]
  },
  {
   "cell_type": "markdown",
   "id": "60eb8757",
   "metadata": {},
   "source": [
    "## WARNING\n",
    "\n",
    "The dummy routes provided are actually NOT feasible. If we have 25 routes, each of which visits one job, we need at least 25 vehicles. But we actually don't have 25 vehicles, we have 15!\n",
    "\n",
    "So I'm going to temporarily increase `n_vehicles_jobs` to 25."
   ]
  },
  {
   "cell_type": "markdown",
   "id": "0706c2be",
   "metadata": {},
   "source": [
    "## [7.1] Setup Model"
   ]
  },
  {
   "cell_type": "code",
   "execution_count": 382,
   "id": "b4a6db66",
   "metadata": {},
   "outputs": [
    {
     "data": {
      "text/plain": [
       "25"
      ]
     },
     "execution_count": 382,
     "metadata": {},
     "output_type": "execute_result"
    }
   ],
   "source": [
    "n_vehicles_jobs = 25"
   ]
  },
  {
   "cell_type": "markdown",
   "id": "71380911",
   "metadata": {},
   "source": [
    "Goal: Start with our dummy routes. On the master problem side, first we solve the instance with just the dummy routes. "
   ]
  },
  {
   "cell_type": "code",
   "execution_count": 383,
   "id": "70d7447e",
   "metadata": {},
   "outputs": [
    {
     "data": {
      "text/plain": [
       "25"
      ]
     },
     "execution_count": 383,
     "metadata": {},
     "output_type": "execute_result"
    }
   ],
   "source": [
    "Q = length(dummy_route)"
   ]
  },
  {
   "cell_type": "code",
   "execution_count": 397,
   "id": "6381804c",
   "metadata": {
    "scrolled": true
   },
   "outputs": [
    {
     "name": "stdout",
     "output_type": "stream",
     "text": [
      "Set parameter Username\n",
      "Academic license - for non-commercial use only - expires 2023-09-04\n"
     ]
    },
    {
     "data": {
      "text/plain": [
       "A JuMP Model\n",
       "Feasibility problem with:\n",
       "Variables: 0\n",
       "Model mode: AUTOMATIC\n",
       "CachingOptimizer state: EMPTY_OPTIMIZER\n",
       "Solver name: Gurobi"
      ]
     },
     "execution_count": 397,
     "metadata": {},
     "output_type": "execute_result"
    }
   ],
   "source": [
    "modelcg = Model(Gurobi.Optimizer)"
   ]
  },
  {
   "cell_type": "markdown",
   "id": "bf2e9f32",
   "metadata": {},
   "source": [
    "### Decision variables\n",
    "\n",
    "$z^q$ as to whether or not a route is actually used\n",
    "\n",
    "$y_{it}^S$ if a job at location $i$ starts by time $t$\n",
    "\n",
    "$y_{it}^E$ if a job at location $i$ is ended by time $t$"
   ]
  },
  {
   "cell_type": "code",
   "execution_count": 398,
   "id": "6fe3f92e",
   "metadata": {},
   "outputs": [],
   "source": [
    "unregister(modelcg, :z)\n",
    "unregister(modelcg, :y_s)\n",
    "unregister(modelcg, :y_e)\n",
    "@variable(modelcg, z[1:Q], Bin)\n",
    "@variable(modelcg, y_s[1:n_jobs, 1:T], Bin)\n",
    "@variable(modelcg, y_e[1:n_jobs, 1:T], Bin)\n",
    "print()"
   ]
  },
  {
   "cell_type": "markdown",
   "id": "867a4adc",
   "metadata": {},
   "source": [
    "### Constraint: Each job is taken exactly once\n",
    "\n",
    "We have $\\sum_{q \\in \\mathcal{Q}} u_i^q z^q = 1 \\ \\forall i \\in \\mathcal{I}$"
   ]
  },
  {
   "cell_type": "code",
   "execution_count": 399,
   "id": "91396d9e",
   "metadata": {},
   "outputs": [],
   "source": [
    "unregister(modelcg, :unique)\n",
    "@constraint(modelcg, unique[i in 1:n_jobs], sum(u[i][q] * z[q] for q in 1:Q) == 1)\n",
    "print()"
   ]
  },
  {
   "cell_type": "code",
   "execution_count": null,
   "id": "aa077f99",
   "metadata": {},
   "outputs": [],
   "source": []
  },
  {
   "cell_type": "markdown",
   "id": "4643a6b8",
   "metadata": {},
   "source": [
    "### Constraint: there are at most as many routes as there are drivers"
   ]
  },
  {
   "cell_type": "code",
   "execution_count": 400,
   "id": "8f641a8a",
   "metadata": {},
   "outputs": [],
   "source": [
    "unregister(modelcg, :driver)\n",
    "@constraint(modelcg, driver, sum(z[q] for q in 1:Q) <= n_vehicles_jobs)\n",
    "print()"
   ]
  },
  {
   "cell_type": "markdown",
   "id": "7e926f67",
   "metadata": {},
   "source": [
    "### Time Constraints"
   ]
  },
  {
   "cell_type": "code",
   "execution_count": 401,
   "id": "e37885cc",
   "metadata": {},
   "outputs": [],
   "source": [
    "unregister(modelcg, :start)\n",
    "unregister(modelcg, :ends)\n",
    "@constraint(modelcg, start[i in 1:n_jobs, t in 1:(T-1)], y_s[i,t] <= y_s[i,t+1])\n",
    "@constraint(modelcg, ends[i in 1:n_jobs, t in 1:(T-1)], y_e[i,t] <= y_e[i,t+1])\n",
    "print()"
   ]
  },
  {
   "cell_type": "code",
   "execution_count": 402,
   "id": "5e9bc04e",
   "metadata": {},
   "outputs": [],
   "source": [
    "unregister(modelcg, :window_start)\n",
    "unregister(modelcg, :window_ends)\n",
    "@constraint(modelcg, window_start[i in 1:n_jobs, t in 1:(time_windows[i][1]-1)], y_s[i,t] == 0)\n",
    "@constraint(modelcg, window_ends[i in 1:n_jobs, t in time_windows[i][2]:T], y_e[i,t] == 1)\n",
    "print()"
   ]
  },
  {
   "cell_type": "code",
   "execution_count": 403,
   "id": "ecf55de4",
   "metadata": {},
   "outputs": [],
   "source": [
    "unregister(modelcg, :duration)\n",
    "@constraint(modelcg, duration[i in 1:n_jobs], sum(y_s[i,t] - y_e[i,t] for t in 1:T) >= work_load[i])\n",
    "print()"
   ]
  },
  {
   "cell_type": "code",
   "execution_count": 404,
   "id": "7dfd1c8a",
   "metadata": {},
   "outputs": [],
   "source": [
    "unregister(modelcg, :work)\n",
    "@constraint(modelcg, work[i in 1:n_jobs, t in 1:(T-1)], \n",
    "    y_s[i, t] - y_e[i, t] <= sum(z[q] * delta[i][t][q] for q in 1:Q), base_name = \"working\")\n",
    "print()"
   ]
  },
  {
   "cell_type": "code",
   "execution_count": 405,
   "id": "59e15c0e",
   "metadata": {},
   "outputs": [
    {
     "data": {
      "text/plain": [
       "25×45 Matrix{ConstraintRef{Model, MathOptInterface.ConstraintIndex{MathOptInterface.ScalarAffineFunction{Float64}, MathOptInterface.LessThan{Float64}}, ScalarShape}}:\n",
       " coverage[1,1] : y_s[1,1] - y_e[1,1] ≤ 1.0     …  coverage[1,45] : y_s[1,45] - y_e[1,45] ≤ 1.0\n",
       " coverage[2,1] : y_s[2,1] - y_e[2,1] ≤ 1.0        coverage[2,45] : y_s[2,45] - y_e[2,45] ≤ 1.0\n",
       " coverage[3,1] : y_s[3,1] - y_e[3,1] ≤ 1.0        coverage[3,45] : y_s[3,45] - y_e[3,45] ≤ 1.0\n",
       " coverage[4,1] : y_s[4,1] - y_e[4,1] ≤ 1.0        coverage[4,45] : y_s[4,45] - y_e[4,45] ≤ 1.0\n",
       " coverage[5,1] : y_s[5,1] - y_e[5,1] ≤ 1.0        coverage[5,45] : y_s[5,45] - y_e[5,45] ≤ 1.0\n",
       " coverage[6,1] : y_s[6,1] - y_e[6,1] ≤ 1.0     …  coverage[6,45] : y_s[6,45] - y_e[6,45] ≤ 1.0\n",
       " coverage[7,1] : y_s[7,1] - y_e[7,1] ≤ 1.0        coverage[7,45] : y_s[7,45] - y_e[7,45] ≤ 1.0\n",
       " coverage[8,1] : y_s[8,1] - y_e[8,1] ≤ 1.0        coverage[8,45] : y_s[8,45] - y_e[8,45] ≤ 1.0\n",
       " coverage[9,1] : y_s[9,1] - y_e[9,1] ≤ 1.0        coverage[9,45] : y_s[9,45] - y_e[9,45] ≤ 1.0\n",
       " coverage[10,1] : y_s[10,1] - y_e[10,1] ≤ 1.0     coverage[10,45] : y_s[10,45] - y_e[10,45] ≤ 1.0\n",
       " coverage[11,1] : y_s[11,1] - y_e[11,1] ≤ 1.0  …  coverage[11,45] : y_s[11,45] - y_e[11,45] ≤ 1.0\n",
       " coverage[12,1] : y_s[12,1] - y_e[12,1] ≤ 1.0     coverage[12,45] : y_s[12,45] - y_e[12,45] ≤ 1.0\n",
       " coverage[13,1] : y_s[13,1] - y_e[13,1] ≤ 1.0     coverage[13,45] : y_s[13,45] - y_e[13,45] ≤ 1.0\n",
       " coverage[14,1] : y_s[14,1] - y_e[14,1] ≤ 1.0     coverage[14,45] : y_s[14,45] - y_e[14,45] ≤ 1.0\n",
       " coverage[15,1] : y_s[15,1] - y_e[15,1] ≤ 1.0     coverage[15,45] : y_s[15,45] - y_e[15,45] ≤ 1.0\n",
       " coverage[16,1] : y_s[16,1] - y_e[16,1] ≤ 1.0  …  coverage[16,45] : y_s[16,45] - y_e[16,45] ≤ 1.0\n",
       " coverage[17,1] : y_s[17,1] - y_e[17,1] ≤ 1.0     coverage[17,45] : y_s[17,45] - y_e[17,45] ≤ 1.0\n",
       " coverage[18,1] : y_s[18,1] - y_e[18,1] ≤ 1.0     coverage[18,45] : y_s[18,45] - y_e[18,45] ≤ 1.0\n",
       " coverage[19,1] : y_s[19,1] - y_e[19,1] ≤ 1.0     coverage[19,45] : y_s[19,45] - y_e[19,45] ≤ 1.0\n",
       " coverage[20,1] : y_s[20,1] - y_e[20,1] ≤ 1.0     coverage[20,45] : y_s[20,45] - y_e[20,45] ≤ 1.0\n",
       " coverage[21,1] : y_s[21,1] - y_e[21,1] ≤ 1.0  …  coverage[21,45] : y_s[21,45] - y_e[21,45] ≤ 1.0\n",
       " coverage[22,1] : y_s[22,1] - y_e[22,1] ≤ 1.0     coverage[22,45] : y_s[22,45] - y_e[22,45] ≤ 1.0\n",
       " coverage[23,1] : y_s[23,1] - y_e[23,1] ≤ 1.0     coverage[23,45] : y_s[23,45] - y_e[23,45] ≤ 1.0\n",
       " coverage[24,1] : y_s[24,1] - y_e[24,1] ≤ 1.0     coverage[24,45] : y_s[24,45] - y_e[24,45] ≤ 1.0\n",
       " coverage[25,1] : y_s[25,1] - y_e[25,1] ≤ 1.0     coverage[25,45] : y_s[25,45] - y_e[25,45] ≤ 1.0"
      ]
     },
     "execution_count": 405,
     "metadata": {},
     "output_type": "execute_result"
    }
   ],
   "source": [
    "@constraint(modelcg, coverage[i in 1:n_jobs, t in 1:T], y_s[i, t] - y_e[i, t] <= 1)"
   ]
  },
  {
   "cell_type": "markdown",
   "id": "11f09265",
   "metadata": {},
   "source": [
    "### Objective"
   ]
  },
  {
   "cell_type": "code",
   "execution_count": 406,
   "id": "bb9d18f4",
   "metadata": {},
   "outputs": [
    {
     "data": {
      "text/latex": [
       "$$ 361.5131078586466 z_{1} + 354.7607228525183 z_{2} + 353.10378949077875 z_{3} + 551.3295353740317 z_{4} + 531.2484027487131 z_{5} + 547.8222795613261 z_{6} + 535.4831571042829 z_{7} + 295.4058184161513 z_{8} + 267.53597105125175 z_{9} + 280.6211233978089 z_{10} + 438.41682745364176 z_{11} + 453.9573791535636 z_{12} + 414.7573481083469 z_{13} + 395.21251480122766 z_{14} + 427.55843494085997 z_{15} + 429.4361382566155 z_{16} + 472.802937487361 z_{17} + 463.5797246987937 z_{18} + 447.448081690596 z_{19} + 172.79414039862428 z_{20} + 131.24480208871682 z_{21} + 142.68391763546433 z_{22} + 180.73953185215296 z_{23} + 323.26311497669536 z_{24} + 321.3796738868819 z_{25} $$"
      ],
      "text/plain": [
       "361.5131078586466 z[1] + 354.7607228525183 z[2] + 353.10378949077875 z[3] + 551.3295353740317 z[4] + 531.2484027487131 z[5] + 547.8222795613261 z[6] + 535.4831571042829 z[7] + 295.4058184161513 z[8] + 267.53597105125175 z[9] + 280.6211233978089 z[10] + 438.41682745364176 z[11] + 453.9573791535636 z[12] + 414.7573481083469 z[13] + 395.21251480122766 z[14] + 427.55843494085997 z[15] + 429.4361382566155 z[16] + 472.802937487361 z[17] + 463.5797246987937 z[18] + 447.448081690596 z[19] + 172.79414039862428 z[20] + 131.24480208871682 z[21] + 142.68391763546433 z[22] + 180.73953185215296 z[23] + 323.26311497669536 z[24] + 321.3796738868819 z[25]"
      ]
     },
     "execution_count": 406,
     "metadata": {},
     "output_type": "execute_result"
    }
   ],
   "source": [
    "@objective(modelcg, Min, sum(route_cost(dummy_route[q]) * z[q] for q in 1:Q))"
   ]
  },
  {
   "cell_type": "markdown",
   "id": "1093b785",
   "metadata": {},
   "source": [
    "## [7.2] Solve model for the first time"
   ]
  },
  {
   "cell_type": "code",
   "execution_count": 407,
   "id": "f54eefe9",
   "metadata": {
    "scrolled": false
   },
   "outputs": [
    {
     "name": "stdout",
     "output_type": "stream",
     "text": [
      "Gurobi Optimizer version 9.5.2 build v9.5.2rc0 (mac64[x86])\n",
      "Thread count: 4 physical cores, 8 logical processors, using up to 8 threads\n",
      "Optimize a model with 5501 rows, 2275 columns and 12300 nonzeros\n",
      "Model fingerprint: 0x031af9ac\n",
      "Variable types: 0 continuous, 2275 integer (2275 binary)\n",
      "Coefficient statistics:\n",
      "  Matrix range     [1e+00, 1e+00]\n",
      "  Objective range  [1e+02, 6e+02]\n",
      "  Bounds range     [0e+00, 0e+00]\n",
      "  RHS range        [1e+00, 2e+01]\n",
      "Found heuristic solution: objective 9294.0984753\n",
      "Presolve removed 5501 rows and 2275 columns\n",
      "Presolve time: 0.00s\n",
      "Presolve: All rows and columns removed\n",
      "\n",
      "Explored 0 nodes (0 simplex iterations) in 0.01 seconds (0.00 work units)\n",
      "Thread count was 1 (of 8 available processors)\n",
      "\n",
      "Solution count 1: 9294.1 \n",
      "\n",
      "Optimal solution found (tolerance 1.00e-04)\n",
      "Best objective 9.294098475285e+03, best bound 9.294098475285e+03, gap 0.0000%\n",
      "\n",
      "User-callback calls 1242, time in user-callback 0.00 sec\n"
     ]
    }
   ],
   "source": [
    "optimize!(modelcg)"
   ]
  },
  {
   "cell_type": "code",
   "execution_count": 396,
   "id": "1f1c47f3",
   "metadata": {
    "scrolled": true
   },
   "outputs": [
    {
     "data": {
      "text/plain": [
       "NO_SOLUTION::ResultStatusCode = 0"
      ]
     },
     "execution_count": 396,
     "metadata": {},
     "output_type": "execute_result"
    }
   ],
   "source": [
    "dual_status(modelcg)"
   ]
  },
  {
   "cell_type": "code",
   "execution_count": 377,
   "id": "a9fa37ca",
   "metadata": {},
   "outputs": [
    {
     "ename": "LoadError",
     "evalue": "Gurobi Error 10005: Unable to retrieve attribute 'Pi'",
     "output_type": "error",
     "traceback": [
      "Gurobi Error 10005: Unable to retrieve attribute 'Pi'",
      "",
      "Stacktrace:",
      "  [1] _check_ret",
      "    @ ~/.julia/packages/Gurobi/VPomg/src/MOI_wrapper/MOI_wrapper.jl:368 [inlined]",
      "  [2] get(model::Gurobi.Optimizer, attr::MathOptInterface.ConstraintDual, c::MathOptInterface.ConstraintIndex{MathOptInterface.ScalarAffineFunction{Float64}, MathOptInterface.LessThan{Float64}})",
      "    @ Gurobi ~/.julia/packages/Gurobi/VPomg/src/MOI_wrapper/MOI_wrapper.jl:3057",
      "  [3] get",
      "    @ ~/.julia/packages/MathOptInterface/goW8i/src/Bridges/bridge_optimizer.jl:1424 [inlined]",
      "  [4] get(model::MathOptInterface.Utilities.CachingOptimizer{MathOptInterface.Bridges.LazyBridgeOptimizer{Gurobi.Optimizer}, MathOptInterface.Utilities.UniversalFallback{MathOptInterface.Utilities.Model{Float64}}}, attr::MathOptInterface.ConstraintDual, index::MathOptInterface.ConstraintIndex{MathOptInterface.ScalarAffineFunction{Float64}, MathOptInterface.LessThan{Float64}})",
      "    @ MathOptInterface.Utilities ~/.julia/packages/MathOptInterface/goW8i/src/Utilities/cachingoptimizer.jl:911",
      "  [5] _moi_get_result(::MathOptInterface.Utilities.CachingOptimizer{MathOptInterface.Bridges.LazyBridgeOptimizer{Gurobi.Optimizer}, MathOptInterface.Utilities.UniversalFallback{MathOptInterface.Utilities.Model{Float64}}}, ::MathOptInterface.ConstraintDual, ::Vararg{Any})",
      "    @ JuMP ~/.julia/packages/JuMP/UqjgA/src/JuMP.jl:1155",
      "  [6] get(model::Model, attr::MathOptInterface.ConstraintDual, cr::ConstraintRef{Model, MathOptInterface.ConstraintIndex{MathOptInterface.ScalarAffineFunction{Float64}, MathOptInterface.LessThan{Float64}}, ScalarShape})",
      "    @ JuMP ~/.julia/packages/JuMP/UqjgA/src/JuMP.jl:1226",
      "  [7] _constraint_dual(con_ref::ConstraintRef{Model, MathOptInterface.ConstraintIndex{MathOptInterface.ScalarAffineFunction{Float64}, MathOptInterface.LessThan{Float64}}, ScalarShape}, result::Int64)",
      "    @ JuMP ~/.julia/packages/JuMP/UqjgA/src/constraints.jl:981",
      "  [8] #dual#10",
      "    @ ~/.julia/packages/JuMP/UqjgA/src/constraints.jl:967 [inlined]",
      "  [9] dual",
      "    @ ~/.julia/packages/JuMP/UqjgA/src/constraints.jl:963 [inlined]",
      " [10] _broadcast_getindex_evalf",
      "    @ ./broadcast.jl:670 [inlined]",
      " [11] _broadcast_getindex",
      "    @ ./broadcast.jl:643 [inlined]",
      " [12] getindex",
      "    @ ./broadcast.jl:597 [inlined]",
      " [13] macro expansion",
      "    @ ./broadcast.jl:961 [inlined]",
      " [14] macro expansion",
      "    @ ./simdloop.jl:77 [inlined]",
      " [15] copyto!",
      "    @ ./broadcast.jl:960 [inlined]",
      " [16] copyto!",
      "    @ ./broadcast.jl:913 [inlined]",
      " [17] copy",
      "    @ ./broadcast.jl:885 [inlined]",
      " [18] materialize(bc::Base.Broadcast.Broadcasted{Base.Broadcast.DefaultArrayStyle{2}, Nothing, typeof(dual), Tuple{Matrix{ConstraintRef{Model, MathOptInterface.ConstraintIndex{MathOptInterface.ScalarAffineFunction{Float64}, MathOptInterface.LessThan{Float64}}, ScalarShape}}}})",
      "    @ Base.Broadcast ./broadcast.jl:860",
      " [19] top-level scope",
      "    @ In[377]:1",
      " [20] eval",
      "    @ ./boot.jl:368 [inlined]",
      " [21] include_string(mapexpr::typeof(REPL.softscope), mod::Module, code::String, filename::String)",
      "    @ Base ./loading.jl:1428"
     ]
    }
   ],
   "source": [
    "dual.(work)"
   ]
  },
  {
   "cell_type": "code",
   "execution_count": 379,
   "id": "800e8436",
   "metadata": {
    "scrolled": true
   },
   "outputs": [
    {
     "ename": "LoadError",
     "evalue": "type Nothing has no field Pi",
     "output_type": "error",
     "traceback": [
      "type Nothing has no field Pi",
      "",
      "Stacktrace:",
      " [1] getproperty(x::Nothing, f::Symbol)",
      "   @ Base ./Base.jl:38",
      " [2] top-level scope",
      "   @ In[379]:1",
      " [3] eval",
      "   @ ./boot.jl:368 [inlined]",
      " [4] include_string(mapexpr::typeof(REPL.softscope), mod::Module, code::String, filename::String)",
      "   @ Base ./loading.jl:1428"
     ]
    }
   ],
   "source": [
    "println(constraint_by_name(modelcg, \"working\").Pi)"
   ]
  },
  {
   "cell_type": "markdown",
   "id": "aa141020",
   "metadata": {},
   "source": [
    "## [7.3] Solve dual and extract dual variables\n",
    "\n",
    "Unfortunately, unlike the cutting stock example, this is not one of those problems where the dual variables can simply be thrown at us by Gurobi. Instead, we will need to compute the dual and see where it leads us."
   ]
  },
  {
   "cell_type": "markdown",
   "id": "830e8de7",
   "metadata": {},
   "source": [
    "See my document https://github.com/DA72p/ict-opt/blob/main/gathering-the-dual.pdf for my approach and equations in the dual."
   ]
  },
  {
   "cell_type": "code",
   "execution_count": 500,
   "id": "5fb91dd8",
   "metadata": {},
   "outputs": [
    {
     "name": "stdout",
     "output_type": "stream",
     "text": [
      "Set parameter Username\n",
      "Academic license - for non-commercial use only - expires 2023-09-04\n"
     ]
    },
    {
     "data": {
      "text/plain": [
       "A JuMP Model\n",
       "Feasibility problem with:\n",
       "Variables: 0\n",
       "Model mode: AUTOMATIC\n",
       "CachingOptimizer state: EMPTY_OPTIMIZER\n",
       "Solver name: Gurobi"
      ]
     },
     "execution_count": 500,
     "metadata": {},
     "output_type": "execute_result"
    }
   ],
   "source": [
    "modual = Model(Gurobi.Optimizer)"
   ]
  },
  {
   "cell_type": "code",
   "execution_count": 501,
   "id": "5ebc88ab",
   "metadata": {},
   "outputs": [],
   "source": [
    "@variable(modual, pi[1:n_jobs])\n",
    "@variable(modual, rho >= 0)\n",
    "@variable(modual, alpha[1:n_jobs, 1:T] >= 0)\n",
    "@variable(modual, beta[1:n_jobs, 1:T] >= 0)\n",
    "@variable(modual, zeta[1:n_jobs, 1:T] >= 0)\n",
    "@variable(modual, eta[1:n_jobs, 1:T])\n",
    "@variable(modual, mu[1:n_jobs, 1:T] >= 0)\n",
    "@variable(modual, theta[1:n_jobs] >= 0)\n",
    "print()"
   ]
  },
  {
   "cell_type": "code",
   "execution_count": 502,
   "id": "8b004126",
   "metadata": {
    "scrolled": true
   },
   "outputs": [],
   "source": [
    "@constraint(modual, routing[q in 1:Q], \n",
    "    sum(pi[i] * u[i][q] for i in 1:n_jobs)\n",
    "    + rho \n",
    "    + sum(sum( mu[i, t] * delta[i][t][q] for i in 1:n_jobs) for t in 1:T) <= C[q])\n",
    "print()"
   ]
  },
  {
   "cell_type": "code",
   "execution_count": 503,
   "id": "ea18be01",
   "metadata": {},
   "outputs": [],
   "source": [
    "for i in 1:n_jobs\n",
    "    for t in 1:T\n",
    "        if t == 1\n",
    "            if t <= time_windows[i][1]\n",
    "                @constraint(modual, [1:2], -alpha[i, t] + zeta[i, t] - mu[i, t] + theta[i] <= 0)\n",
    "            else\n",
    "                println(\"The impossible case 2 has happened!\")\n",
    "                @constraint(modual, [1:2], -alpha[i, t] - mu[i, t] + theta[i] <= 0)\n",
    "                @constraint(modual, [1:2], zeta[i, t] == 0)\n",
    "            end\n",
    "        end\n",
    "        if 2 <= t <= T - 1\n",
    "            if t <= time_windows[i][1]\n",
    "                @constraint(modual, [1:2], alpha[i, t-1] - alpha[i, t] + zeta[i, t] - mu[i, t] + theta[i] <= 0)\n",
    "            else\n",
    "                @constraint(modual, [1:2], alpha[i, t-1] - alpha[i, t] - mu[i, t] + theta[i] <= 0)\n",
    "                @constraint(modual, [1:2], zeta[i, t] == 0)\n",
    "            end\n",
    "        end\n",
    "        if t == T\n",
    "            if t <= time_windows[i][1]\n",
    "                println(\"The impossible case 5 has happened!\")\n",
    "                @constraint(modual, [1:2], alpha[i, t-1] + zeta[i, t] - mu[i, t] + theta[i] <= 0)\n",
    "            else\n",
    "                @constraint(modual, [1:2], alpha[i, t-1] - mu[i, t] + theta[i] <= 0)\n",
    "                @constraint(modual, [1:2], zeta[i, t] == 0)\n",
    "            end\n",
    "        end\n",
    "    end\n",
    "end"
   ]
  },
  {
   "cell_type": "code",
   "execution_count": 504,
   "id": "a1200fc1",
   "metadata": {},
   "outputs": [],
   "source": [
    "for i in 1:n_jobs\n",
    "    for t in 1:T\n",
    "        if t == 1\n",
    "            if t >= time_windows[i][2]\n",
    "                println(\"The impossible case 1 has happened!\")\n",
    "                @constraint(modual, [1:2], -beta[i, t] + eta[i, t] + mu[i, t] - theta[i] <= 0)\n",
    "            else\n",
    "                @constraint(modual, [1:2], -beta[i, t] + mu[i, t] - theta[i] <= 0)\n",
    "                @constraint(modual, [1:2], eta[i, t] == 0)\n",
    "            end\n",
    "        end\n",
    "        if 2 <= t <= T - 1\n",
    "            if t >= time_windows[i][2]\n",
    "                @constraint(modual, [1:2], beta[i, t-1] - beta[i, t] + eta[i, t] + mu[i, t] - theta[i] <= 0)\n",
    "            else\n",
    "                @constraint(modual, [1:2], beta[i, t-1] - beta[i, t] + mu[i, t] - theta[i] <= 0)\n",
    "                @constraint(modual, [1:2], eta[i, t] == 0)\n",
    "            end\n",
    "        end\n",
    "        if t == T\n",
    "            if t >= time_windows[i][2]\n",
    "                @constraint(modual, [1:2], beta[i, t-1] + eta[i, t] + mu[i, t] - theta[i] <= 0)\n",
    "            else\n",
    "                println(\"The impossible case 6 has happened!\")\n",
    "                @constraint(modual, [1:2], beta[i, t-1] + mu[i, t] - theta[i] <= 0)\n",
    "                @constraint(modual, [1:2], eta[i, t] == 0)\n",
    "            end\n",
    "        end\n",
    "    end\n",
    "end"
   ]
  },
  {
   "cell_type": "code",
   "execution_count": 513,
   "id": "e53209bd",
   "metadata": {},
   "outputs": [],
   "source": [
    "@objective(modual, Max, \n",
    "    sum(pi[i] for i in 1:n_jobs) \n",
    "    - n_vehicles_jobs * rho \n",
    "    + sum((eta[i, t] for t in 1:T) for i in 1:n_jobs) \n",
    "    + sum(work_load[i] * theta[i] for i in 1:n_jobs))\n",
    "print()"
   ]
  },
  {
   "cell_type": "code",
   "execution_count": 514,
   "id": "9abbae9c",
   "metadata": {
    "scrolled": true
   },
   "outputs": [
    {
     "name": "stdout",
     "output_type": "stream",
     "text": [
      "Gurobi Optimizer version 9.5.2 build v9.5.2rc0 (mac64[x86])\n",
      "Thread count: 4 physical cores, 8 logical processors, using up to 8 threads\n",
      "Optimize a model with 6925 rows, 5676 columns and 22475 nonzeros\n",
      "Coefficient statistics:\n",
      "  Matrix range     [1e+00, 1e+00]\n",
      "  Objective range  [1e+00, 2e+01]\n",
      "  Bounds range     [0e+00, 0e+00]\n",
      "  RHS range        [1e+02, 6e+02]\n",
      "Iteration    Objective       Primal Inf.    Dual Inf.      Time\n",
      "       0    8.0000000e+30   2.085000e+32   8.000000e+00      0s\n",
      "      17    9.2940985e+03   0.000000e+00   0.000000e+00      0s\n",
      "\n",
      "Solved in 17 iterations and 0.01 seconds (0.00 work units)\n",
      "Optimal objective  9.294098475e+03\n",
      "\n",
      "User-callback calls 34, time in user-callback 0.00 sec\n"
     ]
    }
   ],
   "source": [
    "optimize!(modual)"
   ]
  },
  {
   "cell_type": "code",
   "execution_count": 518,
   "id": "27c4f318",
   "metadata": {},
   "outputs": [
    {
     "data": {
      "text/plain": [
       "-1.0"
      ]
     },
     "execution_count": 518,
     "metadata": {},
     "output_type": "execute_result"
    }
   ],
   "source": [
    "dual(routing[1])"
   ]
  }
 ],
 "metadata": {
  "kernelspec": {
   "display_name": "Julia 1.8.0",
   "language": "julia",
   "name": "julia-1.8"
  },
  "language_info": {
   "file_extension": ".jl",
   "mimetype": "application/julia",
   "name": "julia",
   "version": "1.8.0"
  }
 },
 "nbformat": 4,
 "nbformat_minor": 5
}
