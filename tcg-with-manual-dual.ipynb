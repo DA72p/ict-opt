{
 "cells": [
  {
   "cell_type": "markdown",
   "id": "230ebfc8",
   "metadata": {},
   "source": [
    "# [0] Imports"
   ]
  },
  {
   "cell_type": "code",
   "execution_count": 692,
   "id": "2de13344",
   "metadata": {},
   "outputs": [],
   "source": [
    "import Pkg;\n",
    "\n",
    "using LinearAlgebra, Random, Gurobi, JuMP, Distributions, Plots, LazySets, Dates"
   ]
  },
  {
   "cell_type": "markdown",
   "id": "3de0cbd9",
   "metadata": {},
   "source": [
    "# [1] Set Up Parameters"
   ]
  },
  {
   "cell_type": "code",
   "execution_count": 693,
   "id": "62b0117b",
   "metadata": {},
   "outputs": [],
   "source": [
    "n_jobs = 25\n",
    "m_cov = n_jobs\n",
    "B = n_jobs\n",
    "V = m_cov\n",
    "T = 2 * n_jobs\n",
    "min_duration = 2\n",
    "max_duration = 6\n",
    "speed = 500 / 3\n",
    "radius = 50\n",
    "size = 500\n",
    "mesh = 50;"
   ]
  },
  {
   "cell_type": "markdown",
   "id": "370f4f79",
   "metadata": {},
   "source": [
    "# [2] Create Job Parameters"
   ]
  },
  {
   "cell_type": "code",
   "execution_count": 694,
   "id": "1afb78ab",
   "metadata": {},
   "outputs": [],
   "source": [
    "Random.seed!(1234)\n",
    "\n",
    "function create_cluster_sizes(jobs_total)\n",
    "    Random.seed!(1234)\n",
    "    jobs_created = 0\n",
    "    cluster = []\n",
    "    min_jobs_allowed = n_jobs >= 15 ? 3 : 2\n",
    "        target_clusters = 5\n",
    "        while jobs_created != jobs_total\n",
    "            num_to_add = rand(min(min_jobs_allowed, jobs_total - jobs_created) : \n",
    "                min(Int((n_jobs/target_clusters)÷1), jobs_total - jobs_created))\n",
    "            jobs_created += num_to_add\n",
    "            push!(cluster, num_to_add)\n",
    "        end\n",
    "    \n",
    "    return cluster\n",
    "end;\n",
    "\n",
    "time_windows = []\n",
    "locations = rand(Uniform(0,size), 1, 2)\n",
    "work_load = []\n",
    "cluster = create_cluster_sizes(n_jobs)\n",
    "\n",
    "function create_time_windows_and_work_load(cluster_sizes, locations)\n",
    "    Random.seed!(1234)\n",
    "    locations = rand(Uniform(0,size), 1, 2)\n",
    "    for size_c in cluster\n",
    "        first = rand(Uniform(0,size), 1, 2)\n",
    "        locations = vcat(locations, first)\n",
    "\n",
    "        job_begins = rand(2:10)\n",
    "        job_finish = rand((job_begins+min_duration):(job_begins+max_duration))\n",
    "        push!(time_windows, [job_begins, job_finish])\n",
    "\n",
    "        time_work = rand(min_duration:max(min_duration, job_finish - job_begins))\n",
    "        push!(work_load, time_work)\n",
    "\n",
    "        for neighbour in 1:(size_c-1)\n",
    "            new_x = rand(Uniform(max(0,first[1]-20), min(first[1]+20, size)), 1, 1)\n",
    "            new_y = rand(Uniform(max(0,first[2]-20), min(first[2]+20, size)), 1, 1)\n",
    "            new = hcat(new_x, new_y)\n",
    "            locations = vcat(locations, new)\n",
    "\n",
    "            job_begins = rand(job_finish:min(T-min_duration-2, job_finish + 6))\n",
    "            job_finish = rand((job_begins+min_duration):(min(job_begins+max_duration, T-2)))\n",
    "            push!(time_windows, [job_begins, job_finish])\n",
    "\n",
    "            time_work = rand(min_duration:min(max_duration, job_finish-job_begins))\n",
    "            push!(work_load, time_work)\n",
    "        end\n",
    "    end\n",
    "    \n",
    "    return [time_windows, work_load, locations]\n",
    "end\n",
    "\n",
    "time_windows, work_load, locations = create_time_windows_and_work_load(cluster, locations)\n",
    "\n",
    "function reformat_locations(locations)\n",
    "    #= The fact that locations[1] gives the same float (not tuple or list)\n",
    "    as locations[1, 1] and locations[1][2] throws an \n",
    "    error is extremely frustrating.\n",
    "    This function makes locations[1][1] possible, \n",
    "    while locations[1] correctly returns a tuple. =#\n",
    "    locs = []\n",
    "    for i in 1:Int(length(locations) * 0.5)\n",
    "        push!(locs, [locations[i,1], locations[i,2]])\n",
    "    end\n",
    "    return locs\n",
    "end\n",
    "\n",
    "job_locs = reformat_locations(locations)\n",
    "push!(job_locs, job_locs[1]);"
   ]
  },
  {
   "cell_type": "code",
   "execution_count": 695,
   "id": "4dd2ddca",
   "metadata": {},
   "outputs": [],
   "source": [
    "job_dists = [LinearAlgebra.norm(job_locs[i] .- job_locs[j]) for i=1:n_jobs+2, j = 1:n_jobs+2];"
   ]
  },
  {
   "cell_type": "code",
   "execution_count": 696,
   "id": "337bed4f",
   "metadata": {},
   "outputs": [],
   "source": [
    "job_travel_times = ceil.(job_dists / speed);"
   ]
  },
  {
   "cell_type": "markdown",
   "id": "dda501a0",
   "metadata": {},
   "source": [
    "# [3] Create Coverage Parameters"
   ]
  },
  {
   "cell_type": "code",
   "execution_count": 697,
   "id": "d9e59948",
   "metadata": {},
   "outputs": [],
   "source": [
    "create_all_valid_spots = true;"
   ]
  },
  {
   "cell_type": "code",
   "execution_count": 698,
   "id": "766b876d",
   "metadata": {},
   "outputs": [],
   "source": [
    "function is_close_enough(coverage_loc, job_loc)\n",
    "    #= Given a coverage_loc with 2 elements x y\n",
    "    and a job_loc with two elements x y\n",
    "    determines if that specific job_loc is located within r \n",
    "    of the coverage_loc as the crow flies =#\n",
    "    return (coverage_loc[1]-job_loc[1])^2 + (coverage_loc[2]-job_loc[2])^2 <= radius^2\n",
    "end;\n",
    "\n",
    "function close_enough_jobs(coverage_loc)\n",
    "    jobs = []\n",
    "    for i in 1:n_jobs\n",
    "        if is_close_enough(coverage_loc, job_locs[i+1])\n",
    "            push!(jobs, i)\n",
    "        end\n",
    "    end\n",
    "    return jobs\n",
    "end;"
   ]
  },
  {
   "cell_type": "code",
   "execution_count": 699,
   "id": "a2db1c84",
   "metadata": {},
   "outputs": [],
   "source": [
    "cov_locs = []\n",
    "seen = []\n",
    "\n",
    "for x in 0:mesh:size\n",
    "    for y in 0:mesh:size\n",
    "        potential_cov = [x, y]\n",
    "        useful = false\n",
    "        \n",
    "        if create_all_valid_spots\n",
    "            for index in 2:length(job_locs)-1\n",
    "                if is_close_enough(potential_cov, job_locs[index])\n",
    "                    useful = true\n",
    "                    break\n",
    "                end\n",
    "            end\n",
    "        else\n",
    "            for job in close_enough_jobs(potential_cov)\n",
    "                if ~(job in seen)\n",
    "                    push!(seen, job)\n",
    "                    useful = true\n",
    "                end\n",
    "            end\n",
    "        end\n",
    "        \n",
    "        if useful\n",
    "            push!(cov_locs, potential_cov)\n",
    "        end\n",
    "    end\n",
    "end;"
   ]
  },
  {
   "cell_type": "code",
   "execution_count": 700,
   "id": "2cd3566f",
   "metadata": {},
   "outputs": [],
   "source": [
    "m_cov = length(cov_locs);\n",
    "V = m_cov;"
   ]
  },
  {
   "cell_type": "code",
   "execution_count": 701,
   "id": "8bbd2723",
   "metadata": {},
   "outputs": [],
   "source": [
    "insert!(cov_locs, 1, job_locs[1])\n",
    "push!(cov_locs, cov_locs[1]);"
   ]
  },
  {
   "cell_type": "code",
   "execution_count": 702,
   "id": "c89f1147",
   "metadata": {},
   "outputs": [],
   "source": [
    "cov_dists = [LinearAlgebra.norm(cov_locs[i] .- cov_locs[j]) for i=1:m_cov+2, j = 1:m_cov+2];"
   ]
  },
  {
   "cell_type": "code",
   "execution_count": 703,
   "id": "a2659d5d",
   "metadata": {},
   "outputs": [],
   "source": [
    "cov_travel_times = ceil.(cov_dists / speed);"
   ]
  },
  {
   "cell_type": "markdown",
   "id": "ebb2fcbe",
   "metadata": {},
   "source": [
    "# [4] Create Initial Job Routes"
   ]
  },
  {
   "cell_type": "code",
   "execution_count": 704,
   "id": "1bf03f6b",
   "metadata": {},
   "outputs": [],
   "source": [
    "job_routes = []\n",
    "\n",
    "for i in 1:n_jobs\n",
    "    route = []\n",
    "    dist = job_dists[0+1, i+1]\n",
    "    \n",
    "    start_going_time = Int(floor(time_windows[i][1] - dist/speed))\n",
    "    # time_arrival = time_windows[i][1]\n",
    "    # time_finished = time_windows[i][2]\n",
    "    return_finished = Int(ceil(time_windows[i][2] + dist/speed))\n",
    "    \n",
    "    push!(route, [[0, start_going_time], [i, time_windows[i][1]], dist])\n",
    "    \n",
    "    for working in time_windows[i][1]:(time_windows[i][2]-1)\n",
    "        push!(route, [[i, working], [i, working+1], 0])\n",
    "    end\n",
    "    \n",
    "    push!(route, [[i, time_windows[i][2]], [n_jobs+1, return_finished], dist])\n",
    "    push!(job_routes, route)\n",
    "end;"
   ]
  },
  {
   "cell_type": "markdown",
   "id": "57ad6624",
   "metadata": {},
   "source": [
    "# [5] Create Initial Coverage Routes"
   ]
  },
  {
   "cell_type": "code",
   "execution_count": 705,
   "id": "8ffe6689",
   "metadata": {},
   "outputs": [],
   "source": [
    "cov_routes = []\n",
    "\n",
    "for j in 1:m_cov\n",
    "    route = []\n",
    "    dist = cov_dists[0+1, j+1]\n",
    "    \n",
    "    arrive_time = Int(ceil(dist/speed))\n",
    "    leave_time = Int(T+1 - ceil(dist/speed))\n",
    "    \n",
    "    push!(route, [[0, 0], [j, arrive_time], dist])\n",
    "\n",
    "    for t in arrive_time:leave_time-1\n",
    "        push!(route, [ [j, t], [j, t+1], 0])\n",
    "    end\n",
    "    \n",
    "    push!(route, [[j, leave_time], [m_cov+1, T+1], dist])\n",
    "    push!(cov_routes, route)\n",
    "end;"
   ]
  },
  {
   "cell_type": "markdown",
   "id": "7a4426c1",
   "metadata": {},
   "source": [
    "# [6] Helper Functions"
   ]
  },
  {
   "cell_type": "markdown",
   "id": "784dfb2b",
   "metadata": {},
   "source": [
    "## [6.1] Compute cost of route"
   ]
  },
  {
   "cell_type": "code",
   "execution_count": 706,
   "id": "58ab489e",
   "metadata": {},
   "outputs": [],
   "source": [
    "function route_cost(route)\n",
    "    ans = 0\n",
    "    for arc in route\n",
    "        ans += arc[3]\n",
    "    end\n",
    "    return ans\n",
    "end;"
   ]
  },
  {
   "cell_type": "markdown",
   "id": "56f2c36a",
   "metadata": {},
   "source": [
    "## [6.2] Compute $u_i^q$"
   ]
  },
  {
   "cell_type": "code",
   "execution_count": 707,
   "id": "e505d3d0",
   "metadata": {},
   "outputs": [],
   "source": [
    "function compute_u(routes)\n",
    "    Q = length(routes)\n",
    "    u = [[0 for q in 1:Q] for i in 1:n_jobs]\n",
    "    \n",
    "    for rindex in 1:Q\n",
    "        route = routes[rindex]\n",
    "        for arc in route\n",
    "            loc1 = arc[1][1]\n",
    "            loc2 = arc[2][1]\n",
    "            if (1 <= loc1 <= n_jobs)\n",
    "                u[loc1][rindex] = 1\n",
    "            end\n",
    "            if (1 <= loc2 <= n_jobs)\n",
    "                u[loc2][rindex] = 1\n",
    "            end\n",
    "        end\n",
    "    end\n",
    "    return u\n",
    "end;"
   ]
  },
  {
   "cell_type": "markdown",
   "id": "4ec80106",
   "metadata": {},
   "source": [
    "## [6.3] Compute $\\delta_{it}^q$"
   ]
  },
  {
   "cell_type": "code",
   "execution_count": 708,
   "id": "b4d5ce91",
   "metadata": {},
   "outputs": [],
   "source": [
    "function compute_delta(routes)\n",
    "    Q = length(routes)\n",
    "    delta = [[[0.0 for q in 1:Q] for t in 1:T] for i in 1:n_jobs]\n",
    "    for rindex in 1:Q\n",
    "        route = routes[rindex]\n",
    "        for arc in route\n",
    "            loc1, time1 = arc[1]\n",
    "            loc2, time2 = arc[2]\n",
    "            if (loc1 != 0) & (loc1 != n_jobs + 1)\n",
    "                delta[loc1][time1][rindex] = 1\n",
    "            end\n",
    "            \n",
    "            if (loc2 != 0) & (loc2 != n_jobs + 1)\n",
    "                delta[loc2][time2][rindex] = 1\n",
    "            end\n",
    "        end\n",
    "    end\n",
    "    return delta\n",
    "end;"
   ]
  },
  {
   "cell_type": "markdown",
   "id": "208fa7a6",
   "metadata": {},
   "source": [
    "## [6.4] Compute $y_{jt}^p$"
   ]
  },
  {
   "cell_type": "code",
   "execution_count": 709,
   "id": "acc0731d",
   "metadata": {},
   "outputs": [],
   "source": [
    "function compute_y(routes)\n",
    "    y = [[[0 for p in 1:length(routes)] for t in 1:T] for j in 1:m_cov]\n",
    "    \n",
    "    for rindex in 1:length(routes)\n",
    "        route = routes[rindex]\n",
    "        for arc in route\n",
    "            job1, time1 = Int.(arc[1])\n",
    "            job2, time2 = Int.(arc[2])\n",
    "            if job1 != 0\n",
    "                y[job1][time1][rindex] = 1\n",
    "            end\n",
    "            if job2 != m_cov + 1\n",
    "                y[job2][time2][rindex] = 1\n",
    "            end\n",
    "        end\n",
    "    end\n",
    "    return y\n",
    "end;"
   ]
  },
  {
   "cell_type": "markdown",
   "id": "318550f2",
   "metadata": {},
   "source": [
    "## [6.5] Compute $L_{ji}$"
   ]
  },
  {
   "cell_type": "code",
   "execution_count": 710,
   "id": "9be015f6",
   "metadata": {},
   "outputs": [],
   "source": [
    "function compute_L(cov_locs, job_locs)\n",
    "    #= Given a list of tuple coverage locations and job locations,\n",
    "    returns a matrix of L values. Specifically, \n",
    "    L[j][i], indicating if spot j is close enough to node i\n",
    "    for coverage to happen. We might have to delete padding of depot\n",
    "    first. =#\n",
    "    L = []\n",
    "    for j in 2:length(cov_locs)-1\n",
    "        L_j = []\n",
    "        cov_loc = cov_locs[j] # padding accounted for\n",
    "        for i in 2:length(job_locs)-1\n",
    "            push!(L_j, is_close_enough(cov_loc, job_locs[i]) ? 1 : 0)\n",
    "        end\n",
    "        push!(L, L_j)\n",
    "    end\n",
    "    \n",
    "    return L\n",
    "end;"
   ]
  },
  {
   "cell_type": "markdown",
   "id": "9fef3cf2",
   "metadata": {},
   "source": [
    "## [6.6] Compute $j$'s Neighborhood"
   ]
  },
  {
   "cell_type": "code",
   "execution_count": 711,
   "id": "ebfebf8a",
   "metadata": {},
   "outputs": [],
   "source": [
    "function neighborhood(j)\n",
    "    # returns all nodes i which are close to the spot j.\n",
    "    cov_loc = cov_locs[j+1] # don't forget padding!\n",
    "    \n",
    "    close = []\n",
    "    for i in 1:n_jobs\n",
    "        if is_close_enough(cov_loc, job_locs[i+1])\n",
    "            push!(close, i)\n",
    "        end\n",
    "    end\n",
    "    \n",
    "    return close\n",
    "end;"
   ]
  },
  {
   "cell_type": "markdown",
   "id": "45b6e230",
   "metadata": {},
   "source": [
    "## [6.7] Compute coverage stations close to $i$"
   ]
  },
  {
   "cell_type": "code",
   "execution_count": 712,
   "id": "de179952",
   "metadata": {},
   "outputs": [],
   "source": [
    "function close_covs(i)\n",
    "    job_loc = job_locs[i+1] # padding included\n",
    "    close = []\n",
    "    for j in 1:m_cov\n",
    "        if is_close_enough(cov_locs[j+1], job_loc)\n",
    "            push!(close, j)\n",
    "        end\n",
    "    end\n",
    "    return close\n",
    "end;"
   ]
  },
  {
   "cell_type": "markdown",
   "id": "f0b27d77",
   "metadata": {},
   "source": [
    "## [6.8] Given route, list nodes"
   ]
  },
  {
   "cell_type": "code",
   "execution_count": 713,
   "id": "b1d85d1e",
   "metadata": {},
   "outputs": [],
   "source": [
    "function route_to_nodes(route)\n",
    "    # get only the 1st node of all arcs except the last, when you get the 2nd\n",
    "    nodes = []\n",
    "    for arc in route[1:end-1]\n",
    "        new_node = arc[1][1]\n",
    "        push!(nodes, new_node)\n",
    "    end\n",
    "    push!(nodes, route[end][2][1])\n",
    "    return unique(nodes)\n",
    "end;"
   ]
  },
  {
   "cell_type": "markdown",
   "id": "9e85bb95",
   "metadata": {},
   "source": [
    "## [6.9] Given route, list times"
   ]
  },
  {
   "cell_type": "code",
   "execution_count": 714,
   "id": "8a7ce4f8",
   "metadata": {},
   "outputs": [],
   "source": [
    "function route_to_times(route)\n",
    "    #= Obtain time \"markers\" when you leave\n",
    "    or arrive at any node. This is more convenient\n",
    "    than just telling me when I arrive at any node.\n",
    "    If the two nodes in an arc are not equal,\n",
    "    list both of their times. Otherwise, list neither. =#\n",
    "    times = []\n",
    "    for arc in route[1:end]\n",
    "        n1, t1 = arc[1]\n",
    "        n2, t2 = arc[2]\n",
    "        if n1 != n2\n",
    "            push!(times, t1)\n",
    "            push!(times, t2)\n",
    "        end\n",
    "    end\n",
    "    return times\n",
    "end;"
   ]
  },
  {
   "cell_type": "markdown",
   "id": "50657c8e",
   "metadata": {},
   "source": [
    "## [6.10] Given nodes and times, produce route"
   ]
  },
  {
   "cell_type": "code",
   "execution_count": 715,
   "id": "9a16ac6e",
   "metadata": {},
   "outputs": [],
   "source": [
    "function nodes_and_times_to_route(nodes, times, route_type)\n",
    "    #= Given by two components: When you leave/go between nodes,\n",
    "    and when you stay. Alternate: start \"when you stay\",\n",
    "    then \"when you go\". For the first node there is no stay. \n",
    "    For the last node there is no stay nor go.=#\n",
    "    route = []\n",
    "    for i in 1:length(nodes)-1\n",
    "        \n",
    "        # WHEN YOU STAY\n",
    "        if i > 1\n",
    "            n = nodes[i]\n",
    "            t1 = times[2*i-2]\n",
    "            t2 = times[2*i-1]\n",
    "            \n",
    "            for t in t1:t2-1\n",
    "                arc = [[n, t], [n, t+1], 0]\n",
    "                push!(route, arc)\n",
    "            end\n",
    "        end\n",
    "        \n",
    "        # WHEN YOU GO\n",
    "        n1 = nodes[i]\n",
    "        n2 = nodes[i+1]\n",
    "        t1 = times[2*i-1]\n",
    "        t2 = times[2*i]\n",
    "        dist = route_type == \"job\" ? job_dists[n1+1, n2+1] : cov_dists[n1+1, n2+1]\n",
    "        arc = [[n1, t1], [n2, t2], dist]\n",
    "        push!(route, arc)\n",
    "    end\n",
    "    return route\n",
    "end;       "
   ]
  },
  {
   "cell_type": "markdown",
   "id": "fb36802d",
   "metadata": {},
   "source": [
    "# [7] Shortest Paths for Job Routes"
   ]
  },
  {
   "cell_type": "code",
   "execution_count": 716,
   "id": "d6acb414",
   "metadata": {},
   "outputs": [],
   "source": [
    "function job_sp(dists, travel_times, windows, loads, rho, pi, xi)\n",
    "    paths, rcs, times = [[0]], [rho], [[0]]\n",
    "    curp, endp = 1, 1\n",
    "    \n",
    "    pruner = [Inf for i in 1:n_jobs]\n",
    "    \n",
    "    while true\n",
    "        curpath = paths[curp]\n",
    "        curtimes = times[curp]\n",
    "        if last(curpath) == n_jobs+1\n",
    "            curp += 1\n",
    "            if curp > endp\n",
    "                break\n",
    "            else\n",
    "                continue\n",
    "            end\n",
    "        end\n",
    "        \n",
    "        for i in 1:n_jobs+1\n",
    "            if ~(i in curpath)\n",
    "                \n",
    "                last_depart_time = last(curtimes)\n",
    "                travel_time = travel_times[last(curpath)+1, i+1]\n",
    "                new_job_load = (i < n_jobs+1) ? loads[i] : 0\n",
    "                new_window_start, new_window_close = (i < n_jobs+1) ? windows[i] : [0, T+1]\n",
    "                proposed_arrival = last_depart_time + travel_time + new_job_load\n",
    "                if proposed_arrival > new_window_close\n",
    "                    continue\n",
    "                end\n",
    "                \n",
    "                new_node_arrival = max(proposed_arrival - new_job_load, new_window_start)\n",
    "                new_node_depart = new_node_arrival + new_job_load\n",
    "                cur_rc = rcs[curp]\n",
    "                cur_rc += dists[last(curpath)+1, i+1]\n",
    "                cur_rc -= (i < n_jobs + 1) ? pi[i] : 0;\n",
    "                \n",
    "                for t in new_node_arrival:new_node_depart\n",
    "                    cur_rc += (i < n_jobs + 1) ? xi[i, Int(t)] : 0;\n",
    "                end\n",
    "                \n",
    "                if i < n_jobs + 1 && cur_rc < pruner[i]\n",
    "                    pruner[i] = cur_rc\n",
    "                elseif i == n_jobs+1\n",
    "                else\n",
    "                    continue\n",
    "                end\n",
    "                \n",
    "                push!(paths, push!(copy(curpath), i))\n",
    "                push!(rcs, cur_rc)\n",
    "                if i < n_jobs + 1\n",
    "                    push!(times, push!(push!(copy(curtimes), new_node_arrival), new_node_depart))\n",
    "                else\n",
    "                    push!(times, push!(copy(curtimes), new_node_arrival))\n",
    "                end\n",
    "                \n",
    "                endp += 1\n",
    "            end\n",
    "        end\n",
    "        \n",
    "        curp += 1\n",
    "        \n",
    "        if curp == endp\n",
    "            break\n",
    "        end\n",
    "    end\n",
    "    \n",
    "    return paths, rcs, times\n",
    "end;"
   ]
  },
  {
   "cell_type": "markdown",
   "id": "3ba5fe07",
   "metadata": {},
   "source": [
    "# [8] Shortest Paths for Coverage Routes"
   ]
  },
  {
   "cell_type": "code",
   "execution_count": 717,
   "id": "5675463c",
   "metadata": {},
   "outputs": [],
   "source": [
    "function all_jobs_ended(spot)\n",
    "    last = -Inf\n",
    "    for i in neighborhood(spot)\n",
    "        if time_windows[i][2] > last\n",
    "            last = time_windows[i][2]\n",
    "        end\n",
    "    end\n",
    "    return last\n",
    "end;"
   ]
  },
  {
   "cell_type": "code",
   "execution_count": 718,
   "id": "36a2cf27",
   "metadata": {},
   "outputs": [],
   "source": [
    "function when_to_leave(spot)\n",
    "    neigh = neighborhood(spot)\n",
    "    leavable_times = []\n",
    "    time_ended = all_jobs_ended(spot)\n",
    "    for t in 1:T\n",
    "        can_leave = true\n",
    "        for i in neigh\n",
    "            if time_windows[i][1] <= t <= time_windows[i][2] && time_windows[i][1] <= t+1 <= time_windows[i][2]\n",
    "                can_leave = false\n",
    "            end\n",
    "        end\n",
    "        \n",
    "        if can_leave && t <= time_ended\n",
    "            push!(leavable_times, t)\n",
    "        end\n",
    "    end\n",
    "    return leavable_times\n",
    "end;"
   ]
  },
  {
   "cell_type": "code",
   "execution_count": 719,
   "id": "54ffcd54",
   "metadata": {},
   "outputs": [],
   "source": [
    "function when_to_enter(spot)\n",
    "    #=\n",
    "    Gives the only times when you are allowed to enter, because a new job has started\n",
    "    and no job is in the middle of that time.\n",
    "    No job is allowed to just end then.\n",
    "    =#\n",
    "    neigh = neighborhood(spot)\n",
    "    enterable_times = []\n",
    "    for t in [time_windows[i][1] for i in neigh]\n",
    "        # no job is being done...basically can't be > time_windows[1] and <= time_windows[2]\n",
    "        can_enter = true\n",
    "        for job in neigh\n",
    "            if t > time_windows[job][1] && t <= time_windows[job][2]\n",
    "                can_enter = false\n",
    "            end\n",
    "        end\n",
    "        \n",
    "        if can_enter\n",
    "            push!(enterable_times, t)\n",
    "        end\n",
    "    end\n",
    "    return enterable_times\n",
    "end;"
   ]
  },
  {
   "cell_type": "code",
   "execution_count": 720,
   "id": "5422cec6",
   "metadata": {},
   "outputs": [],
   "source": [
    "function cov_sp(dists, travel_times, beta, xi)\n",
    "    paths, rcs, times = [[0]], [beta], [[0]]\n",
    "    curp, endp = 1, 1\n",
    "    last_job_ended = [all_jobs_ended(j) for j in 1:m_cov]\n",
    "    \n",
    "    pruner = [Inf for j in 1:m_cov]\n",
    "    \n",
    "    while true\n",
    "        curpath = paths[curp]\n",
    "        curtimes = times[curp]\n",
    "        if last(curpath) == m_cov+1\n",
    "            curp += 1\n",
    "            if curp > endp\n",
    "                break\n",
    "            else\n",
    "                continue\n",
    "            end\n",
    "        end\n",
    "        \n",
    "        for j in 1:m_cov+1\n",
    "            #anything goes.\n",
    "            prev_depart_time = last(curtimes)\n",
    "            travel_time = travel_times[last(curpath)+1, j+1]\n",
    "            # You are ONLY allowed to arrive at times when specified by when_to_enter.\n",
    "            arrival_times = when_to_enter(j)\n",
    "            departure_times = (j < m_cov+1) ? when_to_leave(j) : [prev_depart_time+travel_time+1]\n",
    "            \n",
    "            for at in arrival_times\n",
    "                \n",
    "                if at < prev_depart_time + travel_time\n",
    "                    continue\n",
    "                end\n",
    "                # otherwise we're fine\n",
    "                \n",
    "                # now we have to consider ALL possible departure times.\n",
    "                for dt in departure_times\n",
    "\n",
    "                    if dt <= at # if you depart when you arrive, what's the point?\n",
    "                        continue\n",
    "                    end\n",
    "                    #only viable departure times remain\n",
    "\n",
    "                    # only visit non-depot if there are still jobs left\n",
    "                    if j != m_cov + 1\n",
    "                        if dt > last_job_ended[j]\n",
    "                            continue # it's possible to add zero routes from this, use depot?\n",
    "                        end\n",
    "                    end\n",
    "\n",
    "                    cur_rc = rcs[curp]\n",
    "                    cur_rc += dists[last(curpath)+1, j+1]\n",
    "\n",
    "                    if j != m_cov + 1\n",
    "                        for t in at:dt\n",
    "                            for i in neighborhood(j)\n",
    "                                cur_rc -= xi[i, Int(t)]\n",
    "                            end\n",
    "                        end\n",
    "                    end\n",
    "\n",
    "                    if j < m_cov + 1 && cur_rc < pruner[j]\n",
    "                        pruner[j] = cur_rc\n",
    "                    elseif j == m_cov+1\n",
    "                    else\n",
    "                        continue\n",
    "                    end\n",
    "\n",
    "                    push!(paths, push!(copy(curpath), j))\n",
    "                    push!(rcs, cur_rc)\n",
    "                    if j < m_cov + 1\n",
    "                        push!(times, push!(push!(copy(curtimes), at), dt))\n",
    "                    else\n",
    "                        push!(times, push!(copy(curtimes), at))\n",
    "                    end\n",
    "\n",
    "                    endp += 1\n",
    "                end\n",
    "            end\n",
    "        end\n",
    "        \n",
    "        curp += 1\n",
    "        \n",
    "        if curp == endp\n",
    "            break\n",
    "        end\n",
    "    end\n",
    "    \n",
    "    return paths, rcs, times\n",
    "end;"
   ]
  },
  {
   "cell_type": "markdown",
   "id": "d253dbdb",
   "metadata": {},
   "source": [
    "# [9] Restricted Master Problem"
   ]
  },
  {
   "cell_type": "code",
   "execution_count": 721,
   "id": "9295dd5d",
   "metadata": {},
   "outputs": [],
   "source": [
    "L = compute_L(cov_locs, job_locs);"
   ]
  },
  {
   "cell_type": "code",
   "execution_count": 722,
   "id": "f7fda33a",
   "metadata": {
    "scrolled": false
   },
   "outputs": [
    {
     "name": "stdout",
     "output_type": "stream",
     "text": [
      "Set parameter Username\n",
      "Academic license - for non-commercial use only - expires 2023-09-04\n",
      "Set parameter Username\n",
      "Academic license - for non-commercial use only - expires 2023-09-04\n"
     ]
    }
   ],
   "source": [
    "model = Model(Gurobi.Optimizer);\n",
    "set_optimizer_attribute(model, \"OutputFlag\", 0);\n",
    "\n",
    "modual = Model(Gurobi.Optimizer);\n",
    "set_optimizer_attribute(modual, \"OutputFlag\", 0);"
   ]
  },
  {
   "cell_type": "code",
   "execution_count": 723,
   "id": "1d15f7ad",
   "metadata": {},
   "outputs": [],
   "source": [
    "last_z = 0\n",
    "last_x = 0\n",
    "rcs_q = []\n",
    "rcs_p = []\n",
    "last_objective = 0;\n",
    "Q = 0\n",
    "P = 0\n",
    "pis = []\n",
    "xis = []\n",
    "betas = []\n",
    "rhos = [];\n",
    "ended_first = \"covs\";\n",
    "C_jobs = [route_cost(route) for route in job_routes];\n",
    "C_covs = [route_cost(route) for route in cov_routes];\n",
    "y = compute_y(cov_routes);"
   ]
  },
  {
   "cell_type": "code",
   "execution_count": 724,
   "id": "a84908cc",
   "metadata": {
    "scrolled": false
   },
   "outputs": [
    {
     "name": "stdout",
     "output_type": "stream",
     "text": [
      "11226.031501854573\n",
      "8720.086088862961\n",
      "7556.169452917771\n",
      "7556.169452917771\n",
      "6872.257263749283\n",
      "6872.257263749283\n",
      "6331.471683050306\n",
      "6331.471683050306\n",
      "6331.471683050306\n",
      "6331.471683050306\n",
      "6331.471683050306\n",
      "6331.471683050306\n",
      "6156.3897432584945\n",
      "6156.3897432584945\n",
      "6119.873933129454\n",
      "6052.70593144197\n",
      "6023.494804244265\n",
      "6010.396873637833\n",
      "5935.54526725353\n",
      "5743.478796664273\n",
      "5686.622478720745\n",
      "5501.268553866426\n",
      "5480.380360043878\n",
      "5468.443238467022\n",
      "5468.443238467022\n",
      "5468.443238467022\n",
      "5438.675956088674\n",
      "5396.224871825759\n",
      "5382.733683548218\n",
      "5265.113336894007\n",
      "5178.028563599129\n",
      "5164.13811554445\n",
      "5151.40614615283\n",
      "5142.847778493577\n",
      "5093.189681139292\n",
      "5093.189681139292\n",
      "5084.073084351351\n",
      "5019.241521803721\n",
      "4995.797237969401\n",
      "4995.797237969401\n",
      "4984.262912579561\n",
      "4980.985395731159\n",
      "4951.974143357196\n",
      "4940.956949680048\n",
      "4940.956949680048\n",
      "4882.3582276931365\n",
      "4866.898370540522\n",
      "4854.891756611867\n",
      "4854.891756611867\n",
      "4848.502696576996\n",
      "4848.502696576996\n",
      "4848.502696576996\n",
      "4848.502696576996\n",
      "4848.502696576996\n",
      "4848.502696576996\n",
      "4848.502696576996\n",
      "4848.502696576996\n",
      "4848.502696576996\n",
      "4848.502696576996\n",
      "4848.502696576995\n",
      "4848.502696576996\n",
      "4848.502696576996\n",
      "4843.148414351902\n",
      "4810.961769296738\n",
      "4810.961769296738\n",
      "4810.961769296738\n",
      "4810.961769296738\n",
      "4810.961769296738\n",
      "4810.961769296738\n",
      "4810.961769296738\n",
      "4807.168274738088\n",
      "4807.168274738088\n",
      "4798.716734900214\n",
      "4798.716734900214\n",
      "4790.697240279507\n",
      "4790.697240279507\n",
      "4790.697240279507\n",
      "4790.697240279507\n",
      "4790.697240279507\n",
      "4790.697240279507\n",
      "4790.697240279507\n",
      "4790.697240279507\n",
      "4790.697240279507\n",
      "4790.697240279507\n",
      "4790.697240279507\n",
      "4790.697240279507\n",
      "4790.697240279507\n",
      "4790.697240279507\n",
      "4790.697240279507\n",
      "4790.697240279507\n",
      "4790.697240279507\n",
      "4790.697240279507\n",
      "4790.697240279507\n",
      "4790.697240279507\n",
      "4790.697240279507\n",
      "4790.697240279507\n",
      "4790.697240279507\n",
      "4790.697240279507\n",
      "4790.697240279507\n",
      "4790.697240279507\n",
      "4790.697240279507\n",
      "4790.697240279507\n",
      "4777.59624350444\n",
      "4777.59624350444\n",
      "4777.59624350444\n",
      "4777.59624350444\n",
      "4777.59624350444\n",
      "4777.59624350444\n",
      "4777.59624350444\n",
      "4777.59624350444\n",
      "4777.59624350444\n",
      "4777.59624350444\n",
      "4777.59624350444\n",
      "4777.59624350444\n",
      "4777.59624350444\n",
      "4777.59624350444\n",
      "4777.59624350444\n",
      "4777.59624350444\n",
      "4777.59624350444\n",
      "4777.59624350444\n",
      "4777.59624350444\n",
      "4777.59624350444\n",
      "4777.59624350444\n",
      "4777.59624350444\n",
      "4777.59624350444\n",
      "4777.59624350444\n",
      "4777.59624350444\n",
      "4777.59624350444\n",
      "ENDED!\n"
     ]
    }
   ],
   "source": [
    "keep_going = true\n",
    "while keep_going\n",
    "    u = compute_u(job_routes);\n",
    "    delta = compute_delta(job_routes);\n",
    "    y = compute_y(cov_routes);\n",
    "    Q = length(job_routes)\n",
    "    P = length(cov_routes);\n",
    "    \n",
    "    unregister(model, :z)\n",
    "    @variable(model, 0 <= z[1:Q] <= 1);\n",
    "    unregister(model, :x)\n",
    "    @variable(model, 0 <= x[1:P] <= 1);\n",
    "    \n",
    "    unregister(model, :job_visited_once)\n",
    "    @constraint(model, job_visited_once[i in 1:n_jobs], sum(u[i][q] * z[q] for q in 1:Q) >= 1);\n",
    "    unregister(model, :enough_job_vehicles)\n",
    "    @constraint(model, enough_job_vehicles, sum(z[q] for q in 1:Q) <= B);\n",
    "    unregister(model, :enough_cov_vehicles)\n",
    "    @constraint(model, enough_cov_vehicles, sum(x[p] for p in 1:P) <= V);\n",
    "    unregister(model, :must_be_covered)\n",
    "    @constraint(model, must_be_covered[i in 1:n_jobs, t in 1:T], \n",
    "    sum(sum(y[j][t][p] * x[p] for p in 1:P) for j in close_covs(i)) >= \n",
    "    sum(z[q] * delta[i][t][q] for q in 1:Q));\n",
    "    \n",
    "    @objective(model, Min, \n",
    "        sum(C_jobs[q] * z[q] for q in 1:Q) + \n",
    "        sum(C_covs[p] * x[p] for p in 1:P));\n",
    "    \n",
    "    optimize!(model)\n",
    "    last_z = value.(z)\n",
    "    last_x = value.(x)\n",
    "    # println(objective_value(model))\n",
    "\n",
    "    last_objective = objective_value(model)\n",
    "    println(last_objective)\n",
    "    \n",
    "    unregister(modual, :beta)\n",
    "    @variable(modual, beta >= 0)\n",
    "    unregister(modual, :rho)\n",
    "    @variable(modual, rho >= 0)\n",
    "    unregister(modual, :pi)\n",
    "    @variable(modual, pi[1:n_jobs] >= 0)\n",
    "    unregister(modual, :xi)\n",
    "    @variable(modual, xi[1:n_jobs, 1:T] >= 0)\n",
    "    \n",
    "    unregister(modual, :job_q)\n",
    "    @constraint(modual, job_q[q in 1:Q], -rho + sum(pi[i] * u[i][q] for i in 1:n_jobs) - \n",
    "        sum(sum(delta[i][t][q] * xi[i, t] for t in 1:T) for i in 1:n_jobs) <= C_jobs[q])\n",
    "    unregister(modual, :job_p)\n",
    "    @constraint(modual, job_p[p in 1:P], -beta + \n",
    "        sum(sum(sum(y[j][t][p] * xi[i, t] for j in close_covs(i)) for i in 1:n_jobs) for t in 1:T) <= C_covs[p])\n",
    "    \n",
    "    @objective(modual, Max, -B * rho - V * beta + sum(pi[i] for i in 1:n_jobs))\n",
    "    \n",
    "    optimize!(modual)\n",
    "    \n",
    "    pi = value.(pi)\n",
    "    push!(pis, pi)\n",
    "    rho = value.(rho)\n",
    "    push!(rhos, rho)\n",
    "    beta = value.(beta)\n",
    "    push!(betas, beta)\n",
    "    xi = value.(xi)\n",
    "    push!(xis, xi)\n",
    "    \n",
    "    contender_job_paths, contender_job_rcs, contender_job_times = job_sp(job_dists, job_travel_times, time_windows, work_load, rho, pi, xi);\n",
    "    contender_cov_paths, contender_cov_rcs, contender_cov_times = cov_sp(cov_dists, cov_travel_times, beta, xi)\n",
    "    \n",
    "    viable_job_paths, viable_job_rcs, viable_job_times = [], [], []\n",
    "    for index in 1:length(contender_job_paths)\n",
    "        contender_path = contender_job_paths[index]\n",
    "        contender_rc = contender_job_rcs[index]\n",
    "        if last(contender_path) == n_jobs + 1 && contender_rc < -1e-8\n",
    "            push!(viable_job_paths, contender_path)\n",
    "            push!(viable_job_rcs, contender_rc)\n",
    "            push!(viable_job_times, contender_job_times[index])\n",
    "        end\n",
    "    end\n",
    "    \n",
    "    viable_cov_paths, viable_cov_rcs, viable_cov_times = [], [], []\n",
    "    for index in 1:length(contender_cov_paths)\n",
    "        contender_path = contender_cov_paths[index]\n",
    "        contender_rc = contender_cov_rcs[index]\n",
    "        if last(contender_path) == n_jobs + 1 && contender_rc < -1e-8\n",
    "            push!(viable_cov_paths, contender_path)\n",
    "            push!(viable_cov_rcs, contender_rc)\n",
    "            push!(viable_cov_times, contender_cov_times[index])\n",
    "        end\n",
    "    end\n",
    "    \n",
    "    vj = length(viable_job_paths)\n",
    "    vc = length(viable_cov_paths)\n",
    "    \n",
    "    if vj < 1 && vc < 1\n",
    "        println(\"ENDED!\")\n",
    "        keep_going = false\n",
    "        #=\n",
    "        if vj < 1 && vc >= 1\n",
    "            ended_first = \"jobs\"\n",
    "        elseif vc < 1 && vj >= 1\n",
    "            ended_first = \"covs\"\n",
    "        else\n",
    "            ended_first = \"both\"\n",
    "        end\n",
    "        =#\n",
    "        \n",
    "        break\n",
    "    end\n",
    "    \n",
    "    if vj >= 1\n",
    "    \n",
    "        mindex = -1\n",
    "        best_rc = Inf\n",
    "\n",
    "        for i in 1:length(viable_job_paths)\n",
    "            if viable_job_rcs[i] < best_rc\n",
    "                best_rc = viable_job_rcs[i]\n",
    "                mindex = i\n",
    "            end\n",
    "        end\n",
    "\n",
    "        push!(rcs_q, best_rc)\n",
    "\n",
    "        viable_job_route = nodes_and_times_to_route(viable_job_paths[mindex], viable_job_times[mindex], \"job\");\n",
    "        push!(job_routes, viable_job_route);\n",
    "        \n",
    "    end\n",
    "    \n",
    "    if vc >= 1\n",
    "    \n",
    "        mindex = -1\n",
    "        best_rc = Inf\n",
    "        for i in 1:length(viable_cov_paths)\n",
    "            if viable_cov_rcs[i] < best_rc\n",
    "                best_rc = viable_cov_rcs[i]\n",
    "                mindex = i\n",
    "            end\n",
    "        end\n",
    "\n",
    "        push!(rcs_p, best_rc)\n",
    "\n",
    "        viable_cov_route = nodes_and_times_to_route(viable_cov_paths[mindex], viable_cov_times[mindex], \"cov\")\n",
    "        push!(cov_routes, viable_cov_route);\n",
    "        \n",
    "    end\n",
    "    \n",
    "    C_jobs = [route_cost(route) for route in job_routes];\n",
    "    C_covs = [route_cost(route) for route in cov_routes];\n",
    "    \n",
    "    #=\n",
    "    if viable_route == job_routes[end-1]\n",
    "        println(\"Same route encountered\")\n",
    "        break\n",
    "    end\n",
    "    =#\n",
    "end"
   ]
  },
  {
   "cell_type": "code",
   "execution_count": 725,
   "id": "a6aefe2f",
   "metadata": {
    "scrolled": true
   },
   "outputs": [
    {
     "data": {
      "text/plain": [
       "4777.59624350444"
      ]
     },
     "execution_count": 725,
     "metadata": {},
     "output_type": "execute_result"
    }
   ],
   "source": [
    "last_objective"
   ]
  },
  {
   "cell_type": "markdown",
   "id": "179375d7",
   "metadata": {},
   "source": [
    "# [10] Recover based on Parameters of the One that Ended First"
   ]
  },
  {
   "cell_type": "code",
   "execution_count": 726,
   "id": "41e727f7",
   "metadata": {},
   "outputs": [],
   "source": [
    "function get_jobs_cost(last_z, job_routes, C_jobs)\n",
    "    total = 0\n",
    "    for rindex in 1:length(last_z)\n",
    "        total += last_z[rindex] * C_jobs[rindex]\n",
    "    end\n",
    "    return total\n",
    "end;"
   ]
  },
  {
   "cell_type": "code",
   "execution_count": 727,
   "id": "f3e957bb",
   "metadata": {},
   "outputs": [],
   "source": [
    "function get_covs_cost(last_x, cov_routes, C_covs)\n",
    "    total = 0\n",
    "    for cindex in 1:length(last_x)\n",
    "        total += last_x[cindex] * C_covs[cindex]\n",
    "    end\n",
    "    return total\n",
    "end;"
   ]
  },
  {
   "cell_type": "code",
   "execution_count": 728,
   "id": "68a186c1",
   "metadata": {
    "scrolled": true
   },
   "outputs": [
    {
     "data": {
      "text/plain": [
       "2845.6632169349186"
      ]
     },
     "execution_count": 728,
     "metadata": {},
     "output_type": "execute_result"
    }
   ],
   "source": [
    "get_jobs_cost(last_z, job_routes, C_jobs)"
   ]
  },
  {
   "cell_type": "code",
   "execution_count": 729,
   "id": "ea5b2fab",
   "metadata": {
    "scrolled": true
   },
   "outputs": [
    {
     "data": {
      "text/plain": [
       "1931.9330265695219"
      ]
     },
     "execution_count": 729,
     "metadata": {},
     "output_type": "execute_result"
    }
   ],
   "source": [
    "get_covs_cost(last_x, cov_routes, C_covs)"
   ]
  },
  {
   "cell_type": "code",
   "execution_count": 730,
   "id": "73a5475e",
   "metadata": {},
   "outputs": [],
   "source": [
    "if ended_first == \"both\"\n",
    "    println(\"Our objective of \", last_objective, \" is optimal.\")\n",
    "end"
   ]
  },
  {
   "cell_type": "code",
   "execution_count": 731,
   "id": "fb1563c7",
   "metadata": {},
   "outputs": [],
   "source": [
    "function jobs_only_lsa(travel_distance, travel_time, windows, load, rho_v, pi_v)\n",
    "    N = [[0]] \n",
    "    Times = [ [0] ] \n",
    "    R = [rho_v]   \n",
    "    \n",
    "    NRC = [Inf for i in 1:n_jobs]\n",
    "\n",
    "    current_state = 1\n",
    "    total_state = 1\n",
    "\n",
    "    while 1==1\n",
    "        cur_path = N[current_state]\n",
    "        cur_last_node = last(cur_path)\n",
    "        \n",
    "        if cur_last_node == n_jobs+1\n",
    "            current_state += 1\n",
    "            if current_state > total_state\n",
    "                break\n",
    "            else\n",
    "                continue\n",
    "            end\n",
    "        end\n",
    "        \n",
    "        for i in 1:n_jobs+1\n",
    "            if ~(i in cur_path)\n",
    "                \n",
    "                prev_depart = last(Times[current_state])\n",
    "                dist_nec = travel_time[cur_last_node+1, i+1]\n",
    "                new_job_time_nec = i < n_jobs+1 ? load[i] : 0\n",
    "                new_window_start, new_window_close = (i < n_jobs + 1) ? (windows[i]) : (0, T+2)\n",
    "                proposed_time = prev_depart + dist_nec + new_job_time_nec\n",
    "                \n",
    "                if i != n_jobs+1\n",
    "                    if proposed_time > new_window_close\n",
    "                        continue\n",
    "                    end\n",
    "                end\n",
    "\n",
    "                reach_new_node_time = max(prev_depart + dist_nec, new_window_start)\n",
    "\n",
    "                \n",
    "                add_segdist = travel_distance[cur_last_node+1, i+1]\n",
    "                subtract_pi = i <= n_jobs ? -pi_v[i] : 0\n",
    "\n",
    "                proposed_cost = R[current_state] + add_segdist + subtract_pi\n",
    "                \n",
    "                if i <= n_jobs\n",
    "                    if proposed_cost > NRC[i]\n",
    "                        continue\n",
    "                    else\n",
    "                        NRC[i] = proposed_cost\n",
    "                    end\n",
    "                end\n",
    "\n",
    "                push!(N, copy(cur_path))\n",
    "                push!(N[total_state+1], i)\n",
    "                \n",
    "                new_times_array = copy(Times[current_state])\n",
    "                push!(new_times_array, reach_new_node_time)\n",
    "                push!(new_times_array, reach_new_node_time+new_job_time_nec)\n",
    "                push!(Times, new_times_array)\n",
    "\n",
    "                push!(R, proposed_cost)\n",
    "\n",
    "                total_state += 1\n",
    "\n",
    "            end\n",
    "        end\n",
    "\n",
    "        current_state += 1 \n",
    "        if current_state == total_state\n",
    "            # print(current_state, \" \", total_state, \" came from bottom\")\n",
    "            break\n",
    "        end     \n",
    "    end\n",
    "\n",
    "    return N, R, Times\n",
    "end;"
   ]
  },
  {
   "cell_type": "code",
   "execution_count": 732,
   "id": "a926186a",
   "metadata": {},
   "outputs": [],
   "source": [
    "function modify_time_windows(y, time_windows, last_x)\n",
    "    #= If we cannot find coverage, remove it from that time window.\n",
    "    Assume no blips in the middle of dropped coverage, BECAUSE\n",
    "    whenever coverage vehicles are at a job, they must stay until the end of the job.\n",
    "    Therefore, once we get our array of valid times, the start and end will form\n",
    "    the valid interval.\n",
    "    =#\n",
    "    new_time_windows = []\n",
    "    for i in 1:length(time_windows)\n",
    "        new_window = []\n",
    "        for t in time_windows[i][1]:time_windows[i][2]\n",
    "            time_valid = false\n",
    "            if sum(sum(y[j][t][p] * last_x[p] for j in close_covs(i)) for p in 1:P) >= 1-1e-8\n",
    "                time_valid = true\n",
    "            end\n",
    "            \n",
    "            if time_valid\n",
    "                push!(new_window, t)\n",
    "            end\n",
    "        end\n",
    "        if length(new_window) == 0\n",
    "            println(\"FAILED! \", i)\n",
    "        end\n",
    "        push!(new_time_windows, [first(new_window), last(new_window)])\n",
    "    end\n",
    "    return new_time_windows\n",
    "end;"
   ]
  },
  {
   "cell_type": "code",
   "execution_count": 733,
   "id": "d0d5ff4f",
   "metadata": {
    "scrolled": false
   },
   "outputs": [
    {
     "name": "stdout",
     "output_type": "stream",
     "text": [
      "Set parameter Username\n",
      "Academic license - for non-commercial use only - expires 2023-09-04\n",
      "We're done\n"
     ]
    }
   ],
   "source": [
    "if ended_first == \"covs\"  \n",
    "    modelcg = Model(Gurobi.Optimizer);\n",
    "    set_optimizer_attribute(modelcg, \"OutputFlag\", 0);\n",
    "    \n",
    "    keep_going = true\n",
    "\n",
    "    last_z = 0\n",
    "    pis = []\n",
    "    rhos = []\n",
    "    OBJ = 0\n",
    "\n",
    "    while keep_going\n",
    "        u = compute_u(job_routes)\n",
    "        delta = compute_delta(job_routes)\n",
    "        Q = length(job_routes)\n",
    "        C_jobs = [route_cost(route) for route in job_routes]\n",
    "\n",
    "        unregister(modelcg, :z)\n",
    "        @variable(modelcg, 0 <= z[1:Q] <= 1) # should be Bin\n",
    "\n",
    "        unregister(modelcg, :unique)\n",
    "        @constraint(modelcg, unique[i in 1:n_jobs], sum(u[i][q] * z[q] for q in 1:Q) >= 1);\n",
    "\n",
    "        unregister(modelcg, :driver)\n",
    "        @constraint(modelcg, driver, sum(z[q] for q in 1:Q) <= B)\n",
    "\n",
    "        @objective(modelcg, Min, sum(C_jobs[q] * z[q] for q in 1:Q));\n",
    "\n",
    "        optimize!(modelcg)\n",
    "        OBJ = objective_value(modelcg)\n",
    "\n",
    "        last_z = value.(z)\n",
    "\n",
    "        pi_values = dual.(unique)\n",
    "        rho_value = dual.(driver)\n",
    "        push!(pis, pi_values)\n",
    "        push!(rhos, rho_value)\n",
    "\n",
    "        sub_paths, sub_rcs, sub_times = jobs_only_lsa(job_dists, job_travel_times, modify_time_windows(y, time_windows, last_x), work_load, rho_value, pi_values)\n",
    "        \n",
    "        mindex = -1\n",
    "        best_rc = Inf\n",
    "        for index in 1:length(sub_paths)\n",
    "            sub_path = sub_paths[index]\n",
    "            if last(sub_path) == n_jobs+1 && sub_rcs[index] < -1e-8 && best_rc > sub_rcs[index]\n",
    "                mindex = index\n",
    "                best_rc = sub_rcs[index]\n",
    "            end\n",
    "        end\n",
    "\n",
    "        if mindex == -1\n",
    "            println(\"We're done\")\n",
    "            keep_going = false\n",
    "            break\n",
    "        end\n",
    "        \n",
    "        viable_job_route = nodes_and_times_to_route(sub_paths[mindex], sub_times[mindex], \"job\");\n",
    "        push!(job_routes, viable_job_route);\n",
    "    end\n",
    "end"
   ]
  },
  {
   "cell_type": "code",
   "execution_count": 734,
   "id": "66223c1a",
   "metadata": {
    "scrolled": true
   },
   "outputs": [
    {
     "data": {
      "text/plain": [
       "2845.6632169349186"
      ]
     },
     "execution_count": 734,
     "metadata": {},
     "output_type": "execute_result"
    }
   ],
   "source": [
    "get_jobs_cost(last_z, job_routes, C_jobs)"
   ]
  },
  {
   "cell_type": "code",
   "execution_count": 735,
   "id": "e9c8b494",
   "metadata": {},
   "outputs": [
    {
     "data": {
      "text/plain": [
       "1931.9330265695219"
      ]
     },
     "execution_count": 735,
     "metadata": {},
     "output_type": "execute_result"
    }
   ],
   "source": [
    "get_covs_cost(last_x, cov_routes, C_covs)"
   ]
  },
  {
   "cell_type": "code",
   "execution_count": 736,
   "id": "9c75fbb3",
   "metadata": {},
   "outputs": [
    {
     "name": "stdout",
     "output_type": "stream",
     "text": [
      "FINAL COST: 4777.59624350444\n"
     ]
    }
   ],
   "source": [
    "println(\"FINAL COST: \", get_jobs_cost(last_z, job_routes, C_jobs) + get_covs_cost(last_x, cov_routes, C_covs))"
   ]
  },
  {
   "cell_type": "code",
   "execution_count": 737,
   "id": "080e7300",
   "metadata": {},
   "outputs": [],
   "source": [
    "if ended_first == \"jobs\"\n",
    "    # TODO: loop on covs\n",
    "end"
   ]
  }
 ],
 "metadata": {
  "kernelspec": {
   "display_name": "Julia 1.9.1",
   "language": "julia",
   "name": "julia-1.9"
  },
  "language_info": {
   "file_extension": ".jl",
   "mimetype": "application/julia",
   "name": "julia",
   "version": "1.9.1"
  }
 },
 "nbformat": 4,
 "nbformat_minor": 5
}
