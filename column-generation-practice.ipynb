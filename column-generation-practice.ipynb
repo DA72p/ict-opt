{
 "cells": [
  {
   "cell_type": "markdown",
   "id": "77510602",
   "metadata": {},
   "source": [
    "# Column Generation Practice\n",
    "\n",
    "It is critical for me to be well-versed here, and I've taken this week to code and build column generation models. I took the time to understand these models and it won't be long before I can apply this to the UROP."
   ]
  },
  {
   "cell_type": "markdown",
   "id": "3cfb9da1",
   "metadata": {},
   "source": [
    "## Cutting Stock Problem from JuMP\n",
    "\n",
    "Tutorial is sourced from https://jump.dev/JuMP.jl/stable/tutorials/algorithms/cutting_stock_column_generation/"
   ]
  },
  {
   "cell_type": "code",
   "execution_count": 1,
   "id": "2ece15ad",
   "metadata": {},
   "outputs": [],
   "source": [
    "using JuMP\n",
    "\n",
    "import GLPK\n",
    "import SparseArrays"
   ]
  },
  {
   "cell_type": "markdown",
   "id": "4f9a0b51",
   "metadata": {},
   "source": [
    "Cutting stock is a pretty famous problem and the most common problem used to introduce column generation. It is referenced in MIT optimization classes at 6.720 (Linear Optimization) lecture 21 and 15.083 (Integer Optimization) lectures 17 and 18.\n",
    "\n",
    "Suppose we had metal rods of a certain length $W$, and customers demanded $d_i$ rods each with length $w_i$. (The width of the rod is irrelevant). What is the LEAST number of metal rods of length $W$ we'd need to use to successfully cut all the rods for all the customers?\n",
    "\n",
    "The actual tutorial uses width of paper rolls, but that confused me, and the image used in Linear Optimization lecture is more akin to metal rods, so that's what I'm using. I kept the variables using W's instead of L's to fith the JuMP tutorial."
   ]
  },
  {
   "cell_type": "markdown",
   "id": "221a7bfc",
   "metadata": {},
   "source": [
    "## Data Display\n",
    "\n",
    "This initial function allows us to display the data for what we are doing."
   ]
  },
  {
   "cell_type": "code",
   "execution_count": 27,
   "id": "39ee913b",
   "metadata": {},
   "outputs": [
    {
     "data": {
      "text/plain": [
       "Data for the cutting stock problem:\n",
       " W = 100.0\n",
       "with pieces:\n",
       "   i  w_i   d_i\n",
       "   ------------\n",
       "   1  75.0  38\n",
       "   2  75.0  44\n",
       "   3  75.0  30\n",
       "   4  75.0  41\n",
       "   5  75.0  36\n",
       "   6  53.8  33\n",
       "   7  53.0  36\n",
       "   8  51.0  41\n",
       "   9  50.2  35\n",
       "  10  32.2  37\n",
       "  11  30.8  44\n",
       "  12  29.8  49\n",
       "  13  20.1  37\n",
       "  14  16.2  36\n",
       "  15  14.5  42\n",
       "  16  11.0  33\n",
       "  17   8.6  47\n",
       "  18   8.2  25\n",
       "  19   6.6  49\n",
       "  20   5.1  42\n"
      ]
     },
     "execution_count": 27,
     "metadata": {},
     "output_type": "execute_result"
    }
   ],
   "source": [
    "# code used in JuMP for a better structure: struct is like classes\n",
    "\n",
    "struct Piece # represents one of the many demands by the customer:\n",
    "    w::Float64 #length of a PIECE cut from a metal rod\n",
    "    d::Int # number of pieces that must be cut of the specified width\n",
    "end\n",
    "\n",
    "struct Data # represents all the demands of the customers, encoding a parameter for length too\n",
    "    pieces::Vector{Piece} #all the different demanded vectors\n",
    "    W::Float64 # the length of each metal rod\n",
    "end\n",
    "\n",
    "function Base.show(io::IO, d::Data)\n",
    "    \n",
    "    #print to set up beautiful text\n",
    "    println(io, \"Data for the cutting stock problem:\")\n",
    "    println(io, \" W = $(d.W)\")\n",
    "    println(io, \"with pieces:\")\n",
    "    println(io, \"   i  w_i   d_i\")\n",
    "    println(io, \"   ------------\")\n",
    "    \n",
    "    #for each data piece, print a row in the table\n",
    "    for (i, p) in enumerate(d.pieces)\n",
    "        println(io, lpad(i, 4), \" \", lpad(p.w, 5), \" \", lpad(p.d, 3))\n",
    "    end\n",
    "    return\n",
    "end\n",
    "\n",
    "function get_data()\n",
    "    #this is our custom data\n",
    "    data = [\n",
    "        75 38\n",
    "        75 44\n",
    "        75 30\n",
    "        75 41 # 4 rows\n",
    "        75 36\n",
    "        53.8 33\n",
    "        53 36\n",
    "        51 41 # 8 rows\n",
    "        50.2 35\n",
    "        32.2 37\n",
    "        30.8 44 # 11 rows\n",
    "        29.8 49\n",
    "        20.1 37\n",
    "        16.2 36 # 14 rows\n",
    "        14.5 42\n",
    "        11 33\n",
    "        8.6 47 # 17 rows\n",
    "        8.2 25\n",
    "        6.6 49\n",
    "        5.1 42 # 18 rows\n",
    "    ]\n",
    "    return Data([Piece(data[i, 1], data[i, 2]) for i in axes(data, 1)], 100)\n",
    "end\n",
    "\n",
    "data = get_data()"
   ]
  },
  {
   "cell_type": "markdown",
   "id": "0ad42338",
   "metadata": {},
   "source": [
    "## Formulation for Direct Scenario"
   ]
  },
  {
   "cell_type": "markdown",
   "id": "dc1f88d3",
   "metadata": {},
   "source": [
    "Formulation goes like this.\n",
    "\n",
    "Suppose that we have a large number of rolls which we can use, call it $J$ (this is some giant number, by default we can set it to $\\sum_i d_i$; in this case we'll use 1000). So roll number is variable $j$ from $1$ to $J = 1000$.\n",
    "\n",
    "There are two decision variables. One of them is $y_j$ representing whether we use roll $j$ or not (1 if yes, 0 if no). This is a binary variable. The other is $x_{ij}$ representing, for particular demand number $i$, how many rod segments from roll $j$ we cut for pieces of size $w_i$. $i$ ranges from $1$ to the number of different demands. $x_{ij}$ is integer.\n",
    "\n",
    "The objective is to MINIMIZE the total number of rolls used, which would be $\\sum_j y_j$."
   ]
  },
  {
   "cell_type": "markdown",
   "id": "e2ea99c7",
   "metadata": {},
   "source": [
    "Constraints:\n",
    "\n",
    "- $x_{ij}$ non-negative integer\n",
    "- $y_j$ binary\n",
    "- We cut at least the demand total: $\\sum_j x_{ij} \\geq d_i \\ \\forall i$\n",
    "- We have enough space to cut what we cut for each metal rod: $\\forall j, \\ \\sum_i w_i x_{ij} \\leq W y_j$ (if $y_j = 0$, then we cut nothing; if $y_j$ is 1, then we can cut at most up to $W$ for that rod)"
   ]
  },
  {
   "cell_type": "code",
   "execution_count": 28,
   "id": "cdc2e1fb",
   "metadata": {
    "scrolled": false
   },
   "outputs": [
    {
     "data": {
      "text/plain": [
       "A JuMP Model\n",
       "Minimization problem with:\n",
       "Variables: 21000\n",
       "Objective function type: AffExpr\n",
       "`AffExpr`-in-`MathOptInterface.GreaterThan{Float64}`: 20 constraints\n",
       "`AffExpr`-in-`MathOptInterface.LessThan{Float64}`: 1000 constraints\n",
       "`VariableRef`-in-`MathOptInterface.GreaterThan{Float64}`: 20000 constraints\n",
       "`VariableRef`-in-`MathOptInterface.Integer`: 20000 constraints\n",
       "`VariableRef`-in-`MathOptInterface.ZeroOne`: 1000 constraints\n",
       "Model mode: AUTOMATIC\n",
       "CachingOptimizer state: EMPTY_OPTIMIZER\n",
       "Solver name: GLPK\n",
       "Names registered in the model: x, y"
      ]
     },
     "execution_count": 28,
     "metadata": {},
     "output_type": "execute_result"
    }
   ],
   "source": [
    "I = length(data.pieces)\n",
    "\n",
    "J = 1000 # number of rolls\n",
    "\n",
    "model = Model(GLPK.Optimizer)\n",
    "@variable(model, x[1:I, 1:J] >= 0, Int, base_name = \"cuts\")\n",
    "@variable(model, y[1:J], Bin, base_name = \"rolls\")\n",
    "\n",
    "@constraint(model, [j in 1:J], sum(data.pieces[i].w * x[i, j] for i in 1:I) <= data.W * y[j], base_name = \"cut_each_rod\")\n",
    "@constraint(model, [i in 1:I], sum(x[i, j] for j in 1:J) >= data.pieces[i].d, base_name = \"cut_to_demand\")\n",
    "\n",
    "@objective(model, Min, sum(y[j] for j in 1:J))\n",
    "\n",
    "model\n",
    "#don't let it print! takes too long to format"
   ]
  },
  {
   "cell_type": "markdown",
   "id": "c9f56036",
   "metadata": {},
   "source": [
    "## Reformulation in Patterns"
   ]
  },
  {
   "cell_type": "markdown",
   "id": "de768350",
   "metadata": {},
   "source": [
    "The raw optimization will take too long, so we column generate... first, let's find some feasible solution.\n",
    "\n",
    "We can kinda cheat at the introduction, because one feasible solution would be to have 1 cut for each of the demand...meaning that $x_{ij} = 1$ specifically for $j = 1...d_1$ and $i=1$, then $x_{ij} = 1$ specifically for $j = d_1+1, ..., d_2$ with $i=2$, and so on, which is wasteful but it's feasible."
   ]
  },
  {
   "cell_type": "markdown",
   "id": "313b0979",
   "metadata": {},
   "source": [
    "We can reformulate based on the following: Suppose we took a look at a specific roll $j$. What are the different ways for which we can cut this roll? For instance, looking at $i = 18$, one feasible solution might be $x_{18, j} = 19$, meaning we cut 19 pieces of demand number 18 into roll $j$.\n",
    "\n",
    "Therefore, we can call each roll $j$ a pattern $p$, in which we decide how many pieces of demand type $i$ we carve into that rod. Each of these patterns is denoted as a $I$-dimensional vector. For example, $[0, 0, ..., 19]$ indicates the case in which demand number $18$ gets 19 pieces, but no other demand number gets any pieces.\n",
    "\n",
    "But <b>a pattern is not exactly a roll</b>. A pattern is a pattern, and we can have many rolls or no rolls or 1 roll which uses that pattern. For instance, maybe for 2 rolls we use the $[0, 0, ..., 19]$ pattern, it's just that now, by iterating over patterns instead of rolls, we get rid of the awkwardness of having to store $j$ for a roll (all rolls are the same, isn't it a bit weird to have to use enumerated rolls?) and also the awkwardness of having to use a $J = 1000$ to hope that 1000 is large enough to avoid any issues.\n",
    "\n",
    "In other words, a pattern is a vector of cuts, which can be taken up (or used, adopted, etc.) by a non-negative integer number of rolls. Then we reformulate $y_j$ (whether a roll is used) into $x_p$, denoting HOW MANY TIMES a pattern is used, while we will need to use indices within $p$, let's call it $a_{ip}$, denotes how many pieces of type $i$ we cut in roll number $p$.\n",
    "\n",
    "I was confused on this for quite some time. But a pattern is not exactly a roll, it... I explained it and I won't belabor the point."
   ]
  },
  {
   "cell_type": "markdown",
   "id": "b08896dd",
   "metadata": {},
   "source": [
    "It would mean we can express our solution based on different possibilities of cutting patterns $p = 1, ..., P$ where $a_{i, p}$ indicates the number of pieces for demand $i$ to be cut in pattern $p$. Then our reformulation looks as follows:\n",
    "\n",
    "MINIMIZE $\\sum_p x_p$, where $p$ represents literally all possible cutting patterns (this will be a terrifically large number, yes!), the summation goes from $1$ to $P$! (and there are a lot of cutting pattern vectors, for instance $[0, 0, ..., 0, 1, 1, 1, 1, 1, 1, 1]$ is another feasible one because 16+15+11+8.6+8.2+6.6+5.1 is 70.5 which is small enough to fit within one roll of length $W = 100$).\n",
    "\n",
    "Constraints: Integer $x_p \\geq 0$.\n",
    "\n",
    "Constraints: $\\sum_p a_{ip}x_p \\geq d_i \\ \\forall i$. Must satisfy demand."
   ]
  },
  {
   "cell_type": "markdown",
   "id": "cece27fc",
   "metadata": {},
   "source": [
    "Let's write this as one program:\n",
    "\n",
    "MINIMIZE $\\sum_{p=1}^P x_p$\n",
    "\n",
    "ST $\\sum_{p=1}^P a_{ip}x_p \\geq d_i \\ \\forall i = 1, ..., I$ (call this Eq. 1)\n",
    "\n",
    "$x_p \\geq 0, x_p \\in \\mathbb{Z}$"
   ]
  },
  {
   "cell_type": "markdown",
   "id": "f3f1336e",
   "metadata": {},
   "source": [
    "In particular, suppose we had some columns (i.e. possible $P$, a subset of the original $P$ which we will call $P_0$ which can be thought of as a vector of certain $p$'s we have chosen to be acceptable). How will we find a better column (i.e. new $p$ to be added)? \n",
    "\n",
    "Column generation: Relax integrality on $x$ and consider dual variable $\\pi_i$ associated with demand constraint $i$. In other words, in Eq. 1, each constraint would be its standalone, and then we would have a dual constraint associated with it. Specifically, this is shadow prices. If we increase demand for length type $i$ by 1, then we will need $\\pi_i$ rods."
   ]
  },
  {
   "cell_type": "markdown",
   "id": "2e500edc",
   "metadata": {},
   "source": [
    "One equation would be $\\sum_{p=1}^P a_{1, p}x_p \\geq d_1$."
   ]
  },
  {
   "cell_type": "markdown",
   "id": "950ed047",
   "metadata": {},
   "source": [
    "## Considering the Dual"
   ]
  },
  {
   "cell_type": "markdown",
   "id": "5ecb5d79",
   "metadata": {},
   "source": [
    "Then in the dual, remember that the dual swaps around the $c$ and $b$ matrices. Just a reminder: if we had\n",
    "\n",
    "MIN $3x_1 + 4x_2$\n",
    "\n",
    "such that $5x_1 + 6x_2 \\geq 7$ (first primal constraint: dual variable $y_1$)\n",
    "\n",
    "and $8x_1 + 9x_2 \\geq 10$ (second primal constraint: dual variable $y_2$)\n",
    "\n",
    "then our dual would be formed by\n",
    "\n",
    "MAX $7y_1 + 10y_2$\n",
    "\n",
    "such that $5y_1 + 8y_2 \\leq 3$ (first dual constraint: use first COLUMN of matrix A and first coefficient of objective)\n",
    "\n",
    "and $6y_1 + 9y_2 \\leq 4$ (second dual constraint: use second COLUMN Of matrix A and second coefficient of objective)"
   ]
  },
  {
   "cell_type": "markdown",
   "id": "041121fb",
   "metadata": {},
   "source": [
    "That means if our PRIMAL equations were formed by:\n",
    "\n",
    "$a_{1, 1}x_1  + a_{1, 2}x_2 + \\dots + a_{1, P}x_P \\geq d_1$\n",
    "\n",
    "$a_{2, 1}x_1  + a_{2, 2}x_2 + \\dots + a_{2, P}x_P \\geq d_2$\n",
    "\n",
    "$a_{3, 1}x_1  + a_{3, 2}x_2 + \\dots + a_{3, P}x_P \\geq d_3$...\n",
    "\n",
    "($A$ would be a $I$ by $P$ matrix)\n",
    "\n",
    "and our objective is MIN $x_1 + x_2 + ...$ (this is a $1$ by $P$ matrix; all coefficients are $1$)\n",
    "\n",
    "then our DUAL would be constructed as follows:\n",
    "\n",
    "Since we have $I$ constraints for the primal, we would have $I$ dual variables, call them $\\pi_i$.\n",
    "\n",
    "We would have $P$ constraints:\n",
    "\n",
    "$a_{1, 1} \\pi_1 + a_{2, 1} \\pi_2 + \\dots + a_{I, 1} \\pi_I \\leq 1$\n",
    "\n",
    "$a_{1, 2} \\pi_1 + a_{2, 2} \\pi_2 + \\dots + a_{I, 2} \\pi_I \\leq 1$\n",
    "\n",
    "$a_{1, 3} \\pi_1 + a_{2, 3} \\pi_2 + \\dots + a_{I, 3} \\pi_I \\leq 1$...\n",
    "\n",
    "and our objective is MAX $\\pi_1 d_1 + ... + \\pi_I d_I$ (this is a $1$ by $I$ matrix)"
   ]
  },
  {
   "cell_type": "markdown",
   "id": "9db2b1aa",
   "metadata": {},
   "source": [
    "To summarize:\n",
    "\n",
    "Let $x$ be our decision variables, a column vector of $P$ by 1.\n",
    "\n",
    "Then our matrix $A$ is a $I$ by $P$ matrix, multiply $Ax$ is $I$ by $P$ times $P$ times $1$ = \n",
    "\n",
    "$b$ which is a $I$ by $1$ column vector.\n",
    "\n",
    "And our matrix $c$ is $1$ by $P$, also column (we use MIN $c^Tx$)."
   ]
  },
  {
   "cell_type": "markdown",
   "id": "e51a6a9f",
   "metadata": {},
   "source": [
    "Meanwhile in the dual,\n",
    "\n",
    "we let $\\pi$ be our decision variables, a column vector of $I$ by 1.\n",
    "\n",
    "Then our matrix $A^T$ is $I$ by $P$, and then our \"$b$\" in the dual will be $c$.\n",
    "\n",
    "And for our objective MAX, we use $b^T$."
   ]
  },
  {
   "cell_type": "markdown",
   "id": "eecc0478",
   "metadata": {},
   "source": [
    "So to summarize, our old primal formulation is\n",
    "\n",
    "MINIMIZE $\\sum_{p=1}^P x_p$\n",
    "\n",
    "ST $\\sum_{p=1}^P a_{ip}x_p \\geq d_i \\ \\forall i = 1, ..., I$ (call this Eq. 1)\n",
    "\n",
    "$x_p \\geq 0, x_p \\in \\mathbb{Z}$\n",
    "\n",
    "and our new dual formulation is\n",
    "\n",
    "MAX $\\sum_{i=1}^I \\pi_i d_i$\n",
    "\n",
    "such that\n",
    "\n",
    "$\\forall p = 1, ..., P, \\ \\sum_{i=1}^I a_{i, p} \\pi_i \\leq 1$\n",
    "\n",
    "One can compare this to 6.720 lecture 21 slide 12, in which $c_p$ is $1$ in this case."
   ]
  },
  {
   "cell_type": "markdown",
   "id": "144efeec",
   "metadata": {},
   "source": [
    "## Prepare the Dual"
   ]
  },
  {
   "cell_type": "markdown",
   "id": "b4cbc810",
   "metadata": {},
   "source": [
    "Anyways, back to the economic interpretation. We note that $\\pi_i$ is equivalent to how many rolls we can save, so we want this to be as big as possible. Now, we will change our dual formulation a bit. \n",
    "\n",
    "We want to add columns (i.e. new patterns) to our original set $P_0$ to make it bigger. So suppose we looked for a certain potential pattern, call it $y$. Then this has $I$ elements. We want to maximize the savings possible for a certain new potential pattern, so this means we maximize $\\sum_{i=1}^I \\pi_i y_i$. The only true constraint is that we need to make sure such a pattern is cuttable, so similar to how we forced feasibility with our original partitions (which we assumed to be valid), we will need that same constraint here:\n",
    "\n",
    "$\\sum_{i=1}^I w_i y_i \\leq W$. Basically, for any vector of a partition/pattern, make sure that it is actually cuttable for that one rod.\n",
    "\n",
    "And of course we need the constraint that $y$ is a non-negative integer vector."
   ]
  },
  {
   "cell_type": "markdown",
   "id": "835afdb7",
   "metadata": {},
   "source": [
    "This problem is the <b>pricing problem</b>. We want the MAX to have value greater than 1, otherwise, it was not worth adding the roll. The reason why is because all the coefficients in the dual on the RHS were 1."
   ]
  },
  {
   "cell_type": "markdown",
   "id": "d0d3fa6a",
   "metadata": {},
   "source": [
    "## Solving the Subproblem: Pricing Problem"
   ]
  },
  {
   "cell_type": "code",
   "execution_count": 29,
   "id": "10c9272f",
   "metadata": {},
   "outputs": [
    {
     "data": {
      "text/plain": [
       "solve_pricing (generic function with 1 method)"
      ]
     },
     "execution_count": 29,
     "metadata": {},
     "output_type": "execute_result"
    }
   ],
   "source": [
    "function solve_pricing(data::Data, π::Vector{Float64})\n",
    "    I = length(π)\n",
    "    model = Model(GLPK.Optimizer)\n",
    "    @variable(model, y[1:I] >= 0, Int)\n",
    "    @constraint(model, sum(data.pieces[i].w * y[i] for i in 1:I) <= data.W)\n",
    "    @objective(model, Max, sum(π[i] * y[i] for i in 1:I))\n",
    "    optimize!(model)\n",
    "    \n",
    "    # this will allow us to generate some solutions\n",
    "    if objective_value(model) > 1\n",
    "        #solution is worth adding\n",
    "        println(\"Better solution found! It has a pattern vector of $(y)!\")\n",
    "        return round.(Int, value.(y)) # might have some decimal residues\n",
    "    end\n",
    "    return nothing\n",
    "end"
   ]
  },
  {
   "cell_type": "markdown",
   "id": "4f345014",
   "metadata": {},
   "source": [
    "## Choose some Trivial Example for Initializing $P_0$"
   ]
  },
  {
   "cell_type": "code",
   "execution_count": 30,
   "id": "776bddf6",
   "metadata": {},
   "outputs": [
    {
     "data": {
      "text/plain": [
       "20"
      ]
     },
     "execution_count": 30,
     "metadata": {},
     "output_type": "execute_result"
    }
   ],
   "source": [
    "# Just...patterns which cut enough for the demand... so be lazy, choose I total patterns\n",
    "#this is feasible because have enough of the cut and we're through!\n",
    "lazy_p0 = Vector{Int}[]\n",
    "\n",
    "for i in 1:I\n",
    "    pattern = zeros(Int, I)\n",
    "    pattern[i] = floor(Int, min(data.W / data.pieces[i].w, data.pieces[i].d))\n",
    "    push!(lazy_p0, pattern) \n",
    "end\n",
    "\n",
    "P = length(lazy_p0)"
   ]
  },
  {
   "cell_type": "code",
   "execution_count": 31,
   "id": "33e5a4f4",
   "metadata": {
    "scrolled": true
   },
   "outputs": [
    {
     "name": "stdout",
     "output_type": "stream",
     "text": [
      "Shape of Patterns:\n",
      "\n",
      "[1, 0, 0, 0, 0, 0, 0, 0, 0, 0, 0, 0, 0, 0, 0, 0, 0, 0, 0, 0]\n",
      "[0, 1, 0, 0, 0, 0, 0, 0, 0, 0, 0, 0, 0, 0, 0, 0, 0, 0, 0, 0]\n",
      "[0, 0, 1, 0, 0, 0, 0, 0, 0, 0, 0, 0, 0, 0, 0, 0, 0, 0, 0, 0]\n",
      "[0, 0, 0, 1, 0, 0, 0, 0, 0, 0, 0, 0, 0, 0, 0, 0, 0, 0, 0, 0]\n",
      "[0, 0, 0, 0, 1, 0, 0, 0, 0, 0, 0, 0, 0, 0, 0, 0, 0, 0, 0, 0]\n",
      "[0, 0, 0, 0, 0, 1, 0, 0, 0, 0, 0, 0, 0, 0, 0, 0, 0, 0, 0, 0]\n",
      "[0, 0, 0, 0, 0, 0, 1, 0, 0, 0, 0, 0, 0, 0, 0, 0, 0, 0, 0, 0]\n",
      "[0, 0, 0, 0, 0, 0, 0, 1, 0, 0, 0, 0, 0, 0, 0, 0, 0, 0, 0, 0]\n",
      "[0, 0, 0, 0, 0, 0, 0, 0, 1, 0, 0, 0, 0, 0, 0, 0, 0, 0, 0, 0]\n",
      "[0, 0, 0, 0, 0, 0, 0, 0, 0, 3, 0, 0, 0, 0, 0, 0, 0, 0, 0, 0]\n",
      "[0, 0, 0, 0, 0, 0, 0, 0, 0, 0, 3, 0, 0, 0, 0, 0, 0, 0, 0, 0]\n",
      "[0, 0, 0, 0, 0, 0, 0, 0, 0, 0, 0, 3, 0, 0, 0, 0, 0, 0, 0, 0]\n",
      "[0, 0, 0, 0, 0, 0, 0, 0, 0, 0, 0, 0, 4, 0, 0, 0, 0, 0, 0, 0]\n",
      "[0, 0, 0, 0, 0, 0, 0, 0, 0, 0, 0, 0, 0, 6, 0, 0, 0, 0, 0, 0]\n",
      "[0, 0, 0, 0, 0, 0, 0, 0, 0, 0, 0, 0, 0, 0, 6, 0, 0, 0, 0, 0]\n",
      "[0, 0, 0, 0, 0, 0, 0, 0, 0, 0, 0, 0, 0, 0, 0, 9, 0, 0, 0, 0]\n",
      "[0, 0, 0, 0, 0, 0, 0, 0, 0, 0, 0, 0, 0, 0, 0, 0, 11, 0, 0, 0]\n",
      "[0, 0, 0, 0, 0, 0, 0, 0, 0, 0, 0, 0, 0, 0, 0, 0, 0, 12, 0, 0]\n",
      "[0, 0, 0, 0, 0, 0, 0, 0, 0, 0, 0, 0, 0, 0, 0, 0, 0, 0, 15, 0]\n",
      "[0, 0, 0, 0, 0, 0, 0, 0, 0, 0, 0, 0, 0, 0, 0, 0, 0, 0, 0, 19]\n"
     ]
    }
   ],
   "source": [
    "println(\"Shape of Patterns:\\n\")\n",
    "for row in lazy_p0\n",
    "    println(row)\n",
    "end"
   ]
  },
  {
   "cell_type": "code",
   "execution_count": 32,
   "id": "29629355",
   "metadata": {},
   "outputs": [
    {
     "data": {
      "text/plain": [
       "20×20 SparseArrays.SparseMatrixCSC{Int64, Int64} with 20 stored entries:\n",
       "⠑⢄⠀⠀⠀⠀⠀⠀⠀⠀\n",
       "⠀⠀⠑⢄⠀⠀⠀⠀⠀⠀\n",
       "⠀⠀⠀⠀⠑⢄⠀⠀⠀⠀\n",
       "⠀⠀⠀⠀⠀⠀⠑⢄⠀⠀\n",
       "⠀⠀⠀⠀⠀⠀⠀⠀⠑⢄"
      ]
     },
     "execution_count": 32,
     "metadata": {},
     "output_type": "execute_result"
    }
   ],
   "source": [
    "# Alternatively, see non-zero elements\n",
    "\n",
    "SparseArrays.sparse(hcat(lazy_p0...))"
   ]
  },
  {
   "cell_type": "markdown",
   "id": "4db363ea",
   "metadata": {},
   "source": [
    "Note that our initial set $P_0$ is a feasible set of $I$ different patterns...the true $P$ is likely to be much larger obviously."
   ]
  },
  {
   "cell_type": "markdown",
   "id": "24fc90a1",
   "metadata": {},
   "source": [
    "## Putting it All Together"
   ]
  },
  {
   "cell_type": "markdown",
   "id": "102babc6",
   "metadata": {},
   "source": [
    "### Initial Stage: Model\n",
    "\n",
    "Follow the initial formulation PRIMAL:\n",
    "\n",
    "MINIMIZE $\\sum_{p=1}^P x_p$\n",
    "\n",
    "ST $\\sum_{p=1}^P a_{ip}x_p \\geq d_i \\ \\forall i = 1, ..., I$ (call this Eq. 1)\n",
    "\n",
    "$x_p \\geq 0, x_p \\in \\mathbb{Z}$"
   ]
  },
  {
   "cell_type": "code",
   "execution_count": 46,
   "id": "12abc69a",
   "metadata": {
    "scrolled": true
   },
   "outputs": [
    {
     "data": {
      "text/plain": [
       "A JuMP Model\n",
       "Minimization problem with:\n",
       "Variables: 20\n",
       "Objective function type: AffExpr\n",
       "`AffExpr`-in-`MathOptInterface.EqualTo{Float64}`: 20 constraints\n",
       "`VariableRef`-in-`MathOptInterface.GreaterThan{Float64}`: 20 constraints\n",
       "Model mode: AUTOMATIC\n",
       "CachingOptimizer state: EMPTY_OPTIMIZER\n",
       "Solver name: GLPK\n",
       "Names registered in the model: demand, x"
      ]
     },
     "execution_count": 46,
     "metadata": {},
     "output_type": "execute_result"
    }
   ],
   "source": [
    "model = Model(GLPK.Optimizer)\n",
    "@variable(model, x[1:P] >= 0)\n",
    "@objective(model, Min, sum(x))\n",
    "@constraint(model, demand[i=1:I], lazy_p0[i]' * x == data.pieces[i].d)\n",
    "model"
   ]
  },
  {
   "cell_type": "markdown",
   "id": "025a4682",
   "metadata": {},
   "source": [
    "### Perform Column Generation"
   ]
  },
  {
   "cell_type": "code",
   "execution_count": 47,
   "id": "7d0174f4",
   "metadata": {
    "scrolled": false
   },
   "outputs": [
    {
     "name": "stdout",
     "output_type": "stream",
     "text": [
      "\n",
      "Solving the PRIMAL with a lazy_p0 of length 86\n",
      "Model SOLVED.\n",
      "The dual vector is [1.0, 1.0, 1.0, 1.0, 1.0, 1.0, 1.0, 1.0, 1.0, 0.3333333333333333, 0.3333333333333333, 0.3333333333333333, 0.25, 0.16666666666666666, 0.16666666666666666, 0.1111111111111111, 0.09090909090909091, 0.08333333333333333, 0.06666666666666667, 0.05263157894736842].\n",
      "Better solution found! It has a pattern vector of VariableRef[y[1], y[2], y[3], y[4], y[5], y[6], y[7], y[8], y[9], y[10], y[11], y[12], y[13], y[14], y[15], y[16], y[17], y[18], y[19], y[20]]!\n",
      "The new solution we found was [0, 0, 0, 0, 0, 0, 0, 1, 0, 0, 0, 0, 2, 0, 0, 0, 1, 0, 0, 0].\n",
      "We found something! Now the new P_0 is going to have length 87!\n",
      "\n",
      "Solving the PRIMAL with a lazy_p0 of length 87\n",
      "Model SOLVED.\n",
      "The dual vector is [1.0, 1.0, 1.0, 1.0, 1.0, 1.0, 1.0, 1.0, 1.0, 0.3333333333333333, 0.3333333333333333, 0.3333333333333333, -0.04545454545454547, 0.16666666666666666, 0.16666666666666666, 0.1111111111111111, 0.09090909090909091, 0.08333333333333333, 0.06666666666666667, 0.05263157894736842].\n",
      "Better solution found! It has a pattern vector of VariableRef[y[1], y[2], y[3], y[4], y[5], y[6], y[7], y[8], y[9], y[10], y[11], y[12], y[13], y[14], y[15], y[16], y[17], y[18], y[19], y[20]]!\n",
      "The new solution we found was [0, 0, 0, 0, 0, 0, 0, 0, 1, 0, 0, 1, 0, 0, 1, 0, 0, 0, 0, 1].\n",
      "We found something! Now the new P_0 is going to have length 88!\n",
      "\n",
      "Solving the PRIMAL with a lazy_p0 of length 88\n",
      "Model SOLVED.\n",
      "The dual vector is [1.0, 1.0, 1.0, 1.0, 1.0, 1.0, 1.0, 1.0, 0.4473684210526317, 0.3333333333333333, 0.3333333333333333, 0.3333333333333333, -0.04545454545454547, 0.16666666666666666, 0.16666666666666666, 0.1111111111111111, 0.09090909090909091, 0.08333333333333333, 0.06666666666666667, 0.05263157894736842].\n",
      "Better solution found! It has a pattern vector of VariableRef[y[1], y[2], y[3], y[4], y[5], y[6], y[7], y[8], y[9], y[10], y[11], y[12], y[13], y[14], y[15], y[16], y[17], y[18], y[19], y[20]]!\n",
      "The new solution we found was [0, 0, 0, 0, 0, 0, 0, 1, 0, 0, 0, 0, 0, 0, 3, 0, 0, 0, 0, 1].\n",
      "We found something! Now the new P_0 is going to have length 89!\n",
      "\n",
      "Solving the PRIMAL with a lazy_p0 of length 89\n",
      "Model SOLVED.\n",
      "The dual vector is [1.0, 1.0, 1.0, 1.0, 1.0, 1.0, 1.0, 1.0, 0.6315789473684211, 0.3333333333333333, 0.3333333333333333, 0.3333333333333333, -0.04545454545454547, 0.16666666666666666, -0.01754385964912279, 0.1111111111111111, 0.09090909090909091, 0.08333333333333333, 0.06666666666666667, 0.05263157894736842].\n",
      "Better solution found! It has a pattern vector of VariableRef[y[1], y[2], y[3], y[4], y[5], y[6], y[7], y[8], y[9], y[10], y[11], y[12], y[13], y[14], y[15], y[16], y[17], y[18], y[19], y[20]]!\n",
      "The new solution we found was [0, 0, 0, 0, 0, 0, 0, 1, 0, 0, 0, 1, 0, 0, 0, 0, 1, 0, 0, 2].\n",
      "We found something! Now the new P_0 is going to have length 90!\n",
      "\n",
      "Solving the PRIMAL with a lazy_p0 of length 90\n",
      "Model SOLVED.\n",
      "The dual vector is [1.0, 1.0, 1.0, 1.0, 1.0, 1.0, 1.0, 1.0, 0.8080808080808082, 0.3333333333333333, 0.3333333333333333, 0.3333333333333333, -0.04545454545454547, 0.16666666666666666, 0.07070707070707072, 0.1111111111111111, 0.09090909090909091, 0.08333333333333333, 0.06666666666666667, -0.21212121212121215].\n",
      "Better solution found! It has a pattern vector of VariableRef[y[1], y[2], y[3], y[4], y[5], y[6], y[7], y[8], y[9], y[10], y[11], y[12], y[13], y[14], y[15], y[16], y[17], y[18], y[19], y[20]]!\n",
      "The new solution we found was [0, 0, 0, 0, 0, 0, 0, 1, 0, 0, 0, 1, 0, 0, 0, 1, 0, 1, 0, 0].\n",
      "We found something! Now the new P_0 is going to have length 91!\n",
      "\n",
      "Solving the PRIMAL with a lazy_p0 of length 91\n",
      "Model SOLVED.\n",
      "The dual vector is [1.0, 1.0, 1.0, 1.0, 1.0, 1.0, 1.0, 0.8800505050505051, 1.0, 0.3333333333333333, 0.3333333333333333, -0.0744949494949495, 0.014520202020201989, 0.16666666666666666, 0.022727272727272763, 0.1111111111111111, 0.09090909090909091, 0.08333333333333333, 0.06666666666666667, 0.05176767676767674].\n",
      "Better solution found! It has a pattern vector of VariableRef[y[1], y[2], y[3], y[4], y[5], y[6], y[7], y[8], y[9], y[10], y[11], y[12], y[13], y[14], y[15], y[16], y[17], y[18], y[19], y[20]]!\n",
      "The new solution we found was [0, 0, 0, 0, 0, 0, 0, 0, 1, 0, 1, 0, 0, 0, 0, 0, 1, 0, 0, 2].\n",
      "We found something! Now the new P_0 is going to have length 92!\n",
      "\n",
      "Solving the PRIMAL with a lazy_p0 of length 92\n",
      "Model SOLVED.\n",
      "The dual vector is [1.0, 1.0, 1.0, 1.0, 1.0, 1.0, 1.0, 0.7481060606060607, 1.0, 0.3333333333333333, 0.3333333333333333, 0.057449494949494945, 0.0804924242424242, 0.16666666666666666, 0.15467171717171718, 0.1111111111111111, 0.09090909090909091, 0.08333333333333333, 0.06666666666666667, -0.21212121212121215].\n",
      "Better solution found! It has a pattern vector of VariableRef[y[1], y[2], y[3], y[4], y[5], y[6], y[7], y[8], y[9], y[10], y[11], y[12], y[13], y[14], y[15], y[16], y[17], y[18], y[19], y[20]]!\n",
      "The new solution we found was [0, 0, 0, 0, 0, 0, 0, 0, 1, 0, 0, 0, 0, 0, 0, 0, 5, 0, 1, 0].\n",
      "We found something! Now the new P_0 is going to have length 93!\n",
      "\n",
      "Solving the PRIMAL with a lazy_p0 of length 93\n",
      "Model SOLVED.\n",
      "The dual vector is [1.0, 1.0, 1.0, 1.0, 1.0, 1.0, 1.0, 0.4875, 0.47878787878787876, 0.3333333333333333, 0.3333333333333333, 0.3180555555555556, 0.21079545454545454, 0.16666666666666666, 0.15467171717171718, 0.1111111111111111, 0.09090909090909091, 0.08333333333333333, 0.06666666666666667, 0.048484848484848464].\n",
      "Better solution found! It has a pattern vector of VariableRef[y[1], y[2], y[3], y[4], y[5], y[6], y[7], y[8], y[9], y[10], y[11], y[12], y[13], y[14], y[15], y[16], y[17], y[18], y[19], y[20]]!\n",
      "The new solution we found was [0, 0, 0, 0, 0, 0, 1, 0, 0, 0, 1, 0, 0, 1, 0, 0, 0, 0, 0, 0].\n",
      "We found something! Now the new P_0 is going to have length 94!\n",
      "\n",
      "Solving the PRIMAL with a lazy_p0 of length 94\n",
      "Model SOLVED.\n",
      "The dual vector is [1.0, 1.0, 1.0, 1.0, 1.0, 1.0, 0.5, 0.4875, 0.47878787878787876, 0.3333333333333333, 0.3333333333333333, 0.3180555555555556, 0.21079545454545454, 0.16666666666666666, 0.15467171717171718, 0.1111111111111111, 0.09090909090909091, 0.08333333333333333, 0.06666666666666667, 0.04848484848484849].\n",
      "Better solution found! It has a pattern vector of VariableRef[y[1], y[2], y[3], y[4], y[5], y[6], y[7], y[8], y[9], y[10], y[11], y[12], y[13], y[14], y[15], y[16], y[17], y[18], y[19], y[20]]!\n",
      "The new solution we found was [0, 0, 0, 0, 0, 1, 0, 0, 0, 0, 0, 0, 0, 0, 2, 0, 2, 0, 0, 0].\n",
      "We found something! Now the new P_0 is going to have length 95!\n",
      "\n",
      "Solving the PRIMAL with a lazy_p0 of length 95\n",
      "Model SOLVED.\n",
      "The dual vector is [1.0, 1.0, 1.0, 1.0, 1.0, 1.0, 0.5, 0.47222222222222227, 0.7666666666666667, 0.3333333333333333, 0.3333333333333333, 0.3333333333333333, 0.2472222222222222, 0.16666666666666666, -0.033333333333333326, 0.1111111111111111, 0.03333333333333333, 0.08333333333333333, 0.06666666666666667, -0.06666666666666667].\n",
      "Better solution found! It has a pattern vector of VariableRef[y[1], y[2], y[3], y[4], y[5], y[6], y[7], y[8], y[9], y[10], y[11], y[12], y[13], y[14], y[15], y[16], y[17], y[18], y[19], y[20]]!\n",
      "The new solution we found was [0, 0, 0, 0, 0, 1, 0, 0, 0, 0, 0, 0, 1, 0, 0, 1, 0, 1, 1, 0].\n",
      "We found something! Now the new P_0 is going to have length 96!\n",
      "\n",
      "Solving the PRIMAL with a lazy_p0 of length 96\n",
      "Model SOLVED.\n",
      "The dual vector is [1.0, 1.0, 1.0, 1.0, 1.0, 1.0, 0.7222222222222222, 1.0, 0.9580246913580246, 0.3333333333333333, 0.11111111111111116, 0.06913580246913573, 0.002469135802469144, 0.16666666666666666, 0.004938271604938316, 0.1111111111111111, -0.004938271604938316, -0.18024691358024691, 0.06666666666666667, -0.032098765432098664].\n",
      "Better solution found! It has a pattern vector of VariableRef[y[1], y[2], y[3], y[4], y[5], y[6], y[7], y[8], y[9], y[10], y[11], y[12], y[13], y[14], y[15], y[16], y[17], y[18], y[19], y[20]]!\n",
      "The new solution we found was [0, 0, 0, 0, 0, 0, 0, 1, 0, 1, 0, 0, 0, 1, 0, 0, 0, 0, 0, 0].\n",
      "We found something! Now the new P_0 is going to have length 97!\n",
      "\n",
      "Solving the PRIMAL with a lazy_p0 of length 97\n",
      "Model SOLVED.\n",
      "The dual vector is [1.0, 1.0, 1.0, 1.0, 1.0, 1.0, 1.0, 0.9633333333333334, 1.0, 0.3333333333333333, 0.29666666666666663, 0.12833333333333322, 0.02499999999999994, -0.29666666666666663, 0.013333333333333343, 0.1111111111111111, -0.013333333333333343, -0.20277777777777775, 0.06666666666666667, -0.1416666666666666].\n",
      "Better solution found! It has a pattern vector of VariableRef[y[1], y[2], y[3], y[4], y[5], y[6], y[7], y[8], y[9], y[10], y[11], y[12], y[13], y[14], y[15], y[16], y[17], y[18], y[19], y[20]]!\n",
      "The new solution we found was [0, 0, 0, 0, 0, 0, 0, 0, 1, 1, 0, 0, 0, 0, 0, 1, 0, 0, 1, 0].\n",
      "We found something! Now the new P_0 is going to have length 98!\n",
      "\n",
      "Solving the PRIMAL with a lazy_p0 of length 98\n",
      "Model SOLVED.\n",
      "The dual vector is [1.0, 1.0, 1.0, 1.0, 1.0, 1.0, 0.8333333333333333, 0.8333333333333334, 0.8037037037037037, 0.3333333333333333, 0.33333333333333337, 0.30370370370370375, 0.07037037037037037, -0.16666666666666663, -0.025925925925925936, -0.2037037037037036, 0.025925925925925936, 0.06666666666666657, 0.06666666666666667, -0.08148148148148149].\n",
      "Better solution found! It has a pattern vector of VariableRef[y[1], y[2], y[3], y[4], y[5], y[6], y[7], y[8], y[9], y[10], y[11], y[12], y[13], y[14], y[15], y[16], y[17], y[18], y[19], y[20]]!\n",
      "The new solution we found was [0, 0, 0, 0, 0, 1, 0, 0, 0, 0, 1, 0, 0, 0, 0, 0, 0, 0, 2, 0].\n",
      "We found something! Now the new P_0 is going to have length 99!\n",
      "\n",
      "Solving the PRIMAL with a lazy_p0 of length 99\n",
      "Model SOLVED.\n",
      "The dual vector is [1.0, 1.0, 1.0, 1.0, 1.0, 0.836923076923077, 0.9999999999999997, 0.6964102564102561, 0.6769230769230766, 0.3333333333333333, 0.029743589743589705, 0.3333333333333336, 0.12615384615384606, -0.02974358974358937, 0.03025641025641017, -0.07692307692307654, 0.051282051282051336, 0.047179487179486834, 0.06666666666666667, -0.04051282051282051].\n",
      "Better solution found! It has a pattern vector of VariableRef[y[1], y[2], y[3], y[4], y[5], y[6], y[7], y[8], y[9], y[10], y[11], y[12], y[13], y[14], y[15], y[16], y[17], y[18], y[19], y[20]]!\n",
      "The new solution we found was [0, 0, 0, 0, 0, 0, 1, 0, 0, 0, 0, 1, 0, 0, 0, 0, 0, 0, 2, 0].\n",
      "We found something! Now the new P_0 is going to have length 100!\n",
      "\n",
      "Solving the PRIMAL with a lazy_p0 of length 100\n"
     ]
    },
    {
     "name": "stdout",
     "output_type": "stream",
     "text": [
      "Model SOLVED.\n",
      "The dual vector is [1.0, 1.0, 1.0, 1.0, 1.0, 1.0, 0.9290780141843973, 0.7659574468085107, 0.8368794326241138, 0.3333333333333333, 0.17021276595744683, 0.24113475177304955, 0.09219858156028349, -0.09929078014184411, -0.04964539007092206, -0.08510638297872364, 0.04964539007092196, 0.07801418439716334, -0.08510638297872342, -0.02836879432624112].\n",
      "Better solution found! It has a pattern vector of VariableRef[y[1], y[2], y[3], y[4], y[5], y[6], y[7], y[8], y[9], y[10], y[11], y[12], y[13], y[14], y[15], y[16], y[17], y[18], y[19], y[20]]!\n",
      "The new solution we found was [0, 0, 0, 0, 0, 1, 0, 0, 0, 1, 0, 0, 0, 0, 0, 0, 0, 1, 0, 0].\n",
      "We found something! Now the new P_0 is going to have length 101!\n",
      "\n",
      "Solving the PRIMAL with a lazy_p0 of length 101\n",
      "Model SOLVED.\n",
      "The dual vector is [1.0, 1.0, 1.0, 1.0, 1.0, 0.6133333333333334, 0.5688888888888888, 0.5244444444444444, 0.528888888888889, 0.3333333333333333, 0.28888888888888886, 0.33333333333333337, 0.19555555555555554, 0.14222222222222236, 0.10888888888888887, 0.0888888888888889, 0.08444444444444443, 0.05333333333333329, 0.04888888888888887, 0.028888888888888825].\n",
      "Better solution found! It has a pattern vector of VariableRef[y[1], y[2], y[3], y[4], y[5], y[6], y[7], y[8], y[9], y[10], y[11], y[12], y[13], y[14], y[15], y[16], y[17], y[18], y[19], y[20]]!\n",
      "The new solution we found was [0, 0, 0, 0, 1, 0, 0, 0, 0, 0, 0, 0, 0, 1, 0, 0, 1, 0, 0, 0].\n",
      "We found something! Now the new P_0 is going to have length 102!\n",
      "\n",
      "Solving the PRIMAL with a lazy_p0 of length 102\n",
      "Model SOLVED.\n",
      "The dual vector is [1.0, 1.0, 1.0, 1.0, 1.0, 0.6666666666666667, 0.7111111111111111, 0.6000000000000001, 0.5555555555555556, 0.3333333333333333, 0.33333333333333326, 0.28888888888888875, 0.1777777777777778, -0.0444444444444444, 0.1222222222222222, 0.11111111111111116, 0.044444444444444425, -0.0, 5.551115123125783e-17, 0.03333333333333337].\n",
      "Better solution found! It has a pattern vector of VariableRef[y[1], y[2], y[3], y[4], y[5], y[6], y[7], y[8], y[9], y[10], y[11], y[12], y[13], y[14], y[15], y[16], y[17], y[18], y[19], y[20]]!\n",
      "The new solution we found was [0, 0, 0, 0, 1, 0, 0, 0, 0, 0, 0, 0, 0, 0, 0, 2, 0, 0, 0, 0].\n",
      "We found something! Now the new P_0 is going to have length 103!\n",
      "\n",
      "Solving the PRIMAL with a lazy_p0 of length 103\n",
      "Model SOLVED.\n",
      "The dual vector is [1.0, 1.0, 1.0, 1.0, 1.0, 0.6666666666666669, 0.7333333333333335, 0.7333333333333334, 0.6666666666666667, 0.3333333333333333, 0.33333333333333315, 0.2666666666666666, 0.09999999999999998, -0.06666666666666664, 0.09999999999999994, 0.0, 0.06666666666666664, -1.1102230246251565e-16, -5.551115123125783e-17, -0.0333333333333333].\n",
      "Better solution found! It has a pattern vector of VariableRef[y[1], y[2], y[3], y[4], y[5], y[6], y[7], y[8], y[9], y[10], y[11], y[12], y[13], y[14], y[15], y[16], y[17], y[18], y[19], y[20]]!\n",
      "The new solution we found was [0, 0, 0, 0, 0, 0, 0, 1, 0, 0, 1, 0, 0, 0, 0, 0, 2, 0, 0, 0].\n",
      "We found something! Now the new P_0 is going to have length 104!\n",
      "\n",
      "Solving the PRIMAL with a lazy_p0 of length 104\n",
      "Model SOLVED.\n",
      "The dual vector is [1.0, 1.0, 1.0, 1.0, 1.0, 0.6000000000000001, 0.6666666666666667, 0.6666666666666665, 0.6, 0.3333333333333333, 0.3333333333333333, 0.2666666666666668, 0.16666666666666669, -7.806255641895632e-17, 0.1, 0.0, 7.806255641895632e-17, 0.06666666666666665, 0.033333333333333215, 0.033333333333333326].\n",
      "Better solution found! It has a pattern vector of VariableRef[y[1], y[2], y[3], y[4], y[5], y[6], y[7], y[8], y[9], y[10], y[11], y[12], y[13], y[14], y[15], y[16], y[17], y[18], y[19], y[20]]!\n",
      "The new solution we found was [0, 0, 0, 0, 1, 0, 0, 0, 0, 0, 0, 0, 0, 0, 0, 0, 0, 3, 0, 0].\n",
      "We found something! Now the new P_0 is going to have length 105!\n",
      "\n",
      "Solving the PRIMAL with a lazy_p0 of length 105\n",
      "Model SOLVED.\n",
      "The dual vector is [1.0, 1.0, 1.0, 1.0, 1.0, 0.6666666666666664, 0.7179487179487177, 0.6794871794871795, 0.6282051282051282, 0.3333333333333333, 0.29487179487179505, 0.24358974358974372, 0.15384615384615388, -0.01282051282051272, 0.09615384615384617, 0.0, 0.01282051282051272, 3.3306690738754696e-16, 0.019230769230769273, 0.03205128205128199].\n",
      "Better solution found! It has a pattern vector of VariableRef[y[1], y[2], y[3], y[4], y[5], y[6], y[7], y[8], y[9], y[10], y[11], y[12], y[13], y[14], y[15], y[16], y[17], y[18], y[19], y[20]]!\n",
      "The new solution we found was [1, 0, 0, 0, 0, 0, 0, 0, 0, 0, 0, 0, 0, 0, 1, 0, 0, 0, 0, 2].\n",
      "We found something! Now the new P_0 is going to have length 106!\n",
      "\n",
      "Solving the PRIMAL with a lazy_p0 of length 106\n",
      "Model SOLVED.\n",
      "The dual vector is [1.0, 1.0, 1.0, 1.0, 1.0, 0.6666666666666667, 0.6973180076628352, 0.6743295019157088, 0.6551724137931036, 0.3333333333333333, 0.31034482758620685, 0.27969348659003834, 0.15900383141762453, -0.007662835249042127, 0.13026819923371655, 0.0, 0.007662835249042127, 0.0, 0.011494252873563204, -0.06513409961685847].\n",
      "Better solution found! It has a pattern vector of VariableRef[y[1], y[2], y[3], y[4], y[5], y[6], y[7], y[8], y[9], y[10], y[11], y[12], y[13], y[14], y[15], y[16], y[17], y[18], y[19], y[20]]!\n",
      "The new solution we found was [0, 0, 0, 0, 0, 0, 1, 0, 0, 1, 0, 0, 0, 0, 1, 0, 0, 0, 0, 0].\n",
      "We found something! Now the new P_0 is going to have length 107!\n",
      "\n",
      "Solving the PRIMAL with a lazy_p0 of length 107\n",
      "Model SOLVED.\n",
      "The dual vector is [1.0, 1.0, 1.0, 1.0, 1.0, 0.6666666666666667, 0.6666666666666667, 0.6666666666666666, 0.6666666666666665, 0.3333333333333333, 0.3333333333333333, 0.3333333333333334, 0.1666666666666667, 4.163336342344337e-17, 1.6653345369377348e-16, 0.0, -4.163336342344337e-17, 0.0, -2.7755575615628914e-17, -8.326672684688674e-17].\n",
      "Better solution found! It has a pattern vector of VariableRef[y[1], y[2], y[3], y[4], y[5], y[6], y[7], y[8], y[9], y[10], y[11], y[12], y[13], y[14], y[15], y[16], y[17], y[18], y[19], y[20]]!\n",
      "The new solution we found was [0, 0, 0, 0, 1, 0, 0, 0, 0, 0, 0, 0, 1, 0, 0, 0, 0, 0, 0, 0].\n",
      "We found something! Now the new P_0 is going to have length 108!\n",
      "\n",
      "Solving the PRIMAL with a lazy_p0 of length 108\n",
      "Model SOLVED.\n",
      "The dual vector is [1.0, 1.0, 1.0, 1.0, 1.0, 1.0, 1.0, 1.0, 1.0, 0.0, 0.0, 0.0, -0.0, 0.0, -0.0, 0.0, 0.0, 0.0, 0.0, 0.0].\n",
      "The new solution we found was nothing.\n"
     ]
    }
   ],
   "source": [
    "while true\n",
    "    \n",
    "    #first, get the PRIMAL solution\n",
    "    println(\"\\nSolving the PRIMAL with a lazy_p0 of length $(length(lazy_p0))\")\n",
    "    optimize!(model)\n",
    "    \n",
    "    #then, receive the dual variable\n",
    "    println(\"Model SOLVED.\")\n",
    "    π = dual.(demand) #this is a 1 by I vector\n",
    "    println(\"The dual vector is $(π).\")\n",
    "    \n",
    "    # FIND A NEW SOLUTION\n",
    "    new_pattern = solve_pricing(data, π)\n",
    "    println(\"The new solution we found was $(new_pattern).\")\n",
    "    \n",
    "    if new_pattern === nothing\n",
    "        break\n",
    "    end\n",
    "    \n",
    "    #otherwise we have something\n",
    "    push!(lazy_p0, new_pattern)\n",
    "    println(\"We found something! Now the new P_0 is going to have length $(length(lazy_p0))!\")\n",
    "    \n",
    "    #=\n",
    "    Initially, we had a variable x which had length P: there was x_1 through x_P.\n",
    "    Now that we added one more column, we are going to include another variable for x.\n",
    "    Note that this is the RELAXATION version so there is no integer constraint.\n",
    "    =#\n",
    "    push!(x, @variable(model, lower_bound = 0))\n",
    "    \n",
    "    #=\n",
    "    In the objective so far, we have x_1 + ... + x_P. But after the new addition,\n",
    "    we also need to add this new variable in x to the objective. To do so, \n",
    "    this is the method to use.\n",
    "    =#\n",
    "    set_objective_coefficient(model, x[end], 1.0)\n",
    "    \n",
    "    #=\n",
    "    Finally, in the matrix of coefficients in the demand, for the final\n",
    "    equation which looks like\n",
    "    sum_i x_pnew * a_(i, pnew) >= demand_i\n",
    "    \n",
    "    we need the last x to have the coefficient for a_(i, pnew) to be\n",
    "    new_pattern[i]\n",
    "    =#\n",
    "    for i in 1:I\n",
    "        if new_pattern[i] > 0\n",
    "            set_normalized_coefficient(demand[i], x[end], new_pattern[i])\n",
    "        end\n",
    "    end\n",
    "end"
   ]
  },
  {
   "cell_type": "code",
   "execution_count": 35,
   "id": "60c14e7e",
   "metadata": {
    "scrolled": true
   },
   "outputs": [
    {
     "name": "stdout",
     "output_type": "stream",
     "text": [
      "42\n"
     ]
    }
   ],
   "source": [
    "println(length(lazy_p0))"
   ]
  },
  {
   "cell_type": "code",
   "execution_count": 36,
   "id": "4bc09dde",
   "metadata": {},
   "outputs": [
    {
     "data": {
      "text/plain": [
       "20×42 SparseArrays.SparseMatrixCSC{Int64, Int64} with 90 stored entries:\n",
       "⠑⢄⠀⠀⠀⠀⠀⠀⠀⠀⠀⠀⠀⠀⠀⠀⠀⠀⠀⠈⠀\n",
       "⠀⠀⠑⢄⠀⠀⠀⠀⠀⠀⡀⣀⡀⠠⠒⡀⠢⠊⢁⠁⠌\n",
       "⠀⠀⠀⠀⠑⢄⠀⠀⠀⠀⢈⢀⡨⠡⠀⠚⢄⠂⠠⠀⠂\n",
       "⠀⠀⠀⠀⠀⠀⠑⢄⠀⠀⠡⠄⡀⠐⢌⢂⠀⠐⡀⠠⠌\n",
       "⠀⠀⠀⠀⠀⠀⠀⠀⠑⢄⢁⣈⢊⠅⠱⠠⠤⠊⠈⢂⠀"
      ]
     },
     "execution_count": 36,
     "metadata": {},
     "output_type": "execute_result"
    }
   ],
   "source": [
    "SparseArrays.sparse(hcat(lazy_p0...))"
   ]
  },
  {
   "cell_type": "markdown",
   "id": "fc4dd69c",
   "metadata": {},
   "source": [
    "This was a success. We were able to generate 22 new solutions."
   ]
  },
  {
   "cell_type": "code",
   "execution_count": 37,
   "id": "4cd187ea",
   "metadata": {},
   "outputs": [
    {
     "name": "stdout",
     "output_type": "stream",
     "text": [
      "1 units of piece 8\n",
      "1 units of piece 12\n",
      "1 units of piece 16\n",
      "1 units of piece 18\n"
     ]
    }
   ],
   "source": [
    "# example pattern: 25\n",
    "for i in 1:I\n",
    "    if lazy_p0[25][i] > 0\n",
    "        println(lazy_p0[25][i], \" units of piece $i\")\n",
    "    end\n",
    "end"
   ]
  },
  {
   "cell_type": "markdown",
   "id": "fe7eac07",
   "metadata": {},
   "source": [
    "Also view what $x$ is."
   ]
  },
  {
   "cell_type": "code",
   "execution_count": 48,
   "id": "09dc7a03",
   "metadata": {},
   "outputs": [
    {
     "name": "stdout",
     "output_type": "stream",
     "text": [
      "[34.5, 44.0, 30.0, 41.0, 7.041666666666668, 0.0, 0.0, 0.0, 0.0, 0.0, 0.0, 0.0, 0.0, 0.0, 0.0, 0.0, 0.0, 0.0, 0.0, 0.0, 15.0, 35.0, 0.0, 0.0, 0.7499999999999994, 0.0, 0.0, 19.25, 0.0, 0.0, 11.75, 0.0, 11.25, 13.25, 21.75, 5.0, 16.125, 13.5, 0.8333333333333334, 3.5, 3.5, 7.0]\n"
     ]
    }
   ],
   "source": [
    "println(value.(x))"
   ]
  },
  {
   "cell_type": "markdown",
   "id": "8d58b3e9",
   "metadata": {},
   "source": [
    "## Final Step: Re-examine Solution\n",
    "\n",
    "Note that we had relaxed the integer constraint on $x$, i.e. it was a linear relaxation. To force integer feasibility, round up on all the patterns as a simple heuristic."
   ]
  },
  {
   "cell_type": "code",
   "execution_count": 49,
   "id": "1ba38e6b",
   "metadata": {},
   "outputs": [
    {
     "name": "stdout",
     "output_type": "stream",
     "text": [
      "35 rolls of pattern 1\n",
      "44 rolls of pattern 2\n",
      "30 rolls of pattern 3\n",
      "41 rolls of pattern 4\n",
      " 8 rolls of pattern 5\n",
      "15 rolls of pattern 21\n",
      "35 rolls of pattern 22\n",
      " 1 rolls of pattern 25\n",
      "20 rolls of pattern 28\n",
      "12 rolls of pattern 31\n",
      "12 rolls of pattern 33\n",
      "14 rolls of pattern 34\n",
      "22 rolls of pattern 35\n",
      " 5 rolls of pattern 36\n",
      "17 rolls of pattern 37\n",
      "14 rolls of pattern 38\n",
      " 1 rolls of pattern 39\n",
      " 4 rolls of pattern 40\n",
      " 4 rolls of pattern 41\n",
      " 7 rolls of pattern 42\n"
     ]
    }
   ],
   "source": [
    "for p in 1:length(x)\n",
    "    num_rolls = ceil(Int, value(x[p]))\n",
    "    if num_rolls > 0\n",
    "        println(lpad(num_rolls, 2), \" rolls of pattern $p\")\n",
    "    end\n",
    "end"
   ]
  },
  {
   "cell_type": "code",
   "execution_count": 50,
   "id": "cc688c9b",
   "metadata": {},
   "outputs": [
    {
     "data": {
      "text/plain": [
       "341"
      ]
     },
     "execution_count": 50,
     "metadata": {},
     "output_type": "execute_result"
    }
   ],
   "source": [
    "sum(ceil.(Int, value.(x)))"
   ]
  },
  {
   "cell_type": "markdown",
   "id": "38393514",
   "metadata": {},
   "source": [
    "## Answer is 341...unless we force integrality first and then optimize"
   ]
  },
  {
   "cell_type": "code",
   "execution_count": 51,
   "id": "d5d53b2b",
   "metadata": {},
   "outputs": [
    {
     "name": "stdout",
     "output_type": "stream",
     "text": [
      "Total rolls needed if we force integrality first: 334\n"
     ]
    }
   ],
   "source": [
    "set_integer.(x)\n",
    "optimize!(model)\n",
    "total_rolls = sum(ceil.(Int, value.(x)))\n",
    "println(\"Total rolls needed if we force integrality first: $total_rolls\")"
   ]
  },
  {
   "cell_type": "markdown",
   "id": "babfced7",
   "metadata": {},
   "source": [
    "Warning: Not necessarily global minimum, because in solving the MIP, we don't add columns... we first used a relaxation, then column generation, then forced integrality to see what would happen when we'd already added the columns."
   ]
  }
 ],
 "metadata": {
  "kernelspec": {
   "display_name": "Julia 1.8.0",
   "language": "julia",
   "name": "julia-1.8"
  },
  "language_info": {
   "file_extension": ".jl",
   "mimetype": "application/julia",
   "name": "julia",
   "version": "1.8.0"
  }
 },
 "nbformat": 4,
 "nbformat_minor": 5
}
