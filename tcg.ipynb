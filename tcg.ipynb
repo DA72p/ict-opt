{
 "cells": [
  {
   "cell_type": "markdown",
   "id": "c1f7a729",
   "metadata": {},
   "source": [
    "# [0] Imports"
   ]
  },
  {
   "cell_type": "code",
   "execution_count": 1529,
   "id": "6f67f1ce",
   "metadata": {},
   "outputs": [],
   "source": [
    "import Pkg;\n",
    "\n",
    "using LinearAlgebra, Random, Gurobi, JuMP, Distributions, Plots, LazySets, Dates"
   ]
  },
  {
   "cell_type": "markdown",
   "id": "39a225c7",
   "metadata": {},
   "source": [
    "# [1] Set Up Parameters"
   ]
  },
  {
   "cell_type": "code",
   "execution_count": 1530,
   "id": "29243ee9",
   "metadata": {},
   "outputs": [],
   "source": [
    "n_jobs = 25\n",
    "m_cov = 25\n",
    "B = n_jobs\n",
    "V = m_cov\n",
    "T = 2 * n_jobs\n",
    "min_duration = 2\n",
    "max_duration = 6\n",
    "speed = 500 / 3\n",
    "radius = 50\n",
    "size = 500\n",
    "mesh = 50;"
   ]
  },
  {
   "cell_type": "markdown",
   "id": "34f5dcd5",
   "metadata": {},
   "source": [
    "# [2] Create Job Parameters"
   ]
  },
  {
   "cell_type": "code",
   "execution_count": 1531,
   "id": "d9b71f2e",
   "metadata": {},
   "outputs": [],
   "source": [
    "Random.seed!(1234)\n",
    "\n",
    "function create_cluster_sizes(jobs_total)\n",
    "    Random.seed!(1234)\n",
    "    jobs_created = 0\n",
    "    cluster = []\n",
    "    min_jobs_allowed = n_jobs >= 15 ? 3 : 2\n",
    "        target_clusters = 5\n",
    "        while jobs_created != jobs_total\n",
    "            num_to_add = rand(min(min_jobs_allowed, jobs_total - jobs_created) : \n",
    "                min(Int((n_jobs/target_clusters)÷1), jobs_total - jobs_created))\n",
    "            jobs_created += num_to_add\n",
    "            push!(cluster, num_to_add)\n",
    "        end\n",
    "    \n",
    "    return cluster\n",
    "end;\n",
    "\n",
    "time_windows = []\n",
    "locations = rand(Uniform(0,size), 1, 2)\n",
    "work_load = []\n",
    "cluster = create_cluster_sizes(n_jobs)\n",
    "\n",
    "function create_time_windows_and_work_load(cluster_sizes, locations)\n",
    "    Random.seed!(1234)\n",
    "    locations = rand(Uniform(0,size), 1, 2)\n",
    "    for size_c in cluster\n",
    "        first = rand(Uniform(0,size), 1, 2)\n",
    "        locations = vcat(locations, first)\n",
    "\n",
    "        job_begins = rand(2:10)\n",
    "        job_finish = rand((job_begins+min_duration):(job_begins+max_duration))\n",
    "        push!(time_windows, [job_begins, job_finish])\n",
    "\n",
    "        time_work = rand(min_duration:max(min_duration, job_finish - job_begins))\n",
    "        push!(work_load, time_work)\n",
    "\n",
    "        for neighbour in 1:(size_c-1)\n",
    "            new_x = rand(Uniform(max(0,first[1]-20), min(first[1]+20, size)), 1, 1)\n",
    "            new_y = rand(Uniform(max(0,first[2]-20), min(first[2]+20, size)), 1, 1)\n",
    "            new = hcat(new_x, new_y)\n",
    "            locations = vcat(locations, new)\n",
    "\n",
    "            job_begins = rand(job_finish:min(T-min_duration-2, job_finish + 6))\n",
    "            job_finish = rand((job_begins+min_duration):(min(job_begins+max_duration, T-2)))\n",
    "            push!(time_windows, [job_begins, job_finish])\n",
    "\n",
    "            time_work = rand(min_duration:min(max_duration, job_finish-job_begins))\n",
    "            push!(work_load, time_work)\n",
    "        end\n",
    "    end\n",
    "    \n",
    "    return [time_windows, work_load, locations]\n",
    "end\n",
    "\n",
    "time_windows, work_load, locations = create_time_windows_and_work_load(cluster, locations)\n",
    "\n",
    "function reformat_locations(locations)\n",
    "    #= The fact that locations[1] gives the same float (not tuple or list)\n",
    "    as locations[1, 1] and locations[1][2] throws an \n",
    "    error is extremely frustrating.\n",
    "    This function makes locations[1][1] possible, \n",
    "    while locations[1] correctly returns a tuple. =#\n",
    "    locs = []\n",
    "    for i in 1:Int(length(locations) * 0.5)\n",
    "        push!(locs, [locations[i,1], locations[i,2]])\n",
    "    end\n",
    "    return locs\n",
    "end\n",
    "\n",
    "job_locs = reformat_locations(locations)\n",
    "push!(job_locs, job_locs[1]);"
   ]
  },
  {
   "cell_type": "code",
   "execution_count": 1532,
   "id": "206d7c10",
   "metadata": {},
   "outputs": [],
   "source": [
    "job_dists = [LinearAlgebra.norm(job_locs[i] .- job_locs[j]) for i=1:n_jobs+2, j = 1:n_jobs+2];"
   ]
  },
  {
   "cell_type": "code",
   "execution_count": 1533,
   "id": "4996828c",
   "metadata": {},
   "outputs": [],
   "source": [
    "job_travel_times = ceil.(job_dists / speed);"
   ]
  },
  {
   "cell_type": "markdown",
   "id": "36fdf013",
   "metadata": {},
   "source": [
    "# [3] Create Coverage Parameters"
   ]
  },
  {
   "cell_type": "code",
   "execution_count": 1534,
   "id": "1bd7a702",
   "metadata": {},
   "outputs": [],
   "source": [
    "create_all_valid_spots = true;"
   ]
  },
  {
   "cell_type": "code",
   "execution_count": 1535,
   "id": "0d54f6ae",
   "metadata": {},
   "outputs": [],
   "source": [
    "function is_close_enough(coverage_loc, job_loc)\n",
    "    #= Given a coverage_loc with 2 elements x y\n",
    "    and a job_loc with two elements x y\n",
    "    determines if that specific job_loc is located within r \n",
    "    of the coverage_loc as the crow flies =#\n",
    "    return (coverage_loc[1]-job_loc[1])^2 + (coverage_loc[2]-job_loc[2])^2 <= radius^2\n",
    "end;\n",
    "\n",
    "function close_enough_jobs(coverage_loc)\n",
    "    jobs = []\n",
    "    for i in 1:n_jobs\n",
    "        if is_close_enough(coverage_loc, job_locs[i+1])\n",
    "            push!(jobs, i)\n",
    "        end\n",
    "    end\n",
    "    return jobs\n",
    "end;"
   ]
  },
  {
   "cell_type": "code",
   "execution_count": 1536,
   "id": "636f12d4",
   "metadata": {},
   "outputs": [],
   "source": [
    "cov_locs = []\n",
    "seen = []\n",
    "\n",
    "for x in 0:mesh:size\n",
    "    for y in 0:mesh:size\n",
    "        potential_cov = [x, y]\n",
    "        useful = false\n",
    "        \n",
    "        if create_all_valid_spots\n",
    "            for index in 2:length(job_locs)-1\n",
    "                if is_close_enough(potential_cov, job_locs[index])\n",
    "                    useful = true\n",
    "                    break\n",
    "                end\n",
    "            end\n",
    "        else\n",
    "            for job in close_enough_jobs(potential_cov)\n",
    "                if ~(job in seen)\n",
    "                    push!(seen, job)\n",
    "                    useful = true\n",
    "                end\n",
    "            end\n",
    "        end\n",
    "        \n",
    "        if useful\n",
    "            push!(cov_locs, potential_cov)\n",
    "        end\n",
    "    end\n",
    "end;"
   ]
  },
  {
   "cell_type": "code",
   "execution_count": 1537,
   "id": "eebe43da",
   "metadata": {},
   "outputs": [],
   "source": [
    "m_cov = length(cov_locs);"
   ]
  },
  {
   "cell_type": "code",
   "execution_count": 1538,
   "id": "96930821",
   "metadata": {},
   "outputs": [],
   "source": [
    "insert!(cov_locs, 1, job_locs[1])\n",
    "push!(cov_locs, cov_locs[1]);"
   ]
  },
  {
   "cell_type": "code",
   "execution_count": 1539,
   "id": "0b526a53",
   "metadata": {},
   "outputs": [],
   "source": [
    "cov_dists = [LinearAlgebra.norm(cov_locs[i] .- cov_locs[j]) for i=1:m_cov+2, j = 1:m_cov+2];"
   ]
  },
  {
   "cell_type": "code",
   "execution_count": 1540,
   "id": "4abece50",
   "metadata": {},
   "outputs": [],
   "source": [
    "cov_travel_times = ceil.(cov_dists / speed);"
   ]
  },
  {
   "cell_type": "markdown",
   "id": "2a94f3f3",
   "metadata": {},
   "source": [
    "# [4] Create Initial Job Routes"
   ]
  },
  {
   "cell_type": "code",
   "execution_count": 1541,
   "id": "d3f3d874",
   "metadata": {},
   "outputs": [],
   "source": [
    "job_routes = []\n",
    "\n",
    "for i in 1:n_jobs\n",
    "    route = []\n",
    "    dist = job_dists[0+1, i+1]\n",
    "    \n",
    "    start_going_time = Int(floor(time_windows[i][1] - dist/speed))\n",
    "    # time_arrival = time_windows[i][1]\n",
    "    # time_finished = time_windows[i][2]\n",
    "    return_finished = Int(ceil(time_windows[i][2] + dist/speed))\n",
    "    \n",
    "    push!(route, [[0, start_going_time], [i, time_windows[i][1]], dist])\n",
    "    \n",
    "    for working in time_windows[i][1]:(time_windows[i][2]-1)\n",
    "        push!(route, [[i, working], [i, working+1], 0])\n",
    "    end\n",
    "    \n",
    "    push!(route, [[i, time_windows[i][2]], [n_jobs+1, return_finished], dist])\n",
    "    push!(job_routes, route)\n",
    "end;"
   ]
  },
  {
   "cell_type": "markdown",
   "id": "c9850f90",
   "metadata": {},
   "source": [
    "# [5] Create Initial Coverage Routes"
   ]
  },
  {
   "cell_type": "code",
   "execution_count": 1542,
   "id": "5eb91291",
   "metadata": {},
   "outputs": [],
   "source": [
    "cov_routes = []\n",
    "\n",
    "for j in 1:m_cov\n",
    "    route = []\n",
    "    dist = cov_dists[0+1, j+1]\n",
    "    \n",
    "    arrive_time = Int(ceil(dist/speed))\n",
    "    leave_time = Int(T+1 - ceil(dist/speed))\n",
    "    \n",
    "    push!(route, [[0, 0], [j, arrive_time], dist])\n",
    "\n",
    "    for t in arrive_time:leave_time-1\n",
    "        push!(route, [ [j, t], [j, t+1], 0])\n",
    "    end\n",
    "    \n",
    "    push!(route, [[j, leave_time], [m_cov+1, T+1], dist])\n",
    "    push!(cov_routes, route)\n",
    "end;"
   ]
  },
  {
   "cell_type": "markdown",
   "id": "ab6689e0",
   "metadata": {},
   "source": [
    "# [6] Helper Functions"
   ]
  },
  {
   "cell_type": "markdown",
   "id": "aeed2aeb",
   "metadata": {},
   "source": [
    "## [6.1] Compute cost of route"
   ]
  },
  {
   "cell_type": "code",
   "execution_count": 1543,
   "id": "853fe9e2",
   "metadata": {},
   "outputs": [],
   "source": [
    "function route_cost(route)\n",
    "    ans = 0\n",
    "    for arc in route\n",
    "        ans += arc[3]\n",
    "    end\n",
    "    return ans\n",
    "end;"
   ]
  },
  {
   "cell_type": "markdown",
   "id": "91f1ce71",
   "metadata": {},
   "source": [
    "## [6.2] Compute $u_i^q$"
   ]
  },
  {
   "cell_type": "code",
   "execution_count": 1544,
   "id": "4026d536",
   "metadata": {},
   "outputs": [],
   "source": [
    "function compute_u(routes)\n",
    "    Q = length(routes)\n",
    "    u = [[0 for q in 1:Q] for i in 1:n_jobs]\n",
    "    \n",
    "    for rindex in 1:Q\n",
    "        route = routes[rindex]\n",
    "        for arc in route\n",
    "            loc1 = arc[1][1]\n",
    "            loc2 = arc[2][1]\n",
    "            if (1 <= loc1 <= n_jobs)\n",
    "                u[loc1][rindex] = 1\n",
    "            end\n",
    "            if (1 <= loc2 <= n_jobs)\n",
    "                u[loc2][rindex] = 1\n",
    "            end\n",
    "        end\n",
    "    end\n",
    "    return u\n",
    "end;"
   ]
  },
  {
   "cell_type": "markdown",
   "id": "b62113dd",
   "metadata": {},
   "source": [
    "## [6.3] Compute $\\delta_{it}^q$"
   ]
  },
  {
   "cell_type": "code",
   "execution_count": 1545,
   "id": "a7f58a2c",
   "metadata": {},
   "outputs": [],
   "source": [
    "function compute_delta(routes)\n",
    "    Q = length(routes)\n",
    "    delta = [[[0.0 for q in 1:Q] for t in 1:T] for i in 1:n_jobs]\n",
    "    for rindex in 1:Q\n",
    "        route = routes[rindex]\n",
    "        for arc in route\n",
    "            loc1, time1 = arc[1]\n",
    "            loc2, time2 = arc[2]\n",
    "            if (loc1 != 0) & (loc1 != n_jobs + 1)\n",
    "                delta[loc1][time1][rindex] = 1\n",
    "            end\n",
    "            \n",
    "            if (loc2 != 0) & (loc2 != n_jobs + 1)\n",
    "                delta[loc2][time2][rindex] = 1\n",
    "            end\n",
    "        end\n",
    "    end\n",
    "    return delta\n",
    "end;"
   ]
  },
  {
   "cell_type": "markdown",
   "id": "c9400a4b",
   "metadata": {},
   "source": [
    "## [6.4] Compute $y_{jt}^p$"
   ]
  },
  {
   "cell_type": "code",
   "execution_count": 1546,
   "id": "263d7478",
   "metadata": {},
   "outputs": [],
   "source": [
    "function compute_y(routes)\n",
    "    y = [[[0 for p in 1:length(routes)] for t in 1:T] for j in 1:m_cov]\n",
    "    \n",
    "    for rindex in 1:length(routes)\n",
    "        route = routes[rindex]\n",
    "        for arc in route\n",
    "            job1, time1 = Int.(arc[1])\n",
    "            job2, time2 = Int.(arc[2])\n",
    "            if job1 != 0\n",
    "                y[job1][time1][rindex] = 1\n",
    "            end\n",
    "            if job2 != m_cov + 1\n",
    "                y[job2][time2][rindex] = 1\n",
    "            end\n",
    "        end\n",
    "    end\n",
    "    return y\n",
    "end;"
   ]
  },
  {
   "cell_type": "markdown",
   "id": "320f9849",
   "metadata": {},
   "source": [
    "## [6.5] Compute $L_{ji}$"
   ]
  },
  {
   "cell_type": "code",
   "execution_count": 1547,
   "id": "223ec259",
   "metadata": {},
   "outputs": [],
   "source": [
    "function compute_L(cov_locs, job_locs)\n",
    "    #= Given a list of tuple coverage locations and job locations,\n",
    "    returns a matrix of L values. Specifically, \n",
    "    L[j][i], indicating if spot j is close enough to node i\n",
    "    for coverage to happen. We might have to delete padding of depot\n",
    "    first. =#\n",
    "    L = []\n",
    "    for j in 2:length(cov_locs)-1\n",
    "        L_j = []\n",
    "        cov_loc = cov_locs[j] # padding accounted for\n",
    "        for i in 2:length(job_locs)-1\n",
    "            push!(L_j, is_close_enough(cov_loc, job_locs[i]) ? 1 : 0)\n",
    "        end\n",
    "        push!(L, L_j)\n",
    "    end\n",
    "    \n",
    "    return L\n",
    "end;"
   ]
  },
  {
   "cell_type": "markdown",
   "id": "2c7880ac",
   "metadata": {},
   "source": [
    "## [6.6] Compute $j$'s Neighborhood"
   ]
  },
  {
   "cell_type": "code",
   "execution_count": 1548,
   "id": "6b435886",
   "metadata": {},
   "outputs": [],
   "source": [
    "function neighborhood(j)\n",
    "    # returns all nodes i which are close to the spot j.\n",
    "    cov_loc = cov_locs[j+1] # don't forget padding!\n",
    "    \n",
    "    close = []\n",
    "    for i in 1:n_jobs\n",
    "        if is_close_enough(cov_loc, job_locs[i+1])\n",
    "            push!(close, i)\n",
    "        end\n",
    "    end\n",
    "    \n",
    "    return close\n",
    "end;"
   ]
  },
  {
   "cell_type": "markdown",
   "id": "799ad095",
   "metadata": {},
   "source": [
    "## [6.7] Compute coverage stations close to $i$"
   ]
  },
  {
   "cell_type": "code",
   "execution_count": 1549,
   "id": "f59ede7a",
   "metadata": {},
   "outputs": [],
   "source": [
    "function close_covs(i)\n",
    "    job_loc = job_locs[i+1] # padding included\n",
    "    close = []\n",
    "    for j in 1:m_cov\n",
    "        if is_close_enough(cov_locs[j+1], job_loc)\n",
    "            push!(close, j)\n",
    "        end\n",
    "    end\n",
    "    return close\n",
    "end;"
   ]
  },
  {
   "cell_type": "markdown",
   "id": "3254c3f7",
   "metadata": {},
   "source": [
    "## [6.8] Given route, list nodes"
   ]
  },
  {
   "cell_type": "code",
   "execution_count": 1550,
   "id": "7c82c9b5",
   "metadata": {},
   "outputs": [],
   "source": [
    "function route_to_nodes(route)\n",
    "    # get only the 1st node of all arcs except the last, when you get the 2nd\n",
    "    nodes = []\n",
    "    for arc in route[1:end-1]\n",
    "        new_node = arc[1][1]\n",
    "        push!(nodes, new_node)\n",
    "    end\n",
    "    push!(nodes, route[end][2][1])\n",
    "    return unique(nodes)\n",
    "end;"
   ]
  },
  {
   "cell_type": "markdown",
   "id": "7ba29aad",
   "metadata": {},
   "source": [
    "## [6.9] Given route, list times"
   ]
  },
  {
   "cell_type": "code",
   "execution_count": 1551,
   "id": "7a98dc74",
   "metadata": {},
   "outputs": [],
   "source": [
    "function route_to_times(route)\n",
    "    #= Obtain time \"markers\" when you leave\n",
    "    or arrive at any node. This is more convenient\n",
    "    than just telling me when I arrive at any node.\n",
    "    If the two nodes in an arc are not equal,\n",
    "    list both of their times. Otherwise, list neither. =#\n",
    "    times = []\n",
    "    for arc in route[1:end]\n",
    "        n1, t1 = arc[1]\n",
    "        n2, t2 = arc[2]\n",
    "        if n1 != n2\n",
    "            push!(times, t1)\n",
    "            push!(times, t2)\n",
    "        end\n",
    "    end\n",
    "    return times\n",
    "end;"
   ]
  },
  {
   "cell_type": "markdown",
   "id": "c61889f1",
   "metadata": {},
   "source": [
    "## [6.10] Given nodes and times, produce route"
   ]
  },
  {
   "cell_type": "code",
   "execution_count": 1552,
   "id": "9f483499",
   "metadata": {},
   "outputs": [],
   "source": [
    "function nodes_and_times_to_route(nodes, times, route_type)\n",
    "    #= Given by two components: When you leave/go between nodes,\n",
    "    and when you stay. Alternate: start \"when you stay\",\n",
    "    then \"when you go\". For the first node there is no stay. \n",
    "    For the last node there is no stay nor go.=#\n",
    "    route = []\n",
    "    for i in 1:length(nodes)-1\n",
    "        \n",
    "        # WHEN YOU STAY\n",
    "        if i > 1\n",
    "            n = nodes[i]\n",
    "            t1 = times[2*i-2]\n",
    "            t2 = times[2*i-1]\n",
    "            \n",
    "            for t in t1:t2-1\n",
    "                arc = [[n, t], [n, t+1], 0]\n",
    "                push!(route, arc)\n",
    "            end\n",
    "        end\n",
    "        \n",
    "        # WHEN YOU GO\n",
    "        n1 = nodes[i]\n",
    "        n2 = nodes[i+1]\n",
    "        t1 = times[2*i-1]\n",
    "        t2 = times[2*i]\n",
    "        dist = route_type == \"job\" ? job_dists[n1+1, n2+1] : cov_dists[n1+1, n2+1]\n",
    "        arc = [[n1, t1], [n2, t2], dist]\n",
    "        push!(route, arc)\n",
    "    end\n",
    "    return route\n",
    "end;       "
   ]
  },
  {
   "cell_type": "markdown",
   "id": "d0f154f2",
   "metadata": {},
   "source": [
    "# [7] Shortest Paths for Job Routes"
   ]
  },
  {
   "cell_type": "code",
   "execution_count": 1553,
   "id": "0fe6a2e3",
   "metadata": {},
   "outputs": [],
   "source": [
    "function job_sp(dists, travel_times, windows, loads, rho, pi, xi)\n",
    "    paths, rcs, times = [[0]], [rho], [[0]]\n",
    "    curp, endp = 1, 1\n",
    "    \n",
    "    pruner = [Inf for i in 1:n_jobs]\n",
    "    \n",
    "    while true\n",
    "        curpath = paths[curp]\n",
    "        curtimes = times[curp]\n",
    "        if last(curpath) == n_jobs+1\n",
    "            curp += 1\n",
    "            if curp > endp\n",
    "                break\n",
    "            else\n",
    "                continue\n",
    "            end\n",
    "        end\n",
    "        \n",
    "        for i in 1:n_jobs+1\n",
    "            if ~(i in curpath)\n",
    "                \n",
    "                last_depart_time = last(curtimes)\n",
    "                travel_time = travel_times[last(curpath)+1, i+1]\n",
    "                new_job_load = (i < n_jobs+1) ? loads[i] : 0\n",
    "                new_window_start, new_window_close = (i < n_jobs+1) ? windows[i] : [0, T+1]\n",
    "                proposed_arrival = last_depart_time + travel_time + new_job_load\n",
    "                if proposed_arrival > new_window_close\n",
    "                    continue\n",
    "                end\n",
    "                \n",
    "                new_node_arrival = max(proposed_arrival, new_window_start)\n",
    "                new_node_depart = new_node_arrival + new_job_load\n",
    "                cur_rc = rcs[curp]\n",
    "                cur_rc -= (i < n_jobs + 1) ? pi[i] : 0;\n",
    "                \n",
    "                for t in new_node_arrival:new_node_depart\n",
    "                    cur_rc += (i < n_jobs + 1) ? xi[i, Int(t)] : 0;\n",
    "                end\n",
    "                \n",
    "                if i < n_jobs + 1 && cur_rc < pruner[i]\n",
    "                    pruner[i] = cur_rc\n",
    "                elseif i == n_jobs+1\n",
    "                else\n",
    "                    continue\n",
    "                end\n",
    "                \n",
    "                push!(paths, push!(copy(curpath), i))\n",
    "                push!(rcs, cur_rc)\n",
    "                if i < n_jobs + 1\n",
    "                    push!(times, push!(push!(copy(curtimes), new_node_arrival), new_node_depart))\n",
    "                else\n",
    "                    push!(times, push!(copy(curtimes), new_node_arrival))\n",
    "                end\n",
    "                \n",
    "                endp += 1\n",
    "            end\n",
    "        end\n",
    "        \n",
    "        curp += 1\n",
    "        \n",
    "        if curp == endp\n",
    "            break\n",
    "        end\n",
    "    end\n",
    "    \n",
    "    return paths, rcs, times\n",
    "end;"
   ]
  },
  {
   "cell_type": "markdown",
   "id": "3f5f8467",
   "metadata": {},
   "source": [
    "# [8] Shortest Paths for Coverage Routes"
   ]
  },
  {
   "cell_type": "code",
   "execution_count": 1554,
   "id": "06f6b5bc",
   "metadata": {},
   "outputs": [],
   "source": [
    "function all_jobs_ended(spot)\n",
    "    last = -Inf\n",
    "    for i in neighborhood(spot)\n",
    "        if time_windows[i][2] > last\n",
    "            last = time_windows[i][2]\n",
    "        end\n",
    "    end\n",
    "    return last\n",
    "end;"
   ]
  },
  {
   "cell_type": "code",
   "execution_count": 1555,
   "id": "f0f819b2",
   "metadata": {},
   "outputs": [],
   "source": [
    "function when_to_leave(spot)\n",
    "    neigh = neighborhood(spot)\n",
    "    leavable_times = []\n",
    "    time_ended = all_jobs_ended(spot)\n",
    "    for t in 1:T\n",
    "        can_leave = true\n",
    "        for i in neigh\n",
    "            if time_windows[i][1] <= t <= time_windows[i][2] && time_windows[i][1] <= t+1 <= time_windows[i][2]\n",
    "                can_leave = false\n",
    "            end\n",
    "        end\n",
    "        \n",
    "        if can_leave && t <= time_ended\n",
    "            push!(leavable_times, t)\n",
    "        end\n",
    "    end\n",
    "    return leavable_times\n",
    "end;"
   ]
  },
  {
   "cell_type": "code",
   "execution_count": 1556,
   "id": "3acf9715",
   "metadata": {},
   "outputs": [],
   "source": [
    "function cov_sp(dists, travel_times, beta, xi)\n",
    "    paths, rcs, times = [[0]], [beta], [[0]]\n",
    "    curp, endp = 1, 1\n",
    "    last_job_ended = [all_jobs_ended(j) for j in 1:m_cov]\n",
    "    \n",
    "    pruner = [Inf for j in 1:m_cov]\n",
    "    \n",
    "    while true\n",
    "        curpath = paths[curp]\n",
    "        curtimes = times[curp]\n",
    "        if last(curpath) == m_cov+1\n",
    "            curp += 1\n",
    "            if curp > endp\n",
    "                break\n",
    "            else\n",
    "                continue\n",
    "            end\n",
    "        end\n",
    "        \n",
    "        for j in 1:m_cov+1\n",
    "            #anything goes.\n",
    "            prev_depart_time = last(curtimes)\n",
    "            travel_time = travel_times[last(curpath)+1, j+1]\n",
    "            new_spot_arrival = prev_depart_time + travel_time\n",
    "            departure_times = (j < m_cov+1) ? when_to_leave(j) : [prev_depart_time+travel_time+1]\n",
    "            \n",
    "            # now we have to consider ALL possible departure times.\n",
    "            for dt in departure_times\n",
    "\n",
    "                if dt <= new_spot_arrival # if you depart when you arrive, what's the point?\n",
    "                    continue\n",
    "                end\n",
    "                #only viable departure times remain\n",
    "                \n",
    "                # only visit non-depot if there are still jobs left\n",
    "                if j != m_cov + 1\n",
    "                    if dt > last_job_ended[j]\n",
    "                        continue # it's possible to add zero routes from this, use depot?\n",
    "                    end\n",
    "                end\n",
    "                \n",
    "                cur_rc = rcs[curp]\n",
    "                cur_rc += dists[last(curpath)+1, j+1]\n",
    "\n",
    "                if j != m_cov + 1\n",
    "                    for t in new_spot_arrival:dt\n",
    "                        for i in neighborhood(j)\n",
    "                            cur_rc -= xi[i, Int(t)]\n",
    "                        end\n",
    "                    end\n",
    "                end\n",
    "                \n",
    "                if j < m_cov + 1 && cur_rc < pruner[j]\n",
    "                    pruner[j] = cur_rc\n",
    "                elseif j == m_cov+1\n",
    "                else\n",
    "                    continue\n",
    "                end\n",
    "\n",
    "                push!(paths, push!(copy(curpath), j))\n",
    "                push!(rcs, cur_rc)\n",
    "                if j < m_cov + 1\n",
    "                    push!(times, push!(push!(copy(curtimes), new_spot_arrival), dt))\n",
    "                else\n",
    "                    push!(times, push!(copy(curtimes), new_spot_arrival))\n",
    "                end\n",
    "\n",
    "                endp += 1\n",
    "            end\n",
    "        end\n",
    "        \n",
    "        curp += 1\n",
    "        \n",
    "        if curp == endp\n",
    "            break\n",
    "        end\n",
    "    end\n",
    "    \n",
    "    return paths, rcs, times\n",
    "end;"
   ]
  },
  {
   "cell_type": "markdown",
   "id": "30e261e8",
   "metadata": {},
   "source": [
    "# [9] Restricted Master Problem"
   ]
  },
  {
   "cell_type": "code",
   "execution_count": 1557,
   "id": "f30082dc",
   "metadata": {},
   "outputs": [],
   "source": [
    "L = compute_L(cov_locs, job_locs);"
   ]
  },
  {
   "cell_type": "code",
   "execution_count": 1558,
   "id": "ed584ac7",
   "metadata": {
    "scrolled": false
   },
   "outputs": [
    {
     "name": "stdout",
     "output_type": "stream",
     "text": [
      "Set parameter Username\n",
      "Academic license - for non-commercial use only - expires 2023-09-04\n"
     ]
    }
   ],
   "source": [
    "model = Model(Gurobi.Optimizer);\n",
    "set_optimizer_attribute(model, \"OutputFlag\", 0);"
   ]
  },
  {
   "cell_type": "code",
   "execution_count": 1559,
   "id": "57ba8368",
   "metadata": {},
   "outputs": [],
   "source": [
    "last_z = 0\n",
    "last_x = 0\n",
    "rcs_q = []\n",
    "rcs_p = []\n",
    "last_objective = 0;"
   ]
  },
  {
   "cell_type": "code",
   "execution_count": 1560,
   "id": "6275cec9",
   "metadata": {
    "scrolled": false
   },
   "outputs": [
    {
     "ename": "LoadError",
     "evalue": "InterruptException:",
     "output_type": "error",
     "traceback": [
      "InterruptException:",
      "",
      "Stacktrace:",
      " [1] when_to_leave(spot::Int64)",
      "   @ Main ./In[1555]:16",
      " [2] cov_sp(dists::Matrix{Float64}, travel_times::Matrix{Float64}, beta::Float64, xi::Matrix{Float64})",
      "   @ Main ./In[1556]:25"
     ]
    }
   ],
   "source": [
    "keep_going = true\n",
    "while keep_going\n",
    "    C_jobs = [route_cost(route) for route in job_routes];\n",
    "    C_covs = [route_cost(route) for route in cov_routes];\n",
    "    u = compute_u(job_routes);\n",
    "    delta = compute_delta(job_routes);\n",
    "    y = compute_y(cov_routes);\n",
    "    Q = length(job_routes)\n",
    "    P = length(cov_routes);\n",
    "    \n",
    "    unregister(model, :z)\n",
    "    @variable(model, 0 <= z[1:Q] <= 1);\n",
    "    unregister(model, :x)\n",
    "    @variable(model, 0 <= x[1:P] <= 1);\n",
    "    \n",
    "    unregister(model, :job_visited_once)\n",
    "    @constraint(model, job_visited_once[i in 1:n_jobs], sum(u[i][q] * z[q] for q in 1:Q) == 1);\n",
    "    unregister(model, :enough_job_vehicles)\n",
    "    @constraint(model, enough_job_vehicles, sum(z[q] for q in 1:Q) <= B);\n",
    "    unregister(model, :enough_cov_vehicles)\n",
    "    @constraint(model, enough_cov_vehicles, sum(x[p] for p in 1:P) <= V);\n",
    "    unregister(model, :must_be_covered)\n",
    "    @constraint(model, must_be_covered[i in 1:n_jobs, t in 1:T], \n",
    "    sum(sum(y[j][t][p] * x[p] for j in 1:m_cov) for p in close_covs(i)) >= \n",
    "    sum(z[q] * delta[i][t][q] for q in 1:Q));\n",
    "    \n",
    "    @objective(model, Min, \n",
    "        sum(C_jobs[q] * z[q] for q in 1:Q) + \n",
    "        sum(C_covs[p] * x[p] for p in 1:P));\n",
    "    \n",
    "    optimize!(model)\n",
    "    # println(objective_value(model))\n",
    "    last_z = value.(z)\n",
    "    last_x = value.(x)\n",
    "    last_objective = objective_value(model)\n",
    "    \n",
    "    pi = dual.(job_visited_once)\n",
    "    rho = dual.(enough_job_vehicles)\n",
    "    beta = dual.(enough_cov_vehicles)\n",
    "    xi = dual.(must_be_covered);\n",
    "    \n",
    "    contender_job_paths, contender_job_rcs, contender_job_times = job_sp(job_dists, job_travel_times, time_windows, work_load, rho, pi, xi);\n",
    "    contender_cov_paths, contender_cov_rcs, contender_cov_times = cov_sp(cov_dists, cov_travel_times, beta, xi)\n",
    "    \n",
    "    viable_job_paths, viable_job_rcs, viable_job_times = [], [], []\n",
    "    for index in 1:length(contender_job_paths)\n",
    "        contender_path = contender_job_paths[index]\n",
    "        contender_rc = contender_job_rcs[index]\n",
    "        if last(contender_path) == n_jobs + 1 && contender_rc < -1e-8\n",
    "            push!(viable_job_paths, contender_path)\n",
    "            push!(viable_job_rcs, contender_rc)\n",
    "            push!(viable_job_times, contender_job_times[index])\n",
    "        end\n",
    "    end\n",
    "    \n",
    "    viable_cov_paths, viable_cov_rcs, viable_cov_times = [], [], []\n",
    "    for index in 1:length(contender_cov_paths)\n",
    "        contender_path = contender_cov_paths[index]\n",
    "        contender_rc = contender_cov_rcs[index]\n",
    "        if last(contender_path) == n_jobs + 1 && contender_rc < -1e-8\n",
    "            push!(viable_cov_paths, contender_path)\n",
    "            push!(viable_cov_rcs, contender_rc)\n",
    "            push!(viable_cov_times, contender_cov_times[index])\n",
    "        end\n",
    "    end\n",
    "    \n",
    "    if length(viable_job_paths) < 1 && length(viable_cov_paths) < 1\n",
    "        println(\"ENDED!\")\n",
    "        keep_going = false\n",
    "        break\n",
    "    end\n",
    "    \n",
    "    mindex = -1\n",
    "    best_rc = Inf\n",
    "\n",
    "    for i in 1:length(viable_job_paths)\n",
    "        if viable_job_rcs[i] < best_rc\n",
    "            best_rc = viable_job_rcs[i]\n",
    "            mindex = i\n",
    "        end\n",
    "    end\n",
    "    \n",
    "    push!(rcs_q, best_rc)\n",
    "    \n",
    "    # println(best_rc)\n",
    "    \n",
    "    viable_job_route = nodes_and_times_to_route(viable_job_paths[mindex], viable_job_times[mindex], \"job\");\n",
    "    push!(job_routes, viable_job_route);\n",
    "    \n",
    "    mindex = -1\n",
    "    best_rc = Inf\n",
    "    for i in 1:length(viable_cov_paths)\n",
    "        if viable_cov_rcs[i] < best_rc\n",
    "            best_rc = viable_cov_rcs[i]\n",
    "            mindex = i\n",
    "        end\n",
    "    end\n",
    "    \n",
    "    push!(rcs_p, best_rc)\n",
    "    \n",
    "    viable_cov_route = nodes_and_times_to_route(viable_cov_paths[mindex], viable_cov_times[mindex], \"cov\")\n",
    "    push!(cov_routes, viable_cov_route);\n",
    "    \n",
    "    #=\n",
    "    if viable_route == job_routes[end-1]\n",
    "        println(\"Same route encountered\")\n",
    "        break\n",
    "    end\n",
    "    =#\n",
    "end"
   ]
  },
  {
   "cell_type": "code",
   "execution_count": 1561,
   "id": "8c627f28",
   "metadata": {
    "scrolled": true
   },
   "outputs": [
    {
     "data": {
      "text/plain": [
       "27-element Vector{Any}:\n",
       " -2922.616640431099\n",
       " -2259.2263063935006\n",
       " -2355.8463509136454\n",
       " -2726.6911370744224\n",
       " -1878.7618430150942\n",
       " -1819.6675718575577\n",
       " -2197.879655712386\n",
       " -1962.4702186520979\n",
       " -2194.3162462819273\n",
       " -1675.052584982577\n",
       " -2050.444471915099\n",
       " -1908.7578178143947\n",
       " -1639.879842770253\n",
       "     ⋮\n",
       " -1275.6477732544165\n",
       " -1431.6619664416257\n",
       " -1318.0407145875834\n",
       " -1439.3151306528416\n",
       " -1367.6623360278875\n",
       " -1187.8953496540496\n",
       " -1187.8953496540496\n",
       " -1187.8953496540496\n",
       " -1187.8953496540496\n",
       " -1187.8953496540496\n",
       " -1187.8953496540496\n",
       " -1187.8953496540496"
      ]
     },
     "execution_count": 1561,
     "metadata": {},
     "output_type": "execute_result"
    }
   ],
   "source": [
    "rcs_q"
   ]
  },
  {
   "cell_type": "code",
   "execution_count": 1562,
   "id": "244a9790",
   "metadata": {},
   "outputs": [
    {
     "data": {
      "text/plain": [
       "27-element Vector{Any}:\n",
       "  -578.5905068916492\n",
       "  -735.9824431621989\n",
       "  -565.1187169058121\n",
       "  -565.1187169058121\n",
       "  -439.56647210208894\n",
       " -1023.7095852635373\n",
       "  -319.76444956307057\n",
       "  -508.41198636634664\n",
       "  -768.4267349657708\n",
       "  -553.8727306558897\n",
       " -1172.3722476619455\n",
       " -1087.2690550515947\n",
       "  -895.9210280561847\n",
       "     ⋮\n",
       "  -872.3991835489763\n",
       "  -747.6616084261877\n",
       "  -846.477755428028\n",
       " -1285.4966192675208\n",
       " -1550.7646934856846\n",
       " -1286.747816774688\n",
       " -1286.747816774688\n",
       " -1286.747816774688\n",
       " -1286.747816774688\n",
       " -1286.747816774688\n",
       " -1286.747816774688\n",
       " -1286.747816774688"
      ]
     },
     "execution_count": 1562,
     "metadata": {},
     "output_type": "execute_result"
    }
   ],
   "source": [
    "rcs_p"
   ]
  }
 ],
 "metadata": {
  "kernelspec": {
   "display_name": "Julia 1.9.1",
   "language": "julia",
   "name": "julia-1.9"
  },
  "language_info": {
   "file_extension": ".jl",
   "mimetype": "application/julia",
   "name": "julia",
   "version": "1.9.1"
  }
 },
 "nbformat": 4,
 "nbformat_minor": 5
}
