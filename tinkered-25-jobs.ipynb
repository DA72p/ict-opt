{
 "cells": [
  {
   "cell_type": "markdown",
   "id": "1f549ee9",
   "metadata": {},
   "source": [
    "# [0] Imports"
   ]
  },
  {
   "cell_type": "code",
   "execution_count": 1,
   "id": "6fa98331",
   "metadata": {},
   "outputs": [],
   "source": [
    "import Pkg;\n",
    "\n",
    "using LinearAlgebra, Random, Gurobi, JuMP, Distributions, Plots, LazySets"
   ]
  },
  {
   "cell_type": "markdown",
   "id": "d5796265",
   "metadata": {},
   "source": [
    "# [1] Setup"
   ]
  },
  {
   "cell_type": "markdown",
   "id": "f3ef7672",
   "metadata": {},
   "source": [
    "## [1a] Initialize variables\n",
    "Many parameters need to be set up and initialized so they can be called upon later in the code according to the Overleaf document."
   ]
  },
  {
   "cell_type": "code",
   "execution_count": 34,
   "id": "6dfb2476",
   "metadata": {},
   "outputs": [],
   "source": [
    "n_jobs = 25\n",
    "n_vehicles_jobs = 15\n",
    "n_vehicles_coverage = 10\n",
    "\n",
    "#Optimization over 6 hours with a time-step of 10 minutes, T = # of timesteps\n",
    "T = 50\n",
    "\n",
    "#=\n",
    "The following definitions help with code for our problem\n",
    "and are not found in the formulation, \n",
    "but indirectly necessary when calculated by parameters\n",
    "=#\n",
    "\n",
    "#Minimal length of a job is two-time period\n",
    "min_duration = 2\n",
    "max_duration = 6\n",
    "#Speed is in m/10minutes = m/interval\n",
    "speed = 1000/6\n",
    "#Radius for coverage is 50m\n",
    "coverage_distance = 50\n",
    "#Size of the square for jobs location in meters\n",
    "size = 500\n",
    "#Size of the mesh for the coverage vehicles locations\n",
    "step = 50;"
   ]
  },
  {
   "cell_type": "markdown",
   "id": "f381a6f7",
   "metadata": {},
   "source": [
    "## [1b] Create locations and time-windows \n",
    "\n",
    "I will put many of these initialization parts into functions.\n",
    "\n",
    "We create clusters to beautify the problem - rather than truly random task locations we give it some structure. This is just an element of our artificial data!"
   ]
  },
  {
   "cell_type": "code",
   "execution_count": 30,
   "id": "1505d8a7",
   "metadata": {},
   "outputs": [
    {
     "data": {
      "text/plain": [
       "create_cluster_sizes (generic function with 1 method)"
      ]
     },
     "execution_count": 30,
     "metadata": {},
     "output_type": "execute_result"
    }
   ],
   "source": [
    "# We set the seed so that we always have the same result\n",
    "Random.seed!(1234)\n",
    "\n",
    "#=\n",
    "Our 'creative' strategy is to create jobs in small clusters.\n",
    "Then, for each cluster, we include some variation on the locations\n",
    "of the job.\n",
    "=#\n",
    "\n",
    "function create_cluster_sizes(jobs_total)\n",
    "    #=\n",
    "    Given a total number of jobs we need to create, \n",
    "    creates cluster SIZES. For instance, if we have 15 jobs,\n",
    "    one possible output is 3, 4, 5, 3.\n",
    "    \n",
    "    returns cluster, which is an array listing the sizes of clusters.\n",
    "    =#\n",
    "    jobs_created = 0\n",
    "    cluster = []\n",
    "    while jobs_created != jobs_total\n",
    "        num_to_add = rand(min(3, jobs_total - jobs_created) : \n",
    "            min(floor(Int, jobs_total / 5) + 1, jobs_total - jobs_created))\n",
    "        jobs_created += num_to_add\n",
    "        push!(cluster, num_to_add)\n",
    "    end\n",
    "    \n",
    "    return cluster\n",
    "end"
   ]
  },
  {
   "cell_type": "code",
   "execution_count": 28,
   "id": "9fd59a10",
   "metadata": {},
   "outputs": [
    {
     "data": {
      "text/plain": [
       "5-element Vector{Any}:\n",
       " 4\n",
       " 3\n",
       " 3\n",
       " 4\n",
       " 2"
      ]
     },
     "execution_count": 28,
     "metadata": {},
     "output_type": "execute_result"
    }
   ],
   "source": [
    "# testing\n",
    "create_cluster_sizes(16)"
   ]
  },
  {
   "cell_type": "code",
   "execution_count": 46,
   "id": "8912d2b8",
   "metadata": {},
   "outputs": [
    {
     "data": {
      "text/plain": [
       "5-element Vector{Any}:\n",
       " 5\n",
       " 6\n",
       " 6\n",
       " 3\n",
       " 5"
      ]
     },
     "execution_count": 46,
     "metadata": {},
     "output_type": "execute_result"
    }
   ],
   "source": [
    "# Create job and depot locations, time windows and work load for each job.\n",
    "time_windows = []\n",
    "locations = rand(Uniform(0,size), 1, 2)\n",
    "work_load = []\n",
    "#=\n",
    "time_windows is a list of tuples, with each tuple [s, e] specifying\n",
    "when a job must be performed, between s and e inclusive.\n",
    "\n",
    "work_load represents the duration of the job.\n",
    "\n",
    "time_windows tuple is the ONLY time the job can be completed.\n",
    "The job must be completed sometime *within* time_windows tuple.\n",
    "\n",
    "Note that sometimes, the tuple specifies exactly the time\n",
    "when we must work at that job, while other times,\n",
    "there is more flexibility because the tuple is particularly long\n",
    "compared to the work_load duration.\n",
    "=#\n",
    "\n",
    "cluster = create_cluster_sizes(n_jobs)"
   ]
  },
  {
   "cell_type": "markdown",
   "id": "3b67a44f",
   "metadata": {},
   "source": [
    "### Function to Create Time Windows and Work Load\n",
    "\n",
    "Critical parameters for the algorithm later on. We will create both the time windows allotted, as well as the time it takes to finish each job."
   ]
  },
  {
   "cell_type": "code",
   "execution_count": 47,
   "id": "dd5cd92a",
   "metadata": {},
   "outputs": [],
   "source": [
    "function create_time_windows_and_work_load(cluster_sizes, locations)\n",
    "    #=\n",
    "    parameters to pass in.\n",
    "    Realistically these should be put as parameters in the function \n",
    "    signature, but we can do this for ease...nothing too bad\n",
    "    \n",
    "    Returns time windows of the form [ [start, end], ...]\n",
    "    work_load of the durations of each job e.g. [5, 6, 4..]\n",
    "    locations\n",
    "    =#\n",
    "    locations = rand(Uniform(0,size), 1, 2)\n",
    "    for size_c in cluster\n",
    "        first = rand(Uniform(0,size), 1, 2)\n",
    "        locations = vcat(locations, first)\n",
    "\n",
    "        job_begins = rand(2:10)\n",
    "        job_finish = rand((job_begins+min_duration):(job_begins+max_duration))\n",
    "        push!(time_windows, [job_begins, job_finish])\n",
    "\n",
    "        time_work = rand(min_duration:max(min_duration, job_finish - job_begins))\n",
    "        push!(work_load, time_work)\n",
    "\n",
    "        for neighbour in 1:(size_c-1)\n",
    "            new_x = rand(Uniform(max(0,first[1]-20), min(first[1]+20, size)), 1, 1)\n",
    "            new_y = rand(Uniform(max(0,first[2]-20), min(first[2]+20, size)), 1, 1)\n",
    "            new = hcat(new_x, new_y)\n",
    "            locations = vcat(locations, new)\n",
    "\n",
    "            job_begins = rand(job_finish:min(T-min_duration-2, job_finish + 6))\n",
    "            job_finish = rand((job_begins+min_duration):(min(job_begins+max_duration, T-2)))\n",
    "            push!(time_windows, [job_begins, job_finish])\n",
    "\n",
    "            time_work = rand(min_duration:min(max_duration, job_finish-job_begins))\n",
    "            push!(work_load, time_work)\n",
    "        end\n",
    "    end\n",
    "    \n",
    "    return [time_windows, work_load, locations]\n",
    "end"
   ]
  },
  {
   "cell_type": "code",
   "execution_count": 51,
   "id": "aa8f9e3b",
   "metadata": {},
   "outputs": [
    {
     "name": "stdout",
     "output_type": "stream",
     "text": [
      "Time Windows: Any[[2, 5], [7, 13], [16, 19], [19, 23], [27, 31], [10, 14], [20, 24], [25, 27], [27, 30], [36, 42], [45, 48], [6, 9], [10, 14], [15, 17], [22, 25], [29, 34], [38, 44], [5, 9], [13, 16], [21, 26], [9, 14], [19, 21], [26, 29], [29, 33], [35, 40], [8, 10], [15, 21], [21, 24], [27, 31], [32, 37], [3, 8], [13, 18], [24, 28], [30, 35], [38, 44], [44, 47], [9, 14], [14, 17], [19, 23], [27, 29], [32, 35], [39, 44], [9, 12], [13, 16], [21, 23], [6, 11], [16, 20], [24, 29], [31, 35], [40, 44], [4, 8], [8, 13], [13, 19], [25, 29], [35, 38], [8, 14], [17, 21], [22, 28], [31, 34], [37, 41], [43, 47], [3, 8], [11, 15], [20, 24], [25, 27], [31, 35], [40, 43], [4, 10], [10, 12], [18, 24], [10, 14], [17, 23], [23, 27], [33, 36], [41, 47], [3, 7], [11, 13], [14, 18], [22, 28], [31, 37], [6, 10], [10, 16], [16, 21], [25, 28], [30, 33], [39, 45], [2, 5], [6, 11], [17, 21], [25, 29], [34, 37], [39, 41], [3, 6], [7, 11], [13, 15], [9, 15], [17, 21], [23, 25], [28, 30], [31, 35]]\n",
      "Work Loads: Any[3, 5, 3, 2, 3, 4, 4, 2, 3, 3, 3, 2, 3, 2, 2, 3, 4, 2, 2, 5, 5, 2, 3, 2, 5, 2, 2, 3, 4, 5, 3, 4, 4, 5, 4, 2, 3, 2, 2, 2, 3, 4, 3, 3, 2, 5, 4, 3, 3, 4, 3, 5, 5, 3, 2, 2, 3, 3, 2, 3, 2, 4, 2, 3, 2, 4, 3, 4, 2, 4, 4, 3, 4, 3, 6, 3, 2, 4, 5, 4, 3, 5, 5, 2, 2, 5, 3, 4, 4, 3, 2, 2, 2, 4, 2, 3, 3, 2, 2, 2]\n"
     ]
    }
   ],
   "source": [
    "time_windows, work_load, locations = create_time_windows_and_work_load(cluster, locations)\n",
    "#=\n",
    "now, \n",
    "\n",
    "time_windows looks like [ [8, 10], [16, 21], ... , [16, 21]]\n",
    "\n",
    "work_load looks like [2, 5, 2, 4, 2, 2, ..., 2, 5]\n",
    "=#\n",
    "\n",
    "#Compute distances between each locations created\n",
    "distances = [LinearAlgebra.norm(locations[i, :] .- locations[j, :]) for i=1:n_jobs+1, j = 1:n_jobs+1];\n",
    "\n",
    "print(\"Time Windows: \", time_windows, \"\\n\")\n",
    "print(\"Work Loads: \", work_load, \"\\n\")"
   ]
  },
  {
   "cell_type": "code",
   "execution_count": 84,
   "id": "5f61ca14",
   "metadata": {
    "scrolled": false
   },
   "outputs": [
    {
     "name": "stdout",
     "output_type": "stream",
     "text": [
      "Locations: [318.7348760600243 309.8511894728042; 409.8396829781945 471.0606169001269; 413.9330980885311 473.3000045221094; 394.09086721777453 464.28170943801547; 426.8907091757432 464.150778494994; 390.539365740374 458.73437243543265; 50.66010041639368 472.21518107980825; 70.43674365860144 479.36236715745713; 55.49732425881798 489.7419145344903; 57.061886788387994 466.5465145383949; 34.68551837237168 452.9956436103775; 35.270113860988985 462.2676823720703; 15.252191921314552 229.98919390540067; 6.893852859075727 245.4056075271678; 29.38710926471096 238.83075563046256; 23.920121390614007 244.15397088759136; 5.2279674253960655 222.15834228388846; 2.3457058779997113 222.08365976523228; 328.8310057424593 460.1199259818831; 330.41526798792916 479.9044953831515; 341.8618970696543 445.8802558335132; 244.21693845829762 43.895806990129294; 234.37857034174357 61.99918941572368; 224.91523236405249 27.078684012982503; 253.61919104514953 30.321211607660384; 232.5527948315421 23.91424852556743]\n"
     ]
    }
   ],
   "source": [
    "# locations - these are Cartesian coordinates telling us where stations are in the plane\n",
    "print(\"Locations: \", locations, \"\\n\")"
   ]
  },
  {
   "cell_type": "markdown",
   "id": "ed28e558",
   "metadata": {},
   "source": [
    "### A little exercise: plot the task locations"
   ]
  },
  {
   "cell_type": "code",
   "execution_count": 89,
   "id": "f5f0012e",
   "metadata": {},
   "outputs": [
    {
     "data": {
      "image/svg+xml": [
       "<?xml version=\"1.0\" encoding=\"utf-8\"?>\n",
       "<svg xmlns=\"http://www.w3.org/2000/svg\" xmlns:xlink=\"http://www.w3.org/1999/xlink\" width=\"600\" height=\"400\" viewBox=\"0 0 2400 1600\">\n",
       "<defs>\n",
       "  <clipPath id=\"clip280\">\n",
       "    <rect x=\"0\" y=\"0\" width=\"2400\" height=\"1600\"/>\n",
       "  </clipPath>\n",
       "</defs>\n",
       "<path clip-path=\"url(#clip280)\" d=\"\n",
       "M0 1600 L2400 1600 L2400 0 L0 0  Z\n",
       "  \" fill=\"#ffffff\" fill-rule=\"evenodd\" fill-opacity=\"1\"/>\n",
       "<defs>\n",
       "  <clipPath id=\"clip281\">\n",
       "    <rect x=\"480\" y=\"0\" width=\"1681\" height=\"1600\"/>\n",
       "  </clipPath>\n",
       "</defs>\n",
       "<path clip-path=\"url(#clip280)\" d=\"\n",
       "M172.015 1486.45 L2352.76 1486.45 L2352.76 47.2441 L172.015 47.2441  Z\n",
       "  \" fill=\"#ffffff\" fill-rule=\"evenodd\" fill-opacity=\"1\"/>\n",
       "<defs>\n",
       "  <clipPath id=\"clip282\">\n",
       "    <rect x=\"172\" y=\"47\" width=\"2182\" height=\"1440\"/>\n",
       "  </clipPath>\n",
       "</defs>\n",
       "<polyline clip-path=\"url(#clip282)\" style=\"stroke:#000000; stroke-linecap:round; stroke-linejoin:round; stroke-width:2; stroke-opacity:0.1; fill:none\" points=\"\n",
       "  211.535,1486.45 211.535,47.2441 \n",
       "  \"/>\n",
       "<polyline clip-path=\"url(#clip282)\" style=\"stroke:#000000; stroke-linecap:round; stroke-linejoin:round; stroke-width:2; stroke-opacity:0.1; fill:none\" points=\"\n",
       "  636.147,1486.45 636.147,47.2441 \n",
       "  \"/>\n",
       "<polyline clip-path=\"url(#clip282)\" style=\"stroke:#000000; stroke-linecap:round; stroke-linejoin:round; stroke-width:2; stroke-opacity:0.1; fill:none\" points=\"\n",
       "  1060.76,1486.45 1060.76,47.2441 \n",
       "  \"/>\n",
       "<polyline clip-path=\"url(#clip282)\" style=\"stroke:#000000; stroke-linecap:round; stroke-linejoin:round; stroke-width:2; stroke-opacity:0.1; fill:none\" points=\"\n",
       "  1485.37,1486.45 1485.37,47.2441 \n",
       "  \"/>\n",
       "<polyline clip-path=\"url(#clip282)\" style=\"stroke:#000000; stroke-linecap:round; stroke-linejoin:round; stroke-width:2; stroke-opacity:0.1; fill:none\" points=\"\n",
       "  1909.98,1486.45 1909.98,47.2441 \n",
       "  \"/>\n",
       "<polyline clip-path=\"url(#clip282)\" style=\"stroke:#000000; stroke-linecap:round; stroke-linejoin:round; stroke-width:2; stroke-opacity:0.1; fill:none\" points=\"\n",
       "  2334.59,1486.45 2334.59,47.2441 \n",
       "  \"/>\n",
       "<polyline clip-path=\"url(#clip280)\" style=\"stroke:#000000; stroke-linecap:round; stroke-linejoin:round; stroke-width:4; stroke-opacity:1; fill:none\" points=\"\n",
       "  172.015,1486.45 2352.76,1486.45 \n",
       "  \"/>\n",
       "<polyline clip-path=\"url(#clip280)\" style=\"stroke:#000000; stroke-linecap:round; stroke-linejoin:round; stroke-width:4; stroke-opacity:1; fill:none\" points=\"\n",
       "  211.535,1486.45 211.535,1467.55 \n",
       "  \"/>\n",
       "<polyline clip-path=\"url(#clip280)\" style=\"stroke:#000000; stroke-linecap:round; stroke-linejoin:round; stroke-width:4; stroke-opacity:1; fill:none\" points=\"\n",
       "  636.147,1486.45 636.147,1467.55 \n",
       "  \"/>\n",
       "<polyline clip-path=\"url(#clip280)\" style=\"stroke:#000000; stroke-linecap:round; stroke-linejoin:round; stroke-width:4; stroke-opacity:1; fill:none\" points=\"\n",
       "  1060.76,1486.45 1060.76,1467.55 \n",
       "  \"/>\n",
       "<polyline clip-path=\"url(#clip280)\" style=\"stroke:#000000; stroke-linecap:round; stroke-linejoin:round; stroke-width:4; stroke-opacity:1; fill:none\" points=\"\n",
       "  1485.37,1486.45 1485.37,1467.55 \n",
       "  \"/>\n",
       "<polyline clip-path=\"url(#clip280)\" style=\"stroke:#000000; stroke-linecap:round; stroke-linejoin:round; stroke-width:4; stroke-opacity:1; fill:none\" points=\"\n",
       "  1909.98,1486.45 1909.98,1467.55 \n",
       "  \"/>\n",
       "<polyline clip-path=\"url(#clip280)\" style=\"stroke:#000000; stroke-linecap:round; stroke-linejoin:round; stroke-width:4; stroke-opacity:1; fill:none\" points=\"\n",
       "  2334.59,1486.45 2334.59,1467.55 \n",
       "  \"/>\n",
       "<path clip-path=\"url(#clip280)\" d=\"M211.535 1517.37 Q207.924 1517.37 206.096 1520.93 Q204.29 1524.47 204.29 1531.6 Q204.29 1538.71 206.096 1542.27 Q207.924 1545.82 211.535 1545.82 Q215.17 1545.82 216.975 1542.27 Q218.804 1538.71 218.804 1531.6 Q218.804 1524.47 216.975 1520.93 Q215.17 1517.37 211.535 1517.37 M211.535 1513.66 Q217.345 1513.66 220.401 1518.27 Q223.48 1522.85 223.48 1531.6 Q223.48 1540.33 220.401 1544.94 Q217.345 1549.52 211.535 1549.52 Q205.725 1549.52 202.647 1544.94 Q199.591 1540.33 199.591 1531.6 Q199.591 1522.85 202.647 1518.27 Q205.725 1513.66 211.535 1513.66 Z\" fill=\"#000000\" fill-rule=\"evenodd\" fill-opacity=\"1\" /><path clip-path=\"url(#clip280)\" d=\"M595.754 1544.91 L603.393 1544.91 L603.393 1518.55 L595.082 1520.21 L595.082 1515.95 L603.346 1514.29 L608.022 1514.29 L608.022 1544.91 L615.661 1544.91 L615.661 1548.85 L595.754 1548.85 L595.754 1544.91 Z\" fill=\"#000000\" fill-rule=\"evenodd\" fill-opacity=\"1\" /><path clip-path=\"url(#clip280)\" d=\"M635.105 1517.37 Q631.494 1517.37 629.666 1520.93 Q627.86 1524.47 627.86 1531.6 Q627.86 1538.71 629.666 1542.27 Q631.494 1545.82 635.105 1545.82 Q638.74 1545.82 640.545 1542.27 Q642.374 1538.71 642.374 1531.6 Q642.374 1524.47 640.545 1520.93 Q638.74 1517.37 635.105 1517.37 M635.105 1513.66 Q640.916 1513.66 643.971 1518.27 Q647.05 1522.85 647.05 1531.6 Q647.05 1540.33 643.971 1544.94 Q640.916 1549.52 635.105 1549.52 Q629.295 1549.52 626.217 1544.94 Q623.161 1540.33 623.161 1531.6 Q623.161 1522.85 626.217 1518.27 Q629.295 1513.66 635.105 1513.66 Z\" fill=\"#000000\" fill-rule=\"evenodd\" fill-opacity=\"1\" /><path clip-path=\"url(#clip280)\" d=\"M665.267 1517.37 Q661.656 1517.37 659.827 1520.93 Q658.022 1524.47 658.022 1531.6 Q658.022 1538.71 659.827 1542.27 Q661.656 1545.82 665.267 1545.82 Q668.901 1545.82 670.707 1542.27 Q672.536 1538.71 672.536 1531.6 Q672.536 1524.47 670.707 1520.93 Q668.901 1517.37 665.267 1517.37 M665.267 1513.66 Q671.077 1513.66 674.133 1518.27 Q677.212 1522.85 677.212 1531.6 Q677.212 1540.33 674.133 1544.94 Q671.077 1549.52 665.267 1549.52 Q659.457 1549.52 656.378 1544.94 Q653.323 1540.33 653.323 1531.6 Q653.323 1522.85 656.378 1518.27 Q659.457 1513.66 665.267 1513.66 Z\" fill=\"#000000\" fill-rule=\"evenodd\" fill-opacity=\"1\" /><path clip-path=\"url(#clip280)\" d=\"M1024.45 1544.91 L1040.77 1544.91 L1040.77 1548.85 L1018.83 1548.85 L1018.83 1544.91 Q1021.49 1542.16 1026.07 1537.53 Q1030.68 1532.88 1031.86 1531.53 Q1034.1 1529.01 1034.98 1527.27 Q1035.89 1525.51 1035.89 1523.82 Q1035.89 1521.07 1033.94 1519.33 Q1032.02 1517.6 1028.92 1517.6 Q1026.72 1517.6 1024.27 1518.36 Q1021.84 1519.13 1019.06 1520.68 L1019.06 1515.95 Q1021.88 1514.82 1024.34 1514.24 Q1026.79 1513.66 1028.83 1513.66 Q1034.2 1513.66 1037.39 1516.35 Q1040.59 1519.03 1040.59 1523.52 Q1040.59 1525.65 1039.78 1527.57 Q1038.99 1529.47 1036.88 1532.07 Q1036.3 1532.74 1033.2 1535.95 Q1030.1 1539.15 1024.45 1544.91 Z\" fill=\"#000000\" fill-rule=\"evenodd\" fill-opacity=\"1\" /><path clip-path=\"url(#clip280)\" d=\"M1060.59 1517.37 Q1056.97 1517.37 1055.15 1520.93 Q1053.34 1524.47 1053.34 1531.6 Q1053.34 1538.71 1055.15 1542.27 Q1056.97 1545.82 1060.59 1545.82 Q1064.22 1545.82 1066.02 1542.27 Q1067.85 1538.71 1067.85 1531.6 Q1067.85 1524.47 1066.02 1520.93 Q1064.22 1517.37 1060.59 1517.37 M1060.59 1513.66 Q1066.4 1513.66 1069.45 1518.27 Q1072.53 1522.85 1072.53 1531.6 Q1072.53 1540.33 1069.45 1544.94 Q1066.4 1549.52 1060.59 1549.52 Q1054.77 1549.52 1051.7 1544.94 Q1048.64 1540.33 1048.64 1531.6 Q1048.64 1522.85 1051.7 1518.27 Q1054.77 1513.66 1060.59 1513.66 Z\" fill=\"#000000\" fill-rule=\"evenodd\" fill-opacity=\"1\" /><path clip-path=\"url(#clip280)\" d=\"M1090.75 1517.37 Q1087.14 1517.37 1085.31 1520.93 Q1083.5 1524.47 1083.5 1531.6 Q1083.5 1538.71 1085.31 1542.27 Q1087.14 1545.82 1090.75 1545.82 Q1094.38 1545.82 1096.19 1542.27 Q1098.02 1538.71 1098.02 1531.6 Q1098.02 1524.47 1096.19 1520.93 Q1094.38 1517.37 1090.75 1517.37 M1090.75 1513.66 Q1096.56 1513.66 1099.61 1518.27 Q1102.69 1522.85 1102.69 1531.6 Q1102.69 1540.33 1099.61 1544.94 Q1096.56 1549.52 1090.75 1549.52 Q1084.94 1549.52 1081.86 1544.94 Q1078.8 1540.33 1078.8 1531.6 Q1078.8 1522.85 1081.86 1518.27 Q1084.94 1513.66 1090.75 1513.66 Z\" fill=\"#000000\" fill-rule=\"evenodd\" fill-opacity=\"1\" /><path clip-path=\"url(#clip280)\" d=\"M1459.13 1530.21 Q1462.49 1530.93 1464.36 1533.2 Q1466.26 1535.47 1466.26 1538.8 Q1466.26 1543.92 1462.74 1546.72 Q1459.22 1549.52 1452.74 1549.52 Q1450.57 1549.52 1448.25 1549.08 Q1445.96 1548.66 1443.51 1547.81 L1443.51 1543.29 Q1445.45 1544.43 1447.77 1545.01 Q1450.08 1545.58 1452.6 1545.58 Q1457 1545.58 1459.29 1543.85 Q1461.61 1542.11 1461.61 1538.8 Q1461.61 1535.75 1459.46 1534.03 Q1457.33 1532.3 1453.51 1532.3 L1449.48 1532.3 L1449.48 1528.45 L1453.69 1528.45 Q1457.14 1528.45 1458.97 1527.09 Q1460.8 1525.7 1460.8 1523.11 Q1460.8 1520.45 1458.9 1519.03 Q1457.03 1517.6 1453.51 1517.6 Q1451.59 1517.6 1449.39 1518.01 Q1447.19 1518.43 1444.55 1519.31 L1444.55 1515.14 Q1447.21 1514.4 1449.53 1514.03 Q1451.86 1513.66 1453.92 1513.66 Q1459.25 1513.66 1462.35 1516.09 Q1465.45 1518.5 1465.45 1522.62 Q1465.45 1525.49 1463.81 1527.48 Q1462.16 1529.45 1459.13 1530.21 Z\" fill=\"#000000\" fill-rule=\"evenodd\" fill-opacity=\"1\" /><path clip-path=\"url(#clip280)\" d=\"M1485.13 1517.37 Q1481.52 1517.37 1479.69 1520.93 Q1477.88 1524.47 1477.88 1531.6 Q1477.88 1538.71 1479.69 1542.27 Q1481.52 1545.82 1485.13 1545.82 Q1488.76 1545.82 1490.57 1542.27 Q1492.4 1538.71 1492.4 1531.6 Q1492.4 1524.47 1490.57 1520.93 Q1488.76 1517.37 1485.13 1517.37 M1485.13 1513.66 Q1490.94 1513.66 1493.99 1518.27 Q1497.07 1522.85 1497.07 1531.6 Q1497.07 1540.33 1493.99 1544.94 Q1490.94 1549.52 1485.13 1549.52 Q1479.32 1549.52 1476.24 1544.94 Q1473.18 1540.33 1473.18 1531.6 Q1473.18 1522.85 1476.24 1518.27 Q1479.32 1513.66 1485.13 1513.66 Z\" fill=\"#000000\" fill-rule=\"evenodd\" fill-opacity=\"1\" /><path clip-path=\"url(#clip280)\" d=\"M1515.29 1517.37 Q1511.68 1517.37 1509.85 1520.93 Q1508.04 1524.47 1508.04 1531.6 Q1508.04 1538.71 1509.85 1542.27 Q1511.68 1545.82 1515.29 1545.82 Q1518.92 1545.82 1520.73 1542.27 Q1522.56 1538.71 1522.56 1531.6 Q1522.56 1524.47 1520.73 1520.93 Q1518.92 1517.37 1515.29 1517.37 M1515.29 1513.66 Q1521.1 1513.66 1524.15 1518.27 Q1527.23 1522.85 1527.23 1531.6 Q1527.23 1540.33 1524.15 1544.94 Q1521.1 1549.52 1515.29 1549.52 Q1509.48 1549.52 1506.4 1544.94 Q1503.34 1540.33 1503.34 1531.6 Q1503.34 1522.85 1506.4 1518.27 Q1509.48 1513.66 1515.29 1513.66 Z\" fill=\"#000000\" fill-rule=\"evenodd\" fill-opacity=\"1\" /><path clip-path=\"url(#clip280)\" d=\"M1883.07 1518.36 L1871.27 1536.81 L1883.07 1536.81 L1883.07 1518.36 M1881.85 1514.29 L1887.73 1514.29 L1887.73 1536.81 L1892.66 1536.81 L1892.66 1540.7 L1887.73 1540.7 L1887.73 1548.85 L1883.07 1548.85 L1883.07 1540.7 L1867.47 1540.7 L1867.47 1536.19 L1881.85 1514.29 Z\" fill=\"#000000\" fill-rule=\"evenodd\" fill-opacity=\"1\" /><path clip-path=\"url(#clip280)\" d=\"M1910.39 1517.37 Q1906.78 1517.37 1904.95 1520.93 Q1903.14 1524.47 1903.14 1531.6 Q1903.14 1538.71 1904.95 1542.27 Q1906.78 1545.82 1910.39 1545.82 Q1914.02 1545.82 1915.83 1542.27 Q1917.66 1538.71 1917.66 1531.6 Q1917.66 1524.47 1915.83 1520.93 Q1914.02 1517.37 1910.39 1517.37 M1910.39 1513.66 Q1916.2 1513.66 1919.25 1518.27 Q1922.33 1522.85 1922.33 1531.6 Q1922.33 1540.33 1919.25 1544.94 Q1916.2 1549.52 1910.39 1549.52 Q1904.58 1549.52 1901.5 1544.94 Q1898.44 1540.33 1898.44 1531.6 Q1898.44 1522.85 1901.5 1518.27 Q1904.58 1513.66 1910.39 1513.66 Z\" fill=\"#000000\" fill-rule=\"evenodd\" fill-opacity=\"1\" /><path clip-path=\"url(#clip280)\" d=\"M1940.55 1517.37 Q1936.94 1517.37 1935.11 1520.93 Q1933.3 1524.47 1933.3 1531.6 Q1933.3 1538.71 1935.11 1542.27 Q1936.94 1545.82 1940.55 1545.82 Q1944.18 1545.82 1945.99 1542.27 Q1947.82 1538.71 1947.82 1531.6 Q1947.82 1524.47 1945.99 1520.93 Q1944.18 1517.37 1940.55 1517.37 M1940.55 1513.66 Q1946.36 1513.66 1949.41 1518.27 Q1952.49 1522.85 1952.49 1531.6 Q1952.49 1540.33 1949.41 1544.94 Q1946.36 1549.52 1940.55 1549.52 Q1934.74 1549.52 1931.66 1544.94 Q1928.6 1540.33 1928.6 1531.6 Q1928.6 1522.85 1931.66 1518.27 Q1934.74 1513.66 1940.55 1513.66 Z\" fill=\"#000000\" fill-rule=\"evenodd\" fill-opacity=\"1\" /><path clip-path=\"url(#clip280)\" d=\"M2294.21 1514.29 L2312.57 1514.29 L2312.57 1518.22 L2298.49 1518.22 L2298.49 1526.7 Q2299.51 1526.35 2300.53 1526.19 Q2301.55 1526 2302.57 1526 Q2308.36 1526 2311.74 1529.17 Q2315.11 1532.34 2315.11 1537.76 Q2315.11 1543.34 2311.64 1546.44 Q2308.17 1549.52 2301.85 1549.52 Q2299.68 1549.52 2297.41 1549.15 Q2295.16 1548.78 2292.75 1548.04 L2292.75 1543.34 Q2294.84 1544.47 2297.06 1545.03 Q2299.28 1545.58 2301.76 1545.58 Q2305.76 1545.58 2308.1 1543.48 Q2310.44 1541.37 2310.44 1537.76 Q2310.44 1534.15 2308.1 1532.04 Q2305.76 1529.94 2301.76 1529.94 Q2299.88 1529.94 2298.01 1530.35 Q2296.16 1530.77 2294.21 1531.65 L2294.21 1514.29 Z\" fill=\"#000000\" fill-rule=\"evenodd\" fill-opacity=\"1\" /><path clip-path=\"url(#clip280)\" d=\"M2334.33 1517.37 Q2330.72 1517.37 2328.89 1520.93 Q2327.08 1524.47 2327.08 1531.6 Q2327.08 1538.71 2328.89 1542.27 Q2330.72 1545.82 2334.33 1545.82 Q2337.96 1545.82 2339.77 1542.27 Q2341.6 1538.71 2341.6 1531.6 Q2341.6 1524.47 2339.77 1520.93 Q2337.96 1517.37 2334.33 1517.37 M2334.33 1513.66 Q2340.14 1513.66 2343.19 1518.27 Q2346.27 1522.85 2346.27 1531.6 Q2346.27 1540.33 2343.19 1544.94 Q2340.14 1549.52 2334.33 1549.52 Q2328.52 1549.52 2325.44 1544.94 Q2322.38 1540.33 2322.38 1531.6 Q2322.38 1522.85 2325.44 1518.27 Q2328.52 1513.66 2334.33 1513.66 Z\" fill=\"#000000\" fill-rule=\"evenodd\" fill-opacity=\"1\" /><path clip-path=\"url(#clip280)\" d=\"M2364.49 1517.37 Q2360.88 1517.37 2359.05 1520.93 Q2357.24 1524.47 2357.24 1531.6 Q2357.24 1538.71 2359.05 1542.27 Q2360.88 1545.82 2364.49 1545.82 Q2368.12 1545.82 2369.93 1542.27 Q2371.76 1538.71 2371.76 1531.6 Q2371.76 1524.47 2369.93 1520.93 Q2368.12 1517.37 2364.49 1517.37 M2364.49 1513.66 Q2370.3 1513.66 2373.36 1518.27 Q2376.43 1522.85 2376.43 1531.6 Q2376.43 1540.33 2373.36 1544.94 Q2370.3 1549.52 2364.49 1549.52 Q2358.68 1549.52 2355.6 1544.94 Q2352.55 1540.33 2352.55 1531.6 Q2352.55 1522.85 2355.6 1518.27 Q2358.68 1513.66 2364.49 1513.66 Z\" fill=\"#000000\" fill-rule=\"evenodd\" fill-opacity=\"1\" /><polyline clip-path=\"url(#clip282)\" style=\"stroke:#000000; stroke-linecap:round; stroke-linejoin:round; stroke-width:2; stroke-opacity:0.1; fill:none\" points=\"\n",
       "  172.015,1452.38 2352.76,1452.38 \n",
       "  \"/>\n",
       "<polyline clip-path=\"url(#clip282)\" style=\"stroke:#000000; stroke-linecap:round; stroke-linejoin:round; stroke-width:2; stroke-opacity:0.1; fill:none\" points=\"\n",
       "  172.015,1168.08 2352.76,1168.08 \n",
       "  \"/>\n",
       "<polyline clip-path=\"url(#clip282)\" style=\"stroke:#000000; stroke-linecap:round; stroke-linejoin:round; stroke-width:2; stroke-opacity:0.1; fill:none\" points=\"\n",
       "  172.015,883.768 2352.76,883.768 \n",
       "  \"/>\n",
       "<polyline clip-path=\"url(#clip282)\" style=\"stroke:#000000; stroke-linecap:round; stroke-linejoin:round; stroke-width:2; stroke-opacity:0.1; fill:none\" points=\"\n",
       "  172.015,599.46 2352.76,599.46 \n",
       "  \"/>\n",
       "<polyline clip-path=\"url(#clip282)\" style=\"stroke:#000000; stroke-linecap:round; stroke-linejoin:round; stroke-width:2; stroke-opacity:0.1; fill:none\" points=\"\n",
       "  172.015,315.151 2352.76,315.151 \n",
       "  \"/>\n",
       "<polyline clip-path=\"url(#clip280)\" style=\"stroke:#000000; stroke-linecap:round; stroke-linejoin:round; stroke-width:4; stroke-opacity:1; fill:none\" points=\"\n",
       "  172.015,1486.45 172.015,47.2441 \n",
       "  \"/>\n",
       "<polyline clip-path=\"url(#clip280)\" style=\"stroke:#000000; stroke-linecap:round; stroke-linejoin:round; stroke-width:4; stroke-opacity:1; fill:none\" points=\"\n",
       "  172.015,1452.38 190.912,1452.38 \n",
       "  \"/>\n",
       "<polyline clip-path=\"url(#clip280)\" style=\"stroke:#000000; stroke-linecap:round; stroke-linejoin:round; stroke-width:4; stroke-opacity:1; fill:none\" points=\"\n",
       "  172.015,1168.08 190.912,1168.08 \n",
       "  \"/>\n",
       "<polyline clip-path=\"url(#clip280)\" style=\"stroke:#000000; stroke-linecap:round; stroke-linejoin:round; stroke-width:4; stroke-opacity:1; fill:none\" points=\"\n",
       "  172.015,883.768 190.912,883.768 \n",
       "  \"/>\n",
       "<polyline clip-path=\"url(#clip280)\" style=\"stroke:#000000; stroke-linecap:round; stroke-linejoin:round; stroke-width:4; stroke-opacity:1; fill:none\" points=\"\n",
       "  172.015,599.46 190.912,599.46 \n",
       "  \"/>\n",
       "<polyline clip-path=\"url(#clip280)\" style=\"stroke:#000000; stroke-linecap:round; stroke-linejoin:round; stroke-width:4; stroke-opacity:1; fill:none\" points=\"\n",
       "  172.015,315.151 190.912,315.151 \n",
       "  \"/>\n",
       "<path clip-path=\"url(#clip280)\" d=\"M124.07 1438.18 Q120.459 1438.18 118.631 1441.75 Q116.825 1445.29 116.825 1452.42 Q116.825 1459.53 118.631 1463.09 Q120.459 1466.63 124.07 1466.63 Q127.705 1466.63 129.51 1463.09 Q131.339 1459.53 131.339 1452.42 Q131.339 1445.29 129.51 1441.75 Q127.705 1438.18 124.07 1438.18 M124.07 1434.48 Q129.881 1434.48 132.936 1439.09 Q136.015 1443.67 136.015 1452.42 Q136.015 1461.15 132.936 1465.75 Q129.881 1470.34 124.07 1470.34 Q118.26 1470.34 115.182 1465.75 Q112.126 1461.15 112.126 1452.42 Q112.126 1443.67 115.182 1439.09 Q118.26 1434.48 124.07 1434.48 Z\" fill=\"#000000\" fill-rule=\"evenodd\" fill-opacity=\"1\" /><path clip-path=\"url(#clip280)\" d=\"M54.5569 1181.42 L62.1958 1181.42 L62.1958 1155.06 L53.8856 1156.72 L53.8856 1152.46 L62.1495 1150.8 L66.8254 1150.8 L66.8254 1181.42 L74.4642 1181.42 L74.4642 1185.36 L54.5569 1185.36 L54.5569 1181.42 Z\" fill=\"#000000\" fill-rule=\"evenodd\" fill-opacity=\"1\" /><path clip-path=\"url(#clip280)\" d=\"M93.9086 1153.88 Q90.2975 1153.88 88.4688 1157.44 Q86.6632 1160.98 86.6632 1168.11 Q86.6632 1175.22 88.4688 1178.78 Q90.2975 1182.32 93.9086 1182.32 Q97.5428 1182.32 99.3483 1178.78 Q101.177 1175.22 101.177 1168.11 Q101.177 1160.98 99.3483 1157.44 Q97.5428 1153.88 93.9086 1153.88 M93.9086 1150.17 Q99.7187 1150.17 102.774 1154.78 Q105.853 1159.36 105.853 1168.11 Q105.853 1176.84 102.774 1181.44 Q99.7187 1186.03 93.9086 1186.03 Q88.0984 1186.03 85.0197 1181.44 Q81.9642 1176.84 81.9642 1168.11 Q81.9642 1159.36 85.0197 1154.78 Q88.0984 1150.17 93.9086 1150.17 Z\" fill=\"#000000\" fill-rule=\"evenodd\" fill-opacity=\"1\" /><path clip-path=\"url(#clip280)\" d=\"M124.07 1153.88 Q120.459 1153.88 118.631 1157.44 Q116.825 1160.98 116.825 1168.11 Q116.825 1175.22 118.631 1178.78 Q120.459 1182.32 124.07 1182.32 Q127.705 1182.32 129.51 1178.78 Q131.339 1175.22 131.339 1168.11 Q131.339 1160.98 129.51 1157.44 Q127.705 1153.88 124.07 1153.88 M124.07 1150.17 Q129.881 1150.17 132.936 1154.78 Q136.015 1159.36 136.015 1168.11 Q136.015 1176.84 132.936 1181.44 Q129.881 1186.03 124.07 1186.03 Q118.26 1186.03 115.182 1181.44 Q112.126 1176.84 112.126 1168.11 Q112.126 1159.36 115.182 1154.78 Q118.26 1150.17 124.07 1150.17 Z\" fill=\"#000000\" fill-rule=\"evenodd\" fill-opacity=\"1\" /><path clip-path=\"url(#clip280)\" d=\"M57.7745 897.113 L74.0939 897.113 L74.0939 901.048 L52.1495 901.048 L52.1495 897.113 Q54.8115 894.358 59.3949 889.729 Q64.0013 885.076 65.1819 883.733 Q67.4272 881.21 68.3068 879.474 Q69.2096 877.715 69.2096 876.025 Q69.2096 873.27 67.2652 871.534 Q65.3439 869.798 62.2421 869.798 Q60.043 869.798 57.5893 870.562 Q55.1588 871.326 52.381 872.877 L52.381 868.155 Q55.2051 867.02 57.6588 866.442 Q60.1124 865.863 62.1495 865.863 Q67.5198 865.863 70.7142 868.548 Q73.9087 871.233 73.9087 875.724 Q73.9087 877.854 73.0985 879.775 Q72.3115 881.673 70.205 884.266 Q69.6263 884.937 66.5245 888.155 Q63.4226 891.349 57.7745 897.113 Z\" fill=\"#000000\" fill-rule=\"evenodd\" fill-opacity=\"1\" /><path clip-path=\"url(#clip280)\" d=\"M93.9086 869.567 Q90.2975 869.567 88.4688 873.132 Q86.6632 876.673 86.6632 883.803 Q86.6632 890.909 88.4688 894.474 Q90.2975 898.016 93.9086 898.016 Q97.5428 898.016 99.3483 894.474 Q101.177 890.909 101.177 883.803 Q101.177 876.673 99.3483 873.132 Q97.5428 869.567 93.9086 869.567 M93.9086 865.863 Q99.7187 865.863 102.774 870.47 Q105.853 875.053 105.853 883.803 Q105.853 892.53 102.774 897.136 Q99.7187 901.719 93.9086 901.719 Q88.0984 901.719 85.0197 897.136 Q81.9642 892.53 81.9642 883.803 Q81.9642 875.053 85.0197 870.47 Q88.0984 865.863 93.9086 865.863 Z\" fill=\"#000000\" fill-rule=\"evenodd\" fill-opacity=\"1\" /><path clip-path=\"url(#clip280)\" d=\"M124.07 869.567 Q120.459 869.567 118.631 873.132 Q116.825 876.673 116.825 883.803 Q116.825 890.909 118.631 894.474 Q120.459 898.016 124.07 898.016 Q127.705 898.016 129.51 894.474 Q131.339 890.909 131.339 883.803 Q131.339 876.673 129.51 873.132 Q127.705 869.567 124.07 869.567 M124.07 865.863 Q129.881 865.863 132.936 870.47 Q136.015 875.053 136.015 883.803 Q136.015 892.53 132.936 897.136 Q129.881 901.719 124.07 901.719 Q118.26 901.719 115.182 897.136 Q112.126 892.53 112.126 883.803 Q112.126 875.053 115.182 870.47 Q118.26 865.863 124.07 865.863 Z\" fill=\"#000000\" fill-rule=\"evenodd\" fill-opacity=\"1\" /><path clip-path=\"url(#clip280)\" d=\"M67.9133 598.106 Q71.2698 598.823 73.1448 601.092 Q75.0429 603.36 75.0429 606.693 Q75.0429 611.809 71.5244 614.61 Q68.0059 617.411 61.5245 617.411 Q59.3486 617.411 57.0338 616.971 Q54.7421 616.555 52.2884 615.698 L52.2884 611.184 Q54.2328 612.318 56.5477 612.897 Q58.8625 613.476 61.3856 613.476 Q65.7837 613.476 68.0754 611.74 Q70.3902 610.004 70.3902 606.693 Q70.3902 603.638 68.2374 601.925 Q66.1078 600.189 62.2884 600.189 L58.2606 600.189 L58.2606 596.346 L62.4735 596.346 Q65.9226 596.346 67.7513 594.981 Q69.58 593.592 69.58 590.999 Q69.58 588.337 67.6819 586.925 Q65.8069 585.49 62.2884 585.49 Q60.3671 585.49 58.168 585.907 Q55.969 586.323 53.3301 587.203 L53.3301 583.036 Q55.9921 582.295 58.3069 581.925 Q60.6449 581.555 62.705 581.555 Q68.0291 581.555 71.1309 583.985 Q74.2327 586.393 74.2327 590.513 Q74.2327 593.383 72.5892 595.374 Q70.9457 597.342 67.9133 598.106 Z\" fill=\"#000000\" fill-rule=\"evenodd\" fill-opacity=\"1\" /><path clip-path=\"url(#clip280)\" d=\"M93.9086 585.258 Q90.2975 585.258 88.4688 588.823 Q86.6632 592.365 86.6632 599.494 Q86.6632 606.601 88.4688 610.166 Q90.2975 613.707 93.9086 613.707 Q97.5428 613.707 99.3483 610.166 Q101.177 606.601 101.177 599.494 Q101.177 592.365 99.3483 588.823 Q97.5428 585.258 93.9086 585.258 M93.9086 581.555 Q99.7187 581.555 102.774 586.161 Q105.853 590.745 105.853 599.494 Q105.853 608.221 102.774 612.828 Q99.7187 617.411 93.9086 617.411 Q88.0984 617.411 85.0197 612.828 Q81.9642 608.221 81.9642 599.494 Q81.9642 590.745 85.0197 586.161 Q88.0984 581.555 93.9086 581.555 Z\" fill=\"#000000\" fill-rule=\"evenodd\" fill-opacity=\"1\" /><path clip-path=\"url(#clip280)\" d=\"M124.07 585.258 Q120.459 585.258 118.631 588.823 Q116.825 592.365 116.825 599.494 Q116.825 606.601 118.631 610.166 Q120.459 613.707 124.07 613.707 Q127.705 613.707 129.51 610.166 Q131.339 606.601 131.339 599.494 Q131.339 592.365 129.51 588.823 Q127.705 585.258 124.07 585.258 M124.07 581.555 Q129.881 581.555 132.936 586.161 Q136.015 590.745 136.015 599.494 Q136.015 608.221 132.936 612.828 Q129.881 617.411 124.07 617.411 Q118.26 617.411 115.182 612.828 Q112.126 608.221 112.126 599.494 Q112.126 590.745 115.182 586.161 Q118.26 581.555 124.07 581.555 Z\" fill=\"#000000\" fill-rule=\"evenodd\" fill-opacity=\"1\" /><path clip-path=\"url(#clip280)\" d=\"M66.5939 301.945 L54.7884 320.394 L66.5939 320.394 L66.5939 301.945 M65.367 297.871 L71.2466 297.871 L71.2466 320.394 L76.1772 320.394 L76.1772 324.283 L71.2466 324.283 L71.2466 332.431 L66.5939 332.431 L66.5939 324.283 L50.9921 324.283 L50.9921 319.769 L65.367 297.871 Z\" fill=\"#000000\" fill-rule=\"evenodd\" fill-opacity=\"1\" /><path clip-path=\"url(#clip280)\" d=\"M93.9086 300.95 Q90.2975 300.95 88.4688 304.515 Q86.6632 308.057 86.6632 315.186 Q86.6632 322.293 88.4688 325.857 Q90.2975 329.399 93.9086 329.399 Q97.5428 329.399 99.3483 325.857 Q101.177 322.293 101.177 315.186 Q101.177 308.057 99.3483 304.515 Q97.5428 300.95 93.9086 300.95 M93.9086 297.246 Q99.7187 297.246 102.774 301.853 Q105.853 306.436 105.853 315.186 Q105.853 323.913 102.774 328.519 Q99.7187 333.103 93.9086 333.103 Q88.0984 333.103 85.0197 328.519 Q81.9642 323.913 81.9642 315.186 Q81.9642 306.436 85.0197 301.853 Q88.0984 297.246 93.9086 297.246 Z\" fill=\"#000000\" fill-rule=\"evenodd\" fill-opacity=\"1\" /><path clip-path=\"url(#clip280)\" d=\"M124.07 300.95 Q120.459 300.95 118.631 304.515 Q116.825 308.057 116.825 315.186 Q116.825 322.293 118.631 325.857 Q120.459 329.399 124.07 329.399 Q127.705 329.399 129.51 325.857 Q131.339 322.293 131.339 315.186 Q131.339 308.057 129.51 304.515 Q127.705 300.95 124.07 300.95 M124.07 297.246 Q129.881 297.246 132.936 301.853 Q136.015 306.436 136.015 315.186 Q136.015 323.913 132.936 328.519 Q129.881 333.103 124.07 333.103 Q118.26 333.103 115.182 328.519 Q112.126 323.913 112.126 315.186 Q112.126 306.436 115.182 301.853 Q118.26 297.246 124.07 297.246 Z\" fill=\"#000000\" fill-rule=\"evenodd\" fill-opacity=\"1\" /><path clip-path=\"url(#clip282)\" d=\"M1540.92 263.176 L1540.92 311.176 L1588.92 311.176 L1588.92 263.176 L1540.92 263.176 Z\" fill=\"#ffffff\" fill-rule=\"evenodd\" fill-opacity=\"1\" stroke=\"#ff0000\" stroke-opacity=\"1\" stroke-width=\"9.6\"/>\n",
       "<path clip-path=\"url(#clip282)\" d=\"M1945.14 307.952 L1945.14 355.952 L1993.14 355.952 L1993.14 307.952 L1945.14 307.952 Z\" fill=\"#ffffff\" fill-rule=\"evenodd\" fill-opacity=\"1\" stroke=\"#ff0000\" stroke-opacity=\"1\" stroke-width=\"9.6\"/>\n",
       "<path clip-path=\"url(#clip282)\" d=\"M2000.16 318.049 L2000.16 366.049 L2048.16 366.049 L2048.16 318.049 L2000.16 318.049 Z\" fill=\"#ffffff\" fill-rule=\"evenodd\" fill-opacity=\"1\" stroke=\"#ff0000\" stroke-opacity=\"1\" stroke-width=\"9.6\"/>\n",
       "<path clip-path=\"url(#clip282)\" d=\"M402.644 1228.13 L402.644 1276.13 L450.644 1276.13 L450.644 1228.13 L402.644 1228.13 Z\" fill=\"#ffffff\" fill-rule=\"evenodd\" fill-opacity=\"1\" stroke=\"#ff0000\" stroke-opacity=\"1\" stroke-width=\"9.6\"/>\n",
       "<path clip-path=\"url(#clip282)\" d=\"M423.183 1266.15 L423.183 1314.15 L471.183 1314.15 L471.183 1266.15 L423.183 1266.15 Z\" fill=\"#ffffff\" fill-rule=\"evenodd\" fill-opacity=\"1\" stroke=\"#ff0000\" stroke-opacity=\"1\" stroke-width=\"9.6\"/>\n",
       "<path clip-path=\"url(#clip282)\" d=\"M334.814 1328.11 L334.814 1376.11 L382.814 1376.11 L382.814 1328.11 L334.814 1328.11 Z\" fill=\"#ffffff\" fill-rule=\"evenodd\" fill-opacity=\"1\" stroke=\"#ff0000\" stroke-opacity=\"1\" stroke-width=\"9.6\"/>\n",
       "<path clip-path=\"url(#clip282)\" d=\"M252.298 1408.78 L252.298 1456.78 L300.298 1456.78 L300.298 1408.78 L252.298 1408.78 Z\" fill=\"#ffffff\" fill-rule=\"evenodd\" fill-opacity=\"1\" stroke=\"#ff0000\" stroke-opacity=\"1\" stroke-width=\"9.6\"/>\n",
       "<path clip-path=\"url(#clip282)\" d=\"M312.316 1360.38 L312.316 1408.38 L360.316 1408.38 L360.316 1360.38 L312.316 1360.38 Z\" fill=\"#ffffff\" fill-rule=\"evenodd\" fill-opacity=\"1\" stroke=\"#ff0000\" stroke-opacity=\"1\" stroke-width=\"9.6\"/>\n",
       "<path clip-path=\"url(#clip282)\" d=\"M209.734 1421.72 L209.734 1469.72 L257.734 1469.72 L257.734 1421.72 L209.734 1421.72 Z\" fill=\"#ffffff\" fill-rule=\"evenodd\" fill-opacity=\"1\" stroke=\"#ff0000\" stroke-opacity=\"1\" stroke-width=\"9.6\"/>\n",
       "<path clip-path=\"url(#clip282)\" d=\"M1583.79 488.987 L1583.79 536.987 L1631.79 536.987 L1631.79 488.987 L1583.79 488.987 Z\" fill=\"#ffffff\" fill-rule=\"evenodd\" fill-opacity=\"1\" stroke=\"#ff0000\" stroke-opacity=\"1\" stroke-width=\"9.6\"/>\n",
       "<path clip-path=\"url(#clip282)\" d=\"M1639.12 734.056 L1639.12 782.056 L1687.12 782.056 L1687.12 734.056 L1639.12 734.056 Z\" fill=\"#ffffff\" fill-rule=\"evenodd\" fill-opacity=\"1\" stroke=\"#ff0000\" stroke-opacity=\"1\" stroke-width=\"9.6\"/>\n",
       "<path clip-path=\"url(#clip282)\" d=\"M1182.73 788.932 L1182.73 836.932 L1230.73 836.932 L1230.73 788.932 L1182.73 788.932 Z\" fill=\"#ffffff\" fill-rule=\"evenodd\" fill-opacity=\"1\" stroke=\"#ff0000\" stroke-opacity=\"1\" stroke-width=\"9.6\"/>\n",
       "<path clip-path=\"url(#clip282)\" d=\"M1264.43 767.218 L1264.43 815.218 L1312.43 815.218 L1312.43 767.218 L1264.43 767.218 Z\" fill=\"#ffffff\" fill-rule=\"evenodd\" fill-opacity=\"1\" stroke=\"#ff0000\" stroke-opacity=\"1\" stroke-width=\"9.6\"/>\n",
       "<path clip-path=\"url(#clip282)\" d=\"M1503.2 89.1202 L1503.2 137.12 L1551.2 137.12 L1551.2 89.1202 L1503.2 89.1202 Z\" fill=\"#ffffff\" fill-rule=\"evenodd\" fill-opacity=\"1\" stroke=\"#ff0000\" stroke-opacity=\"1\" stroke-width=\"9.6\"/>\n",
       "<path clip-path=\"url(#clip282)\" d=\"M2197.22 108.393 L2197.22 156.393 L2245.22 156.393 L2245.22 108.393 L2197.22 108.393 Z\" fill=\"#ffffff\" fill-rule=\"evenodd\" fill-opacity=\"1\" stroke=\"#ff0000\" stroke-opacity=\"1\" stroke-width=\"9.6\"/>\n",
       "<path clip-path=\"url(#clip282)\" d=\"M2158.37 124.165 L2158.37 172.165 L2206.37 172.165 L2206.37 124.165 L2158.37 124.165 Z\" fill=\"#ffffff\" fill-rule=\"evenodd\" fill-opacity=\"1\" stroke=\"#ff0000\" stroke-opacity=\"1\" stroke-width=\"9.6\"/>\n",
       "<path clip-path=\"url(#clip282)\" d=\"M2192.62 65.5176 L2192.62 113.518 L2240.62 113.518 L2240.62 65.5176 L2192.62 65.5176 Z\" fill=\"#ffffff\" fill-rule=\"evenodd\" fill-opacity=\"1\" stroke=\"#ff0000\" stroke-opacity=\"1\" stroke-width=\"9.6\"/>\n",
       "<path clip-path=\"url(#clip282)\" d=\"M2267.04 101.954 L2267.04 149.954 L2315.04 149.954 L2315.04 101.954 L2267.04 101.954 Z\" fill=\"#ffffff\" fill-rule=\"evenodd\" fill-opacity=\"1\" stroke=\"#ff0000\" stroke-opacity=\"1\" stroke-width=\"9.6\"/>\n",
       "<path clip-path=\"url(#clip282)\" d=\"M2111.01 114.119 L2111.01 162.119 L2159.01 162.119 L2159.01 114.119 L2111.01 114.119 Z\" fill=\"#ffffff\" fill-rule=\"evenodd\" fill-opacity=\"1\" stroke=\"#ff0000\" stroke-opacity=\"1\" stroke-width=\"9.6\"/>\n",
       "<path clip-path=\"url(#clip282)\" d=\"M1164.1 730.676 L1164.1 778.676 L1212.1 778.676 L1212.1 730.676 L1164.1 730.676 Z\" fill=\"#ffffff\" fill-rule=\"evenodd\" fill-opacity=\"1\" stroke=\"#ff0000\" stroke-opacity=\"1\" stroke-width=\"9.6\"/>\n",
       "<path clip-path=\"url(#clip282)\" d=\"M1201.64 734.235 L1201.64 782.235 L1249.64 782.235 L1249.64 734.235 L1201.64 734.235 Z\" fill=\"#ffffff\" fill-rule=\"evenodd\" fill-opacity=\"1\" stroke=\"#ff0000\" stroke-opacity=\"1\" stroke-width=\"9.6\"/>\n",
       "<path clip-path=\"url(#clip282)\" d=\"M1130.85 796.982 L1130.85 844.982 L1178.85 844.982 L1178.85 796.982 L1130.85 796.982 Z\" fill=\"#ffffff\" fill-rule=\"evenodd\" fill-opacity=\"1\" stroke=\"#ff0000\" stroke-opacity=\"1\" stroke-width=\"9.6\"/>\n",
       "<path clip-path=\"url(#clip282)\" d=\"M2141.26 63.9763 L2141.26 111.976 L2189.26 111.976 L2189.26 63.9763 L2141.26 63.9763 Z\" fill=\"#ffffff\" fill-rule=\"evenodd\" fill-opacity=\"1\" stroke=\"#ff0000\" stroke-opacity=\"1\" stroke-width=\"9.6\"/>\n",
       "<path clip-path=\"url(#clip282)\" d=\"M2080.8 1303.59 L2080.8 1351.59 L2128.8 1351.59 L2128.8 1303.59 L2080.8 1303.59 Z\" fill=\"#ffffff\" fill-rule=\"evenodd\" fill-opacity=\"1\" stroke=\"#ff0000\" stroke-opacity=\"1\" stroke-width=\"9.6\"/>\n",
       "<path clip-path=\"url(#clip282)\" d=\"M450.791 1351.4 L450.791 1399.4 L498.791 1399.4 L498.791 1351.4 L450.791 1351.4 Z\" fill=\"#ffffff\" fill-rule=\"evenodd\" fill-opacity=\"1\" stroke=\"#ff0000\" stroke-opacity=\"1\" stroke-width=\"9.6\"/>\n",
       "<path clip-path=\"url(#clip282)\" d=\"M316.283 1360.39 L316.283 1408.39 L364.283 1408.39 L364.283 1360.39 L316.283 1360.39 Z\" fill=\"#ffffff\" fill-rule=\"evenodd\" fill-opacity=\"1\" stroke=\"#ff0000\" stroke-opacity=\"1\" stroke-width=\"9.6\"/>\n",
       "<path clip-path=\"url(#clip280)\" d=\"\n",
       "M1723.76 198.898 L2280.06 198.898 L2280.06 95.2176 L1723.76 95.2176  Z\n",
       "  \" fill=\"#ffffff\" fill-rule=\"evenodd\" fill-opacity=\"1\"/>\n",
       "<polyline clip-path=\"url(#clip280)\" style=\"stroke:#000000; stroke-linecap:round; stroke-linejoin:round; stroke-width:4; stroke-opacity:1; fill:none\" points=\"\n",
       "  1723.76,198.898 2280.06,198.898 2280.06,95.2176 1723.76,95.2176 1723.76,198.898 \n",
       "  \"/>\n",
       "<path clip-path=\"url(#clip280)\" d=\"M1795.08 121.458 L1795.08 172.658 L1846.28 172.658 L1846.28 121.458 L1795.08 121.458 Z\" fill=\"#ffffff\" fill-rule=\"evenodd\" fill-opacity=\"1\" stroke=\"#ff0000\" stroke-opacity=\"1\" stroke-width=\"10.24\"/>\n",
       "<path clip-path=\"url(#clip280)\" d=\"M1917.6 129.778 L1946.84 129.778 L1946.84 133.713 L1934.57 133.713 L1934.57 164.338 L1929.87 164.338 L1929.87 133.713 L1917.6 133.713 L1917.6 129.778 Z\" fill=\"#000000\" fill-rule=\"evenodd\" fill-opacity=\"1\" /><path clip-path=\"url(#clip280)\" d=\"M1955.1 151.305 Q1949.94 151.305 1947.95 152.486 Q1945.96 153.666 1945.96 156.514 Q1945.96 158.782 1947.44 160.125 Q1948.94 161.444 1951.51 161.444 Q1955.05 161.444 1957.18 158.944 Q1959.34 156.421 1959.34 152.254 L1959.34 151.305 L1955.1 151.305 M1963.6 149.546 L1963.6 164.338 L1959.34 164.338 L1959.34 160.402 Q1957.88 162.763 1955.7 163.898 Q1953.53 165.009 1950.38 165.009 Q1946.4 165.009 1944.04 162.787 Q1941.7 160.541 1941.7 156.791 Q1941.7 152.416 1944.61 150.194 Q1947.55 147.972 1953.36 147.972 L1959.34 147.972 L1959.34 147.555 Q1959.34 144.615 1957.39 143.018 Q1955.47 141.398 1951.98 141.398 Q1949.75 141.398 1947.65 141.93 Q1945.54 142.463 1943.6 143.527 L1943.6 139.592 Q1945.93 138.69 1948.13 138.25 Q1950.33 137.787 1952.42 137.787 Q1958.04 137.787 1960.82 140.703 Q1963.6 143.62 1963.6 149.546 Z\" fill=\"#000000\" fill-rule=\"evenodd\" fill-opacity=\"1\" /><path clip-path=\"url(#clip280)\" d=\"M1988.9 139.176 L1988.9 143.203 Q1987.09 142.277 1985.15 141.815 Q1983.2 141.352 1981.12 141.352 Q1977.95 141.352 1976.35 142.324 Q1974.78 143.296 1974.78 145.24 Q1974.78 146.722 1975.91 147.578 Q1977.04 148.412 1980.47 149.176 L1981.93 149.5 Q1986.47 150.472 1988.36 152.254 Q1990.29 154.014 1990.29 157.185 Q1990.29 160.796 1987.42 162.902 Q1984.57 165.009 1979.57 165.009 Q1977.48 165.009 1975.22 164.592 Q1972.97 164.199 1970.47 163.388 L1970.47 158.99 Q1972.83 160.217 1975.12 160.842 Q1977.42 161.444 1979.66 161.444 Q1982.67 161.444 1984.29 160.426 Q1985.91 159.384 1985.91 157.509 Q1985.91 155.773 1984.73 154.847 Q1983.57 153.921 1979.61 153.064 L1978.13 152.717 Q1974.17 151.884 1972.42 150.171 Q1970.66 148.435 1970.66 145.426 Q1970.66 141.768 1973.25 139.778 Q1975.84 137.787 1980.61 137.787 Q1982.97 137.787 1985.05 138.134 Q1987.14 138.481 1988.9 139.176 Z\" fill=\"#000000\" fill-rule=\"evenodd\" fill-opacity=\"1\" /><path clip-path=\"url(#clip280)\" d=\"M1996.91 128.319 L2001.19 128.319 L2001.19 149.592 L2013.9 138.412 L2019.34 138.412 L2005.59 150.541 L2019.91 164.338 L2014.36 164.338 L2001.19 151.676 L2001.19 164.338 L1996.91 164.338 L1996.91 128.319 Z\" fill=\"#000000\" fill-rule=\"evenodd\" fill-opacity=\"1\" /><path clip-path=\"url(#clip280)\" d=\"M2039.78 129.778 L2044.45 129.778 L2044.45 160.402 L2061.28 160.402 L2061.28 164.338 L2039.78 164.338 L2039.78 129.778 Z\" fill=\"#000000\" fill-rule=\"evenodd\" fill-opacity=\"1\" /><path clip-path=\"url(#clip280)\" d=\"M2075.22 141.398 Q2071.79 141.398 2069.8 144.083 Q2067.81 146.745 2067.81 151.398 Q2067.81 156.051 2069.78 158.736 Q2071.77 161.398 2075.22 161.398 Q2078.62 161.398 2080.61 158.713 Q2082.6 156.027 2082.6 151.398 Q2082.6 146.791 2080.61 144.106 Q2078.62 141.398 2075.22 141.398 M2075.22 137.787 Q2080.77 137.787 2083.94 141.398 Q2087.11 145.009 2087.11 151.398 Q2087.11 157.764 2083.94 161.398 Q2080.77 165.009 2075.22 165.009 Q2069.64 165.009 2066.47 161.398 Q2063.32 157.764 2063.32 151.398 Q2063.32 145.009 2066.47 141.398 Q2069.64 137.787 2075.22 137.787 Z\" fill=\"#000000\" fill-rule=\"evenodd\" fill-opacity=\"1\" /><path clip-path=\"url(#clip280)\" d=\"M2112.83 139.407 L2112.83 143.389 Q2111.03 142.393 2109.2 141.907 Q2107.39 141.398 2105.54 141.398 Q2101.4 141.398 2099.1 144.037 Q2096.81 146.652 2096.81 151.398 Q2096.81 156.143 2099.1 158.782 Q2101.4 161.398 2105.54 161.398 Q2107.39 161.398 2109.2 160.912 Q2111.03 160.402 2112.83 159.407 L2112.83 163.342 Q2111.05 164.176 2109.13 164.592 Q2107.23 165.009 2105.08 165.009 Q2099.22 165.009 2095.77 161.328 Q2092.32 157.648 2092.32 151.398 Q2092.32 145.055 2095.79 141.421 Q2099.29 137.787 2105.35 137.787 Q2107.32 137.787 2109.2 138.203 Q2111.07 138.597 2112.83 139.407 Z\" fill=\"#000000\" fill-rule=\"evenodd\" fill-opacity=\"1\" /><path clip-path=\"url(#clip280)\" d=\"M2132.02 151.305 Q2126.86 151.305 2124.87 152.486 Q2122.88 153.666 2122.88 156.514 Q2122.88 158.782 2124.36 160.125 Q2125.86 161.444 2128.43 161.444 Q2131.97 161.444 2134.1 158.944 Q2136.26 156.421 2136.26 152.254 L2136.26 151.305 L2132.02 151.305 M2140.52 149.546 L2140.52 164.338 L2136.26 164.338 L2136.26 160.402 Q2134.8 162.763 2132.62 163.898 Q2130.45 165.009 2127.3 165.009 Q2123.32 165.009 2120.96 162.787 Q2118.62 160.541 2118.62 156.791 Q2118.62 152.416 2121.53 150.194 Q2124.47 147.972 2130.28 147.972 L2136.26 147.972 L2136.26 147.555 Q2136.26 144.615 2134.31 143.018 Q2132.39 141.398 2128.9 141.398 Q2126.67 141.398 2124.57 141.93 Q2122.46 142.463 2120.52 143.527 L2120.52 139.592 Q2122.85 138.69 2125.05 138.25 Q2127.25 137.787 2129.34 137.787 Q2134.96 137.787 2137.74 140.703 Q2140.52 143.62 2140.52 149.546 Z\" fill=\"#000000\" fill-rule=\"evenodd\" fill-opacity=\"1\" /><path clip-path=\"url(#clip280)\" d=\"M2153.5 131.051 L2153.5 138.412 L2162.28 138.412 L2162.28 141.722 L2153.5 141.722 L2153.5 155.796 Q2153.5 158.967 2154.36 159.87 Q2155.24 160.773 2157.9 160.773 L2162.28 160.773 L2162.28 164.338 L2157.9 164.338 Q2152.97 164.338 2151.09 162.509 Q2149.22 160.657 2149.22 155.796 L2149.22 141.722 L2146.09 141.722 L2146.09 138.412 L2149.22 138.412 L2149.22 131.051 L2153.5 131.051 Z\" fill=\"#000000\" fill-rule=\"evenodd\" fill-opacity=\"1\" /><path clip-path=\"url(#clip280)\" d=\"M2167.88 138.412 L2172.14 138.412 L2172.14 164.338 L2167.88 164.338 L2167.88 138.412 M2167.88 128.319 L2172.14 128.319 L2172.14 133.713 L2167.88 133.713 L2167.88 128.319 Z\" fill=\"#000000\" fill-rule=\"evenodd\" fill-opacity=\"1\" /><path clip-path=\"url(#clip280)\" d=\"M2191.09 141.398 Q2187.67 141.398 2185.68 144.083 Q2183.69 146.745 2183.69 151.398 Q2183.69 156.051 2185.65 158.736 Q2187.65 161.398 2191.09 161.398 Q2194.5 161.398 2196.49 158.713 Q2198.48 156.027 2198.48 151.398 Q2198.48 146.791 2196.49 144.106 Q2194.5 141.398 2191.09 141.398 M2191.09 137.787 Q2196.65 137.787 2199.82 141.398 Q2202.99 145.009 2202.99 151.398 Q2202.99 157.764 2199.82 161.398 Q2196.65 165.009 2191.09 165.009 Q2185.52 165.009 2182.34 161.398 Q2179.2 157.764 2179.2 151.398 Q2179.2 145.009 2182.34 141.398 Q2185.52 137.787 2191.09 137.787 Z\" fill=\"#000000\" fill-rule=\"evenodd\" fill-opacity=\"1\" /><path clip-path=\"url(#clip280)\" d=\"M2231.6 148.689 L2231.6 164.338 L2227.34 164.338 L2227.34 148.828 Q2227.34 145.148 2225.91 143.319 Q2224.47 141.49 2221.6 141.49 Q2218.15 141.49 2216.16 143.69 Q2214.17 145.889 2214.17 149.685 L2214.17 164.338 L2209.89 164.338 L2209.89 138.412 L2214.17 138.412 L2214.17 142.44 Q2215.7 140.102 2217.76 138.944 Q2219.84 137.787 2222.55 137.787 Q2227.02 137.787 2229.31 140.565 Q2231.6 143.319 2231.6 148.689 Z\" fill=\"#000000\" fill-rule=\"evenodd\" fill-opacity=\"1\" /></svg>\n"
      ]
     },
     "execution_count": 89,
     "metadata": {},
     "output_type": "execute_result"
    }
   ],
   "source": [
    "# let's do a little JuMP exercise of plotting the locations.\n",
    "x_values = []\n",
    "y_values = []\n",
    "for i in 1:Int(length(locations) / 2)\n",
    "    push!(x_values, locations[i * 2 - 1])\n",
    "    push!(y_values, locations[i*2])\n",
    "end\n",
    "\n",
    "Plots.scatter(x_values, y_values; label = \"Task Location\", markershape = :square, \n",
    "markercolor = :white, markersize = 6, markerstrokecolor = :red, markerstrokewidth = 3)"
   ]
  },
  {
   "cell_type": "code",
   "execution_count": 91,
   "id": "5784f3de",
   "metadata": {},
   "outputs": [
    {
     "name": "stdout",
     "output_type": "stream",
     "text": [
      "T is 50"
     ]
    }
   ],
   "source": [
    "# normalization and checking: make sure that T is truly the largest we need\n",
    "max_t = 0\n",
    "for window in time_windows\n",
    "    if window[2] > max_t\n",
    "        max_t = window[2]\n",
    "    end\n",
    "end\n",
    "T = min(50, max_t + 8);\n",
    "#T is still 50\n",
    "\n",
    "print(\"T is \", T)"
   ]
  },
  {
   "cell_type": "markdown",
   "id": "d6eff000",
   "metadata": {},
   "source": [
    "## [1c] Create the time-space network for jobs"
   ]
  },
  {
   "cell_type": "markdown",
   "id": "9b0502b6",
   "metadata": {},
   "source": [
    "### Create node network"
   ]
  },
  {
   "cell_type": "code",
   "execution_count": 93,
   "id": "bd123267",
   "metadata": {},
   "outputs": [
    {
     "data": {
      "text/plain": [
       "create_node_network (generic function with 1 method)"
      ]
     },
     "execution_count": 93,
     "metadata": {},
     "output_type": "execute_result"
    }
   ],
   "source": [
    "#=\n",
    "Create the node network\n",
    "\n",
    "This will be of the form\n",
    "[ [location, time] ...]\n",
    "\n",
    "which is a full rendition of all possible \n",
    "locations and times\n",
    "\n",
    "so there will be (total time - 2) * location\n",
    "nodes.\n",
    "\n",
    "This will create a time-space network not including\n",
    "the very first and very last time,\n",
    "because those have time 1 = location 0 and time 50 = location 26\n",
    "by default. So we don't need to put it in here.\n",
    "=#\n",
    "function create_node_network(n_jobs, T)\n",
    "    nodes = []\n",
    "    for i in 1:n_jobs\n",
    "        for t in 2:(T-1)\n",
    "            push!(nodes, [i, t])\n",
    "        end\n",
    "    end\n",
    "    return nodes\n",
    "end"
   ]
  },
  {
   "cell_type": "markdown",
   "id": "9890b537",
   "metadata": {},
   "source": [
    "### Create Arc System\n",
    "\n",
    "This is more complicated and involves three stages.\n",
    "\n",
    "First: leaving the depot\n",
    "\n",
    "Second: between jobs\n",
    "\n",
    "Third: coming back into the depot.\n",
    "\n",
    "It is assumed that no vehicle will do depot -> job -> depot -> job...\n",
    "because it is inefficient. \n",
    "\n",
    "We just go depot -> job -> back to depot.\n",
    "(job can consist of multiple jobs)"
   ]
  },
  {
   "cell_type": "code",
   "execution_count": 94,
   "id": "85c44a06",
   "metadata": {},
   "outputs": [
    {
     "data": {
      "text/plain": [
       "create_arc_system (generic function with 2 methods)"
      ]
     },
     "execution_count": 94,
     "metadata": {},
     "output_type": "execute_result"
    }
   ],
   "source": [
    "function create_arc_system(n_jobs, distances, speed, time_windows, nodes)\n",
    "    #=\n",
    "    Create a full arc system which has the format\n",
    "    [ [initial_i, initial_t], [end_i, end_t], distance]\n",
    "    \n",
    "    remember: distance is like our cost, the first two elements represent the movement\n",
    "    =#\n",
    "    \n",
    "    arcs = []\n",
    "    \n",
    "    #leaving the depot\n",
    "    for n in nodes\n",
    "        dist = distances[1, n[1] + 1]\n",
    "        max_t = 0\n",
    "        for t in 1:n[2]\n",
    "            if n[2] > (t + dist/speed)\n",
    "                max_t = t\n",
    "            end\n",
    "        end\n",
    "        push!(arcs, [[0, max_t], n, dist])\n",
    "    end\n",
    "    \n",
    "    #between two jobs\n",
    "    for n1 in nodes\n",
    "        already = []\n",
    "        for n2 in nodes\n",
    "            dist = distances[n1[1]+1, n2[1]+1]\n",
    "            \n",
    "            #=\n",
    "            only add arc from node n1 = [i1, t1] to n2 = [i2, t2] if:\n",
    "            1) it is possible to get from n1 to n2 within the given timeframe (time = dist / speed)\n",
    "            2) the nodes do not have the same job location - this is covered in elseif\n",
    "            3) n2 is not already covered in our node network - it won't be a superfluous addition\n",
    "            4) n2's time is worth going to: we have enough time left to get there to do the job\n",
    "            \n",
    "            condition 4 example: If current time is 15, time window is [13, 20], and the work load \n",
    "            (time required) is 6 hours, then don't bother going to the job - it's a waste of time\n",
    "            =#\n",
    "            if (n2[2] > n1[2] + dist/speed) & \n",
    "                (n2[1] != n1[1]) & \n",
    "                (!(n2[1] in  already)) & \n",
    "                (n2[2] <= (time_windows[n2[1]][2] - work_load[n2[1]]))\n",
    "                push!(arcs, [n1, n2, dist])\n",
    "                push!(already, n2[1]) #already visited so we don't do it again: algorithmic efficiency\n",
    "                \n",
    "            elseif (n2[2] == n1[2] + 1) & (n2[1] == n1[1])\n",
    "                push!(arcs, [n1, n2, dist])\n",
    "                \n",
    "            end\n",
    "        end\n",
    "    end\n",
    "    \n",
    "    #Back to the depot\n",
    "    for n in nodes\n",
    "        dist = distances[1, n[1] + 1]\n",
    "        min_t = T+1\n",
    "        for t in T:-1:1\n",
    "            if t > (n[2]+dist/speed)\n",
    "                min_t = t\n",
    "            end\n",
    "        end\n",
    "        push!(arcs, [n, [n_jobs+1, min_t], dist])\n",
    "    end\n",
    "    \n",
    "    #Now, add intra-depot arcs to minimize drivers necessary\n",
    "    push!(arcs, [[0,1], [n_jobs+1, 2], 0])\n",
    "    \n",
    "    #finally, arcs is ready\n",
    "    \n",
    "    return arcs\n",
    "end"
   ]
  },
  {
   "cell_type": "code",
   "execution_count": 96,
   "id": "3f7a0169",
   "metadata": {},
   "outputs": [
    {
     "name": "stdout",
     "output_type": "stream",
     "text": [
      "Number of nodes: 1200\n",
      "Number of arcs: 14372\n"
     ]
    }
   ],
   "source": [
    "nodes = create_node_network(n_jobs, T)\n",
    "arcs = create_arc_system(n_jobs, distances, speed, time_windows, nodes)\n",
    "\n",
    "print(\"Number of nodes: \", length(nodes), \"\\n\")\n",
    "print(\"Number of arcs: \", length(arcs), \"\\n\")\n",
    "\n",
    "#=\n",
    "Arcs are represented in the format\n",
    "[ [initial_i, initial_t], [after_i, after_t], distance]\n",
    "\n",
    "so\n",
    "arc[1] = tuple of initial (i, t)\n",
    "arc[2] = tuple of after (i, t)\n",
    "arc[3] = distance traveled\n",
    "\n",
    "and then arcs is a list of these arcs\n",
    "=#"
   ]
  },
  {
   "cell_type": "code",
   "execution_count": 99,
   "id": "5873ed98",
   "metadata": {},
   "outputs": [
    {
     "name": "stdout",
     "output_type": "stream",
     "text": [
      "A sampling of arcs\n",
      "Arc number 56 is Any[[0, 7], [2, 9], 189.1513061504225]\n",
      "Arc number 1842 is Any[[2, 8], [13, 11], 466.4941621699598]\n",
      "Arc number 5883 is Any[[10, 21], [23, 24], 466.46822030878553]\n",
      "Arc number 13313 is Any[[3, 47], [26, 49], 171.83512708434338]\n"
     ]
    }
   ],
   "source": [
    "# sample some of the arcs\n",
    "print(\"A sampling of arcs\\n\")\n",
    "for i in [56, 1842, 5883, 13313]\n",
    "    print(\"Arc number \", i, \" is \", arcs[i], \"\\n\")\n",
    "end"
   ]
  },
  {
   "cell_type": "markdown",
   "id": "0b07217a",
   "metadata": {},
   "source": [
    "## [1d] Create Coverage System\n",
    "\n",
    "This is the same thing as what we did before, except instead for task vehicles, we do it for coverage vehicles."
   ]
  },
  {
   "cell_type": "markdown",
   "id": "8e3db72e",
   "metadata": {},
   "source": [
    "Our first order of business is to identify all jobs which weren't covered by coverage vehicles given a coverage set. The function works as follows.\n",
    "\n",
    "First, given a `set_coverage` which indicates where the vehicle is placed. Then, for all jobs, we suppose it's not covered. For the coverage vehicle possibilities, we see if among all coverage vehicles, there exists one whose coverage radius emanates sufficiently outward to encapsulate that location. If so, then we say it is covered; otherwise, it's not.\n",
    "\n",
    "If a job isn't covered, indicate so, and return."
   ]
  },
  {
   "cell_type": "code",
   "execution_count": 100,
   "id": "447d6416",
   "metadata": {},
   "outputs": [
    {
     "data": {
      "text/plain": [
       "find_not_covered (generic function with 1 method)"
      ]
     },
     "execution_count": 100,
     "metadata": {},
     "output_type": "execute_result"
    }
   ],
   "source": [
    "function find_not_covered(set_coverage)\n",
    "    jobs_not_covered = []\n",
    "    for job in 1:n_jobs\n",
    "        covered_job = false\n",
    "        for j in 2:n_cov\n",
    "            if LinearAlgebra.norm(set_coverage[j] .- locations[job+1,:]) <= coverage_distance\n",
    "                covered_job = true\n",
    "            end\n",
    "        end\n",
    "    \n",
    "        if !(covered_job)\n",
    "            push!(jobs_not_covered, job)\n",
    "        end\n",
    "    end\n",
    "    return jobs_not_covered\n",
    "end"
   ]
  },
  {
   "cell_type": "markdown",
   "id": "f9507435",
   "metadata": {},
   "source": [
    "### Create Coverage Location Array\n",
    "\n",
    "Now, we need to initialize a coverage array by determining where the coverage stations will be. This initialization can be compared with the initialization system for task locations in section 1b."
   ]
  },
  {
   "cell_type": "code",
   "execution_count": 108,
   "id": "4ac9fef7",
   "metadata": {
    "scrolled": true
   },
   "outputs": [
    {
     "name": "stdout",
     "output_type": "stream",
     "text": [
      "Locations array is: [[318.7348760600243, 309.8511894728042], [409.8396829781945, 471.0606169001269], [413.9330980885311, 473.3000045221094], [394.09086721777453, 464.28170943801547], [426.8907091757432, 464.150778494994], [390.539365740374, 458.73437243543265], [50.66010041639368, 472.21518107980825], [70.43674365860144, 479.36236715745713], [55.49732425881798, 489.7419145344903], [57.061886788387994, 466.5465145383949], [34.68551837237168, 452.9956436103775], [35.270113860988985, 462.2676823720703], [15.252191921314552, 229.98919390540067], [6.893852859075727, 245.4056075271678], [29.38710926471096, 238.83075563046256], [23.920121390614007, 244.15397088759136], [5.2279674253960655, 222.15834228388846], [2.3457058779997113, 222.08365976523228], [328.8310057424593, 460.1199259818831], [330.41526798792916, 479.9044953831515], [341.8618970696543, 445.8802558335132], [244.21693845829762, 43.895806990129294], [234.37857034174357, 61.99918941572368], [224.91523236405249, 27.078684012982503], [253.61919104514953, 30.321211607660384], [232.5527948315421, 23.91424852556743]]\n"
     ]
    },
    {
     "data": {
      "text/plain": [
       "1-element Vector{Vector{Float64}}:\n",
       " [318.7348760600243, 309.8511894728042]"
      ]
     },
     "execution_count": 108,
     "metadata": {},
     "output_type": "execute_result"
    }
   ],
   "source": [
    "locations_array = [[locations[i,1], locations[i,2]] for i in 1:(n_jobs+1)]\n",
    "#=\n",
    "locations_array restyles locations in a better format that gives\n",
    "a list of tuples. then we take the first one to be our primary coverage location\n",
    "and then we add to it.\n",
    "=#\n",
    "\n",
    "print(\"Locations array is: \", locations_array, \"\\n\")\n",
    "hull = convex_hull(locations_array)\n",
    "\n",
    "coverage_locations = [[locations[1, 1], locations[1, 2]]]"
   ]
  },
  {
   "cell_type": "code",
   "execution_count": 109,
   "id": "17487501",
   "metadata": {
    "scrolled": true
   },
   "outputs": [
    {
     "name": "stdout",
     "output_type": "stream",
     "text": [
      "Coverage locations after establishment: [[318.7348760600243, 309.8511894728042], [50.0, 200.0], [50.0, 250.0], [50.0, 450.0], [100.0, 450.0], [200.0, 50.0], [250.0, 50.0], [250.0, 100.0], [300.0, 450.0], [350.0, 400.0], [350.0, 450.0], [400.0, 450.0]]\n",
      "Number of coverage locations: 12\n"
     ]
    }
   ],
   "source": [
    "function establish_coverage_locations(coverage_locations)\n",
    "    #=\n",
    "    Given some parameters including initial coverage locations, as well as:\n",
    "    size (of mesh)\n",
    "    step (within mesh)\n",
    "    coverage_distance (how wide the radius is for a coverage vehicle)\n",
    "    \n",
    "    create a system of coverage locations of where we can possibly be.\n",
    "    \n",
    "    In other words, we are given the job/task locations FIRST. Then,\n",
    "    we will decide which discrete coverage locations we will have as \n",
    "    possibilities for the coverage.\n",
    "    =#\n",
    "    for i in 0:(size/step)\n",
    "        for j in 0:(size/step)\n",
    "            x = i*step\n",
    "            y = j*step\n",
    "            # assume that the coverage location is useless.\n",
    "            useful = false\n",
    "            for job in 1:n_jobs\n",
    "                if (LinearAlgebra.norm([x,y] .- locations[job+1,:]) <= coverage_distance) & \n",
    "                    (element(Singleton([x,y])) ∈ VPolygon(hull))\n",
    "                    useful = true\n",
    "                end\n",
    "            end\n",
    "            if useful\n",
    "                push!(coverage_locations, [x,y])\n",
    "            end\n",
    "        end\n",
    "    end\n",
    "    \n",
    "    return coverage_locations\n",
    "end\n",
    "coverage_locations = establish_coverage_locations(coverage_locations)\n",
    "\n",
    "print(\"Coverage locations after establishment: \", coverage_locations, \"\\n\")\n",
    "\n",
    "n_cov = length(coverage_locations)\n",
    "print(\"Number of coverage locations: \", n_cov, \"\\n\")"
   ]
  },
  {
   "cell_type": "markdown",
   "id": "4d32c141",
   "metadata": {},
   "source": [
    "Now we have successfully defined coverage locations.\n",
    "\n",
    "What we need to do is to see if there are any jobs uncovered."
   ]
  },
  {
   "cell_type": "code",
   "execution_count": 111,
   "id": "bc91794f",
   "metadata": {
    "scrolled": true
   },
   "outputs": [
    {
     "name": "stdout",
     "output_type": "stream",
     "text": [
      "Now, we have 13 locations.\n",
      "They are: [[318.7348760600243, 309.8511894728042], [50.0, 200.0], [50.0, 250.0], [50.0, 450.0], [100.0, 450.0], [200.0, 50.0], [250.0, 50.0], [250.0, 100.0], [300.0, 450.0], [350.0, 400.0], [350.0, 450.0], [400.0, 450.0], [0.0, 225.0]]\n"
     ]
    }
   ],
   "source": [
    "jobs_not_covered = find_not_covered(coverage_locations)\n",
    "\n",
    "#this is going to be problematic: if we don't have something close enough, create a new one\n",
    "for job in jobs_not_covered\n",
    "    print(\"Job \", job, \" is uncovered!\\n\")\n",
    "    loc = locations[job + 1, :]\n",
    "    new_x = round(loc[1]/25)*25\n",
    "    new_y = round(loc[2]/25)*25\n",
    "    if !([new_x, new_y] in coverage_locations)\n",
    "        push!(coverage_locations, [new_x, new_y])\n",
    "    end\n",
    "end\n",
    "\n",
    "#see if anything changes\n",
    "n_cov = length(coverage_locations)\n",
    "println(\"Now, we have \", n_cov, \" locations.\")\n",
    "println(\"They are: \", coverage_locations)"
   ]
  },
  {
   "cell_type": "code",
   "execution_count": 113,
   "id": "6f218073",
   "metadata": {
    "scrolled": true
   },
   "outputs": [
    {
     "data": {
      "text/plain": [
       "13×13 Matrix{Float64}:\n",
       "   0.0     290.32    275.319   303.084  …  143.594  162.005   329.836\n",
       " 290.32      0.0      50.0     250.0       390.512  430.116    55.9017\n",
       " 275.319    50.0       0.0     200.0       360.555  403.113    55.9017\n",
       " 303.084   250.0     200.0       0.0       300.0    350.0     230.489\n",
       " 259.782   254.951   206.155    50.0       250.0    300.0     246.221\n",
       " 285.693   212.132   250.0     427.2    …  427.2    447.214   265.754\n",
       " 268.788   250.0     282.843   447.214     412.311  427.2     305.164\n",
       " 220.821   223.607   250.0     403.113     364.005  380.789   279.508\n",
       " 141.395   353.553   320.156   250.0        50.0    100.0     375.0\n",
       "  95.4165  360.555   335.41    304.138      50.0     70.7107  391.312\n",
       " 143.594   390.512   360.555   300.0    …    0.0     50.0     416.083\n",
       " 162.005   430.116   403.113   350.0        50.0      0.0     458.939\n",
       " 329.836    55.9017   55.9017  230.489     416.083  458.939     0.0"
      ]
     },
     "execution_count": 113,
     "metadata": {},
     "output_type": "execute_result"
    }
   ],
   "source": [
    "#=\n",
    "We create a matrix of how distant coverage locations are to EACH OTHER.\n",
    "=#\n",
    "coverage_distances = [LinearAlgebra.norm(coverage_locations[i] .- coverage_locations[j]) \n",
    "    for i=1:length(coverage_locations), j = 1:length(coverage_locations)]"
   ]
  },
  {
   "cell_type": "markdown",
   "id": "a04598d9",
   "metadata": {},
   "source": [
    "## [1e] Create Node and Arc Systems for COVERAGE\n",
    "\n",
    "Analogous to 1c."
   ]
  },
  {
   "cell_type": "markdown",
   "id": "8ba16393",
   "metadata": {},
   "source": [
    "For the Node Network"
   ]
  },
  {
   "cell_type": "code",
   "execution_count": null,
   "id": "a5c35f2f",
   "metadata": {},
   "outputs": [],
   "source": [
    "#=\n",
    "This is analogous to what we do above. \n",
    "=#\n",
    "function create_cov_node_network(n_cov)\n",
    "    #=\n",
    "    Given a number of coverage nodes, creates a full \n",
    "    coverage network in similar fashion to what\n",
    "    we did in 1c.\n",
    "    =#\n",
    "    nodes_cov = []\n",
    "    for i in 1:(n_cov-1)\n",
    "        for t in 2:(T-1)\n",
    "            push!(nodes_cov, [i,t])\n",
    "        end\n",
    "    end\n",
    "    return nodes_cov\n",
    "end"
   ]
  },
  {
   "cell_type": "markdown",
   "id": "c1a451fa",
   "metadata": {},
   "source": [
    "For the Arc System"
   ]
  },
  {
   "cell_type": "code",
   "execution_count": 117,
   "id": "e4a26430",
   "metadata": {
    "scrolled": true
   },
   "outputs": [
    {
     "name": "stdout",
     "output_type": "stream",
     "text": [
      "Our node system has size 576\n",
      "Our arcs system has size 7757\n",
      "Arc 51 is Any[[0, 2], [2, 4], 275.3190848675517]\n",
      "Arc 163 is Any[[0, 18], [4, 20], 259.7818990945713]\n",
      "Arc 5252 is Any[[9, 24], [9, 25], 0.0]\n",
      "Arc 6639 is Any[[12, 2], [10, 5], 416.08292442733097]\n"
     ]
    }
   ],
   "source": [
    "function create_cov_arc_system(n_cov, coverage_distances, speed, nodes_cov)\n",
    "    #=\n",
    "    in utility this is very similar to our creation of the arc system\n",
    "    for TASK vehicles, except we now don't need to care about respecting\n",
    "    time windows for a parameter simplification.\n",
    "    \n",
    "    as a result, the time_windows parameter is unnecessary.\n",
    "    =#\n",
    "    arcs_cov = []\n",
    "    \n",
    "    #Leaving the Depot: time is always equal to 0 here\n",
    "    for n in nodes_cov\n",
    "        dist = coverage_distances[1, n[1] + 1]\n",
    "        max_t = 0\n",
    "        for t in 1:n[2]\n",
    "           if n[2] > (t + dist/speed)\n",
    "                max_t = t\n",
    "            end\n",
    "        end\n",
    "        push!(arcs_cov, [[0, max_t], n, dist])\n",
    "    end\n",
    "\n",
    "    #Between two coverage locations\n",
    "    for n1 in nodes_cov\n",
    "        already = []\n",
    "        for n2 in nodes_cov\n",
    "            dist = coverage_distances[n1[1]+1, n2[1]+1] \n",
    "            if (n2[2] > n1[2] + dist/speed) & (n2[1] != n1[1]) & !(n2[1] in already)\n",
    "                push!(arcs_cov, [n1, n2, dist])\n",
    "                push!(already, n2[1])\n",
    "            elseif (n2[2] == n1[2] + 1) & (n2[1] == n1[1])\n",
    "                push!(arcs_cov, [n1, n2, dist])\n",
    "            end\n",
    "        end\n",
    "    end\n",
    "\n",
    "    #Back to the depot: time is always T+1 = 51 in this case here\n",
    "    for n in nodes_cov\n",
    "        dist = coverage_distances[1, n[1] + 1]\n",
    "        min_t = T+1\n",
    "        for t in T:-1:1\n",
    "            if t > (n[2]+dist/speed)\n",
    "                min_t = t\n",
    "            end\n",
    "        end\n",
    "        push!(arcs_cov, [n, [n_cov, min_t], dist])\n",
    "    end\n",
    "    \n",
    "    return arcs_cov\n",
    "end\n",
    "\n",
    "nodes_cov = create_cov_node_network(n_cov)\n",
    "arcs_cov = create_cov_arc_system(n_cov, coverage_distances, speed, nodes_cov)\n",
    "\n",
    "#have a final arc\n",
    "push!(arcs_cov, [[0,1], [n_cov, 2], 0])\n",
    "\n",
    "N_cov = length(nodes_cov)\n",
    "A_cov = length(arcs_cov)\n",
    "\n",
    "println(\"Our node system has size \", N_cov)\n",
    "println(\"Our arcs system has size \", A_cov)\n",
    "\n",
    "#do a sampling\n",
    "for i in [51, 163, 5252, 6639]\n",
    "    println(\"Arc \", i, \" is \", arcs_cov[i])\n",
    "end"
   ]
  },
  {
   "cell_type": "markdown",
   "id": "9489f4b9",
   "metadata": {},
   "source": [
    "Check to make sure what has been covered is covered: this appears later in a few optimization constraints and will be needed later.\n",
    "\n",
    "<b>This will take a bit of time!</b>"
   ]
  },
  {
   "cell_type": "code",
   "execution_count": 118,
   "id": "210cb556",
   "metadata": {},
   "outputs": [],
   "source": [
    "covers = Dict()\n",
    "for n in 1:N\n",
    "    covers[n] = []\n",
    "    for a in 1:A_cov\n",
    "        arc_start = arcs_cov[a][1][1]\n",
    "        time_start = arcs_cov[a][1][2]\n",
    "        arc_end = arcs_cov[a][2][1]\n",
    "        if (arc_end != n_cov)\n",
    "            if (time_start == nodes[n][2]) & (LinearAlgebra.norm(locations[nodes[n][1]+1,:] .- coverage_locations[arc_start+1]) <= coverage_distance) & (LinearAlgebra.norm(locations[nodes[n][1]+1,:] .- coverage_locations[arc_end+1]) <= coverage_distance)\n",
    "                push!(covers[n], a)\n",
    "            end\n",
    "        else\n",
    "            if (time_start == nodes[n][2]) & (LinearAlgebra.norm(locations[nodes[n][1]+1,:] .- coverage_locations[arc_start+1]) <= coverage_distance) & (LinearAlgebra.norm(locations[nodes[n][1]+1,:] .- coverage_locations[1]) <= coverage_distance)\n",
    "                push!(covers[n], a)\n",
    "            end\n",
    "        end\n",
    "    end\n",
    "end"
   ]
  },
  {
   "cell_type": "code",
   "execution_count": 119,
   "id": "8999b17d",
   "metadata": {},
   "outputs": [],
   "source": [
    "not_covered = []\n",
    "for j in 2:(n_jobs+1)\n",
    "    covered_j = false\n",
    "    for n in 1:N\n",
    "        if ((j-1) == nodes[n][1]) & (length(covers[n]) > 0)\n",
    "            # println(\"Job \", j-1, \" is covered\")\n",
    "            covered_j = true\n",
    "            break\n",
    "        end\n",
    "    end\n",
    "    if !covered_j\n",
    "        # println(\"Job \", j-1, \" is not covered\")\n",
    "        push!(not_covered, j)\n",
    "    end\n",
    "end \n",
    "\n",
    "#=\n",
    "after running these 5 cells, we get all jobs are covered!\n",
    "=#"
   ]
  },
  {
   "cell_type": "markdown",
   "id": "bb6f6dbf",
   "metadata": {},
   "source": [
    "## [1f] Helper Functions\n",
    "\n",
    "We will define a few helper functions to obtain necessary data, which will be used in the formualtion."
   ]
  },
  {
   "cell_type": "code",
   "execution_count": 120,
   "id": "94842cb3",
   "metadata": {},
   "outputs": [
    {
     "data": {
      "text/plain": [
       "find_node (generic function with 1 method)"
      ]
     },
     "execution_count": 120,
     "metadata": {},
     "output_type": "execute_result"
    }
   ],
   "source": [
    "function find_node(i,t)\n",
    "    #=\n",
    "    Given a task location and a time, see if there exists\n",
    "    a node with that definition. If so, then return that node.\n",
    "    Otherwise, warn the user.\n",
    "    =#\n",
    "    for node in 1:length(nodes)\n",
    "        if (nodes[node][1] == i) & (nodes[node][2] == t) \n",
    "            return node\n",
    "        end\n",
    "    end\n",
    "    return \"Warning, this node does not exist\"\n",
    "end"
   ]
  },
  {
   "cell_type": "code",
   "execution_count": 128,
   "id": "ab4e79c9",
   "metadata": {},
   "outputs": [
    {
     "data": {
      "text/plain": [
       "find_arc (generic function with 1 method)"
      ]
     },
     "execution_count": 128,
     "metadata": {},
     "output_type": "execute_result"
    }
   ],
   "source": [
    "function find_arc(node, t)\n",
    "    #=\n",
    "    Similar principle to above. Given a node and a time, \n",
    "    see if there exists an ARC that starts and ends with that node\n",
    "    and goes from time t to t+1.\n",
    "    \n",
    "    This is looking for specialized arcs...just forgot off the top\n",
    "    of my head\n",
    "    =#\n",
    "    for arc in 1:length(arcs)\n",
    "        if (arcs[arc][1][1] == node) & (arcs[arc][2][1] == node) & ((arcs[arc][1][2] == t)) & ((arcs[arc][2][2] == t+1))\n",
    "            return arc\n",
    "        end\n",
    "    end\n",
    "    return (node, t), \"Warning, this arc does not exist\"\n",
    "end"
   ]
  },
  {
   "cell_type": "markdown",
   "id": "8aab908c",
   "metadata": {},
   "source": [
    "# [2] Model\n",
    "\n",
    "Now that we have finished initializing all the elements, we can build our \"straightforward\" model which directly computes the answer for us. No column generation, no set partitioning... nothing."
   ]
  },
  {
   "cell_type": "code",
   "execution_count": 121,
   "id": "a21e3d5a",
   "metadata": {},
   "outputs": [
    {
     "data": {
      "text/plain": [
       "15"
      ]
     },
     "execution_count": 121,
     "metadata": {},
     "output_type": "execute_result"
    }
   ],
   "source": [
    "#these were written in section 1 but I am rehashing them here\n",
    "n_vehicles_coverage = 10\n",
    "n_vehicles_jobs = 15\n",
    "\n",
    "#=\n",
    "n_vehicles_coverage is equivalent to the number of \n",
    "total vehicles and can be considered with subscript k.\n",
    "\n",
    "n_vehicles_jobs is equivalent to the number of total coverage\n",
    "vehicles.\n",
    "=#"
   ]
  },
  {
   "cell_type": "code",
   "execution_count": 132,
   "id": "e5114623",
   "metadata": {},
   "outputs": [
    {
     "name": "stdout",
     "output_type": "stream",
     "text": [
      "Set parameter Username\n",
      "Academic license - for non-commercial use only - expires 2023-09-04\n"
     ]
    }
   ],
   "source": [
    "model = Model(Gurobi.Optimizer);\n",
    "#model = Model(with_optimizer(Gurobi.Optimizer, TimeLimit=100));"
   ]
  },
  {
   "cell_type": "markdown",
   "id": "16153289",
   "metadata": {},
   "source": [
    "## [2a] Decision Variables"
   ]
  },
  {
   "cell_type": "code",
   "execution_count": 133,
   "id": "b6041547",
   "metadata": {},
   "outputs": [],
   "source": [
    "#Coverage vehicles\n",
    "@variable(model, x[1:n_vehicles_coverage, 1:A_cov], Bin)\n",
    "\n",
    "#Job Vehicles\n",
    "@variable(model, z[1:n_vehicles_jobs, 1:A], Bin)\n",
    "\n",
    "#Starting and ending times of each Job\n",
    "@variable(model, y_s[1:n_jobs, 1:T], Bin)\n",
    "@variable(model, y_e[1:n_jobs, 1:T], Bin)\n",
    "\n",
    "#Coverage constraint\n",
    "@variable(model, gamma[1:N], Bin);"
   ]
  },
  {
   "cell_type": "markdown",
   "id": "51278a1a",
   "metadata": {},
   "source": [
    "## [2b] Objective Function"
   ]
  },
  {
   "cell_type": "code",
   "execution_count": 134,
   "id": "0636c18a",
   "metadata": {},
   "outputs": [],
   "source": [
    "@objective(model, Min, sum(sum(x[k,a]*(arcs_cov[a][3]+1) for a in 1:A_cov) for k in 1:n_vehicles_coverage) \n",
    "    + sum(sum(z[k,a]*(arcs[a][3]+1) for a in 1:A) for k in 1:n_vehicles_jobs))\n",
    ";"
   ]
  },
  {
   "cell_type": "markdown",
   "id": "d2dc56eb",
   "metadata": {},
   "source": [
    "## [2c] Constraints"
   ]
  },
  {
   "cell_type": "markdown",
   "id": "54026b2f",
   "metadata": {},
   "source": [
    "### Constraints for jobs vehicles\n",
    "\n",
    "This one takes a LONG time!"
   ]
  },
  {
   "cell_type": "code",
   "execution_count": 135,
   "id": "c0077757",
   "metadata": {},
   "outputs": [],
   "source": [
    "@constraint(model, depot_init_jobs[k in 1:n_vehicles_jobs], sum(z[k,a] for a in 1:A if arcs[a][1][1] == 0) == 1)\n",
    "@constraint(model, depot_end_jobs[k in 1:n_vehicles_jobs], sum(z[k,a] for a in 1:A if arcs[a][2][1] == n_jobs+1) == 1)\n",
    "@constraint(model, flow_jobs[k in 1:n_vehicles_jobs, n in 1:N], sum(z[k,a] for a in 1:A if arcs[a][2] == nodes[n]) == sum(z[k,a] for a in 1:A if arcs[a][1] == nodes[n]))\n",
    "@constraint(model, unique[n in 1:n_jobs], sum(sum(z[k,a] for a in 1:A if (arcs[a][2][1] == n) & (arcs[a][1][1] != n)) for k in 1:n_vehicles_jobs) == 1)\n",
    ";"
   ]
  },
  {
   "cell_type": "markdown",
   "id": "718a2381",
   "metadata": {},
   "source": [
    "### Constraints for coverage vehicles\n",
    "\n",
    "This one also takes a LONG time!"
   ]
  },
  {
   "cell_type": "code",
   "execution_count": 137,
   "id": "c45ff609",
   "metadata": {},
   "outputs": [],
   "source": [
    "@constraint(model, depot_init_coverage[k in 1:n_vehicles_coverage], sum(x[k,a] for a in 1:A_cov if arcs_cov[a][1][1] == 0) == 1)\n",
    "@constraint(model, depot_end_coverage[k in 1:n_vehicles_coverage], sum(x[k,a] for a in 1:A_cov if arcs_cov[a][2][1] == n_cov) == 1)\n",
    "@constraint(model, flow_coverage[k in 1:n_vehicles_coverage, n in 1:N_cov], sum(x[k,a] for a in 1:A_cov if arcs_cov[a][2] == nodes_cov[n]) == sum(x[k,a] for a in 1:A_cov if arcs_cov[a][1] == nodes_cov[n]))\n",
    ";"
   ]
  },
  {
   "cell_type": "markdown",
   "id": "393d1f9c",
   "metadata": {},
   "source": [
    "### Time constraints "
   ]
  },
  {
   "cell_type": "code",
   "execution_count": 136,
   "id": "6b5481b4",
   "metadata": {},
   "outputs": [],
   "source": [
    "@constraint(model, start[i in 1:n_jobs, t in 1:(T-1)], y_s[i,t] <= y_s[i,t+1])\n",
    "@constraint(model, ends[i in 1:n_jobs, t in 1:(T-1)], y_e[i,t] <= y_e[i,t+1])\n",
    "@constraint(model, work[i in 1:n_jobs, t in 2:(T-2)], y_s[i,t] - y_e[i,t] <= sum(z[k,find_arc(i, t)] for k in 1:n_vehicles_jobs))\n",
    "@constraint(model, window_start[i in 1:n_jobs, t in 1:(time_windows[i][1]-1)], y_s[i,t] <= 0)\n",
    "@constraint(model, window_ends[i in 1:n_jobs, t in time_windows[i][2]:T], y_e[i,t] >= 1)\n",
    "@constraint(model, duration[i in 1:n_jobs], sum(y_s[i,t] - y_e[i,t] for t in 1:T) >= work_load[i])\n",
    ";"
   ]
  },
  {
   "cell_type": "markdown",
   "id": "f81aa92e",
   "metadata": {},
   "source": [
    "### Coverage constraint"
   ]
  },
  {
   "cell_type": "code",
   "execution_count": 138,
   "id": "b5ec2609",
   "metadata": {},
   "outputs": [],
   "source": [
    "@constraint(model, coverage[n in 1:N], gamma[n] <= sum(sum(x[k,a] for a in covers[n]) for k in 1:n_vehicles_coverage))\n",
    "@constraint(model, coverage_time[i in 1:n_jobs, t in 2:(T-1)], y_s[i,t] - y_e[i,t] <= gamma[find_node(i,t)])\n",
    ";"
   ]
  },
  {
   "cell_type": "code",
   "execution_count": 22,
   "id": "acd08b3b",
   "metadata": {},
   "outputs": [],
   "source": [
    "#MOI.set(model, MOI.RawParameter(\"TimeLimit\"), 500.0);"
   ]
  },
  {
   "cell_type": "markdown",
   "id": "8b93caf1",
   "metadata": {},
   "source": [
    "## [2d] Solve Model\n",
    "\n",
    "It is not going to be very fast...and scability will be a big issue."
   ]
  },
  {
   "cell_type": "code",
   "execution_count": 139,
   "id": "cb6957ff",
   "metadata": {
    "scrolled": true
   },
   "outputs": [
    {
     "name": "stdout",
     "output_type": "stream",
     "text": [
      "Gurobi Optimizer version 9.5.2 build v9.5.2rc0 (mac64[x86])\n",
      "Thread count: 4 physical cores, 8 logical processors, using up to 8 threads\n",
      "Optimize a model with 31039 rows, 296850 columns and 843279 nonzeros\n",
      "Model fingerprint: 0x1227b8f4\n",
      "Variable types: 0 continuous, 296850 integer (296850 binary)\n",
      "Coefficient statistics:\n",
      "  Matrix range     [1e+00, 1e+00]\n",
      "  Objective range  [1e+00, 5e+02]\n",
      "  Bounds range     [0e+00, 0e+00]\n",
      "  RHS range        [1e+00, 5e+00]\n",
      "Presolve removed 6952 rows and 5053 columns\n",
      "Presolve time: 2.87s\n",
      "Presolved: 24087 rows, 291797 columns, 768561 nonzeros\n",
      "Variable types: 0 continuous, 291797 integer (291797 binary)\n",
      "\n",
      "Deterministic concurrent LP optimizer: primal and dual simplex\n",
      "Showing first log only...\n",
      "\n",
      "\n",
      "Root simplex log...\n",
      "\n",
      "Iteration    Objective       Primal Inf.    Dual Inf.      Time\n",
      "   16302    1.7671188e+04   1.922999e-01   7.979573e+09      5s\n",
      "   22115    1.7358194e+04   0.000000e+00   2.084077e+07      6s\n",
      "Concurrent spin time: 0.80s\n",
      "\n",
      "Solved with dual simplex\n",
      "\n",
      "Root relaxation: objective 5.873157e+03, 16313 iterations, 5.71 seconds (3.95 work units)\n",
      "Total elapsed time = 10.00s\n",
      "\n",
      "    Nodes    |    Current Node    |     Objective Bounds      |     Work\n",
      " Expl Unexpl |  Obj  Depth IntInf | Incumbent    BestBd   Gap | It/Node Time\n",
      "\n",
      "     0     0 5971.53866    0  295          - 5971.53866      -     -   17s\n",
      "H    0     0                    7081.0252137 5971.53866  15.7%     -   18s\n",
      "     0     0 5976.30846    0  229 7081.02521 5976.30846  15.6%     -   22s\n",
      "     0     0 5976.30846    0  166 7081.02521 5976.30846  15.6%     -   50s\n",
      "H    0     0                    6167.5440114 5976.30846  3.10%     -   50s\n",
      "H    0     0                    6165.5440114 5976.30846  3.07%     -   51s\n",
      "     0     0 6013.57830    0  220 6165.54401 6013.57830  2.46%     -   54s\n",
      "     0     0 6013.57830    0  130 6165.54401 6013.57830  2.46%     -   60s\n",
      "     0     0 6027.55797    0  370 6165.54401 6027.55797  2.24%     -   61s\n",
      "     0     0 6055.04650    0  320 6165.54401 6055.04650  1.79%     -   62s\n",
      "     0     0 6094.28629    0  177 6165.54401 6094.28629  1.16%     -   63s\n",
      "     0     0 6094.28629    0  162 6165.54401 6094.28629  1.16%     -   64s\n",
      "     0     0 6094.28629    0  230 6165.54401 6094.28629  1.16%     -   64s\n",
      "     0     0 6094.28629    0  367 6165.54401 6094.28629  1.16%     -   65s\n",
      "     0     0 6110.87200    0   60 6165.54401 6110.87200  0.89%     -   65s\n",
      "     0     0 6110.87200    0  130 6165.54401 6110.87200  0.89%     -   65s\n",
      "H    0     0                    6152.8242378 6110.87200  0.68%     -   65s\n",
      "H    0     0                    6119.2356523 6110.87200  0.14%     -   65s\n",
      "     0     0 6110.87200    0  132 6119.23565 6110.87200  0.14%     -   66s\n",
      "     0     0     cutoff    0      6119.23565 6119.23565  0.00%     -   66s\n",
      "\n",
      "Explored 1 nodes (124299 simplex iterations) in 66.13 seconds (64.77 work units)\n",
      "Thread count was 8 (of 8 available processors)\n",
      "\n",
      "Solution count 10: 6119.24 6119.24 6119.24 ... 6167.54\n",
      "\n",
      "Optimal solution found (tolerance 1.00e-04)\n",
      "Best objective 6.119235652313e+03, best bound 6.119235652313e+03, gap 0.0000%\n",
      "\n",
      "User-callback calls 5633, time in user-callback 0.02 sec\n"
     ]
    }
   ],
   "source": [
    "optimize!(model)"
   ]
  },
  {
   "cell_type": "markdown",
   "id": "e8c01b2a",
   "metadata": {},
   "source": [
    "<b>NOTE:</b> This answer will probably differ from Martin's optimal solution by a bit because I scrambled up the parameters a little."
   ]
  },
  {
   "cell_type": "code",
   "execution_count": null,
   "id": "a40f6b62",
   "metadata": {},
   "outputs": [],
   "source": [
    "6.546450224878e+03"
   ]
  },
  {
   "cell_type": "code",
   "execution_count": 140,
   "id": "8e19b233",
   "metadata": {
    "scrolled": true
   },
   "outputs": [
    {
     "data": {
      "text/plain": [
       "OPTIMAL::TerminationStatusCode = 1"
      ]
     },
     "execution_count": 140,
     "metadata": {},
     "output_type": "execute_result"
    }
   ],
   "source": [
    "termination_status(model)"
   ]
  },
  {
   "cell_type": "markdown",
   "id": "0cc7e127",
   "metadata": {},
   "source": [
    "## NOTE for Fri. 6/2: I am stopped here and will present material up to here for the weekly presentation/update."
   ]
  },
  {
   "cell_type": "markdown",
   "id": "08e52389",
   "metadata": {},
   "source": [
    "# [3] Retrieval of Information"
   ]
  },
  {
   "cell_type": "markdown",
   "id": "c34a9870",
   "metadata": {},
   "source": [
    "## Retrieve travels to jobs"
   ]
  },
  {
   "cell_type": "code",
   "execution_count": 47,
   "id": "461b9c33",
   "metadata": {
    "scrolled": true
   },
   "outputs": [],
   "source": [
    "jobs_drivers = Dict()\n",
    "for k in 1:n_vehicles_jobs\n",
    "    jobs_drivers[k] = []\n",
    "    #println(\"For driver \", k)\n",
    "    for a in 1:A\n",
    "        if value.(z[k,a]) > 0\n",
    "            #println(arcs[a])\n",
    "            if arcs[a][2][2] == arcs[a][1][2] + 1\n",
    "                push!(jobs_drivers[k], arcs[a])\n",
    "            else\n",
    "                diff = arcs[a][2][2] - arcs[a][1][2]\n",
    "                for t in 1:diff\n",
    "                    new_arc = [[arcs[a][1][1], arcs[a][1][2] + t-1], [arcs[a][2][1], arcs[a][1][2] + t], arcs[a][3]]\n",
    "                    push!(jobs_drivers[k], new_arc)\n",
    "                end\n",
    "            end\n",
    "        end\n",
    "    end\n",
    "    #println(\"--------------------------------------------------\")\n",
    "end"
   ]
  },
  {
   "cell_type": "code",
   "execution_count": 48,
   "id": "33608439",
   "metadata": {},
   "outputs": [
    {
     "name": "stdout",
     "output_type": "stream",
     "text": [
      "2\n",
      "3\n",
      "4\n",
      "5\n",
      "6\n",
      "9\n",
      "10\n"
     ]
    }
   ],
   "source": [
    "for k in 1:n_vehicles_jobs\n",
    "    if length(jobs_drivers[k]) > 1\n",
    "        println(k)\n",
    "    end\n",
    "end"
   ]
  },
  {
   "cell_type": "markdown",
   "id": "24428801",
   "metadata": {},
   "source": [
    "## Retrieve time of work for each jobs"
   ]
  },
  {
   "cell_type": "code",
   "execution_count": 49,
   "id": "5aeeb6e5",
   "metadata": {},
   "outputs": [],
   "source": [
    "time_jobs = Dict()\n",
    "for i in 1:n_jobs\n",
    "    time_jobs[i] = []\n",
    "    for t in 2:T\n",
    "        if (value.(y_s[i,t]) > 0) & (value.(y_e[i,t]) == 0)\n",
    "            push!(time_jobs[i], t)\n",
    "        end\n",
    "    end\n",
    "end"
   ]
  },
  {
   "cell_type": "markdown",
   "id": "1ec4aab5",
   "metadata": {},
   "source": [
    "## Retrieve travels to coverage locations"
   ]
  },
  {
   "cell_type": "markdown",
   "id": "1b43098d",
   "metadata": {},
   "source": [
    "coverage_drivers = Dict()\n",
    "for k in 1:n_vehicles_coverage\n",
    "    coverage_drivers[k] = []\n",
    "    #println(\"For driver \", k)\n",
    "    for a in 1:A_cov\n",
    "        if value.(x[k,a]) > 0\n",
    "            #println(arcs_cov[a])\n",
    "            push!(coverage_drivers[k], arcs_cov[a])\n",
    "        end\n",
    "    end\n",
    "    #println(\"--------------------------------------------------\")\n",
    "end"
   ]
  },
  {
   "cell_type": "code",
   "execution_count": 50,
   "id": "cb830796",
   "metadata": {},
   "outputs": [],
   "source": [
    "coverage_drivers = Dict()\n",
    "for k in 1:n_vehicles_coverage\n",
    "    coverage_drivers[k] = []\n",
    "    #println(\"For driver \", k)\n",
    "    for a in 1:A_cov\n",
    "        if value.(x[k,a]) > 0\n",
    "            #println(arcs_cov[a])\n",
    "            if arcs_cov[a][2][2] == arcs_cov[a][1][2] + 1\n",
    "                push!(coverage_drivers[k], arcs_cov[a])\n",
    "            else\n",
    "                diff = arcs_cov[a][2][2] - arcs_cov[a][1][2]\n",
    "                for t in 1:diff\n",
    "                    new_arc = [[arcs_cov[a][1][1], arcs_cov[a][1][2] + t-1], [arcs_cov[a][2][1], arcs_cov[a][1][2] + t], arcs_cov[a][3]]\n",
    "                    push!(coverage_drivers[k], new_arc)\n",
    "                end\n",
    "            end\n",
    "        end\n",
    "    end\n",
    "    #println(\"--------------------------------------------------\")\n",
    "end"
   ]
  },
  {
   "cell_type": "code",
   "execution_count": 51,
   "id": "aab197b3",
   "metadata": {},
   "outputs": [
    {
     "name": "stdout",
     "output_type": "stream",
     "text": [
      "1\n",
      "2\n",
      "3\n",
      "4\n",
      "7\n",
      "9\n"
     ]
    }
   ],
   "source": [
    "for k in 1:n_vehicles_coverage\n",
    "    if length(coverage_drivers[k]) > 1\n",
    "        println(k)\n",
    "    end\n",
    "end"
   ]
  },
  {
   "cell_type": "markdown",
   "id": "31cb9fb8",
   "metadata": {},
   "source": [
    "## Retrieve time of coverage for each locations"
   ]
  },
  {
   "cell_type": "code",
   "execution_count": 52,
   "id": "13b3c40e",
   "metadata": {},
   "outputs": [],
   "source": [
    "time_coverage = Dict()\n",
    "for i in 1:(n_cov-1)\n",
    "    times_i = []\n",
    "    for k in 1:n_vehicles_coverage\n",
    "        for a in coverage_drivers[k]\n",
    "            if (a[1][1] == i) & (a[2][1] == i) & !(a[1][2] in times_i)\n",
    "                push!(times_i, a[1][2])\n",
    "            end\n",
    "        end\n",
    "    end\n",
    "    time_coverage[i] = sort(times_i)\n",
    "end"
   ]
  },
  {
   "cell_type": "markdown",
   "id": "0ddf6c18",
   "metadata": {},
   "source": [
    "## Visualization"
   ]
  },
  {
   "cell_type": "code",
   "execution_count": 53,
   "id": "5a57a049",
   "metadata": {},
   "outputs": [
    {
     "name": "stderr",
     "output_type": "stream",
     "text": [
      "┌ Warning: Keyword argument letter not supported with Plots.GRBackend().  Choose from: annotations, arrow, aspect_ratio, background_color, background_color_inside, background_color_outside, background_color_subplot, bar_width, bins, bottom_margin, camera, clims, color_palette, colorbar, colorbar_entry, colorbar_scale, colorbar_title, connections, contour_labels, discrete_values, fill_z, fillalpha, fillcolor, fillrange, fillstyle, flip, foreground_color, foreground_color_axis, foreground_color_border, foreground_color_grid, foreground_color_subplot, foreground_color_text, framestyle, grid, gridalpha, gridlinewidth, gridstyle, group, guide, guidefontcolor, guidefontfamily, guidefonthalign, guidefontrotation, guidefontsize, guidefontvalign, html_output_format, inset_subplots, label, layout, left_margin, legend_background_color, legend_font_color, legend_font_family, legend_font_halign, legend_font_pointsize, legend_font_rotation, legend_font_valign, legend_foreground_color, legend_position, legend_title, levels, lims, line_z, linealpha, linecolor, linestyle, linewidth, link, margin, marker_z, markeralpha, markercolor, markershape, markersize, markerstrokealpha, markerstrokecolor, markerstrokewidth, normalize, orientation, overwrite_figure, permute, polar, primary, projection, quiver, ribbon, right_margin, scale, series_annotations, seriesalpha, seriescolor, seriestype, show, show_empty_bins, size, smooth, subplot, subplot_index, tick_direction, tickfontcolor, tickfontfamily, tickfonthalign, tickfontrotation, tickfontsize, tickfontvalign, ticks, title, titlefontcolor, titlefontfamily, titlefonthalign, titlefontrotation, titlefontsize, titlefontvalign, top_margin, weights, window_title, x, xdiscrete_values, xerror, xflip, xforeground_color_axis, xforeground_color_border, xforeground_color_grid, xforeground_color_text, xgrid, xgridalpha, xgridlinewidth, xgridstyle, xguide, xguidefontcolor, xguidefontfamily, xguidefonthalign, xguidefontrotation, xguidefontsize, xguidefontvalign, xlims, xlink, xscale, xtick_direction, xtickfontcolor, xtickfontfamily, xtickfonthalign, xtickfontrotation, xtickfontsize, xtickfontvalign, xticks, y, ydiscrete_values, yerror, yflip, yforeground_color_axis, yforeground_color_border, yforeground_color_grid, yforeground_color_text, ygrid, ygridalpha, ygridlinewidth, ygridstyle, yguide, yguidefontcolor, yguidefontfamily, yguidefonthalign, yguidefontrotation, yguidefontsize, yguidefontvalign, ylims, ylink, yscale, ytick_direction, ytickfontcolor, ytickfontfamily, ytickfonthalign, ytickfontrotation, ytickfontsize, ytickfontvalign, yticks, z, z_order, zdiscrete_values, zerror, zflip, zforeground_color_axis, zforeground_color_border, zforeground_color_grid, zforeground_color_text, zgrid, zgridalpha, zgridlinewidth, zgridstyle, zguide, zguidefontcolor, zguidefontfamily, zguidefonthalign, zguidefontrotation, zguidefontsize, zguidefontvalign, zlims, zlink, zscale, ztick_direction, ztickfontcolor, ztickfontfamily, ztickfonthalign, ztickfontrotation, ztickfontsize, ztickfontvalign, zticks\n",
      "└ @ Plots /Users/universe/.julia/packages/Plots/gl4j3/src/args.jl:1627\n"
     ]
    },
    {
     "data": {
      "text/plain": [
       "Animation(\"/var/folders/qb/pykp3jxn5kn94ctmv79y5r4m0000gn/T/jl_Enee1K\", [\"000001.png\", \"000002.png\", \"000003.png\", \"000004.png\", \"000005.png\", \"000006.png\", \"000007.png\", \"000008.png\", \"000009.png\", \"000010.png\"  …  \"000040.png\", \"000041.png\", \"000042.png\", \"000043.png\", \"000044.png\", \"000045.png\", \"000046.png\", \"000047.png\", \"000048.png\", \"000049.png\"])"
      ]
     },
     "execution_count": 53,
     "metadata": {},
     "output_type": "execute_result"
    }
   ],
   "source": [
    "anim = @animate for t in 1:(T-1)\n",
    "    u_cov, v_cov = [], []\n",
    "    starts_cov_x, starts_cov_y = [], []\n",
    "    for k in 1:n_vehicles_coverage\n",
    "        for arc in coverage_drivers[k]\n",
    "            if arc[1][2] == t\n",
    "                node_start, node_end = arc[1][1], arc[2][1]\n",
    "                start_x, start_y = coverage_locations[node_start + 1]\n",
    "                if node_end == n_cov\n",
    "                    fin_x, fin_y = coverage_locations[1]\n",
    "                else\n",
    "                    fin_x, fin_y = coverage_locations[node_end + 1]\n",
    "                end\n",
    "                push!(starts_cov_x, start_x)\n",
    "                push!(starts_cov_y, start_y)\n",
    "                push!(u_cov, fin_x - start_x)\n",
    "                push!(v_cov, fin_y - start_y)\n",
    "            end\n",
    "        end\n",
    "    end\n",
    "    \n",
    "    u_jobs, v_jobs = [], []\n",
    "    starts_jobs_x, starts_jobs_y = [], []\n",
    "    for k in 1:n_vehicles_jobs\n",
    "        for arc in jobs_drivers[k]\n",
    "            if arc[1][2] == t\n",
    "                node_start, node_end = arc[1][1], arc[2][1]\n",
    "                start_x, start_y = locations[node_start + 1, :]\n",
    "                if node_end == n_jobs + 1\n",
    "                    fin_x, fin_y = locations[1, :]\n",
    "                else\n",
    "                    fin_x, fin_y = locations[node_end + 1, :]\n",
    "                end\n",
    "                push!(starts_jobs_x, start_x)\n",
    "                push!(starts_jobs_y, start_y)\n",
    "                push!(u_jobs, fin_x - start_x)\n",
    "                push!(v_jobs, fin_y - start_y)\n",
    "            end\n",
    "        end\n",
    "    end\n",
    "    \n",
    "    jobs_going = []\n",
    "    for i in 1:n_jobs\n",
    "        if t in time_jobs[i]\n",
    "            push!(jobs_going, i)\n",
    "        end\n",
    "    end\n",
    "    \n",
    "    cov_going = []\n",
    "    for i in 1:(n_cov-1)\n",
    "        if t in time_coverage[i]\n",
    "            push!(cov_going, i)\n",
    "        end\n",
    "    end\n",
    "            \n",
    "    title_t = \"Allocation at time \"*string(t)\n",
    "\n",
    "    scatter([[locations[1,1]], [coverage_locations[i][1] for i in 2:n_cov], [locations[2:(n_jobs+1), 1]], \n",
    "            [coverage_locations[i+1][1] for i in cov_going], [locations[i+1, 1] for i in jobs_going]],\n",
    "            [[locations[1,2]], [coverage_locations[i][2] for i in 2:n_cov], [locations[2:(n_jobs+1), 2],\n",
    "            [coverage_locations[i+1][2] for i in cov_going], [locations[i+1, 2] for i in jobs_going]],], \n",
    "            title = title_t, label = [\"Depot\" \"Coverage\" \"Jobs\" \"Covered\" \"Job Going\"], \n",
    "            xlim = (0,700), ylim = (0,700), size = (800,600), xticks = 0:100:700, yticks = 0:100:700)\n",
    "\n",
    "    quiver!(starts_cov_x, starts_cov_y, quiver=(u_cov, v_cov))\n",
    "    quiver!(starts_jobs_x, starts_jobs_y, quiver=(u_jobs, v_jobs))\n",
    "end\n",
    "\n",
    "# gif(anim, \"25.gif\", fps = 1)"
   ]
  },
  {
   "cell_type": "code",
   "execution_count": 54,
   "id": "a24096e0",
   "metadata": {},
   "outputs": [
    {
     "name": "stdout",
     "output_type": "stream",
     "text": [
      "Number of coverage vehicles needed: 6\n"
     ]
    }
   ],
   "source": [
    "coverage_needed = 0\n",
    "for k in 1:n_vehicles_coverage\n",
    "    if length(coverage_drivers[k]) > 1\n",
    "        #println(k)\n",
    "        coverage_needed += 1\n",
    "    end\n",
    "end\n",
    "println(\"Number of coverage vehicles needed: \", coverage_needed)"
   ]
  },
  {
   "cell_type": "code",
   "execution_count": 55,
   "id": "293b638b",
   "metadata": {},
   "outputs": [
    {
     "name": "stdout",
     "output_type": "stream",
     "text": [
      "Number of jobs vehicles needed: 7\n"
     ]
    }
   ],
   "source": [
    "jobs_needed = 0\n",
    "for k in 1:n_vehicles_jobs\n",
    "    if length(jobs_drivers[k]) > 1\n",
    "        #println(k)\n",
    "        jobs_needed += 1\n",
    "    end\n",
    "end\n",
    "println(\"Number of jobs vehicles needed: \", jobs_needed)"
   ]
  },
  {
   "cell_type": "markdown",
   "id": "f9009c40",
   "metadata": {},
   "source": [
    "# Create routes for jobs"
   ]
  },
  {
   "cell_type": "code",
   "execution_count": 31,
   "id": "001aaa7d",
   "metadata": {},
   "outputs": [
    {
     "data": {
      "text/plain": [
       "find_jobs (generic function with 1 method)"
      ]
     },
     "execution_count": 31,
     "metadata": {},
     "output_type": "execute_result"
    }
   ],
   "source": [
    "function find_jobs(route)\n",
    "    #=\n",
    "    returns list of the jobs which are\n",
    "    performed on that route.\n",
    "    =#\n",
    "    jobs_route = []\n",
    "    for n in 1:n_jobs\n",
    "        for a in route\n",
    "            if (n == a[1][1]) | (n == a[2][1])\n",
    "                push!(jobs_route, n)\n",
    "                break\n",
    "            end\n",
    "        end\n",
    "    end\n",
    "    return jobs_route\n",
    "end"
   ]
  },
  {
   "cell_type": "code",
   "execution_count": 32,
   "id": "21058467",
   "metadata": {},
   "outputs": [
    {
     "data": {
      "text/plain": [
       "find_jobs_time (generic function with 1 method)"
      ]
     },
     "execution_count": 32,
     "metadata": {},
     "output_type": "execute_result"
    }
   ],
   "source": [
    "function find_jobs_time(route)\n",
    "    #=\n",
    "    which time the work on the job \n",
    "    started\n",
    "    =#\n",
    "    jobs_time_route = []\n",
    "    for n in 1:n_jobs\n",
    "        for t in 1:T\n",
    "            for a in route\n",
    "                if (n == a[1][1]) & (n == a[2][1]) & (t == a[1][2])\n",
    "                    push!(jobs_time_route, [n,t])\n",
    "                end\n",
    "            end\n",
    "        end\n",
    "    end\n",
    "    return jobs_time_route\n",
    "end"
   ]
  },
  {
   "cell_type": "code",
   "execution_count": 33,
   "id": "f25b3df5",
   "metadata": {},
   "outputs": [
    {
     "data": {
      "text/plain": [
       "4-element Vector{Any}:\n",
       " Any[[0, 7], [1, 8], 48.151864245010806]\n",
       " Any[[1, 8], [1, 9], 0]\n",
       " Any[[1, 9], [1, 10], 0]\n",
       " Any[[1, 10], [26, 11], 48.151864245010806]"
      ]
     },
     "execution_count": 33,
     "metadata": {},
     "output_type": "execute_result"
    }
   ],
   "source": [
    "n_routes = 0\n",
    "dummy_route = []\n",
    "C = []\n",
    "u = [[] for i in 1:n_jobs]\n",
    "delta = [[[] for t in 1:T] for i in 1:n_jobs]\n",
    "\n",
    "for n in 1:n_jobs\n",
    "    job_route = []\n",
    "    cost_route = 0\n",
    "    dist = distances[1, n+1]\n",
    "    min_t = Int(floor(time_windows[n][1] - dist/speed))\n",
    "    max_t = Int(ceil(time_windows[n][2] + dist/speed))\n",
    "    push!(job_route, [[0, min_t], [n, time_windows[n][1]], dist])\n",
    "    cost_route += dist\n",
    "    for t in time_windows[n][1]:(time_windows[n][2]-1)\n",
    "        push!(job_route, [[n, t], [n, t+1], 0])\n",
    "    end\n",
    "    push!(job_route, [[n, time_windows[n][2]], [n_jobs+1, max_t],  dist])\n",
    "    cost_route += dist\n",
    "    push!(dummy_route, job_route)\n",
    "    push!(C, cost_route)\n",
    "end\n",
    "\n",
    "for route in dummy_route\n",
    "    jobs_route = find_jobs(route)\n",
    "    for n in 1:n_jobs\n",
    "        if n in jobs_route\n",
    "            push!(u[n], 1)\n",
    "        else\n",
    "            push!(u[n], 0)\n",
    "        end\n",
    "    end\n",
    "end\n",
    "for route in dummy_route\n",
    "    jobs_time_route = find_jobs_time(route)\n",
    "    for n in 1:n_jobs\n",
    "        for t in 1:T\n",
    "            if [n,t] in jobs_time_route\n",
    "                push!(delta[n][t], 1)\n",
    "            else\n",
    "                push!(delta[n][t], 0)\n",
    "            end\n",
    "        end\n",
    "    end\n",
    "end\n",
    "\n",
    "n_routes = length(dummy_route)\n",
    "dummy_route[1]"
   ]
  },
  {
   "cell_type": "code",
   "execution_count": 34,
   "id": "a8632e60",
   "metadata": {
    "scrolled": true
   },
   "outputs": [
    {
     "data": {
      "text/plain": [
       "2-element Vector{Any}:\n",
       " [1, 8]\n",
       " [1, 9]"
      ]
     },
     "execution_count": 34,
     "metadata": {},
     "output_type": "execute_result"
    }
   ],
   "source": [
    "find_jobs_time(dummy_route[1])"
   ]
  },
  {
   "cell_type": "markdown",
   "id": "904c5109",
   "metadata": {},
   "source": [
    "# Label-Setting Algorithm"
   ]
  },
  {
   "cell_type": "code",
   "execution_count": 35,
   "id": "7212bb8c",
   "metadata": {},
   "outputs": [
    {
     "data": {
      "text/plain": [
       "label_setting (generic function with 1 method)"
      ]
     },
     "execution_count": 35,
     "metadata": {},
     "output_type": "execute_result"
    }
   ],
   "source": [
    "function label_setting(n, travel_time, travel_distance, windows, load)\n",
    "    N = [[1]]   #Set of nodes visited before the state\n",
    "    T = [0.0]  #Time at which you arrive\n",
    "    C = [0.0]  #Initial cost is 0 - REDUCED costs\n",
    "    #In the subproblem, this would be rho.\n",
    "    #R_c = reduced costs\n",
    "    \n",
    "    # actual C is the actual costs, 0.\n",
    "    \n",
    "    #In the subproblem, we can keep track of C at the same time.\n",
    "    \n",
    "    L = [1]    #Last node visited at this state (depot for the initial state)\n",
    "    A = [true] #Is this path dominated or not;\n",
    "    \n",
    "    #=\n",
    "    Need to add a new array of costs for the real costs.\n",
    "    \n",
    "    We have the reduced costs, which we explained...\n",
    "    \n",
    "    ...but there are also the \n",
    "    =#\n",
    "    current_state = 1\n",
    "    total_state = 1\n",
    "    \n",
    "    while 1==1\n",
    "        if (L[current_state] == n+2) | (~A[current_state])\n",
    "            current_state += 1\n",
    "            if current_state > total_state\n",
    "                break\n",
    "            else\n",
    "                continue\n",
    "            end\n",
    "        end\n",
    "    \n",
    "        #=\n",
    "        For the moment, assume that we do not split time for jobs.\n",
    "        =#\n",
    "        \n",
    "        for i in 2:(n+2)\n",
    "            if ~(i in N[current_state])\n",
    "                #If you won't have the time to do the job, don't go through it\n",
    "                if L[current_state] != 1\n",
    "                    if T[current_state] + load[L[current_state]-1] + travel_time[L[current_state], i] > windows[i-1][2] - load[i-1]\n",
    "                        continue\n",
    "                    end\n",
    "                end\n",
    "                \n",
    "                #Check if you have already created a path\n",
    "                if length(N) < total_state + 1   #If not, add it\n",
    "                    push!(N, copy(N[current_state]))\n",
    "                    push!(N[total_state+1], i)\n",
    "                    push!(T, max(T[current_state] + travel_time[L[current_state], i], windows[i-1][1]))\n",
    "                    push!(C, C[current_state] + travel_distance[L[current_state], i])\n",
    "                    #TODO: costs will change to what the minimum over.\n",
    "                    #cost that we had, which is C[current_state], plus traveling distance from \n",
    "                    # L[curent_state], i\n",
    "                    # cost subtract (pi_i + mu_it at t which you will arrive which is T[-1] or last[T])\n",
    "                    # subtract pi_i, as well as\n",
    "                    #=\n",
    "                    subtract: mu_it, check:\n",
    "                    are you working at that time t? if so, subtract it?\n",
    "                    =#\n",
    "                    #=\n",
    "                    actually, disregard above: use mu_it for every time t you are there.\n",
    "                    Assume you don't go to a location, back, and then over.\n",
    "                    =#\n",
    "                    push!(L, i)\n",
    "                    push!(A, true)\n",
    "                else  #Otherwise, change it\n",
    "                    N[total_state + 1] = N[current_state]\n",
    "                    push!(N[total_state+1], i)\n",
    "                    T[total_state+1] = max(T[current_state] + travel_time[L[current_state], i], windows[i-1][1])\n",
    "                    C[total_state+1] = C[current_state] + travel_distance[L[current_state], i]\n",
    "                    #What I did to create the path also follows for what I do to change the path.\n",
    "                    #TODO\n",
    "                    L[total_state+1] = i\n",
    "                    A[total_state+1] = true\n",
    "                end \n",
    "                \n",
    "                NDom = true\n",
    "                for s in 1:total_state\n",
    "                    if A[s]\n",
    "                        if (issetequal(N[total_state+1], N[s])) & (L[total_state+1] == L[s])\n",
    "                            if C[total_state+1] > C[s]   #the new state is dominated by at least one state so we can stop\n",
    "                                NDom = false\n",
    "                                break\n",
    "                            else   #the new state dominates the old one so we can get rid of it\n",
    "                                A[s] = false\n",
    "                            end\n",
    "                        end\n",
    "                    end\n",
    "                end\n",
    "                \n",
    "                if NDom  #Means that the new state dominates all the other, so we go on to create the next state\n",
    "                    total_state += 1\n",
    "                end\n",
    "        \n",
    "            end\n",
    "        end\n",
    "        current_state += 1\n",
    "        if current_state == total_state\n",
    "            break\n",
    "        end     \n",
    "    end\n",
    "    return N, A, C, T\n",
    "end"
   ]
  },
  {
   "cell_type": "code",
   "execution_count": null,
   "id": "fb1404f5",
   "metadata": {},
   "outputs": [],
   "source": []
  },
  {
   "cell_type": "code",
   "execution_count": 36,
   "id": "93fc3f30",
   "metadata": {},
   "outputs": [],
   "source": [
    "distances_label = deepcopy(distances)\n",
    "add = distances_label[1,:]\n",
    "distances_label = hcat(distances_label, add)\n",
    "push!(add, 0)\n",
    "distances_label = vcat(distances_label, collect(add'))\n",
    "\n",
    "load_label = deepcopy(work_load)\n",
    "push!(load_label, 0)\n",
    "\n",
    "windows_label = deepcopy(time_windows)\n",
    "push!(windows_label, [0,100])\n",
    "\n",
    "travel = ceil.(distances_label/speed);"
   ]
  },
  {
   "cell_type": "code",
   "execution_count": 37,
   "id": "b9045f3b",
   "metadata": {},
   "outputs": [],
   "source": [
    "time = @elapsed routes, feasible, cost, times = label_setting(n_jobs, travel, distances_label, windows_label, load_label);"
   ]
  },
  {
   "cell_type": "code",
   "execution_count": 64,
   "id": "563194b3",
   "metadata": {},
   "outputs": [
    {
     "data": {
      "text/plain": [
       "125.432935279"
      ]
     },
     "execution_count": 64,
     "metadata": {},
     "output_type": "execute_result"
    }
   ],
   "source": [
    "time"
   ]
  },
  {
   "cell_type": "markdown",
   "id": "7327f371",
   "metadata": {},
   "source": [
    "## Retrieve feasible routes, Costs and Times"
   ]
  },
  {
   "cell_type": "code",
   "execution_count": 38,
   "id": "14d0dae4",
   "metadata": {},
   "outputs": [],
   "source": [
    "routes_keep = []\n",
    "C_routes = []\n",
    "T_routes = []\n",
    "for r in 1:length(routes)\n",
    "    if (last(routes[r]) == n_jobs+2) & (feasible[r])\n",
    "        push!(routes_keep, routes[r] .- 1)\n",
    "        push!(C_routes, cost[r])\n",
    "        push!(T_routes, times[r])\n",
    "    end\n",
    "end"
   ]
  },
  {
   "cell_type": "code",
   "execution_count": 39,
   "id": "51701276",
   "metadata": {},
   "outputs": [
    {
     "data": {
      "text/plain": [
       "10304-element Vector{Any}:\n",
       "    0.0\n",
       "   96.30372849002161\n",
       "  111.45474034531557\n",
       "   59.38268936036016\n",
       "  310.08574904524875\n",
       "  293.03884183731844\n",
       "  294.9396026329788\n",
       "  307.43084012611763\n",
       "  325.00920149273213\n",
       "  315.1845146101899\n",
       "  307.671009148929\n",
       "  617.0471606457012\n",
       "  608.7116264238197\n",
       "    ⋮\n",
       " 1488.27070738358\n",
       " 1814.1802830977913\n",
       " 1779.7577677278325\n",
       " 1870.2257510190689\n",
       " 1562.7382126565665\n",
       " 1599.1251054310917\n",
       " 1995.4605419209593\n",
       " 2085.928525212196\n",
       " 1700.0338451927144\n",
       " 1736.4207379672396\n",
       " 1730.588743763997\n",
       " 2056.4983194782085"
      ]
     },
     "execution_count": 39,
     "metadata": {},
     "output_type": "execute_result"
    }
   ],
   "source": [
    "C_routes"
   ]
  },
  {
   "cell_type": "code",
   "execution_count": 40,
   "id": "14f64b5c",
   "metadata": {},
   "outputs": [],
   "source": [
    "n_routes = length(routes_keep);"
   ]
  },
  {
   "cell_type": "markdown",
   "id": "c6b57a47",
   "metadata": {},
   "source": [
    "## Retrieve jobs covered by each routes"
   ]
  },
  {
   "cell_type": "code",
   "execution_count": 41,
   "id": "e07ba3eb",
   "metadata": {},
   "outputs": [],
   "source": [
    "u = [[0 for i in 1:n_jobs] for r in 1:n_routes]\n",
    "for r in 1:n_routes\n",
    "    for i in 1:n_jobs\n",
    "        if i in routes_keep[r]\n",
    "            u[r][i] = 1\n",
    "        end\n",
    "    end\n",
    "end"
   ]
  },
  {
   "cell_type": "markdown",
   "id": "a7415369",
   "metadata": {},
   "source": [
    "## Compute the time of arrival at each locations"
   ]
  },
  {
   "cell_type": "code",
   "execution_count": 42,
   "id": "14184268",
   "metadata": {},
   "outputs": [],
   "source": [
    "#Time of arrival at each job locations\n",
    "routes_times = [[0.0 for i in 1:length(routes_keep[r])] for r in 1:length(routes_keep)]\n",
    "\n",
    "for r in 1:length(routes_keep)\n",
    "    for i in 2:length(routes_keep[r])\n",
    "        t_1 = routes_times[r][i-1]\n",
    "        loc_1 = routes_keep[r][i-1]\n",
    "        if loc_1 == 0\n",
    "            load_1 = 0\n",
    "        else\n",
    "            load_1 = work_load[loc_1]\n",
    "        end\n",
    "        loc = routes_keep[r][i]\n",
    "        t_work_travel = t_1 + load_1 + travel[loc_1 + 1, loc + 1]\n",
    "        min_t = max(t_work_travel, windows_label[loc][1])\n",
    "        routes_times[r][i] = min_t\n",
    "    end\n",
    "end"
   ]
  },
  {
   "cell_type": "markdown",
   "id": "dd470dc2",
   "metadata": {},
   "source": [
    "## Discretize the time for each job and each route"
   ]
  },
  {
   "cell_type": "code",
   "execution_count": 43,
   "id": "f37e97a7",
   "metadata": {},
   "outputs": [],
   "source": [
    "routes_job_time = [[[0.0 for t in 1:T] for i in 1:n_jobs] for r in 1:length(routes_keep)]\n",
    "for r in 1:length(routes_keep)\n",
    "    for i in 1:n_jobs\n",
    "        if i in routes_keep[r]\n",
    "            index = findall(x->x==i, routes_keep[r])[1]\n",
    "            t_start = Int(routes_times[r][index])\n",
    "            t_end = Int(t_start + work_load[i])\n",
    "            for t in t_start:t_end\n",
    "                routes_job_time[r][i][t] = 1\n",
    "            end\n",
    "        end\n",
    "    end\n",
    "end"
   ]
  },
  {
   "cell_type": "code",
   "execution_count": 44,
   "id": "db8249d2",
   "metadata": {},
   "outputs": [
    {
     "data": {
      "text/plain": [
       "10304-element Vector{Vector{Vector{Float64}}}:\n",
       " [[0.0, 0.0, 0.0, 0.0, 0.0, 0.0, 0.0, 0.0, 0.0, 0.0  …  0.0, 0.0, 0.0, 0.0, 0.0, 0.0, 0.0, 0.0, 0.0, 0.0], [0.0, 0.0, 0.0, 0.0, 0.0, 0.0, 0.0, 0.0, 0.0, 0.0  …  0.0, 0.0, 0.0, 0.0, 0.0, 0.0, 0.0, 0.0, 0.0, 0.0], [0.0, 0.0, 0.0, 0.0, 0.0, 0.0, 0.0, 0.0, 0.0, 0.0  …  0.0, 0.0, 0.0, 0.0, 0.0, 0.0, 0.0, 0.0, 0.0, 0.0], [0.0, 0.0, 0.0, 0.0, 0.0, 0.0, 0.0, 0.0, 0.0, 0.0  …  0.0, 0.0, 0.0, 0.0, 0.0, 0.0, 0.0, 0.0, 0.0, 0.0], [0.0, 0.0, 0.0, 0.0, 0.0, 0.0, 0.0, 0.0, 0.0, 0.0  …  0.0, 0.0, 0.0, 0.0, 0.0, 0.0, 0.0, 0.0, 0.0, 0.0], [0.0, 0.0, 0.0, 0.0, 0.0, 0.0, 0.0, 0.0, 0.0, 0.0  …  0.0, 0.0, 0.0, 0.0, 0.0, 0.0, 0.0, 0.0, 0.0, 0.0], [0.0, 0.0, 0.0, 0.0, 0.0, 0.0, 0.0, 0.0, 0.0, 0.0  …  0.0, 0.0, 0.0, 0.0, 0.0, 0.0, 0.0, 0.0, 0.0, 0.0], [0.0, 0.0, 0.0, 0.0, 0.0, 0.0, 0.0, 0.0, 0.0, 0.0  …  0.0, 0.0, 0.0, 0.0, 0.0, 0.0, 0.0, 0.0, 0.0, 0.0], [0.0, 0.0, 0.0, 0.0, 0.0, 0.0, 0.0, 0.0, 0.0, 0.0  …  0.0, 0.0, 0.0, 0.0, 0.0, 0.0, 0.0, 0.0, 0.0, 0.0], [0.0, 0.0, 0.0, 0.0, 0.0, 0.0, 0.0, 0.0, 0.0, 0.0  …  0.0, 0.0, 0.0, 0.0, 0.0, 0.0, 0.0, 0.0, 0.0, 0.0]  …  [0.0, 0.0, 0.0, 0.0, 0.0, 0.0, 0.0, 0.0, 0.0, 0.0  …  0.0, 0.0, 0.0, 0.0, 0.0, 0.0, 0.0, 0.0, 0.0, 0.0], [0.0, 0.0, 0.0, 0.0, 0.0, 0.0, 0.0, 0.0, 0.0, 0.0  …  0.0, 0.0, 0.0, 0.0, 0.0, 0.0, 0.0, 0.0, 0.0, 0.0], [0.0, 0.0, 0.0, 0.0, 0.0, 0.0, 0.0, 0.0, 0.0, 0.0  …  0.0, 0.0, 0.0, 0.0, 0.0, 0.0, 0.0, 0.0, 0.0, 0.0], [0.0, 0.0, 0.0, 0.0, 0.0, 0.0, 0.0, 0.0, 0.0, 0.0  …  0.0, 0.0, 0.0, 0.0, 0.0, 0.0, 0.0, 0.0, 0.0, 0.0], [0.0, 0.0, 0.0, 0.0, 0.0, 0.0, 0.0, 0.0, 0.0, 0.0  …  0.0, 0.0, 0.0, 0.0, 0.0, 0.0, 0.0, 0.0, 0.0, 0.0], [0.0, 0.0, 0.0, 0.0, 0.0, 0.0, 0.0, 0.0, 0.0, 0.0  …  0.0, 0.0, 0.0, 0.0, 0.0, 0.0, 0.0, 0.0, 0.0, 0.0], [0.0, 0.0, 0.0, 0.0, 0.0, 0.0, 0.0, 0.0, 0.0, 0.0  …  0.0, 0.0, 0.0, 0.0, 0.0, 0.0, 0.0, 0.0, 0.0, 0.0], [0.0, 0.0, 0.0, 0.0, 0.0, 0.0, 0.0, 0.0, 0.0, 0.0  …  0.0, 0.0, 0.0, 0.0, 0.0, 0.0, 0.0, 0.0, 0.0, 0.0], [0.0, 0.0, 0.0, 0.0, 0.0, 0.0, 0.0, 0.0, 0.0, 0.0  …  0.0, 0.0, 0.0, 0.0, 0.0, 0.0, 0.0, 0.0, 0.0, 0.0], [0.0, 0.0, 0.0, 0.0, 0.0, 0.0, 0.0, 0.0, 0.0, 0.0  …  0.0, 0.0, 0.0, 0.0, 0.0, 0.0, 0.0, 0.0, 0.0, 0.0]]\n",
       " [[0.0, 0.0, 0.0, 0.0, 0.0, 0.0, 0.0, 1.0, 1.0, 1.0  …  0.0, 0.0, 0.0, 0.0, 0.0, 0.0, 0.0, 0.0, 0.0, 0.0], [0.0, 0.0, 0.0, 0.0, 0.0, 0.0, 0.0, 0.0, 0.0, 0.0  …  0.0, 0.0, 0.0, 0.0, 0.0, 0.0, 0.0, 0.0, 0.0, 0.0], [0.0, 0.0, 0.0, 0.0, 0.0, 0.0, 0.0, 0.0, 0.0, 0.0  …  0.0, 0.0, 0.0, 0.0, 0.0, 0.0, 0.0, 0.0, 0.0, 0.0], [0.0, 0.0, 0.0, 0.0, 0.0, 0.0, 0.0, 0.0, 0.0, 0.0  …  0.0, 0.0, 0.0, 0.0, 0.0, 0.0, 0.0, 0.0, 0.0, 0.0], [0.0, 0.0, 0.0, 0.0, 0.0, 0.0, 0.0, 0.0, 0.0, 0.0  …  0.0, 0.0, 0.0, 0.0, 0.0, 0.0, 0.0, 0.0, 0.0, 0.0], [0.0, 0.0, 0.0, 0.0, 0.0, 0.0, 0.0, 0.0, 0.0, 0.0  …  0.0, 0.0, 0.0, 0.0, 0.0, 0.0, 0.0, 0.0, 0.0, 0.0], [0.0, 0.0, 0.0, 0.0, 0.0, 0.0, 0.0, 0.0, 0.0, 0.0  …  0.0, 0.0, 0.0, 0.0, 0.0, 0.0, 0.0, 0.0, 0.0, 0.0], [0.0, 0.0, 0.0, 0.0, 0.0, 0.0, 0.0, 0.0, 0.0, 0.0  …  0.0, 0.0, 0.0, 0.0, 0.0, 0.0, 0.0, 0.0, 0.0, 0.0], [0.0, 0.0, 0.0, 0.0, 0.0, 0.0, 0.0, 0.0, 0.0, 0.0  …  0.0, 0.0, 0.0, 0.0, 0.0, 0.0, 0.0, 0.0, 0.0, 0.0], [0.0, 0.0, 0.0, 0.0, 0.0, 0.0, 0.0, 0.0, 0.0, 0.0  …  0.0, 0.0, 0.0, 0.0, 0.0, 0.0, 0.0, 0.0, 0.0, 0.0]  …  [0.0, 0.0, 0.0, 0.0, 0.0, 0.0, 0.0, 0.0, 0.0, 0.0  …  0.0, 0.0, 0.0, 0.0, 0.0, 0.0, 0.0, 0.0, 0.0, 0.0], [0.0, 0.0, 0.0, 0.0, 0.0, 0.0, 0.0, 0.0, 0.0, 0.0  …  0.0, 0.0, 0.0, 0.0, 0.0, 0.0, 0.0, 0.0, 0.0, 0.0], [0.0, 0.0, 0.0, 0.0, 0.0, 0.0, 0.0, 0.0, 0.0, 0.0  …  0.0, 0.0, 0.0, 0.0, 0.0, 0.0, 0.0, 0.0, 0.0, 0.0], [0.0, 0.0, 0.0, 0.0, 0.0, 0.0, 0.0, 0.0, 0.0, 0.0  …  0.0, 0.0, 0.0, 0.0, 0.0, 0.0, 0.0, 0.0, 0.0, 0.0], [0.0, 0.0, 0.0, 0.0, 0.0, 0.0, 0.0, 0.0, 0.0, 0.0  …  0.0, 0.0, 0.0, 0.0, 0.0, 0.0, 0.0, 0.0, 0.0, 0.0], [0.0, 0.0, 0.0, 0.0, 0.0, 0.0, 0.0, 0.0, 0.0, 0.0  …  0.0, 0.0, 0.0, 0.0, 0.0, 0.0, 0.0, 0.0, 0.0, 0.0], [0.0, 0.0, 0.0, 0.0, 0.0, 0.0, 0.0, 0.0, 0.0, 0.0  …  0.0, 0.0, 0.0, 0.0, 0.0, 0.0, 0.0, 0.0, 0.0, 0.0], [0.0, 0.0, 0.0, 0.0, 0.0, 0.0, 0.0, 0.0, 0.0, 0.0  …  0.0, 0.0, 0.0, 0.0, 0.0, 0.0, 0.0, 0.0, 0.0, 0.0], [0.0, 0.0, 0.0, 0.0, 0.0, 0.0, 0.0, 0.0, 0.0, 0.0  …  0.0, 0.0, 0.0, 0.0, 0.0, 0.0, 0.0, 0.0, 0.0, 0.0], [0.0, 0.0, 0.0, 0.0, 0.0, 0.0, 0.0, 0.0, 0.0, 0.0  …  0.0, 0.0, 0.0, 0.0, 0.0, 0.0, 0.0, 0.0, 0.0, 0.0]]\n",
       " [[0.0, 0.0, 0.0, 0.0, 0.0, 0.0, 0.0, 0.0, 0.0, 0.0  …  0.0, 0.0, 0.0, 0.0, 0.0, 0.0, 0.0, 0.0, 0.0, 0.0], [0.0, 0.0, 0.0, 0.0, 0.0, 0.0, 0.0, 0.0, 0.0, 0.0  …  0.0, 0.0, 0.0, 0.0, 0.0, 0.0, 0.0, 0.0, 0.0, 0.0], [0.0, 0.0, 0.0, 0.0, 0.0, 0.0, 0.0, 0.0, 0.0, 0.0  …  0.0, 0.0, 0.0, 0.0, 0.0, 0.0, 0.0, 0.0, 0.0, 0.0], [0.0, 0.0, 0.0, 0.0, 0.0, 0.0, 0.0, 0.0, 0.0, 0.0  …  0.0, 0.0, 0.0, 0.0, 0.0, 0.0, 0.0, 0.0, 0.0, 0.0], [0.0, 0.0, 0.0, 0.0, 0.0, 0.0, 0.0, 0.0, 0.0, 0.0  …  0.0, 0.0, 0.0, 0.0, 0.0, 0.0, 0.0, 0.0, 0.0, 0.0], [0.0, 0.0, 0.0, 0.0, 0.0, 0.0, 0.0, 0.0, 0.0, 0.0  …  0.0, 0.0, 0.0, 0.0, 0.0, 0.0, 0.0, 0.0, 0.0, 0.0], [0.0, 0.0, 0.0, 0.0, 0.0, 0.0, 0.0, 0.0, 0.0, 0.0  …  0.0, 0.0, 0.0, 0.0, 0.0, 0.0, 0.0, 0.0, 0.0, 0.0], [0.0, 0.0, 0.0, 0.0, 0.0, 0.0, 0.0, 0.0, 0.0, 0.0  …  0.0, 0.0, 0.0, 0.0, 0.0, 0.0, 0.0, 0.0, 0.0, 0.0], [0.0, 0.0, 0.0, 0.0, 0.0, 0.0, 0.0, 0.0, 0.0, 0.0  …  0.0, 0.0, 0.0, 0.0, 0.0, 0.0, 0.0, 0.0, 0.0, 0.0], [0.0, 0.0, 0.0, 0.0, 0.0, 0.0, 0.0, 0.0, 0.0, 0.0  …  0.0, 0.0, 0.0, 0.0, 0.0, 0.0, 0.0, 0.0, 0.0, 0.0]  …  [0.0, 0.0, 0.0, 0.0, 0.0, 0.0, 0.0, 0.0, 0.0, 0.0  …  0.0, 0.0, 0.0, 0.0, 0.0, 0.0, 0.0, 0.0, 0.0, 0.0], [0.0, 0.0, 0.0, 0.0, 0.0, 0.0, 0.0, 0.0, 0.0, 0.0  …  0.0, 0.0, 0.0, 0.0, 0.0, 0.0, 0.0, 0.0, 0.0, 0.0], [0.0, 0.0, 0.0, 0.0, 0.0, 0.0, 0.0, 0.0, 0.0, 0.0  …  0.0, 0.0, 0.0, 0.0, 0.0, 0.0, 0.0, 0.0, 0.0, 0.0], [0.0, 0.0, 0.0, 0.0, 0.0, 0.0, 0.0, 0.0, 0.0, 0.0  …  0.0, 0.0, 0.0, 0.0, 0.0, 0.0, 0.0, 0.0, 0.0, 0.0], [0.0, 0.0, 0.0, 0.0, 0.0, 0.0, 0.0, 0.0, 0.0, 0.0  …  0.0, 0.0, 0.0, 0.0, 0.0, 0.0, 0.0, 0.0, 0.0, 0.0], [0.0, 0.0, 0.0, 0.0, 0.0, 0.0, 0.0, 0.0, 0.0, 0.0  …  0.0, 0.0, 0.0, 0.0, 0.0, 0.0, 0.0, 0.0, 0.0, 0.0], [0.0, 0.0, 0.0, 0.0, 0.0, 0.0, 0.0, 0.0, 0.0, 0.0  …  0.0, 0.0, 0.0, 0.0, 0.0, 0.0, 0.0, 0.0, 0.0, 0.0], [0.0, 0.0, 0.0, 0.0, 0.0, 0.0, 0.0, 0.0, 0.0, 0.0  …  0.0, 0.0, 0.0, 0.0, 0.0, 0.0, 0.0, 0.0, 0.0, 0.0], [0.0, 0.0, 0.0, 0.0, 0.0, 0.0, 0.0, 0.0, 0.0, 0.0  …  0.0, 0.0, 0.0, 0.0, 0.0, 0.0, 0.0, 0.0, 0.0, 0.0], [0.0, 0.0, 0.0, 0.0, 0.0, 0.0, 0.0, 0.0, 0.0, 0.0  …  0.0, 0.0, 0.0, 0.0, 0.0, 0.0, 0.0, 0.0, 0.0, 0.0]]\n",
       " [[0.0, 0.0, 0.0, 0.0, 0.0, 0.0, 0.0, 0.0, 0.0, 0.0  …  0.0, 0.0, 0.0, 0.0, 0.0, 0.0, 0.0, 0.0, 0.0, 0.0], [0.0, 0.0, 0.0, 0.0, 0.0, 0.0, 0.0, 0.0, 0.0, 0.0  …  0.0, 0.0, 0.0, 0.0, 0.0, 0.0, 0.0, 0.0, 0.0, 0.0], [0.0, 0.0, 0.0, 0.0, 0.0, 0.0, 0.0, 0.0, 0.0, 0.0  …  0.0, 0.0, 0.0, 0.0, 0.0, 0.0, 0.0, 0.0, 0.0, 0.0], [0.0, 0.0, 0.0, 0.0, 0.0, 0.0, 0.0, 0.0, 0.0, 0.0  …  0.0, 0.0, 0.0, 0.0, 0.0, 0.0, 0.0, 0.0, 0.0, 0.0], [0.0, 0.0, 0.0, 0.0, 0.0, 0.0, 0.0, 0.0, 0.0, 0.0  …  0.0, 0.0, 0.0, 0.0, 0.0, 0.0, 0.0, 0.0, 0.0, 0.0], [0.0, 0.0, 0.0, 0.0, 0.0, 0.0, 0.0, 0.0, 0.0, 0.0  …  0.0, 0.0, 0.0, 0.0, 0.0, 0.0, 0.0, 0.0, 0.0, 0.0], [0.0, 0.0, 0.0, 0.0, 0.0, 0.0, 0.0, 0.0, 0.0, 0.0  …  0.0, 0.0, 0.0, 0.0, 0.0, 0.0, 0.0, 0.0, 0.0, 0.0], [0.0, 0.0, 0.0, 0.0, 0.0, 0.0, 0.0, 0.0, 0.0, 0.0  …  0.0, 0.0, 0.0, 0.0, 0.0, 0.0, 0.0, 0.0, 0.0, 0.0], [0.0, 0.0, 0.0, 0.0, 0.0, 0.0, 0.0, 0.0, 0.0, 0.0  …  0.0, 0.0, 0.0, 0.0, 0.0, 0.0, 0.0, 0.0, 0.0, 0.0], [0.0, 0.0, 0.0, 0.0, 0.0, 0.0, 0.0, 0.0, 0.0, 0.0  …  0.0, 0.0, 0.0, 0.0, 0.0, 0.0, 0.0, 0.0, 0.0, 0.0]  …  [0.0, 0.0, 0.0, 0.0, 0.0, 0.0, 0.0, 0.0, 0.0, 0.0  …  0.0, 0.0, 0.0, 0.0, 0.0, 0.0, 0.0, 0.0, 0.0, 0.0], [0.0, 0.0, 0.0, 0.0, 0.0, 0.0, 0.0, 0.0, 0.0, 0.0  …  0.0, 0.0, 0.0, 0.0, 0.0, 0.0, 0.0, 0.0, 0.0, 0.0], [0.0, 0.0, 0.0, 0.0, 0.0, 0.0, 0.0, 0.0, 0.0, 0.0  …  0.0, 0.0, 0.0, 0.0, 0.0, 0.0, 0.0, 0.0, 0.0, 0.0], [0.0, 0.0, 0.0, 0.0, 0.0, 0.0, 0.0, 0.0, 0.0, 0.0  …  0.0, 0.0, 0.0, 0.0, 0.0, 0.0, 0.0, 0.0, 0.0, 0.0], [0.0, 0.0, 0.0, 0.0, 0.0, 0.0, 0.0, 0.0, 0.0, 0.0  …  0.0, 0.0, 0.0, 0.0, 0.0, 0.0, 0.0, 0.0, 0.0, 0.0], [0.0, 0.0, 0.0, 0.0, 0.0, 0.0, 0.0, 0.0, 0.0, 0.0  …  0.0, 0.0, 0.0, 0.0, 0.0, 0.0, 0.0, 0.0, 0.0, 0.0], [0.0, 0.0, 0.0, 0.0, 0.0, 0.0, 0.0, 0.0, 0.0, 0.0  …  0.0, 0.0, 0.0, 0.0, 0.0, 0.0, 0.0, 0.0, 0.0, 0.0], [0.0, 0.0, 0.0, 0.0, 0.0, 0.0, 0.0, 0.0, 0.0, 0.0  …  0.0, 0.0, 0.0, 0.0, 0.0, 0.0, 0.0, 0.0, 0.0, 0.0], [0.0, 0.0, 0.0, 0.0, 0.0, 0.0, 0.0, 0.0, 0.0, 0.0  …  0.0, 0.0, 0.0, 0.0, 0.0, 0.0, 0.0, 0.0, 0.0, 0.0], [0.0, 0.0, 0.0, 0.0, 0.0, 0.0, 0.0, 0.0, 0.0, 0.0  …  0.0, 0.0, 0.0, 0.0, 0.0, 0.0, 0.0, 0.0, 0.0, 0.0]]\n",
       " [[0.0, 0.0, 0.0, 0.0, 0.0, 0.0, 0.0, 0.0, 0.0, 0.0  …  0.0, 0.0, 0.0, 0.0, 0.0, 0.0, 0.0, 0.0, 0.0, 0.0], [0.0, 0.0, 0.0, 0.0, 0.0, 0.0, 0.0, 0.0, 0.0, 0.0  …  0.0, 0.0, 0.0, 0.0, 0.0, 0.0, 0.0, 0.0, 0.0, 0.0], [0.0, 0.0, 0.0, 0.0, 0.0, 0.0, 0.0, 0.0, 0.0, 0.0  …  0.0, 0.0, 0.0, 0.0, 0.0, 0.0, 0.0, 0.0, 0.0, 0.0], [0.0, 0.0, 1.0, 1.0, 1.0, 1.0, 1.0, 0.0, 0.0, 0.0  …  0.0, 0.0, 0.0, 0.0, 0.0, 0.0, 0.0, 0.0, 0.0, 0.0], [0.0, 0.0, 0.0, 0.0, 0.0, 0.0, 0.0, 0.0, 0.0, 0.0  …  0.0, 0.0, 0.0, 0.0, 0.0, 0.0, 0.0, 0.0, 0.0, 0.0], [0.0, 0.0, 0.0, 0.0, 0.0, 0.0, 0.0, 0.0, 0.0, 0.0  …  0.0, 0.0, 0.0, 0.0, 0.0, 0.0, 0.0, 0.0, 0.0, 0.0], [0.0, 0.0, 0.0, 0.0, 0.0, 0.0, 0.0, 0.0, 0.0, 0.0  …  0.0, 0.0, 0.0, 0.0, 0.0, 0.0, 0.0, 0.0, 0.0, 0.0], [0.0, 0.0, 0.0, 0.0, 0.0, 0.0, 0.0, 0.0, 0.0, 0.0  …  0.0, 0.0, 0.0, 0.0, 0.0, 0.0, 0.0, 0.0, 0.0, 0.0], [0.0, 0.0, 0.0, 0.0, 0.0, 0.0, 0.0, 0.0, 0.0, 0.0  …  0.0, 0.0, 0.0, 0.0, 0.0, 0.0, 0.0, 0.0, 0.0, 0.0], [0.0, 0.0, 0.0, 0.0, 0.0, 0.0, 0.0, 0.0, 0.0, 0.0  …  0.0, 0.0, 0.0, 0.0, 0.0, 0.0, 0.0, 0.0, 0.0, 0.0]  …  [0.0, 0.0, 0.0, 0.0, 0.0, 0.0, 0.0, 0.0, 0.0, 0.0  …  0.0, 0.0, 0.0, 0.0, 0.0, 0.0, 0.0, 0.0, 0.0, 0.0], [0.0, 0.0, 0.0, 0.0, 0.0, 0.0, 0.0, 0.0, 0.0, 0.0  …  0.0, 0.0, 0.0, 0.0, 0.0, 0.0, 0.0, 0.0, 0.0, 0.0], [0.0, 0.0, 0.0, 0.0, 0.0, 0.0, 0.0, 0.0, 0.0, 0.0  …  0.0, 0.0, 0.0, 0.0, 0.0, 0.0, 0.0, 0.0, 0.0, 0.0], [0.0, 0.0, 0.0, 0.0, 0.0, 0.0, 0.0, 0.0, 0.0, 0.0  …  0.0, 0.0, 0.0, 0.0, 0.0, 0.0, 0.0, 0.0, 0.0, 0.0], [0.0, 0.0, 0.0, 0.0, 0.0, 0.0, 0.0, 0.0, 0.0, 0.0  …  0.0, 0.0, 0.0, 0.0, 0.0, 0.0, 0.0, 0.0, 0.0, 0.0], [0.0, 0.0, 0.0, 0.0, 0.0, 0.0, 0.0, 0.0, 0.0, 0.0  …  0.0, 0.0, 0.0, 0.0, 0.0, 0.0, 0.0, 0.0, 0.0, 0.0], [0.0, 0.0, 0.0, 0.0, 0.0, 0.0, 0.0, 0.0, 0.0, 0.0  …  0.0, 0.0, 0.0, 0.0, 0.0, 0.0, 0.0, 0.0, 0.0, 0.0], [0.0, 0.0, 0.0, 0.0, 0.0, 0.0, 0.0, 0.0, 0.0, 0.0  …  0.0, 0.0, 0.0, 0.0, 0.0, 0.0, 0.0, 0.0, 0.0, 0.0], [0.0, 0.0, 0.0, 0.0, 0.0, 0.0, 0.0, 0.0, 0.0, 0.0  …  0.0, 0.0, 0.0, 0.0, 0.0, 0.0, 0.0, 0.0, 0.0, 0.0], [0.0, 0.0, 0.0, 0.0, 0.0, 0.0, 0.0, 0.0, 0.0, 0.0  …  0.0, 0.0, 0.0, 0.0, 0.0, 0.0, 0.0, 0.0, 0.0, 0.0]]\n",
       " [[0.0, 0.0, 0.0, 0.0, 0.0, 0.0, 0.0, 0.0, 0.0, 0.0  …  0.0, 0.0, 0.0, 0.0, 0.0, 0.0, 0.0, 0.0, 0.0, 0.0], [0.0, 0.0, 0.0, 0.0, 0.0, 0.0, 0.0, 0.0, 0.0, 0.0  …  0.0, 0.0, 0.0, 0.0, 0.0, 0.0, 0.0, 0.0, 0.0, 0.0], [0.0, 0.0, 0.0, 0.0, 0.0, 0.0, 0.0, 0.0, 0.0, 0.0  …  0.0, 0.0, 0.0, 0.0, 0.0, 0.0, 0.0, 0.0, 0.0, 0.0], [0.0, 0.0, 0.0, 0.0, 0.0, 0.0, 0.0, 0.0, 0.0, 0.0  …  0.0, 0.0, 0.0, 0.0, 0.0, 0.0, 0.0, 0.0, 0.0, 0.0], [0.0, 0.0, 0.0, 0.0, 0.0, 0.0, 0.0, 0.0, 0.0, 1.0  …  0.0, 0.0, 0.0, 0.0, 0.0, 0.0, 0.0, 0.0, 0.0, 0.0], [0.0, 0.0, 0.0, 0.0, 0.0, 0.0, 0.0, 0.0, 0.0, 0.0  …  0.0, 0.0, 0.0, 0.0, 0.0, 0.0, 0.0, 0.0, 0.0, 0.0], [0.0, 0.0, 0.0, 0.0, 0.0, 0.0, 0.0, 0.0, 0.0, 0.0  …  0.0, 0.0, 0.0, 0.0, 0.0, 0.0, 0.0, 0.0, 0.0, 0.0], [0.0, 0.0, 0.0, 0.0, 0.0, 0.0, 0.0, 0.0, 0.0, 0.0  …  0.0, 0.0, 0.0, 0.0, 0.0, 0.0, 0.0, 0.0, 0.0, 0.0], [0.0, 0.0, 0.0, 0.0, 0.0, 0.0, 0.0, 0.0, 0.0, 0.0  …  0.0, 0.0, 0.0, 0.0, 0.0, 0.0, 0.0, 0.0, 0.0, 0.0], [0.0, 0.0, 0.0, 0.0, 0.0, 0.0, 0.0, 0.0, 0.0, 0.0  …  0.0, 0.0, 0.0, 0.0, 0.0, 0.0, 0.0, 0.0, 0.0, 0.0]  …  [0.0, 0.0, 0.0, 0.0, 0.0, 0.0, 0.0, 0.0, 0.0, 0.0  …  0.0, 0.0, 0.0, 0.0, 0.0, 0.0, 0.0, 0.0, 0.0, 0.0], [0.0, 0.0, 0.0, 0.0, 0.0, 0.0, 0.0, 0.0, 0.0, 0.0  …  0.0, 0.0, 0.0, 0.0, 0.0, 0.0, 0.0, 0.0, 0.0, 0.0], [0.0, 0.0, 0.0, 0.0, 0.0, 0.0, 0.0, 0.0, 0.0, 0.0  …  0.0, 0.0, 0.0, 0.0, 0.0, 0.0, 0.0, 0.0, 0.0, 0.0], [0.0, 0.0, 0.0, 0.0, 0.0, 0.0, 0.0, 0.0, 0.0, 0.0  …  0.0, 0.0, 0.0, 0.0, 0.0, 0.0, 0.0, 0.0, 0.0, 0.0], [0.0, 0.0, 0.0, 0.0, 0.0, 0.0, 0.0, 0.0, 0.0, 0.0  …  0.0, 0.0, 0.0, 0.0, 0.0, 0.0, 0.0, 0.0, 0.0, 0.0], [0.0, 0.0, 0.0, 0.0, 0.0, 0.0, 0.0, 0.0, 0.0, 0.0  …  0.0, 0.0, 0.0, 0.0, 0.0, 0.0, 0.0, 0.0, 0.0, 0.0], [0.0, 0.0, 0.0, 0.0, 0.0, 0.0, 0.0, 0.0, 0.0, 0.0  …  0.0, 0.0, 0.0, 0.0, 0.0, 0.0, 0.0, 0.0, 0.0, 0.0], [0.0, 0.0, 0.0, 0.0, 0.0, 0.0, 0.0, 0.0, 0.0, 0.0  …  0.0, 0.0, 0.0, 0.0, 0.0, 0.0, 0.0, 0.0, 0.0, 0.0], [0.0, 0.0, 0.0, 0.0, 0.0, 0.0, 0.0, 0.0, 0.0, 0.0  …  0.0, 0.0, 0.0, 0.0, 0.0, 0.0, 0.0, 0.0, 0.0, 0.0], [0.0, 0.0, 0.0, 0.0, 0.0, 0.0, 0.0, 0.0, 0.0, 0.0  …  0.0, 0.0, 0.0, 0.0, 0.0, 0.0, 0.0, 0.0, 0.0, 0.0]]\n",
       " [[0.0, 0.0, 0.0, 0.0, 0.0, 0.0, 0.0, 0.0, 0.0, 0.0  …  0.0, 0.0, 0.0, 0.0, 0.0, 0.0, 0.0, 0.0, 0.0, 0.0], [0.0, 0.0, 0.0, 0.0, 0.0, 0.0, 0.0, 0.0, 0.0, 0.0  …  0.0, 0.0, 0.0, 0.0, 0.0, 0.0, 0.0, 0.0, 0.0, 0.0], [0.0, 0.0, 0.0, 0.0, 0.0, 0.0, 0.0, 0.0, 0.0, 0.0  …  0.0, 0.0, 0.0, 0.0, 0.0, 0.0, 0.0, 0.0, 0.0, 0.0], [0.0, 0.0, 0.0, 0.0, 0.0, 0.0, 0.0, 0.0, 0.0, 0.0  …  0.0, 0.0, 0.0, 0.0, 0.0, 0.0, 0.0, 0.0, 0.0, 0.0], [0.0, 0.0, 0.0, 0.0, 0.0, 0.0, 0.0, 0.0, 0.0, 0.0  …  0.0, 0.0, 0.0, 0.0, 0.0, 0.0, 0.0, 0.0, 0.0, 0.0], [0.0, 0.0, 0.0, 0.0, 0.0, 0.0, 0.0, 0.0, 0.0, 0.0  …  0.0, 0.0, 0.0, 0.0, 0.0, 0.0, 0.0, 0.0, 0.0, 0.0], [0.0, 0.0, 0.0, 0.0, 0.0, 0.0, 0.0, 0.0, 0.0, 0.0  …  0.0, 0.0, 0.0, 0.0, 0.0, 0.0, 0.0, 0.0, 0.0, 0.0], [0.0, 0.0, 0.0, 0.0, 0.0, 0.0, 0.0, 0.0, 0.0, 0.0  …  0.0, 0.0, 0.0, 0.0, 0.0, 0.0, 0.0, 0.0, 0.0, 0.0], [0.0, 0.0, 0.0, 0.0, 0.0, 0.0, 0.0, 0.0, 0.0, 0.0  …  0.0, 0.0, 0.0, 0.0, 0.0, 0.0, 0.0, 0.0, 0.0, 0.0], [0.0, 0.0, 0.0, 0.0, 0.0, 0.0, 0.0, 0.0, 0.0, 0.0  …  0.0, 0.0, 0.0, 0.0, 0.0, 0.0, 0.0, 0.0, 0.0, 0.0]  …  [0.0, 0.0, 0.0, 0.0, 0.0, 0.0, 0.0, 0.0, 0.0, 0.0  …  0.0, 0.0, 0.0, 0.0, 0.0, 0.0, 0.0, 0.0, 0.0, 0.0], [0.0, 0.0, 0.0, 0.0, 0.0, 0.0, 0.0, 0.0, 0.0, 0.0  …  0.0, 0.0, 0.0, 0.0, 0.0, 0.0, 0.0, 0.0, 0.0, 0.0], [0.0, 0.0, 0.0, 0.0, 0.0, 0.0, 0.0, 0.0, 0.0, 0.0  …  0.0, 0.0, 0.0, 0.0, 0.0, 0.0, 0.0, 0.0, 0.0, 0.0], [0.0, 0.0, 0.0, 0.0, 0.0, 0.0, 0.0, 0.0, 0.0, 0.0  …  0.0, 0.0, 0.0, 0.0, 0.0, 0.0, 0.0, 0.0, 0.0, 0.0], [0.0, 0.0, 0.0, 0.0, 0.0, 0.0, 0.0, 0.0, 0.0, 0.0  …  0.0, 0.0, 0.0, 0.0, 0.0, 0.0, 0.0, 0.0, 0.0, 0.0], [0.0, 0.0, 0.0, 0.0, 0.0, 0.0, 0.0, 0.0, 0.0, 0.0  …  0.0, 0.0, 0.0, 0.0, 0.0, 0.0, 0.0, 0.0, 0.0, 0.0], [0.0, 0.0, 0.0, 0.0, 0.0, 0.0, 0.0, 0.0, 0.0, 0.0  …  0.0, 0.0, 0.0, 0.0, 0.0, 0.0, 0.0, 0.0, 0.0, 0.0], [0.0, 0.0, 0.0, 0.0, 0.0, 0.0, 0.0, 0.0, 0.0, 0.0  …  0.0, 0.0, 0.0, 0.0, 0.0, 0.0, 0.0, 0.0, 0.0, 0.0], [0.0, 0.0, 0.0, 0.0, 0.0, 0.0, 0.0, 0.0, 0.0, 0.0  …  0.0, 0.0, 0.0, 0.0, 0.0, 0.0, 0.0, 0.0, 0.0, 0.0], [0.0, 0.0, 0.0, 0.0, 0.0, 0.0, 0.0, 0.0, 0.0, 0.0  …  0.0, 0.0, 0.0, 0.0, 0.0, 0.0, 0.0, 0.0, 0.0, 0.0]]\n",
       " [[0.0, 0.0, 0.0, 0.0, 0.0, 0.0, 0.0, 0.0, 0.0, 0.0  …  0.0, 0.0, 0.0, 0.0, 0.0, 0.0, 0.0, 0.0, 0.0, 0.0], [0.0, 0.0, 0.0, 0.0, 0.0, 0.0, 0.0, 0.0, 0.0, 0.0  …  0.0, 0.0, 0.0, 0.0, 0.0, 0.0, 0.0, 0.0, 0.0, 0.0], [0.0, 0.0, 0.0, 0.0, 0.0, 0.0, 0.0, 0.0, 0.0, 0.0  …  0.0, 0.0, 0.0, 0.0, 0.0, 0.0, 0.0, 0.0, 0.0, 0.0], [0.0, 0.0, 0.0, 0.0, 0.0, 0.0, 0.0, 0.0, 0.0, 0.0  …  0.0, 0.0, 0.0, 0.0, 0.0, 0.0, 0.0, 0.0, 0.0, 0.0], [0.0, 0.0, 0.0, 0.0, 0.0, 0.0, 0.0, 0.0, 0.0, 0.0  …  0.0, 0.0, 0.0, 0.0, 0.0, 0.0, 0.0, 0.0, 0.0, 0.0], [0.0, 0.0, 0.0, 0.0, 0.0, 0.0, 0.0, 0.0, 0.0, 0.0  …  0.0, 0.0, 0.0, 0.0, 0.0, 0.0, 0.0, 0.0, 0.0, 0.0], [0.0, 0.0, 0.0, 0.0, 0.0, 0.0, 0.0, 0.0, 0.0, 0.0  …  0.0, 0.0, 0.0, 0.0, 0.0, 0.0, 0.0, 0.0, 0.0, 0.0], [0.0, 0.0, 0.0, 0.0, 0.0, 0.0, 0.0, 0.0, 0.0, 0.0  …  0.0, 0.0, 0.0, 0.0, 0.0, 0.0, 0.0, 0.0, 0.0, 0.0], [0.0, 0.0, 0.0, 0.0, 0.0, 0.0, 0.0, 0.0, 0.0, 0.0  …  0.0, 0.0, 0.0, 0.0, 0.0, 0.0, 0.0, 0.0, 0.0, 0.0], [0.0, 0.0, 0.0, 0.0, 0.0, 0.0, 0.0, 0.0, 0.0, 0.0  …  0.0, 0.0, 0.0, 0.0, 0.0, 0.0, 0.0, 0.0, 0.0, 0.0]  …  [0.0, 0.0, 0.0, 0.0, 0.0, 0.0, 0.0, 0.0, 0.0, 0.0  …  0.0, 0.0, 0.0, 0.0, 0.0, 0.0, 0.0, 0.0, 0.0, 0.0], [0.0, 0.0, 0.0, 0.0, 0.0, 0.0, 0.0, 0.0, 0.0, 0.0  …  0.0, 0.0, 0.0, 0.0, 0.0, 0.0, 0.0, 0.0, 0.0, 0.0], [0.0, 0.0, 0.0, 0.0, 0.0, 0.0, 0.0, 0.0, 0.0, 0.0  …  0.0, 0.0, 0.0, 0.0, 0.0, 0.0, 0.0, 0.0, 0.0, 0.0], [0.0, 0.0, 0.0, 0.0, 0.0, 0.0, 0.0, 0.0, 0.0, 0.0  …  0.0, 0.0, 0.0, 0.0, 0.0, 0.0, 0.0, 0.0, 0.0, 0.0], [0.0, 0.0, 0.0, 0.0, 0.0, 0.0, 0.0, 0.0, 0.0, 0.0  …  0.0, 0.0, 0.0, 0.0, 0.0, 0.0, 0.0, 0.0, 0.0, 0.0], [0.0, 0.0, 0.0, 0.0, 0.0, 0.0, 0.0, 0.0, 0.0, 0.0  …  0.0, 0.0, 0.0, 0.0, 0.0, 0.0, 0.0, 0.0, 0.0, 0.0], [0.0, 0.0, 0.0, 0.0, 0.0, 0.0, 0.0, 0.0, 0.0, 0.0  …  0.0, 0.0, 0.0, 0.0, 0.0, 0.0, 0.0, 0.0, 0.0, 0.0], [0.0, 0.0, 0.0, 0.0, 0.0, 0.0, 0.0, 0.0, 0.0, 0.0  …  0.0, 0.0, 0.0, 0.0, 0.0, 0.0, 0.0, 0.0, 0.0, 0.0], [0.0, 0.0, 0.0, 0.0, 0.0, 0.0, 0.0, 0.0, 0.0, 0.0  …  0.0, 0.0, 0.0, 0.0, 0.0, 0.0, 0.0, 0.0, 0.0, 0.0], [0.0, 0.0, 0.0, 0.0, 0.0, 0.0, 0.0, 0.0, 0.0, 0.0  …  0.0, 0.0, 0.0, 0.0, 0.0, 0.0, 0.0, 0.0, 0.0, 0.0]]\n",
       " [[0.0, 0.0, 0.0, 0.0, 0.0, 0.0, 0.0, 0.0, 0.0, 0.0  …  0.0, 0.0, 0.0, 0.0, 0.0, 0.0, 0.0, 0.0, 0.0, 0.0], [0.0, 0.0, 0.0, 0.0, 0.0, 0.0, 0.0, 0.0, 0.0, 0.0  …  0.0, 0.0, 0.0, 0.0, 0.0, 0.0, 0.0, 0.0, 0.0, 0.0], [0.0, 0.0, 0.0, 0.0, 0.0, 0.0, 0.0, 0.0, 0.0, 0.0  …  0.0, 0.0, 0.0, 0.0, 0.0, 0.0, 0.0, 0.0, 0.0, 0.0], [0.0, 0.0, 0.0, 0.0, 0.0, 0.0, 0.0, 0.0, 0.0, 0.0  …  0.0, 0.0, 0.0, 0.0, 0.0, 0.0, 0.0, 0.0, 0.0, 0.0], [0.0, 0.0, 0.0, 0.0, 0.0, 0.0, 0.0, 0.0, 0.0, 0.0  …  0.0, 0.0, 0.0, 0.0, 0.0, 0.0, 0.0, 0.0, 0.0, 0.0], [0.0, 0.0, 0.0, 0.0, 0.0, 0.0, 0.0, 0.0, 0.0, 0.0  …  0.0, 0.0, 0.0, 0.0, 0.0, 0.0, 0.0, 0.0, 0.0, 0.0], [0.0, 0.0, 0.0, 0.0, 0.0, 0.0, 0.0, 0.0, 0.0, 0.0  …  0.0, 0.0, 0.0, 0.0, 0.0, 0.0, 0.0, 0.0, 0.0, 0.0], [0.0, 0.0, 0.0, 1.0, 1.0, 1.0, 1.0, 1.0, 1.0, 1.0  …  0.0, 0.0, 0.0, 0.0, 0.0, 0.0, 0.0, 0.0, 0.0, 0.0], [0.0, 0.0, 0.0, 0.0, 0.0, 0.0, 0.0, 0.0, 0.0, 0.0  …  0.0, 0.0, 0.0, 0.0, 0.0, 0.0, 0.0, 0.0, 0.0, 0.0], [0.0, 0.0, 0.0, 0.0, 0.0, 0.0, 0.0, 0.0, 0.0, 0.0  …  0.0, 0.0, 0.0, 0.0, 0.0, 0.0, 0.0, 0.0, 0.0, 0.0]  …  [0.0, 0.0, 0.0, 0.0, 0.0, 0.0, 0.0, 0.0, 0.0, 0.0  …  0.0, 0.0, 0.0, 0.0, 0.0, 0.0, 0.0, 0.0, 0.0, 0.0], [0.0, 0.0, 0.0, 0.0, 0.0, 0.0, 0.0, 0.0, 0.0, 0.0  …  0.0, 0.0, 0.0, 0.0, 0.0, 0.0, 0.0, 0.0, 0.0, 0.0], [0.0, 0.0, 0.0, 0.0, 0.0, 0.0, 0.0, 0.0, 0.0, 0.0  …  0.0, 0.0, 0.0, 0.0, 0.0, 0.0, 0.0, 0.0, 0.0, 0.0], [0.0, 0.0, 0.0, 0.0, 0.0, 0.0, 0.0, 0.0, 0.0, 0.0  …  0.0, 0.0, 0.0, 0.0, 0.0, 0.0, 0.0, 0.0, 0.0, 0.0], [0.0, 0.0, 0.0, 0.0, 0.0, 0.0, 0.0, 0.0, 0.0, 0.0  …  0.0, 0.0, 0.0, 0.0, 0.0, 0.0, 0.0, 0.0, 0.0, 0.0], [0.0, 0.0, 0.0, 0.0, 0.0, 0.0, 0.0, 0.0, 0.0, 0.0  …  0.0, 0.0, 0.0, 0.0, 0.0, 0.0, 0.0, 0.0, 0.0, 0.0], [0.0, 0.0, 0.0, 0.0, 0.0, 0.0, 0.0, 0.0, 0.0, 0.0  …  0.0, 0.0, 0.0, 0.0, 0.0, 0.0, 0.0, 0.0, 0.0, 0.0], [0.0, 0.0, 0.0, 0.0, 0.0, 0.0, 0.0, 0.0, 0.0, 0.0  …  0.0, 0.0, 0.0, 0.0, 0.0, 0.0, 0.0, 0.0, 0.0, 0.0], [0.0, 0.0, 0.0, 0.0, 0.0, 0.0, 0.0, 0.0, 0.0, 0.0  …  0.0, 0.0, 0.0, 0.0, 0.0, 0.0, 0.0, 0.0, 0.0, 0.0], [0.0, 0.0, 0.0, 0.0, 0.0, 0.0, 0.0, 0.0, 0.0, 0.0  …  0.0, 0.0, 0.0, 0.0, 0.0, 0.0, 0.0, 0.0, 0.0, 0.0]]\n",
       " [[0.0, 0.0, 0.0, 0.0, 0.0, 0.0, 0.0, 0.0, 0.0, 0.0  …  0.0, 0.0, 0.0, 0.0, 0.0, 0.0, 0.0, 0.0, 0.0, 0.0], [0.0, 0.0, 0.0, 0.0, 0.0, 0.0, 0.0, 0.0, 0.0, 0.0  …  0.0, 0.0, 0.0, 0.0, 0.0, 0.0, 0.0, 0.0, 0.0, 0.0], [0.0, 0.0, 0.0, 0.0, 0.0, 0.0, 0.0, 0.0, 0.0, 0.0  …  0.0, 0.0, 0.0, 0.0, 0.0, 0.0, 0.0, 0.0, 0.0, 0.0], [0.0, 0.0, 0.0, 0.0, 0.0, 0.0, 0.0, 0.0, 0.0, 0.0  …  0.0, 0.0, 0.0, 0.0, 0.0, 0.0, 0.0, 0.0, 0.0, 0.0], [0.0, 0.0, 0.0, 0.0, 0.0, 0.0, 0.0, 0.0, 0.0, 0.0  …  0.0, 0.0, 0.0, 0.0, 0.0, 0.0, 0.0, 0.0, 0.0, 0.0], [0.0, 0.0, 0.0, 0.0, 0.0, 0.0, 0.0, 0.0, 0.0, 0.0  …  0.0, 0.0, 0.0, 0.0, 0.0, 0.0, 0.0, 0.0, 0.0, 0.0], [0.0, 0.0, 0.0, 0.0, 0.0, 0.0, 0.0, 0.0, 0.0, 0.0  …  0.0, 0.0, 0.0, 0.0, 0.0, 0.0, 0.0, 0.0, 0.0, 0.0], [0.0, 0.0, 0.0, 0.0, 0.0, 0.0, 0.0, 0.0, 0.0, 0.0  …  0.0, 0.0, 0.0, 0.0, 0.0, 0.0, 0.0, 0.0, 0.0, 0.0], [0.0, 0.0, 0.0, 0.0, 0.0, 0.0, 0.0, 0.0, 0.0, 0.0  …  0.0, 0.0, 0.0, 0.0, 0.0, 0.0, 0.0, 0.0, 0.0, 0.0], [0.0, 0.0, 0.0, 0.0, 0.0, 0.0, 0.0, 0.0, 0.0, 0.0  …  0.0, 0.0, 0.0, 0.0, 0.0, 0.0, 0.0, 0.0, 0.0, 0.0]  …  [0.0, 0.0, 0.0, 0.0, 0.0, 0.0, 0.0, 0.0, 0.0, 0.0  …  0.0, 0.0, 0.0, 0.0, 0.0, 0.0, 0.0, 0.0, 0.0, 0.0], [0.0, 0.0, 0.0, 0.0, 0.0, 0.0, 0.0, 0.0, 0.0, 0.0  …  0.0, 0.0, 0.0, 0.0, 0.0, 0.0, 0.0, 0.0, 0.0, 0.0], [0.0, 0.0, 0.0, 0.0, 0.0, 0.0, 0.0, 0.0, 0.0, 0.0  …  0.0, 0.0, 0.0, 0.0, 0.0, 0.0, 0.0, 0.0, 0.0, 0.0], [0.0, 0.0, 0.0, 0.0, 0.0, 0.0, 0.0, 0.0, 0.0, 0.0  …  0.0, 0.0, 0.0, 0.0, 0.0, 0.0, 0.0, 0.0, 0.0, 0.0], [0.0, 0.0, 0.0, 0.0, 0.0, 0.0, 0.0, 0.0, 0.0, 0.0  …  0.0, 0.0, 0.0, 0.0, 0.0, 0.0, 0.0, 0.0, 0.0, 0.0], [0.0, 0.0, 0.0, 0.0, 0.0, 0.0, 0.0, 0.0, 0.0, 0.0  …  0.0, 0.0, 0.0, 0.0, 0.0, 0.0, 0.0, 0.0, 0.0, 0.0], [0.0, 0.0, 0.0, 0.0, 0.0, 0.0, 0.0, 0.0, 0.0, 0.0  …  0.0, 0.0, 0.0, 0.0, 0.0, 0.0, 0.0, 0.0, 0.0, 0.0], [0.0, 0.0, 0.0, 0.0, 0.0, 0.0, 0.0, 0.0, 0.0, 0.0  …  0.0, 0.0, 0.0, 0.0, 0.0, 0.0, 0.0, 0.0, 0.0, 0.0], [0.0, 0.0, 0.0, 0.0, 0.0, 0.0, 0.0, 0.0, 0.0, 0.0  …  0.0, 0.0, 0.0, 0.0, 0.0, 0.0, 0.0, 0.0, 0.0, 0.0], [0.0, 0.0, 0.0, 0.0, 0.0, 0.0, 0.0, 0.0, 0.0, 0.0  …  0.0, 0.0, 0.0, 0.0, 0.0, 0.0, 0.0, 0.0, 0.0, 0.0]]\n",
       " [[0.0, 0.0, 0.0, 0.0, 0.0, 0.0, 0.0, 0.0, 0.0, 0.0  …  0.0, 0.0, 0.0, 0.0, 0.0, 0.0, 0.0, 0.0, 0.0, 0.0], [0.0, 0.0, 0.0, 0.0, 0.0, 0.0, 0.0, 0.0, 0.0, 0.0  …  0.0, 0.0, 0.0, 0.0, 0.0, 0.0, 0.0, 0.0, 0.0, 0.0], [0.0, 0.0, 0.0, 0.0, 0.0, 0.0, 0.0, 0.0, 0.0, 0.0  …  0.0, 0.0, 0.0, 0.0, 0.0, 0.0, 0.0, 0.0, 0.0, 0.0], [0.0, 0.0, 0.0, 0.0, 0.0, 0.0, 0.0, 0.0, 0.0, 0.0  …  0.0, 0.0, 0.0, 0.0, 0.0, 0.0, 0.0, 0.0, 0.0, 0.0], [0.0, 0.0, 0.0, 0.0, 0.0, 0.0, 0.0, 0.0, 0.0, 0.0  …  0.0, 0.0, 0.0, 0.0, 0.0, 0.0, 0.0, 0.0, 0.0, 0.0], [0.0, 0.0, 0.0, 0.0, 0.0, 0.0, 0.0, 0.0, 0.0, 0.0  …  0.0, 0.0, 0.0, 0.0, 0.0, 0.0, 0.0, 0.0, 0.0, 0.0], [0.0, 0.0, 0.0, 0.0, 0.0, 0.0, 0.0, 0.0, 0.0, 0.0  …  0.0, 0.0, 0.0, 0.0, 0.0, 0.0, 0.0, 0.0, 0.0, 0.0], [0.0, 0.0, 0.0, 0.0, 0.0, 0.0, 0.0, 0.0, 0.0, 0.0  …  0.0, 0.0, 0.0, 0.0, 0.0, 0.0, 0.0, 0.0, 0.0, 0.0], [0.0, 0.0, 0.0, 0.0, 0.0, 0.0, 0.0, 0.0, 0.0, 0.0  …  0.0, 0.0, 0.0, 0.0, 0.0, 0.0, 0.0, 0.0, 0.0, 0.0], [0.0, 0.0, 0.0, 0.0, 0.0, 0.0, 0.0, 0.0, 0.0, 0.0  …  0.0, 0.0, 0.0, 0.0, 0.0, 0.0, 0.0, 0.0, 0.0, 0.0]  …  [0.0, 0.0, 0.0, 0.0, 0.0, 0.0, 0.0, 0.0, 0.0, 0.0  …  0.0, 0.0, 0.0, 0.0, 0.0, 0.0, 0.0, 0.0, 0.0, 0.0], [0.0, 0.0, 0.0, 0.0, 0.0, 0.0, 0.0, 0.0, 0.0, 0.0  …  0.0, 0.0, 0.0, 0.0, 0.0, 0.0, 0.0, 0.0, 0.0, 0.0], [0.0, 0.0, 0.0, 0.0, 0.0, 0.0, 0.0, 0.0, 0.0, 0.0  …  0.0, 0.0, 0.0, 0.0, 0.0, 0.0, 0.0, 0.0, 0.0, 0.0], [0.0, 0.0, 0.0, 0.0, 0.0, 0.0, 0.0, 0.0, 0.0, 0.0  …  0.0, 0.0, 0.0, 0.0, 0.0, 0.0, 0.0, 0.0, 0.0, 0.0], [0.0, 0.0, 0.0, 0.0, 0.0, 0.0, 0.0, 0.0, 0.0, 0.0  …  0.0, 0.0, 0.0, 0.0, 0.0, 0.0, 0.0, 0.0, 0.0, 0.0], [0.0, 0.0, 0.0, 0.0, 0.0, 0.0, 0.0, 0.0, 0.0, 0.0  …  0.0, 0.0, 0.0, 0.0, 0.0, 0.0, 0.0, 0.0, 0.0, 0.0], [0.0, 0.0, 0.0, 0.0, 0.0, 0.0, 0.0, 0.0, 0.0, 0.0  …  0.0, 0.0, 0.0, 0.0, 0.0, 0.0, 0.0, 0.0, 0.0, 0.0], [0.0, 0.0, 0.0, 0.0, 0.0, 0.0, 0.0, 0.0, 0.0, 0.0  …  0.0, 0.0, 0.0, 0.0, 0.0, 0.0, 0.0, 0.0, 0.0, 0.0], [0.0, 0.0, 0.0, 0.0, 0.0, 0.0, 0.0, 0.0, 0.0, 0.0  …  0.0, 0.0, 0.0, 0.0, 0.0, 0.0, 0.0, 0.0, 0.0, 0.0], [0.0, 0.0, 0.0, 0.0, 0.0, 0.0, 0.0, 0.0, 0.0, 0.0  …  0.0, 0.0, 0.0, 0.0, 0.0, 0.0, 0.0, 0.0, 0.0, 0.0]]\n",
       " [[0.0, 0.0, 0.0, 0.0, 0.0, 0.0, 0.0, 0.0, 0.0, 0.0  …  0.0, 0.0, 0.0, 0.0, 0.0, 0.0, 0.0, 0.0, 0.0, 0.0], [0.0, 0.0, 0.0, 0.0, 0.0, 0.0, 0.0, 0.0, 0.0, 0.0  …  0.0, 0.0, 0.0, 0.0, 0.0, 0.0, 0.0, 0.0, 0.0, 0.0], [0.0, 0.0, 0.0, 0.0, 0.0, 0.0, 0.0, 0.0, 0.0, 0.0  …  0.0, 0.0, 0.0, 0.0, 0.0, 0.0, 0.0, 0.0, 0.0, 0.0], [0.0, 0.0, 0.0, 0.0, 0.0, 0.0, 0.0, 0.0, 0.0, 0.0  …  0.0, 0.0, 0.0, 0.0, 0.0, 0.0, 0.0, 0.0, 0.0, 0.0], [0.0, 0.0, 0.0, 0.0, 0.0, 0.0, 0.0, 0.0, 0.0, 0.0  …  0.0, 0.0, 0.0, 0.0, 0.0, 0.0, 0.0, 0.0, 0.0, 0.0], [0.0, 0.0, 0.0, 0.0, 0.0, 0.0, 0.0, 0.0, 0.0, 0.0  …  0.0, 0.0, 0.0, 0.0, 0.0, 0.0, 0.0, 0.0, 0.0, 0.0], [0.0, 0.0, 0.0, 0.0, 0.0, 0.0, 0.0, 0.0, 0.0, 0.0  …  0.0, 0.0, 0.0, 0.0, 0.0, 0.0, 0.0, 0.0, 0.0, 0.0], [0.0, 0.0, 0.0, 0.0, 0.0, 0.0, 0.0, 0.0, 0.0, 0.0  …  0.0, 0.0, 0.0, 0.0, 0.0, 0.0, 0.0, 0.0, 0.0, 0.0], [0.0, 0.0, 0.0, 0.0, 0.0, 0.0, 0.0, 0.0, 0.0, 0.0  …  0.0, 0.0, 0.0, 0.0, 0.0, 0.0, 0.0, 0.0, 0.0, 0.0], [0.0, 0.0, 0.0, 0.0, 0.0, 0.0, 0.0, 0.0, 0.0, 0.0  …  0.0, 0.0, 0.0, 0.0, 0.0, 0.0, 0.0, 0.0, 0.0, 0.0]  …  [0.0, 0.0, 0.0, 0.0, 0.0, 0.0, 0.0, 0.0, 0.0, 0.0  …  0.0, 0.0, 0.0, 0.0, 0.0, 0.0, 0.0, 0.0, 0.0, 0.0], [0.0, 0.0, 0.0, 0.0, 0.0, 0.0, 0.0, 0.0, 0.0, 0.0  …  0.0, 0.0, 0.0, 0.0, 0.0, 0.0, 0.0, 0.0, 0.0, 0.0], [0.0, 0.0, 0.0, 0.0, 0.0, 0.0, 0.0, 0.0, 0.0, 0.0  …  0.0, 0.0, 0.0, 0.0, 0.0, 0.0, 0.0, 0.0, 0.0, 0.0], [0.0, 0.0, 0.0, 0.0, 0.0, 0.0, 0.0, 0.0, 0.0, 0.0  …  0.0, 0.0, 0.0, 0.0, 0.0, 0.0, 0.0, 0.0, 0.0, 0.0], [0.0, 0.0, 0.0, 0.0, 0.0, 0.0, 0.0, 0.0, 0.0, 0.0  …  0.0, 0.0, 0.0, 0.0, 0.0, 0.0, 0.0, 0.0, 0.0, 0.0], [0.0, 0.0, 0.0, 0.0, 0.0, 0.0, 0.0, 0.0, 0.0, 0.0  …  0.0, 0.0, 0.0, 0.0, 0.0, 0.0, 0.0, 0.0, 0.0, 0.0], [0.0, 0.0, 0.0, 0.0, 0.0, 0.0, 0.0, 0.0, 0.0, 0.0  …  0.0, 0.0, 0.0, 0.0, 0.0, 0.0, 0.0, 0.0, 0.0, 0.0], [0.0, 0.0, 0.0, 0.0, 0.0, 0.0, 0.0, 0.0, 0.0, 0.0  …  0.0, 0.0, 0.0, 0.0, 0.0, 0.0, 0.0, 0.0, 0.0, 0.0], [0.0, 0.0, 0.0, 0.0, 0.0, 0.0, 0.0, 0.0, 0.0, 0.0  …  0.0, 0.0, 0.0, 0.0, 0.0, 0.0, 0.0, 0.0, 0.0, 0.0], [0.0, 0.0, 0.0, 0.0, 0.0, 0.0, 0.0, 0.0, 0.0, 0.0  …  0.0, 0.0, 0.0, 0.0, 0.0, 0.0, 0.0, 0.0, 0.0, 0.0]]\n",
       " [[0.0, 0.0, 0.0, 0.0, 0.0, 0.0, 0.0, 0.0, 0.0, 0.0  …  0.0, 0.0, 0.0, 0.0, 0.0, 0.0, 0.0, 0.0, 0.0, 0.0], [0.0, 0.0, 0.0, 0.0, 0.0, 0.0, 0.0, 0.0, 0.0, 0.0  …  0.0, 0.0, 0.0, 0.0, 0.0, 0.0, 0.0, 0.0, 0.0, 0.0], [0.0, 0.0, 0.0, 0.0, 0.0, 0.0, 0.0, 0.0, 0.0, 0.0  …  0.0, 0.0, 0.0, 0.0, 0.0, 0.0, 0.0, 0.0, 0.0, 0.0], [0.0, 0.0, 0.0, 0.0, 0.0, 0.0, 0.0, 0.0, 0.0, 0.0  …  0.0, 0.0, 0.0, 0.0, 0.0, 0.0, 0.0, 0.0, 0.0, 0.0], [0.0, 0.0, 0.0, 0.0, 0.0, 0.0, 0.0, 0.0, 0.0, 0.0  …  0.0, 0.0, 0.0, 0.0, 0.0, 0.0, 0.0, 0.0, 0.0, 0.0], [0.0, 0.0, 0.0, 0.0, 0.0, 0.0, 0.0, 0.0, 0.0, 0.0  …  0.0, 0.0, 0.0, 0.0, 0.0, 0.0, 0.0, 0.0, 0.0, 0.0], [0.0, 0.0, 0.0, 0.0, 0.0, 0.0, 0.0, 0.0, 0.0, 0.0  …  0.0, 0.0, 0.0, 0.0, 0.0, 0.0, 0.0, 0.0, 0.0, 0.0], [0.0, 0.0, 0.0, 0.0, 0.0, 0.0, 0.0, 0.0, 0.0, 0.0  …  0.0, 0.0, 0.0, 0.0, 0.0, 0.0, 0.0, 0.0, 0.0, 0.0], [0.0, 0.0, 0.0, 0.0, 0.0, 0.0, 0.0, 0.0, 0.0, 0.0  …  0.0, 0.0, 0.0, 0.0, 0.0, 0.0, 0.0, 0.0, 0.0, 0.0], [0.0, 0.0, 0.0, 0.0, 0.0, 0.0, 0.0, 0.0, 0.0, 0.0  …  0.0, 0.0, 0.0, 0.0, 0.0, 0.0, 0.0, 0.0, 0.0, 0.0]  …  [0.0, 0.0, 0.0, 0.0, 0.0, 0.0, 0.0, 0.0, 0.0, 0.0  …  0.0, 0.0, 0.0, 0.0, 0.0, 0.0, 0.0, 0.0, 0.0, 0.0], [0.0, 0.0, 0.0, 0.0, 0.0, 0.0, 0.0, 0.0, 0.0, 0.0  …  0.0, 0.0, 0.0, 0.0, 0.0, 0.0, 0.0, 0.0, 0.0, 0.0], [0.0, 0.0, 0.0, 0.0, 0.0, 0.0, 0.0, 0.0, 0.0, 0.0  …  0.0, 0.0, 0.0, 0.0, 0.0, 0.0, 0.0, 0.0, 0.0, 0.0], [0.0, 0.0, 0.0, 0.0, 0.0, 0.0, 0.0, 0.0, 0.0, 0.0  …  0.0, 0.0, 0.0, 0.0, 0.0, 0.0, 0.0, 0.0, 0.0, 0.0], [0.0, 0.0, 0.0, 0.0, 0.0, 0.0, 0.0, 0.0, 0.0, 0.0  …  0.0, 0.0, 0.0, 0.0, 0.0, 0.0, 0.0, 0.0, 0.0, 0.0], [0.0, 0.0, 0.0, 0.0, 0.0, 0.0, 0.0, 0.0, 0.0, 0.0  …  0.0, 0.0, 0.0, 0.0, 0.0, 0.0, 0.0, 0.0, 0.0, 0.0], [0.0, 0.0, 0.0, 0.0, 0.0, 0.0, 0.0, 0.0, 0.0, 0.0  …  0.0, 0.0, 0.0, 0.0, 0.0, 0.0, 0.0, 0.0, 0.0, 0.0], [0.0, 0.0, 0.0, 0.0, 0.0, 0.0, 0.0, 0.0, 0.0, 0.0  …  0.0, 0.0, 0.0, 0.0, 0.0, 0.0, 0.0, 0.0, 0.0, 0.0], [0.0, 0.0, 0.0, 0.0, 0.0, 0.0, 0.0, 0.0, 0.0, 0.0  …  0.0, 0.0, 0.0, 0.0, 0.0, 0.0, 0.0, 0.0, 0.0, 0.0], [0.0, 0.0, 0.0, 0.0, 0.0, 0.0, 0.0, 0.0, 0.0, 0.0  …  0.0, 0.0, 0.0, 0.0, 0.0, 0.0, 0.0, 0.0, 0.0, 0.0]]\n",
       " ⋮\n",
       " [[0.0, 0.0, 0.0, 0.0, 0.0, 0.0, 0.0, 0.0, 0.0, 0.0  …  0.0, 0.0, 0.0, 0.0, 0.0, 0.0, 0.0, 0.0, 0.0, 0.0], [0.0, 0.0, 0.0, 0.0, 0.0, 0.0, 0.0, 0.0, 0.0, 0.0  …  0.0, 0.0, 0.0, 0.0, 0.0, 0.0, 0.0, 0.0, 0.0, 0.0], [0.0, 0.0, 0.0, 0.0, 0.0, 0.0, 0.0, 0.0, 0.0, 0.0  …  0.0, 0.0, 0.0, 0.0, 0.0, 0.0, 0.0, 0.0, 0.0, 0.0], [0.0, 0.0, 0.0, 0.0, 0.0, 0.0, 0.0, 0.0, 0.0, 0.0  …  0.0, 0.0, 0.0, 0.0, 0.0, 0.0, 0.0, 0.0, 0.0, 0.0], [0.0, 0.0, 0.0, 0.0, 0.0, 0.0, 0.0, 0.0, 0.0, 0.0  …  0.0, 0.0, 0.0, 0.0, 0.0, 0.0, 0.0, 0.0, 0.0, 0.0], [0.0, 0.0, 0.0, 0.0, 0.0, 0.0, 0.0, 0.0, 0.0, 0.0  …  0.0, 0.0, 0.0, 0.0, 0.0, 0.0, 0.0, 0.0, 0.0, 0.0], [0.0, 0.0, 0.0, 0.0, 0.0, 0.0, 0.0, 0.0, 0.0, 0.0  …  0.0, 0.0, 0.0, 0.0, 0.0, 0.0, 0.0, 0.0, 0.0, 0.0], [0.0, 0.0, 0.0, 0.0, 0.0, 0.0, 0.0, 0.0, 0.0, 0.0  …  0.0, 0.0, 0.0, 0.0, 0.0, 0.0, 0.0, 0.0, 0.0, 0.0], [0.0, 0.0, 0.0, 0.0, 0.0, 0.0, 0.0, 0.0, 0.0, 0.0  …  0.0, 0.0, 0.0, 0.0, 0.0, 0.0, 0.0, 0.0, 0.0, 0.0], [0.0, 0.0, 0.0, 0.0, 0.0, 0.0, 0.0, 0.0, 0.0, 0.0  …  0.0, 0.0, 0.0, 0.0, 0.0, 0.0, 0.0, 0.0, 0.0, 0.0]  …  [0.0, 0.0, 0.0, 0.0, 0.0, 0.0, 0.0, 0.0, 0.0, 0.0  …  0.0, 0.0, 0.0, 0.0, 0.0, 0.0, 0.0, 0.0, 0.0, 0.0], [0.0, 0.0, 0.0, 0.0, 0.0, 0.0, 0.0, 0.0, 0.0, 0.0  …  0.0, 0.0, 0.0, 0.0, 0.0, 0.0, 0.0, 0.0, 0.0, 0.0], [0.0, 0.0, 0.0, 0.0, 0.0, 0.0, 0.0, 0.0, 0.0, 0.0  …  0.0, 0.0, 0.0, 0.0, 0.0, 0.0, 0.0, 0.0, 0.0, 0.0], [0.0, 0.0, 0.0, 0.0, 0.0, 0.0, 0.0, 0.0, 0.0, 0.0  …  0.0, 0.0, 0.0, 0.0, 0.0, 0.0, 0.0, 0.0, 0.0, 0.0], [0.0, 0.0, 0.0, 0.0, 0.0, 0.0, 1.0, 1.0, 1.0, 0.0  …  0.0, 0.0, 0.0, 0.0, 0.0, 0.0, 0.0, 0.0, 0.0, 0.0], [0.0, 0.0, 0.0, 0.0, 0.0, 0.0, 0.0, 0.0, 0.0, 1.0  …  0.0, 0.0, 0.0, 0.0, 0.0, 0.0, 0.0, 0.0, 0.0, 0.0], [0.0, 0.0, 0.0, 0.0, 0.0, 0.0, 0.0, 0.0, 0.0, 0.0  …  0.0, 0.0, 0.0, 0.0, 0.0, 0.0, 0.0, 0.0, 0.0, 0.0], [0.0, 0.0, 0.0, 0.0, 0.0, 0.0, 0.0, 0.0, 0.0, 0.0  …  0.0, 0.0, 0.0, 0.0, 0.0, 0.0, 0.0, 0.0, 0.0, 0.0], [0.0, 0.0, 0.0, 0.0, 0.0, 0.0, 0.0, 0.0, 0.0, 0.0  …  0.0, 0.0, 0.0, 0.0, 0.0, 0.0, 0.0, 0.0, 0.0, 0.0], [0.0, 0.0, 0.0, 0.0, 0.0, 0.0, 0.0, 0.0, 0.0, 0.0  …  0.0, 0.0, 0.0, 0.0, 0.0, 0.0, 0.0, 0.0, 0.0, 0.0]]\n",
       " [[0.0, 0.0, 0.0, 0.0, 0.0, 0.0, 0.0, 0.0, 0.0, 0.0  …  0.0, 0.0, 0.0, 0.0, 0.0, 0.0, 0.0, 0.0, 0.0, 0.0], [0.0, 0.0, 0.0, 0.0, 0.0, 0.0, 0.0, 0.0, 0.0, 0.0  …  0.0, 0.0, 0.0, 0.0, 0.0, 0.0, 0.0, 0.0, 0.0, 0.0], [0.0, 0.0, 0.0, 0.0, 0.0, 0.0, 0.0, 0.0, 0.0, 0.0  …  0.0, 0.0, 0.0, 0.0, 0.0, 0.0, 0.0, 0.0, 0.0, 0.0], [0.0, 0.0, 0.0, 0.0, 0.0, 0.0, 0.0, 0.0, 0.0, 0.0  …  0.0, 0.0, 0.0, 0.0, 0.0, 0.0, 0.0, 0.0, 0.0, 0.0], [0.0, 0.0, 0.0, 0.0, 0.0, 0.0, 0.0, 0.0, 0.0, 0.0  …  0.0, 0.0, 0.0, 0.0, 0.0, 0.0, 0.0, 0.0, 0.0, 0.0], [0.0, 0.0, 0.0, 0.0, 0.0, 0.0, 0.0, 0.0, 0.0, 0.0  …  0.0, 0.0, 0.0, 0.0, 0.0, 0.0, 0.0, 0.0, 0.0, 0.0], [0.0, 0.0, 0.0, 0.0, 0.0, 0.0, 0.0, 0.0, 0.0, 0.0  …  0.0, 0.0, 0.0, 0.0, 0.0, 0.0, 0.0, 0.0, 0.0, 0.0], [0.0, 0.0, 0.0, 0.0, 0.0, 0.0, 0.0, 0.0, 0.0, 0.0  …  0.0, 0.0, 0.0, 0.0, 0.0, 0.0, 0.0, 0.0, 0.0, 0.0], [0.0, 0.0, 0.0, 0.0, 0.0, 0.0, 0.0, 0.0, 0.0, 0.0  …  0.0, 0.0, 0.0, 0.0, 0.0, 0.0, 0.0, 0.0, 0.0, 0.0], [0.0, 0.0, 0.0, 0.0, 0.0, 0.0, 0.0, 0.0, 0.0, 0.0  …  0.0, 0.0, 0.0, 0.0, 0.0, 0.0, 0.0, 0.0, 0.0, 0.0]  …  [0.0, 0.0, 0.0, 0.0, 0.0, 0.0, 0.0, 0.0, 0.0, 0.0  …  0.0, 0.0, 0.0, 0.0, 0.0, 0.0, 0.0, 0.0, 0.0, 0.0], [0.0, 0.0, 0.0, 0.0, 0.0, 0.0, 0.0, 0.0, 0.0, 0.0  …  0.0, 0.0, 0.0, 0.0, 0.0, 0.0, 0.0, 0.0, 0.0, 0.0], [0.0, 0.0, 0.0, 0.0, 0.0, 0.0, 0.0, 0.0, 0.0, 0.0  …  0.0, 0.0, 0.0, 0.0, 0.0, 0.0, 0.0, 0.0, 0.0, 0.0], [0.0, 0.0, 0.0, 0.0, 0.0, 0.0, 0.0, 0.0, 0.0, 0.0  …  0.0, 0.0, 0.0, 0.0, 0.0, 0.0, 0.0, 0.0, 0.0, 0.0], [0.0, 0.0, 0.0, 0.0, 0.0, 0.0, 1.0, 1.0, 1.0, 0.0  …  0.0, 0.0, 0.0, 0.0, 0.0, 0.0, 0.0, 0.0, 0.0, 0.0], [0.0, 0.0, 0.0, 0.0, 0.0, 0.0, 0.0, 0.0, 0.0, 1.0  …  0.0, 0.0, 0.0, 0.0, 0.0, 0.0, 0.0, 0.0, 0.0, 0.0], [0.0, 0.0, 0.0, 0.0, 0.0, 0.0, 0.0, 0.0, 0.0, 0.0  …  0.0, 0.0, 0.0, 0.0, 0.0, 0.0, 0.0, 0.0, 0.0, 0.0], [0.0, 0.0, 0.0, 0.0, 0.0, 0.0, 0.0, 0.0, 0.0, 0.0  …  0.0, 0.0, 0.0, 0.0, 0.0, 0.0, 0.0, 0.0, 0.0, 0.0], [0.0, 0.0, 0.0, 0.0, 0.0, 0.0, 0.0, 0.0, 0.0, 0.0  …  0.0, 0.0, 0.0, 0.0, 0.0, 0.0, 0.0, 0.0, 0.0, 0.0], [0.0, 0.0, 0.0, 0.0, 0.0, 0.0, 0.0, 0.0, 0.0, 0.0  …  0.0, 0.0, 0.0, 0.0, 0.0, 0.0, 0.0, 0.0, 0.0, 0.0]]\n",
       " [[0.0, 0.0, 0.0, 0.0, 0.0, 0.0, 0.0, 0.0, 0.0, 0.0  …  0.0, 0.0, 0.0, 0.0, 0.0, 0.0, 0.0, 0.0, 0.0, 0.0], [0.0, 0.0, 0.0, 0.0, 0.0, 0.0, 0.0, 0.0, 0.0, 0.0  …  0.0, 0.0, 0.0, 0.0, 0.0, 0.0, 0.0, 0.0, 0.0, 0.0], [0.0, 0.0, 0.0, 0.0, 0.0, 0.0, 0.0, 0.0, 0.0, 0.0  …  0.0, 0.0, 0.0, 0.0, 0.0, 0.0, 0.0, 0.0, 0.0, 0.0], [0.0, 0.0, 0.0, 0.0, 0.0, 0.0, 0.0, 0.0, 0.0, 0.0  …  0.0, 0.0, 0.0, 0.0, 0.0, 0.0, 0.0, 0.0, 0.0, 0.0], [0.0, 0.0, 0.0, 0.0, 0.0, 0.0, 0.0, 0.0, 0.0, 0.0  …  0.0, 0.0, 0.0, 0.0, 0.0, 0.0, 0.0, 0.0, 0.0, 0.0], [0.0, 0.0, 0.0, 0.0, 0.0, 0.0, 0.0, 0.0, 0.0, 0.0  …  0.0, 0.0, 0.0, 0.0, 0.0, 0.0, 0.0, 0.0, 0.0, 0.0], [0.0, 0.0, 0.0, 0.0, 0.0, 0.0, 0.0, 0.0, 0.0, 0.0  …  0.0, 0.0, 0.0, 0.0, 0.0, 0.0, 0.0, 0.0, 0.0, 0.0], [0.0, 0.0, 0.0, 0.0, 0.0, 0.0, 0.0, 0.0, 0.0, 0.0  …  0.0, 0.0, 0.0, 0.0, 0.0, 0.0, 0.0, 0.0, 0.0, 0.0], [0.0, 0.0, 0.0, 0.0, 0.0, 0.0, 0.0, 0.0, 0.0, 0.0  …  0.0, 0.0, 0.0, 0.0, 0.0, 0.0, 0.0, 0.0, 0.0, 0.0], [0.0, 0.0, 0.0, 0.0, 0.0, 0.0, 0.0, 0.0, 0.0, 0.0  …  0.0, 0.0, 0.0, 0.0, 0.0, 0.0, 0.0, 0.0, 0.0, 0.0]  …  [0.0, 0.0, 0.0, 0.0, 0.0, 0.0, 0.0, 0.0, 0.0, 0.0  …  0.0, 0.0, 0.0, 0.0, 0.0, 0.0, 0.0, 0.0, 0.0, 0.0], [0.0, 0.0, 0.0, 0.0, 0.0, 0.0, 0.0, 0.0, 0.0, 0.0  …  0.0, 0.0, 0.0, 0.0, 0.0, 0.0, 0.0, 0.0, 0.0, 0.0], [0.0, 0.0, 0.0, 0.0, 0.0, 0.0, 0.0, 0.0, 0.0, 0.0  …  0.0, 0.0, 0.0, 0.0, 0.0, 0.0, 0.0, 0.0, 0.0, 0.0], [0.0, 0.0, 0.0, 0.0, 0.0, 0.0, 0.0, 0.0, 0.0, 0.0  …  0.0, 0.0, 0.0, 0.0, 0.0, 0.0, 0.0, 0.0, 0.0, 0.0], [0.0, 0.0, 0.0, 0.0, 0.0, 0.0, 0.0, 0.0, 0.0, 0.0  …  0.0, 0.0, 0.0, 0.0, 0.0, 0.0, 0.0, 0.0, 0.0, 0.0], [0.0, 0.0, 0.0, 0.0, 0.0, 0.0, 0.0, 0.0, 0.0, 0.0  …  0.0, 0.0, 0.0, 0.0, 0.0, 0.0, 0.0, 0.0, 0.0, 0.0], [0.0, 0.0, 0.0, 0.0, 0.0, 0.0, 0.0, 0.0, 0.0, 0.0  …  0.0, 0.0, 0.0, 0.0, 0.0, 0.0, 0.0, 0.0, 0.0, 0.0], [0.0, 0.0, 0.0, 0.0, 0.0, 0.0, 0.0, 0.0, 0.0, 0.0  …  0.0, 0.0, 0.0, 0.0, 0.0, 0.0, 0.0, 0.0, 0.0, 0.0], [0.0, 0.0, 0.0, 0.0, 0.0, 0.0, 0.0, 1.0, 1.0, 1.0  …  0.0, 0.0, 0.0, 0.0, 0.0, 0.0, 0.0, 0.0, 0.0, 0.0], [0.0, 0.0, 0.0, 0.0, 0.0, 0.0, 0.0, 0.0, 0.0, 0.0  …  0.0, 0.0, 0.0, 0.0, 0.0, 0.0, 0.0, 0.0, 0.0, 0.0]]\n",
       " [[0.0, 0.0, 0.0, 0.0, 0.0, 0.0, 0.0, 0.0, 0.0, 0.0  …  0.0, 0.0, 0.0, 0.0, 0.0, 0.0, 0.0, 0.0, 0.0, 0.0], [0.0, 0.0, 0.0, 0.0, 0.0, 0.0, 0.0, 0.0, 0.0, 0.0  …  0.0, 0.0, 0.0, 0.0, 0.0, 0.0, 0.0, 0.0, 0.0, 0.0], [0.0, 0.0, 0.0, 0.0, 0.0, 0.0, 0.0, 0.0, 0.0, 0.0  …  0.0, 0.0, 0.0, 0.0, 0.0, 0.0, 0.0, 0.0, 0.0, 0.0], [0.0, 0.0, 0.0, 0.0, 0.0, 0.0, 0.0, 0.0, 0.0, 0.0  …  0.0, 0.0, 0.0, 0.0, 0.0, 0.0, 0.0, 0.0, 0.0, 0.0], [0.0, 0.0, 0.0, 0.0, 0.0, 0.0, 0.0, 0.0, 0.0, 0.0  …  0.0, 0.0, 0.0, 0.0, 0.0, 0.0, 0.0, 0.0, 0.0, 0.0], [0.0, 0.0, 0.0, 0.0, 0.0, 0.0, 0.0, 0.0, 0.0, 0.0  …  0.0, 0.0, 0.0, 0.0, 0.0, 0.0, 0.0, 0.0, 0.0, 0.0], [0.0, 0.0, 0.0, 0.0, 0.0, 0.0, 0.0, 0.0, 0.0, 0.0  …  0.0, 0.0, 0.0, 0.0, 0.0, 0.0, 0.0, 0.0, 0.0, 0.0], [0.0, 0.0, 0.0, 0.0, 0.0, 0.0, 0.0, 0.0, 0.0, 0.0  …  0.0, 0.0, 0.0, 0.0, 0.0, 0.0, 0.0, 0.0, 0.0, 0.0], [0.0, 0.0, 0.0, 0.0, 0.0, 0.0, 0.0, 0.0, 0.0, 0.0  …  0.0, 0.0, 0.0, 0.0, 0.0, 0.0, 0.0, 0.0, 0.0, 0.0], [0.0, 0.0, 0.0, 0.0, 0.0, 0.0, 0.0, 0.0, 0.0, 0.0  …  0.0, 0.0, 0.0, 0.0, 0.0, 0.0, 0.0, 0.0, 0.0, 0.0]  …  [0.0, 0.0, 0.0, 0.0, 0.0, 0.0, 0.0, 0.0, 0.0, 0.0  …  0.0, 0.0, 0.0, 0.0, 0.0, 0.0, 0.0, 0.0, 0.0, 0.0], [0.0, 0.0, 0.0, 0.0, 0.0, 0.0, 0.0, 0.0, 0.0, 0.0  …  0.0, 0.0, 0.0, 0.0, 0.0, 0.0, 0.0, 0.0, 0.0, 0.0], [0.0, 0.0, 0.0, 0.0, 0.0, 0.0, 0.0, 0.0, 0.0, 0.0  …  0.0, 0.0, 0.0, 0.0, 0.0, 0.0, 0.0, 0.0, 0.0, 0.0], [0.0, 0.0, 0.0, 0.0, 0.0, 0.0, 0.0, 0.0, 0.0, 0.0  …  0.0, 0.0, 0.0, 0.0, 0.0, 0.0, 0.0, 0.0, 0.0, 0.0], [0.0, 0.0, 0.0, 0.0, 0.0, 0.0, 0.0, 0.0, 0.0, 0.0  …  0.0, 0.0, 0.0, 0.0, 0.0, 0.0, 0.0, 0.0, 0.0, 0.0], [0.0, 0.0, 0.0, 0.0, 0.0, 0.0, 0.0, 0.0, 0.0, 0.0  …  0.0, 0.0, 0.0, 0.0, 0.0, 0.0, 0.0, 0.0, 0.0, 0.0], [0.0, 0.0, 0.0, 0.0, 0.0, 0.0, 0.0, 0.0, 0.0, 0.0  …  0.0, 0.0, 0.0, 0.0, 0.0, 0.0, 0.0, 0.0, 0.0, 0.0], [0.0, 0.0, 0.0, 0.0, 0.0, 0.0, 0.0, 0.0, 0.0, 0.0  …  0.0, 0.0, 0.0, 0.0, 0.0, 0.0, 0.0, 0.0, 0.0, 0.0], [0.0, 0.0, 0.0, 0.0, 0.0, 0.0, 0.0, 1.0, 1.0, 1.0  …  0.0, 0.0, 0.0, 0.0, 0.0, 0.0, 0.0, 0.0, 0.0, 0.0], [0.0, 0.0, 0.0, 0.0, 0.0, 0.0, 0.0, 0.0, 0.0, 0.0  …  0.0, 0.0, 0.0, 0.0, 0.0, 0.0, 0.0, 0.0, 0.0, 0.0]]\n",
       " [[0.0, 0.0, 0.0, 0.0, 0.0, 0.0, 0.0, 0.0, 0.0, 0.0  …  0.0, 0.0, 0.0, 0.0, 0.0, 0.0, 0.0, 0.0, 0.0, 0.0], [0.0, 0.0, 0.0, 0.0, 0.0, 0.0, 0.0, 0.0, 0.0, 0.0  …  0.0, 0.0, 0.0, 0.0, 0.0, 0.0, 0.0, 0.0, 0.0, 0.0], [0.0, 0.0, 0.0, 0.0, 0.0, 0.0, 0.0, 0.0, 0.0, 0.0  …  0.0, 0.0, 0.0, 0.0, 0.0, 0.0, 0.0, 0.0, 0.0, 0.0], [0.0, 0.0, 0.0, 0.0, 0.0, 0.0, 0.0, 0.0, 0.0, 0.0  …  0.0, 0.0, 0.0, 0.0, 0.0, 0.0, 0.0, 0.0, 0.0, 0.0], [0.0, 0.0, 0.0, 0.0, 0.0, 0.0, 0.0, 0.0, 0.0, 0.0  …  0.0, 0.0, 0.0, 0.0, 0.0, 0.0, 0.0, 0.0, 0.0, 0.0], [0.0, 0.0, 0.0, 0.0, 0.0, 0.0, 0.0, 0.0, 0.0, 0.0  …  0.0, 0.0, 0.0, 0.0, 0.0, 0.0, 0.0, 0.0, 0.0, 0.0], [0.0, 0.0, 0.0, 0.0, 0.0, 0.0, 0.0, 0.0, 0.0, 0.0  …  0.0, 0.0, 0.0, 0.0, 0.0, 0.0, 0.0, 0.0, 0.0, 0.0], [0.0, 0.0, 0.0, 0.0, 0.0, 0.0, 0.0, 0.0, 0.0, 0.0  …  0.0, 0.0, 0.0, 0.0, 0.0, 0.0, 0.0, 0.0, 0.0, 0.0], [0.0, 0.0, 0.0, 0.0, 0.0, 0.0, 0.0, 0.0, 0.0, 0.0  …  0.0, 0.0, 0.0, 0.0, 0.0, 0.0, 0.0, 0.0, 0.0, 0.0], [0.0, 0.0, 0.0, 0.0, 0.0, 0.0, 0.0, 0.0, 0.0, 0.0  …  0.0, 0.0, 0.0, 0.0, 0.0, 0.0, 0.0, 0.0, 0.0, 0.0]  …  [0.0, 0.0, 0.0, 0.0, 0.0, 0.0, 0.0, 0.0, 0.0, 0.0  …  0.0, 0.0, 0.0, 0.0, 0.0, 0.0, 0.0, 0.0, 0.0, 0.0], [0.0, 0.0, 0.0, 0.0, 0.0, 0.0, 0.0, 0.0, 0.0, 0.0  …  0.0, 0.0, 0.0, 0.0, 0.0, 0.0, 0.0, 0.0, 0.0, 0.0], [0.0, 0.0, 0.0, 0.0, 0.0, 0.0, 0.0, 0.0, 0.0, 0.0  …  0.0, 0.0, 0.0, 0.0, 0.0, 0.0, 0.0, 0.0, 0.0, 0.0], [0.0, 0.0, 0.0, 0.0, 0.0, 0.0, 0.0, 0.0, 0.0, 0.0  …  0.0, 0.0, 0.0, 0.0, 0.0, 0.0, 0.0, 0.0, 0.0, 0.0], [0.0, 0.0, 0.0, 0.0, 0.0, 0.0, 0.0, 0.0, 0.0, 0.0  …  0.0, 0.0, 0.0, 0.0, 0.0, 0.0, 0.0, 0.0, 0.0, 0.0], [0.0, 0.0, 0.0, 0.0, 0.0, 0.0, 0.0, 0.0, 0.0, 0.0  …  0.0, 0.0, 0.0, 0.0, 0.0, 0.0, 0.0, 0.0, 0.0, 0.0], [0.0, 0.0, 0.0, 0.0, 0.0, 0.0, 0.0, 0.0, 0.0, 0.0  …  0.0, 0.0, 0.0, 0.0, 0.0, 0.0, 0.0, 0.0, 0.0, 0.0], [0.0, 0.0, 0.0, 0.0, 0.0, 0.0, 0.0, 0.0, 0.0, 0.0  …  0.0, 0.0, 0.0, 0.0, 0.0, 0.0, 0.0, 0.0, 0.0, 0.0], [0.0, 0.0, 0.0, 0.0, 0.0, 0.0, 0.0, 1.0, 1.0, 1.0  …  0.0, 0.0, 0.0, 0.0, 0.0, 0.0, 0.0, 0.0, 0.0, 0.0], [0.0, 0.0, 0.0, 0.0, 0.0, 0.0, 0.0, 0.0, 0.0, 0.0  …  0.0, 0.0, 0.0, 0.0, 0.0, 0.0, 0.0, 0.0, 0.0, 0.0]]\n",
       " [[0.0, 0.0, 0.0, 0.0, 0.0, 0.0, 0.0, 0.0, 0.0, 0.0  …  0.0, 0.0, 0.0, 0.0, 0.0, 0.0, 0.0, 0.0, 0.0, 0.0], [0.0, 0.0, 0.0, 0.0, 0.0, 0.0, 0.0, 0.0, 0.0, 0.0  …  0.0, 0.0, 0.0, 0.0, 0.0, 0.0, 0.0, 0.0, 0.0, 0.0], [0.0, 0.0, 0.0, 0.0, 0.0, 0.0, 0.0, 0.0, 0.0, 0.0  …  0.0, 0.0, 0.0, 0.0, 0.0, 0.0, 0.0, 0.0, 0.0, 0.0], [0.0, 0.0, 0.0, 0.0, 0.0, 0.0, 0.0, 0.0, 0.0, 0.0  …  0.0, 0.0, 0.0, 0.0, 0.0, 0.0, 0.0, 0.0, 0.0, 0.0], [0.0, 0.0, 0.0, 0.0, 0.0, 0.0, 0.0, 0.0, 0.0, 0.0  …  0.0, 0.0, 0.0, 0.0, 0.0, 0.0, 0.0, 0.0, 0.0, 0.0], [0.0, 0.0, 0.0, 0.0, 0.0, 0.0, 0.0, 0.0, 0.0, 0.0  …  0.0, 0.0, 0.0, 0.0, 0.0, 0.0, 0.0, 0.0, 0.0, 0.0], [0.0, 0.0, 0.0, 0.0, 0.0, 0.0, 0.0, 0.0, 0.0, 0.0  …  0.0, 0.0, 0.0, 0.0, 0.0, 0.0, 0.0, 0.0, 0.0, 0.0], [0.0, 0.0, 0.0, 0.0, 0.0, 0.0, 0.0, 0.0, 0.0, 0.0  …  0.0, 0.0, 0.0, 0.0, 0.0, 0.0, 0.0, 0.0, 0.0, 0.0], [0.0, 0.0, 0.0, 0.0, 0.0, 0.0, 0.0, 0.0, 0.0, 0.0  …  0.0, 0.0, 0.0, 0.0, 0.0, 0.0, 0.0, 0.0, 0.0, 0.0], [0.0, 0.0, 0.0, 0.0, 0.0, 0.0, 0.0, 0.0, 0.0, 0.0  …  0.0, 0.0, 0.0, 0.0, 0.0, 0.0, 0.0, 0.0, 0.0, 0.0]  …  [0.0, 0.0, 0.0, 0.0, 0.0, 0.0, 0.0, 0.0, 0.0, 0.0  …  0.0, 0.0, 0.0, 0.0, 0.0, 0.0, 0.0, 0.0, 0.0, 0.0], [0.0, 0.0, 0.0, 0.0, 0.0, 0.0, 0.0, 0.0, 0.0, 0.0  …  0.0, 0.0, 0.0, 0.0, 0.0, 0.0, 0.0, 0.0, 0.0, 0.0], [0.0, 0.0, 0.0, 0.0, 0.0, 0.0, 0.0, 0.0, 0.0, 0.0  …  0.0, 0.0, 0.0, 0.0, 0.0, 0.0, 0.0, 0.0, 0.0, 0.0], [0.0, 0.0, 0.0, 0.0, 0.0, 0.0, 0.0, 0.0, 0.0, 0.0  …  0.0, 0.0, 0.0, 0.0, 0.0, 0.0, 0.0, 0.0, 0.0, 0.0], [0.0, 0.0, 0.0, 0.0, 0.0, 0.0, 0.0, 0.0, 0.0, 0.0  …  0.0, 0.0, 0.0, 0.0, 0.0, 0.0, 0.0, 0.0, 0.0, 0.0], [0.0, 0.0, 0.0, 0.0, 0.0, 0.0, 0.0, 0.0, 0.0, 0.0  …  0.0, 0.0, 0.0, 0.0, 0.0, 0.0, 0.0, 0.0, 0.0, 0.0], [0.0, 0.0, 0.0, 0.0, 0.0, 0.0, 0.0, 0.0, 0.0, 0.0  …  0.0, 0.0, 0.0, 0.0, 0.0, 0.0, 0.0, 0.0, 0.0, 0.0], [0.0, 0.0, 0.0, 0.0, 0.0, 0.0, 0.0, 0.0, 0.0, 0.0  …  0.0, 0.0, 0.0, 0.0, 0.0, 0.0, 0.0, 0.0, 0.0, 0.0], [0.0, 0.0, 0.0, 0.0, 0.0, 0.0, 0.0, 1.0, 1.0, 1.0  …  0.0, 0.0, 0.0, 0.0, 0.0, 0.0, 0.0, 0.0, 0.0, 0.0], [0.0, 0.0, 0.0, 0.0, 0.0, 0.0, 0.0, 0.0, 0.0, 0.0  …  0.0, 0.0, 0.0, 0.0, 0.0, 0.0, 0.0, 0.0, 0.0, 0.0]]\n",
       " [[0.0, 0.0, 0.0, 0.0, 0.0, 0.0, 0.0, 0.0, 0.0, 0.0  …  0.0, 0.0, 0.0, 0.0, 0.0, 0.0, 0.0, 0.0, 0.0, 0.0], [0.0, 0.0, 0.0, 0.0, 0.0, 0.0, 0.0, 0.0, 0.0, 0.0  …  0.0, 0.0, 0.0, 0.0, 0.0, 0.0, 0.0, 0.0, 0.0, 0.0], [0.0, 0.0, 0.0, 0.0, 0.0, 0.0, 0.0, 0.0, 0.0, 0.0  …  0.0, 0.0, 0.0, 0.0, 0.0, 0.0, 0.0, 0.0, 0.0, 0.0], [0.0, 0.0, 0.0, 0.0, 0.0, 0.0, 0.0, 0.0, 0.0, 0.0  …  0.0, 0.0, 0.0, 0.0, 0.0, 0.0, 0.0, 0.0, 0.0, 0.0], [0.0, 0.0, 0.0, 0.0, 0.0, 0.0, 0.0, 0.0, 0.0, 0.0  …  0.0, 0.0, 0.0, 0.0, 0.0, 0.0, 0.0, 0.0, 0.0, 0.0], [0.0, 0.0, 0.0, 0.0, 0.0, 0.0, 0.0, 0.0, 0.0, 0.0  …  0.0, 0.0, 0.0, 0.0, 0.0, 0.0, 0.0, 0.0, 0.0, 0.0], [0.0, 0.0, 0.0, 0.0, 0.0, 0.0, 0.0, 0.0, 0.0, 0.0  …  0.0, 0.0, 0.0, 0.0, 0.0, 0.0, 0.0, 0.0, 0.0, 0.0], [0.0, 0.0, 0.0, 0.0, 0.0, 0.0, 0.0, 0.0, 0.0, 0.0  …  0.0, 0.0, 0.0, 0.0, 0.0, 0.0, 0.0, 0.0, 0.0, 0.0], [0.0, 0.0, 0.0, 0.0, 0.0, 0.0, 0.0, 0.0, 0.0, 0.0  …  0.0, 0.0, 0.0, 0.0, 0.0, 0.0, 0.0, 0.0, 0.0, 0.0], [0.0, 0.0, 0.0, 0.0, 0.0, 0.0, 0.0, 0.0, 0.0, 0.0  …  0.0, 0.0, 0.0, 0.0, 0.0, 0.0, 0.0, 0.0, 0.0, 0.0]  …  [0.0, 0.0, 0.0, 0.0, 0.0, 0.0, 0.0, 0.0, 0.0, 0.0  …  0.0, 0.0, 0.0, 0.0, 0.0, 0.0, 0.0, 0.0, 0.0, 0.0], [0.0, 0.0, 0.0, 0.0, 0.0, 0.0, 0.0, 0.0, 0.0, 0.0  …  0.0, 0.0, 0.0, 0.0, 0.0, 0.0, 0.0, 0.0, 0.0, 0.0], [0.0, 0.0, 0.0, 0.0, 0.0, 0.0, 0.0, 0.0, 0.0, 0.0  …  0.0, 0.0, 0.0, 0.0, 0.0, 0.0, 0.0, 0.0, 0.0, 0.0], [0.0, 0.0, 0.0, 0.0, 0.0, 0.0, 0.0, 0.0, 0.0, 0.0  …  0.0, 0.0, 0.0, 0.0, 0.0, 0.0, 0.0, 0.0, 0.0, 0.0], [0.0, 0.0, 0.0, 0.0, 0.0, 0.0, 0.0, 0.0, 0.0, 0.0  …  0.0, 0.0, 0.0, 0.0, 0.0, 0.0, 0.0, 0.0, 0.0, 0.0], [0.0, 0.0, 0.0, 0.0, 0.0, 0.0, 0.0, 0.0, 0.0, 0.0  …  0.0, 0.0, 0.0, 0.0, 0.0, 0.0, 0.0, 0.0, 0.0, 0.0], [0.0, 0.0, 0.0, 0.0, 0.0, 0.0, 0.0, 0.0, 0.0, 0.0  …  0.0, 0.0, 0.0, 0.0, 0.0, 0.0, 0.0, 0.0, 0.0, 0.0], [0.0, 0.0, 0.0, 0.0, 0.0, 0.0, 0.0, 0.0, 0.0, 0.0  …  0.0, 0.0, 0.0, 0.0, 0.0, 0.0, 0.0, 0.0, 0.0, 0.0], [0.0, 0.0, 0.0, 0.0, 0.0, 0.0, 0.0, 1.0, 1.0, 1.0  …  0.0, 0.0, 0.0, 0.0, 0.0, 0.0, 0.0, 0.0, 0.0, 0.0], [0.0, 0.0, 0.0, 0.0, 0.0, 0.0, 0.0, 0.0, 0.0, 0.0  …  0.0, 0.0, 0.0, 0.0, 0.0, 0.0, 0.0, 0.0, 0.0, 0.0]]\n",
       " [[0.0, 0.0, 0.0, 0.0, 0.0, 0.0, 0.0, 0.0, 0.0, 0.0  …  0.0, 0.0, 0.0, 0.0, 0.0, 0.0, 0.0, 0.0, 0.0, 0.0], [0.0, 0.0, 0.0, 0.0, 0.0, 0.0, 0.0, 0.0, 0.0, 0.0  …  0.0, 0.0, 0.0, 0.0, 0.0, 0.0, 0.0, 0.0, 0.0, 0.0], [0.0, 0.0, 0.0, 0.0, 0.0, 0.0, 0.0, 0.0, 0.0, 0.0  …  0.0, 0.0, 0.0, 0.0, 0.0, 0.0, 0.0, 0.0, 0.0, 0.0], [0.0, 0.0, 0.0, 0.0, 0.0, 0.0, 0.0, 0.0, 0.0, 0.0  …  0.0, 0.0, 0.0, 0.0, 0.0, 0.0, 0.0, 0.0, 0.0, 0.0], [0.0, 0.0, 0.0, 0.0, 0.0, 0.0, 0.0, 0.0, 0.0, 0.0  …  0.0, 0.0, 0.0, 0.0, 0.0, 0.0, 0.0, 0.0, 0.0, 0.0], [0.0, 0.0, 0.0, 0.0, 0.0, 0.0, 0.0, 0.0, 0.0, 0.0  …  0.0, 0.0, 0.0, 0.0, 0.0, 0.0, 0.0, 0.0, 0.0, 0.0], [0.0, 0.0, 0.0, 0.0, 0.0, 0.0, 0.0, 0.0, 0.0, 0.0  …  0.0, 0.0, 0.0, 0.0, 0.0, 0.0, 0.0, 0.0, 0.0, 0.0], [0.0, 0.0, 0.0, 0.0, 0.0, 0.0, 0.0, 0.0, 0.0, 0.0  …  0.0, 0.0, 0.0, 0.0, 0.0, 0.0, 0.0, 0.0, 0.0, 0.0], [0.0, 0.0, 0.0, 0.0, 0.0, 0.0, 0.0, 0.0, 0.0, 0.0  …  0.0, 0.0, 0.0, 0.0, 0.0, 0.0, 0.0, 0.0, 0.0, 0.0], [0.0, 0.0, 0.0, 0.0, 0.0, 0.0, 0.0, 0.0, 0.0, 0.0  …  0.0, 0.0, 0.0, 0.0, 0.0, 0.0, 0.0, 0.0, 0.0, 0.0]  …  [0.0, 0.0, 0.0, 0.0, 0.0, 0.0, 0.0, 0.0, 0.0, 0.0  …  0.0, 0.0, 0.0, 0.0, 0.0, 0.0, 0.0, 0.0, 0.0, 0.0], [0.0, 0.0, 0.0, 0.0, 0.0, 0.0, 0.0, 0.0, 0.0, 0.0  …  0.0, 0.0, 0.0, 0.0, 0.0, 0.0, 0.0, 0.0, 0.0, 0.0], [0.0, 0.0, 0.0, 0.0, 0.0, 0.0, 0.0, 0.0, 0.0, 0.0  …  0.0, 0.0, 0.0, 0.0, 0.0, 0.0, 0.0, 0.0, 0.0, 0.0], [0.0, 0.0, 0.0, 0.0, 0.0, 0.0, 0.0, 0.0, 0.0, 0.0  …  0.0, 0.0, 0.0, 0.0, 0.0, 0.0, 0.0, 0.0, 0.0, 0.0], [0.0, 0.0, 0.0, 0.0, 0.0, 0.0, 0.0, 0.0, 0.0, 0.0  …  0.0, 0.0, 0.0, 0.0, 0.0, 0.0, 0.0, 0.0, 0.0, 0.0], [0.0, 0.0, 0.0, 0.0, 0.0, 0.0, 0.0, 0.0, 0.0, 0.0  …  0.0, 0.0, 0.0, 0.0, 0.0, 0.0, 0.0, 0.0, 0.0, 0.0], [0.0, 0.0, 0.0, 0.0, 0.0, 0.0, 0.0, 0.0, 0.0, 0.0  …  0.0, 0.0, 0.0, 0.0, 0.0, 0.0, 0.0, 0.0, 0.0, 0.0], [0.0, 0.0, 0.0, 0.0, 0.0, 0.0, 0.0, 0.0, 0.0, 0.0  …  0.0, 0.0, 0.0, 0.0, 0.0, 0.0, 0.0, 0.0, 0.0, 0.0], [0.0, 0.0, 0.0, 0.0, 0.0, 0.0, 0.0, 1.0, 1.0, 1.0  …  0.0, 0.0, 0.0, 0.0, 0.0, 0.0, 0.0, 0.0, 0.0, 0.0], [0.0, 0.0, 0.0, 0.0, 0.0, 0.0, 0.0, 0.0, 0.0, 0.0  …  0.0, 0.0, 0.0, 0.0, 0.0, 0.0, 0.0, 0.0, 0.0, 0.0]]\n",
       " [[0.0, 0.0, 0.0, 0.0, 0.0, 0.0, 0.0, 0.0, 0.0, 0.0  …  0.0, 0.0, 0.0, 0.0, 0.0, 0.0, 0.0, 0.0, 0.0, 0.0], [0.0, 0.0, 0.0, 0.0, 0.0, 0.0, 0.0, 0.0, 0.0, 0.0  …  0.0, 0.0, 0.0, 0.0, 0.0, 0.0, 0.0, 0.0, 0.0, 0.0], [0.0, 0.0, 0.0, 0.0, 0.0, 0.0, 0.0, 0.0, 0.0, 0.0  …  0.0, 0.0, 0.0, 0.0, 0.0, 0.0, 0.0, 0.0, 0.0, 0.0], [0.0, 0.0, 0.0, 0.0, 0.0, 0.0, 0.0, 0.0, 0.0, 0.0  …  0.0, 0.0, 0.0, 0.0, 0.0, 0.0, 0.0, 0.0, 0.0, 0.0], [0.0, 0.0, 0.0, 0.0, 0.0, 0.0, 0.0, 0.0, 0.0, 0.0  …  0.0, 0.0, 0.0, 0.0, 0.0, 0.0, 0.0, 0.0, 0.0, 0.0], [0.0, 0.0, 0.0, 0.0, 0.0, 0.0, 0.0, 0.0, 0.0, 0.0  …  0.0, 0.0, 0.0, 0.0, 0.0, 0.0, 0.0, 0.0, 0.0, 0.0], [0.0, 0.0, 0.0, 0.0, 0.0, 0.0, 0.0, 0.0, 0.0, 0.0  …  0.0, 0.0, 0.0, 0.0, 0.0, 0.0, 0.0, 0.0, 0.0, 0.0], [0.0, 0.0, 0.0, 0.0, 0.0, 0.0, 0.0, 0.0, 0.0, 0.0  …  0.0, 0.0, 0.0, 0.0, 0.0, 0.0, 0.0, 0.0, 0.0, 0.0], [0.0, 0.0, 0.0, 0.0, 0.0, 0.0, 0.0, 0.0, 0.0, 0.0  …  0.0, 0.0, 0.0, 0.0, 0.0, 0.0, 0.0, 0.0, 0.0, 0.0], [0.0, 0.0, 0.0, 0.0, 0.0, 0.0, 0.0, 0.0, 0.0, 0.0  …  0.0, 0.0, 0.0, 0.0, 0.0, 0.0, 0.0, 0.0, 0.0, 0.0]  …  [0.0, 0.0, 0.0, 0.0, 0.0, 0.0, 0.0, 0.0, 0.0, 0.0  …  0.0, 0.0, 0.0, 0.0, 0.0, 0.0, 0.0, 0.0, 0.0, 0.0], [0.0, 0.0, 0.0, 0.0, 0.0, 0.0, 0.0, 0.0, 0.0, 0.0  …  0.0, 0.0, 0.0, 0.0, 0.0, 0.0, 0.0, 0.0, 0.0, 0.0], [0.0, 0.0, 0.0, 0.0, 0.0, 0.0, 0.0, 0.0, 0.0, 0.0  …  0.0, 0.0, 0.0, 0.0, 0.0, 0.0, 0.0, 0.0, 0.0, 0.0], [0.0, 0.0, 0.0, 0.0, 0.0, 0.0, 0.0, 0.0, 0.0, 0.0  …  0.0, 0.0, 0.0, 0.0, 0.0, 0.0, 0.0, 0.0, 0.0, 0.0], [0.0, 0.0, 0.0, 0.0, 0.0, 0.0, 0.0, 0.0, 0.0, 0.0  …  0.0, 0.0, 0.0, 0.0, 0.0, 0.0, 0.0, 0.0, 0.0, 0.0], [0.0, 0.0, 0.0, 0.0, 0.0, 0.0, 0.0, 0.0, 0.0, 0.0  …  0.0, 0.0, 0.0, 0.0, 0.0, 0.0, 0.0, 0.0, 0.0, 0.0], [0.0, 0.0, 0.0, 0.0, 0.0, 0.0, 0.0, 0.0, 0.0, 0.0  …  0.0, 0.0, 0.0, 0.0, 0.0, 0.0, 0.0, 0.0, 0.0, 0.0], [0.0, 0.0, 0.0, 0.0, 0.0, 0.0, 0.0, 0.0, 0.0, 0.0  …  0.0, 0.0, 0.0, 0.0, 0.0, 0.0, 0.0, 0.0, 0.0, 0.0], [0.0, 0.0, 0.0, 0.0, 0.0, 0.0, 0.0, 1.0, 1.0, 1.0  …  0.0, 0.0, 0.0, 0.0, 0.0, 0.0, 0.0, 0.0, 0.0, 0.0], [0.0, 0.0, 0.0, 0.0, 0.0, 0.0, 0.0, 0.0, 0.0, 0.0  …  0.0, 0.0, 0.0, 0.0, 0.0, 0.0, 0.0, 0.0, 0.0, 0.0]]\n",
       " [[0.0, 0.0, 0.0, 0.0, 0.0, 0.0, 0.0, 0.0, 0.0, 0.0  …  0.0, 0.0, 0.0, 0.0, 0.0, 0.0, 0.0, 0.0, 0.0, 0.0], [0.0, 0.0, 0.0, 0.0, 0.0, 0.0, 0.0, 0.0, 0.0, 0.0  …  0.0, 0.0, 0.0, 0.0, 0.0, 0.0, 0.0, 0.0, 0.0, 0.0], [0.0, 0.0, 0.0, 0.0, 0.0, 0.0, 0.0, 0.0, 0.0, 0.0  …  0.0, 0.0, 0.0, 0.0, 0.0, 0.0, 0.0, 0.0, 0.0, 0.0], [0.0, 0.0, 0.0, 0.0, 0.0, 0.0, 0.0, 0.0, 0.0, 0.0  …  0.0, 0.0, 0.0, 0.0, 0.0, 0.0, 0.0, 0.0, 0.0, 0.0], [0.0, 0.0, 0.0, 0.0, 0.0, 0.0, 0.0, 0.0, 0.0, 0.0  …  0.0, 0.0, 0.0, 0.0, 0.0, 0.0, 0.0, 0.0, 0.0, 0.0], [0.0, 0.0, 0.0, 0.0, 0.0, 0.0, 0.0, 0.0, 0.0, 0.0  …  0.0, 0.0, 0.0, 0.0, 0.0, 0.0, 0.0, 0.0, 0.0, 0.0], [0.0, 0.0, 0.0, 0.0, 0.0, 0.0, 0.0, 0.0, 0.0, 0.0  …  0.0, 0.0, 0.0, 0.0, 0.0, 0.0, 0.0, 0.0, 0.0, 0.0], [0.0, 0.0, 0.0, 0.0, 0.0, 0.0, 0.0, 0.0, 0.0, 0.0  …  0.0, 0.0, 0.0, 0.0, 0.0, 0.0, 0.0, 0.0, 0.0, 0.0], [0.0, 0.0, 0.0, 0.0, 0.0, 0.0, 0.0, 0.0, 0.0, 0.0  …  0.0, 0.0, 0.0, 0.0, 0.0, 0.0, 0.0, 0.0, 0.0, 0.0], [0.0, 0.0, 0.0, 0.0, 0.0, 0.0, 0.0, 0.0, 0.0, 0.0  …  0.0, 0.0, 0.0, 0.0, 0.0, 0.0, 0.0, 0.0, 0.0, 0.0]  …  [0.0, 0.0, 0.0, 0.0, 0.0, 0.0, 0.0, 0.0, 0.0, 0.0  …  0.0, 0.0, 0.0, 0.0, 0.0, 0.0, 0.0, 0.0, 0.0, 0.0], [0.0, 0.0, 0.0, 0.0, 0.0, 0.0, 0.0, 0.0, 0.0, 0.0  …  0.0, 0.0, 0.0, 0.0, 0.0, 0.0, 0.0, 0.0, 0.0, 0.0], [0.0, 0.0, 0.0, 0.0, 0.0, 0.0, 0.0, 0.0, 0.0, 0.0  …  0.0, 0.0, 0.0, 0.0, 0.0, 0.0, 0.0, 0.0, 0.0, 0.0], [0.0, 0.0, 0.0, 0.0, 0.0, 0.0, 0.0, 0.0, 0.0, 0.0  …  0.0, 0.0, 0.0, 0.0, 0.0, 0.0, 0.0, 0.0, 0.0, 0.0], [0.0, 0.0, 0.0, 0.0, 0.0, 0.0, 0.0, 0.0, 0.0, 0.0  …  0.0, 0.0, 0.0, 0.0, 0.0, 0.0, 0.0, 0.0, 0.0, 0.0], [0.0, 0.0, 0.0, 0.0, 0.0, 0.0, 0.0, 0.0, 0.0, 0.0  …  0.0, 0.0, 0.0, 0.0, 0.0, 0.0, 0.0, 0.0, 0.0, 0.0], [0.0, 0.0, 0.0, 0.0, 0.0, 0.0, 0.0, 0.0, 0.0, 0.0  …  0.0, 0.0, 0.0, 0.0, 0.0, 0.0, 0.0, 0.0, 0.0, 0.0], [0.0, 0.0, 0.0, 0.0, 0.0, 0.0, 0.0, 0.0, 0.0, 0.0  …  0.0, 0.0, 0.0, 0.0, 0.0, 0.0, 0.0, 0.0, 0.0, 0.0], [0.0, 0.0, 0.0, 0.0, 0.0, 0.0, 0.0, 1.0, 1.0, 1.0  …  0.0, 0.0, 0.0, 0.0, 0.0, 0.0, 0.0, 0.0, 0.0, 0.0], [0.0, 0.0, 0.0, 0.0, 0.0, 0.0, 0.0, 0.0, 0.0, 0.0  …  0.0, 0.0, 0.0, 0.0, 0.0, 0.0, 0.0, 0.0, 0.0, 0.0]]\n",
       " [[0.0, 0.0, 0.0, 0.0, 0.0, 0.0, 0.0, 0.0, 0.0, 0.0  …  0.0, 0.0, 0.0, 0.0, 0.0, 0.0, 0.0, 0.0, 0.0, 0.0], [0.0, 0.0, 0.0, 0.0, 0.0, 0.0, 0.0, 0.0, 0.0, 0.0  …  0.0, 0.0, 0.0, 0.0, 0.0, 0.0, 0.0, 0.0, 0.0, 0.0], [0.0, 0.0, 0.0, 0.0, 0.0, 0.0, 0.0, 0.0, 0.0, 0.0  …  0.0, 0.0, 0.0, 0.0, 0.0, 0.0, 0.0, 0.0, 0.0, 0.0], [0.0, 0.0, 0.0, 0.0, 0.0, 0.0, 0.0, 0.0, 0.0, 0.0  …  0.0, 0.0, 0.0, 0.0, 0.0, 0.0, 0.0, 0.0, 0.0, 0.0], [0.0, 0.0, 0.0, 0.0, 0.0, 0.0, 0.0, 0.0, 0.0, 0.0  …  0.0, 0.0, 0.0, 0.0, 0.0, 0.0, 0.0, 0.0, 0.0, 0.0], [0.0, 0.0, 0.0, 0.0, 0.0, 0.0, 0.0, 0.0, 0.0, 0.0  …  0.0, 0.0, 0.0, 0.0, 0.0, 0.0, 0.0, 0.0, 0.0, 0.0], [0.0, 0.0, 0.0, 0.0, 0.0, 0.0, 0.0, 0.0, 0.0, 0.0  …  0.0, 0.0, 0.0, 0.0, 0.0, 0.0, 0.0, 0.0, 0.0, 0.0], [0.0, 0.0, 0.0, 0.0, 0.0, 0.0, 0.0, 0.0, 0.0, 0.0  …  0.0, 0.0, 0.0, 0.0, 0.0, 0.0, 0.0, 0.0, 0.0, 0.0], [0.0, 0.0, 0.0, 0.0, 0.0, 0.0, 0.0, 0.0, 0.0, 0.0  …  0.0, 0.0, 0.0, 0.0, 0.0, 0.0, 0.0, 0.0, 0.0, 0.0], [0.0, 0.0, 0.0, 0.0, 0.0, 0.0, 0.0, 0.0, 0.0, 0.0  …  0.0, 0.0, 0.0, 0.0, 0.0, 0.0, 0.0, 0.0, 0.0, 0.0]  …  [0.0, 0.0, 0.0, 0.0, 0.0, 0.0, 0.0, 0.0, 0.0, 0.0  …  0.0, 0.0, 0.0, 0.0, 0.0, 0.0, 0.0, 0.0, 0.0, 0.0], [0.0, 0.0, 0.0, 0.0, 0.0, 0.0, 0.0, 0.0, 0.0, 0.0  …  0.0, 0.0, 0.0, 0.0, 0.0, 0.0, 0.0, 0.0, 0.0, 0.0], [0.0, 0.0, 0.0, 0.0, 0.0, 0.0, 0.0, 0.0, 0.0, 0.0  …  0.0, 0.0, 0.0, 0.0, 0.0, 0.0, 0.0, 0.0, 0.0, 0.0], [0.0, 0.0, 0.0, 0.0, 0.0, 0.0, 0.0, 0.0, 0.0, 0.0  …  0.0, 0.0, 0.0, 0.0, 0.0, 0.0, 0.0, 0.0, 0.0, 0.0], [0.0, 0.0, 0.0, 0.0, 0.0, 0.0, 0.0, 0.0, 0.0, 0.0  …  0.0, 0.0, 0.0, 0.0, 0.0, 0.0, 0.0, 0.0, 0.0, 0.0], [0.0, 0.0, 0.0, 0.0, 0.0, 0.0, 0.0, 0.0, 0.0, 0.0  …  0.0, 0.0, 0.0, 0.0, 0.0, 0.0, 0.0, 0.0, 0.0, 0.0], [0.0, 0.0, 0.0, 0.0, 0.0, 0.0, 0.0, 0.0, 0.0, 0.0  …  0.0, 0.0, 0.0, 0.0, 0.0, 0.0, 0.0, 0.0, 0.0, 0.0], [0.0, 0.0, 0.0, 0.0, 0.0, 0.0, 0.0, 0.0, 0.0, 0.0  …  0.0, 0.0, 0.0, 0.0, 0.0, 0.0, 0.0, 0.0, 0.0, 0.0], [0.0, 0.0, 0.0, 0.0, 0.0, 0.0, 0.0, 1.0, 1.0, 1.0  …  0.0, 0.0, 0.0, 0.0, 0.0, 0.0, 0.0, 0.0, 0.0, 0.0], [0.0, 0.0, 0.0, 0.0, 0.0, 0.0, 0.0, 0.0, 0.0, 0.0  …  0.0, 0.0, 0.0, 0.0, 0.0, 0.0, 0.0, 0.0, 0.0, 0.0]]\n",
       " [[0.0, 0.0, 0.0, 0.0, 0.0, 0.0, 0.0, 0.0, 0.0, 0.0  …  0.0, 0.0, 0.0, 0.0, 0.0, 0.0, 0.0, 0.0, 0.0, 0.0], [0.0, 0.0, 0.0, 0.0, 0.0, 0.0, 0.0, 0.0, 0.0, 0.0  …  0.0, 0.0, 0.0, 0.0, 0.0, 0.0, 0.0, 0.0, 0.0, 0.0], [0.0, 0.0, 0.0, 0.0, 0.0, 0.0, 0.0, 0.0, 0.0, 0.0  …  0.0, 0.0, 0.0, 0.0, 0.0, 0.0, 0.0, 0.0, 0.0, 0.0], [0.0, 0.0, 0.0, 0.0, 0.0, 0.0, 0.0, 0.0, 0.0, 0.0  …  0.0, 0.0, 0.0, 0.0, 0.0, 0.0, 0.0, 0.0, 0.0, 0.0], [0.0, 0.0, 0.0, 0.0, 0.0, 0.0, 0.0, 0.0, 0.0, 0.0  …  0.0, 0.0, 0.0, 0.0, 0.0, 0.0, 0.0, 0.0, 0.0, 0.0], [0.0, 0.0, 0.0, 0.0, 0.0, 0.0, 0.0, 0.0, 0.0, 0.0  …  0.0, 0.0, 0.0, 0.0, 0.0, 0.0, 0.0, 0.0, 0.0, 0.0], [0.0, 0.0, 0.0, 0.0, 0.0, 0.0, 0.0, 0.0, 0.0, 0.0  …  0.0, 0.0, 0.0, 0.0, 0.0, 0.0, 0.0, 0.0, 0.0, 0.0], [0.0, 0.0, 0.0, 0.0, 0.0, 0.0, 0.0, 0.0, 0.0, 0.0  …  0.0, 0.0, 0.0, 0.0, 0.0, 0.0, 0.0, 0.0, 0.0, 0.0], [0.0, 0.0, 0.0, 0.0, 0.0, 0.0, 0.0, 0.0, 0.0, 0.0  …  0.0, 0.0, 0.0, 0.0, 0.0, 0.0, 0.0, 0.0, 0.0, 0.0], [0.0, 0.0, 0.0, 0.0, 0.0, 0.0, 0.0, 0.0, 0.0, 0.0  …  0.0, 0.0, 0.0, 0.0, 0.0, 0.0, 0.0, 0.0, 0.0, 0.0]  …  [0.0, 0.0, 0.0, 0.0, 0.0, 0.0, 0.0, 0.0, 0.0, 0.0  …  0.0, 0.0, 0.0, 0.0, 0.0, 0.0, 0.0, 0.0, 0.0, 0.0], [0.0, 0.0, 0.0, 0.0, 0.0, 0.0, 0.0, 0.0, 0.0, 0.0  …  0.0, 0.0, 0.0, 0.0, 0.0, 0.0, 0.0, 0.0, 0.0, 0.0], [0.0, 0.0, 0.0, 0.0, 0.0, 0.0, 0.0, 0.0, 0.0, 0.0  …  0.0, 0.0, 0.0, 0.0, 0.0, 0.0, 0.0, 0.0, 0.0, 0.0], [0.0, 0.0, 0.0, 0.0, 0.0, 0.0, 0.0, 0.0, 0.0, 0.0  …  0.0, 0.0, 0.0, 0.0, 0.0, 0.0, 0.0, 0.0, 0.0, 0.0], [0.0, 0.0, 0.0, 0.0, 0.0, 0.0, 0.0, 0.0, 0.0, 0.0  …  0.0, 0.0, 0.0, 0.0, 0.0, 0.0, 0.0, 0.0, 0.0, 0.0], [0.0, 0.0, 0.0, 0.0, 0.0, 0.0, 0.0, 0.0, 0.0, 0.0  …  0.0, 0.0, 0.0, 0.0, 0.0, 0.0, 0.0, 0.0, 0.0, 0.0], [0.0, 0.0, 0.0, 0.0, 0.0, 0.0, 0.0, 0.0, 0.0, 0.0  …  0.0, 0.0, 0.0, 0.0, 0.0, 0.0, 0.0, 0.0, 0.0, 0.0], [0.0, 0.0, 0.0, 0.0, 0.0, 0.0, 0.0, 0.0, 0.0, 0.0  …  0.0, 0.0, 0.0, 0.0, 0.0, 0.0, 0.0, 0.0, 0.0, 0.0], [0.0, 0.0, 0.0, 0.0, 0.0, 0.0, 0.0, 1.0, 1.0, 1.0  …  0.0, 0.0, 0.0, 0.0, 0.0, 0.0, 0.0, 0.0, 0.0, 0.0], [0.0, 0.0, 0.0, 0.0, 0.0, 0.0, 0.0, 0.0, 0.0, 0.0  …  0.0, 0.0, 0.0, 0.0, 0.0, 0.0, 0.0, 0.0, 0.0, 0.0]]"
      ]
     },
     "execution_count": 44,
     "metadata": {},
     "output_type": "execute_result"
    }
   ],
   "source": [
    "routes_job_time"
   ]
  },
  {
   "cell_type": "markdown",
   "id": "71126957",
   "metadata": {},
   "source": [
    "# Model with Set-Partitioning for Jobs"
   ]
  },
  {
   "cell_type": "code",
   "execution_count": 45,
   "id": "e03b476a",
   "metadata": {},
   "outputs": [
    {
     "name": "stdout",
     "output_type": "stream",
     "text": [
      "Set parameter Username\n",
      "Academic license - for non-commercial use only - expires 2023-09-04\n"
     ]
    }
   ],
   "source": [
    "model_set = Model(Gurobi.Optimizer);\n",
    "#model = Model(with_optimizer(Gurobi.Optimizer, TimeLimit=100));"
   ]
  },
  {
   "cell_type": "code",
   "execution_count": 46,
   "id": "b0b4b763",
   "metadata": {},
   "outputs": [],
   "source": [
    "#Coverage vehicles\n",
    "@variable(model_set, x[1:n_vehicles_coverage, 1:A_cov], Bin)\n",
    "#Job Vehicles\n",
    "@variable(model_set, z[1:n_vehicles_jobs, 1:n_routes], Bin)\n",
    "#Starting and ending times of each Job\n",
    "@variable(model_set, y_s[1:n_jobs, 1:T], Bin)\n",
    "@variable(model_set, y_e[1:n_jobs, 1:T], Bin)\n",
    "#Coverage constraint\n",
    "@variable(model_set, gamma[1:N], Bin);"
   ]
  },
  {
   "cell_type": "code",
   "execution_count": 47,
   "id": "1def953f",
   "metadata": {},
   "outputs": [],
   "source": [
    "@objective(model_set, Min, sum(sum(x[k,a]*(arcs_cov[a][3]+1) for a in 1:A_cov) for k in 1:n_vehicles_coverage) \n",
    "    + sum(sum(z[k,q]*C_routes[q] for q in 1:n_routes) for k in 1:n_vehicles_jobs))\n",
    ";"
   ]
  },
  {
   "cell_type": "markdown",
   "id": "77039fbe",
   "metadata": {},
   "source": [
    "## Each Job is taken exactly once"
   ]
  },
  {
   "cell_type": "code",
   "execution_count": 48,
   "id": "7debf3d9",
   "metadata": {},
   "outputs": [],
   "source": [
    "@constraint(model_set, unique[i in 1:n_jobs], sum(sum(z[k,q]*u[q][i] for q in 1:n_routes) for k in 1:n_vehicles_jobs) == 1);\n"
   ]
  },
  {
   "cell_type": "markdown",
   "id": "2797d14a",
   "metadata": {},
   "source": [
    "## Each driver is assigned to exactly one route"
   ]
  },
  {
   "cell_type": "code",
   "execution_count": 74,
   "id": "9937bfb3",
   "metadata": {},
   "outputs": [],
   "source": [
    "@constraint(model_set, driver[k in 1:n_vehicles_jobs], sum(z[k,q] for q in 1:n_routes) == 1);"
   ]
  },
  {
   "cell_type": "markdown",
   "id": "583843b2",
   "metadata": {},
   "source": [
    "## Coverage Vehicles constraints"
   ]
  },
  {
   "cell_type": "code",
   "execution_count": 75,
   "id": "b598207e",
   "metadata": {},
   "outputs": [],
   "source": [
    "@constraint(model_set, depot_init_coverage[k in 1:n_vehicles_coverage], sum(x[k,a] for a in 1:A_cov if arcs_cov[a][1][1] == 0) == 1)\n",
    "@constraint(model_set, depot_end_coverage[k in 1:n_vehicles_coverage], sum(x[k,a] for a in 1:A_cov if arcs_cov[a][2][1] == n_cov) == 1)\n",
    "@constraint(model_set, flow_coverage[k in 1:n_vehicles_coverage, n in 1:N_cov], sum(x[k,a] for a in 1:A_cov if arcs_cov[a][2] == nodes_cov[n]) == sum(x[k,a] for a in 1:A_cov if arcs_cov[a][1] == nodes_cov[n]))\n",
    ";"
   ]
  },
  {
   "cell_type": "markdown",
   "id": "b4324b9d",
   "metadata": {},
   "source": [
    "## Time constraints"
   ]
  },
  {
   "cell_type": "code",
   "execution_count": 76,
   "id": "eaf7ace0",
   "metadata": {},
   "outputs": [],
   "source": [
    "@constraint(model_set, start[i in 1:n_jobs, t in 1:(T-1)], y_s[i,t] <= y_s[i,t+1])\n",
    "@constraint(model_set, ends[i in 1:n_jobs, t in 1:(T-1)], y_e[i,t] <= y_e[i,t+1])\n",
    "@constraint(model_set, work[i in 1:n_jobs, t in 2:(T-2)], y_s[i,t] - y_e[i,t] <= sum(sum(z[k,q]*routes_job_time[q][i][t] for q in 1:n_routes) for k in 1:n_vehicles_jobs))\n",
    "@constraint(model_set, window_start[i in 1:n_jobs, t in 1:(time_windows[i][1]-1)], y_s[i,t] <= 0)\n",
    "@constraint(model_set, window_ends[i in 1:n_jobs, t in time_windows[i][2]:T], y_e[i,t] >= 1)\n",
    "@constraint(model_set, duration[i in 1:n_jobs], sum(y_s[i,t] - y_e[i,t] for t in 1:T) >= work_load[i])\n",
    ";"
   ]
  },
  {
   "cell_type": "markdown",
   "id": "aaf457d1",
   "metadata": {},
   "source": [
    "## Coverage constraint"
   ]
  },
  {
   "cell_type": "code",
   "execution_count": 77,
   "id": "cd891212",
   "metadata": {
    "scrolled": true
   },
   "outputs": [
    {
     "data": {
      "text/plain": [
       "find_node (generic function with 1 method)"
      ]
     },
     "execution_count": 77,
     "metadata": {},
     "output_type": "execute_result"
    }
   ],
   "source": [
    "function find_node(i,t)\n",
    "    for node in 1:length(nodes)\n",
    "        if (nodes[node][1] == i) & (nodes[node][2] == t) \n",
    "            return node\n",
    "        end\n",
    "    end\n",
    "    return \"Warning, this node does not exist\"\n",
    "end"
   ]
  },
  {
   "cell_type": "code",
   "execution_count": 133,
   "id": "28e6dd7d",
   "metadata": {},
   "outputs": [],
   "source": [
    "#@constraint(model_set, coverage[i in 1:n_jobs, t in 2:(T-1)], y_s[i,t] - y_e[i,t] <= sum(sum(x[k,a] for a in covers[find_node(i,t)]) for k in 1:n_vehicles_coverage))\n",
    ";    "
   ]
  },
  {
   "cell_type": "code",
   "execution_count": 134,
   "id": "c6122404",
   "metadata": {},
   "outputs": [],
   "source": [
    "#@constraint(model_set, coverage[n in 1:N], gamma[n] <= sum(sum(x[k,a] for a in covers[n]) for k in 1:n_vehicles_coverage))\n",
    "#@constraint(model_set, coverage_time[i in 1:n_jobs, t in 2:(T-1)], y_s[i,t] - y_e[i,t] <= gamma[find_node(i,t)])\n",
    ";"
   ]
  },
  {
   "cell_type": "code",
   "execution_count": 78,
   "id": "5b69b46a",
   "metadata": {},
   "outputs": [],
   "source": [
    "@constraint(model_set, coverage[i in 1:n_jobs, t in 2:(T-1)], sum(sum(z[k,q]*routes_job_time[q][i][t] for q in 1:n_routes) for k in 1:n_vehicles_jobs)\n",
    "                                                        <= sum(sum(x[k,a] for a in covers[find_node(i,t)]) for k in 1:n_vehicles_coverage))\n",
    ";"
   ]
  },
  {
   "cell_type": "code",
   "execution_count": 79,
   "id": "246c690b",
   "metadata": {},
   "outputs": [
    {
     "name": "stdout",
     "output_type": "stream",
     "text": [
      "Gurobi Optimizer version 9.5.2 build v9.5.2rc0 (mac64[x86])\n",
      "Thread count: 4 physical cores, 8 logical processors, using up to 8 threads\n",
      "Optimize a model with 12282 rows, 218108 columns and 5174322 nonzeros\n",
      "Model fingerprint: 0xe9b39a89\n",
      "Variable types: 0 continuous, 218108 integer (218108 binary)\n",
      "Coefficient statistics:\n",
      "  Matrix range     [1e+00, 1e+00]\n",
      "  Objective range  [1e+00, 2e+03]\n",
      "  Bounds range     [0e+00, 0e+00]\n",
      "  RHS range        [1e+00, 6e+00]\n",
      "Presolve removed 5782 rows and 4414 columns (presolve time = 5s) ...\n",
      "Presolve removed 5924 rows and 5976 columns (presolve time = 10s) ...\n",
      "Presolve removed 6000 rows and 6278 columns\n",
      "Presolve time: 12.04s\n",
      "Presolved: 6282 rows, 211830 columns, 1849535 nonzeros\n",
      "Variable types: 0 continuous, 211830 integer (211805 binary)\n",
      "\n",
      "Root simplex log...\n",
      "\n",
      "Iteration    Objective       Primal Inf.    Dual Inf.      Time\n",
      "       0    0.0000000e+00   4.925000e+01   0.000000e+00     14s\n",
      "    5736    5.9734169e+03   1.600000e+01   0.000000e+00     15s\n",
      "    7402    6.5493848e+03   0.000000e+00   0.000000e+00     16s\n",
      "\n",
      "Root relaxation: objective 6.549385e+03, 7402 iterations, 2.29 seconds (2.45 work units)\n",
      "\n",
      "    Nodes    |    Current Node    |     Objective Bounds      |     Work\n",
      " Expl Unexpl |  Obj  Depth IntInf | Incumbent    BestBd   Gap | It/Node Time\n",
      "\n",
      "     0     0 6549.38480    0   21          - 6549.38480      -     -   16s\n",
      "H    0     0                    6567.5461545 6549.38480  0.28%     -   16s\n",
      "     0     0 6559.94928    0    9 6567.54615 6559.94928  0.12%     -   18s\n",
      "     0     0     cutoff    0      6567.54615 6567.54615  0.00%     -   19s\n",
      "\n",
      "Explored 1 nodes (9271 simplex iterations) in 19.26 seconds (27.80 work units)\n",
      "Thread count was 8 (of 8 available processors)\n",
      "\n",
      "Solution count 2: 6567.55 6567.55 \n",
      "\n",
      "Optimal solution found (tolerance 1.00e-04)\n",
      "Best objective 6.567546154508e+03, best bound 6.567546154508e+03, gap 0.0000%\n",
      "\n",
      "User-callback calls 3034, time in user-callback 0.01 sec\n"
     ]
    }
   ],
   "source": [
    "optimize!(model_set)"
   ]
  },
  {
   "cell_type": "code",
   "execution_count": 19,
   "id": "c93bb608",
   "metadata": {},
   "outputs": [
    {
     "ename": "LoadError",
     "evalue": "UndefVarError: z not defined",
     "output_type": "error",
     "traceback": [
      "UndefVarError: z not defined",
      "",
      "Stacktrace:",
      " [1] top-level scope",
      "   @ ./In[19]:4",
      " [2] eval",
      "   @ ./boot.jl:368 [inlined]",
      " [3] include_string(mapexpr::typeof(REPL.softscope), mod::Module, code::String, filename::String)",
      "   @ Base ./loading.jl:1428"
     ]
    }
   ],
   "source": [
    "usefull_routes = []\n",
    "for r in 1:n_routes\n",
    "    for k in 1:n_vehicles_jobs\n",
    "        if value.(z[k,r]) > 0.5\n",
    "            push!(usefull_routes, r)\n",
    "        end\n",
    "    end\n",
    "end"
   ]
  },
  {
   "cell_type": "code",
   "execution_count": 81,
   "id": "869f2d67",
   "metadata": {
    "scrolled": true
   },
   "outputs": [
    {
     "name": "stdout",
     "output_type": "stream",
     "text": [
      "[0, 26]\n",
      "----------------------------------------\n",
      "[0, 26]\n",
      "----------------------------------------\n",
      "[0, 26]\n",
      "----------------------------------------\n",
      "[0, 26]\n",
      "----------------------------------------\n",
      "[0, 26]\n",
      "----------------------------------------\n",
      "[0, 24, 25, 26]\n",
      "----------------------------------------\n",
      "[0, 1, 2, 3, 26]\n",
      "----------------------------------------\n",
      "[0, 5, 6, 7, 26]\n",
      "----------------------------------------\n",
      "[0, 8, 9, 10, 26]\n",
      "----------------------------------------\n",
      "[0, 20, 21, 22, 23, 26]\n",
      "----------------------------------------\n",
      "[0, 4, 16, 17, 18, 19, 26]\n",
      "----------------------------------------\n",
      "[0, 11, 12, 13, 14, 15, 26]\n",
      "----------------------------------------\n"
     ]
    }
   ],
   "source": [
    "for r in usefull_routes\n",
    "    println(routes_keep[r])\n",
    "    println(\"----------------------------------------\")\n",
    "end"
   ]
  },
  {
   "cell_type": "markdown",
   "id": "ea370bc6",
   "metadata": {},
   "source": [
    "## Column Generation Method"
   ]
  },
  {
   "cell_type": "markdown",
   "id": "fc08ec19",
   "metadata": {},
   "source": [
    "## [1] Initialization of Q_0 and C_0"
   ]
  },
  {
   "cell_type": "code",
   "execution_count": 49,
   "id": "4a63d951",
   "metadata": {
    "scrolled": false
   },
   "outputs": [
    {
     "data": {
      "text/plain": [
       "initialize_routes (generic function with 1 method)"
      ]
     },
     "execution_count": 49,
     "metadata": {},
     "output_type": "execute_result"
    }
   ],
   "source": [
    "function initialize_routes()\n",
    "    Q_0 = dummy_route\n",
    "    C_0 = C_routes\n",
    "    return Q_0, C_0\n",
    "end"
   ]
  },
  {
   "cell_type": "markdown",
   "id": "d55788fd",
   "metadata": {},
   "source": [
    "## [2] Define the model"
   ]
  },
  {
   "cell_type": "code",
   "execution_count": 54,
   "id": "aed4fbfb",
   "metadata": {
    "scrolled": false
   },
   "outputs": [
    {
     "data": {
      "text/plain": [
       "RMP_define_model (generic function with 1 method)"
      ]
     },
     "execution_count": 54,
     "metadata": {},
     "output_type": "execute_result"
    }
   ],
   "source": [
    "function RMP_define_model(Q_0)\n",
    "    #constraints are parameters in RMP_add_and_solve\n",
    "    \n",
    "    modelcg = Model(Gurobi.Optimizer);\n",
    "    n_routes = length(Q_0)\n",
    "    \n",
    "    #Job Vehicles\n",
    "    @variable(modelcg, z[1:n_vehicles_jobs, 1:n_routes], Bin)\n",
    "    #Starting and ending times of each Job\n",
    "    @variable(modelcg, y_s[1:n_jobs, 1:T], Bin)\n",
    "    @variable(modelcg, y_e[1:n_jobs, 1:T], Bin)\n",
    "    #Coverage constraint\n",
    "    @variable(modelcg, gamma[1:N], Bin);\n",
    "    \n",
    "    #=\n",
    "    EACH JOB IS TAKEN EXACTLY ONCE\n",
    "    number 57\n",
    "    =#\n",
    "    @constraint(modelcg, unique[i in 1:n_jobs], sum(sum(z[k,q]*u[q][i] for q in 1:n_routes) for k in 1:n_vehicles_jobs) == 1);\n",
    "    \n",
    "    #=\n",
    "    EACH DRIVER HAS EXACTLY ONE ROUTE\n",
    "    number 58\n",
    "    =#\n",
    "    @constraint(modelcg, driver[k in 1:n_vehicles_jobs], sum(z[k,q] for q in 1:n_routes) == 1);\n",
    "\n",
    "    #=\n",
    "    TIME WINDOW CONSTRAINTS\n",
    "    numbers 59 through 64\n",
    "    =#    \n",
    "    @constraint(modelcg, start[i in 1:n_jobs, t in 1:(T-1)], y_s[i,t] <= y_s[i,t+1])\n",
    "    @constraint(modelcg, ends[i in 1:n_jobs, t in 1:(T-1)], y_e[i,t] <= y_e[i,t+1])\n",
    "    @constraint(modelcg, work[i in 1:n_jobs, t in 2:(T-2)], y_s[i,t] - y_e[i,t] <= sum(sum(z[k,q]*routes_job_time[q][i][t] for q in 1:n_routes) for k in 1:n_vehicles_jobs))\n",
    "    @constraint(modelcg, window_start[i in 1:n_jobs, t in 1:(time_windows[i][1]-1)], y_s[i,t] <= 0)\n",
    "    @constraint(modelcg, window_ends[i in 1:n_jobs, t in time_windows[i][2]:T], y_e[i,t] >= 1)\n",
    "    @constraint(modelcg, duration[i in 1:n_jobs], sum(y_s[i,t] - y_e[i,t] for t in 1:T) >= work_load[i])\n",
    "    ;\n",
    "    \n",
    "    #Objective: number 56\n",
    "    @objective(modelcg, Min, sum(z[q]*C_routes[q] for q in 1:n_routes));\n",
    "\n",
    "    #if you can find the constraints from the model (search it up), then do this\n",
    "    # otherwise, need to also get constraints.\n",
    "    print(modelcg)\n",
    "    return modelcg, z\n",
    "end"
   ]
  },
  {
   "cell_type": "code",
   "execution_count": 53,
   "id": "5a3c2208",
   "metadata": {},
   "outputs": [
    {
     "data": {
      "text/plain": [
       "25-element Vector{Any}:\n",
       " Any[Any[[0, 7], [1, 8], 48.151864245010806], Any[[1, 8], [1, 9], 0], Any[[1, 9], [1, 10], 0], Any[[1, 10], [26, 11], 48.151864245010806]]\n",
       " Any[Any[[0, 15], [2, 16], 55.727370172657785], Any[[2, 16], [2, 17], 0], Any[[2, 17], [2, 18], 0], Any[[2, 18], [2, 19], 0], Any[[2, 19], [2, 20], 0], Any[[2, 20], [2, 21], 0], Any[[2, 21], [26, 22], 55.727370172657785]]\n",
       " Any[Any[[0, 23], [3, 24], 29.69134468018008], Any[[3, 24], [3, 25], 0], Any[[3, 25], [3, 26], 0], Any[[3, 26], [3, 27], 0], Any[[3, 27], [3, 28], 0], Any[[3, 28], [26, 29], 29.69134468018008]]\n",
       " Any[Any[[0, 2], [4, 3], 155.04287452262437], Any[[4, 3], [4, 4], 0], Any[[4, 4], [4, 5], 0], Any[[4, 5], [4, 6], 0], Any[[4, 6], [4, 7], 0], Any[[4, 7], [4, 8], 0], Any[[4, 8], [26, 9], 155.04287452262437]]\n",
       " Any[Any[[0, 9], [5, 10], 146.51942091865922], Any[[5, 10], [5, 11], 0], Any[[5, 11], [5, 12], 0], Any[[5, 12], [26, 13], 146.51942091865922]]\n",
       " Any[Any[[0, 15], [6, 16], 147.4698013164894], Any[[6, 16], [6, 17], 0], Any[[6, 17], [6, 18], 0], Any[[6, 18], [26, 19], 147.4698013164894]]\n",
       " Any[Any[[0, 19], [7, 20], 153.71542006305882], Any[[7, 20], [7, 21], 0], Any[[7, 21], [7, 22], 0], Any[[7, 22], [7, 23], 0], Any[[7, 23], [7, 24], 0], Any[[7, 24], [7, 25], 0], Any[[7, 25], [26, 26], 153.71542006305882]]\n",
       " Any[Any[[0, 3], [8, 4], 162.50460074636607], Any[[8, 4], [8, 5], 0], Any[[8, 5], [8, 6], 0], Any[[8, 6], [8, 7], 0], Any[[8, 7], [8, 8], 0], Any[[8, 8], [8, 9], 0], Any[[8, 9], [8, 10], 0], Any[[8, 10], [26, 11], 162.50460074636607]]\n",
       " Any[Any[[0, 15], [9, 16], 157.59225730509496], Any[[9, 16], [9, 17], 0], Any[[9, 17], [9, 18], 0], Any[[9, 18], [9, 19], 0], Any[[9, 19], [9, 20], 0], Any[[9, 20], [26, 21], 157.59225730509496]]\n",
       " Any[Any[[0, 25], [10, 26], 153.8355045744645], Any[[10, 26], [10, 27], 0], Any[[10, 27], [10, 28], 0], Any[[10, 28], [10, 29], 0], Any[[10, 29], [10, 30], 0], Any[[10, 30], [26, 31], 153.8355045744645]]\n",
       " Any[Any[[0, 5], [11, 7], 308.5235803228506], Any[[11, 7], [11, 8], 0], Any[[11, 8], [11, 9], 0], Any[[11, 9], [26, 11], 308.5235803228506]]\n",
       " Any[Any[[0, 12], [12, 14], 304.35581321190983], Any[[12, 14], [12, 15], 0], Any[[12, 15], [12, 16], 0], Any[[12, 16], [26, 18], 304.35581321190983]]\n",
       " Any[Any[[0, 17], [13, 19], 310.9958754753779], Any[[13, 19], [13, 20], 0], Any[[13, 20], [13, 21], 0], Any[[13, 21], [13, 22], 0], Any[[13, 22], [13, 23], 0], Any[[13, 23], [13, 24], 0], Any[[13, 24], [13, 25], 0], Any[[13, 25], [26, 27], 310.9958754753779]]\n",
       " Any[Any[[0, 27], [14, 29], 311.2375701042808], Any[[14, 29], [14, 30], 0], Any[[14, 30], [14, 31], 0], Any[[14, 31], [14, 32], 0], Any[[14, 32], [14, 33], 0], Any[[14, 33], [26, 35], 311.2375701042808]]\n",
       " Any[Any[[0, 36], [15, 38], 328.3013060464198], Any[[15, 38], [15, 39], 0], Any[[15, 39], [15, 40], 0], Any[[15, 40], [15, 41], 0], Any[[15, 41], [15, 42], 0], Any[[15, 42], [15, 43], 0], Any[[15, 43], [26, 45], 328.3013060464198]]\n",
       " Any[Any[[0, 8], [16, 10], 220.9748302682611], Any[[16, 10], [16, 11], 0], Any[[16, 11], [16, 12], 0], Any[[16, 12], [16, 13], 0], Any[[16, 13], [16, 14], 0], Any[[16, 14], [16, 15], 0], Any[[16, 15], [26, 17], 220.9748302682611]]\n",
       " Any[Any[[0, 15], [17, 17], 219.20865534964182], Any[[17, 17], [17, 18], 0], Any[[17, 18], [17, 19], 0], Any[[17, 19], [17, 20], 0], Any[[17, 20], [26, 22], 219.20865534964182]]\n",
       " Any[Any[[0, 21], [18, 23], 232.74403559541392], Any[[18, 23], [18, 24], 0], Any[[18, 24], [18, 25], 0], Any[[18, 25], [18, 26], 0], Any[[18, 26], [18, 27], 0], Any[[18, 27], [26, 29], 232.74403559541392]]\n",
       " Any[Any[[0, 27], [19, 29], 209.83114143926034], Any[[19, 29], [19, 30], 0], Any[[19, 30], [19, 31], 0], Any[[19, 31], [26, 33], 209.83114143926034]]\n",
       " Any[Any[[0, 5], [20, 7], 317.46269316736743], Any[[20, 7], [20, 8], 0], Any[[20, 8], [20, 9], 0], Any[[20, 9], [26, 11], 317.46269316736743]]\n",
       " Any[Any[[0, 8], [21, 10], 306.3587829607063], Any[[21, 10], [21, 11], 0], Any[[21, 11], [21, 12], 0], Any[[21, 12], [21, 13], 0], Any[[21, 13], [21, 14], 0], Any[[21, 14], [26, 16], 306.3587829607063]]\n",
       " Any[Any[[0, 13], [22, 16], 338.9916682574701], Any[[22, 16], [22, 17], 0], Any[[22, 17], [22, 18], 0], Any[[22, 18], [26, 21], 338.9916682574701]]\n",
       " Any[Any[[0, 21], [23, 23], 326.4877649944065], Any[[23, 23], [23, 24], 0], Any[[23, 24], [23, 25], 0], Any[[23, 25], [23, 26], 0], Any[[23, 26], [26, 28], 326.4877649944065]]\n",
       " Any[Any[[0, 5], [24, 8], 413.6328221451509], Any[[24, 8], [24, 9], 0], Any[[24, 9], [24, 10], 0], Any[[24, 10], [26, 13], 413.6328221451509]]\n",
       " Any[Any[[0, 13], [25, 16], 405.4362712312604], Any[[25, 16], [25, 17], 0], Any[[25, 17], [25, 18], 0], Any[[25, 18], [25, 19], 0], Any[[25, 19], [25, 20], 0], Any[[25, 20], [25, 21], 0], Any[[25, 21], [26, 24], 405.4362712312604]]"
      ]
     },
     "execution_count": 53,
     "metadata": {},
     "output_type": "execute_result"
    }
   ],
   "source": [
    "dummy_route"
   ]
  },
  {
   "cell_type": "code",
   "execution_count": 52,
   "id": "eb3ca4b6",
   "metadata": {},
   "outputs": [
    {
     "name": "stdout",
     "output_type": "stream",
     "text": [
      "Set parameter Username\n",
      "Academic license - for non-commercial use only - expires 2023-09-04\n",
      "Gurobi Optimizer version 9.5.2 build v9.5.2rc0 (mac64[x86])\n",
      "Thread count: 4 physical cores, 8 logical processors, using up to 8 threads\n",
      "Optimize a model with 4850 rows, 4075 columns and 13100 nonzeros\n",
      "Model fingerprint: 0x67f3f5c1\n",
      "Variable types: 0 continuous, 4075 integer (4075 binary)\n",
      "Coefficient statistics:\n",
      "  Matrix range     [1e+00, 1e+00]\n",
      "  Objective range  [6e+01, 8e+02]\n",
      "  Bounds range     [0e+00, 0e+00]\n",
      "  RHS range        [1e+00, 6e+00]\n",
      "Presolve time: 0.01s\n",
      "\n",
      "Explored 0 nodes (0 simplex iterations) in 0.02 seconds (0.00 work units)\n",
      "Thread count was 1 (of 8 available processors)\n",
      "\n",
      "Solution count 0\n",
      "\n",
      "Model is infeasible or unbounded\n",
      "Best objective -, best bound -, gap -\n",
      "\n",
      "User-callback calls 21, time in user-callback 0.00 sec\n"
     ]
    }
   ],
   "source": [
    "z = RMP_define_model(dummy_route)[1]\n",
    "\n",
    "optimize!(z)"
   ]
  },
  {
   "cell_type": "markdown",
   "id": "70d83a6a",
   "metadata": {},
   "source": [
    "## [3] Add columns and re-solve"
   ]
  },
  {
   "cell_type": "code",
   "execution_count": 1,
   "id": "f8d56d6c",
   "metadata": {},
   "outputs": [
    {
     "ename": "LoadError",
     "evalue": "syntax: line break in \":\" expression",
     "output_type": "error",
     "traceback": [
      "syntax: line break in \":\" expression",
      "",
      "Stacktrace:",
      " [1] top-level scope",
      "   @ In[1]:15",
      " [2] eval",
      "   @ ./boot.jl:368 [inlined]",
      " [3] include_string(mapexpr::typeof(REPL.softscope), mod::Module, code::String, filename::String)",
      "   @ Base ./loading.jl:1428"
     ]
    }
   ],
   "source": [
    "function RMP_add_and_solve(model, Q_0, num_of_z, z, updated_constraints)\n",
    "    #=\n",
    "    Given an existing model, creates updates for \n",
    "    constraints on z based on the number of paths in Q_0.\n",
    "    \n",
    "    Then, returns the model, z, our dual variables, \n",
    "    and the objective answer.\n",
    "    =#\n",
    "    \n",
    "    # n_routes has changed\n",
    "    n_routes = len(Q_0)\n",
    "    \n",
    "    #add new z into the decision variable\n",
    "    for new_z in num_of_z:\n",
    "        push!(z, @variable(model, base_name = \"z[$(new_z + Q_0)]\", lower_bound = 0, upper_bound = Inf))\n",
    "    end\n",
    "    \n",
    "    #=\n",
    "    how set_normalized_coefficient works:\n",
    "    \n",
    "    when you push in a new z, it will now consider the new z in each constraint.\n",
    "    set_normalized_coeff updates new z[p] to the appropriate value\n",
    "    \n",
    "    e.g. z_q < k -> coeff = 1.\n",
    "    \n",
    "    C * z_q < k -> coeff = C.\n",
    "    \n",
    "    Find the coeff's in original constraint and then put them in.\n",
    "    =#\n",
    "    \n",
    "    #updated constraints as list\n",
    "    for constraint in updated_constraints:\n",
    "        for p in num_of_z: #something like this, but we need to do this for every p.\n",
    "            set_normalized_coefficient(Name of constraints, z[p], coefficient of z[p] in this constraint)\n",
    "    \n",
    "        end\n",
    "    end\n",
    "    \n",
    "    #don't need to call anything on the model\n",
    "    #define a new objective function or redefine it\n",
    "    @objective(...)\n",
    "    \n",
    "    optimize!(model)\n",
    "\n",
    "    obj = ...\n",
    "    \n",
    "    phi = [dual(C_REGION[i]) for i in 1:N_REGION]\n",
    "    \n",
    "    #remember: need to find the name of constraints from model\n",
    "    #keep name of constraints as input.\n",
    "    \n",
    "    #example\n",
    "    phi = [dual(c_1[i]) for i in 1:c_1_range]\n",
    "    #do the same for the other ones.\n",
    "    \n",
    "    #TODO\n",
    "    return model, z, pi, rho, mu, obj\n",
    "end"
   ]
  },
  {
   "cell_type": "markdown",
   "id": "4daf21f8",
   "metadata": {},
   "source": [
    "## [4] Shortest Path Finder"
   ]
  },
  {
   "cell_type": "code",
   "execution_count": null,
   "id": "dbab8c2e",
   "metadata": {},
   "outputs": [],
   "source": [
    "function shortest_paths(n, travel_time, travel_distance, windows, load, pi, rho, sigma)\n",
    "    N = [[1]]   #Set of nodes visited before the state\n",
    "    T = [0.0]  #Time at which you arrive\n",
    "    C = [0.0]  #Initial cost is 0 - REDUCED costs\n",
    "    #In the subproblem, this would be rho.\n",
    "    #R_c = reduced costs\n",
    "    r_c = [0.0]\n",
    "    \n",
    "    # actual C is the actual costs, 0.\n",
    "    \n",
    "    #In the subproblem, we can keep track of C at the same time.\n",
    "    \n",
    "    L = [1]    #Last node visited at this state (depot for the initial state)\n",
    "    A = [true] #Is this path dominated or not;\n",
    "\n",
    "    current_state = 1\n",
    "    total_state = 1\n",
    "    \n",
    "    while 1==1\n",
    "        if (L[current_state] == n+2) | (~A[current_state])\n",
    "            current_state += 1\n",
    "            if current_state > total_state\n",
    "                break\n",
    "            else\n",
    "                continue\n",
    "            end\n",
    "        end\n",
    "    \n",
    "        #=\n",
    "        For the moment, assume that we do not split time for jobs.\n",
    "        =#\n",
    "        \n",
    "        for i in 2:(n+2)\n",
    "            if ~(i in N[current_state])\n",
    "                #If you won't have the time to do the job, don't go through it\n",
    "                if L[current_state] != 1\n",
    "                    if T[current_state] + load[L[current_state]-1] + travel_time[L[current_state], i] > windows[i-1][2] - load[i-1]\n",
    "                        continue\n",
    "                    end\n",
    "                end\n",
    "                \n",
    "                #Check if you have already created a path\n",
    "                if length(N) < total_state + 1   #If not, add it\n",
    "                    push!(N, copy(N[current_state]))\n",
    "                    push!(N[total_state+1], i)\n",
    "                    push!(T, max(T[current_state] + travel_time[L[current_state], i], windows[i-1][1]))\n",
    "                    push!(C, C[current_state] + travel_distance[L[current_state], i])\n",
    "                    \n",
    "                    #now, subtract the dual variables\n",
    "                    subtraction = pi[i]\n",
    "                    \n",
    "                    for t in 1:T\n",
    "                        if nodes[i][t] == t\n",
    "                            subtraction += mu[i][t]\n",
    "                        end\n",
    "                    end\n",
    "                    #cost that we had, which is C[current_state], plus traveling distance from \n",
    "                    # L[curent_state], i\n",
    "                    # cost subtract (pi_i + mu_it at t which you will arrive which is T[-1] or last[T])\n",
    "                    # subtract pi_i, as well as\n",
    "                    #=\n",
    "                    subtract: mu_it, check:\n",
    "                    are you working at that time t? if so, subtract it?\n",
    "                    =#\n",
    "                    #=\n",
    "                    actually, disregard above: use mu_it for every time t you are there.\n",
    "                    Assume you don't go to a location, back, and then over.\n",
    "                    =#\n",
    "                            \n",
    "                    push!(r_c, -subtraction) #dual variable\n",
    "                    \n",
    "                    push!(L, i)\n",
    "                    push!(A, true)\n",
    "                else  #Otherwise, change it\n",
    "                    N[total_state + 1] = N[current_state]\n",
    "                    push!(N[total_state+1], i)\n",
    "                    T[total_state+1] = max(T[current_state] + travel_time[L[current_state], i], windows[i-1][1])\n",
    "                    C[total_state+1] = C[current_state] + travel_distance[L[current_state], i]\n",
    "                    #What I did to create the path also follows for what I do to change the path.\n",
    "                    #TODO\n",
    "                    L[total_state+1] = i\n",
    "                    A[total_state+1] = true\n",
    "                end \n",
    "                \n",
    "                NDom = true\n",
    "                for s in 1:total_state\n",
    "                    if A[s]\n",
    "                        if (issetequal(N[total_state+1], N[s])) & (L[total_state+1] == L[s])\n",
    "                            if C[total_state+1] > C[s]   #the new state is dominated by at least one state so we can stop\n",
    "                                NDom = false\n",
    "                                break\n",
    "                            else   #the new state dominates the old one so we can get rid of it\n",
    "                                A[s] = false\n",
    "                            end\n",
    "                        end\n",
    "                    end\n",
    "                end\n",
    "                \n",
    "                if NDom  #Means that the new state dominates all the other, so we go on to create the next state\n",
    "                    total_state += 1\n",
    "                end\n",
    "        \n",
    "            end\n",
    "        end\n",
    "        current_state += 1\n",
    "        if current_state == total_state\n",
    "            break\n",
    "        end     \n",
    "    end\n",
    "    return N, A, C, T, rc\n",
    "end"
   ]
  },
  {
   "cell_type": "markdown",
   "id": "4aba3e12",
   "metadata": {},
   "source": [
    "## [5] Column Generation Loop"
   ]
  },
  {
   "cell_type": "code",
   "execution_count": 8,
   "id": "18e366f7",
   "metadata": {
    "scrolled": false
   },
   "outputs": [
    {
     "ename": "LoadError",
     "evalue": "syntax: invalid identifier name \"...\"",
     "output_type": "error",
     "traceback": [
      "syntax: invalid identifier name \"...\"",
      "",
      "Stacktrace:",
      " [1] top-level scope",
      "   @ In[8]:35",
      " [2] eval",
      "   @ ./boot.jl:368 [inlined]",
      " [3] include_string(mapexpr::typeof(REPL.softscope), mod::Module, code::String, filename::String)",
      "   @ Base ./loading.jl:1428"
     ]
    }
   ],
   "source": [
    "function colgen()\n",
    "    #intialize column with their costs\n",
    "    Q_0, C_0 = initialize_routes() #Q set of routes, C_0 is costs of these routes.\n",
    "    #Compute C_0.\n",
    "    \n",
    "    model, z = RMP_define_model()\n",
    "    #=\n",
    "    For RMP, create a model and add the z-variables that \n",
    "    are associated to the routes I have in Q_0. z-variables say whether or not you \n",
    "    travel that path, Bin(0, 1).\n",
    "    \n",
    "    DON'T add any constraints. ?\n",
    "    =#\n",
    "    while 1==1\n",
    "        #PUSH CONSTRAINTS / DECISION VARS and SOLVES RMP AGAIN\n",
    "        model, z, pi, rho, mu, obj, c2 = RMP_add_and_solve()\n",
    "        #=\n",
    "        RMP_add_columns adds columns which I just had, \n",
    "        and also modifies the original constraints.\n",
    "        \n",
    "        Add new parameters to constraint.\n",
    "        \n",
    "        GUROBI UPDATE CODE:\n",
    "        set_normalized_coefficient(#Name of constraints, z[p], coefficient of z[p] in this constraint)\n",
    "        =#\n",
    "        @constraint(model, C2[p=1:length(Q_0), sum(z[p]) == 1])\n",
    "        \n",
    "        #=\n",
    "        if I don't do RMP_add_columns, I need to redefine the master problem \n",
    "        every time. This takes a long time.\n",
    "        \n",
    "        Define the original model ONCE. In add_columns, we add new constraints.\n",
    "        1. add the z-variables\n",
    "        2. update the constraints to fit with the new set of Z\n",
    "        3. optimize WITHIN add_columns\n",
    "        4. retrieve dual variables and return them: model, z (primal decision),\n",
    "        pi, rho, mu (all dual variables), objective.\n",
    "        =#\n",
    "        \n",
    "        #SOLVES SUBPROBLEM\n",
    "        new_routes, reduced_costs, costs,  ... = shortest_paths(..., pi, rho, mu)\n",
    "        #=\n",
    "        Gives you costs (C), reduce costs(R_c), paths as booleans (A),\n",
    "        set of routes, locations, time, etc. Gives you all you need to know \n",
    "        about the routes.\n",
    "        =#\n",
    "        \n",
    "        #=\n",
    "        somewhere in the line, we need to calculate\n",
    "        delta_it^2, u_i^q (route is at location at a certain time,\n",
    "        or it passes by location at all)\n",
    "        =#\n",
    "        \n",
    "        #new routes pushed here\n",
    "        #Did you add a new route?\n",
    "        new_route_added = false\n",
    "        for r in 1:length(new_routes)\n",
    "            if reduced_cost[r] < 1e-7\n",
    "                #add new routes with their costs\n",
    "                push!(Q_0, new_routes[r])\n",
    "                push!(C_0, costs[r])\n",
    "                #you added a new route so this becomes true\n",
    "                new_route_added = true\n",
    "            end\n",
    "        end\n",
    "        \n",
    "        if !new_route_added\n",
    "            #reached convergence\n",
    "            break\n",
    "        end\n",
    "        \n",
    "    end\n",
    "    return obj, z\n",
    "end"
   ]
  }
 ],
 "metadata": {
  "kernelspec": {
   "display_name": "Julia 1.8.0",
   "language": "julia",
   "name": "julia-1.8"
  },
  "language_info": {
   "file_extension": ".jl",
   "mimetype": "application/julia",
   "name": "julia",
   "version": "1.8.0"
  }
 },
 "nbformat": 4,
 "nbformat_minor": 5
}
