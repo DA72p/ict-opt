{
 "cells": [
  {
   "cell_type": "markdown",
   "id": "c1566133",
   "metadata": {},
   "source": [
    "# [0] Imports"
   ]
  },
  {
   "cell_type": "code",
   "execution_count": 764,
   "id": "b14ee5c6",
   "metadata": {},
   "outputs": [],
   "source": [
    "import Pkg;\n",
    "\n",
    "using LinearAlgebra, Random, Gurobi, JuMP, Distributions, Plots, LazySets\n",
    "\n",
    "using Dates"
   ]
  },
  {
   "cell_type": "markdown",
   "id": "d60fe322",
   "metadata": {},
   "source": [
    "# [1] Setup"
   ]
  },
  {
   "cell_type": "markdown",
   "id": "1e1f376d",
   "metadata": {},
   "source": [
    "## [1.1] Parameters"
   ]
  },
  {
   "cell_type": "code",
   "execution_count": 765,
   "id": "b377ac53",
   "metadata": {},
   "outputs": [],
   "source": [
    "n_jobs = 25\n",
    "n_vehicles_jobs = n_jobs\n",
    "n_vehicles_coverage = 10\n",
    "T = 2 * n_jobs\n",
    "min_duration = 2\n",
    "max_duration = 6\n",
    "speed = 1000/6\n",
    "coverage_distance = 50\n",
    "size = 500\n",
    "step = 50;"
   ]
  },
  {
   "cell_type": "markdown",
   "id": "3c0e0558",
   "metadata": {},
   "source": [
    "## [1.2] Locations, Windows, Loads"
   ]
  },
  {
   "cell_type": "code",
   "execution_count": 766,
   "id": "f8fcdb15",
   "metadata": {},
   "outputs": [],
   "source": [
    "Random.seed!(1234)\n",
    "\n",
    "function create_cluster_sizes(jobs_total)\n",
    "    Random.seed!(1234)\n",
    "    jobs_created = 0\n",
    "    cluster = []\n",
    "    min_jobs_allowed = n_jobs >= 15 ? 3 : 2\n",
    "        target_clusters = 5\n",
    "        while jobs_created != jobs_total\n",
    "            num_to_add = rand(min(min_jobs_allowed, jobs_total - jobs_created) : \n",
    "                min(Int((n_jobs/target_clusters)÷1), jobs_total - jobs_created))\n",
    "            jobs_created += num_to_add\n",
    "            push!(cluster, num_to_add)\n",
    "        end\n",
    "    \n",
    "    return cluster\n",
    "end;"
   ]
  },
  {
   "cell_type": "code",
   "execution_count": 767,
   "id": "81d91da0",
   "metadata": {},
   "outputs": [],
   "source": [
    "time_windows = []\n",
    "locations = rand(Uniform(0,size), 1, 2)\n",
    "work_load = []\n",
    "cluster = create_cluster_sizes(n_jobs);"
   ]
  },
  {
   "cell_type": "code",
   "execution_count": 768,
   "id": "5532fe4c",
   "metadata": {},
   "outputs": [],
   "source": [
    "function create_time_windows_and_work_load(cluster_sizes, locations)\n",
    "    Random.seed!(1234)\n",
    "    locations = rand(Uniform(0,size), 1, 2)\n",
    "    for size_c in cluster\n",
    "        first = rand(Uniform(0,size), 1, 2)\n",
    "        locations = vcat(locations, first)\n",
    "\n",
    "        job_begins = rand(2:10)\n",
    "        job_finish = rand((job_begins+min_duration):(job_begins+max_duration))\n",
    "        push!(time_windows, [job_begins, job_finish])\n",
    "\n",
    "        time_work = rand(min_duration:max(min_duration, job_finish - job_begins))\n",
    "        push!(work_load, time_work)\n",
    "\n",
    "        for neighbour in 1:(size_c-1)\n",
    "            new_x = rand(Uniform(max(0,first[1]-20), min(first[1]+20, size)), 1, 1)\n",
    "            new_y = rand(Uniform(max(0,first[2]-20), min(first[2]+20, size)), 1, 1)\n",
    "            new = hcat(new_x, new_y)\n",
    "            locations = vcat(locations, new)\n",
    "\n",
    "            job_begins = rand(job_finish:min(T-min_duration-2, job_finish + 6))\n",
    "            job_finish = rand((job_begins+min_duration):(min(job_begins+max_duration, T-2)))\n",
    "            push!(time_windows, [job_begins, job_finish])\n",
    "\n",
    "            time_work = rand(min_duration:min(max_duration, job_finish-job_begins))\n",
    "            push!(work_load, time_work)\n",
    "        end\n",
    "    end\n",
    "    \n",
    "    return [time_windows, work_load, locations]\n",
    "end;"
   ]
  },
  {
   "cell_type": "code",
   "execution_count": 769,
   "id": "da915fd3",
   "metadata": {},
   "outputs": [],
   "source": [
    "time_windows, work_load, locations = create_time_windows_and_work_load(cluster, locations)\n",
    "distances = [LinearAlgebra.norm(locations[i, :] .- locations[j, :]) for i=1:n_jobs+1, j = 1:n_jobs+1];"
   ]
  },
  {
   "cell_type": "markdown",
   "id": "7e9036e6",
   "metadata": {},
   "source": [
    "# [2] Helper Methods"
   ]
  },
  {
   "cell_type": "markdown",
   "id": "adc7ecfe",
   "metadata": {},
   "source": [
    "## 2.1 Get initial routes"
   ]
  },
  {
   "cell_type": "code",
   "execution_count": 770,
   "id": "c75b044b",
   "metadata": {},
   "outputs": [],
   "source": [
    "routes = []\n",
    "\n",
    "for n in 1:n_jobs\n",
    "    job_route = []\n",
    "    dist = distances[1, n+1]\n",
    "\n",
    "    min_t = Int(floor(time_windows[n][1] - dist/speed))\n",
    "    max_t = Int(ceil(time_windows[n][2] + dist/speed))\n",
    "\n",
    "    push!(job_route, [[0, min_t], [n, time_windows[n][1]], dist])\n",
    "    \n",
    "    for t in time_windows[n][1]:(time_windows[n][2]-1)\n",
    "        push!(job_route, [[n, t], [n, t+1], 0])\n",
    "    end\n",
    "    \n",
    "    push!(job_route, [[n, time_windows[n][2]], [n_jobs+1, max_t],  dist])\n",
    "    push!(routes, job_route)\n",
    "    \n",
    "end"
   ]
  },
  {
   "cell_type": "markdown",
   "id": "da1a9c0e",
   "metadata": {},
   "source": [
    "## 2.2 Compute Cost"
   ]
  },
  {
   "cell_type": "code",
   "execution_count": 771,
   "id": "47ed8ef1",
   "metadata": {},
   "outputs": [],
   "source": [
    "function compute_cost(route)\n",
    "    cost = 0\n",
    "    for entity in route\n",
    "        cost += entity[3]\n",
    "    end\n",
    "    return cost\n",
    "end;"
   ]
  },
  {
   "cell_type": "code",
   "execution_count": 772,
   "id": "04052539",
   "metadata": {},
   "outputs": [],
   "source": [
    "C = []\n",
    "for i in 1:length(routes)\n",
    "    push!(C, compute_cost(routes[i]))\n",
    "end"
   ]
  },
  {
   "cell_type": "markdown",
   "id": "7efd9722",
   "metadata": {},
   "source": [
    "## 2.3 Compute Delta"
   ]
  },
  {
   "cell_type": "code",
   "execution_count": 773,
   "id": "6b301d04",
   "metadata": {},
   "outputs": [],
   "source": [
    "function compute_delta(routes)\n",
    "    Q = length(routes)\n",
    "    delta = [[[0.0 for q in 1:Q] for t in 1:T] for i in 1:n_jobs]\n",
    "    for rindex in 1:Q\n",
    "        route = routes[rindex]\n",
    "        for arc in route\n",
    "            loc1, time1 = arc[1]\n",
    "            loc2, time2 = arc[2]\n",
    "            if (loc1 != 0) & (loc1 != n_jobs + 1)\n",
    "                delta[loc1][time1][rindex] = 1\n",
    "            end\n",
    "            \n",
    "            if (loc2 != 0) & (loc2 != n_jobs + 1)\n",
    "                delta[loc2][time2][rindex] = 1\n",
    "            end\n",
    "        end\n",
    "    end\n",
    "    return delta\n",
    "end;"
   ]
  },
  {
   "cell_type": "code",
   "execution_count": 774,
   "id": "baeb7f50",
   "metadata": {},
   "outputs": [],
   "source": [
    "delta = compute_delta(routes);"
   ]
  },
  {
   "cell_type": "markdown",
   "id": "212cc1e7",
   "metadata": {},
   "source": [
    "## 2.4 Compute U"
   ]
  },
  {
   "cell_type": "code",
   "execution_count": 775,
   "id": "7f9f80bd",
   "metadata": {},
   "outputs": [],
   "source": [
    "function compute_u(routes)\n",
    "    Q = length(routes)\n",
    "    u = [[0 for q in 1:Q] for i in 1:n_jobs]\n",
    "    \n",
    "    for rindex in 1:Q\n",
    "        route = routes[rindex]\n",
    "        for arc in route\n",
    "            loc1 = arc[1][1]\n",
    "            loc2 = arc[2][1]\n",
    "            if (1 <= loc1 <= n_jobs)\n",
    "                u[loc1][rindex] = 1\n",
    "            end\n",
    "            if (1 <= loc2 <= n_jobs)\n",
    "                u[loc2][rindex] = 1\n",
    "            end\n",
    "        end\n",
    "    end\n",
    "    return u\n",
    "end;"
   ]
  },
  {
   "cell_type": "code",
   "execution_count": 776,
   "id": "f8adeb2b",
   "metadata": {},
   "outputs": [],
   "source": [
    "u = compute_u(routes);"
   ]
  },
  {
   "cell_type": "markdown",
   "id": "15481d5c",
   "metadata": {},
   "source": [
    "## 2.5 Label-Setting Algorithm"
   ]
  },
  {
   "cell_type": "code",
   "execution_count": 777,
   "id": "b883e20d",
   "metadata": {
    "scrolled": true
   },
   "outputs": [],
   "source": [
    "function sp_lsa(n, travel_distance, travel_time, windows, load, rho_v, pi_v, mu_v)\n",
    "    N = [[1]] \n",
    "    Times = [ [0] ] \n",
    "    R = [rho_v]  \n",
    "    L = [1]  \n",
    "\n",
    "    current_state = 1\n",
    "    total_state = 1\n",
    "\n",
    "    #=\n",
    "    NOTE: For pi_v, u_v, mu_v, and delta_v, there is no defined value\n",
    "    for the actual depot. We will be using -1's for indexing quite liberally,\n",
    "    as in our loop, 1 = n+2 = depot, when in 'reality', this should be 0 = n+!.\n",
    "\n",
    "    This is also the case for variables windows and load. This happened last LSA too.\n",
    "    =#\n",
    "    while 1==1\n",
    "\n",
    "        # STEP 1: Check whether we want to move on to checking the next path\n",
    "        if (L[current_state] == n+2)\n",
    "            current_state += 1\n",
    "            if current_state > total_state\n",
    "                # print(current_state, \" \", total_state, \" nothing more to check\")\n",
    "                break\n",
    "            else\n",
    "                continue\n",
    "            end\n",
    "        end\n",
    "\n",
    "        # STEP 2: Enter the for loop.\n",
    "        for i in 2:(n+2)\n",
    "\n",
    "            # STEP 2-1: Check that the current node is not already inside our path.\n",
    "            if ~(i in N[current_state])\n",
    "\n",
    "                #= STEP 2-2: Feasibility check. We must have enough time\n",
    "                to go from our current location (end time T[current_state]), plus\n",
    "                the travel time from that end node to the new node (travel_time[L[current_state], i]),\n",
    "                plus the amount of time it takes to work the OLD job (load[L[current_state]-1]),\n",
    "                plus the amount of time it takes to work the NEW job (load[i-1])\n",
    "\n",
    "                this must be smaller than or equal to the end time of the window for the NEW job (windows[i-1][2])\n",
    "                =#\n",
    "                cur_time = last(Times[current_state])\n",
    "                dist_nec = travel_time[L[current_state], i]\n",
    "                old_job_time_nec = L[current_state] > 1 ? load[L[current_state]-1] : 0\n",
    "                new_job_time_nec = load[i-1]\n",
    "                new_window_start, new_window_close = windows[i-1]\n",
    "\n",
    "                if L[current_state] != 1\n",
    "                    if cur_time + dist_nec + old_job_time_nec + new_job_time_nec > new_window_close\n",
    "                        continue\n",
    "                    end\n",
    "                end\n",
    "\n",
    "                reach_new_node_time = max(cur_time + dist_nec + old_job_time_nec, new_window_start)\n",
    "\n",
    "                #=\n",
    "                The topic of mu_it needs to be discussed.\n",
    "\n",
    "                There are two competing theories. Either mu_it should only be added\n",
    "                when we are at the node for the first time, or it should be added \n",
    "                every time we are at the node, even if we're staying and haven't just hit it.\n",
    "\n",
    "                It appears that if we only subtract mu once when we hit, there will be subtle\n",
    "                but noticeable errors in our final answer. They are practically slight, but \n",
    "                the answer is still wrong.\n",
    "\n",
    "                So I'm thinking that if we fix the mu issue, everything will be resolved.\n",
    "                =#\n",
    "\n",
    "                #= When we hit a node, we should account for the mu accumulated THROUGHOUT\n",
    "                staying at node i. This makes more conceptual sense than \"retroactively\"\n",
    "                fitting old values of mu. It also means we are forced to look ahead.\n",
    "\n",
    "                First, we determine when we first arrive at the node. This is indicated above\n",
    "                as reach_new_node_time. Then, we will be at the node for the following times:\n",
    "                reach_new_node_time, reach_new_node_time+1, ..., reach_new_node_time + load[i-1]\n",
    "\n",
    "                So we will need to patch together the mu for ALL of these times!\n",
    "                =#\n",
    "\n",
    "                # SECOND CHECK\n",
    "                add_segdist = travel_distance[L[current_state], i]\n",
    "                subtract_pi = i < n+2 ? -pi_v[i-1] : 0\n",
    "                subtract_mu = 0.0\n",
    "                if i < n+2\n",
    "                    for applicable_time in reach_new_node_time:reach_new_node_time+new_job_time_nec\n",
    "                        subtract_mu -= mu_v[Int(i-1), Int(applicable_time)]\n",
    "                    end\n",
    "                end\n",
    "\n",
    "                proposed_cost = R[current_state] + add_segdist + subtract_pi + subtract_mu\n",
    "\n",
    "                # STEP 2-3: Add the path to our N.\n",
    "\n",
    "                # First, copy the original state so we can modify it\n",
    "                push!(N, copy(N[current_state]))\n",
    "                # Add this new, guaranteed-to-be-valid, node.\n",
    "                push!(N[total_state+1], i)\n",
    "\n",
    "                # Time is going to be when we GET to the final node.\n",
    "\n",
    "                #= I argue that we also need to include a work load term into the \n",
    "                term bounded by current_time + necessary_travel_distance.\n",
    "\n",
    "                This is because there's no point in going to an old place, not \n",
    "                doing any work, and then going away to some new place.\n",
    "\n",
    "                So in reality the check becomes tripartite.\n",
    "                =#\n",
    "                new_times_array = copy(Times[current_state])\n",
    "                push!(new_times_array, reach_new_node_time)\n",
    "                push!(Times, new_times_array)\n",
    "\n",
    "                # Cost.\n",
    "                push!(R, proposed_cost)\n",
    "\n",
    "                # Last node is updated.\n",
    "                push!(L, i)\n",
    "\n",
    "                total_state += 1\n",
    "\n",
    "            end\n",
    "        end\n",
    "\n",
    "        current_state += 1 # concluded iteration for that state in mind. Now next one\n",
    "\n",
    "        #= It's possible that we've just caught up to the final total state, meaning we didn't generate\n",
    "        anything and can stop here. =#\n",
    "        if current_state == total_state\n",
    "            # print(current_state, \" \", total_state, \" came from bottom\")\n",
    "            break\n",
    "        end     \n",
    "    end\n",
    "\n",
    "    return N, R, Times\n",
    "end;"
   ]
  },
  {
   "cell_type": "markdown",
   "id": "d36fc31b",
   "metadata": {},
   "source": [
    "### 2.5.1 Label-Setting Algorithm Constant Variables"
   ]
  },
  {
   "cell_type": "code",
   "execution_count": 778,
   "id": "47dbdd49",
   "metadata": {},
   "outputs": [],
   "source": [
    "distances_label = deepcopy(distances)\n",
    "distances_label = hcat(distances_label, distances_label[:, 1])\n",
    "distances_label = vcat(distances_label, collect(push!(distances_label[:, 1], 0)'));"
   ]
  },
  {
   "cell_type": "code",
   "execution_count": 779,
   "id": "07ed2e76",
   "metadata": {},
   "outputs": [],
   "source": [
    "travel_times = ceil.(distances_label / speed);"
   ]
  },
  {
   "cell_type": "code",
   "execution_count": 780,
   "id": "991d93d8",
   "metadata": {},
   "outputs": [],
   "source": [
    "windows_label = deepcopy(time_windows)\n",
    "push!(windows_label, [0, 100]);"
   ]
  },
  {
   "cell_type": "code",
   "execution_count": 781,
   "id": "d483974d",
   "metadata": {},
   "outputs": [],
   "source": [
    "load_label = deepcopy(work_load)\n",
    "push!(load_label, 0);"
   ]
  },
  {
   "cell_type": "markdown",
   "id": "e7fe489e",
   "metadata": {},
   "source": [
    "## 2.6 Extract Best Route in SP"
   ]
  },
  {
   "cell_type": "code",
   "execution_count": 782,
   "id": "fb9157c8",
   "metadata": {},
   "outputs": [],
   "source": [
    "function extract_best_route(sub_paths, sub_rc, sub_times, n_jobs)\n",
    "\n",
    "    best_rc = Inf\n",
    "    best_index = 0\n",
    "\n",
    "    for i in 1:length(sub_paths)\n",
    "        if sub_rc[i] < best_rc && last(sub_paths[i]) == n_jobs + 2\n",
    "            best_rc = sub_rc[i]\n",
    "            best_index = i\n",
    "        end\n",
    "    end\n",
    "\n",
    "    return sub_paths[best_index], sub_rc[best_index], sub_times[best_index]\n",
    "end;"
   ]
  },
  {
   "cell_type": "markdown",
   "id": "ee00b6a9",
   "metadata": {},
   "source": [
    "## 2.7 Generate full time info on route"
   ]
  },
  {
   "cell_type": "code",
   "execution_count": 783,
   "id": "7bc59d84",
   "metadata": {},
   "outputs": [],
   "source": [
    "function generate_full_time_info(best_route, best_times)\n",
    "    best_route_info = []\n",
    "    for locindex in 1:length(best_route)-1\n",
    "        #=\n",
    "        Strategy:\n",
    "        If you are not at a job location, you don't need to capture\n",
    "        stationary information. Otherwise you do.\n",
    "\n",
    "        Anyways we want data moving from one to the next.\n",
    "        =#\n",
    "        cur_loc = best_route[locindex]\n",
    "        cur_time = best_times[locindex]\n",
    "        time_to_start_moving = best_times[locindex]\n",
    "\n",
    "        #stationary data comes first.\n",
    "        if 1 < locindex < n_jobs + 2\n",
    "            cur_job_num = cur_loc - 1 # delete padding!\n",
    "\n",
    "            #stay stationary for however long it takes for you to do the job\n",
    "\n",
    "            # Note: eventually this will have to be modified to include coverage.\n",
    "            # Eventually we will write a subproblem-tells-us-when-work-is-done component.\n",
    "\n",
    "            for time in cur_time:cur_time+work_load[cur_job_num]-1\n",
    "                route_detail = [ [cur_loc-1, time], [cur_loc-1, time+1], 0]\n",
    "                push!(best_route_info, route_detail)\n",
    "            end\n",
    "\n",
    "            time_to_start_moving += work_load[cur_job_num]\n",
    "        end\n",
    "\n",
    "        new_loc = best_route[locindex+1]\n",
    "        #then if we move, we move.\n",
    "        route_detail = [ [cur_loc-1, time_to_start_moving], [new_loc-1, best_times[locindex+1]], distances_label[cur_loc, new_loc]]\n",
    "        push!(best_route_info, route_detail)\n",
    "    end\n",
    "\n",
    "    return best_route_info\n",
    "end;"
   ]
  },
  {
   "cell_type": "markdown",
   "id": "3c8081b7",
   "metadata": {},
   "source": [
    "# [3] Column Generation Loop"
   ]
  },
  {
   "cell_type": "code",
   "execution_count": 784,
   "id": "84393024",
   "metadata": {
    "scrolled": true
   },
   "outputs": [
    {
     "name": "stdout",
     "output_type": "stream",
     "text": [
      "Set parameter Username\n",
      "Academic license - for non-commercial use only - expires 2023-09-04\n"
     ]
    }
   ],
   "source": [
    "modelcg = Model(Gurobi.Optimizer);\n",
    "set_optimizer_attribute(modelcg, \"OutputFlag\", 0);"
   ]
  },
  {
   "cell_type": "code",
   "execution_count": 785,
   "id": "cc45fb2b",
   "metadata": {},
   "outputs": [],
   "source": [
    "@variable(modelcg, 0 <= y_s[1:n_jobs, 1:T] <= 1) # should be Bin\n",
    "@variable(modelcg, 0 <= y_e[1:n_jobs, 1:T] <= 1); # should be Bin\n",
    "\n",
    "@constraint(modelcg, start[i in 1:n_jobs, t in 1:(T-1)], y_s[i,t] <= y_s[i,t+1])\n",
    "@constraint(modelcg, ends[i in 1:n_jobs, t in 1:(T-1)], y_e[i,t] <= y_e[i,t+1])\n",
    "\n",
    "@constraint(modelcg, window_start[i in 1:n_jobs, t in 1:(time_windows[i][1]-1)], y_s[i,t] == 0)\n",
    "@constraint(modelcg, window_ends[i in 1:n_jobs, t in time_windows[i][2]:T], y_e[i,t] == 1)\n",
    "\n",
    "@constraint(modelcg, duration[i in 1:n_jobs], sum(y_s[i,t] - y_e[i,t] for t in 1:T) >= work_load[i]);\n",
    "\n",
    "@constraint(modelcg, coverage[i in 1:n_jobs, t in 1:T], y_s[i, t] - y_e[i, t] <= 1);"
   ]
  },
  {
   "cell_type": "code",
   "execution_count": 786,
   "id": "e1a6bfd7",
   "metadata": {
    "scrolled": false
   },
   "outputs": [],
   "source": [
    "keep_going = true\n",
    "\n",
    "num_iters = 0\n",
    "num_routes_at_a_time = 1\n",
    "z_values = []\n",
    "OBJ = 0\n",
    "\n",
    "while keep_going\n",
    "    num_iters += 1\n",
    "    Q = length(routes)\n",
    "    \n",
    "    unregister(modelcg, :z)\n",
    "    @variable(modelcg, 0 <= z[1:Q] <= 1) # should be Bin\n",
    "    \n",
    "    unregister(modelcg, :unique)\n",
    "    @constraint(modelcg, unique[i in 1:n_jobs], sum(u[i][q] * z[q] for q in 1:Q) >= 1);\n",
    "    \n",
    "    unregister(modelcg, :driver)\n",
    "    @constraint(modelcg, driver, sum(z[q] for q in 1:Q) <= n_vehicles_jobs)\n",
    "    \n",
    "    unregister(modelcg, :work)\n",
    "    @constraint(modelcg, work[i in 1:n_jobs, t in 1:(T-1)], \n",
    "        y_s[i, t] - y_e[i, t] <= sum(z[q] * delta[i][t][q] for q in 1:Q));\n",
    "    \n",
    "    @objective(modelcg, Min, sum(compute_cost(routes[q]) * z[q] for q in 1:Q));\n",
    "    \n",
    "    optimize!(modelcg)\n",
    "    OBJ = objective_value(modelcg)\n",
    "    \n",
    "    push!(z_values, round.(value.(z), digits = 3))\n",
    "    \n",
    "    pi_values = dual.(unique)\n",
    "    rho_value = dual.(driver)\n",
    "    mu_values = dual.(work);\n",
    "    \n",
    "    sub_paths, sub_rc, sub_times = sp_lsa(n_jobs, distances_label, travel_times, windows_label, load_label, rho_value, pi_values, mu_values);\n",
    "    \n",
    "    best_route, best_rc, best_times = extract_best_route(sub_paths, sub_rc, sub_times, n_jobs)\n",
    "    \n",
    "    if best_rc > -1e-6\n",
    "        keep_going = false\n",
    "        break\n",
    "    end\n",
    "    \n",
    "    push!(routes, generate_full_time_info(best_route, best_times))\n",
    "    \n",
    "    u = compute_u(routes)\n",
    "    delta = compute_delta(routes);\n",
    "    \n",
    "    C = []\n",
    "    for i in 1:length(routes)\n",
    "        push!(C, compute_cost(routes[i]))\n",
    "    end;\n",
    "end"
   ]
  },
  {
   "cell_type": "code",
   "execution_count": 787,
   "id": "9ea50f42",
   "metadata": {},
   "outputs": [],
   "source": [
    "route_descs = []\n",
    "for i in n_jobs+1:length(routes)\n",
    "    if last(z_values)[i] > 0.1\n",
    "        nodes_visited = []\n",
    "        for entity in routes[i]\n",
    "            place = entity[1][1]\n",
    "            if ~(place in nodes_visited)\n",
    "                push!(nodes_visited, place)\n",
    "            end\n",
    "        end\n",
    "        push!(nodes_visited, n_jobs+1)\n",
    "        push!(route_descs, nodes_visited)\n",
    "    end\n",
    "end"
   ]
  },
  {
   "cell_type": "code",
   "execution_count": 788,
   "id": "75dbec63",
   "metadata": {
    "scrolled": false
   },
   "outputs": [
    {
     "data": {
      "text/plain": [
       "7-element Vector{Any}:\n",
       " Any[0, 1, 2, 3, 26]\n",
       " Any[0, 24, 25, 26]\n",
       " Any[0, 8, 9, 10, 26]\n",
       " Any[0, 20, 21, 22, 23, 26]\n",
       " Any[0, 16, 17, 18, 19, 13, 14, 26]\n",
       " Any[0, 4, 5, 6, 7, 26]\n",
       " Any[0, 11, 12, 15, 26]"
      ]
     },
     "execution_count": 788,
     "metadata": {},
     "output_type": "execute_result"
    }
   ],
   "source": [
    "route_descs"
   ]
  },
  {
   "cell_type": "code",
   "execution_count": 789,
   "id": "a8e4bb0b",
   "metadata": {},
   "outputs": [
    {
     "name": "stdout",
     "output_type": "stream",
     "text": [
      "Any[0, 0, 0, 0, 0, 0, 0, 1, 2, 3, 4, 5, 6, 7, 8, 9, 10, 11, 12, 13, 14, 15, 16, 17, 18, 19, 20, 21, 22, 23, 24, 25, 26, 26, 26, 26, 26, 26, 26]"
     ]
    }
   ],
   "source": [
    "seen = []\n",
    "for list in route_descs\n",
    "    for elt in list\n",
    "        push!(seen, elt)\n",
    "    end\n",
    "end\n",
    "print(sort(seen))"
   ]
  },
  {
   "cell_type": "code",
   "execution_count": 790,
   "id": "bf14c01b",
   "metadata": {
    "scrolled": true
   },
   "outputs": [
    {
     "name": "stdout",
     "output_type": "stream",
     "text": [
      "[0.0, 0.0, 0.0, 0.0, 0.0, 0.0, 0.0, 0.0, 0.0, 0.0, 0.0, 0.0, 0.0, 0.0, 0.0, 0.0, 0.0, 0.0, 0.0, 0.0, 0.0, 0.0, 0.0, 0.0, 0.0, 0.0, 0.0, 0.0, 0.0, 0.0, 0.0, 1.0, 0.0, 0.0, 0.0, 0.0, 0.0, 0.0, 0.0, 0.0, 0.0, 0.0, 0.0, 0.0, 0.0, 0.0, 0.0, 0.0, 0.0, 0.0, 0.0, 0.0, 0.0, 0.0, 0.0, 0.0, 0.0, 1.0, 0.0, 0.0, 0.0, 0.0, 0.0, 1.0, 0.0, 0.0, 0.0, 0.0, 1.0, 0.0, 0.0, 0.0, 0.0, 0.0, 0.0, 0.0, 0.0, 1.0, 0.0, 1.0, 0.0, 1.0, 0.0, 0.0, 0.0, 0.0, 0.0, 0.0, 0.0, 0.0, 0.0, 0.0, 0.0, 0.0, 0.0, 0.0, 0.0, 0.0, 0.0]"
     ]
    }
   ],
   "source": [
    "print(last(z_values))"
   ]
  },
  {
   "cell_type": "code",
   "execution_count": 791,
   "id": "114e4189",
   "metadata": {},
   "outputs": [],
   "source": [
    "for job_num in 1:n_jobs\n",
    "    job_included = false\n",
    "    for route in route_descs\n",
    "        if job_num in route\n",
    "            job_included = true\n",
    "        end\n",
    "    end\n",
    "    \n",
    "    if ~job_included\n",
    "        println(\"Job \", job_num, \" was not in a fancy route.\")\n",
    "    end\n",
    "end"
   ]
  },
  {
   "cell_type": "code",
   "execution_count": 792,
   "id": "d13fad41",
   "metadata": {
    "scrolled": true
   },
   "outputs": [],
   "source": [
    "for i in 1:length(z_values)\n",
    "    #println(z_values[i], \"\\n\")\n",
    "end"
   ]
  },
  {
   "cell_type": "code",
   "execution_count": 793,
   "id": "fc5aef28",
   "metadata": {},
   "outputs": [
    {
     "name": "stdout",
     "output_type": "stream",
     "text": [
      "2845.663216934919\n"
     ]
    }
   ],
   "source": [
    "println(OBJ)"
   ]
  }
 ],
 "metadata": {
  "kernelspec": {
   "display_name": "Julia 1.9.1",
   "language": "julia",
   "name": "julia-1.9"
  },
  "language_info": {
   "file_extension": ".jl",
   "mimetype": "application/julia",
   "name": "julia",
   "version": "1.9.1"
  }
 },
 "nbformat": 4,
 "nbformat_minor": 5
}
