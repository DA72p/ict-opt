{
 "cells": [
  {
   "cell_type": "markdown",
   "id": "9b46af26",
   "metadata": {},
   "source": [
    "The aim of this notebook is to code the following approach:\n",
    "\n",
    "First, solve the colgen without any coverage constraint whatsoever (achieved best by PT NyVA >= with occasional stem-and-blender integer guaranteeing). Then, optimize the coverage vehicle routes according to that job vehicle routing answer.\n",
    "\n",
    "I'm using this as a starting point into two-stage optimization. I want to make sure I am comfortable manipulating the coverage variables etc. and getting familiar with them."
   ]
  },
  {
   "cell_type": "code",
   "execution_count": 285,
   "id": "1c865792",
   "metadata": {},
   "outputs": [],
   "source": [
    "import Pkg;\n",
    "\n",
    "using LinearAlgebra, Random, Gurobi, JuMP, Distributions, Plots, LazySets, Dates"
   ]
  },
  {
   "cell_type": "markdown",
   "id": "344132f3",
   "metadata": {},
   "source": [
    "# [0] Drag job data back into this notebook"
   ]
  },
  {
   "cell_type": "code",
   "execution_count": 286,
   "id": "ceece907",
   "metadata": {},
   "outputs": [],
   "source": [
    "n_jobs = 25\n",
    "n_vehicles_jobs = n_jobs\n",
    "V_cov = 15\n",
    "T = 2 * n_jobs\n",
    "min_duration = 2\n",
    "max_duration = 6;\n",
    "speed = 1000 / 6;"
   ]
  },
  {
   "cell_type": "markdown",
   "id": "d0281e0e",
   "metadata": {},
   "source": [
    "<b>NOTE:</b> time goes from 0 to T+1 inclusive, but 0 and T+1 are reserved for depot use only. 1 to T is the full working range, inclusive."
   ]
  },
  {
   "cell_type": "code",
   "execution_count": 287,
   "id": "d89a18f1",
   "metadata": {},
   "outputs": [],
   "source": [
    "time_windows = [[5, 8], [13, 17], [20, 25], [8, 10], [14, 17], [22, 26], [30, 35], \n",
    "    [2, 8], [11, 14], [18, 22], [9, 13], [14, 17], [21, 24], [27, 29], [31, 37], \n",
    "    [2, 5], [8, 10], [12, 17], [17, 21], [10, 14], [15, 20], [24, 27], [27, 33], \n",
    "    [4, 9], [9, 15]];"
   ]
  },
  {
   "cell_type": "code",
   "execution_count": 288,
   "id": "398466fb",
   "metadata": {},
   "outputs": [],
   "source": [
    "work_load = [3, 4, 5, 2, 2, 3, 4, 3, 2, 4, 4, 3, 3, 2, 5, 3, 2, 3, 3, 3, 4, 2, 3, 4, 5];"
   ]
  },
  {
   "cell_type": "code",
   "execution_count": 289,
   "id": "82999286",
   "metadata": {},
   "outputs": [],
   "source": [
    "locations = [ [162.98836443179744 274.5255681577834], [109.29332740941533 447.12271410049414],\n",
    "    [121.1152053108041 446.89270877611096],[89.59124765472993 435.09777866446035],\n",
    "    [323.92765788592794 498.332645718842],[326.53347225637947 483.83207561135157],\n",
    "    [328.32265251259605 492.9102875883275],[309.1686841347623 498.8397830821424],\n",
    "    [36.35807104610789 350.5579177570377],[47.090405717384044 341.3203068534036],\n",
    "    [55.48085983316444 364.68758998092676],[260.3707024335765 470.9155090761928],\n",
    "    [260.37715114996485 479.54934664105195],[247.26012681195274 464.00956357114217], \n",
    "    [240.48176081945687 456.302922303405],[276.6482779863586 455.5862703353655],\n",
    "    [239.93121460946887 474.9841599335543],[251.64446751105916 493.673348915355], \n",
    "    [246.70672450784087 490.66852195024524],[232.51197192211055 487.17296281307057], \n",
    "    [244.46684180873675 245.79037260667468],[225.94275471532777 256.0041140341042],\n",
    "    [231.9341041485549 256.19089982535576],[241.8876807998831 230.46206318844872],\n",
    "    [73.90222246114125 139.66111885815096],[65.10392466179182 147.0898582966076]];"
   ]
  },
  {
   "cell_type": "code",
   "execution_count": 290,
   "id": "45fa08ab",
   "metadata": {},
   "outputs": [],
   "source": [
    "distances = [LinearAlgebra.norm(locations[i, :] .- locations[j, :]) for i=1:n_jobs+1, j = 1:n_jobs+1];"
   ]
  },
  {
   "cell_type": "code",
   "execution_count": 291,
   "id": "fa6f3cbc",
   "metadata": {},
   "outputs": [],
   "source": [
    "travel_times = ceil.(distances / speed);"
   ]
  },
  {
   "cell_type": "code",
   "execution_count": 292,
   "id": "3939a049",
   "metadata": {},
   "outputs": [],
   "source": [
    "routes_nodes_only = [\n",
    "    [0, 1, 2, 3, 26],\n",
    "    [0, 8, 9, 10, 26],\n",
    "    [0, 4, 5, 6, 7, 26],\n",
    "    [0, 20, 21, 22, 23, 26],\n",
    "    [0, 24, 25, 26],\n",
    "    [0, 11, 12, 15, 26],\n",
    "    [0, 16, 17, 18, 19, 13, 14, 26]\n",
    "];"
   ]
  },
  {
   "cell_type": "code",
   "execution_count": 293,
   "id": "470cbafd",
   "metadata": {},
   "outputs": [],
   "source": [
    "full_routes = [\n",
    "[[[0, 0], [1, 5], 180.7565539293233], [[1, 5], [1, 6], 0], [[1, 6], [1, 7], 0], [[1, 7], [1, 8], 0], [[1, 8], [2, 13], 11.824115170472117], [[2, 13], [2, 14], 0], [[2, 14], [2, 15], 0], [[2, 15], [2, 16], 0], [[2, 16], [2, 17], 0], [[2, 17], [3, 20], 33.658286983158845], [[3, 20], [3, 21], 0], [[3, 21], [3, 22], 0], [[3, 22], [3, 23], 0], [[3, 23], [3, 24], 0], [[3, 24], [3, 25], 0], [[3, 25], [26, 27], 176.55189474538938]],\n",
    "[[[0, 0], [8, 2], 147.70290920807565], [[8, 2], [8, 3], 0], [[8, 3], [8, 4], 0], [[8, 4], [8, 5], 0], [[8, 5], [9, 11], 14.160383564833829], [[9, 11], [9, 12], 0], [[9, 12], [9, 13], 0], [[9, 13], [10, 18], 24.828001148518656], [[10, 18], [10, 19], 0], [[10, 19], [10, 20], 0], [[10, 20], [10, 21], 0], [[10, 21], [10, 22], 0], [[10, 22], [26, 23], 140.31056169890445]],\n",
    "[[[0, 0], [4, 8], 275.66476768701585], [[4, 8], [4, 9], 0], [[4, 9], [4, 10], 0], [[4, 10], [5, 14], 14.732847721180612], [[5, 14], [5, 15], 0], [[5, 15], [5, 16], 0], [[5, 16], [6, 22], 9.252842735513466], [[6, 22], [6, 23], 0], [[6, 23], [6, 24], 0], [[6, 24], [6, 25], 0], [[6, 25], [7, 30], 20.050771093158136], [[7, 30], [7, 31], 0], [[7, 31], [7, 32], 0], [[7, 32], [7, 33], 0], [[7, 33], [7, 34], 0], [[7, 34], [26, 36], 267.74157855214145]],\n",
    "[[[0, 0], [20, 10], 86.39707019931214], [[20, 10], [20, 11], 0], [[20, 11], [20, 12], 0], [[20, 12], [20, 13], 0], [[20, 13], [21, 15], 21.153305098508625], [[21, 15], [21, 16], 0], [[21, 16], [21, 17], 0], [[21, 17], [21, 18], 0], [[21, 18], [21, 19], 0], [[21, 19], [22, 24], 5.99426033492411], [[22, 24], [22, 25], 0], [[22, 25], [22, 26], 0], [[22, 26], [23, 27], 27.587075286128385], [[23, 27], [23, 28], 0], [[23, 28], [23, 29], 0], [[23, 29], [23, 30], 0], [[23, 30], [26, 31], 90.36976592607648]],\n",
    "[[[0, 0], [24, 4], 161.63155748834768], [[24, 4], [24, 5], 0], [[24, 5], [24, 6], 0], [[24, 6], [24, 7], 0], [[24, 7], [24, 8], 0], [[24, 8], [25, 9], 11.515042935678439], [[25, 9], [25, 10], 0], [[25, 10], [25, 11], 0], [[25, 11], [25, 12], 0], [[25, 12], [25, 13], 0], [[25, 13], [25, 14], 0], [[25, 14], [26, 15], 160.68983694344095]],\n",
    "[[[0, 0], [11, 9], 219.20841372682088], [[11, 9], [11, 10], 0], [[11, 10], [11, 11], 0], [[11, 11], [11, 12], 0], [[11, 12], [11, 13], 0], [[11, 13], [12, 14], 8.63383997317047], [[12, 14], [12, 15], 0], [[12, 15], [12, 16], 0], [[12, 16], [12, 17], 0], [[12, 17], [15, 31], 28.96512721460351], [[15, 31], [15, 32], 0], [[15, 32], [15, 33], 0], [[15, 33], [15, 34], 0], [[15, 34], [15, 35], 0], [[15, 35], [15, 36], 0], [[15, 36], [26, 38], 213.77921747042998]],\n",
    "[[[0, 0], [16, 2], 214.71806912830775], [[16, 2], [16, 3], 0], [[16, 3], [16, 4], 0], [[16, 4], [16, 5], 0], [[16, 5], [17, 8], 22.056429410357314], [[17, 8], [17, 9], 0], [[17, 9], [17, 10], 0], [[17, 10], [18, 12], 5.780163583851407], [[18, 12], [18, 13], 0], [[18, 13], [18, 14], 0], [[18, 14], [18, 15], 0], [[18, 15], [19, 17], 14.618821246994681], [[19, 17], [19, 18], 0], [[19, 18], [19, 19], 0], [[19, 19], [19, 20], 0], [[19, 20], [13.0, 21.0], 27.45999157129779], [[13.0, 21.0], [13.0, 22.0], 0], [[13.0, 22.0], [13.0, 23.0], 0], [[13.0, 23.0], [13.0, 24.0], 0], [[13.0, 24.0], [14.0, 27.0], 10.263457758368471], [[14.0, 27.0], [14.0, 28.0], 0], [[14.0, 28.0], [14.0, 29.0], 0], [[14.0, 29.0], [26.0, 31.0], 197.60625740061383]],\n",
    "];"
   ]
  },
  {
   "cell_type": "markdown",
   "id": "59e40676",
   "metadata": {},
   "source": [
    "# [1] Create Coverage Locations"
   ]
  },
  {
   "cell_type": "markdown",
   "id": "181fb3c0",
   "metadata": {},
   "source": [
    "## [1.1] Parameters"
   ]
  },
  {
   "cell_type": "markdown",
   "id": "8b21092e",
   "metadata": {},
   "source": [
    "The following parameters detail how the grid will shape up. Size is the side length of the full map square, mesh is the width of the 'meshing' of the grid (e.g. mesh = 40 means every 40 distance in horizontal or vertical direction there will be a new vehicle), which will be a square system. Radius is how well the coverage does, as the crow flies (so not Manhattan/taxicab). Speed is how far we travel per time unit."
   ]
  },
  {
   "cell_type": "code",
   "execution_count": 294,
   "id": "891b995c",
   "metadata": {},
   "outputs": [],
   "source": [
    "size = 500\n",
    "mesh = 50\n",
    "radius = 50\n",
    "speed = 1000/6;"
   ]
  },
  {
   "cell_type": "markdown",
   "id": "f5823977",
   "metadata": {},
   "source": [
    "## [1.2] Consider each potential landing spot for coverage, and see if useful"
   ]
  },
  {
   "cell_type": "markdown",
   "id": "f3b9da9b",
   "metadata": {},
   "source": [
    "So now we have a full grid set up, with locations ranging from\n",
    "\n",
    "`[0, size]` to `[0, size]` with a mesh, or mesh, of `mesh`. Start with `[0, 0]`; we expect mesh to be divided into size evenly, but if not, like if size is 100 and mesh is 8, we end at `[96, 96]`.\n",
    "\n",
    "We consider each of these `floor(size / mesh) + 1` times `floor(size / mesh) + 1` locations, and see if, within their coverage, there exists at least a job. How do we run this check? It's kinda hard to 'sweep' the coverage and look for jobs, so instead, we take jobs and match their distance against the radius-squared!\n",
    "\n",
    "If there is at least a job within the radius, then the coverage location is useful.\n",
    "\n",
    "If not, then don't add it."
   ]
  },
  {
   "cell_type": "code",
   "execution_count": 295,
   "id": "4fd4d90f",
   "metadata": {},
   "outputs": [],
   "source": [
    "function is_close_enough(coverage_loc, job_loc, r)\n",
    "    #=\n",
    "    Given a coverage_loc with 2 elements x y\n",
    "    and a job_loc with two elements x y\n",
    "    determines if that specific job_loc is located within r \n",
    "    of the coverage_loc as the crow flies\n",
    "    =#\n",
    "    \n",
    "    return (coverage_loc[1]-job_loc[1])^2 + (coverage_loc[2]-job_loc[2])^2 <= r^2\n",
    "end;"
   ]
  },
  {
   "cell_type": "code",
   "execution_count": 296,
   "id": "b49dc867",
   "metadata": {},
   "outputs": [],
   "source": [
    "coverage_locations = []\n",
    "\n",
    "for x in 0:mesh:size\n",
    "    for y in 0:mesh:size\n",
    "        potential_cov = [x y]\n",
    "        useful = false\n",
    "        # println(\"Now considering \", potential_cov)\n",
    "        \n",
    "        for index in 2:length(locations) #1st is depot\n",
    "            if is_close_enough(potential_cov, locations[index], radius)\n",
    "                # println(potential_cov, \" is close enough to \", locations[index])\n",
    "                useful = true\n",
    "                break\n",
    "            end\n",
    "        end\n",
    "        \n",
    "        if useful\n",
    "            push!(coverage_locations, potential_cov)\n",
    "        end\n",
    "    end\n",
    "end;"
   ]
  },
  {
   "cell_type": "code",
   "execution_count": 297,
   "id": "2ad2b6c1",
   "metadata": {},
   "outputs": [],
   "source": [
    "coverage_locations;"
   ]
  },
  {
   "cell_type": "code",
   "execution_count": 298,
   "id": "57d91d74",
   "metadata": {},
   "outputs": [],
   "source": [
    "m_cov = length(coverage_locations);"
   ]
  },
  {
   "cell_type": "markdown",
   "id": "3b5c011b",
   "metadata": {},
   "source": [
    "## [1.3] Generate map of coverage and job locations"
   ]
  },
  {
   "cell_type": "markdown",
   "id": "1e863543",
   "metadata": {},
   "source": [
    "This is good for visual inspection and seeing if we want to change anything."
   ]
  },
  {
   "cell_type": "code",
   "execution_count": 299,
   "id": "d59363e7",
   "metadata": {
    "scrolled": false
   },
   "outputs": [
    {
     "data": {
      "image/png": "[encoded data removed]",
      "image/svg+xml": [
       "<?xml version=\"1.0\" encoding=\"utf-8\"?>\n",
       "<svg xmlns=\"http://www.w3.org/2000/svg\" xmlns:xlink=\"http://www.w3.org/1999/xlink\" width=\"600\" height=\"400\" viewBox=\"0 0 2400 1600\">\n",
       "<defs>\n",
       "  <clipPath id=\"clip560\">\n",
       "    <rect x=\"0\" y=\"0\" width=\"2400\" height=\"1600\"/>\n",
       "  </clipPath>\n",
       "</defs>\n",
       "<path clip-path=\"url(#clip560)\" d=\"M0 1600 L2400 1600 L2400 0 L0 0  Z\" fill=\"#ffffff\" fill-rule=\"evenodd\" fill-opacity=\"1\"/>\n",
       "<defs>\n",
       "  <clipPath id=\"clip561\">\n",
       "    <rect x=\"480\" y=\"0\" width=\"1681\" height=\"1600\"/>\n",
       "  </clipPath>\n",
       "</defs>\n",
       "<path clip-path=\"url(#clip560)\" d=\"M172.015 1486.45 L2352.76 1486.45 L2352.76 47.2441 L172.015 47.2441  Z\" fill=\"#ffffff\" fill-rule=\"evenodd\" fill-opacity=\"1\"/>\n",
       "<defs>\n",
       "  <clipPath id=\"clip562\">\n",
       "    <rect x=\"172\" y=\"47\" width=\"2182\" height=\"1440\"/>\n",
       "  </clipPath>\n",
       "</defs>\n",
       "<polyline clip-path=\"url(#clip562)\" style=\"stroke:#000000; stroke-linecap:round; stroke-linejoin:round; stroke-width:2; stroke-opacity:0.1; fill:none\" points=\"233.734,1486.45 233.734,47.2441 \"/>\n",
       "<polyline clip-path=\"url(#clip562)\" style=\"stroke:#000000; stroke-linecap:round; stroke-linejoin:round; stroke-width:2; stroke-opacity:0.1; fill:none\" points=\"821.535,1486.45 821.535,47.2441 \"/>\n",
       "<polyline clip-path=\"url(#clip562)\" style=\"stroke:#000000; stroke-linecap:round; stroke-linejoin:round; stroke-width:2; stroke-opacity:0.1; fill:none\" points=\"1409.34,1486.45 1409.34,47.2441 \"/>\n",
       "<polyline clip-path=\"url(#clip562)\" style=\"stroke:#000000; stroke-linecap:round; stroke-linejoin:round; stroke-width:2; stroke-opacity:0.1; fill:none\" points=\"1997.14,1486.45 1997.14,47.2441 \"/>\n",
       "<polyline clip-path=\"url(#clip560)\" style=\"stroke:#000000; stroke-linecap:round; stroke-linejoin:round; stroke-width:4; stroke-opacity:1; fill:none\" points=\"172.015,1486.45 2352.76,1486.45 \"/>\n",
       "<polyline clip-path=\"url(#clip560)\" style=\"stroke:#000000; stroke-linecap:round; stroke-linejoin:round; stroke-width:4; stroke-opacity:1; fill:none\" points=\"233.734,1486.45 233.734,1467.55 \"/>\n",
       "<polyline clip-path=\"url(#clip560)\" style=\"stroke:#000000; stroke-linecap:round; stroke-linejoin:round; stroke-width:4; stroke-opacity:1; fill:none\" points=\"821.535,1486.45 821.535,1467.55 \"/>\n",
       "<polyline clip-path=\"url(#clip560)\" style=\"stroke:#000000; stroke-linecap:round; stroke-linejoin:round; stroke-width:4; stroke-opacity:1; fill:none\" points=\"1409.34,1486.45 1409.34,1467.55 \"/>\n",
       "<polyline clip-path=\"url(#clip560)\" style=\"stroke:#000000; stroke-linecap:round; stroke-linejoin:round; stroke-width:4; stroke-opacity:1; fill:none\" points=\"1997.14,1486.45 1997.14,1467.55 \"/>\n",
       "<path clip-path=\"url(#clip560)\" d=\"M233.734 1517.37 Q230.123 1517.37 228.294 1520.93 Q226.489 1524.47 226.489 1531.6 Q226.489 1538.71 228.294 1542.27 Q230.123 1545.82 233.734 1545.82 Q237.368 1545.82 239.174 1542.27 Q241.002 1538.71 241.002 1531.6 Q241.002 1524.47 239.174 1520.93 Q237.368 1517.37 233.734 1517.37 M233.734 1513.66 Q239.544 1513.66 242.6 1518.27 Q245.678 1522.85 245.678 1531.6 Q245.678 1540.33 242.6 1544.94 Q239.544 1549.52 233.734 1549.52 Q227.924 1549.52 224.845 1544.94 Q221.79 1540.33 221.79 1531.6 Q221.79 1522.85 224.845 1518.27 Q227.924 1513.66 233.734 1513.66 Z\" fill=\"#000000\" fill-rule=\"nonzero\" fill-opacity=\"1\" /><path clip-path=\"url(#clip560)\" d=\"M781.141 1544.91 L788.78 1544.91 L788.78 1518.55 L780.47 1520.21 L780.47 1515.95 L788.734 1514.29 L793.41 1514.29 L793.41 1544.91 L801.049 1544.91 L801.049 1548.85 L781.141 1548.85 L781.141 1544.91 Z\" fill=\"#000000\" fill-rule=\"nonzero\" fill-opacity=\"1\" /><path clip-path=\"url(#clip560)\" d=\"M820.493 1517.37 Q816.882 1517.37 815.053 1520.93 Q813.248 1524.47 813.248 1531.6 Q813.248 1538.71 815.053 1542.27 Q816.882 1545.82 820.493 1545.82 Q824.127 1545.82 825.933 1542.27 Q827.762 1538.71 827.762 1531.6 Q827.762 1524.47 825.933 1520.93 Q824.127 1517.37 820.493 1517.37 M820.493 1513.66 Q826.303 1513.66 829.359 1518.27 Q832.437 1522.85 832.437 1531.6 Q832.437 1540.33 829.359 1544.94 Q826.303 1549.52 820.493 1549.52 Q814.683 1549.52 811.604 1544.94 Q808.549 1540.33 808.549 1531.6 Q808.549 1522.85 811.604 1518.27 Q814.683 1513.66 820.493 1513.66 Z\" fill=\"#000000\" fill-rule=\"nonzero\" fill-opacity=\"1\" /><path clip-path=\"url(#clip560)\" d=\"M850.655 1517.37 Q847.044 1517.37 845.215 1520.93 Q843.41 1524.47 843.41 1531.6 Q843.41 1538.71 845.215 1542.27 Q847.044 1545.82 850.655 1545.82 Q854.289 1545.82 856.095 1542.27 Q857.923 1538.71 857.923 1531.6 Q857.923 1524.47 856.095 1520.93 Q854.289 1517.37 850.655 1517.37 M850.655 1513.66 Q856.465 1513.66 859.521 1518.27 Q862.599 1522.85 862.599 1531.6 Q862.599 1540.33 859.521 1544.94 Q856.465 1549.52 850.655 1549.52 Q844.845 1549.52 841.766 1544.94 Q838.711 1540.33 838.711 1531.6 Q838.711 1522.85 841.766 1518.27 Q844.845 1513.66 850.655 1513.66 Z\" fill=\"#000000\" fill-rule=\"nonzero\" fill-opacity=\"1\" /><path clip-path=\"url(#clip560)\" d=\"M1373.03 1544.91 L1389.35 1544.91 L1389.35 1548.85 L1367.4 1548.85 L1367.4 1544.91 Q1370.06 1542.16 1374.65 1537.53 Q1379.25 1532.88 1380.44 1531.53 Q1382.68 1529.01 1383.56 1527.27 Q1384.46 1525.51 1384.46 1523.82 Q1384.46 1521.07 1382.52 1519.33 Q1380.6 1517.6 1377.5 1517.6 Q1375.3 1517.6 1372.84 1518.36 Q1370.41 1519.13 1367.63 1520.68 L1367.63 1515.95 Q1370.46 1514.82 1372.91 1514.24 Q1375.37 1513.66 1377.4 1513.66 Q1382.77 1513.66 1385.97 1516.35 Q1389.16 1519.03 1389.16 1523.52 Q1389.16 1525.65 1388.35 1527.57 Q1387.56 1529.47 1385.46 1532.07 Q1384.88 1532.74 1381.78 1535.95 Q1378.68 1539.15 1373.03 1544.91 Z\" fill=\"#000000\" fill-rule=\"nonzero\" fill-opacity=\"1\" /><path clip-path=\"url(#clip560)\" d=\"M1409.16 1517.37 Q1405.55 1517.37 1403.72 1520.93 Q1401.92 1524.47 1401.92 1531.6 Q1401.92 1538.71 1403.72 1542.27 Q1405.55 1545.82 1409.16 1545.82 Q1412.8 1545.82 1414.6 1542.27 Q1416.43 1538.71 1416.43 1531.6 Q1416.43 1524.47 1414.6 1520.93 Q1412.8 1517.37 1409.16 1517.37 M1409.16 1513.66 Q1414.97 1513.66 1418.03 1518.27 Q1421.11 1522.85 1421.11 1531.6 Q1421.11 1540.33 1418.03 1544.94 Q1414.97 1549.52 1409.16 1549.52 Q1403.35 1549.52 1400.27 1544.94 Q1397.22 1540.33 1397.22 1531.6 Q1397.22 1522.85 1400.27 1518.27 Q1403.35 1513.66 1409.16 1513.66 Z\" fill=\"#000000\" fill-rule=\"nonzero\" fill-opacity=\"1\" /><path clip-path=\"url(#clip560)\" d=\"M1439.32 1517.37 Q1435.71 1517.37 1433.88 1520.93 Q1432.08 1524.47 1432.08 1531.6 Q1432.08 1538.71 1433.88 1542.27 Q1435.71 1545.82 1439.32 1545.82 Q1442.96 1545.82 1444.76 1542.27 Q1446.59 1538.71 1446.59 1531.6 Q1446.59 1524.47 1444.76 1520.93 Q1442.96 1517.37 1439.32 1517.37 M1439.32 1513.66 Q1445.13 1513.66 1448.19 1518.27 Q1451.27 1522.85 1451.27 1531.6 Q1451.27 1540.33 1448.19 1544.94 Q1445.13 1549.52 1439.32 1549.52 Q1433.51 1549.52 1430.43 1544.94 Q1427.38 1540.33 1427.38 1531.6 Q1427.38 1522.85 1430.43 1518.27 Q1433.51 1513.66 1439.32 1513.66 Z\" fill=\"#000000\" fill-rule=\"nonzero\" fill-opacity=\"1\" /><path clip-path=\"url(#clip560)\" d=\"M1970.9 1530.21 Q1974.25 1530.93 1976.13 1533.2 Q1978.03 1535.47 1978.03 1538.8 Q1978.03 1543.92 1974.51 1546.72 Q1970.99 1549.52 1964.51 1549.52 Q1962.33 1549.52 1960.02 1549.08 Q1957.73 1548.66 1955.27 1547.81 L1955.27 1543.29 Q1957.22 1544.43 1959.53 1545.01 Q1961.85 1545.58 1964.37 1545.58 Q1968.77 1545.58 1971.06 1543.85 Q1973.37 1542.11 1973.37 1538.8 Q1973.37 1535.75 1971.22 1534.03 Q1969.09 1532.3 1965.27 1532.3 L1961.25 1532.3 L1961.25 1528.45 L1965.46 1528.45 Q1968.91 1528.45 1970.74 1527.09 Q1972.56 1525.7 1972.56 1523.11 Q1972.56 1520.45 1970.67 1519.03 Q1968.79 1517.6 1965.27 1517.6 Q1963.35 1517.6 1961.15 1518.01 Q1958.95 1518.43 1956.31 1519.31 L1956.31 1515.14 Q1958.98 1514.4 1961.29 1514.03 Q1963.63 1513.66 1965.69 1513.66 Q1971.01 1513.66 1974.12 1516.09 Q1977.22 1518.5 1977.22 1522.62 Q1977.22 1525.49 1975.57 1527.48 Q1973.93 1529.45 1970.9 1530.21 Z\" fill=\"#000000\" fill-rule=\"nonzero\" fill-opacity=\"1\" /><path clip-path=\"url(#clip560)\" d=\"M1996.89 1517.37 Q1993.28 1517.37 1991.45 1520.93 Q1989.65 1524.47 1989.65 1531.6 Q1989.65 1538.71 1991.45 1542.27 Q1993.28 1545.82 1996.89 1545.82 Q2000.53 1545.82 2002.33 1542.27 Q2004.16 1538.71 2004.16 1531.6 Q2004.16 1524.47 2002.33 1520.93 Q2000.53 1517.37 1996.89 1517.37 M1996.89 1513.66 Q2002.7 1513.66 2005.76 1518.27 Q2008.84 1522.85 2008.84 1531.6 Q2008.84 1540.33 2005.76 1544.94 Q2002.7 1549.52 1996.89 1549.52 Q1991.08 1549.52 1988 1544.94 Q1984.95 1540.33 1984.95 1531.6 Q1984.95 1522.85 1988 1518.27 Q1991.08 1513.66 1996.89 1513.66 Z\" fill=\"#000000\" fill-rule=\"nonzero\" fill-opacity=\"1\" /><path clip-path=\"url(#clip560)\" d=\"M2027.06 1517.37 Q2023.44 1517.37 2021.62 1520.93 Q2019.81 1524.47 2019.81 1531.6 Q2019.81 1538.71 2021.62 1542.27 Q2023.44 1545.82 2027.06 1545.82 Q2030.69 1545.82 2032.5 1542.27 Q2034.32 1538.71 2034.32 1531.6 Q2034.32 1524.47 2032.5 1520.93 Q2030.69 1517.37 2027.06 1517.37 M2027.06 1513.66 Q2032.87 1513.66 2035.92 1518.27 Q2039 1522.85 2039 1531.6 Q2039 1540.33 2035.92 1544.94 Q2032.87 1549.52 2027.06 1549.52 Q2021.25 1549.52 2018.17 1544.94 Q2015.11 1540.33 2015.11 1531.6 Q2015.11 1522.85 2018.17 1518.27 Q2021.25 1513.66 2027.06 1513.66 Z\" fill=\"#000000\" fill-rule=\"nonzero\" fill-opacity=\"1\" /><polyline clip-path=\"url(#clip562)\" style=\"stroke:#000000; stroke-linecap:round; stroke-linejoin:round; stroke-width:2; stroke-opacity:0.1; fill:none\" points=\"172.015,1445.72 2352.76,1445.72 \"/>\n",
       "<polyline clip-path=\"url(#clip562)\" style=\"stroke:#000000; stroke-linecap:round; stroke-linejoin:round; stroke-width:2; stroke-opacity:0.1; fill:none\" points=\"172.015,1106.28 2352.76,1106.28 \"/>\n",
       "<polyline clip-path=\"url(#clip562)\" style=\"stroke:#000000; stroke-linecap:round; stroke-linejoin:round; stroke-width:2; stroke-opacity:0.1; fill:none\" points=\"172.015,766.846 2352.76,766.846 \"/>\n",
       "<polyline clip-path=\"url(#clip562)\" style=\"stroke:#000000; stroke-linecap:round; stroke-linejoin:round; stroke-width:2; stroke-opacity:0.1; fill:none\" points=\"172.015,427.411 2352.76,427.411 \"/>\n",
       "<polyline clip-path=\"url(#clip562)\" style=\"stroke:#000000; stroke-linecap:round; stroke-linejoin:round; stroke-width:2; stroke-opacity:0.1; fill:none\" points=\"172.015,87.9763 2352.76,87.9763 \"/>\n",
       "<polyline clip-path=\"url(#clip560)\" style=\"stroke:#000000; stroke-linecap:round; stroke-linejoin:round; stroke-width:4; stroke-opacity:1; fill:none\" points=\"172.015,1486.45 172.015,47.2441 \"/>\n",
       "<polyline clip-path=\"url(#clip560)\" style=\"stroke:#000000; stroke-linecap:round; stroke-linejoin:round; stroke-width:4; stroke-opacity:1; fill:none\" points=\"172.015,1445.72 190.912,1445.72 \"/>\n",
       "<polyline clip-path=\"url(#clip560)\" style=\"stroke:#000000; stroke-linecap:round; stroke-linejoin:round; stroke-width:4; stroke-opacity:1; fill:none\" points=\"172.015,1106.28 190.912,1106.28 \"/>\n",
       "<polyline clip-path=\"url(#clip560)\" style=\"stroke:#000000; stroke-linecap:round; stroke-linejoin:round; stroke-width:4; stroke-opacity:1; fill:none\" points=\"172.015,766.846 190.912,766.846 \"/>\n",
       "<polyline clip-path=\"url(#clip560)\" style=\"stroke:#000000; stroke-linecap:round; stroke-linejoin:round; stroke-width:4; stroke-opacity:1; fill:none\" points=\"172.015,427.411 190.912,427.411 \"/>\n",
       "<polyline clip-path=\"url(#clip560)\" style=\"stroke:#000000; stroke-linecap:round; stroke-linejoin:round; stroke-width:4; stroke-opacity:1; fill:none\" points=\"172.015,87.9763 190.912,87.9763 \"/>\n",
       "<path clip-path=\"url(#clip560)\" d=\"M54.5569 1459.06 L62.1958 1459.06 L62.1958 1432.69 L53.8856 1434.36 L53.8856 1430.1 L62.1495 1428.44 L66.8254 1428.44 L66.8254 1459.06 L74.4642 1459.06 L74.4642 1463 L54.5569 1463 L54.5569 1459.06 Z\" fill=\"#000000\" fill-rule=\"nonzero\" fill-opacity=\"1\" /><path clip-path=\"url(#clip560)\" d=\"M93.9086 1431.51 Q90.2975 1431.51 88.4688 1435.08 Q86.6632 1438.62 86.6632 1445.75 Q86.6632 1452.86 88.4688 1456.42 Q90.2975 1459.96 93.9086 1459.96 Q97.5428 1459.96 99.3483 1456.42 Q101.177 1452.86 101.177 1445.75 Q101.177 1438.62 99.3483 1435.08 Q97.5428 1431.51 93.9086 1431.51 M93.9086 1427.81 Q99.7187 1427.81 102.774 1432.42 Q105.853 1437 105.853 1445.75 Q105.853 1454.48 102.774 1459.08 Q99.7187 1463.67 93.9086 1463.67 Q88.0984 1463.67 85.0197 1459.08 Q81.9642 1454.48 81.9642 1445.75 Q81.9642 1437 85.0197 1432.42 Q88.0984 1427.81 93.9086 1427.81 Z\" fill=\"#000000\" fill-rule=\"nonzero\" fill-opacity=\"1\" /><path clip-path=\"url(#clip560)\" d=\"M124.07 1431.51 Q120.459 1431.51 118.631 1435.08 Q116.825 1438.62 116.825 1445.75 Q116.825 1452.86 118.631 1456.42 Q120.459 1459.96 124.07 1459.96 Q127.705 1459.96 129.51 1456.42 Q131.339 1452.86 131.339 1445.75 Q131.339 1438.62 129.51 1435.08 Q127.705 1431.51 124.07 1431.51 M124.07 1427.81 Q129.881 1427.81 132.936 1432.42 Q136.015 1437 136.015 1445.75 Q136.015 1454.48 132.936 1459.08 Q129.881 1463.67 124.07 1463.67 Q118.26 1463.67 115.182 1459.08 Q112.126 1454.48 112.126 1445.75 Q112.126 1437 115.182 1432.42 Q118.26 1427.81 124.07 1427.81 Z\" fill=\"#000000\" fill-rule=\"nonzero\" fill-opacity=\"1\" /><path clip-path=\"url(#clip560)\" d=\"M57.7745 1119.63 L74.0939 1119.63 L74.0939 1123.56 L52.1495 1123.56 L52.1495 1119.63 Q54.8115 1116.87 59.3949 1112.24 Q64.0013 1107.59 65.1819 1106.25 Q67.4272 1103.72 68.3068 1101.99 Q69.2096 1100.23 69.2096 1098.54 Q69.2096 1095.78 67.2652 1094.05 Q65.3439 1092.31 62.2421 1092.31 Q60.043 1092.31 57.5893 1093.07 Q55.1588 1093.84 52.381 1095.39 L52.381 1090.67 Q55.2051 1089.53 57.6588 1088.95 Q60.1124 1088.38 62.1495 1088.38 Q67.5198 1088.38 70.7142 1091.06 Q73.9087 1093.75 73.9087 1098.24 Q73.9087 1100.37 73.0985 1102.29 Q72.3115 1104.19 70.205 1106.78 Q69.6263 1107.45 66.5245 1110.67 Q63.4226 1113.86 57.7745 1119.63 Z\" fill=\"#000000\" fill-rule=\"nonzero\" fill-opacity=\"1\" /><path clip-path=\"url(#clip560)\" d=\"M93.9086 1092.08 Q90.2975 1092.08 88.4688 1095.64 Q86.6632 1099.19 86.6632 1106.32 Q86.6632 1113.42 88.4688 1116.99 Q90.2975 1120.53 93.9086 1120.53 Q97.5428 1120.53 99.3483 1116.99 Q101.177 1113.42 101.177 1106.32 Q101.177 1099.19 99.3483 1095.64 Q97.5428 1092.08 93.9086 1092.08 M93.9086 1088.38 Q99.7187 1088.38 102.774 1092.98 Q105.853 1097.57 105.853 1106.32 Q105.853 1115.04 102.774 1119.65 Q99.7187 1124.23 93.9086 1124.23 Q88.0984 1124.23 85.0197 1119.65 Q81.9642 1115.04 81.9642 1106.32 Q81.9642 1097.57 85.0197 1092.98 Q88.0984 1088.38 93.9086 1088.38 Z\" fill=\"#000000\" fill-rule=\"nonzero\" fill-opacity=\"1\" /><path clip-path=\"url(#clip560)\" d=\"M124.07 1092.08 Q120.459 1092.08 118.631 1095.64 Q116.825 1099.19 116.825 1106.32 Q116.825 1113.42 118.631 1116.99 Q120.459 1120.53 124.07 1120.53 Q127.705 1120.53 129.51 1116.99 Q131.339 1113.42 131.339 1106.32 Q131.339 1099.19 129.51 1095.64 Q127.705 1092.08 124.07 1092.08 M124.07 1088.38 Q129.881 1088.38 132.936 1092.98 Q136.015 1097.57 136.015 1106.32 Q136.015 1115.04 132.936 1119.65 Q129.881 1124.23 124.07 1124.23 Q118.26 1124.23 115.182 1119.65 Q112.126 1115.04 112.126 1106.32 Q112.126 1097.57 115.182 1092.98 Q118.26 1088.38 124.07 1088.38 Z\" fill=\"#000000\" fill-rule=\"nonzero\" fill-opacity=\"1\" /><path clip-path=\"url(#clip560)\" d=\"M67.9133 765.492 Q71.2698 766.209 73.1448 768.478 Q75.0429 770.746 75.0429 774.08 Q75.0429 779.195 71.5244 781.996 Q68.0059 784.797 61.5245 784.797 Q59.3486 784.797 57.0338 784.357 Q54.7421 783.941 52.2884 783.084 L52.2884 778.57 Q54.2328 779.705 56.5477 780.283 Q58.8625 780.862 61.3856 780.862 Q65.7837 780.862 68.0754 779.126 Q70.3902 777.39 70.3902 774.08 Q70.3902 771.024 68.2374 769.311 Q66.1078 767.575 62.2884 767.575 L58.2606 767.575 L58.2606 763.733 L62.4735 763.733 Q65.9226 763.733 67.7513 762.367 Q69.58 760.978 69.58 758.385 Q69.58 755.723 67.6819 754.311 Q65.8069 752.876 62.2884 752.876 Q60.3671 752.876 58.168 753.293 Q55.969 753.709 53.3301 754.589 L53.3301 750.422 Q55.9921 749.682 58.3069 749.311 Q60.6449 748.941 62.705 748.941 Q68.0291 748.941 71.1309 751.372 Q74.2327 753.779 74.2327 757.899 Q74.2327 760.77 72.5892 762.76 Q70.9457 764.728 67.9133 765.492 Z\" fill=\"#000000\" fill-rule=\"nonzero\" fill-opacity=\"1\" /><path clip-path=\"url(#clip560)\" d=\"M93.9086 752.645 Q90.2975 752.645 88.4688 756.209 Q86.6632 759.751 86.6632 766.881 Q86.6632 773.987 88.4688 777.552 Q90.2975 781.094 93.9086 781.094 Q97.5428 781.094 99.3483 777.552 Q101.177 773.987 101.177 766.881 Q101.177 759.751 99.3483 756.209 Q97.5428 752.645 93.9086 752.645 M93.9086 748.941 Q99.7187 748.941 102.774 753.547 Q105.853 758.131 105.853 766.881 Q105.853 775.608 102.774 780.214 Q99.7187 784.797 93.9086 784.797 Q88.0984 784.797 85.0197 780.214 Q81.9642 775.608 81.9642 766.881 Q81.9642 758.131 85.0197 753.547 Q88.0984 748.941 93.9086 748.941 Z\" fill=\"#000000\" fill-rule=\"nonzero\" fill-opacity=\"1\" /><path clip-path=\"url(#clip560)\" d=\"M124.07 752.645 Q120.459 752.645 118.631 756.209 Q116.825 759.751 116.825 766.881 Q116.825 773.987 118.631 777.552 Q120.459 781.094 124.07 781.094 Q127.705 781.094 129.51 777.552 Q131.339 773.987 131.339 766.881 Q131.339 759.751 129.51 756.209 Q127.705 752.645 124.07 752.645 M124.07 748.941 Q129.881 748.941 132.936 753.547 Q136.015 758.131 136.015 766.881 Q136.015 775.608 132.936 780.214 Q129.881 784.797 124.07 784.797 Q118.26 784.797 115.182 780.214 Q112.126 775.608 112.126 766.881 Q112.126 758.131 115.182 753.547 Q118.26 748.941 124.07 748.941 Z\" fill=\"#000000\" fill-rule=\"nonzero\" fill-opacity=\"1\" /><path clip-path=\"url(#clip560)\" d=\"M66.5939 414.205 L54.7884 432.654 L66.5939 432.654 L66.5939 414.205 M65.367 410.131 L71.2466 410.131 L71.2466 432.654 L76.1772 432.654 L76.1772 436.543 L71.2466 436.543 L71.2466 444.691 L66.5939 444.691 L66.5939 436.543 L50.9921 436.543 L50.9921 432.029 L65.367 410.131 Z\" fill=\"#000000\" fill-rule=\"nonzero\" fill-opacity=\"1\" /><path clip-path=\"url(#clip560)\" d=\"M93.9086 413.21 Q90.2975 413.21 88.4688 416.775 Q86.6632 420.316 86.6632 427.446 Q86.6632 434.552 88.4688 438.117 Q90.2975 441.659 93.9086 441.659 Q97.5428 441.659 99.3483 438.117 Q101.177 434.552 101.177 427.446 Q101.177 420.316 99.3483 416.775 Q97.5428 413.21 93.9086 413.21 M93.9086 409.506 Q99.7187 409.506 102.774 414.113 Q105.853 418.696 105.853 427.446 Q105.853 436.173 102.774 440.779 Q99.7187 445.362 93.9086 445.362 Q88.0984 445.362 85.0197 440.779 Q81.9642 436.173 81.9642 427.446 Q81.9642 418.696 85.0197 414.113 Q88.0984 409.506 93.9086 409.506 Z\" fill=\"#000000\" fill-rule=\"nonzero\" fill-opacity=\"1\" /><path clip-path=\"url(#clip560)\" d=\"M124.07 413.21 Q120.459 413.21 118.631 416.775 Q116.825 420.316 116.825 427.446 Q116.825 434.552 118.631 438.117 Q120.459 441.659 124.07 441.659 Q127.705 441.659 129.51 438.117 Q131.339 434.552 131.339 427.446 Q131.339 420.316 129.51 416.775 Q127.705 413.21 124.07 413.21 M124.07 409.506 Q129.881 409.506 132.936 414.113 Q136.015 418.696 136.015 427.446 Q136.015 436.173 132.936 440.779 Q129.881 445.362 124.07 445.362 Q118.26 445.362 115.182 440.779 Q112.126 436.173 112.126 427.446 Q112.126 418.696 115.182 414.113 Q118.26 409.506 124.07 409.506 Z\" fill=\"#000000\" fill-rule=\"nonzero\" fill-opacity=\"1\" /><path clip-path=\"url(#clip560)\" d=\"M53.793 70.6963 L72.1494 70.6963 L72.1494 74.6314 L58.0754 74.6314 L58.0754 83.1036 Q59.0939 82.7564 60.1124 82.5944 Q61.131 82.4092 62.1495 82.4092 Q67.9365 82.4092 71.3161 85.5805 Q74.6957 88.7517 74.6957 94.1684 Q74.6957 99.747 71.2235 102.849 Q67.7513 105.928 61.4319 105.928 Q59.256 105.928 56.9875 105.557 Q54.7421 105.187 52.3347 104.446 L52.3347 99.747 Q54.418 100.881 56.6402 101.437 Q58.8625 101.992 61.3393 101.992 Q65.3439 101.992 67.6819 99.8859 Q70.0198 97.7795 70.0198 94.1684 Q70.0198 90.5573 67.6819 88.4508 Q65.3439 86.3443 61.3393 86.3443 Q59.4643 86.3443 57.5893 86.761 Q55.7375 87.1777 53.793 88.0573 L53.793 70.6963 Z\" fill=\"#000000\" fill-rule=\"nonzero\" fill-opacity=\"1\" /><path clip-path=\"url(#clip560)\" d=\"M93.9086 73.775 Q90.2975 73.775 88.4688 77.3398 Q86.6632 80.8814 86.6632 88.011 Q86.6632 95.1174 88.4688 98.6822 Q90.2975 102.224 93.9086 102.224 Q97.5428 102.224 99.3483 98.6822 Q101.177 95.1174 101.177 88.011 Q101.177 80.8814 99.3483 77.3398 Q97.5428 73.775 93.9086 73.775 M93.9086 70.0713 Q99.7187 70.0713 102.774 74.6777 Q105.853 79.261 105.853 88.011 Q105.853 96.7378 102.774 101.344 Q99.7187 105.928 93.9086 105.928 Q88.0984 105.928 85.0197 101.344 Q81.9642 96.7378 81.9642 88.011 Q81.9642 79.261 85.0197 74.6777 Q88.0984 70.0713 93.9086 70.0713 Z\" fill=\"#000000\" fill-rule=\"nonzero\" fill-opacity=\"1\" /><path clip-path=\"url(#clip560)\" d=\"M124.07 73.775 Q120.459 73.775 118.631 77.3398 Q116.825 80.8814 116.825 88.011 Q116.825 95.1174 118.631 98.6822 Q120.459 102.224 124.07 102.224 Q127.705 102.224 129.51 98.6822 Q131.339 95.1174 131.339 88.011 Q131.339 80.8814 129.51 77.3398 Q127.705 73.775 124.07 73.775 M124.07 70.0713 Q129.881 70.0713 132.936 74.6777 Q136.015 79.261 136.015 88.011 Q136.015 96.7378 132.936 101.344 Q129.881 105.928 124.07 105.928 Q118.26 105.928 115.182 101.344 Q112.126 96.7378 112.126 88.011 Q112.126 79.261 115.182 74.6777 Q118.26 70.0713 124.07 70.0713 Z\" fill=\"#000000\" fill-rule=\"nonzero\" fill-opacity=\"1\" /><circle clip-path=\"url(#clip562)\" cx=\"233.734\" cy=\"597.129\" r=\"21.6\" fill=\"#40e0d0\" fill-rule=\"evenodd\" fill-opacity=\"1\" stroke=\"none\"/>\n",
       "<circle clip-path=\"url(#clip562)\" cx=\"527.634\" cy=\"1445.72\" r=\"21.6\" fill=\"#40e0d0\" fill-rule=\"evenodd\" fill-opacity=\"1\" stroke=\"none\"/>\n",
       "<circle clip-path=\"url(#clip562)\" cx=\"527.634\" cy=\"1276\" r=\"21.6\" fill=\"#40e0d0\" fill-rule=\"evenodd\" fill-opacity=\"1\" stroke=\"none\"/>\n",
       "<circle clip-path=\"url(#clip562)\" cx=\"527.634\" cy=\"766.846\" r=\"21.6\" fill=\"#40e0d0\" fill-rule=\"evenodd\" fill-opacity=\"1\" stroke=\"none\"/>\n",
       "<circle clip-path=\"url(#clip562)\" cx=\"527.634\" cy=\"597.129\" r=\"21.6\" fill=\"#40e0d0\" fill-rule=\"evenodd\" fill-opacity=\"1\" stroke=\"none\"/>\n",
       "<circle clip-path=\"url(#clip562)\" cx=\"527.634\" cy=\"427.411\" r=\"21.6\" fill=\"#40e0d0\" fill-rule=\"evenodd\" fill-opacity=\"1\" stroke=\"none\"/>\n",
       "<circle clip-path=\"url(#clip562)\" cx=\"527.634\" cy=\"257.694\" r=\"21.6\" fill=\"#40e0d0\" fill-rule=\"evenodd\" fill-opacity=\"1\" stroke=\"none\"/>\n",
       "<circle clip-path=\"url(#clip562)\" cx=\"821.535\" cy=\"1445.72\" r=\"21.6\" fill=\"#40e0d0\" fill-rule=\"evenodd\" fill-opacity=\"1\" stroke=\"none\"/>\n",
       "<circle clip-path=\"url(#clip562)\" cx=\"821.535\" cy=\"1276\" r=\"21.6\" fill=\"#40e0d0\" fill-rule=\"evenodd\" fill-opacity=\"1\" stroke=\"none\"/>\n",
       "<circle clip-path=\"url(#clip562)\" cx=\"821.535\" cy=\"597.129\" r=\"21.6\" fill=\"#40e0d0\" fill-rule=\"evenodd\" fill-opacity=\"1\" stroke=\"none\"/>\n",
       "<circle clip-path=\"url(#clip562)\" cx=\"821.535\" cy=\"427.411\" r=\"21.6\" fill=\"#40e0d0\" fill-rule=\"evenodd\" fill-opacity=\"1\" stroke=\"none\"/>\n",
       "<circle clip-path=\"url(#clip562)\" cx=\"821.535\" cy=\"257.694\" r=\"21.6\" fill=\"#40e0d0\" fill-rule=\"evenodd\" fill-opacity=\"1\" stroke=\"none\"/>\n",
       "<circle clip-path=\"url(#clip562)\" cx=\"1115.44\" cy=\"257.694\" r=\"21.6\" fill=\"#40e0d0\" fill-rule=\"evenodd\" fill-opacity=\"1\" stroke=\"none\"/>\n",
       "<circle clip-path=\"url(#clip562)\" cx=\"1409.34\" cy=\"936.563\" r=\"21.6\" fill=\"#40e0d0\" fill-rule=\"evenodd\" fill-opacity=\"1\" stroke=\"none\"/>\n",
       "<circle clip-path=\"url(#clip562)\" cx=\"1409.34\" cy=\"257.694\" r=\"21.6\" fill=\"#40e0d0\" fill-rule=\"evenodd\" fill-opacity=\"1\" stroke=\"none\"/>\n",
       "<circle clip-path=\"url(#clip562)\" cx=\"1409.34\" cy=\"87.9763\" r=\"21.6\" fill=\"#40e0d0\" fill-rule=\"evenodd\" fill-opacity=\"1\" stroke=\"none\"/>\n",
       "<circle clip-path=\"url(#clip562)\" cx=\"1703.24\" cy=\"1106.28\" r=\"21.6\" fill=\"#40e0d0\" fill-rule=\"evenodd\" fill-opacity=\"1\" stroke=\"none\"/>\n",
       "<circle clip-path=\"url(#clip562)\" cx=\"1703.24\" cy=\"936.563\" r=\"21.6\" fill=\"#40e0d0\" fill-rule=\"evenodd\" fill-opacity=\"1\" stroke=\"none\"/>\n",
       "<circle clip-path=\"url(#clip562)\" cx=\"1703.24\" cy=\"766.846\" r=\"21.6\" fill=\"#40e0d0\" fill-rule=\"evenodd\" fill-opacity=\"1\" stroke=\"none\"/>\n",
       "<circle clip-path=\"url(#clip562)\" cx=\"1703.24\" cy=\"257.694\" r=\"21.6\" fill=\"#40e0d0\" fill-rule=\"evenodd\" fill-opacity=\"1\" stroke=\"none\"/>\n",
       "<circle clip-path=\"url(#clip562)\" cx=\"1703.24\" cy=\"87.9763\" r=\"21.6\" fill=\"#40e0d0\" fill-rule=\"evenodd\" fill-opacity=\"1\" stroke=\"none\"/>\n",
       "<circle clip-path=\"url(#clip562)\" cx=\"1997.14\" cy=\"257.694\" r=\"21.6\" fill=\"#40e0d0\" fill-rule=\"evenodd\" fill-opacity=\"1\" stroke=\"none\"/>\n",
       "<circle clip-path=\"url(#clip562)\" cx=\"1997.14\" cy=\"87.9763\" r=\"21.6\" fill=\"#40e0d0\" fill-rule=\"evenodd\" fill-opacity=\"1\" stroke=\"none\"/>\n",
       "<circle clip-path=\"url(#clip562)\" cx=\"2291.04\" cy=\"257.694\" r=\"21.6\" fill=\"#40e0d0\" fill-rule=\"evenodd\" fill-opacity=\"1\" stroke=\"none\"/>\n",
       "<circle clip-path=\"url(#clip562)\" cx=\"2291.04\" cy=\"87.9763\" r=\"21.6\" fill=\"#40e0d0\" fill-rule=\"evenodd\" fill-opacity=\"1\" stroke=\"none\"/>\n",
       "<path clip-path=\"url(#clip562)\" d=\"M852.161 243.46 L852.161 291.46 L900.161 291.46 L900.161 243.46 L852.161 243.46 Z\" fill=\"#cd919e\" fill-rule=\"evenodd\" fill-opacity=\"1\" stroke=\"none\"/>\n",
       "<path clip-path=\"url(#clip562)\" d=\"M921.65 244.241 L921.65 292.241 L969.65 292.241 L969.65 244.241 L921.65 244.241 Z\" fill=\"#cd919e\" fill-rule=\"evenodd\" fill-opacity=\"1\" stroke=\"none\"/>\n",
       "<path clip-path=\"url(#clip562)\" d=\"M736.352 284.277 L736.352 332.277 L784.352 332.277 L784.352 284.277 L736.352 284.277 Z\" fill=\"#cd919e\" fill-rule=\"evenodd\" fill-opacity=\"1\" stroke=\"none\"/>\n",
       "<path clip-path=\"url(#clip562)\" d=\"M2113.78 69.6359 L2113.78 117.636 L2161.78 117.636 L2161.78 69.6359 L2113.78 69.6359 Z\" fill=\"#cd919e\" fill-rule=\"evenodd\" fill-opacity=\"1\" stroke=\"none\"/>\n",
       "<path clip-path=\"url(#clip562)\" d=\"M2129.1 118.856 L2129.1 166.856 L2177.1 166.856 L2177.1 118.856 L2129.1 118.856 Z\" fill=\"#cd919e\" fill-rule=\"evenodd\" fill-opacity=\"1\" stroke=\"none\"/>\n",
       "<path clip-path=\"url(#clip562)\" d=\"M2139.62 88.0412 L2139.62 136.041 L2187.62 136.041 L2187.62 88.0412 L2139.62 88.0412 Z\" fill=\"#cd919e\" fill-rule=\"evenodd\" fill-opacity=\"1\" stroke=\"none\"/>\n",
       "<path clip-path=\"url(#clip562)\" d=\"M2027.03 67.9145 L2027.03 115.914 L2075.03 115.914 L2075.03 67.9145 L2027.03 67.9145 Z\" fill=\"#cd919e\" fill-rule=\"evenodd\" fill-opacity=\"1\" stroke=\"none\"/>\n",
       "<path clip-path=\"url(#clip562)\" d=\"M423.447 571.235 L423.447 619.235 L471.447 619.235 L471.447 571.235 L423.447 571.235 Z\" fill=\"#cd919e\" fill-rule=\"evenodd\" fill-opacity=\"1\" stroke=\"none\"/>\n",
       "<path clip-path=\"url(#clip562)\" d=\"M486.532 602.59 L486.532 650.59 L534.532 650.59 L534.532 602.59 L486.532 602.59 Z\" fill=\"#cd919e\" fill-rule=\"evenodd\" fill-opacity=\"1\" stroke=\"none\"/>\n",
       "<path clip-path=\"url(#clip562)\" d=\"M535.851 523.274 L535.851 571.274 L583.851 571.274 L583.851 523.274 L535.851 523.274 Z\" fill=\"#cd919e\" fill-rule=\"evenodd\" fill-opacity=\"1\" stroke=\"none\"/>\n",
       "<path clip-path=\"url(#clip562)\" d=\"M1740.2 162.699 L1740.2 210.699 L1788.2 210.699 L1788.2 162.699 L1740.2 162.699 Z\" fill=\"#cd919e\" fill-rule=\"evenodd\" fill-opacity=\"1\" stroke=\"none\"/>\n",
       "<path clip-path=\"url(#clip562)\" d=\"M1740.23 133.393 L1740.23 181.393 L1788.23 181.393 L1788.23 133.393 L1740.23 133.393 Z\" fill=\"#cd919e\" fill-rule=\"evenodd\" fill-opacity=\"1\" stroke=\"none\"/>\n",
       "<path clip-path=\"url(#clip562)\" d=\"M1663.13 186.14 L1663.13 234.14 L1711.13 234.14 L1711.13 186.14 L1663.13 186.14 Z\" fill=\"#cd919e\" fill-rule=\"evenodd\" fill-opacity=\"1\" stroke=\"none\"/>\n",
       "<path clip-path=\"url(#clip562)\" d=\"M1623.29 212.299 L1623.29 260.299 L1671.29 260.299 L1671.29 212.299 L1623.29 212.299 Z\" fill=\"#cd919e\" fill-rule=\"evenodd\" fill-opacity=\"1\" stroke=\"none\"/>\n",
       "<path clip-path=\"url(#clip562)\" d=\"M1835.87 214.732 L1835.87 262.732 L1883.87 262.732 L1883.87 214.732 L1835.87 214.732 Z\" fill=\"#cd919e\" fill-rule=\"evenodd\" fill-opacity=\"1\" stroke=\"none\"/>\n",
       "<path clip-path=\"url(#clip562)\" d=\"M1620.05 148.889 L1620.05 196.889 L1668.05 196.889 L1668.05 148.889 L1620.05 148.889 Z\" fill=\"#cd919e\" fill-rule=\"evenodd\" fill-opacity=\"1\" stroke=\"none\"/>\n",
       "<path clip-path=\"url(#clip562)\" d=\"M1688.9 85.4511 L1688.9 133.451 L1736.9 133.451 L1736.9 85.4511 L1688.9 85.4511 Z\" fill=\"#cd919e\" fill-rule=\"evenodd\" fill-opacity=\"1\" stroke=\"none\"/>\n",
       "<path clip-path=\"url(#clip562)\" d=\"M1659.88 95.6506 L1659.88 143.651 L1707.88 143.651 L1707.88 95.6506 L1659.88 95.6506 Z\" fill=\"#cd919e\" fill-rule=\"evenodd\" fill-opacity=\"1\" stroke=\"none\"/>\n",
       "<path clip-path=\"url(#clip562)\" d=\"M1576.44 107.516 L1576.44 155.516 L1624.44 155.516 L1624.44 107.516 L1576.44 107.516 Z\" fill=\"#cd919e\" fill-rule=\"evenodd\" fill-opacity=\"1\" stroke=\"none\"/>\n",
       "<path clip-path=\"url(#clip562)\" d=\"M1646.71 926.852 L1646.71 974.852 L1694.71 974.852 L1694.71 926.852 L1646.71 926.852 Z\" fill=\"#cd919e\" fill-rule=\"evenodd\" fill-opacity=\"1\" stroke=\"none\"/>\n",
       "<path clip-path=\"url(#clip562)\" d=\"M1537.83 892.183 L1537.83 940.183 L1585.83 940.183 L1585.83 892.183 L1537.83 892.183 Z\" fill=\"#cd919e\" fill-rule=\"evenodd\" fill-opacity=\"1\" stroke=\"none\"/>\n",
       "<path clip-path=\"url(#clip562)\" d=\"M1573.04 891.549 L1573.04 939.549 L1621.04 939.549 L1621.04 891.549 L1573.04 891.549 Z\" fill=\"#cd919e\" fill-rule=\"evenodd\" fill-opacity=\"1\" stroke=\"none\"/>\n",
       "<path clip-path=\"url(#clip562)\" d=\"M1631.55 978.882 L1631.55 1026.88 L1679.55 1026.88 L1679.55 978.882 L1631.55 978.882 Z\" fill=\"#cd919e\" fill-rule=\"evenodd\" fill-opacity=\"1\" stroke=\"none\"/>\n",
       "<path clip-path=\"url(#clip562)\" d=\"M644.132 1287.09 L644.132 1335.09 L692.132 1335.09 L692.132 1287.09 L644.132 1287.09 Z\" fill=\"#cd919e\" fill-rule=\"evenodd\" fill-opacity=\"1\" stroke=\"none\"/>\n",
       "<path clip-path=\"url(#clip562)\" d=\"M592.415 1261.88 L592.415 1309.88 L640.415 1309.88 L640.415 1261.88 L592.415 1261.88 Z\" fill=\"#cd919e\" fill-rule=\"evenodd\" fill-opacity=\"1\" stroke=\"none\"/>\n",
       "<polyline clip-path=\"url(#clip562)\" style=\"stroke:#006400; stroke-linecap:round; stroke-linejoin:round; stroke-width:8; stroke-opacity:1; fill:none\" points=\"1191.78,853.315 876.161,267.46 \"/>\n",
       "<polyline clip-path=\"url(#clip562)\" style=\"stroke:#006400; stroke-linecap:round; stroke-linejoin:round; stroke-width:8; stroke-opacity:1; fill:none\" points=\"877.389,307.691 876.161,267.46 909.082,290.616 \"/>\n",
       "<polyline clip-path=\"url(#clip562)\" style=\"stroke:#006400; stroke-linecap:round; stroke-linejoin:round; stroke-width:8; stroke-opacity:1; fill:none\" points=\"876.161,267.46 1191.78,853.315 \"/>\n",
       "<polyline clip-path=\"url(#clip562)\" style=\"stroke:#006400; stroke-linecap:round; stroke-linejoin:round; stroke-width:8; stroke-opacity:1; fill:none\" points=\"876.161,267.46 945.65,268.241 \"/>\n",
       "<polyline clip-path=\"url(#clip562)\" style=\"stroke:#006400; stroke-linecap:round; stroke-linejoin:round; stroke-width:8; stroke-opacity:1; fill:none\" points=\"909.855,249.838 945.65,268.241 909.45,285.835 \"/>\n",
       "<polyline clip-path=\"url(#clip562)\" style=\"stroke:#006400; stroke-linecap:round; stroke-linejoin:round; stroke-width:8; stroke-opacity:1; fill:none\" points=\"945.65,268.241 876.161,267.46 \"/>\n",
       "<polyline clip-path=\"url(#clip562)\" style=\"stroke:#006400; stroke-linecap:round; stroke-linejoin:round; stroke-width:8; stroke-opacity:1; fill:none\" points=\"945.65,268.241 760.352,308.277 \"/>\n",
       "<polyline clip-path=\"url(#clip562)\" style=\"stroke:#006400; stroke-linecap:round; stroke-linejoin:round; stroke-width:8; stroke-opacity:1; fill:none\" points=\"799.341,318.268 760.352,308.277 791.739,283.08 \"/>\n",
       "<polyline clip-path=\"url(#clip562)\" style=\"stroke:#006400; stroke-linecap:round; stroke-linejoin:round; stroke-width:8; stroke-opacity:1; fill:none\" points=\"760.352,308.277 945.65,268.241 \"/>\n",
       "<polyline clip-path=\"url(#clip562)\" style=\"stroke:#006400; stroke-linecap:round; stroke-linejoin:round; stroke-width:8; stroke-opacity:1; fill:none\" points=\"760.352,308.277 1191.78,853.315 \"/>\n",
       "<polyline clip-path=\"url(#clip562)\" style=\"stroke:#006400; stroke-linecap:round; stroke-linejoin:round; stroke-width:8; stroke-opacity:1; fill:none\" points=\"1183.55,813.916 1191.78,853.315 1155.32,836.26 \"/>\n",
       "<polyline clip-path=\"url(#clip562)\" style=\"stroke:#006400; stroke-linecap:round; stroke-linejoin:round; stroke-width:8; stroke-opacity:1; fill:none\" points=\"1191.78,853.315 760.352,308.277 \"/>\n",
       "<polyline clip-path=\"url(#clip562)\" style=\"stroke:#1e90ff; stroke-linecap:round; stroke-linejoin:round; stroke-width:8; stroke-opacity:1; fill:none\" points=\"1191.78,853.315 447.447,595.235 \"/>\n",
       "<polyline clip-path=\"url(#clip562)\" style=\"stroke:#1e90ff; stroke-linecap:round; stroke-linejoin:round; stroke-width:8; stroke-opacity:1; fill:none\" points=\"475.564,624.035 447.447,595.235 487.357,590.021 \"/>\n",
       "<polyline clip-path=\"url(#clip562)\" style=\"stroke:#1e90ff; stroke-linecap:round; stroke-linejoin:round; stroke-width:8; stroke-opacity:1; fill:none\" points=\"447.447,595.235 1191.78,853.315 \"/>\n",
       "<polyline clip-path=\"url(#clip562)\" style=\"stroke:#1e90ff; stroke-linecap:round; stroke-linejoin:round; stroke-width:8; stroke-opacity:1; fill:none\" points=\"447.447,595.235 510.532,626.59 \"/>\n",
       "<polyline clip-path=\"url(#clip562)\" style=\"stroke:#1e90ff; stroke-linecap:round; stroke-linejoin:round; stroke-width:8; stroke-opacity:1; fill:none\" points=\"486.306,594.448 510.532,626.59 470.283,626.686 \"/>\n",
       "<polyline clip-path=\"url(#clip562)\" style=\"stroke:#1e90ff; stroke-linecap:round; stroke-linejoin:round; stroke-width:8; stroke-opacity:1; fill:none\" points=\"510.532,626.59 447.447,595.235 \"/>\n",
       "<polyline clip-path=\"url(#clip562)\" style=\"stroke:#1e90ff; stroke-linecap:round; stroke-linejoin:round; stroke-width:8; stroke-opacity:1; fill:none\" points=\"510.532,626.59 559.851,547.274 \"/>\n",
       "<polyline clip-path=\"url(#clip562)\" style=\"stroke:#1e90ff; stroke-linecap:round; stroke-linejoin:round; stroke-width:8; stroke-opacity:1; fill:none\" points=\"525.555,568.341 559.851,547.274 556.127,587.35 \"/>\n",
       "<polyline clip-path=\"url(#clip562)\" style=\"stroke:#1e90ff; stroke-linecap:round; stroke-linejoin:round; stroke-width:8; stroke-opacity:1; fill:none\" points=\"559.851,547.274 510.532,626.59 \"/>\n",
       "<polyline clip-path=\"url(#clip562)\" style=\"stroke:#1e90ff; stroke-linecap:round; stroke-linejoin:round; stroke-width:8; stroke-opacity:1; fill:none\" points=\"559.851,547.274 1191.78,853.315 \"/>\n",
       "<polyline clip-path=\"url(#clip562)\" style=\"stroke:#1e90ff; stroke-linecap:round; stroke-linejoin:round; stroke-width:8; stroke-opacity:1; fill:none\" points=\"1167.23,821.424 1191.78,853.315 1151.53,853.824 \"/>\n",
       "<polyline clip-path=\"url(#clip562)\" style=\"stroke:#1e90ff; stroke-linecap:round; stroke-linejoin:round; stroke-width:8; stroke-opacity:1; fill:none\" points=\"1191.78,853.315 559.851,547.274 \"/>\n",
       "<polyline clip-path=\"url(#clip562)\" style=\"stroke:#8b795e; stroke-linecap:round; stroke-linejoin:round; stroke-width:8; stroke-opacity:1; fill:none\" points=\"1191.78,853.315 2137.78,93.6359 \"/>\n",
       "<polyline clip-path=\"url(#clip562)\" style=\"stroke:#8b795e; stroke-linecap:round; stroke-linejoin:round; stroke-width:8; stroke-opacity:1; fill:none\" points=\"2098.44,102.142 2137.78,93.6359 2120.98,130.212 \"/>\n",
       "<polyline clip-path=\"url(#clip562)\" style=\"stroke:#8b795e; stroke-linecap:round; stroke-linejoin:round; stroke-width:8; stroke-opacity:1; fill:none\" points=\"2137.78,93.6359 1191.78,853.315 \"/>\n",
       "<polyline clip-path=\"url(#clip562)\" style=\"stroke:#8b795e; stroke-linecap:round; stroke-linejoin:round; stroke-width:8; stroke-opacity:1; fill:none\" points=\"2137.78,93.6359 2153.1,142.856 \"/>\n",
       "<polyline clip-path=\"url(#clip562)\" style=\"stroke:#8b795e; stroke-linecap:round; stroke-linejoin:round; stroke-width:8; stroke-opacity:1; fill:none\" points=\"2159.59,103.133 2153.1,142.856 2125.22,113.83 \"/>\n",
       "<polyline clip-path=\"url(#clip562)\" style=\"stroke:#8b795e; stroke-linecap:round; stroke-linejoin:round; stroke-width:8; stroke-opacity:1; fill:none\" points=\"2153.1,142.856 2137.78,93.6359 \"/>\n",
       "<polyline clip-path=\"url(#clip562)\" style=\"stroke:#8b795e; stroke-linecap:round; stroke-linejoin:round; stroke-width:8; stroke-opacity:1; fill:none\" points=\"2153.1,142.856 2163.62,112.041 \"/>\n",
       "<polyline clip-path=\"url(#clip562)\" style=\"stroke:#8b795e; stroke-linecap:round; stroke-linejoin:round; stroke-width:8; stroke-opacity:1; fill:none\" points=\"2134.95,140.298 2163.62,112.041 2169.02,151.926 \"/>\n",
       "<polyline clip-path=\"url(#clip562)\" style=\"stroke:#8b795e; stroke-linecap:round; stroke-linejoin:round; stroke-width:8; stroke-opacity:1; fill:none\" points=\"2163.62,112.041 2153.1,142.856 \"/>\n",
       "<polyline clip-path=\"url(#clip562)\" style=\"stroke:#8b795e; stroke-linecap:round; stroke-linejoin:round; stroke-width:8; stroke-opacity:1; fill:none\" points=\"2163.62,112.041 2051.03,91.9145 \"/>\n",
       "<polyline clip-path=\"url(#clip562)\" style=\"stroke:#8b795e; stroke-linecap:round; stroke-linejoin:round; stroke-width:8; stroke-opacity:1; fill:none\" points=\"2083.3,115.969 2051.03,91.9145 2089.64,80.5305 \"/>\n",
       "<polyline clip-path=\"url(#clip562)\" style=\"stroke:#8b795e; stroke-linecap:round; stroke-linejoin:round; stroke-width:8; stroke-opacity:1; fill:none\" points=\"2051.03,91.9145 2163.62,112.041 \"/>\n",
       "<polyline clip-path=\"url(#clip562)\" style=\"stroke:#8b795e; stroke-linecap:round; stroke-linejoin:round; stroke-width:8; stroke-opacity:1; fill:none\" points=\"2051.03,91.9145 1191.78,853.315 \"/>\n",
       "<polyline clip-path=\"url(#clip562)\" style=\"stroke:#8b795e; stroke-linecap:round; stroke-linejoin:round; stroke-width:8; stroke-opacity:1; fill:none\" points=\"1230.66,842.911 1191.78,853.315 1206.79,815.968 \"/>\n",
       "<polyline clip-path=\"url(#clip562)\" style=\"stroke:#8b795e; stroke-linecap:round; stroke-linejoin:round; stroke-width:8; stroke-opacity:1; fill:none\" points=\"1191.78,853.315 2051.03,91.9145 \"/>\n",
       "<polyline clip-path=\"url(#clip562)\" style=\"stroke:#b22222; stroke-linecap:round; stroke-linejoin:round; stroke-width:8; stroke-opacity:1; fill:none\" points=\"1191.78,853.315 1670.71,950.852 \"/>\n",
       "<polyline clip-path=\"url(#clip562)\" style=\"stroke:#b22222; stroke-linecap:round; stroke-linejoin:round; stroke-width:8; stroke-opacity:1; fill:none\" points=\"1639.03,926.03 1670.71,950.852 1631.84,961.306 \"/>\n",
       "<polyline clip-path=\"url(#clip562)\" style=\"stroke:#b22222; stroke-linecap:round; stroke-linejoin:round; stroke-width:8; stroke-opacity:1; fill:none\" points=\"1670.71,950.852 1191.78,853.315 \"/>\n",
       "<polyline clip-path=\"url(#clip562)\" style=\"stroke:#b22222; stroke-linecap:round; stroke-linejoin:round; stroke-width:8; stroke-opacity:1; fill:none\" points=\"1670.71,950.852 1561.83,916.183 \"/>\n",
       "<polyline clip-path=\"url(#clip562)\" style=\"stroke:#b22222; stroke-linecap:round; stroke-linejoin:round; stroke-width:8; stroke-opacity:1; fill:none\" points=\"1590.67,944.257 1561.83,916.183 1601.59,909.954 \"/>\n",
       "<polyline clip-path=\"url(#clip562)\" style=\"stroke:#b22222; stroke-linecap:round; stroke-linejoin:round; stroke-width:8; stroke-opacity:1; fill:none\" points=\"1561.83,916.183 1670.71,950.852 \"/>\n",
       "<polyline clip-path=\"url(#clip562)\" style=\"stroke:#b22222; stroke-linecap:round; stroke-linejoin:round; stroke-width:8; stroke-opacity:1; fill:none\" points=\"1561.83,916.183 1597.04,915.549 \"/>\n",
       "<polyline clip-path=\"url(#clip562)\" style=\"stroke:#b22222; stroke-linecap:round; stroke-linejoin:round; stroke-width:8; stroke-opacity:1; fill:none\" points=\"1560.73,898.2 1597.04,915.549 1561.37,934.194 \"/>\n",
       "<polyline clip-path=\"url(#clip562)\" style=\"stroke:#b22222; stroke-linecap:round; stroke-linejoin:round; stroke-width:8; stroke-opacity:1; fill:none\" points=\"1597.04,915.549 1561.83,916.183 \"/>\n",
       "<polyline clip-path=\"url(#clip562)\" style=\"stroke:#b22222; stroke-linecap:round; stroke-linejoin:round; stroke-width:8; stroke-opacity:1; fill:none\" points=\"1597.04,915.549 1655.55,1002.88 \"/>\n",
       "<polyline clip-path=\"url(#clip562)\" style=\"stroke:#b22222; stroke-linecap:round; stroke-linejoin:round; stroke-width:8; stroke-opacity:1; fill:none\" points=\"1650.47,962.955 1655.55,1002.88 1620.56,982.992 \"/>\n",
       "<polyline clip-path=\"url(#clip562)\" style=\"stroke:#b22222; stroke-linecap:round; stroke-linejoin:round; stroke-width:8; stroke-opacity:1; fill:none\" points=\"1655.55,1002.88 1597.04,915.549 \"/>\n",
       "<polyline clip-path=\"url(#clip562)\" style=\"stroke:#b22222; stroke-linecap:round; stroke-linejoin:round; stroke-width:8; stroke-opacity:1; fill:none\" points=\"1655.55,1002.88 1191.78,853.315 \"/>\n",
       "<polyline clip-path=\"url(#clip562)\" style=\"stroke:#b22222; stroke-linecap:round; stroke-linejoin:round; stroke-width:8; stroke-opacity:1; fill:none\" points=\"1220.52,881.496 1191.78,853.315 1231.57,847.234 \"/>\n",
       "<polyline clip-path=\"url(#clip562)\" style=\"stroke:#b22222; stroke-linecap:round; stroke-linejoin:round; stroke-width:8; stroke-opacity:1; fill:none\" points=\"1191.78,853.315 1655.55,1002.88 \"/>\n",
       "<polyline clip-path=\"url(#clip562)\" style=\"stroke:#008080; stroke-linecap:round; stroke-linejoin:round; stroke-width:8; stroke-opacity:1; fill:none\" points=\"1191.78,853.315 668.132,1311.09 \"/>\n",
       "<polyline clip-path=\"url(#clip562)\" style=\"stroke:#008080; stroke-linecap:round; stroke-linejoin:round; stroke-width:8; stroke-opacity:1; fill:none\" points=\"707.082,1300.95 668.132,1311.09 683.388,1273.85 \"/>\n",
       "<polyline clip-path=\"url(#clip562)\" style=\"stroke:#008080; stroke-linecap:round; stroke-linejoin:round; stroke-width:8; stroke-opacity:1; fill:none\" points=\"668.132,1311.09 1191.78,853.315 \"/>\n",
       "<polyline clip-path=\"url(#clip562)\" style=\"stroke:#008080; stroke-linecap:round; stroke-linejoin:round; stroke-width:8; stroke-opacity:1; fill:none\" points=\"668.132,1311.09 616.415,1285.88 \"/>\n",
       "<polyline clip-path=\"url(#clip562)\" style=\"stroke:#008080; stroke-linecap:round; stroke-linejoin:round; stroke-width:8; stroke-opacity:1; fill:none\" points=\"640.885,1317.83 616.415,1285.88 656.663,1285.47 \"/>\n",
       "<polyline clip-path=\"url(#clip562)\" style=\"stroke:#008080; stroke-linecap:round; stroke-linejoin:round; stroke-width:8; stroke-opacity:1; fill:none\" points=\"616.415,1285.88 668.132,1311.09 \"/>\n",
       "<polyline clip-path=\"url(#clip562)\" style=\"stroke:#008080; stroke-linecap:round; stroke-linejoin:round; stroke-width:8; stroke-opacity:1; fill:none\" points=\"616.415,1285.88 1191.78,853.315 \"/>\n",
       "<polyline clip-path=\"url(#clip562)\" style=\"stroke:#008080; stroke-linecap:round; stroke-linejoin:round; stroke-width:8; stroke-opacity:1; fill:none\" points=\"1152.19,860.561 1191.78,853.315 1173.82,889.336 \"/>\n",
       "<polyline clip-path=\"url(#clip562)\" style=\"stroke:#008080; stroke-linecap:round; stroke-linejoin:round; stroke-width:8; stroke-opacity:1; fill:none\" points=\"1191.78,853.315 616.415,1285.88 \"/>\n",
       "<polyline clip-path=\"url(#clip562)\" style=\"stroke:#0000ff; stroke-linecap:round; stroke-linejoin:round; stroke-width:8; stroke-opacity:1; fill:none\" points=\"1191.78,853.315 1764.2,186.699 \"/>\n",
       "<polyline clip-path=\"url(#clip562)\" style=\"stroke:#0000ff; stroke-linecap:round; stroke-linejoin:round; stroke-width:8; stroke-opacity:1; fill:none\" points=\"1727.09,202.285 1764.2,186.699 1754.4,225.738 \"/>\n",
       "<polyline clip-path=\"url(#clip562)\" style=\"stroke:#0000ff; stroke-linecap:round; stroke-linejoin:round; stroke-width:8; stroke-opacity:1; fill:none\" points=\"1764.2,186.699 1191.78,853.315 \"/>\n",
       "<polyline clip-path=\"url(#clip562)\" style=\"stroke:#0000ff; stroke-linecap:round; stroke-linejoin:round; stroke-width:8; stroke-opacity:1; fill:none\" points=\"1764.2,186.699 1764.23,157.393 \"/>\n",
       "<polyline clip-path=\"url(#clip562)\" style=\"stroke:#0000ff; stroke-linecap:round; stroke-linejoin:round; stroke-width:8; stroke-opacity:1; fill:none\" points=\"1746.19,193.37 1764.23,157.393 1782.19,193.416 \"/>\n",
       "<polyline clip-path=\"url(#clip562)\" style=\"stroke:#0000ff; stroke-linecap:round; stroke-linejoin:round; stroke-width:8; stroke-opacity:1; fill:none\" points=\"1764.23,157.393 1764.2,186.699 \"/>\n",
       "<polyline clip-path=\"url(#clip562)\" style=\"stroke:#0000ff; stroke-linecap:round; stroke-linejoin:round; stroke-width:8; stroke-opacity:1; fill:none\" points=\"1764.23,157.393 1859.87,238.732 \"/>\n",
       "<polyline clip-path=\"url(#clip562)\" style=\"stroke:#0000ff; stroke-linecap:round; stroke-linejoin:round; stroke-width:8; stroke-opacity:1; fill:none\" points=\"1844.11,201.698 1859.87,238.732 1820.79,229.121 \"/>\n",
       "<polyline clip-path=\"url(#clip562)\" style=\"stroke:#0000ff; stroke-linecap:round; stroke-linejoin:round; stroke-width:8; stroke-opacity:1; fill:none\" points=\"1859.87,238.732 1764.23,157.393 \"/>\n",
       "<polyline clip-path=\"url(#clip562)\" style=\"stroke:#0000ff; stroke-linecap:round; stroke-linejoin:round; stroke-width:8; stroke-opacity:1; fill:none\" points=\"1859.87,238.732 1191.78,853.315 \"/>\n",
       "<polyline clip-path=\"url(#clip562)\" style=\"stroke:#0000ff; stroke-linecap:round; stroke-linejoin:round; stroke-width:8; stroke-opacity:1; fill:none\" points=\"1230.46,842.19 1191.78,853.315 1206.09,815.695 \"/>\n",
       "<polyline clip-path=\"url(#clip562)\" style=\"stroke:#0000ff; stroke-linecap:round; stroke-linejoin:round; stroke-width:8; stroke-opacity:1; fill:none\" points=\"1191.78,853.315 1859.87,238.732 \"/>\n",
       "<polyline clip-path=\"url(#clip562)\" style=\"stroke:#ee3b3b; stroke-linecap:round; stroke-linejoin:round; stroke-width:8; stroke-opacity:1; fill:none\" points=\"1191.78,853.315 1644.05,172.889 \"/>\n",
       "<polyline clip-path=\"url(#clip562)\" style=\"stroke:#ee3b3b; stroke-linecap:round; stroke-linejoin:round; stroke-width:8; stroke-opacity:1; fill:none\" points=\"1609.13,192.906 1644.05,172.889 1639.11,212.834 \"/>\n",
       "<polyline clip-path=\"url(#clip562)\" style=\"stroke:#ee3b3b; stroke-linecap:round; stroke-linejoin:round; stroke-width:8; stroke-opacity:1; fill:none\" points=\"1644.05,172.889 1191.78,853.315 \"/>\n",
       "<polyline clip-path=\"url(#clip562)\" style=\"stroke:#ee3b3b; stroke-linecap:round; stroke-linejoin:round; stroke-width:8; stroke-opacity:1; fill:none\" points=\"1644.05,172.889 1712.9,109.451 \"/>\n",
       "<polyline clip-path=\"url(#clip562)\" style=\"stroke:#ee3b3b; stroke-linecap:round; stroke-linejoin:round; stroke-width:8; stroke-opacity:1; fill:none\" points=\"1674.23,120.607 1712.9,109.451 1698.62,147.083 \"/>\n",
       "<polyline clip-path=\"url(#clip562)\" style=\"stroke:#ee3b3b; stroke-linecap:round; stroke-linejoin:round; stroke-width:8; stroke-opacity:1; fill:none\" points=\"1712.9,109.451 1644.05,172.889 \"/>\n",
       "<polyline clip-path=\"url(#clip562)\" style=\"stroke:#ee3b3b; stroke-linecap:round; stroke-linejoin:round; stroke-width:8; stroke-opacity:1; fill:none\" points=\"1712.9,109.451 1683.88,119.651 \"/>\n",
       "<polyline clip-path=\"url(#clip562)\" style=\"stroke:#ee3b3b; stroke-linecap:round; stroke-linejoin:round; stroke-width:8; stroke-opacity:1; fill:none\" points=\"1723.81,124.697 1683.88,119.651 1711.87,90.7333 \"/>\n",
       "<polyline clip-path=\"url(#clip562)\" style=\"stroke:#ee3b3b; stroke-linecap:round; stroke-linejoin:round; stroke-width:8; stroke-opacity:1; fill:none\" points=\"1683.88,119.651 1712.9,109.451 \"/>\n",
       "<polyline clip-path=\"url(#clip562)\" style=\"stroke:#ee3b3b; stroke-linecap:round; stroke-linejoin:round; stroke-width:8; stroke-opacity:1; fill:none\" points=\"1683.88,119.651 1600.44,131.516 \"/>\n",
       "<polyline clip-path=\"url(#clip562)\" style=\"stroke:#ee3b3b; stroke-linecap:round; stroke-linejoin:round; stroke-width:8; stroke-opacity:1; fill:none\" points=\"1638.62,144.268 1600.44,131.516 1633.55,108.627 \"/>\n",
       "<polyline clip-path=\"url(#clip562)\" style=\"stroke:#ee3b3b; stroke-linecap:round; stroke-linejoin:round; stroke-width:8; stroke-opacity:1; fill:none\" points=\"1600.44,131.516 1683.88,119.651 \"/>\n",
       "<polyline clip-path=\"url(#clip562)\" style=\"stroke:#ee3b3b; stroke-linecap:round; stroke-linejoin:round; stroke-width:8; stroke-opacity:1; fill:none\" points=\"1600.44,131.516 1687.13,210.14 \"/>\n",
       "<polyline clip-path=\"url(#clip562)\" style=\"stroke:#ee3b3b; stroke-linecap:round; stroke-linejoin:round; stroke-width:8; stroke-opacity:1; fill:none\" points=\"1672.56,172.622 1687.13,210.14 1648.37,199.288 \"/>\n",
       "<polyline clip-path=\"url(#clip562)\" style=\"stroke:#ee3b3b; stroke-linecap:round; stroke-linejoin:round; stroke-width:8; stroke-opacity:1; fill:none\" points=\"1687.13,210.14 1600.44,131.516 \"/>\n",
       "<polyline clip-path=\"url(#clip562)\" style=\"stroke:#ee3b3b; stroke-linecap:round; stroke-linejoin:round; stroke-width:8; stroke-opacity:1; fill:none\" points=\"1687.13,210.14 1647.29,236.299 \"/>\n",
       "<polyline clip-path=\"url(#clip562)\" style=\"stroke:#ee3b3b; stroke-linecap:round; stroke-linejoin:round; stroke-width:8; stroke-opacity:1; fill:none\" points=\"1687.26,231.588 1647.29,236.299 1667.5,201.495 \"/>\n",
       "<polyline clip-path=\"url(#clip562)\" style=\"stroke:#ee3b3b; stroke-linecap:round; stroke-linejoin:round; stroke-width:8; stroke-opacity:1; fill:none\" points=\"1647.29,236.299 1687.13,210.14 \"/>\n",
       "<polyline clip-path=\"url(#clip562)\" style=\"stroke:#ee3b3b; stroke-linecap:round; stroke-linejoin:round; stroke-width:8; stroke-opacity:1; fill:none\" points=\"1647.29,236.299 1191.78,853.315 \"/>\n",
       "<polyline clip-path=\"url(#clip562)\" style=\"stroke:#ee3b3b; stroke-linecap:round; stroke-linejoin:round; stroke-width:8; stroke-opacity:1; fill:none\" points=\"1227.64,835.043 1191.78,853.315 1198.68,813.662 \"/>\n",
       "<polyline clip-path=\"url(#clip562)\" style=\"stroke:#ee3b3b; stroke-linecap:round; stroke-linejoin:round; stroke-width:8; stroke-opacity:1; fill:none\" points=\"1191.78,853.315 1647.29,236.299 \"/>\n",
       "<path clip-path=\"url(#clip562)\" d=\"M1239.78 853.315 L1167.78 811.315 L1167.78 895.315 L1239.78 853.315 Z\" fill=\"#000000\" fill-rule=\"evenodd\" fill-opacity=\"1\" stroke=\"none\"/>\n",
       "<path clip-path=\"url(#clip560)\" d=\"M1625.97 1438.47 L2280.06 1438.47 L2280.06 1231.11 L1625.97 1231.11  Z\" fill=\"#ffffff\" fill-rule=\"evenodd\" fill-opacity=\"1\"/>\n",
       "<polyline clip-path=\"url(#clip560)\" style=\"stroke:#000000; stroke-linecap:round; stroke-linejoin:round; stroke-width:4; stroke-opacity:1; fill:none\" points=\"1625.97,1438.47 2280.06,1438.47 2280.06,1231.11 1625.97,1231.11 1625.97,1438.47 \"/>\n",
       "<circle clip-path=\"url(#clip560)\" cx=\"1722.9\" cy=\"1282.95\" r=\"18.432\" fill=\"#40e0d0\" fill-rule=\"evenodd\" fill-opacity=\"1\" stroke=\"none\"/>\n",
       "<path clip-path=\"url(#clip560)\" d=\"M1847.69 1268.34 L1847.69 1273.27 Q1845.33 1271.07 1842.64 1269.98 Q1839.98 1268.89 1836.97 1268.89 Q1831.04 1268.89 1827.9 1272.53 Q1824.75 1276.14 1824.75 1282.99 Q1824.75 1289.82 1827.9 1293.45 Q1831.04 1297.06 1836.97 1297.06 Q1839.98 1297.06 1842.64 1295.98 Q1845.33 1294.89 1847.69 1292.69 L1847.69 1297.57 Q1845.23 1299.24 1842.48 1300.07 Q1839.75 1300.91 1836.69 1300.91 Q1828.85 1300.91 1824.33 1296.11 Q1819.82 1291.3 1819.82 1282.99 Q1819.82 1274.66 1824.33 1269.86 Q1828.85 1265.05 1836.69 1265.05 Q1839.79 1265.05 1842.53 1265.88 Q1845.28 1266.69 1847.69 1268.34 Z\" fill=\"#000000\" fill-rule=\"nonzero\" fill-opacity=\"1\" /><path clip-path=\"url(#clip560)\" d=\"M1864.77 1277.29 Q1861.35 1277.29 1859.35 1279.98 Q1857.36 1282.64 1857.36 1287.29 Q1857.36 1291.95 1859.33 1294.63 Q1861.32 1297.29 1864.77 1297.29 Q1868.17 1297.29 1870.16 1294.61 Q1872.16 1291.92 1872.16 1287.29 Q1872.16 1282.69 1870.16 1280 Q1868.17 1277.29 1864.77 1277.29 M1864.77 1273.68 Q1870.33 1273.68 1873.5 1277.29 Q1876.67 1280.91 1876.67 1287.29 Q1876.67 1293.66 1873.5 1297.29 Q1870.33 1300.91 1864.77 1300.91 Q1859.19 1300.91 1856.02 1297.29 Q1852.87 1293.66 1852.87 1287.29 Q1852.87 1280.91 1856.02 1277.29 Q1859.19 1273.68 1864.77 1273.68 Z\" fill=\"#000000\" fill-rule=\"nonzero\" fill-opacity=\"1\" /><path clip-path=\"url(#clip560)\" d=\"M1880.67 1274.31 L1885.19 1274.31 L1893.29 1296.07 L1901.39 1274.31 L1905.91 1274.31 L1896.18 1300.23 L1890.4 1300.23 L1880.67 1274.31 Z\" fill=\"#000000\" fill-rule=\"nonzero\" fill-opacity=\"1\" /><path clip-path=\"url(#clip560)\" d=\"M1933.96 1286.21 L1933.96 1288.29 L1914.38 1288.29 Q1914.66 1292.69 1917.02 1295 Q1919.4 1297.29 1923.64 1297.29 Q1926.09 1297.29 1928.38 1296.69 Q1930.7 1296.09 1932.97 1294.89 L1932.97 1298.91 Q1930.67 1299.89 1928.27 1300.4 Q1925.86 1300.91 1923.38 1300.91 Q1917.18 1300.91 1913.54 1297.29 Q1909.93 1293.68 1909.93 1287.53 Q1909.93 1281.16 1913.36 1277.43 Q1916.81 1273.68 1922.64 1273.68 Q1927.87 1273.68 1930.91 1277.06 Q1933.96 1280.42 1933.96 1286.21 M1929.7 1284.96 Q1929.66 1281.46 1927.73 1279.38 Q1925.84 1277.29 1922.69 1277.29 Q1919.12 1277.29 1916.97 1279.31 Q1914.84 1281.32 1914.52 1284.98 L1929.7 1284.96 Z\" fill=\"#000000\" fill-rule=\"nonzero\" fill-opacity=\"1\" /><path clip-path=\"url(#clip560)\" d=\"M1955.97 1278.29 Q1955.26 1277.87 1954.4 1277.69 Q1953.57 1277.48 1952.55 1277.48 Q1948.94 1277.48 1946.99 1279.84 Q1945.07 1282.18 1945.07 1286.58 L1945.07 1300.23 L1940.79 1300.23 L1940.79 1274.31 L1945.07 1274.31 L1945.07 1278.34 Q1946.41 1275.98 1948.57 1274.84 Q1950.72 1273.68 1953.8 1273.68 Q1954.24 1273.68 1954.77 1273.75 Q1955.3 1273.8 1955.95 1273.92 L1955.97 1278.29 Z\" fill=\"#000000\" fill-rule=\"nonzero\" fill-opacity=\"1\" /><path clip-path=\"url(#clip560)\" d=\"M1972.22 1287.2 Q1967.06 1287.2 1965.07 1288.38 Q1963.08 1289.56 1963.08 1292.41 Q1963.08 1294.68 1964.56 1296.02 Q1966.07 1297.34 1968.64 1297.34 Q1972.18 1297.34 1974.31 1294.84 Q1976.46 1292.32 1976.46 1288.15 L1976.46 1287.2 L1972.22 1287.2 M1980.72 1285.44 L1980.72 1300.23 L1976.46 1300.23 L1976.46 1296.3 Q1975 1298.66 1972.83 1299.79 Q1970.65 1300.91 1967.5 1300.91 Q1963.52 1300.91 1961.16 1298.68 Q1958.82 1296.44 1958.82 1292.69 Q1958.82 1288.31 1961.74 1286.09 Q1964.68 1283.87 1970.49 1283.87 L1976.46 1283.87 L1976.46 1283.45 Q1976.46 1280.51 1974.52 1278.92 Q1972.59 1277.29 1969.1 1277.29 Q1966.88 1277.29 1964.77 1277.83 Q1962.66 1278.36 1960.72 1279.42 L1960.72 1275.49 Q1963.06 1274.59 1965.26 1274.15 Q1967.46 1273.68 1969.54 1273.68 Q1975.16 1273.68 1977.94 1276.6 Q1980.72 1279.52 1980.72 1285.44 Z\" fill=\"#000000\" fill-rule=\"nonzero\" fill-opacity=\"1\" /><path clip-path=\"url(#clip560)\" d=\"M2006.55 1286.97 Q2006.55 1282.34 2004.63 1279.79 Q2002.73 1277.25 1999.28 1277.25 Q1995.86 1277.25 1993.94 1279.79 Q1992.04 1282.34 1992.04 1286.97 Q1992.04 1291.58 1993.94 1294.12 Q1995.86 1296.67 1999.28 1296.67 Q2002.73 1296.67 2004.63 1294.12 Q2006.55 1291.58 2006.55 1286.97 M2010.81 1297.02 Q2010.81 1303.64 2007.87 1306.85 Q2004.93 1310.1 1998.87 1310.1 Q1996.62 1310.1 1994.63 1309.75 Q1992.64 1309.42 1990.77 1308.73 L1990.77 1304.59 Q1992.64 1305.6 1994.47 1306.09 Q1996.3 1306.58 1998.2 1306.58 Q2002.39 1306.58 2004.47 1304.38 Q2006.55 1302.2 2006.55 1297.78 L2006.55 1295.67 Q2005.23 1297.97 2003.17 1299.1 Q2001.11 1300.23 1998.24 1300.23 Q1993.47 1300.23 1990.56 1296.6 Q1987.64 1292.97 1987.64 1286.97 Q1987.64 1280.95 1990.56 1277.32 Q1993.47 1273.68 1998.24 1273.68 Q2001.11 1273.68 2003.17 1274.82 Q2005.23 1275.95 2006.55 1278.24 L2006.55 1274.31 L2010.81 1274.31 L2010.81 1297.02 Z\" fill=\"#000000\" fill-rule=\"nonzero\" fill-opacity=\"1\" /><path clip-path=\"url(#clip560)\" d=\"M2041.76 1286.21 L2041.76 1288.29 L2022.18 1288.29 Q2022.46 1292.69 2024.82 1295 Q2027.2 1297.29 2031.44 1297.29 Q2033.89 1297.29 2036.18 1296.69 Q2038.5 1296.09 2040.77 1294.89 L2040.77 1298.91 Q2038.47 1299.89 2036.07 1300.4 Q2033.66 1300.91 2031.18 1300.91 Q2024.98 1300.91 2021.34 1297.29 Q2017.73 1293.68 2017.73 1287.53 Q2017.73 1281.16 2021.16 1277.43 Q2024.61 1273.68 2030.44 1273.68 Q2035.67 1273.68 2038.71 1277.06 Q2041.76 1280.42 2041.76 1286.21 M2037.5 1284.96 Q2037.46 1281.46 2035.53 1279.38 Q2033.64 1277.29 2030.49 1277.29 Q2026.92 1277.29 2024.77 1279.31 Q2022.64 1281.32 2022.32 1284.98 L2037.5 1284.96 Z\" fill=\"#000000\" fill-rule=\"nonzero\" fill-opacity=\"1\" /><path clip-path=\"url(#clip560)\" d=\"M2064.01 1265.67 L2068.68 1265.67 L2068.68 1296.3 L2085.51 1296.3 L2085.51 1300.23 L2064.01 1300.23 L2064.01 1265.67 Z\" fill=\"#000000\" fill-rule=\"nonzero\" fill-opacity=\"1\" /><path clip-path=\"url(#clip560)\" d=\"M2099.45 1277.29 Q2096.02 1277.29 2094.03 1279.98 Q2092.04 1282.64 2092.04 1287.29 Q2092.04 1291.95 2094.01 1294.63 Q2096 1297.29 2099.45 1297.29 Q2102.85 1297.29 2104.84 1294.61 Q2106.83 1291.92 2106.83 1287.29 Q2106.83 1282.69 2104.84 1280 Q2102.85 1277.29 2099.45 1277.29 M2099.45 1273.68 Q2105 1273.68 2108.17 1277.29 Q2111.34 1280.91 2111.34 1287.29 Q2111.34 1293.66 2108.17 1297.29 Q2105 1300.91 2099.45 1300.91 Q2093.87 1300.91 2090.7 1297.29 Q2087.55 1293.66 2087.55 1287.29 Q2087.55 1280.91 2090.7 1277.29 Q2093.87 1273.68 2099.45 1273.68 Z\" fill=\"#000000\" fill-rule=\"nonzero\" fill-opacity=\"1\" /><path clip-path=\"url(#clip560)\" d=\"M2137.06 1275.3 L2137.06 1279.29 Q2135.26 1278.29 2133.43 1277.8 Q2131.62 1277.29 2129.77 1277.29 Q2125.63 1277.29 2123.33 1279.93 Q2121.04 1282.55 2121.04 1287.29 Q2121.04 1292.04 2123.33 1294.68 Q2125.63 1297.29 2129.77 1297.29 Q2131.62 1297.29 2133.43 1296.81 Q2135.26 1296.3 2137.06 1295.3 L2137.06 1299.24 Q2135.28 1300.07 2133.36 1300.49 Q2131.46 1300.91 2129.31 1300.91 Q2123.45 1300.91 2120 1297.23 Q2116.55 1293.54 2116.55 1287.29 Q2116.55 1280.95 2120.02 1277.32 Q2123.52 1273.68 2129.58 1273.68 Q2131.55 1273.68 2133.43 1274.1 Q2135.3 1274.49 2137.06 1275.3 Z\" fill=\"#000000\" fill-rule=\"nonzero\" fill-opacity=\"1\" /><path clip-path=\"url(#clip560)\" d=\"M2156.25 1287.2 Q2151.09 1287.2 2149.1 1288.38 Q2147.11 1289.56 2147.11 1292.41 Q2147.11 1294.68 2148.59 1296.02 Q2150.09 1297.34 2152.66 1297.34 Q2156.2 1297.34 2158.33 1294.84 Q2160.49 1292.32 2160.49 1288.15 L2160.49 1287.2 L2156.25 1287.2 M2164.75 1285.44 L2164.75 1300.23 L2160.49 1300.23 L2160.49 1296.3 Q2159.03 1298.66 2156.85 1299.79 Q2154.68 1300.91 2151.53 1300.91 Q2147.55 1300.91 2145.19 1298.68 Q2142.85 1296.44 2142.85 1292.69 Q2142.85 1288.31 2145.77 1286.09 Q2148.71 1283.87 2154.52 1283.87 L2160.49 1283.87 L2160.49 1283.45 Q2160.49 1280.51 2158.54 1278.92 Q2156.62 1277.29 2153.13 1277.29 Q2150.9 1277.29 2148.8 1277.83 Q2146.69 1278.36 2144.75 1279.42 L2144.75 1275.49 Q2147.08 1274.59 2149.28 1274.15 Q2151.48 1273.68 2153.57 1273.68 Q2159.19 1273.68 2161.97 1276.6 Q2164.75 1279.52 2164.75 1285.44 Z\" fill=\"#000000\" fill-rule=\"nonzero\" fill-opacity=\"1\" /><path clip-path=\"url(#clip560)\" d=\"M2177.73 1266.95 L2177.73 1274.31 L2186.51 1274.31 L2186.51 1277.62 L2177.73 1277.62 L2177.73 1291.69 Q2177.73 1294.86 2178.59 1295.77 Q2179.47 1296.67 2182.13 1296.67 L2186.51 1296.67 L2186.51 1300.23 L2182.13 1300.23 Q2177.2 1300.23 2175.33 1298.41 Q2173.45 1296.55 2173.45 1291.69 L2173.45 1277.62 L2170.33 1277.62 L2170.33 1274.31 L2173.45 1274.31 L2173.45 1266.95 L2177.73 1266.95 Z\" fill=\"#000000\" fill-rule=\"nonzero\" fill-opacity=\"1\" /><path clip-path=\"url(#clip560)\" d=\"M2192.11 1274.31 L2196.37 1274.31 L2196.37 1300.23 L2192.11 1300.23 L2192.11 1274.31 M2192.11 1264.22 L2196.37 1264.22 L2196.37 1269.61 L2192.11 1269.61 L2192.11 1264.22 Z\" fill=\"#000000\" fill-rule=\"nonzero\" fill-opacity=\"1\" /><path clip-path=\"url(#clip560)\" d=\"M2215.33 1277.29 Q2211.9 1277.29 2209.91 1279.98 Q2207.92 1282.64 2207.92 1287.29 Q2207.92 1291.95 2209.89 1294.63 Q2211.88 1297.29 2215.33 1297.29 Q2218.73 1297.29 2220.72 1294.61 Q2222.71 1291.92 2222.71 1287.29 Q2222.71 1282.69 2220.72 1280 Q2218.73 1277.29 2215.33 1277.29 M2215.33 1273.68 Q2220.88 1273.68 2224.05 1277.29 Q2227.22 1280.91 2227.22 1287.29 Q2227.22 1293.66 2224.05 1297.29 Q2220.88 1300.91 2215.33 1300.91 Q2209.75 1300.91 2206.58 1297.29 Q2203.43 1293.66 2203.43 1287.29 Q2203.43 1280.91 2206.58 1277.29 Q2209.75 1273.68 2215.33 1273.68 Z\" fill=\"#000000\" fill-rule=\"nonzero\" fill-opacity=\"1\" /><path clip-path=\"url(#clip560)\" d=\"M2255.83 1284.59 L2255.83 1300.23 L2251.57 1300.23 L2251.57 1284.73 Q2251.57 1281.04 2250.14 1279.22 Q2248.7 1277.39 2245.83 1277.39 Q2242.39 1277.39 2240.39 1279.59 Q2238.4 1281.79 2238.4 1285.58 L2238.4 1300.23 L2234.12 1300.23 L2234.12 1274.31 L2238.4 1274.31 L2238.4 1278.34 Q2239.93 1276 2241.99 1274.84 Q2244.07 1273.68 2246.78 1273.68 Q2251.25 1273.68 2253.54 1276.46 Q2255.83 1279.22 2255.83 1284.59 Z\" fill=\"#000000\" fill-rule=\"nonzero\" fill-opacity=\"1\" /><path clip-path=\"url(#clip560)\" d=\"M1702.42 1314.31 L1702.42 1355.27 L1743.38 1355.27 L1743.38 1314.31 L1702.42 1314.31 Z\" fill=\"#cd919e\" fill-rule=\"evenodd\" fill-opacity=\"1\" stroke=\"none\"/>\n",
       "<path clip-path=\"url(#clip560)\" d=\"M1819.82 1317.51 L1849.05 1317.51 L1849.05 1321.45 L1836.79 1321.45 L1836.79 1352.07 L1832.09 1352.07 L1832.09 1321.45 L1819.82 1321.45 L1819.82 1317.51 Z\" fill=\"#000000\" fill-rule=\"nonzero\" fill-opacity=\"1\" /><path clip-path=\"url(#clip560)\" d=\"M1857.32 1339.04 Q1852.16 1339.04 1850.16 1340.22 Q1848.17 1341.4 1848.17 1344.25 Q1848.17 1346.52 1849.66 1347.86 Q1851.16 1349.18 1853.73 1349.18 Q1857.27 1349.18 1859.4 1346.68 Q1861.55 1344.16 1861.55 1339.99 L1861.55 1339.04 L1857.32 1339.04 M1865.81 1337.28 L1865.81 1352.07 L1861.55 1352.07 L1861.55 1348.14 Q1860.1 1350.5 1857.92 1351.63 Q1855.74 1352.75 1852.6 1352.75 Q1848.61 1352.75 1846.25 1350.52 Q1843.91 1348.28 1843.91 1344.53 Q1843.91 1340.15 1846.83 1337.93 Q1849.77 1335.71 1855.58 1335.71 L1861.55 1335.71 L1861.55 1335.29 Q1861.55 1332.35 1859.61 1330.76 Q1857.69 1329.13 1854.19 1329.13 Q1851.97 1329.13 1849.86 1329.67 Q1847.76 1330.2 1845.81 1331.26 L1845.81 1327.33 Q1848.15 1326.43 1850.35 1325.99 Q1852.55 1325.52 1854.63 1325.52 Q1860.26 1325.52 1863.04 1328.44 Q1865.81 1331.36 1865.81 1337.28 Z\" fill=\"#000000\" fill-rule=\"nonzero\" fill-opacity=\"1\" /><path clip-path=\"url(#clip560)\" d=\"M1891.11 1326.91 L1891.11 1330.94 Q1889.31 1330.01 1887.36 1329.55 Q1885.42 1329.09 1883.34 1329.09 Q1880.16 1329.09 1878.57 1330.06 Q1876.99 1331.03 1876.99 1332.98 Q1876.99 1334.46 1878.13 1335.32 Q1879.26 1336.15 1882.69 1336.91 L1884.15 1337.24 Q1888.68 1338.21 1890.58 1339.99 Q1892.5 1341.75 1892.5 1344.92 Q1892.5 1348.53 1889.63 1350.64 Q1886.79 1352.75 1881.79 1352.75 Q1879.7 1352.75 1877.43 1352.33 Q1875.19 1351.94 1872.69 1351.13 L1872.69 1346.73 Q1875.05 1347.95 1877.34 1348.58 Q1879.63 1349.18 1881.88 1349.18 Q1884.89 1349.18 1886.51 1348.16 Q1888.13 1347.12 1888.13 1345.25 Q1888.13 1343.51 1886.95 1342.58 Q1885.79 1341.66 1881.83 1340.8 L1880.35 1340.45 Q1876.39 1339.62 1874.63 1337.91 Q1872.87 1336.17 1872.87 1333.16 Q1872.87 1329.51 1875.47 1327.51 Q1878.06 1325.52 1882.83 1325.52 Q1885.19 1325.52 1887.27 1325.87 Q1889.35 1326.22 1891.11 1326.91 Z\" fill=\"#000000\" fill-rule=\"nonzero\" fill-opacity=\"1\" /><path clip-path=\"url(#clip560)\" d=\"M1899.12 1316.06 L1903.41 1316.06 L1903.41 1337.33 L1916.11 1326.15 L1921.55 1326.15 L1907.8 1338.28 L1922.13 1352.07 L1916.58 1352.07 L1903.41 1339.41 L1903.41 1352.07 L1899.12 1352.07 L1899.12 1316.06 Z\" fill=\"#000000\" fill-rule=\"nonzero\" fill-opacity=\"1\" /><path clip-path=\"url(#clip560)\" d=\"M1941.99 1317.51 L1946.67 1317.51 L1946.67 1348.14 L1963.5 1348.14 L1963.5 1352.07 L1941.99 1352.07 L1941.99 1317.51 Z\" fill=\"#000000\" fill-rule=\"nonzero\" fill-opacity=\"1\" /><path clip-path=\"url(#clip560)\" d=\"M1977.43 1329.13 Q1974.01 1329.13 1972.02 1331.82 Q1970.03 1334.48 1970.03 1339.13 Q1970.03 1343.79 1971.99 1346.47 Q1973.98 1349.13 1977.43 1349.13 Q1980.84 1349.13 1982.83 1346.45 Q1984.82 1343.76 1984.82 1339.13 Q1984.82 1334.53 1982.83 1331.84 Q1980.84 1329.13 1977.43 1329.13 M1977.43 1325.52 Q1982.99 1325.52 1986.16 1329.13 Q1989.33 1332.75 1989.33 1339.13 Q1989.33 1345.5 1986.16 1349.13 Q1982.99 1352.75 1977.43 1352.75 Q1971.85 1352.75 1968.68 1349.13 Q1965.53 1345.5 1965.53 1339.13 Q1965.53 1332.75 1968.68 1329.13 Q1971.85 1325.52 1977.43 1325.52 Z\" fill=\"#000000\" fill-rule=\"nonzero\" fill-opacity=\"1\" /><path clip-path=\"url(#clip560)\" d=\"M2015.05 1327.14 L2015.05 1331.13 Q2013.24 1330.13 2011.41 1329.64 Q2009.61 1329.13 2007.76 1329.13 Q2003.61 1329.13 2001.32 1331.77 Q1999.03 1334.39 1999.03 1339.13 Q1999.03 1343.88 2001.32 1346.52 Q2003.61 1349.13 2007.76 1349.13 Q2009.61 1349.13 2011.41 1348.65 Q2013.24 1348.14 2015.05 1347.14 L2015.05 1351.08 Q2013.27 1351.91 2011.34 1352.33 Q2009.45 1352.75 2007.29 1352.75 Q2001.44 1352.75 1997.99 1349.07 Q1994.54 1345.38 1994.54 1339.13 Q1994.54 1332.79 1998.01 1329.16 Q2001.51 1325.52 2007.57 1325.52 Q2009.54 1325.52 2011.41 1325.94 Q2013.29 1326.33 2015.05 1327.14 Z\" fill=\"#000000\" fill-rule=\"nonzero\" fill-opacity=\"1\" /><path clip-path=\"url(#clip560)\" d=\"M2034.24 1339.04 Q2029.08 1339.04 2027.09 1340.22 Q2025.09 1341.4 2025.09 1344.25 Q2025.09 1346.52 2026.58 1347.86 Q2028.08 1349.18 2030.65 1349.18 Q2034.19 1349.18 2036.32 1346.68 Q2038.47 1344.16 2038.47 1339.99 L2038.47 1339.04 L2034.24 1339.04 M2042.73 1337.28 L2042.73 1352.07 L2038.47 1352.07 L2038.47 1348.14 Q2037.02 1350.5 2034.84 1351.63 Q2032.66 1352.75 2029.52 1352.75 Q2025.53 1352.75 2023.17 1350.52 Q2020.84 1348.28 2020.84 1344.53 Q2020.84 1340.15 2023.75 1337.93 Q2026.69 1335.71 2032.5 1335.71 L2038.47 1335.71 L2038.47 1335.29 Q2038.47 1332.35 2036.53 1330.76 Q2034.61 1329.13 2031.11 1329.13 Q2028.89 1329.13 2026.78 1329.67 Q2024.68 1330.2 2022.73 1331.26 L2022.73 1327.33 Q2025.07 1326.43 2027.27 1325.99 Q2029.47 1325.52 2031.55 1325.52 Q2037.18 1325.52 2039.96 1328.44 Q2042.73 1331.36 2042.73 1337.28 Z\" fill=\"#000000\" fill-rule=\"nonzero\" fill-opacity=\"1\" /><path clip-path=\"url(#clip560)\" d=\"M2055.72 1318.79 L2055.72 1326.15 L2064.49 1326.15 L2064.49 1329.46 L2055.72 1329.46 L2055.72 1343.53 Q2055.72 1346.7 2056.58 1347.61 Q2057.46 1348.51 2060.12 1348.51 L2064.49 1348.51 L2064.49 1352.07 L2060.12 1352.07 Q2055.19 1352.07 2053.31 1350.25 Q2051.44 1348.39 2051.44 1343.53 L2051.44 1329.46 L2048.31 1329.46 L2048.31 1326.15 L2051.44 1326.15 L2051.44 1318.79 L2055.72 1318.79 Z\" fill=\"#000000\" fill-rule=\"nonzero\" fill-opacity=\"1\" /><path clip-path=\"url(#clip560)\" d=\"M2070.09 1326.15 L2074.35 1326.15 L2074.35 1352.07 L2070.09 1352.07 L2070.09 1326.15 M2070.09 1316.06 L2074.35 1316.06 L2074.35 1321.45 L2070.09 1321.45 L2070.09 1316.06 Z\" fill=\"#000000\" fill-rule=\"nonzero\" fill-opacity=\"1\" /><path clip-path=\"url(#clip560)\" d=\"M2093.31 1329.13 Q2089.89 1329.13 2087.9 1331.82 Q2085.9 1334.48 2085.9 1339.13 Q2085.9 1343.79 2087.87 1346.47 Q2089.86 1349.13 2093.31 1349.13 Q2096.71 1349.13 2098.71 1346.45 Q2100.7 1343.76 2100.7 1339.13 Q2100.7 1334.53 2098.71 1331.84 Q2096.71 1329.13 2093.31 1329.13 M2093.31 1325.52 Q2098.87 1325.52 2102.04 1329.13 Q2105.21 1332.75 2105.21 1339.13 Q2105.21 1345.5 2102.04 1349.13 Q2098.87 1352.75 2093.31 1352.75 Q2087.73 1352.75 2084.56 1349.13 Q2081.41 1345.5 2081.41 1339.13 Q2081.41 1332.75 2084.56 1329.13 Q2087.73 1325.52 2093.31 1325.52 Z\" fill=\"#000000\" fill-rule=\"nonzero\" fill-opacity=\"1\" /><path clip-path=\"url(#clip560)\" d=\"M2133.82 1336.43 L2133.82 1352.07 L2129.56 1352.07 L2129.56 1336.57 Q2129.56 1332.88 2128.13 1331.06 Q2126.69 1329.23 2123.82 1329.23 Q2120.37 1329.23 2118.38 1331.43 Q2116.39 1333.63 2116.39 1337.42 L2116.39 1352.07 L2112.11 1352.07 L2112.11 1326.15 L2116.39 1326.15 L2116.39 1330.18 Q2117.92 1327.84 2119.98 1326.68 Q2122.06 1325.52 2124.77 1325.52 Q2129.24 1325.52 2131.53 1328.3 Q2133.82 1331.06 2133.82 1336.43 Z\" fill=\"#000000\" fill-rule=\"nonzero\" fill-opacity=\"1\" /><path clip-path=\"url(#clip560)\" d=\"M1742.72 1386.63 L1712.99 1369.29 L1712.99 1403.98 L1742.72 1386.63 Z\" fill=\"#000000\" fill-rule=\"evenodd\" fill-opacity=\"1\" stroke=\"none\"/>\n",
       "<path clip-path=\"url(#clip560)\" d=\"M1824.49 1373.2 L1824.49 1400.07 L1830.14 1400.07 Q1837.29 1400.07 1840.6 1396.83 Q1843.94 1393.59 1843.94 1386.6 Q1843.94 1379.66 1840.6 1376.44 Q1837.29 1373.2 1830.14 1373.2 L1824.49 1373.2 M1819.82 1369.35 L1829.42 1369.35 Q1839.47 1369.35 1844.17 1373.54 Q1848.87 1377.71 1848.87 1386.6 Q1848.87 1395.53 1844.15 1399.72 Q1839.42 1403.91 1829.42 1403.91 L1819.82 1403.91 L1819.82 1369.35 Z\" fill=\"#000000\" fill-rule=\"nonzero\" fill-opacity=\"1\" /><path clip-path=\"url(#clip560)\" d=\"M1856.32 1369.35 L1878.17 1369.35 L1878.17 1373.29 L1861 1373.29 L1861 1383.52 L1877.46 1383.52 L1877.46 1387.46 L1861 1387.46 L1861 1399.98 L1878.59 1399.98 L1878.59 1403.91 L1856.32 1403.91 L1856.32 1369.35 Z\" fill=\"#000000\" fill-rule=\"nonzero\" fill-opacity=\"1\" /><path clip-path=\"url(#clip560)\" d=\"M1890.95 1373.2 L1890.95 1386.18 L1896.83 1386.18 Q1900.1 1386.18 1901.88 1384.49 Q1903.66 1382.8 1903.66 1379.68 Q1903.66 1376.58 1901.88 1374.89 Q1900.1 1373.2 1896.83 1373.2 L1890.95 1373.2 M1886.28 1369.35 L1896.83 1369.35 Q1902.64 1369.35 1905.6 1371.99 Q1908.59 1374.61 1908.59 1379.68 Q1908.59 1384.79 1905.6 1387.41 Q1902.64 1390.03 1896.83 1390.03 L1890.95 1390.03 L1890.95 1403.91 L1886.28 1403.91 L1886.28 1369.35 Z\" fill=\"#000000\" fill-rule=\"nonzero\" fill-opacity=\"1\" /><path clip-path=\"url(#clip560)\" d=\"M1928.89 1372.53 Q1923.8 1372.53 1920.79 1376.32 Q1917.8 1380.12 1917.8 1386.67 Q1917.8 1393.2 1920.79 1396.99 Q1923.8 1400.79 1928.89 1400.79 Q1933.98 1400.79 1936.95 1396.99 Q1939.93 1393.2 1939.93 1386.67 Q1939.93 1380.12 1936.95 1376.32 Q1933.98 1372.53 1928.89 1372.53 M1928.89 1368.73 Q1936.16 1368.73 1940.51 1373.61 Q1944.86 1378.47 1944.86 1386.67 Q1944.86 1394.84 1940.51 1399.72 Q1936.16 1404.59 1928.89 1404.59 Q1921.6 1404.59 1917.22 1399.72 Q1912.87 1394.86 1912.87 1386.67 Q1912.87 1378.47 1917.22 1373.61 Q1921.6 1368.73 1928.89 1368.73 Z\" fill=\"#000000\" fill-rule=\"nonzero\" fill-opacity=\"1\" /><path clip-path=\"url(#clip560)\" d=\"M1947.39 1369.35 L1976.62 1369.35 L1976.62 1373.29 L1964.35 1373.29 L1964.35 1403.91 L1959.66 1403.91 L1959.66 1373.29 L1947.39 1373.29 L1947.39 1369.35 Z\" fill=\"#000000\" fill-rule=\"nonzero\" fill-opacity=\"1\" /></svg>\n"
      ],
      "text/html": [
       "<?xml version=\"1.0\" encoding=\"utf-8\"?>\n",
       "<svg xmlns=\"http://www.w3.org/2000/svg\" xmlns:xlink=\"http://www.w3.org/1999/xlink\" width=\"600\" height=\"400\" viewBox=\"0 0 2400 1600\">\n",
       "<defs>\n",
       "  <clipPath id=\"clip610\">\n",
       "    <rect x=\"0\" y=\"0\" width=\"2400\" height=\"1600\"/>\n",
       "  </clipPath>\n",
       "</defs>\n",
       "<path clip-path=\"url(#clip610)\" d=\"M0 1600 L2400 1600 L2400 0 L0 0  Z\" fill=\"#ffffff\" fill-rule=\"evenodd\" fill-opacity=\"1\"/>\n",
       "<defs>\n",
       "  <clipPath id=\"clip611\">\n",
       "    <rect x=\"480\" y=\"0\" width=\"1681\" height=\"1600\"/>\n",
       "  </clipPath>\n",
       "</defs>\n",
       "<path clip-path=\"url(#clip610)\" d=\"M172.015 1486.45 L2352.76 1486.45 L2352.76 47.2441 L172.015 47.2441  Z\" fill=\"#ffffff\" fill-rule=\"evenodd\" fill-opacity=\"1\"/>\n",
       "<defs>\n",
       "  <clipPath id=\"clip612\">\n",
       "    <rect x=\"172\" y=\"47\" width=\"2182\" height=\"1440\"/>\n",
       "  </clipPath>\n",
       "</defs>\n",
       "<polyline clip-path=\"url(#clip612)\" style=\"stroke:#000000; stroke-linecap:round; stroke-linejoin:round; stroke-width:2; stroke-opacity:0.1; fill:none\" points=\"233.734,1486.45 233.734,47.2441 \"/>\n",
       "<polyline clip-path=\"url(#clip612)\" style=\"stroke:#000000; stroke-linecap:round; stroke-linejoin:round; stroke-width:2; stroke-opacity:0.1; fill:none\" points=\"821.535,1486.45 821.535,47.2441 \"/>\n",
       "<polyline clip-path=\"url(#clip612)\" style=\"stroke:#000000; stroke-linecap:round; stroke-linejoin:round; stroke-width:2; stroke-opacity:0.1; fill:none\" points=\"1409.34,1486.45 1409.34,47.2441 \"/>\n",
       "<polyline clip-path=\"url(#clip612)\" style=\"stroke:#000000; stroke-linecap:round; stroke-linejoin:round; stroke-width:2; stroke-opacity:0.1; fill:none\" points=\"1997.14,1486.45 1997.14,47.2441 \"/>\n",
       "<polyline clip-path=\"url(#clip610)\" style=\"stroke:#000000; stroke-linecap:round; stroke-linejoin:round; stroke-width:4; stroke-opacity:1; fill:none\" points=\"172.015,1486.45 2352.76,1486.45 \"/>\n",
       "<polyline clip-path=\"url(#clip610)\" style=\"stroke:#000000; stroke-linecap:round; stroke-linejoin:round; stroke-width:4; stroke-opacity:1; fill:none\" points=\"233.734,1486.45 233.734,1467.55 \"/>\n",
       "<polyline clip-path=\"url(#clip610)\" style=\"stroke:#000000; stroke-linecap:round; stroke-linejoin:round; stroke-width:4; stroke-opacity:1; fill:none\" points=\"821.535,1486.45 821.535,1467.55 \"/>\n",
       "<polyline clip-path=\"url(#clip610)\" style=\"stroke:#000000; stroke-linecap:round; stroke-linejoin:round; stroke-width:4; stroke-opacity:1; fill:none\" points=\"1409.34,1486.45 1409.34,1467.55 \"/>\n",
       "<polyline clip-path=\"url(#clip610)\" style=\"stroke:#000000; stroke-linecap:round; stroke-linejoin:round; stroke-width:4; stroke-opacity:1; fill:none\" points=\"1997.14,1486.45 1997.14,1467.55 \"/>\n",
       "<path clip-path=\"url(#clip610)\" d=\"M233.734 1517.37 Q230.123 1517.37 228.294 1520.93 Q226.489 1524.47 226.489 1531.6 Q226.489 1538.71 228.294 1542.27 Q230.123 1545.82 233.734 1545.82 Q237.368 1545.82 239.174 1542.27 Q241.002 1538.71 241.002 1531.6 Q241.002 1524.47 239.174 1520.93 Q237.368 1517.37 233.734 1517.37 M233.734 1513.66 Q239.544 1513.66 242.6 1518.27 Q245.678 1522.85 245.678 1531.6 Q245.678 1540.33 242.6 1544.94 Q239.544 1549.52 233.734 1549.52 Q227.924 1549.52 224.845 1544.94 Q221.79 1540.33 221.79 1531.6 Q221.79 1522.85 224.845 1518.27 Q227.924 1513.66 233.734 1513.66 Z\" fill=\"#000000\" fill-rule=\"nonzero\" fill-opacity=\"1\" /><path clip-path=\"url(#clip610)\" d=\"M781.141 1544.91 L788.78 1544.91 L788.78 1518.55 L780.47 1520.21 L780.47 1515.95 L788.734 1514.29 L793.41 1514.29 L793.41 1544.91 L801.049 1544.91 L801.049 1548.85 L781.141 1548.85 L781.141 1544.91 Z\" fill=\"#000000\" fill-rule=\"nonzero\" fill-opacity=\"1\" /><path clip-path=\"url(#clip610)\" d=\"M820.493 1517.37 Q816.882 1517.37 815.053 1520.93 Q813.248 1524.47 813.248 1531.6 Q813.248 1538.71 815.053 1542.27 Q816.882 1545.82 820.493 1545.82 Q824.127 1545.82 825.933 1542.27 Q827.762 1538.71 827.762 1531.6 Q827.762 1524.47 825.933 1520.93 Q824.127 1517.37 820.493 1517.37 M820.493 1513.66 Q826.303 1513.66 829.359 1518.27 Q832.437 1522.85 832.437 1531.6 Q832.437 1540.33 829.359 1544.94 Q826.303 1549.52 820.493 1549.52 Q814.683 1549.52 811.604 1544.94 Q808.549 1540.33 808.549 1531.6 Q808.549 1522.85 811.604 1518.27 Q814.683 1513.66 820.493 1513.66 Z\" fill=\"#000000\" fill-rule=\"nonzero\" fill-opacity=\"1\" /><path clip-path=\"url(#clip610)\" d=\"M850.655 1517.37 Q847.044 1517.37 845.215 1520.93 Q843.41 1524.47 843.41 1531.6 Q843.41 1538.71 845.215 1542.27 Q847.044 1545.82 850.655 1545.82 Q854.289 1545.82 856.095 1542.27 Q857.923 1538.71 857.923 1531.6 Q857.923 1524.47 856.095 1520.93 Q854.289 1517.37 850.655 1517.37 M850.655 1513.66 Q856.465 1513.66 859.521 1518.27 Q862.599 1522.85 862.599 1531.6 Q862.599 1540.33 859.521 1544.94 Q856.465 1549.52 850.655 1549.52 Q844.845 1549.52 841.766 1544.94 Q838.711 1540.33 838.711 1531.6 Q838.711 1522.85 841.766 1518.27 Q844.845 1513.66 850.655 1513.66 Z\" fill=\"#000000\" fill-rule=\"nonzero\" fill-opacity=\"1\" /><path clip-path=\"url(#clip610)\" d=\"M1373.03 1544.91 L1389.35 1544.91 L1389.35 1548.85 L1367.4 1548.85 L1367.4 1544.91 Q1370.06 1542.16 1374.65 1537.53 Q1379.25 1532.88 1380.44 1531.53 Q1382.68 1529.01 1383.56 1527.27 Q1384.46 1525.51 1384.46 1523.82 Q1384.46 1521.07 1382.52 1519.33 Q1380.6 1517.6 1377.5 1517.6 Q1375.3 1517.6 1372.84 1518.36 Q1370.41 1519.13 1367.63 1520.68 L1367.63 1515.95 Q1370.46 1514.82 1372.91 1514.24 Q1375.37 1513.66 1377.4 1513.66 Q1382.77 1513.66 1385.97 1516.35 Q1389.16 1519.03 1389.16 1523.52 Q1389.16 1525.65 1388.35 1527.57 Q1387.56 1529.47 1385.46 1532.07 Q1384.88 1532.74 1381.78 1535.95 Q1378.68 1539.15 1373.03 1544.91 Z\" fill=\"#000000\" fill-rule=\"nonzero\" fill-opacity=\"1\" /><path clip-path=\"url(#clip610)\" d=\"M1409.16 1517.37 Q1405.55 1517.37 1403.72 1520.93 Q1401.92 1524.47 1401.92 1531.6 Q1401.92 1538.71 1403.72 1542.27 Q1405.55 1545.82 1409.16 1545.82 Q1412.8 1545.82 1414.6 1542.27 Q1416.43 1538.71 1416.43 1531.6 Q1416.43 1524.47 1414.6 1520.93 Q1412.8 1517.37 1409.16 1517.37 M1409.16 1513.66 Q1414.97 1513.66 1418.03 1518.27 Q1421.11 1522.85 1421.11 1531.6 Q1421.11 1540.33 1418.03 1544.94 Q1414.97 1549.52 1409.16 1549.52 Q1403.35 1549.52 1400.27 1544.94 Q1397.22 1540.33 1397.22 1531.6 Q1397.22 1522.85 1400.27 1518.27 Q1403.35 1513.66 1409.16 1513.66 Z\" fill=\"#000000\" fill-rule=\"nonzero\" fill-opacity=\"1\" /><path clip-path=\"url(#clip610)\" d=\"M1439.32 1517.37 Q1435.71 1517.37 1433.88 1520.93 Q1432.08 1524.47 1432.08 1531.6 Q1432.08 1538.71 1433.88 1542.27 Q1435.71 1545.82 1439.32 1545.82 Q1442.96 1545.82 1444.76 1542.27 Q1446.59 1538.71 1446.59 1531.6 Q1446.59 1524.47 1444.76 1520.93 Q1442.96 1517.37 1439.32 1517.37 M1439.32 1513.66 Q1445.13 1513.66 1448.19 1518.27 Q1451.27 1522.85 1451.27 1531.6 Q1451.27 1540.33 1448.19 1544.94 Q1445.13 1549.52 1439.32 1549.52 Q1433.51 1549.52 1430.43 1544.94 Q1427.38 1540.33 1427.38 1531.6 Q1427.38 1522.85 1430.43 1518.27 Q1433.51 1513.66 1439.32 1513.66 Z\" fill=\"#000000\" fill-rule=\"nonzero\" fill-opacity=\"1\" /><path clip-path=\"url(#clip610)\" d=\"M1970.9 1530.21 Q1974.25 1530.93 1976.13 1533.2 Q1978.03 1535.47 1978.03 1538.8 Q1978.03 1543.92 1974.51 1546.72 Q1970.99 1549.52 1964.51 1549.52 Q1962.33 1549.52 1960.02 1549.08 Q1957.73 1548.66 1955.27 1547.81 L1955.27 1543.29 Q1957.22 1544.43 1959.53 1545.01 Q1961.85 1545.58 1964.37 1545.58 Q1968.77 1545.58 1971.06 1543.85 Q1973.37 1542.11 1973.37 1538.8 Q1973.37 1535.75 1971.22 1534.03 Q1969.09 1532.3 1965.27 1532.3 L1961.25 1532.3 L1961.25 1528.45 L1965.46 1528.45 Q1968.91 1528.45 1970.74 1527.09 Q1972.56 1525.7 1972.56 1523.11 Q1972.56 1520.45 1970.67 1519.03 Q1968.79 1517.6 1965.27 1517.6 Q1963.35 1517.6 1961.15 1518.01 Q1958.95 1518.43 1956.31 1519.31 L1956.31 1515.14 Q1958.98 1514.4 1961.29 1514.03 Q1963.63 1513.66 1965.69 1513.66 Q1971.01 1513.66 1974.12 1516.09 Q1977.22 1518.5 1977.22 1522.62 Q1977.22 1525.49 1975.57 1527.48 Q1973.93 1529.45 1970.9 1530.21 Z\" fill=\"#000000\" fill-rule=\"nonzero\" fill-opacity=\"1\" /><path clip-path=\"url(#clip610)\" d=\"M1996.89 1517.37 Q1993.28 1517.37 1991.45 1520.93 Q1989.65 1524.47 1989.65 1531.6 Q1989.65 1538.71 1991.45 1542.27 Q1993.28 1545.82 1996.89 1545.82 Q2000.53 1545.82 2002.33 1542.27 Q2004.16 1538.71 2004.16 1531.6 Q2004.16 1524.47 2002.33 1520.93 Q2000.53 1517.37 1996.89 1517.37 M1996.89 1513.66 Q2002.7 1513.66 2005.76 1518.27 Q2008.84 1522.85 2008.84 1531.6 Q2008.84 1540.33 2005.76 1544.94 Q2002.7 1549.52 1996.89 1549.52 Q1991.08 1549.52 1988 1544.94 Q1984.95 1540.33 1984.95 1531.6 Q1984.95 1522.85 1988 1518.27 Q1991.08 1513.66 1996.89 1513.66 Z\" fill=\"#000000\" fill-rule=\"nonzero\" fill-opacity=\"1\" /><path clip-path=\"url(#clip610)\" d=\"M2027.06 1517.37 Q2023.44 1517.37 2021.62 1520.93 Q2019.81 1524.47 2019.81 1531.6 Q2019.81 1538.71 2021.62 1542.27 Q2023.44 1545.82 2027.06 1545.82 Q2030.69 1545.82 2032.5 1542.27 Q2034.32 1538.71 2034.32 1531.6 Q2034.32 1524.47 2032.5 1520.93 Q2030.69 1517.37 2027.06 1517.37 M2027.06 1513.66 Q2032.87 1513.66 2035.92 1518.27 Q2039 1522.85 2039 1531.6 Q2039 1540.33 2035.92 1544.94 Q2032.87 1549.52 2027.06 1549.52 Q2021.25 1549.52 2018.17 1544.94 Q2015.11 1540.33 2015.11 1531.6 Q2015.11 1522.85 2018.17 1518.27 Q2021.25 1513.66 2027.06 1513.66 Z\" fill=\"#000000\" fill-rule=\"nonzero\" fill-opacity=\"1\" /><polyline clip-path=\"url(#clip612)\" style=\"stroke:#000000; stroke-linecap:round; stroke-linejoin:round; stroke-width:2; stroke-opacity:0.1; fill:none\" points=\"172.015,1445.72 2352.76,1445.72 \"/>\n",
       "<polyline clip-path=\"url(#clip612)\" style=\"stroke:#000000; stroke-linecap:round; stroke-linejoin:round; stroke-width:2; stroke-opacity:0.1; fill:none\" points=\"172.015,1106.28 2352.76,1106.28 \"/>\n",
       "<polyline clip-path=\"url(#clip612)\" style=\"stroke:#000000; stroke-linecap:round; stroke-linejoin:round; stroke-width:2; stroke-opacity:0.1; fill:none\" points=\"172.015,766.846 2352.76,766.846 \"/>\n",
       "<polyline clip-path=\"url(#clip612)\" style=\"stroke:#000000; stroke-linecap:round; stroke-linejoin:round; stroke-width:2; stroke-opacity:0.1; fill:none\" points=\"172.015,427.411 2352.76,427.411 \"/>\n",
       "<polyline clip-path=\"url(#clip612)\" style=\"stroke:#000000; stroke-linecap:round; stroke-linejoin:round; stroke-width:2; stroke-opacity:0.1; fill:none\" points=\"172.015,87.9763 2352.76,87.9763 \"/>\n",
       "<polyline clip-path=\"url(#clip610)\" style=\"stroke:#000000; stroke-linecap:round; stroke-linejoin:round; stroke-width:4; stroke-opacity:1; fill:none\" points=\"172.015,1486.45 172.015,47.2441 \"/>\n",
       "<polyline clip-path=\"url(#clip610)\" style=\"stroke:#000000; stroke-linecap:round; stroke-linejoin:round; stroke-width:4; stroke-opacity:1; fill:none\" points=\"172.015,1445.72 190.912,1445.72 \"/>\n",
       "<polyline clip-path=\"url(#clip610)\" style=\"stroke:#000000; stroke-linecap:round; stroke-linejoin:round; stroke-width:4; stroke-opacity:1; fill:none\" points=\"172.015,1106.28 190.912,1106.28 \"/>\n",
       "<polyline clip-path=\"url(#clip610)\" style=\"stroke:#000000; stroke-linecap:round; stroke-linejoin:round; stroke-width:4; stroke-opacity:1; fill:none\" points=\"172.015,766.846 190.912,766.846 \"/>\n",
       "<polyline clip-path=\"url(#clip610)\" style=\"stroke:#000000; stroke-linecap:round; stroke-linejoin:round; stroke-width:4; stroke-opacity:1; fill:none\" points=\"172.015,427.411 190.912,427.411 \"/>\n",
       "<polyline clip-path=\"url(#clip610)\" style=\"stroke:#000000; stroke-linecap:round; stroke-linejoin:round; stroke-width:4; stroke-opacity:1; fill:none\" points=\"172.015,87.9763 190.912,87.9763 \"/>\n",
       "<path clip-path=\"url(#clip610)\" d=\"M54.5569 1459.06 L62.1958 1459.06 L62.1958 1432.69 L53.8856 1434.36 L53.8856 1430.1 L62.1495 1428.44 L66.8254 1428.44 L66.8254 1459.06 L74.4642 1459.06 L74.4642 1463 L54.5569 1463 L54.5569 1459.06 Z\" fill=\"#000000\" fill-rule=\"nonzero\" fill-opacity=\"1\" /><path clip-path=\"url(#clip610)\" d=\"M93.9086 1431.51 Q90.2975 1431.51 88.4688 1435.08 Q86.6632 1438.62 86.6632 1445.75 Q86.6632 1452.86 88.4688 1456.42 Q90.2975 1459.96 93.9086 1459.96 Q97.5428 1459.96 99.3483 1456.42 Q101.177 1452.86 101.177 1445.75 Q101.177 1438.62 99.3483 1435.08 Q97.5428 1431.51 93.9086 1431.51 M93.9086 1427.81 Q99.7187 1427.81 102.774 1432.42 Q105.853 1437 105.853 1445.75 Q105.853 1454.48 102.774 1459.08 Q99.7187 1463.67 93.9086 1463.67 Q88.0984 1463.67 85.0197 1459.08 Q81.9642 1454.48 81.9642 1445.75 Q81.9642 1437 85.0197 1432.42 Q88.0984 1427.81 93.9086 1427.81 Z\" fill=\"#000000\" fill-rule=\"nonzero\" fill-opacity=\"1\" /><path clip-path=\"url(#clip610)\" d=\"M124.07 1431.51 Q120.459 1431.51 118.631 1435.08 Q116.825 1438.62 116.825 1445.75 Q116.825 1452.86 118.631 1456.42 Q120.459 1459.96 124.07 1459.96 Q127.705 1459.96 129.51 1456.42 Q131.339 1452.86 131.339 1445.75 Q131.339 1438.62 129.51 1435.08 Q127.705 1431.51 124.07 1431.51 M124.07 1427.81 Q129.881 1427.81 132.936 1432.42 Q136.015 1437 136.015 1445.75 Q136.015 1454.48 132.936 1459.08 Q129.881 1463.67 124.07 1463.67 Q118.26 1463.67 115.182 1459.08 Q112.126 1454.48 112.126 1445.75 Q112.126 1437 115.182 1432.42 Q118.26 1427.81 124.07 1427.81 Z\" fill=\"#000000\" fill-rule=\"nonzero\" fill-opacity=\"1\" /><path clip-path=\"url(#clip610)\" d=\"M57.7745 1119.63 L74.0939 1119.63 L74.0939 1123.56 L52.1495 1123.56 L52.1495 1119.63 Q54.8115 1116.87 59.3949 1112.24 Q64.0013 1107.59 65.1819 1106.25 Q67.4272 1103.72 68.3068 1101.99 Q69.2096 1100.23 69.2096 1098.54 Q69.2096 1095.78 67.2652 1094.05 Q65.3439 1092.31 62.2421 1092.31 Q60.043 1092.31 57.5893 1093.07 Q55.1588 1093.84 52.381 1095.39 L52.381 1090.67 Q55.2051 1089.53 57.6588 1088.95 Q60.1124 1088.38 62.1495 1088.38 Q67.5198 1088.38 70.7142 1091.06 Q73.9087 1093.75 73.9087 1098.24 Q73.9087 1100.37 73.0985 1102.29 Q72.3115 1104.19 70.205 1106.78 Q69.6263 1107.45 66.5245 1110.67 Q63.4226 1113.86 57.7745 1119.63 Z\" fill=\"#000000\" fill-rule=\"nonzero\" fill-opacity=\"1\" /><path clip-path=\"url(#clip610)\" d=\"M93.9086 1092.08 Q90.2975 1092.08 88.4688 1095.64 Q86.6632 1099.19 86.6632 1106.32 Q86.6632 1113.42 88.4688 1116.99 Q90.2975 1120.53 93.9086 1120.53 Q97.5428 1120.53 99.3483 1116.99 Q101.177 1113.42 101.177 1106.32 Q101.177 1099.19 99.3483 1095.64 Q97.5428 1092.08 93.9086 1092.08 M93.9086 1088.38 Q99.7187 1088.38 102.774 1092.98 Q105.853 1097.57 105.853 1106.32 Q105.853 1115.04 102.774 1119.65 Q99.7187 1124.23 93.9086 1124.23 Q88.0984 1124.23 85.0197 1119.65 Q81.9642 1115.04 81.9642 1106.32 Q81.9642 1097.57 85.0197 1092.98 Q88.0984 1088.38 93.9086 1088.38 Z\" fill=\"#000000\" fill-rule=\"nonzero\" fill-opacity=\"1\" /><path clip-path=\"url(#clip610)\" d=\"M124.07 1092.08 Q120.459 1092.08 118.631 1095.64 Q116.825 1099.19 116.825 1106.32 Q116.825 1113.42 118.631 1116.99 Q120.459 1120.53 124.07 1120.53 Q127.705 1120.53 129.51 1116.99 Q131.339 1113.42 131.339 1106.32 Q131.339 1099.19 129.51 1095.64 Q127.705 1092.08 124.07 1092.08 M124.07 1088.38 Q129.881 1088.38 132.936 1092.98 Q136.015 1097.57 136.015 1106.32 Q136.015 1115.04 132.936 1119.65 Q129.881 1124.23 124.07 1124.23 Q118.26 1124.23 115.182 1119.65 Q112.126 1115.04 112.126 1106.32 Q112.126 1097.57 115.182 1092.98 Q118.26 1088.38 124.07 1088.38 Z\" fill=\"#000000\" fill-rule=\"nonzero\" fill-opacity=\"1\" /><path clip-path=\"url(#clip610)\" d=\"M67.9133 765.492 Q71.2698 766.209 73.1448 768.478 Q75.0429 770.746 75.0429 774.08 Q75.0429 779.195 71.5244 781.996 Q68.0059 784.797 61.5245 784.797 Q59.3486 784.797 57.0338 784.357 Q54.7421 783.941 52.2884 783.084 L52.2884 778.57 Q54.2328 779.705 56.5477 780.283 Q58.8625 780.862 61.3856 780.862 Q65.7837 780.862 68.0754 779.126 Q70.3902 777.39 70.3902 774.08 Q70.3902 771.024 68.2374 769.311 Q66.1078 767.575 62.2884 767.575 L58.2606 767.575 L58.2606 763.733 L62.4735 763.733 Q65.9226 763.733 67.7513 762.367 Q69.58 760.978 69.58 758.385 Q69.58 755.723 67.6819 754.311 Q65.8069 752.876 62.2884 752.876 Q60.3671 752.876 58.168 753.293 Q55.969 753.709 53.3301 754.589 L53.3301 750.422 Q55.9921 749.682 58.3069 749.311 Q60.6449 748.941 62.705 748.941 Q68.0291 748.941 71.1309 751.372 Q74.2327 753.779 74.2327 757.899 Q74.2327 760.77 72.5892 762.76 Q70.9457 764.728 67.9133 765.492 Z\" fill=\"#000000\" fill-rule=\"nonzero\" fill-opacity=\"1\" /><path clip-path=\"url(#clip610)\" d=\"M93.9086 752.645 Q90.2975 752.645 88.4688 756.209 Q86.6632 759.751 86.6632 766.881 Q86.6632 773.987 88.4688 777.552 Q90.2975 781.094 93.9086 781.094 Q97.5428 781.094 99.3483 777.552 Q101.177 773.987 101.177 766.881 Q101.177 759.751 99.3483 756.209 Q97.5428 752.645 93.9086 752.645 M93.9086 748.941 Q99.7187 748.941 102.774 753.547 Q105.853 758.131 105.853 766.881 Q105.853 775.608 102.774 780.214 Q99.7187 784.797 93.9086 784.797 Q88.0984 784.797 85.0197 780.214 Q81.9642 775.608 81.9642 766.881 Q81.9642 758.131 85.0197 753.547 Q88.0984 748.941 93.9086 748.941 Z\" fill=\"#000000\" fill-rule=\"nonzero\" fill-opacity=\"1\" /><path clip-path=\"url(#clip610)\" d=\"M124.07 752.645 Q120.459 752.645 118.631 756.209 Q116.825 759.751 116.825 766.881 Q116.825 773.987 118.631 777.552 Q120.459 781.094 124.07 781.094 Q127.705 781.094 129.51 777.552 Q131.339 773.987 131.339 766.881 Q131.339 759.751 129.51 756.209 Q127.705 752.645 124.07 752.645 M124.07 748.941 Q129.881 748.941 132.936 753.547 Q136.015 758.131 136.015 766.881 Q136.015 775.608 132.936 780.214 Q129.881 784.797 124.07 784.797 Q118.26 784.797 115.182 780.214 Q112.126 775.608 112.126 766.881 Q112.126 758.131 115.182 753.547 Q118.26 748.941 124.07 748.941 Z\" fill=\"#000000\" fill-rule=\"nonzero\" fill-opacity=\"1\" /><path clip-path=\"url(#clip610)\" d=\"M66.5939 414.205 L54.7884 432.654 L66.5939 432.654 L66.5939 414.205 M65.367 410.131 L71.2466 410.131 L71.2466 432.654 L76.1772 432.654 L76.1772 436.543 L71.2466 436.543 L71.2466 444.691 L66.5939 444.691 L66.5939 436.543 L50.9921 436.543 L50.9921 432.029 L65.367 410.131 Z\" fill=\"#000000\" fill-rule=\"nonzero\" fill-opacity=\"1\" /><path clip-path=\"url(#clip610)\" d=\"M93.9086 413.21 Q90.2975 413.21 88.4688 416.775 Q86.6632 420.316 86.6632 427.446 Q86.6632 434.552 88.4688 438.117 Q90.2975 441.659 93.9086 441.659 Q97.5428 441.659 99.3483 438.117 Q101.177 434.552 101.177 427.446 Q101.177 420.316 99.3483 416.775 Q97.5428 413.21 93.9086 413.21 M93.9086 409.506 Q99.7187 409.506 102.774 414.113 Q105.853 418.696 105.853 427.446 Q105.853 436.173 102.774 440.779 Q99.7187 445.362 93.9086 445.362 Q88.0984 445.362 85.0197 440.779 Q81.9642 436.173 81.9642 427.446 Q81.9642 418.696 85.0197 414.113 Q88.0984 409.506 93.9086 409.506 Z\" fill=\"#000000\" fill-rule=\"nonzero\" fill-opacity=\"1\" /><path clip-path=\"url(#clip610)\" d=\"M124.07 413.21 Q120.459 413.21 118.631 416.775 Q116.825 420.316 116.825 427.446 Q116.825 434.552 118.631 438.117 Q120.459 441.659 124.07 441.659 Q127.705 441.659 129.51 438.117 Q131.339 434.552 131.339 427.446 Q131.339 420.316 129.51 416.775 Q127.705 413.21 124.07 413.21 M124.07 409.506 Q129.881 409.506 132.936 414.113 Q136.015 418.696 136.015 427.446 Q136.015 436.173 132.936 440.779 Q129.881 445.362 124.07 445.362 Q118.26 445.362 115.182 440.779 Q112.126 436.173 112.126 427.446 Q112.126 418.696 115.182 414.113 Q118.26 409.506 124.07 409.506 Z\" fill=\"#000000\" fill-rule=\"nonzero\" fill-opacity=\"1\" /><path clip-path=\"url(#clip610)\" d=\"M53.793 70.6963 L72.1494 70.6963 L72.1494 74.6314 L58.0754 74.6314 L58.0754 83.1036 Q59.0939 82.7564 60.1124 82.5944 Q61.131 82.4092 62.1495 82.4092 Q67.9365 82.4092 71.3161 85.5805 Q74.6957 88.7517 74.6957 94.1684 Q74.6957 99.747 71.2235 102.849 Q67.7513 105.928 61.4319 105.928 Q59.256 105.928 56.9875 105.557 Q54.7421 105.187 52.3347 104.446 L52.3347 99.747 Q54.418 100.881 56.6402 101.437 Q58.8625 101.992 61.3393 101.992 Q65.3439 101.992 67.6819 99.8859 Q70.0198 97.7795 70.0198 94.1684 Q70.0198 90.5573 67.6819 88.4508 Q65.3439 86.3443 61.3393 86.3443 Q59.4643 86.3443 57.5893 86.761 Q55.7375 87.1777 53.793 88.0573 L53.793 70.6963 Z\" fill=\"#000000\" fill-rule=\"nonzero\" fill-opacity=\"1\" /><path clip-path=\"url(#clip610)\" d=\"M93.9086 73.775 Q90.2975 73.775 88.4688 77.3398 Q86.6632 80.8814 86.6632 88.011 Q86.6632 95.1174 88.4688 98.6822 Q90.2975 102.224 93.9086 102.224 Q97.5428 102.224 99.3483 98.6822 Q101.177 95.1174 101.177 88.011 Q101.177 80.8814 99.3483 77.3398 Q97.5428 73.775 93.9086 73.775 M93.9086 70.0713 Q99.7187 70.0713 102.774 74.6777 Q105.853 79.261 105.853 88.011 Q105.853 96.7378 102.774 101.344 Q99.7187 105.928 93.9086 105.928 Q88.0984 105.928 85.0197 101.344 Q81.9642 96.7378 81.9642 88.011 Q81.9642 79.261 85.0197 74.6777 Q88.0984 70.0713 93.9086 70.0713 Z\" fill=\"#000000\" fill-rule=\"nonzero\" fill-opacity=\"1\" /><path clip-path=\"url(#clip610)\" d=\"M124.07 73.775 Q120.459 73.775 118.631 77.3398 Q116.825 80.8814 116.825 88.011 Q116.825 95.1174 118.631 98.6822 Q120.459 102.224 124.07 102.224 Q127.705 102.224 129.51 98.6822 Q131.339 95.1174 131.339 88.011 Q131.339 80.8814 129.51 77.3398 Q127.705 73.775 124.07 73.775 M124.07 70.0713 Q129.881 70.0713 132.936 74.6777 Q136.015 79.261 136.015 88.011 Q136.015 96.7378 132.936 101.344 Q129.881 105.928 124.07 105.928 Q118.26 105.928 115.182 101.344 Q112.126 96.7378 112.126 88.011 Q112.126 79.261 115.182 74.6777 Q118.26 70.0713 124.07 70.0713 Z\" fill=\"#000000\" fill-rule=\"nonzero\" fill-opacity=\"1\" /><circle clip-path=\"url(#clip612)\" cx=\"233.734\" cy=\"597.129\" r=\"21.6\" fill=\"#40e0d0\" fill-rule=\"evenodd\" fill-opacity=\"1\" stroke=\"none\"/>\n",
       "<circle clip-path=\"url(#clip612)\" cx=\"527.634\" cy=\"1445.72\" r=\"21.6\" fill=\"#40e0d0\" fill-rule=\"evenodd\" fill-opacity=\"1\" stroke=\"none\"/>\n",
       "<circle clip-path=\"url(#clip612)\" cx=\"527.634\" cy=\"1276\" r=\"21.6\" fill=\"#40e0d0\" fill-rule=\"evenodd\" fill-opacity=\"1\" stroke=\"none\"/>\n",
       "<circle clip-path=\"url(#clip612)\" cx=\"527.634\" cy=\"766.846\" r=\"21.6\" fill=\"#40e0d0\" fill-rule=\"evenodd\" fill-opacity=\"1\" stroke=\"none\"/>\n",
       "<circle clip-path=\"url(#clip612)\" cx=\"527.634\" cy=\"597.129\" r=\"21.6\" fill=\"#40e0d0\" fill-rule=\"evenodd\" fill-opacity=\"1\" stroke=\"none\"/>\n",
       "<circle clip-path=\"url(#clip612)\" cx=\"527.634\" cy=\"427.411\" r=\"21.6\" fill=\"#40e0d0\" fill-rule=\"evenodd\" fill-opacity=\"1\" stroke=\"none\"/>\n",
       "<circle clip-path=\"url(#clip612)\" cx=\"527.634\" cy=\"257.694\" r=\"21.6\" fill=\"#40e0d0\" fill-rule=\"evenodd\" fill-opacity=\"1\" stroke=\"none\"/>\n",
       "<circle clip-path=\"url(#clip612)\" cx=\"821.535\" cy=\"1445.72\" r=\"21.6\" fill=\"#40e0d0\" fill-rule=\"evenodd\" fill-opacity=\"1\" stroke=\"none\"/>\n",
       "<circle clip-path=\"url(#clip612)\" cx=\"821.535\" cy=\"1276\" r=\"21.6\" fill=\"#40e0d0\" fill-rule=\"evenodd\" fill-opacity=\"1\" stroke=\"none\"/>\n",
       "<circle clip-path=\"url(#clip612)\" cx=\"821.535\" cy=\"597.129\" r=\"21.6\" fill=\"#40e0d0\" fill-rule=\"evenodd\" fill-opacity=\"1\" stroke=\"none\"/>\n",
       "<circle clip-path=\"url(#clip612)\" cx=\"821.535\" cy=\"427.411\" r=\"21.6\" fill=\"#40e0d0\" fill-rule=\"evenodd\" fill-opacity=\"1\" stroke=\"none\"/>\n",
       "<circle clip-path=\"url(#clip612)\" cx=\"821.535\" cy=\"257.694\" r=\"21.6\" fill=\"#40e0d0\" fill-rule=\"evenodd\" fill-opacity=\"1\" stroke=\"none\"/>\n",
       "<circle clip-path=\"url(#clip612)\" cx=\"1115.44\" cy=\"257.694\" r=\"21.6\" fill=\"#40e0d0\" fill-rule=\"evenodd\" fill-opacity=\"1\" stroke=\"none\"/>\n",
       "<circle clip-path=\"url(#clip612)\" cx=\"1409.34\" cy=\"936.563\" r=\"21.6\" fill=\"#40e0d0\" fill-rule=\"evenodd\" fill-opacity=\"1\" stroke=\"none\"/>\n",
       "<circle clip-path=\"url(#clip612)\" cx=\"1409.34\" cy=\"257.694\" r=\"21.6\" fill=\"#40e0d0\" fill-rule=\"evenodd\" fill-opacity=\"1\" stroke=\"none\"/>\n",
       "<circle clip-path=\"url(#clip612)\" cx=\"1409.34\" cy=\"87.9763\" r=\"21.6\" fill=\"#40e0d0\" fill-rule=\"evenodd\" fill-opacity=\"1\" stroke=\"none\"/>\n",
       "<circle clip-path=\"url(#clip612)\" cx=\"1703.24\" cy=\"1106.28\" r=\"21.6\" fill=\"#40e0d0\" fill-rule=\"evenodd\" fill-opacity=\"1\" stroke=\"none\"/>\n",
       "<circle clip-path=\"url(#clip612)\" cx=\"1703.24\" cy=\"936.563\" r=\"21.6\" fill=\"#40e0d0\" fill-rule=\"evenodd\" fill-opacity=\"1\" stroke=\"none\"/>\n",
       "<circle clip-path=\"url(#clip612)\" cx=\"1703.24\" cy=\"766.846\" r=\"21.6\" fill=\"#40e0d0\" fill-rule=\"evenodd\" fill-opacity=\"1\" stroke=\"none\"/>\n",
       "<circle clip-path=\"url(#clip612)\" cx=\"1703.24\" cy=\"257.694\" r=\"21.6\" fill=\"#40e0d0\" fill-rule=\"evenodd\" fill-opacity=\"1\" stroke=\"none\"/>\n",
       "<circle clip-path=\"url(#clip612)\" cx=\"1703.24\" cy=\"87.9763\" r=\"21.6\" fill=\"#40e0d0\" fill-rule=\"evenodd\" fill-opacity=\"1\" stroke=\"none\"/>\n",
       "<circle clip-path=\"url(#clip612)\" cx=\"1997.14\" cy=\"257.694\" r=\"21.6\" fill=\"#40e0d0\" fill-rule=\"evenodd\" fill-opacity=\"1\" stroke=\"none\"/>\n",
       "<circle clip-path=\"url(#clip612)\" cx=\"1997.14\" cy=\"87.9763\" r=\"21.6\" fill=\"#40e0d0\" fill-rule=\"evenodd\" fill-opacity=\"1\" stroke=\"none\"/>\n",
       "<circle clip-path=\"url(#clip612)\" cx=\"2291.04\" cy=\"257.694\" r=\"21.6\" fill=\"#40e0d0\" fill-rule=\"evenodd\" fill-opacity=\"1\" stroke=\"none\"/>\n",
       "<circle clip-path=\"url(#clip612)\" cx=\"2291.04\" cy=\"87.9763\" r=\"21.6\" fill=\"#40e0d0\" fill-rule=\"evenodd\" fill-opacity=\"1\" stroke=\"none\"/>\n",
       "<path clip-path=\"url(#clip612)\" d=\"M852.161 243.46 L852.161 291.46 L900.161 291.46 L900.161 243.46 L852.161 243.46 Z\" fill=\"#cd919e\" fill-rule=\"evenodd\" fill-opacity=\"1\" stroke=\"none\"/>\n",
       "<path clip-path=\"url(#clip612)\" d=\"M921.65 244.241 L921.65 292.241 L969.65 292.241 L969.65 244.241 L921.65 244.241 Z\" fill=\"#cd919e\" fill-rule=\"evenodd\" fill-opacity=\"1\" stroke=\"none\"/>\n",
       "<path clip-path=\"url(#clip612)\" d=\"M736.352 284.277 L736.352 332.277 L784.352 332.277 L784.352 284.277 L736.352 284.277 Z\" fill=\"#cd919e\" fill-rule=\"evenodd\" fill-opacity=\"1\" stroke=\"none\"/>\n",
       "<path clip-path=\"url(#clip612)\" d=\"M2113.78 69.6359 L2113.78 117.636 L2161.78 117.636 L2161.78 69.6359 L2113.78 69.6359 Z\" fill=\"#cd919e\" fill-rule=\"evenodd\" fill-opacity=\"1\" stroke=\"none\"/>\n",
       "<path clip-path=\"url(#clip612)\" d=\"M2129.1 118.856 L2129.1 166.856 L2177.1 166.856 L2177.1 118.856 L2129.1 118.856 Z\" fill=\"#cd919e\" fill-rule=\"evenodd\" fill-opacity=\"1\" stroke=\"none\"/>\n",
       "<path clip-path=\"url(#clip612)\" d=\"M2139.62 88.0412 L2139.62 136.041 L2187.62 136.041 L2187.62 88.0412 L2139.62 88.0412 Z\" fill=\"#cd919e\" fill-rule=\"evenodd\" fill-opacity=\"1\" stroke=\"none\"/>\n",
       "<path clip-path=\"url(#clip612)\" d=\"M2027.03 67.9145 L2027.03 115.914 L2075.03 115.914 L2075.03 67.9145 L2027.03 67.9145 Z\" fill=\"#cd919e\" fill-rule=\"evenodd\" fill-opacity=\"1\" stroke=\"none\"/>\n",
       "<path clip-path=\"url(#clip612)\" d=\"M423.447 571.235 L423.447 619.235 L471.447 619.235 L471.447 571.235 L423.447 571.235 Z\" fill=\"#cd919e\" fill-rule=\"evenodd\" fill-opacity=\"1\" stroke=\"none\"/>\n",
       "<path clip-path=\"url(#clip612)\" d=\"M486.532 602.59 L486.532 650.59 L534.532 650.59 L534.532 602.59 L486.532 602.59 Z\" fill=\"#cd919e\" fill-rule=\"evenodd\" fill-opacity=\"1\" stroke=\"none\"/>\n",
       "<path clip-path=\"url(#clip612)\" d=\"M535.851 523.274 L535.851 571.274 L583.851 571.274 L583.851 523.274 L535.851 523.274 Z\" fill=\"#cd919e\" fill-rule=\"evenodd\" fill-opacity=\"1\" stroke=\"none\"/>\n",
       "<path clip-path=\"url(#clip612)\" d=\"M1740.2 162.699 L1740.2 210.699 L1788.2 210.699 L1788.2 162.699 L1740.2 162.699 Z\" fill=\"#cd919e\" fill-rule=\"evenodd\" fill-opacity=\"1\" stroke=\"none\"/>\n",
       "<path clip-path=\"url(#clip612)\" d=\"M1740.23 133.393 L1740.23 181.393 L1788.23 181.393 L1788.23 133.393 L1740.23 133.393 Z\" fill=\"#cd919e\" fill-rule=\"evenodd\" fill-opacity=\"1\" stroke=\"none\"/>\n",
       "<path clip-path=\"url(#clip612)\" d=\"M1663.13 186.14 L1663.13 234.14 L1711.13 234.14 L1711.13 186.14 L1663.13 186.14 Z\" fill=\"#cd919e\" fill-rule=\"evenodd\" fill-opacity=\"1\" stroke=\"none\"/>\n",
       "<path clip-path=\"url(#clip612)\" d=\"M1623.29 212.299 L1623.29 260.299 L1671.29 260.299 L1671.29 212.299 L1623.29 212.299 Z\" fill=\"#cd919e\" fill-rule=\"evenodd\" fill-opacity=\"1\" stroke=\"none\"/>\n",
       "<path clip-path=\"url(#clip612)\" d=\"M1835.87 214.732 L1835.87 262.732 L1883.87 262.732 L1883.87 214.732 L1835.87 214.732 Z\" fill=\"#cd919e\" fill-rule=\"evenodd\" fill-opacity=\"1\" stroke=\"none\"/>\n",
       "<path clip-path=\"url(#clip612)\" d=\"M1620.05 148.889 L1620.05 196.889 L1668.05 196.889 L1668.05 148.889 L1620.05 148.889 Z\" fill=\"#cd919e\" fill-rule=\"evenodd\" fill-opacity=\"1\" stroke=\"none\"/>\n",
       "<path clip-path=\"url(#clip612)\" d=\"M1688.9 85.4511 L1688.9 133.451 L1736.9 133.451 L1736.9 85.4511 L1688.9 85.4511 Z\" fill=\"#cd919e\" fill-rule=\"evenodd\" fill-opacity=\"1\" stroke=\"none\"/>\n",
       "<path clip-path=\"url(#clip612)\" d=\"M1659.88 95.6506 L1659.88 143.651 L1707.88 143.651 L1707.88 95.6506 L1659.88 95.6506 Z\" fill=\"#cd919e\" fill-rule=\"evenodd\" fill-opacity=\"1\" stroke=\"none\"/>\n",
       "<path clip-path=\"url(#clip612)\" d=\"M1576.44 107.516 L1576.44 155.516 L1624.44 155.516 L1624.44 107.516 L1576.44 107.516 Z\" fill=\"#cd919e\" fill-rule=\"evenodd\" fill-opacity=\"1\" stroke=\"none\"/>\n",
       "<path clip-path=\"url(#clip612)\" d=\"M1646.71 926.852 L1646.71 974.852 L1694.71 974.852 L1694.71 926.852 L1646.71 926.852 Z\" fill=\"#cd919e\" fill-rule=\"evenodd\" fill-opacity=\"1\" stroke=\"none\"/>\n",
       "<path clip-path=\"url(#clip612)\" d=\"M1537.83 892.183 L1537.83 940.183 L1585.83 940.183 L1585.83 892.183 L1537.83 892.183 Z\" fill=\"#cd919e\" fill-rule=\"evenodd\" fill-opacity=\"1\" stroke=\"none\"/>\n",
       "<path clip-path=\"url(#clip612)\" d=\"M1573.04 891.549 L1573.04 939.549 L1621.04 939.549 L1621.04 891.549 L1573.04 891.549 Z\" fill=\"#cd919e\" fill-rule=\"evenodd\" fill-opacity=\"1\" stroke=\"none\"/>\n",
       "<path clip-path=\"url(#clip612)\" d=\"M1631.55 978.882 L1631.55 1026.88 L1679.55 1026.88 L1679.55 978.882 L1631.55 978.882 Z\" fill=\"#cd919e\" fill-rule=\"evenodd\" fill-opacity=\"1\" stroke=\"none\"/>\n",
       "<path clip-path=\"url(#clip612)\" d=\"M644.132 1287.09 L644.132 1335.09 L692.132 1335.09 L692.132 1287.09 L644.132 1287.09 Z\" fill=\"#cd919e\" fill-rule=\"evenodd\" fill-opacity=\"1\" stroke=\"none\"/>\n",
       "<path clip-path=\"url(#clip612)\" d=\"M592.415 1261.88 L592.415 1309.88 L640.415 1309.88 L640.415 1261.88 L592.415 1261.88 Z\" fill=\"#cd919e\" fill-rule=\"evenodd\" fill-opacity=\"1\" stroke=\"none\"/>\n",
       "<polyline clip-path=\"url(#clip612)\" style=\"stroke:#006400; stroke-linecap:round; stroke-linejoin:round; stroke-width:8; stroke-opacity:1; fill:none\" points=\"1191.78,853.315 876.161,267.46 \"/>\n",
       "<polyline clip-path=\"url(#clip612)\" style=\"stroke:#006400; stroke-linecap:round; stroke-linejoin:round; stroke-width:8; stroke-opacity:1; fill:none\" points=\"877.389,307.691 876.161,267.46 909.082,290.616 \"/>\n",
       "<polyline clip-path=\"url(#clip612)\" style=\"stroke:#006400; stroke-linecap:round; stroke-linejoin:round; stroke-width:8; stroke-opacity:1; fill:none\" points=\"876.161,267.46 1191.78,853.315 \"/>\n",
       "<polyline clip-path=\"url(#clip612)\" style=\"stroke:#006400; stroke-linecap:round; stroke-linejoin:round; stroke-width:8; stroke-opacity:1; fill:none\" points=\"876.161,267.46 945.65,268.241 \"/>\n",
       "<polyline clip-path=\"url(#clip612)\" style=\"stroke:#006400; stroke-linecap:round; stroke-linejoin:round; stroke-width:8; stroke-opacity:1; fill:none\" points=\"909.855,249.838 945.65,268.241 909.45,285.835 \"/>\n",
       "<polyline clip-path=\"url(#clip612)\" style=\"stroke:#006400; stroke-linecap:round; stroke-linejoin:round; stroke-width:8; stroke-opacity:1; fill:none\" points=\"945.65,268.241 876.161,267.46 \"/>\n",
       "<polyline clip-path=\"url(#clip612)\" style=\"stroke:#006400; stroke-linecap:round; stroke-linejoin:round; stroke-width:8; stroke-opacity:1; fill:none\" points=\"945.65,268.241 760.352,308.277 \"/>\n",
       "<polyline clip-path=\"url(#clip612)\" style=\"stroke:#006400; stroke-linecap:round; stroke-linejoin:round; stroke-width:8; stroke-opacity:1; fill:none\" points=\"799.341,318.268 760.352,308.277 791.739,283.08 \"/>\n",
       "<polyline clip-path=\"url(#clip612)\" style=\"stroke:#006400; stroke-linecap:round; stroke-linejoin:round; stroke-width:8; stroke-opacity:1; fill:none\" points=\"760.352,308.277 945.65,268.241 \"/>\n",
       "<polyline clip-path=\"url(#clip612)\" style=\"stroke:#006400; stroke-linecap:round; stroke-linejoin:round; stroke-width:8; stroke-opacity:1; fill:none\" points=\"760.352,308.277 1191.78,853.315 \"/>\n",
       "<polyline clip-path=\"url(#clip612)\" style=\"stroke:#006400; stroke-linecap:round; stroke-linejoin:round; stroke-width:8; stroke-opacity:1; fill:none\" points=\"1183.55,813.916 1191.78,853.315 1155.32,836.26 \"/>\n",
       "<polyline clip-path=\"url(#clip612)\" style=\"stroke:#006400; stroke-linecap:round; stroke-linejoin:round; stroke-width:8; stroke-opacity:1; fill:none\" points=\"1191.78,853.315 760.352,308.277 \"/>\n",
       "<polyline clip-path=\"url(#clip612)\" style=\"stroke:#1e90ff; stroke-linecap:round; stroke-linejoin:round; stroke-width:8; stroke-opacity:1; fill:none\" points=\"1191.78,853.315 447.447,595.235 \"/>\n",
       "<polyline clip-path=\"url(#clip612)\" style=\"stroke:#1e90ff; stroke-linecap:round; stroke-linejoin:round; stroke-width:8; stroke-opacity:1; fill:none\" points=\"475.564,624.035 447.447,595.235 487.357,590.021 \"/>\n",
       "<polyline clip-path=\"url(#clip612)\" style=\"stroke:#1e90ff; stroke-linecap:round; stroke-linejoin:round; stroke-width:8; stroke-opacity:1; fill:none\" points=\"447.447,595.235 1191.78,853.315 \"/>\n",
       "<polyline clip-path=\"url(#clip612)\" style=\"stroke:#1e90ff; stroke-linecap:round; stroke-linejoin:round; stroke-width:8; stroke-opacity:1; fill:none\" points=\"447.447,595.235 510.532,626.59 \"/>\n",
       "<polyline clip-path=\"url(#clip612)\" style=\"stroke:#1e90ff; stroke-linecap:round; stroke-linejoin:round; stroke-width:8; stroke-opacity:1; fill:none\" points=\"486.306,594.448 510.532,626.59 470.283,626.686 \"/>\n",
       "<polyline clip-path=\"url(#clip612)\" style=\"stroke:#1e90ff; stroke-linecap:round; stroke-linejoin:round; stroke-width:8; stroke-opacity:1; fill:none\" points=\"510.532,626.59 447.447,595.235 \"/>\n",
       "<polyline clip-path=\"url(#clip612)\" style=\"stroke:#1e90ff; stroke-linecap:round; stroke-linejoin:round; stroke-width:8; stroke-opacity:1; fill:none\" points=\"510.532,626.59 559.851,547.274 \"/>\n",
       "<polyline clip-path=\"url(#clip612)\" style=\"stroke:#1e90ff; stroke-linecap:round; stroke-linejoin:round; stroke-width:8; stroke-opacity:1; fill:none\" points=\"525.555,568.341 559.851,547.274 556.127,587.35 \"/>\n",
       "<polyline clip-path=\"url(#clip612)\" style=\"stroke:#1e90ff; stroke-linecap:round; stroke-linejoin:round; stroke-width:8; stroke-opacity:1; fill:none\" points=\"559.851,547.274 510.532,626.59 \"/>\n",
       "<polyline clip-path=\"url(#clip612)\" style=\"stroke:#1e90ff; stroke-linecap:round; stroke-linejoin:round; stroke-width:8; stroke-opacity:1; fill:none\" points=\"559.851,547.274 1191.78,853.315 \"/>\n",
       "<polyline clip-path=\"url(#clip612)\" style=\"stroke:#1e90ff; stroke-linecap:round; stroke-linejoin:round; stroke-width:8; stroke-opacity:1; fill:none\" points=\"1167.23,821.424 1191.78,853.315 1151.53,853.824 \"/>\n",
       "<polyline clip-path=\"url(#clip612)\" style=\"stroke:#1e90ff; stroke-linecap:round; stroke-linejoin:round; stroke-width:8; stroke-opacity:1; fill:none\" points=\"1191.78,853.315 559.851,547.274 \"/>\n",
       "<polyline clip-path=\"url(#clip612)\" style=\"stroke:#8b795e; stroke-linecap:round; stroke-linejoin:round; stroke-width:8; stroke-opacity:1; fill:none\" points=\"1191.78,853.315 2137.78,93.6359 \"/>\n",
       "<polyline clip-path=\"url(#clip612)\" style=\"stroke:#8b795e; stroke-linecap:round; stroke-linejoin:round; stroke-width:8; stroke-opacity:1; fill:none\" points=\"2098.44,102.142 2137.78,93.6359 2120.98,130.212 \"/>\n",
       "<polyline clip-path=\"url(#clip612)\" style=\"stroke:#8b795e; stroke-linecap:round; stroke-linejoin:round; stroke-width:8; stroke-opacity:1; fill:none\" points=\"2137.78,93.6359 1191.78,853.315 \"/>\n",
       "<polyline clip-path=\"url(#clip612)\" style=\"stroke:#8b795e; stroke-linecap:round; stroke-linejoin:round; stroke-width:8; stroke-opacity:1; fill:none\" points=\"2137.78,93.6359 2153.1,142.856 \"/>\n",
       "<polyline clip-path=\"url(#clip612)\" style=\"stroke:#8b795e; stroke-linecap:round; stroke-linejoin:round; stroke-width:8; stroke-opacity:1; fill:none\" points=\"2159.59,103.133 2153.1,142.856 2125.22,113.83 \"/>\n",
       "<polyline clip-path=\"url(#clip612)\" style=\"stroke:#8b795e; stroke-linecap:round; stroke-linejoin:round; stroke-width:8; stroke-opacity:1; fill:none\" points=\"2153.1,142.856 2137.78,93.6359 \"/>\n",
       "<polyline clip-path=\"url(#clip612)\" style=\"stroke:#8b795e; stroke-linecap:round; stroke-linejoin:round; stroke-width:8; stroke-opacity:1; fill:none\" points=\"2153.1,142.856 2163.62,112.041 \"/>\n",
       "<polyline clip-path=\"url(#clip612)\" style=\"stroke:#8b795e; stroke-linecap:round; stroke-linejoin:round; stroke-width:8; stroke-opacity:1; fill:none\" points=\"2134.95,140.298 2163.62,112.041 2169.02,151.926 \"/>\n",
       "<polyline clip-path=\"url(#clip612)\" style=\"stroke:#8b795e; stroke-linecap:round; stroke-linejoin:round; stroke-width:8; stroke-opacity:1; fill:none\" points=\"2163.62,112.041 2153.1,142.856 \"/>\n",
       "<polyline clip-path=\"url(#clip612)\" style=\"stroke:#8b795e; stroke-linecap:round; stroke-linejoin:round; stroke-width:8; stroke-opacity:1; fill:none\" points=\"2163.62,112.041 2051.03,91.9145 \"/>\n",
       "<polyline clip-path=\"url(#clip612)\" style=\"stroke:#8b795e; stroke-linecap:round; stroke-linejoin:round; stroke-width:8; stroke-opacity:1; fill:none\" points=\"2083.3,115.969 2051.03,91.9145 2089.64,80.5305 \"/>\n",
       "<polyline clip-path=\"url(#clip612)\" style=\"stroke:#8b795e; stroke-linecap:round; stroke-linejoin:round; stroke-width:8; stroke-opacity:1; fill:none\" points=\"2051.03,91.9145 2163.62,112.041 \"/>\n",
       "<polyline clip-path=\"url(#clip612)\" style=\"stroke:#8b795e; stroke-linecap:round; stroke-linejoin:round; stroke-width:8; stroke-opacity:1; fill:none\" points=\"2051.03,91.9145 1191.78,853.315 \"/>\n",
       "<polyline clip-path=\"url(#clip612)\" style=\"stroke:#8b795e; stroke-linecap:round; stroke-linejoin:round; stroke-width:8; stroke-opacity:1; fill:none\" points=\"1230.66,842.911 1191.78,853.315 1206.79,815.968 \"/>\n",
       "<polyline clip-path=\"url(#clip612)\" style=\"stroke:#8b795e; stroke-linecap:round; stroke-linejoin:round; stroke-width:8; stroke-opacity:1; fill:none\" points=\"1191.78,853.315 2051.03,91.9145 \"/>\n",
       "<polyline clip-path=\"url(#clip612)\" style=\"stroke:#b22222; stroke-linecap:round; stroke-linejoin:round; stroke-width:8; stroke-opacity:1; fill:none\" points=\"1191.78,853.315 1670.71,950.852 \"/>\n",
       "<polyline clip-path=\"url(#clip612)\" style=\"stroke:#b22222; stroke-linecap:round; stroke-linejoin:round; stroke-width:8; stroke-opacity:1; fill:none\" points=\"1639.03,926.03 1670.71,950.852 1631.84,961.306 \"/>\n",
       "<polyline clip-path=\"url(#clip612)\" style=\"stroke:#b22222; stroke-linecap:round; stroke-linejoin:round; stroke-width:8; stroke-opacity:1; fill:none\" points=\"1670.71,950.852 1191.78,853.315 \"/>\n",
       "<polyline clip-path=\"url(#clip612)\" style=\"stroke:#b22222; stroke-linecap:round; stroke-linejoin:round; stroke-width:8; stroke-opacity:1; fill:none\" points=\"1670.71,950.852 1561.83,916.183 \"/>\n",
       "<polyline clip-path=\"url(#clip612)\" style=\"stroke:#b22222; stroke-linecap:round; stroke-linejoin:round; stroke-width:8; stroke-opacity:1; fill:none\" points=\"1590.67,944.257 1561.83,916.183 1601.59,909.954 \"/>\n",
       "<polyline clip-path=\"url(#clip612)\" style=\"stroke:#b22222; stroke-linecap:round; stroke-linejoin:round; stroke-width:8; stroke-opacity:1; fill:none\" points=\"1561.83,916.183 1670.71,950.852 \"/>\n",
       "<polyline clip-path=\"url(#clip612)\" style=\"stroke:#b22222; stroke-linecap:round; stroke-linejoin:round; stroke-width:8; stroke-opacity:1; fill:none\" points=\"1561.83,916.183 1597.04,915.549 \"/>\n",
       "<polyline clip-path=\"url(#clip612)\" style=\"stroke:#b22222; stroke-linecap:round; stroke-linejoin:round; stroke-width:8; stroke-opacity:1; fill:none\" points=\"1560.73,898.2 1597.04,915.549 1561.37,934.194 \"/>\n",
       "<polyline clip-path=\"url(#clip612)\" style=\"stroke:#b22222; stroke-linecap:round; stroke-linejoin:round; stroke-width:8; stroke-opacity:1; fill:none\" points=\"1597.04,915.549 1561.83,916.183 \"/>\n",
       "<polyline clip-path=\"url(#clip612)\" style=\"stroke:#b22222; stroke-linecap:round; stroke-linejoin:round; stroke-width:8; stroke-opacity:1; fill:none\" points=\"1597.04,915.549 1655.55,1002.88 \"/>\n",
       "<polyline clip-path=\"url(#clip612)\" style=\"stroke:#b22222; stroke-linecap:round; stroke-linejoin:round; stroke-width:8; stroke-opacity:1; fill:none\" points=\"1650.47,962.955 1655.55,1002.88 1620.56,982.992 \"/>\n",
       "<polyline clip-path=\"url(#clip612)\" style=\"stroke:#b22222; stroke-linecap:round; stroke-linejoin:round; stroke-width:8; stroke-opacity:1; fill:none\" points=\"1655.55,1002.88 1597.04,915.549 \"/>\n",
       "<polyline clip-path=\"url(#clip612)\" style=\"stroke:#b22222; stroke-linecap:round; stroke-linejoin:round; stroke-width:8; stroke-opacity:1; fill:none\" points=\"1655.55,1002.88 1191.78,853.315 \"/>\n",
       "<polyline clip-path=\"url(#clip612)\" style=\"stroke:#b22222; stroke-linecap:round; stroke-linejoin:round; stroke-width:8; stroke-opacity:1; fill:none\" points=\"1220.52,881.496 1191.78,853.315 1231.57,847.234 \"/>\n",
       "<polyline clip-path=\"url(#clip612)\" style=\"stroke:#b22222; stroke-linecap:round; stroke-linejoin:round; stroke-width:8; stroke-opacity:1; fill:none\" points=\"1191.78,853.315 1655.55,1002.88 \"/>\n",
       "<polyline clip-path=\"url(#clip612)\" style=\"stroke:#008080; stroke-linecap:round; stroke-linejoin:round; stroke-width:8; stroke-opacity:1; fill:none\" points=\"1191.78,853.315 668.132,1311.09 \"/>\n",
       "<polyline clip-path=\"url(#clip612)\" style=\"stroke:#008080; stroke-linecap:round; stroke-linejoin:round; stroke-width:8; stroke-opacity:1; fill:none\" points=\"707.082,1300.95 668.132,1311.09 683.388,1273.85 \"/>\n",
       "<polyline clip-path=\"url(#clip612)\" style=\"stroke:#008080; stroke-linecap:round; stroke-linejoin:round; stroke-width:8; stroke-opacity:1; fill:none\" points=\"668.132,1311.09 1191.78,853.315 \"/>\n",
       "<polyline clip-path=\"url(#clip612)\" style=\"stroke:#008080; stroke-linecap:round; stroke-linejoin:round; stroke-width:8; stroke-opacity:1; fill:none\" points=\"668.132,1311.09 616.415,1285.88 \"/>\n",
       "<polyline clip-path=\"url(#clip612)\" style=\"stroke:#008080; stroke-linecap:round; stroke-linejoin:round; stroke-width:8; stroke-opacity:1; fill:none\" points=\"640.885,1317.83 616.415,1285.88 656.663,1285.47 \"/>\n",
       "<polyline clip-path=\"url(#clip612)\" style=\"stroke:#008080; stroke-linecap:round; stroke-linejoin:round; stroke-width:8; stroke-opacity:1; fill:none\" points=\"616.415,1285.88 668.132,1311.09 \"/>\n",
       "<polyline clip-path=\"url(#clip612)\" style=\"stroke:#008080; stroke-linecap:round; stroke-linejoin:round; stroke-width:8; stroke-opacity:1; fill:none\" points=\"616.415,1285.88 1191.78,853.315 \"/>\n",
       "<polyline clip-path=\"url(#clip612)\" style=\"stroke:#008080; stroke-linecap:round; stroke-linejoin:round; stroke-width:8; stroke-opacity:1; fill:none\" points=\"1152.19,860.561 1191.78,853.315 1173.82,889.336 \"/>\n",
       "<polyline clip-path=\"url(#clip612)\" style=\"stroke:#008080; stroke-linecap:round; stroke-linejoin:round; stroke-width:8; stroke-opacity:1; fill:none\" points=\"1191.78,853.315 616.415,1285.88 \"/>\n",
       "<polyline clip-path=\"url(#clip612)\" style=\"stroke:#0000ff; stroke-linecap:round; stroke-linejoin:round; stroke-width:8; stroke-opacity:1; fill:none\" points=\"1191.78,853.315 1764.2,186.699 \"/>\n",
       "<polyline clip-path=\"url(#clip612)\" style=\"stroke:#0000ff; stroke-linecap:round; stroke-linejoin:round; stroke-width:8; stroke-opacity:1; fill:none\" points=\"1727.09,202.285 1764.2,186.699 1754.4,225.738 \"/>\n",
       "<polyline clip-path=\"url(#clip612)\" style=\"stroke:#0000ff; stroke-linecap:round; stroke-linejoin:round; stroke-width:8; stroke-opacity:1; fill:none\" points=\"1764.2,186.699 1191.78,853.315 \"/>\n",
       "<polyline clip-path=\"url(#clip612)\" style=\"stroke:#0000ff; stroke-linecap:round; stroke-linejoin:round; stroke-width:8; stroke-opacity:1; fill:none\" points=\"1764.2,186.699 1764.23,157.393 \"/>\n",
       "<polyline clip-path=\"url(#clip612)\" style=\"stroke:#0000ff; stroke-linecap:round; stroke-linejoin:round; stroke-width:8; stroke-opacity:1; fill:none\" points=\"1746.19,193.37 1764.23,157.393 1782.19,193.416 \"/>\n",
       "<polyline clip-path=\"url(#clip612)\" style=\"stroke:#0000ff; stroke-linecap:round; stroke-linejoin:round; stroke-width:8; stroke-opacity:1; fill:none\" points=\"1764.23,157.393 1764.2,186.699 \"/>\n",
       "<polyline clip-path=\"url(#clip612)\" style=\"stroke:#0000ff; stroke-linecap:round; stroke-linejoin:round; stroke-width:8; stroke-opacity:1; fill:none\" points=\"1764.23,157.393 1859.87,238.732 \"/>\n",
       "<polyline clip-path=\"url(#clip612)\" style=\"stroke:#0000ff; stroke-linecap:round; stroke-linejoin:round; stroke-width:8; stroke-opacity:1; fill:none\" points=\"1844.11,201.698 1859.87,238.732 1820.79,229.121 \"/>\n",
       "<polyline clip-path=\"url(#clip612)\" style=\"stroke:#0000ff; stroke-linecap:round; stroke-linejoin:round; stroke-width:8; stroke-opacity:1; fill:none\" points=\"1859.87,238.732 1764.23,157.393 \"/>\n",
       "<polyline clip-path=\"url(#clip612)\" style=\"stroke:#0000ff; stroke-linecap:round; stroke-linejoin:round; stroke-width:8; stroke-opacity:1; fill:none\" points=\"1859.87,238.732 1191.78,853.315 \"/>\n",
       "<polyline clip-path=\"url(#clip612)\" style=\"stroke:#0000ff; stroke-linecap:round; stroke-linejoin:round; stroke-width:8; stroke-opacity:1; fill:none\" points=\"1230.46,842.19 1191.78,853.315 1206.09,815.695 \"/>\n",
       "<polyline clip-path=\"url(#clip612)\" style=\"stroke:#0000ff; stroke-linecap:round; stroke-linejoin:round; stroke-width:8; stroke-opacity:1; fill:none\" points=\"1191.78,853.315 1859.87,238.732 \"/>\n",
       "<polyline clip-path=\"url(#clip612)\" style=\"stroke:#ee3b3b; stroke-linecap:round; stroke-linejoin:round; stroke-width:8; stroke-opacity:1; fill:none\" points=\"1191.78,853.315 1644.05,172.889 \"/>\n",
       "<polyline clip-path=\"url(#clip612)\" style=\"stroke:#ee3b3b; stroke-linecap:round; stroke-linejoin:round; stroke-width:8; stroke-opacity:1; fill:none\" points=\"1609.13,192.906 1644.05,172.889 1639.11,212.834 \"/>\n",
       "<polyline clip-path=\"url(#clip612)\" style=\"stroke:#ee3b3b; stroke-linecap:round; stroke-linejoin:round; stroke-width:8; stroke-opacity:1; fill:none\" points=\"1644.05,172.889 1191.78,853.315 \"/>\n",
       "<polyline clip-path=\"url(#clip612)\" style=\"stroke:#ee3b3b; stroke-linecap:round; stroke-linejoin:round; stroke-width:8; stroke-opacity:1; fill:none\" points=\"1644.05,172.889 1712.9,109.451 \"/>\n",
       "<polyline clip-path=\"url(#clip612)\" style=\"stroke:#ee3b3b; stroke-linecap:round; stroke-linejoin:round; stroke-width:8; stroke-opacity:1; fill:none\" points=\"1674.23,120.607 1712.9,109.451 1698.62,147.083 \"/>\n",
       "<polyline clip-path=\"url(#clip612)\" style=\"stroke:#ee3b3b; stroke-linecap:round; stroke-linejoin:round; stroke-width:8; stroke-opacity:1; fill:none\" points=\"1712.9,109.451 1644.05,172.889 \"/>\n",
       "<polyline clip-path=\"url(#clip612)\" style=\"stroke:#ee3b3b; stroke-linecap:round; stroke-linejoin:round; stroke-width:8; stroke-opacity:1; fill:none\" points=\"1712.9,109.451 1683.88,119.651 \"/>\n",
       "<polyline clip-path=\"url(#clip612)\" style=\"stroke:#ee3b3b; stroke-linecap:round; stroke-linejoin:round; stroke-width:8; stroke-opacity:1; fill:none\" points=\"1723.81,124.697 1683.88,119.651 1711.87,90.7333 \"/>\n",
       "<polyline clip-path=\"url(#clip612)\" style=\"stroke:#ee3b3b; stroke-linecap:round; stroke-linejoin:round; stroke-width:8; stroke-opacity:1; fill:none\" points=\"1683.88,119.651 1712.9,109.451 \"/>\n",
       "<polyline clip-path=\"url(#clip612)\" style=\"stroke:#ee3b3b; stroke-linecap:round; stroke-linejoin:round; stroke-width:8; stroke-opacity:1; fill:none\" points=\"1683.88,119.651 1600.44,131.516 \"/>\n",
       "<polyline clip-path=\"url(#clip612)\" style=\"stroke:#ee3b3b; stroke-linecap:round; stroke-linejoin:round; stroke-width:8; stroke-opacity:1; fill:none\" points=\"1638.62,144.268 1600.44,131.516 1633.55,108.627 \"/>\n",
       "<polyline clip-path=\"url(#clip612)\" style=\"stroke:#ee3b3b; stroke-linecap:round; stroke-linejoin:round; stroke-width:8; stroke-opacity:1; fill:none\" points=\"1600.44,131.516 1683.88,119.651 \"/>\n",
       "<polyline clip-path=\"url(#clip612)\" style=\"stroke:#ee3b3b; stroke-linecap:round; stroke-linejoin:round; stroke-width:8; stroke-opacity:1; fill:none\" points=\"1600.44,131.516 1687.13,210.14 \"/>\n",
       "<polyline clip-path=\"url(#clip612)\" style=\"stroke:#ee3b3b; stroke-linecap:round; stroke-linejoin:round; stroke-width:8; stroke-opacity:1; fill:none\" points=\"1672.56,172.622 1687.13,210.14 1648.37,199.288 \"/>\n",
       "<polyline clip-path=\"url(#clip612)\" style=\"stroke:#ee3b3b; stroke-linecap:round; stroke-linejoin:round; stroke-width:8; stroke-opacity:1; fill:none\" points=\"1687.13,210.14 1600.44,131.516 \"/>\n",
       "<polyline clip-path=\"url(#clip612)\" style=\"stroke:#ee3b3b; stroke-linecap:round; stroke-linejoin:round; stroke-width:8; stroke-opacity:1; fill:none\" points=\"1687.13,210.14 1647.29,236.299 \"/>\n",
       "<polyline clip-path=\"url(#clip612)\" style=\"stroke:#ee3b3b; stroke-linecap:round; stroke-linejoin:round; stroke-width:8; stroke-opacity:1; fill:none\" points=\"1687.26,231.588 1647.29,236.299 1667.5,201.495 \"/>\n",
       "<polyline clip-path=\"url(#clip612)\" style=\"stroke:#ee3b3b; stroke-linecap:round; stroke-linejoin:round; stroke-width:8; stroke-opacity:1; fill:none\" points=\"1647.29,236.299 1687.13,210.14 \"/>\n",
       "<polyline clip-path=\"url(#clip612)\" style=\"stroke:#ee3b3b; stroke-linecap:round; stroke-linejoin:round; stroke-width:8; stroke-opacity:1; fill:none\" points=\"1647.29,236.299 1191.78,853.315 \"/>\n",
       "<polyline clip-path=\"url(#clip612)\" style=\"stroke:#ee3b3b; stroke-linecap:round; stroke-linejoin:round; stroke-width:8; stroke-opacity:1; fill:none\" points=\"1227.64,835.043 1191.78,853.315 1198.68,813.662 \"/>\n",
       "<polyline clip-path=\"url(#clip612)\" style=\"stroke:#ee3b3b; stroke-linecap:round; stroke-linejoin:round; stroke-width:8; stroke-opacity:1; fill:none\" points=\"1191.78,853.315 1647.29,236.299 \"/>\n",
       "<path clip-path=\"url(#clip612)\" d=\"M1239.78 853.315 L1167.78 811.315 L1167.78 895.315 L1239.78 853.315 Z\" fill=\"#000000\" fill-rule=\"evenodd\" fill-opacity=\"1\" stroke=\"none\"/>\n",
       "<path clip-path=\"url(#clip610)\" d=\"M1625.97 1438.47 L2280.06 1438.47 L2280.06 1231.11 L1625.97 1231.11  Z\" fill=\"#ffffff\" fill-rule=\"evenodd\" fill-opacity=\"1\"/>\n",
       "<polyline clip-path=\"url(#clip610)\" style=\"stroke:#000000; stroke-linecap:round; stroke-linejoin:round; stroke-width:4; stroke-opacity:1; fill:none\" points=\"1625.97,1438.47 2280.06,1438.47 2280.06,1231.11 1625.97,1231.11 1625.97,1438.47 \"/>\n",
       "<circle clip-path=\"url(#clip610)\" cx=\"1722.9\" cy=\"1282.95\" r=\"18.432\" fill=\"#40e0d0\" fill-rule=\"evenodd\" fill-opacity=\"1\" stroke=\"none\"/>\n",
       "<path clip-path=\"url(#clip610)\" d=\"M1847.69 1268.34 L1847.69 1273.27 Q1845.33 1271.07 1842.64 1269.98 Q1839.98 1268.89 1836.97 1268.89 Q1831.04 1268.89 1827.9 1272.53 Q1824.75 1276.14 1824.75 1282.99 Q1824.75 1289.82 1827.9 1293.45 Q1831.04 1297.06 1836.97 1297.06 Q1839.98 1297.06 1842.64 1295.98 Q1845.33 1294.89 1847.69 1292.69 L1847.69 1297.57 Q1845.23 1299.24 1842.48 1300.07 Q1839.75 1300.91 1836.69 1300.91 Q1828.85 1300.91 1824.33 1296.11 Q1819.82 1291.3 1819.82 1282.99 Q1819.82 1274.66 1824.33 1269.86 Q1828.85 1265.05 1836.69 1265.05 Q1839.79 1265.05 1842.53 1265.88 Q1845.28 1266.69 1847.69 1268.34 Z\" fill=\"#000000\" fill-rule=\"nonzero\" fill-opacity=\"1\" /><path clip-path=\"url(#clip610)\" d=\"M1864.77 1277.29 Q1861.35 1277.29 1859.35 1279.98 Q1857.36 1282.64 1857.36 1287.29 Q1857.36 1291.95 1859.33 1294.63 Q1861.32 1297.29 1864.77 1297.29 Q1868.17 1297.29 1870.16 1294.61 Q1872.16 1291.92 1872.16 1287.29 Q1872.16 1282.69 1870.16 1280 Q1868.17 1277.29 1864.77 1277.29 M1864.77 1273.68 Q1870.33 1273.68 1873.5 1277.29 Q1876.67 1280.91 1876.67 1287.29 Q1876.67 1293.66 1873.5 1297.29 Q1870.33 1300.91 1864.77 1300.91 Q1859.19 1300.91 1856.02 1297.29 Q1852.87 1293.66 1852.87 1287.29 Q1852.87 1280.91 1856.02 1277.29 Q1859.19 1273.68 1864.77 1273.68 Z\" fill=\"#000000\" fill-rule=\"nonzero\" fill-opacity=\"1\" /><path clip-path=\"url(#clip610)\" d=\"M1880.67 1274.31 L1885.19 1274.31 L1893.29 1296.07 L1901.39 1274.31 L1905.91 1274.31 L1896.18 1300.23 L1890.4 1300.23 L1880.67 1274.31 Z\" fill=\"#000000\" fill-rule=\"nonzero\" fill-opacity=\"1\" /><path clip-path=\"url(#clip610)\" d=\"M1933.96 1286.21 L1933.96 1288.29 L1914.38 1288.29 Q1914.66 1292.69 1917.02 1295 Q1919.4 1297.29 1923.64 1297.29 Q1926.09 1297.29 1928.38 1296.69 Q1930.7 1296.09 1932.97 1294.89 L1932.97 1298.91 Q1930.67 1299.89 1928.27 1300.4 Q1925.86 1300.91 1923.38 1300.91 Q1917.18 1300.91 1913.54 1297.29 Q1909.93 1293.68 1909.93 1287.53 Q1909.93 1281.16 1913.36 1277.43 Q1916.81 1273.68 1922.64 1273.68 Q1927.87 1273.68 1930.91 1277.06 Q1933.96 1280.42 1933.96 1286.21 M1929.7 1284.96 Q1929.66 1281.46 1927.73 1279.38 Q1925.84 1277.29 1922.69 1277.29 Q1919.12 1277.29 1916.97 1279.31 Q1914.84 1281.32 1914.52 1284.98 L1929.7 1284.96 Z\" fill=\"#000000\" fill-rule=\"nonzero\" fill-opacity=\"1\" /><path clip-path=\"url(#clip610)\" d=\"M1955.97 1278.29 Q1955.26 1277.87 1954.4 1277.69 Q1953.57 1277.48 1952.55 1277.48 Q1948.94 1277.48 1946.99 1279.84 Q1945.07 1282.18 1945.07 1286.58 L1945.07 1300.23 L1940.79 1300.23 L1940.79 1274.31 L1945.07 1274.31 L1945.07 1278.34 Q1946.41 1275.98 1948.57 1274.84 Q1950.72 1273.68 1953.8 1273.68 Q1954.24 1273.68 1954.77 1273.75 Q1955.3 1273.8 1955.95 1273.92 L1955.97 1278.29 Z\" fill=\"#000000\" fill-rule=\"nonzero\" fill-opacity=\"1\" /><path clip-path=\"url(#clip610)\" d=\"M1972.22 1287.2 Q1967.06 1287.2 1965.07 1288.38 Q1963.08 1289.56 1963.08 1292.41 Q1963.08 1294.68 1964.56 1296.02 Q1966.07 1297.34 1968.64 1297.34 Q1972.18 1297.34 1974.31 1294.84 Q1976.46 1292.32 1976.46 1288.15 L1976.46 1287.2 L1972.22 1287.2 M1980.72 1285.44 L1980.72 1300.23 L1976.46 1300.23 L1976.46 1296.3 Q1975 1298.66 1972.83 1299.79 Q1970.65 1300.91 1967.5 1300.91 Q1963.52 1300.91 1961.16 1298.68 Q1958.82 1296.44 1958.82 1292.69 Q1958.82 1288.31 1961.74 1286.09 Q1964.68 1283.87 1970.49 1283.87 L1976.46 1283.87 L1976.46 1283.45 Q1976.46 1280.51 1974.52 1278.92 Q1972.59 1277.29 1969.1 1277.29 Q1966.88 1277.29 1964.77 1277.83 Q1962.66 1278.36 1960.72 1279.42 L1960.72 1275.49 Q1963.06 1274.59 1965.26 1274.15 Q1967.46 1273.68 1969.54 1273.68 Q1975.16 1273.68 1977.94 1276.6 Q1980.72 1279.52 1980.72 1285.44 Z\" fill=\"#000000\" fill-rule=\"nonzero\" fill-opacity=\"1\" /><path clip-path=\"url(#clip610)\" d=\"M2006.55 1286.97 Q2006.55 1282.34 2004.63 1279.79 Q2002.73 1277.25 1999.28 1277.25 Q1995.86 1277.25 1993.94 1279.79 Q1992.04 1282.34 1992.04 1286.97 Q1992.04 1291.58 1993.94 1294.12 Q1995.86 1296.67 1999.28 1296.67 Q2002.73 1296.67 2004.63 1294.12 Q2006.55 1291.58 2006.55 1286.97 M2010.81 1297.02 Q2010.81 1303.64 2007.87 1306.85 Q2004.93 1310.1 1998.87 1310.1 Q1996.62 1310.1 1994.63 1309.75 Q1992.64 1309.42 1990.77 1308.73 L1990.77 1304.59 Q1992.64 1305.6 1994.47 1306.09 Q1996.3 1306.58 1998.2 1306.58 Q2002.39 1306.58 2004.47 1304.38 Q2006.55 1302.2 2006.55 1297.78 L2006.55 1295.67 Q2005.23 1297.97 2003.17 1299.1 Q2001.11 1300.23 1998.24 1300.23 Q1993.47 1300.23 1990.56 1296.6 Q1987.64 1292.97 1987.64 1286.97 Q1987.64 1280.95 1990.56 1277.32 Q1993.47 1273.68 1998.24 1273.68 Q2001.11 1273.68 2003.17 1274.82 Q2005.23 1275.95 2006.55 1278.24 L2006.55 1274.31 L2010.81 1274.31 L2010.81 1297.02 Z\" fill=\"#000000\" fill-rule=\"nonzero\" fill-opacity=\"1\" /><path clip-path=\"url(#clip610)\" d=\"M2041.76 1286.21 L2041.76 1288.29 L2022.18 1288.29 Q2022.46 1292.69 2024.82 1295 Q2027.2 1297.29 2031.44 1297.29 Q2033.89 1297.29 2036.18 1296.69 Q2038.5 1296.09 2040.77 1294.89 L2040.77 1298.91 Q2038.47 1299.89 2036.07 1300.4 Q2033.66 1300.91 2031.18 1300.91 Q2024.98 1300.91 2021.34 1297.29 Q2017.73 1293.68 2017.73 1287.53 Q2017.73 1281.16 2021.16 1277.43 Q2024.61 1273.68 2030.44 1273.68 Q2035.67 1273.68 2038.71 1277.06 Q2041.76 1280.42 2041.76 1286.21 M2037.5 1284.96 Q2037.46 1281.46 2035.53 1279.38 Q2033.64 1277.29 2030.49 1277.29 Q2026.92 1277.29 2024.77 1279.31 Q2022.64 1281.32 2022.32 1284.98 L2037.5 1284.96 Z\" fill=\"#000000\" fill-rule=\"nonzero\" fill-opacity=\"1\" /><path clip-path=\"url(#clip610)\" d=\"M2064.01 1265.67 L2068.68 1265.67 L2068.68 1296.3 L2085.51 1296.3 L2085.51 1300.23 L2064.01 1300.23 L2064.01 1265.67 Z\" fill=\"#000000\" fill-rule=\"nonzero\" fill-opacity=\"1\" /><path clip-path=\"url(#clip610)\" d=\"M2099.45 1277.29 Q2096.02 1277.29 2094.03 1279.98 Q2092.04 1282.64 2092.04 1287.29 Q2092.04 1291.95 2094.01 1294.63 Q2096 1297.29 2099.45 1297.29 Q2102.85 1297.29 2104.84 1294.61 Q2106.83 1291.92 2106.83 1287.29 Q2106.83 1282.69 2104.84 1280 Q2102.85 1277.29 2099.45 1277.29 M2099.45 1273.68 Q2105 1273.68 2108.17 1277.29 Q2111.34 1280.91 2111.34 1287.29 Q2111.34 1293.66 2108.17 1297.29 Q2105 1300.91 2099.45 1300.91 Q2093.87 1300.91 2090.7 1297.29 Q2087.55 1293.66 2087.55 1287.29 Q2087.55 1280.91 2090.7 1277.29 Q2093.87 1273.68 2099.45 1273.68 Z\" fill=\"#000000\" fill-rule=\"nonzero\" fill-opacity=\"1\" /><path clip-path=\"url(#clip610)\" d=\"M2137.06 1275.3 L2137.06 1279.29 Q2135.26 1278.29 2133.43 1277.8 Q2131.62 1277.29 2129.77 1277.29 Q2125.63 1277.29 2123.33 1279.93 Q2121.04 1282.55 2121.04 1287.29 Q2121.04 1292.04 2123.33 1294.68 Q2125.63 1297.29 2129.77 1297.29 Q2131.62 1297.29 2133.43 1296.81 Q2135.26 1296.3 2137.06 1295.3 L2137.06 1299.24 Q2135.28 1300.07 2133.36 1300.49 Q2131.46 1300.91 2129.31 1300.91 Q2123.45 1300.91 2120 1297.23 Q2116.55 1293.54 2116.55 1287.29 Q2116.55 1280.95 2120.02 1277.32 Q2123.52 1273.68 2129.58 1273.68 Q2131.55 1273.68 2133.43 1274.1 Q2135.3 1274.49 2137.06 1275.3 Z\" fill=\"#000000\" fill-rule=\"nonzero\" fill-opacity=\"1\" /><path clip-path=\"url(#clip610)\" d=\"M2156.25 1287.2 Q2151.09 1287.2 2149.1 1288.38 Q2147.11 1289.56 2147.11 1292.41 Q2147.11 1294.68 2148.59 1296.02 Q2150.09 1297.34 2152.66 1297.34 Q2156.2 1297.34 2158.33 1294.84 Q2160.49 1292.32 2160.49 1288.15 L2160.49 1287.2 L2156.25 1287.2 M2164.75 1285.44 L2164.75 1300.23 L2160.49 1300.23 L2160.49 1296.3 Q2159.03 1298.66 2156.85 1299.79 Q2154.68 1300.91 2151.53 1300.91 Q2147.55 1300.91 2145.19 1298.68 Q2142.85 1296.44 2142.85 1292.69 Q2142.85 1288.31 2145.77 1286.09 Q2148.71 1283.87 2154.52 1283.87 L2160.49 1283.87 L2160.49 1283.45 Q2160.49 1280.51 2158.54 1278.92 Q2156.62 1277.29 2153.13 1277.29 Q2150.9 1277.29 2148.8 1277.83 Q2146.69 1278.36 2144.75 1279.42 L2144.75 1275.49 Q2147.08 1274.59 2149.28 1274.15 Q2151.48 1273.68 2153.57 1273.68 Q2159.19 1273.68 2161.97 1276.6 Q2164.75 1279.52 2164.75 1285.44 Z\" fill=\"#000000\" fill-rule=\"nonzero\" fill-opacity=\"1\" /><path clip-path=\"url(#clip610)\" d=\"M2177.73 1266.95 L2177.73 1274.31 L2186.51 1274.31 L2186.51 1277.62 L2177.73 1277.62 L2177.73 1291.69 Q2177.73 1294.86 2178.59 1295.77 Q2179.47 1296.67 2182.13 1296.67 L2186.51 1296.67 L2186.51 1300.23 L2182.13 1300.23 Q2177.2 1300.23 2175.33 1298.41 Q2173.45 1296.55 2173.45 1291.69 L2173.45 1277.62 L2170.33 1277.62 L2170.33 1274.31 L2173.45 1274.31 L2173.45 1266.95 L2177.73 1266.95 Z\" fill=\"#000000\" fill-rule=\"nonzero\" fill-opacity=\"1\" /><path clip-path=\"url(#clip610)\" d=\"M2192.11 1274.31 L2196.37 1274.31 L2196.37 1300.23 L2192.11 1300.23 L2192.11 1274.31 M2192.11 1264.22 L2196.37 1264.22 L2196.37 1269.61 L2192.11 1269.61 L2192.11 1264.22 Z\" fill=\"#000000\" fill-rule=\"nonzero\" fill-opacity=\"1\" /><path clip-path=\"url(#clip610)\" d=\"M2215.33 1277.29 Q2211.9 1277.29 2209.91 1279.98 Q2207.92 1282.64 2207.92 1287.29 Q2207.92 1291.95 2209.89 1294.63 Q2211.88 1297.29 2215.33 1297.29 Q2218.73 1297.29 2220.72 1294.61 Q2222.71 1291.92 2222.71 1287.29 Q2222.71 1282.69 2220.72 1280 Q2218.73 1277.29 2215.33 1277.29 M2215.33 1273.68 Q2220.88 1273.68 2224.05 1277.29 Q2227.22 1280.91 2227.22 1287.29 Q2227.22 1293.66 2224.05 1297.29 Q2220.88 1300.91 2215.33 1300.91 Q2209.75 1300.91 2206.58 1297.29 Q2203.43 1293.66 2203.43 1287.29 Q2203.43 1280.91 2206.58 1277.29 Q2209.75 1273.68 2215.33 1273.68 Z\" fill=\"#000000\" fill-rule=\"nonzero\" fill-opacity=\"1\" /><path clip-path=\"url(#clip610)\" d=\"M2255.83 1284.59 L2255.83 1300.23 L2251.57 1300.23 L2251.57 1284.73 Q2251.57 1281.04 2250.14 1279.22 Q2248.7 1277.39 2245.83 1277.39 Q2242.39 1277.39 2240.39 1279.59 Q2238.4 1281.79 2238.4 1285.58 L2238.4 1300.23 L2234.12 1300.23 L2234.12 1274.31 L2238.4 1274.31 L2238.4 1278.34 Q2239.93 1276 2241.99 1274.84 Q2244.07 1273.68 2246.78 1273.68 Q2251.25 1273.68 2253.54 1276.46 Q2255.83 1279.22 2255.83 1284.59 Z\" fill=\"#000000\" fill-rule=\"nonzero\" fill-opacity=\"1\" /><path clip-path=\"url(#clip610)\" d=\"M1702.42 1314.31 L1702.42 1355.27 L1743.38 1355.27 L1743.38 1314.31 L1702.42 1314.31 Z\" fill=\"#cd919e\" fill-rule=\"evenodd\" fill-opacity=\"1\" stroke=\"none\"/>\n",
       "<path clip-path=\"url(#clip610)\" d=\"M1819.82 1317.51 L1849.05 1317.51 L1849.05 1321.45 L1836.79 1321.45 L1836.79 1352.07 L1832.09 1352.07 L1832.09 1321.45 L1819.82 1321.45 L1819.82 1317.51 Z\" fill=\"#000000\" fill-rule=\"nonzero\" fill-opacity=\"1\" /><path clip-path=\"url(#clip610)\" d=\"M1857.32 1339.04 Q1852.16 1339.04 1850.16 1340.22 Q1848.17 1341.4 1848.17 1344.25 Q1848.17 1346.52 1849.66 1347.86 Q1851.16 1349.18 1853.73 1349.18 Q1857.27 1349.18 1859.4 1346.68 Q1861.55 1344.16 1861.55 1339.99 L1861.55 1339.04 L1857.32 1339.04 M1865.81 1337.28 L1865.81 1352.07 L1861.55 1352.07 L1861.55 1348.14 Q1860.1 1350.5 1857.92 1351.63 Q1855.74 1352.75 1852.6 1352.75 Q1848.61 1352.75 1846.25 1350.52 Q1843.91 1348.28 1843.91 1344.53 Q1843.91 1340.15 1846.83 1337.93 Q1849.77 1335.71 1855.58 1335.71 L1861.55 1335.71 L1861.55 1335.29 Q1861.55 1332.35 1859.61 1330.76 Q1857.69 1329.13 1854.19 1329.13 Q1851.97 1329.13 1849.86 1329.67 Q1847.76 1330.2 1845.81 1331.26 L1845.81 1327.33 Q1848.15 1326.43 1850.35 1325.99 Q1852.55 1325.52 1854.63 1325.52 Q1860.26 1325.52 1863.04 1328.44 Q1865.81 1331.36 1865.81 1337.28 Z\" fill=\"#000000\" fill-rule=\"nonzero\" fill-opacity=\"1\" /><path clip-path=\"url(#clip610)\" d=\"M1891.11 1326.91 L1891.11 1330.94 Q1889.31 1330.01 1887.36 1329.55 Q1885.42 1329.09 1883.34 1329.09 Q1880.16 1329.09 1878.57 1330.06 Q1876.99 1331.03 1876.99 1332.98 Q1876.99 1334.46 1878.13 1335.32 Q1879.26 1336.15 1882.69 1336.91 L1884.15 1337.24 Q1888.68 1338.21 1890.58 1339.99 Q1892.5 1341.75 1892.5 1344.92 Q1892.5 1348.53 1889.63 1350.64 Q1886.79 1352.75 1881.79 1352.75 Q1879.7 1352.75 1877.43 1352.33 Q1875.19 1351.94 1872.69 1351.13 L1872.69 1346.73 Q1875.05 1347.95 1877.34 1348.58 Q1879.63 1349.18 1881.88 1349.18 Q1884.89 1349.18 1886.51 1348.16 Q1888.13 1347.12 1888.13 1345.25 Q1888.13 1343.51 1886.95 1342.58 Q1885.79 1341.66 1881.83 1340.8 L1880.35 1340.45 Q1876.39 1339.62 1874.63 1337.91 Q1872.87 1336.17 1872.87 1333.16 Q1872.87 1329.51 1875.47 1327.51 Q1878.06 1325.52 1882.83 1325.52 Q1885.19 1325.52 1887.27 1325.87 Q1889.35 1326.22 1891.11 1326.91 Z\" fill=\"#000000\" fill-rule=\"nonzero\" fill-opacity=\"1\" /><path clip-path=\"url(#clip610)\" d=\"M1899.12 1316.06 L1903.41 1316.06 L1903.41 1337.33 L1916.11 1326.15 L1921.55 1326.15 L1907.8 1338.28 L1922.13 1352.07 L1916.58 1352.07 L1903.41 1339.41 L1903.41 1352.07 L1899.12 1352.07 L1899.12 1316.06 Z\" fill=\"#000000\" fill-rule=\"nonzero\" fill-opacity=\"1\" /><path clip-path=\"url(#clip610)\" d=\"M1941.99 1317.51 L1946.67 1317.51 L1946.67 1348.14 L1963.5 1348.14 L1963.5 1352.07 L1941.99 1352.07 L1941.99 1317.51 Z\" fill=\"#000000\" fill-rule=\"nonzero\" fill-opacity=\"1\" /><path clip-path=\"url(#clip610)\" d=\"M1977.43 1329.13 Q1974.01 1329.13 1972.02 1331.82 Q1970.03 1334.48 1970.03 1339.13 Q1970.03 1343.79 1971.99 1346.47 Q1973.98 1349.13 1977.43 1349.13 Q1980.84 1349.13 1982.83 1346.45 Q1984.82 1343.76 1984.82 1339.13 Q1984.82 1334.53 1982.83 1331.84 Q1980.84 1329.13 1977.43 1329.13 M1977.43 1325.52 Q1982.99 1325.52 1986.16 1329.13 Q1989.33 1332.75 1989.33 1339.13 Q1989.33 1345.5 1986.16 1349.13 Q1982.99 1352.75 1977.43 1352.75 Q1971.85 1352.75 1968.68 1349.13 Q1965.53 1345.5 1965.53 1339.13 Q1965.53 1332.75 1968.68 1329.13 Q1971.85 1325.52 1977.43 1325.52 Z\" fill=\"#000000\" fill-rule=\"nonzero\" fill-opacity=\"1\" /><path clip-path=\"url(#clip610)\" d=\"M2015.05 1327.14 L2015.05 1331.13 Q2013.24 1330.13 2011.41 1329.64 Q2009.61 1329.13 2007.76 1329.13 Q2003.61 1329.13 2001.32 1331.77 Q1999.03 1334.39 1999.03 1339.13 Q1999.03 1343.88 2001.32 1346.52 Q2003.61 1349.13 2007.76 1349.13 Q2009.61 1349.13 2011.41 1348.65 Q2013.24 1348.14 2015.05 1347.14 L2015.05 1351.08 Q2013.27 1351.91 2011.34 1352.33 Q2009.45 1352.75 2007.29 1352.75 Q2001.44 1352.75 1997.99 1349.07 Q1994.54 1345.38 1994.54 1339.13 Q1994.54 1332.79 1998.01 1329.16 Q2001.51 1325.52 2007.57 1325.52 Q2009.54 1325.52 2011.41 1325.94 Q2013.29 1326.33 2015.05 1327.14 Z\" fill=\"#000000\" fill-rule=\"nonzero\" fill-opacity=\"1\" /><path clip-path=\"url(#clip610)\" d=\"M2034.24 1339.04 Q2029.08 1339.04 2027.09 1340.22 Q2025.09 1341.4 2025.09 1344.25 Q2025.09 1346.52 2026.58 1347.86 Q2028.08 1349.18 2030.65 1349.18 Q2034.19 1349.18 2036.32 1346.68 Q2038.47 1344.16 2038.47 1339.99 L2038.47 1339.04 L2034.24 1339.04 M2042.73 1337.28 L2042.73 1352.07 L2038.47 1352.07 L2038.47 1348.14 Q2037.02 1350.5 2034.84 1351.63 Q2032.66 1352.75 2029.52 1352.75 Q2025.53 1352.75 2023.17 1350.52 Q2020.84 1348.28 2020.84 1344.53 Q2020.84 1340.15 2023.75 1337.93 Q2026.69 1335.71 2032.5 1335.71 L2038.47 1335.71 L2038.47 1335.29 Q2038.47 1332.35 2036.53 1330.76 Q2034.61 1329.13 2031.11 1329.13 Q2028.89 1329.13 2026.78 1329.67 Q2024.68 1330.2 2022.73 1331.26 L2022.73 1327.33 Q2025.07 1326.43 2027.27 1325.99 Q2029.47 1325.52 2031.55 1325.52 Q2037.18 1325.52 2039.96 1328.44 Q2042.73 1331.36 2042.73 1337.28 Z\" fill=\"#000000\" fill-rule=\"nonzero\" fill-opacity=\"1\" /><path clip-path=\"url(#clip610)\" d=\"M2055.72 1318.79 L2055.72 1326.15 L2064.49 1326.15 L2064.49 1329.46 L2055.72 1329.46 L2055.72 1343.53 Q2055.72 1346.7 2056.58 1347.61 Q2057.46 1348.51 2060.12 1348.51 L2064.49 1348.51 L2064.49 1352.07 L2060.12 1352.07 Q2055.19 1352.07 2053.31 1350.25 Q2051.44 1348.39 2051.44 1343.53 L2051.44 1329.46 L2048.31 1329.46 L2048.31 1326.15 L2051.44 1326.15 L2051.44 1318.79 L2055.72 1318.79 Z\" fill=\"#000000\" fill-rule=\"nonzero\" fill-opacity=\"1\" /><path clip-path=\"url(#clip610)\" d=\"M2070.09 1326.15 L2074.35 1326.15 L2074.35 1352.07 L2070.09 1352.07 L2070.09 1326.15 M2070.09 1316.06 L2074.35 1316.06 L2074.35 1321.45 L2070.09 1321.45 L2070.09 1316.06 Z\" fill=\"#000000\" fill-rule=\"nonzero\" fill-opacity=\"1\" /><path clip-path=\"url(#clip610)\" d=\"M2093.31 1329.13 Q2089.89 1329.13 2087.9 1331.82 Q2085.9 1334.48 2085.9 1339.13 Q2085.9 1343.79 2087.87 1346.47 Q2089.86 1349.13 2093.31 1349.13 Q2096.71 1349.13 2098.71 1346.45 Q2100.7 1343.76 2100.7 1339.13 Q2100.7 1334.53 2098.71 1331.84 Q2096.71 1329.13 2093.31 1329.13 M2093.31 1325.52 Q2098.87 1325.52 2102.04 1329.13 Q2105.21 1332.75 2105.21 1339.13 Q2105.21 1345.5 2102.04 1349.13 Q2098.87 1352.75 2093.31 1352.75 Q2087.73 1352.75 2084.56 1349.13 Q2081.41 1345.5 2081.41 1339.13 Q2081.41 1332.75 2084.56 1329.13 Q2087.73 1325.52 2093.31 1325.52 Z\" fill=\"#000000\" fill-rule=\"nonzero\" fill-opacity=\"1\" /><path clip-path=\"url(#clip610)\" d=\"M2133.82 1336.43 L2133.82 1352.07 L2129.56 1352.07 L2129.56 1336.57 Q2129.56 1332.88 2128.13 1331.06 Q2126.69 1329.23 2123.82 1329.23 Q2120.37 1329.23 2118.38 1331.43 Q2116.39 1333.63 2116.39 1337.42 L2116.39 1352.07 L2112.11 1352.07 L2112.11 1326.15 L2116.39 1326.15 L2116.39 1330.18 Q2117.92 1327.84 2119.98 1326.68 Q2122.06 1325.52 2124.77 1325.52 Q2129.24 1325.52 2131.53 1328.3 Q2133.82 1331.06 2133.82 1336.43 Z\" fill=\"#000000\" fill-rule=\"nonzero\" fill-opacity=\"1\" /><path clip-path=\"url(#clip610)\" d=\"M1742.72 1386.63 L1712.99 1369.29 L1712.99 1403.98 L1742.72 1386.63 Z\" fill=\"#000000\" fill-rule=\"evenodd\" fill-opacity=\"1\" stroke=\"none\"/>\n",
       "<path clip-path=\"url(#clip610)\" d=\"M1824.49 1373.2 L1824.49 1400.07 L1830.14 1400.07 Q1837.29 1400.07 1840.6 1396.83 Q1843.94 1393.59 1843.94 1386.6 Q1843.94 1379.66 1840.6 1376.44 Q1837.29 1373.2 1830.14 1373.2 L1824.49 1373.2 M1819.82 1369.35 L1829.42 1369.35 Q1839.47 1369.35 1844.17 1373.54 Q1848.87 1377.71 1848.87 1386.6 Q1848.87 1395.53 1844.15 1399.72 Q1839.42 1403.91 1829.42 1403.91 L1819.82 1403.91 L1819.82 1369.35 Z\" fill=\"#000000\" fill-rule=\"nonzero\" fill-opacity=\"1\" /><path clip-path=\"url(#clip610)\" d=\"M1856.32 1369.35 L1878.17 1369.35 L1878.17 1373.29 L1861 1373.29 L1861 1383.52 L1877.46 1383.52 L1877.46 1387.46 L1861 1387.46 L1861 1399.98 L1878.59 1399.98 L1878.59 1403.91 L1856.32 1403.91 L1856.32 1369.35 Z\" fill=\"#000000\" fill-rule=\"nonzero\" fill-opacity=\"1\" /><path clip-path=\"url(#clip610)\" d=\"M1890.95 1373.2 L1890.95 1386.18 L1896.83 1386.18 Q1900.1 1386.18 1901.88 1384.49 Q1903.66 1382.8 1903.66 1379.68 Q1903.66 1376.58 1901.88 1374.89 Q1900.1 1373.2 1896.83 1373.2 L1890.95 1373.2 M1886.28 1369.35 L1896.83 1369.35 Q1902.64 1369.35 1905.6 1371.99 Q1908.59 1374.61 1908.59 1379.68 Q1908.59 1384.79 1905.6 1387.41 Q1902.64 1390.03 1896.83 1390.03 L1890.95 1390.03 L1890.95 1403.91 L1886.28 1403.91 L1886.28 1369.35 Z\" fill=\"#000000\" fill-rule=\"nonzero\" fill-opacity=\"1\" /><path clip-path=\"url(#clip610)\" d=\"M1928.89 1372.53 Q1923.8 1372.53 1920.79 1376.32 Q1917.8 1380.12 1917.8 1386.67 Q1917.8 1393.2 1920.79 1396.99 Q1923.8 1400.79 1928.89 1400.79 Q1933.98 1400.79 1936.95 1396.99 Q1939.93 1393.2 1939.93 1386.67 Q1939.93 1380.12 1936.95 1376.32 Q1933.98 1372.53 1928.89 1372.53 M1928.89 1368.73 Q1936.16 1368.73 1940.51 1373.61 Q1944.86 1378.47 1944.86 1386.67 Q1944.86 1394.84 1940.51 1399.72 Q1936.16 1404.59 1928.89 1404.59 Q1921.6 1404.59 1917.22 1399.72 Q1912.87 1394.86 1912.87 1386.67 Q1912.87 1378.47 1917.22 1373.61 Q1921.6 1368.73 1928.89 1368.73 Z\" fill=\"#000000\" fill-rule=\"nonzero\" fill-opacity=\"1\" /><path clip-path=\"url(#clip610)\" d=\"M1947.39 1369.35 L1976.62 1369.35 L1976.62 1373.29 L1964.35 1373.29 L1964.35 1403.91 L1959.66 1403.91 L1959.66 1373.29 L1947.39 1373.29 L1947.39 1369.35 Z\" fill=\"#000000\" fill-rule=\"nonzero\" fill-opacity=\"1\" /></svg>\n"
      ]
     },
     "metadata": {},
     "output_type": "display_data"
    }
   ],
   "source": [
    "x_values = []\n",
    "y_values = []\n",
    "for i in 2:length(locations)\n",
    "    push!(x_values, locations[i][1])\n",
    "    push!(y_values, locations[i][2])\n",
    "end\n",
    "\n",
    "cov_x = []\n",
    "cov_y = []\n",
    "for i in 1:length(coverage_locations)\n",
    "    push!(cov_x, coverage_locations[i][1])\n",
    "    push!(cov_y, coverage_locations[i][2])\n",
    "end\n",
    "\n",
    "xcs = []\n",
    "ycs = []\n",
    "xvecs = []\n",
    "yvecs = []\n",
    "# now, the arrows to indicate routes\n",
    "for route_node_series in routes_nodes_only\n",
    "    xc, yc, xv, yv = [], [], [], []\n",
    "    for index in 1:length(route_node_series)-1\n",
    "        lindex1 = 1 + route_node_series[index] % (n_jobs+1)\n",
    "        lindex2 = 1 + route_node_series[index+1] % (n_jobs+1)\n",
    "        x1, y1 = locations[lindex1]\n",
    "        x2, y2 = locations[lindex2]\n",
    "        push!(xc, x1); push!(yc, y1); push!(xv, x2-x1); push!(yv, y2-y1)\n",
    "    end\n",
    "    push!(xcs, xc); push!(ycs, yc); push!(xvecs, xv); push!(yvecs, yv)\n",
    "end\n",
    "\n",
    "scatter(cov_x, cov_y; label = \"Coverage Location\", markershape = :circle,\n",
    "markercolor = :turquoise, markersize = 6, markerstrokecolor = :turquoise, markerstrokewidth=3,)\n",
    "scatter!(x_values, y_values; label = \"Task Location\", markershape = :square, \n",
    "markercolor = :pink3, markersize = 6, markerstrokecolor = :pink3, markerstrokewidth = 3)\n",
    "colors = [:darkgreen, :dodgerblue, :navajowhite4, :firebrick, :teal, :blue, :brown2]\n",
    "for i in 1:length(xcs)\n",
    "    quiver!(xcs[i], ycs[i], quiver = (xvecs[i], yvecs[i]), linewidth=2, c=colors[i])\n",
    "end\n",
    "display(scatter!([locations[1][1]], [locations[1][2]]; label = \"DEPOT\", markershape = :rtriangle,\n",
    "markercolor = :black, markersize = 15, markerstrokecolor = :black))"
   ]
  },
  {
   "cell_type": "markdown",
   "id": "fa32c557",
   "metadata": {},
   "source": [
    "# [2] Prepare Calculations for CG Model"
   ]
  },
  {
   "cell_type": "markdown",
   "id": "90d8933f",
   "metadata": {},
   "source": [
    "## [2.1] Coverage Distances and Travel Times"
   ]
  },
  {
   "cell_type": "markdown",
   "id": "3ba23402",
   "metadata": {},
   "source": [
    "First we need to gather distances to and from the depot and other coverage locations. To do so most quickly, we temporarily modify coverage locations to also include the depot."
   ]
  },
  {
   "cell_type": "code",
   "execution_count": 300,
   "id": "35cd7ab5",
   "metadata": {},
   "outputs": [],
   "source": [
    "insert!(coverage_locations, 1, locations[1]);"
   ]
  },
  {
   "cell_type": "code",
   "execution_count": 301,
   "id": "a8033488",
   "metadata": {},
   "outputs": [],
   "source": [
    "coverage_distances = [LinearAlgebra.norm(coverage_locations[i, :] .- coverage_locations[j, :]) for i=1:m_cov+1, j = 1:m_cov+1];"
   ]
  },
  {
   "cell_type": "code",
   "execution_count": 302,
   "id": "e2a7e73c",
   "metadata": {},
   "outputs": [],
   "source": [
    "coverage_locations = coverage_locations[2:end];"
   ]
  },
  {
   "cell_type": "code",
   "execution_count": 303,
   "id": "25d62666",
   "metadata": {},
   "outputs": [],
   "source": [
    "travel_times = ceil.(coverage_distances / speed);"
   ]
  },
  {
   "cell_type": "markdown",
   "id": "e657f33c",
   "metadata": {},
   "source": [
    "## [2.2] $L_{ji}$\n",
    "\n",
    "Whether coverage spot $j$ is close enough to job node $i$ to cover. 1 if yes, 0 if no."
   ]
  },
  {
   "cell_type": "code",
   "execution_count": 304,
   "id": "48162412",
   "metadata": {},
   "outputs": [],
   "source": [
    "function calculate_L(cov_locs, job_locs, r=radius)\n",
    "    #=\n",
    "    Given a list of tuple coverage locations and job locations,\n",
    "    returns a matrix of L values. Specifically, \n",
    "    L[j][i], indicating if spot j is close enough to node i\n",
    "    for coverage to happen.\n",
    "    =#\n",
    "    L = []\n",
    "    for j in 1:length(cov_locs)\n",
    "        L_j = []\n",
    "        cov_loc = cov_locs[j]\n",
    "        for i in 1:length(job_locs)\n",
    "            push!(L_j, (is_close_enough(cov_loc, job_locs[i], r)) ? 1 : 0)\n",
    "        end\n",
    "        push!(L, L_j)\n",
    "    end\n",
    "    \n",
    "    return L\n",
    "end;"
   ]
  },
  {
   "cell_type": "code",
   "execution_count": 305,
   "id": "3576a768",
   "metadata": {},
   "outputs": [],
   "source": [
    "L = calculate_L(coverage_locations, locations[2:end], radius);"
   ]
  },
  {
   "cell_type": "markdown",
   "id": "ae5b69f3",
   "metadata": {},
   "source": [
    "## [2.3] $W_{it}$\n",
    "\n",
    "Whether a job is being performed at job node $i$ at time $t$."
   ]
  },
  {
   "cell_type": "code",
   "execution_count": 306,
   "id": "37da096d",
   "metadata": {},
   "outputs": [],
   "source": [
    "function calculate_W(full_routes)\n",
    "    #=\n",
    "    Given the full solution routes to the job problem,\n",
    "    tells us W[i][t], which is whether job i is being\n",
    "    done at time t.\n",
    "    \n",
    "    Our strategy is to gather the FIRST node of each arc,\n",
    "    because it's the same as the second node of the arc prior.\n",
    "    \n",
    "    Disregard the 1st node (its start is the origin-depot), \n",
    "    that information is contained in the 2nd node.\n",
    "    =#\n",
    "    W = [ [0 for t in 1:T] for i in 1:n_jobs]\n",
    "    \n",
    "    for route in full_routes\n",
    "        for arc in route[2:end]\n",
    "            loc = Int(arc[1][1])\n",
    "            time = Int(arc[1][2])\n",
    "            W[loc][time] = 1\n",
    "        end\n",
    "    end\n",
    "    \n",
    "    return W\n",
    "end;   "
   ]
  },
  {
   "cell_type": "code",
   "execution_count": 307,
   "id": "25ea8619",
   "metadata": {},
   "outputs": [],
   "source": [
    "W = calculate_W(full_routes);"
   ]
  },
  {
   "cell_type": "markdown",
   "id": "3d2689e8",
   "metadata": {},
   "source": [
    "## [2.4] Function for route cost\n",
    "\n",
    "What is the cost of a route? The sum of its `arc[3]`'s."
   ]
  },
  {
   "cell_type": "code",
   "execution_count": 308,
   "id": "0544558e",
   "metadata": {},
   "outputs": [],
   "source": [
    "function cost_of_route(route)\n",
    "    ans = 0\n",
    "    for arc in route\n",
    "        ans += arc[3]\n",
    "    end\n",
    "    return ans\n",
    "end;"
   ]
  },
  {
   "cell_type": "markdown",
   "id": "386d129c",
   "metadata": {},
   "source": [
    "# [3] Generate Routes and Their Parameters\n",
    "\n",
    "Idea: Send a vehicle to every single coverage spot. Have it stay there until the bitter end."
   ]
  },
  {
   "cell_type": "markdown",
   "id": "8eac6779",
   "metadata": {},
   "source": [
    "## [3.1] Generate Routes"
   ]
  },
  {
   "cell_type": "code",
   "execution_count": 309,
   "id": "f1178b66",
   "metadata": {},
   "outputs": [],
   "source": [
    "V_cov = m_cov;"
   ]
  },
  {
   "cell_type": "code",
   "execution_count": 310,
   "id": "b49a86b7",
   "metadata": {},
   "outputs": [],
   "source": [
    "routes = []\n",
    "for j in 1:m_cov\n",
    "    route = []\n",
    "    travel_time = travel_times[0+1, j+1]\n",
    "    dist = coverage_distances[0+1, j+1]\n",
    "    push!(route, [ [0, 0], [j, travel_time], dist ])\n",
    "    for t in travel_time:T - travel_time\n",
    "        push!(route, [ [j, t], [j, t+1], 0])\n",
    "        # so the last one has time T-travel_time to T-travel_time+1\n",
    "    end\n",
    "    push!(route, [ [j, T - travel_time+1], [m_cov + 1, T + 1], dist])\n",
    "    push!(routes, route)\n",
    "end;"
   ]
  },
  {
   "cell_type": "code",
   "execution_count": 311,
   "id": "28bace5b",
   "metadata": {},
   "outputs": [],
   "source": [
    "num_routes = length(routes);"
   ]
  },
  {
   "cell_type": "markdown",
   "id": "ac7c58da",
   "metadata": {},
   "source": [
    "## [3.2] Generate Route Costs"
   ]
  },
  {
   "cell_type": "code",
   "execution_count": 312,
   "id": "5c816bc6",
   "metadata": {},
   "outputs": [],
   "source": [
    "C = [cost_of_route(route) for route in routes];"
   ]
  },
  {
   "cell_type": "markdown",
   "id": "33f6626f",
   "metadata": {},
   "source": [
    "## [3.3] Generate $y_{jt}^p$\n",
    "\n",
    "If route $p$ is at spot $j$ at time $t$."
   ]
  },
  {
   "cell_type": "code",
   "execution_count": 313,
   "id": "7467972d",
   "metadata": {},
   "outputs": [],
   "source": [
    "function generate_y(routes)\n",
    "    y = [[[0 for p in 1:length(routes)] for t in 1:T] for j in 1:m_cov]\n",
    "    \n",
    "    for rindex in 1:length(routes)\n",
    "        route = routes[rindex]\n",
    "        for arc in route\n",
    "            job1, time1 = Int.(arc[1])\n",
    "            job2, time2 = Int.(arc[2])\n",
    "            if job1 != 0\n",
    "                y[job1][time1][rindex] = 1\n",
    "            end\n",
    "            if job2 != m_cov + 1\n",
    "                y[job2][time2][rindex] = 1\n",
    "            end\n",
    "        end\n",
    "    end\n",
    "    return y\n",
    "end;"
   ]
  },
  {
   "cell_type": "code",
   "execution_count": 314,
   "id": "4364ee51",
   "metadata": {},
   "outputs": [],
   "source": [
    "y = generate_y(routes);"
   ]
  },
  {
   "cell_type": "markdown",
   "id": "93d86ca9",
   "metadata": {},
   "source": [
    "# [4] CG Model"
   ]
  },
  {
   "cell_type": "code",
   "execution_count": 315,
   "id": "33370ae8",
   "metadata": {
    "scrolled": false
   },
   "outputs": [
    {
     "name": "stdout",
     "output_type": "stream",
     "text": [
      "Set parameter Username\n",
      "Academic license - for non-commercial use only - expires 2023-09-04\n"
     ]
    }
   ],
   "source": [
    "model = Model(Gurobi.Optimizer);"
   ]
  },
  {
   "cell_type": "code",
   "execution_count": 316,
   "id": "490e9d10",
   "metadata": {},
   "outputs": [],
   "source": [
    "V_cov = m_cov;"
   ]
  },
  {
   "cell_type": "markdown",
   "id": "b073a2c0",
   "metadata": {},
   "source": [
    "## [4.1] Variables"
   ]
  },
  {
   "cell_type": "code",
   "execution_count": 317,
   "id": "f49b5cb6",
   "metadata": {},
   "outputs": [],
   "source": [
    "@variable(model, 0 <= x[1:num_routes] <= 1);"
   ]
  },
  {
   "cell_type": "markdown",
   "id": "4d13a8a6",
   "metadata": {},
   "source": [
    "## [4.2] Objective"
   ]
  },
  {
   "cell_type": "code",
   "execution_count": 318,
   "id": "1a0a638d",
   "metadata": {},
   "outputs": [],
   "source": [
    "@objective(model, Min, \n",
    "    sum(x[p] * C[p] for p in 1:num_routes));"
   ]
  },
  {
   "cell_type": "markdown",
   "id": "395799b8",
   "metadata": {},
   "source": [
    "## [4.3] Constraints"
   ]
  },
  {
   "cell_type": "code",
   "execution_count": 319,
   "id": "60ded888",
   "metadata": {},
   "outputs": [],
   "source": [
    "@constraint(model, enough_vehicles, sum(x[p] for p in 1:num_routes) <= V_cov);"
   ]
  },
  {
   "cell_type": "code",
   "execution_count": 320,
   "id": "868dfe9a",
   "metadata": {},
   "outputs": [],
   "source": [
    "@constraint(model, work_covered[i in 1:n_jobs, t in 1:T], \n",
    "    sum(sum(L[j][i] * y[j][t][p] * x[p] for j in 1:m_cov) for p in 1:num_routes) >= W[i][t]);"
   ]
  },
  {
   "cell_type": "code",
   "execution_count": 321,
   "id": "f4eaaa27",
   "metadata": {
    "scrolled": false
   },
   "outputs": [
    {
     "name": "stdout",
     "output_type": "stream",
     "text": [
      "Gurobi Optimizer version 9.5.2 build v9.5.2rc0 (mac64[x86])\n",
      "Thread count: 4 physical cores, 8 logical processors, using up to 8 threads\n",
      "Optimize a model with 1251 rows, 25 columns and 3713 nonzeros\n",
      "Model fingerprint: 0x60791681\n",
      "Coefficient statistics:\n",
      "  Matrix range     [1e+00, 1e+00]\n",
      "  Objective range  [9e+01, 6e+02]\n",
      "  Bounds range     [1e+00, 1e+00]\n",
      "  RHS range        [1e+00, 2e+01]\n",
      "Presolve removed 1233 rows and 4 columns\n",
      "Presolve time: 0.00s\n",
      "Presolved: 18 rows, 21 columns, 54 nonzeros\n",
      "\n",
      "Iteration    Objective       Primal Inf.    Dual Inf.      Time\n",
      "       0    8.8800105e+01   1.800000e+01   0.000000e+00      0s\n",
      "Extra simplex iterations after uncrush: 1\n",
      "       9    1.9319330e+03   0.000000e+00   0.000000e+00      0s\n",
      "\n",
      "Solved in 9 iterations and 0.00 seconds (0.00 work units)\n",
      "Optimal objective  1.931933027e+03\n",
      "\n",
      "User-callback calls 68, time in user-callback 0.00 sec\n"
     ]
    }
   ],
   "source": [
    "optimize!(model)"
   ]
  },
  {
   "cell_type": "markdown",
   "id": "759ec499",
   "metadata": {},
   "source": [
    "# [5] Parameters and Functions in Preparation for SP"
   ]
  },
  {
   "cell_type": "markdown",
   "id": "aa194465",
   "metadata": {},
   "source": [
    "## [5.1] Node Neighborhoods"
   ]
  },
  {
   "cell_type": "code",
   "execution_count": 322,
   "id": "6fc93b13",
   "metadata": {},
   "outputs": [],
   "source": [
    "function neighborhood(j)\n",
    "    #= returns all nodes i\n",
    "    which are close to the spot j.\n",
    "    =#\n",
    "    \n",
    "    cov_loc = coverage_locations[j]\n",
    "    \n",
    "    close = []\n",
    "    for i in 1:n_jobs\n",
    "        if is_close_enough(cov_loc, locations[i+1], radius)\n",
    "            push!(close, i)\n",
    "        end\n",
    "    end\n",
    "    \n",
    "    return close\n",
    "end;"
   ]
  },
  {
   "cell_type": "markdown",
   "id": "0f9500ba",
   "metadata": {},
   "source": [
    "## [5.2] Until Nodes are Exhausted\n",
    "\n",
    "My first heuristic is to have a coverage vehicle stay until the nodes in the neighborhood are all done. When does this happen?"
   ]
  },
  {
   "cell_type": "code",
   "execution_count": 323,
   "id": "6ce8ec20",
   "metadata": {},
   "outputs": [],
   "source": [
    "function last_1_index(list)\n",
    "    # returns index of last 1 in list.\n",
    "    last_index = -1\n",
    "    for i in 1:length(list)\n",
    "        if list[i] == 1\n",
    "            last_index = i\n",
    "        end\n",
    "    end\n",
    "    \n",
    "    return last_index\n",
    "end;"
   ]
  },
  {
   "cell_type": "code",
   "execution_count": 324,
   "id": "0d837931",
   "metadata": {},
   "outputs": [],
   "source": [
    "function until_exhausted(j)\n",
    "    #=\n",
    "    returns the time at which all nodes i\n",
    "    close to spot j have finished working.\n",
    "    INCLUSIVE, so if the last job \n",
    "    works from [32, 36], then I return 36, NOT 37.\n",
    "    =#\n",
    "    \n",
    "    neigh_jobs = neighborhood(j)\n",
    "    \n",
    "    last_time = 0\n",
    "    for job_index in neigh_jobs\n",
    "        candidate_time = last_1_index(W[job_index])\n",
    "        if candidate_time > last_time\n",
    "            last_time = candidate_time\n",
    "        end\n",
    "    end\n",
    "    return last_time\n",
    "end;        "
   ]
  },
  {
   "cell_type": "markdown",
   "id": "ebb69eda",
   "metadata": {},
   "source": [
    "## [5.3] Gather Dual Variables"
   ]
  },
  {
   "cell_type": "code",
   "execution_count": 325,
   "id": "28b332ea",
   "metadata": {},
   "outputs": [],
   "source": [
    "beta = dual.(enough_vehicles);"
   ]
  },
  {
   "cell_type": "code",
   "execution_count": 326,
   "id": "2d118713",
   "metadata": {},
   "outputs": [],
   "source": [
    "xi = dual.(work_covered);"
   ]
  },
  {
   "cell_type": "markdown",
   "id": "e6039dc5",
   "metadata": {},
   "source": [
    "## [5.4] Get Minimum Reduced Cost Index"
   ]
  },
  {
   "cell_type": "code",
   "execution_count": 327,
   "id": "6224fe27",
   "metadata": {},
   "outputs": [],
   "source": [
    "function mindex(rcs)\n",
    "    index = 1\n",
    "    min_value = rcs[1]\n",
    "    \n",
    "    for i in 2:length(rcs)\n",
    "        value = rcs[i]\n",
    "        if value < min_value\n",
    "            index = i\n",
    "            min_value = value\n",
    "        end\n",
    "    end\n",
    "    return index\n",
    "end;"
   ]
  },
  {
   "cell_type": "markdown",
   "id": "55f3dc86",
   "metadata": {},
   "source": [
    "## [5.5] Generate Full Route Info"
   ]
  },
  {
   "cell_type": "code",
   "execution_count": 328,
   "id": "e7d82bcf",
   "metadata": {},
   "outputs": [],
   "source": [
    "function generate_full_time_info(best_route, best_times)\n",
    "    #=\n",
    "    given the route info and time info, returns all arcs appropriate.\n",
    "    =#\n",
    "    best_route_info = []\n",
    "    \n",
    "    for locindex in 1:length(best_route)-1\n",
    "        cur_loc, new_loc = best_route[locindex:locindex+1]\n",
    "        cur_time, new_time = best_times[locindex:locindex+1]\n",
    "        \n",
    "        #=\n",
    "        Take the new_time and subtract the\n",
    "        amount of time it takes to travel there.\n",
    "        The remaining time is entirely stationary.\n",
    "        =#\n",
    "        \n",
    "        travel_time = travel_times[cur_loc+1, new_loc % (m_cov+1) + 1]\n",
    "        dist = coverage_distances[cur_loc+1, new_loc % (m_cov+1) + 1]\n",
    "        \n",
    "        for stationary_time in cur_time:new_time-travel_time-1\n",
    "            route_detail = [[cur_loc, stationary_time], [cur_loc, stationary_time+1], 0]\n",
    "            push!(best_route_info, route_detail)\n",
    "        end\n",
    "        \n",
    "        route_detail = [[cur_loc, new_time-travel_time], [new_loc, new_time], dist]\n",
    "        push!(best_route_info, route_detail)\n",
    "    end\n",
    "\n",
    "    return best_route_info\n",
    "end;"
   ]
  },
  {
   "cell_type": "markdown",
   "id": "222c0ac4",
   "metadata": {},
   "source": [
    "# [6] SP LSA"
   ]
  },
  {
   "cell_type": "code",
   "execution_count": 329,
   "id": "ff3d8ef0",
   "metadata": {},
   "outputs": [],
   "source": [
    "function sp_lsa(n, m, dists, trav_times, beta, xi)\n",
    "    paths = [ [0] ]\n",
    "    times = [ [0] ]\n",
    "    red_costs = [beta]\n",
    "    cur_pointer = 1\n",
    "    tot_pointer = 1\n",
    "    \n",
    "    for i in 1:1000\n",
    "        cur_path = paths[cur_pointer]\n",
    "        last_cur_spot = last(cur_path)\n",
    "        \n",
    "        #check if we want to move on\n",
    "        if (last_cur_spot == m + 1) || (last(times[cur_pointer]) >= T+1)\n",
    "            cur_pointer += 1\n",
    "            if cur_pointer > tot_pointer\n",
    "                break\n",
    "            else\n",
    "                continue\n",
    "            end\n",
    "        end\n",
    "        \n",
    "        # enter the loop for appending.\n",
    "        for j in 1:m+1\n",
    "            \n",
    "            #check that this is a new node\n",
    "            if ~(j in cur_path)\n",
    "                \n",
    "                cur_time = last(times[cur_pointer])\n",
    "                travel_time = trav_times[last_cur_spot+1, j % (m+1) + 1]\n",
    "                segment_cost = dists[last_cur_spot+1, j % (m+1) + 1]\n",
    "                \n",
    "                cur_rc = red_costs[cur_pointer]\n",
    "                new_rc = cur_rc\n",
    "                new_rc += segment_cost\n",
    "                \n",
    "                # you have to stay until the nodes exhausted from old.\n",
    "                xi_reduction = 0\n",
    "                if last_cur_spot > 0\n",
    "                    cur_neigh = neighborhood(last_cur_spot)\n",
    "                    for t in cur_time:until_exhausted(last_cur_spot)\n",
    "                        for neighbor_index in cur_neigh\n",
    "                            xi_reduction -= xi[neighbor_index, t]\n",
    "                        end\n",
    "                    end\n",
    "                end\n",
    "                \n",
    "                new_rc += xi_reduction\n",
    "                push!(red_costs, new_rc)\n",
    "                #this finishes reduced costs, now onto time\n",
    "                \n",
    "                #=\n",
    "                Timewise: You got to the current spot at\n",
    "                cur_time and are now trying to move to node j.\n",
    "                You have to stay at the current spot until time\n",
    "                until_exhausted(last_cur_spot), at which point\n",
    "                you make your move. This takes the distance\n",
    "                specified.\n",
    "                =#\n",
    "                last_cur_time = cur_time\n",
    "                if last_cur_spot > 0\n",
    "                    last_cur_time = max(until_exhausted(last_cur_spot), cur_time)\n",
    "                end\n",
    "                new_times = copy(times[cur_pointer])\n",
    "                push!(new_times, last_cur_time + travel_time)\n",
    "                push!(times, new_times)\n",
    "                \n",
    "                new_path = copy(cur_path)\n",
    "                push!(new_path, j)\n",
    "                push!(paths, new_path)\n",
    "                tot_pointer += 1\n",
    "            end\n",
    "        end\n",
    "        \n",
    "        cur_pointer += 1\n",
    "        \n",
    "        if cur_pointer == tot_pointer\n",
    "            break\n",
    "        end\n",
    "    end\n",
    "    \n",
    "    return paths, times, red_costs\n",
    "end;"
   ]
  },
  {
   "cell_type": "code",
   "execution_count": 330,
   "id": "bdaddd55",
   "metadata": {
    "scrolled": true
   },
   "outputs": [],
   "source": [
    "paths, times, rcs = sp_lsa(n_jobs, m_cov, coverage_distances, travel_times, beta, xi);"
   ]
  },
  {
   "cell_type": "code",
   "execution_count": 331,
   "id": "976db332",
   "metadata": {},
   "outputs": [],
   "source": [
    "proper_paths, proper_times, proper_rcs = [], [], []\n",
    "for index in 1:length(paths)\n",
    "    if last(paths[index]) == m_cov + 1\n",
    "        push!(proper_paths, paths[index])\n",
    "        push!(proper_times, times[index])\n",
    "        push!(proper_rcs, rcs[index])\n",
    "    end\n",
    "end;"
   ]
  },
  {
   "cell_type": "code",
   "execution_count": 332,
   "id": "68cb1b4c",
   "metadata": {},
   "outputs": [],
   "source": [
    "best_index = mindex(proper_rcs);"
   ]
  },
  {
   "cell_type": "code",
   "execution_count": 333,
   "id": "da5fc9f5",
   "metadata": {},
   "outputs": [],
   "source": [
    "new_route = generate_full_time_info(paths[best_index], times[best_index]);"
   ]
  },
  {
   "cell_type": "code",
   "execution_count": 334,
   "id": "1a371ac1",
   "metadata": {},
   "outputs": [
    {
     "name": "stdout",
     "output_type": "stream",
     "text": [
      "0.0\n"
     ]
    }
   ],
   "source": [
    "println(proper_rcs[best_index])"
   ]
  }
 ],
 "metadata": {
  "kernelspec": {
   "display_name": "Julia 1.9.1",
   "language": "julia",
   "name": "julia-1.9"
  },
  "language_info": {
   "file_extension": ".jl",
   "mimetype": "application/julia",
   "name": "julia",
   "version": "1.9.1"
  }
 },
 "nbformat": 4,
 "nbformat_minor": 5
}
