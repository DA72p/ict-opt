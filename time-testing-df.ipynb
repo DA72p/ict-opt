{
 "cells": [
  {
   "cell_type": "markdown",
   "id": "1f549ee9",
   "metadata": {},
   "source": [
    "# [0] Imports"
   ]
  },
  {
   "cell_type": "code",
   "execution_count": 203,
   "id": "6fa98331",
   "metadata": {},
   "outputs": [],
   "source": [
    "import Pkg;\n",
    "\n",
    "using LinearAlgebra, Random, Gurobi, JuMP, Distributions, Plots, LazySets, Dates"
   ]
  },
  {
   "cell_type": "code",
   "execution_count": 204,
   "id": "4f692813",
   "metadata": {},
   "outputs": [],
   "source": [
    "LOW_JOBS = 19\n",
    "HIGH_JOBS = 19;"
   ]
  },
  {
   "cell_type": "code",
   "execution_count": 205,
   "id": "e8643e26",
   "metadata": {},
   "outputs": [],
   "source": [
    "times_pp_start = []\n",
    "times_pp_end = []\n",
    "\n",
    "times_mb_start = []\n",
    "times_mb_end = []\n",
    "\n",
    "times_op_start = []\n",
    "times_op_end = []\n",
    "\n",
    "ANSWERS = [] # record the actual routes\n",
    "OBJECTIVES = [] # record the objective\n",
    ";"
   ]
  },
  {
   "cell_type": "code",
   "execution_count": 206,
   "id": "a81df2aa",
   "metadata": {
    "scrolled": true
   },
   "outputs": [
    {
     "name": "stdout",
     "output_type": "stream",
     "text": [
      "Set parameter Username\n",
      "Academic license - for non-commercial use only - expires 2023-09-04\n"
     ]
    }
   ],
   "source": [
    "for JOBS in LOW_JOBS:HIGH_JOBS\n",
    "    # loop begins\n",
    "    \n",
    "    # SETUP: doesn't count in our time\n",
    "    n_jobs = JOBS\n",
    "    n_vehicles_jobs = 10\n",
    "    n_vehicles_coverage = 10\n",
    "    T = 2 * n_jobs\n",
    "    min_duration = 2\n",
    "    max_duration = 6\n",
    "    speed = 1000/6\n",
    "    coverage_distance = 50\n",
    "    size = 500\n",
    "    step = 50;\n",
    "    \n",
    "    Random.seed!(1234)\n",
    "\n",
    "    function create_cluster_sizes(jobs_total)\n",
    "        Random.seed!(1234)\n",
    "        jobs_created = 0\n",
    "        cluster = []\n",
    "        min_jobs_allowed = n_jobs >= 15 ? 3 : 2\n",
    "        target_clusters = 5\n",
    "        while jobs_created != jobs_total\n",
    "            num_to_add = rand(min(min_jobs_allowed, jobs_total - jobs_created) : \n",
    "                min(Int((n_jobs/target_clusters)÷1), jobs_total - jobs_created))\n",
    "            jobs_created += num_to_add\n",
    "            push!(cluster, num_to_add)\n",
    "        end\n",
    "\n",
    "        return cluster\n",
    "    end;\n",
    "    \n",
    "    time_windows = []\n",
    "    locations = rand(Uniform(0,size), 1, 2)\n",
    "    work_load = []\n",
    "\n",
    "    cluster = create_cluster_sizes(n_jobs);\n",
    "    \n",
    "    function create_time_windows_and_work_load(cluster_sizes, locations)\n",
    "        Random.seed!(1234)\n",
    "        locations = rand(Uniform(0,size), 1, 2)\n",
    "        for size_c in cluster\n",
    "            first = rand(Uniform(0,size), 1, 2)\n",
    "            locations = vcat(locations, first)\n",
    "\n",
    "            job_begins = rand(2:10)\n",
    "            job_finish = rand((job_begins+min_duration):(job_begins+max_duration))\n",
    "            push!(time_windows, [job_begins, job_finish])\n",
    "\n",
    "            time_work = rand(min_duration:max(min_duration, job_finish - job_begins))\n",
    "            push!(work_load, time_work)\n",
    "\n",
    "            for neighbour in 1:(size_c-1)\n",
    "                new_x = rand(Uniform(max(0,first[1]-20), min(first[1]+20, size)), 1, 1)\n",
    "                new_y = rand(Uniform(max(0,first[2]-20), min(first[2]+20, size)), 1, 1)\n",
    "                new = hcat(new_x, new_y)\n",
    "                locations = vcat(locations, new)\n",
    "\n",
    "                job_begins = rand(job_finish:min(T-min_duration-2, job_finish + 6))\n",
    "                job_finish = rand((job_begins+min_duration):(min(job_begins+max_duration, T-2)))\n",
    "                push!(time_windows, [job_begins, job_finish])\n",
    "\n",
    "                time_work = rand(min_duration:min(max_duration, job_finish-job_begins))\n",
    "                push!(work_load, time_work)\n",
    "            end\n",
    "        end\n",
    "\n",
    "        return [time_windows, work_load, locations]\n",
    "    end;\n",
    "    \n",
    "    time_windows, work_load, locations = create_time_windows_and_work_load(cluster, locations)\n",
    "    distances = [LinearAlgebra.norm(locations[i, :] .- locations[j, :]) for i=1:n_jobs+1, j = 1:n_jobs+1];\n",
    "    \n",
    "    # THIS IS WHERE TIMING OF PRE-PROCESSING BEGINS\n",
    "    push!(times_pp_start, datetime2unix(now()))\n",
    "    function create_node_network(n_jobs, T)\n",
    "        nodes = []\n",
    "        for i in 1:n_jobs\n",
    "            for t in 2:(T-1)\n",
    "                push!(nodes, [i, t])\n",
    "            end\n",
    "        end\n",
    "        return nodes\n",
    "    end;\n",
    "    \n",
    "    nodes = create_node_network(n_jobs, T)\n",
    "    N = length(nodes);\n",
    "    \n",
    "    function create_arc_system(n_jobs, distances, speed, time_windows, nodes)\n",
    "        #=\n",
    "        Create a full arc system which has the format\n",
    "        [ [initial_i, initial_t], [end_i, end_t], distance]\n",
    "\n",
    "        remember: distance is like our cost, the first two elements represent the movement\n",
    "        =#\n",
    "\n",
    "        arcs = []\n",
    "\n",
    "        #leaving the depot\n",
    "        for n in nodes\n",
    "            dist = distances[1, n[1] + 1]\n",
    "            max_t = 0\n",
    "            for t in 1:n[2]\n",
    "                if n[2] > (t + dist/speed)\n",
    "                    max_t = t\n",
    "                end\n",
    "            end\n",
    "            push!(arcs, [[0, max_t], n, dist])\n",
    "        end\n",
    "\n",
    "        #between two jobs\n",
    "        for n1 in nodes\n",
    "            already = []\n",
    "            for n2 in nodes\n",
    "                dist = distances[n1[1]+1, n2[1]+1]\n",
    "\n",
    "                #=\n",
    "                only add arc from node n1 = [i1, t1] to n2 = [i2, t2] if:\n",
    "                1) it is possible to get from n1 to n2 within the given timeframe (time = dist / speed)\n",
    "                2) the nodes do not have the same job location - this is covered in elseif\n",
    "                3) n2 is not already covered in our node network - it won't be a superfluous addition\n",
    "                4) n2's time is worth going to: we have enough time left to get there to do the job\n",
    "\n",
    "                condition 4 example: If current time is 15, time window is [13, 20], and the work load \n",
    "                (time required) is 6 hours, then don't bother going to the job - it's a waste of time\n",
    "                =#\n",
    "                if (n2[2] > n1[2] + dist/speed) & \n",
    "                    (n2[1] != n1[1]) & \n",
    "                    (!(n2[1] in  already)) & \n",
    "                    (n2[2] <= (time_windows[n2[1]][2] - work_load[n2[1]]))\n",
    "                    push!(arcs, [n1, n2, dist])\n",
    "                    push!(already, n2[1]) #already visited so we don't do it again: algorithmic efficiency\n",
    "\n",
    "                elseif (n2[2] == n1[2] + 1) & (n2[1] == n1[1])\n",
    "                    push!(arcs, [n1, n2, dist])\n",
    "\n",
    "                end\n",
    "            end\n",
    "        end\n",
    "\n",
    "        #Back to the depot\n",
    "        for n in nodes\n",
    "            dist = distances[1, n[1] + 1]\n",
    "            min_t = T+1\n",
    "            for t in T:-1:1\n",
    "                if t > (n[2]+dist/speed)\n",
    "                    min_t = t\n",
    "                end\n",
    "            end\n",
    "            push!(arcs, [n, [n_jobs+1, min_t], dist])\n",
    "        end\n",
    "\n",
    "        #Now, add intra-depot arcs to minimize drivers necessary\n",
    "        push!(arcs, [[0,1], [n_jobs+1, 2], 0])\n",
    "\n",
    "        return arcs\n",
    "    end;\n",
    "    \n",
    "    arcs = create_arc_system(n_jobs, distances, speed, time_windows, nodes)\n",
    "    A = length(arcs);\n",
    "    \n",
    "    function find_node(i,t)\n",
    "        for node in 1:length(nodes)\n",
    "            if (nodes[node][1] == i) & (nodes[node][2] == t) \n",
    "                return node\n",
    "            end\n",
    "        end\n",
    "        return \"Warning, this node does not exist\"\n",
    "    end;\n",
    "    \n",
    "    function find_arc(node, t)\n",
    "        for arc in 1:length(arcs)\n",
    "            if (arcs[arc][1][1] == node) & (arcs[arc][2][1] == node) & ((arcs[arc][1][2] == t)) & ((arcs[arc][2][2] == t+1))\n",
    "                return arc\n",
    "            end\n",
    "        end\n",
    "        return (node, t), \"Warning, this arc does not exist\"\n",
    "    end;\n",
    "    # THIS IS WHERE PRE-PROCESSING ENDS\n",
    "    push!(times_pp_end, datetime2unix(now()))\n",
    "    \n",
    "    model = Model(Gurobi.Optimizer);\n",
    "    set_optimizer_attribute(model, \"OutputFlag\", 0);\n",
    "    \n",
    "    # THIS IS WHERE MODEL-BUILDING STARTS\n",
    "    push!(times_mb_start, datetime2unix(now()))\n",
    "    \n",
    "    @variable(model, z[1:n_vehicles_jobs, 1:A], Bin)\n",
    "    @variable(model, y_s[1:n_jobs, 1:T], Bin)\n",
    "    @variable(model, y_e[1:n_jobs, 1:T], Bin);\n",
    "    \n",
    "    @objective(model, Min,\n",
    "        sum(sum(z[k,a]*(arcs[a][3]+1) for a in 1:A) for k in 1:n_vehicles_jobs));\n",
    "    \n",
    "    @constraint(model, \n",
    "        depot_init_jobs[k in 1:n_vehicles_jobs], \n",
    "        sum(z[k,a] for a in 1:A if arcs[a][1][1] == 0) == 1);\n",
    "    @constraint(model, \n",
    "        depot_end_jobs[k in 1:n_vehicles_jobs], \n",
    "        sum(z[k,a] for a in 1:A if arcs[a][2][1] == n_jobs+1) == 1);\n",
    "    @constraint(model, \n",
    "        flow_jobs[k in 1:n_vehicles_jobs, n in 1:N], \n",
    "        sum(z[k,a] for a in 1:A if arcs[a][2] == nodes[n]) == \n",
    "        sum(z[k,a] for a in 1:A if arcs[a][1] == nodes[n]));\n",
    "    @constraint(model, \n",
    "        unique[n in 1:n_jobs], \n",
    "        sum(sum(z[k,a] for a in 1:A \n",
    "                    if (arcs[a][2][1] == n) & (arcs[a][1][1] != n)) \n",
    "            for k in 1:n_vehicles_jobs) == 1);\n",
    "    @constraint(model, start[i in 1:n_jobs, t in 1:(T-1)], y_s[i,t] <= y_s[i,t+1])\n",
    "    @constraint(model, ends[i in 1:n_jobs, t in 1:(T-1)], y_e[i,t] <= y_e[i,t+1])\n",
    "    @constraint(model, \n",
    "        work[i in 1:n_jobs, t in 2:(T-2)], \n",
    "        y_s[i,t] - y_e[i,t] <= sum(z[k,find_arc(i, t)] for k in 1:n_vehicles_jobs))\n",
    "    @constraint(model, window_start[i in 1:n_jobs, t in 1:(time_windows[i][1]-1)], y_s[i,t] <= 0)\n",
    "    @constraint(model, window_ends[i in 1:n_jobs, t in time_windows[i][2]:T], y_e[i,t] >= 1)\n",
    "    @constraint(model, duration[i in 1:n_jobs], sum(y_s[i,t] - y_e[i,t] for t in 1:T) >= work_load[i]);\n",
    "    \n",
    "    # THIS IS WHERE MODEL-BUILDING ENDS\n",
    "    push!(times_mb_end, datetime2unix(now()))\n",
    "    \n",
    "    # THIS IS WHERE OPT STARTS\n",
    "    push!(times_op_start, datetime2unix(now()))\n",
    "    optimize!(model);\n",
    "    #THIS IS WHERE OPT ENDS\n",
    "    push!(times_op_end, datetime2unix(now()))\n",
    "    \n",
    "    push!(OBJECTIVES, objective_value(model))\n",
    "    \n",
    "    # SEE SOLUTION - not included in time computations.\n",
    "    z_ka_v = value.(z); # this is a n_jobs x A matrix.\n",
    "    \n",
    "    nab_array = []\n",
    "    for vehicle_num in 1:n_vehicles_jobs\n",
    "        list_of_1s = []\n",
    "        for arc_index in 1:A\n",
    "            if z_ka_v[vehicle_num, arc_index] > 0.99\n",
    "                push!(list_of_1s, arcs[arc_index])\n",
    "            end\n",
    "        end\n",
    "\n",
    "        push!(nab_array, list_of_1s)\n",
    "    end\n",
    "    \n",
    "    for list in nab_array\n",
    "        sort!(list, lt = (x, y) -> isless(x[1][2], y[1][2]))\n",
    "    end\n",
    "    \n",
    "    visited_jobs = []\n",
    "    for vehicle_num in 1:n_vehicles_jobs\n",
    "        arcs_used = nab_array[vehicle_num]\n",
    "        vehicle_visited_jobs = []\n",
    "        for i in 1:length(arcs_used)\n",
    "            first_elt = arcs_used[i][1][1]\n",
    "            if ~(first_elt in vehicle_visited_jobs)\n",
    "                push!(vehicle_visited_jobs, first_elt)\n",
    "            end\n",
    "        end\n",
    "\n",
    "        push!(vehicle_visited_jobs, n_jobs+1)\n",
    "        push!(visited_jobs, vehicle_visited_jobs)\n",
    "    end\n",
    "    \n",
    "    answer_list = []\n",
    "    for job_list in visited_jobs\n",
    "        if length(job_list) > 2\n",
    "            push!(answer_list, job_list)\n",
    "        end\n",
    "    end\n",
    "    push!(ANSWERS, answer_list)\n",
    "end"
   ]
  },
  {
   "cell_type": "code",
   "execution_count": 207,
   "id": "8726752b",
   "metadata": {},
   "outputs": [],
   "source": [
    "pp_arr = times_pp_end .- times_pp_start\n",
    "mb_arr = times_mb_end .- times_mb_start\n",
    "op_arr = times_op_end .- times_op_start\n",
    ";"
   ]
  },
  {
   "cell_type": "code",
   "execution_count": 208,
   "id": "b2a20b73",
   "metadata": {
    "scrolled": true
   },
   "outputs": [
    {
     "data": {
      "text/plain": [
       "1-element Vector{Float64}:\n",
       " 0.40599989891052246"
      ]
     },
     "execution_count": 208,
     "metadata": {},
     "output_type": "execute_result"
    }
   ],
   "source": [
    "pp_arr"
   ]
  },
  {
   "cell_type": "code",
   "execution_count": 209,
   "id": "2ce24866",
   "metadata": {},
   "outputs": [
    {
     "data": {
      "text/plain": [
       "1-element Vector{Float64}:\n",
       " 16.38100004196167"
      ]
     },
     "execution_count": 209,
     "metadata": {},
     "output_type": "execute_result"
    }
   ],
   "source": [
    "mb_arr"
   ]
  },
  {
   "cell_type": "code",
   "execution_count": 210,
   "id": "2df26c2b",
   "metadata": {},
   "outputs": [
    {
     "data": {
      "text/plain": [
       "1-element Vector{Float64}:\n",
       " 5.177999973297119"
      ]
     },
     "execution_count": 210,
     "metadata": {},
     "output_type": "execute_result"
    }
   ],
   "source": [
    "op_arr"
   ]
  },
  {
   "cell_type": "code",
   "execution_count": 211,
   "id": "9e6bba93",
   "metadata": {},
   "outputs": [
    {
     "data": {
      "text/plain": [
       "1-element Vector{Float64}:\n",
       " 21.96499991416931"
      ]
     },
     "execution_count": 211,
     "metadata": {},
     "output_type": "execute_result"
    }
   ],
   "source": [
    "total_arr = pp_arr .+ mb_arr .+ op_arr"
   ]
  },
  {
   "cell_type": "code",
   "execution_count": 212,
   "id": "ab3059fb",
   "metadata": {},
   "outputs": [
    {
     "data": {
      "text/plain": [
       "1-element Vector{Any}:\n",
       " Any[Any[0, 19, 7, 8, 9, 20], Any[0, 1, 2, 3, 20], Any[0, 4, 5, 6, 20], Any[0, 16, 17, 18, 20], Any[0, 13, 14, 15, 20], Any[0, 10, 11, 12, 20]]"
      ]
     },
     "execution_count": 212,
     "metadata": {},
     "output_type": "execute_result"
    }
   ],
   "source": [
    "ANSWERS"
   ]
  },
  {
   "cell_type": "code",
   "execution_count": 213,
   "id": "94306b06",
   "metadata": {
    "scrolled": true
   },
   "outputs": [
    {
     "data": {
      "text/plain": [
       "1-element Vector{Any}:\n",
       " 3154.732890636053"
      ]
     },
     "execution_count": 213,
     "metadata": {},
     "output_type": "execute_result"
    }
   ],
   "source": [
    "OBJECTIVES"
   ]
  }
 ],
 "metadata": {
  "kernelspec": {
   "display_name": "Julia 1.8.0",
   "language": "julia",
   "name": "julia-1.8"
  },
  "language_info": {
   "file_extension": ".jl",
   "mimetype": "application/julia",
   "name": "julia",
   "version": "1.8.0"
  }
 },
 "nbformat": 4,
 "nbformat_minor": 5
}
